{
 "cells": [
  {
   "cell_type": "markdown",
   "metadata": {},
   "source": [
    "# Blue Brain BioExplorer\n",
    "\n",
    "![](./images/bioexplorer_banner.png)"
   ]
  },
  {
   "cell_type": "code",
   "execution_count": 2,
   "metadata": {},
   "outputs": [],
   "source": [
    "from bioexplorer import BioExplorer\n",
    "\n",
    "hostname = 'localhost:5000'\n",
    "   \n",
    "be = BioExplorer(hostname)\n",
    "be.version()\n",
    "core = be.core_api()\n",
    "\n",
    "image_folder = '/tmp'"
   ]
  },
  {
   "cell_type": "markdown",
   "metadata": {},
   "source": [
    "## Rendering settings"
   ]
  },
  {
   "cell_type": "code",
   "execution_count": 3,
   "metadata": {},
   "outputs": [],
   "source": [
    "status = core.set_renderer(\n",
    "    background_color=[96 / 255, 125 / 255, 139 / 255],\n",
    "    current='bio_explorer',\n",
    "    samples_per_pixel=1, subsampling=1, max_accum_frames=64)\n",
    "\n",
    "params = core.BioExplorerRendererParams()\n",
    "params.gi_samples = 3\n",
    "params.gi_weight = 0.4\n",
    "params.gi_distance = 50\n",
    "params.shadows = 0.8\n",
    "params.soft_shadows = 1.0\n",
    "params.fog_start = 1500\n",
    "params.fog_thickness = 1500\n",
    "params.max_bounces = 1\n",
    "status = core.set_renderer_params(params)"
   ]
  },
  {
   "cell_type": "code",
   "execution_count": 4,
   "metadata": {},
   "outputs": [],
   "source": [
    "image_size = [3840, 2160]\n",
    "image_samples_per_pixel = 64"
   ]
  },
  {
   "cell_type": "markdown",
   "metadata": {},
   "source": [
    "## Media Maker"
   ]
  },
  {
   "cell_type": "code",
   "execution_count": null,
   "metadata": {},
   "outputs": [],
   "source": [
    "from braynsmediamaker import MovieMaker\n",
    "mm = MovieMaker(be.core_api())"
   ]
  },
  {
   "cell_type": "markdown",
   "metadata": {},
   "source": [
    "## Overview"
   ]
  },
  {
   "cell_type": "code",
   "execution_count": 10,
   "metadata": {},
   "outputs": [],
   "source": [
    "status = core.set_camera(\n",
    "    orientation=[0.0, 0.0, 0.0, 1.0],\n",
    "    position=[33.455, -48.237, 1100.886],\n",
    "    target=[30.775, -21.435, -182.718],\n",
    ")\n",
    "params = core.BioExplorerPerspectiveCameraParams()\n",
    "params.aperture_radius = 0.0\n",
    "params.focus_distance = 180\n",
    "params.enable_clipping_planes = False\n",
    "status = core.set_camera_params(params)"
   ]
  },
  {
   "cell_type": "code",
   "execution_count": null,
   "metadata": {},
   "outputs": [],
   "source": [
    "mm.create_snapshot(\n",
    "    size=image_size, samples_per_pixel=image_samples_per_pixel,\n",
    "    path=image_folder + '/overview.png')"
   ]
  },
  {
   "cell_type": "markdown",
   "metadata": {},
   "source": [
    "## ACE 2 Receptor"
   ]
  },
  {
   "cell_type": "code",
   "execution_count": 7,
   "metadata": {
    "scrolled": false
   },
   "outputs": [],
   "source": [
    "status = core.set_camera(\n",
    "    orientation=[0.031, 0.224, 0.005, 0.973],\n",
    "    position=[-26.628, -169.864, 287.040],\n",
    "    target=[-229.639, -142.672, -129.215]\n",
    ")\n",
    "params = core.BioExplorerRendererParams()\n",
    "params.aperture_radius = 0.01\n",
    "params.focus_distance = 56.95\n",
    "params.enable_clipping_planes = False\n",
    "status = core.set_camera_params(params)"
   ]
  },
  {
   "cell_type": "code",
   "execution_count": null,
   "metadata": {},
   "outputs": [],
   "source": [
    "mm.create_snapshot(\n",
    "    size=image_size, samples_per_pixel=image_samples_per_pixel,\n",
    "    path=image_folder + '/ace2_receptor.png')"
   ]
  },
  {
   "cell_type": "markdown",
   "metadata": {},
   "source": [
    "## Surfactant-D close-up"
   ]
  },
  {
   "cell_type": "code",
   "execution_count": 9,
   "metadata": {},
   "outputs": [],
   "source": [
    "status = core.set_camera(\n",
    "    current='bio_explorer_perspective',\n",
    "    orientation=[0.056, 0.090, -0.024, 0.994],\n",
    "    position=[52.865, 29.736, 16.289],\n",
    "    target=[-69.174, 109.892, -659.195]\n",
    ")\n",
    "params = core.BioExplorerRendererParams()\n",
    "params.aperture_radius = 0.01\n",
    "params.focus_distance = 35.82\n",
    "params.enable_clipping_planes = False\n",
    "status = core.set_camera_params(params)"
   ]
  },
  {
   "cell_type": "code",
   "execution_count": null,
   "metadata": {},
   "outputs": [],
   "source": [
    "mm.create_snapshot(\n",
    "    size=image_size, samples_per_pixel=image_samples_per_pixel,\n",
    "    path=image_folder + '/surfactant_d.png')"
   ]
  }
 ],
 "metadata": {
  "kernelspec": {
   "display_name": "Python 3",
   "language": "python",
   "name": "python3"
  },
  "language_info": {
   "codemirror_mode": {
    "name": "ipython",
    "version": 3
   },
   "file_extension": ".py",
   "mimetype": "text/x-python",
   "name": "python",
   "nbconvert_exporter": "python",
   "pygments_lexer": "ipython3",
   "version": "3.8.5"
  }
 },
 "nbformat": 4,
 "nbformat_minor": 2
}
