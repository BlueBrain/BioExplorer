{
    "cells": [
        {
            "cell_type": "markdown",
            "id": "f992ef9f",
            "metadata": {},
            "source": [
                "# BioExplorer - White matter\n",
                "![](../bioexplorer_white_matter_banner.png)"
            ]
        },
        {
            "cell_type": "markdown",
            "metadata": {},
            "source": [
                "### Connect to back-end"
            ]
        },
        {
            "cell_type": "code",
            "execution_count": 1,
            "metadata": {},
            "outputs": [],
            "source": [
                "from bioexplorer import BioExplorer\n",
                "\n",
                "url = 'localhost:5000'\n",
                "be = BioExplorer(url)\n",
                "core = be.core_api()\n",
                "status = be.reset_scene()"
            ]
        },
        {
            "cell_type": "markdown",
            "metadata": {},
            "source": [
                "### Load vasculature"
            ]
        },
        {
            "cell_type": "code",
            "execution_count": 7,
            "metadata": {},
            "outputs": [],
            "source": [
                "assembly_name = 'WhiteMatter'\n",
                "population_name = 'connectome'\n",
                "be.remove_assembly(assembly_name)\n",
                "white_matter_assembly = be.add_assembly(assembly_name)\n",
                "white_matter_model = be.add_white_matter(\n",
                "    assembly_name=assembly_name,\n",
                "    population_name=population_name,\n",
                "    radius=5\n",
                ")"
            ]
        },
        {
            "cell_type": "code",
            "execution_count": 3,
            "metadata": {},
            "outputs": [
                {
                    "data": {
                        "text/plain": [
                            "True"
                        ]
                    },
                    "execution_count": 3,
                    "metadata": {},
                    "output_type": "execute_result"
                }
            ],
            "source": [
                "status = be.reset_camera()\n",
                "status = core.set_renderer()"
            ]
        },
        {
            "cell_type": "code",
            "execution_count": 8,
            "metadata": {},
            "outputs": [],
            "source": [
                "status = core.set_renderer(\n",
                "    current='bio_explorer',\n",
                "    subsampling=4, max_accum_frames=64)\n",
                "params = core.BioExplorerRendererParams()\n",
                "params.gi_distance = 1000.0\n",
                "params.shadows = 1.0\n",
                "params.soft_shadows = 1.0\n",
                "status = core.set_renderer_params(params)"
            ]
        },
        {
            "cell_type": "code",
            "execution_count": 11,
            "id": "87246634",
            "metadata": {},
            "outputs": [
                {
                    "data": {
                        "application/vnd.jupyter.widget-view+json": {
                            "model_id": "1af41d111c1b4ece89914ea1fabc226b",
                            "version_major": 2,
                            "version_minor": 0
                        },
                        "text/plain": [
                            "IntProgress(value=0, description='In progress...')"
                        ]
                    },
                    "metadata": {},
                    "output_type": "display_data"
                }
            ],
            "source": [
                "from bioexplorer import MovieMaker\n",
                "mm = MovieMaker(be)\n",
                "mm.create_snapshot(\n",
                "    renderer='bio_explorer',\n",
                "    path='/tmp', base_name='bio_explorer_white_matter_banner',\n",
                "    size=[1024, 256], samples_per_pixel=64)"
            ]
        },
        {
            "cell_type": "code",
            "execution_count": null,
            "id": "52ad197d",
            "metadata": {},
            "outputs": [],
            "source": []
        }
    ],
    "metadata": {
        "interpreter": {
            "hash": "ea9a5fa46eb6bad2806a8ea1d08e15bb1e255a2d4320b81e765591579963c56b"
        },
        "kernelspec": {
            "display_name": "Python 3.8.10 64-bit ('env': venv)",
            "language": "python",
            "name": "python3"
        },
        "language_info": {
            "codemirror_mode": {
                "name": "ipython",
                "version": 3
            },
            "file_extension": ".py",
            "mimetype": "text/x-python",
            "name": "python",
            "nbconvert_exporter": "python",
            "pygments_lexer": "ipython3",
            "version": "3.8.10"
        }
    },
    "nbformat": 4,
    "nbformat_minor": 5
}
