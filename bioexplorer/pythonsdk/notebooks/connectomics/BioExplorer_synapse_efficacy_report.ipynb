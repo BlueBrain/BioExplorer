{
    "cells": [
        {
            "attachments": {},
            "cell_type": "markdown",
            "id": "f992ef9f",
            "metadata": {},
            "source": [
                "# BioExplorer - Synapse efficacy report\n",
                "![](../bioexplorer_neurons_banner.png)"
            ]
        },
        {
            "cell_type": "markdown",
            "metadata": {},
            "source": [
                "### Connect to back-end"
            ]
        },
        {
            "cell_type": "code",
            "execution_count": null,
            "metadata": {},
            "outputs": [],
            "source": [
                "from bioexplorer import BioExplorer\n",
                "\n",
                "url = 'localhost:5000'\n",
                "be = BioExplorer(url)\n",
                "core = be.core_api()\n",
                "status = be.reset_scene()"
            ]
        },
        {
            "attachments": {},
            "cell_type": "markdown",
            "metadata": {},
            "source": [
                "### Load synapse efficacy report"
            ]
        },
        {
            "cell_type": "code",
            "execution_count": null,
            "metadata": {},
            "outputs": [],
            "source": [
                "assembly_name = 'SynapseEfficacyReport'\n",
                "population_name = 'sscx'\n",
                "be.remove_assembly(assembly_name)\n",
                "white_matter_assembly = be.add_assembly(assembly_name)\n",
                "white_matter_model = be.add_synapse_efficacy_report(\n",
                "    assembly_name=assembly_name,\n",
                "    population_name=population_name,\n",
                "    simulation_report_id=0,\n",
                "    radius=2.5,\n",
                ")"
            ]
        },
        {
            "cell_type": "code",
            "execution_count": null,
            "id": "1d02ca78",
            "metadata": {},
            "outputs": [],
            "source": [
                "def set_materials():\n",
                "    import seaborn as sns\n",
                "    model_ids = be.get_model_ids()['ids']\n",
                "    model_id = model_ids[len(model_ids)-1]\n",
                "    material_ids = be.get_material_ids(model_id)['ids']\n",
                "    nb_material_ids = len(material_ids)\n",
                "    cast_user_datas = list()\n",
                "    palette = list()\n",
                "    for _ in material_ids:\n",
                "        cast_user_datas.append(True)\n",
                "        palette.append([0.0, 0.0, 0.0])\n",
                "    be.set_materials(\n",
                "        model_ids=[model_id], material_ids=material_ids, cast_user_datas=cast_user_datas,\n",
                "        diffuse_colors=palette, specular_colors=palette)\n",
                "set_materials()\n",
                "core.set_renderer()"
            ]
        },
        {
            "cell_type": "code",
            "execution_count": null,
            "metadata": {},
            "outputs": [],
            "source": [
                "status = be.reset_camera()\n",
                "status = core.set_renderer()"
            ]
        },
        {
            "cell_type": "markdown",
            "id": "329d1019",
            "metadata": {},
            "source": [
                "### Rendering settings"
            ]
        },
        {
            "cell_type": "code",
            "execution_count": null,
            "metadata": {},
            "outputs": [],
            "source": [
                "status = core.set_renderer(\n",
                "    background_color=[0,0,0],\n",
                "    current='bio_explorer', samples_per_pixel=1,\n",
                "    subsampling=1, max_accum_frames=64)\n",
                "params = core.BioExplorerRendererParams()\n",
                "params.gi_distance = 10.0\n",
                "params.shadows = 0.0\n",
                "params.soft_shadows = 1.0\n",
                "params.show_background = False\n",
                "params.max_bounces = 1\n",
                "status = core.set_renderer_params(params)"
            ]
        },
        {
            "cell_type": "code",
            "execution_count": null,
            "id": "07b87612",
            "metadata": {},
            "outputs": [],
            "source": [
                "from bioexplorer import TransferFunction\n",
                "models_ids = be.get_model_ids()['ids']\n",
                "tf = TransferFunction(\n",
                "    bioexplorer=be, name='Set1',\n",
                "    model_id=models_ids[0], alpha=1.0,\n",
                "    size=6, value_range=[0.0, 1.0]\n",
                ")"
            ]
        },
        {
            "cell_type": "code",
            "execution_count": null,
            "id": "f6f4480f",
            "metadata": {},
            "outputs": [],
            "source": [
                "core.set_camera(\n",
                "    orientation=[0.6048744902183303, 0.25773453393767354,-0.2301512169974677, 0.717446986483064],\n",
                "    position=[4237.9230361217205, -5142.177311927659, -2063.056888134108],\n",
                "    target=[3879.9852878691263, -1278.4701460206463, -2593.324289758937],\n",
                ")    "
            ]
        },
        {
            "attachments": {},
            "cell_type": "markdown",
            "id": "000c1512",
            "metadata": {},
            "source": [
                "## Create movie frames"
            ]
        },
        {
            "cell_type": "code",
            "execution_count": null,
            "id": "6f847e11",
            "metadata": {},
            "outputs": [],
            "source": [
                "from bioexplorer import MovieMaker\n",
                "mm = MovieMaker(be)"
            ]
        },
        {
            "cell_type": "code",
            "execution_count": null,
            "id": "b18730f5",
            "metadata": {},
            "outputs": [],
            "source": [
                "for i in range(180):\n",
                "    core.set_animation_parameters(current=i)\n",
                "    mm.create_snapshot(\n",
                "        renderer='bio_explorer',\n",
                "        path='/tmp',\n",
                "        base_name='%05d' % i,\n",
                "        samples_per_pixel=16, size=[1080, 1920])"
            ]
        }
    ],
    "metadata": {
        "kernelspec": {
            "display_name": "env",
            "language": "python",
            "name": "python3"
        },
        "language_info": {
            "codemirror_mode": {
                "name": "ipython",
                "version": 3
            },
            "file_extension": ".py",
            "mimetype": "text/x-python",
            "name": "python",
            "nbconvert_exporter": "python",
            "pygments_lexer": "ipython3",
            "version": "3.10.6"
        },
        "vscode": {
            "interpreter": {
                "hash": "ea9a5fa46eb6bad2806a8ea1d08e15bb1e255a2d4320b81e765591579963c56b"
            }
        }
    },
    "nbformat": 4,
    "nbformat_minor": 5
}
