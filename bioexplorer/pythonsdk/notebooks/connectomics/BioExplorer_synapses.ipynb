{
    "cells": [
        {
            "attachments": {},
            "cell_type": "markdown",
            "id": "f992ef9f",
            "metadata": {},
            "source": [
                "# BioExplorer - White matter\n",
                "![](../../bioexplorer_white_matter_banner.png)"
            ]
        },
        {
            "cell_type": "markdown",
            "metadata": {},
            "source": [
                "### Connect to back-end"
            ]
        },
        {
            "cell_type": "code",
            "execution_count": 296,
            "metadata": {},
            "outputs": [],
            "source": [
                "from bioexplorer import BioExplorer\n",
                "\n",
                "url = 'localhost:5000'\n",
                "be = BioExplorer(url)\n",
                "core = be.core_api()\n",
                "status = be.reset_scene()"
            ]
        },
        {
            "cell_type": "code",
            "execution_count": 297,
            "id": "ac215cf4",
            "metadata": {},
            "outputs": [],
            "source": [
                "guid = 300\n",
                "population_name = 'neurons'"
            ]
        },
        {
            "attachments": {},
            "cell_type": "markdown",
            "id": "0ffa9f6d",
            "metadata": {},
            "source": [
                "### Neuron"
            ]
        },
        {
            "cell_type": "code",
            "execution_count": 298,
            "id": "b06705e2",
            "metadata": {},
            "outputs": [],
            "source": [
                "assembly_name = '%d' % guid\n",
                "sql_filter = 'guid=%d' % (guid - 0)\n",
                "be.remove_assembly(assembly_name)\n",
                "neurons_assembly = be.add_assembly(assembly_name)\n",
                "neurons_model = be.add_neurons(\n",
                "    assembly_name=assembly_name,\n",
                "    population_name=population_name,\n",
                "    load_somas=True, load_axon=False, show_membrane=True,\n",
                "    load_basal_dendrites=True, load_apical_dendrites=True,\n",
                "    sql_node_filter=sql_filter\n",
                ")"
            ]
        },
        {
            "attachments": {},
            "cell_type": "markdown",
            "id": "4cb1d6ed",
            "metadata": {},
            "source": [
                "### Synapses"
            ]
        },
        {
            "attachments": {},
            "cell_type": "markdown",
            "id": "b996591d",
            "metadata": {},
            "source": [
                "#### Load synapses"
            ]
        },
        {
            "cell_type": "code",
            "execution_count": 299,
            "metadata": {},
            "outputs": [],
            "source": [
                "\n",
                "for i in range(2):\n",
                "    assembly_name = 'synapses_%d' % i\n",
                "    sql_filter = 'presynaptic_neuron_guid=%d and guid%%2=%d' % (guid, i)\n",
                "    be.remove_assembly(assembly_name)\n",
                "    neurons_assembly = be.add_assembly(assembly_name)\n",
                "    neurons_model = be.add_synapses(\n",
                "        assembly_name=assembly_name,\n",
                "        population_name=population_name,\n",
                "        representation=be.SYNAPSE_REPRESENTATION_SPINE,\n",
                "        realism_level=be.MORPHOLOGY_REALISM_LEVEL_SPINE,\n",
                "        radius_multiplier=2.0,\n",
                "        sql_filter=sql_filter\n",
                "    )"
            ]
        },
        {
            "cell_type": "code",
            "execution_count": 300,
            "id": "e03739ed",
            "metadata": {},
            "outputs": [],
            "source": [
                "status = be.reset_camera()"
            ]
        },
        {
            "attachments": {},
            "cell_type": "markdown",
            "id": "cf39d5fc",
            "metadata": {},
            "source": [
                "### Materials and colors"
            ]
        },
        {
            "cell_type": "code",
            "execution_count": 301,
            "id": "d48f220f",
            "metadata": {},
            "outputs": [],
            "source": [
                "import seaborn as sns\n",
                "def set_materials(\n",
                "        model_id, color,\n",
                "        shading_mode=be.SHADING_MODE_NONE, user_param=1.0,\n",
                "        emission=0.0, glossiness=1.0):\n",
                "    material_ids = be.get_material_ids(model_id)['ids']\n",
                "    shading_modes = list()\n",
                "    colors = list()\n",
                "    user_params = list()\n",
                "    emissions = list()\n",
                "    glossinesses = list()\n",
                "    for _ in material_ids:\n",
                "        colors.append(color)\n",
                "        shading_modes.append(shading_mode)\n",
                "        user_params.append(user_param)\n",
                "        emissions.append(emission)\n",
                "        glossinesses.append(glossiness)\n",
                "        \n",
                "    be.set_materials(\n",
                "        model_ids=[model_id], material_ids=material_ids,\n",
                "        diffuse_colors=colors, specular_colors=colors,\n",
                "        user_parameters=user_params, glossinesses=glossinesses,\n",
                "        shading_modes=shading_modes, emissions=emissions\n",
                "    )\n",
                "    \n",
                "model_ids = be.get_model_ids()['ids']\n",
                "set_materials(model_ids[0], [0.5, 0.5, 0.5])\n",
                "set_materials(model_ids[1], [0.0, 0.0, 1.0])\n",
                "set_materials(model_ids[2], [0.9, 0.9, 0.2])\n",
                "status = core.set_renderer()"
            ]
        },
        {
            "cell_type": "markdown",
            "id": "329d1019",
            "metadata": {},
            "source": [
                "### Rendering settings"
            ]
        },
        {
            "cell_type": "code",
            "execution_count": 302,
            "id": "237b89d1",
            "metadata": {},
            "outputs": [],
            "source": [
                "status = core.set_renderer(\n",
                "    background_color=[0, 0, 0],\n",
                "    current='bio_explorer', samples_per_pixel=1,\n",
                "    subsampling=4, max_accum_frames=64)\n",
                "params = core.BioExplorerRendererParams()\n",
                "params.gi_distance = 1000.0\n",
                "params.shadows = 1.0\n",
                "params.soft_shadows = 1.0\n",
                "params.show_background = True\n",
                "params.max_bounces = 1\n",
                "status = core.set_renderer_params(params)"
            ]
        }
    ],
    "metadata": {
        "kernelspec": {
            "display_name": "env",
            "language": "python",
            "name": "python3"
        },
        "language_info": {
            "codemirror_mode": {
                "name": "ipython",
                "version": 3
            },
            "file_extension": ".py",
            "mimetype": "text/x-python",
            "name": "python",
            "nbconvert_exporter": "python",
            "pygments_lexer": "ipython3",
            "version": "3.8.10"
        },
        "vscode": {
            "interpreter": {
                "hash": "ea9a5fa46eb6bad2806a8ea1d08e15bb1e255a2d4320b81e765591579963c56b"
            }
        }
    },
    "nbformat": 4,
    "nbformat_minor": 5
}
