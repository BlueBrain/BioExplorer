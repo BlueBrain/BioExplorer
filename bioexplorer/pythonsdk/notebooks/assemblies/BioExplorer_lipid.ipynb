{
 "cells": [
  {
   "cell_type": "markdown",
   "metadata": {},
   "source": [
    "# Blue Brain BioExplorer\n",
    "\n",
    "![](../bioexplorer_banner.png)"
   ]
  },
  {
   "cell_type": "markdown",
   "metadata": {},
   "source": [
    "## Visualization of lipids"
   ]
  },
  {
   "cell_type": "code",
   "execution_count": null,
   "metadata": {},
   "outputs": [],
   "source": [
    "from bioexplorer import BioExplorer, Protein, Sugars, Quaternion\n",
    "be = BioExplorer('localhost:5000')\n",
    "be.reset()\n",
    "print(be.version())"
   ]
  },
  {
   "cell_type": "code",
   "execution_count": null,
   "metadata": {},
   "outputs": [],
   "source": [
    "status = be.set_general_settings(logging_enabled=True)"
   ]
  },
  {
   "cell_type": "code",
   "execution_count": null,
   "metadata": {},
   "outputs": [],
   "source": [
    "# Resources\n",
    "resource_folder = '../../tests/test_files/'\n",
    "pdb_folder = resource_folder + 'pdb/'\n",
    "lipid_folder = resource_folder + 'pdb/membrane/lipids/'\n",
    "\n",
    "representation = BioExplorer.REPRESENTATION_ATOMS_AND_STICKS\n",
    "radius_multiplier = 1.0\n"
   ]
  },
  {
   "cell_type": "code",
   "execution_count": null,
   "metadata": {},
   "outputs": [],
   "source": [
    "# Default side view\n",
    "status = be.core_api().set_camera(\n",
    "    orientation=[0.0, 0.0, 0.0, 1.0],\n",
    "    position=[0.212, -0.296, 7.815],\n",
    "    target=[0.212, -0.296, 0.003]    \n",
    ")"
   ]
  },
  {
   "cell_type": "code",
   "execution_count": null,
   "metadata": {},
   "outputs": [],
   "source": [
    "import glob\n",
    "import os\n",
    "\n",
    "lipids = glob.glob(lipid_folder + '*.pdb')\n",
    "for lipid in lipids:\n",
    "    # print(lipid)\n",
    "    # break\n",
    "    basename = os.path.basename(lipid)\n",
    "    m_protein = Protein(\n",
    "        sources=[lipid], \n",
    "        load_hydrogen=True,\n",
    "        load_non_polymer_chemicals=True,\n",
    "        load_bonds=True\n",
    "    )\n",
    "\n",
    "    name = be.NAME_MEMBRANE + '_' + basename\n",
    "    status = be.add_protein(\n",
    "        name=name, protein=m_protein,\n",
    "        atom_radius_multiplier=radius_multiplier,\n",
    "        representation=representation,\n",
    "    )"
   ]
  },
  {
   "cell_type": "code",
   "execution_count": null,
   "metadata": {},
   "outputs": [],
   "source": [
    "import nglview\n",
    "nglview.show_file('../../tests/test_files/pdb/membrane/popc.pdb')"
   ]
  },
  {
   "cell_type": "markdown",
   "metadata": {},
   "source": [
    "## Materials"
   ]
  },
  {
   "cell_type": "code",
   "execution_count": null,
   "metadata": {
    "scrolled": false
   },
   "outputs": [],
   "source": [
    "be.apply_default_color_scheme(\n",
    "    shading_mode=be.SHADING_MODE_PERLIN,\n",
    "    user_parameter=0.03, specular_exponent=5, glossiness=0.1)"
   ]
  },
  {
   "cell_type": "markdown",
   "metadata": {},
   "source": [
    "## Rendering settings"
   ]
  },
  {
   "cell_type": "code",
   "execution_count": null,
   "metadata": {},
   "outputs": [],
   "source": [
    "status = be.set_rendering_quality(be.RENDERING_QUALITY_HIGH)"
   ]
  },
  {
   "cell_type": "code",
   "execution_count": null,
   "metadata": {},
   "outputs": [],
   "source": []
  }
 ],
 "metadata": {
  "kernelspec": {
   "display_name": "Python 3",
   "language": "python",
   "name": "python3"
  },
  "language_info": {
   "codemirror_mode": {
    "name": "ipython",
    "version": 3
   },
   "file_extension": ".py",
   "mimetype": "text/x-python",
   "name": "python",
   "nbconvert_exporter": "python",
   "pygments_lexer": "ipython3",
   "version": "3.8.10"
  }
 },
 "nbformat": 4,
 "nbformat_minor": 4
}
