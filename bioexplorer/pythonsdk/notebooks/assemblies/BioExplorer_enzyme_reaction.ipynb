{
 "cells": [
  {
   "cell_type": "markdown",
   "metadata": {},
   "source": [
    "# Blue Brain BioExplorer\n",
    "\n",
    "![](../bioexplorer_banner.png)"
   ]
  },
  {
   "cell_type": "markdown",
   "metadata": {},
   "source": [
    "## Simplest script to create a visualization of a cell"
   ]
  },
  {
   "cell_type": "code",
   "execution_count": null,
   "metadata": {},
   "outputs": [],
   "source": [
    "from bioexplorer import BioExplorer, Protein, EnzymeReaction, AnimationParams, \\\n",
    "                        Volume, Vector2, Vector3, Quaternion\n",
    "be = BioExplorer('localhost:5000')\n",
    "core = be.core_api()\n",
    "status = be.reset_scene()"
   ]
  },
  {
   "cell_type": "code",
   "execution_count": null,
   "metadata": {},
   "outputs": [],
   "source": [
    "representation=be.REPRESENTATION_ATOMS_AND_STICKS\n",
    "atom_radius_multiplier=1.0\n",
    "\n",
    "# Resources\n",
    "resource_folder = '../../tests/test_files/'\n",
    "pdb_folder = resource_folder + 'pdb/'\n",
    "metabolites_folder = pdb_folder + 'metabolites/'\n",
    "enzymes_folder = pdb_folder + 'enzymes/'\n",
    "\n",
    "scene_size = Vector3(200.0, 200.0, 200.0)\n",
    "\n",
    "# Substrate\n",
    "substrate = Protein(\n",
    "    name='Substrate',\n",
    "    source=metabolites_folder + '5793.pdb',\n",
    "    occurences=100, animation_params=AnimationParams(1, 0, 0.0, 1, 0.0),\n",
    "    load_bonds=True, load_hydrogen=True, load_non_polymer_chemicals=True,\n",
    ")\n",
    "substrates = Volume(\n",
    "    name='Substrates',\n",
    "    shape=be.ASSEMBLY_SHAPE_CUBE, shape_params=scene_size,\n",
    "    protein=substrate)\n",
    "status = be.add_volume(volume=substrates, atom_radius_multiplier=atom_radius_multiplier)    \n",
    "\n",
    "# Product\n",
    "product = Protein(\n",
    "    name='Product',\n",
    "    source=metabolites_folder + '439284.pdb',\n",
    "    load_bonds=True, load_hydrogen=True, load_non_polymer_chemicals=True,\n",
    "    occurences=100, animation_params=AnimationParams(2, 0, 0.0, 2, 0.0),\n",
    "    rotation=Quaternion(0.707, 0.707, 0.0, 0.0),\n",
    "    chain_ids=[1]\n",
    ")\n",
    "products = Volume(\n",
    "    name='Products',\n",
    "    shape=be.ASSEMBLY_SHAPE_CUBE, shape_params=scene_size,\n",
    "    protein=product)\n",
    "status = be.add_volume(volume=products, atom_radius_multiplier=atom_radius_multiplier)    \n",
    "\n",
    "# Enzyme\n",
    "enzyme = Protein(\n",
    "    name='Enzyme',\n",
    "    source=enzymes_folder + '1bdg.pdb',\n",
    "    load_bonds=True, load_hydrogen=True, load_non_polymer_chemicals=True,\n",
    "    rotation=Quaternion(0.707, 0.707, 0.0, 0.0),\n",
    "    occurences=100, animation_params=AnimationParams(3, 0, 0.0, 3, 0.0),\n",
    "    chain_ids=[1]\n",
    ")\n",
    "enzymes = Volume(\n",
    "    name='Enzymes',\n",
    "    shape=be.ASSEMBLY_SHAPE_CUBE, shape_params=scene_size,\n",
    "    protein=enzyme)\n",
    "status = be.add_volume(volume=enzymes, atom_radius_multiplier=atom_radius_multiplier)\n",
    "\n",
    "enzyme_reaction = EnzymeReaction(\n",
    "    assembly_name='Hexokinase',\n",
    "    name='Hexokinase',\n",
    "    enzyme=enzyme,\n",
    "    substrate=substrate, substrate_instance=0,\n",
    "    product=product\n",
    ")\n",
    "\n",
    "be.add_enzyme_reaction(enzyme_reaction, progress=0.5)"
   ]
  },
  {
   "cell_type": "code",
   "execution_count": 140,
   "metadata": {},
   "outputs": [
    {
     "data": {
      "text/plain": [
       "{'contents': '', 'status': True}"
      ]
     },
     "execution_count": 140,
     "metadata": {},
     "output_type": "execute_result"
    }
   ],
   "source": [
    "instance_id = 0\n",
    "# be.set_focus_on(\n",
    "#     model_id=0, instance_id=instance_id, distance=10.0)\n",
    "be.set_enzyme_reaction_progress(\n",
    "    enzyme_reaction, instance_id=instance_id,\n",
    "    progress=1.0)\n",
    "# be.core_api().set_renderer()"
   ]
  },
  {
   "cell_type": "markdown",
   "metadata": {},
   "source": [
    "## Rendering settings"
   ]
  },
  {
   "cell_type": "code",
   "execution_count": null,
   "metadata": {},
   "outputs": [],
   "source": [
    "status = be.core_api().set_renderer(\n",
    "    background_color=[96 / 255, 125 / 255, 139 / 255],\n",
    "    current='bio_explorer',\n",
    "    samples_per_pixel=1, subsampling=4, max_accum_frames=1000)\n",
    "params = status = be.core_api().BioExplorerRendererParams()\n",
    "params.gi_samples = 1\n",
    "params.gi_weight = 0.3\n",
    "params.gi_distance = 5\n",
    "params.shadows = 0.8\n",
    "params.soft_shadows = 1\n",
    "params.fog_start = 1500\n",
    "params.fog_thickness = 1500\n",
    "params.max_bounces = 1\n",
    "status = be.core_api().set_renderer_params(params)"
   ]
  },
  {
   "cell_type": "markdown",
   "metadata": {},
   "source": [
    "## Materials"
   ]
  },
  {
   "cell_type": "code",
   "execution_count": null,
   "metadata": {},
   "outputs": [],
   "source": [
    "status = be.set_protein_color_scheme(\n",
    "    assembly_name='Products', name='Product',\n",
    "    color_scheme=be.COLOR_SCHEME_ATOMS,\n",
    "    palette_name='Greens', palette_size=5)\n",
    "\n",
    "status = be.set_protein_color_scheme(\n",
    "    assembly_name='Substrates', name='Substrate',\n",
    "    color_scheme=be.COLOR_SCHEME_ATOMS,\n",
    "    palette_name='Blues', palette_size=5)\n",
    "\n",
    "status = be.set_protein_color_scheme(\n",
    "    assembly_name='Enzymes', name='Enzyme',\n",
    "    color_scheme=be.COLOR_SCHEME_ATOMS,\n",
    "    palette_name='Set1', palette_size=5)"
   ]
  },
  {
   "cell_type": "code",
   "execution_count": null,
   "metadata": {},
   "outputs": [],
   "source": []
  },
  {
   "cell_type": "markdown",
   "metadata": {},
   "source": [
    "## Movie"
   ]
  },
  {
   "cell_type": "code",
   "execution_count": null,
   "metadata": {},
   "outputs": [],
   "source": [
    "from bioexplorer import MovieMaker\n",
    "mm = MovieMaker(be)\n",
    "\n",
    "if True:\n",
    "    import time\n",
    "    for i in range(30):\n",
    "        be.set_enzyme_reaction_progress(\n",
    "            enzyme_reaction, instance_id=instance_id,\n",
    "            progress=i / 30.0)\n",
    "        # be.core_api().set_renderer()\n",
    "        # time.sleep(0.2)\n",
    "        mm.create_snapshot(\n",
    "            renderer='bio_explorer',\n",
    "            path='/tmp', base_name='%05d' % i,\n",
    "            size=[512,512], samples_per_pixel=64)\n"
   ]
  },
  {
   "cell_type": "code",
   "execution_count": null,
   "metadata": {},
   "outputs": [],
   "source": []
  }
 ],
 "metadata": {
  "kernelspec": {
   "display_name": "Python 3",
   "language": "python",
   "name": "python3"
  },
  "language_info": {
   "codemirror_mode": {
    "name": "ipython",
    "version": 3
   },
   "file_extension": ".py",
   "mimetype": "text/x-python",
   "name": "python",
   "nbconvert_exporter": "python",
   "pygments_lexer": "ipython3",
   "version": "3.8.10"
  }
 },
 "nbformat": 4,
 "nbformat_minor": 4
}
