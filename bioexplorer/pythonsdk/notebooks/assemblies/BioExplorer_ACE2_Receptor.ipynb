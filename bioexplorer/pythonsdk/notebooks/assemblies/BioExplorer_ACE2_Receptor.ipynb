{
 "cells": [
  {
   "cell_type": "markdown",
   "metadata": {},
   "source": [
    "# Blue Brain BioExplorer\n",
    "\n",
    "![](../bioexplorer_banner.png)"
   ]
  },
  {
   "cell_type": "markdown",
   "metadata": {},
   "source": [
    "## Script to create a visualization of the ACE2 receptor"
   ]
  },
  {
   "cell_type": "code",
   "execution_count": null,
   "metadata": {},
   "outputs": [],
   "source": [
    "from bioexplorer import BioExplorer, Protein, Sugars, Quaternion\n",
    "be = BioExplorer('localhost:5000')\n",
    "be.reset()\n",
    "print(be.version())"
   ]
  },
  {
   "cell_type": "code",
   "execution_count": null,
   "metadata": {},
   "outputs": [],
   "source": [
    "# Resources\n",
    "resource_folder = '../../tests/test_files/'\n",
    "pdb_folder = resource_folder + 'pdb/'\n",
    "complex_folder = resource_folder + 'pdb/glycans/complex/'\n",
    "\n",
    "protein_radius_multiplier = 1.0\n",
    "protein_representation = BioExplorer.REPRESENTATION_ATOMS_AND_STICKS"
   ]
  },
  {
   "cell_type": "code",
   "execution_count": null,
   "metadata": {},
   "outputs": [],
   "source": [
    "# Camera position\n",
    "status = be.core_api().set_camera(\n",
    "    orientation=[0.707, 0.0, -0.707, 0.0],\n",
    "    position=[-25.772, 0.0, 0.005],\n",
    "    target=[0.0, 0.0, 0.005]\n",
    ")"
   ]
  },
  {
   "cell_type": "code",
   "execution_count": null,
   "metadata": {},
   "outputs": [],
   "source": [
    "# Protein\n",
    "ace2_receptor = Protein(sources=[pdb_folder + '6m18.pdb'],\n",
    "                        load_hydrogen=False,\n",
    "                        load_non_polymer_chemicals=False)\n",
    "name = be.NAME_RECEPTOR\n",
    "status = be.add_protein(\n",
    "    representation=protein_representation,\n",
    "    atom_radius_multiplier=protein_radius_multiplier,\n",
    "    name=name, protein=ace2_receptor\n",
    ")"
   ]
  },
  {
   "cell_type": "markdown",
   "metadata": {},
   "source": [
    "## Protein information (AA sequences and glycosylation sites)"
   ]
  },
  {
   "cell_type": "code",
   "execution_count": null,
   "metadata": {
    "scrolled": false
   },
   "outputs": [],
   "source": [
    "be.get_protein_amino_acid_information(assembly_name=name, name=name)"
   ]
  },
  {
   "cell_type": "code",
   "execution_count": null,
   "metadata": {},
   "outputs": [],
   "source": [
    "status = be.set_protein_color_scheme(\n",
    "    assembly_name=name, name=name,\n",
    "    color_scheme=be.COLOR_SCHEME_ATOMS,\n",
    "    palette_name='Set1', palette_size=2)"
   ]
  },
  {
   "cell_type": "code",
   "execution_count": null,
   "metadata": {},
   "outputs": [],
   "source": [
    "status = be.set_protein_color_scheme(\n",
    "    assembly_name=name, name=name,\n",
    "    color_scheme=be.COLOR_SCHEME_CHAINS,\n",
    "    palette_name='Set1', palette_size=5)"
   ]
  },
  {
   "cell_type": "markdown",
   "metadata": {},
   "source": [
    "## Visualization of amino acids sequence"
   ]
  },
  {
   "cell_type": "code",
   "execution_count": null,
   "metadata": {},
   "outputs": [],
   "source": [
    "status = be.set_protein_amino_acid_sequence_as_ranges(\n",
    "    assembly_name=name, name=name, amino_acid_ranges=[100,150])\n",
    "status = be.set_protein_color_scheme(\n",
    "    assembly_name=name, name=name,\n",
    "    color_scheme=be.COLOR_SCHEME_AMINO_ACID_SEQUENCE,\n",
    "    palette_name='Set1', palette_size=2)"
   ]
  },
  {
   "cell_type": "markdown",
   "metadata": {},
   "source": [
    "## Visualization of glycosylation sites"
   ]
  },
  {
   "cell_type": "code",
   "execution_count": null,
   "metadata": {},
   "outputs": [],
   "source": [
    "status = be.set_protein_color_scheme(\n",
    "    assembly_name=name, name=name,\n",
    "    color_scheme=be.COLOR_SCHEME_GLYCOSYLATION_SITE,\n",
    "    palette_name='Set1', palette_size=2)"
   ]
  },
  {
   "cell_type": "markdown",
   "metadata": {},
   "source": [
    "## Visualization of functional regions"
   ]
  },
  {
   "cell_type": "code",
   "execution_count": null,
   "metadata": {},
   "outputs": [],
   "source": [
    "# RGB color palette for amino acid indices\n",
    "grey = [0.5, 0.5, 0.5]\n",
    "dark_green = [0.0, 0.5, 0.0]\n",
    "light_green = [0.0, 1.0, 0.0]\n",
    "\n",
    "region_indices_and_colors = [\n",
    "    [   1, grey       ], [   5, grey],  [  30, light_green],  [  41, dark_green],\n",
    "    [  82, light_green], [  84, grey],  [ 353, grey       ],  [ 357, grey      ],\n",
    "    [ 800, grey       ]]\n",
    "\n",
    "# Build a palette according to region colors\n",
    "palette = list()\n",
    "for index in range(len(region_indices_and_colors)-1):\n",
    "    for i in range(region_indices_and_colors[index + 1][0] - \n",
    "                   region_indices_and_colors[index][0]):\n",
    "        palette.append(region_indices_and_colors[index][1])\n",
    "\n",
    "# Apply palette to other chains\n",
    "status = be.set_protein_color_scheme(\n",
    "    assembly_name=name, name=name, \n",
    "    color_scheme=be.COLOR_SCHEME_CHAINS,\n",
    "    palette_name='Greys', palette_size=5)\n",
    "\n",
    "# Apply palette to region color scheme, only for chain #2\n",
    "status = be.set_protein_color_scheme(\n",
    "    assembly_name=name, name=name, \n",
    "    color_scheme=be.COLOR_SCHEME_REGION, palette=palette,\n",
    "    chain_ids=[2])"
   ]
  },
  {
   "cell_type": "markdown",
   "metadata": {},
   "source": [
    "## Add glycans to protein"
   ]
  },
  {
   "cell_type": "code",
   "execution_count": null,
   "metadata": {},
   "outputs": [],
   "source": [
    "glycan_name = name + '_Complex'\n",
    "glycans = Sugars(\n",
    "    rotation=Quaternion(0.707, 0.0, 0.0, 0.707),\n",
    "    assembly_name=name, name=glycan_name, protein_name=name,\n",
    "    source=complex_folder + '36.pdb',\n",
    "    representation=be.REPRESENTATION_ATOMS_AND_STICKS,\n",
    ")\n",
    "status = be.add_glycans(glycans)"
   ]
  },
  {
   "cell_type": "markdown",
   "metadata": {},
   "source": [
    "## Materials"
   ]
  },
  {
   "cell_type": "code",
   "execution_count": null,
   "metadata": {},
   "outputs": [],
   "source": [
    "status = be.apply_default_color_scheme(\n",
    "    shading_mode=be.SHADING_MODE_PERLIN,\n",
    "    user_parameter=0.03, specular_exponent=5, glossiness=0.1)"
   ]
  },
  {
   "cell_type": "code",
   "execution_count": null,
   "metadata": {},
   "outputs": [],
   "source": [
    "status = be.apply_default_color_scheme(\n",
    "    shading_mode=be.SHADING_MODE_DIFFUSE,\n",
    "    user_parameter=1, specular_exponent=50)"
   ]
  },
  {
   "cell_type": "markdown",
   "metadata": {},
   "source": [
    "## Rendering settings"
   ]
  },
  {
   "cell_type": "code",
   "execution_count": null,
   "metadata": {},
   "outputs": [],
   "source": [
    "status = be.core_api().set_renderer(\n",
    "    background_color=[96 / 255, 125 / 255, 139 / 255],\n",
    "    current='bio_explorer',\n",
    "    samples_per_pixel=1, subsampling=4, max_accum_frames=128)\n",
    "params = be.core_api().BioExplorerRendererParams()\n",
    "params.gi_samples = 1\n",
    "params.gi_weight = 0.3\n",
    "params.gi_distance = 5\n",
    "params.shadows = 1.0\n",
    "params.soft_shadows = 1.0\n",
    "params.fog_start = 1500\n",
    "params.fog_thickness = 1500\n",
    "params.max_bounces = 1\n",
    "status = be.core_api().set_renderer_params(params)"
   ]
  },
  {
   "cell_type": "markdown",
   "metadata": {},
   "source": [
    "## Snapshot"
   ]
  },
  {
   "cell_type": "code",
   "execution_count": null,
   "metadata": {},
   "outputs": [],
   "source": [
    "from mediamaker import MovieMaker\n",
    "mm = MovieMaker(be)"
   ]
  },
  {
   "cell_type": "code",
   "execution_count": null,
   "metadata": {},
   "outputs": [],
   "source": [
    "mm.create_snapshot(\n",
    "    path='/tmp/ACE2_receptor.png',\n",
    "    size=[512,512], samples_per_pixel=64)"
   ]
  }
 ],
 "metadata": {
  "kernelspec": {
   "display_name": "Python 3",
   "language": "python",
   "name": "python3"
  },
  "language_info": {
   "codemirror_mode": {
    "name": "ipython",
    "version": 3
   },
   "file_extension": ".py",
   "mimetype": "text/x-python",
   "name": "python",
   "nbconvert_exporter": "python",
   "pygments_lexer": "ipython3",
   "version": "3.8.5"
  }
 },
 "nbformat": 4,
 "nbformat_minor": 4
}
