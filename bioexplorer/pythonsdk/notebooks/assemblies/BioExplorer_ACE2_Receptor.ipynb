{
 "cells": [
  {
   "cell_type": "markdown",
   "metadata": {},
   "source": [
    "# Blue Brain BioExplorer\n",
    "\n",
    "![](../bioexplorer_banner.png)"
   ]
  },
  {
   "cell_type": "markdown",
   "metadata": {},
   "source": [
    "## Script to create a visualization of the ACE2 receptor"
   ]
  },
  {
   "cell_type": "code",
   "execution_count": 31,
   "metadata": {},
   "outputs": [
    {
     "name": "stdout",
     "output_type": "stream",
     "text": [
      "1.2.1\n"
     ]
    }
   ],
   "source": [
    "from bioexplorer import BioExplorer, Protein, Sugars, Quaternion, MovieMaker\n",
    "import os\n",
    "\n",
    "be = BioExplorer('localhost:5000')\n",
    "be.reset_scene()\n",
    "print(be.version())"
   ]
  },
  {
   "cell_type": "code",
   "execution_count": 32,
   "metadata": {},
   "outputs": [],
   "source": [
    "# Resources\n",
    "# resource_folder = '../../tests/test_files/'\n",
    "resource_folder = '/home/favreau/git/BioExplorer/bioexplorer/pythonsdk/tests/test_files'\n",
    "pdb_folder = os.path.join(resource_folder, 'pdb')\n",
    "mesh_folder = os.path.join(resource_folder, 'obj')\n",
    "complex_folder = os.path.join(resource_folder,'pdb','glycans','complex')\n",
    "be.set_general_settings(logging_level=3, mesh_folder=mesh_folder)\n",
    "\n",
    "protein_representation = be.REPRESENTATION_MESH\n",
    "protein_radius_multiplier = 1.0"
   ]
  },
  {
   "cell_type": "code",
   "execution_count": 33,
   "metadata": {},
   "outputs": [],
   "source": [
    "# Camera position\n",
    "status = be.core_api().set_camera(\n",
    "    orientation=[0.707, 0.0, -0.707, 0.0],\n",
    "    position=[-25.772, 0.0, 0.005],\n",
    "    target=[0.0, 0.0, 0.005]\n",
    ")"
   ]
  },
  {
   "cell_type": "code",
   "execution_count": 34,
   "metadata": {},
   "outputs": [],
   "source": [
    "# Protein\n",
    "name = be.NAME_RECEPTOR\n",
    "ace2_receptor = Protein(\n",
    "    name=name,\n",
    "    source=os.path.join(pdb_folder, '6m18.pdb'),\n",
    "    rotation=Quaternion(0.707,-0.707,0,0)\n",
    ")\n",
    "\n",
    "\n",
    "status = be.add_protein(\n",
    "    atom_radius_multiplier=protein_radius_multiplier,\n",
    "    representation=protein_representation,\n",
    "    protein=ace2_receptor\n",
    ")"
   ]
  },
  {
   "cell_type": "code",
   "execution_count": 35,
   "metadata": {},
   "outputs": [],
   "source": [
    "status = be.set_models_visibility(True)"
   ]
  },
  {
   "cell_type": "markdown",
   "metadata": {},
   "source": [
    "## Protein information (AA sequences and glycosylation sites)"
   ]
  },
  {
   "cell_type": "code",
   "execution_count": 36,
   "metadata": {
    "scrolled": false
   },
   "outputs": [
    {
     "data": {
      "text/plain": [
       "['5,768,MADYKDDDDKSGPDEVDASGRVRLVLPNPGLDARIPSLAELETIEQEEASSRPKWDNKAQYMLTCLGFCVGLGNVWRFPYLCQSHGGGAFMIPFLILLVLEGIPLLYLEFAIGQRLRRGSLGVWSSIHPALKGLGLASMLTSFMVGLYYNTIISWIMWYLFNSFQEPLPWSDCPLNENQTGYVDECARSSPVDYFWYRETLNISTSISDSGSIQWWMLLCLACAWSVLYMCTIRGIETTGKAVYITSTLPYVVLTIFLIRGLTLKGATNGIVFLFTPNVTELAQPDTWLDAGAQVFFSFSLAFGGLISFSSYNSVHNNCEKDSVIVSIINGFTSVYVAIVVYSVIGFRATQRYDDCFSTNILTLINGFDLPEGNVTQENFVDMQQRCNASDPAAYAQLVFQTCDINAFLSEAVEGTGLAFIVFTEAITKMPLSPLWSVLFFIMLFCLGLSSMFGNMEGVVVPLQDLRVIPPKWPKEVLTGLICLGTFLIGFIFTLNSGQYWLSLLDSYAGSIPLLIIAFCEMFSVVYVYGVDRFNKDIEFMIGHKPNIFWQVTWRVVSPLLMLIIFLFFFVVEVSQELTYSIWDPGYEEFPKSQKISYPNWVYVVVVIVAGVPSLTIPGYAIYKLIRNHCQKPGDHQGLVSTLSTASMNGDLKY',\n",
       " '5,768,MRSSSSWLLLSLVAVTAAWSHPQFEKQSTIEEQAKTFLDKFNHEAEDLFYQSSLASWNYNTNITEENVQNMNNAGDKWSAFLKEQSTLAQMYPLQEIQNLTVKLQLQALQQNGSSVLSEDKSKRLNTILNTMSTIYSTGKVCNPDNPQECLLLEPGLNEIMANSLDYNERLWAWESWRSEVGKQLRPLYEEYVVLKNEMARANHYEDYGDYWRGDYEVNGVDGYDYSRGQLIEDVEHTFEEIKPLYEHLHAYVRAKLMNAYPSYISPIGCLPAHLLGDMWGRFWTNLYSLTVPFGQKPNIDVTDAMVDQAWDAQRIFKEAEKFFVSVGLPNMTQGFWENSMLTDPGNVQKAVCHPTAWDLGKGDFRILMCTKVTMDDFLTAHHEMGHIQYDMAYAAQPFLLRNGANEGFHEAVGEIMSLSAATPKHLKSIGLLSPDFQEDNETEINFLLKQALTIVGTLPFTYMLEKWRWMVFKGEIPKDQWMKKWWEMKREIVGVVEPVPHDETYCDPASLFHVSNDYSFIRYYTRTLYQFQFQEALCQAAKHEGPLHKCDISNSTEAGQKLFNMLRLGKSEPWTLALENVVGAKNMNVRPLLNYFEPLFTWLKDQNKNSFVGWSTDWSPYADQSIKVRISLKSALGDKAYEWNDNEMYLFRSSVAYAMRQYFLKVKNQMILFGEEDVRVANLKPRISFNFFVTAPKNVSDIIPRTEVEKAIRMSRSRINDAFRLNDNSLEFLGIQPTLGPPNQPPVSIWLIVFGVVMGVIVVGIVILIFTGIRDRKKKNKARSGENPYASIDISKGENNPGFQNTDDVQTSF',\n",
       " '5,768,MADYKDDDDKSGPDEVDASGRVRLVLPNPGLDARIPSLAELETIEQEEASSRPKWDNKAQYMLTCLGFCVGLGNVWRFPYLCQSHGGGAFMIPFLILLVLEGIPLLYLEFAIGQRLRRGSLGVWSSIHPALKGLGLASMLTSFMVGLYYNTIISWIMWYLFNSFQEPLPWSDCPLNENQTGYVDECARSSPVDYFWYRETLNISTSISDSGSIQWWMLLCLACAWSVLYMCTIRGIETTGKAVYITSTLPYVVLTIFLIRGLTLKGATNGIVFLFTPNVTELAQPDTWLDAGAQVFFSFSLAFGGLISFSSYNSVHNNCEKDSVIVSIINGFTSVYVAIVVYSVIGFRATQRYDDCFSTNILTLINGFDLPEGNVTQENFVDMQQRCNASDPAAYAQLVFQTCDINAFLSEAVEGTGLAFIVFTEAITKMPLSPLWSVLFFIMLFCLGLSSMFGNMEGVVVPLQDLRVIPPKWPKEVLTGLICLGTFLIGFIFTLNSGQYWLSLLDSYAGSIPLLIIAFCEMFSVVYVYGVDRFNKDIEFMIGHKPNIFWQVTWRVVSPLLMLIIFLFFFVVEVSQELTYSIWDPGYEEFPKSQKISYPNWVYVVVVIVAGVPSLTIPGYAIYKLIRNHCQKPGDHQGLVSTLSTASMNGDLKY',\n",
       " '5,768,MRSSSSWLLLSLVAVTAAWSHPQFEKQSTIEEQAKTFLDKFNHEAEDLFYQSSLASWNYNTNITEENVQNMNNAGDKWSAFLKEQSTLAQMYPLQEIQNLTVKLQLQALQQNGSSVLSEDKSKRLNTILNTMSTIYSTGKVCNPDNPQECLLLEPGLNEIMANSLDYNERLWAWESWRSEVGKQLRPLYEEYVVLKNEMARANHYEDYGDYWRGDYEVNGVDGYDYSRGQLIEDVEHTFEEIKPLYEHLHAYVRAKLMNAYPSYISPIGCLPAHLLGDMWGRFWTNLYSLTVPFGQKPNIDVTDAMVDQAWDAQRIFKEAEKFFVSVGLPNMTQGFWENSMLTDPGNVQKAVCHPTAWDLGKGDFRILMCTKVTMDDFLTAHHEMGHIQYDMAYAAQPFLLRNGANEGFHEAVGEIMSLSAATPKHLKSIGLLSPDFQEDNETEINFLLKQALTIVGTLPFTYMLEKWRWMVFKGEIPKDQWMKKWWEMKREIVGVVEPVPHDETYCDPASLFHVSNDYSFIRYYTRTLYQFQFQEALCQAAKHEGPLHKCDISNSTEAGQKLFNMLRLGKSEPWTLALENVVGAKNMNVRPLLNYFEPLFTWLKDQNKNSFVGWSTDWSPYADQSIKVRISLKSALGDKAYEWNDNEMYLFRSSVAYAMRQYFLKVKNQMILFGEEDVRVANLKPRISFNFFVTAPKNVSDIIPRTEVEKAIRMSRSRINDAFRLNDNSLEFLGIQPTLGPPNQPPVSIWLIVFGVVMGVIVVGIVILIFTGIRDRKKKNKARSGENPYASIDISKGENNPGFQNTDDVQTSF',\n",
       " '159,183,259,355,369',\n",
       " '54,91,104,323,433,547,691',\n",
       " '159,183,259,355,369',\n",
       " '54,91,104,323,433,547,691']"
      ]
     },
     "execution_count": 36,
     "metadata": {},
     "output_type": "execute_result"
    }
   ],
   "source": [
    "be.get_protein_amino_acid_information(assembly_name=name, name=name)"
   ]
  },
  {
   "cell_type": "code",
   "execution_count": 37,
   "metadata": {},
   "outputs": [
    {
     "ename": "RuntimeError",
     "evalue": "Material 1 is not registered in the model",
     "output_type": "error",
     "traceback": [
      "\u001b[0;31m---------------------------------------------------------------------------\u001b[0m",
      "\u001b[0;31mRuntimeError\u001b[0m                              Traceback (most recent call last)",
      "\u001b[1;32m/home/favreau/git/BioExplorer/bioexplorer/pythonsdk/notebooks/assemblies/BioExplorer_ACE2_Receptor.ipynb Cell 10'\u001b[0m in \u001b[0;36m<module>\u001b[0;34m\u001b[0m\n\u001b[0;32m----> <a href='vscode-notebook-cell:/home/favreau/git/BioExplorer/bioexplorer/pythonsdk/notebooks/assemblies/BioExplorer_ACE2_Receptor.ipynb#ch0000009?line=0'>1</a>\u001b[0m status \u001b[39m=\u001b[39m be\u001b[39m.\u001b[39;49mset_protein_color_scheme(\n\u001b[1;32m      <a href='vscode-notebook-cell:/home/favreau/git/BioExplorer/bioexplorer/pythonsdk/notebooks/assemblies/BioExplorer_ACE2_Receptor.ipynb#ch0000009?line=1'>2</a>\u001b[0m     assembly_name\u001b[39m=\u001b[39;49mname, name\u001b[39m=\u001b[39;49mname,\n\u001b[1;32m      <a href='vscode-notebook-cell:/home/favreau/git/BioExplorer/bioexplorer/pythonsdk/notebooks/assemblies/BioExplorer_ACE2_Receptor.ipynb#ch0000009?line=2'>3</a>\u001b[0m     color_scheme\u001b[39m=\u001b[39;49mbe\u001b[39m.\u001b[39;49mCOLOR_SCHEME_ATOMS,\n\u001b[1;32m      <a href='vscode-notebook-cell:/home/favreau/git/BioExplorer/bioexplorer/pythonsdk/notebooks/assemblies/BioExplorer_ACE2_Receptor.ipynb#ch0000009?line=3'>4</a>\u001b[0m     palette_name\u001b[39m=\u001b[39;49m\u001b[39m'\u001b[39;49m\u001b[39mSet1\u001b[39;49m\u001b[39m'\u001b[39;49m, palette_size\u001b[39m=\u001b[39;49m\u001b[39m2\u001b[39;49m)\n",
      "File \u001b[0;32m~/Notebooks/env/lib/python3.8/site-packages/bioexplorer/bio_explorer.py:1128\u001b[0m, in \u001b[0;36mBioExplorer.set_protein_color_scheme\u001b[0;34m(self, assembly_name, name, color_scheme, palette_name, palette_size, palette, chain_ids)\u001b[0m\n\u001b[1;32m   <a href='file:///~/Notebooks/env/lib/python3.8/site-packages/bioexplorer/bio_explorer.py?line=1125'>1126</a>\u001b[0m params[\u001b[39m\"\u001b[39m\u001b[39mpalette\u001b[39m\u001b[39m\"\u001b[39m] \u001b[39m=\u001b[39m local_palette\n\u001b[1;32m   <a href='file:///~/Notebooks/env/lib/python3.8/site-packages/bioexplorer/bio_explorer.py?line=1126'>1127</a>\u001b[0m params[\u001b[39m\"\u001b[39m\u001b[39mchainIds\u001b[39m\u001b[39m\"\u001b[39m] \u001b[39m=\u001b[39m chain_ids\n\u001b[0;32m-> <a href='file:///~/Notebooks/env/lib/python3.8/site-packages/bioexplorer/bio_explorer.py?line=1127'>1128</a>\u001b[0m result \u001b[39m=\u001b[39m \u001b[39mself\u001b[39;49m\u001b[39m.\u001b[39;49m_invoke_and_check(\u001b[39m\"\u001b[39;49m\u001b[39mset-protein-color-scheme\u001b[39;49m\u001b[39m\"\u001b[39;49m, params)\n\u001b[1;32m   <a href='file:///~/Notebooks/env/lib/python3.8/site-packages/bioexplorer/bio_explorer.py?line=1128'>1129</a>\u001b[0m \u001b[39mif\u001b[39;00m \u001b[39mnot\u001b[39;00m result[\u001b[39m\"\u001b[39m\u001b[39mstatus\u001b[39m\u001b[39m\"\u001b[39m]:\n\u001b[1;32m   <a href='file:///~/Notebooks/env/lib/python3.8/site-packages/bioexplorer/bio_explorer.py?line=1129'>1130</a>\u001b[0m     \u001b[39mraise\u001b[39;00m \u001b[39mRuntimeError\u001b[39;00m(result[\u001b[39m\"\u001b[39m\u001b[39mcontents\u001b[39m\u001b[39m\"\u001b[39m])\n",
      "File \u001b[0;32m~/Notebooks/env/lib/python3.8/site-packages/bioexplorer/bio_explorer.py:325\u001b[0m, in \u001b[0;36mBioExplorer._invoke_and_check\u001b[0;34m(self, method, params)\u001b[0m\n\u001b[1;32m    <a href='file:///~/Notebooks/env/lib/python3.8/site-packages/bioexplorer/bio_explorer.py?line=321'>322</a>\u001b[0m prefixed_method \u001b[39m=\u001b[39m \u001b[39mself\u001b[39m\u001b[39m.\u001b[39mPLUGIN_API_PREFIX \u001b[39m+\u001b[39m method\n\u001b[1;32m    <a href='file:///~/Notebooks/env/lib/python3.8/site-packages/bioexplorer/bio_explorer.py?line=322'>323</a>\u001b[0m response \u001b[39m=\u001b[39m \u001b[39mself\u001b[39m\u001b[39m.\u001b[39m_client\u001b[39m.\u001b[39mrockets_client\u001b[39m.\u001b[39mrequest(\n\u001b[1;32m    <a href='file:///~/Notebooks/env/lib/python3.8/site-packages/bioexplorer/bio_explorer.py?line=323'>324</a>\u001b[0m     method\u001b[39m=\u001b[39mprefixed_method, params\u001b[39m=\u001b[39mparams)\n\u001b[0;32m--> <a href='file:///~/Notebooks/env/lib/python3.8/site-packages/bioexplorer/bio_explorer.py?line=324'>325</a>\u001b[0m \u001b[39mreturn\u001b[39;00m \u001b[39mself\u001b[39;49m\u001b[39m.\u001b[39;49m_check(response)\n",
      "File \u001b[0;32m~/Notebooks/env/lib/python3.8/site-packages/bioexplorer/bio_explorer.py:313\u001b[0m, in \u001b[0;36mBioExplorer._check\u001b[0;34m(response)\u001b[0m\n\u001b[1;32m    <a href='file:///~/Notebooks/env/lib/python3.8/site-packages/bioexplorer/bio_explorer.py?line=309'>310</a>\u001b[0m \u001b[39m@staticmethod\u001b[39m\n\u001b[1;32m    <a href='file:///~/Notebooks/env/lib/python3.8/site-packages/bioexplorer/bio_explorer.py?line=310'>311</a>\u001b[0m \u001b[39mdef\u001b[39;00m \u001b[39m_check\u001b[39m(response):\n\u001b[1;32m    <a href='file:///~/Notebooks/env/lib/python3.8/site-packages/bioexplorer/bio_explorer.py?line=311'>312</a>\u001b[0m     \u001b[39mif\u001b[39;00m \u001b[39mnot\u001b[39;00m response[\u001b[39m\"\u001b[39m\u001b[39mstatus\u001b[39m\u001b[39m\"\u001b[39m]:\n\u001b[0;32m--> <a href='file:///~/Notebooks/env/lib/python3.8/site-packages/bioexplorer/bio_explorer.py?line=312'>313</a>\u001b[0m         \u001b[39mraise\u001b[39;00m \u001b[39mRuntimeError\u001b[39;00m(response[\u001b[39m\"\u001b[39m\u001b[39mcontents\u001b[39m\u001b[39m\"\u001b[39m])\n\u001b[1;32m    <a href='file:///~/Notebooks/env/lib/python3.8/site-packages/bioexplorer/bio_explorer.py?line=313'>314</a>\u001b[0m     \u001b[39mreturn\u001b[39;00m response\n",
      "\u001b[0;31mRuntimeError\u001b[0m: Material 1 is not registered in the model"
     ]
    }
   ],
   "source": [
    "status = be.set_protein_color_scheme(\n",
    "    assembly_name=name, name=name,\n",
    "    color_scheme=be.COLOR_SCHEME_ATOMS,\n",
    "    palette_name='Set1', palette_size=2)"
   ]
  },
  {
   "cell_type": "code",
   "execution_count": 38,
   "metadata": {},
   "outputs": [],
   "source": [
    "status = be.set_protein_color_scheme(\n",
    "    assembly_name=name, name=name,\n",
    "    color_scheme=be.COLOR_SCHEME_CHAINS,\n",
    "    palette_name='Set1', palette_size=5)"
   ]
  },
  {
   "cell_type": "markdown",
   "metadata": {},
   "source": [
    "## Visualization of amino acids sequence"
   ]
  },
  {
   "cell_type": "code",
   "execution_count": null,
   "metadata": {},
   "outputs": [],
   "source": [
    "status = be.set_protein_amino_acid_sequence_as_ranges(\n",
    "    assembly_name=name, name=name, amino_acid_ranges=[100,150])\n",
    "status = be.set_protein_color_scheme(\n",
    "    assembly_name=name, name=name,\n",
    "    color_scheme=be.COLOR_SCHEME_AMINO_ACID_SEQUENCE,\n",
    "    palette_name='Set1', palette_size=2)"
   ]
  },
  {
   "cell_type": "markdown",
   "metadata": {},
   "source": [
    "## Visualization of glycosylation sites"
   ]
  },
  {
   "cell_type": "code",
   "execution_count": null,
   "metadata": {},
   "outputs": [],
   "source": [
    "status = be.set_protein_color_scheme(\n",
    "    assembly_name=name, name=name,\n",
    "    color_scheme=be.COLOR_SCHEME_GLYCOSYLATION_SITE,\n",
    "    palette_name='Set1', palette_size=2)"
   ]
  },
  {
   "cell_type": "markdown",
   "metadata": {},
   "source": [
    "## Visualization of functional regions"
   ]
  },
  {
   "cell_type": "code",
   "execution_count": null,
   "metadata": {},
   "outputs": [],
   "source": [
    "# RGB color palette for amino acid indices\n",
    "grey = [0.5, 0.5, 0.5]\n",
    "dark_green = [0.0, 0.5, 0.0]\n",
    "light_green = [0.0, 1.0, 0.0]\n",
    "\n",
    "region_indices_and_colors = [\n",
    "    [   1, grey       ], [   5, grey],  [  30, light_green],  [  41, dark_green],\n",
    "    [  82, light_green], [  84, grey],  [ 353, grey       ],  [ 357, grey      ],\n",
    "    [ 800, grey       ]]\n",
    "\n",
    "# Build a palette according to region colors\n",
    "palette = list()\n",
    "for index in range(len(region_indices_and_colors)-1):\n",
    "    for i in range(region_indices_and_colors[index + 1][0] - \n",
    "                   region_indices_and_colors[index][0]):\n",
    "        palette.append(region_indices_and_colors[index][1])\n",
    "\n",
    "# Apply palette to other chains\n",
    "status = be.set_protein_color_scheme(\n",
    "    assembly_name=name, name=name, \n",
    "    color_scheme=be.COLOR_SCHEME_CHAINS,\n",
    "    palette_name='Greys', palette_size=5)\n",
    "\n",
    "# Apply palette to region color scheme, only for chain #2\n",
    "status = be.set_protein_color_scheme(\n",
    "    assembly_name=name, name=name, \n",
    "    color_scheme=be.COLOR_SCHEME_REGION, palette=palette,\n",
    "    chain_ids=[2])"
   ]
  },
  {
   "cell_type": "markdown",
   "metadata": {},
   "source": [
    "## Add glycans to protein"
   ]
  },
  {
   "cell_type": "code",
   "execution_count": null,
   "metadata": {},
   "outputs": [],
   "source": [
    "glycan_name = name + '_Complex'\n",
    "glycans = Sugars(\n",
    "    rotation=Quaternion(0.707, 0.0, 0.0, 0.707),\n",
    "    assembly_name=name, name=glycan_name, protein_name=name,\n",
    "    source=os.path.join(complex_folder, '36.pdb'),\n",
    ")\n",
    "status = be.add_glycans(glycans)"
   ]
  },
  {
   "cell_type": "markdown",
   "metadata": {},
   "source": [
    "## Materials"
   ]
  },
  {
   "cell_type": "code",
   "execution_count": null,
   "metadata": {},
   "outputs": [],
   "source": [
    "status = be.apply_default_color_scheme(\n",
    "    shading_mode=be.SHADING_MODE_PERLIN,\n",
    "    user_parameter=0.03, specular_exponent=5, glossiness=0.1)"
   ]
  },
  {
   "cell_type": "code",
   "execution_count": null,
   "metadata": {},
   "outputs": [],
   "source": [
    "status = be.apply_default_color_scheme(\n",
    "    shading_mode=be.SHADING_MODE_DIFFUSE,\n",
    "    user_parameter=1, specular_exponent=50)"
   ]
  },
  {
   "cell_type": "markdown",
   "metadata": {},
   "source": [
    "## Rendering settings"
   ]
  },
  {
   "cell_type": "code",
   "execution_count": null,
   "metadata": {},
   "outputs": [],
   "source": [
    "status = be.core_api().set_renderer(\n",
    "    background_color=[96 / 255, 125 / 255, 139 / 255],\n",
    "    current='bio_explorer',\n",
    "    samples_per_pixel=1, subsampling=4, max_accum_frames=128)\n",
    "params = be.core_api().BioExplorerRendererParams()\n",
    "params.gi_samples = 1\n",
    "params.gi_weight = 0.3\n",
    "params.gi_distance = 5\n",
    "params.shadows = 1.0\n",
    "params.soft_shadows = 1.0\n",
    "params.fog_start = 1500\n",
    "params.fog_thickness = 1500\n",
    "params.max_bounces = 1\n",
    "status = be.core_api().set_renderer_params(params)"
   ]
  },
  {
   "cell_type": "markdown",
   "metadata": {},
   "source": [
    "## Snapshot"
   ]
  },
  {
   "cell_type": "code",
   "execution_count": null,
   "metadata": {},
   "outputs": [],
   "source": [
    "mm = MovieMaker(be)"
   ]
  },
  {
   "cell_type": "code",
   "execution_count": null,
   "metadata": {},
   "outputs": [],
   "source": [
    "# mm.create_snapshot(\n",
    "#     renderer='bio_explorer',\n",
    "#     path='/tmp', base_name='ACE2_receptor',\n",
    "#     size=[512,512], samples_per_pixel=64)"
   ]
  }
 ],
 "metadata": {
  "kernelspec": {
   "display_name": "Python 3",
   "language": "python",
   "name": "python3"
  },
  "language_info": {
   "codemirror_mode": {
    "name": "ipython",
    "version": 3
   },
   "file_extension": ".py",
   "mimetype": "text/x-python",
   "name": "python",
   "nbconvert_exporter": "python",
   "pygments_lexer": "ipython3",
   "version": "3.8.10"
  }
 },
 "nbformat": 4,
 "nbformat_minor": 4
}
