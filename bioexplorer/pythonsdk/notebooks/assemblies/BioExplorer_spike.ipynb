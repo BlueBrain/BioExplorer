{
 "cells": [
  {
   "cell_type": "markdown",
   "metadata": {},
   "source": [
    "# Blue Brain BioExplorer\n",
    "![](../bioexplorer_banner.png)"
   ]
  },
  {
   "cell_type": "markdown",
   "metadata": {},
   "source": [
    "## Script to create a visualization of the Spike"
   ]
  },
  {
   "cell_type": "code",
   "execution_count": 1,
   "metadata": {},
   "outputs": [
    {
     "name": "stdout",
     "output_type": "stream",
     "text": [
      "0.9.0\n"
     ]
    }
   ],
   "source": [
    "from bioexplorer import BioExplorer, Protein, Sugars, Quaternion\n",
    "uri = 'localhost:5000'\n",
    "be = BioExplorer(uri)\n",
    "be.reset()\n",
    "print(be.version())"
   ]
  },
  {
   "cell_type": "code",
   "execution_count": 2,
   "metadata": {},
   "outputs": [],
   "source": [
    "surface = False\n",
    "open_spike = False"
   ]
  },
  {
   "cell_type": "code",
   "execution_count": 3,
   "metadata": {},
   "outputs": [],
   "source": [
    "'''Resources'''\n",
    "resource_folder = '../../tests/test_files/'\n",
    "pdb_folder = resource_folder + 'pdb/'\n",
    "complex_folder = resource_folder + 'pdb/glycans/complex/'\n",
    "\n",
    "protein_representation = BioExplorer.REPRESENTATION_ATOMS_AND_STICKS\n",
    "protein_radius_multiplier = 1.0\n",
    "glycan_representation = BioExplorer.REPRESENTATION_ATOMS_AND_STICKS\n",
    "glycan_radius_multiplier = 1.0\n",
    "\n",
    "if surface:\n",
    "    protein_radius_multiplier = 1.0\n",
    "    protein_representation = BioExplorer.REPRESENTATION_SURFACE\n",
    "    glycan_representation = BioExplorer.REPRESENTATION_ATOMS_AND_STICKS"
   ]
  },
  {
   "cell_type": "code",
   "execution_count": 4,
   "metadata": {},
   "outputs": [],
   "source": [
    "'''Default side view'''\n",
    "status = be.core_api().set_camera(\n",
    "    orientation=[0.707, 0, -0.707, 0.0],\n",
    "    position=[-26.348, 0.172, 0.620],\n",
    "    target=[-2.728, 0.172, 0.620]\n",
    ")"
   ]
  },
  {
   "cell_type": "code",
   "execution_count": 5,
   "metadata": {},
   "outputs": [],
   "source": [
    "'''Protein'''\n",
    "source = pdb_folder + 'sars-cov-2-v1.pdb'\n",
    "if open_spike:\n",
    "    source = pdb_folder + '6vyb.pdb'\n",
    "    \n",
    "spike = Protein(\n",
    "    sources=[source],\n",
    "    load_hydrogen=False,\n",
    "    load_non_polymer_chemicals=False,\n",
    ")\n",
    "\n",
    "name = be.NAME_PROTEIN_S_CLOSED\n",
    "if open_spike:\n",
    "    name = be.NAME_PROTEIN_S_OPEN\n",
    "status = be.add_protein(\n",
    "    name=name, protein=spike,\n",
    "    atom_radius_multiplier=protein_radius_multiplier,\n",
    "    representation=protein_representation,\n",
    ")"
   ]
  },
  {
   "cell_type": "markdown",
   "metadata": {},
   "source": [
    "## Add glycans to protein"
   ]
  },
  {
   "cell_type": "code",
   "execution_count": 6,
   "metadata": {},
   "outputs": [],
   "source": [
    "glycan_folder = pdb_folder + 'glycans/'\n",
    "complex_paths = [glycan_folder + 'complex/33.pdb', glycan_folder + 'complex/34.pdb',\n",
    "                 glycan_folder + 'complex/35.pdb',glycan_folder + 'complex/36.pdb']\n",
    "high_mannose_paths = [glycan_folder + 'high-mannose/1.pdb', \n",
    "                      glycan_folder + 'high-mannose/2.pdb',\n",
    "                      glycan_folder + 'high-mannose/3.pdb',\n",
    "                      glycan_folder + 'high-mannose/4.pdb']\n",
    "hybrid_paths = [glycan_folder + 'hybrid/24.pdb']\n",
    "o_glycan_paths = [glycan_folder + 'o-glycan/12.pdb']"
   ]
  },
  {
   "cell_type": "markdown",
   "metadata": {},
   "source": [
    "### High mannose"
   ]
  },
  {
   "cell_type": "code",
   "execution_count": 7,
   "metadata": {},
   "outputs": [],
   "source": [
    "indices = [61, 122, 234, 603, 709, 717, 801, 1074]\n",
    "\n",
    "high_mannose_glycans = Sugars(\n",
    "    rotation=Quaternion(0.707, 0.0, 0.0, 0.707),\n",
    "    assembly_name=name, name=be.NAME_GLYCAN_HIGH_MANNOSE, \n",
    "    protein_name=name, source=high_mannose_paths[0], \n",
    "    site_indices=indices,\n",
    "    representation=glycan_representation,\n",
    "    atom_radius_multiplier=glycan_radius_multiplier\n",
    ")\n",
    "status = be.add_glycans(high_mannose_glycans)"
   ]
  },
  {
   "cell_type": "markdown",
   "metadata": {},
   "source": [
    "### O-Glycans"
   ]
  },
  {
   "cell_type": "code",
   "execution_count": 8,
   "metadata": {},
   "outputs": [],
   "source": [
    "protein_name = be.NAME_PROTEIN_S_CLOSED\n",
    "if open_spike:\n",
    "    protein_name = be.NAME_PROTEIN_S_OPEN\n",
    "    \n",
    "for index in [323, 325]:\n",
    "    o_glycan_name = name + '_' + be.NAME_GLYCAN_O_GLYCAN + '_' + str(index)\n",
    "    o_glycan = Sugars(\n",
    "        assembly_name=name, name=o_glycan_name, source=o_glycan_paths[0],\n",
    "        protein_name=protein_name, site_indices=[index],\n",
    "        representation=glycan_representation)\n",
    "    be.add_sugars(o_glycan)"
   ]
  },
  {
   "cell_type": "markdown",
   "metadata": {},
   "source": [
    "### Complex"
   ]
  },
  {
   "cell_type": "code",
   "execution_count": 9,
   "metadata": {},
   "outputs": [],
   "source": [
    "indices = [17, 74, 149, 165, 282, 331, 343, 616, 657, 1098, 1134, 1158, 1173, 1194]\n",
    "if open_spike:\n",
    "    indices = [17, 74, 149, 165, 282, 331, 343, 657, 1098, 1134, 1158, 1173, 1194]\n",
    "\n",
    "complex_glycans = Sugars(\n",
    "    rotation=Quaternion(0.0, 0.0, 0.0, 1.0),\n",
    "    assembly_name=name, name=be.NAME_GLYCAN_COMPLEX, \n",
    "    protein_name=name, source=complex_paths[0], \n",
    "    site_indices=indices,\n",
    "    representation=glycan_representation,\n",
    "    atom_radius_multiplier=glycan_radius_multiplier\n",
    ")\n",
    "status = be.add_glycans(complex_glycans)"
   ]
  },
  {
   "cell_type": "markdown",
   "metadata": {},
   "source": [
    "## Materials"
   ]
  },
  {
   "cell_type": "code",
   "execution_count": 10,
   "metadata": {
    "scrolled": false
   },
   "outputs": [
    {
     "data": {
      "application/vnd.jupyter.widget-view+json": {
       "model_id": "a0ed7046035643e493d7b5ff83f760b5",
       "version_major": 2,
       "version_minor": 0
      },
      "text/plain": [
       "IntProgress(value=0, max=5)"
      ]
     },
     "metadata": {},
     "output_type": "display_data"
    }
   ],
   "source": [
    "be.apply_default_color_scheme(\n",
    "    shading_mode=be.SHADING_MODE_GOODSELL,\n",
    "    user_parameter=1, specular_exponent=50, glossiness=1)"
   ]
  },
  {
   "cell_type": "markdown",
   "metadata": {},
   "source": [
    "## Rendering settings"
   ]
  },
  {
   "cell_type": "code",
   "execution_count": 11,
   "metadata": {},
   "outputs": [],
   "source": [
    "be.core_api().set_renderer(\n",
    "    background_color=[96 / 255, 125 / 255, 139 / 255],\n",
    "    current='bio_explorer',\n",
    "    samples_per_pixel=1, subsampling=4, max_accum_frames=64)\n",
    "params = be.core_api().BioExplorerRendererParams()\n",
    "params.gi_samples = 1\n",
    "params.gi_weight = 0.4\n",
    "params.gi_distance = 50\n",
    "params.shadows = 1.0\n",
    "params.soft_shadows = 1.0\n",
    "params.fog_start = 1500\n",
    "params.fog_thickness = 1500\n",
    "params.max_bounces = 1\n",
    "status = be.core_api().set_renderer_params(params)"
   ]
  },
  {
   "cell_type": "markdown",
   "metadata": {},
   "source": [
    "## Snaphots"
   ]
  },
  {
   "cell_type": "code",
   "execution_count": 12,
   "metadata": {},
   "outputs": [],
   "source": [
    "output_folder = '/tmp/'"
   ]
  },
  {
   "cell_type": "code",
   "execution_count": 13,
   "metadata": {},
   "outputs": [],
   "source": [
    "def generate_snapshot(top_view, keywords):\n",
    "\n",
    "    '''Define path'''\n",
    "    path = output_folder + 'protein_s'\n",
    "    if open_spike:\n",
    "        path += '_open'\n",
    "    else:\n",
    "        path += '_closed'\n",
    "    if surface:\n",
    "        path += '_surface'\n",
    "    if top_view:\n",
    "        path += '_top'\n",
    "    else:\n",
    "        path += '_side'\n",
    "    for keyword in keywords:\n",
    "        path += '_' + keyword\n",
    "    path += '.png'\n",
    "    print('Exporting to ' + path)\n",
    "        \n",
    "    '''Camera'''\n",
    "    if top_view:\n",
    "        status = be.core_api().set_camera(\n",
    "            orientation=[0.5, -0.5, 0.5, 0.5],\n",
    "            position=[0.360, -26.702, 0.346],\n",
    "            target=[0.360, 0.172, 0.346]    \n",
    "        )\n",
    "    else:\n",
    "        if open_spike:\n",
    "            status = be.core_api().set_camera(\n",
    "                orientation=[1.0, 0.0, 0.0, 0.0],\n",
    "                position=[-1.117, -0.561, -25.184],\n",
    "                target=[-1.117, -0.561, 0.620]    \n",
    "            )\n",
    "        else:\n",
    "            status = be.core_api().set_camera(\n",
    "                orientation=[0.707, 0.0, -0.707, 0.0],\n",
    "                position=[-26.348, 0.172, 0.620],\n",
    "                target=[-2.728, 0.172, 0.620]\n",
    "            )\n",
    "    \n",
    "    '''Snapshot'''\n",
    "    from braynsmediamaker import MovieMaker\n",
    "    mm = MovieMaker(be.core_api())\n",
    "    mm.create_snapshot(\n",
    "        path=path, size=[2048,2048], samples_per_pixel=64)"
   ]
  },
  {
   "cell_type": "markdown",
   "metadata": {},
   "source": [
    "### Functional regions"
   ]
  },
  {
   "cell_type": "code",
   "execution_count": 14,
   "metadata": {},
   "outputs": [],
   "source": [
    "def apply_functional_regions_color_scheme():\n",
    "    '''RGB color palette for amino acid indices'''\n",
    "    l = 0.2\n",
    "    h = 1.0\n",
    "    grey = [l,l,l]\n",
    "    dark_green = [0.0, l, 0.0]\n",
    "    light_green = [0.0, h, 0.0]\n",
    "    red = [h, 0.0, 0.0]\n",
    "    green = [0.0, h, 0.0]\n",
    "    blue = [0.0, 0.0, h]\n",
    "    orange = [h, h/2.0, 0.0]\n",
    "    cyan = [h, 0.0, h]\n",
    "\n",
    "    region_indices_and_colors = [\n",
    "        [   1, grey ], [   16, blue], [  306, grey], [  330, green], [438, dark_green], \n",
    "        [ 507, green], [  522, grey], [  816, red ], [  835, grey ], [908, orange],\n",
    "        [ 986, grey ], [ 1076, cyan], [ 1274, grey], [ 2000, grey ]\n",
    "    ]\n",
    "\n",
    "    '''Build a palette according to region colors'''\n",
    "    palette = list()\n",
    "    for index in range(len(region_indices_and_colors)-1):\n",
    "        for i in range(region_indices_and_colors[index + 1][0] - \n",
    "                       region_indices_and_colors[index][0]):\n",
    "            palette.append(region_indices_and_colors[index][1])\n",
    "\n",
    "    '''Apply palette to other chains'''\n",
    "    status = be.set_protein_color_scheme(\n",
    "        assembly_name=name, name=name, \n",
    "        color_scheme=be.COLOR_SCHEME_CHAINS,\n",
    "        palette_name='Greys_r', palette_size=5)\n",
    "\n",
    "    '''Apply palette to region color scheme (optional: only for chain #2)'''\n",
    "    status = be.set_protein_color_scheme(\n",
    "        assembly_name=name, name=name, \n",
    "        color_scheme=be.COLOR_SCHEME_REGION, palette=palette,\n",
    "    #     chain_ids=[2]\n",
    "    )\n",
    "    \n",
    "apply_functional_regions_color_scheme()"
   ]
  },
  {
   "cell_type": "code",
   "execution_count": 15,
   "metadata": {},
   "outputs": [
    {
     "name": "stdout",
     "output_type": "stream",
     "text": [
      "Exporting to /tmp/protein_s_closed_side_glycans_with_regions.png\n"
     ]
    },
    {
     "data": {
      "application/vnd.jupyter.widget-view+json": {
       "model_id": "fc912400aba84d47a24166327d13a6d2",
       "version_major": 2,
       "version_minor": 0
      },
      "text/plain": [
       "IntProgress(value=0, description='In progress...')"
      ]
     },
     "metadata": {},
     "output_type": "display_data"
    }
   ],
   "source": [
    "generate_snapshot(False, ['glycans', 'with_regions'])"
   ]
  },
  {
   "cell_type": "code",
   "execution_count": 16,
   "metadata": {},
   "outputs": [
    {
     "name": "stdout",
     "output_type": "stream",
     "text": [
      "Exporting to /tmp/protein_s_closed_top_glycans_with_regions.png\n"
     ]
    },
    {
     "data": {
      "application/vnd.jupyter.widget-view+json": {
       "model_id": "efea5f16bb2b460ea34b3fdee4ccc0d1",
       "version_major": 2,
       "version_minor": 0
      },
      "text/plain": [
       "IntProgress(value=0, description='In progress...')"
      ]
     },
     "metadata": {},
     "output_type": "display_data"
    }
   ],
   "source": [
    "generate_snapshot(True, ['glycans', 'with_regions'])"
   ]
  },
  {
   "cell_type": "markdown",
   "metadata": {},
   "source": [
    "### No functional regions"
   ]
  },
  {
   "cell_type": "code",
   "execution_count": 17,
   "metadata": {},
   "outputs": [],
   "source": [
    "status = be.set_protein_color_scheme(\n",
    "    assembly_name=name, name=name,\n",
    "    color_scheme=be.COLOR_SCHEME_CHAINS,\n",
    "    palette_name='binary_r', palette_size=10)"
   ]
  },
  {
   "cell_type": "code",
   "execution_count": 18,
   "metadata": {},
   "outputs": [
    {
     "name": "stdout",
     "output_type": "stream",
     "text": [
      "Exporting to /tmp/protein_s_closed_side_glycans.png\n"
     ]
    },
    {
     "data": {
      "application/vnd.jupyter.widget-view+json": {
       "model_id": "eb7d25e4cf4846f388cae9619da040a2",
       "version_major": 2,
       "version_minor": 0
      },
      "text/plain": [
       "IntProgress(value=0, description='In progress...')"
      ]
     },
     "metadata": {},
     "output_type": "display_data"
    }
   ],
   "source": [
    "generate_snapshot(False, ['glycans'])"
   ]
  },
  {
   "cell_type": "code",
   "execution_count": 19,
   "metadata": {},
   "outputs": [
    {
     "name": "stdout",
     "output_type": "stream",
     "text": [
      "Exporting to /tmp/protein_s_closed_top_glycans.png\n"
     ]
    },
    {
     "data": {
      "application/vnd.jupyter.widget-view+json": {
       "model_id": "6bde7376ceea40b7b997e43b537a5ab7",
       "version_major": 2,
       "version_minor": 0
      },
      "text/plain": [
       "IntProgress(value=0, description='In progress...')"
      ]
     },
     "metadata": {},
     "output_type": "display_data"
    }
   ],
   "source": [
    "generate_snapshot(True, ['glycans'])"
   ]
  },
  {
   "cell_type": "markdown",
   "metadata": {},
   "source": [
    "## Brazilian variant"
   ]
  },
  {
   "cell_type": "markdown",
   "metadata": {},
   "source": [
    "### Modify amino acid sequence"
   ]
  },
  {
   "cell_type": "code",
   "execution_count": 20,
   "metadata": {},
   "outputs": [],
   "source": [
    "modified_aa_index = 20\n",
    "status = be.set_protein_amino_acid(\n",
    "    assembly_name=name, name=name,\n",
    "    index=modified_aa_index - 1,\n",
    "    amino_acid_short_name='ASN'\n",
    ")\n",
    "\n",
    "indices = [modified_aa_index]\n",
    "glycan_variant_name = be.NAME_GLYCAN_COMPLEX + '_variant'\n",
    "complex_glycans = Sugars(\n",
    "    assembly_name=name, name=glycan_variant_name,\n",
    "    protein_name=name, source=complex_paths[0], \n",
    "    site_indices=indices,\n",
    "    representation=glycan_representation,\n",
    "    atom_radius_multiplier=glycan_radius_multiplier\n",
    ")\n",
    "status = be.add_glycans(complex_glycans)"
   ]
  },
  {
   "cell_type": "code",
   "execution_count": 21,
   "metadata": {},
   "outputs": [],
   "source": [
    "for model in be.core_api().scene.models:\n",
    "    model_id = model['id']\n",
    "    model_name = model['name']\n",
    "    if model_name == glycan_variant_name:\n",
    "        material_ids = list(be.get_material_ids(model_id)['ids'])\n",
    "        nb_materials = len(material_ids)\n",
    "        print(model_name)\n",
    "        palette = list()\n",
    "        for i in range(nb_materials):\n",
    "            palette.append([1,0.2,0.2])\n",
    "        be.set_materials(\n",
    "            model_ids=[model_id], material_ids=material_ids,\n",
    "            diffuse_colors=palette, specular_colors=palette\n",
    "        )        "
   ]
  },
  {
   "cell_type": "markdown",
   "metadata": {},
   "source": [
    "### Snapshots"
   ]
  },
  {
   "cell_type": "code",
   "execution_count": 22,
   "metadata": {},
   "outputs": [],
   "source": [
    "apply_functional_regions_color_scheme()"
   ]
  },
  {
   "cell_type": "code",
   "execution_count": 23,
   "metadata": {},
   "outputs": [
    {
     "name": "stdout",
     "output_type": "stream",
     "text": [
      "Exporting to /tmp/protein_s_closed_side_glycans_with_regions_brazilian_variant_red.png\n"
     ]
    },
    {
     "data": {
      "application/vnd.jupyter.widget-view+json": {
       "model_id": "df8e6aa977324aeb85fb8e0f3c19a14c",
       "version_major": 2,
       "version_minor": 0
      },
      "text/plain": [
       "IntProgress(value=0, description='In progress...')"
      ]
     },
     "metadata": {},
     "output_type": "display_data"
    }
   ],
   "source": [
    "generate_snapshot(False, ['glycans', 'with_regions', 'brazilian_variant_red'])"
   ]
  },
  {
   "cell_type": "code",
   "execution_count": 24,
   "metadata": {},
   "outputs": [
    {
     "name": "stdout",
     "output_type": "stream",
     "text": [
      "Exporting to /tmp/protein_s_closed_top_glycans_with_regions_brazilian_variant_red.png\n"
     ]
    },
    {
     "data": {
      "application/vnd.jupyter.widget-view+json": {
       "model_id": "08dc69d7e34c4c3c802aa0302ab1d005",
       "version_major": 2,
       "version_minor": 0
      },
      "text/plain": [
       "IntProgress(value=0, description='In progress...')"
      ]
     },
     "metadata": {},
     "output_type": "display_data"
    }
   ],
   "source": [
    "generate_snapshot(True, ['glycans', 'with_regions', 'brazilian_variant_red'])"
   ]
  },
  {
   "cell_type": "markdown",
   "metadata": {},
   "source": [
    "### Restore initial amino acid sequence"
   ]
  },
  {
   "cell_type": "code",
   "execution_count": 25,
   "metadata": {},
   "outputs": [],
   "source": [
    "modified_aa_index = 20\n",
    "status = be.set_protein_amino_acid(\n",
    "    assembly_name=name, name=name,\n",
    "    index=modified_aa_index - 1,\n",
    "    amino_acid_short_name='THR'\n",
    ")\n",
    "\n",
    "status = be.set_protein_color_scheme(\n",
    "    assembly_name=name, name=name,\n",
    "    color_scheme=be.COLOR_SCHEME_GLYCOSYLATION_SITE,\n",
    "    palette_name='Set1', palette_size=2)"
   ]
  },
  {
   "cell_type": "markdown",
   "metadata": {},
   "source": [
    "## Stylish"
   ]
  },
  {
   "cell_type": "code",
   "execution_count": 26,
   "metadata": {},
   "outputs": [
    {
     "data": {
      "application/vnd.jupyter.widget-view+json": {
       "model_id": "8a962861080c4e49875ef6f1b11adc9d",
       "version_major": 2,
       "version_minor": 0
      },
      "text/plain": [
       "IntProgress(value=0, max=6)"
      ]
     },
     "metadata": {},
     "output_type": "display_data"
    }
   ],
   "source": [
    "be.apply_default_color_scheme(\n",
    "    shading_mode=be.SHADING_MODE_PERLIN,\n",
    "    user_parameter=0.03, specular_exponent=5, glossiness=0.1)"
   ]
  },
  {
   "cell_type": "code",
   "execution_count": 27,
   "metadata": {},
   "outputs": [
    {
     "data": {
      "application/vnd.jupyter.widget-view+json": {
       "model_id": "63af0c64729e4d8fa79d6d802deed9be",
       "version_major": 2,
       "version_minor": 0
      },
      "text/plain": [
       "IntProgress(value=0, max=6)"
      ]
     },
     "metadata": {},
     "output_type": "display_data"
    }
   ],
   "source": [
    "be.apply_default_color_scheme(\n",
    "    shading_mode=be.SHADING_MODE_ELECTRON,\n",
    "    user_parameter=1, glossiness=1.0)"
   ]
  },
  {
   "cell_type": "code",
   "execution_count": 28,
   "metadata": {},
   "outputs": [
    {
     "data": {
      "application/vnd.jupyter.widget-view+json": {
       "model_id": "599e9cbc22ab4bd69e9c34c523a7fc99",
       "version_major": 2,
       "version_minor": 0
      },
      "text/plain": [
       "IntProgress(value=0, max=6)"
      ]
     },
     "metadata": {},
     "output_type": "display_data"
    }
   ],
   "source": [
    "be.apply_default_color_scheme(\n",
    "    shading_mode=be.SHADING_MODE_GOODSELL,\n",
    "    user_parameter=3, glossiness=1.0)"
   ]
  },
  {
   "cell_type": "markdown",
   "metadata": {},
   "source": [
    "## Glycosylation sites"
   ]
  },
  {
   "cell_type": "markdown",
   "metadata": {},
   "source": [
    "### Sites 20, 331 and 343"
   ]
  },
  {
   "cell_type": "code",
   "execution_count": 29,
   "metadata": {},
   "outputs": [],
   "source": [
    "ranges = [20, 20, 331, 331, 343, 343]\n",
    "status = be.set_protein_amino_acid_sequence_as_ranges(\n",
    "    assembly_name=name, name=name, amino_acid_ranges=ranges)\n",
    "\n",
    "status = be.set_protein_color_scheme(\n",
    "    assembly_name=name, name=name,\n",
    "    color_scheme=be.COLOR_SCHEME_AMINO_ACID_SEQUENCE,\n",
    "    palette_name='Set1', palette_size=2)"
   ]
  },
  {
   "cell_type": "markdown",
   "metadata": {},
   "source": [
    "### Sites 165 and 234"
   ]
  },
  {
   "cell_type": "code",
   "execution_count": 30,
   "metadata": {},
   "outputs": [],
   "source": [
    "ranges = [165, 165, 234, 234]\n",
    "status = be.set_protein_amino_acid_sequence_as_ranges(\n",
    "    assembly_name=name, name=name, amino_acid_ranges=ranges)\n",
    "\n",
    "status = be.set_protein_color_scheme(\n",
    "    assembly_name=name, name=name,\n",
    "    color_scheme=be.COLOR_SCHEME_AMINO_ACID_SEQUENCE,\n",
    "    palette_name='Set1', palette_size=2)"
   ]
  },
  {
   "cell_type": "markdown",
   "metadata": {},
   "source": [
    "## Visualization of electromagnetic fields"
   ]
  },
  {
   "cell_type": "code",
   "execution_count": 31,
   "metadata": {},
   "outputs": [],
   "source": [
    "from braynsmediamaker import MovieMaker\n",
    "be = BioExplorer(uri)\n",
    "core = be.core_api()\n",
    "mm = MovieMaker(core)"
   ]
  },
  {
   "cell_type": "code",
   "execution_count": 32,
   "metadata": {},
   "outputs": [],
   "source": [
    "status = be.build_fields(voxel_size=0.01, density=1.0)\n",
    "fields_model_id = core.scene.models[len(core.scene.models)-1]['id']"
   ]
  },
  {
   "cell_type": "code",
   "execution_count": 33,
   "metadata": {},
   "outputs": [],
   "source": [
    "image_size = [2160, 2160]\n",
    "image_samples_per_pixel = 64\n",
    "\n",
    "output_folder = '/gpfs/bbp.cscs.ch/project/proj117/images/BioExplorer/fields/'\n",
    "colormap_folder = resource_folder + 'colormap/'"
   ]
  },
  {
   "cell_type": "code",
   "execution_count": 34,
   "metadata": {},
   "outputs": [],
   "source": [
    "core.set_renderer(\n",
    "    current='bio_explorer_fields',\n",
    "    samples_per_pixel=1, subsampling=4, max_accum_frames=image_samples_per_pixel)\n",
    "\n",
    "params = core.BioExplorerFieldsRendererParams()\n",
    "params.cutoff = 5000\n",
    "params.exposure = 3.0\n",
    "params.alpha_correction = 0.1\n",
    "params.nb_ray_steps = 16\n",
    "params.nb_ray_refinement_steps = image_samples_per_pixel\n",
    "params.use_hardware_randomizer = True\n",
    "status = core.set_renderer_params(params)"
   ]
  },
  {
   "cell_type": "markdown",
   "metadata": {},
   "source": [
    "### Transfer function"
   ]
  },
  {
   "cell_type": "code",
   "execution_count": 37,
   "metadata": {},
   "outputs": [],
   "source": [
    "!pip install ipyTransferFunction"
   ]
  },
  {
   "cell_type": "code",
   "execution_count": 38,
   "metadata": {},
   "outputs": [],
   "source": [
    "from ipyTransferFunction import TransferFunctionEditor\n",
    "def hex_to_rgb(value):\n",
    "    value = value.lstrip('#')\n",
    "    lv = len(value)\n",
    "    return tuple(int(value[i:i + lv // 3], 16) for i in range(0, lv, lv // 3))\n",
    "\n",
    "def update_palette(tf):\n",
    "    intensity = 1\n",
    "    btf = core.get_model_transfer_function(id=fields_model_id)\n",
    "    colors = list()\n",
    "    points = list()\n",
    "    \n",
    "    nb_points = len(tf.alpha_sliders)\n",
    "    step = 1.0 / float(nb_points - 1)\n",
    "    for i in range(nb_points):\n",
    "        color = hex_to_rgb(tf.color_pickers[i].value)\n",
    "        colors.append([\n",
    "            intensity * float(color[0]) / 256.0, \n",
    "            intensity * float(color[1]) / 256.0, \n",
    "            intensity * float(color[2]) / 256.0])\n",
    "        points.append([i * step, tf.alpha_sliders[i].value / 255.0])\n",
    "        \n",
    "    btf['colormap']['name'] = 'TransferFunctionEditor'\n",
    "    btf['colormap']['colors'] = colors\n",
    "    btf['opacity_curve'] = points\n",
    "    btf['range'] = [tf.data_range[0], tf.data_range[1]]\n",
    "    core.set_model_transfer_function(id=fields_model_id, transfer_function=btf)"
   ]
  },
  {
   "cell_type": "code",
   "execution_count": 39,
   "metadata": {
    "scrolled": true
   },
   "outputs": [
    {
     "data": {
      "application/vnd.jupyter.widget-view+json": {
       "model_id": "f0c59d9df14547bdb2415e20abf24e9d",
       "version_major": 2,
       "version_minor": 0
      },
      "text/plain": [
       "VBox(children=(Box(children=(ColorPicker(value='black', concise=True, layout=Layout(height='20px', max_width='…"
      ]
     },
     "metadata": {},
     "output_type": "display_data"
    }
   ],
   "source": [
    "tf = TransferFunctionEditor(\n",
    "    filename=colormap_folder + 'spike_v1.1dt',\n",
    "    on_change=update_palette)\n",
    "tf.set_range((0, 0.008))"
   ]
  },
  {
   "cell_type": "code",
   "execution_count": 40,
   "metadata": {},
   "outputs": [],
   "source": [
    "tf.set_palette('rainbow_r')"
   ]
  },
  {
   "cell_type": "markdown",
   "metadata": {},
   "source": [
    "### Snapshots"
   ]
  },
  {
   "cell_type": "code",
   "execution_count": null,
   "metadata": {},
   "outputs": [],
   "source": [
    "status = core.set_camera(\n",
    "    orientation=[1.0, 0.0, 0.0, 2.83276944882399e-16],\n",
    "    position=[-4.252900666700188, -3.626166005160136, -24.492872000260288],\n",
    "    target=[-4.252900666700188, -3.626166005160124, -0.9517030074466356]\n",
    ")"
   ]
  },
  {
   "cell_type": "code",
   "execution_count": null,
   "metadata": {},
   "outputs": [],
   "source": [
    "mm.create_snapshot(\n",
    "    size=image_size, samples_per_pixel=image_samples_per_pixel,\n",
    "    path=output_folder + '/spike_slice.png')"
   ]
  }
 ],
 "metadata": {
  "kernelspec": {
   "display_name": "Python 3",
   "language": "python",
   "name": "python3"
  },
  "language_info": {
   "codemirror_mode": {
    "name": "ipython",
    "version": 3
   },
   "file_extension": ".py",
   "mimetype": "text/x-python",
   "name": "python",
   "nbconvert_exporter": "python",
   "pygments_lexer": "ipython3",
   "version": "3.8.5"
  }
 },
 "nbformat": 4,
 "nbformat_minor": 4
}
