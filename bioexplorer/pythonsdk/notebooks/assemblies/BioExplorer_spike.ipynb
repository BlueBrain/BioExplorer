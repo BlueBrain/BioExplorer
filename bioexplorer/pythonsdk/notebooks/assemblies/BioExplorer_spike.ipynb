{
 "cells": [
  {
   "cell_type": "markdown",
   "metadata": {},
   "source": [
    "# Blue Brain BioExplorer\n",
    "![](../bioexplorer_banner.png)"
   ]
  },
  {
   "cell_type": "markdown",
   "metadata": {},
   "source": [
    "## Script to create a visualization of the Spike"
   ]
  },
  {
   "cell_type": "code",
   "execution_count": 15,
   "metadata": {},
   "outputs": [
    {
     "name": "stdout",
     "output_type": "stream",
     "text": [
      "1.0.1\n"
     ]
    }
   ],
   "source": [
    "from bioexplorer import BioExplorer, TransferFunction, Protein, \\\n",
    "                        Sugars, Quaternion, MovieMaker\n",
    "be = BioExplorer()\n",
    "core = be.core_api()\n",
    "print(be.version())"
   ]
  },
  {
   "cell_type": "code",
   "execution_count": 16,
   "metadata": {},
   "outputs": [],
   "source": [
    "be.reset()\n",
    "surface = False\n",
    "open_spike = False"
   ]
  },
  {
   "cell_type": "code",
   "execution_count": 10,
   "metadata": {},
   "outputs": [],
   "source": [
    "'''Resources'''\n",
    "resource_folder = '../../tests/test_files/'\n",
    "pdb_folder = resource_folder + 'pdb/'\n",
    "complex_folder = resource_folder + 'pdb/glycans/complex/'\n",
    "colormap_folder = resource_folder + 'colormap/'\n",
    "\n",
    "protein_representation = BioExplorer.REPRESENTATION_ATOMS_AND_STICKS\n",
    "protein_radius_multiplier = 1.0\n",
    "glycan_representation = BioExplorer.REPRESENTATION_ATOMS_AND_STICKS\n",
    "glycan_radius_multiplier = 1.0\n",
    "\n",
    "if surface:\n",
    "    protein_radius_multiplier = 1.0\n",
    "    protein_representation = BioExplorer.REPRESENTATION_SURFACE\n",
    "    glycan_representation = BioExplorer.REPRESENTATION_ATOMS_AND_STICKS"
   ]
  },
  {
   "cell_type": "code",
   "execution_count": 11,
   "metadata": {},
   "outputs": [],
   "source": [
    "'''Default side view'''\n",
    "status = core.set_camera(\n",
    "    orientation=[0.0, 0.0, -1.0, 0.0],\n",
    "    position=[0.019, 0.295, 28.535],\n",
    "    target=[0.019, 0.295, 1.440]\n",
    ")"
   ]
  },
  {
   "cell_type": "code",
   "execution_count": 12,
   "metadata": {},
   "outputs": [],
   "source": [
    "'''Protein'''\n",
    "source = pdb_folder + 'sars-cov-2-v1.pdb'\n",
    "if open_spike:\n",
    "    source = pdb_folder + '6vyb.pdb'\n",
    "    \n",
    "spike = Protein(\n",
    "    sources=[source],\n",
    "    load_hydrogen=False,\n",
    "    load_non_polymer_chemicals=False,\n",
    ")\n",
    "\n",
    "name = be.NAME_PROTEIN_S_CLOSED\n",
    "if open_spike:\n",
    "    name = be.NAME_PROTEIN_S_OPEN\n",
    "status = be.add_protein(\n",
    "    name=name, protein=spike,\n",
    "    atom_radius_multiplier=protein_radius_multiplier,\n",
    "    representation=protein_representation,\n",
    ")\n",
    "be.apply_default_color_scheme(be.SHADING_MODE_BASIC)"
   ]
  },
  {
   "cell_type": "markdown",
   "metadata": {},
   "source": [
    "## Add glycans to protein"
   ]
  },
  {
   "cell_type": "code",
   "execution_count": 13,
   "metadata": {},
   "outputs": [],
   "source": [
    "glycan_folder = pdb_folder + 'glycans/'\n",
    "complex_paths = [glycan_folder + 'complex/33.pdb', glycan_folder + 'complex/34.pdb',\n",
    "                 glycan_folder + 'complex/35.pdb',glycan_folder + 'complex/36.pdb']\n",
    "high_mannose_paths = [glycan_folder + 'high-mannose/1.pdb', \n",
    "                      glycan_folder + 'high-mannose/2.pdb',\n",
    "                      glycan_folder + 'high-mannose/3.pdb',\n",
    "                      glycan_folder + 'high-mannose/4.pdb']\n",
    "hybrid_paths = [glycan_folder + 'hybrid/24.pdb']\n",
    "o_glycan_paths = [glycan_folder + 'o-glycan/12.pdb']"
   ]
  },
  {
   "cell_type": "markdown",
   "metadata": {},
   "source": [
    "### High mannose"
   ]
  },
  {
   "cell_type": "code",
   "execution_count": null,
   "metadata": {},
   "outputs": [],
   "source": [
    "indices = [61, 122, 234, 603, 709, 717, 801, 1074]\n",
    "\n",
    "high_mannose_glycans = Sugars(\n",
    "    rotation=Quaternion(0.707, 0.0, 0.0, 0.707),\n",
    "    assembly_name=name, name=be.NAME_GLYCAN_HIGH_MANNOSE, \n",
    "    protein_name=name, source=high_mannose_paths[0], \n",
    "    site_indices=indices,\n",
    "    representation=glycan_representation,\n",
    "    atom_radius_multiplier=glycan_radius_multiplier\n",
    ")\n",
    "status = be.add_glycans(high_mannose_glycans)\n",
    "be.apply_default_color_scheme(be.SHADING_MODE_BASIC)"
   ]
  },
  {
   "cell_type": "markdown",
   "metadata": {},
   "source": [
    "### O-Glycans"
   ]
  },
  {
   "cell_type": "code",
   "execution_count": null,
   "metadata": {},
   "outputs": [],
   "source": [
    "protein_name = be.NAME_PROTEIN_S_CLOSED\n",
    "if open_spike:\n",
    "    protein_name = be.NAME_PROTEIN_S_OPEN\n",
    "    \n",
    "for index in [323, 325]:\n",
    "    o_glycan_name = name + '_' + be.NAME_GLYCAN_O_GLYCAN + '_' + str(index)\n",
    "    o_glycan = Sugars(\n",
    "        assembly_name=name, name=o_glycan_name, source=o_glycan_paths[0],\n",
    "        protein_name=protein_name, site_indices=[index],\n",
    "        representation=glycan_representation)\n",
    "    be.add_sugars(o_glycan)\n",
    "be.apply_default_color_scheme(be.SHADING_MODE_BASIC)"
   ]
  },
  {
   "cell_type": "markdown",
   "metadata": {},
   "source": [
    "### Complex"
   ]
  },
  {
   "cell_type": "code",
   "execution_count": null,
   "metadata": {},
   "outputs": [],
   "source": [
    "indices = [17, 74, 149, 165, 282, 331, 343, 616, 657, 1098, 1134, 1158, 1173, 1194]\n",
    "if open_spike:\n",
    "    indices = [17, 74, 149, 165, 282, 331, 343, 657, 1098, 1134, 1158, 1173, 1194]\n",
    "\n",
    "complex_glycans = Sugars(\n",
    "    rotation=Quaternion(0.0, 0.0, 0.0, 1.0),\n",
    "    assembly_name=name, name=be.NAME_GLYCAN_COMPLEX, \n",
    "    protein_name=name, source=complex_paths[0], \n",
    "    site_indices=indices,\n",
    "    representation=glycan_representation,\n",
    "    atom_radius_multiplier=glycan_radius_multiplier\n",
    ")\n",
    "status = be.add_glycans(complex_glycans)\n",
    "be.apply_default_color_scheme(be.SHADING_MODE_BASIC)"
   ]
  },
  {
   "cell_type": "markdown",
   "metadata": {},
   "source": [
    "## Rendering settings"
   ]
  },
  {
   "cell_type": "code",
   "execution_count": null,
   "metadata": {},
   "outputs": [],
   "source": [
    "status = be.set_rendering_quality(be.RENDERING_QUALITY_HIGH)"
   ]
  },
  {
   "cell_type": "markdown",
   "metadata": {},
   "source": [
    "## Snaphots"
   ]
  },
  {
   "cell_type": "code",
   "execution_count": null,
   "metadata": {},
   "outputs": [],
   "source": [
    "output_folder = '/tmp/'\n",
    "image_size = [1024, 1024]\n",
    "image_spp = 64"
   ]
  },
  {
   "cell_type": "code",
   "execution_count": null,
   "metadata": {},
   "outputs": [],
   "source": [
    "def generate_snapshot(top_view, keywords):\n",
    "\n",
    "    '''Define path'''\n",
    "    base_name = 'protein_s'\n",
    "    if open_spike:\n",
    "        base_name += '_open'\n",
    "    else:\n",
    "        base_name += '_closed'\n",
    "    if surface:\n",
    "        base_name += '_surface'\n",
    "    if top_view:\n",
    "        base_name += '_top'\n",
    "    else:\n",
    "        base_name += '_side'\n",
    "    for keyword in keywords:\n",
    "        base_name += '_' + keyword\n",
    "    print('Exporting to ' + output_folder + '/' + base_name + '.png')\n",
    "        \n",
    "    '''Camera'''\n",
    "    if top_view:\n",
    "        status = core.set_camera(\n",
    "            orientation=[0.5, -0.5, 0.5, 0.5],\n",
    "            position=[0.360, -26.702, 0.346],\n",
    "            target=[0.360, 0.172, 0.346]    \n",
    "        )\n",
    "    else:\n",
    "        if open_spike:\n",
    "            status = core.set_camera(\n",
    "                orientation=[1.0, 0.0, 0.0, 0.0],\n",
    "                position=[-1.117, -0.561, -25.184],\n",
    "                target=[-1.117, -0.561, 0.620]    \n",
    "            )\n",
    "        else:\n",
    "            status = core.set_camera(\n",
    "                orientation=[0.707, 0.0, -0.707, 0.0],\n",
    "                position=[-26.348, 0.172, 0.620],\n",
    "                target=[-2.728, 0.172, 0.620]\n",
    "            )\n",
    "    \n",
    "    '''Snapshot'''\n",
    "    from mediamaker import MovieMaker\n",
    "    mm = MovieMaker(be)\n",
    "    mm.create_snapshot(\n",
    "        path=output_folder, base_name=base_name,\n",
    "        size=image_size, samples_per_pixel=image_spp)"
   ]
  },
  {
   "cell_type": "markdown",
   "metadata": {},
   "source": [
    "### Functional regions"
   ]
  },
  {
   "cell_type": "code",
   "execution_count": null,
   "metadata": {},
   "outputs": [],
   "source": [
    "def apply_functional_regions_color_scheme():\n",
    "    '''RGB color palette for amino acid indices'''\n",
    "    l = 0.2\n",
    "    h = 1.0\n",
    "    grey = [l,l,l]\n",
    "    dark_green = [0.0, l, 0.0]\n",
    "    light_green = [0.0, h, 0.0]\n",
    "    red = [h, 0.0, 0.0]\n",
    "    green = [0.0, h, 0.0]\n",
    "    blue = [0.0, 0.0, h]\n",
    "    orange = [h, h/2.0, 0.0]\n",
    "    cyan = [h, 0.0, h]\n",
    "\n",
    "    region_indices_and_colors = [\n",
    "        [   1, grey ], [   16, blue], [  306, grey], [  330, green], [438, dark_green], \n",
    "        [ 507, green], [  522, grey], [  816, red ], [  835, grey ], [908, orange],\n",
    "        [ 986, grey ], [ 1076, cyan], [ 1274, grey], [ 2000, grey ]\n",
    "    ]\n",
    "\n",
    "    '''Build a palette according to region colors'''\n",
    "    palette = list()\n",
    "    for index in range(len(region_indices_and_colors)-1):\n",
    "        for i in range(region_indices_and_colors[index + 1][0] - \n",
    "                       region_indices_and_colors[index][0]):\n",
    "            palette.append(region_indices_and_colors[index][1])\n",
    "\n",
    "    '''Apply palette to other chains'''\n",
    "    status = be.set_protein_color_scheme(\n",
    "        assembly_name=name, name=name, \n",
    "        color_scheme=be.COLOR_SCHEME_CHAINS,\n",
    "        palette_name='Greys_r', palette_size=5)\n",
    "\n",
    "    '''Apply palette to region color scheme (optional: only for chain #2)'''\n",
    "    status = be.set_protein_color_scheme(\n",
    "        assembly_name=name, name=name, \n",
    "        color_scheme=be.COLOR_SCHEME_REGION, palette=palette,\n",
    "    #     chain_ids=[2]\n",
    "    )\n",
    "    \n",
    "apply_functional_regions_color_scheme()"
   ]
  },
  {
   "cell_type": "code",
   "execution_count": null,
   "metadata": {},
   "outputs": [],
   "source": [
    "generate_snapshot(False, ['glycans', 'with_regions'])"
   ]
  },
  {
   "cell_type": "code",
   "execution_count": null,
   "metadata": {},
   "outputs": [],
   "source": [
    "generate_snapshot(True, ['glycans', 'with_regions'])"
   ]
  },
  {
   "cell_type": "markdown",
   "metadata": {},
   "source": [
    "### No functional regions"
   ]
  },
  {
   "cell_type": "code",
   "execution_count": null,
   "metadata": {},
   "outputs": [],
   "source": [
    "status = be.set_protein_color_scheme(\n",
    "    assembly_name=name, name=name,\n",
    "    color_scheme=be.COLOR_SCHEME_CHAINS,\n",
    "    palette_name='binary_r', palette_size=10)"
   ]
  },
  {
   "cell_type": "code",
   "execution_count": null,
   "metadata": {},
   "outputs": [],
   "source": [
    "generate_snapshot(False, ['glycans'])"
   ]
  },
  {
   "cell_type": "code",
   "execution_count": null,
   "metadata": {},
   "outputs": [],
   "source": [
    "generate_snapshot(True, ['glycans'])"
   ]
  },
  {
   "cell_type": "markdown",
   "metadata": {},
   "source": [
    "## Brazilian variant"
   ]
  },
  {
   "cell_type": "markdown",
   "metadata": {},
   "source": [
    "### Modify amino acid sequence"
   ]
  },
  {
   "cell_type": "code",
   "execution_count": null,
   "metadata": {},
   "outputs": [],
   "source": [
    "modified_aa_index = 20\n",
    "status = be.set_protein_amino_acid(\n",
    "    assembly_name=name, name=name,\n",
    "    index=modified_aa_index - 1,\n",
    "    amino_acid_short_name='ASN'\n",
    ")\n",
    "\n",
    "indices = [modified_aa_index]\n",
    "glycan_variant_name = be.NAME_GLYCAN_COMPLEX + '_variant'\n",
    "complex_glycans = Sugars(\n",
    "    assembly_name=name, name=glycan_variant_name,\n",
    "    protein_name=name, source=complex_paths[0], \n",
    "    site_indices=indices,\n",
    "    representation=glycan_representation,\n",
    "    atom_radius_multiplier=glycan_radius_multiplier\n",
    ")\n",
    "status = be.add_glycans(complex_glycans)"
   ]
  },
  {
   "cell_type": "code",
   "execution_count": null,
   "metadata": {},
   "outputs": [],
   "source": [
    "for model in core.scene.models:\n",
    "    model_id = model['id']\n",
    "    model_name = model['name']\n",
    "    if model_name == glycan_variant_name:\n",
    "        material_ids = list(be.get_material_ids(model_id)['ids'])\n",
    "        nb_materials = len(material_ids)\n",
    "        print(model_name)\n",
    "        palette = list()\n",
    "        for i in range(nb_materials):\n",
    "            palette.append([1, 0.2, 0.2])\n",
    "        be.set_materials(\n",
    "            model_ids=[model_id], material_ids=material_ids,\n",
    "            diffuse_colors=palette, specular_colors=palette\n",
    "        )        "
   ]
  },
  {
   "cell_type": "markdown",
   "metadata": {},
   "source": [
    "### Snapshots"
   ]
  },
  {
   "cell_type": "code",
   "execution_count": null,
   "metadata": {},
   "outputs": [],
   "source": [
    "apply_functional_regions_color_scheme()"
   ]
  },
  {
   "cell_type": "code",
   "execution_count": null,
   "metadata": {},
   "outputs": [],
   "source": [
    "generate_snapshot(False, ['glycans', 'with_regions', 'brazilian_variant_red'])"
   ]
  },
  {
   "cell_type": "code",
   "execution_count": null,
   "metadata": {},
   "outputs": [],
   "source": [
    "generate_snapshot(True, ['glycans', 'with_regions', 'brazilian_variant_red'])"
   ]
  },
  {
   "cell_type": "markdown",
   "metadata": {},
   "source": [
    "### Restore initial amino acid sequence"
   ]
  },
  {
   "cell_type": "code",
   "execution_count": null,
   "metadata": {},
   "outputs": [],
   "source": [
    "modified_aa_index = 20\n",
    "status = be.set_protein_amino_acid(\n",
    "    assembly_name=name, name=name,\n",
    "    index=modified_aa_index - 1,\n",
    "    amino_acid_short_name='THR'\n",
    ")\n",
    "\n",
    "status = be.set_protein_color_scheme(\n",
    "    assembly_name=name, name=name,\n",
    "    color_scheme=be.COLOR_SCHEME_GLYCOSYLATION_SITE,\n",
    "    palette_name='Set1', palette_size=2)"
   ]
  },
  {
   "cell_type": "markdown",
   "metadata": {},
   "source": [
    "## Stylish"
   ]
  },
  {
   "cell_type": "code",
   "execution_count": null,
   "metadata": {},
   "outputs": [],
   "source": [
    "be.apply_default_color_scheme(\n",
    "    shading_mode=be.SHADING_MODE_PERLIN,\n",
    "    user_parameter=0.03, specular_exponent=5, glossiness=0.1)"
   ]
  },
  {
   "cell_type": "code",
   "execution_count": null,
   "metadata": {},
   "outputs": [],
   "source": [
    "be.apply_default_color_scheme(\n",
    "    shading_mode=be.SHADING_MODE_ELECTRON,\n",
    "    user_parameter=1, glossiness=1.0)"
   ]
  },
  {
   "cell_type": "code",
   "execution_count": null,
   "metadata": {},
   "outputs": [],
   "source": [
    "be.apply_default_color_scheme(\n",
    "    shading_mode=be.SHADING_MODE_GOODSELL,\n",
    "    user_parameter=3, glossiness=1.0)"
   ]
  },
  {
   "cell_type": "markdown",
   "metadata": {},
   "source": [
    "## Glycosylation sites"
   ]
  },
  {
   "cell_type": "markdown",
   "metadata": {},
   "source": [
    "### Sites 20, 331 and 343"
   ]
  },
  {
   "cell_type": "code",
   "execution_count": null,
   "metadata": {},
   "outputs": [],
   "source": [
    "ranges = [20, 20, 331, 331, 343, 343]\n",
    "status = be.set_protein_amino_acid_sequence_as_ranges(\n",
    "    assembly_name=name, name=name, amino_acid_ranges=ranges)\n",
    "\n",
    "status = be.set_protein_color_scheme(\n",
    "    assembly_name=name, name=name,\n",
    "    color_scheme=be.COLOR_SCHEME_AMINO_ACID_SEQUENCE,\n",
    "    palette_name='Set1', palette_size=2)"
   ]
  },
  {
   "cell_type": "markdown",
   "metadata": {},
   "source": [
    "### Sites 165 and 234"
   ]
  },
  {
   "cell_type": "code",
   "execution_count": null,
   "metadata": {},
   "outputs": [],
   "source": [
    "ranges = [165, 165, 234, 234]\n",
    "status = be.set_protein_amino_acid_sequence_as_ranges(\n",
    "    assembly_name=name, name=name, amino_acid_ranges=ranges)\n",
    "\n",
    "status = be.set_protein_color_scheme(\n",
    "    assembly_name=name, name=name,\n",
    "    color_scheme=be.COLOR_SCHEME_AMINO_ACID_SEQUENCE,\n",
    "    palette_name='Set1', palette_size=2)"
   ]
  },
  {
   "cell_type": "markdown",
   "metadata": {},
   "source": [
    "## Visualization of electromagnetic fields"
   ]
  },
  {
   "cell_type": "code",
   "execution_count": 14,
   "metadata": {},
   "outputs": [
    {
     "data": {
      "application/vnd.jupyter.widget-view+json": {
       "model_id": "8b2a4929abc541418808f2b0b5f97f2d",
       "version_major": 2,
       "version_minor": 0
      },
      "text/plain": [
       "VBox(children=(Box(children=(ColorPicker(value='black', concise=True, layout=Layout(height='20px', max_width='…"
      ]
     },
     "metadata": {},
     "output_type": "display_data"
    },
    {
     "data": {
      "text/plain": [
       "<bioexplorer.transfer_function.TransferFunction at 0x7fbf6e397d00>"
      ]
     },
     "execution_count": 14,
     "metadata": {},
     "output_type": "execute_result"
    }
   ],
   "source": [
    "be.go_magnetic(\n",
    "    colormap_filename=colormap_folder + 'spike_v1.1dt')"
   ]
  },
  {
   "cell_type": "markdown",
   "metadata": {},
   "source": [
    "### Snapshots"
   ]
  },
  {
   "cell_type": "code",
   "execution_count": null,
   "metadata": {},
   "outputs": [],
   "source": [
    "status = core.set_camera(\n",
    "    orientation=[1.0, 0.0, 0.0, 0.0],\n",
    "    position=[-4.252, -3.626, -24.492],\n",
    "    target=[-4.252, -3.626, -0.951]\n",
    ")"
   ]
  },
  {
   "cell_type": "code",
   "execution_count": null,
   "metadata": {},
   "outputs": [],
   "source": [
    "mm = MovieMaker(be)\n",
    "mm.create_snapshot(\n",
    "    size=[512, 512], samples_per_pixel=image_samples_per_pixel,\n",
    "    path='/tmp', base_name='spike_slice')"
   ]
  }
 ],
 "metadata": {
  "kernelspec": {
   "display_name": "Python 3",
   "language": "python",
   "name": "python3"
  },
  "language_info": {
   "codemirror_mode": {
    "name": "ipython",
    "version": 3
   },
   "file_extension": ".py",
   "mimetype": "text/x-python",
   "name": "python",
   "nbconvert_exporter": "python",
   "pygments_lexer": "ipython3",
   "version": "3.8.5"
  }
 },
 "nbformat": 4,
 "nbformat_minor": 4
}
