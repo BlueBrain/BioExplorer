{
 "cells": [
  {
   "cell_type": "markdown",
   "metadata": {},
   "source": [
    "# Blue Brain BioExplorer\n",
    "\n",
    "![](../bioexplorer_banner.png)"
   ]
  },
  {
   "cell_type": "markdown",
   "metadata": {},
   "source": [
    "## Cell with ion channels"
   ]
  },
  {
   "cell_type": "code",
   "execution_count": null,
   "metadata": {},
   "outputs": [],
   "source": [
    "from bioexplorer import BioExplorer, Protein, Membrane, Cell, RandomizationParams, Vector3, Quaternion\n",
    "be = BioExplorer()\n",
    "core = be.core_api()\n",
    "status = be.reset_scene()\n",
    "be.set_general_settings(model_visibility_on_creation=True)"
   ]
  },
  {
   "cell_type": "code",
   "execution_count": null,
   "metadata": {},
   "outputs": [],
   "source": [
    "name = 'Cell'\n",
    "representation=be.REPRESENTATION_ATOMS_AND_STICKS\n",
    "atom_radius_multiplier = 1.0\n",
    "\n",
    "# Resources\n",
    "resource_folder = '../../tests/test_files/'\n",
    "pdb_folder = resource_folder + 'pdb/'\n",
    "membrane_folder = pdb_folder + 'membrane/'\n",
    "ion_channels_folder = pdb_folder + 'ion_channels/'\n",
    "\n",
    "# ACE2 receptor definition\n",
    "ion_channel = Protein(\n",
    "    name=name + '_' + BioExplorer.NAME_ION_CHANNEL,\n",
    "    source=ion_channels_folder + 'AF-B1AWN6.pdb',\n",
    "    occurences=5, position=Vector3(0.0, 0.0, 0.0),\n",
    "    rotation=Quaternion(0, 0, 1, 0),\n",
    "    load_non_polymer_chemicals=False,\n",
    ")\n",
    "\n",
    "# Membrane definition\n",
    "membrane_size = Vector3(100.0, 8.0, 100.0)\n",
    "membrane = Membrane(\n",
    "    lipid_sources=[\n",
    "        membrane_folder + 'segA.pdb',\n",
    "        membrane_folder + 'segB.pdb',\n",
    "        membrane_folder + 'segC.pdb',\n",
    "        membrane_folder + 'segD.pdb'\n",
    "    ],\n",
    "    random_params=RandomizationParams(0, 1, 0.5, 2, 0.5)\n",
    ")\n",
    "\n",
    "# Cell definition\n",
    "cell = Cell(\n",
    "    name=name,\n",
    "    shape=be.ASSEMBLY_SHAPE_SINUSOID,\n",
    "    shape_params = membrane_size,\n",
    "    membrane=membrane,\n",
    "    proteins=[ion_channel])\n",
    "\n",
    "# Add cell to scene\n",
    "status = be.add_cell(\n",
    "    cell=cell, representation=representation,\n",
    "    atom_radius_multiplier=atom_radius_multiplier)\n",
    "\n",
    "be.apply_default_color_scheme(\n",
    "    shading_mode=be.SHADING_MODE_DIFFUSE,\n",
    "    specular_exponent=50.0\n",
    ")"
   ]
  },
  {
   "cell_type": "code",
   "execution_count": null,
   "metadata": {},
   "outputs": [],
   "source": [
    "status = be.set_protein_color_scheme(\n",
    "    assembly_name=name,\n",
    "    name=name + '_' + BioExplorer.NAME_ION_CHANNEL,\n",
    "    color_scheme=BioExplorer.COLOR_SCHEME_CHAINS,\n",
    "    palette_name='Set3', palette_size=3\n",
    ")"
   ]
  },
  {
   "cell_type": "code",
   "execution_count": null,
   "metadata": {},
   "outputs": [],
   "source": [
    "status = core.set_camera(\n",
    "    orientation=[-0.298, -0.328, -0.076, 0.892],\n",
    "    position=[-105.37947598005452, 101.85359991498215, 120.69225266060364],\n",
    "    target=[4.306267491056144, -16.428973285137587, -1.9142757282462584]\n",
    ")"
   ]
  },
  {
   "cell_type": "markdown",
   "metadata": {},
   "source": [
    "## Rendering settings"
   ]
  },
  {
   "cell_type": "code",
   "execution_count": null,
   "metadata": {},
   "outputs": [],
   "source": [
    "status = be.set_rendering_quality(be.RENDERING_QUALITY_HIGH)"
   ]
  },
  {
   "cell_type": "markdown",
   "metadata": {},
   "source": [
    "## Materials"
   ]
  },
  {
   "cell_type": "code",
   "execution_count": null,
   "metadata": {},
   "outputs": [],
   "source": [
    "be.apply_default_color_scheme(be.SHADING_MODE_BASIC)"
   ]
  },
  {
   "cell_type": "markdown",
   "metadata": {},
   "source": [
    "## Snaphot"
   ]
  },
  {
   "cell_type": "code",
   "execution_count": null,
   "metadata": {},
   "outputs": [],
   "source": [
    "from bioexplorer import MovieMaker\n",
    "mm = MovieMaker(be)\n",
    "mm.create_snapshot(\n",
    "    renderer='bio_explorer',\n",
    "    path='/tmp', base_name='ion_channels_in_membrane_surface',\n",
    "    size=[512, 512], samples_per_pixel=64)"
   ]
  }
 ],
 "metadata": {
  "kernelspec": {
   "display_name": "Python 3",
   "language": "python",
   "name": "python3"
  },
  "language_info": {
   "codemirror_mode": {
    "name": "ipython",
    "version": 3
   },
   "file_extension": ".py",
   "mimetype": "text/x-python",
   "name": "python",
   "nbconvert_exporter": "python",
   "pygments_lexer": "ipython3",
   "version": "3.8.10"
  }
 },
 "nbformat": 4,
 "nbformat_minor": 4
}
