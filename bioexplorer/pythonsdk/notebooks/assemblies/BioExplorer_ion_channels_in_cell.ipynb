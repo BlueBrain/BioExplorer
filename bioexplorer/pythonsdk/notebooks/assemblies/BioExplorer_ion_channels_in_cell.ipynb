{
 "cells": [
  {
   "cell_type": "markdown",
   "metadata": {},
   "source": [
    "# Blue Brain BioExplorer\n",
    "\n",
    "![](../bioexplorer_banner.png)"
   ]
  },
  {
   "cell_type": "markdown",
   "metadata": {},
   "source": [
    "## Cell with ion channels"
   ]
  },
  {
   "cell_type": "code",
   "execution_count": null,
   "metadata": {},
   "outputs": [],
   "source": [
    "from bioexplorer import BioExplorer, Protein, ParametricMembrane, Cell, Vector2, Vector3, Quaternion\n",
    "be = BioExplorer()\n",
    "core = be.core_api()\n",
    "status = be.reset()"
   ]
  },
  {
   "cell_type": "code",
   "execution_count": null,
   "metadata": {},
   "outputs": [],
   "source": [
    "name = 'Cell'\n",
    "representation=be.REPRESENTATION_ATOMS_AND_STICKS\n",
    "atom_radius_multiplier = 1.0\n",
    "\n",
    "# Resources\n",
    "resource_folder = '../../tests/test_files/'\n",
    "pdb_folder = resource_folder + 'pdb/'\n",
    "membrane_folder = pdb_folder + 'membrane/'\n",
    "ion_channels_folder = pdb_folder + 'ion_channels/'\n",
    "\n",
    "# ACE2 receptor definition\n",
    "ion_channel = Protein(\n",
    "    sources=[ion_channels_folder + 'AF-B1AWN6.pdb'],\n",
    "    occurences=5, position=Vector3(0.0, 0.0, 0.0),\n",
    "    rotation=Quaternion(0, 0, 1, 0),\n",
    "    load_non_polymer_chemicals=False,\n",
    ")\n",
    "\n",
    "# Membrane definition\n",
    "membrane_size = 100.0\n",
    "membrane_height = 8.0\n",
    "membrane = ParametricMembrane(\n",
    "    sources=[\n",
    "        membrane_folder + 'segA.pdb',\n",
    "        membrane_folder + 'segB.pdb',\n",
    "        membrane_folder + 'segC.pdb',\n",
    "        membrane_folder + 'segD.pdb'\n",
    "    ],\n",
    "    occurences=4000\n",
    ")\n",
    "\n",
    "# Cell definition\n",
    "cell = Cell(\n",
    "    name=name,\n",
    "    size=Vector2(membrane_size, membrane_size),\n",
    "    shape=be.ASSEMBLY_SHAPE_SINUSOIDAL,\n",
    "    extra_parameters=[membrane_height],\n",
    "    membrane=membrane,\n",
    "    random_position_seed=1, random_position_strength=0.5,\n",
    "    random_rotation_seed=2, random_rotation_strength=0.5,\n",
    "    receptor=ion_channel)\n",
    "\n",
    "# Add cell to scene\n",
    "status = be.add_cell(\n",
    "    cell=cell, representation=representation,\n",
    "    atom_radius_multiplier=atom_radius_multiplier,\n",
    "    random_seed=1)\n",
    "\n",
    "be.apply_default_color_scheme(\n",
    "    shading_mode=be.SHADING_MODE_DIFFUSE,\n",
    "    specular_exponent=50.0\n",
    ")"
   ]
  },
  {
   "cell_type": "code",
   "execution_count": null,
   "metadata": {},
   "outputs": [],
   "source": [
    "status = be.set_protein_color_scheme(\n",
    "    assembly_name=name,\n",
    "    name=name + '_' + BioExplorer.NAME_RECEPTOR,\n",
    "    color_scheme=BioExplorer.COLOR_SCHEME_CHAINS,\n",
    "    palette_name='Set3', palette_size=3\n",
    ")"
   ]
  },
  {
   "cell_type": "code",
   "execution_count": null,
   "metadata": {},
   "outputs": [],
   "source": [
    "status = core.set_camera(\n",
    "    orientation=[-0.298, -0.328, -0.076, 0.892],\n",
    "    position=[-105.37947598005452, 101.85359991498215, 120.69225266060364],\n",
    "    target=[4.306267491056144, -16.428973285137587, -1.9142757282462584]\n",
    ")"
   ]
  },
  {
   "cell_type": "markdown",
   "metadata": {},
   "source": [
    "## Rendering settings"
   ]
  },
  {
   "cell_type": "code",
   "execution_count": null,
   "metadata": {},
   "outputs": [],
   "source": [
    "status = be.set_rendering_quality(be.RENDERING_QUALITY_HIGH)"
   ]
  },
  {
   "cell_type": "markdown",
   "metadata": {},
   "source": [
    "## Materials"
   ]
  },
  {
   "cell_type": "code",
   "execution_count": null,
   "metadata": {},
   "outputs": [],
   "source": [
    "be.apply_default_color_scheme(be.SHADING_MODE_BASIC)"
   ]
  },
  {
   "cell_type": "markdown",
   "metadata": {},
   "source": [
    "## Snaphot"
   ]
  },
  {
   "cell_type": "code",
   "execution_count": null,
   "metadata": {},
   "outputs": [],
   "source": [
    "from bioexplorer import MovieMaker\n",
    "mm = MovieMaker(be)\n",
    "mm.create_snapshot(\n",
    "    path='/tmp', base_name='ion_channels_in_membrane_surface',\n",
    "    size=[512, 512], samples_per_pixel=64)"
   ]
  }
 ],
 "metadata": {
  "kernelspec": {
   "display_name": "Python 3",
   "language": "python",
   "name": "python3"
  },
  "language_info": {
   "codemirror_mode": {
    "name": "ipython",
    "version": 3
   },
   "file_extension": ".py",
   "mimetype": "text/x-python",
   "name": "python",
   "nbconvert_exporter": "python",
   "pygments_lexer": "ipython3",
   "version": "3.8.10"
  }
 },
 "nbformat": 4,
 "nbformat_minor": 4
}
