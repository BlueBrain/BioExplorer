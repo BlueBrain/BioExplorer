{
 "cells": [
  {
   "cell_type": "markdown",
   "metadata": {},
   "source": [
    "# Blue Brain BioExplorer\n",
    "\n",
    "![](../bioexplorer_banner.png)"
   ]
  },
  {
   "cell_type": "markdown",
   "metadata": {},
   "source": [
    "## Visualization of a Coronavirus"
   ]
  },
  {
   "cell_type": "code",
   "execution_count": 1,
   "metadata": {
    "scrolled": true
   },
   "outputs": [
    {
     "ename": "RuntimeError",
     "evalue": "Wrong version of the back-end (1.3.0). Use version 1.2.1 for this version of the BioExplorer python library",
     "output_type": "error",
     "traceback": [
      "\u001b[0;31m---------------------------------------------------------------------------\u001b[0m",
      "\u001b[0;31mRuntimeError\u001b[0m                              Traceback (most recent call last)",
      "\u001b[1;32m/home/favreau/git/BioExplorer/bioexplorer/pythonsdk/notebooks/assemblies/BioExplorer_coronavirus.ipynb Cell 3'\u001b[0m in \u001b[0;36m<cell line: 3>\u001b[0;34m()\u001b[0m\n\u001b[1;32m      <a href='vscode-notebook-cell:/home/favreau/git/BioExplorer/bioexplorer/pythonsdk/notebooks/assemblies/BioExplorer_coronavirus.ipynb#ch0000002?line=0'>1</a>\u001b[0m \u001b[39mfrom\u001b[39;00m \u001b[39mbioexplorer\u001b[39;00m \u001b[39mimport\u001b[39;00m BioExplorer\n\u001b[1;32m      <a href='vscode-notebook-cell:/home/favreau/git/BioExplorer/bioexplorer/pythonsdk/notebooks/assemblies/BioExplorer_coronavirus.ipynb#ch0000002?line=1'>2</a>\u001b[0m \u001b[39mimport\u001b[39;00m \u001b[39mos\u001b[39;00m\n\u001b[0;32m----> <a href='vscode-notebook-cell:/home/favreau/git/BioExplorer/bioexplorer/pythonsdk/notebooks/assemblies/BioExplorer_coronavirus.ipynb#ch0000002?line=2'>3</a>\u001b[0m be \u001b[39m=\u001b[39m BioExplorer(\u001b[39m'\u001b[39;49m\u001b[39mlocalhost:5000\u001b[39;49m\u001b[39m'\u001b[39;49m)\n\u001b[1;32m      <a href='vscode-notebook-cell:/home/favreau/git/BioExplorer/bioexplorer/pythonsdk/notebooks/assemblies/BioExplorer_coronavirus.ipynb#ch0000002?line=3'>4</a>\u001b[0m status \u001b[39m=\u001b[39m be\u001b[39m.\u001b[39mreset_scene()\n\u001b[1;32m      <a href='vscode-notebook-cell:/home/favreau/git/BioExplorer/bioexplorer/pythonsdk/notebooks/assemblies/BioExplorer_coronavirus.ipynb#ch0000002?line=4'>5</a>\u001b[0m \u001b[39mprint\u001b[39m(be\u001b[39m.\u001b[39mversion())\n",
      "File \u001b[0;32m~/Notebooks/env/lib/python3.8/site-packages/bioexplorer/bio_explorer.py:314\u001b[0m, in \u001b[0;36mBioExplorer.__init__\u001b[0;34m(self, url)\u001b[0m\n\u001b[1;32m    <a href='file:///home/favreau/Notebooks/env/lib/python3.8/site-packages/bioexplorer/bio_explorer.py?line=311'>312</a>\u001b[0m backend_version \u001b[39m=\u001b[39m \u001b[39mself\u001b[39m\u001b[39m.\u001b[39mversion()\n\u001b[1;32m    <a href='file:///home/favreau/Notebooks/env/lib/python3.8/site-packages/bioexplorer/bio_explorer.py?line=312'>313</a>\u001b[0m \u001b[39mif\u001b[39;00m __version__ \u001b[39m!=\u001b[39m backend_version:\n\u001b[0;32m--> <a href='file:///home/favreau/Notebooks/env/lib/python3.8/site-packages/bioexplorer/bio_explorer.py?line=313'>314</a>\u001b[0m     \u001b[39mraise\u001b[39;00m \u001b[39mRuntimeError\u001b[39;00m(\n\u001b[1;32m    <a href='file:///home/favreau/Notebooks/env/lib/python3.8/site-packages/bioexplorer/bio_explorer.py?line=314'>315</a>\u001b[0m         \u001b[39m\"\u001b[39m\u001b[39mWrong version of the back-end (\u001b[39m\u001b[39m\"\u001b[39m \u001b[39m+\u001b[39m backend_version \u001b[39m+\u001b[39m\n\u001b[1;32m    <a href='file:///home/favreau/Notebooks/env/lib/python3.8/site-packages/bioexplorer/bio_explorer.py?line=315'>316</a>\u001b[0m         \u001b[39m\"\u001b[39m\u001b[39m). Use version \u001b[39m\u001b[39m\"\u001b[39m \u001b[39m+\u001b[39m __version__ \u001b[39m+\u001b[39m\n\u001b[1;32m    <a href='file:///home/favreau/Notebooks/env/lib/python3.8/site-packages/bioexplorer/bio_explorer.py?line=316'>317</a>\u001b[0m         \u001b[39m\"\u001b[39m\u001b[39m for this version of the BioExplorer python library\u001b[39m\u001b[39m\"\u001b[39m)\n",
      "\u001b[0;31mRuntimeError\u001b[0m: Wrong version of the back-end (1.3.0). Use version 1.2.1 for this version of the BioExplorer python library"
     ]
    }
   ],
   "source": [
    "from bioexplorer import BioExplorer\n",
    "import os\n",
    "be = BioExplorer('localhost:5000')\n",
    "status = be.reset_scene()\n",
    "print(be.version())"
   ]
  },
  {
   "cell_type": "code",
   "execution_count": null,
   "metadata": {
    "scrolled": true
   },
   "outputs": [],
   "source": [
    "# Resources\n",
    "# resource_folder = '../../tests/test_files/'\n",
    "resource_folder = '/home/favreau/git/BioExplorer/bioexplorer/pythonsdk/tests/test_files/'\n",
    "mesh_folder = os.path.join(resource_folder, 'obj')\n",
    "status = be.set_general_settings(\n",
    "    model_visibility_on_creation=False,\n",
    "    logging_level=3,\n",
    "    mesh_folder=mesh_folder)\n",
    "\n"
   ]
  },
  {
   "cell_type": "code",
   "execution_count": null,
   "metadata": {},
   "outputs": [],
   "source": [
    "# Camera position\n",
    "status = be.core_api().set_camera(\n",
    "    orientation=[-0.012, -0.427, -0.012, 0.904],\n",
    "    position=[-165.071, 8.336, 137.351],\n",
    "    target=[31.524, -0.317, -24.313]\n",
    ")"
   ]
  },
  {
   "cell_type": "code",
   "execution_count": null,
   "metadata": {
    "scrolled": true
   },
   "outputs": [],
   "source": [
    "# Coronavirus\n",
    "name='Coronavirus'\n",
    "be.add_coronavirus(\n",
    "    name=name, resource_folder=resource_folder,\n",
    "    clipping_planes=[[0.0, 0.0, 1.0, 25.0]],\n",
    "    # representation=be.REPRESENTATION_MESH,\n",
    "    add_rna_sequence=False,\n",
    "    add_glycans=True\n",
    ")"
   ]
  },
  {
   "cell_type": "markdown",
   "metadata": {},
   "source": [
    "## Rendering settings"
   ]
  },
  {
   "cell_type": "code",
   "execution_count": null,
   "metadata": {},
   "outputs": [],
   "source": [
    "status = be.set_rendering_quality(be.RENDERING_QUALITY_HIGH)"
   ]
  },
  {
   "cell_type": "code",
   "execution_count": null,
   "metadata": {},
   "outputs": [],
   "source": [
    "status = be.apply_default_color_scheme(\n",
    "    shading_mode=be.SHADING_MODE_NONE,\n",
    "    specular_exponent=50.0)"
   ]
  },
  {
   "cell_type": "code",
   "execution_count": null,
   "metadata": {},
   "outputs": [],
   "source": [
    "status = be.set_models_visibility(True)"
   ]
  }
 ],
 "metadata": {
  "kernelspec": {
   "display_name": "Python 3",
   "language": "python",
   "name": "python3"
  },
  "language_info": {
   "codemirror_mode": {
    "name": "ipython",
    "version": 3
   },
   "file_extension": ".py",
   "mimetype": "text/x-python",
   "name": "python",
   "nbconvert_exporter": "python",
   "pygments_lexer": "ipython3",
   "version": "3.8.10"
  }
 },
 "nbformat": 4,
 "nbformat_minor": 4
}
