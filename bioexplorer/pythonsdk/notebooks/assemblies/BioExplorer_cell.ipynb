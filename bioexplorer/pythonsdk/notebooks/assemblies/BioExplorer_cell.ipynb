{
 "cells": [
  {
   "cell_type": "markdown",
   "metadata": {},
   "source": [
    "# Blue Brain BioExplorer\n",
    "\n",
    "![](../bioexplorer_banner.png)"
   ]
  },
  {
   "cell_type": "markdown",
   "metadata": {},
   "source": [
    "## Simplest script to create a visualization of a cell"
   ]
  },
  {
   "cell_type": "code",
   "execution_count": null,
   "metadata": {},
   "outputs": [],
   "source": [
    "from bioexplorer import BioExplorer, Protein, Membrane, Cell, Vector2, Vector3, Quaternion\n",
    "be = BioExplorer('localhost:5000')\n",
    "core = be.core_api()\n",
    "status = be.reset()"
   ]
  },
  {
   "cell_type": "code",
   "execution_count": null,
   "metadata": {},
   "outputs": [],
   "source": [
    "name = 'Cell'\n",
    "representation=be.REPRESENTATION_ATOMS_AND_STICKS\n",
    "\n",
    "# Resources\n",
    "resource_folder = '../../tests/test_files/'\n",
    "pdb_folder = resource_folder + 'pdb/'\n",
    "membrane_folder = pdb_folder + 'membrane/'\n",
    "\n",
    "# ACE2 receptor definition\n",
    "ace2_receptor = Protein(\n",
    "    sources=[pdb_folder + '6m18.pdb'],\n",
    "    occurences=20,\n",
    "    position=Vector3(0.0, 6.0, 0.0))\n",
    "\n",
    "# Membrane definition\n",
    "membrane_size = 800.0\n",
    "membrane_height = 80\n",
    "membrane = Membrane(\n",
    "    sources=[\n",
    "        membrane_folder + 'segA.pdb',\n",
    "        membrane_folder + 'segB.pdb',\n",
    "        membrane_folder + 'segC.pdb',\n",
    "        membrane_folder + 'segD.pdb'\n",
    "    ],\n",
    "    occurences=400000)\n",
    "\n",
    "# Cell definition\n",
    "cell = Cell(\n",
    "    name=name,\n",
    "    size=membrane_size,\n",
    "    shape=be.ASSEMBLY_SHAPE_SINUSOIDAL,\n",
    "    extra_parameters=[membrane_height],\n",
    "    membrane=membrane,\n",
    "    random_position_seed=1, random_position_strength=0.025,\n",
    "    random_rotation_seed=2, random_rotation_strength=0.5,\n",
    "    receptor=ace2_receptor)\n",
    "\n",
    "# Add cell to scene\n",
    "status = be.add_cell(\n",
    "    cell=cell, representation=representation, random_seed=1)"
   ]
  },
  {
   "cell_type": "code",
   "execution_count": null,
   "metadata": {},
   "outputs": [],
   "source": [
    "status = core.set_camera(\n",
    "    orientation=[-0.070,  -0.041, 0.006, 0.996],\n",
    "    position=[-76.69645577433823, 158.9458079662124, 970.5532710962468],\n",
    "    target=[-14.769460404641611, 56.157789477305535, 243.45558273348504]\n",
    ")"
   ]
  },
  {
   "cell_type": "markdown",
   "metadata": {},
   "source": [
    "## Rendering settings"
   ]
  },
  {
   "cell_type": "code",
   "execution_count": null,
   "metadata": {},
   "outputs": [],
   "source": [
    "status = be.core_api().set_renderer(\n",
    "    background_color=[96 / 255, 125 / 255, 139 / 255],\n",
    "    current='bio_explorer',\n",
    "    samples_per_pixel=1, subsampling=4, max_accum_frames=1000)\n",
    "params = status = be.core_api().BioExplorerRendererParams()\n",
    "params.gi_samples = 1\n",
    "params.gi_weight = 0.3\n",
    "params.gi_distance = 5\n",
    "params.shadows = 0.8\n",
    "params.soft_shadows = 1\n",
    "params.fog_start = 1500\n",
    "params.fog_thickness = 1500\n",
    "params.max_bounces = 1\n",
    "status = be.core_api().set_renderer_params(params)"
   ]
  },
  {
   "cell_type": "markdown",
   "metadata": {},
   "source": [
    "## Materials"
   ]
  },
  {
   "cell_type": "code",
   "execution_count": null,
   "metadata": {},
   "outputs": [],
   "source": [
    "be.apply_default_color_scheme(be.SHADING_MODE_BASIC)"
   ]
  },
  {
   "cell_type": "markdown",
   "metadata": {},
   "source": [
    "## Modify receptor protein instance"
   ]
  },
  {
   "cell_type": "code",
   "execution_count": null,
   "metadata": {},
   "outputs": [],
   "source": [
    "'''Get receptor protein instance transformation'''\n",
    "instance_index = 0\n",
    "transformation = be.get_protein_instance_transformation(\n",
    "    assembly_name=name,\n",
    "    name=name + '_' + be.NAME_RECEPTOR,\n",
    "    instance_index=instance_index\n",
    ")\n",
    "print('Position = ' + str(transformation['position']))\n",
    "print('Rotation = ' + str(transformation['rotation']))"
   ]
  },
  {
   "cell_type": "code",
   "execution_count": null,
   "metadata": {},
   "outputs": [],
   "source": [
    "'''Modify receptor protein instance transformation'''\n",
    "status = be.set_protein_instance_transformation(\n",
    "    assembly_name=name,\n",
    "    name=name + '_' + be.NAME_RECEPTOR,\n",
    "    instance_index=instance_index,\n",
    "    position=Vector3(-93.6, 20.0, 308.8),\n",
    "    rotation=Quaternion(0.0182919, 0.0213303, 0.758803, 0.650714)\n",
    ")"
   ]
  }
 ],
 "metadata": {
  "kernelspec": {
   "display_name": "Python 3",
   "language": "python",
   "name": "python3"
  },
  "language_info": {
   "codemirror_mode": {
    "name": "ipython",
    "version": 3
   },
   "file_extension": ".py",
   "mimetype": "text/x-python",
   "name": "python",
   "nbconvert_exporter": "python",
   "pygments_lexer": "ipython3",
   "version": "3.8.5"
  }
 },
 "nbformat": 4,
 "nbformat_minor": 4
}
