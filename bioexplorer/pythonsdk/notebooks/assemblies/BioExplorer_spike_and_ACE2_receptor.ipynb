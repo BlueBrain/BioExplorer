{
 "cells": [
  {
   "cell_type": "markdown",
   "metadata": {},
   "source": [
    "# Blue Brain BioExplorer\n",
    "![](../bioexplorer_banner.png)"
   ]
  },
  {
   "cell_type": "code",
   "execution_count": null,
   "metadata": {},
   "outputs": [],
   "source": [
    "from bioexplorer import BioExplorer, Protein, Surfactant, Membrane, Volume, Virus,\\\n",
    "                        RNASequence, Cell, Sugars, Vector2, Vector3, Quaternion\n",
    "import nglview\n",
    "\n",
    "be = BioExplorer('localhost:5000')"
   ]
  },
  {
   "cell_type": "code",
   "execution_count": null,
   "metadata": {},
   "outputs": [],
   "source": [
    "status = be.reset()"
   ]
  },
  {
   "cell_type": "markdown",
   "metadata": {},
   "source": [
    "### Resources"
   ]
  },
  {
   "cell_type": "code",
   "execution_count": null,
   "metadata": {},
   "outputs": [],
   "source": [
    "resource_folder = '../../tests/test_files/'\n",
    "pdb_folder = resource_folder + 'pdb/'\n",
    "rna_folder = resource_folder + 'rna/'\n",
    "glycan_folder = pdb_folder + 'glycans/'\n",
    "\n",
    "glucose_path = pdb_folder + 'glucose.pdb'\n",
    "lactoferrin_path=pdb_folder + 'immune/1b0l.pdb'\n",
    "defensin_path = pdb_folder + 'immune/1ijv.pdb'\n",
    "\n",
    "complex_paths = [glycan_folder + 'complex/33.pdb', glycan_folder + 'complex/34.pdb',\n",
    "                 glycan_folder + 'complex/35.pdb',glycan_folder + 'complex/36.pdb']\n",
    "high_mannose_paths = [glycan_folder + 'high-mannose/1.pdb', \n",
    "                      glycan_folder + 'high-mannose/2.pdb',\n",
    "                      glycan_folder + 'high-mannose/3.pdb',\n",
    "                      glycan_folder + 'high-mannose/4.pdb']\n",
    "hybrid_paths = [glycan_folder + 'hybrid/24.pdb']\n",
    "o_glycan_paths = [glycan_folder + 'o-glycan/12.pdb']"
   ]
  },
  {
   "cell_type": "markdown",
   "metadata": {},
   "source": [
    "### Configuration"
   ]
  },
  {
   "cell_type": "code",
   "execution_count": null,
   "metadata": {},
   "outputs": [],
   "source": [
    "# Scene\n",
    "scene_size = 250.0\n",
    "\n",
    "# Proteins\n",
    "protein_radius_multiplier = 1.0\n",
    "protein_representation = be.REPRESENTATION_ATOMS# _AND_STICKS\n",
    "glycan_radius_multiplier = 1.0\n",
    "glycan_representation = be.REPRESENTATION_ATOMS_AND_STICKS\n",
    "protein_load_hydrogen = False\n",
    "\n",
    "# Viruses\n",
    "nb_protein_s = 62\n",
    "nb_protein_e = 42\n",
    "nb_protein_m = 50\n",
    "add_rna = True\n",
    "add_glycans = False"
   ]
  },
  {
   "cell_type": "markdown",
   "metadata": {},
   "source": [
    "## Camera"
   ]
  },
  {
   "cell_type": "code",
   "execution_count": null,
   "metadata": {},
   "outputs": [],
   "source": [
    "status = be.core_api().set_camera(\n",
    "    orientation=[-0.008, 0.391, -0.084, 0.916],\n",
    "    position=[11.029, -67.295, 35.860],\n",
    "    target=[-27.555, -64.584, -1.414]\n",
    ")"
   ]
  },
  {
   "cell_type": "markdown",
   "metadata": {},
   "source": [
    "## Scene description"
   ]
  },
  {
   "cell_type": "markdown",
   "metadata": {},
   "source": [
    "### Coronavirus"
   ]
  },
  {
   "cell_type": "code",
   "execution_count": null,
   "metadata": {},
   "outputs": [],
   "source": [
    "be.add_coronavirus(\n",
    "    name='Coronavirus', resource_folder=resource_folder,\n",
    "    representation=be.REPRESENTATION_ATOMS,\n",
    "    open_protein_s_indices=[0],\n",
    "    position=Vector3(-44, -4.0, -7.0), \n",
    "    add_glycans=True\n",
    ")"
   ]
  },
  {
   "cell_type": "markdown",
   "metadata": {},
   "source": [
    "### Host cell"
   ]
  },
  {
   "cell_type": "code",
   "execution_count": null,
   "metadata": {},
   "outputs": [],
   "source": [
    "# ACE2 receptor definition\n",
    "ace2_receptor = Protein(\n",
    "    sources=[pdb_folder + '6m18.pdb'],\n",
    "    occurences=5,\n",
    "    position=Vector3(0.0, 6.0, 0.0),\n",
    ")\n",
    "\n",
    "# Membrane definition\n",
    "membrane_size = scene_size\n",
    "membrane_height = 80.0\n",
    "membrane = Membrane(\n",
    "    sources=[pdb_folder + 'membrane/popc.pdb'],\n",
    "    occurences=30000\n",
    ")\n",
    "\n",
    "# Cell definition\n",
    "name='Cell'\n",
    "cell = Cell(\n",
    "    name=name,\n",
    "    size=membrane_size, extra_parameters=[membrane_height],\n",
    "    shape=be.ASSEMBLY_SHAPE_SINUSOIDAL,\n",
    "    random_position_seed=1, random_position_strength=0.025,\n",
    "    random_rotation_seed=2, random_rotation_strength=4.0,\n",
    "    membrane=membrane, receptor=ace2_receptor)\n",
    "\n",
    "# Add cell to scene\n",
    "status = be.add_cell(\n",
    "    cell=cell, representation=protein_representation,\n",
    "    atom_radius_multiplier=protein_radius_multiplier,\n",
    "    random_seed=1,\n",
    "    position=Vector3(-7, -82.5, -3.0)\n",
    ")\n",
    "\n",
    "status = be.set_protein_color_scheme(\n",
    "    name, name + '_' + be.NAME_RECEPTOR, \n",
    "    be.COLOR_SCHEME_CHAINS, 'OrRd_r', 7)"
   ]
  },
  {
   "cell_type": "code",
   "execution_count": null,
   "metadata": {},
   "outputs": [],
   "source": [
    "be.add_multiple_glycans(\n",
    "    rotation=Quaternion(0.707, 0.0, 0.0, 0.707),\n",
    "    representation=glycan_representation, assembly_name=name, \n",
    "    glycan_type=be.NAME_GLYCAN_COMPLEX,\n",
    "    protein_name=be.NAME_RECEPTOR, paths=complex_paths, \n",
    "    indices=[53, 90, 103, 322, 432, 690])\n",
    "\n",
    "be.add_multiple_glycans(\n",
    "    rotation=Quaternion(0.707, 0.0, 0.0, 0.707),\n",
    "    representation=glycan_representation, assembly_name=name,\n",
    "    glycan_type=be.NAME_GLYCAN_HYBRID,\n",
    "    protein_name=be.NAME_RECEPTOR, paths=hybrid_paths, \n",
    "    indices=[546])\n",
    "\n",
    "indices = [[155, Quaternion(0.0, 0.707, 0.0, 0.707)],\n",
    "           [730, Quaternion(0.0, 0.707, 0.0, 0.707)]]\n",
    "for index in indices:\n",
    "    o_glycan_name = name + '_' + be.NAME_GLYCAN_O_GLYCAN + '_' + str(index[0])\n",
    "    o_glycan = Sugars(\n",
    "        assembly_name=name, name=o_glycan_name, \n",
    "        source=o_glycan_paths[0],\n",
    "        protein_name=name + '_' + be.NAME_RECEPTOR, \n",
    "        representation=glycan_representation,\n",
    "        chain_ids=[2, 4], site_indices=[index[0]], \n",
    "        rotation=index[1])\n",
    "    be.add_sugars(o_glycan)"
   ]
  },
  {
   "cell_type": "markdown",
   "metadata": {},
   "source": [
    "## Materials"
   ]
  },
  {
   "cell_type": "code",
   "execution_count": null,
   "metadata": {},
   "outputs": [],
   "source": [
    "be.apply_default_color_scheme(be.SHADING_MODE_BASIC)"
   ]
  },
  {
   "cell_type": "markdown",
   "metadata": {},
   "source": [
    "## Functional regions"
   ]
  },
  {
   "cell_type": "markdown",
   "metadata": {},
   "source": [
    "### Spike"
   ]
  },
  {
   "cell_type": "code",
   "execution_count": null,
   "metadata": {},
   "outputs": [],
   "source": [
    "# RGB color palette for amino acid indices\n",
    "grey = [0.2, 0.2, 0.2]\n",
    "dark_green = [0.0, 1.0, 0.0]\n",
    "light_green = [0.0, 1.0, 0.0]\n",
    "red = [1.0, 0.0, 0.0]\n",
    "green = [0.0, 1.0, 0.0]\n",
    "blue = [0.0, 0.0, 1.0]\n",
    "yellow = [1.0, 1.0, 0.0]\n",
    "cyan = [1.0, 0.0, 1.0]\n",
    "\n",
    "region_indices_and_colors = [\n",
    "    [   1, grey ], [   16, grey], [  306, grey], [  330, grey], [438, dark_green], \n",
    "    [ 507, green], [  522, grey], [  816, grey ], [  835, grey ], [908, grey],\n",
    "    [ 986, grey ], [ 1076, grey], [ 1274, grey], [ 2000, grey ]\n",
    "]\n",
    "\n",
    "# Build a palette according to region colors\n",
    "palette = list()\n",
    "for index in range(len(region_indices_and_colors)-1):\n",
    "    for i in range(region_indices_and_colors[index + 1][0] - \n",
    "                   region_indices_and_colors[index][0]):\n",
    "        palette.append(region_indices_and_colors[index][1])\n",
    "\n",
    "# Apply palette to other chains\n",
    "status = be.set_protein_color_scheme(\n",
    "    assembly_name='Coronavirus', name='Coronavirus_' + be.NAME_PROTEIN_S_OPEN, \n",
    "    color_scheme=be.COLOR_SCHEME_CHAINS,\n",
    "    palette_name='Greys_r', palette_size=100)\n",
    "\n",
    "# Apply palette to region color scheme, only for chain #2\n",
    "status = be.set_protein_color_scheme(\n",
    "    assembly_name='Coronavirus', name='Coronavirus_' + be.NAME_PROTEIN_S_OPEN, \n",
    "    color_scheme=be.COLOR_SCHEME_REGION, palette=palette,\n",
    "    chain_ids=[2]\n",
    ")"
   ]
  },
  {
   "cell_type": "markdown",
   "metadata": {},
   "source": [
    "### Receptor"
   ]
  },
  {
   "cell_type": "code",
   "execution_count": null,
   "metadata": {},
   "outputs": [],
   "source": [
    "# RGB color palette for amino acid indices\n",
    "grey = [0.5, 0.5, 0.5]\n",
    "dark_blue = [0.0, 0.0, 0.5]\n",
    "light_blue = [0.0, 0.0, 1.0]\n",
    "\n",
    "region_indices_and_colors = [\n",
    "    [   1, grey      ], [   5, grey],  [  30, light_blue],  [  41, dark_blue],\n",
    "    [  82, light_blue], [  84, grey],  [ 353, grey      ],  [ 357, grey     ],\n",
    "    [ 800, grey      ]]\n",
    "\n",
    "# Build a palette according to region colors\n",
    "palette = list()\n",
    "for index in range(len(region_indices_and_colors)-1):\n",
    "    for i in range(region_indices_and_colors[index + 1][0] - \n",
    "                   region_indices_and_colors[index][0]):\n",
    "        palette.append(region_indices_and_colors[index][1])\n",
    "\n",
    "# Apply palette to other chains\n",
    "name = 'Cell'\n",
    "status = be.set_protein_color_scheme(\n",
    "    assembly_name=name, name=name + '_' + be.NAME_RECEPTOR, \n",
    "    color_scheme=be.COLOR_SCHEME_CHAINS,\n",
    "    palette_name='Greys_r', palette_size=100)\n",
    "\n",
    "# Apply palette to region color scheme, only for chain #2\n",
    "status = be.set_protein_color_scheme(\n",
    "    assembly_name=name, name=name + '_' + be.NAME_RECEPTOR, \n",
    "    color_scheme=be.COLOR_SCHEME_REGION, palette=palette,\n",
    "    chain_ids=[4])"
   ]
  },
  {
   "cell_type": "markdown",
   "metadata": {},
   "source": [
    "## Rendering settings"
   ]
  },
  {
   "cell_type": "code",
   "execution_count": null,
   "metadata": {},
   "outputs": [],
   "source": [
    "status = be.core_api().set_renderer(\n",
    "    background_color=[96 / 255, 125 / 255, 139 / 255],\n",
    "    current='bio_explorer',\n",
    "    samples_per_pixel=1, subsampling=4, max_accum_frames=64)\n",
    "params = be.core_api().BioExplorerRendererParams()\n",
    "params.gi_samples = 1\n",
    "params.gi_weight = 0.3\n",
    "params.gi_distance = 500\n",
    "params.shadows = 1.0\n",
    "params.soft_shadows = 0.1\n",
    "params.fog_start = 1500\n",
    "params.fog_thickness = 1500\n",
    "params.max_bounces = 1\n",
    "status = be.core_api().set_renderer_params(params)"
   ]
  },
  {
   "cell_type": "markdown",
   "metadata": {},
   "source": [
    "## Snapshots"
   ]
  },
  {
   "cell_type": "code",
   "execution_count": null,
   "metadata": {},
   "outputs": [],
   "source": [
    "output_folder = '/tmp/'"
   ]
  },
  {
   "cell_type": "code",
   "execution_count": null,
   "metadata": {},
   "outputs": [],
   "source": [
    "from mediamaker import MovieMaker\n",
    "mm = MovieMaker(be)\n",
    "mm.create_snapshot(\n",
    "    path=output_folder + 'protein_s_and_ace2_receptor.png',\n",
    "    size=[512,512], samples_per_pixel=64)"
   ]
  }
 ],
 "metadata": {
  "kernelspec": {
   "display_name": "Python 3",
   "language": "python",
   "name": "python3"
  },
  "language_info": {
   "codemirror_mode": {
    "name": "ipython",
    "version": 3
   },
   "file_extension": ".py",
   "mimetype": "text/x-python",
   "name": "python",
   "nbconvert_exporter": "python",
   "pygments_lexer": "ipython3",
   "version": "3.8.5"
  }
 },
 "nbformat": 4,
 "nbformat_minor": 4
}
