{
 "cells": [
  {
   "cell_type": "markdown",
   "metadata": {},
   "source": [
    "# Blue Brain BioExplorer\n",
    "![](../bioexplorer_banner.png)"
   ]
  },
  {
   "cell_type": "code",
   "execution_count": 1,
   "metadata": {},
   "outputs": [
    {
     "data": {
      "application/vnd.jupyter.widget-view+json": {
       "model_id": "ba6b2064b3204a7389eb6e844a4e4a75",
       "version_major": 2,
       "version_minor": 0
      },
      "text/html": [
       "<p>Failed to display Jupyter Widget of type <code>_ColormakerRegistry</code>.</p>\n",
       "<p>\n",
       "  If you're reading this message in the Jupyter Notebook or JupyterLab Notebook, it may mean\n",
       "  that the widgets JavaScript is still loading. If this message persists, it\n",
       "  likely means that the widgets JavaScript library is either not installed or\n",
       "  not enabled. See the <a href=\"https://ipywidgets.readthedocs.io/en/stable/user_install.html\">Jupyter\n",
       "  Widgets Documentation</a> for setup instructions.\n",
       "</p>\n",
       "<p>\n",
       "  If you're reading this message in another frontend (for example, a static\n",
       "  rendering on GitHub or <a href=\"https://nbviewer.jupyter.org/\">NBViewer</a>),\n",
       "  it may mean that your frontend doesn't currently support widgets.\n",
       "</p>\n"
      ],
      "text/plain": []
     },
     "metadata": {},
     "output_type": "display_data"
    }
   ],
   "source": [
    "from bioexplorer import BioExplorer, Protein, Surfactant, Membrane, Volume, Virus,\\\n",
    "                        RNASequence, Cell, Sugars, Vector2, Vector3, Quaternion\n",
    "import nglview\n",
    "\n",
    "be = BioExplorer('localhost:5000')"
   ]
  },
  {
   "cell_type": "code",
   "execution_count": 2,
   "metadata": {},
   "outputs": [],
   "source": [
    "status = be.reset()"
   ]
  },
  {
   "cell_type": "markdown",
   "metadata": {},
   "source": [
    "### Resources"
   ]
  },
  {
   "cell_type": "code",
   "execution_count": 3,
   "metadata": {},
   "outputs": [],
   "source": [
    "resource_folder = '../../tests/test_files/'\n",
    "pdb_folder = resource_folder + 'pdb/'\n",
    "rna_folder = resource_folder + 'rna/'\n",
    "glycan_folder = pdb_folder + 'glycans/'\n",
    "\n",
    "glucose_path = pdb_folder + 'glucose.pdb'\n",
    "lactoferrin_path=pdb_folder + 'immune/1b0l.pdb'\n",
    "defensin_path = pdb_folder + 'immune/1ijv.pdb'\n",
    "\n",
    "complex_paths = [glycan_folder + 'complex/33.pdb', glycan_folder + 'complex/34.pdb',\n",
    "                 glycan_folder + 'complex/35.pdb',glycan_folder + 'complex/36.pdb']\n",
    "high_mannose_paths = [glycan_folder + 'high-mannose/1.pdb', \n",
    "                      glycan_folder + 'high-mannose/2.pdb',\n",
    "                      glycan_folder + 'high-mannose/3.pdb',\n",
    "                      glycan_folder + 'high-mannose/4.pdb']\n",
    "hybrid_paths = [glycan_folder + 'hybrid/24.pdb']\n",
    "o_glycan_paths = [glycan_folder + 'o-glycan/12.pdb']"
   ]
  },
  {
   "cell_type": "markdown",
   "metadata": {},
   "source": [
    "### Configuration"
   ]
  },
  {
   "cell_type": "code",
   "execution_count": 4,
   "metadata": {},
   "outputs": [],
   "source": [
    "# Scene\n",
    "scene_size = 250.0\n",
    "\n",
    "# Proteins\n",
    "protein_radius_multiplier = 1.0\n",
    "protein_representation = be.REPRESENTATION_ATOMS# _AND_STICKS\n",
    "glycan_radius_multiplier = 1.0\n",
    "glycan_representation = be.REPRESENTATION_ATOMS_AND_STICKS\n",
    "protein_load_hydrogen = False\n",
    "\n",
    "# Viruses\n",
    "nb_protein_s = 62\n",
    "nb_protein_e = 42\n",
    "nb_protein_m = 50\n",
    "add_rna = True\n",
    "add_glycans = False"
   ]
  },
  {
   "cell_type": "markdown",
   "metadata": {},
   "source": [
    "## Camera"
   ]
  },
  {
   "cell_type": "code",
   "execution_count": 61,
   "metadata": {},
   "outputs": [],
   "source": [
    "status = be.core_api().set_camera(\n",
    "    orientation=[-0.008, 0.391, -0.084, 0.916],\n",
    "    position=[11.029, -67.295, 35.860],\n",
    "    target=[-27.555, -64.584, -1.414]\n",
    ")"
   ]
  },
  {
   "cell_type": "markdown",
   "metadata": {},
   "source": [
    "## Scene description"
   ]
  },
  {
   "cell_type": "markdown",
   "metadata": {},
   "source": [
    "### Coronavirus"
   ]
  },
  {
   "cell_type": "code",
   "execution_count": 28,
   "metadata": {},
   "outputs": [
    {
     "name": "stdout",
     "output_type": "stream",
     "text": [
      "Position = -35.5,-77.0984,-5\n",
      "Rotation = 0.00180877,0.00242816,0.801949,0.597385\n"
     ]
    }
   ],
   "source": [
    "'''Get receptor protein instance transformation'''\n",
    "instance_index = 3\n",
    "transformation = be.get_protein_instance_transformation(\n",
    "    assembly_name=name,\n",
    "    name=name + '_' + be.NAME_RECEPTOR,\n",
    "    instance_index=instance_index\n",
    ")\n",
    "print('Position = ' + str(transformation['position']))\n",
    "print('Rotation = ' + str(transformation['rotation']))"
   ]
  },
  {
   "cell_type": "code",
   "execution_count": 44,
   "metadata": {},
   "outputs": [],
   "source": [
    "be.add_coronavirus(\n",
    "    name='Coronavirus', resource_folder=resource_folder,\n",
    "    representation=be.REPRESENTATION_ATOMS,\n",
    "    position=Vector3(-35, -7.0, 13.0), add_glycans=True\n",
    ")"
   ]
  },
  {
   "cell_type": "markdown",
   "metadata": {},
   "source": [
    "### Host cell"
   ]
  },
  {
   "cell_type": "code",
   "execution_count": 53,
   "metadata": {},
   "outputs": [],
   "source": [
    "# ACE2 receptor definition\n",
    "ace2_receptor = Protein(\n",
    "    sources=[pdb_folder + '6m18.pdb'],\n",
    "    occurences=5,\n",
    "    position=Vector3(0.0, 6.0, 0.0),\n",
    ")\n",
    "\n",
    "# Membrane definition\n",
    "membrane_size = scene_size\n",
    "membrane_height = 80.0\n",
    "membrane = Membrane(\n",
    "    sources=[pdb_folder + 'membrane/popc.pdb'],\n",
    "    occurences=20000\n",
    ")\n",
    "\n",
    "# Cell definition\n",
    "name='Cell'\n",
    "cell = Cell(\n",
    "    name=name,\n",
    "    size=membrane_size, extra_parameters=[membrane_height],\n",
    "    shape=be.ASSEMBLY_SHAPE_SINUSOIDAL,\n",
    "    random_position_seed=1, random_position_strength=0.025,\n",
    "    random_rotation_seed=2, random_rotation_strength=4.0,\n",
    "    membrane=membrane, receptor=ace2_receptor)\n",
    "\n",
    "# Add cell to scene\n",
    "status = be.add_cell(\n",
    "    cell=cell, representation=protein_representation,\n",
    "    atom_radius_multiplier=protein_radius_multiplier,\n",
    "    random_seed=1,\n",
    "    position=Vector3(-7, -82.5, -3.0)\n",
    ")\n",
    "\n",
    "status = be.set_protein_color_scheme(\n",
    "    name, name + '_' + be.NAME_RECEPTOR, \n",
    "    be.COLOR_SCHEME_CHAINS, 'OrRd_r', 7)"
   ]
  },
  {
   "cell_type": "code",
   "execution_count": 57,
   "metadata": {},
   "outputs": [],
   "source": [
    "be.add_multiple_glycans(\n",
    "    rotation=Quaternion(0.707, 0.0, 0.0, 0.707),\n",
    "    representation=glycan_representation, assembly_name=name, \n",
    "    glycan_type=be.NAME_GLYCAN_COMPLEX,\n",
    "    protein_name=be.NAME_RECEPTOR, paths=complex_paths, \n",
    "    indices=[53, 90, 103, 322, 432, 690])\n",
    "\n",
    "be.add_multiple_glycans(\n",
    "    rotation=Quaternion(0.707, 0.0, 0.0, 0.707),\n",
    "    representation=glycan_representation, assembly_name=name,\n",
    "    glycan_type=be.NAME_GLYCAN_HYBRID,\n",
    "    protein_name=be.NAME_RECEPTOR, paths=hybrid_paths, \n",
    "    indices=[546])\n",
    "\n",
    "indices = [[155, Quaternion(0.0, 0.707, 0.0, 0.707)],\n",
    "           [730, Quaternion(0.0, 0.707, 0.0, 0.707)]]\n",
    "for index in indices:\n",
    "    o_glycan_name = name + '_' + be.NAME_GLYCAN_O_GLYCAN + '_' + str(index[0])\n",
    "    o_glycan = Sugars(\n",
    "        assembly_name=name, name=o_glycan_name, \n",
    "        source=o_glycan_paths[0],\n",
    "        protein_name=name + '_' + be.NAME_RECEPTOR, \n",
    "        representation=glycan_representation,\n",
    "        chain_ids=[2, 4], site_indices=[index[0]], \n",
    "        rotation=index[1])\n",
    "    be.add_sugars(o_glycan)"
   ]
  },
  {
   "cell_type": "markdown",
   "metadata": {},
   "source": [
    "## Materials"
   ]
  },
  {
   "cell_type": "code",
   "execution_count": 58,
   "metadata": {},
   "outputs": [
    {
     "data": {
      "application/vnd.jupyter.widget-view+json": {
       "model_id": "77b00c6b637e465ca745cfe38e4d4e26",
       "version_major": 2,
       "version_minor": 0
      },
      "text/html": [
       "<p>Failed to display Jupyter Widget of type <code>IntProgress</code>.</p>\n",
       "<p>\n",
       "  If you're reading this message in the Jupyter Notebook or JupyterLab Notebook, it may mean\n",
       "  that the widgets JavaScript is still loading. If this message persists, it\n",
       "  likely means that the widgets JavaScript library is either not installed or\n",
       "  not enabled. See the <a href=\"https://ipywidgets.readthedocs.io/en/stable/user_install.html\">Jupyter\n",
       "  Widgets Documentation</a> for setup instructions.\n",
       "</p>\n",
       "<p>\n",
       "  If you're reading this message in another frontend (for example, a static\n",
       "  rendering on GitHub or <a href=\"https://nbviewer.jupyter.org/\">NBViewer</a>),\n",
       "  it may mean that your frontend doesn't currently support widgets.\n",
       "</p>\n"
      ],
      "text/plain": [
       "IntProgress(value=0, max=30)"
      ]
     },
     "metadata": {},
     "output_type": "display_data"
    }
   ],
   "source": [
    "be.apply_default_color_scheme(\n",
    "    shading_mode=be.SHADING_MODE_PERLIN,\n",
    "    user_parameter=0.03, specular_exponent=5, glossiness=0.1)"
   ]
  },
  {
   "cell_type": "markdown",
   "metadata": {},
   "source": [
    "## Functional regions"
   ]
  },
  {
   "cell_type": "markdown",
   "metadata": {},
   "source": [
    "### Spike"
   ]
  },
  {
   "cell_type": "code",
   "execution_count": 55,
   "metadata": {},
   "outputs": [],
   "source": [
    "# RGB color palette for amino acid indices\n",
    "grey = [0.2, 0.2, 0.2]\n",
    "dark_green = [0.0, 1.0, 0.0]\n",
    "light_green = [0.0, 1.0, 0.0]\n",
    "red = [1.0, 0.0, 0.0]\n",
    "green = [0.0, 1.0, 0.0]\n",
    "blue = [0.0, 0.0, 1.0]\n",
    "yellow = [1.0, 1.0, 0.0]\n",
    "cyan = [1.0, 0.0, 1.0]\n",
    "\n",
    "region_indices_and_colors = [\n",
    "    [   1, grey ], [   16, grey], [  306, grey], [  330, grey], [438, dark_green], \n",
    "    [ 507, green], [  522, grey], [  816, grey ], [  835, grey ], [908, grey],\n",
    "    [ 986, grey ], [ 1076, grey], [ 1274, grey], [ 2000, grey ]\n",
    "]\n",
    "\n",
    "# Build a palette according to region colors\n",
    "palette = list()\n",
    "for index in range(len(region_indices_and_colors)-1):\n",
    "    for i in range(region_indices_and_colors[index + 1][0] - \n",
    "                   region_indices_and_colors[index][0]):\n",
    "        palette.append(region_indices_and_colors[index][1])\n",
    "\n",
    "# Apply palette to other chains\n",
    "status = be.set_protein_color_scheme(\n",
    "    assembly_name='Coronavirus', name='Coronavirus_' + be.NAME_PROTEIN_S_OPEN, \n",
    "    color_scheme=be.COLOR_SCHEME_CHAINS,\n",
    "    palette_name='Greys_r', palette_size=100)\n",
    "\n",
    "# Apply palette to region color scheme, only for chain #2\n",
    "status = be.set_protein_color_scheme(\n",
    "    assembly_name='Coronavirus', name='Coronavirus_' + be.NAME_PROTEIN_S_OPEN, \n",
    "    color_scheme=be.COLOR_SCHEME_REGION, palette=palette,\n",
    "    chain_ids=[2]\n",
    ")"
   ]
  },
  {
   "cell_type": "markdown",
   "metadata": {},
   "source": [
    "### Receptor"
   ]
  },
  {
   "cell_type": "code",
   "execution_count": 56,
   "metadata": {},
   "outputs": [],
   "source": [
    "# RGB color palette for amino acid indices\n",
    "grey = [0.5, 0.5, 0.5]\n",
    "dark_blue = [0.0, 0.0, 0.5]\n",
    "light_blue = [0.0, 0.0, 1.0]\n",
    "\n",
    "region_indices_and_colors = [\n",
    "    [   1, grey      ], [   5, grey],  [  30, light_blue],  [  41, dark_blue],\n",
    "    [  82, light_blue], [  84, grey],  [ 353, grey      ],  [ 357, grey     ],\n",
    "    [ 800, grey      ]]\n",
    "\n",
    "# Build a palette according to region colors\n",
    "palette = list()\n",
    "for index in range(len(region_indices_and_colors)-1):\n",
    "    for i in range(region_indices_and_colors[index + 1][0] - \n",
    "                   region_indices_and_colors[index][0]):\n",
    "        palette.append(region_indices_and_colors[index][1])\n",
    "\n",
    "# Apply palette to other chains\n",
    "name = 'Cell'\n",
    "status = be.set_protein_color_scheme(\n",
    "    assembly_name=name, name=name + '_' + be.NAME_RECEPTOR, \n",
    "    color_scheme=be.COLOR_SCHEME_CHAINS,\n",
    "    palette_name='Greys_r', palette_size=100)\n",
    "\n",
    "# Apply palette to region color scheme, only for chain #2\n",
    "status = be.set_protein_color_scheme(\n",
    "    assembly_name=name, name=name + '_' + be.NAME_RECEPTOR, \n",
    "    color_scheme=be.COLOR_SCHEME_REGION, palette=palette,\n",
    "    chain_ids=[4])"
   ]
  },
  {
   "cell_type": "markdown",
   "metadata": {},
   "source": [
    "## Rendering settings"
   ]
  },
  {
   "cell_type": "code",
   "execution_count": 47,
   "metadata": {},
   "outputs": [],
   "source": [
    "status = be.core_api().set_renderer(\n",
    "    background_color=[96 / 255, 125 / 255, 139 / 255],\n",
    "    current='bio_explorer',\n",
    "    samples_per_pixel=1, subsampling=4, max_accum_frames=64)\n",
    "params = be.core_api().BioExplorerRendererParams()\n",
    "params.gi_samples = 1\n",
    "params.gi_weight = 0.4\n",
    "params.gi_distance = 500\n",
    "params.shadows = 1.0\n",
    "params.soft_shadows = 1.0\n",
    "params.fog_start = 1500\n",
    "params.fog_thickness = 1500\n",
    "params.max_bounces = 1\n",
    "status = be.core_api().set_renderer_params(params)"
   ]
  },
  {
   "cell_type": "markdown",
   "metadata": {},
   "source": [
    "## Snapshots"
   ]
  },
  {
   "cell_type": "code",
   "execution_count": 15,
   "metadata": {},
   "outputs": [],
   "source": [
    "output_folder = '/tmp/'"
   ]
  },
  {
   "cell_type": "code",
   "execution_count": 16,
   "metadata": {},
   "outputs": [
    {
     "data": {
      "application/vnd.jupyter.widget-view+json": {
       "model_id": "c995c5ef43ce43cba474eaa783c6095d",
       "version_major": 2,
       "version_minor": 0
      },
      "text/html": [
       "<p>Failed to display Jupyter Widget of type <code>IntProgress</code>.</p>\n",
       "<p>\n",
       "  If you're reading this message in the Jupyter Notebook or JupyterLab Notebook, it may mean\n",
       "  that the widgets JavaScript is still loading. If this message persists, it\n",
       "  likely means that the widgets JavaScript library is either not installed or\n",
       "  not enabled. See the <a href=\"https://ipywidgets.readthedocs.io/en/stable/user_install.html\">Jupyter\n",
       "  Widgets Documentation</a> for setup instructions.\n",
       "</p>\n",
       "<p>\n",
       "  If you're reading this message in another frontend (for example, a static\n",
       "  rendering on GitHub or <a href=\"https://nbviewer.jupyter.org/\">NBViewer</a>),\n",
       "  it may mean that your frontend doesn't currently support widgets.\n",
       "</p>\n"
      ],
      "text/plain": [
       "IntProgress(value=0, description='In progress...')"
      ]
     },
     "metadata": {},
     "output_type": "display_data"
    },
    {
     "ename": "KeyboardInterrupt",
     "evalue": "",
     "output_type": "error",
     "traceback": [
      "\u001b[0;31m---------------------------------------------------------------------------\u001b[0m",
      "\u001b[0;31mKeyboardInterrupt\u001b[0m                         Traceback (most recent call last)",
      "\u001b[0;32m<ipython-input-16-96d39619649b>\u001b[0m in \u001b[0;36m<module>\u001b[0;34m\u001b[0m\n\u001b[1;32m      1\u001b[0m \u001b[0;32mfrom\u001b[0m \u001b[0mbraynsmediamaker\u001b[0m \u001b[0;32mimport\u001b[0m \u001b[0mMovieMaker\u001b[0m\u001b[0;34m\u001b[0m\u001b[0;34m\u001b[0m\u001b[0m\n\u001b[1;32m      2\u001b[0m \u001b[0mmm\u001b[0m \u001b[0;34m=\u001b[0m \u001b[0mMovieMaker\u001b[0m\u001b[0;34m(\u001b[0m\u001b[0mbe\u001b[0m\u001b[0;34m.\u001b[0m\u001b[0mcore_api\u001b[0m\u001b[0;34m(\u001b[0m\u001b[0;34m)\u001b[0m\u001b[0;34m)\u001b[0m\u001b[0;34m\u001b[0m\u001b[0;34m\u001b[0m\u001b[0m\n\u001b[0;32m----> 3\u001b[0;31m mm.create_snapshot(\n\u001b[0m\u001b[1;32m      4\u001b[0m     \u001b[0mpath\u001b[0m\u001b[0;34m=\u001b[0m\u001b[0moutput_folder\u001b[0m \u001b[0;34m+\u001b[0m \u001b[0;34m'protein_s_and_ace2_receptor.png'\u001b[0m\u001b[0;34m,\u001b[0m\u001b[0;34m\u001b[0m\u001b[0;34m\u001b[0m\u001b[0m\n\u001b[1;32m      5\u001b[0m     size=[2048,2048], samples_per_pixel=64)\n",
      "\u001b[0;32m~/Notebooks/env/lib/python3.8/site-packages/braynsmediamaker-0.1.0-py3.8.egg/braynsmediamaker/movie_maker.py\u001b[0m in \u001b[0;36mcreate_snapshot\u001b[0;34m(self, size, path, samples_per_pixel, export_intermediate_frames)\u001b[0m\n\u001b[1;32m    356\u001b[0m         \u001b[0mdone\u001b[0m \u001b[0;34m=\u001b[0m \u001b[0;32mFalse\u001b[0m\u001b[0;34m\u001b[0m\u001b[0;34m\u001b[0m\u001b[0m\n\u001b[1;32m    357\u001b[0m         \u001b[0;32mwhile\u001b[0m \u001b[0;32mnot\u001b[0m \u001b[0mdone\u001b[0m\u001b[0;34m:\u001b[0m\u001b[0;34m\u001b[0m\u001b[0;34m\u001b[0m\u001b[0m\n\u001b[0;32m--> 358\u001b[0;31m             \u001b[0mtime\u001b[0m\u001b[0;34m.\u001b[0m\u001b[0msleep\u001b[0m\u001b[0;34m(\u001b[0m\u001b[0;36m1\u001b[0m\u001b[0;34m)\u001b[0m\u001b[0;34m\u001b[0m\u001b[0;34m\u001b[0m\u001b[0m\n\u001b[0m\u001b[1;32m    359\u001b[0m             \u001b[0mprogress\u001b[0m \u001b[0;34m=\u001b[0m \u001b[0mself\u001b[0m\u001b[0;34m.\u001b[0m\u001b[0mget_export_frames_progress\u001b[0m\u001b[0;34m(\u001b[0m\u001b[0;34m)\u001b[0m\u001b[0;34m[\u001b[0m\u001b[0;34m'progress'\u001b[0m\u001b[0;34m]\u001b[0m\u001b[0;34m\u001b[0m\u001b[0;34m\u001b[0m\u001b[0m\n\u001b[1;32m    360\u001b[0m             \u001b[0mprogress_widget\u001b[0m\u001b[0;34m.\u001b[0m\u001b[0mvalue\u001b[0m \u001b[0;34m=\u001b[0m \u001b[0mprogress\u001b[0m \u001b[0;34m*\u001b[0m \u001b[0;36m100\u001b[0m\u001b[0;34m\u001b[0m\u001b[0;34m\u001b[0m\u001b[0m\n",
      "\u001b[0;31mKeyboardInterrupt\u001b[0m: "
     ]
    }
   ],
   "source": [
    "from braynsmediamaker import MovieMaker\n",
    "mm = MovieMaker(be.core_api())\n",
    "mm.create_snapshot(\n",
    "    path=output_folder + 'protein_s_and_ace2_receptor.png',\n",
    "    size=[2048,2048], samples_per_pixel=64)"
   ]
  }
 ],
 "metadata": {
  "kernelspec": {
   "display_name": "Python 3",
   "language": "python",
   "name": "python3"
  },
  "language_info": {
   "codemirror_mode": {
    "name": "ipython",
    "version": 3
   },
   "file_extension": ".py",
   "mimetype": "text/x-python",
   "name": "python",
   "nbconvert_exporter": "python",
   "pygments_lexer": "ipython3",
   "version": "3.8.5"
  }
 },
 "nbformat": 4,
 "nbformat_minor": 4
}
