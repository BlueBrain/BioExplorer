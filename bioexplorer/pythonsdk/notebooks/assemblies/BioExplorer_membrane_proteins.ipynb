{
 "cells": [
  {
   "cell_type": "markdown",
   "metadata": {},
   "source": [
    "# BioExplorer - Validation of component sizes\n",
    "![](../bioexplorer_banner.png)"
   ]
  },
  {
   "cell_type": "markdown",
   "metadata": {},
   "source": [
    "### Initialization"
   ]
  },
  {
   "cell_type": "code",
   "execution_count": null,
   "metadata": {},
   "outputs": [],
   "source": [
    "from bioexplorer import BioExplorer, Protein, Vector3, MovieMaker\n",
    "\n",
    "bio_explorer = BioExplorer('localhost:5000')\n",
    "core = bio_explorer.core_api()\n",
    "mm = MovieMaker(bio_explorer)\n",
    "bio_explorer.reset_scene()\n",
    "print('BioExplorer version ' + bio_explorer.version())\n",
    "status = bio_explorer.set_general_settings(model_visibility_on_creation=True)"
   ]
  },
  {
   "cell_type": "code",
   "execution_count": null,
   "metadata": {},
   "outputs": [],
   "source": [
    "resource_folder = '../../tests/test_files/'\n",
    "pdb_folder = resource_folder + 'pdb/'\n",
    "membrane_folder = pdb_folder + 'membrane/'\n",
    "image_folder = '/tmp/'\n",
    "\n",
    "line_1 = 5\n",
    "line_2 = 20\n",
    "\n",
    "representation = BioExplorer.REPRESENTATION_ATOMS_AND_STICKS"
   ]
  },
  {
   "cell_type": "markdown",
   "metadata": {},
   "source": [
    "### Camera"
   ]
  },
  {
   "cell_type": "code",
   "execution_count": null,
   "metadata": {},
   "outputs": [],
   "source": [
    "core.set_camera(\n",
    "    current='orthographic',\n",
    "    orientation=[0.0, 0.0, 0.0, 1.0],\n",
    "    position=[10,10,300],\n",
    "    target=[10,10,0]\n",
    ")\n",
    "params = core.OrthographicCameraParams()\n",
    "params.height = 30\n",
    "status = core.set_camera_params(params)"
   ]
  },
  {
   "cell_type": "markdown",
   "metadata": {},
   "source": [
    "### Grid"
   ]
  },
  {
   "cell_type": "code",
   "execution_count": null,
   "metadata": {},
   "outputs": [],
   "source": [
    "status = bio_explorer.add_grid(\n",
    "    min_value=0, max_value=40, interval=1, radius=0.005, colored=False,\n",
    "    position=Vector3(-10.0, -10.0, -10.0))"
   ]
  },
  {
   "cell_type": "markdown",
   "metadata": {},
   "source": [
    "### Layout"
   ]
  },
  {
   "cell_type": "code",
   "execution_count": null,
   "metadata": {
    "scrolled": true
   },
   "outputs": [],
   "source": [
    "seg_a = Protein(name='segA', source=membrane_folder + 'segA.pdb')\n",
    "status = bio_explorer.add_protein(seg_a,\n",
    "                         representation=representation,\n",
    "                         position=Vector3(5, line_1, 0))\n",
    "\n",
    "seg_b = Protein(name='segB', source=membrane_folder + 'segB.pdb')\n",
    "status = bio_explorer.add_protein(seg_b,\n",
    "                         representation=representation,\n",
    "                         position=Vector3(20, line_1, 0))\n",
    "\n",
    "seg_c = Protein(name='segC', source=membrane_folder + 'segC.pdb')\n",
    "status = bio_explorer.add_protein(seg_c,\n",
    "                         representation=representation,\n",
    "                         position=Vector3(5, line_2, 0))\n",
    "\n",
    "seg_d = Protein(name='segD', source=membrane_folder + 'segD.pdb')\n",
    "status = bio_explorer.add_protein(seg_d,\n",
    "                         representation=representation,\n",
    "                         position=Vector3(20, line_2, 0))"
   ]
  },
  {
   "cell_type": "markdown",
   "metadata": {},
   "source": [
    "### Rendering settings"
   ]
  },
  {
   "cell_type": "code",
   "execution_count": null,
   "metadata": {},
   "outputs": [],
   "source": [
    "status = bio_explorer.set_rendering_quality(bio_explorer.RENDERING_QUALITY_HIGH)"
   ]
  },
  {
   "cell_type": "markdown",
   "metadata": {},
   "source": [
    "### Snapshot"
   ]
  },
  {
   "cell_type": "code",
   "execution_count": null,
   "metadata": {},
   "outputs": [],
   "source": [
    "image_size = [1024, 1024]\n",
    "image_samples_per_pixel = 64"
   ]
  },
  {
   "cell_type": "code",
   "execution_count": null,
   "metadata": {},
   "outputs": [],
   "source": [
    "mm.create_snapshot(\n",
    "    renderer='bio_explorer',\n",
    "    size=image_size, samples_per_pixel=image_samples_per_pixel,\n",
    "    path=image_folder, base_name='protein_sizes')"
   ]
  }
 ],
 "metadata": {
  "kernelspec": {
   "display_name": "Python 3",
   "language": "python",
   "name": "python3"
  },
  "language_info": {
   "codemirror_mode": {
    "name": "ipython",
    "version": 3
   },
   "file_extension": ".py",
   "mimetype": "text/x-python",
   "name": "python",
   "nbconvert_exporter": "python",
   "pygments_lexer": "ipython3",
   "version": "3.8.10"
  }
 },
 "nbformat": 4,
 "nbformat_minor": 2
}
