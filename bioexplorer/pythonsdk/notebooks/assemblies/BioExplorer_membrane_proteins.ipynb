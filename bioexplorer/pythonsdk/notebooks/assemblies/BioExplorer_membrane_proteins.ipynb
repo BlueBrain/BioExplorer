{
 "cells": [
  {
   "cell_type": "markdown",
   "metadata": {},
   "source": [
    "# BioExplorer - Validation of component sizes\n",
    "![](../bioexplorer_banner.png)"
   ]
  },
  {
   "cell_type": "markdown",
   "metadata": {},
   "source": [
    "### Initialization"
   ]
  },
  {
   "cell_type": "code",
   "execution_count": null,
   "metadata": {},
   "outputs": [],
   "source": [
    "from bioexplorer import BioExplorer, Protein, Surfactant, Vector3, Quaternion\n",
    "from mediamaker import MovieMaker\n",
    "import os\n",
    "\n",
    "resource_folder = '../../tests/test_files/'\n",
    "pdb_folder = resource_folder + 'pdb/'\n",
    "membrane_folder = pdb_folder + 'membrane/'\n",
    "image_folder = '/tmp/'\n",
    "\n",
    "bio_explorer = BioExplorer('localhost:5000')\n",
    "core = bio_explorer.core_api()\n",
    "mm = MovieMaker(bio_explorer)\n",
    "bio_explorer.reset()\n",
    "print('BioExplorer version ' + bio_explorer.version())\n",
    "\n",
    "line_1 = 5\n",
    "line_2 = 20\n",
    "\n",
    "representation = BioExplorer.REPRESENTATION_ATOMS_AND_STICKS"
   ]
  },
  {
   "cell_type": "markdown",
   "metadata": {},
   "source": [
    "### Camera"
   ]
  },
  {
   "cell_type": "code",
   "execution_count": null,
   "metadata": {},
   "outputs": [],
   "source": [
    "core.set_camera(\n",
    "    current='orthographic',\n",
    "    orientation=[0.0, 0.0, 0.0, 1.0],\n",
    "    position=[10,10,300],\n",
    "    target=[10,10,0]\n",
    ")\n",
    "params = core.OrthographicCameraParams()\n",
    "params.height = 30\n",
    "status = core.set_camera_params(params)"
   ]
  },
  {
   "cell_type": "markdown",
   "metadata": {},
   "source": [
    "### Grid"
   ]
  },
  {
   "cell_type": "code",
   "execution_count": null,
   "metadata": {},
   "outputs": [],
   "source": [
    "status = bio_explorer.add_grid(\n",
    "    min_value=0, max_value=40, interval=1, radius=0.005, colored=False,\n",
    "    position=Vector3(-10.0, -10.0, -10.0))"
   ]
  },
  {
   "cell_type": "markdown",
   "metadata": {},
   "source": [
    "### Layout"
   ]
  },
  {
   "cell_type": "code",
   "execution_count": null,
   "metadata": {
    "scrolled": true
   },
   "outputs": [],
   "source": [
    "seg_a = Protein(sources=[membrane_folder + 'segA.pdb'])\n",
    "status = bio_explorer.add_protein('Protein M', seg_a,\n",
    "                         representation=representation,\n",
    "                         position=Vector3(5, line_1, 0))\n",
    "\n",
    "seg_b = Protein(sources=[membrane_folder + 'segB.pdb'])\n",
    "status = bio_explorer.add_protein('Protein E', seg_b,\n",
    "                         representation=representation,\n",
    "                         position=Vector3(20, line_1, 0))\n",
    "\n",
    "seg_c = Protein(sources=[membrane_folder + 'segC.pdb'])\n",
    "status = bio_explorer.add_protein('Lactoferrin', seg_c,\n",
    "                         representation=representation,\n",
    "                         position=Vector3(5, line_2, 0))\n",
    "\n",
    "seg_d = Protein(sources=[membrane_folder + 'segD.pdb'])\n",
    "status = bio_explorer.add_protein('Defensin', seg_d,\n",
    "                         representation=representation,\n",
    "                         position=Vector3(20, line_2, 0))"
   ]
  },
  {
   "cell_type": "markdown",
   "metadata": {},
   "source": [
    "### Rendering settings"
   ]
  },
  {
   "cell_type": "code",
   "execution_count": null,
   "metadata": {},
   "outputs": [],
   "source": [
    "status = core.set_renderer(\n",
    "    background_color=[96 / 255, 125 / 255, 139 / 255],\n",
    "    current='bio_explorer',\n",
    "    samples_per_pixel=1, subsampling=1, max_accum_frames=64)\n",
    "params = core.BioExplorerRendererParams()\n",
    "params.gi_samples = 1\n",
    "params.gi_weight = 0.4\n",
    "params.gi_distance = 50\n",
    "params.shadows = 1.0\n",
    "params.soft_shadows = 1.0\n",
    "params.fog_start = 1500\n",
    "params.fog_thickness = 1500\n",
    "params.max_bounces = 1\n",
    "status = core.set_renderer_params(params)"
   ]
  },
  {
   "cell_type": "markdown",
   "metadata": {},
   "source": [
    "### Snapshot"
   ]
  },
  {
   "cell_type": "code",
   "execution_count": null,
   "metadata": {},
   "outputs": [],
   "source": [
    "image_size = [1024, 1024]\n",
    "image_samples_per_pixel = 64"
   ]
  },
  {
   "cell_type": "code",
   "execution_count": null,
   "metadata": {},
   "outputs": [],
   "source": [
    "mm.create_snapshot(\n",
    "    size=image_size, samples_per_pixel=image_samples_per_pixel,\n",
    "    path=image_folder + '/protein_sizes.png')"
   ]
  }
 ],
 "metadata": {
  "kernelspec": {
   "display_name": "Python 3",
   "language": "python",
   "name": "python3"
  },
  "language_info": {
   "codemirror_mode": {
    "name": "ipython",
    "version": 3
   },
   "file_extension": ".py",
   "mimetype": "text/x-python",
   "name": "python",
   "nbconvert_exporter": "python",
   "pygments_lexer": "ipython3",
   "version": "3.8.5"
  }
 },
 "nbformat": 4,
 "nbformat_minor": 2
}
