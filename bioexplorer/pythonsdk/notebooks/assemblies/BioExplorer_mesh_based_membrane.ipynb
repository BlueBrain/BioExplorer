{
 "cells": [
  {
   "cell_type": "markdown",
   "metadata": {},
   "source": [
    "# Blue Brain BioExplorer\n",
    "\n",
    "![](../bioexplorer_banner.png)"
   ]
  },
  {
   "cell_type": "markdown",
   "metadata": {},
   "source": [
    "## Visualization of a membrane defined by a mesh"
   ]
  },
  {
   "cell_type": "code",
   "execution_count": null,
   "metadata": {},
   "outputs": [],
   "source": [
    "from bioexplorer import BioExplorer, Cell, Protein, Membrane, RandomizationParams, Vector2, Vector3, Quaternion\n",
    "import glob\n",
    "\n",
    "be = BioExplorer('localhost:5000')\n",
    "core = be.core_api()\n",
    "status = be.reset_scene()"
   ]
  },
  {
   "cell_type": "markdown",
   "metadata": {},
   "source": [
    "### Resources"
   ]
  },
  {
   "cell_type": "code",
   "execution_count": null,
   "metadata": {},
   "outputs": [],
   "source": [
    "resource_folder = '../../tests/test_files/'\n",
    "pdb_folder = resource_folder + 'pdb/'\n",
    "obj_folder = resource_folder + 'obj/'\n",
    "membrane_folder = pdb_folder + 'membrane/'\n",
    "lipids_folder = membrane_folder + 'lipids/'\n",
    "transporters_folder = pdb_folder + 'transporters/'\n",
    "\n",
    "representation = be.REPRESENTATION_ATOMS_AND_STICKS"
   ]
  },
  {
   "cell_type": "markdown",
   "metadata": {},
   "source": [
    "### Configuration"
   ]
  },
  {
   "cell_type": "code",
   "execution_count": null,
   "metadata": {},
   "outputs": [],
   "source": [
    "mesh_source= obj_folder + 'suzanne.obj'\n",
    "rotation = Quaternion(1, 0, 0, 0)\n",
    "position = Vector3(100.0, 0.0, 0.0)\n",
    "scale = Vector3(2.5,2.5,2.5)"
   ]
  },
  {
   "cell_type": "markdown",
   "metadata": {},
   "source": [
    "## Camera position"
   ]
  },
  {
   "cell_type": "code",
   "execution_count": null,
   "metadata": {},
   "outputs": [],
   "source": [
    "status = be.core_api().set_camera(\n",
    "    orientation=[-0.114, 0.341, 0.020, 0.932],\n",
    "    position=[368.152, 107.242, 367.312],\n",
    "    target=[50.364, -6.824, -5.159]\n",
    ")"
   ]
  },
  {
   "cell_type": "markdown",
   "metadata": {},
   "source": [
    "### Membrane"
   ]
  },
  {
   "cell_type": "code",
   "execution_count": null,
   "metadata": {},
   "outputs": [],
   "source": [
    "name = 'Suzanne'\n",
    "\n",
    "# ACE2 receptor definition\n",
    "ace2_receptor = Protein(\n",
    "    name=be.NAME_TRANS_MEMBRANE + '_ACE2',\n",
    "    source=pdb_folder + '6m18.pdb', \n",
    "    transmembrane_params=Vector2(1.0, 2.0),\n",
    "    rotation=Quaternion(0.0, 1.0, 0.0, 0.0),\n",
    "    random_params=RandomizationParams(1), occurences=20)\n",
    "\n",
    "# GLUT3 definition\n",
    "transporter = Protein(\n",
    "    name=be.NAME_TRANS_MEMBRANE + '_GLUT3',\n",
    "    source=transporters_folder + '4zwc.pdb',\n",
    "    transmembrane_params=Vector2(1.0, 2.0),\n",
    "    rotation=Quaternion(0.707, 0.707, 0.0, 0.0),\n",
    "    random_params=RandomizationParams(2), chain_ids=[1], occurences=30)\n",
    "\n",
    "# Membrane definition\n",
    "pdb_lipids = glob.glob(lipids_folder + '*.pdb')[:8]\n",
    "\n",
    "membrane = Membrane(\n",
    "    lipid_sources=pdb_lipids,\n",
    "    load_non_polymer_chemicals=True, load_bonds=True,\n",
    "    random_params=RandomizationParams(0, 1, 0.025, 2, 0.5)\n",
    ")\n",
    "\n",
    "# Cell definition\n",
    "cell = Cell(\n",
    "    name=name,\n",
    "    shape=be.ASSEMBLY_SHAPE_MESH,\n",
    "    shape_params=scale,\n",
    "    shape_mesh_source=mesh_source, \n",
    "    membrane=membrane,\n",
    "    proteins=[ace2_receptor, transporter]\n",
    ")\n",
    "\n",
    "# Add cell to scene\n",
    "status = be.add_cell(\n",
    "    cell=cell, representation=representation)"
   ]
  },
  {
   "cell_type": "code",
   "execution_count": null,
   "metadata": {},
   "outputs": [],
   "source": [
    "be.apply_default_color_scheme(shading_mode=be.SHADING_MODE_BASIC)"
   ]
  },
  {
   "cell_type": "markdown",
   "metadata": {},
   "source": [
    "## Rendering settings"
   ]
  },
  {
   "cell_type": "code",
   "execution_count": null,
   "metadata": {},
   "outputs": [],
   "source": [
    "status = be.set_rendering_quality(be.RENDERING_QUALITY_HIGH)"
   ]
  },
  {
   "cell_type": "markdown",
   "metadata": {},
   "source": [
    "## Environment with protein location constraints"
   ]
  },
  {
   "cell_type": "code",
   "execution_count": null,
   "metadata": {},
   "outputs": [],
   "source": [
    "from bioexplorer import Protein, Volume, RandomizationParams"
   ]
  },
  {
   "cell_type": "code",
   "execution_count": null,
   "metadata": {},
   "outputs": [],
   "source": [
    "scene_size = Vector3(300, 300, 300)\n",
    "nb_glucoses = 100\n",
    "nb_lactoferrins = 20\n",
    "\n",
    "glucose_path = pdb_folder + 'glucose.pdb'\n",
    "lactoferrin_path=pdb_folder + 'immune/1b0l.pdb'\n",
    "defensin_path = pdb_folder + 'immune/1ijv.pdb'"
   ]
  },
  {
   "cell_type": "code",
   "execution_count": null,
   "metadata": {},
   "outputs": [],
   "source": [
    "constraints=list()\n",
    "constraints.append([be.POSITION_CONSTRAINT_OUTSIDE, 'Suzanne'])"
   ]
  },
  {
   "cell_type": "code",
   "execution_count": null,
   "metadata": {},
   "outputs": [],
   "source": [
    "glucose = Protein(\n",
    "    name=be.NAME_GLUCOSE, \n",
    "    source=glucose_path, load_non_polymer_chemicals=True, \n",
    "    random_params=RandomizationParams(1, 0, 0.0, 2, 1.0),\n",
    "    occurences=nb_glucoses)\n",
    "volume = Volume(\n",
    "    name=be.NAME_GLUCOSE, \n",
    "    shape=be.ASSEMBLY_SHAPE_CUBE, shape_params=scene_size,\n",
    "    protein=glucose)\n",
    "status = be.add_volume(\n",
    "    volume=volume,\n",
    "    representation=be.REPRESENTATION_ATOMS_AND_STICKS,\n",
    "    atom_radius_multiplier=2.0, constraints=constraints)"
   ]
  },
  {
   "cell_type": "code",
   "execution_count": null,
   "metadata": {},
   "outputs": [],
   "source": [
    "lactoferrin = Protein(\n",
    "    name=be.NAME_LACTOFERRIN, \n",
    "    source=lactoferrin_path, load_non_polymer_chemicals=True,\n",
    "    random_params=RandomizationParams(3, 0, 0.0, 4, 1.0),\n",
    "    occurences=nb_lactoferrins)\n",
    "lactoferrins_volume = Volume(\n",
    "    name=be.NAME_LACTOFERRIN, \n",
    "    shape=be.ASSEMBLY_SHAPE_CUBE, shape_params=scene_size,\n",
    "    protein=lactoferrin,\n",
    ")\n",
    "status = be.add_volume(\n",
    "    volume=lactoferrins_volume,\n",
    "    representation=be.REPRESENTATION_ATOMS_AND_STICKS,\n",
    "    atom_radius_multiplier=2.0, constraints=constraints)"
   ]
  },
  {
   "cell_type": "code",
   "execution_count": null,
   "metadata": {},
   "outputs": [],
   "source": [
    "from bioexplorer import MovieMaker\n",
    "mm = MovieMaker(be)"
   ]
  },
  {
   "cell_type": "code",
   "execution_count": null,
   "metadata": {},
   "outputs": [],
   "source": [
    "mm.create_snapshot(\n",
    "    renderer='bio_explorer',\n",
    "    path='/tmp', base_name='suzanne',\n",
    "    size=[512, 512], samples_per_pixel=64)"
   ]
  }
 ],
 "metadata": {
  "kernelspec": {
   "display_name": "Python 3",
   "language": "python",
   "name": "python3"
  },
  "language_info": {
   "codemirror_mode": {
    "name": "ipython",
    "version": 3
   },
   "file_extension": ".py",
   "mimetype": "text/x-python",
   "name": "python",
   "nbconvert_exporter": "python",
   "pygments_lexer": "ipython3",
   "version": "3.8.10"
  }
 },
 "nbformat": 4,
 "nbformat_minor": 4
}
