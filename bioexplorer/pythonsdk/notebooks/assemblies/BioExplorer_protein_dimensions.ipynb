{
 "cells": [
  {
   "cell_type": "markdown",
   "metadata": {},
   "source": [
    "# BioExplorer - Validation of component sizes\n",
    "![](../bioexplorer_banner.png)"
   ]
  },
  {
   "cell_type": "markdown",
   "metadata": {},
   "source": [
    "### Initialization"
   ]
  },
  {
   "cell_type": "code",
   "execution_count": null,
   "metadata": {},
   "outputs": [],
   "source": [
    "from bioexplorer import BioExplorer, Protein, Surfactant, Vector3, Quaternion, MovieMaker\n",
    "import os\n",
    "\n",
    "resource_folder = '../../tests/test_files/'\n",
    "pdb_folder = resource_folder + 'pdb/'\n",
    "image_folder = '/tmp/'\n",
    "\n",
    "bio_explorer = BioExplorer('localhost:5000')\n",
    "core = bio_explorer.core_api()\n",
    "mm = MovieMaker(bio_explorer)\n",
    "bio_explorer.reset()\n",
    "print('BioExplorer version ' + bio_explorer.version())\n",
    "\n",
    "line_surfactant = 5\n",
    "line_virus = 25\n",
    "line_defense = 45\n",
    "\n",
    "representation = BioExplorer.REPRESENTATION_ATOMS_AND_STICKS"
   ]
  },
  {
   "cell_type": "markdown",
   "metadata": {},
   "source": [
    "### Camera"
   ]
  },
  {
   "cell_type": "code",
   "execution_count": null,
   "metadata": {},
   "outputs": [],
   "source": [
    "core.set_camera(\n",
    "    current='orthographic',\n",
    "    orientation=[0.0, 0.0, 0.0, 1.0],\n",
    "    position=[23.927943790322814, 24.84577580212592, 260.43975983632527],\n",
    "    target=[23.927943790322814, 24.84577580212592, 39.93749999999999]\n",
    ")\n",
    "params = core.OrthographicCameraParams()\n",
    "params.height = 55\n",
    "status = core.set_camera_params(params)"
   ]
  },
  {
   "cell_type": "markdown",
   "metadata": {},
   "source": [
    "### Grid"
   ]
  },
  {
   "cell_type": "code",
   "execution_count": null,
   "metadata": {},
   "outputs": [],
   "source": [
    "status = bio_explorer.add_grid(\n",
    "    min_value=0, max_value=100, interval=1, radius=0.005, colored=False,\n",
    "    position=Vector3(-10.0, -10.0, -10.0))"
   ]
  },
  {
   "cell_type": "markdown",
   "metadata": {},
   "source": [
    "### Layout"
   ]
  },
  {
   "cell_type": "code",
   "execution_count": null,
   "metadata": {
    "scrolled": true
   },
   "outputs": [],
   "source": [
    "# Protein S\n",
    "virus_protein_s = Protein(\n",
    "    sources=[\n",
    "        pdb_folder + '6vyb.pdb',  # Open conformation\n",
    "        pdb_folder + 'sars-cov-2-v1.pdb'  # Closed conformation\n",
    "    ])\n",
    "\n",
    "bio_explorer.add_protein('Protein S (open)', virus_protein_s,\n",
    "                         conformation_index=0,\n",
    "                         representation=representation,\n",
    "                         position=Vector3(20, line_virus, 0),\n",
    "                         rotation=Quaternion(0, 0, 1, 0))\n",
    "bio_explorer.add_protein('Protein S (closed)', virus_protein_s,\n",
    "                         conformation_index=1,\n",
    "                         representation=representation,\n",
    "                         position=Vector3(5, line_virus, 0),\n",
    "                         rotation=Quaternion(0, 0, 1, 0))\n",
    "\n",
    "# Protein M (QHD43419)\n",
    "virus_protein_m = Protein(sources=[pdb_folder + 'QHD43419a.pdb'])\n",
    "bio_explorer.add_protein('Protein M', virus_protein_m,\n",
    "                         representation=representation,\n",
    "                         position=Vector3(35, line_virus, 0))\n",
    "\n",
    "# Protein E (QHD43418 P0DTC4)\n",
    "virus_protein_e = Protein(sources=[pdb_folder + 'QHD43418a.pdb'])\n",
    "bio_explorer.add_protein('Protein E', virus_protein_e,\n",
    "                         representation=representation,\n",
    "                         position=Vector3(45, line_virus, 0))\n",
    "\n",
    "# Lactoferrin\n",
    "lactoferrin = Protein(sources=[pdb_folder + 'immune/1b0l.pdb'])\n",
    "bio_explorer.add_protein('Lactoferrin', lactoferrin,\n",
    "                         representation=representation,\n",
    "                         position=Vector3(5, line_defense, 0))\n",
    "\n",
    "# Defensin\n",
    "defensin = Protein(sources=[pdb_folder + 'immune/1ijv.pdb'])\n",
    "bio_explorer.add_protein('Defensin', defensin,\n",
    "                         representation=representation,\n",
    "                         position=Vector3(20, line_defense, 0))\n",
    "\n",
    "# Glucose\n",
    "glucose = Protein(sources=[pdb_folder + 'glucose.pdb'], load_non_polymer_chemicals=True)\n",
    "bio_explorer.add_protein('Glucose', glucose,\n",
    "                         representation=representation,\n",
    "                         position=Vector3(30, line_defense, 0),\n",
    "                         rotation=Quaternion(0, 0, 0.707, 0.707))\n",
    "\n",
    "# ACE2 Receptor\n",
    "ace2_receptor = Protein(sources=[pdb_folder + '6m18.pdb'])\n",
    "bio_explorer.add_protein('ACE2 receptor', ace2_receptor,\n",
    "                         representation=representation,\n",
    "                         position=Vector3(45, line_defense - 2.5, 0),\n",
    "                         rotation=Quaternion(0.5, 0.5, 1.0, 0.0))\n",
    "\n",
    "# Surfactant\n",
    "head_source = pdb_folder + 'surfactant/1pw9.pdb'\n",
    "branch_source = pdb_folder + 'surfactant/1k6f.pdb'\n",
    "surfactant_d = Surfactant(\n",
    "    name='Surfactant',\n",
    "    surfactant_protein=bio_explorer.SURFACTANT_BRANCH,\n",
    "    head_source=head_source,\n",
    "    branch_source=branch_source\n",
    ")\n",
    "\n",
    "status = bio_explorer.add_surfactant(\n",
    "    representation=representation,\n",
    "    surfactant=surfactant_d, position=Vector3(5, line_surfactant, 0))"
   ]
  },
  {
   "cell_type": "markdown",
   "metadata": {},
   "source": [
    "### Rendering settings"
   ]
  },
  {
   "cell_type": "code",
   "execution_count": null,
   "metadata": {},
   "outputs": [],
   "source": [
    "status = be.set_rendering_quality(be.RENDERING_QUALITY_HIGH)"
   ]
  },
  {
   "cell_type": "markdown",
   "metadata": {},
   "source": [
    "### Snapshot"
   ]
  },
  {
   "cell_type": "code",
   "execution_count": null,
   "metadata": {},
   "outputs": [],
   "source": [
    "image_size = [1024, 1024]\n",
    "image_samples_per_pixel = 64"
   ]
  },
  {
   "cell_type": "code",
   "execution_count": null,
   "metadata": {},
   "outputs": [],
   "source": [
    "mm.create_snapshot(\n",
    "    size=image_size, samples_per_pixel=image_samples_per_pixel,\n",
    "    path=image_folder, base_name='protein_sizes')"
   ]
  }
 ],
 "metadata": {
  "kernelspec": {
   "display_name": "Python 3",
   "language": "python",
   "name": "python3"
  },
  "language_info": {
   "codemirror_mode": {
    "name": "ipython",
    "version": 3
   },
   "file_extension": ".py",
   "mimetype": "text/x-python",
   "name": "python",
   "nbconvert_exporter": "python",
   "pygments_lexer": "ipython3",
   "version": "3.8.5"
  }
 },
 "nbformat": 4,
 "nbformat_minor": 2
}