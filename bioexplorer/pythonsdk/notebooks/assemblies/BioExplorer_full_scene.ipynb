{
 "cells": [
  {
   "cell_type": "markdown",
   "metadata": {},
   "source": [
    "# Blue Brain BioExplorer\n",
    "\n",
    "![](../bioexplorer_banner.png)"
   ]
  },
  {
   "cell_type": "code",
   "execution_count": null,
   "metadata": {
    "scrolled": true
   },
   "outputs": [],
   "source": [
    "from bioexplorer import BioExplorer, Protein, Surfactant, ParametricMembrane, Volume, \\\n",
    "                        Cell, Sugars, Vector2, Vector3, Quaternion\n",
    "import nglview\n",
    "\n",
    "be = BioExplorer('localhost:5000')"
   ]
  },
  {
   "cell_type": "code",
   "execution_count": null,
   "metadata": {},
   "outputs": [],
   "source": [
    "status = be.reset()"
   ]
  },
  {
   "cell_type": "markdown",
   "metadata": {},
   "source": [
    "### Resources"
   ]
  },
  {
   "cell_type": "code",
   "execution_count": null,
   "metadata": {},
   "outputs": [],
   "source": [
    "resource_folder = '../../tests/test_files/'\n",
    "pdb_folder = resource_folder + 'pdb/'\n",
    "membrane_folder = pdb_folder + 'membrane/'\n",
    "\n",
    "glucose_path = pdb_folder + 'glucose.pdb'\n",
    "lactoferrin_path=pdb_folder + 'immune/1b0l.pdb'\n",
    "defensin_path = pdb_folder + 'immune/1ijv.pdb'\n",
    "\n",
    "surfactant_head_source = pdb_folder + 'surfactant/1pw9.pdb'\n",
    "surfactant_branch_source = pdb_folder + 'surfactant/1k6f.pdb'"
   ]
  },
  {
   "cell_type": "markdown",
   "metadata": {},
   "source": [
    "### Configuration"
   ]
  },
  {
   "cell_type": "code",
   "execution_count": null,
   "metadata": {},
   "outputs": [],
   "source": [
    "# Scene\n",
    "scene_size = Vector3(250.0, 250.0, 250.0)\n",
    "\n",
    "# Immune system\n",
    "nb_glucoses = 3600\n",
    "nb_lactoferrins = 10\n",
    "nb_defensins = 30\n",
    "\n",
    "# Proteins\n",
    "protein_radius_multiplier = 1.0\n",
    "protein_representation = be.REPRESENTATION_ATOMS_AND_STICKS\n",
    "protein_load_hydrogen = False"
   ]
  },
  {
   "cell_type": "markdown",
   "metadata": {},
   "source": [
    "## Camera"
   ]
  },
  {
   "cell_type": "code",
   "execution_count": null,
   "metadata": {},
   "outputs": [],
   "source": [
    "status = be.core_api().set_camera(\n",
    "    orientation=[0.0, 0.0, 0.0, 1.0],\n",
    "    position=[4.883, 44.255, 431.911],\n",
    "    target=[4.883, 44.255, 31.311]\n",
    ")"
   ]
  },
  {
   "cell_type": "markdown",
   "metadata": {},
   "source": [
    "## Scene description"
   ]
  },
  {
   "cell_type": "markdown",
   "metadata": {},
   "source": [
    "### Coronavirus"
   ]
  },
  {
   "cell_type": "code",
   "execution_count": null,
   "metadata": {
    "scrolled": true
   },
   "outputs": [],
   "source": [
    "name='Coronavirus'\n",
    "be.add_coronavirus(\n",
    "    name=name, resource_folder=resource_folder, \n",
    "    representation=protein_representation, \n",
    "    atom_radius_multiplier=protein_radius_multiplier,\n",
    "    add_glycans=True, position=Vector3(75.0, 0.0, 60.0)\n",
    ")"
   ]
  },
  {
   "cell_type": "markdown",
   "metadata": {},
   "source": [
    "### Host cell"
   ]
  },
  {
   "cell_type": "code",
   "execution_count": null,
   "metadata": {},
   "outputs": [],
   "source": [
    "# ACE2 receptor definition\n",
    "ace2_receptor = Protein(\n",
    "    sources=[pdb_folder + '6m18.pdb'],\n",
    "    occurences=1,\n",
    "    position=Vector3(0.0, 6.0, 0.0))\n",
    "\n",
    "# Membrane definition\n",
    "membrane_size = scene_size\n",
    "membrane_height = 80.0\n",
    "membrane = ParametricMembrane(\n",
    "    sources=[\n",
    "        membrane_folder + 'segA.pdb',\n",
    "        membrane_folder + 'segB.pdb',\n",
    "        membrane_folder + 'segC.pdb',\n",
    "        membrane_folder + 'segD.pdb'\n",
    "    ],\n",
    "    occurences=30000)\n",
    "\n",
    "# Cell definition\n",
    "name='Cell'\n",
    "cell = Cell(\n",
    "    name=name, size=Vector2(membrane_size.x, membrane_size.z), shape=be.ASSEMBLY_SHAPE_SINUSOIDAL,\n",
    "    membrane=membrane, receptor=ace2_receptor, extra_parameters=[membrane_height])\n",
    "\n",
    "# Add cell to scene\n",
    "status = be.add_cell(\n",
    "    cell=cell, representation=protein_representation,\n",
    "    atom_radius_multiplier=protein_radius_multiplier,\n",
    "    position=Vector3(0.0, -80.0, 0.0),\n",
    "    random_seed=1\n",
    ")\n",
    "\n",
    "status = be.set_protein_color_scheme(\n",
    "    name, name + '_' + be.NAME_RECEPTOR, \n",
    "    be.COLOR_SCHEME_CHAINS, 'OrRd_r', 7)"
   ]
  },
  {
   "cell_type": "code",
   "execution_count": null,
   "metadata": {},
   "outputs": [],
   "source": [
    "be.get_protein_amino_acid_information(\n",
    "    assembly_name=name, name=name + '_' + be.NAME_RECEPTOR)"
   ]
  },
  {
   "cell_type": "code",
   "execution_count": null,
   "metadata": {},
   "outputs": [],
   "source": [
    "glycan_folder = pdb_folder + 'glycans/'\n",
    "complex_paths = [glycan_folder + 'complex/5.pdb', glycan_folder + 'complex/15.pdb',\n",
    "                 glycan_folder + 'complex/25.pdb',glycan_folder + 'complex/35.pdb']\n",
    "high_mannose_paths = [glycan_folder + 'high-mannose/1.pdb', \n",
    "                      glycan_folder + 'high-mannose/2.pdb',\n",
    "                      glycan_folder + 'high-mannose/3.pdb',\n",
    "                      glycan_folder + 'high-mannose/4.pdb']\n",
    "hybrid_paths = [glycan_folder + 'hybrid/20.pdb']\n",
    "o_glycan_paths = [glycan_folder + 'o-glycan/1.pdb']\n",
    "\n",
    "\n",
    "be.add_multiple_glycans(\n",
    "    representation=protein_representation, assembly_name=name, \n",
    "    glycan_type=be.NAME_GLYCAN_COMPLEX,\n",
    "    protein_name=be.NAME_RECEPTOR, paths=complex_paths, \n",
    "    indices=[53, 90, 103, 322, 432, 690])\n",
    "\n",
    "be.add_multiple_glycans(\n",
    "    representation=protein_representation, assembly_name=name,\n",
    "    glycan_type=be.NAME_GLYCAN_HYBRID,\n",
    "    protein_name=be.NAME_RECEPTOR, paths=hybrid_paths, \n",
    "    indices=[546])\n",
    "\n",
    "indices = [[164, Quaternion(0.707, 0.0, 0.707, 0.0)],\n",
    "           [739, Quaternion(0.707, 0.0, 0.707, 0.0)]]\n",
    "for index in indices:\n",
    "    o_glycan_name = name + '_' + be.NAME_GLYCAN_O_GLYCAN + '_' + str(index[0])\n",
    "    o_glycan = Sugars(\n",
    "        assembly_name=name, name=o_glycan_name, \n",
    "        source=o_glycan_paths[0],\n",
    "        protein_name=name + '_' + be.NAME_RECEPTOR, \n",
    "        representation=protein_representation,\n",
    "        chain_ids=[2, 4], site_indices=[index[0]], \n",
    "        rotation=index[1])\n",
    "    be.add_sugars(o_glycan)"
   ]
  },
  {
   "cell_type": "markdown",
   "metadata": {},
   "source": [
    "### Environment"
   ]
  },
  {
   "cell_type": "code",
   "execution_count": null,
   "metadata": {},
   "outputs": [],
   "source": [
    "volume_position = Vector3(0.0, scene_size.y / 2.0 - 80.0, 0.0)"
   ]
  },
  {
   "cell_type": "markdown",
   "metadata": {},
   "source": [
    "#### Glucose"
   ]
  },
  {
   "cell_type": "code",
   "execution_count": null,
   "metadata": {},
   "outputs": [],
   "source": [
    "nglview.show_file(glucose_path)"
   ]
  },
  {
   "cell_type": "code",
   "execution_count": null,
   "metadata": {},
   "outputs": [],
   "source": [
    "glucose = Protein(\n",
    "    sources=[glucose_path], load_non_polymer_chemicals=True, \n",
    "    occurences=nb_glucoses)\n",
    "volume = Volume(\n",
    "    name=be.NAME_GLUCOSE, size=scene_size, protein=glucose)\n",
    "status = be.add_volume(\n",
    "    volume=volume, \n",
    "    representation=protein_representation,\n",
    "    atom_radius_multiplier=protein_radius_multiplier,\n",
    "    position=volume_position)"
   ]
  },
  {
   "cell_type": "markdown",
   "metadata": {},
   "source": [
    "#### Lactoferrin"
   ]
  },
  {
   "cell_type": "code",
   "execution_count": null,
   "metadata": {},
   "outputs": [],
   "source": [
    "nglview.show_file(lactoferrin_path)"
   ]
  },
  {
   "cell_type": "code",
   "execution_count": null,
   "metadata": {},
   "outputs": [],
   "source": [
    "lactoferrin = Protein(\n",
    "    sources=[lactoferrin_path], load_non_polymer_chemicals=True,\n",
    "    occurences=nb_lactoferrins)\n",
    "lactoferrins_volume = Volume(\n",
    "    name=be.NAME_LACTOFERRIN, size=scene_size, protein=lactoferrin)\n",
    "status = be.add_volume(\n",
    "    volume=lactoferrins_volume,\n",
    "    representation=protein_representation,\n",
    "    atom_radius_multiplier=protein_radius_multiplier,\n",
    "    position=volume_position)"
   ]
  },
  {
   "cell_type": "markdown",
   "metadata": {},
   "source": [
    "#### Defensins"
   ]
  },
  {
   "cell_type": "code",
   "execution_count": null,
   "metadata": {},
   "outputs": [],
   "source": [
    "nglview.show_file(defensin_path)"
   ]
  },
  {
   "cell_type": "code",
   "execution_count": null,
   "metadata": {},
   "outputs": [],
   "source": [
    "defensin = Protein(\n",
    "    sources=[defensin_path], load_non_polymer_chemicals=True, \n",
    "    occurences=nb_defensins)\n",
    "defensins_volume = Volume(\n",
    "    name=be.NAME_DEFENSIN, size=scene_size, protein=defensin)\n",
    "status = be.add_volume(\n",
    "    volume=defensins_volume, \n",
    "    representation=protein_representation,\n",
    "    atom_radius_multiplier=protein_radius_multiplier,\n",
    "    position=volume_position)"
   ]
  },
  {
   "cell_type": "markdown",
   "metadata": {},
   "source": [
    "#### Surfactant-D"
   ]
  },
  {
   "cell_type": "code",
   "execution_count": null,
   "metadata": {},
   "outputs": [],
   "source": [
    "def add_surfactant_d(name, position, random_seed):\n",
    "    surfactant_d = Surfactant(\n",
    "        name=name, surfactant_protein=be.SURFACTANT_PROTEIN_D, \n",
    "        head_source=surfactant_head_source,\n",
    "        branch_source=surfactant_branch_source)\n",
    "    be.add_surfactant(\n",
    "        surfactant=surfactant_d, \n",
    "        representation=protein_representation,\n",
    "        atom_radius_multiplier=protein_radius_multiplier,\n",
    "        position=position, random_seed=random_seed)\n",
    "\n",
    "add_surfactant_d(\n",
    "    name='Surfactant-D 1',\n",
    "    position=Vector3(2.0, 18.0, 102.0),\n",
    "    random_seed=1)"
   ]
  },
  {
   "cell_type": "markdown",
   "metadata": {},
   "source": [
    "#### Surfactant A"
   ]
  },
  {
   "cell_type": "code",
   "execution_count": null,
   "metadata": {},
   "outputs": [],
   "source": [
    "def add_surfactant_a(name, position, random_seed):\n",
    "    surfactant_a = Surfactant(\n",
    "        name=name, surfactant_protein=be.SURFACTANT_PROTEIN_A, \n",
    "        head_source=surfactant_head_source,\n",
    "        branch_source=surfactant_branch_source)\n",
    "    be.add_surfactant(\n",
    "        surfactant=surfactant_a, \n",
    "        representation=protein_representation,\n",
    "        atom_radius_multiplier=protein_radius_multiplier,\n",
    "        position=position, random_seed=random_seed)\n",
    "\n",
    "add_surfactant_a(\n",
    "    name='Surfactant-A 1',\n",
    "    position=Vector3(-100.0, 0.0, 0.0),\n",
    "    random_seed=2)"
   ]
  },
  {
   "cell_type": "markdown",
   "metadata": {},
   "source": [
    "## Materials"
   ]
  },
  {
   "cell_type": "code",
   "execution_count": null,
   "metadata": {},
   "outputs": [],
   "source": [
    "be.apply_default_color_scheme(\n",
    "    specular_exponent=5, glossiness=0.1,\n",
    "    user_parameter=0.01,\n",
    "    shading_mode=be.SHADING_MODE_PERLIN)"
   ]
  },
  {
   "cell_type": "markdown",
   "metadata": {},
   "source": [
    "## Rendering settings"
   ]
  },
  {
   "cell_type": "code",
   "execution_count": null,
   "metadata": {},
   "outputs": [],
   "source": [
    "status = be.set_rendering_quality(be.RENDERING_QUALITY_HIGH)"
   ]
  }
 ],
 "metadata": {
  "kernelspec": {
   "display_name": "Python 3",
   "language": "python",
   "name": "python3"
  },
  "language_info": {
   "codemirror_mode": {
    "name": "ipython",
    "version": 3
   },
   "file_extension": ".py",
   "mimetype": "text/x-python",
   "name": "python",
   "nbconvert_exporter": "python",
   "pygments_lexer": "ipython3",
   "version": "3.8.10"
  }
 },
 "nbformat": 4,
 "nbformat_minor": 4
}
