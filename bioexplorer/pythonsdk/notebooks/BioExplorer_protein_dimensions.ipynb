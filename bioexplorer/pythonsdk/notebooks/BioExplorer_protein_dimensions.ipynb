{
 "cells": [
  {
   "cell_type": "markdown",
   "metadata": {},
   "source": [
    "# BioExplorer - Validation of component sizes"
   ]
  },
  {
   "cell_type": "markdown",
   "metadata": {},
   "source": [
    "### Initialization"
   ]
  },
  {
   "cell_type": "code",
   "execution_count": null,
   "metadata": {},
   "outputs": [],
   "source": [
    "from bioexplorer import BioExplorer, Protein, Surfactant, Vector3, Quaternion\n",
    "from braynsmediamaker import MovieMaker\n",
    "import os\n",
    "\n",
    "resource_folder = '../tests/test_files/'\n",
    "pdb_folder = resource_folder + 'pdb/'\n",
    "image_folder = resource_folder + 'images/'\n",
    "\n",
    "bio_explorer = BioExplorer('localhost:5000')\n",
    "core = bio_explorer.core_api()\n",
    "mm = MovieMaker(core)\n",
    "bio_explorer.reset()\n",
    "print('BioExplorer version ' + bio_explorer.version())\n",
    "\n",
    "line_surfactant = 5\n",
    "line_virus = 25\n",
    "line_defense = 45\n",
    "\n",
    "representation = BioExplorer.REPRESENTATION_ATOMS_AND_STICKS"
   ]
  },
  {
   "cell_type": "markdown",
   "metadata": {},
   "source": [
    "### Camera"
   ]
  },
  {
   "cell_type": "code",
   "execution_count": null,
   "metadata": {},
   "outputs": [],
   "source": [
    "core.set_camera(\n",
    "    current='orthographic',\n",
    "    orientation=[0.0, 0.0, 0.0, 1.0],\n",
    "    position=[23.927943790322814, 24.84577580212592, 260.43975983632527],\n",
    "    target=[23.927943790322814, 24.84577580212592, 39.93749999999999]\n",
    ")\n",
    "params = core.OrthographicCameraParams()\n",
    "params.height = 55\n",
    "status = core.set_camera_params(params)"
   ]
  },
  {
   "cell_type": "markdown",
   "metadata": {},
   "source": [
    "### Grid"
   ]
  },
  {
   "cell_type": "code",
   "execution_count": 1,
   "metadata": {},
   "outputs": [
    {
     "ename": "NameError",
     "evalue": "name 'bio_explorer' is not defined",
     "output_type": "error",
     "traceback": [
      "\u001b[0;31m---------------------------------------------------------------------------\u001b[0m",
      "\u001b[0;31mNameError\u001b[0m                                 Traceback (most recent call last)",
      "\u001b[0;32m<ipython-input-1-d0d52e458cdc>\u001b[0m in \u001b[0;36m<module>\u001b[0;34m\u001b[0m\n\u001b[0;32m----> 1\u001b[0;31m status = bio_explorer.add_grid(\n\u001b[0m\u001b[1;32m      2\u001b[0m     \u001b[0mmin_value\u001b[0m\u001b[0;34m=\u001b[0m\u001b[0;36m0\u001b[0m\u001b[0;34m,\u001b[0m \u001b[0mmax_value\u001b[0m\u001b[0;34m=\u001b[0m\u001b[0;36m100\u001b[0m\u001b[0;34m,\u001b[0m \u001b[0minterval\u001b[0m\u001b[0;34m=\u001b[0m\u001b[0;36m1\u001b[0m\u001b[0;34m,\u001b[0m \u001b[0mradius\u001b[0m\u001b[0;34m=\u001b[0m\u001b[0;36m0.005\u001b[0m\u001b[0;34m,\u001b[0m \u001b[0mcolored\u001b[0m\u001b[0;34m=\u001b[0m\u001b[0;32mFalse\u001b[0m\u001b[0;34m,\u001b[0m\u001b[0;34m\u001b[0m\u001b[0;34m\u001b[0m\u001b[0m\n\u001b[1;32m      3\u001b[0m     position=Vector3(-10.0, -10.0, -10.0))\n",
      "\u001b[0;31mNameError\u001b[0m: name 'bio_explorer' is not defined"
     ]
    }
   ],
   "source": [
    "status = bio_explorer.add_grid(\n",
    "    min_value=0, max_value=100, interval=1, radius=0.005, colored=False,\n",
    "    position=Vector3(-10.0, -10.0, -10.0))"
   ]
  },
  {
   "cell_type": "markdown",
   "metadata": {},
   "source": [
    "### Layout"
   ]
  },
  {
   "cell_type": "code",
   "execution_count": null,
   "metadata": {
    "scrolled": true
   },
   "outputs": [],
   "source": [
    "# Protein S\n",
    "virus_protein_s = Protein(\n",
    "    sources=[\n",
    "        pdb_folder + '6vyb.pdb',  # Open conformation\n",
    "        pdb_folder + 'sars-cov-2-v1.pdb'  # Closed conformation\n",
    "    ])\n",
    "\n",
    "bio_explorer.add_protein('Protein S (open)', virus_protein_s,\n",
    "                         conformation_index=0,\n",
    "                         representation=representation,\n",
    "                         position=Vector3(20, line_virus, 0),\n",
    "                         orientation=Quaternion(0, 0, 1, 0))\n",
    "bio_explorer.add_protein('Protein S (closed)', virus_protein_s,\n",
    "                         conformation_index=1,\n",
    "                         representation=representation,\n",
    "                         position=Vector3(5, line_virus, 0),\n",
    "                         orientation=Quaternion(0, 0, 1, 0))\n",
    "\n",
    "# Protein M (QHD43419)\n",
    "virus_protein_m = Protein(sources=[pdb_folder + 'QHD43419a.pdb'])\n",
    "bio_explorer.add_protein('Protein M', virus_protein_m,\n",
    "                         representation=representation,\n",
    "                         position=Vector3(35, line_virus, 0))\n",
    "\n",
    "# Protein E (QHD43418 P0DTC4)\n",
    "virus_protein_e = Protein(sources=[pdb_folder + 'QHD43418a.pdb'])\n",
    "bio_explorer.add_protein('Protein E', virus_protein_e,\n",
    "                         representation=representation,\n",
    "                         position=Vector3(45, line_virus, 0))\n",
    "\n",
    "# Lactoferrin\n",
    "lactoferrin = Protein(sources=[pdb_folder + 'immune/1b0l.pdb'])\n",
    "bio_explorer.add_protein('Lactoferrin', lactoferrin,\n",
    "                         representation=representation,\n",
    "                         position=Vector3(5, line_defense, 0))\n",
    "\n",
    "# Defensin\n",
    "defensin = Protein(sources=[pdb_folder + 'immune/1ijv.pdb'])\n",
    "bio_explorer.add_protein('Defensin', defensin,\n",
    "                         representation=representation,\n",
    "                         position=Vector3(20, line_defense, 0))\n",
    "\n",
    "# Glucose\n",
    "glucose = Protein(sources=[pdb_folder + 'glucose.pdb'], load_non_polymer_chemicals=True)\n",
    "bio_explorer.add_protein('Glucose', glucose,\n",
    "                         representation=representation,\n",
    "                         position=Vector3(30, line_defense, 0),\n",
    "                         orientation=Quaternion(0, 0, 0.707, 0.707))\n",
    "\n",
    "# ACE2 Receptor\n",
    "ace2_receptor = Protein(sources=[pdb_folder + '6m18.pdb'])\n",
    "bio_explorer.add_protein('ACE2 receptor', ace2_receptor,\n",
    "                         representation=representation,\n",
    "                         position=Vector3(45, line_defense - 2.5, 0),\n",
    "                         orientation=Quaternion(0.5, 0.5, 1.0, 0.0))\n",
    "\n",
    "# Surfactant\n",
    "head_source = pdb_folder + 'surfactant/1pw9.pdb'\n",
    "branch_source = pdb_folder + 'surfactant/1k6f.pdb'\n",
    "surfactant_d = Surfactant(\n",
    "    name='Surfactant',\n",
    "    surfactant_protein=bio_explorer.SURFACTANT_BRANCH,\n",
    "    head_source=head_source,\n",
    "    branch_source=branch_source\n",
    ")\n",
    "\n",
    "bio_explorer.add_surfactant(\n",
    "    representation=representation,\n",
    "    surfactant=surfactant_d, position=Vector3(5, line_surfactant, 0))"
   ]
  },
  {
   "cell_type": "markdown",
   "metadata": {},
   "source": [
    "### Rendering settings"
   ]
  },
  {
   "cell_type": "code",
   "execution_count": null,
   "metadata": {},
   "outputs": [],
   "source": [
    "core.set_renderer(\n",
    "    background_color=[96 / 255, 125 / 255, 139 / 255],\n",
    "    current='bio_explorer',\n",
    "    samples_per_pixel=1, subsampling=1, max_accum_frames=64)\n",
    "params = core.BioExplorerRendererParams()\n",
    "params.gi_samples = 3\n",
    "params.gi_weight = 0.4\n",
    "params.gi_distance = 50\n",
    "params.shadows = 1\n",
    "params.soft_shadows = 1\n",
    "params.fog_start = 1500\n",
    "params.fog_thickness = 1500\n",
    "params.max_bounces = 1\n",
    "status = core.set_renderer_params(params)"
   ]
  },
  {
   "cell_type": "markdown",
   "metadata": {},
   "source": [
    "### Snapshot"
   ]
  },
  {
   "cell_type": "code",
   "execution_count": null,
   "metadata": {},
   "outputs": [],
   "source": [
    "image_size = [4096, 4096]\n",
    "image_samples_per_pixel = 64\n",
    "\n",
    "command_line='mkdir -p ' + image_folder\n",
    "os.system(command_line)\n",
    "command_line='ls ' + image_folder\n",
    "print(image_folder)\n",
    "if os.system(command_line) != 0:\n",
    "    print('ERROR: Failed to create image folder')"
   ]
  },
  {
   "cell_type": "code",
   "execution_count": null,
   "metadata": {},
   "outputs": [],
   "source": [
    "mm.create_snapshot(exportIntermediateFrames=False,\n",
    "    size=image_size, samples_per_pixel=image_samples_per_pixel,\n",
    "    path=image_folder + '/protein_sizes.png')"
   ]
  }
 ],
 "metadata": {
  "kernelspec": {
   "display_name": "Python 3",
   "language": "python",
   "name": "python3"
  },
  "language_info": {
   "codemirror_mode": {
    "name": "ipython",
    "version": 3
   },
   "file_extension": ".py",
   "mimetype": "text/x-python",
   "name": "python",
   "nbconvert_exporter": "python",
   "pygments_lexer": "ipython3",
   "version": "3.8.5"
  }
 },
 "nbformat": 4,
 "nbformat_minor": 2
}
