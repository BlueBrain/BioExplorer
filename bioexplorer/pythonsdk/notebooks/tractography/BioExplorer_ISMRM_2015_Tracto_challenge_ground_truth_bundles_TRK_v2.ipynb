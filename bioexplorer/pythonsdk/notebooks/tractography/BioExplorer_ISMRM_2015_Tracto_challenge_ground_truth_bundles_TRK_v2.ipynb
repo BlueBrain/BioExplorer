{
    "cells": [
        {
            "cell_type": "markdown",
            "metadata": {},
            "source": [
                "# Blue Brain BioExplorer - Tractography Challenge ISMRM 2015\n",
                "\n",
                "https://zenodo.org/record/572345\n",
                "\n",
                "![](../bioexplorer_white_matter_banner.png)"
            ]
        },
        {
            "cell_type": "markdown",
            "metadata": {},
            "source": [
                "### Prerequeries"
            ]
        },
        {
            "cell_type": "code",
            "execution_count": null,
            "metadata": {},
            "outputs": [],
            "source": [
                "!pip install dipy"
            ]
        },
        {
            "cell_type": "markdown",
            "metadata": {},
            "source": [
                "### Connect to BioExplorer backend"
            ]
        },
        {
            "cell_type": "code",
            "execution_count": null,
            "metadata": {},
            "outputs": [],
            "source": [
                "from bioexplorer import BioExplorer\n",
                "\n",
                "be = BioExplorer('localhost:5000')\n",
                "core = be.core_api()\n",
                "be.reset_scene()"
            ]
        },
        {
            "cell_type": "markdown",
            "metadata": {},
            "source": [
                "### Dataset"
            ]
        },
        {
            "cell_type": "code",
            "execution_count": null,
            "metadata": {},
            "outputs": [],
            "source": [
                "import os, fnmatch\n",
                "\n",
                "home_folder = '<TO BE DEFINED>'\n",
                "folder = os.path.join(home_folder, 'ISMRM_2015_Tracto_challenge_ground_truth_bundles_TRK_v2')\n",
                "files = fnmatch.filter(os.listdir(folder), '*.trk')\n",
                "files.sort()"
            ]
        },
        {
            "cell_type": "code",
            "execution_count": null,
            "metadata": {},
            "outputs": [],
            "source": [
                "def add_streamlines(name, streams, radius):\n",
                "    ''' Build streamlines'''\n",
                "    count = 0\n",
                "    indices = list()\n",
                "    vertices = list()\n",
                "    colors = list()\n",
                "    for stream in streams:\n",
                "        l = len(stream)\n",
                "        for coordinates in stream:\n",
                "            for coordinate in coordinates:\n",
                "                vertices.append(float(coordinate))\n",
                "            vertices.append(radius)\n",
                "        count = count + l\n",
                "        indices.append(count)\n",
                "    '''Send streamlines to the BioExplorer'''\n",
                "    return be.add_streamlines(name, indices, vertices, colors)"
            ]
        },
        {
            "cell_type": "code",
            "execution_count": null,
            "metadata": {},
            "outputs": [],
            "source": [
                "from dipy.io.streamline import load_trk\n",
                "for file in files:\n",
                "    streams = load_trk(os.path.join(folder, file), reference='same', bbox_valid_check=False)\n",
                "    streamlines = streams.streamlines\n",
                "    add_streamlines(file, streamlines, radius=0.1)"
            ]
        },
        {
            "cell_type": "code",
            "execution_count": null,
            "metadata": {},
            "outputs": [],
            "source": [
                "status = be.reset_camera()\n",
                "status = core.set_renderer(current='advanced')"
            ]
        }
    ],
    "metadata": {
        "kernelspec": {
            "display_name": "Python 3.8.10 64-bit ('env': venv)",
            "language": "python",
            "name": "python3"
        },
        "language_info": {
            "codemirror_mode": {
                "name": "ipython",
                "version": 3
            },
            "file_extension": ".py",
            "mimetype": "text/x-python",
            "name": "python",
            "nbconvert_exporter": "python",
            "pygments_lexer": "ipython3",
            "version": "3.10.12"
        },
        "vscode": {
            "interpreter": {
                "hash": "ea9a5fa46eb6bad2806a8ea1d08e15bb1e255a2d4320b81e765591579963c56b"
            }
        }
    },
    "nbformat": 4,
    "nbformat_minor": 4
}
