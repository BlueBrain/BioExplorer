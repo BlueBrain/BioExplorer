{
 "cells": [
  {
   "cell_type": "markdown",
   "id": "c70bfe61",
   "metadata": {},
   "source": [
    "# DICOM Viewer in BioExplorer\n",
    "![](../../../../../../extensions/medicalimaging/docs/dicom_banner.png)"
   ]
  },
  {
   "cell_type": "markdown",
   "id": "03d1ff77",
   "metadata": {},
   "source": [
    "### Connect to BioExplorer back-end"
   ]
  },
  {
   "cell_type": "code",
   "execution_count": null,
   "id": "bb9d62e2",
   "metadata": {},
   "outputs": [],
   "source": [
    "from bioexplorer import BioExplorer, TransferFunction, Widgets\n",
    "be = BioExplorer('localhost:5000')\n",
    "core = be.core_api()\n",
    "w = Widgets(be)"
   ]
  },
  {
   "cell_type": "markdown",
   "id": "7e656a5c",
   "metadata": {},
   "source": [
    "### Load DICOM dataset"
   ]
  },
  {
   "cell_type": "code",
   "execution_count": null,
   "id": "2a5e4572",
   "metadata": {},
   "outputs": [],
   "source": [
    "be.reset_scene()\n",
    "model = core.add_model('<path_to_dicom_dataset>/DICOMDIR')\n",
    "status = core.set_renderer(current='dicom')\n",
    "status = be.reset_camera()\n",
    "status = core.set_volume_parameters(\n",
    "    pre_integration=False,\n",
    "    specular=(1,1,1),\n",
    "    gradient_shading=True, single_shade=True,\n",
    "    adaptive_sampling=True,\n",
    "    adaptive_max_sampling_rate=1.0, sampling_rate=1.0)"
   ]
  },
  {
   "cell_type": "markdown",
   "id": "186c7d47",
   "metadata": {},
   "source": [
    "### Display widgets to interact with back-end"
   ]
  },
  {
   "cell_type": "code",
   "execution_count": null,
   "id": "ae927055",
   "metadata": {},
   "outputs": [],
   "source": [
    "model_id = be.get_model_ids()['ids'][0]\n",
    "tf = TransferFunction(bioexplorer=be, model_id=model_id, filename='PET.1dt', value_range=[0, 6192])\n",
    "w.display_rendering_settings()\n",
    "w.display_advanced_rendering_settings()\n",
    "w.display_clipping_planes()"
   ]
  }
 ],
 "metadata": {
  "kernelspec": {
   "display_name": "Python 3 (ipykernel)",
   "language": "python",
   "name": "python3"
  },
  "language_info": {
   "codemirror_mode": {
    "name": "ipython",
    "version": 3
   },
   "file_extension": ".py",
   "mimetype": "text/x-python",
   "name": "python",
   "nbconvert_exporter": "python",
   "pygments_lexer": "ipython3",
   "version": "3.10.6"
  },
  "vscode": {
   "interpreter": {
    "hash": "ea9a5fa46eb6bad2806a8ea1d08e15bb1e255a2d4320b81e765591579963c56b"
   }
  }
 },
 "nbformat": 4,
 "nbformat_minor": 5
}
