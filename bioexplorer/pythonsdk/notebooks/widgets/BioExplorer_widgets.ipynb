{
 "cells": [
  {
   "attachments": {},
   "cell_type": "markdown",
   "metadata": {},
   "source": [
    "# Blue Brain BioExplorer\n",
    "![](../bioexplorer_banner.png)"
   ]
  },
  {
   "cell_type": "code",
   "execution_count": 55,
   "metadata": {},
   "outputs": [],
   "source": [
    "from bioexplorer import BioExplorer, Widgets\n",
    "\n",
    "url = 'localhost:5000'\n",
    "be = BioExplorer(url)\n",
    "w = Widgets(be)"
   ]
  },
  {
   "cell_type": "code",
   "execution_count": 56,
   "metadata": {},
   "outputs": [],
   "source": [
    "# w.display_clipping_planes([-50, 50])"
   ]
  },
  {
   "cell_type": "code",
   "execution_count": 57,
   "metadata": {},
   "outputs": [],
   "source": [
    "core = be.core_api()\n",
    "core.set_environment_map('/media/favreau/medias/hdri/0000.jpg')\n",
    "status = core.set_renderer(\n",
    "    background_color=[0.2, 0.15, 0.3], head_light=False,\n",
    "    current='advanced',subsampling=4, max_accum_frames=64)\n",
    "params = core.AdvancedRendererParams()\n",
    "params.gi_samples = 1\n",
    "params.gi_strength = 0.5\n",
    "params.gi_ray_length = 100.0\n",
    "params.shadow_intensity = 1.0\n",
    "params.soft_shadow_strength = 0.0\n",
    "params.epsilon_multiplier = 100.0\n",
    "params.max_ray_depth = 10\n",
    "params.show_background = True\n",
    "params.main_exposure = 1.0\n",
    "status = core.set_renderer_params(params)\n",
    "status = core.set_renderer()"
   ]
  },
  {
   "cell_type": "code",
   "execution_count": 58,
   "metadata": {},
   "outputs": [
    {
     "data": {
      "application/vnd.jupyter.widget-view+json": {
       "model_id": "b19eccf2f90247b2924291e07390e801",
       "version_major": 2,
       "version_minor": 0
      },
      "text/plain": [
       "VBox(children=(HBox(children=(Select(description='Models:', options=('Demo scene',), value='Demo scene'), Sele…"
      ]
     },
     "metadata": {},
     "output_type": "display_data"
    }
   ],
   "source": [
    "w.display_palette_for_models()"
   ]
  },
  {
   "cell_type": "code",
   "execution_count": 59,
   "metadata": {
    "scrolled": false
   },
   "outputs": [
    {
     "data": {
      "application/vnd.jupyter.widget-view+json": {
       "model_id": "020d85543ca745d9a35b0ca411b07846",
       "version_major": 2,
       "version_minor": 0
      },
      "text/plain": [
       "HBox(children=(VBox(children=(FloatSlider(value=0.5, description='X', max=1.0), FloatSlider(value=0.5, descrip…"
      ]
     },
     "metadata": {},
     "output_type": "display_data"
    }
   ],
   "source": [
    "w.display_focal_distance(with_preview=False)"
   ]
  },
  {
   "cell_type": "code",
   "execution_count": 60,
   "metadata": {
    "scrolled": false
   },
   "outputs": [
    {
     "data": {
      "application/vnd.jupyter.widget-view+json": {
       "model_id": "73eca5277dfa467fa9815b7340dd308c",
       "version_major": 2,
       "version_minor": 0
      },
      "text/plain": [
       "VBox(children=(HBox(children=(Select(description='Models:', options=('Demo scene',), value='Demo scene'), Sele…"
      ]
     },
     "metadata": {},
     "output_type": "display_data"
    }
   ],
   "source": [
    "w.display_palette_for_models()"
   ]
  },
  {
   "cell_type": "code",
   "execution_count": 61,
   "metadata": {},
   "outputs": [
    {
     "ename": "NameError",
     "evalue": "name 'DEFAULT_GRID_LAYOUT' is not defined",
     "output_type": "error",
     "traceback": [
      "\u001b[0;31m---------------------------------------------------------------------------\u001b[0m",
      "\u001b[0;31mNameError\u001b[0m                                 Traceback (most recent call last)",
      "\u001b[1;32m/home/favreau/code/favreau/BioExplorer/bioexplorer/pythonsdk/notebooks/widgets/BioExplorer_widgets.ipynb Cell 8\u001b[0m line \u001b[0;36m1\n\u001b[0;32m----> <a href='vscode-notebook-cell:/home/favreau/code/favreau/BioExplorer/bioexplorer/pythonsdk/notebooks/widgets/BioExplorer_widgets.ipynb#X11sZmlsZQ%3D%3D?line=0'>1</a>\u001b[0m w\u001b[39m.\u001b[39;49mdisplay_model_visibility()\n",
      "File \u001b[0;32m~/Notebooks/env/lib/python3.10/site-packages/bioexplorer/notebook_widgets.py:638\u001b[0m, in \u001b[0;36mWidgets.display_model_visibility\u001b[0;34m(self)\u001b[0m\n\u001b[1;32m    635\u001b[0m hide_aabb_btn\u001b[39m.\u001b[39mon_click(hide_aabbs)\n\u001b[1;32m    636\u001b[0m adjust_camera_btn\u001b[39m.\u001b[39mon_click(adjust_camera)\n\u001b[0;32m--> 638\u001b[0m hbox \u001b[39m=\u001b[39m HBox([model_select, hbox_params], layout\u001b[39m=\u001b[39mDEFAULT_GRID_LAYOUT)\n\u001b[1;32m    639\u001b[0m display(hbox)\n",
      "\u001b[0;31mNameError\u001b[0m: name 'DEFAULT_GRID_LAYOUT' is not defined"
     ]
    }
   ],
   "source": [
    "w.display_model_visibility()"
   ]
  },
  {
   "cell_type": "markdown",
   "metadata": {},
   "source": []
  },
  {
   "cell_type": "code",
   "execution_count": null,
   "metadata": {},
   "outputs": [],
   "source": [
    "w.display_advanced_camera_settings()"
   ]
  },
  {
   "cell_type": "code",
   "execution_count": null,
   "metadata": {
    "scrolled": true
   },
   "outputs": [],
   "source": [
    "be.core_api().set_renderer(current='advanced')\n",
    "w.display_rendering_settings()\n",
    "w.display_advanced_rendering_settings()"
   ]
  },
  {
   "cell_type": "code",
   "execution_count": null,
   "metadata": {},
   "outputs": [],
   "source": [
    "w.display_model_focus(max_number_of_instances=10)"
   ]
  }
 ],
 "metadata": {
  "kernelspec": {
   "display_name": "Python 3.8.10 64-bit ('env': venv)",
   "language": "python",
   "name": "python3"
  },
  "language_info": {
   "codemirror_mode": {
    "name": "ipython",
    "version": 3
   },
   "file_extension": ".py",
   "mimetype": "text/x-python",
   "name": "python",
   "nbconvert_exporter": "python",
   "pygments_lexer": "ipython3",
   "version": "3.10.12"
  },
  "vscode": {
   "interpreter": {
    "hash": "ea9a5fa46eb6bad2806a8ea1d08e15bb1e255a2d4320b81e765591579963c56b"
   }
  }
 },
 "nbformat": 4,
 "nbformat_minor": 4
}
