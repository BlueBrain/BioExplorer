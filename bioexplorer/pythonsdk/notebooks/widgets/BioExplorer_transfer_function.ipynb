{
 "cells": [
  {
   "attachments": {},
   "cell_type": "markdown",
   "metadata": {},
   "source": [
    "# Blue Brain BioExplorer\n",
    "![](../bioexplorer_banner.png)"
   ]
  },
  {
   "cell_type": "code",
   "execution_count": 1,
   "metadata": {},
   "outputs": [
    {
     "name": "stderr",
     "output_type": "stream",
     "text": [
      "/home/favreau/Notebooks/env/lib/python3.10/site-packages/python_jsonschema_objects/__init__.py:100: UserWarning: Schema version not specified. Defaulting to http://json-schema.org/draft-04/schema\n",
      "  warnings.warn(\n",
      "/home/favreau/Notebooks/env/lib/python3.10/site-packages/python_jsonschema_objects/__init__.py:113: UserWarning: Schema id not specified. Defaulting to 'self'\n",
      "  warnings.warn(\"Schema id not specified. Defaulting to 'self'\")\n"
     ]
    }
   ],
   "source": [
    "from bioexplorer import BioExplorer, TransferFunction\n",
    "\n",
    "'''Connect to the BioExplorer'''\n",
    "url = 'localhost:5000'\n",
    "be = BioExplorer(url)\n",
    "core = be.core_api()"
   ]
  },
  {
   "cell_type": "code",
   "execution_count": 2,
   "metadata": {},
   "outputs": [
    {
     "data": {
      "application/vnd.jupyter.widget-view+json": {
       "model_id": "1471e05498bb4160b8e21ebb9ad9ed8b",
       "version_major": 2,
       "version_minor": 0
      },
      "text/plain": [
       "VBox(children=(Box(children=(ColorPicker(value='black', concise=True, layout=Layout(height='20px', max_width='…"
      ]
     },
     "metadata": {},
     "output_type": "display_data"
    }
   ],
   "source": [
    "'''Create transfer function widget'''\n",
    "model_ids = be.get_model_ids()['ids']\n",
    "tf = TransferFunction(\n",
    "    bioexplorer=be, model_id=model_ids[0],\n",
    "    name='Set1',\n",
    "    value_range=[0, 0.05], size=20, alpha=1.0)"
   ]
  },
  {
   "cell_type": "code",
   "execution_count": 3,
   "metadata": {
    "scrolled": false
   },
   "outputs": [],
   "source": [
    "'''Change colormap'''\n",
    "tf.set_palette('OrRd')"
   ]
  },
  {
   "cell_type": "code",
   "execution_count": 4,
   "metadata": {},
   "outputs": [],
   "source": [
    "'''Change range of values'''\n",
    "tf.set_range([0, 0.01])"
   ]
  },
  {
   "cell_type": "code",
   "execution_count": null,
   "metadata": {},
   "outputs": [],
   "source": [
    "core = be.core_api()\n",
    "core.set_volume_parameters(pre_integration=True,\n",
    "    specular=(1,1,1),\n",
    "    gradient_shading=True, single_shade=True,\n",
    "    adaptive_sampling=True,\n",
    "    adaptive_max_sampling_rate=1.0, sampling_rate=1.0)"
   ]
  },
  {
   "cell_type": "code",
   "execution_count": null,
   "metadata": {},
   "outputs": [],
   "source": [
    "from ipywidgets import IntSlider\n",
    "from bioexplorer import Widgets\n",
    "\n",
    "def update_colormap(value):\n",
    "    tf.set_palette(Widgets.COLOR_MAPS[value.new])\n",
    "    \n",
    "colormap_slider = IntSlider(min=0, max=len(Widgets.COLOR_MAPS))\n",
    "colormap_slider.observe(update_colormap, \"value\")\n",
    "display(colormap_slider)"
   ]
  },
  {
   "cell_type": "code",
   "execution_count": null,
   "metadata": {},
   "outputs": [],
   "source": []
  }
 ],
 "metadata": {
  "kernelspec": {
   "display_name": "Python 3.8.10 64-bit ('env': venv)",
   "language": "python",
   "name": "python3"
  },
  "language_info": {
   "codemirror_mode": {
    "name": "ipython",
    "version": 3
   },
   "file_extension": ".py",
   "mimetype": "text/x-python",
   "name": "python",
   "nbconvert_exporter": "python",
   "pygments_lexer": "ipython3",
   "version": "3.10.12"
  },
  "vscode": {
   "interpreter": {
    "hash": "ea9a5fa46eb6bad2806a8ea1d08e15bb1e255a2d4320b81e765591579963c56b"
   }
  }
 },
 "nbformat": 4,
 "nbformat_minor": 4
}
