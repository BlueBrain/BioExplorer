{
 "cells": [
  {
   "cell_type": "code",
   "execution_count": 6,
   "metadata": {},
   "outputs": [],
   "source": [
    "from bioexplorer import BioExplorer, Vector3\n",
    "be = BioExplorer('localhost:5000')\n",
    "core = be.core_api()\n",
    "be.reset()\n",
    "brick_folder='/media/favreau/Documents/medias/covid19/caches/0.9.0/ooc'\n",
    "scene_size = Vector3(2104.965151244509, 2233.8291669283426, 1530.164138311803)\n",
    "\n",
    "status = be.set_out_of_core(\n",
    "    enabled=True, bricks_folder=brick_folder,\n",
    "    scene_size=scene_size, nb_bricks=16,\n",
    "    visible_bricks=1, update_frequency=1\n",
    ")"
   ]
  },
  {
   "cell_type": "code",
   "execution_count": null,
   "metadata": {},
   "outputs": [],
   "source": []
  },
  {
   "cell_type": "code",
   "execution_count": 3,
   "metadata": {},
   "outputs": [
    {
     "data": {
      "text/plain": [
       "'OK'"
      ]
     },
     "execution_count": 3,
     "metadata": {},
     "output_type": "execute_result"
    }
   ],
   "source": [
    "''' Free virus '''\n",
    "from braynsmediamaker import MovieMaker\n",
    "mm = MovieMaker(core)\n",
    "mm.set_camera(\n",
    "    direction = [0.009773650870842058, 0.055637689937490555, -0.9984031866971752],\n",
    "    origin = [-0.8326505846645085, 72.13442718359964, 387.3897531301451],\n",
    "    up = [0.017212981116998226, 0.9982935759877467, 0.05580008443239925]\n",
    ")"
   ]
  },
  {
   "cell_type": "code",
   "execution_count": null,
   "metadata": {},
   "outputs": [],
   "source": [
    "''' SP-D '''\n",
    "mm.set_camera(\n",
    "    direction = [0.2770886615454376, -0.04995182322298369, -0.9595450427153785],\n",
    "    origin = [38.7494418885782, 35.22884264232454, 5.536177330103954],\n",
    "    up = [0.0, 1.0, 0.0]\n",
    ")"
   ]
  },
  {
   "cell_type": "code",
   "execution_count": null,
   "metadata": {},
   "outputs": [],
   "source": [
    "''' Overview '''\n",
    "mm.set_camera(\n",
    "    direction = [0.009773650870841987, 0.05563768993749014, -0.9984031866971752],\n",
    "    origin = [0.29305853014576577, 19.60498668197603, 1000],\n",
    "    up = [0.017212981116998243, 0.9982935759877467, 0.05580008443239883]\n",
    ")"
   ]
  },
  {
   "cell_type": "code",
   "execution_count": 4,
   "metadata": {},
   "outputs": [
    {
     "data": {
      "text/plain": [
       "'OK'"
      ]
     },
     "execution_count": 4,
     "metadata": {},
     "output_type": "execute_result"
    }
   ],
   "source": [
    "''' ACE2 '''\n",
    "mm.set_camera(\n",
    "    direction = [-0.4365199442418908, 0.03554363772287596, -0.8989922069164346],\n",
    "    origin = [-33.61946214026145, -164.99475086029258, 276.2964434721691],\n",
    "    up = [0.011846426093105263, 0.9993597684843256, 0.0337596700780046]\n",
    ")"
   ]
  },
  {
   "cell_type": "code",
   "execution_count": null,
   "metadata": {},
   "outputs": [],
   "source": [
    "be.add_grid(min_value=-1000, max_value=1000, interval=100, radius=0.1, opacity=0.1, colored=False)"
   ]
  },
  {
   "cell_type": "code",
   "execution_count": null,
   "metadata": {},
   "outputs": [],
   "source": [
    "be.reset()\n",
    "be.set_out_of_core(\n",
    "    enabled=False, bricks_folder=brick_folder,\n",
    "    scene_size=Vector3(2104.965151244509, 2233.8291669283426, 1530.164138311803),\n",
    "    nb_bricks=nb_bricks\n",
    ")"
   ]
  },
  {
   "cell_type": "code",
   "execution_count": null,
   "metadata": {},
   "outputs": [],
   "source": [
    "core.set_camera(\n",
    "    orientation=[0.0, 0.0, 0.0, 1.0],\n",
    "    position=[0.5, 0.5, 1.5],\n",
    "    target=[0.5, 0.5, 0.5]\n",
    ")"
   ]
  },
  {
   "cell_type": "code",
   "execution_count": null,
   "metadata": {},
   "outputs": [],
   "source": []
  },
  {
   "cell_type": "code",
   "execution_count": null,
   "metadata": {},
   "outputs": [],
   "source": [
    "be.core_api().set_renderer(\n",
    "    background_color=[96 / 255, 125 / 255, 139 / 255],\n",
    "    current='bio_explorer',\n",
    "    samples_per_pixel=1, subsampling=4, max_accum_frames=16)\n",
    "params = be.core_api().BioExplorerRendererParams()\n",
    "params.gi_samples = 0\n",
    "params.gi_weight = 0.4\n",
    "params.gi_distance = 500\n",
    "params.shadows = 0.5\n",
    "params.soft_shadows = 0.0\n",
    "params.fog_start = 490\n",
    "params.fog_thickness = 10\n",
    "params.max_bounces = 1\n",
    "be.core_api().set_renderer_params(params)"
   ]
  },
  {
   "cell_type": "code",
   "execution_count": null,
   "metadata": {},
   "outputs": [],
   "source": []
  }
 ],
 "metadata": {
  "kernelspec": {
   "display_name": "Python 3",
   "language": "python",
   "name": "python3"
  },
  "language_info": {
   "codemirror_mode": {
    "name": "ipython",
    "version": 3
   },
   "file_extension": ".py",
   "mimetype": "text/x-python",
   "name": "python",
   "nbconvert_exporter": "python",
   "pygments_lexer": "ipython3",
   "version": "3.8.5"
  }
 },
 "nbformat": 4,
 "nbformat_minor": 2
}
