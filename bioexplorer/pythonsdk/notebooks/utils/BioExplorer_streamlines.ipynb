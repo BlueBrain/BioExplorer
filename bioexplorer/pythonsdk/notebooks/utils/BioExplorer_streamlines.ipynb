{
    "cells": [
        {
            "cell_type": "markdown",
            "metadata": {},
            "source": [
                "# Blue Brain BioExplorer - Streamlines\n",
                "![](../bioexplorer_white_matter_banner.png)"
            ]
        },
        {
            "cell_type": "code",
            "execution_count": null,
            "metadata": {},
            "outputs": [],
            "source": [
                "from bioexplorer import BioExplorer\n",
                "\n",
                "be = BioExplorer('localhost:5000')\n",
                "core = be.core_api()\n",
                "be.core_api().set_renderer()"
            ]
        },
        {
            "cell_type": "code",
            "execution_count": null,
            "metadata": {},
            "outputs": [],
            "source": [
                "import random\n",
                "import seaborn as sns\n",
                "\n",
                "be.reset_scene()\n",
                "\n",
                "nb_streamlines = 10\n",
                "nb_points = 5\n",
                "\n",
                "indices = list()\n",
                "vertices = list()\n",
                "colors = list()\n",
                "index = 0\n",
                "palette = sns.color_palette('rainbow', nb_streamlines)\n",
                "for i in range(nb_streamlines):\n",
                "    indices.append(index)\n",
                "    for j in range(nb_points):\n",
                "        vertices.append(random.random() * 20)\n",
                "        vertices.append(random.random() * 20)\n",
                "        vertices.append(random.random() * 20)\n",
                "        vertices.append(0.1)\n",
                "        colors.append(palette[i][0])\n",
                "        colors.append(palette[i][1])\n",
                "        colors.append(palette[i][2])\n",
                "        colors.append(1.0)\n",
                "    index += nb_points\n",
                "\n",
                "status = be.add_streamlines('Streamlines', indices, vertices, colors)\n",
                "status = be.reset_camera()"
            ]
        },
        {
            "cell_type": "code",
            "execution_count": null,
            "metadata": {},
            "outputs": [],
            "source": [
                "status = core.set_renderer(\n",
                "    current='advanced',\n",
                "    subsampling=4, max_accum_frames=64)\n",
                "params = core.AdvancedRendererParams()\n",
                "params.gi_distance = 100.0\n",
                "params.shadows = 1.0\n",
                "params.soft_shadows = 1.0\n",
                "params.epsilon_factor = 1.0\n",
                "params.max_bounces = 1\n",
                "status = core.set_renderer_params(params)\n",
                "status = core.set_renderer()"
            ]
        }
    ],
    "metadata": {
        "kernelspec": {
            "display_name": "Python 3.8.10 64-bit ('env': venv)",
            "language": "python",
            "name": "python3"
        },
        "language_info": {
            "codemirror_mode": {
                "name": "ipython",
                "version": 3
            },
            "file_extension": ".py",
            "mimetype": "text/x-python",
            "name": "python",
            "nbconvert_exporter": "python",
            "pygments_lexer": "ipython3",
            "version": "3.8.10"
        },
        "vscode": {
            "interpreter": {
                "hash": "ea9a5fa46eb6bad2806a8ea1d08e15bb1e255a2d4320b81e765591579963c56b"
            }
        }
    },
    "nbformat": 4,
    "nbformat_minor": 4
}