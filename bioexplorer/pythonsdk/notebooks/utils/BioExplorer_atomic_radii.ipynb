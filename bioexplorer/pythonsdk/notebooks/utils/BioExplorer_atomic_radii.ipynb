{
 "cells": [
  {
   "cell_type": "markdown",
   "metadata": {},
   "source": [
    "# Blue Brain BioExplorer\n",
    "\n",
    "![](../bioexplorer_banner.png)"
   ]
  },
  {
   "cell_type": "code",
   "execution_count": null,
   "metadata": {},
   "outputs": [],
   "source": [
    "with open('atomic_radii_calculated.csv') as f:\n",
    "    lines = f.readlines()\n",
    "    for line in lines:\n",
    "        line = line.replace('\\n', '')\n",
    "        values = line.split(';')\n",
    "        symbol = values[0].upper()\n",
    "        description = values[1]\n",
    "\n",
    "        radius = 25.0 # Default value\n",
    "        if values[2] != 'no data':\n",
    "            radius = float(values[2])\n",
    "        print('{{\"%s\"}, {%s}},' % (symbol, radius))"
   ]
  }
 ],
 "metadata": {
  "kernelspec": {
   "display_name": "Python 3",
   "language": "python",
   "name": "python3"
  },
  "language_info": {
   "codemirror_mode": {
    "name": "ipython",
    "version": 3
   },
   "file_extension": ".py",
   "mimetype": "text/x-python",
   "name": "python",
   "nbconvert_exporter": "python",
   "pygments_lexer": "ipython3",
   "version": "3.8.10"
  }
 },
 "nbformat": 4,
 "nbformat_minor": 4
}
