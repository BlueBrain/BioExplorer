{
 "cells": [
  {
   "cell_type": "markdown",
   "metadata": {},
   "source": [
    "# Blue Brain BioExplorer - Inspection\n",
    "![](../bioexplorer_banner.png)"
   ]
  },
  {
   "cell_type": "code",
   "execution_count": null,
   "metadata": {},
   "outputs": [],
   "source": [
    "from bioexplorer import BioExplorer, MovieMaker, Vector3\n",
    "\n",
    "be = BioExplorer('localhost:5000')\n",
    "mm = MovieMaker(be)\n",
    "core = be.core_api()"
   ]
  },
  {
   "cell_type": "code",
   "execution_count": null,
   "metadata": {},
   "outputs": [],
   "source": [
    "cam = mm.get_camera()\n",
    "origin = cam['origin']\n",
    "direction = cam['direction']\n",
    "\n",
    "params = dict()\n",
    "params['origin'] = origin\n",
    "params['direction'] = direction\n",
    "result = core.rockets_client.request(\"be-inspect-protein\", params)\n",
    "print(result)"
   ]
  },
  {
   "cell_type": "code",
   "execution_count": null,
   "metadata": {},
   "outputs": [],
   "source": [
    "print(result)\n",
    "position = result['position']\n",
    "initial_position = [-11.0, 103.0, 20.0]\n",
    "spike_position = [-40.86991882324219, 119.47003936767578, 44.80464553833008]\n",
    "head_position = [-49.47385787963867, 108.7925796508789, 17.31515884399414]\n",
    "for i in range(3):\n",
    "    initial_position[i] -= head_position[i] - spike_position[i]\n",
    "\n",
    "print(initial_position)"
   ]
  },
  {
   "cell_type": "code",
   "execution_count": null,
   "metadata": {},
   "outputs": [],
   "source": [
    "if result['hit']:\n",
    "    pos = result['position']\n",
    "    min_aabb = Vector3(pos[0], pos[1], pos[2])\n",
    "    max_aabb = Vector3(pos[0], pos[1], pos[2])\n",
    "\n",
    "    size = 5.0\n",
    "    min_aabb.x -= size\n",
    "    max_aabb.x += size\n",
    "    min_aabb.y -= size\n",
    "    max_aabb.y += size\n",
    "    min_aabb.z -= size\n",
    "    max_aabb.z += size\n",
    "\n",
    "    print(min_aabb.to_list())\n",
    "    print(max_aabb.to_list())    \n",
    "\n",
    "    be.add_bounding_box(\n",
    "        name=str(result['modelId']) + '_' + str(result['instanceId']),\n",
    "        bottom_left_corner=min_aabb, top_right_corner=max_aabb, radius=0.1)    "
   ]
  }
 ],
 "metadata": {
  "kernelspec": {
   "display_name": "Python 3.8.10 64-bit ('env': venv)",
   "language": "python",
   "name": "python3"
  },
  "language_info": {
   "codemirror_mode": {
    "name": "ipython",
    "version": 3
   },
   "file_extension": ".py",
   "mimetype": "text/x-python",
   "name": "python",
   "nbconvert_exporter": "python",
   "pygments_lexer": "ipython3",
   "version": "3.8.10"
  },
  "vscode": {
   "interpreter": {
    "hash": "ea9a5fa46eb6bad2806a8ea1d08e15bb1e255a2d4320b81e765591579963c56b"
   }
  }
 },
 "nbformat": 4,
 "nbformat_minor": 4
}
