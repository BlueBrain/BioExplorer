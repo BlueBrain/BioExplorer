{
 "cells": [
  {
   "cell_type": "markdown",
   "metadata": {},
   "source": [
    "# Blue Brain BioExplorer\n",
    "\n",
    "![](../bioexplorer_banner.png)"
   ]
  },
  {
   "cell_type": "markdown",
   "metadata": {},
   "source": [
    "## Simplest script to create a visualization of a cell"
   ]
  },
  {
   "cell_type": "code",
   "execution_count": null,
   "metadata": {},
   "outputs": [],
   "source": [
    "from bioexplorer import BioExplorer, Protein, Vector2, Vector3, Quaternion\n",
    "be = BioExplorer('localhost:5000')\n",
    "core = be.core_api()\n",
    "status = be.reset_scene()"
   ]
  },
  {
   "cell_type": "code",
   "execution_count": null,
   "metadata": {},
   "outputs": [],
   "source": [
    "name = 'Cell'\n",
    "representation=be.REPRESENTATION_ATOMS\n",
    "\n",
    "# Resources\n",
    "resource_folder = '../../tests/test_files/'\n",
    "pdb_folder = resource_folder + 'pdb/'\n",
    "metabolites_folder = pdb_folder + 'metabolites/'\n",
    "\n",
    "metabolites = [\n",
    "    683,6022,448503,5957,92153,5360545,668,91826668,729,65533,977,439452,5957,6022,5793,5462222\n",
    "]\n",
    "\n",
    "position = Vector3(0.0, 0.0, 0.0)\n",
    "for metabolite in metabolites:\n",
    "    m = str(metabolite)\n",
    "    # ACE2 receptor definition\n",
    "    protein = Protein(\n",
    "        name=m,\n",
    "        source=metabolites_folder + m + '.pdb',\n",
    "        load_bonds=True, load_hydrogen=True, load_non_polymer_chemicals=True,\n",
    "        position=position\n",
    "    )\n",
    "    be.add_protein(protein)\n",
    "    position.x += 2.0\n",
    "    if position.x > 6.0:\n",
    "        position.y += 1.0\n",
    "        position.x = 0.0\n",
    "\n",
    "be.core_api().set_renderer()"
   ]
  },
  {
   "cell_type": "markdown",
   "metadata": {},
   "source": [
    "## Rendering settings"
   ]
  },
  {
   "cell_type": "code",
   "execution_count": null,
   "metadata": {},
   "outputs": [],
   "source": [
    "status = be.core_api().set_renderer(\n",
    "    background_color=[96 / 255, 125 / 255, 139 / 255],\n",
    "    current='bio_explorer',\n",
    "    samples_per_pixel=1, subsampling=4, max_accum_frames=32)\n",
    "params = status = be.core_api().BioExplorerRendererParams()\n",
    "params.gi_samples = 3\n",
    "params.gi_weight = 0.2\n",
    "params.gi_distance = 15.0\n",
    "params.shadows = 0.5\n",
    "params.soft_shadows = 1.0\n",
    "params.fog_start = 1500\n",
    "params.fog_thickness = 1500\n",
    "params.max_bounces = 1\n",
    "status = be.core_api().set_renderer_params(params)"
   ]
  }
 ],
 "metadata": {
  "kernelspec": {
   "display_name": "Python 3",
   "language": "python",
   "name": "python3"
  },
  "language_info": {
   "codemirror_mode": {
    "name": "ipython",
    "version": 3
   },
   "file_extension": ".py",
   "mimetype": "text/x-python",
   "name": "python",
   "nbconvert_exporter": "python",
   "pygments_lexer": "ipython3",
   "version": "3.8.10"
  }
 },
 "nbformat": 4,
 "nbformat_minor": 4
}
