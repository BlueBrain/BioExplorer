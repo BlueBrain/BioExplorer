{
 "cells": [
  {
   "attachments": {},
   "cell_type": "markdown",
   "metadata": {},
   "source": [
    "# Blue Brain BioExplorer - Movie maker\n",
    "![](../bioexplorer_banner.png)"
   ]
  },
  {
   "cell_type": "code",
   "execution_count": 1,
   "metadata": {},
   "outputs": [],
   "source": [
    "from bioexplorer import BioExplorer, MovieMaker\n",
    "be = BioExplorer('localhost:5000')\n",
    "mm = MovieMaker(be)"
   ]
  },
  {
   "cell_type": "code",
   "execution_count": 5,
   "metadata": {},
   "outputs": [],
   "source": [
    "renderers = ['albedo', 'ambient_occlusion', 'depth', 'shadow', 'raycast_Ns', 'raycast_Ng', 'radiance']\n",
    "for renderer in renderers:\n",
    "    mm.create_snapshot(\n",
    "        renderer=renderer,\n",
    "        path='/tmp',\n",
    "        size=[3840, 2160],\n",
    "        base_name=renderer,\n",
    "        samples_per_pixel=256)"
   ]
  }
 ],
 "metadata": {
  "kernelspec": {
   "display_name": "env",
   "language": "python",
   "name": "python3"
  },
  "language_info": {
   "codemirror_mode": {
    "name": "ipython",
    "version": 3
   },
   "file_extension": ".py",
   "mimetype": "text/x-python",
   "name": "python",
   "nbconvert_exporter": "python",
   "pygments_lexer": "ipython3",
   "version": "3.8.10"
  },
  "orig_nbformat": 4
 },
 "nbformat": 4,
 "nbformat_minor": 2
}
