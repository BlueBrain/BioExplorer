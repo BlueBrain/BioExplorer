{
    "cells": [
        {
            "cell_type": "markdown",
            "metadata": {},
            "source": [
                "# Blue Brain BioExplorer\n",
                "![](../bioexplorer_banner.png)"
            ]
        },
        {
            "cell_type": "markdown",
            "metadata": {},
            "source": [
                "# High Glucose Scenario"
            ]
        },
        {
            "cell_type": "markdown",
            "metadata": {},
            "source": [
                "## Connect to BioExplorer backend"
            ]
        },
        {
            "cell_type": "code",
            "execution_count": null,
            "metadata": {
                "scrolled": false
            },
            "outputs": [],
            "source": [
                "from bioexplorer import BioExplorer, MovieMaker, Protein, ParametricMembrane, Cell, Sugars, \\\n",
                "                        Vector2, Vector3, Quaternion\n",
                "\n",
                "hostname = 'localhost:5000'\n",
                "resource_folder = '../../tests/test_files/'\n",
                "\n",
                "be = BioExplorer(hostname)\n",
                "core = be.core_api()\n",
                "mm = MovieMaker(be)\n",
                "\n",
                "version = be.version()\n",
                "be.reset()\n",
                "print('Version: ' + str(version))"
            ]
        },
        {
            "cell_type": "markdown",
            "metadata": {},
            "source": [
                "## Global parameters"
            ]
        },
        {
            "cell_type": "code",
            "execution_count": null,
            "metadata": {},
            "outputs": [],
            "source": [
                "# Scene\n",
                "scene_size = Vector3(800.0, 800.0, 800.0)\n",
                "\n",
                "# Proteins\n",
                "protein_radius_multiplier = 1.0\n",
                "protein_representation = be.REPRESENTATION_ATOMS_AND_STICKS\n",
                "protein_load_hydrogen = False\n",
                "\n",
                "# Glycans\n",
                "add_glycans = False\n",
                "glycan_radius_multiplier = 1.0\n",
                "glycan_representation = be.REPRESENTATION_ATOMS_AND_STICKS\n",
                "\n",
                "# Viruses\n",
                "nb_protein_s = 62\n",
                "nb_protein_e = 42\n",
                "nb_protein_m = 50\n",
                "add_rna = False\n",
                "\n",
                "# Immune system\n",
                "nb_glucoses = 360000\n",
                "nb_lactoferrins = 50\n",
                "nb_defensins = 100\n",
                "nb_defensins_on_virus = 2\n",
                "\n",
                "# Cell\n",
                "nb_receptors=100"
            ]
        },
        {
            "cell_type": "markdown",
            "metadata": {},
            "source": [
                "## Resources"
            ]
        },
        {
            "cell_type": "code",
            "execution_count": null,
            "metadata": {},
            "outputs": [],
            "source": [
                "cache_folder = resource_folder + 'caches/' + version + '/'\n",
                "image_folder = resource_folder + 'images/'\n",
                "pdb_folder = resource_folder + 'pdb/'\n",
                "rna_folder = resource_folder + 'rna/'\n",
                "obj_folder = resource_folder + 'obj/'\n",
                "glycan_folder = pdb_folder + 'glycans/'\n",
                "membrane_folder = pdb_folder + 'membrane/'\n",
                "\n",
                "complex_paths = [glycan_folder + 'complex/33.pdb', glycan_folder + 'complex/34.pdb',\n",
                "                 glycan_folder + 'complex/35.pdb',glycan_folder + 'complex/36.pdb']\n",
                "high_mannose_paths = [glycan_folder + 'high-mannose/1.pdb', \n",
                "                      glycan_folder + 'high-mannose/2.pdb',\n",
                "                      glycan_folder + 'high-mannose/3.pdb',\n",
                "                      glycan_folder + 'high-mannose/4.pdb']\n",
                "hybrid_paths = [glycan_folder + 'hybrid/24.pdb']\n",
                "o_glycan_paths = [glycan_folder + 'o-glycan/12.pdb']\n",
                "\n",
                "glucose_path = pdb_folder + 'glucose.pdb'\n",
                "lactoferrin_path=pdb_folder + 'immune/1b0l.pdb'\n",
                "defensin_path = pdb_folder + 'immune/1ijv.pdb'\n",
                "\n",
                "surfactant_head_source = pdb_folder + 'surfactant/1pw9.pdb'\n",
                "surfactant_branch_source = pdb_folder + 'surfactant/1k6f.pdb'"
            ]
        },
        {
            "cell_type": "code",
            "execution_count": null,
            "metadata": {},
            "outputs": [],
            "source": [
                "'''Accelerate loading by not showing models as they are loaded'''\n",
                "status = be.set_general_settings(\n",
                "    logging_enabled=True,\n",
                "    model_visibility_on_creation=False)"
            ]
        },
        {
            "cell_type": "markdown",
            "metadata": {},
            "source": [
                "## Host cell"
            ]
        },
        {
            "cell_type": "code",
            "execution_count": null,
            "metadata": {
                "scrolled": true
            },
            "outputs": [],
            "source": [
                "def add_cell(\n",
                "        name, size, height, nb_receptors,\n",
                "        position=Vector3(), random_seed=1):\n",
                "    \n",
                "    nb_lipids = 300000\n",
                "   \n",
                "    ace2_receptor = Protein(\n",
                "        sources=[pdb_folder + '6m18.pdb'], occurences=nb_receptors,\n",
                "        position=Vector3(0.0, 6.0, 0.0))\n",
                "    \n",
                "    membrane = ParametricMembrane(\n",
                "        sources=[\n",
                "            membrane_folder + 'segA.pdb',\n",
                "            membrane_folder + 'segB.pdb',\n",
                "            membrane_folder + 'segC.pdb',\n",
                "            membrane_folder + 'segD.pdb'\n",
                "        ],\n",
                "        occurences=nb_lipids\n",
                "    )\n",
                "\n",
                "    cell = Cell(\n",
                "        name=name, size=size, extra_parameters=[height],\n",
                "        shape=be.ASSEMBLY_SHAPE_SINUSOIDAL, \n",
                "        membrane=membrane, receptor=ace2_receptor,\n",
                "        random_position_seed=1, random_position_strength=0.025,\n",
                "        random_rotation_seed=2, random_rotation_strength=0.5\n",
                "    )\n",
                "    \n",
                "    be.add_cell(\n",
                "        cell=cell, position=position,\n",
                "        representation=protein_representation,\n",
                "        random_seed=random_seed)\n",
                "\n",
                "    if nb_receptors != 0 and add_glycans:\n",
                "        be.add_multiple_glycans(\n",
                "            representation=glycan_representation, assembly_name=name, \n",
                "            glycan_type=be.NAME_GLYCAN_COMPLEX,\n",
                "            protein_name=be.NAME_RECEPTOR, paths=complex_paths, \n",
                "            indices=[53, 90, 103, 322, 432, 690])\n",
                "        be.add_multiple_glycans(\n",
                "            representation=glycan_representation, assembly_name=name,\n",
                "            glycan_type=be.NAME_GLYCAN_HYBRID,\n",
                "            protein_name=be.NAME_RECEPTOR, paths=hybrid_paths, \n",
                "            indices=[546])\n",
                "\n",
                "        indices = [[155, Quaternion(0.707, 0.0, 0.707, 0.0)],\n",
                "                   [730, Quaternion(0.707, 0.0, 0.707, 0.0)]]\n",
                "        for index in indices:\n",
                "            o_glycan_name = name + '_' + be.NAME_GLYCAN_O_GLYCAN + '_' + str(index[0])\n",
                "            o_glycan = Sugars(\n",
                "                assembly_name=name, name=o_glycan_name, source=o_glycan_paths[0],\n",
                "                protein_name=name + '_' + be.NAME_RECEPTOR, representation=glycan_representation,\n",
                "                chain_ids=[2, 4], site_indices=[index[0]], rotation=index[1])\n",
                "            be.add_sugars(o_glycan)"
            ]
        },
        {
            "cell_type": "code",
            "execution_count": null,
            "metadata": {},
            "outputs": [],
            "source": [
                "cell_position = Vector3(4.5, -186.0, 7.0)\n",
                "cell_height = scene_size.y / 10.0\n",
                "add_cell(\n",
                "    name='Cell', nb_receptors=nb_receptors,\n",
                "    size=Vector2(scene_size.x, scene_size.z), height=cell_height,\n",
                "    position=cell_position, random_seed=10)\n",
                "status = be.set_models_visibility(True)"
            ]
        },
        {
            "cell_type": "markdown",
            "metadata": {},
            "source": [
                "## Utility functions"
            ]
        },
        {
            "cell_type": "code",
            "execution_count": null,
            "metadata": {},
            "outputs": [],
            "source": [
                "def get_receptor_positions(name='Cell'):\n",
                "    '''Get position of receptors on the membrane'''\n",
                "    receptor_positions = list()\n",
                "    for i in range(nb_receptors):\n",
                "        status = be.get_protein_instance_transformation(\n",
                "            assembly_name=name,\n",
                "            name=name + '_' + be.NAME_RECEPTOR,\n",
                "            instance_index=i\n",
                "        )\n",
                "        pos = status['position'].split(',')\n",
                "        position = [float(pos[0]), float(pos[1]), float(pos[2])]\n",
                "        receptor_positions.append(position)\n",
                "    return receptor_positions\n",
                "\n",
                "receptor_positions = get_receptor_positions()\n",
                "\n",
                "def drop_virus(name, position):\n",
                "    '''Drop a virus at a given position'''\n",
                "    status = be.add_coronavirus(\n",
                "        name=name,\n",
                "        resource_folder=resource_folder,\n",
                "        representation=protein_representation,\n",
                "        position=Vector3(position[0], position[1], position[2]),\n",
                "        add_glycans=add_glycans)\n",
                "    status = be.set_models_visibility(True)\n",
                "    \n",
                "def get_virus_position_on_receptor(receptor_index):\n",
                "    '''Get adjusted position of virus on receptor'''\n",
                "    pos = receptor_positions[receptor_index].copy()\n",
                "    pos[0] -= 9.0\n",
                "    pos[1] += 73.0\n",
                "    pos[2] += 1.0\n",
                "    return pos\n",
                "\n",
                "def focus_on_receptor(receptor_index):\n",
                "    '''Sets the camera focus on specified receptor'''\n",
                "    pos = get_receptor_positions()[receptor_index].copy()\n",
                "    pos[2] -= 100.0\n",
                "    pos[1] += 20.0\n",
                "    mm.set_camera(\n",
                "        origin = pos,\n",
                "        direction = [0.0, 0.0, 1.0],\n",
                "        up=[0.0, 1.0, 0.0]\n",
                "    )\n",
                "    be.core_api().set_renderer()\n",
                "    return pos"
            ]
        },
        {
            "cell_type": "code",
            "execution_count": null,
            "metadata": {},
            "outputs": [],
            "source": [
                "'''Coronavirus gizmos. Add a sphere at virus positions'''\n",
                "radius = 45.0\n",
                "for receptor_index in [90, 23, 24, 98, 37]:\n",
                "    pos = get_virus_position_on_receptor(receptor_index)\n",
                "    print(pos)\n",
                "    be.add_sphere(\n",
                "        name='Coronavirus_Gizmo_' + str(receptor_index),\n",
                "        position=Vector3(pos[0], pos[1], pos[2]),\n",
                "        radius=radius, color=Vector3(1, 0, 0)\n",
                "    )"
            ]
        },
        {
            "cell_type": "code",
            "execution_count": null,
            "metadata": {},
            "outputs": [],
            "source": [
                "'''Drop viruses on receptors'''\n",
                "for receptor_index in [90, 23, 24, 98, 37]:\n",
                "    pos = get_virus_position_on_receptor(receptor_index)\n",
                "    drop_virus('Coronavirus_' + str(receptor_index), pos)\n",
                "be.apply_default_color_scheme(be.SHADING_MODE_DIFFUSE)    "
            ]
        },
        {
            "cell_type": "code",
            "execution_count": null,
            "metadata": {},
            "outputs": [],
            "source": [
                "'''Add sphere on top of receptors'''\n",
                "count = 0\n",
                "for pos in receptor_positions:\n",
                "    be.add_sphere(\n",
                "        name='Receptor ' + str(count),\n",
                "        position=Vector3(pos[0], pos[1], pos[2]),\n",
                "        radius=10.0, color=Vector3(1, 0, 0)\n",
                "    )\n",
                "    count += 1"
            ]
        },
        {
            "cell_type": "code",
            "execution_count": null,
            "metadata": {},
            "outputs": [],
            "source": [
                "'''High-glucose scenario viruses'''\n",
                "high_glucose_virus_positions = [\n",
                "    [-280.5, -97.0, -82.5],\n",
                "    [ -70.5, -100.0, 229.5],\n",
                "    [296.5, -125.0, 225.5],\n",
                "    [204.5, -100.0, 27.5],\n",
                "    [54.5, -100.0, -242.5]\n",
                "]\n",
                "\n",
                "count = 0\n",
                "for virus_position in high_glucose_virus_positions:\n",
                "    be.add_sphere(\n",
                "        name='Coronavirus ' + str(count),\n",
                "        position=Vector3(\n",
                "            virus_position[0],\n",
                "            virus_position[1],\n",
                "            virus_position[2]\n",
                "        ),\n",
                "        radius=radius\n",
                "    )    \n",
                "    count +=1"
            ]
        },
        {
            "cell_type": "code",
            "execution_count": null,
            "metadata": {},
            "outputs": [],
            "source": [
                "'''Identify best receptors according to high-glucose virus positions'''\n",
                "high_glucose_virus_positions = [\n",
                "    [-280.5, -97.0, -82.5],\n",
                "    [ -70.5, -100.0, 229.5],\n",
                "    [296.5, -125.0, 225.5],\n",
                "    [204.5, -100.0, 27.5],\n",
                "    [54.5, -100.0, -242.5]\n",
                "]\n",
                "\n",
                "high_glucose_virus_positions = [\n",
                "    [-250.0, -150.0, -70.0],\n",
                "    [-50.0, -150.0, 250.0],\n",
                "    [150.0, -150.0, 50.0],\n",
                "    [40.0, -150.0, -50.0],\n",
                "    [60.0, -150.0, -240.0],\n",
                "    [200.0, -150.0, 300.0]\n",
                "]\n",
                "\n",
                "virus_indices = list()\n",
                "virus_positions = list()\n",
                "\n",
                "print(nb_receptors)\n",
                "for virus_position in high_glucose_virus_positions:\n",
                "    for i in range(nb_receptors):\n",
                "        receptor_position = receptor_positions[i]\n",
                "        if abs(virus_position[0] - receptor_position[0]) < 55 and \\\n",
                "           abs(virus_position[2] - receptor_position[2]) < 55:\n",
                "            print(i)\n",
                "            virus_indices.append(i)\n",
                "            virus_positions.append(receptor_position)\n",
                "\n",
                "print(virus_indices)"
            ]
        },
        {
            "cell_type": "code",
            "execution_count": null,
            "metadata": {},
            "outputs": [],
            "source": [
                "'''Slider used to focus on a specified receptor'''\n",
                "from ipywidgets import IntSlider\n",
                "from IPython.display import clear_output\n",
                "receptor_slider = IntSlider(description='frame', min=0, max=nb_receptors-1)\n",
                "\n",
                "def update_receptor_slider(args):\n",
                "    receptor_slider.value = args['new']\n",
                "    receptor_slider.description = str(focus_on_receptor(receptor_slider.value))\n",
                "\n",
                "receptor_slider.observe(update_receptor_slider, 'value')\n",
                "display(receptor_slider)"
            ]
        },
        {
            "cell_type": "code",
            "execution_count": null,
            "metadata": {},
            "outputs": [],
            "source": [
                "'''Slider used to add a sphere on top of a specified receptor'''\n",
                "from ipywidgets import IntSlider\n",
                "from IPython.display import clear_output\n",
                "receptor_slider = IntSlider(\n",
                "    description='frame', min=0, max=nb_receptors-1)\n",
                "\n",
                "def update_receptor_slider(args):\n",
                "    receptor_slider.value = args['new']\n",
                "    v = receptor_slider.value\n",
                "    p = receptor_positions[v]\n",
                "    be.add_sphere(\n",
                "        name='Receptor ' + str(v),\n",
                "        position=Vector3(p[0], p[1] + 10, p[2]),\n",
                "        radius=10.0,\n",
                "        color=Vector3(0,1,0))\n",
                "    core.set_renderer()\n",
                "\n",
                "receptor_slider.observe(update_receptor_slider, 'value')\n",
                "display(receptor_slider)"
            ]
        },
        {
            "cell_type": "markdown",
            "metadata": {},
            "source": [
                "## Rendering settings"
            ]
        },
        {
            "cell_type": "code",
            "execution_count": null,
            "metadata": {
                "scrolled": true
            },
            "outputs": [],
            "source": [
                "status = core.set_renderer(\n",
                "    background_color=[96 / 255, 125 / 255, 139 / 255],\n",
                "    current='bio_explorer', head_light=False,\n",
                "    samples_per_pixel=1, subsampling=1, max_accum_frames=128)\n",
                "params = be.core_api().BioExplorerRendererParams()\n",
                "params.exposure = 1.2\n",
                "params.gi_samples = 1\n",
                "params.gi_weight = 0.3\n",
                "params.gi_distance = 500\n",
                "params.shadows = 0.75\n",
                "params.soft_shadows = 0.0\n",
                "params.fog_start = 1500\n",
                "params.fog_thickness = 1500\n",
                "params.max_bounces = 1\n",
                "status = core.set_renderer_params(params)\n",
                "\n",
                "status = core.clear_lights()\n",
                "status = core.add_light_directional(\n",
                "    angularDiameter=0.5, color=[1,1,1], direction=[-0.7,-0.4,-1],\n",
                "    intensity=1.0, is_visible=False\n",
                ")"
            ]
        }
    ],
    "metadata": {
        "kernelspec": {
            "display_name": "Python 3",
            "language": "python",
            "name": "python3"
        },
        "language_info": {
            "codemirror_mode": {
                "name": "ipython",
                "version": 3
            },
            "file_extension": ".py",
            "mimetype": "text/x-python",
            "name": "python",
            "nbconvert_exporter": "python",
            "pygments_lexer": "ipython3",
            "version": "3.8.10"
        }
    },
    "nbformat": 4,
    "nbformat_minor": 5
}