{
 "cells": [
  {
   "cell_type": "markdown",
   "metadata": {},
   "source": [
    "# Blue Brain BioExplorer - Frame buffers\n",
    "![](../bioexplorer_banner.png)"
   ]
  },
  {
   "cell_type": "code",
   "execution_count": null,
   "metadata": {},
   "outputs": [],
   "source": [
    "from bioexplorer import BioExplorer, MovieMaker\n",
    "\n",
    "be = BioExplorer('localhost:5000')\n",
    "mm = MovieMaker(be)"
   ]
  },
  {
   "cell_type": "code",
   "execution_count": null,
   "metadata": {},
   "outputs": [],
   "source": [
    "size=[2160, 2160]\n",
    "samples_per_pixel=64\n",
    "\n",
    "mm.create_snapshot(renderer='albedo', size=size, samples_per_pixel=samples_per_pixel, path='/tmp', base_name='albedo')\n",
    "mm.create_snapshot(renderer='depth', size=size, samples_per_pixel=2, path='/tmp', base_name='depth')\n",
    "mm.create_snapshot(renderer='ambient_occlusion', size=size, samples_per_pixel=64, path='/tmp', base_name='ambient_occlusion')\n",
    "mm.create_snapshot(renderer='shadow', size=size, samples_per_pixel=64, path='/tmp', base_name='shadow')"
   ]
  }
 ],
 "metadata": {
  "kernelspec": {
   "display_name": "Python 3.8.10 64-bit",
   "language": "python",
   "name": "python3"
  },
  "language_info": {
   "codemirror_mode": {
    "name": "ipython",
    "version": 3
   },
   "file_extension": ".py",
   "mimetype": "text/x-python",
   "name": "python",
   "nbconvert_exporter": "python",
   "pygments_lexer": "ipython3",
   "version": "3.8.10"
  },
  "vscode": {
   "interpreter": {
    "hash": "916dbcbb3f70747c44a77c7bcd40155683ae19c65e1c03b4aa3499c5328201f1"
   }
  }
 },
 "nbformat": 4,
 "nbformat_minor": 4
}
