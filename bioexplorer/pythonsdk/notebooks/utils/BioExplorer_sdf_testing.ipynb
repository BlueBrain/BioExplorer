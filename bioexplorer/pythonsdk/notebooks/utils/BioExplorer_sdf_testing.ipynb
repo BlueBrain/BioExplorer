{
 "cells": [
  {
   "cell_type": "markdown",
   "metadata": {},
   "source": [
    "# Blue Brain BioExplorer\n",
    "\n",
    "![](../bioexplorer_banner.png)"
   ]
  },
  {
   "cell_type": "code",
   "execution_count": 31,
   "metadata": {},
   "outputs": [
    {
     "data": {
      "text/plain": [
       "True"
      ]
     },
     "execution_count": 31,
     "metadata": {},
     "output_type": "execute_result"
    }
   ],
   "source": [
    "from bioexplorer import BioExplorer\n",
    "be = BioExplorer('localhost:5000')\n",
    "core = be.core_api()\n",
    "be.reset_scene()\n",
    "be.add_sdf_demo()\n",
    "be.reset_camera()\n",
    "be.core_api().set_renderer()"
   ]
  },
  {
   "cell_type": "code",
   "execution_count": 32,
   "metadata": {},
   "outputs": [],
   "source": [
    "# be.reset_camera()\n",
    "# status = core.set_renderer(\n",
    "#     subsampling=4, max_accum_frames=8,\n",
    "#     current='basic')"
   ]
  },
  {
   "cell_type": "code",
   "execution_count": 33,
   "metadata": {},
   "outputs": [],
   "source": [
    "status = core.set_renderer(\n",
    "    current='bio_explorer',\n",
    "    subsampling=4, max_accum_frames=64)\n",
    "params = core.BioExplorerRendererParams()\n",
    "params.gi_distance = 100.0\n",
    "params.shadows = 1.0\n",
    "params.soft_shadows = 1.0\n",
    "params.epsilon_factor = 600.0\n",
    "params.max_bounces = 3\n",
    "status = core.set_renderer_params(params)\n",
    "status = core.set_renderer()"
   ]
  },
  {
   "cell_type": "code",
   "execution_count": 34,
   "metadata": {},
   "outputs": [],
   "source": [
    "def set_materials(model_id, material_ids, palette):\n",
    "    user_params=list()\n",
    "    opacities=list()\n",
    "    refraction_indices=list()\n",
    "    reflection_indices=list()\n",
    "    shading_modes=list()\n",
    "    diffuse_colors=list()\n",
    "    specular_colors=list()\n",
    "    specular_exponents=list()\n",
    "    glossinesses=list()\n",
    "    emissions=list()\n",
    "    cast_user_datas = list()\n",
    "    \n",
    "    for i in range(len(palette)):\n",
    "        user_params.append(0.01)\n",
    "        # opacities.append(0.5)\n",
    "        opacities.append(1.0)\n",
    "        refraction_indices.append(1.1)\n",
    "        reflection_indices.append(0.0)\n",
    "        specular_exponents.append(5.0)\n",
    "        glossinesses.append(1.0)\n",
    "        c=palette[i]\n",
    "        diffuse_colors.append(c)\n",
    "        specular_colors.append(c                                                                                                                                                                                                                                                                                                                                                                                                                                                                                                                                                                                                                                                                                                                                                                                                                                                                                                                                                                                                                                                                                                                                                                                                                                                                                                                                                                                                                                                                                                                                                                                                                                                                                                                                                                                                                                                                                                                                                                                                                                                                                                                                                                                                                                                                                                                                                                                                                                                                                                                                                                                                                                                                                                                                                                                                                                                                                                                                                                                                                                                                                                                                                                                                                                                                                                                                                                                                                                                                                                                                                                                                                                                                                                                                                        )\n",
    "        shading_modes.append(be.SHADING_MODE_DIFFUSE)\n",
    "        # shading_modes.append(be.SHADING_MODE_NONE)\n",
    "        emissions.append(0)\n",
    "        cast_user_datas.append(False)\n",
    "        \n",
    "    be.set_materials(\n",
    "        model_ids=[model_id], material_ids=material_ids,\n",
    "        user_parameters=user_params,\n",
    "        opacities=opacities, reflection_indices=reflection_indices,\n",
    "        shading_modes=shading_modes,\n",
    "        diffuse_colors=diffuse_colors, specular_colors=specular_colors,\n",
    "        specular_exponents=specular_exponents, glossinesses=glossinesses,\n",
    "        emissions=emissions, refraction_indices=refraction_indices,\n",
    "        cast_user_datas=cast_user_datas)"
   ]
  },
  {
   "cell_type": "code",
   "execution_count": 35,
   "metadata": {},
   "outputs": [
    {
     "data": {
      "text/plain": [
       "True"
      ]
     },
     "execution_count": 35,
     "metadata": {},
     "output_type": "execute_result"
    }
   ],
   "source": [
    "import seaborn as sns\n",
    "\n",
    "model_ids = be.get_model_ids()['ids']\n",
    "for model_id in model_ids:\n",
    "    material_ids = be.get_material_ids(model_id)['ids']\n",
    "    nb_materials = len(material_ids)\n",
    "    # palette = sns.color_palette('Set2', nb_materials)\n",
    "    palette = list()\n",
    "    for _ in range(nb_materials):\n",
    "        palette.append([1,1,1])\n",
    "    set_materials(\n",
    "        model_id=model_id, material_ids=material_ids,\n",
    "        palette=palette)\n",
    "core.set_renderer()"
   ]
  }
 ],
 "metadata": {
  "kernelspec": {
   "display_name": "Python 3 (ipykernel)",
   "language": "python",
   "name": "python3"
  },
  "language_info": {
   "codemirror_mode": {
    "name": "ipython",
    "version": 3
   },
   "file_extension": ".py",
   "mimetype": "text/x-python",
   "name": "python",
   "nbconvert_exporter": "python",
   "pygments_lexer": "ipython3",
   "version": "3.8.10"
  }
 },
 "nbformat": 4,
 "nbformat_minor": 4
}
