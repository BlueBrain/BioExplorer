{
    "cells": [
        {
            "cell_type": "markdown",
            "metadata": {},
            "source": [
                "# Blue Brain BioExplorer - Signed distance field\n",
                "\n",
                "![](../bioexplorer_banner.png)"
            ]
        },
        {
            "cell_type": "code",
            "execution_count": 643,
            "metadata": {},
            "outputs": [],
            "source": [
                "from bioexplorer import BioExplorer\n",
                "\n",
                "be = BioExplorer('localhost:5000')\n",
                "core = be.core_api()\n",
                "be.reset_scene()\n",
                "core.set_geometry_parameters(\n",
                "    sdf_nb_march_iterations=32, sdf_epsilon=0.001,\n",
                "    sdf_blend_factor=0.4, sdf_blend_lerp_factor=0.2,\n",
                "    sdf_ray_marching_omega=1.0, sdf_distance=5.0\n",
                ")\n",
                "be.add_sdf_demo()\n",
                "status = be.reset_camera()"
            ]
        },
        {
            "cell_type": "code",
            "execution_count": 644,
            "metadata": {},
            "outputs": [],
            "source": [
                "status = core.set_renderer(\n",
                "    current='advanced',\n",
                "    subsampling=4, max_accum_frames=64)\n",
                "params = core.AdvancedRendererParams()\n",
                "params.gi_ray_length = 100.0\n",
                "params.shadow_intensity = 0.0\n",
                "params.soft_shadow_strength = 1.0\n",
                "params.epsilon_multiplier = 600.0\n",
                "params.max_ray_depth = 1\n",
                "status = core.set_renderer_params(params)\n",
                "status = core.set_renderer()"
            ]
        }
    ],
    "metadata": {
        "kernelspec": {
            "display_name": "Python 3.8.10 64-bit ('env': venv)",
            "language": "python",
            "name": "python3"
        },
        "language_info": {
            "codemirror_mode": {
                "name": "ipython",
                "version": 3
            },
            "file_extension": ".py",
            "mimetype": "text/x-python",
            "name": "python",
            "nbconvert_exporter": "python",
            "pygments_lexer": "ipython3",
            "version": "3.10.12"
        },
        "vscode": {
            "interpreter": {
                "hash": "ea9a5fa46eb6bad2806a8ea1d08e15bb1e255a2d4320b81e765591579963c56b"
            }
        }
    },
    "nbformat": 4,
    "nbformat_minor": 4
}
