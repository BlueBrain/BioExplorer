{
 "cells": [
  {
   "cell_type": "code",
   "execution_count": 4,
   "metadata": {},
   "outputs": [],
   "source": [
    "from bioexplorer import BioExplorer\n",
    "be = BioExplorer('localhost:5000')\n",
    "core = be.core_api()"
   ]
  },
  {
   "cell_type": "code",
   "execution_count": 5,
   "metadata": {},
   "outputs": [
    {
     "data": {
      "text/plain": [
       "True"
      ]
     },
     "execution_count": 5,
     "metadata": {},
     "output_type": "execute_result"
    }
   ],
   "source": [
    "be.reset()\n",
    "# status = core.add_model('/home/favreau/git/BioExplorer/bioexplorer/pythonsdk/tests/test_files/caches/0.9.0/high_glucose_scenario.bioexplorer')"
   ]
  },
  {
   "cell_type": "code",
   "execution_count": 6,
   "metadata": {},
   "outputs": [
    {
     "data": {
      "text/plain": [
       "{'contents': '173 models successfully loaded', 'status': True}"
      ]
     },
     "execution_count": 6,
     "metadata": {},
     "output_type": "execute_result"
    }
   ],
   "source": [
    "cache_folder = '/home/favreau/git/BioExplorer/bioexplorer/pythonsdk/tests/test_files/caches/0.9.0/'\n",
    "be.import_from_cache(\n",
    "    cache_folder + 'high_glucose_scenario.bioexplorer')"
   ]
  },
  {
   "cell_type": "code",
   "execution_count": null,
   "metadata": {},
   "outputs": [],
   "source": [
    "def clear_clipping_planes():\n",
    "    planes = core.get_clip_planes()\n",
    "    if planes is None:\n",
    "        return\n",
    "    ids = list()\n",
    "    for plane in planes:\n",
    "        ids.append(plane['id'])\n",
    "    core.remove_clip_planes(ids)"
   ]
  },
  {
   "cell_type": "code",
   "execution_count": null,
   "metadata": {},
   "outputs": [],
   "source": [
    "def get_scene_bounds():\n",
    "    bounds = core.scene.bounds\n",
    "    min_b = bounds['min']\n",
    "    max_b = bounds['max']\n",
    "    aabb_min = list()\n",
    "    aabb_max = list()\n",
    "    aabb_size = list()\n",
    "    for i in range(3):\n",
    "        aabb_min.append(float(min_b[i]))\n",
    "        aabb_max.append(float(max_b[i]))\n",
    "        aabb_size.append(aabb_max[i] - aabb_min[i])\n",
    "    return [aabb_min, aabb_max, aabb_size]"
   ]
  },
  {
   "cell_type": "code",
   "execution_count": null,
   "metadata": {},
   "outputs": [],
   "source": [
    "output_folder = '/media/favreau/Documents/medias/covid19/caches/0.9.0/ooc'\n",
    "export_to_cache = True\n",
    "\n",
    "scene_size = get_scene_bounds()[2]\n",
    "print(scene_size)\n",
    "nb_bricks = 16\n",
    "\n",
    "brick_size = list()\n",
    "for i in range(3):\n",
    "    brick_size.append(scene_size[i] / nb_bricks)"
   ]
  },
  {
   "cell_type": "code",
   "execution_count": null,
   "metadata": {},
   "outputs": [],
   "source": [
    "brick_size"
   ]
  },
  {
   "cell_type": "code",
   "execution_count": null,
   "metadata": {},
   "outputs": [],
   "source": [
    "scene_size"
   ]
  },
  {
   "cell_type": "code",
   "execution_count": null,
   "metadata": {
    "scrolled": false
   },
   "outputs": [],
   "source": [
    "from IPython.display import clear_output\n",
    "\n",
    "x = -scene_size[0]/2.0\n",
    "while x<scene_size[0]/2.0:\n",
    "    y = -scene_size[1]/2.0\n",
    "    while y<scene_size[1]/2.0:\n",
    "        z = -scene_size[2]/2.0\n",
    "        while z<scene_size[2]/2.0:\n",
    "            clear_output()\n",
    "            clipping_planes=[\n",
    "                [-1.0, 0.0, 0.0, -x],\n",
    "                [ 1.0, 0.0, 0.0, x + brick_size[0]],\n",
    "                [ 0.0,-1.0, 0.0, -y],\n",
    "                [ 0.0, 1.0, 0.0, y + brick_size[1]],\n",
    "                [ 0.0, 0.0,-1.0, -z],\n",
    "                [ 0.0, 0.0, 1.0, z + brick_size[2]]\n",
    "            ]\n",
    "    \n",
    "            box_id = (z / brick_size[2]) + \\\n",
    "                     (y / brick_size[1]) * nb_bricks + \\\n",
    "                     (x / brick_size[0]) * nb_bricks * nb_bricks;\n",
    "\n",
    "            if export_to_cache:\n",
    "                be.set_general_settings(\n",
    "                    model_visibility_on_creation=False,\n",
    "                    off_folder='/tmp/',\n",
    "                    clipping_planes=clipping_planes\n",
    "                )\n",
    "\n",
    "                # Save to disk\n",
    "                filename = output_folder + '/brick%06d.bioexplorer' % box_id\n",
    "                print('Exporting box %d ' % box_id)\n",
    "                be.export_to_cache(filename=filename)\n",
    "    \n",
    "            z += brick_size[2]\n",
    "        y += brick_size[1]\n",
    "    x += brick_size[0]"
   ]
  },
  {
   "cell_type": "code",
   "execution_count": null,
   "metadata": {},
   "outputs": [],
   "source": [
    "be.reset()"
   ]
  },
  {
   "cell_type": "code",
   "execution_count": null,
   "metadata": {},
   "outputs": [],
   "source": [
    "status = core.add_model(\n",
    "    '/media/favreau/Documents/medias/covid19/caches/0.9.0/ooc/brick-00074.bioexplorer')"
   ]
  },
  {
   "cell_type": "code",
   "execution_count": null,
   "metadata": {},
   "outputs": [],
   "source": [
    "status = be.set_models_visibility(True)"
   ]
  },
  {
   "cell_type": "code",
   "execution_count": null,
   "metadata": {},
   "outputs": [],
   "source": [
    "core.get_camera()"
   ]
  },
  {
   "cell_type": "code",
   "execution_count": null,
   "metadata": {},
   "outputs": [],
   "source": []
  }
 ],
 "metadata": {
  "kernelspec": {
   "display_name": "Python 3",
   "language": "python",
   "name": "python3"
  },
  "language_info": {
   "codemirror_mode": {
    "name": "ipython",
    "version": 3
   },
   "file_extension": ".py",
   "mimetype": "text/x-python",
   "name": "python",
   "nbconvert_exporter": "python",
   "pygments_lexer": "ipython3",
   "version": "3.8.5"
  }
 },
 "nbformat": 4,
 "nbformat_minor": 2
}
