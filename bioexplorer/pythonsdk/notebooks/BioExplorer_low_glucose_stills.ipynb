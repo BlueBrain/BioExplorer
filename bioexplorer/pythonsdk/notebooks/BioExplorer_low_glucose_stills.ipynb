{
 "cells": [
  {
   "cell_type": "markdown",
   "metadata": {},
   "source": [
    "# Blue Brain BioExplorer\n",
    "\n",
    "![](./images/bioexplorer_banner.png)"
   ]
  },
  {
   "cell_type": "code",
   "execution_count": null,
   "metadata": {},
   "outputs": [],
   "source": [
    "from bioexplorer import BioExplorer\n",
    "from braynsmediamaker import MovieMaker\n",
    "import os\n",
    "\n",
    "sequence_name = 'low_glucose'\n",
    "\n",
    "hostname = 'localhost:5000'\n",
    "resource_folder = '../tests/test_files/'\n",
    "    \n",
    "be = BioExplorer(hostname)\n",
    "core = be.core_api()\n",
    "mm = MovieMaker(core)\n",
    "bio_explorer_version = be.version()\n",
    "print(bio_explorer_version)\n",
    "be.reset()\n",
    "\n",
    "output_folder = resource_folder + '/movies/frames/' + \\\n",
    "    bio_explorer_version + '/' + sequence_name + '/stills/'\n",
    "print(output_folder)"
   ]
  },
  {
   "cell_type": "markdown",
   "metadata": {},
   "source": [
    "## Data loading"
   ]
  },
  {
   "cell_type": "code",
   "execution_count": null,
   "metadata": {
    "scrolled": true
   },
   "outputs": [],
   "source": [
    "cache_folder = resource_folder + 'caches/' + bio_explorer_version + '/'\n",
    "print(cache_folder)"
   ]
  },
  {
   "cell_type": "code",
   "execution_count": null,
   "metadata": {},
   "outputs": [],
   "source": [
    "cache_filename = cache_folder + sequence_name + '_scenario.bioexplorer'\n",
    "print('Loading ' + cache_filename)\n",
    "dummy = core.add_model(cache_filename)"
   ]
  },
  {
   "cell_type": "code",
   "execution_count": null,
   "metadata": {},
   "outputs": [],
   "source": [
    "nb_models = len(core.scene.models)\n",
    "if nb_models != 147:\n",
    "    print('ERROR: Not all models have been loaded!!! Expected 147, found ' + str(nb_models))\n",
    "else:\n",
    "    print('All good!')"
   ]
  },
  {
   "cell_type": "markdown",
   "metadata": {},
   "source": [
    "## Rendering settings"
   ]
  },
  {
   "cell_type": "code",
   "execution_count": null,
   "metadata": {},
   "outputs": [],
   "source": [
    "status = core.set_renderer(\n",
    "    background_color=[96 / 255, 125 / 255, 139 / 255],\n",
    "    current='bio_explorer',\n",
    "    samples_per_pixel=1, subsampling=1, max_accum_frames=1)\n",
    "params = core.BioExplorerRendererParams()\n",
    "params.gi_samples = 1\n",
    "params.gi_weight = 0.4\n",
    "params.gi_distance = 100\n",
    "params.shadows = 1.0\n",
    "params.soft_shadows = 1.0\n",
    "params.soft_shadows_samples = 1\n",
    "params.fog_start = 1300\n",
    "params.fog_thickness = 1300\n",
    "params.max_bounces = 1\n",
    "status = core.set_renderer_params(params)"
   ]
  },
  {
   "cell_type": "markdown",
   "metadata": {},
   "source": [
    "## Image settings"
   ]
  },
  {
   "cell_type": "code",
   "execution_count": null,
   "metadata": {},
   "outputs": [],
   "source": [
    "image_size = [3840, 2160]\n",
    "image_samples_per_pixel = 64\n",
    "\n",
    "command_line='mkdir -p ' + output_folder\n",
    "os.system(command_line)\n",
    "command_line='ls ' + output_folder\n",
    "print(output_folder)\n",
    "if os.system(command_line) != 0:\n",
    "    print('ERROR: Failed to create output folder')"
   ]
  },
  {
   "cell_type": "markdown",
   "metadata": {},
   "source": [
    "## Snapshots"
   ]
  },
  {
   "cell_type": "code",
   "execution_count": null,
   "metadata": {},
   "outputs": [],
   "source": [
    "cam = core.get_camera()\n",
    "print('orientation=' + str(cam['orientation']) + ',')\n",
    "print('position=' + str(cam['position']) + ',')\n",
    "print('target=' + str(cam['target']))"
   ]
  },
  {
   "cell_type": "code",
   "execution_count": null,
   "metadata": {},
   "outputs": [],
   "source": [
    "def set_all_materials_to_grey():\n",
    "    for model in core.scene.models:\n",
    "        model_id = model['id']\n",
    "        model_name = model['name']\n",
    "\n",
    "        material_ids = be.get_material_ids(model_id)['ids']\n",
    "        nb_materials = len(material_ids)\n",
    "        palette = list()\n",
    "        for p in range(nb_materials):\n",
    "            palette.append([0.25,0.25,0.25])\n",
    "        be.set_materials(\n",
    "            model_ids=[model_id], material_ids=material_ids, \n",
    "            diffuse_colors=palette, specular_colors=palette)"
   ]
  },
  {
   "cell_type": "code",
   "execution_count": null,
   "metadata": {},
   "outputs": [],
   "source": [
    "def set_glycans_materials(high_mannose=False, complex=False, hybrid=False, o_glycans=False):\n",
    "    glycans_colors = [[0, 1, 1], [1, 1, 0], [1, 0, 1], [0.2, 0.2, 0.7]]\n",
    "\n",
    "    for model in core.scene.models:\n",
    "        model_id = model['id']\n",
    "        model_name = model['name']\n",
    "\n",
    "        material_ids = be.get_material_ids(model_id)['ids']\n",
    "        nb_materials = len(material_ids)\n",
    "        if be.NAME_GLYCAN_HIGH_MANNOSE in model_name and high_mannose:\n",
    "            palette = list()\n",
    "            for m in range(nb_materials):\n",
    "                palette.append(glycans_colors[0])\n",
    "            be.set_materials(\n",
    "                model_ids=[model_id], material_ids=material_ids,\n",
    "                diffuse_colors=palette, specular_colors=palette\n",
    "            )\n",
    "        if be.NAME_GLYCAN_COMPLEX in model_name and complex:\n",
    "            palette = list()\n",
    "            for m in range(nb_materials):\n",
    "                palette.append(glycans_colors[1])\n",
    "            be.set_materials(\n",
    "                model_ids=[model_id], material_ids=material_ids,\n",
    "                diffuse_colors=palette, specular_colors=palette\n",
    "            )            \n",
    "        if be.NAME_GLYCAN_HYBRID in model_name and hybrid:\n",
    "            palette = list()\n",
    "            for m in range(nb_materials):\n",
    "                palette.append(glycans_colors[2])\n",
    "            be.set_materials(\n",
    "                model_ids=[model_id], material_ids=material_ids,\n",
    "                diffuse_colors=palette, specular_colors=palette\n",
    "            )                \n",
    "        if be.NAME_GLYCAN_O_GLYCAN in model_name and o_glycans:\n",
    "            palette = list()\n",
    "            for m in range(nb_materials):\n",
    "                palette.append(glycans_colors[3])\n",
    "            be.set_materials(\n",
    "                model_ids=[model_id], material_ids=material_ids,\n",
    "                diffuse_colors=palette, specular_colors=palette\n",
    "            )"
   ]
  },
  {
   "cell_type": "markdown",
   "metadata": {},
   "source": [
    "### Frame 600 - Spike and glycans"
   ]
  },
  {
   "cell_type": "code",
   "execution_count": null,
   "metadata": {},
   "outputs": [],
   "source": [
    "status = core.set_camera(\n",
    "    orientation=[-0.005685498736699895, 0.04744824242706568, -0.004076164405359884, 0.998849199968863],\n",
    "    position=[201.58518981933594, 74.49932098388672, -106.41613006591797],\n",
    "    target=[201.4903564453125, 74.48834991455078, -107.41156005859375]\n",
    ")"
   ]
  },
  {
   "cell_type": "code",
   "execution_count": null,
   "metadata": {},
   "outputs": [],
   "source": [
    "set_all_materials_to_grey()\n",
    "mm.create_snapshot(exportIntermediateFrames=False,\n",
    "    size=image_size, samples_per_pixel=image_samples_per_pixel,\n",
    "    path=output_folder + '/00600.png')"
   ]
  },
  {
   "cell_type": "code",
   "execution_count": null,
   "metadata": {},
   "outputs": [],
   "source": [
    "set_glycans_materials(complex=True)\n",
    "mm.create_snapshot(exportIntermediateFrames=False,\n",
    "    size=image_size, samples_per_pixel=image_samples_per_pixel,\n",
    "    path=output_folder + '/00600a.png')"
   ]
  },
  {
   "cell_type": "code",
   "execution_count": null,
   "metadata": {},
   "outputs": [],
   "source": [
    "set_glycans_materials(o_glycans=True)\n",
    "mm.create_snapshot(exportIntermediateFrames=False,\n",
    "    size=image_size, samples_per_pixel=image_samples_per_pixel,\n",
    "    path=output_folder + '/00600b.png')"
   ]
  },
  {
   "cell_type": "code",
   "execution_count": null,
   "metadata": {},
   "outputs": [],
   "source": [
    "set_glycans_materials(high_mannose=True)\n",
    "mm.create_snapshot(exportIntermediateFrames=False,\n",
    "    size=image_size, samples_per_pixel=image_samples_per_pixel,\n",
    "    path=output_folder + '/00600c.png')"
   ]
  },
  {
   "cell_type": "markdown",
   "metadata": {},
   "source": [
    "### Frame 1600 - Immune system"
   ]
  },
  {
   "cell_type": "code",
   "execution_count": null,
   "metadata": {},
   "outputs": [],
   "source": [
    "status = core.set_camera(\n",
    "    orientation=[-0.0036387755614786625, 0.24302943103787245, -0.002970781649413259, 0.9700075409079111],\n",
    "    position=[238.1634521484375, 46.43696212768555, 372.584716796875],\n",
    "    target=[237.69195556640625, 46.43134689331055, 371.702880859375]\n",
    ")"
   ]
  },
  {
   "cell_type": "code",
   "execution_count": null,
   "metadata": {},
   "outputs": [],
   "source": [
    "def apply_immune_colors():\n",
    "    import seaborn as sns\n",
    "    shading_mode = be.SHADING_MODE_BASIC\n",
    "    specular_exponent = 50\n",
    "    for model in core.scene.models:\n",
    "        model_id = model['id']\n",
    "        model_name = model['name']\n",
    "\n",
    "        material_ids = be.get_material_ids(model_id)['ids']\n",
    "        nb_materials = len(material_ids)\n",
    "\n",
    "        if be.NAME_GLUCOSE in model_name:\n",
    "            palette = sns.color_palette('Blues', nb_materials)\n",
    "            be.set_materials_from_palette(\n",
    "                shading_mode=shading_mode, specular_exponent=specular_exponent,\n",
    "                model_ids=[model_id], material_ids=material_ids, palette=palette)\n",
    "\n",
    "        if be.NAME_LACTOFERRIN in model_name:\n",
    "            palette = sns.color_palette('afmhot', nb_materials)\n",
    "            be.set_materials_from_palette(\n",
    "                shading_mode=shading_mode, specular_exponent=specular_exponent,\n",
    "                model_ids=[model_id], material_ids=material_ids, palette=palette)\n",
    "\n",
    "        if be.NAME_DEFENSIN in model_name:\n",
    "            palette = sns.color_palette('plasma_r', nb_materials)\n",
    "            be.set_materials_from_palette(\n",
    "                shading_mode=shading_mode, specular_exponent=specular_exponent,\n",
    "                model_ids=[model_id], material_ids=material_ids, palette=palette)\n",
    "\n",
    "        if be.NAME_SURFACTANT_HEAD in model_name:\n",
    "            palette = sns.color_palette('OrRd_r', nb_materials)\n",
    "            emission = 0\n",
    "            be.set_materials_from_palette(\n",
    "                shading_mode=shading_mode, specular_exponent=specular_exponent,\n",
    "                model_ids=[model_id], material_ids=material_ids,\n",
    "                palette=palette, emission=emission)\n",
    "        if be.NAME_COLLAGEN in model_name:\n",
    "            material_ids = list(be.get_material_ids(model_id)['ids'])\n",
    "            nb_materials = len(material_ids)\n",
    "            palette = list()\n",
    "            emissions = list()\n",
    "            for i in range(nb_materials):\n",
    "                palette.append([1,1,1])\n",
    "                emissions.append(0.1)\n",
    "            be.set_materials(\n",
    "                model_ids=[model_id], material_ids=material_ids,\n",
    "                diffuse_colors=palette, specular_colors=palette,\n",
    "                emissions=emissions\n",
    "            )"
   ]
  },
  {
   "cell_type": "code",
   "execution_count": null,
   "metadata": {},
   "outputs": [],
   "source": [
    "set_all_materials_to_grey()\n",
    "apply_immune_colors()"
   ]
  },
  {
   "cell_type": "code",
   "execution_count": null,
   "metadata": {},
   "outputs": [],
   "source": [
    "mm.create_snapshot(exportIntermediateFrames=False,\n",
    "    size=image_size, samples_per_pixel=image_samples_per_pixel,\n",
    "    path=output_folder + '/01600.png')"
   ]
  },
  {
   "cell_type": "markdown",
   "metadata": {},
   "source": [
    "### Frame 2600 - Surfactant head"
   ]
  },
  {
   "cell_type": "code",
   "execution_count": null,
   "metadata": {},
   "outputs": [],
   "source": [
    "status = core.set_camera(\n",
    "    orientation=[0.08610159341705904, 0.475212226477359, -0.055074495502621494, 0.8739145583880651],\n",
    "    position=[-9.827075958251953, 110.72057342529297, 60.944026947021484],\n",
    "    target=[-10.648181915283203, 110.92340850830078, 60.41050720214844]\n",
    ")"
   ]
  },
  {
   "cell_type": "code",
   "execution_count": null,
   "metadata": {},
   "outputs": [],
   "source": [
    "mm.create_snapshot(exportIntermediateFrames=False,\n",
    "    size=image_size, samples_per_pixel=image_samples_per_pixel,\n",
    "    path=output_folder + '/02600.png')"
   ]
  }
 ],
 "metadata": {
  "kernelspec": {
   "display_name": "Python 3",
   "language": "python",
   "name": "python3"
  },
  "language_info": {
   "codemirror_mode": {
    "name": "ipython",
    "version": 3
   },
   "file_extension": ".py",
   "mimetype": "text/x-python",
   "name": "python",
   "nbconvert_exporter": "python",
   "pygments_lexer": "ipython3",
   "version": "3.8.5"
  }
 },
 "nbformat": 4,
 "nbformat_minor": 2
}
