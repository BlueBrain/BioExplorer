{
 "cells": [
  {
   "cell_type": "markdown",
   "metadata": {},
   "source": [
    "# Blue Brain BioExplorer\n",
    "\n",
    "![](./images/bioexplorer_banner.png)"
   ]
  },
  {
   "cell_type": "code",
   "execution_count": null,
   "metadata": {},
   "outputs": [],
   "source": [
    "from bioexplorer import BioExplorer\n",
    "import os\n",
    "\n",
    "hostname = 'localhost:5000'\n",
    "    \n",
    "be = BioExplorer(hostname)\n",
    "core = be.core_api()\n",
    "be.version()\n",
    "\n",
    "resource_folder = '../tests/test_files/'\n",
    "image_folder = resource_folder + 'images/'"
   ]
  },
  {
   "cell_type": "markdown",
   "metadata": {},
   "source": [
    "## Rendering settings"
   ]
  },
  {
   "cell_type": "code",
   "execution_count": null,
   "metadata": {},
   "outputs": [],
   "source": [
    "core = be.core_api()\n",
    "status = core.set_renderer(\n",
    "    background_color=[96 / 255, 125 / 255, 139 / 255],\n",
    "    current='bio_explorer',\n",
    "    samples_per_pixel=1, subsampling=1, max_accum_frames=64)\n",
    "\n",
    "params = core.BioExplorerRendererParams()\n",
    "params.gi_samples = 3\n",
    "params.gi_weight = 0.6\n",
    "params.gi_distance = 100\n",
    "params.shadows = 1\n",
    "params.soft_shadows = 1\n",
    "params.fog_start = 1500\n",
    "params.fog_thickness = 1500\n",
    "params.max_bounces = 1\n",
    "status = core.set_renderer_params(params)"
   ]
  },
  {
   "cell_type": "markdown",
   "metadata": {},
   "source": [
    "## Overview"
   ]
  },
  {
   "cell_type": "code",
   "execution_count": null,
   "metadata": {},
   "outputs": [],
   "source": [
    "status = core.set_camera(\n",
    "    orientation=[-0.001, 0.124, 0.002, 0.992],\n",
    "    position=[162.315, -28.568, 724.308],\n",
    "    target=[-182.294, -32.396, -625.519]\n",
    ")\n",
    "params = core.BioExplorerPerspectiveCameraParams()\n",
    "params.aperture_radius = 0.0\n",
    "params.focus_distance = 180\n",
    "params.enable_clipping_planes = False\n",
    "status = core.set_camera_params(params)"
   ]
  },
  {
   "cell_type": "markdown",
   "metadata": {},
   "source": [
    "## Surfactant - Macrophage"
   ]
  },
  {
   "cell_type": "code",
   "execution_count": null,
   "metadata": {},
   "outputs": [],
   "source": [
    "status = core.set_camera(\n",
    "    orientation=[-0.001, 0.124, 0.002, 0.992],\n",
    "    position=[-125.882, 135.681, 287.722],\n",
    "    target=[-348.330, 133.210, -583.600]\n",
    ")\n",
    "params = core.BioExplorerPerspectiveCameraParams()\n",
    "params.aperture_radius = 0.01\n",
    "params.focus_distance = 180\n",
    "params.enable_clipping_planes = False\n",
    "status = core.set_camera_params(params)"
   ]
  },
  {
   "cell_type": "markdown",
   "metadata": {},
   "source": [
    "## Surfactant-D close-up"
   ]
  },
  {
   "cell_type": "code",
   "execution_count": null,
   "metadata": {},
   "outputs": [],
   "source": [
    "status = core.set_camera(\n",
    "    orientation=[0.056, 0.090, -0.024, 0.994],\n",
    "    position=[52.865, 29.736, 16.289],\n",
    "    target=[-69.174, 109.892, -659.195]\n",
    ")\n",
    "params = core.BioExplorerPerspectiveCameraParams()\n",
    "params.aperture_radius = 0.005\n",
    "params.focus_distance = 35.82\n",
    "params.enable_clipping_planes = False\n",
    "status = core.set_camera_params(params)"
   ]
  },
  {
   "cell_type": "code",
   "execution_count": null,
   "metadata": {},
   "outputs": [],
   "source": [
    "status = core.set_camera(\n",
    "    orientation=[0.068, 0.970, -0.224, 0.046],\n",
    "    position=[-44.438, 99.673, -4.319],\n",
    "    target=[-52.825, 162.353, 122.409]\n",
    ")\n",
    "params = core.BioExplorerPerspectiveCameraParams()\n",
    "params.aperture_radius = 0.01\n",
    "params.focus_distance = 39.73\n",
    "params.enable_clipping_planes = False\n",
    "status = core.set_camera_params(params)"
   ]
  },
  {
   "cell_type": "code",
   "execution_count": null,
   "metadata": {},
   "outputs": [],
   "source": []
  }
 ],
 "metadata": {
  "kernelspec": {
   "display_name": "Python 3",
   "language": "python",
   "name": "python3"
  },
  "language_info": {
   "codemirror_mode": {
    "name": "ipython",
    "version": 3
   },
   "file_extension": ".py",
   "mimetype": "text/x-python",
   "name": "python",
   "nbconvert_exporter": "python",
   "pygments_lexer": "ipython3",
   "version": "3.8.5"
  }
 },
 "nbformat": 4,
 "nbformat_minor": 2
}
