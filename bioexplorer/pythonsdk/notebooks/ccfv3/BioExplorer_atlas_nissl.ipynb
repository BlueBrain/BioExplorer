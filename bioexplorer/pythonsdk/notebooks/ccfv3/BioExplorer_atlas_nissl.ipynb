{
 "cells": [
  {
   "cell_type": "markdown",
   "id": "f992ef9f",
   "metadata": {},
   "source": [
    "# BioExplorer - CCFv3\n",
    "![](../bioexplorer_ccfv3_banner.png)"
   ]
  },
  {
   "cell_type": "markdown",
   "id": "34dd28a4",
   "metadata": {},
   "source": [
    "### Connect to back-end"
   ]
  },
  {
   "cell_type": "code",
   "execution_count": null,
   "id": "255fc219",
   "metadata": {},
   "outputs": [],
   "source": [
    "from bioexplorer import BioExplorer, Vector3, MovieMaker\n",
    "from tqdm import tqdm\n",
    "\n",
    "url = 'localhost:5000'\n",
    "be = BioExplorer(url)\n",
    "mm = MovieMaker(be)\n",
    "core = be.core_api()\n",
    "\n",
    "load_cells = True\n",
    "load_meshes = False\n",
    "cell_radius = 1.0 # Micrometters\n",
    "\n",
    "nissl_enabled = True\n"
   ]
  },
  {
   "cell_type": "markdown",
   "id": "d7c658d2",
   "metadata": {},
   "source": [
    "### Load Atlas"
   ]
  },
  {
   "cell_type": "code",
   "execution_count": null,
   "id": "cd5c7162",
   "metadata": {},
   "outputs": [],
   "source": [
    "population_name = 'atlas_ccfv3a'\n",
    "if nissl_enabled:\n",
    "    population_name = 'atlas_ccfv3a_all_cells'"
   ]
  },
  {
   "cell_type": "code",
   "execution_count": null,
   "id": "a1d7bdc6",
   "metadata": {},
   "outputs": [],
   "source": [
    "cerebellum_ids = [\n",
    "       512,      1025,       519,      1033,       528,      1041,      1049,\n",
    "      1056,      1064,      1073,      1091,       846,        91, 589508455,\n",
    "       989,      1143,      1144,      1145,       645,       912,       920,\n",
    "       928,       936,       944,     10672,     10673,     10674,     10675,\n",
    "     10676,     10677,       951,     10680,     10679,     10678,     10681,\n",
    "     10682,       957,     10683,     10687,     10688,     10689,     10690,\n",
    "     10691,     10692,     10684,     10686,       968,       976,     10705,\n",
    "     10706,     10707,     10708,     10709,     10710,     10711,     10712,\n",
    "     10713,       984,     10714,     10715,     10716,     10717,     10718,\n",
    "       992,     10720,     10721,     10722,     10719,     10723,     10724,\n",
    "     10725,     10728,      1001,     10726,     10727,     10729,     10730,\n",
    "     10731,     10733,     10732,     10734,     10737,     10736,     10735,\n",
    "      1007,      1017,     10685\n",
    "]\n",
    "\n",
    "cerebellum_granular_layer_ids = [10675, 10678, 10708, 10711, 10684, 10720, 10723, 10690, 10726, 10705, 10735, 10687, 10681, 10729, 10672, 10732]\n",
    "cerebellum_molecular_layer_ids =  [10677, 10680, 10710, 10713, 10686, 10722, 10725, 10692, 10728, 10707, 10737, 10689, 10683, 10731, 10674, 10734]\n",
    "\n",
    "olfactory_bulb_ids = [507, 212, 228, 236, 244, 220]\n",
    "\n",
    "medula_ids = [\n",
    "      773,       781,      1039,       789,      1048,        45,      1069,\n",
    "      560,       307,        53,       568,        61,       576,       69,\n",
    "      839,      1098,        76,        77,       83,      1107,       852,\n",
    "      859,       607,        96,       354, 589508451,       101,       106,\n",
    "      112,       370,       372,       887,       379,       640,      386,\n",
    "      642,       903,       135,       136,       651,       395,       653,\n",
    "      143,       659,       661,       666,       154,       161,       674,\n",
    "      169,       682,       938,       939,       429,       177,       691,\n",
    "      437,       185,       955,       445,       701,       193,       963,\n",
    "      711,       970,       203,       202,       206,       207,       720,\n",
    "      209,       978,       217,       222,       225,       995,       230,\n",
    "      235,       765\n",
    "]\n",
    "\n",
    "hippocampus_ids = [391, 775, 782, 399, 766, 19, 790, 407, 415, 799, 423, 807, 431, 815, 438, 823, 1080, 446, 454, 10702, 463, 10703, 10704, 726, 471, 982, 734, 479, 486, 742, 632, 495, 751, 758, 375, 504, 382]\n",
    "\n",
    "fibers_ids = [960, 1000, 1009, 396, 109, 698]\n",
    "regions_to_ignore = [\n",
    "    1557651848, # Cell excluded from region 1557651847 (x<540)\n",
    "    1024543562, 2358040414, 3263488087, 2416897036,\n",
    "    3034756217, 2165415682, 2614168502, 1842735199,\n",
    "    3101970431, 1140764290, 3092369320, 1811993763]\n"
   ]
  },
  {
   "cell_type": "code",
   "execution_count": null,
   "id": "82ad851e",
   "metadata": {},
   "outputs": [],
   "source": [
    "cerrebelum_filter = str(cerebellum_ids).replace('[','').replace(']','')\n",
    "cerebellum_granular_layer_filter = str(cerebellum_granular_layer_ids).replace('[','').replace(']','')\n",
    "cerebellum_molecular_layer_filter = str(cerebellum_molecular_layer_ids).replace('[','').replace(']','')\n",
    "olfactory_bulb_filter = str(olfactory_bulb_ids).replace('[','').replace(']','')\n",
    "medula_filter = str(medula_ids).replace('[','').replace(']','')\n",
    "ignore_filter = str(fibers_ids + regions_to_ignore).replace('[','').replace(']','')"
   ]
  },
  {
   "cell_type": "code",
   "execution_count": null,
   "id": "00fb153b",
   "metadata": {},
   "outputs": [],
   "source": [
    "status = be.reset_scene()"
   ]
  },
  {
   "cell_type": "code",
   "execution_count": null,
   "id": "aa65b308",
   "metadata": {},
   "outputs": [],
   "source": [
    "atlas_assembly_name = 'cerrebelum'\n",
    "be.remove_assembly(atlas_assembly_name)\n",
    "atlas_assembly = be.add_assembly(atlas_assembly_name)\n",
    "atlas_model = be.add_atlas(\n",
    "    assembly_name=atlas_assembly_name,\n",
    "    population_name=population_name,\n",
    "    load_cells=load_cells, load_meshes=load_meshes, cell_radius=cell_radius,\n",
    "    region_sql_filter='guid IN (%s) AND guid NOT IN (%s) AND guid NOT IN (%s)' % (cerrebelum_filter, cerebellum_granular_layer_filter, cerebellum_molecular_layer_filter),\n",
    "    mesh_scale=Vector3(1, 1, 1)\n",
    ")"
   ]
  },
  {
   "cell_type": "code",
   "execution_count": null,
   "id": "48f8514c",
   "metadata": {},
   "outputs": [],
   "source": [
    "atlas_assembly_name = 'cerebellum_granular_layer'\n",
    "be.remove_assembly(atlas_assembly_name)\n",
    "atlas_assembly = be.add_assembly(atlas_assembly_name)\n",
    "atlas_model = be.add_atlas(\n",
    "    assembly_name=atlas_assembly_name,\n",
    "    population_name=population_name,\n",
    "    load_cells=load_cells, load_meshes=load_meshes, cell_radius=cell_radius,\n",
    "    region_sql_filter='guid IN (%s)' % cerebellum_granular_layer_filter,\n",
    "    mesh_scale=Vector3(1, 1, 1)\n",
    ")"
   ]
  },
  {
   "cell_type": "code",
   "execution_count": null,
   "id": "9eda5d4e",
   "metadata": {},
   "outputs": [],
   "source": [
    "atlas_assembly_name = 'cerebellum_molecular_layer'\n",
    "be.remove_assembly(atlas_assembly_name)\n",
    "atlas_assembly = be.add_assembly(atlas_assembly_name)\n",
    "atlas_model = be.add_atlas(\n",
    "    assembly_name=atlas_assembly_name,\n",
    "    population_name=population_name,\n",
    "    load_cells=load_cells, load_meshes=load_meshes, cell_radius=cell_radius,\n",
    "    region_sql_filter='guid IN (%s)' % cerebellum_molecular_layer_filter,\n",
    "    mesh_scale=Vector3(1, 1, 1)\n",
    ")"
   ]
  },
  {
   "cell_type": "code",
   "execution_count": null,
   "id": "b823a7d2",
   "metadata": {},
   "outputs": [],
   "source": [
    "atlas_assembly_name = 'cerrebelum'\n",
    "be.remove_assembly(atlas_assembly_name)\n",
    "atlas_assembly = be.add_assembly(atlas_assembly_name)\n",
    "atlas_model = be.add_atlas(\n",
    "    assembly_name=atlas_assembly_name,\n",
    "    population_name=population_name,\n",
    "    load_cells=load_cells, load_meshes=load_meshes, cell_radius=cell_radius,\n",
    "    region_sql_filter='guid IN (%s) AND guid NOT IN (%s) AND guid NOT IN (%s)' % (cerrebelum_filter, cerebellum_granular_layer_filter, cerebellum_molecular_layer_filter),\n",
    "    mesh_scale=Vector3(1, 1, 1)\n",
    ")"
   ]
  },
  {
   "cell_type": "code",
   "execution_count": null,
   "id": "1e1c80f3",
   "metadata": {},
   "outputs": [],
   "source": [
    "atlas_assembly_name = 'olfactory_bulb'\n",
    "be.remove_assembly(atlas_assembly_name)\n",
    "atlas_assembly = be.add_assembly(atlas_assembly_name)\n",
    "atlas_model = be.add_atlas(\n",
    "    assembly_name=atlas_assembly_name,\n",
    "    population_name=population_name,\n",
    "    load_cells=load_cells, load_meshes=load_meshes, cell_radius=cell_radius,\n",
    "    region_sql_filter='guid IN (%s)' % olfactory_bulb_filter,\n",
    "    mesh_scale=Vector3(1, 1, 1)\n",
    ")"
   ]
  },
  {
   "cell_type": "code",
   "execution_count": null,
   "id": "d9a11e2b",
   "metadata": {},
   "outputs": [],
   "source": [
    "atlas_assembly_name = 'medula'\n",
    "be.remove_assembly(atlas_assembly_name)\n",
    "atlas_assembly = be.add_assembly(atlas_assembly_name)\n",
    "atlas_model = be.add_atlas(\n",
    "    assembly_name=atlas_assembly_name,\n",
    "    population_name=population_name,\n",
    "    load_cells=load_cells, load_meshes=load_meshes, cell_radius=cell_radius,\n",
    "    region_sql_filter='guid IN (%s)' % medula_filter,\n",
    "    mesh_scale=Vector3(1, 1, 1)\n",
    ")"
   ]
  },
  {
   "cell_type": "code",
   "execution_count": null,
   "id": "00721fa3",
   "metadata": {},
   "outputs": [],
   "source": [
    "atlas_assembly_name = 'other_regions'\n",
    "be.remove_assembly(atlas_assembly_name)\n",
    "atlas_assembly = be.add_assembly(atlas_assembly_name)\n",
    "atlas_model = be.add_atlas(\n",
    "    assembly_name=atlas_assembly_name,\n",
    "    population_name=population_name,\n",
    "    load_cells=load_cells, load_meshes=load_meshes, cell_radius=cell_radius,\n",
    "    region_sql_filter='level>=6 AND guid NOT IN (%s) AND guid NOT IN (%s) AND guid NOT IN (%s) AND guid NOT IN (%s) ' % (cerrebelum_filter, medula_filter, olfactory_bulb_filter, ignore_filter),\n",
    "    mesh_scale=Vector3(1, 1, 1)\n",
    ")"
   ]
  },
  {
   "cell_type": "code",
   "execution_count": null,
   "id": "b375e8a4",
   "metadata": {},
   "outputs": [],
   "source": [
    "import os\n",
    "from sqlalchemy import create_engine\n",
    "from sqlalchemy.orm import Session\n",
    "\n",
    "db_host = os.getenv('DB_HOST')\n",
    "db_name = os.getenv('DB_NAME')\n",
    "db_user = os.getenv('DB_USER')\n",
    "db_password = os.getenv('DB_PASSWORD')\n",
    "\n",
    "db_connection_string = 'postgresql+psycopg2://%s:%s@%s:5432/%s' % (db_user, db_password, db_host, db_name)\n",
    "print('Connection string: ' + db_connection_string)\n",
    "\n",
    "engine = create_engine(db_connection_string)\n",
    "conn = engine.connect()"
   ]
  },
  {
   "cell_type": "code",
   "execution_count": null,
   "id": "49aefad8",
   "metadata": {},
   "outputs": [],
   "source": [
    "region_colors = dict()\n",
    "\n",
    "def hex_to_rgb(value):\n",
    "    value = value.lstrip('#')\n",
    "    lv = len(value)\n",
    "    return tuple(int(value[i:i + lv // 3], 16) / 256.0 for i in range(0, lv, lv // 3))\n",
    "\n",
    "with Session(engine) as session:\n",
    "    data = session.execute('select guid, color_hex_triplet from %s.region' % population_name)\n",
    "    for d in data.all():\n",
    "        region_colors[int(d[0])] = hex_to_rgb(d[1])"
   ]
  },
  {
   "cell_type": "code",
   "execution_count": null,
   "id": "5b2edd2b",
   "metadata": {},
   "outputs": [],
   "source": [
    "model_ids = be.get_model_ids()['ids']\n",
    "for model_id in model_ids:\n",
    "    k = 0\n",
    "    material_ids = be.get_material_ids(model_id)['ids']\n",
    "    palette = list()\n",
    "    opacities = list()\n",
    "    shading_modes = list()\n",
    "    specular_exponents = list()\n",
    "    refraction_indices = list()\n",
    "    glossinesses = list()\n",
    "    user_parameters = list()\n",
    "    for material_id in material_ids:\n",
    "        if not nissl_enabled:\n",
    "            c = [0.8, 0.3, 0.8]\n",
    "        else:\n",
    "            c = [1, 0, 0]\n",
    "            m_id = material_id\n",
    "            if m_id in region_colors:\n",
    "                c = region_colors[m_id]\n",
    "        alpha = [2.0, 2.0, 2.0]\n",
    "\n",
    "        if material_id in olfactory_bulb_ids:\n",
    "            value = 0.5 * float(k) / float(len(olfactory_bulb_ids))\n",
    "            alpha[0] -= value\n",
    "            alpha[1] -= value\n",
    "            alpha[2] -= value\n",
    "            k += 1\n",
    "\n",
    "        shading_modes.append(be.shading_mode.BASIC)\n",
    "        user_parameters.append(3.0)\n",
    "        glossinesses.append(1.0)\n",
    "        specular_exponents.append(50.0)\n",
    "        palette.append([alpha[0] * c[0], alpha[1] * c[1], alpha[2] * c[2]])\n",
    "        \n",
    "    be.set_materials(\n",
    "        model_ids=[model_id], material_ids=material_ids,\n",
    "        shading_modes=shading_modes, user_parameters=user_parameters,\n",
    "        opacities=opacities, specular_exponents=specular_exponents,\n",
    "        refraction_indices=refraction_indices, glossinesses=glossinesses,\n",
    "        diffuse_colors=palette, specular_colors=palette)"
   ]
  },
  {
   "cell_type": "code",
   "execution_count": null,
   "id": "d8814e6b",
   "metadata": {},
   "outputs": [],
   "source": [
    "status = core.clear_lights()\n",
    "core.add_light_directional(\n",
    "    angularDiameter=45, color=(1,1,1), direction=(0.5, 0.5, 1.2),\n",
    "    intensity=1.0, is_visible=False)"
   ]
  },
  {
   "cell_type": "code",
   "execution_count": null,
   "id": "111cb1ac",
   "metadata": {},
   "outputs": [],
   "source": [
    "background_color = [0.0, 0.0, 0.0]\n",
    "status = core.set_renderer(\n",
    "    head_light=False,\n",
    "    current='advanced', background_color=background_color,\n",
    "    subsampling=4, max_accum_frames=128)\n",
    "params = core.AdvancedRendererParams()\n",
    "params.gi_ray_length = 2000\n",
    "params.shadow_intensity = 0.75\n",
    "params.soft_shadow_strength = 0.5\n",
    "params.main_exposure = 1.5\n",
    "params.max_ray_depth = 1\n",
    "params.epsilon_multiplier = 1.0\n",
    "params.use_hardware_randomizer = True\n",
    "status = core.set_renderer_params(params)"
   ]
  },
  {
   "cell_type": "code",
   "execution_count": null,
   "id": "dbffd507",
   "metadata": {},
   "outputs": [],
   "source": [
    "core.set_camera(\n",
    "    current='perspective',\n",
    "    orientation=[0.8744458160476791, 0.09151682620478456, -0.401564627390352, 0.25634943991934056],\n",
    "    position=[-2565.3701241987646, -2607.8377454106976, -1731.3329308640486],\n",
    "    target=[6733.589672442965, 4796.273454159725, 6016.635720470601],\n",
    ")"
   ]
  },
  {
   "cell_type": "markdown",
   "id": "d22e512f",
   "metadata": {},
   "source": [
    "## Movies"
   ]
  },
  {
   "cell_type": "code",
   "execution_count": null,
   "id": "34910091",
   "metadata": {},
   "outputs": [],
   "source": [
    "k = 4\n",
    "spp = 128"
   ]
  },
  {
   "cell_type": "code",
   "execution_count": null,
   "id": "5ee46eb5",
   "metadata": {},
   "outputs": [],
   "source": [
    "mm.set_current_frame(360, camera_params=core.PerspectiveCameraParams())\n",
    "# "
   ]
  },
  {
   "cell_type": "markdown",
   "id": "24e5466a",
   "metadata": {},
   "source": [
    "### Navigation"
   ]
  },
  {
   "cell_type": "code",
   "execution_count": null,
   "id": "87caaf1a",
   "metadata": {},
   "outputs": [],
   "source": [
    "aperture = 0.025\n",
    "keys = [\n",
    "    # Initial view\n",
    "{'apertureRadius': aperture,\n",
    " 'direction': [0.6854871487785866, 0.5030206306269551, 0.5263816239412848],\n",
    " 'focalDistance': 9253.397008627542,\n",
    " 'origin': [-2527.6921523606516, -2245.5463934403388, -1339.1154343307448],\n",
    " 'up': [0.3547020737415614, -0.8620920242723422, 0.3619168144331669]}\n",
    "    ,\n",
    "\n",
    "{'apertureRadius': aperture,\n",
    " 'direction': [0.9975381609399205, 0.04844860180797254, 0.050698623762920114],\n",
    " 'focalDistance': 2387.7733912277613,\n",
    " 'origin': [-1720.2286994653537, 3634.2226785222274, 5026.336826831128],\n",
    " 'up': [0.04671215209119187, -0.998298780497687, 0.034892974992694815]}\n",
    "    ,\n",
    "\n",
    "{'apertureRadius': aperture,\n",
    " 'direction': [0.9999993657561829,\n",
    "  0.0007781206247115814,\n",
    "  0.0008142576529535095],\n",
    " 'focalDistance': 5859.641666636447,\n",
    " 'origin': [1862.7944308086023, 4243.750431897813, 5686.213051301703],\n",
    " 'up': [0.0007776645989116045, -0.9999995406967854, 0.0005602178057298285]}\n",
    " ,\n",
    "\n",
    "{'apertureRadius': aperture,\n",
    " 'direction': [0.7308813935839826, 0.07575503852793797, 0.6782872272499065],\n",
    " 'focalDistance': 30.807409739895085,\n",
    " 'origin': [6458.6508079842415, 3421.2281248833124, 1180.0342772712302],\n",
    " 'up': [0.03898281377442966, -0.9968320745778512, 0.06932644028828852]}\n",
    "    ,\n",
    "\n",
    "{'apertureRadius': aperture,\n",
    " 'direction': [0.42515353348261525, 0.0025447669944821706, 0.905117670321484],\n",
    " 'focalDistance': 636.1168762759829,\n",
    " 'origin': [10006.001482705391, 3638.5421392848107, 626.3684581192696],\n",
    " 'up': [0.08352786230975352, -0.9958391360990704, -0.036435027534231265]}\n",
    "     ,\n",
    "\n",
    "{'apertureRadius': aperture,\n",
    " 'direction': [-0.5870523621453636, 0.29694338283650284, 0.7531229325210882],\n",
    " 'focalDistance': 2103.72572082172,\n",
    " 'origin': [13026.51177665402, 2036.3563402845139, 465.3209265548437],\n",
    " 'up': [-0.15184808309939798, -0.9541775161225008, 0.25785156075799415]}\n",
    "   ,\n",
    "\n",
    "{'apertureRadius': aperture,\n",
    " 'direction': [-0.012183419094194578,\n",
    "  0.9998127860875813,\n",
    "  0.015031868645106305],\n",
    " 'focalDistance': 9389.921671658274,\n",
    " 'origin': [7850.708136173812, -5682.044848407617, 5581.320612252858],\n",
    " 'up': [-0.0031777874249825566, -0.015071623301217585, 0.9998813668821657]}\n",
    "  \n",
    "   ,\n",
    "{'apertureRadius': aperture,\n",
    " 'direction': [0.6854871487785866, 0.5030206306269551, 0.5263816239412848],\n",
    " 'focalDistance': 9253.397008627542,\n",
    " 'origin': [-2527.6921523606516, -2245.5463934403388, -1339.1154343307448],\n",
    " 'up': [0.3547020737415614, -0.8620920242723422, 0.3619168144331669]}\n",
    "\n",
    " ]\n",
    "\n",
    "double_keys = list()\n",
    "for key in keys:\n",
    "    double_keys.append(key)\n",
    "    double_keys.append(key)\n",
    "mm.build_camera_path(double_keys, 50, 25)"
   ]
  },
  {
   "cell_type": "code",
   "execution_count": null,
   "id": "e1945aa4",
   "metadata": {},
   "outputs": [],
   "source": [
    "from tqdm import tqdm\n",
    "output_folder = '/scratch/videos/atlas/ccfv3_fly_through/v1'\n",
    "k = 4\n",
    "\n",
    "for frame in tqdm(range(mm.get_nb_frames())):\n",
    "    mm.set_current_frame(frame)\n",
    "    mm.create_snapshot(\n",
    "        renderer='advanced',\n",
    "        path=output_folder, base_name='%05d' % frame,\n",
    "        size=[k * 960, k * 540],\n",
    "        samples_per_pixel=64)"
   ]
  }
 ],
 "metadata": {
  "interpreter": {
   "hash": "ea9a5fa46eb6bad2806a8ea1d08e15bb1e255a2d4320b81e765591579963c56b"
  },
  "kernelspec": {
   "display_name": "Python 3 (ipykernel)",
   "language": "python",
   "name": "python3"
  },
  "language_info": {
   "codemirror_mode": {
    "name": "ipython",
    "version": 3
   },
   "file_extension": ".py",
   "mimetype": "text/x-python",
   "name": "python",
   "nbconvert_exporter": "python",
   "pygments_lexer": "ipython3",
   "version": "3.10.12"
  }
 },
 "nbformat": 4,
 "nbformat_minor": 5
}
