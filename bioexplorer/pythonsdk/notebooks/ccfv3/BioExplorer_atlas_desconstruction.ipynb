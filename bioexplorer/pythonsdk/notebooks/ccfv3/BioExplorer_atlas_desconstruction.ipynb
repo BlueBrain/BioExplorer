{
 "cells": [
  {
   "cell_type": "markdown",
   "id": "f992ef9f",
   "metadata": {},
   "source": [
    "# BioExplorer - CCFv3\n",
    "![](../bioexplorer_ccfv3_banner.png)"
   ]
  },
  {
   "cell_type": "markdown",
   "id": "34dd28a4",
   "metadata": {},
   "source": [
    "### Connect to back-end"
   ]
  },
  {
   "cell_type": "code",
   "execution_count": null,
   "id": "255fc219",
   "metadata": {},
   "outputs": [],
   "source": [
    "from bioexplorer import BioExplorer, Vector3, MovieMaker\n",
    "from tqdm import tqdm\n",
    "\n",
    "url = 'localhost:5000'\n",
    "be = BioExplorer(url)\n",
    "mm = MovieMaker(be)\n",
    "core = be.core_api()\n",
    "\n",
    "load_cells = True\n",
    "load_meshes = False\n",
    "cell_radius = 5.0 # Micrometters\n"
   ]
  },
  {
   "cell_type": "markdown",
   "id": "d7c658d2",
   "metadata": {},
   "source": [
    "### Load Atlas"
   ]
  },
  {
   "cell_type": "code",
   "execution_count": null,
   "id": "cd5c7162",
   "metadata": {},
   "outputs": [],
   "source": [
    "population_name = 'atlas_ccfv3a_averaged'"
   ]
  },
  {
   "cell_type": "code",
   "execution_count": null,
   "id": "a1d7bdc6",
   "metadata": {},
   "outputs": [],
   "source": [
    "cerebellum_ids = [\n",
    "       512,      1025,       519,      1033,       528,      1041,      1049,\n",
    "      1056,      1064,      1073,      1091,       846,        91, 589508455,\n",
    "       989,      1143,      1144,      1145,       645,       912,       920,\n",
    "       928,       936,       944,     10672,     10673,     10674,     10675,\n",
    "     10676,     10677,       951,     10680,     10679,     10678,     10681,\n",
    "     10682,       957,     10683,     10687,     10688,     10689,     10690,\n",
    "     10691,     10692,     10684,     10686,       968,       976,     10705,\n",
    "     10706,     10707,     10708,     10709,     10710,     10711,     10712,\n",
    "     10713,       984,     10714,     10715,     10716,     10717,     10718,\n",
    "       992,     10720,     10721,     10722,     10719,     10723,     10724,\n",
    "     10725,     10728,      1001,     10726,     10727,     10729,     10730,\n",
    "     10731,     10733,     10732,     10734,     10737,     10736,     10735,\n",
    "      1007,      1017,     10685\n",
    "]\n",
    "\n",
    "cerebellum_granular_layer_ids = [10675, 10678, 10708, 10711, 10684, 10720, 10723, 10690, 10726, 10705, 10735, 10687, 10681, 10729, 10672, 10732]\n",
    "cerebellum_molecular_layer_ids =  [10677, 10680, 10710, 10713, 10686, 10722, 10725, 10692, 10728, 10707, 10737, 10689, 10683, 10731, 10674, 10734]\n",
    "\n",
    "olfactory_bulb_ids = [507, 212, 228, 236, 244, 220]\n",
    "\n",
    "medula_ids = [\n",
    "      773,       781,      1039,       789,      1048,        45,      1069,\n",
    "      560,       307,        53,       568,        61,       576,       69,\n",
    "      839,      1098,        76,        77,       83,      1107,       852,\n",
    "      859,       607,        96,       354, 589508451,       101,       106,\n",
    "      112,       370,       372,       887,       379,       640,      386,\n",
    "      642,       903,       135,       136,       651,       395,       653,\n",
    "      143,       659,       661,       666,       154,       161,       674,\n",
    "      169,       682,       938,       939,       429,       177,       691,\n",
    "      437,       185,       955,       445,       701,       193,       963,\n",
    "      711,       970,       203,       202,       206,       207,       720,\n",
    "      209,       978,       217,       222,       225,       995,       230,\n",
    "      235,       765\n",
    "]\n",
    "\n",
    "hippocampus_ids = [391, 775, 782, 399, 766, 19, 790, 407, 415, 799, 423, 807, 431, 815, 438, 823, 1080, 446, 454, 10702, 463, 10703, 10704, 726, 471, 982, 734, 479, 486, 742, 632, 495, 751, 758, 375, 504, 382]\n",
    "\n",
    "fibers_ids = [960, 1000, 1009, 396, 109, 698]\n",
    "regions_to_ignore = [\n",
    "    1557651848, # Cell excluded from region 1557651847 (x<540)\n",
    "    1024543562, 2358040414, 3263488087, 2416897036,\n",
    "    3034756217, 2165415682, 2614168502, 1842735199,\n",
    "    3101970431, 1140764290, 3092369320, 1811993763]\n"
   ]
  },
  {
   "cell_type": "code",
   "execution_count": null,
   "id": "82ad851e",
   "metadata": {},
   "outputs": [],
   "source": [
    "cerrebelum_filter = str(cerebellum_ids).replace('[','').replace(']','')\n",
    "cerebellum_granular_layer_filter = str(cerebellum_granular_layer_ids).replace('[','').replace(']','')\n",
    "cerebellum_molecular_layer_filter = str(cerebellum_molecular_layer_ids).replace('[','').replace(']','')\n",
    "olfactory_bulb_filter = str(olfactory_bulb_ids).replace('[','').replace(']','')\n",
    "medula_filter = str(medula_ids).replace('[','').replace(']','')\n",
    "ignore_filter = str(fibers_ids + regions_to_ignore).replace('[','').replace(']','')"
   ]
  },
  {
   "cell_type": "code",
   "execution_count": null,
   "id": "00fb153b",
   "metadata": {},
   "outputs": [],
   "source": [
    "status = be.reset_scene()"
   ]
  },
  {
   "cell_type": "code",
   "execution_count": null,
   "id": "b375e8a4",
   "metadata": {},
   "outputs": [],
   "source": [
    "import os\n",
    "from sqlalchemy import create_engine\n",
    "from sqlalchemy.orm import Session\n",
    "\n",
    "db_host = os.getenv('DB_HOST')\n",
    "db_name = os.getenv('DB_NAME')\n",
    "db_user = os.getenv('DB_USER')\n",
    "db_password = os.getenv('DB_PASSWORD')\n",
    "\n",
    "db_connection_string = 'postgresql+psycopg2://%s:%s@%s:5432/%s' % (db_user, db_password, db_host, db_name)\n",
    "print('Connection string: ' + db_connection_string)\n",
    "\n",
    "engine = create_engine(db_connection_string)\n",
    "conn = engine.connect()"
   ]
  },
  {
   "cell_type": "code",
   "execution_count": null,
   "id": "0fc758b1",
   "metadata": {},
   "outputs": [],
   "source": [
    "regions = list()\n",
    "with Session(engine) as session:\n",
    "    data = session.execute('select distinct(region_guid) from %s.cell' % population_name)\n",
    "    for d in data.all():\n",
    "        regions.append(int(d[0]))\n",
    "regions = list(set(regions) - set(regions_to_ignore))"
   ]
  },
  {
   "cell_type": "code",
   "execution_count": null,
   "id": "058958ec",
   "metadata": {},
   "outputs": [],
   "source": [
    "status = be.start_model_loading_transaction()\n",
    "status = core.set_application_parameters(image_stream_fps=0)\n",
    "status = be.reset_scene()\n",
    "for region in tqdm(regions):\n",
    "    atlas_assembly_name = '%d' % region\n",
    "    be.remove_assembly(atlas_assembly_name)\n",
    "    atlas_assembly = be.add_assembly(atlas_assembly_name)\n",
    "    atlas_model = be.add_atlas(\n",
    "        assembly_name=atlas_assembly_name,\n",
    "        population_name=population_name,\n",
    "        load_cells=load_cells, load_meshes=load_meshes, cell_radius=cell_radius,\n",
    "        region_sql_filter='guid=%d' % region,\n",
    "        mesh_scale=Vector3(1, 1, 1)\n",
    "    )\n",
    "status = be.commit_model_loading_transaction()\n",
    "status = core.set_application_parameters(image_stream_fps=20)"
   ]
  },
  {
   "cell_type": "code",
   "execution_count": null,
   "id": "49aefad8",
   "metadata": {},
   "outputs": [],
   "source": [
    "region_colors = dict()\n",
    "\n",
    "def hex_to_rgb(value):\n",
    "    value = value.lstrip('#')\n",
    "    lv = len(value)\n",
    "    return tuple(int(value[i:i + lv // 3], 16) / 256.0 for i in range(0, lv, lv // 3))\n",
    "\n",
    "with Session(engine) as session:\n",
    "    data = session.execute('select guid, color_hex_triplet from %s.region' % population_name)\n",
    "    for d in data.all():\n",
    "        region_colors[int(d[0])] = hex_to_rgb(d[1])"
   ]
  },
  {
   "cell_type": "code",
   "execution_count": null,
   "id": "5b2edd2b",
   "metadata": {},
   "outputs": [],
   "source": [
    "model_ids = be.get_model_ids()['ids']\n",
    "for model_id in model_ids:\n",
    "    k = 0\n",
    "    material_ids = be.get_material_ids(model_id)['ids']\n",
    "    palette = list()\n",
    "    opacities = list()\n",
    "    shading_modes = list()\n",
    "    specular_exponents = list()\n",
    "    refraction_indices = list()\n",
    "    glossinesses = list()\n",
    "    for material_id in material_ids:\n",
    "        c = [1, 0, 0]\n",
    "        m_id = material_id\n",
    "        if m_id in region_colors:\n",
    "            c = region_colors[m_id]\n",
    "        alpha = [1.0, 1.0, 1.0]\n",
    "\n",
    "        if material_id in olfactory_bulb_ids:\n",
    "            value = 0.5 * float(k) / float(len(olfactory_bulb_ids))\n",
    "            alpha[0] -= value\n",
    "            alpha[1] -= value\n",
    "            alpha[2] -= value\n",
    "            k += 1\n",
    "\n",
    "        shading_modes.append(be.shading_mode.NONE)\n",
    "        glossinesses.append(1.0)\n",
    "        specular_exponents.append(50.0)\n",
    "        palette.append([alpha[0] * c[0], alpha[1] * c[1], alpha[2] * c[2]])\n",
    "        \n",
    "    be.set_materials(\n",
    "        model_ids=[model_id], material_ids=material_ids,\n",
    "        shading_modes=shading_modes, \n",
    "        opacities=opacities, specular_exponents=specular_exponents,\n",
    "        refraction_indices=refraction_indices, glossinesses=glossinesses,\n",
    "        diffuse_colors=palette, specular_colors=palette)"
   ]
  },
  {
   "cell_type": "code",
   "execution_count": null,
   "id": "111cb1ac",
   "metadata": {},
   "outputs": [],
   "source": [
    "background_color = [0.0, 0.0, 0.0]\n",
    "status = core.set_renderer(\n",
    "    head_light=True,\n",
    "    current='advanced', background_color=background_color,\n",
    "    subsampling=4, max_accum_frames=128)\n",
    "params = core.AdvancedRendererParams()\n",
    "params.gi_ray_length = 1e6\n",
    "params.shadow_intensity = 1.0\n",
    "params.soft_shadow_strength = 0.5\n",
    "params.main_exposure = 1.5\n",
    "params.max_ray_depth = 1\n",
    "params.epsilon_multiplier = 50.0\n",
    "params.use_hardware_randomizer = True\n",
    "status = core.set_renderer_params(params)"
   ]
  },
  {
   "cell_type": "code",
   "execution_count": null,
   "id": "dbffd507",
   "metadata": {},
   "outputs": [],
   "source": [
    "core.set_camera(\n",
    "    current='perspective',\n",
    "    orientation=[0.8744458160476791, 0.09151682620478456, -0.401564627390352, 0.25634943991934056],\n",
    "    position=[-2565.3701241987646, -2607.8377454106976, -1731.3329308640486],\n",
    "    target=[6733.589672442965, 4796.273454159725, 6016.635720470601],\n",
    ")"
   ]
  },
  {
   "cell_type": "code",
   "execution_count": null,
   "id": "eca612f0",
   "metadata": {},
   "outputs": [],
   "source": [
    "models = core.scene.models\n",
    "centers = dict()\n",
    "\n",
    "delta = 0.0001\n",
    "for model in models:\n",
    "    bounds = model['bounds']\n",
    "    aabb_min = bounds['min']\n",
    "    aabb_max = bounds['max']\n",
    "    aabb_center = [0, 0, 0]\n",
    "    for k in range(3):\n",
    "        aabb_center[k] = (aabb_min[k] + aabb_max[k]) / 2.0\n",
    "    centers[aabb_center[1]] = model['id']\n",
    "sorted_centers = sorted(centers)"
   ]
  },
  {
   "cell_type": "markdown",
   "id": "d22e512f",
   "metadata": {},
   "source": [
    "### Movie"
   ]
  },
  {
   "cell_type": "code",
   "execution_count": null,
   "id": "df067ebd-82e3-47f3-b8a5-02c124a85a8a",
   "metadata": {},
   "outputs": [],
   "source": [
    "model_ids = be.get_model_ids()['ids']\n",
    "nb_models = len(model_ids)\n",
    "nb_models"
   ]
  },
  {
   "cell_type": "code",
   "execution_count": null,
   "id": "87caaf1a",
   "metadata": {},
   "outputs": [],
   "source": [
    "keys = [\n",
    "    {\n",
    "        'apertureRadius': 0.0,\n",
    "        'direction': [0.6553724423068927, 0.5218272307970103, 0.5460616293637766],\n",
    "        'focalDistance': 1.0,\n",
    "        'origin': [-2565.3701241987646, -2607.8377454106976, -1731.3329308640486],\n",
    "        'up': [0.36593474619134375, -0.8518192703488876, 0.37482754993752265]\n",
    "    }\n",
    "    ,\n",
    "    {\n",
    "        'apertureRadius': 0.0,\n",
    "        'direction': [0.0, 1.0, -4.440892098500626e-16],\n",
    "        'focalDistance': 1.0,\n",
    "        'origin': [7075.004011154174, -8914.854648733952, 5699.994689941412],\n",
    "        'up': [0.0, 4.440892098500626e-16, 1.0]\n",
    "    }\n",
    "]\n",
    "\n",
    "double_keys = list()\n",
    "for key in keys:\n",
    "    double_keys.append(key)\n",
    "    double_keys.append(key)\n",
    "nb_frames_per_key = int(nb_models / (len(double_keys) - 1))\n",
    "mm.build_camera_path(double_keys, nb_frames_per_key, nb_frames_per_key / 10)"
   ]
  },
  {
   "cell_type": "code",
   "execution_count": null,
   "id": "40ef076e-70c3-4caf-ad71-762813912b84",
   "metadata": {},
   "outputs": [],
   "source": [
    "model_ids = be.get_model_ids()['ids']\n",
    "for model_id in tqdm(model_ids):\n",
    "    core.update_model(model_id, visible=False)"
   ]
  },
  {
   "cell_type": "code",
   "execution_count": null,
   "id": "41a3e790-281c-409d-bd99-766307f9a69e",
   "metadata": {},
   "outputs": [],
   "source": [
    "output_folder = '/scratch/videos/atlas/%s/reconstruction/v1' % population_name\n",
    "os.makedirs(output_folder, exist_ok=True)\n",
    "k = 4\n",
    "reversed_sorted_centers = list(reversed(sorted_centers))\n",
    "\n",
    "'''Show models in Y increasing order'''\n",
    "frame = 0\n",
    "for sorted_center in tqdm(reversed_sorted_centers):\n",
    "    model_id = centers[sorted_center]\n",
    "    core.update_model(model_id, visible=True)\n",
    "    mm.set_current_frame(frame)\n",
    "    mm.create_snapshot(\n",
    "        renderer='advanced', base_name='%05d' % frame,\n",
    "        path=output_folder, samples_per_pixel=64, size=[3840, 2160]\n",
    "    )\n",
    "    frame += 1"
   ]
  }
 ],
 "metadata": {
  "interpreter": {
   "hash": "ea9a5fa46eb6bad2806a8ea1d08e15bb1e255a2d4320b81e765591579963c56b"
  },
  "kernelspec": {
   "display_name": "Python 3 (ipykernel)",
   "language": "python",
   "name": "python3"
  },
  "language_info": {
   "codemirror_mode": {
    "name": "ipython",
    "version": 3
   },
   "file_extension": ".py",
   "mimetype": "text/x-python",
   "name": "python",
   "nbconvert_exporter": "python",
   "pygments_lexer": "ipython3",
   "version": "3.10.12"
  }
 },
 "nbformat": 4,
 "nbformat_minor": 5
}
