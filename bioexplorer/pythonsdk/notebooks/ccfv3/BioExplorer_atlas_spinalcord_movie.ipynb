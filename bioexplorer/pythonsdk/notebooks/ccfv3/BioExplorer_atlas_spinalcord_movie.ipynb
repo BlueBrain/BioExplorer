{
 "cells": [
  {
   "cell_type": "markdown",
   "id": "f992ef9f",
   "metadata": {},
   "source": [
    "# BioExplorer - CCFv3\n",
    "![](../bioexplorer_ccfv3_banner.png)"
   ]
  },
  {
   "cell_type": "markdown",
   "id": "084953fe",
   "metadata": {},
   "source": [
    "### Connect to back-end"
   ]
  },
  {
   "cell_type": "code",
   "execution_count": null,
   "id": "697e36dd",
   "metadata": {
    "scrolled": false
   },
   "outputs": [],
   "source": [
    "from bioexplorer import BioExplorer, MovieMaker\n",
    "\n",
    "url = 'localhost:5000'\n",
    "be = BioExplorer(url)\n",
    "core = be.core_api()\n",
    "mm =MovieMaker(be)\n",
    "status = be.reset_scene()\n",
    "\n",
    "cache_folder = '/caches/neuroscience/full_brain_spinal_cord'"
   ]
  },
  {
   "cell_type": "code",
   "execution_count": null,
   "id": "d03c30a6",
   "metadata": {},
   "outputs": [],
   "source": [
    "use_cache = False"
   ]
  },
  {
   "cell_type": "code",
   "execution_count": null,
   "id": "383eb057",
   "metadata": {},
   "outputs": [],
   "source": [
    "import os\n",
    "from sqlalchemy import create_engine\n",
    "from sqlalchemy.orm import Session\n",
    "\n",
    "db_host = os.getenv('DB_HOST')\n",
    "db_name = os.getenv('DB_NAME')\n",
    "db_user = os.getenv('DB_USER')\n",
    "db_password = os.getenv('DB_PASSWORD')\n",
    "\n",
    "db_connection_string = 'postgresql+psycopg2://%s:%s@%s:5432/%s' % (db_user, db_password, db_host, db_name)\n",
    "print('Connection string: ' + db_connection_string)\n",
    "\n",
    "engine = create_engine(db_connection_string)\n",
    "conn = engine.connect()"
   ]
  },
  {
   "cell_type": "code",
   "execution_count": null,
   "id": "982876b0",
   "metadata": {},
   "outputs": [],
   "source": [
    "status = core.set_camera(\n",
    "    orientation=[0.8801387842784558, 0.11818122404707795, -0.40388361204937695, 0.2196973978214685],\n",
    "    position=[-4191.013516748137, -3784.5413794088663, -4906.869303155961],\n",
    "    target=[7302.957953133075, 4625.372263887771, 5160.480177797744]\n",
    ")\n",
    "status = core.set_renderer()"
   ]
  },
  {
   "cell_type": "code",
   "execution_count": null,
   "id": "dd3b94e5",
   "metadata": {},
   "outputs": [],
   "source": [
    "status = core.set_renderer(\n",
    "    background_color=[0, 0, 0], current='advanced', \n",
    "    samples_per_pixel=1, subsampling=4, max_accum_frames=1024)\n",
    "params = core.AdvancedRendererParams()\n",
    "params.gi_samples = 0\n",
    "params.gi_strength = 0.1\n",
    "params.gi_ray_length = 10000.0\n",
    "params.shadow_intensity = 0.7\n",
    "params.soft_shadow_strength = 1.0\n",
    "params.epsilon_multiplier = 100.0\n",
    "params.max_ray_depth = 10\n",
    "params.show_background = True\n",
    "params.use_hardware_randomizer = True\n",
    "params.fog_start = 1e6\n",
    "params.fog_thickness = 1e6\n",
    "status = core.set_renderer_params(params)\n",
    "status = core.set_renderer()"
   ]
  },
  {
   "cell_type": "markdown",
   "id": "199fa6a5",
   "metadata": {},
   "source": [
    "### Root model (Single mesh for full brain)"
   ]
  },
  {
   "cell_type": "code",
   "execution_count": null,
   "id": "26b46aba",
   "metadata": {},
   "outputs": [],
   "source": [
    "# atlas_assembly_name = 'root'\n",
    "# be.remove_assembly(atlas_assembly_name)\n",
    "# atlas_assembly = be.add_assembly(atlas_assembly_name)\n",
    "# atlas_model = be.add_atlas(\n",
    "#     assembly_name=atlas_assembly_name,\n",
    "#     load_cells=False, load_meshes=True,\n",
    "#     region_sql_filter='guid=997',\n",
    "#     mesh_rotation=Quaternion(0.0, 1.0, 0.0, 0.0),\n",
    "#     mesh_position=Vector3(-274, -140, -227),\n",
    "#     mesh_scale=Vector3(25.0, 25.0, 25.0)\n",
    "# )"
   ]
  },
  {
   "cell_type": "markdown",
   "id": "634582a8",
   "metadata": {},
   "source": [
    "## Spinal cord"
   ]
  },
  {
   "cell_type": "code",
   "execution_count": null,
   "id": "adbce1ad",
   "metadata": {},
   "outputs": [],
   "source": [
    "def get_color_from_name(model_name):\n",
    "    areas = [\n",
    "        \"BG\",    \"GRAY\",  \"WHITE\",\n",
    "    \n",
    "        \"CE\",    \"CC\",\n",
    "\n",
    "        \"1Sp\",   \"2SpO\",    \"2SpI\",  \"3Sp\",   \"4Sp\",\n",
    "        \"5SpL\",  \"5SpL_1\",  \"5SpM\",  \"6SpL\",  \"6SpL_1\", \"6SpM\",  \"6SpM_1\", \n",
    "        \"7Sp\",   \"8Sp\",     \"10Sp\",\n",
    "\n",
    "        \"9Sp\",\n",
    "        \"Ad9\",   \"Ax9\",   \"Ax9_1\", \"Ax9_2\", \"Bi9\",   \"CEx9\",    \"CFl9\", \n",
    "        \"Cr9\",   \"De9\",   \"ExA9\",  \"ExU9\",  \"FEx9\", \n",
    "        \"FFl9\",  \"Gl9\",   \"Hm9\",   \"ICo9\",  \"IH9\",  \n",
    "        \"LD9\",   \"LS9\",   \"Man9\",  \"Pec9\",  \"Pes9\", \n",
    "        \"Ph9\",   \"Ps9\",   \"Q9\",    \"QL9\",   \"Rh9\",  \n",
    "        \"SI9\",   \"SM9\",   \"SM9_1\", \"SM9_2\", \"Sr9\",   \"Tail9\",   \"ThAb9\", \"ThAb9_1\", \"ThAb9_2\",\n",
    "        \"Tr9\",   \"Tz9\",   \"TzSM9\", \"FA9\",\n",
    "\n",
    "        \"CeCv\",  \"D\",     \"IB\",    \"ICl\",   \"ICl_1\", \"ICl_2\", \n",
    "        \"IML\",   \"IML_1\", \"IML_2\",\n",
    "        \"IMM\",   \"IMM_1\", \"LDCom\", \"LPrCb\", \"LPrCb_1\", \"LPrCb_2\", \"SDCom\", \"SPrCb\", \n",
    "        \"SPSy\",\n",
    "        \n",
    "        \"cu\",    \"dcs\",   \"dl\",   \"dr\",  \"gr\",  \"psdc\",  \"df\", \n",
    "        \n",
    "        \"LatC\",  \"LSp\",\n",
    "        \n",
    "        \"crts\",  \"dlst\",  \"dsc\",   \"lst\",   \"lvs\",\n",
    "        \"mvs\",   \"rrts\",  \"rs\",    \"vsc\",   \"vst\",\n",
    "        \"vl\",    \"lcs\",   \"acs\",   \"vf\",    \"lf\",  'lvf',\n",
    "\n",
    "        \"main\"\n",
    "    ]\n",
    "\n",
    "\n",
    "    colors = [\n",
    "        (130, 130, 130), (128, 128, 128), (129, 129, 129), \n",
    "\n",
    "        (100, 100, 100), (200, 200, 200), \n",
    "\n",
    "        (0, 45, 255),  (0, 50, 255),  (0, 55, 255),  (0, 65, 255),  (0, 75, 255), \n",
    "        (0, 85, 255),  (0, 85, 255),  (0, 90, 255),  (0, 100, 255), (0, 100, 255), (0, 105, 255), (0, 105, 255), \n",
    "        (0, 115, 255), (0, 125, 255), (0, 135, 255), \n",
    "\n",
    "        (0, 255, 165), \n",
    "        (0, 255, 0),   (0, 255, 5),   (0, 255, 5),   (0, 255, 5),   (0, 255, 10), (0, 255, 15), (0, 255, 20), \n",
    "        (0, 255, 25),  (0, 255, 30),  (0, 255, 35),  (0, 255, 40),  (0, 255, 45), \n",
    "        (0, 255, 50),  (0, 255, 55),  (0, 255, 60),  (0, 255, 65),  (0, 255, 70), \n",
    "        (0, 255, 75),  (0, 255, 80),  (0, 255, 85),  (0, 255, 90),  (0, 255, 95), \n",
    "        (0, 255, 100), (0, 255, 105), (0, 255, 110), (0, 255, 115), (0, 255, 120), \n",
    "        (0, 255, 125), (0, 255, 130), (0, 255, 130), (0, 255, 130), (0, 255, 135), (0, 255, 140), (0, 255, 145), (0, 255, 145), (0, 255, 145), \n",
    "        (0, 255, 150), (0, 255, 155), (0, 255, 160), (0, 255, 165), \n",
    "\n",
    "        (0, 205, 255), (0, 210, 255), (0, 215, 255), (0, 220, 255), (0, 220, 255), (0, 220, 255), \n",
    "        (0, 225, 255), (0, 225, 255), (0, 225, 255), \n",
    "        (0, 230, 255), (0, 230, 255), (0, 235, 255), (0, 240, 255), (0, 240, 255), (0, 240, 255), (0, 245, 255), (0, 250, 255), \n",
    "        (0, 255, 255), \n",
    "\n",
    "        (255, 70, 0), (255, 75, 0), (255, 80, 0), (255, 110, 0), (255, 85, 0), (255, 90, 0), (255, 100, 0), \n",
    "\n",
    "        (255, 125, 0), (255, 130, 0), \n",
    "\n",
    "        (255, 180, 0), (255, 185, 0), (255, 190, 0), (255, 195, 0), (255, 200, 0), \n",
    "        (255, 205, 0), (255, 210, 0), (255, 215, 0), (255, 220, 0), (255, 225, 0), \n",
    "        (255, 235, 0), (255, 250, 0), (255, 255, 0), (255, 245, 0), (255, 240, 0), (255, 245, 0),\n",
    "\n",
    "        (127, 127, 127)\n",
    "    ]\n",
    "\n",
    "    result = [0.5, 0.5, 0.5]\n",
    "    for i in range(len(areas)):\n",
    "        if model_name in areas[i]:\n",
    "            # print(model_name, areas[i])\n",
    "            c = colors[i]\n",
    "            return [c[0] / 256.0, c[1] / 256.0, c[2] / 256.0]\n",
    "    print('ERROR: Color was not found for region %s' % model_name)\n",
    "    return result"
   ]
  },
  {
   "cell_type": "code",
   "execution_count": null,
   "id": "727fbe2b",
   "metadata": {},
   "outputs": [],
   "source": [
    "from tqdm import tqdm\n",
    "\n",
    "population = 'spinal_cord'\n",
    "criteria = 'region'\n",
    "\n",
    "criteria_types = list()\n",
    "criteria_names = list()\n",
    "\n",
    "with Session(engine) as session:\n",
    "    data = session.execute('select guid, code from %s.%s' % (population, criteria))\n",
    "    for d in data.all():\n",
    "        criteria_types.append(d[0])\n",
    "        criteria_names.append(d[1])\n",
    "\n",
    "errors = list()\n",
    "for criteria_type in tqdm(criteria_types):\n",
    "    try:\n",
    "        assembly_name = 'SpinalCord_%s' % (criteria_names[criteria_type])\n",
    "        be.remove_assembly(assembly_name)\n",
    "        neurons_assembly = be.add_assembly(assembly_name)\n",
    "        neurons_model = be.add_neurons(\n",
    "            assembly_name=assembly_name,\n",
    "            population_name=population,\n",
    "            radius_multiplier=0.005,\n",
    "            load_basal_dendrites=False,\n",
    "            load_axon=False,\n",
    "            load_apical_dendrites=False,\n",
    "            show_membrane=True,\n",
    "            sql_node_filter='%s_guid=%d' % (criteria, criteria_type)\n",
    "        )\n",
    "        model_ids = be.get_model_ids()['ids']\n",
    "        model_id = model_ids[len(model_ids) - 1] \n",
    "        tf = {\n",
    "            'rotation': [0.5, -0.5, 0.5, -0.5],\n",
    "            'rotation_center': [0.0, 0.0, 0.0],\n",
    "            'scale': [1050.0, 1050.0, 1050.0],\n",
    "            'translation': [13.1, 5.8, 5.5]\n",
    "        }\n",
    "        core.update_model(model_id, transformation=tf)\n",
    "        status = core.set_renderer()\n",
    "    except RuntimeError as e:\n",
    "        errors.append(e)"
   ]
  },
  {
   "cell_type": "code",
   "execution_count": null,
   "id": "e02a81ab",
   "metadata": {},
   "outputs": [],
   "source": [
    "def set_spinal_cord_materials(model_id, color):\n",
    "    colors = list()\n",
    "    opacities = list()\n",
    "    refraction_indices = list()\n",
    "    specular_exponents = list()\n",
    "    shading_modes = list()\n",
    "    user_params = list()\n",
    "    glossinesses = list()\n",
    "    emissions = list()\n",
    "    \n",
    "    material_ids = be.get_material_ids(model_id)['ids']\n",
    "    for _ in material_ids:\n",
    "        colors.append(color)\n",
    "        opacities.append(1.0)\n",
    "        shading_modes.append(be.shading_mode.NONE)\n",
    "        glossinesses.append(1.0)\n",
    "        user_params.append(1.0)\n",
    "        specular_exponents.append(50.0)\n",
    "        emissions.append(0.0)\n",
    "        refraction_indices.append(1.0)\n",
    "        \n",
    "    be.set_materials(\n",
    "        model_ids=[model_id], material_ids=material_ids,\n",
    "        diffuse_colors=colors, specular_colors=colors,\n",
    "        opacities=opacities, refraction_indices=refraction_indices,\n",
    "        shading_modes=shading_modes, specular_exponents=specular_exponents,\n",
    "        user_parameters=user_params, glossinesses=glossinesses,\n",
    "        emissions=emissions\n",
    "    )\n",
    "    \n",
    "model_ids = be.get_model_ids()['ids']\n",
    "i = 0\n",
    "for model_id in model_ids:\n",
    "    model_name = be.get_model_name(model_id)['name'].split('_')[1]\n",
    "    color = get_color_from_name(model_name)\n",
    "    set_spinal_cord_materials(model_id, color)\n",
    "    i += 1\n",
    "status = core.set_renderer()"
   ]
  },
  {
   "cell_type": "markdown",
   "id": "cac3f64b",
   "metadata": {},
   "source": [
    "## Brain atlas"
   ]
  },
  {
   "cell_type": "code",
   "execution_count": null,
   "id": "da0450be",
   "metadata": {},
   "outputs": [],
   "source": [
    "db_schema = 'atlas_ccfv3a'\n",
    "region_guids = list()\n",
    "with Session(engine) as session:\n",
    "    data = session.execute('select distinct(region_guid) from %s.cell' % db_schema)\n",
    "    for d in data.all():\n",
    "        region_guids.append(d[0])"
   ]
  },
  {
   "cell_type": "code",
   "execution_count": null,
   "id": "4f0d88f0",
   "metadata": {},
   "outputs": [],
   "source": [
    "db_schema = 'atlas'\n",
    "region_colors = dict()\n",
    "\n",
    "def hex_to_rgb(value):\n",
    "    value = value.lstrip('#')\n",
    "    lv = len(value)\n",
    "    return tuple(int(value[i:i + lv // 3], 16) / 256.0 for i in range(0, lv, lv // 3))\n",
    "\n",
    "with Session(engine) as session:\n",
    "    data = session.execute('select code, color_hex_triplet from %s.region' % db_schema)\n",
    "    for d in data.all():\n",
    "        region_colors[d[0]] = hex_to_rgb(d[1])"
   ]
  },
  {
   "cell_type": "code",
   "execution_count": null,
   "id": "385d94fb",
   "metadata": {},
   "outputs": [],
   "source": [
    "def set_regions_materials(model_id, color, cast_user_data=False):\n",
    "    material_ids = be.get_material_ids(model_id)['ids']\n",
    "    nb_material_ids = len(material_ids)\n",
    "    palette = list()\n",
    "    shading_modes = list()\n",
    "    user_params = list()\n",
    "    cast_user_datas = list()\n",
    "    for _ in material_ids:\n",
    "        palette.append(color)\n",
    "        shading_modes.append(be.shading_mode.NONE)\n",
    "        user_params.append(3.0)\n",
    "        cast_user_datas.append(cast_user_data)\n",
    "    be.set_materials(\n",
    "        model_ids=[model_id], material_ids=material_ids,\n",
    "        shading_modes=shading_modes, user_parameters=user_params,\n",
    "        diffuse_colors=palette, specular_colors=palette,\n",
    "        cast_user_datas=cast_user_datas)"
   ]
  },
  {
   "cell_type": "code",
   "execution_count": null,
   "id": "6d276484",
   "metadata": {},
   "outputs": [],
   "source": [
    "population_name = 'full_brain'\n",
    "errors = list()\n",
    "for guid in tqdm(region_guids):\n",
    "    try:\n",
    "        assembly_name = '%d' % guid\n",
    "        if use_cache:\n",
    "            model = core.add_model(\n",
    "                name=assembly_name,\n",
    "                path=os.path.join(cache_folder, '%d.soc' % guid))\n",
    "        else:\n",
    "            be.remove_assembly(assembly_name)\n",
    "            neurons_assembly = be.add_assembly(assembly_name)\n",
    "            neurons_model = be.add_neurons(\n",
    "                assembly_name=assembly_name,\n",
    "                population_name=population_name,\n",
    "                radius_multiplier=10.0,\n",
    "                load_somas=True,\n",
    "                load_axon=False, load_basal_dendrites=False, load_apical_dendrites=False,\n",
    "                sql_node_filter='region_guid=%d' % guid\n",
    "            )\n",
    "    except Exception as e:\n",
    "        errors.append(e)\n",
    "print(errors)"
   ]
  },
  {
   "cell_type": "code",
   "execution_count": null,
   "id": "e75e5f5a",
   "metadata": {},
   "outputs": [],
   "source": [
    "region_colors = dict()\n",
    "\n",
    "def hex_to_rgb(value):\n",
    "    value = value.lstrip('#')\n",
    "    lv = len(value)\n",
    "    return tuple(int(value[i:i + lv // 3], 16) / 256.0 for i in range(0, lv, lv // 3))\n",
    "\n",
    "with Session(engine) as session:\n",
    "    data = session.execute('select guid, color_hex_triplet from %s.region' % db_schema)\n",
    "    for d in data.all():\n",
    "        region_colors[d[0]] = hex_to_rgb(d[1])"
   ]
  },
  {
   "cell_type": "code",
   "execution_count": null,
   "id": "eeb8eb9b",
   "metadata": {},
   "outputs": [],
   "source": [
    "import json\n",
    "f = open('/gpfs/bbp.cscs.ch/home/piluso/cell_atlas/05_final_run/blue_brain_atlas_pipeline/leaves_only/hierarchy_ccfv2_l23split_barrelsplit.json')\n",
    "obj = json.load(f)\n",
    "\n",
    "region_colors=dict()\n",
    "\n",
    "def node_color(node):\n",
    "    node_id = node['id']\n",
    "    color = node['color_hex_triplet']\n",
    "    region_colors[node_id] = hex_to_rgb(color)\n",
    "    for child in node['children']:\n",
    "        node_color(child)\n",
    "\n",
    "for node in obj['msg']:\n",
    "    node_color(node)\n"
   ]
  },
  {
   "cell_type": "code",
   "execution_count": null,
   "id": "3b4bd075",
   "metadata": {},
   "outputs": [],
   "source": [
    "errors = list()\n",
    "model_ids = be.get_model_ids()['ids']\n",
    "for model_id in tqdm(model_ids):\n",
    "    model_name = be.get_model_name(model_id)['name']\n",
    "    try:\n",
    "        region_id = int(model_name)\n",
    "        material_ids = be.get_material_ids(model_id)['ids']\n",
    "        palette = list()\n",
    "        shading_modes = list()\n",
    "        color = region_colors[region_id]\n",
    "        for _ in material_ids:\n",
    "            palette.append(color)\n",
    "            shading_modes.append(be.shading_mode.NONE)\n",
    "        be.set_materials(\n",
    "            model_ids=[model_id], material_ids=material_ids,\n",
    "            shading_modes=shading_modes, diffuse_colors=palette, specular_colors=palette)\n",
    "    except Exception as e:\n",
    "        errors.append(e)"
   ]
  },
  {
   "cell_type": "markdown",
   "id": "27e2fbe8",
   "metadata": {},
   "source": [
    "### Meshes between spinal cord and brain atlas"
   ]
  },
  {
   "cell_type": "code",
   "execution_count": null,
   "id": "aac94252",
   "metadata": {},
   "outputs": [],
   "source": [
    "mesh_folder = '/scratch/spinal_cord/BrainStem_and_C1'"
   ]
  },
  {
   "cell_type": "code",
   "execution_count": null,
   "id": "a80cc76b",
   "metadata": {},
   "outputs": [],
   "source": [
    "def set_region_materials(model_id, color, cast_user_data=False, opacity=1.0):\n",
    "    material_ids = be.get_material_ids(model_id)['ids']\n",
    "    nb_material_ids = len(material_ids)\n",
    "    palette = list()\n",
    "    shading_modes = list()\n",
    "    user_params = list()\n",
    "    cast_user_datas = list()\n",
    "    opacities = list()\n",
    "    for _ in material_ids:\n",
    "        palette.append(color)\n",
    "        shading_modes.append(be.shading_mode.NONE)\n",
    "        user_params.append(3.0)\n",
    "        cast_user_datas.append(cast_user_data)\n",
    "        opacities.append(opacity)\n",
    "    be.set_materials(\n",
    "        model_ids=[model_id], material_ids=material_ids,\n",
    "        shading_modes=shading_modes, user_parameters=user_params,\n",
    "        diffuse_colors=palette, specular_colors=palette,\n",
    "        cast_user_datas=cast_user_datas, opacities=opacities)"
   ]
  },
  {
   "cell_type": "code",
   "execution_count": null,
   "id": "8001167a",
   "metadata": {},
   "outputs": [],
   "source": [
    "vert01_model = core.add_model(\n",
    "    name='vert00_main_figure',\n",
    "    path=os.path.join(mesh_folder, 'vert01_main_figure.obj'))"
   ]
  },
  {
   "cell_type": "code",
   "execution_count": null,
   "id": "dd3e274c",
   "metadata": {},
   "outputs": [],
   "source": [
    "model_id = vert01_model['id'] \n",
    "tf = {\n",
    "    'rotation': [0.7071067811865476, 4.329780281177466e-17, -0.7071067811865475, 4.329780281177467e-17],\n",
    "    'rotation_center': [0.0, 0.0, 0.0],\n",
    "    'scale': [1050.0, 1050.0, 1050.0],\n",
    "    'translation': [13.1, 5.8, 5.5]\n",
    "}\n",
    "core.update_model(model_id, transformation=tf)\n",
    "set_mesh_materials(model_id, [0.99, 0.99, 0.99], False, 0.2)"
   ]
  },
  {
   "cell_type": "code",
   "execution_count": null,
   "id": "5b076772",
   "metadata": {},
   "outputs": [],
   "source": [
    "vert00_model = core.add_model(\n",
    "    name='vert00_main_figure',\n",
    "    path=os.path.join(mesh_folder, 'vert00_main_figure.obj'))"
   ]
  },
  {
   "cell_type": "code",
   "execution_count": null,
   "id": "00088b28",
   "metadata": {},
   "outputs": [],
   "source": [
    "model_id = vert00_model['id'] \n",
    "tf = {\n",
    "    'rotation': [0.7071067811865476, 4.329780281177466e-17, -0.7071067811865475, 4.329780281177467e-17],\n",
    "    'rotation_center': [0.0, 0.0, 0.0],\n",
    "    'scale': [1050.0, 1050.0, 1050.0],\n",
    "    'translation': [13.1, 5.8, 5.5]\n",
    "}\n",
    "core.update_model(model_id, transformation=tf)\n",
    "set_mesh_materials(model_id, [0.99, 0.99, 0.99], False, 0.2)"
   ]
  },
  {
   "cell_type": "markdown",
   "id": "5fea4461",
   "metadata": {},
   "source": [
    "### Ground"
   ]
  },
  {
   "cell_type": "code",
   "execution_count": null,
   "id": "19ae304b",
   "metadata": {},
   "outputs": [],
   "source": [
    "# from bioexplorer import Vector3\n",
    "# status = be.add_box(\n",
    "#     name='Floor',\n",
    "#     bottom_left_corner=Vector3(-300000, 7900, -300000),\n",
    "#     top_right_corner=Vector3(300000, 8000, 300000))"
   ]
  },
  {
   "cell_type": "markdown",
   "id": "c5c1b84c",
   "metadata": {},
   "source": [
    "## Movie"
   ]
  },
  {
   "cell_type": "markdown",
   "id": "ede7adae",
   "metadata": {},
   "source": [
    "### Hide gray regions"
   ]
  },
  {
   "cell_type": "code",
   "execution_count": null,
   "id": "f1d8c33e",
   "metadata": {
    "scrolled": false
   },
   "outputs": [],
   "source": [
    "fibers_ids = [960, 1000, 1009, 396, 109, 698, 1024543562]\n",
    "regions_to_ignore = [1024543562, 2358040414, 3263488087, 2416897036, 3034756217, 2165415682, 2614168502, 1842735199, 3101970431, 1140764290, 3092369320, 1811993763]\n",
    "\n",
    "errors = list()\n",
    "model_ids = be.get_model_ids()['ids']\n",
    "for model_id in tqdm(model_ids):\n",
    "    try:\n",
    "        region_id = int(be.get_model_name(model_id)['name'])\n",
    "        if region_id in fibers_ids or region_id in regions_to_ignore:\n",
    "            core.update_model(model_id, visible=False)\n",
    "    except Exception as e:\n",
    "        errors.append(e)"
   ]
  },
  {
   "cell_type": "markdown",
   "id": "00310768",
   "metadata": {},
   "source": [
    "## Video sequence"
   ]
  },
  {
   "cell_type": "code",
   "execution_count": null,
   "id": "d6994786",
   "metadata": {},
   "outputs": [],
   "source": [
    "control_points = [\n",
    "    {\n",
    "        'apertureRadius': 0.0,\n",
    "        'direction': [4.388292466713249e-16, -0.00243902197201667, 0.999997025581487],\n",
    "        'focusDistance': 1000000.0,\n",
    "        'origin': [7302.957953133062, 4696.142127314982, -23855.106290866657],\n",
    "        'up': [-1.0703141745950342e-18, -0.999997025581487, -0.00243902197201667]\n",
    "    }\n",
    "    ,\n",
    "    {\n",
    "        'apertureRadius': 0.0,\n",
    "        'direction': [4.388292466713249e-16, -0.00243902197201667, 0.999997025581487],\n",
    "        'focusDistance': 1000000.0,\n",
    "        'origin': [7302.957953133062, 4696.142127314982, -23855.106290866657],\n",
    "        'up': [-1.0703141745950342e-18, -0.999997025581487, -0.00243902197201667]\n",
    "    }\n",
    "    ,\n",
    "    {\n",
    "        'apertureRadius': 0.0,\n",
    "        'direction': [-1.0, 2.465190328815662e-32, -2.220446049250313e-16],\n",
    "        'focusDistance': 1000000.0,\n",
    "        'origin': [59608.832374115256, 4589.525862228616, 5683.538922007581],\n",
    "        'up': [2.465190328815662e-32, -1.0, -3.14018491736755e-16]\n",
    "    }\n",
    "    ,\n",
    "    {\n",
    "        'apertureRadius': 0.0,\n",
    "        'direction': [-1.0, -2.465190328815662e-32, 2.220446049250313e-16],\n",
    "        'focusDistance': 1000000.0,\n",
    "        'origin': [36634.95760886356, 4589.525862228616, 5683.538922007581],\n",
    "        'up': [0.0, -1.0, -1.2246467991473532e-16]\n",
    "    }\n",
    "    ,\n",
    "    {\n",
    "        'apertureRadius': 0.0,\n",
    "        'direction': [0.0, 1.0, -2.220446049250313e-16],\n",
    "        'focusDistance': 1000000.0,\n",
    "        'origin': [24920.303299251897, -32337.04403654696, 6574.064753904917],\n",
    "        'up': [1.2246467991473532e-16, -2.220446049250313e-16, -1.0]\n",
    "    }\n",
    "    ,\n",
    "    {\n",
    "        'apertureRadius': 0.0,\n",
    "        'direction': [0.0, 1.0, -2.220446049250313e-16],\n",
    "        'focusDistance': 1000000.0,\n",
    "        'origin': [24920.303299251897, -32337.04403654696, 6574.064753904917],\n",
    "        'up': [1.2246467991473532e-16, -2.220446049250313e-16, -1.0]\n",
    "    }\n",
    "    ,\n",
    "    {\n",
    "        'apertureRadius': 0.0,\n",
    "        'direction': [0.0, 1.0, -2.220446049250313e-16],\n",
    "        'focusDistance': 1000000.0,\n",
    "        'origin': [24920.303299251897, -32337.04403654696, 6574.064753904917],\n",
    "        'up': [1.2246467991473532e-16, -2.220446049250313e-16, -1.0]\n",
    "    }\n",
    "]\n"
   ]
  },
  {
   "cell_type": "code",
   "execution_count": null,
   "id": "c5054d63",
   "metadata": {},
   "outputs": [],
   "source": [
    "mm.build_camera_path(control_points, 200, 100)\n",
    "nb_frames = mm.get_nb_frames()\n",
    "print(nb_frames)"
   ]
  },
  {
   "cell_type": "code",
   "execution_count": null,
   "id": "3e72b7bf",
   "metadata": {},
   "outputs": [],
   "source": [
    "output_folder = '/movies/atlas/4k/v7'\n",
    "for frame in tqdm(range(150, nb_frames-150)):\n",
    "    mm.set_current_frame(frame)\n",
    "    mm.create_snapshot(\n",
    "        renderer='bio_explorer', base_name='%05d' % frame,\n",
    "        path=output_folder, samples_per_pixel=64, size=[3840, 2160]\n",
    "    )\n"
   ]
  }
 ],
 "metadata": {
  "kernelspec": {
   "display_name": "Python 3 (ipykernel)",
   "language": "python",
   "name": "python3"
  },
  "language_info": {
   "codemirror_mode": {
    "name": "ipython",
    "version": 3
   },
   "file_extension": ".py",
   "mimetype": "text/x-python",
   "name": "python",
   "nbconvert_exporter": "python",
   "pygments_lexer": "ipython3",
   "version": "3.10.12"
  },
  "vscode": {
   "interpreter": {
    "hash": "ea9a5fa46eb6bad2806a8ea1d08e15bb1e255a2d4320b81e765591579963c56b"
   }
  }
 },
 "nbformat": 4,
 "nbformat_minor": 5
}
