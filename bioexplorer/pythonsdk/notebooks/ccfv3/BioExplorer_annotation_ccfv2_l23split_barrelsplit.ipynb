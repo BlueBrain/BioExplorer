{
 "cells": [
  {
   "cell_type": "markdown",
   "id": "f992ef9f",
   "metadata": {},
   "source": [
    "# BioExplorer - CCFv3\n",
    "![](../bioexplorer_ccfv3_banner.png)"
   ]
  },
  {
   "cell_type": "markdown",
   "id": "dc6d2cbb",
   "metadata": {},
   "source": [
    "### Connect to back-end"
   ]
  },
  {
   "cell_type": "code",
   "execution_count": null,
   "id": "255fc219",
   "metadata": {},
   "outputs": [],
   "source": [
    "from bioexplorer import BioExplorer, Vector3, MovieMaker\n",
    "from tqdm import tqdm\n",
    "\n",
    "url = 'localhost:5000'\n",
    "be = BioExplorer(url)\n",
    "mm = MovieMaker(be)\n",
    "core = be.core_api()"
   ]
  },
  {
   "cell_type": "markdown",
   "id": "d7c658d2",
   "metadata": {},
   "source": [
    "### Load Atlas"
   ]
  },
  {
   "cell_type": "code",
   "execution_count": null,
   "id": "cd5c7162",
   "metadata": {},
   "outputs": [],
   "source": [
    "population_name = 'annotation_ccfv2_l23split_barrelsplit'"
   ]
  },
  {
   "cell_type": "code",
   "execution_count": null,
   "id": "a1d7bdc6",
   "metadata": {},
   "outputs": [],
   "source": [
    "cerebellum_ids = [\n",
    "       512,      1025,       519,      1033,       528,      1041,      1049,\n",
    "      1056,      1064,      1073,      1091,       846,        91, 589508455,\n",
    "       989,      1143,      1144,      1145,       645,       912,       920,\n",
    "       928,       936,       944,     10672,     10673,     10674,     10675,\n",
    "     10676,     10677,       951,     10680,     10679,     10678,     10681,\n",
    "     10682,       957,     10683,     10687,     10688,     10689,     10690,\n",
    "     10691,     10692,     10684,     10686,       968,       976,     10705,\n",
    "     10706,     10707,     10708,     10709,     10710,     10711,     10712,\n",
    "     10713,       984,     10714,     10715,     10716,     10717,     10718,\n",
    "       992,     10720,     10721,     10722,     10719,     10723,     10724,\n",
    "     10725,     10728,      1001,     10726,     10727,     10729,     10730,\n",
    "     10731,     10733,     10732,     10734,     10737,     10736,     10735,\n",
    "      1007,      1017,     10685\n",
    "]\n",
    "\n",
    "cerebellum_granular_layer_ids = [10675, 10678, 10708, 10711, 10684, 10720, 10723, 10690, 10726, 10705, 10735, 10687, 10681, 10729, 10672, 10732]\n",
    "cerebellum_molecular_layer_ids =  [10677, 10680, 10710, 10713, 10686, 10722, 10725, 10692, 10728, 10707, 10737, 10689, 10683, 10731, 10674, 10734]\n",
    "\n",
    "\n",
    "olfactory_bulb_ids = [507, 212, 228, 236, 244, 220]\n",
    "\n",
    "medula_ids = [\n",
    "      773,       781,      1039,       789,      1048,        45,      1069,\n",
    "      560,       307,        53,       568,        61,       576,       69,\n",
    "      839,      1098,        76,        77,       83,      1107,       852,\n",
    "      859,       607,        96,       354, 589508451,       101,       106,\n",
    "      112,       370,       372,       887,       379,       640,      386,\n",
    "      642,       903,       135,       136,       651,       395,       653,\n",
    "      143,       659,       661,       666,       154,       161,       674,\n",
    "      169,       682,       938,       939,       429,       177,       691,\n",
    "      437,       185,       955,       445,       701,       193,       963,\n",
    "      711,       970,       203,       202,       206,       207,       720,\n",
    "      209,       978,       217,       222,       225,       995,       230,\n",
    "      235,       765\n",
    "]\n",
    "\n",
    "fibers_ids = [960, 1000, 1009, 396, 109]"
   ]
  },
  {
   "cell_type": "code",
   "execution_count": null,
   "id": "82ad851e",
   "metadata": {},
   "outputs": [],
   "source": [
    "cerrebelum_filter = str(cerebellum_ids).replace('[','').replace(']','')\n",
    "cerebellum_granular_layer_filter = str(cerebellum_granular_layer_ids).replace('[','').replace(']','')\n",
    "cerebellum_molecular_layer_filter = str(cerebellum_molecular_layer_ids).replace('[','').replace(']','')\n",
    "olfactory_bulb_filter = str(olfactory_bulb_ids).replace('[','').replace(']','')\n",
    "medula_filter = str(medula_ids).replace('[','').replace(']','')\n",
    "fibers_filter = str(fibers_ids).replace('[','').replace(']','')"
   ]
  },
  {
   "cell_type": "code",
   "execution_count": null,
   "id": "00fb153b",
   "metadata": {},
   "outputs": [],
   "source": [
    "# status = be.reset_scene()"
   ]
  },
  {
   "cell_type": "code",
   "execution_count": null,
   "id": "aa65b308",
   "metadata": {},
   "outputs": [],
   "source": [
    "atlas_assembly_name = 'cerrebelum'\n",
    "be.remove_assembly(atlas_assembly_name)\n",
    "atlas_assembly = be.add_assembly(atlas_assembly_name)\n",
    "atlas_model = be.add_atlas(\n",
    "    assembly_name=atlas_assembly_name,\n",
    "    population_name=population_name,\n",
    "    load_cells=False, load_meshes=True,\n",
    "    region_sql_filter='guid IN (%s) AND guid NOT IN (%s) AND guid NOT IN (%s)' % (cerrebelum_filter, cerebellum_granular_layer_filter, cerebellum_molecular_layer_filter),\n",
    "    mesh_scale=Vector3(1, 1, 1)\n",
    ")"
   ]
  },
  {
   "cell_type": "code",
   "execution_count": null,
   "id": "48f8514c",
   "metadata": {},
   "outputs": [],
   "source": [
    "atlas_assembly_name = 'cerebellum_granular_layer'\n",
    "be.remove_assembly(atlas_assembly_name)\n",
    "atlas_assembly = be.add_assembly(atlas_assembly_name)\n",
    "atlas_model = be.add_atlas(\n",
    "    assembly_name=atlas_assembly_name,\n",
    "    population_name=population_name,\n",
    "    load_cells=False, load_meshes=True,\n",
    "    region_sql_filter='guid IN (%s)' % cerebellum_granular_layer_filter,\n",
    "    mesh_scale=Vector3(1, 1, 1)\n",
    ")"
   ]
  },
  {
   "cell_type": "code",
   "execution_count": null,
   "id": "9eda5d4e",
   "metadata": {},
   "outputs": [],
   "source": [
    "atlas_assembly_name = 'cerebellum_molecular_layer'\n",
    "be.remove_assembly(atlas_assembly_name)\n",
    "atlas_assembly = be.add_assembly(atlas_assembly_name)\n",
    "atlas_model = be.add_atlas(\n",
    "    assembly_name=atlas_assembly_name,\n",
    "    population_name=population_name,\n",
    "    load_cells=False, load_meshes=True,\n",
    "    region_sql_filter='guid IN (%s)' % cerebellum_molecular_layer_filter,\n",
    "    mesh_scale=Vector3(1, 1, 1)\n",
    ")"
   ]
  },
  {
   "cell_type": "code",
   "execution_count": null,
   "id": "b823a7d2",
   "metadata": {},
   "outputs": [],
   "source": [
    "atlas_assembly_name = 'cerrebelum'\n",
    "be.remove_assembly(atlas_assembly_name)\n",
    "atlas_assembly = be.add_assembly(atlas_assembly_name)\n",
    "atlas_model = be.add_atlas(\n",
    "    assembly_name=atlas_assembly_name,\n",
    "    population_name=population_name,\n",
    "    load_cells=False, load_meshes=True,\n",
    "    region_sql_filter='guid IN (%s) AND guid NOT IN (%s) AND guid NOT IN (%s)' % (cerrebelum_filter, cerebellum_granular_layer_filter, cerebellum_molecular_layer_filter),\n",
    "    mesh_scale=Vector3(1, 1, 1)\n",
    ")"
   ]
  },
  {
   "cell_type": "code",
   "execution_count": null,
   "id": "1e1c80f3",
   "metadata": {},
   "outputs": [],
   "source": [
    "atlas_assembly_name = 'olfactory_bulb'\n",
    "be.remove_assembly(atlas_assembly_name)\n",
    "atlas_assembly = be.add_assembly(atlas_assembly_name)\n",
    "atlas_model = be.add_atlas(\n",
    "    assembly_name=atlas_assembly_name,\n",
    "    population_name=population_name,\n",
    "    load_cells=False, load_meshes=True,\n",
    "    region_sql_filter='guid IN (%s)' % olfactory_bulb_filter,\n",
    "    mesh_scale=Vector3(1, 1, 1)\n",
    ")"
   ]
  },
  {
   "cell_type": "code",
   "execution_count": null,
   "id": "d9a11e2b",
   "metadata": {},
   "outputs": [],
   "source": [
    "atlas_assembly_name = 'medula'\n",
    "be.remove_assembly(atlas_assembly_name)\n",
    "atlas_assembly = be.add_assembly(atlas_assembly_name)\n",
    "atlas_model = be.add_atlas(\n",
    "    assembly_name=atlas_assembly_name,\n",
    "    population_name=population_name,\n",
    "    load_cells=False, load_meshes=True,\n",
    "    region_sql_filter='guid IN (%s)' % medula_filter,\n",
    "    mesh_scale=Vector3(1, 1, 1)\n",
    ")"
   ]
  },
  {
   "cell_type": "code",
   "execution_count": null,
   "id": "00721fa3",
   "metadata": {},
   "outputs": [],
   "source": [
    "atlas_assembly_name = 'atlas_v2'\n",
    "be.remove_assembly(atlas_assembly_name)\n",
    "atlas_assembly = be.add_assembly(atlas_assembly_name)\n",
    "atlas_model = be.add_atlas(\n",
    "    assembly_name=atlas_assembly_name,\n",
    "    population_name=population_name,\n",
    "    load_cells=False, load_meshes=True,\n",
    "    region_sql_filter='level=6 AND guid NOT IN (%s) AND guid NOT IN (%s) AND guid NOT IN (%s) AND guid NOT IN (%s) ' % (cerrebelum_filter, medula_filter, olfactory_bulb_filter, fibers_filter),\n",
    "    mesh_scale=Vector3(1, 1, 1)\n",
    ")"
   ]
  },
  {
   "cell_type": "code",
   "execution_count": null,
   "id": "5b2edd2b",
   "metadata": {},
   "outputs": [],
   "source": [
    "import json\n",
    "import os\n",
    "atlas_data_folder = os.getenv('ATLAS_DATA_FOLDER')\n",
    "data_folder = os.path.join(atlas_data_folder, 'mouse', 'CCFv2', 'barrel_split')\n",
    "\n",
    "region_file_name = 'hierarchy_ccfv2_l23split_barrelsplit.json' # 'brain_regions.json'\n",
    "f = open(os.path.join(data_folder, region_file_name))\n",
    "obj = json.load(f)\n",
    "\n",
    "region_colors=dict()\n",
    "def node_color(node):\n",
    "    node_id = node['id']\n",
    "    color = node['color_hex_triplet']\n",
    "    region_colors[node_id] = color\n",
    "    for child in node['children']:\n",
    "        node_color(child)\n",
    "\n",
    "for node in obj['msg']:\n",
    "    node_color(node)\n",
    "\n",
    "def hex_to_rgb(value):\n",
    "    value = value.lstrip('#')\n",
    "    lv = len(value)\n",
    "    return tuple(int(value[i:i + lv // 3], 16) for i in range(0, lv, lv // 3))\n",
    "\n",
    "model_ids = be.get_model_ids()['ids']\n",
    "for model_id in tqdm(model_ids):\n",
    "    material_ids = be.get_material_ids(model_id)['ids'][:-1]\n",
    "    palette = list()\n",
    "    opacities = list()\n",
    "    shading_modes = list()\n",
    "    specular_exponents = list()\n",
    "    user_params = list()\n",
    "    refraction_indices = list()\n",
    "    glossinesses = list()\n",
    "    reflection_indices = list()\n",
    "    for material_id in material_ids:\n",
    "        c = [255, 0, 0]\n",
    "        m_id = material_id\n",
    "        if m_id in region_colors:\n",
    "            id = region_colors[m_id]\n",
    "            c = hex_to_rgb(id)\n",
    "        alpha = 1.0\n",
    "        if (m_id in cerebellum_ids and m_id not in cerebellum_granular_layer_ids and m_id not in cerebellum_molecular_layer_ids) or m_id in olfactory_bulb_ids or m_id in medula_ids:\n",
    "            opacities.append(1.0)\n",
    "            shading_modes.append(be.shading_mode.PERLIN)\n",
    "            alpha = 1.0\n",
    "            user_params.append(0.0001)\n",
    "            glossinesses.append(0.1)\n",
    "            specular_exponents.append(5.0)\n",
    "            reflection_indices.append(0.0)\n",
    "        elif m_id in cerebellum_granular_layer_ids:\n",
    "            opacities.append(1.0)\n",
    "            shading_modes.append(be.shading_mode.PERLIN)\n",
    "            alpha = 0.5\n",
    "            user_params.append(0.0001)\n",
    "            glossinesses.append(0.1)\n",
    "            specular_exponents.append(5.0)\n",
    "            reflection_indices.append(0.0)\n",
    "        elif m_id in cerebellum_molecular_layer_ids:\n",
    "            opacities.append(1.0)\n",
    "            shading_modes.append(be.shading_mode.PERLIN)\n",
    "            alpha = 1.0\n",
    "            user_params.append(0.0001)\n",
    "            glossinesses.append(0.1)\n",
    "            specular_exponents.append(5.0)\n",
    "            reflection_indices.append(0.0)\n",
    "        else:\n",
    "            opacities.append(0.2)\n",
    "            alpha = 1.0\n",
    "            shading_modes.append(be.shading_mode.ELECTRON_TRANSPARENCY)\n",
    "            user_params.append(3.0)\n",
    "            glossinesses.append(1.0)\n",
    "            specular_exponents.append(50.0)\n",
    "            reflection_indices.append(0.0)\n",
    "        refraction_indices.append(0.95)\n",
    "        palette.append([alpha * c[0] / 255.0, alpha * c[1] / 255.0, alpha * c[2] / 255.0])\n",
    "        \n",
    "    be.set_materials(\n",
    "        model_ids=[model_id], material_ids=material_ids,\n",
    "        shading_modes=shading_modes, user_parameters=user_params,\n",
    "        opacities=opacities, specular_exponents=specular_exponents,\n",
    "        reflection_indices=reflection_indices,\n",
    "        refraction_indices=refraction_indices, glossinesses=glossinesses,\n",
    "        diffuse_colors=palette, specular_colors=palette)"
   ]
  },
  {
   "cell_type": "code",
   "execution_count": null,
   "id": "111cb1ac",
   "metadata": {},
   "outputs": [],
   "source": [
    "status = core.set_renderer(\n",
    "    current='advanced', background_color=[7.0/256.0, 33/256.0, 53/256.0],\n",
    "    subsampling=4, max_accum_frames=128)\n",
    "params = core.AdvancedRendererParams()\n",
    "params.gi_ray_length = 1000.0\n",
    "params.shadow_intensity = 0.8\n",
    "params.soft_shadow_strength = 1.0\n",
    "params.main_exposure = 1.5\n",
    "params.max_ray_depth = 30\n",
    "params.epsilon_multiplier = 100.0\n",
    "params.use_hardware_randomizer = True\n",
    "status = core.set_renderer_params(params)"
   ]
  },
  {
   "cell_type": "code",
   "execution_count": null,
   "id": "dbffd507",
   "metadata": {},
   "outputs": [],
   "source": [
    "core.set_camera(\n",
    "    orientation=[0.7071067811865475, 0.0, 0.0, 0.7071067811865476],\n",
    "    position=[7299.9903886725315, -9735.360746995771, 5664.455351434031],\n",
    "    target=[7299.9903886725315, 4453.4564756351165, 5664.455351434029],    \n",
    ")"
   ]
  },
  {
   "cell_type": "markdown",
   "id": "d22e512f",
   "metadata": {},
   "source": [
    "## Movies"
   ]
  },
  {
   "cell_type": "code",
   "execution_count": null,
   "id": "41cbc831",
   "metadata": {},
   "outputs": [],
   "source": [
    "mm.get_camera()"
   ]
  },
  {
   "cell_type": "markdown",
   "id": "b85548e2",
   "metadata": {},
   "source": [
    "### Orbital navigation"
   ]
  },
  {
   "cell_type": "code",
   "execution_count": null,
   "id": "e336967a",
   "metadata": {},
   "outputs": [],
   "source": [
    "import math\n",
    "from tqdm import tqdm\n",
    "output_folder = '/scratch/ccfv3a/orbital/v2'\n",
    "k = 4\n",
    "\n",
    "params = core.OrthographicCameraParams()\n",
    "params.height = 12000\n",
    "status = core.set_camera_params(params)\n",
    "\n",
    "\n",
    "r = params.height\n",
    "t = [7062, 3849, 5687]\n",
    "frame = 0\n",
    "for i in tqdm(range(270, -90, -1)):\n",
    "    o = [\n",
    "        t[0] + r * math.cos(i * math.pi / 180.0),\n",
    "        t[1],\n",
    "        t[2] + r * math.sin(i * math.pi / 180.0)\n",
    "    ]\n",
    "    l = 0.0\n",
    "    d = [0,0,0]\n",
    "    for k in range(3):\n",
    "        d[k] = t[k] - o[k]\n",
    "        l += d[k] * d[k]\n",
    "\n",
    "    l = math.sqrt(l)\n",
    "    for k in range(3):\n",
    "        d[k] /= l\n",
    "\n",
    "    mm.set_camera(origin=o, up=[0,-1,0], direction=d)\n",
    "    mm.create_snapshot(\n",
    "        renderer='advanced',\n",
    "        path=output_folder, base_name='%05d' % frame,\n",
    "        size=[k * 960, k * 540],\n",
    "        samples_per_pixel=64)\n",
    "    frame += 1"
   ]
  }
 ],
 "metadata": {
  "interpreter": {
   "hash": "ea9a5fa46eb6bad2806a8ea1d08e15bb1e255a2d4320b81e765591579963c56b"
  },
  "kernelspec": {
   "display_name": "Python 3.8.10 64-bit ('env': venv)",
   "language": "python",
   "name": "python3"
  },
  "language_info": {
   "codemirror_mode": {
    "name": "ipython",
    "version": 3
   },
   "file_extension": ".py",
   "mimetype": "text/x-python",
   "name": "python",
   "nbconvert_exporter": "python",
   "pygments_lexer": "ipython3",
   "version": "3.10.12"
  }
 },
 "nbformat": 4,
 "nbformat_minor": 5
}
