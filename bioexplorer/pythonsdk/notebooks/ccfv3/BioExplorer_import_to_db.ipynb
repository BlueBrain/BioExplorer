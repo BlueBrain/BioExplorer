{
 "cells": [
  {
   "cell_type": "markdown",
   "id": "f992ef9f",
   "metadata": {},
   "source": [
    "# Notebook to import Sonata-based files into the database\n",
    "![](../bioexplorer_ccfv3_banner.png)"
   ]
  },
  {
   "cell_type": "code",
   "execution_count":
   "id": "345ec844",
   "metadata": {
    "scrolled": true
   },
   "outputs": [],
   "source": [
    "import os\n",
    "from sqlalchemy import create_engine\n",
    "from sqlalchemy.orm import Session\n",
    "from tqdm.notebook import tqdm\n",
    "import numpy as np\n",
    "from glob import glob\n",
    "from bioexplorer import Quaternion\n",
    "\n",
    "db_host = os.getenv('DB_HOST')\n",
    "db_name = os.getenv('DB_NAME')\n",
    "db_user = os.getenv('DB_USER')\n",
    "db_password = os.getenv('DB_PASSWORD')\n",
    "db_schema = 'atlas_ccfv3a_averaged'\n",
    "atlas_data_folder = '/home/favreau/medias/atlas'\n",
    "\n",
    "db_connection_string = 'postgresql+psycopg2://%s:%s@%s:5432/%s' % (db_user, db_password, db_host, db_name)\n",
    "print('Connection string: ' + db_connection_string + ', schema: ' + db_schema)\n",
    "\n",
    "engine = create_engine(db_connection_string)\n",
    "conn = engine.connect()"
   ]
  },
  {
   "cell_type": "code",
   "execution_count": null,
   "id": "cd093f2f",
   "metadata": {},
   "outputs": [],
   "source": [
    "data_folder = os.path.join(atlas_data_folder, 'mouse', 'CCFv3a', 'averaged')"
   ]
  },
  {
   "cell_type": "markdown",
   "id": "209b0cf5",
   "metadata": {},
   "source": [
    "### Regions"
   ]
  },
  {
   "cell_type": "code",
   "execution_count": null,
   "id": "b866c5ba",
   "metadata": {},
   "outputs": [],
   "source": [
    "import json\n",
    "f = open('brain_regions.json')\n",
    "obj = json.load(f)\n",
    "update_only = False\n",
    "\n",
    "def insert_region(session, node, level):\n",
    "    guid = node['id']\n",
    "    if 'atlas_id' not in node:\n",
    "        atlas_guid = -1\n",
    "    else:\n",
    "        atlas_guid = node['atlas_id']\n",
    "    acronym = node['acronym']\n",
    "    name = node['name']\n",
    "    \n",
    "    ontology_guid = node['ontology_id']\n",
    "    color_hex_triplet = node['color_hex_triplet']\n",
    "    graph_order = 0 # node['graph_order']\n",
    "    hemisphere_guid = node['hemisphere_id']\n",
    "    parent_guid = node['parent_structure_id']\n",
    "    if not parent_guid:\n",
    "        parent_guid = -1\n",
    "    session.execute(\n",
    "        'INSERT INTO %s.region VALUES (:guid, :code, :description, :parent_guid, :level, :atlas_guid, :ontology_guid, :color_hex_triplet, :graph_order, :hemisphere_guid)' % db_schema,\n",
    "        {\n",
    "            'guid': guid,\n",
    "            'code': acronym,\n",
    "            'description': name,\n",
    "            'parent_guid': parent_guid,\n",
    "            'level': level,\n",
    "            'atlas_guid': atlas_guid,\n",
    "            'ontology_guid': ontology_guid,\n",
    "            'color_hex_triplet': color_hex_triplet,\n",
    "            'graph_order': graph_order,\n",
    "            'hemisphere_guid': hemisphere_guid\n",
    "        }\n",
    "    )\n",
    "    children = node['children']\n",
    "    for child in children:\n",
    "        insert_region(session, child, level + 1)\n",
    "\n",
    "def update_region(session, node, level):\n",
    "    guid = node['id']\n",
    "    if 'atlas_id' not in node:\n",
    "        atlas_guid = -1\n",
    "    else:\n",
    "        atlas_guid = node['atlas_id']\n",
    "        if not atlas_guid:\n",
    "            return\n",
    "\n",
    "    name = node['name']\n",
    "    ontology_guid = node['ontology_id']\n",
    "    color_hex_triplet = node['color_hex_triplet']\n",
    "    graph_order = 0 # node['graph_order']\n",
    "    hemisphere_guid = node['hemisphere_id']\n",
    "    parent_guid = node['parent_structure_id']\n",
    "    if not parent_guid:\n",
    "        parent_guid = -1\n",
    "    if not atlas_guid:\n",
    "        parent_guid = -1\n",
    "    session.execute(\n",
    "        'UPDATE %s.region SET description=:name, parent_guid=parent_guid, level=:level, atlas_guid=:atlas_guid, ontology_guid=:ontology_guid, color_hex_triplet=:color_hex_triplet, graph_order=:graph_order, hemisphere_guid=:hemisphere_guid WHERE guid=:guid' % db_schema,\n",
    "        {\n",
    "            'name': name,\n",
    "            'parent_guid': parent_guid,\n",
    "            'level': level,\n",
    "            'atlas_guid': atlas_guid,\n",
    "            'ontology_guid': ontology_guid,\n",
    "            'color_hex_triplet': color_hex_triplet,\n",
    "            'graph_order': graph_order,\n",
    "            'hemisphere_guid': hemisphere_guid,\n",
    "            'guid': guid\n",
    "        }\n",
    "    )\n",
    "    for child in node['children']:\n",
    "        update_region(session, child, level + 1)\n",
    "    session.commit()\n",
    "\n",
    "if update_only:\n",
    "    print('Updating existing regions')\n",
    "    with Session(engine) as session:\n",
    "        for node in obj['msg']:\n",
    "            update_region(session, node, 0)\n",
    "        session.commit()\n",
    "else:\n",
    "    print('Deleting existing regions')\n",
    "    with Session(engine) as session:\n",
    "        session.execute('DELETE FROM %s.region' % db_schema)\n",
    "        session.commit()\n",
    "\n",
    "    with Session(engine) as session:\n",
    "        for node in obj['msg']:\n",
    "            insert_region(session, node, 0)\n",
    "        session.commit()\n",
    "\n",
    "f.close()"
   ]
  },
  {
   "cell_type": "markdown",
   "id": "f1b0774d",
   "metadata": {},
   "source": [
    "## Meshes"
   ]
  },
  {
   "cell_type": "code",
   "execution_count": null,
   "id": "5046e6c3",
   "metadata": {},
   "outputs": [],
   "source": [
    "mesh_folder = os.path.join(data_folder, 'meshes')"
   ]
  },
  {
   "cell_type": "markdown",
   "id": "8ef6d4f4",
   "metadata": {},
   "source": [
    "### Import meshes into DB"
   ]
  },
  {
   "cell_type": "code",
   "execution_count": null,
   "id": "bce72403",
   "metadata": {},
   "outputs": [],
   "source": [
    "import trimesh\n",
    "\n",
    "def get_id_from_name(name):\n",
    "    basename = os.path.basename(name).split('.')[0]\n",
    "    return int(basename)\n",
    "\n",
    "print('Deleting existing meshes')\n",
    "with Session(engine) as session:\n",
    "    session.execute('DELETE FROM %s.mesh' % db_schema)\n",
    "    session.commit()\n",
    "\n",
    "errors = list()\n",
    "files = glob(os.path.join(mesh_folder, '*.obj'))\n",
    "with Session(engine) as session:\n",
    "    for filename in tqdm(files):\n",
    "        try:\n",
    "            guid = get_id_from_name(filename)\n",
    "            mesh = trimesh.load(filename)\n",
    "            session.execute(\n",
    "                'INSERT INTO %s.mesh VALUES (:guid, :vertices, :indices, :normals, NULL)' % db_schema,\n",
    "                {\n",
    "                    'guid': guid,\n",
    "                    'vertices': np.array(mesh.vertices, dtype=np.float32).tobytes(),\n",
    "                    'indices': np.array(mesh.faces, dtype=np.uint32).tobytes(),\n",
    "                    'normals': np.array(mesh.vertex_normals, dtype=np.float32).tobytes(),\n",
    "                }\n",
    "            )\n",
    "        except Exception as e:\n",
    "            errors.append(e)\n",
    "        session.commit()    "
   ]
  }
 ],
 "metadata": {
  "interpreter": {
   "hash": "ea9a5fa46eb6bad2806a8ea1d08e15bb1e255a2d4320b81e765591579963c56b"
  },
  "kernelspec": {
   "display_name": "Python 3.8.10 64-bit ('env': venv)",
   "language": "python",
   "name": "python3"
  },
  "language_info": {
   "codemirror_mode": {
    "name": "ipython",
    "version": 3
   },
   "file_extension": ".py",
   "mimetype": "text/x-python",
   "name": "python",
   "nbconvert_exporter": "python",
   "pygments_lexer": "ipython3",
   "version": "3.10.12"
  }
 },
 "nbformat": 4,
 "nbformat_minor": 5
}
