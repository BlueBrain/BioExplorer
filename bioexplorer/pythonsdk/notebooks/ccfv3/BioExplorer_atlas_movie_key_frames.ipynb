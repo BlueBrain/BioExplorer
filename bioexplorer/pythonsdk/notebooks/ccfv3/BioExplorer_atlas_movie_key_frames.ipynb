{
 "cells": [
  {
   "cell_type": "markdown",
   "id": "f992ef9f",
   "metadata": {},
   "source": [
    "# BioExplorer - CCFv3\n",
    "![](../bioexplorer_ccfv3_banner.png)"
   ]
  },
  {
   "cell_type": "markdown",
   "id": "34dd28a4",
   "metadata": {},
   "source": [
    "### Connect to back-end"
   ]
  },
  {
   "cell_type": "code",
   "execution_count": null,
   "id": "255fc219",
   "metadata": {},
   "outputs": [],
   "source": [
    "from bioexplorer import BioExplorer, MovieMaker\n",
    "url = 'localhost:5000'\n",
    "be = BioExplorer(url)\n",
    "mm = MovieMaker(be)"
   ]
  },
  {
   "cell_type": "code",
   "execution_count": 11,
   "id": "366f18ed",
   "metadata": {},
   "outputs": [
    {
     "data": {
      "text/plain": [
       "'OK'"
      ]
     },
     "execution_count": 11,
     "metadata": {},
     "output_type": "execute_result"
    }
   ],
   "source": [
    "keys = [\n",
    "    # Initial view\n",
    "    {\n",
    "        'apertureRadius': 0.0,\n",
    "        'direction': [0.6553724423068927, 0.5218272307970103, 0.5460616293637766],\n",
    "        'focalDistance': 1000000.0,\n",
    "        'origin': [-2565.3701241987646, -2607.8377454106976, -1731.3329308640486],\n",
    "        'up': [0.36593474619134375, -0.8518192703488876, 0.37482754993752265]\n",
    "    }\n",
    "    ,\n",
    "    # Olfactory bulb\n",
    "    {\n",
    "        'apertureRadius': 0.0,\n",
    "        'direction': [0.7469370424463216, 0.3606491560448456, 0.5585850345880041],\n",
    "        'focalDistance': 1000000.0,\n",
    "        'origin': [-3120.532189038173, 1835.5169097748767, 2165.927051941915],\n",
    "        'up': [0.3224948767666639, -0.9311843737781622, 0.16997857656370974]\n",
    "    }\n",
    "    ,\n",
    "    # Side view\n",
    "    {\n",
    "        'apertureRadius': 0.0,\n",
    "        'direction': [-1.3331370380301985e-16, -1.2246467991473532e-16, 1.0],\n",
    "        'focalDistance': 1000000.0,\n",
    "        'origin': [7236.727651380601, 4482.658523559142, -9145.317280084804],\n",
    "        'up': [-4.440892098500626e-16, -1.0, -1.2246467991473537e-16]\n",
    "    }\n",
    "    ,\n",
    "    # Cerebellum\n",
    "    {\n",
    "        'apertureRadius': 0.0,\n",
    "        'direction': [-0.5191155653746677, 0.17713002641529518, 0.836148302353031],\n",
    "        'focalDistance': 1000000.0,\n",
    "        'origin': [15391.238801629486, 2988.224146474133, -1927.6054642919696],\n",
    "        'up': [-0.11693830913040375, -0.9838094070689234, 0.13581046506221545]\n",
    "    }\n",
    "    ,\n",
    "    # Side view\n",
    "    {\n",
    "        'apertureRadius': 0.0,\n",
    "        'direction': [-1.3331370380301985e-16, -1.2246467991473532e-16, 1.0],\n",
    "        'focalDistance': 1000000.0,\n",
    "        'origin': [7236.727651380601, 4482.658523559142, -9145.317280084804],\n",
    "        'up': [-4.440892098500626e-16, -1.0, -1.2246467991473537e-16]\n",
    "    }\n",
    "    ,\n",
    "    # Initial view\n",
    "    {\n",
    "        'apertureRadius': 0.0,\n",
    "        'direction': [0.6553724423068927, 0.5218272307970103, 0.5460616293637766],\n",
    "        'focalDistance': 1000000.0,\n",
    "        'origin': [-2565.3701241987646, -2607.8377454106976, -1731.3329308640486],\n",
    "        'up': [0.36593474619134375, -0.8518192703488876, 0.37482754993752265]\n",
    "    }\n",
    "]\n",
    "mm.attach_camera_handler(keys, 50, 25)"
   ]
  }
 ],
 "metadata": {
  "interpreter": {
   "hash": "ea9a5fa46eb6bad2806a8ea1d08e15bb1e255a2d4320b81e765591579963c56b"
  },
  "kernelspec": {
   "display_name": "Python 3 (ipykernel)",
   "language": "python",
   "name": "python3"
  },
  "language_info": {
   "codemirror_mode": {
    "name": "ipython",
    "version": 3
   },
   "file_extension": ".py",
   "mimetype": "text/x-python",
   "name": "python",
   "nbconvert_exporter": "python",
   "pygments_lexer": "ipython3",
   "version": "3.10.12"
  }
 },
 "nbformat": 4,
 "nbformat_minor": 5
}
