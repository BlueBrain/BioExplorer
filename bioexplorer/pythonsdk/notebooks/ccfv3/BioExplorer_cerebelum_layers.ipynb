{
 "cells": [
  {
   "cell_type": "markdown",
   "id": "f992ef9f",
   "metadata": {},
   "source": [
    "# BioExplorer - CCFv3\n",
    "![](../bioexplorer_ccfv3_banner.png)"
   ]
  },
  {
   "cell_type": "markdown",
   "id": "214711a3",
   "metadata": {},
   "source": [
    "### Connect to back-end"
   ]
  },
  {
   "cell_type": "code",
   "execution_count": null,
   "id": "255fc219",
   "metadata": {},
   "outputs": [],
   "source": [
    "from bioexplorer import BioExplorer, Vector3, MovieMaker\n",
    "from tqdm import tqdm\n",
    "import os\n",
    "\n",
    "url = 'localhost:5000'\n",
    "be = BioExplorer(url)\n",
    "mm = MovieMaker(be)\n",
    "core = be.core_api()\n",
    "be.reset_scene()\n",
    "\n",
    "cell_radius = 5.0"
   ]
  },
  {
   "cell_type": "markdown",
   "id": "d7c658d2",
   "metadata": {},
   "source": [
    "### Load Atlas"
   ]
  },
  {
   "cell_type": "code",
   "execution_count": null,
   "id": "cd5c7162",
   "metadata": {},
   "outputs": [],
   "source": [
    "population_name = 'atlas_ccfv3a_averaged'"
   ]
  },
  {
   "cell_type": "code",
   "execution_count": null,
   "id": "a1d7bdc6",
   "metadata": {},
   "outputs": [],
   "source": [
    "cerebellum_ids = [\n",
    "       512,      1025,       519,      1033,       528,      1041,      1049,\n",
    "      1056,      1064,      1073,      1091,       846,        91, 589508455,\n",
    "       989,      1143,      1144,      1145,       645,       912,       920,\n",
    "       928,       936,       944,     10672,     10673,     10674,     10675,\n",
    "     10676,     10677,       951,     10680,     10679,     10678,     10681,\n",
    "     10682,       957,     10683,     10687,     10688,     10689,     10690,\n",
    "     10691,     10692,     10684,     10686,       968,       976,     10705,\n",
    "     10706,     10707,     10708,     10709,     10710,     10711,     10712,\n",
    "     10713,       984,     10714,     10715,     10716,     10717,     10718,\n",
    "       992,     10720,     10721,     10722,     10719,     10723,     10724,\n",
    "     10725,     10728,      1001,     10726,     10727,     10729,     10730,\n",
    "     10731,     10733,     10732,     10734,     10737,     10736,     10735,\n",
    "      1007,      1017,     10685\n",
    "]\n",
    "\n",
    "cerebellum_granular_layer_ids = [\n",
    "    10675, 10678, 10708, 10711, 10684, 10720, 10723, 10690, 10726, 10705, 10735, 10687, 10681, 10729, 10672, 10732\n",
    "]\n",
    "cerebellum_molecular_layer_ids =  [\n",
    "    10677, 10680, 10710, 10713, 10686, 10722, 10725, 10692, 10728, 10707, 10737, 10689, 10683, 10731, 10674, 10734\n",
    "]\n",
    "\n",
    "cerebellum_leaf_ids = [\n",
    "    10672, 10674, 10675, 10677, 10678, 10680, 10681, 10683, 10684, 10686, 10687, 10689, 10690, 10692, 846, 10705,\n",
    "    10707, 10708, 10710, 10711, 10713, 91, 989, 10720, 10722, 10723, 10725, 10726, 589508455, 10728, 10729, 10731,\n",
    "    10732, 10734, 10735, 10737 \n",
    "]"
   ]
  },
  {
   "cell_type": "code",
   "execution_count": null,
   "id": "3d1b4bc0",
   "metadata": {},
   "outputs": [],
   "source": [
    "cerrebelum_filter = str(cerebellum_ids).replace('[','').replace(']','')\n",
    "cerebellum_granular_layer_filter = str(cerebellum_granular_layer_ids).replace('[','').replace(']','')\n",
    "cerebellum_molecular_layer_filter = str(cerebellum_molecular_layer_ids).replace('[','').replace(']','')\n",
    "cerebellum_leaf_filter = str(cerebellum_leaf_ids).replace('[','').replace(']','')\n",
    "\n",
    "atlas_center = [7075.026185864174,3862.47588645537,5699.969406561653]"
   ]
  },
  {
   "cell_type": "code",
   "execution_count": null,
   "id": "1e1c80f3",
   "metadata": {},
   "outputs": [],
   "source": [
    "atlas_assembly_name = 'Cerebellum'\n",
    "be.remove_assembly(atlas_assembly_name)\n",
    "atlas_assembly = be.add_assembly(atlas_assembly_name)\n",
    "atlas_model = be.add_atlas(\n",
    "    assembly_name=atlas_assembly_name,\n",
    "    population_name=population_name,\n",
    "    load_cells=True, load_meshes=False, cell_radius=cell_radius,\n",
    "    # cell_sql_filter='(y>%f OR z>%f)' % (4350.0, atlas_center[2]),\n",
    "    cell_sql_filter='(y>%f OR z>%f)' % (atlas_center[1], atlas_center[2]),\n",
    "    region_sql_filter='guid IN (%s)' % cerebellum_leaf_filter\n",
    ")"
   ]
  },
  {
   "cell_type": "code",
   "execution_count": null,
   "id": "312f078c",
   "metadata": {},
   "outputs": [],
   "source": [
    "import os\n",
    "from sqlalchemy import create_engine\n",
    "from sqlalchemy.orm import Session\n",
    "\n",
    "db_host = os.getenv('DB_HOST')\n",
    "db_name = os.getenv('DB_NAME')\n",
    "db_user = os.getenv('DB_USER')\n",
    "db_password = os.getenv('DB_PASSWORD')\n",
    "\n",
    "db_connection_string = 'postgresql+psycopg2://%s:%s@%s:5432/%s' % (db_user, db_password, db_host, db_name)\n",
    "print('Connection string: ' + db_connection_string)\n",
    "\n",
    "engine = create_engine(db_connection_string)\n",
    "conn = engine.connect()"
   ]
  },
  {
   "cell_type": "code",
   "execution_count": null,
   "id": "5b2edd2b",
   "metadata": {},
   "outputs": [],
   "source": [
    "region_colors = dict()\n",
    "\n",
    "def hex_to_rgb(value):\n",
    "    value = value.lstrip('#')\n",
    "    lv = len(value)\n",
    "    return tuple(int(value[i:i + lv // 3], 16) / 256.0 for i in range(0, lv, lv // 3))\n",
    "\n",
    "with Session(engine) as session:\n",
    "    data = session.execute('select guid, color_hex_triplet from %s.region' % population_name)\n",
    "    for d in data.all():\n",
    "        region_colors[int(d[0])] = hex_to_rgb(d[1])"
   ]
  },
  {
   "cell_type": "code",
   "execution_count": null,
   "id": "c2d01ab4",
   "metadata": {},
   "outputs": [],
   "source": [
    "model_ids = be.get_model_ids()['ids']\n",
    "for model_id in model_ids:\n",
    "    material_ids = be.get_material_ids(model_id)['ids'][:-1]\n",
    "    palette = list()\n",
    "    opacities = list()\n",
    "    shading_modes = list()\n",
    "    specular_exponents = list()\n",
    "    user_params = list()\n",
    "    refraction_indices = list()\n",
    "    glossinesses = list()\n",
    "    reflection_indices = list()\n",
    "    for material_id in material_ids:\n",
    "        c = [1, 0, 0]\n",
    "        m_id = material_id\n",
    "        if m_id in region_colors:\n",
    "            c = region_colors[m_id]\n",
    "        alpha = 1.0\n",
    "        opacities.append(1.0)\n",
    "        alpha = 1.0\n",
    "        shading_modes.append(be.shading_mode.ELECTRON_TRANSPARENCY)\n",
    "        user_params.append(3.0)\n",
    "        glossinesses.append(1.0)\n",
    "        specular_exponents.append(50.0)\n",
    "        reflection_indices.append(0.0)\n",
    "        refraction_indices.append(0.95)\n",
    "        palette.append([alpha * c[0], alpha * c[1], alpha * c[2]])\n",
    "        \n",
    "    be.set_materials(\n",
    "        model_ids=[model_id], material_ids=material_ids,\n",
    "        shading_modes=shading_modes, user_parameters=user_params,\n",
    "        opacities=opacities, specular_exponents=specular_exponents,\n",
    "        reflection_indices=reflection_indices,\n",
    "        refraction_indices=refraction_indices, glossinesses=glossinesses,\n",
    "        diffuse_colors=palette, specular_colors=palette)"
   ]
  },
  {
   "cell_type": "code",
   "execution_count": null,
   "id": "111cb1ac",
   "metadata": {},
   "outputs": [],
   "source": [
    "background_color = [0.0, 0.0, 0.0]\n",
    "status = core.set_renderer(\n",
    "    head_light=True,\n",
    "    current='advanced', background_color=background_color,\n",
    "    subsampling=4, max_accum_frames=128)\n",
    "params = core.AdvancedRendererParams()\n",
    "params.gi_ray_length = 1e6\n",
    "params.shadow_intensity = 1.0\n",
    "params.soft_shadow_strength = 0.5\n",
    "params.main_exposure = 1.5\n",
    "params.max_ray_depth = 1\n",
    "params.epsilon_multiplier = 50.0\n",
    "params.use_hardware_randomizer = True\n",
    "status = core.set_renderer_params(params)"
   ]
  },
  {
   "cell_type": "code",
   "execution_count": null,
   "id": "08caf2df",
   "metadata": {},
   "outputs": [],
   "source": [
    "mm.set_camera(\n",
    "    direction=[-0.5191155653746677, 0.17713002641529518, 0.836148302353031],\n",
    "    origin=[15391.238801629486, 2988.224146474133, -1927.6054642919696],\n",
    "    up=[-0.11693830913040375, -0.9838094070689234, 0.13581046506221545]\n",
    ")"
   ]
  },
  {
   "cell_type": "code",
   "execution_count": null,
   "id": "7592f94f",
   "metadata": {},
   "outputs": [],
   "source": [
    "# output_folder = '/scratch/images/atlas/cerebellum'\n",
    "\n",
    "# k = 4\n",
    "# spp = 128\n",
    "\n",
    "# image_size = [k * 960, k * 540]\n",
    "\n",
    "# mm.create_snapshot(\n",
    "#     renderer='advanced', show_progress=True,\n",
    "#     path=output_folder, base_name='cerebellum_layers_%dx%d_%dspp_v1' % (image_size[0], image_size[1], spp),\n",
    "#     size=image_size, samples_per_pixel=spp)\n"
   ]
  },
  {
   "cell_type": "code",
   "execution_count": null,
   "id": "7b8ae7c6",
   "metadata": {},
   "outputs": [],
   "source": [
    "keys = [\n",
    "    {\n",
    "        'apertureRadius': 0.0,\n",
    "        'direction': [-0.5191155653740487, 0.17713002641548445, 0.836148302353376],\n",
    "        'focalDistance': 1000000.0,\n",
    "        'origin': [15391.238801629486, 2988.224146474133, -1927.6054642919696],\n",
    "        'up': [-0.11693830913051373, -0.9838094070688865, 0.1358104650623926]\n",
    "    }\n",
    "    ,\n",
    "    {\n",
    "        'apertureRadius': 0.0,\n",
    "        'direction': [-0.12377833427232945, 0.4338101678600587, 0.8924615746495728],\n",
    "        'focalDistance': 1000000.0,\n",
    "        'origin': [12782.796248964276, 1336.183560987327, -2003.7937903171176],\n",
    "        'up': [-0.16784283904235042, -0.895571900564365, 0.41204338643125266]\n",
    "    }\n",
    "]\n",
    "\n",
    "double_keys = list()\n",
    "for key in keys:\n",
    "    double_keys.append(key)\n",
    "    double_keys.append(key)\n",
    "mm.build_camera_path(double_keys, 50, 25)"
   ]
  },
  {
   "cell_type": "code",
   "execution_count": null,
   "id": "cd4ee07c",
   "metadata": {},
   "outputs": [],
   "source": [
    "output_folder = '/scratch/videos/atlas/%s/cerebellum_explosion/v2' % population_name\n",
    "os.makedirs(output_folder, exist_ok=True)\n",
    "k = 4\n",
    "\n",
    "nb_frames = mm.get_nb_frames()\n",
    "for frame in tqdm(range(nb_frames)):\n",
    "    mm.set_current_frame(frame)\n",
    "    mm.create_snapshot(\n",
    "        renderer='advanced',\n",
    "        path=output_folder, base_name='%05d' % frame,\n",
    "        size=[k * 960, k * 540],\n",
    "        samples_per_pixel=64)"
   ]
  }
 ],
 "metadata": {
  "interpreter": {
   "hash": "ea9a5fa46eb6bad2806a8ea1d08e15bb1e255a2d4320b81e765591579963c56b"
  },
  "kernelspec": {
   "display_name": "Python 3 (ipykernel)",
   "language": "python",
   "name": "python3"
  },
  "language_info": {
   "codemirror_mode": {
    "name": "ipython",
    "version": 3
   },
   "file_extension": ".py",
   "mimetype": "text/x-python",
   "name": "python",
   "nbconvert_exporter": "python",
   "pygments_lexer": "ipython3",
   "version": "3.10.12"
  }
 },
 "nbformat": 4,
 "nbformat_minor": 5
}
