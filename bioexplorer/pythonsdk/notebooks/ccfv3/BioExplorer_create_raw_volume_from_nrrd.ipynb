{
 "cells": [
  {
   "cell_type": "markdown",
   "id": "fb2e47ae",
   "metadata": {},
   "source": [
    "# BioExplorer - CCFv3\n",
    "![](../bioexplorer_ccfv3_banner.png)"
   ]
  },
  {
   "cell_type": "code",
   "execution_count": null,
   "id": "497b3c52",
   "metadata": {},
   "outputs": [],
   "source": [
    "import nrrd\n",
    "import os\n",
    "\n",
    "# Path to your NRRD file\n",
    "data_folder = '/medias/atlas/mouse/CCFv3a/barrel_split'\n",
    "\n",
    "path = os.path.join(data_folder, 'annotation_ccfv2_l23split_barrelsplit.nrrd')\n",
    "\n",
    "# Reading the NRRD file\n",
    "data, header = nrrd.read(path)\n",
    "\n",
    "# `data` contains the image data as a numpy array\n",
    "# `header` contains the metadata as a dictionary\n",
    "\n",
    "print(\"Data Shape:\", data.shape)\n",
    "print(\"Header Information:\", header)\n"
   ]
  },
  {
   "cell_type": "code",
   "execution_count": null,
   "id": "0006be54",
   "metadata": {},
   "outputs": [],
   "source": [
    "import json\n",
    "\n",
    "f = open(os.path.join(data_folder, 'hierarchy_ccfv2_l23split_barrelsplit.json'))\n",
    "obj = json.load(f)\n",
    "\n",
    "region_colors=dict()\n",
    "def node_color(node):\n",
    "    node_id = node['id']\n",
    "    color = node['color_hex_triplet']\n",
    "    region_colors[node_id] = color\n",
    "    for child in node['children']:\n",
    "        node_color(child)\n",
    "\n",
    "for node in obj['msg']:\n",
    "    node_color(node)\n",
    "\n",
    "def hex_to_rgb(value):\n",
    "    value = value.lstrip('#')\n",
    "    lv = len(value)\n",
    "    return tuple(int(value[i:i + lv // 3], 16) for i in range(0, lv, lv // 3))"
   ]
  },
  {
   "cell_type": "code",
   "execution_count": null,
   "id": "9b1c3138",
   "metadata": {},
   "outputs": [],
   "source": [
    "region_mapping = dict()\n",
    "region_mapping_index = dict()\n",
    "region_mapping[0] = 0\n",
    "i = 0\n",
    "for key in region_colors.keys():\n",
    "    region_mapping[key] = i\n",
    "    region_mapping_index[i] = key\n",
    "    i += 1"
   ]
  },
  {
   "cell_type": "code",
   "execution_count": null,
   "id": "c97e5e65",
   "metadata": {},
   "outputs": [],
   "source": [
    "volume = list()\n",
    "for z in range(data.shape[2]):\n",
    "    for y in range(data.shape[1]):\n",
    "        for x in range(data.shape[0]):\n",
    "            voxel_value = data[x][y][z]\n",
    "            volume.append(region_mapping[voxel_value])"
   ]
  },
  {
   "cell_type": "code",
   "execution_count": null,
   "id": "d102ffb6",
   "metadata": {},
   "outputs": [],
   "source": [
    "import numpy as np\n",
    "\n",
    "array = np.array(volume, dtype=np.uint16)\n",
    "\n",
    "# Write the binary data to a file\n",
    "volume_filename = os.path.join(data_folder, 'annotation_ccfv2_l23split_barrelsplit.raw')\n",
    "array.tofile(volume_filename)"
   ]
  },
  {
   "cell_type": "code",
   "execution_count": null,
   "id": "e57e4bbd",
   "metadata": {},
   "outputs": [],
   "source": [
    "cerebellum_ids = [\n",
    "       512,      1025,       519,      1033,       528,      1041,      1049,\n",
    "      1056,      1064,      1073,      1091,       846,        91, 589508455,\n",
    "       989,      1143,      1144,      1145,       645,       912,       920,\n",
    "       928,       936,       944,     10672,     10673,     10674,     10675,\n",
    "     10676,     10677,       951,     10680,     10679,     10678,     10681,\n",
    "     10682,       957,     10683,     10687,     10688,     10689,     10690,\n",
    "     10691,     10692,     10684,     10686,       968,       976,     10705,\n",
    "     10706,     10707,     10708,     10709,     10710,     10711,     10712,\n",
    "     10713,       984,     10714,     10715,     10716,     10717,     10718,\n",
    "       992,     10720,     10721,     10722,     10719,     10723,     10724,\n",
    "     10725,     10728,      1001,     10726,     10727,     10729,     10730,\n",
    "     10731,     10733,     10732,     10734,     10737,     10736,     10735,\n",
    "      1007,      1017,     10685\n",
    "]\n",
    "\n",
    "cerebellum_granular_layer_ids = [10675, 10678, 10708, 10711, 10684, 10720, 10723, 10690, 10726, 10705, 10735, 10687, 10681, 10729, 10672, 10732]\n",
    "cerebellum_molecular_layer_ids =  [10677, 10680, 10710, 10713, 10686, 10722, 10725, 10692, 10728, 10707, 10737, 10689, 10683, 10731, 10674, 10734]\n",
    "\n",
    "olfactory_bulb_ids = [507, 212, 228, 236, 244, 220]\n",
    "\n",
    "medula_ids = [\n",
    "      773,       781,      1039,       789,      1048,        45,      1069,\n",
    "      560,       307,        53,       568,        61,       576,       69,\n",
    "      839,      1098,        76,        77,       83,      1107,       852,\n",
    "      859,       607,        96,       354, 589508451,       101,       106,\n",
    "      112,       370,       372,       887,       379,       640,      386,\n",
    "      642,       903,       135,       136,       651,       395,       653,\n",
    "      143,       659,       661,       666,       154,       161,       674,\n",
    "      169,       682,       938,       939,       429,       177,       691,\n",
    "      437,       185,       955,       445,       701,       193,       963,\n",
    "      711,       970,       203,       202,       206,       207,       720,\n",
    "      209,       978,       217,       222,       225,       995,       230,\n",
    "      235,       765\n",
    "]\n",
    "\n",
    "fibers_ids = [960, 1000, 1009, 396, 109]\n",
    "\n",
    "all_regions = list(set(cerebellum_ids + cerebellum_granular_layer_ids + cerebellum_molecular_layer_ids + olfactory_bulb_ids + medula_ids))\n"
   ]
  },
  {
   "cell_type": "code",
   "execution_count": null,
   "id": "47270e60",
   "metadata": {},
   "outputs": [],
   "source": [
    "from bioexplorer import BioExplorer, TransferFunction\n",
    "\n",
    "colormap_filename = os.path.join(data_folder, 'annotation_ccfv2_l23split_barrelsplit.1dt')\n",
    "with open(colormap_filename, 'w') as file:\n",
    "    file.write('%d\\n' % len(region_mapping_index))\n",
    "    for index in region_mapping_index:\n",
    "        alpha = 0.0\n",
    "        color = [0,0,0]\n",
    "        region_id = region_mapping_index[index]\n",
    "        # if region_id in all_regions and region_id not in fibers_ids:\n",
    "        if region_id not in[0, 997]:\n",
    "            color = hex_to_rgb(region_colors[region_id])\n",
    "            #alpha = 0.05\n",
    "            alpha = 0.1\n",
    "        file.write('%f %f %f %f\\n' % (color[0] / 255.0, color[1] / 255.0, color[2] / 255.0, alpha))\n",
    "\n",
    "be = BioExplorer()\n",
    "model_ids = be.get_model_ids()['ids']\n",
    "tf = TransferFunction(\n",
    "    bioexplorer=be, model_id=model_ids[0],\n",
    "    filename=colormap_filename,\n",
    "    show_widget=False,\n",
    "    value_range=[0, len(region_mapping)]\n",
    ")"
   ]
  },
  {
   "cell_type": "code",
   "execution_count": null,
   "id": "57c3dec1",
   "metadata": {},
   "outputs": [],
   "source": [
    "core = be.core_api()\n",
    "core.set_volume_parameters(\n",
    "    pre_integration=True, specular=(0,0,0),gradient_shading=True, single_shade=False, gradient_offset=0.5,\n",
    "    adaptive_sampling=False, adaptive_max_sampling_rate=1.0, sampling_rate=5.0)"
   ]
  }
 ],
 "metadata": {
  "kernelspec": {
   "display_name": "env",
   "language": "python",
   "name": "python3"
  },
  "language_info": {
   "codemirror_mode": {
    "name": "ipython",
    "version": 3
   },
   "file_extension": ".py",
   "mimetype": "text/x-python",
   "name": "python",
   "nbconvert_exporter": "python",
   "pygments_lexer": "ipython3",
   "version": "3.10.12"
  }
 },
 "nbformat": 4,
 "nbformat_minor": 5
}
