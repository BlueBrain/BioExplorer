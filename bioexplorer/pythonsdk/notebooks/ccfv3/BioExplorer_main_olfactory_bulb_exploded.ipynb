{
 "cells": [
  {
   "cell_type": "markdown",
   "id": "f992ef9f",
   "metadata": {},
   "source": [
    "# BioExplorer - CCFv3\n",
    "![](../bioexplorer_ccfv3_banner.png)"
   ]
  },
  {
   "cell_type": "markdown",
   "metadata": {},
   "source": [
    "### Connect to back-end"
   ]
  },
  {
   "cell_type": "code",
   "execution_count": null,
   "id": "255fc219",
   "metadata": {},
   "outputs": [],
   "source": [
    "from bioexplorer import BioExplorer, Vector3, MovieMaker\n",
    "from tqdm import tqdm\n",
    "import os\n",
    "\n",
    "url = 'localhost:5000'\n",
    "be = BioExplorer(url)\n",
    "mm = MovieMaker(be)\n",
    "core = be.core_api()"
   ]
  },
  {
   "cell_type": "markdown",
   "id": "d7c658d2",
   "metadata": {},
   "source": [
    "### Load Atlas"
   ]
  },
  {
   "cell_type": "code",
   "execution_count": null,
   "id": "cd5c7162",
   "metadata": {},
   "outputs": [],
   "source": [
    "population_name = 'atlas_ccfv3a_averaged'"
   ]
  },
  {
   "cell_type": "code",
   "execution_count": null,
   "id": "a1d7bdc6",
   "metadata": {},
   "outputs": [],
   "source": [
    "olfactory_bulb_ids = [212, 244, 236, 228, 220]"
   ]
  },
  {
   "cell_type": "code",
   "execution_count": null,
   "id": "1e1c80f3",
   "metadata": {},
   "outputs": [],
   "source": [
    "status = be.reset_scene()\n",
    "for region_id in olfactory_bulb_ids:\n",
    "    try:\n",
    "        atlas_assembly_name = 'Cells %d' % region_id\n",
    "        be.remove_assembly(atlas_assembly_name)\n",
    "        atlas_assembly = be.add_assembly(atlas_assembly_name)\n",
    "        atlas_model = be.add_atlas(\n",
    "            assembly_name=atlas_assembly_name,\n",
    "            population_name=population_name,\n",
    "            load_cells=True, load_meshes=False, cell_radius=5.0,\n",
    "            region_sql_filter='guid=%d' % region_id,\n",
    "        )\n",
    "\n",
    "        if False:\n",
    "            atlas_assembly_name = 'Mesh %d' % region_id\n",
    "            be.remove_assembly(atlas_assembly_name)\n",
    "            atlas_assembly = be.add_assembly(atlas_assembly_name)\n",
    "            atlas_model = be.add_atlas(\n",
    "                assembly_name=atlas_assembly_name,\n",
    "                population_name=population_name,\n",
    "                load_cells=False, load_meshes=True,\n",
    "                region_sql_filter='guid=%d' % region_id,\n",
    "                mesh_scale=Vector3(1, 1, 1)\n",
    "            )\n",
    "    except Exception as e:\n",
    "        print(e)"
   ]
  },
  {
   "cell_type": "code",
   "execution_count": null,
   "id": "65dd97e3",
   "metadata": {},
   "outputs": [],
   "source": [
    "model_ids = be.get_model_ids()['ids']\n",
    "x = 0\n",
    "for model_id in model_ids:\n",
    "    transformation={\n",
    "        'rotation': [0.0, 0.0, 0.0, 1.0],\n",
    "        'rotation_center': [0.0, 0.0, 0.0],\n",
    "        'scale': [1.0, 1.0, 1.0],\n",
    "        'translation': [x, 0.0, 0.0]\n",
    "    }\n",
    "    core.update_model(model_id, transformation=transformation)\n",
    "    x += 2200\n"
   ]
  },
  {
   "cell_type": "code",
   "execution_count": null,
   "id": "3ef4a1ad",
   "metadata": {},
   "outputs": [],
   "source": [
    "import os\n",
    "from sqlalchemy import create_engine\n",
    "from sqlalchemy.orm import Session\n",
    "\n",
    "db_host = os.getenv('DB_HOST')\n",
    "db_name = os.getenv('DB_NAME')\n",
    "db_user = os.getenv('DB_USER')\n",
    "db_password = os.getenv('DB_PASSWORD')\n",
    "db_schema = population_name\n",
    "\n",
    "db_connection_string = 'postgresql+psycopg2://%s:%s@%s:5432/%s' % (db_user, db_password, db_host, db_name)\n",
    "print('Connection string: ' + db_connection_string + ', schema: ' + db_schema)\n",
    "\n",
    "engine = create_engine(db_connection_string)\n",
    "conn = engine.connect()"
   ]
  },
  {
   "cell_type": "code",
   "execution_count": null,
   "id": "5b2edd2b",
   "metadata": {},
   "outputs": [],
   "source": [
    "region_colors = dict()\n",
    "\n",
    "def hex_to_rgb(value):\n",
    "    value = value.lstrip('#')\n",
    "    lv = len(value)\n",
    "    return tuple(int(value[i:i + lv // 3], 16) / 256.0 for i in range(0, lv, lv // 3))\n",
    "\n",
    "with Session(engine) as session:\n",
    "    data = session.execute('select guid, color_hex_triplet from %s.region' % 'atlas_ccfv3a')\n",
    "    for d in data.all():\n",
    "        region_colors[int(d[0])] = hex_to_rgb(d[1])"
   ]
  },
  {
   "cell_type": "code",
   "execution_count": null,
   "id": "c2d01ab4",
   "metadata": {},
   "outputs": [],
   "source": [
    "model_ids = be.get_model_ids()['ids']\n",
    "for model_id in tqdm(model_ids):\n",
    "    material_ids = be.get_material_ids(model_id)['ids'][:-1]\n",
    "    palette = list()\n",
    "    opacities = list()\n",
    "    shading_modes = list()\n",
    "    specular_exponents = list()\n",
    "    user_params = list()\n",
    "    refraction_indices = list()\n",
    "    glossinesses = list()\n",
    "    reflection_indices = list()\n",
    "    for material_id in material_ids:\n",
    "        c = [1, 0, 0]\n",
    "        m_id = material_id\n",
    "        if m_id in region_colors:\n",
    "            c = region_colors[m_id]\n",
    "        opacities.append(1.0)\n",
    "        alpha = 1.0\n",
    "        shading_modes.append(be.shading_mode.ELECTRON_TRANSPARENCY)\n",
    "        user_params.append(3.0)\n",
    "        glossinesses.append(1.0)\n",
    "        specular_exponents.append(50.0)\n",
    "        reflection_indices.append(0.0)\n",
    "        refraction_indices.append(0.95)\n",
    "        palette.append([alpha * c[0], alpha * c[1], alpha * c[2]])\n",
    "        \n",
    "    be.set_materials(\n",
    "        model_ids=[model_id], material_ids=material_ids,\n",
    "        shading_modes=shading_modes, user_parameters=user_params,\n",
    "        opacities=opacities, specular_exponents=specular_exponents,\n",
    "        reflection_indices=reflection_indices,\n",
    "        refraction_indices=refraction_indices, glossinesses=glossinesses,\n",
    "        diffuse_colors=palette, specular_colors=palette)"
   ]
  },
  {
   "cell_type": "code",
   "execution_count": null,
   "id": "111cb1ac",
   "metadata": {},
   "outputs": [],
   "source": [
    "background_color = [0.0, 0.0, 0.0]\n",
    "status = core.set_renderer(\n",
    "    head_light=True,\n",
    "    current='advanced', background_color=background_color,\n",
    "    subsampling=4, max_accum_frames=128)\n",
    "params = core.AdvancedRendererParams()\n",
    "params.gi_ray_length = 1e6\n",
    "params.shadow_intensity = 1.0\n",
    "params.soft_shadow_strength = 0.5\n",
    "params.main_exposure = 1.5\n",
    "params.max_ray_depth = 1\n",
    "params.epsilon_multiplier = 50.0\n",
    "params.use_hardware_randomizer = True\n",
    "status = core.set_renderer_params(params)"
   ]
  },
  {
   "cell_type": "code",
   "execution_count": null,
   "id": "9f215b3b",
   "metadata": {},
   "outputs": [],
   "source": [
    "keys = [\n",
    "    # Olfactory bulb\n",
    "    {\n",
    "        'apertureRadius': 0.0,\n",
    "        'direction': [0.7469370424463216, 0.3606491560448456, 0.5585850345880041],\n",
    "        'focalDistance': 1000000.0,\n",
    "        'origin': [-3120.532189038173, 1835.5169097748767, 2165.927051941915],\n",
    "        'up': [0.3224948767666639, -0.9311843737781622, 0.16997857656370974]\n",
    "    }\n",
    "    ,\n",
    "    # Side view\n",
    "    {\n",
    "        'apertureRadius': 0.0,\n",
    "        'direction': [-1.3331370380301985e-16, -1.2246467991473532e-16, 1.0],\n",
    "        'focalDistance': 1000000.0,\n",
    "        'origin': [7236.727651380601, 4482.658523559142, -9145.317280084804],\n",
    "        'up': [-4.440892098500626e-16, -1.0, -1.2246467991473537e-16]\n",
    "    }\n",
    "]\n",
    "double_keys = list()\n",
    "for key in keys:\n",
    "    double_keys.append(key)\n",
    "    double_keys.append(key)\n",
    "mm.build_camera_path(double_keys, 50, 25)"
   ]
  },
  {
   "cell_type": "code",
   "execution_count": null,
   "id": "95f31dac",
   "metadata": {},
   "outputs": [],
   "source": [
    "from tqdm import tqdm\n",
    "import os\n",
    "\n",
    "output_folder = '/scratch/videos/atlas/%s/olfactory_bulb_explosion/v1' % population_name\n",
    "os.makedirs(output_folder, exist_ok=True)\n",
    "\n",
    "k = 4\n",
    "\n",
    "nb_frames = mm.get_nb_frames()\n",
    "model_ids = be.get_model_ids()['ids']\n",
    "\n",
    "mm.set_current_frame(0)\n",
    "model_ids = be.get_model_ids()['ids']\n",
    "for model_id in model_ids:\n",
    "    transformation={\n",
    "        'rotation': [0.0, 0.0, 0.0, 1.0],\n",
    "        'rotation_center': [0.0, 0.0, 0.0],\n",
    "        'scale': [1.0, 1.0, 1.0],\n",
    "        'translation': [0.0, 0.0, 0.0]\n",
    "    }\n",
    "    core.update_model(model_id, transformation=transformation)\n",
    "\n",
    "\n",
    "explosion_frame = 0\n",
    "for frame in tqdm(range(nb_frames)):\n",
    "    mm.set_current_frame(frame)\n",
    "\n",
    "    if frame >= nb_frames / 2.0:\n",
    "        x = 0\n",
    "        for model_id in model_ids:\n",
    "            transformation={\n",
    "                'rotation': [0.0, 0.0, 0.0, 1.0],\n",
    "                'rotation_center': [0.0, 0.0, 0.0],\n",
    "                'scale': [1.0, 1.0, 1.0],\n",
    "                'translation': [x, 0.0, 0.0]\n",
    "            }\n",
    "            core.update_model(model_id, transformation=transformation)\n",
    "            x += 600 * float(explosion_frame) / float(nb_frames / 2.0)\n",
    "            explosion_frame += 1\n",
    "\n",
    "    mm.create_snapshot(\n",
    "        renderer='advanced',\n",
    "        path=output_folder, base_name='%05d' % frame,\n",
    "        size=[k * 960, k * 540],\n",
    "        samples_per_pixel=64)\n"
   ]
  },
  {
   "cell_type": "code",
   "execution_count": null,
   "id": "dbffd507",
   "metadata": {},
   "outputs": [],
   "source": [
    "core.set_camera(\n",
    "    current='orthographic',\n",
    "    orientation=[1.0, 0.0, 0.0, 2.83276944882399e-16],\n",
    "    position=[7576.438343030802, 4265.342891871651, -8852.298404831818],\n",
    "    target=[7576.438343030802, 4265.342891871657, 5687.5],\n",
    ")\n",
    "params = core.OrthographicCameraParams()\n",
    "params.height = 10000\n",
    "status = core.set_camera_params(params)"
   ]
  },
  {
   "cell_type": "code",
   "execution_count": null,
   "id": "a6cc0dad",
   "metadata": {},
   "outputs": [],
   "source": [
    "output_folder = '/scratch/videos/atlas/%s/olfactory_bulb_explosion/v2' % population_name\n",
    "k = 4\n",
    "spp = 128\n",
    "image_size = [k*960, k*270]"
   ]
  },
  {
   "cell_type": "code",
   "execution_count": null,
   "id": "d8b6a302",
   "metadata": {},
   "outputs": [],
   "source": [
    "model_ids = be.get_model_ids()['ids']\n",
    "step = 2200\n",
    "x = 0\n",
    "for frame in tqdm(range(100)):\n",
    "    i = 0\n",
    "    for model_id in model_ids:\n",
    "        transformation={\n",
    "            'rotation': [0.0, 0.0, 0.0, 1.0],\n",
    "            'rotation_center': [0.0, 0.0, 0.0],\n",
    "            'scale': [1.0, 1.0, 1.0],\n",
    "            'translation': [i * x * step, 0.0, 0.0]\n",
    "        }\n",
    "        core.update_model(model_id, transformation=transformation)\n",
    "        i += 1\n",
    "    mm.create_snapshot(\n",
    "        renderer='advanced',\n",
    "        path=output_folder, base_name='%05d' % frame,\n",
    "        size=image_size, samples_per_pixel=spp)       \n",
    "    x += 0.01"
   ]
  }
 ],
 "metadata": {
  "interpreter": {
   "hash": "ea9a5fa46eb6bad2806a8ea1d08e15bb1e255a2d4320b81e765591579963c56b"
  },
  "kernelspec": {
   "display_name": "Python 3.8.10 64-bit ('env': venv)",
   "language": "python",
   "name": "python3"
  },
  "language_info": {
   "codemirror_mode": {
    "name": "ipython",
    "version": 3
   },
   "file_extension": ".py",
   "mimetype": "text/x-python",
   "name": "python",
   "nbconvert_exporter": "python",
   "pygments_lexer": "ipython3",
   "version": "3.10.12"
  }
 },
 "nbformat": 4,
 "nbformat_minor": 5
}
