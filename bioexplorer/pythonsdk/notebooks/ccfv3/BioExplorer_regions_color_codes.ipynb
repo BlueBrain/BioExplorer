{
 "cells": [
  {
   "cell_type": "markdown",
   "id": "f992ef9f",
   "metadata": {},
   "source": [
    "# BioExplorer - CCFv3\n",
    "![](../bioexplorer_ccfv3_banner.png)"
   ]
  },
  {
   "cell_type": "code",
   "execution_count": null,
   "id": "5b2edd2b",
   "metadata": {},
   "outputs": [],
   "source": [
    "import json\n",
    "import pandas as pd\n",
    "import matplotlib.pyplot as plt\n",
    "\n",
    "# Load the JSON file with color codes\n",
    "with open('brain_regions.json') as f:\n",
    "    brain_data = json.load(f)\n",
    "\n",
    "# Extract brain regions and their color codes\n",
    "def extract_brain_regions(data):\n",
    "    regions = []\n",
    "    colors = []\n",
    "    \n",
    "    def recursive_extraction(children):\n",
    "        for child in children:\n",
    "            regions.append(child['name'])\n",
    "            colors.append(\"#\" + child['color_hex_triplet'])\n",
    "            if 'children' in child:\n",
    "                recursive_extraction(child['children'])\n",
    "    \n",
    "    recursive_extraction(data['msg'][0]['children'])\n",
    "    return regions, colors\n",
    "\n",
    "brain_regions, brain_colors = extract_brain_regions(brain_data)\n",
    "\n",
    "# Create a dataframe to display\n",
    "brain_df = pd.DataFrame({\n",
    "    'Brain Region': brain_regions,\n",
    "    'Color': brain_colors\n",
    "})\n",
    "\n",
    "# Display the updated colormap\n",
    "fig, ax = plt.subplots(figsize=(1, 10))\n",
    "\n",
    "brain_regions.reverse()\n",
    "brain_colors.reverse()\n",
    "\n",
    "regions_to_label = ['isocortex', 'hippocampus', 'striatum', 'thalamus', 'hypothalamus', 'midbrain', 'pons', 'medulla', 'cerebellum']\n",
    "\n",
    "for i, region in enumerate(brain_regions):\n",
    "    if region.lower() in regions_to_label:\n",
    "        ax.barh(i, 1, 10, color=brain_colors[i])\n",
    "        ax.text(1.2, i, region, ha='left', va='top', color='black', fontsize=15)\n",
    "    elif i%10 == 0:\n",
    "        ax.barh(i, 1, 10,color=brain_colors[i])\n",
    "        ax.text(0, i, '', ha='center', va='center', color='black', fontsize=15)\n",
    "\n",
    "ax.xaxis.set_visible(False)\n",
    "ax.yaxis.set_visible(False)\n",
    "\n",
    "# Remove the rectangle surrounding the plot\n",
    "for spine in ax.spines.values():\n",
    "    spine.set_visible(False)\n",
    "\n",
    "plt.tight_layout()\n",
    "\n",
    "# Save the updated plot\n",
    "plt.savefig('detailed_allen_brain_colormap.png')\n",
    "\n",
    "plt.show()"
   ]
  }
 ],
 "metadata": {
  "interpreter": {
   "hash": "ea9a5fa46eb6bad2806a8ea1d08e15bb1e255a2d4320b81e765591579963c56b"
  },
  "kernelspec": {
   "display_name": "Python 3.8.10 64-bit ('env': venv)",
   "language": "python",
   "name": "python3"
  },
  "language_info": {
   "codemirror_mode": {
    "name": "ipython",
    "version": 3
   },
   "file_extension": ".py",
   "mimetype": "text/x-python",
   "name": "python",
   "nbconvert_exporter": "python",
   "pygments_lexer": "ipython3",
   "version": "3.10.12"
  }
 },
 "nbformat": 4,
 "nbformat_minor": 5
}
