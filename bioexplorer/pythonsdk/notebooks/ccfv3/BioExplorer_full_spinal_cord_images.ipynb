{
 "cells": [
  {
   "cell_type": "markdown",
   "id": "f992ef9f",
   "metadata": {},
   "source": [
    "# BioExplorer - CCFv3\n",
    "![](../bioexplorer_ccfv3_banner.png)"
   ]
  },
  {
   "cell_type": "markdown",
   "metadata": {},
   "source": [
    "### Connect to back-end"
   ]
  },
  {
   "cell_type": "code",
   "execution_count": null,
   "id": "b6ad4e23",
   "metadata": {
    "scrolled": false
   },
   "outputs": [],
   "source": [
    "from bioexplorer import BioExplorer, MovieMaker, Vector3\n",
    "from tqdm import tqdm\n",
    "import glob\n",
    "import os\n",
    "\n",
    "url = 'localhost:5000'\n",
    "be = BioExplorer(url)\n",
    "core = be.core_api()\n",
    "mm = MovieMaker(be)"
   ]
  },
  {
   "attachments": {},
   "cell_type": "markdown",
   "id": "e80b8839",
   "metadata": {},
   "source": [
    "## Dataset"
   ]
  },
  {
   "cell_type": "code",
   "execution_count": null,
   "id": "33e76b8b",
   "metadata": {},
   "outputs": [],
   "source": [
    "species_folder = '/scratch/spinal_cord/3D_Mouse_SC_Atlas/Mouse_Spinal_Cord_3D_Atlas'\n",
    "create_snapshot = False\n",
    "transparency = 0.1\n",
    "\n",
    "output_folder = '/scratch/images/atlas/'\n",
    "os.makedirs(output_folder, exist_ok=True)"
   ]
  },
  {
   "attachments": {},
   "cell_type": "markdown",
   "id": "ebec9aee",
   "metadata": {},
   "source": [
    "## Images"
   ]
  },
  {
   "cell_type": "markdown",
   "id": "3f427296",
   "metadata": {},
   "source": [
    "### Spinal cord"
   ]
  },
  {
   "cell_type": "code",
   "execution_count": null,
   "id": "e53088f5",
   "metadata": {},
   "outputs": [],
   "source": [
    "def set_materials(model_id, color, opacity):\n",
    "    colors = list()\n",
    "    material_ids = be.get_material_ids(model_id)['ids']\n",
    "    shading_modes = list()\n",
    "    opacities = list()\n",
    "    user_params = list()\n",
    "    refraction_indices = list()\n",
    "    specular_exponents = list()\n",
    "    glossinesses = list()\n",
    "    for _ in material_ids:\n",
    "        colors.append(color)\n",
    "        opacities.append(opacity)\n",
    "        shading_modes.append(be.shading_mode.DIFFUSE)\n",
    "        user_params.append(0.00005)\n",
    "        refraction_indices.append(1.0)\n",
    "        specular_exponents.append(50.0)\n",
    "        glossinesses.append(0.1)\n",
    "        \n",
    "    be.set_materials(\n",
    "        model_ids=[model_id], material_ids=material_ids,\n",
    "        shading_modes=shading_modes, opacities=opacities, user_parameters=user_params,\n",
    "        diffuse_colors=colors, specular_colors=colors, specular_exponents=specular_exponents,\n",
    "        refraction_indices=refraction_indices, glossinesses=glossinesses)"
   ]
  },
  {
   "cell_type": "code",
   "execution_count": null,
   "id": "13e395e4",
   "metadata": {},
   "outputs": [],
   "source": [
    "def create_image(folder_name, sample_folder, color):\n",
    "    files = glob.glob(os.path.join(sample_folder, '*.obj'))\n",
    "    model_bounds_list = list()\n",
    "    group_model_ids = list()\n",
    "    to_show = ['df', 'lvf']\n",
    "\n",
    "    for file in files:\n",
    "        base_name = os.path.basename(file)\n",
    "        values = base_name.split('_')\n",
    "        model_name = values[1].replace('.obj', '')\n",
    "       \n",
    "        if model_name not in to_show:\n",
    "            continue\n",
    "\n",
    "        model = core.add_model(name=folder_name + '_' + model_name, path=file)\n",
    "        model_id = model['id']\n",
    "        group_model_ids.append(model_id)\n",
    "        model_bounds_list.append(model['bounds'])\n",
    "        import time\n",
    "        time.sleep(0.1)\n"
   ]
  },
  {
   "cell_type": "code",
   "execution_count": null,
   "id": "e26f123b",
   "metadata": {},
   "outputs": [],
   "source": [
    "def load_data():\n",
    "    import seaborn as sns\n",
    "    be.reset_scene()\n",
    "    sample_folders = glob.glob(os.path.join(species_folder, '*'))\n",
    "    sample_folders.sort()\n",
    "\n",
    "    sections = ['C', 'T', 'L', 'S',  'Co']\n",
    "    section_colors = dict()\n",
    "    palette = sns.color_palette('rainbow', len(sections))\n",
    "\n",
    "    i = 0\n",
    "    for section_name in sections:\n",
    "        section_colors[section_name] = palette[i]\n",
    "        i += 1\n",
    "\n",
    "    for sample_folder in tqdm(sample_folders):\n",
    "        values = sample_folder.split('/')\n",
    "        folder_name = values[len(values) - 1]\n",
    "        section_name = folder_name.split('_')[1].replace('vert', '')\n",
    "        section_name = ''.join([i for i in section_name if not i.isdigit()])\n",
    "        create_image(\n",
    "            section_name,\n",
    "            sample_folder,\n",
    "            section_colors[section_name] # Colored by section\n",
    "        )\n",
    "        i += 1\n",
    "\n",
    "load_data()"
   ]
  },
  {
   "cell_type": "code",
   "execution_count": null,
   "id": "ba2388a3",
   "metadata": {},
   "outputs": [],
   "source": [
    "model_ids = be.get_model_ids()['ids']\n",
    "for i in range(68):\n",
    "    model_id = model_ids[i]\n",
    "    tf = {\n",
    "        'rotation': [-0.5, -0.5, -0.5, 0.5],\n",
    "        'rotation_center': [0.0, 0.0, 0.0],\n",
    "        'scale': [1200.0, 1200.0, 1200.0],\n",
    "        'translation': [10.95, 5.45, 4.75]\n",
    "    }\n",
    "    core.update_model(model_id, transformation=tf)\n"
   ]
  },
  {
   "cell_type": "code",
   "execution_count": null,
   "id": "3baba697",
   "metadata": {},
   "outputs": [],
   "source": [
    "color_offset = dict()\n",
    "color_offset['C'] = [0.0, 0.0, 0.0]\n",
    "color_offset['T'] = [0.0, -0.05, 0.05]\n",
    "color_offset['L'] = [0.0, -0.1, 0.1]\n",
    "color_offset['S'] = [0.0, -0.15, 0.15]\n",
    "color_offset['Co'] = [0.0, -0.2, 0.2]\n",
    "model_ids = be.get_model_ids()['ids']\n",
    "for i in range(68):\n",
    "    model_id = model_ids[i]\n",
    "    model_name = be.get_model_name(model_id)['name']\n",
    "    prefix = model_name.split('_')[0]\n",
    "    color = [255.0/256.0, 155.0/256.0, 205.0/256.0]\n",
    "    color[1] += color_offset[prefix][1] * 2\n",
    "    color[2] += color_offset[prefix][2] * 2\n",
    "    set_materials(model_id, color, 1.0)"
   ]
  },
  {
   "cell_type": "markdown",
   "id": "2087aea0",
   "metadata": {},
   "source": [
    "### Brain"
   ]
  },
  {
   "cell_type": "code",
   "execution_count": null,
   "id": "703ec4a7",
   "metadata": {},
   "outputs": [],
   "source": [
    "population_name = 'ccfv3a'"
   ]
  },
  {
   "cell_type": "code",
   "execution_count": null,
   "id": "57da040a",
   "metadata": {},
   "outputs": [],
   "source": [
    "cerebellum_ids = [\n",
    "       512,      1025,       519,      1033,       528,      1041,      1049,\n",
    "      1056,      1064,      1073,      1091,       846,        91, 589508455,\n",
    "       989,      1143,      1144,      1145,       645,       912,       920,\n",
    "       928,       936,       944,     10672,     10673,     10674,     10675,\n",
    "     10676,     10677,       951,     10680,     10679,     10678,     10681,\n",
    "     10682,       957,     10683,     10687,     10688,     10689,     10690,\n",
    "     10691,     10692,     10684,     10686,       968,       976,     10705,\n",
    "     10706,     10707,     10708,     10709,     10710,     10711,     10712,\n",
    "     10713,       984,     10714,     10715,     10716,     10717,     10718,\n",
    "       992,     10720,     10721,     10722,     10719,     10723,     10724,\n",
    "     10725,     10728,      1001,     10726,     10727,     10729,     10730,\n",
    "     10731,     10733,     10732,     10734,     10737,     10736,     10735,\n",
    "      1007,      1017,     10685\n",
    "]\n",
    "\n",
    "cerebellum_granular_layer_ids = [10675, 10678, 10708, 10711, 10684, 10720, 10723, 10690, 10726, 10705, 10735, 10687, 10681, 10729, 10672, 10732]\n",
    "cerebellum_molecular_layer_ids =  [10677, 10680, 10710, 10713, 10686, 10722, 10725, 10692, 10728, 10707, 10737, 10689, 10683, 10731, 10674, 10734]\n",
    "\n",
    "\n",
    "olfactory_bulb_ids = [507, 212, 228, 236, 244, 220]\n",
    "\n",
    "medula_ids = [\n",
    "      773,       781,      1039,       789,      1048,        45,      1069,\n",
    "      560,       307,        53,       568,        61,       576,       69,\n",
    "      839,      1098,        76,        77,       83,      1107,       852,\n",
    "      859,       607,        96,       354, 589508451,       101,       106,\n",
    "      112,       370,       372,       887,       379,       640,      386,\n",
    "      642,       903,       135,       136,       651,       395,       653,\n",
    "      143,       659,       661,       666,       154,       161,       674,\n",
    "      169,       682,       938,       939,       429,       177,       691,\n",
    "      437,       185,       955,       445,       701,       193,       963,\n",
    "      711,       970,       203,       202,       206,       207,       720,\n",
    "      209,       978,       217,       222,       225,       995,       230,\n",
    "      235,       765, \n",
    "      1557651847\n",
    "]\n",
    "\n",
    "test_list = [\n",
    "  256,  260,  517, 1034,  267,  268, 1042,  276,  788,  535, 1050,  284, 1059,  291,\n",
    "  297, 1067,  814,  306, 1075,  566, 1082,  584,  589,  592,  597,  605,  360,  619,\n",
    " 1139, 1140, 1141, 1142,  631,  376,  639,  383,  646,  647,  392,  655,  400,  151,\n",
    "  152,  663,  408,  159,  160,  416,  167,  168,  424,  175,  183,  698,  188,  191,\n",
    "  192,  961,  196,  199,  200,  204,  208,  216,  224,  232,  496,  240,  248, \n",
    "  # 507,  212,  228,  236,  244,  220\n",
    "]\n",
    "\n",
    "\n",
    "fibers_ids = [960, 1000, 1009, 396, 109]\n",
    "\n",
    "tracts_ids = [619, 392, 260, 268, 1139, 292, 628, 66, 75, 58, 651, 659, 666, 674, 682, 691, 2316153360, 1009, 21, 665, 459, 876, 125, 705, 794, 237, 932, 871, 29, 389, 245, 627, 960, 85, 866, 553, 499, 490, 404, 410, 373, 784, 1036, 1012, 1003, 994, 1019, 1028, 2718688460, 102, 109, 863, 221, 1428498274, 855, 205, 213, 428, 405, 753, 690, 681, 653, 2500193001]\n",
    "\n",
    "seb_ids = [\n",
    "  256, 260, 517, 1034, 267, 268, 1042, 276, 788, 535, 1050, 284, 1059, 291, 1209357605,\n",
    "  297, 1067, 814, 306, 1075, 566, 1668688439, 1082, 584, 1024543562, 589, 592, 597,\n",
    "  1992072790, 605, 2358040414, 1860102496, 360, 619, 1953921139, 1139, 1375046773, 1140,\n",
    "  631, 376, 1141, 1142, 383, 639, 646, 647, 392, 655, 400, 151, 152, 663, 1203939479,\n",
    "  408, 159, 160, 416, 167, 168, 424, 175, 183, 3389528505, 698, 188, 191, 192, 961,\n",
    "  196, 199, 200, 204, 208, 212, 216, 220, 224, 228, 232, 236, 1466095084, 496, 240,\n",
    "  244, 248, 507, 2561915647\n",
    "]"
   ]
  },
  {
   "cell_type": "code",
   "execution_count": null,
   "id": "5fb6a48d",
   "metadata": {},
   "outputs": [],
   "source": [
    "cerrebelum_filter = str(cerebellum_ids).replace('[','').replace(']','')\n",
    "cerebellum_granular_layer_filter = str(cerebellum_granular_layer_ids).replace('[','').replace(']','')\n",
    "cerebellum_molecular_layer_filter = str(cerebellum_molecular_layer_ids).replace('[','').replace(']','')\n",
    "olfactory_bulb_filter = str(olfactory_bulb_ids).replace('[','').replace(']','')\n",
    "medula_filter = str(medula_ids).replace('[','').replace(']','')\n",
    "fibers_filter = str(fibers_ids).replace('[','').replace(']','')"
   ]
  },
  {
   "cell_type": "code",
   "execution_count": null,
   "id": "11d87bdf",
   "metadata": {},
   "outputs": [],
   "source": [
    "import json\n",
    "import os\n",
    "atlas_data_folder = '/home/favreau/medias/atlas'\n",
    "data_folder = os.path.join(atlas_data_folder, 'mouse', 'CCFv2', 'barrel_split')\n",
    "\n",
    "region_file_name = 'hierarchy_ccfv2_l23split_barrelsplit.json'\n",
    "# f = open(os.path.join(data_folder, region_file_name))\n",
    "\n",
    "\n",
    "f = open('brain_regions.json')\n",
    "obj = json.load(f)\n",
    "\n",
    "regions_with_no_children = list()\n",
    "region_colors=dict()\n",
    "def node_color(node, level):\n",
    "    node_id = node['id']\n",
    "    color = node['color_hex_triplet']\n",
    "    region_colors[node_id] = color\n",
    "    children = node['children']\n",
    "    if not children:\n",
    "        regions_with_no_children.append(node_id)\n",
    "    for child in children:\n",
    "        node_color(child, level + 1)\n",
    "\n",
    "for node in obj['msg']:\n",
    "    node_color(node, 0)\n",
    "\n",
    "def hex_to_rgb(value):\n",
    "    value = value.lstrip('#')\n",
    "    lv = len(value)\n",
    "    return tuple(int(value[i:i + lv // 3], 16) for i in range(0, lv, lv // 3))"
   ]
  },
  {
   "cell_type": "code",
   "execution_count": null,
   "id": "5bd48e72",
   "metadata": {},
   "outputs": [],
   "source": [
    "atlas_assembly_name = 'cerrebelum'\n",
    "be.remove_assembly(atlas_assembly_name)\n",
    "atlas_assembly = be.add_assembly(atlas_assembly_name)\n",
    "atlas_model = be.add_atlas(\n",
    "    assembly_name=atlas_assembly_name,\n",
    "    population_name=population_name,\n",
    "    load_cells=False, load_meshes=True,\n",
    "    region_sql_filter='guid IN (%s)' % cerrebelum_filter,\n",
    "    mesh_scale=Vector3(1, 1, 1)\n",
    ")"
   ]
  },
  {
   "cell_type": "code",
   "execution_count": null,
   "id": "4abfeae5",
   "metadata": {},
   "outputs": [],
   "source": [
    "atlas_assembly_name = 'cerebellum_granular_layer'\n",
    "be.remove_assembly(atlas_assembly_name)\n",
    "atlas_assembly = be.add_assembly(atlas_assembly_name)\n",
    "atlas_model = be.add_atlas(\n",
    "    assembly_name=atlas_assembly_name,\n",
    "    population_name=population_name,\n",
    "    load_cells=False, load_meshes=True,\n",
    "    region_sql_filter='guid IN (%s)' % cerebellum_granular_layer_filter,\n",
    "    mesh_scale=Vector3(1, 1, 1)\n",
    ")"
   ]
  },
  {
   "cell_type": "code",
   "execution_count": null,
   "id": "8d55624a",
   "metadata": {},
   "outputs": [],
   "source": [
    "atlas_assembly_name = 'cerebellum_molecular_layer'\n",
    "be.remove_assembly(atlas_assembly_name)\n",
    "atlas_assembly = be.add_assembly(atlas_assembly_name)\n",
    "atlas_model = be.add_atlas(\n",
    "    assembly_name=atlas_assembly_name,\n",
    "    population_name=population_name,\n",
    "    load_cells=False, load_meshes=True,\n",
    "    region_sql_filter='guid IN (%s)' % cerebellum_molecular_layer_filter,\n",
    "    mesh_scale=Vector3(1, 1, 1)\n",
    ")"
   ]
  },
  {
   "cell_type": "code",
   "execution_count": null,
   "id": "460a22b6",
   "metadata": {},
   "outputs": [],
   "source": [
    "atlas_assembly_name = 'cerrebelum'\n",
    "be.remove_assembly(atlas_assembly_name)\n",
    "atlas_assembly = be.add_assembly(atlas_assembly_name)\n",
    "atlas_model = be.add_atlas(\n",
    "    assembly_name=atlas_assembly_name,\n",
    "    population_name=population_name,\n",
    "    load_cells=False, load_meshes=True,\n",
    "    region_sql_filter='guid IN (%s) AND guid NOT IN (%s) AND guid NOT IN (%s)' % (cerrebelum_filter, cerebellum_granular_layer_filter, cerebellum_molecular_layer_filter),\n",
    "    mesh_scale=Vector3(1, 1, 1)\n",
    ")"
   ]
  },
  {
   "cell_type": "code",
   "execution_count": null,
   "id": "41fe1fc8",
   "metadata": {},
   "outputs": [],
   "source": [
    "atlas_assembly_name = 'olfactory_bulb'\n",
    "be.remove_assembly(atlas_assembly_name)\n",
    "atlas_assembly = be.add_assembly(atlas_assembly_name)\n",
    "atlas_model = be.add_atlas(\n",
    "    assembly_name=atlas_assembly_name,\n",
    "    population_name=population_name,\n",
    "    load_cells=False, load_meshes=True,\n",
    "    region_sql_filter='guid IN (%s)' % olfactory_bulb_filter,\n",
    "    mesh_scale=Vector3(1, 1, 1)\n",
    ")"
   ]
  },
  {
   "cell_type": "code",
   "execution_count": null,
   "id": "f19f321d",
   "metadata": {},
   "outputs": [],
   "source": [
    "atlas_assembly_name = 'medula'\n",
    "be.remove_assembly(atlas_assembly_name)\n",
    "atlas_assembly = be.add_assembly(atlas_assembly_name)\n",
    "atlas_model = be.add_atlas(\n",
    "    assembly_name=atlas_assembly_name,\n",
    "    population_name=population_name,\n",
    "    load_cells=False, load_meshes=True,\n",
    "    region_sql_filter='guid IN (%s)' % medula_filter,\n",
    "    mesh_scale=Vector3(1, 1, 1)\n",
    ")"
   ]
  },
  {
   "cell_type": "code",
   "execution_count": null,
   "id": "cc8f1fed",
   "metadata": {},
   "outputs": [],
   "source": [
    "atlas_assembly_name = 'other_regions'\n",
    "be.remove_assembly(atlas_assembly_name)\n",
    "atlas_assembly = be.add_assembly(atlas_assembly_name)\n",
    "all_filter = olfactory_bulb_ids + medula_ids + cerebellum_ids + cerebellum_granular_layer_ids + cerebellum_molecular_layer_ids\n",
    "all_filter = str(all_filter).replace('[', '').replace(']', '')\n",
    "atlas_model = be.add_atlas(\n",
    "    assembly_name=atlas_assembly_name,\n",
    "    population_name=population_name,\n",
    "    load_cells=False, load_meshes=True,\n",
    "    region_sql_filter='level in (6)  AND guid NOT IN (1024543562) AND guid NOT IN (%s)' % all_filter,\n",
    "    mesh_scale=Vector3(1, 1, 1)\n",
    ")"
   ]
  },
  {
   "cell_type": "code",
   "execution_count": null,
   "id": "a600897a",
   "metadata": {},
   "outputs": [],
   "source": [
    "model_ids = be.get_model_ids()['ids'][-6:]\n",
    "\n",
    "shading_mode = be.shading_mode.DIFFUSE\n",
    "exponent = 50.0\n",
    "\n",
    "for model_id in tqdm(model_ids):\n",
    "    material_ids = be.get_material_ids(model_id)['ids'][:-1]\n",
    "    palette = list()\n",
    "    opacities = list()\n",
    "    shading_modes = list()\n",
    "    specular_exponents = list()\n",
    "    user_params = list()\n",
    "    refraction_indices = list()\n",
    "    glossinesses = list()\n",
    "    reflection_indices = list()\n",
    "    for material_id in material_ids:\n",
    "        c = [255, 0, 0]\n",
    "        m_id = material_id\n",
    "        if m_id in region_colors:\n",
    "            id = region_colors[m_id]\n",
    "            c = hex_to_rgb(id)\n",
    "        alpha = 1.0\n",
    "        if (m_id in cerebellum_ids and m_id not in cerebellum_granular_layer_ids and m_id not in cerebellum_molecular_layer_ids) or m_id in olfactory_bulb_ids or m_id in medula_ids:\n",
    "            opacities.append(1.0)\n",
    "            shading_modes.append(shading_mode)\n",
    "            alpha = 1.0\n",
    "            user_params.append(0.00001)\n",
    "            glossinesses.append(0.1)\n",
    "            specular_exponents.append(exponent)\n",
    "            reflection_indices.append(0.0)\n",
    "        elif m_id in cerebellum_granular_layer_ids:\n",
    "            opacities.append(1.0)\n",
    "            shading_modes.append(shading_mode)\n",
    "            alpha = 0.5\n",
    "            user_params.append(0.00001)\n",
    "            glossinesses.append(0.1)\n",
    "            specular_exponents.append(exponent)\n",
    "            reflection_indices.append(0.0)\n",
    "        elif m_id in cerebellum_molecular_layer_ids:\n",
    "            opacities.append(1.0)\n",
    "            shading_modes.append(shading_mode)\n",
    "            alpha = 1.0\n",
    "            user_params.append(0.00001)\n",
    "            glossinesses.append(0.1)\n",
    "            specular_exponents.append(exponent)\n",
    "            reflection_indices.append(0.0)\n",
    "        else:\n",
    "            opacities.append(0.3)\n",
    "            alpha = 2.0\n",
    "            # opacities.append(1.0)\n",
    "            # alpha = 0.5\n",
    "            shading_modes.append(shading_mode)\n",
    "            user_params.append(3.0)\n",
    "            glossinesses.append(0.5)\n",
    "            specular_exponents.append(50.0)\n",
    "            reflection_indices.append(0.0)\n",
    "        refraction_indices.append(1.0)\n",
    "        palette.append([alpha * c[0] / 255.0, alpha * c[1] / 255.0, alpha * c[2] / 255.0])\n",
    "        \n",
    "    be.set_materials(\n",
    "        model_ids=[model_id], material_ids=material_ids,\n",
    "        shading_modes=shading_modes, user_parameters=user_params,\n",
    "        opacities=opacities, specular_exponents=specular_exponents,\n",
    "        reflection_indices=reflection_indices,\n",
    "        refraction_indices=refraction_indices, glossinesses=glossinesses,\n",
    "        diffuse_colors=palette, specular_colors=palette)"
   ]
  },
  {
   "cell_type": "code",
   "execution_count": null,
   "id": "6d0df245",
   "metadata": {},
   "outputs": [],
   "source": [
    "status = core.set_renderer(\n",
    "    head_light=False,\n",
    "    current='advanced',\n",
    "    background_color=[11.0/256.0, 67/256.0, 14/256.0],\n",
    "    subsampling=4, max_accum_frames=512)\n",
    "params = core.AdvancedRendererParams()\n",
    "params.gi_ray_length = 200.0\n",
    "params.shadow_intensity = 0.5\n",
    "params.soft_shadow_strength = 0.25\n",
    "params.main_exposure = 1.25\n",
    "params.max_ray_depth = 30\n",
    "params.epsilon_multiplier = 5.0\n",
    "params.use_hardware_randomizer = False\n",
    "params.show_background = False\n",
    "status = core.set_renderer_params(params)"
   ]
  },
  {
   "cell_type": "code",
   "execution_count": null,
   "id": "cdb97865",
   "metadata": {},
   "outputs": [],
   "source": [
    "status = core.clear_lights()\n",
    "core.add_light_directional(\n",
    "    angularDiameter=45, color=(1,1,1), direction=(-0.5, 0.5, 0.2),\n",
    "    intensity=0.8, is_visible=False)"
   ]
  },
  {
   "cell_type": "markdown",
   "id": "5e674de1",
   "metadata": {},
   "source": [
    "### Floor"
   ]
  },
  {
   "cell_type": "code",
   "execution_count": null,
   "id": "2cc1508f",
   "metadata": {},
   "outputs": [],
   "source": [
    "if False:\n",
    "\n",
    "    from bioexplorer import Vector3\n",
    "    status = be.add_box(\n",
    "        name='Floor',\n",
    "        bottom_left_corner=Vector3(-500000, 8000, -500000), top_right_corner=Vector3(500000, 8200, 500000))\n",
    "\n",
    "    model_id = be.get_model_ids()['ids'][:-1][0]\n",
    "    set_materials(model_id, [1, 1, 1], 1.0)\n",
    "\n",
    "    status = core.set_renderer(\n",
    "        head_light=False,\n",
    "        current='advanced',\n",
    "        background_color=[11.0/256.0, 67/256.0, 14/256.0],\n",
    "        subsampling=4, max_accum_frames=512)\n",
    "    params = core.AdvancedRendererParams()\n",
    "    params.gi_ray_length = 5000.0\n",
    "    params.shadow_intensity = 0.8\n",
    "    params.soft_shadow_strength = 1.0\n",
    "    params.main_exposure = 1.5\n",
    "    params.max_ray_depth = 30\n",
    "    params.epsilon_multiplier = 4.0\n",
    "    params.use_hardware_randomizer = False\n",
    "    params.show_background = False\n",
    "    status = core.set_renderer_params(params)    "
   ]
  },
  {
   "cell_type": "markdown",
   "id": "4ac8e20e",
   "metadata": {},
   "source": [
    "## Snapshots"
   ]
  },
  {
   "cell_type": "markdown",
   "id": "2a7470f4",
   "metadata": {},
   "source": [
    "### 3D view"
   ]
  },
  {
   "cell_type": "code",
   "execution_count": null,
   "id": "b129ef98",
   "metadata": {},
   "outputs": [],
   "source": [
    "output_folder = '/scratch/images/atlas'\n",
    "k = 4\n",
    "spp = 256\n",
    "image_size = [k*960, k*540]"
   ]
  },
  {
   "cell_type": "code",
   "execution_count": null,
   "id": "bdc76570",
   "metadata": {},
   "outputs": [],
   "source": [
    "core.set_camera(\n",
    "    current='perspective',\n",
    "    orientation=[0.8541502729779541, 0.0622479784707429, -0.3074297814156883, 0.41477636124385714],\n",
    "    position=[624.61022325259, -16843.11224754929, -9430.324215398294],\n",
    "    target=[14712.6758305083, 5375.456994337424, 4459.917593163967],\n",
    ")"
   ]
  },
  {
   "cell_type": "code",
   "execution_count": null,
   "id": "28fcddcc",
   "metadata": {},
   "outputs": [],
   "source": [
    "mm.create_snapshot(\n",
    "    renderer='advanced',\n",
    "    path=output_folder, show_progress=True,\n",
    "    base_name='ccfv2_with_spinal_cord_figure_%dx%d_%dspp_v1' % (image_size[0], image_size[1], spp),\n",
    "    size=image_size, samples_per_pixel=spp)"
   ]
  },
  {
   "cell_type": "markdown",
   "id": "38bc2495",
   "metadata": {},
   "source": [
    "### Sagital view"
   ]
  },
  {
   "cell_type": "code",
   "execution_count": null,
   "id": "b876926d",
   "metadata": {},
   "outputs": [],
   "source": [
    "status = core.set_camera(\n",
    "    current='orthographic',\n",
    "    orientation=[-1.0, 0.0, 0.0, 0.0],\n",
    "    position=[25277.44517898313, 5087.062515237374, -41859.262825475045],\n",
    "    target=[25277.44517898312, 5087.062515237374, 5.777407429365563e-11],\n",
    ")\n",
    "params = core.OrthographicCameraParams()\n",
    "params.height = 55000\n",
    "status = core.set_camera_params(params)"
   ]
  },
  {
   "cell_type": "code",
   "execution_count": null,
   "id": "ebca88b5",
   "metadata": {},
   "outputs": [],
   "source": [
    "mm.create_snapshot(\n",
    "    renderer='advanced',\n",
    "    path=output_folder, show_progress=True,\n",
    "    base_name='ccfv2_with_spinal_cord_figure_%dx%d_%dspp_v2' % (image_size[0], image_size[1], spp),\n",
    "    size=image_size, samples_per_pixel=spp)"
   ]
  },
  {
   "cell_type": "markdown",
   "id": "53bd62a2",
   "metadata": {},
   "source": [
    "### Coronal view"
   ]
  },
  {
   "cell_type": "code",
   "execution_count": null,
   "id": "36837d45",
   "metadata": {},
   "outputs": [],
   "source": [
    "status = core.set_camera(\n",
    "    current='orthographic',\n",
    "    orientation=[0.7071067811865475, 0.0, 0.0, 0.7071067811865476],\n",
    "    position=[25246.78033755872, -21000.118117022015, 5290.873373618535],\n",
    "    target=[25246.78033755872, 3717.4600460529327, 5290.8733736185295],\n",
    ")\n",
    "params = core.OrthographicCameraParams()\n",
    "params.height = 55000\n",
    "status = core.set_camera_params(params)"
   ]
  },
  {
   "cell_type": "code",
   "execution_count": null,
   "id": "e5273d85",
   "metadata": {},
   "outputs": [],
   "source": [
    "mm.create_snapshot(\n",
    "    renderer='advanced',\n",
    "    path=output_folder, show_progress=True,\n",
    "    base_name='ccfv2_with_spinal_cord_figure_%dx%d_%dspp_v3' % (image_size[0], image_size[1], spp),\n",
    "    size=image_size, samples_per_pixel=spp)"
   ]
  },
  {
   "cell_type": "markdown",
   "id": "38f14c52",
   "metadata": {},
   "source": [
    "### Closeup on spinal cord junction"
   ]
  },
  {
   "cell_type": "code",
   "execution_count": null,
   "id": "2df7d1aa",
   "metadata": {},
   "outputs": [],
   "source": [
    "core.set_camera(\n",
    "    current='perspective',\n",
    "    orientation=[0.9026660109835698, -0.12968665364956194, 0.3442263848492494, 0.22334645834175407],\n",
    "    position=[21663.61582469972, -1876.340583461724, -5053.494020929131],\n",
    "    target=[11437.838731368503, 7060.760982298247, 6982.146512926149]\n",
    ")"
   ]
  },
  {
   "cell_type": "code",
   "execution_count": null,
   "id": "0ef462b4",
   "metadata": {},
   "outputs": [],
   "source": [
    "mm.create_snapshot(\n",
    "    renderer='advanced',\n",
    "    path=output_folder, show_progress=True,\n",
    "    base_name='ccfv2_with_spinal_cord_figure_%dx%d_%dspp_v4' % (image_size[0], image_size[1], spp),\n",
    "    size=image_size, samples_per_pixel=spp)"
   ]
  },
  {
   "cell_type": "markdown",
   "id": "ad1c045a",
   "metadata": {},
   "source": [
    "## Debug"
   ]
  },
  {
   "cell_type": "code",
   "execution_count": null,
   "id": "9e2c7899",
   "metadata": {},
   "outputs": [],
   "source": [
    "import ipywidgets as widgets\n",
    "\n",
    "class TreeWidget(widgets.VBox):\n",
    "    def __init__(self, json_data):\n",
    "        super().__init__()\n",
    "        self._tree = self._build_tree(json_data)\n",
    "        self.children = [self._tree]\n",
    "        \n",
    "    def _build_tree(self, data):\n",
    "        tree = widgets.VBox()\n",
    "        for item in data:\n",
    "            label = widgets.Label(f\"{item['id']}: {item['acronym']}\")\n",
    "            if 'children' in item and item['children']:\n",
    "                children_tree = self._build_tree(item['children'])\n",
    "                tree.children += (widgets.HBox([label, children_tree]),)\n",
    "            else:\n",
    "                tree.children += (label,)\n",
    "        return tree\n",
    "\n",
    "f = open(os.path.join(data_folder, region_file_name))\n",
    "json_data = json.load(f)['msg']\n",
    "tree = TreeWidget(json_data)\n",
    "tree"
   ]
  }
 ],
 "metadata": {
  "kernelspec": {
   "display_name": "env",
   "language": "python",
   "name": "python3"
  },
  "language_info": {
   "codemirror_mode": {
    "name": "ipython",
    "version": 3
   },
   "file_extension": ".py",
   "mimetype": "text/x-python",
   "name": "python",
   "nbconvert_exporter": "python",
   "pygments_lexer": "ipython3",
   "version": "3.10.12"
  },
  "vscode": {
   "interpreter": {
    "hash": "65a2a94abf2eb3adb4d28c55c7f89ac02d1645ee89635d66151f00605bd11d84"
   }
  }
 },
 "nbformat": 4,
 "nbformat_minor": 5
}
