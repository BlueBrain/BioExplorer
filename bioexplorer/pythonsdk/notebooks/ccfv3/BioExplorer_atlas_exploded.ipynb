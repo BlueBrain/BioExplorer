{
 "cells": [
  {
   "cell_type": "markdown",
   "id": "f992ef9f",
   "metadata": {},
   "source": [
    "# BioExplorer - CCFv3\n",
    "![](../bioexplorer_ccfv3_banner.png)"
   ]
  },
  {
   "cell_type": "markdown",
   "id": "2b356712",
   "metadata": {},
   "source": [
    "### Connect to back-end"
   ]
  },
  {
   "cell_type": "code",
   "execution_count": null,
   "id": "255fc219",
   "metadata": {},
   "outputs": [],
   "source": [
    "from bioexplorer import BioExplorer, Vector3, MovieMaker\n",
    "from tqdm import tqdm\n",
    "import os\n",
    "\n",
    "url = 'localhost:5000'\n",
    "be = BioExplorer(url)\n",
    "mm = MovieMaker(be)\n",
    "core = be.core_api()\n",
    "\n",
    "cell_radius = 5.0"
   ]
  },
  {
   "cell_type": "markdown",
   "id": "d7c658d2",
   "metadata": {},
   "source": [
    "### Load Atlas"
   ]
  },
  {
   "cell_type": "code",
   "execution_count": null,
   "id": "1ba25401",
   "metadata": {},
   "outputs": [],
   "source": [
    "population_name = 'atlas_ccfv3a_averaged'"
   ]
  },
  {
   "cell_type": "code",
   "execution_count": null,
   "id": "ee9481b3",
   "metadata": {},
   "outputs": [],
   "source": [
    "import os\n",
    "from sqlalchemy import create_engine\n",
    "from sqlalchemy.orm import Session\n",
    "\n",
    "db_host = os.getenv('DB_HOST')\n",
    "db_name = os.getenv('DB_NAME')\n",
    "db_user = os.getenv('DB_USER')\n",
    "db_password = os.getenv('DB_PASSWORD')\n",
    "db_schema = population_name\n",
    "\n",
    "db_connection_string = 'postgresql+psycopg2://%s:%s@%s:5432/%s' % (db_user, db_password, db_host, db_name)\n",
    "print('Connection string: ' + db_connection_string + ', schema: ' + db_schema)\n",
    "\n",
    "engine = create_engine(db_connection_string)\n",
    "conn = engine.connect()"
   ]
  },
  {
   "cell_type": "code",
   "execution_count": null,
   "id": "a1d7bdc6",
   "metadata": {},
   "outputs": [],
   "source": [
    "cerebellum_ids = [\n",
    "       512,      1025,       519,      1033,       528,      1041,      1049,\n",
    "      1056,      1064,      1073,      1091,       846,        91, 589508455,\n",
    "       989,      1143,      1144,      1145,       645,       912,       920,\n",
    "       928,       936,       944,     10672,     10673,     10674,     10675,\n",
    "     10676,     10677,       951,     10680,     10679,     10678,     10681,\n",
    "     10682,       957,     10683,     10687,     10688,     10689,     10690,\n",
    "     10691,     10692,     10684,     10686,       968,       976,     10705,\n",
    "     10706,     10707,     10708,     10709,     10710,     10711,     10712,\n",
    "     10713,       984,     10714,     10715,     10716,     10717,     10718,\n",
    "       992,     10720,     10721,     10722,     10719,     10723,     10724,\n",
    "     10725,     10728,      1001,     10726,     10727,     10729,     10730,\n",
    "     10731,     10733,     10732,     10734,     10737,     10736,     10735,\n",
    "      1007,      1017,     10685\n",
    "]\n",
    "\n",
    "cerebellum_granular_layer_ids = [10675, 10678, 10708, 10711, 10684, 10720, 10723, 10690, 10726, 10705, 10735, 10687, 10681, 10729, 10672, 10732]\n",
    "cerebellum_molecular_layer_ids =  [10677, 10680, 10710, 10713, 10686, 10722, 10725, 10692, 10728, 10707, 10737, 10689, 10683, 10731, 10674, 10734]\n",
    "\n",
    "\n",
    "olfactory_bulb_ids = [507, 212, 228, 236, 244, 220]\n",
    "\n",
    "medula_ids = [\n",
    "      773,       781,      1039,       789,      1048,        45,      1069,\n",
    "      560,       307,        53,       568,        61,       576,       69,\n",
    "      839,      1098,        76,        77,       83,      1107,       852,\n",
    "      859,       607,        96,       354, 589508451,       101,       106,\n",
    "      112,       370,       372,       887,       379,       640,      386,\n",
    "      642,       903,       135,       136,       651,       395,       653,\n",
    "      143,       659,       661,       666,       154,       161,       674,\n",
    "      169,       682,       938,       939,       429,       177,       691,\n",
    "      437,       185,       955,       445,       701,       193,       963,\n",
    "      711,       970,       203,       202,       206,       207,       720,\n",
    "      209,       978,       217,       222,       225,       995,       230,\n",
    "      235,       765, \n",
    "      1557651847\n",
    "]\n",
    "\n",
    "fibers_ids = [960, 1000, 1009, 396, 109, 698]\n",
    "regions_to_ignore = [\n",
    "    1557651848, # Cell excluded from region 1557651847 (x<540)\n",
    "    1024543562, 2358040414, 3263488087, 2416897036,\n",
    "    3034756217, 2165415682, 2614168502, 1842735199,\n",
    "    3101970431, 1140764290, 3092369320, 1811993763]\n",
    "\n",
    "regions_to_add = set(cerebellum_ids + cerebellum_granular_layer_ids + cerebellum_molecular_layer_ids + olfactory_bulb_ids + medula_ids)\n",
    "regions_to_ignore = set(fibers_ids + regions_to_ignore)\n",
    "\n",
    "other_regions_ids = list()\n",
    "with Session(engine) as session:\n",
    "    data = session.execute('SELECT guid FROM %s.region WHERE level>=6' % db_schema)\n",
    "    for d in data.all():\n",
    "        region_id = int(d[0])\n",
    "        if region_id not in regions_to_add and region_id not in regions_to_ignore:\n",
    "          regions_to_add.add(region_id)"
   ]
  },
  {
   "cell_type": "code",
   "execution_count": null,
   "id": "3d1b4bc0",
   "metadata": {},
   "outputs": [],
   "source": [
    "atlas_center = [7075.026185864174,3862.47588645537,5699.969406561653]"
   ]
  },
  {
   "cell_type": "code",
   "execution_count": null,
   "id": "004cb724-f063-4cb1-990b-ee998aae85b0",
   "metadata": {},
   "outputs": [],
   "source": [
    "regions = list()\n",
    "with Session(engine) as session:\n",
    "    data = session.execute('SELECT DISTINCT(region_guid) FROM %s.cell' % population_name)\n",
    "    for d in data.all():\n",
    "        regions.append(int(d[0]))\n",
    "regions = list(set(regions) - set(regions_to_ignore))"
   ]
  },
  {
   "cell_type": "code",
   "execution_count": null,
   "id": "1e1c80f3",
   "metadata": {},
   "outputs": [],
   "source": [
    "status = be.start_model_loading_transaction()\n",
    "status = core.set_application_parameters(image_stream_fps=0)\n",
    "status = be.reset_scene()\n",
    "errors = list()\n",
    "for hemisphere_id in range(2):\n",
    "    for region_id in tqdm(regions):\n",
    "        try:\n",
    "            filter = 'region_guid=%d AND z>%f' % (region_id, atlas_center[2])\n",
    "            if hemisphere_id == 1:\n",
    "                filter = 'region_guid=%d AND z<=%f' % (region_id, atlas_center[2])\n",
    "\n",
    "            atlas_assembly_name = '%d_%d' % (region_id, hemisphere_id)\n",
    "            be.remove_assembly(atlas_assembly_name)\n",
    "            atlas_assembly = be.add_assembly(atlas_assembly_name)\n",
    "            atlas_model = be.add_atlas(\n",
    "                assembly_name=atlas_assembly_name,\n",
    "                population_name=population_name,\n",
    "                load_cells=True, load_meshes=False, cell_radius=cell_radius,\n",
    "                cell_sql_filter=filter\n",
    "            )\n",
    "        except Exception as e:\n",
    "            errors.append(e)\n",
    "status = be.commit_model_loading_transaction()\n",
    "status = core.set_application_parameters(image_stream_fps=20)"
   ]
  },
  {
   "cell_type": "code",
   "execution_count": null,
   "id": "5b2edd2b",
   "metadata": {},
   "outputs": [],
   "source": [
    "region_colors = dict()\n",
    "\n",
    "def hex_to_rgb(value):\n",
    "    value = value.lstrip('#')\n",
    "    lv = len(value)\n",
    "    return tuple(int(value[i:i + lv // 3], 16) / 256.0 for i in range(0, lv, lv // 3))\n",
    "\n",
    "with Session(engine) as session:\n",
    "    data = session.execute('select guid, color_hex_triplet from %s.region' % 'atlas_ccfv3a')\n",
    "    for d in data.all():\n",
    "        region_colors[int(d[0])] = hex_to_rgb(d[1])"
   ]
  },
  {
   "cell_type": "code",
   "execution_count": null,
   "id": "c2d01ab4",
   "metadata": {},
   "outputs": [],
   "source": [
    "model_ids = be.get_model_ids()['ids']\n",
    "for model_id in model_ids:\n",
    "    model_name = be.get_model_name(model_id)['name']\n",
    "    region_id =  int(model_name.split('_')[0])\n",
    "    c = [1, 0, 0] # Error color\n",
    "    if region_id in region_colors:\n",
    "        c = region_colors[region_id]\n",
    "    alpha = 1.0\n",
    "    color = [alpha * c[0], alpha * c[1], alpha * c[2]]\n",
    "\n",
    "    material_ids = be.get_material_ids(model_id)['ids'][:-1]\n",
    "    palette = list()\n",
    "    opacities = list()\n",
    "    shading_modes = list()\n",
    "    specular_exponents = list()\n",
    "    user_params = list()\n",
    "    refraction_indices = list()\n",
    "    glossinesses = list()\n",
    "    reflection_indices = list()\n",
    "    for material_id in material_ids:\n",
    "        opacities.append(1.0)\n",
    "        shading_modes.append(be.shading_mode.NONE)\n",
    "        user_params.append(0.0001)\n",
    "        glossinesses.append(1.0)\n",
    "        specular_exponents.append(5.0)\n",
    "        reflection_indices.append(0.0)\n",
    "        refraction_indices.append(0.95)\n",
    "        palette.append(color)\n",
    "        \n",
    "    be.set_materials(\n",
    "        model_ids=[model_id], material_ids=material_ids,\n",
    "        shading_modes=shading_modes, user_parameters=user_params,\n",
    "        opacities=opacities, specular_exponents=specular_exponents,\n",
    "        reflection_indices=reflection_indices,\n",
    "        refraction_indices=refraction_indices, glossinesses=glossinesses,\n",
    "        diffuse_colors=palette, specular_colors=palette)"
   ]
  },
  {
   "cell_type": "code",
   "execution_count": null,
   "id": "111cb1ac",
   "metadata": {},
   "outputs": [],
   "source": [
    "background_color = [0.0, 0.0, 0.0]\n",
    "status = core.set_renderer(\n",
    "    head_light=True,\n",
    "    current='advanced', background_color=background_color,\n",
    "    subsampling=4, max_accum_frames=128)\n",
    "params = core.AdvancedRendererParams()\n",
    "params.gi_ray_length = 1e6\n",
    "params.shadow_intensity = 1.0\n",
    "params.soft_shadow_strength = 0.5\n",
    "params.main_exposure = 1.5\n",
    "params.max_ray_depth = 1\n",
    "params.epsilon_multiplier = 50.0\n",
    "params.use_hardware_randomizer = True\n",
    "status = core.set_renderer_params(params)"
   ]
  },
  {
   "cell_type": "code",
   "execution_count": null,
   "id": "1b895919",
   "metadata": {},
   "outputs": [],
   "source": [
    "model_ids = be.get_model_ids()['ids']\n",
    "nb_models = len(model_ids)\n",
    "model_center = Vector3()\n",
    "\n",
    "model_bounds = dict()\n",
    "for model_id in model_ids:\n",
    "    bounds = be.get_model_bounds(model_id)\n",
    "    model_bounds[model_id] = bounds\n",
    "    model_center.x += bounds.center.x\n",
    "    model_center.y += bounds.center.y\n",
    "    model_center.z += bounds.center.z\n",
    "model_center.x /= nb_models\n",
    "model_center.y /= nb_models\n",
    "model_center.z /= nb_models"
   ]
  },
  {
   "cell_type": "code",
   "execution_count": 50,
   "id": "1e772f66",
   "metadata": {},
   "outputs": [],
   "source": [
    "def explode(factor, speed):\n",
    "    import math\n",
    "    model_ids = be.get_model_ids()['ids']\n",
    "    status = core.set_renderer(subsampling=64, max_accum_frames=0)\n",
    "    status = core.set_application_parameters(image_stream_fps=0)\n",
    "    for model_id in model_ids:\n",
    "        aabb = model_bounds[model_id]\n",
    "\n",
    "        normal = Vector3(aabb.center.x - model_center.x, aabb.center.y - model_center.y, aabb.center.z - model_center.z)\n",
    "        length = math.sqrt(normal.x*normal.x + normal.y*normal.y + normal.z*normal.z)\n",
    "        normal.x /= length\n",
    "        normal.y /= length\n",
    "        normal.z /= length\n",
    "\n",
    "        transformation={\n",
    "            'rotation': [0.0, 0.0, 0.0, 1.0],\n",
    "            'rotation_center': [0.0, 0.0, 0.0],\n",
    "            'scale': [1.0, 1.0, 1.0],\n",
    "            'translation': [\n",
    "                normal.x * speed * factor, \n",
    "                normal.y * speed * factor,\n",
    "                normal.z * speed * factor\n",
    "            ]\n",
    "        }\n",
    "        core.update_model(model_id, transformation=transformation)\n",
    "    status = core.set_renderer(subsampling=4, max_accum_frames=64)\n",
    "    status = core.set_application_parameters(image_stream_fps=20)    "
   ]
  },
  {
   "cell_type": "code",
   "execution_count": null,
   "id": "dbffd507",
   "metadata": {},
   "outputs": [],
   "source": [
    "core.set_camera(\n",
    "    orientation=[0.8744458160476791, 0.09151682620478456, -0.401564627390352, 0.25634943991934056],\n",
    "    position=[-2565.3701241987646, -2607.8377454106976, -1731.3329308640486],\n",
    "    target=[6733.589672442965, 4796.273454159725, 6016.635720470601],\n",
    "    current='perspective'\n",
    ")"
   ]
  },
  {
   "cell_type": "code",
   "execution_count": 47,
   "id": "a6cc0dad",
   "metadata": {},
   "outputs": [],
   "source": [
    "output_folder = '/scratch/videos/atlas/%s/explosion/v1' % population_name\n",
    "os.makedirs(output_folder, exist_ok=True)\n",
    "k = 4\n",
    "spp = 64\n",
    "image_size = [k*960, k*540]"
   ]
  },
  {
   "cell_type": "code",
   "execution_count": 48,
   "id": "ba096983",
   "metadata": {},
   "outputs": [],
   "source": [
    "camera_keys = [\n",
    "    {\n",
    "        'apertureRadius': 0.0,\n",
    "        'direction': [0.0, 1.0, 0.0],\n",
    "        'focalDistance': 1.0,\n",
    "        'origin': [7075.004011154174, -8914.854648733952, 5699.994689941412],\n",
    "        'up': [0.0, 0.0, 1.0]\n",
    "    }\n",
    "    ,\n",
    "    {\n",
    "        'apertureRadius': 0.0,\n",
    "        'direction': [0.0, 1.0, 0.0],\n",
    "        'focalDistance': 9834.88625865745,\n",
    "        'origin': [6771.526760062025, -27624.77339430373, 5775.864168719532],\n",
    "        'up': [0.0, 0.0, 1.0]\n",
    "    }    \n",
    "]"
   ]
  },
  {
   "cell_type": "code",
   "execution_count": 51,
   "id": "5f0cc4b6",
   "metadata": {},
   "outputs": [
    {
     "name": "stderr",
     "output_type": "stream",
     "text": [
      " 89%|█████████████████████████████████████████████████████████████████████████████████████████████████████████████████████████████████▏               | 90/101 [16:25:23<2:00:26, 656.93s/it]\n"
     ]
    },
    {
     "ename": "RequestError",
     "evalue": "Socket connection closed",
     "output_type": "error",
     "traceback": [
      "\u001b[0;31m---------------------------------------------------------------------------\u001b[0m",
      "\u001b[0;31mRequestError\u001b[0m                              Traceback (most recent call last)",
      "Cell \u001b[0;32mIn[51], line 6\u001b[0m\n\u001b[1;32m      4\u001b[0m factor \u001b[38;5;241m=\u001b[39m \u001b[38;5;28mfloat\u001b[39m(frame) \u001b[38;5;241m/\u001b[39m \u001b[38;5;28mfloat\u001b[39m(nb_frames)\n\u001b[1;32m      5\u001b[0m mm\u001b[38;5;241m.\u001b[39mset_current_frame(frame)\n\u001b[0;32m----> 6\u001b[0m \u001b[43mexplode\u001b[49m\u001b[43m(\u001b[49m\u001b[43mfactor\u001b[49m\u001b[43m,\u001b[49m\u001b[43m \u001b[49m\u001b[38;5;241;43m10000\u001b[39;49m\u001b[43m)\u001b[49m\n\u001b[1;32m      7\u001b[0m mm\u001b[38;5;241m.\u001b[39mcreate_snapshot(\n\u001b[1;32m      8\u001b[0m     renderer\u001b[38;5;241m=\u001b[39m\u001b[38;5;124m'\u001b[39m\u001b[38;5;124madvanced\u001b[39m\u001b[38;5;124m'\u001b[39m, path\u001b[38;5;241m=\u001b[39moutput_folder,\n\u001b[1;32m      9\u001b[0m     base_name\u001b[38;5;241m=\u001b[39m\u001b[38;5;124m'\u001b[39m\u001b[38;5;132;01m%05d\u001b[39;00m\u001b[38;5;124m'\u001b[39m \u001b[38;5;241m%\u001b[39m frame,\n\u001b[1;32m     10\u001b[0m     size\u001b[38;5;241m=\u001b[39mimage_size, samples_per_pixel\u001b[38;5;241m=\u001b[39mspp)\n",
      "Cell \u001b[0;32mIn[50], line 25\u001b[0m, in \u001b[0;36mexplode\u001b[0;34m(factor, speed)\u001b[0m\n\u001b[1;32m     13\u001b[0m     normal\u001b[38;5;241m.\u001b[39mz \u001b[38;5;241m/\u001b[39m\u001b[38;5;241m=\u001b[39m length\n\u001b[1;32m     15\u001b[0m     transformation\u001b[38;5;241m=\u001b[39m{\n\u001b[1;32m     16\u001b[0m         \u001b[38;5;124m'\u001b[39m\u001b[38;5;124mrotation\u001b[39m\u001b[38;5;124m'\u001b[39m: [\u001b[38;5;241m0.0\u001b[39m, \u001b[38;5;241m0.0\u001b[39m, \u001b[38;5;241m0.0\u001b[39m, \u001b[38;5;241m1.0\u001b[39m],\n\u001b[1;32m     17\u001b[0m         \u001b[38;5;124m'\u001b[39m\u001b[38;5;124mrotation_center\u001b[39m\u001b[38;5;124m'\u001b[39m: [\u001b[38;5;241m0.0\u001b[39m, \u001b[38;5;241m0.0\u001b[39m, \u001b[38;5;241m0.0\u001b[39m],\n\u001b[0;32m   (...)\u001b[0m\n\u001b[1;32m     23\u001b[0m         ]\n\u001b[1;32m     24\u001b[0m     }\n\u001b[0;32m---> 25\u001b[0m     \u001b[43mcore\u001b[49m\u001b[38;5;241;43m.\u001b[39;49m\u001b[43mupdate_model\u001b[49m\u001b[43m(\u001b[49m\u001b[43mmodel_id\u001b[49m\u001b[43m,\u001b[49m\u001b[43m \u001b[49m\u001b[43mtransformation\u001b[49m\u001b[38;5;241;43m=\u001b[39;49m\u001b[43mtransformation\u001b[49m\u001b[43m)\u001b[49m\n\u001b[1;32m     26\u001b[0m status \u001b[38;5;241m=\u001b[39m core\u001b[38;5;241m.\u001b[39mset_renderer(subsampling\u001b[38;5;241m=\u001b[39m\u001b[38;5;241m4\u001b[39m, max_accum_frames\u001b[38;5;241m=\u001b[39m\u001b[38;5;241m64\u001b[39m)\n\u001b[1;32m     27\u001b[0m status \u001b[38;5;241m=\u001b[39m core\u001b[38;5;241m.\u001b[39mset_application_parameters(image_stream_fps\u001b[38;5;241m=\u001b[39m\u001b[38;5;241m20\u001b[39m)\n",
      "File \u001b[0;32m~/Notebooks/env/lib/python3.10/site-packages/bioexplorer/core/utils.py:193\u001b[0m, in \u001b[0;36madd_method.<locals>._decorator.<locals>._wrapper\u001b[0;34m(self, *args, **kwargs)\u001b[0m\n\u001b[1;32m    191\u001b[0m \u001b[38;5;129m@wraps\u001b[39m(func)\n\u001b[1;32m    192\u001b[0m \u001b[38;5;28;01mdef\u001b[39;00m \u001b[38;5;21m_wrapper\u001b[39m(\u001b[38;5;28mself\u001b[39m, \u001b[38;5;241m*\u001b[39margs, \u001b[38;5;241m*\u001b[39m\u001b[38;5;241m*\u001b[39mkwargs):\n\u001b[0;32m--> 193\u001b[0m     \u001b[38;5;28;01mreturn\u001b[39;00m \u001b[43mfunc\u001b[49m\u001b[43m(\u001b[49m\u001b[38;5;28;43mself\u001b[39;49m\u001b[43m,\u001b[49m\u001b[43m \u001b[49m\u001b[38;5;241;43m*\u001b[39;49m\u001b[43margs\u001b[49m\u001b[43m,\u001b[49m\u001b[43m \u001b[49m\u001b[38;5;241;43m*\u001b[39;49m\u001b[38;5;241;43m*\u001b[39;49m\u001b[43mkwargs\u001b[49m\u001b[43m)\u001b[49m\n",
      "File \u001b[0;32m~/Notebooks/env/lib/python3.10/site-packages/bioexplorer/core/utils.py:211\u001b[0m, in \u001b[0;36madd_progress_cancel_widget.<locals>._wrapper\u001b[0;34m(self, *args, **kwargs)\u001b[0m\n\u001b[1;32m    209\u001b[0m \u001b[38;5;129m@wraps\u001b[39m(func)\n\u001b[1;32m    210\u001b[0m \u001b[38;5;28;01mdef\u001b[39;00m \u001b[38;5;21m_wrapper\u001b[39m(\u001b[38;5;28mself\u001b[39m, \u001b[38;5;241m*\u001b[39margs, \u001b[38;5;241m*\u001b[39m\u001b[38;5;241m*\u001b[39mkwargs):  \u001b[38;5;66;03m# pylint: disable=too-many-locals\u001b[39;00m\n\u001b[0;32m--> 211\u001b[0m     result \u001b[38;5;241m=\u001b[39m \u001b[43mfunc\u001b[49m\u001b[43m(\u001b[49m\u001b[38;5;28;43mself\u001b[39;49m\u001b[43m,\u001b[49m\u001b[43m \u001b[49m\u001b[38;5;241;43m*\u001b[39;49m\u001b[43margs\u001b[49m\u001b[43m,\u001b[49m\u001b[43m \u001b[49m\u001b[38;5;241;43m*\u001b[39;49m\u001b[38;5;241;43m*\u001b[39;49m\u001b[43mkwargs\u001b[49m\u001b[43m)\u001b[49m\n\u001b[1;32m    213\u001b[0m     \u001b[38;5;28;01mif\u001b[39;00m \u001b[38;5;28misinstance\u001b[39m(result, rockets\u001b[38;5;241m.\u001b[39mRequestTask) \u001b[38;5;129;01mand\u001b[39;00m in_notebook():\n\u001b[1;32m    214\u001b[0m         progress \u001b[38;5;241m=\u001b[39m FloatProgress(\u001b[38;5;28mmin\u001b[39m\u001b[38;5;241m=\u001b[39m\u001b[38;5;241m0\u001b[39m, \u001b[38;5;28mmax\u001b[39m\u001b[38;5;241m=\u001b[39m\u001b[38;5;241m1\u001b[39m, value\u001b[38;5;241m=\u001b[39m\u001b[38;5;241m0\u001b[39m)\n",
      "File \u001b[0;32m<string>:4\u001b[0m, in \u001b[0;36mfunction\u001b[0;34m(self, id, bounding_box, bounds, metadata, name, path, transformation, visible, response_timeout)\u001b[0m\n",
      "File \u001b[0;32m~/Notebooks/env/lib/python3.10/site-packages/rockets/client.py:100\u001b[0m, in \u001b[0;36mClient.request\u001b[0;34m(self, method, params, response_timeout)\u001b[0m\n\u001b[1;32m     92\u001b[0m \u001b[38;5;129m@copydoc\u001b[39m(AsyncClient\u001b[38;5;241m.\u001b[39mrequest)\n\u001b[1;32m     93\u001b[0m \u001b[38;5;28;01mdef\u001b[39;00m \u001b[38;5;21mrequest\u001b[39m(\n\u001b[1;32m     94\u001b[0m     \u001b[38;5;28mself\u001b[39m, method, params\u001b[38;5;241m=\u001b[39m\u001b[38;5;28;01mNone\u001b[39;00m, response_timeout\u001b[38;5;241m=\u001b[39m\u001b[38;5;28;01mNone\u001b[39;00m\n\u001b[1;32m     95\u001b[0m ):  \u001b[38;5;66;03m# noqa: D102,D205 pylint: disable=C0111,W9011,W9012,W9015,W9016\u001b[39;00m\n\u001b[1;32m     96\u001b[0m \u001b[38;5;250m    \u001b[39m\u001b[38;5;124;03m\"\"\"\u001b[39;00m\n\u001b[1;32m     97\u001b[0m \u001b[38;5;124;03m    :param int response_timeout: number of seconds to wait for the response\u001b[39;00m\n\u001b[1;32m     98\u001b[0m \u001b[38;5;124;03m    :raises TimeoutError: if request was not answered within given response_timeout\u001b[39;00m\n\u001b[1;32m     99\u001b[0m \u001b[38;5;124;03m    \"\"\"\u001b[39;00m\n\u001b[0;32m--> 100\u001b[0m     \u001b[38;5;28;01mreturn\u001b[39;00m \u001b[38;5;28;43mself\u001b[39;49m\u001b[38;5;241;43m.\u001b[39;49m\u001b[43m_call_sync\u001b[49m\u001b[43m(\u001b[49m\u001b[38;5;28;43mself\u001b[39;49m\u001b[38;5;241;43m.\u001b[39;49m\u001b[43m_client\u001b[49m\u001b[38;5;241;43m.\u001b[39;49m\u001b[43mrequest\u001b[49m\u001b[43m(\u001b[49m\u001b[43mmethod\u001b[49m\u001b[43m,\u001b[49m\u001b[43m \u001b[49m\u001b[43mparams\u001b[49m\u001b[43m)\u001b[49m\u001b[43m,\u001b[49m\u001b[43m \u001b[49m\u001b[43mresponse_timeout\u001b[49m\u001b[43m)\u001b[49m\n",
      "File \u001b[0;32m~/Notebooks/env/lib/python3.10/site-packages/rockets/client.py:119\u001b[0m, in \u001b[0;36mClient._call_sync\u001b[0;34m(self, original_function, response_timeout)\u001b[0m\n\u001b[1;32m    115\u001b[0m \u001b[38;5;28;01mif\u001b[39;00m \u001b[38;5;28mself\u001b[39m\u001b[38;5;241m.\u001b[39m_thread:\n\u001b[1;32m    116\u001b[0m     future \u001b[38;5;241m=\u001b[39m asyncio\u001b[38;5;241m.\u001b[39mrun_coroutine_threadsafe(\n\u001b[1;32m    117\u001b[0m         original_function, \u001b[38;5;28mself\u001b[39m\u001b[38;5;241m.\u001b[39m_client\u001b[38;5;241m.\u001b[39mloop\n\u001b[1;32m    118\u001b[0m     )\n\u001b[0;32m--> 119\u001b[0m     \u001b[38;5;28;01mreturn\u001b[39;00m \u001b[43mfuture\u001b[49m\u001b[38;5;241;43m.\u001b[39;49m\u001b[43mresult\u001b[49m\u001b[43m(\u001b[49m\u001b[43mresponse_timeout\u001b[49m\u001b[43m)\u001b[49m\n\u001b[1;32m    120\u001b[0m \u001b[38;5;28;01mreturn\u001b[39;00m \u001b[38;5;28mself\u001b[39m\u001b[38;5;241m.\u001b[39m_client\u001b[38;5;241m.\u001b[39mloop\u001b[38;5;241m.\u001b[39mrun_until_complete(original_function)\n",
      "File \u001b[0;32m/usr/lib/python3.10/concurrent/futures/_base.py:458\u001b[0m, in \u001b[0;36mFuture.result\u001b[0;34m(self, timeout)\u001b[0m\n\u001b[1;32m    456\u001b[0m     \u001b[38;5;28;01mraise\u001b[39;00m CancelledError()\n\u001b[1;32m    457\u001b[0m \u001b[38;5;28;01melif\u001b[39;00m \u001b[38;5;28mself\u001b[39m\u001b[38;5;241m.\u001b[39m_state \u001b[38;5;241m==\u001b[39m FINISHED:\n\u001b[0;32m--> 458\u001b[0m     \u001b[38;5;28;01mreturn\u001b[39;00m \u001b[38;5;28;43mself\u001b[39;49m\u001b[38;5;241;43m.\u001b[39;49m\u001b[43m__get_result\u001b[49m\u001b[43m(\u001b[49m\u001b[43m)\u001b[49m\n\u001b[1;32m    459\u001b[0m \u001b[38;5;28;01melse\u001b[39;00m:\n\u001b[1;32m    460\u001b[0m     \u001b[38;5;28;01mraise\u001b[39;00m \u001b[38;5;167;01mTimeoutError\u001b[39;00m()\n",
      "File \u001b[0;32m/usr/lib/python3.10/concurrent/futures/_base.py:403\u001b[0m, in \u001b[0;36mFuture.__get_result\u001b[0;34m(self)\u001b[0m\n\u001b[1;32m    401\u001b[0m \u001b[38;5;28;01mif\u001b[39;00m \u001b[38;5;28mself\u001b[39m\u001b[38;5;241m.\u001b[39m_exception:\n\u001b[1;32m    402\u001b[0m     \u001b[38;5;28;01mtry\u001b[39;00m:\n\u001b[0;32m--> 403\u001b[0m         \u001b[38;5;28;01mraise\u001b[39;00m \u001b[38;5;28mself\u001b[39m\u001b[38;5;241m.\u001b[39m_exception\n\u001b[1;32m    404\u001b[0m     \u001b[38;5;28;01mfinally\u001b[39;00m:\n\u001b[1;32m    405\u001b[0m         \u001b[38;5;66;03m# Break a reference cycle with the exception in self._exception\u001b[39;00m\n\u001b[1;32m    406\u001b[0m         \u001b[38;5;28mself\u001b[39m \u001b[38;5;241m=\u001b[39m \u001b[38;5;28;01mNone\u001b[39;00m\n",
      "File \u001b[0;32m~/Notebooks/env/lib/python3.10/site-packages/rockets/async_client.py:171\u001b[0m, in \u001b[0;36mAsyncClient.request\u001b[0;34m(self, method, params)\u001b[0m\n\u001b[1;32m    168\u001b[0m     \u001b[38;5;28mself\u001b[39m\u001b[38;5;241m.\u001b[39m_setup_progress_filter(response_future, request_id)\n\u001b[1;32m    170\u001b[0m     \u001b[38;5;28;01mawait\u001b[39;00m \u001b[38;5;28mself\u001b[39m\u001b[38;5;241m.\u001b[39msend(request\u001b[38;5;241m.\u001b[39mjson)\n\u001b[0;32m--> 171\u001b[0m     \u001b[38;5;28;01mawait\u001b[39;00m response_future\n\u001b[1;32m    172\u001b[0m     \u001b[38;5;28;01mreturn\u001b[39;00m response_future\u001b[38;5;241m.\u001b[39mresult()\n\u001b[1;32m    173\u001b[0m \u001b[38;5;28;01mexcept\u001b[39;00m asyncio\u001b[38;5;241m.\u001b[39mCancelledError:\n",
      "\u001b[0;31mRequestError\u001b[0m: Socket connection closed"
     ]
    }
   ],
   "source": [
    "mm.build_camera_path(camera_keys, 100, 1)\n",
    "nb_frames = mm.get_nb_frames()\n",
    "for frame in tqdm(range(nb_frames)):\n",
    "    factor = float(frame) / float(nb_frames)\n",
    "    mm.set_current_frame(frame)\n",
    "    explode(factor, 10000)\n",
    "    mm.create_snapshot(\n",
    "        renderer='advanced', path=output_folder,\n",
    "        base_name='%05d' % frame,\n",
    "        size=image_size, samples_per_pixel=spp)"
   ]
  },
  {
   "cell_type": "code",
   "execution_count": null,
   "id": "dab567c1-c758-488b-9c45-cbb6749788ab",
   "metadata": {},
   "outputs": [],
   "source": []
  }
 ],
 "metadata": {
  "interpreter": {
   "hash": "ea9a5fa46eb6bad2806a8ea1d08e15bb1e255a2d4320b81e765591579963c56b"
  },
  "kernelspec": {
   "display_name": "Python 3 (ipykernel)",
   "language": "python",
   "name": "python3"
  },
  "language_info": {
   "codemirror_mode": {
    "name": "ipython",
    "version": 3
   },
   "file_extension": ".py",
   "mimetype": "text/x-python",
   "name": "python",
   "nbconvert_exporter": "python",
   "pygments_lexer": "ipython3",
   "version": "3.10.12"
  }
 },
 "nbformat": 4,
 "nbformat_minor": 5
}
