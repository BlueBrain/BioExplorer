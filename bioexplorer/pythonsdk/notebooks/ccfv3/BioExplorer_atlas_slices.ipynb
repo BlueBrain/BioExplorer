{
 "cells": [
  {
   "cell_type": "markdown",
   "id": "f992ef9f",
   "metadata": {},
   "source": [
    "# BioExplorer - CCFv3\n",
    "![](../bioexplorer_ccfv3_banner.png)"
   ]
  },
  {
   "cell_type": "markdown",
   "id": "d2ce7887",
   "metadata": {},
   "source": [
    "### Connect to back-end"
   ]
  },
  {
   "cell_type": "code",
   "execution_count": null,
   "id": "255fc219",
   "metadata": {},
   "outputs": [],
   "source": [
    "from bioexplorer import BioExplorer, Vector3, MovieMaker\n",
    "from tqdm import tqdm\n",
    "\n",
    "url = 'localhost:5000'\n",
    "be = BioExplorer(url)\n",
    "mm = MovieMaker(be)\n",
    "core = be.core_api()\n",
    "\n",
    "load_cells = True\n",
    "load_meshes = False\n",
    "cell_radius = 5.0 # Micrometters"
   ]
  },
  {
   "cell_type": "markdown",
   "id": "d7c658d2",
   "metadata": {},
   "source": [
    "### Load Atlas"
   ]
  },
  {
   "cell_type": "code",
   "execution_count": null,
   "id": "cd5c7162",
   "metadata": {},
   "outputs": [],
   "source": [
    "population_name = 'atlas_ccfv3a_averaged'"
   ]
  },
  {
   "cell_type": "code",
   "execution_count": null,
   "id": "00fb153b",
   "metadata": {},
   "outputs": [],
   "source": [
    "status = be.reset_scene()\n",
    "atlas_center = [7075.026185864174,3862.47588645537,5699.969406561653]"
   ]
  },
  {
   "cell_type": "code",
   "execution_count": null,
   "id": "9396d113",
   "metadata": {},
   "outputs": [],
   "source": [
    "cerebellum_ids = [\n",
    "       512,      1025,       519,      1033,       528,      1041,      1049,\n",
    "      1056,      1064,      1073,      1091,       846,        91, 589508455,\n",
    "       989,      1143,      1144,      1145,       645,       912,       920,\n",
    "       928,       936,       944,     10672,     10673,     10674,     10675,\n",
    "     10676,     10677,       951,     10680,     10679,     10678,     10681,\n",
    "     10682,       957,     10683,     10687,     10688,     10689,     10690,\n",
    "     10691,     10692,     10684,     10686,       968,       976,     10705,\n",
    "     10706,     10707,     10708,     10709,     10710,     10711,     10712,\n",
    "     10713,       984,     10714,     10715,     10716,     10717,     10718,\n",
    "       992,     10720,     10721,     10722,     10719,     10723,     10724,\n",
    "     10725,     10728,      1001,     10726,     10727,     10729,     10730,\n",
    "     10731,     10733,     10732,     10734,     10737,     10736,     10735,\n",
    "      1007,      1017,     10685\n",
    "]\n",
    "cerebellum_granular_layer_ids = [10675, 10678, 10708, 10711, 10684, 10720, 10723, 10690, 10726, 10705, 10735, 10687, 10681, 10729, 10672, 10732]\n",
    "cerebellum_molecular_layer_ids =  [10677, 10680, 10710, 10713, 10686, 10722, 10725, 10692, 10728, 10707, 10737, 10689, 10683, 10731, 10674, 10734]\n",
    "\n",
    "olfactory_bulb_ids = [507, 212, 228, 236, 244, 220]\n",
    "\n",
    "medula_ids = [\n",
    "      773,       781,      1039,       789,      1048,        45,      1069,\n",
    "      560,       307,        53,       568,        61,       576,       69,\n",
    "      839,      1098,        76,        77,       83,      1107,       852,\n",
    "      859,       607,        96,       354, 589508451,       101,       106,\n",
    "      112,       370,       372,       887,       379,       640,      386,\n",
    "      642,       903,       135,       136,       651,       395,       653,\n",
    "      143,       659,       661,       666,       154,       161,       674,\n",
    "      169,       682,       938,       939,       429,       177,       691,\n",
    "      437,       185,       955,       445,       701,       193,       963,\n",
    "      711,       970,       203,       202,       206,       207,       720,\n",
    "      209,       978,       217,       222,       225,       995,       230,\n",
    "      235,       765\n",
    "]\n",
    "\n",
    "fibers_ids = [960, 1000, 1009, 396, 109, 698]\n",
    "regions_to_ignore = [\n",
    "    1557651848, # Cell excluded from region 1557651847 (x<540)\n",
    "    1024543562, 2358040414, 3263488087, 2416897036,\n",
    "    3034756217, 2165415682, 2614168502, 1842735199,\n",
    "    3101970431, 1140764290, 3092369320, 1811993763]\n",
    "ignore_filter = str(fibers_ids + regions_to_ignore).replace('[','').replace(']','')"
   ]
  },
  {
   "cell_type": "code",
   "execution_count": null,
   "id": "8bfd696b",
   "metadata": {},
   "outputs": [],
   "source": [
    "for x in range(2):\n",
    "    for y in range(2):\n",
    "        for z in range(2):\n",
    "            filter = '('\n",
    "            if x == 0:\n",
    "                filter += 'x>7075'\n",
    "            else:\n",
    "                filter += 'x<=7075'\n",
    "            filter += ' AND '\n",
    "            if y == 0:\n",
    "                filter += 'y>3862'\n",
    "            else:\n",
    "                filter += 'y<=3862'\n",
    "            filter += ' AND '\n",
    "            if z == 0:\n",
    "                filter += 'z>5699'\n",
    "            else:\n",
    "                filter += 'z<=5699'\n",
    "            filter += ')'\n",
    "            atlas_assembly_name = filter\n",
    "            be.remove_assembly(atlas_assembly_name)\n",
    "            atlas_assembly = be.add_assembly(atlas_assembly_name)\n",
    "            atlas_model = be.add_atlas(\n",
    "                assembly_name=atlas_assembly_name,\n",
    "                population_name=population_name,\n",
    "                load_cells=load_cells, load_meshes=load_meshes, cell_radius=cell_radius,\n",
    "                cell_sql_filter='%s AND region_guid IN (SELECT guid FROM %s.region WHERE guid NOT IN (%s))' % (filter, population_name, ignore_filter),\n",
    "            )"
   ]
  },
  {
   "cell_type": "code",
   "execution_count": null,
   "id": "1ec752d8",
   "metadata": {},
   "outputs": [],
   "source": [
    "import os\n",
    "from sqlalchemy import create_engine\n",
    "from sqlalchemy.orm import Session\n",
    "\n",
    "db_host = os.getenv('DB_HOST')\n",
    "db_name = os.getenv('DB_NAME')\n",
    "db_user = os.getenv('DB_USER')\n",
    "db_password = os.getenv('DB_PASSWORD')\n",
    "\n",
    "db_connection_string = 'postgresql+psycopg2://%s:%s@%s:5432/%s' % (db_user, db_password, db_host, db_name)\n",
    "print('Connection string: ' + db_connection_string)\n",
    "\n",
    "engine = create_engine(db_connection_string)\n",
    "conn = engine.connect()"
   ]
  },
  {
   "cell_type": "code",
   "execution_count": null,
   "id": "d05be2f4",
   "metadata": {},
   "outputs": [],
   "source": [
    "region_colors = dict()\n",
    "\n",
    "def hex_to_rgb(value):\n",
    "    value = value.lstrip('#')\n",
    "    lv = len(value)\n",
    "    return tuple(int(value[i:i + lv // 3], 16) / 256.0 for i in range(0, lv, lv // 3))\n",
    "\n",
    "with Session(engine) as session:\n",
    "    data = session.execute('select guid, color_hex_triplet from %s.region' % 'atlas_ccfv3a')\n",
    "    for d in data.all():\n",
    "        region_colors[int(d[0])] = hex_to_rgb(d[1])"
   ]
  },
  {
   "cell_type": "code",
   "execution_count": null,
   "id": "5b2edd2b",
   "metadata": {},
   "outputs": [],
   "source": [
    "model_ids = be.get_model_ids()['ids']\n",
    "for model_id in model_ids:\n",
    "    k = 0\n",
    "    material_ids = be.get_material_ids(model_id)['ids']\n",
    "    palette = list()\n",
    "    opacities = list()\n",
    "    shading_modes = list()\n",
    "    specular_exponents = list()\n",
    "    refraction_indices = list()\n",
    "    glossinesses = list()\n",
    "    for material_id in material_ids:\n",
    "        c = [1, 0, 0]\n",
    "        m_id = material_id\n",
    "        if m_id in region_colors:\n",
    "            c = region_colors[m_id]\n",
    "        alpha = [1.0, 1.0, 1.0]\n",
    "\n",
    "        if material_id in olfactory_bulb_ids:\n",
    "            value = 0.5 * float(k) / float(len(olfactory_bulb_ids))\n",
    "            alpha[0] -= value\n",
    "            alpha[1] -= value\n",
    "            alpha[2] -= value\n",
    "            k += 1\n",
    "\n",
    "        shading_modes.append(be.shading_mode.NONE)\n",
    "        glossinesses.append(1.0)\n",
    "        specular_exponents.append(50.0)\n",
    "        palette.append([alpha[0] * c[0], alpha[1] * c[1], alpha[2] * c[2]])\n",
    "        \n",
    "    be.set_materials(\n",
    "        model_ids=[model_id], material_ids=material_ids,\n",
    "        shading_modes=shading_modes, \n",
    "        opacities=opacities, specular_exponents=specular_exponents,\n",
    "        refraction_indices=refraction_indices, glossinesses=glossinesses,\n",
    "        diffuse_colors=palette, specular_colors=palette)"
   ]
  },
  {
   "cell_type": "code",
   "execution_count": null,
   "id": "111cb1ac",
   "metadata": {},
   "outputs": [],
   "source": [
    "background_color = [0.0, 0.0, 0.0]\n",
    "status = core.set_renderer(\n",
    "    head_light=True,\n",
    "    current='advanced', background_color=background_color,\n",
    "    subsampling=4, max_accum_frames=128)\n",
    "params = core.AdvancedRendererParams()\n",
    "params.gi_ray_length = 1e6\n",
    "params.shadow_intensity = 1.0\n",
    "params.soft_shadow_strength = 0.5\n",
    "params.main_exposure = 1.5\n",
    "params.max_ray_depth = 1\n",
    "params.epsilon_multiplier = 50.0\n",
    "params.use_hardware_randomizer = True\n",
    "status = core.set_renderer_params(params)"
   ]
  },
  {
   "cell_type": "code",
   "execution_count": null,
   "id": "d13f9bb5",
   "metadata": {},
   "outputs": [],
   "source": [
    "status = core.set_renderer(\n",
    "    head_light=False,\n",
    "    current='ambient_occlusion', background_color=[0,0,0],\n",
    "    subsampling=4, max_accum_frames=128)\n",
    "params = core.AmbientOcclusionRendererParams()\n",
    "params.gi_ray_length = 1000\n",
    "params.gi_samples = 1\n",
    "params.max_ray_depth = 1\n",
    "params.use_hardware_randomizer = True\n",
    "status = core.set_renderer_params(params)"
   ]
  },
  {
   "cell_type": "code",
   "execution_count": null,
   "id": "dbffd507",
   "metadata": {},
   "outputs": [],
   "source": [
    "core.set_camera(\n",
    "    current='perspective',\n",
    "    orientation=[0.8744458160476791, 0.09151682620478456, -0.401564627390352, 0.25634943991934056],\n",
    "    position=[-2565.3701241987646, -2607.8377454106976, -1731.3329308640486],\n",
    "    target=[6733.589672442965, 4796.273454159725, 6016.635720470601],\n",
    ")"
   ]
  },
  {
   "cell_type": "markdown",
   "id": "273efd4d",
   "metadata": {},
   "source": [
    "## Snapshots"
   ]
  },
  {
   "cell_type": "code",
   "execution_count": null,
   "id": "1beadb37",
   "metadata": {},
   "outputs": [],
   "source": [
    "import os\n",
    "output_folder = '/scratch/images/atlas/%s' % population_name\n",
    "os.makedirs(output_folder, exist_ok=True)\n",
    "k = 4\n",
    "spp = 64"
   ]
  },
  {
   "cell_type": "code",
   "execution_count": null,
   "id": "cc60f45f",
   "metadata": {},
   "outputs": [],
   "source": [
    "cameras = [\n",
    "    [\n",
    "        [0.8744458160476791, 0.09151682620478456, -0.401564627390352, 0.25634943991934056],\n",
    "        [-2565.3701241987646, -2607.8377454106976, -1731.3329308640486],\n",
    "        [6733.589672442965, 4796.273454159725, 6016.635720470601],\n",
    "        'perspective'\n",
    "    ]\n",
    "    ,\n",
    "    [\n",
    "        [0.8744458160476791, 0.09151682620478456, -0.401564627390352, 0.25634943991934056],\n",
    "        [-2565.3701241987646, -2607.8377454106976, -1731.3329308640486],\n",
    "        [6733.589672442965, 4796.273454159725, 6016.635720470601],\n",
    "        'orthographic'\n",
    "    ]\n",
    "    ,\n",
    "    [\n",
    "        [0.7071067811865474, 0.0, 0.0, 0.7071067811865477],\n",
    "        [7037.267621994019, -6075.033398596237, 5699.9692382812555],\n",
    "        [7037.267621994019, 3812.2357177734375, 5699.96923828125],        \n",
    "        'orthographic'\n",
    "    ]\n",
    "]\n",
    "\n",
    "params = core.OrthographicCameraParams()\n",
    "params.height = 12000\n",
    "status = core.set_camera_params(params)"
   ]
  },
  {
   "cell_type": "code",
   "execution_count": null,
   "id": "5ad89941",
   "metadata": {},
   "outputs": [],
   "source": [
    "def show_models(visible_ids):\n",
    "    model_ids = be.get_model_ids()['ids']\n",
    "    i = 0\n",
    "    for model_id in model_ids:\n",
    "        visible = (visible_ids[i] == 1)\n",
    "        core.update_model(model_id, visible=visible)\n",
    "        i += 1"
   ]
  },
  {
   "cell_type": "code",
   "execution_count": null,
   "id": "d408145f",
   "metadata": {},
   "outputs": [],
   "source": [
    "models_to_show = [\n",
    "    [1, 1, 1, 1, 1, 1, 1, 1],\n",
    "    [1, 1, 1, 1, 0, 0, 0, 0],\n",
    "    [1, 1, 1, 1, 1, 1, 0, 0],\n",
    "    [1, 1, 1, 1, 1, 1, 1, 0],\n",
    "    [1, 1, 1, 0, 1, 1, 1, 0],\n",
    "    [1, 1, 0, 0, 1, 1, 0, 0],\n",
    "]\n",
    "\n",
    "version = 0\n",
    "for camera in cameras:\n",
    "    core.set_camera(\n",
    "        current=camera[3],\n",
    "        orientation=camera[0], position=camera[1], target=camera[2]\n",
    "    )\n",
    "    for mts in models_to_show:\n",
    "        show_models(mts)\n",
    "        mm.create_snapshot(\n",
    "            renderer='advanced',\n",
    "            path=output_folder, base_name='%s_radius_%dnm_%s_set1_%03d' % (population_name, cell_radius * 1000, camera[3], version),\n",
    "            size=[k * 960, k * 540],\n",
    "            samples_per_pixel=128)\n",
    "        mm.create_snapshot(\n",
    "            renderer='ambient_occlusion',\n",
    "            path=output_folder, base_name='%s_bw_radius_%dnm_%s_set1_%03d' % (population_name, cell_radius * 1000, camera[3], version),\n",
    "            size=[k * 960, k * 540],\n",
    "            samples_per_pixel=128)\n",
    "        version += 1"
   ]
  },
  {
   "cell_type": "markdown",
   "id": "75d6bda1",
   "metadata": {},
   "source": [
    "### Set 2"
   ]
  },
  {
   "cell_type": "code",
   "execution_count": null,
   "id": "72a93dde",
   "metadata": {},
   "outputs": [],
   "source": [
    "cameras = [\n",
    "    [\n",
    "        [0.3568657918956826, -0.2889789424949062, 0.878446217895065, 0.132174958426507],\n",
    "        [18142.5437226011, -5635.84419998349, 16204.894769982748],\n",
    "        [8028.432262684154, 5423.561490312162, 5582.073515085155],\n",
    "        'perspective'\n",
    "    ]\n",
    "    ,\n",
    "    [\n",
    "        [0.3568657918956826, -0.2889789424949062, 0.878446217895065, 0.132174958426507],\n",
    "        [18142.5437226011, -5635.84419998349, 16204.894769982748],\n",
    "        [8028.432262684154, 5423.561490312162, 5582.073515085155],\n",
    "        'orthographic'\n",
    "    ]\n",
    "]\n",
    "\n",
    "params = core.OrthographicCameraParams()\n",
    "params.height = 12000\n",
    "status = core.set_camera_params(params)"
   ]
  },
  {
   "cell_type": "code",
   "execution_count": null,
   "id": "c63a53a2",
   "metadata": {},
   "outputs": [],
   "source": [
    "models_to_show = [\n",
    "    [1, 1, 1, 1, 1, 1, 1, 1],\n",
    "    [0, 0, 0, 0, 1, 1, 1, 1],\n",
    "    [1, 1, 0, 0, 1, 1, 1, 1],\n",
    "    [1, 1, 0, 1, 1, 1, 1, 1],\n",
    "    [1, 1, 0, 1, 1, 1, 0, 1],\n",
    "    [1, 1, 0, 0, 1, 1, 0, 0],\n",
    "]\n",
    "\n",
    "version = 0\n",
    "for camera in cameras:\n",
    "    core.set_camera(\n",
    "        current=camera[3],\n",
    "        orientation=camera[0], position=camera[1], target=camera[2]\n",
    "    )\n",
    "    for mts in models_to_show:\n",
    "        show_models(mts)\n",
    "        mm.create_snapshot(\n",
    "            renderer='advanced',\n",
    "            path=output_folder, base_name='%s_radius_%dnm_%s_set2_%03d' % (population_name, cell_radius * 1000, camera[3], version),\n",
    "            size=[k * 960, k * 540],\n",
    "            samples_per_pixel=128)\n",
    "        mm.create_snapshot(\n",
    "            renderer='ambient_occlusion',\n",
    "            path=output_folder, base_name='%s_bw_radius_%dnm_%s_set2_%03d' % (population_name, cell_radius * 1000, camera[3], version),\n",
    "            size=[k * 960, k * 540],\n",
    "            samples_per_pixel=128)\n",
    "        version += 1"
   ]
  }
 ],
 "metadata": {
  "interpreter": {
   "hash": "ea9a5fa46eb6bad2806a8ea1d08e15bb1e255a2d4320b81e765591579963c56b"
  },
  "kernelspec": {
   "display_name": "Python 3 (ipykernel)",
   "language": "python",
   "name": "python3"
  },
  "language_info": {
   "codemirror_mode": {
    "name": "ipython",
    "version": 3
   },
   "file_extension": ".py",
   "mimetype": "text/x-python",
   "name": "python",
   "nbconvert_exporter": "python",
   "pygments_lexer": "ipython3",
   "version": "3.10.12"
  }
 },
 "nbformat": 4,
 "nbformat_minor": 5
}
