{
 "cells": [
  {
   "cell_type": "markdown",
   "id": "f992ef9f",
   "metadata": {},
   "source": [
    "# BioExplorer - CCFv3\n",
    "![](../bioexplorer_ccfv3_banner.png)"
   ]
  },
  {
   "cell_type": "markdown",
   "id": "34dd28a4",
   "metadata": {},
   "source": [
    "### Connect to back-end"
   ]
  },
  {
   "cell_type": "code",
   "execution_count": null,
   "id": "255fc219",
   "metadata": {},
   "outputs": [],
   "source": [
    "from bioexplorer import BioExplorer, Vector3, MovieMaker\n",
    "from tqdm import tqdm\n",
    "\n",
    "url = 'localhost:5000'\n",
    "be = BioExplorer(url)\n",
    "mm = MovieMaker(be)\n",
    "core = be.core_api()\n",
    "\n",
    "load_cells = True\n",
    "load_meshes = False\n",
    "cell_radius = 1.0 # Micrometters\n",
    "\n",
    "nissl_enabled = False\n"
   ]
  },
  {
   "cell_type": "markdown",
   "id": "d7c658d2",
   "metadata": {},
   "source": [
    "### Load Atlas"
   ]
  },
  {
   "cell_type": "code",
   "execution_count": null,
   "id": "cd5c7162",
   "metadata": {},
   "outputs": [],
   "source": [
    "population_name = 'atlas_ccfv3a_averaged'\n",
    "if nissl_enabled:\n",
    "    population_name = 'atlas_ccfv3a_all_cells'\n",
    "    cell_radius = 1.0 # Micrometters"
   ]
  },
  {
   "cell_type": "code",
   "execution_count": null,
   "id": "a1d7bdc6",
   "metadata": {},
   "outputs": [],
   "source": [
    "cerebellum_ids = [\n",
    "       512,      1025,       519,      1033,       528,      1041,      1049,\n",
    "      1056,      1064,      1073,      1091,       846,        91, 589508455,\n",
    "       989,      1143,      1144,      1145,       645,       912,       920,\n",
    "       928,       936,       944,     10672,     10673,     10674,     10675,\n",
    "     10676,     10677,       951,     10680,     10679,     10678,     10681,\n",
    "     10682,       957,     10683,     10687,     10688,     10689,     10690,\n",
    "     10691,     10692,     10684,     10686,       968,       976,     10705,\n",
    "     10706,     10707,     10708,     10709,     10710,     10711,     10712,\n",
    "     10713,       984,     10714,     10715,     10716,     10717,     10718,\n",
    "       992,     10720,     10721,     10722,     10719,     10723,     10724,\n",
    "     10725,     10728,      1001,     10726,     10727,     10729,     10730,\n",
    "     10731,     10733,     10732,     10734,     10737,     10736,     10735,\n",
    "      1007,      1017,     10685\n",
    "]\n",
    "\n",
    "cerebellum_granular_layer_ids = [10675, 10678, 10708, 10711, 10684, 10720, 10723, 10690, 10726, 10705, 10735, 10687, 10681, 10729, 10672, 10732]\n",
    "cerebellum_molecular_layer_ids =  [10677, 10680, 10710, 10713, 10686, 10722, 10725, 10692, 10728, 10707, 10737, 10689, 10683, 10731, 10674, 10734]\n",
    "\n",
    "olfactory_bulb_ids = [507, 212, 228, 236, 244, 220]\n",
    "\n",
    "medula_ids = [\n",
    "      773,       781,      1039,       789,      1048,        45,      1069,\n",
    "      560,       307,        53,       568,        61,       576,       69,\n",
    "      839,      1098,        76,        77,       83,      1107,       852,\n",
    "      859,       607,        96,       354, 589508451,       101,       106,\n",
    "      112,       370,       372,       887,       379,       640,      386,\n",
    "      642,       903,       135,       136,       651,       395,       653,\n",
    "      143,       659,       661,       666,       154,       161,       674,\n",
    "      169,       682,       938,       939,       429,       177,       691,\n",
    "      437,       185,       955,       445,       701,       193,       963,\n",
    "      711,       970,       203,       202,       206,       207,       720,\n",
    "      209,       978,       217,       222,       225,       995,       230,\n",
    "      235,       765,       1557651847\n",
    "]\n",
    "\n",
    "hippocampus_ids = [391, 775, 782, 399, 766, 19, 790, 407, 415, 799, 423, 807, 431, 815, 438, 823, 1080, 446, 454, 10702, 463, 10703, 10704, 726, 471, 982, 734, 479, 486, 742, 632, 495, 751, 758, 375, 504, 382]\n",
    "\n",
    "fibers_ids = [960, 1000, 1009, 396, 109, 698]\n",
    "regions_to_ignore = [\n",
    "    1557651848, # Cell excluded from region 1557651847 (x<540)\n",
    "    1024543562, 2358040414, 3263488087, 2416897036,\n",
    "    3034756217, 2165415682, 2614168502, 1842735199,\n",
    "    3101970431, 1140764290, 3092369320, 1811993763]\n"
   ]
  },
  {
   "cell_type": "code",
   "execution_count": null,
   "id": "82ad851e",
   "metadata": {},
   "outputs": [],
   "source": [
    "cerrebelum_filter = str(cerebellum_ids).replace('[','').replace(']','')\n",
    "cerebellum_granular_layer_filter = str(cerebellum_granular_layer_ids).replace('[','').replace(']','')\n",
    "cerebellum_molecular_layer_filter = str(cerebellum_molecular_layer_ids).replace('[','').replace(']','')\n",
    "olfactory_bulb_filter = str(olfactory_bulb_ids).replace('[','').replace(']','')\n",
    "medula_filter = str(medula_ids).replace('[','').replace(']','')\n",
    "ignore_filter = str(fibers_ids + regions_to_ignore).replace('[','').replace(']','')"
   ]
  },
  {
   "cell_type": "code",
   "execution_count": null,
   "id": "00fb153b",
   "metadata": {},
   "outputs": [],
   "source": [
    "status = be.reset_scene()"
   ]
  },
  {
   "cell_type": "code",
   "execution_count": null,
   "id": "aa65b308",
   "metadata": {},
   "outputs": [],
   "source": [
    "atlas_assembly_name = 'cerrebelum'\n",
    "be.remove_assembly(atlas_assembly_name)\n",
    "atlas_assembly = be.add_assembly(atlas_assembly_name)\n",
    "atlas_model = be.add_atlas(\n",
    "    assembly_name=atlas_assembly_name,\n",
    "    population_name=population_name,\n",
    "    load_cells=load_cells, load_meshes=load_meshes, cell_radius=cell_radius,\n",
    "    region_sql_filter='guid IN (%s) AND guid NOT IN (%s) AND guid NOT IN (%s)' % (cerrebelum_filter, cerebellum_granular_layer_filter, cerebellum_molecular_layer_filter),\n",
    "    mesh_scale=Vector3(1, 1, 1)\n",
    ")"
   ]
  },
  {
   "cell_type": "code",
   "execution_count": null,
   "id": "48f8514c",
   "metadata": {},
   "outputs": [],
   "source": [
    "atlas_assembly_name = 'cerebellum_granular_layer'\n",
    "be.remove_assembly(atlas_assembly_name)\n",
    "atlas_assembly = be.add_assembly(atlas_assembly_name)\n",
    "atlas_model = be.add_atlas(\n",
    "    assembly_name=atlas_assembly_name,\n",
    "    population_name=population_name,\n",
    "    load_cells=load_cells, load_meshes=load_meshes, cell_radius=cell_radius,\n",
    "    region_sql_filter='guid IN (%s)' % cerebellum_granular_layer_filter,\n",
    "    mesh_scale=Vector3(1, 1, 1)\n",
    ")"
   ]
  },
  {
   "cell_type": "code",
   "execution_count": null,
   "id": "9eda5d4e",
   "metadata": {},
   "outputs": [],
   "source": [
    "atlas_assembly_name = 'cerebellum_molecular_layer'\n",
    "be.remove_assembly(atlas_assembly_name)\n",
    "atlas_assembly = be.add_assembly(atlas_assembly_name)\n",
    "atlas_model = be.add_atlas(\n",
    "    assembly_name=atlas_assembly_name,\n",
    "    population_name=population_name,\n",
    "    load_cells=load_cells, load_meshes=load_meshes, cell_radius=cell_radius,\n",
    "    region_sql_filter='guid IN (%s)' % cerebellum_molecular_layer_filter,\n",
    "    mesh_scale=Vector3(1, 1, 1)\n",
    ")"
   ]
  },
  {
   "cell_type": "code",
   "execution_count": null,
   "id": "b823a7d2",
   "metadata": {},
   "outputs": [],
   "source": [
    "atlas_assembly_name = 'cerrebelum'\n",
    "be.remove_assembly(atlas_assembly_name)\n",
    "atlas_assembly = be.add_assembly(atlas_assembly_name)\n",
    "atlas_model = be.add_atlas(\n",
    "    assembly_name=atlas_assembly_name,\n",
    "    population_name=population_name,\n",
    "    load_cells=load_cells, load_meshes=load_meshes, cell_radius=cell_radius,\n",
    "    region_sql_filter='guid IN (%s) AND guid NOT IN (%s) AND guid NOT IN (%s)' % (cerrebelum_filter, cerebellum_granular_layer_filter, cerebellum_molecular_layer_filter),\n",
    "    mesh_scale=Vector3(1, 1, 1)\n",
    ")"
   ]
  },
  {
   "cell_type": "code",
   "execution_count": null,
   "id": "1e1c80f3",
   "metadata": {},
   "outputs": [],
   "source": [
    "atlas_assembly_name = 'olfactory_bulb'\n",
    "be.remove_assembly(atlas_assembly_name)\n",
    "atlas_assembly = be.add_assembly(atlas_assembly_name)\n",
    "atlas_model = be.add_atlas(\n",
    "    assembly_name=atlas_assembly_name,\n",
    "    population_name=population_name,\n",
    "    load_cells=load_cells, load_meshes=load_meshes, cell_radius=cell_radius,\n",
    "    region_sql_filter='guid IN (%s)' % olfactory_bulb_filter,\n",
    "    mesh_scale=Vector3(1, 1, 1)\n",
    ")"
   ]
  },
  {
   "cell_type": "code",
   "execution_count": null,
   "id": "d9a11e2b",
   "metadata": {},
   "outputs": [],
   "source": [
    "atlas_assembly_name = 'medula'\n",
    "be.remove_assembly(atlas_assembly_name)\n",
    "atlas_assembly = be.add_assembly(atlas_assembly_name)\n",
    "atlas_model = be.add_atlas(\n",
    "    assembly_name=atlas_assembly_name,\n",
    "    population_name=population_name,\n",
    "    load_cells=load_cells, load_meshes=load_meshes, cell_radius=cell_radius,\n",
    "    region_sql_filter='guid IN (%s)' % medula_filter,\n",
    "    mesh_scale=Vector3(1, 1, 1)\n",
    ")"
   ]
  },
  {
   "cell_type": "code",
   "execution_count": null,
   "id": "00721fa3",
   "metadata": {},
   "outputs": [],
   "source": [
    "atlas_assembly_name = 'other_regions'\n",
    "be.remove_assembly(atlas_assembly_name)\n",
    "atlas_assembly = be.add_assembly(atlas_assembly_name)\n",
    "atlas_model = be.add_atlas(\n",
    "    assembly_name=atlas_assembly_name,\n",
    "    population_name=population_name,\n",
    "    load_cells=load_cells, load_meshes=load_meshes, cell_radius=cell_radius,\n",
    "    region_sql_filter='level>=6 AND guid NOT IN (%s) AND guid NOT IN (%s) AND guid NOT IN (%s) AND guid NOT IN (%s) ' % (cerrebelum_filter, medula_filter, olfactory_bulb_filter, ignore_filter),\n",
    "    mesh_scale=Vector3(1, 1, 1)\n",
    ")"
   ]
  },
  {
   "cell_type": "code",
   "execution_count": null,
   "id": "b375e8a4",
   "metadata": {},
   "outputs": [],
   "source": [
    "import os\n",
    "from sqlalchemy import create_engine\n",
    "from sqlalchemy.orm import Session\n",
    "\n",
    "db_host = os.getenv('DB_HOST')\n",
    "db_name = os.getenv('DB_NAME')\n",
    "db_user = os.getenv('DB_USER')\n",
    "db_password = os.getenv('DB_PASSWORD')\n",
    "\n",
    "db_connection_string = 'postgresql+psycopg2://%s:%s@%s:5432/%s' % (db_user, db_password, db_host, db_name)\n",
    "print('Connection string: ' + db_connection_string)\n",
    "\n",
    "engine = create_engine(db_connection_string)\n",
    "conn = engine.connect()"
   ]
  },
  {
   "cell_type": "code",
   "execution_count": null,
   "id": "49aefad8",
   "metadata": {},
   "outputs": [],
   "source": [
    "region_colors = dict()\n",
    "\n",
    "def hex_to_rgb(value):\n",
    "    value = value.lstrip('#')\n",
    "    lv = len(value)\n",
    "    return tuple(int(value[i:i + lv // 3], 16) / 256.0 for i in range(0, lv, lv // 3))\n",
    "\n",
    "with Session(engine) as session:\n",
    "    data = session.execute('select guid, color_hex_triplet from %s.region' % population_name)\n",
    "    for d in data.all():\n",
    "        region_colors[int(d[0])] = hex_to_rgb(d[1])"
   ]
  },
  {
   "cell_type": "code",
   "execution_count": null,
   "id": "5b2edd2b",
   "metadata": {},
   "outputs": [],
   "source": [
    "model_ids = be.get_model_ids()['ids']\n",
    "for model_id in model_ids:\n",
    "    k = 0\n",
    "    material_ids = be.get_material_ids(model_id)['ids']\n",
    "    palette = list()\n",
    "    opacities = list()\n",
    "    shading_modes = list()\n",
    "    specular_exponents = list()\n",
    "    refraction_indices = list()\n",
    "    glossinesses = list()\n",
    "    for material_id in material_ids:\n",
    "        if nissl_enabled:\n",
    "            c = [0.8, 0.3, 0.8]\n",
    "        else:\n",
    "            c = [1, 0, 0]\n",
    "            m_id = material_id\n",
    "            if m_id in region_colors:\n",
    "                c = region_colors[m_id]\n",
    "        alpha = [1.0, 1.0, 1.0]\n",
    "\n",
    "        if material_id in olfactory_bulb_ids:\n",
    "            value = 0.5 * float(k) / float(len(olfactory_bulb_ids))\n",
    "            alpha[0] -= value\n",
    "            alpha[1] -= value\n",
    "            alpha[2] -= value\n",
    "            k += 1\n",
    "\n",
    "        shading_modes.append(be.shading_mode.NONE)\n",
    "        glossinesses.append(1.0)\n",
    "        specular_exponents.append(50.0)\n",
    "        palette.append([alpha[0] * c[0], alpha[1] * c[1], alpha[2] * c[2]])\n",
    "        \n",
    "    be.set_materials(\n",
    "        model_ids=[model_id], material_ids=material_ids,\n",
    "        shading_modes=shading_modes, \n",
    "        opacities=opacities, specular_exponents=specular_exponents,\n",
    "        refraction_indices=refraction_indices, glossinesses=glossinesses,\n",
    "        diffuse_colors=palette, specular_colors=palette)"
   ]
  },
  {
   "cell_type": "code",
   "execution_count": null,
   "id": "111cb1ac",
   "metadata": {},
   "outputs": [],
   "source": [
    "background_color = [0.0, 0.0, 0.0]\n",
    "if nissl_enabled:\n",
    "    background_color = [1.0, 1.0, 1.0]\n",
    "\n",
    "status = core.set_renderer(\n",
    "    head_light=True,\n",
    "    current='advanced', background_color=background_color,\n",
    "    subsampling=4, max_accum_frames=128)\n",
    "params = core.AdvancedRendererParams()\n",
    "params.gi_ray_length = 1e6\n",
    "params.shadow_intensity = 1.0\n",
    "params.soft_shadow_strength = 0.5\n",
    "params.main_exposure = 1.5\n",
    "params.max_ray_depth = 1\n",
    "params.epsilon_multiplier = 50.0\n",
    "params.use_hardware_randomizer = True\n",
    "status = core.set_renderer_params(params)"
   ]
  },
  {
   "cell_type": "code",
   "execution_count": null,
   "id": "dbffd507",
   "metadata": {},
   "outputs": [],
   "source": [
    "core.set_camera(\n",
    "    current='perspective',\n",
    "    orientation=[0.8744458160476791, 0.09151682620478456, -0.401564627390352, 0.25634943991934056],\n",
    "    position=[-2565.3701241987646, -2607.8377454106976, -1731.3329308640486],\n",
    "    target=[6733.589672442965, 4796.273454159725, 6016.635720470601],\n",
    ")"
   ]
  },
  {
   "cell_type": "markdown",
   "id": "d22e512f",
   "metadata": {},
   "source": [
    "## Movies"
   ]
  },
  {
   "cell_type": "code",
   "execution_count": null,
   "id": "34910091",
   "metadata": {},
   "outputs": [],
   "source": [
    "k = 4\n",
    "spp = 128"
   ]
  },
  {
   "cell_type": "markdown",
   "id": "37e69d98",
   "metadata": {},
   "source": [
    "### Slicing"
   ]
  },
  {
   "cell_type": "code",
   "execution_count": null,
   "id": "76516499",
   "metadata": {},
   "outputs": [],
   "source": [
    "plane_id = core.add_clip_plane([1,0,0,0])['id']"
   ]
  },
  {
   "cell_type": "code",
   "execution_count": null,
   "id": "10e833d2",
   "metadata": {},
   "outputs": [],
   "source": [
    "output_folder = '/scratch/videos/atlas/%s/slices/v1' % population_name\n",
    "os.makedirs(output_folder, exist_ok=True)\n",
    "frame = 0\n",
    "for i in tqdm(range(0, 14500, 50)):\n",
    "    core.update_clip_plane(plane_id, [1.0, 0.0, 0.0, -i])\n",
    "    mm.create_snapshot(\n",
    "        renderer='advanced',\n",
    "        path=output_folder, base_name='%05d' % frame,\n",
    "        size=[k * 960, k * 540],\n",
    "        samples_per_pixel=64)\n",
    "    frame += 1"
   ]
  },
  {
   "cell_type": "code",
   "execution_count": null,
   "id": "a1792e8a",
   "metadata": {},
   "outputs": [],
   "source": [
    "output_folder = '/scratch/videos/atlas/%s/slices/v2' % population_name\n",
    "os.makedirs(output_folder, exist_ok=True)\n",
    "frame = 0\n",
    "for i in tqdm(range(0, 8000, 50)):\n",
    "    core.update_clip_plane(plane_id, [0.0, 1.0, 0.0, -i])\n",
    "    mm.create_snapshot(\n",
    "        renderer='advanced',\n",
    "        path=output_folder, base_name='%05d' % frame,\n",
    "        size=[k * 960, k * 540],\n",
    "        samples_per_pixel=64)\n",
    "    frame += 1"
   ]
  },
  {
   "cell_type": "code",
   "execution_count": null,
   "id": "9994b426-9da0-4a71-8605-76a8c8fa5f46",
   "metadata": {},
   "outputs": [],
   "source": [
    "output_folder = '/scratch/videos/atlas/%s/slices/v3' % population_name\n",
    "os.makedirs(output_folder, exist_ok=True)\n",
    "frame = 0\n",
    "for i in tqdm(range(0, 11000, 50)):\n",
    "    core.update_clip_plane(plane_id, [0.0, 0.0, 1.0, -i])\n",
    "    mm.create_snapshot(\n",
    "        renderer='advanced',\n",
    "        path=output_folder, base_name='%05d' % frame,\n",
    "        size=[k * 960, k * 540],\n",
    "        samples_per_pixel=64)\n",
    "    frame += 1"
   ]
  },
  {
   "cell_type": "code",
   "execution_count": null,
   "id": "41f82115",
   "metadata": {},
   "outputs": [],
   "source": [
    "planes = core.get_clip_planes()\n",
    "if planes:\n",
    "    for plane in planes:\n",
    "        core.remove_clip_planes([plane['id']])"
   ]
  },
  {
   "cell_type": "markdown",
   "id": "b85548e2",
   "metadata": {},
   "source": [
    "### Orbital navigation"
   ]
  },
  {
   "cell_type": "code",
   "execution_count": null,
   "id": "e336967a",
   "metadata": {},
   "outputs": [],
   "source": [
    "import math\n",
    "from tqdm import tqdm\n",
    "output_folder = '/scratch/videos/atlas/%s/orbital/v1' % population_name\n",
    "os.makedirs(output_folder, exist_ok=True)\n",
    "\n",
    "k = 4\n",
    "\n",
    "params = core.OrthographicCameraParams()\n",
    "params.height = 12000\n",
    "status = core.set_camera_params(params)\n",
    "\n",
    "\n",
    "r = params.height\n",
    "t = [7062, 3849, 5687]\n",
    "frame = 0\n",
    "for i in tqdm(range(270, -90, -1)):\n",
    "    o = [\n",
    "        t[0] + r * math.cos(i * math.pi / 180.0),\n",
    "        t[1],\n",
    "        t[2] + r * math.sin(i * math.pi / 180.0)\n",
    "    ]\n",
    "    l = 0.0\n",
    "    d = [0,0,0]\n",
    "    for k in range(3):\n",
    "        d[k] = t[k] - o[k]\n",
    "        l += d[k] * d[k]\n",
    "\n",
    "    l = math.sqrt(l)\n",
    "    for k in range(3):\n",
    "        d[k] /= l\n",
    "\n",
    "    mm.set_camera(origin=o, up=[0,-1,0], direction=d)\n",
    "    mm.create_snapshot(\n",
    "        renderer='advanced',\n",
    "        path=output_folder, base_name='%05d' % frame,\n",
    "        size=[k * 960, k * 540],\n",
    "        samples_per_pixel=64)\n",
    "    frame += 1\n"
   ]
  },
  {
   "cell_type": "markdown",
   "id": "24e5466a",
   "metadata": {},
   "source": [
    "### Navigation"
   ]
  },
  {
   "cell_type": "code",
   "execution_count": null,
   "id": "098f9dee",
   "metadata": {},
   "outputs": [],
   "source": [
    "core.set_camera(\n",
    "    current='perspective',\n",
    "    orientation=[0.8744458160476791, 0.09151682620478456, -0.401564627390352, 0.25634943991934056],\n",
    "    position=[-2565.3701241987646, -2607.8377454106976, -1731.3329308640486],\n",
    "    target=[6733.589672442965, 4796.273454159725, 6016.635720470601],\n",
    ")"
   ]
  },
  {
   "cell_type": "code",
   "execution_count": null,
   "id": "87caaf1a",
   "metadata": {},
   "outputs": [],
   "source": [
    "keys = [\n",
    "    # Initial view\n",
    "    {\n",
    "        'apertureRadius': 0.0,\n",
    "        'direction': [0.6553724423068927, 0.5218272307970103, 0.5460616293637766],\n",
    "        'focalDistance': 1000000.0,\n",
    "        'origin': [-2565.3701241987646, -2607.8377454106976, -1731.3329308640486],\n",
    "        'up': [0.36593474619134375, -0.8518192703488876, 0.37482754993752265]\n",
    "    }\n",
    "    ,\n",
    "    # Olfactory bulb\n",
    "    {\n",
    "        'apertureRadius': 0.0,\n",
    "        'direction': [0.7469370424463216, 0.3606491560448456, 0.5585850345880041],\n",
    "        'focalDistance': 1000000.0,\n",
    "        'origin': [-3120.532189038173, 1835.5169097748767, 2165.927051941915],\n",
    "        'up': [0.3224948767666639, -0.9311843737781622, 0.16997857656370974]\n",
    "    }\n",
    "    ,\n",
    "    # Side view\n",
    "    {\n",
    "        'apertureRadius': 0.0,\n",
    "        'direction': [-1.3331370380301985e-16, -1.2246467991473532e-16, 1.0],\n",
    "        'focalDistance': 1000000.0,\n",
    "        'origin': [7236.727651380601, 4482.658523559142, -9145.317280084804],\n",
    "        'up': [-4.440892098500626e-16, -1.0, -1.2246467991473537e-16]\n",
    "    }\n",
    "    ,\n",
    "    # Cerebellum\n",
    "    {\n",
    "        'apertureRadius': 0.0,\n",
    "        'direction': [-0.5191155653746677, 0.17713002641529518, 0.836148302353031],\n",
    "        'focalDistance': 1000000.0,\n",
    "        'origin': [15391.238801629486, 2988.224146474133, -1927.6054642919696],\n",
    "        'up': [-0.11693830913040375, -0.9838094070689234, 0.13581046506221545]\n",
    "    }\n",
    "    ,\n",
    "    # Side view\n",
    "    {\n",
    "        'apertureRadius': 0.0,\n",
    "        'direction': [-1.3331370380301985e-16, -1.2246467991473532e-16, 1.0],\n",
    "        'focalDistance': 1000000.0,\n",
    "        'origin': [7236.727651380601, 4482.658523559142, -9145.317280084804],\n",
    "        'up': [-4.440892098500626e-16, -1.0, -1.2246467991473537e-16]\n",
    "    }\n",
    "    ,\n",
    "    # Initial view\n",
    "    {\n",
    "        'apertureRadius': 0.0,\n",
    "        'direction': [0.6553724423068927, 0.5218272307970103, 0.5460616293637766],\n",
    "        'focalDistance': 1000000.0,\n",
    "        'origin': [-2565.3701241987646, -2607.8377454106976, -1731.3329308640486],\n",
    "        'up': [0.36593474619134375, -0.8518192703488876, 0.37482754993752265]\n",
    "    }\n",
    "]\n",
    "\n",
    "double_keys = list()\n",
    "for key in keys:\n",
    "    double_keys.append(key)\n",
    "    double_keys.append(key)\n",
    "mm.build_camera_path(double_keys, 50, 25)"
   ]
  },
  {
   "cell_type": "code",
   "execution_count": null,
   "id": "e1945aa4",
   "metadata": {},
   "outputs": [],
   "source": [
    "from tqdm import tqdm\n",
    "output_folder = '/scratch/videos/atlas/%s/regions_of_interest/v1' % population_name\n",
    "os.makedirs(output_folder, exist_ok=True)\n",
    "if nissl_enabled:\n",
    "    output_folder += '/nissl'\n",
    "k = 4\n",
    "\n",
    "for frame in tqdm(range(mm.get_nb_frames())):\n",
    "    mm.set_current_frame(frame)\n",
    "    mm.create_snapshot(\n",
    "        renderer='advanced',\n",
    "        path=output_folder, base_name='%05d' % frame,\n",
    "        size=[k * 960, k * 540],\n",
    "        samples_per_pixel=64)"
   ]
  },
  {
   "cell_type": "code",
   "execution_count": null,
   "id": "e5f0b7ed",
   "metadata": {},
   "outputs": [],
   "source": [
    "output_folder = '/scratch/videos/atlas/%s/regions_of_interest/stills' % population_name\n",
    "k = 4\n",
    "\n",
    "frame = 325\n",
    "mm.set_current_frame(frame)\n",
    "status = core.clear_lights()\n",
    "core.add_light_directional(\n",
    "    angularDiameter=45, color=(1,1,1), direction=(-0.5, 0.5, 1.2),\n",
    "    intensity=1.0, is_visible=False)\n",
    "mm.create_snapshot(\n",
    "    renderer='advanced',\n",
    "    path=output_folder, base_name='%05d' % frame,\n",
    "    size=[k * 960, k * 540],\n",
    "    samples_per_pixel=64)"
   ]
  },
  {
   "cell_type": "markdown",
   "id": "273efd4d",
   "metadata": {},
   "source": [
    "## Snapshots"
   ]
  },
  {
   "cell_type": "code",
   "execution_count": null,
   "id": "3c4d91a0",
   "metadata": {},
   "outputs": [],
   "source": [
    "output_folder = '/scratch/videos/atlas/%s/regions_of_interest/stills' % population_name\n",
    "k = 4"
   ]
  },
  {
   "cell_type": "markdown",
   "id": "9f98bc76",
   "metadata": {},
   "source": [
    "### Cerebellum"
   ]
  },
  {
   "cell_type": "code",
   "execution_count": null,
   "id": "bfe6f574",
   "metadata": {},
   "outputs": [],
   "source": [
    "model_ids = be.get_model_ids()['ids']\n",
    "i = 0\n",
    "for model_id in model_ids:\n",
    "    visible = True\n",
    "    if i > 2:\n",
    "        visible = False\n",
    "    status = core.update_model(id=model_id, visible=visible)\n",
    "    i += 1"
   ]
  },
  {
   "cell_type": "code",
   "execution_count": null,
   "id": "6206e0f3",
   "metadata": {},
   "outputs": [],
   "source": [
    "frame = 3 * 100\n",
    "mm.set_current_frame(frame)\n",
    "mm.create_snapshot(\n",
    "    renderer='advanced',\n",
    "    path=output_folder, base_name='cerebellum_%05d' % frame,\n",
    "    size=[k * 960, k * 540],\n",
    "    samples_per_pixel=64)\n"
   ]
  },
  {
   "cell_type": "markdown",
   "id": "0ca415f5",
   "metadata": {},
   "source": [
    "### Medula"
   ]
  },
  {
   "cell_type": "code",
   "execution_count": null,
   "id": "51846b4d",
   "metadata": {},
   "outputs": [],
   "source": [
    "model_ids = be.get_model_ids()['ids']\n",
    "i = 0\n",
    "for model_id in model_ids:\n",
    "    visible = False\n",
    "    if i == 4:\n",
    "        visible = True\n",
    "    status = core.update_model(id=model_id, visible=visible)\n",
    "    i += 1"
   ]
  },
  {
   "cell_type": "code",
   "execution_count": null,
   "id": "8a5eb715",
   "metadata": {},
   "outputs": [],
   "source": [
    "frame = 3 * 100\n",
    "mm.set_current_frame(frame)\n",
    "mm.create_snapshot(\n",
    "    renderer='advanced',\n",
    "    path=output_folder, base_name='medula_%05d' % frame,\n",
    "    size=[k * 960, k * 540],\n",
    "    samples_per_pixel=64)\n"
   ]
  },
  {
   "cell_type": "markdown",
   "id": "535322c4",
   "metadata": {},
   "source": [
    "### Olfactory bulb"
   ]
  },
  {
   "cell_type": "code",
   "execution_count": null,
   "id": "095376f4",
   "metadata": {},
   "outputs": [],
   "source": [
    "model_ids = be.get_model_ids()['ids']\n",
    "i = 0\n",
    "for model_id in model_ids:\n",
    "    visible = False\n",
    "    if i == 3:\n",
    "        visible = True\n",
    "    status = core.update_model(id=model_id, visible=visible)\n",
    "    i += 1"
   ]
  },
  {
   "cell_type": "code",
   "execution_count": null,
   "id": "69c26663",
   "metadata": {},
   "outputs": [],
   "source": [
    "frame = 1 * 100\n",
    "mm.set_current_frame(frame)\n",
    "mm.create_snapshot(\n",
    "    renderer='advanced',\n",
    "    path=output_folder, base_name='olfactory_bulb_%05d' % frame,\n",
    "    size=[k * 960, k * 540],\n",
    "    samples_per_pixel=64)\n"
   ]
  },
  {
   "cell_type": "markdown",
   "id": "f6dbdb8d",
   "metadata": {},
   "source": [
    "### Full Atlas"
   ]
  },
  {
   "cell_type": "code",
   "execution_count": null,
   "id": "66260ec8",
   "metadata": {},
   "outputs": [],
   "source": [
    "model_ids = be.get_model_ids()['ids']\n",
    "for model_id in model_ids:\n",
    "    status = core.update_model(id=model_id, visible=True)"
   ]
  },
  {
   "cell_type": "code",
   "execution_count": null,
   "id": "c1b11400",
   "metadata": {},
   "outputs": [],
   "source": [
    "frame = 250\n",
    "status = core.set_camera(current='perspective')\n",
    "mm.set_current_frame(frame)\n",
    "mm.create_snapshot(\n",
    "    renderer='advanced',\n",
    "    path=output_folder, base_name='full_atlas_%05d' % frame,\n",
    "    size=[k * 960, k * 540],\n",
    "    samples_per_pixel=256)\n"
   ]
  },
  {
   "cell_type": "code",
   "execution_count": null,
   "id": "debec857",
   "metadata": {},
   "outputs": [],
   "source": [
    "status = core.set_camera(\n",
    "    current='orthographic',\n",
    "    orientation=[0.7071067811865474, 0.0, 0.0, 0.7071067811865477],\n",
    "    position=[7062.54170513153, -7715.915540555949, 5687.530700683599],\n",
    "    target=[7062.54170513153, 3849.934432983398, 5687.530700683594],    \n",
    ")\n",
    "params = core.OrthographicCameraParams()\n",
    "params.height = 12000\n",
    "status = core.set_camera_params(params)\n",
    "mm.create_snapshot(\n",
    "    renderer='advanced',\n",
    "    path=output_folder, base_name='full_atlas_bottom_v1',\n",
    "    size=[k * 960, k * 540],\n",
    "    samples_per_pixel=256)\n"
   ]
  },
  {
   "cell_type": "code",
   "execution_count": null,
   "id": "fd5cd9f7",
   "metadata": {},
   "outputs": [],
   "source": [
    "core.set_camera(\n",
    "    current='orthographic',\n",
    "    orientation=[-0.7071067811865478, 0.0, 0.0, 0.7071067811865472],\n",
    "    position=[7775.074817794507, 16943.902861164934, 5669.875790550629],\n",
    "    target=[7775.074817794507, 3849.934432983398, 5669.87579055064],    \n",
    ")\n",
    "params = core.OrthographicCameraParams()\n",
    "params.height = 12000\n",
    "status = core.set_camera_params(params)\n",
    "mm.create_snapshot(\n",
    "    renderer='advanced',\n",
    "    path=output_folder, base_name='full_atlas_top_v1',\n",
    "    size=[k * 960, k * 540],\n",
    "    samples_per_pixel=256)"
   ]
  },
  {
   "cell_type": "code",
   "execution_count": null,
   "id": "b2ce6d64",
   "metadata": {},
   "outputs": [],
   "source": [
    "status = core.set_camera(\n",
    "    current='orthographic',\n",
    "    orientation=[-0.707, 0.0, 0.707, 0.0],\n",
    "    position=[-5889.359840327096, 3849.934432983402, 5687.530700683581],\n",
    "    target=[7062.54170513153, 3849.934432983398, 5687.530700683594],    \n",
    ")\n",
    "params = core.OrthographicCameraParams()\n",
    "params.height = 12000\n",
    "status = core.set_camera_params(params)\n",
    "mm.create_snapshot(\n",
    "    renderer='advanced',\n",
    "    path=output_folder, base_name='full_atlas_right_v1',\n",
    "    size=[k * 960, k * 540],\n",
    "    samples_per_pixel=256)"
   ]
  },
  {
   "cell_type": "code",
   "execution_count": null,
   "id": "f7859682",
   "metadata": {},
   "outputs": [],
   "source": [
    "status = core.set_camera(\n",
    "    current='orthographic',\n",
    "    orientation=[-0.707, 0.0, -0.707, 0.0],\n",
    "    position=[20014.443250590157, 3849.934432983398, 5687.5307006835965],\n",
    "    target=[7062.54170513153, 3849.934432983398, 5687.530700683594],\n",
    ")\n",
    "params = core.OrthographicCameraParams()\n",
    "params.height = 12000\n",
    "status = core.set_camera_params(params)\n",
    "mm.create_snapshot(\n",
    "    renderer='advanced',\n",
    "    path=output_folder, base_name='full_atlas_left_v1',\n",
    "    size=[k * 960, k * 540],\n",
    "    samples_per_pixel=256)"
   ]
  },
  {
   "cell_type": "markdown",
   "id": "ff28070b",
   "metadata": {},
   "source": [
    "### 3D Views"
   ]
  },
  {
   "cell_type": "code",
   "execution_count": null,
   "id": "ad655709",
   "metadata": {},
   "outputs": [],
   "source": [
    "core.set_camera(\n",
    "    current='perspective',\n",
    "    orientation=[0.8744458160476791, 0.09151682620478456, -0.401564627390352, 0.25634943991934056],\n",
    "    position=[-2565.3701241987646, -2607.8377454106976, -1731.3329308640486],\n",
    "    target=[6733.589672442965, 4796.273454159725, 6016.635720470601],\n",
    ")\n",
    "mm.create_snapshot(\n",
    "    renderer='advanced',\n",
    "    path=output_folder, base_name='full_atlas_3d_v1',\n",
    "    size=[k * 960, k * 540],\n",
    "    samples_per_pixel=256)"
   ]
  },
  {
   "cell_type": "code",
   "execution_count": null,
   "id": "64e67ae8",
   "metadata": {},
   "outputs": [],
   "source": [
    "core.set_camera(\n",
    "    current='perspective',\n",
    "    orientation=[0.9234260390393976,-0.0711274916493321,0.3483845350423471, 0.14440722315386545],\n",
    "    position=[16442.269375863238, 897.7563172345881, -4024.93839031792],\n",
    "    target=[7604.451628771938, 5385.086344680354, 6127.863236386175],\n",
    ")\n",
    "mm.create_snapshot(\n",
    "    renderer='advanced',\n",
    "    path=output_folder, base_name='full_atlas_3d_v2',\n",
    "    size=[k * 960, k * 540],\n",
    "    samples_per_pixel=256)"
   ]
  },
  {
   "cell_type": "markdown",
   "id": "d218c2bb-b46b-427a-a516-47d52cf43ca5",
   "metadata": {},
   "source": [
    "### Fancy Slicing"
   ]
  },
  {
   "cell_type": "code",
   "execution_count": null,
   "id": "89c6ab2b-1062-4472-9087-34b2d2a4eeb8",
   "metadata": {},
   "outputs": [],
   "source": [
    "t = [7062, 3849, 5687]"
   ]
  },
  {
   "cell_type": "code",
   "execution_count": null,
   "id": "1783a146-5d96-4133-bead-414aa1806f6f",
   "metadata": {},
   "outputs": [],
   "source": [
    "tf = {\n",
    "    'rotation': [0.0, 0.0, 0.0, 1.0],\n",
    "    'rotation_center': [0.0, 0.0, 0.0],\n",
    "    'scale': [1.0, 1.0, 1.0],\n",
    "    'translation': [-t[0], -t[1], -t[2]]\n",
    "}\n",
    "model_ids = be.get_model_ids()['ids']\n",
    "for model_id in model_ids:\n",
    "    core.update_model(model_id, transformation=tf)"
   ]
  },
  {
   "cell_type": "code",
   "execution_count": null,
   "id": "8ee14686-82a6-4adb-b2bb-3f119a323689",
   "metadata": {},
   "outputs": [],
   "source": [
    "core.set_camera(\n",
    "    current='perspective',\n",
    "    orientation=[0.8744458160476791, 0.09151682620478456, -0.401564627390352, 0.25634943991934056],\n",
    "    position=[-2565.3701241987646 - t[0], -2607.8377454106976 - t[1], -1731.3329308640486 - t[2]],\n",
    "    target=[6733.589672442965 - t[0], 4796.273454159725 - t[1], 6016.635720470601 - t[2]]\n",
    ")"
   ]
  },
  {
   "cell_type": "code",
   "execution_count": null,
   "id": "8e7bec47-b3f9-4173-9513-eb97fdef05dc",
   "metadata": {},
   "outputs": [],
   "source": [
    "core.add_clip_plane([0, 1, 0, 0])"
   ]
  },
  {
   "cell_type": "code",
   "execution_count": null,
   "id": "5553a1c0-b3ab-4bc3-8f95-8385be777803",
   "metadata": {},
   "outputs": [],
   "source": [
    "import numpy as np\n",
    "\n",
    "def rotate_vector(vector, angle_degrees, axis):\n",
    "    \"\"\"\n",
    "    Rotate a vector around a given axis by a specified angle in degrees.\n",
    "    \n",
    "    :param vector: The vector to rotate (numpy array).\n",
    "    :param angle_degrees: The angle by which to rotate the vector (in degrees).\n",
    "    :param axis: The axis around which to rotate the vector (numpy array).\n",
    "    :return: The rotated vector (numpy array).\n",
    "    \"\"\"\n",
    "    angle_radians = np.radians(angle_degrees)\n",
    "    axis = axis / np.linalg.norm(axis)  # Normalize the rotation axis\n",
    "    cos_theta = np.cos(angle_radians)\n",
    "    sin_theta = np.sin(angle_radians)\n",
    "    \n",
    "    # Rotation matrix using the Rodrigues' rotation formula\n",
    "    rotation_matrix = np.array([\n",
    "        [cos_theta + axis[0] * axis[0] * (1 - cos_theta),\n",
    "         axis[0] * axis[1] * (1 - cos_theta) - axis[2] * sin_theta,\n",
    "         axis[0] * axis[2] * (1 - cos_theta) + axis[1] * sin_theta],\n",
    "        [axis[1] * axis[0] * (1 - cos_theta) + axis[2] * sin_theta,\n",
    "         cos_theta + axis[1] * axis[1] * (1 - cos_theta),\n",
    "         axis[1] * axis[2] * (1 - cos_theta) - axis[0] * sin_theta],\n",
    "        [axis[2] * axis[0] * (1 - cos_theta) - axis[1] * sin_theta,\n",
    "         axis[2] * axis[1] * (1 - cos_theta) + axis[0] * sin_theta,\n",
    "         cos_theta + axis[2] * axis[2] * (1 - cos_theta)]\n",
    "    ])\n",
    "    \n",
    "    return np.dot(rotation_matrix, vector)"
   ]
  },
  {
   "cell_type": "code",
   "execution_count": null,
   "id": "70528ca4-8949-4c41-ac1a-22ad1f6cf4c4",
   "metadata": {},
   "outputs": [],
   "source": [
    "output_folder = '/scratch/videos/atlas/%s/slices/v4' % population_name\n",
    "os.makedirs(output_folder, exist_ok=True)\n",
    "k = 4\n",
    "\n",
    "# Initial up vector (for example, pointing along the Y-axis)\n",
    "up_vector = np.array([0, 1, 0])\n",
    "\n",
    "# Axis of rotation (for example, the Z-axis)\n",
    "rotation_axis = np.array([0, -1, -1])\n",
    "\n",
    "# Loop to rotate the vector over 360 degrees\n",
    "for frame in tqdm(range(361)):  # Adjust step size as needed\n",
    "    rotated_vector = rotate_vector(up_vector, frame, rotation_axis)\n",
    "    core.update_clip_plane(0, [rotated_vector[0], rotated_vector[1], rotated_vector[2], 500])\n",
    "    mm.create_snapshot(\n",
    "        renderer='advanced',\n",
    "        path=output_folder, base_name='%05d' % frame,\n",
    "        size=[k * 960, k * 540], samples_per_pixel=64)"
   ]
  }
 ],
 "metadata": {
  "interpreter": {
   "hash": "ea9a5fa46eb6bad2806a8ea1d08e15bb1e255a2d4320b81e765591579963c56b"
  },
  "kernelspec": {
   "display_name": "Python 3 (ipykernel)",
   "language": "python",
   "name": "python3"
  },
  "language_info": {
   "codemirror_mode": {
    "name": "ipython",
    "version": 3
   },
   "file_extension": ".py",
   "mimetype": "text/x-python",
   "name": "python",
   "nbconvert_exporter": "python",
   "pygments_lexer": "ipython3",
   "version": "3.10.12"
  }
 },
 "nbformat": 4,
 "nbformat_minor": 5
}
