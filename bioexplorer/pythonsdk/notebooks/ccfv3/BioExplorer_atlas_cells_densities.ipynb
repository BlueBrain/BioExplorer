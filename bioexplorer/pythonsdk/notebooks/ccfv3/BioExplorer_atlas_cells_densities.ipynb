{
 "cells": [
  {
   "cell_type": "markdown",
   "id": "df49679c",
   "metadata": {},
   "source": [
    "# BioExplorer - CCFv3\n",
    "![](../bioexplorer_ccfv3_banner.png)"
   ]
  },
  {
   "cell_type": "markdown",
   "id": "18978f9d",
   "metadata": {},
   "source": [
    "### Neurons only"
   ]
  },
  {
   "cell_type": "code",
   "execution_count": null,
   "id": "eff26fc5",
   "metadata": {},
   "outputs": [],
   "source": [
    "import os\n",
    "import nrrd\n",
    "\n",
    "all_cells = False\n",
    "\n",
    "if all_cells:\n",
    "    db_schema = 'atlas_ccfv3a_averaged'\n",
    "    density_filename = '/gpfs/bbp.cscs.ch/project/proj84/piluso/share/Cyrille/CCFv3a/neuron_density_averaged_all_cells.nrrd'\n",
    "else:\n",
    "    db_schema = 'atlas_ccfv3a_averaged'\n",
    "    density_filename = '/gpfs/bbp.cscs.ch/project/proj84/piluso/share/Cyrille/CCFv3a/neuron_density_averaged.nrrd'\n",
    "\n",
    "density_data, density_header = nrrd.read(density_filename)\n",
    "\n",
    "region_filename = os.path.join('/gpfs/bbp.cscs.ch/home/piluso/cell_atlas/05_final_run/blue_brain_atlas_pipeline/leaves_only', 'annotation_ccfv2_l23split_barrelsplit.nrrd')\n",
    "region_data, region_header = nrrd.read(region_filename)"
   ]
  },
  {
   "cell_type": "code",
   "execution_count": null,
   "id": "2dfd6570-1b2e-4ea9-a68c-9c1ac283dab9",
   "metadata": {},
   "outputs": [],
   "source": [
    "from sqlalchemy import create_engine\n",
    "from sqlalchemy.orm import Session\n",
    "\n",
    "db_host = os.getenv('DB_HOST')\n",
    "db_name = os.getenv('DB_NAME')\n",
    "db_user = os.getenv('DB_USER')\n",
    "db_password = os.getenv('DB_PASSWORD')\n",
    "\n",
    "db_connection_string = 'postgresql+psycopg2://%s:%s@%s:5432/%s' % (db_user, db_password, db_host, db_name)\n",
    "print('Connection string: ' + db_connection_string + ', schema: ' + db_schema)\n",
    "\n",
    "engine = create_engine(db_connection_string)\n",
    "conn = engine.connect()"
   ]
  },
  {
   "cell_type": "code",
   "execution_count": null,
   "id": "3fba4353",
   "metadata": {},
   "outputs": [],
   "source": [
    "import math\n",
    "import random\n",
    "from tqdm import tqdm\n",
    "\n",
    "try:\n",
    "    space_directions = density_header['space directions']\n",
    "    scale = [\n",
    "        space_directions[0][0],\n",
    "        space_directions[1][1],\n",
    "        space_directions[2][2]\n",
    "    ]\n",
    "except:\n",
    "    scale = [25.0, 25.0, 25.0]\n",
    "\n",
    "voxel_volume_um = scale[0] * scale[1] * scale[2]\n",
    "millimeter_cube_um = 1000 * 1000 * 1000\n",
    "D = millimeter_cube_um / voxel_volume_um\n",
    "\n",
    "print('Deleting existing cells')\n",
    "with Session(engine) as session:\n",
    "   session.execute('DELETE FROM %s.cell' % db_schema)\n",
    "   session.commit()\n",
    "\n",
    "guid = 0\n",
    "total = 0\n",
    "\n",
    "with Session(engine) as session:\n",
    "    volume_size = density_data.shape\n",
    "    for x in tqdm(range(volume_size[0])):\n",
    "        for y in range(volume_size[1]):\n",
    "            for z in range(volume_size[2]):\n",
    "                nb_cells = math.ceil(density_data[x][y][z] / D)\n",
    "                total += nb_cells\n",
    "                if nb_cells > 0:\n",
    "                    region_id = region_data[x][y][z]\n",
    "                    for i in range(nb_cells):\n",
    "                        pos_x = (x + random.random()) * scale[0]\n",
    "                        pos_y = (y + random.random()) * scale[1]\n",
    "                        pos_z = (z + random.random()) * scale[2]\n",
    "\n",
    "                        session.execute(\n",
    "                            'INSERT INTO %s.cell VALUES (:guid, 0, :region_id, 0, :x, :y, :z, 0.0, 0.0, 0.0, 1.0)' % db_schema,\n",
    "                            {\n",
    "                                'guid': int(guid),\n",
    "                                'region_id': int(region_id),\n",
    "                                'x': float(pos_x),\n",
    "                                'y': float(pos_y),\n",
    "                                'z': float(pos_z)\n",
    "                            }\n",
    "                        )\n",
    "                        guid += 1\n",
    "            session.commit()\n",
    "    print(total)"
   ]
  }
 ],
 "metadata": {
  "kernelspec": {
   "display_name": "Python 3 (ipykernel)",
   "language": "python",
   "name": "python3"
  },
  "language_info": {
   "codemirror_mode": {
    "name": "ipython",
    "version": 3
   },
   "file_extension": ".py",
   "mimetype": "text/x-python",
   "name": "python",
   "nbconvert_exporter": "python",
   "pygments_lexer": "ipython3",
   "version": "3.10.12"
  },
  "vscode": {
   "interpreter": {
    "hash": "ea9a5fa46eb6bad2806a8ea1d08e15bb1e255a2d4320b81e765591579963c56b"
   }
  }
 },
 "nbformat": 4,
 "nbformat_minor": 5
}
