{
 "cells": [
  {
   "cell_type": "markdown",
   "id": "f992ef9f",
   "metadata": {},
   "source": [
    "# BioExplorer - CCFv3\n",
    "![](../bioexplorer_ccfv3_banner.png)"
   ]
  },
  {
   "cell_type": "markdown",
   "id": "34dd28a4",
   "metadata": {},
   "source": [
    "### Connect to back-end"
   ]
  },
  {
   "cell_type": "code",
   "execution_count": null,
   "id": "255fc219",
   "metadata": {},
   "outputs": [],
   "source": [
    "from bioexplorer import BioExplorer, Vector3, MovieMaker\n",
    "from tqdm import tqdm\n",
    "\n",
    "url = 'localhost:5000'\n",
    "be = BioExplorer(url)\n",
    "mm = MovieMaker(be)\n",
    "core = be.core_api()\n",
    "\n",
    "load_cells = True\n",
    "load_meshes = False\n",
    "cell_radius = 5.0 # Micrometters\n",
    "\n",
    "nissl_enabled = False\n"
   ]
  },
  {
   "cell_type": "markdown",
   "id": "d7c658d2",
   "metadata": {},
   "source": [
    "### Load Atlas"
   ]
  },
  {
   "cell_type": "code",
   "execution_count": null,
   "id": "cd5c7162",
   "metadata": {},
   "outputs": [],
   "source": [
    "# population_name = 'atlas_ccfv3a_averaged'\n",
    "population_name = 'atlas_ccfv3a'\n",
    "if nissl_enabled:\n",
    "    population_name = 'atlas_ccfv3a_all_cells'\n",
    "    cell_radius = 1.0 # Micrometters"
   ]
  },
  {
   "cell_type": "code",
   "execution_count": null,
   "id": "a1d7bdc6",
   "metadata": {},
   "outputs": [],
   "source": [
    "fibers_ids = [960, 1000, 1009, 396, 109, 698]\n",
    "regions_to_ignore = [\n",
    "    \n",
    "    1557651848, # Cell excluded from region 1557651847 (x<540)\n",
    "    1024543562, 2358040414, 3263488087, 2416897036,\n",
    "    3034756217, 2165415682, 2614168502, 1842735199,\n",
    "    3101970431, 1140764290, 3092369320, 1811993763]"
   ]
  },
  {
   "cell_type": "code",
   "execution_count": null,
   "id": "82ad851e",
   "metadata": {},
   "outputs": [],
   "source": [
    "ignore_filter = str(fibers_ids + regions_to_ignore).replace('[','').replace(']','')"
   ]
  },
  {
   "cell_type": "code",
   "execution_count": null,
   "id": "00fb153b",
   "metadata": {},
   "outputs": [],
   "source": [
    "status = be.reset_scene()"
   ]
  },
  {
   "cell_type": "code",
   "execution_count": null,
   "id": "00721fa3",
   "metadata": {},
   "outputs": [],
   "source": [
    "atlas_assembly_name = 'Cell Atlas'\n",
    "be.remove_assembly(atlas_assembly_name)\n",
    "atlas_assembly = be.add_assembly(atlas_assembly_name)\n",
    "atlas_model = be.add_atlas(\n",
    "    assembly_name=atlas_assembly_name,\n",
    "    population_name=population_name,\n",
    "    load_cells=load_cells, load_meshes=load_meshes, cell_radius=cell_radius,\n",
    "    region_sql_filter='guid NOT IN (%s)' % ignore_filter,\n",
    "    mesh_scale=Vector3(1, 1, 1)\n",
    ")"
   ]
  },
  {
   "cell_type": "code",
   "execution_count": null,
   "id": "b375e8a4",
   "metadata": {},
   "outputs": [],
   "source": [
    "import os\n",
    "from sqlalchemy import create_engine\n",
    "from sqlalchemy.orm import Session\n",
    "\n",
    "db_host = os.getenv('DB_HOST')\n",
    "db_name = os.getenv('DB_NAME')\n",
    "db_user = os.getenv('DB_USER')\n",
    "db_password = os.getenv('DB_PASSWORD')\n",
    "\n",
    "db_connection_string = 'postgresql+psycopg2://%s:%s@%s:5432/%s' % (db_user, db_password, db_host, db_name)\n",
    "print('Connection string: ' + db_connection_string)\n",
    "\n",
    "engine = create_engine(db_connection_string)\n",
    "conn = engine.connect()"
   ]
  },
  {
   "cell_type": "code",
   "execution_count": null,
   "id": "49aefad8",
   "metadata": {},
   "outputs": [],
   "source": [
    "region_colors = dict()\n",
    "\n",
    "def hex_to_rgb(value):\n",
    "    value = value.lstrip('#')\n",
    "    lv = len(value)\n",
    "    return tuple(int(value[i:i + lv // 3], 16) / 256.0 for i in range(0, lv, lv // 3))\n",
    "\n",
    "with Session(engine) as session:\n",
    "    data = session.execute('select guid, color_hex_triplet from %s.region' % population_name)\n",
    "    for d in data.all():\n",
    "        region_colors[int(d[0])] = hex_to_rgb(d[1])"
   ]
  },
  {
   "cell_type": "code",
   "execution_count": null,
   "id": "5b2edd2b",
   "metadata": {},
   "outputs": [],
   "source": [
    "model_ids = be.get_model_ids()['ids']\n",
    "for model_id in model_ids:\n",
    "    k = 0\n",
    "    material_ids = be.get_material_ids(model_id)['ids']\n",
    "    palette = list()\n",
    "    opacities = list()\n",
    "    shading_modes = list()\n",
    "    specular_exponents = list()\n",
    "    refraction_indices = list()\n",
    "    glossinesses = list()\n",
    "    for material_id in material_ids:\n",
    "        if nissl_enabled:\n",
    "            c = [0.8, 0.3, 0.8]\n",
    "        else:\n",
    "            c = [1, 0, 0]\n",
    "            m_id = material_id\n",
    "            if m_id in region_colors:\n",
    "                c = region_colors[m_id]\n",
    "        alpha = [1.0, 1.0, 1.0]\n",
    "\n",
    "        shading_modes.append(be.shading_mode.NONE)\n",
    "        glossinesses.append(1.0)\n",
    "        specular_exponents.append(50.0)\n",
    "        palette.append([alpha[0] * c[0], alpha[1] * c[1], alpha[2] * c[2]])\n",
    "        \n",
    "    be.set_materials(\n",
    "        model_ids=[model_id], material_ids=material_ids,\n",
    "        shading_modes=shading_modes, \n",
    "        opacities=opacities, specular_exponents=specular_exponents,\n",
    "        refraction_indices=refraction_indices, glossinesses=glossinesses,\n",
    "        diffuse_colors=palette, specular_colors=palette)"
   ]
  },
  {
   "cell_type": "code",
   "execution_count": null,
   "id": "d8814e6b",
   "metadata": {},
   "outputs": [],
   "source": [
    "status = core.clear_lights()\n",
    "core.add_light_directional(\n",
    "    angularDiameter=45, color=(1,1,1), direction=(0.5, 0.5, 1.2),\n",
    "    intensity=1.0, is_visible=False)"
   ]
  },
  {
   "cell_type": "code",
   "execution_count": null,
   "id": "111cb1ac",
   "metadata": {},
   "outputs": [],
   "source": [
    "background_color = [0.0, 0.0, 0.0]\n",
    "if nissl_enabled:\n",
    "    background_color = [1.0, 1.0, 1.0]\n",
    "\n",
    "status = core.set_renderer(\n",
    "    head_light=False,\n",
    "    current='advanced', background_color=background_color,\n",
    "    subsampling=4, max_accum_frames=128)\n",
    "params = core.AdvancedRendererParams()\n",
    "params.gi_ray_length = 1e6\n",
    "params.shadow_intensity = 1.0\n",
    "params.soft_shadow_strength = 0.5\n",
    "params.main_exposure = 1.5\n",
    "params.max_ray_depth = 1\n",
    "params.epsilon_multiplier = 50.0\n",
    "params.use_hardware_randomizer = True\n",
    "status = core.set_renderer_params(params)"
   ]
  },
  {
   "cell_type": "code",
   "execution_count": null,
   "id": "dbffd507",
   "metadata": {},
   "outputs": [],
   "source": [
    "core.set_camera(\n",
    "    current='perspective',\n",
    "    orientation=[0.8744458160476791, 0.09151682620478456, -0.401564627390352, 0.25634943991934056],\n",
    "    position=[-2565.3701241987646, -2607.8377454106976, -1731.3329308640486],\n",
    "    target=[6733.589672442965, 4796.273454159725, 6016.635720470601],\n",
    ")"
   ]
  },
  {
   "cell_type": "markdown",
   "id": "301ddaec",
   "metadata": {},
   "source": [
    "### Save to cache"
   ]
  },
  {
   "cell_type": "code",
   "execution_count": null,
   "id": "05621f7d",
   "metadata": {},
   "outputs": [],
   "source": [
    "from bioexplorer import SonataExplorer\n",
    "se = SonataExplorer(be)"
   ]
  },
  {
   "cell_type": "code",
   "execution_count": null,
   "id": "bafd72ba",
   "metadata": {},
   "outputs": [],
   "source": [
    "se.save_model_to_cache(model_id=1, path='ccfv3a.soc')"
   ]
  }
 ],
 "metadata": {
  "interpreter": {
   "hash": "ea9a5fa46eb6bad2806a8ea1d08e15bb1e255a2d4320b81e765591579963c56b"
  },
  "kernelspec": {
   "display_name": "Python 3 (ipykernel)",
   "language": "python",
   "name": "python3"
  },
  "language_info": {
   "codemirror_mode": {
    "name": "ipython",
    "version": 3
   },
   "file_extension": ".py",
   "mimetype": "text/x-python",
   "name": "python",
   "nbconvert_exporter": "python",
   "pygments_lexer": "ipython3",
   "version": "3.10.12"
  }
 },
 "nbformat": 4,
 "nbformat_minor": 5
}
