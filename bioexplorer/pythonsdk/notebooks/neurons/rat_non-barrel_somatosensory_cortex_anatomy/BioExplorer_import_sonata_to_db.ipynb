{
 "cells": [
  {
   "cell_type": "markdown",
   "id": "f992ef9f",
   "metadata": {},
   "source": [
    "# BioExplorer - Import SONATA circuit into PostgreSQL database\n",
    "![](../../bioexplorer_neurons_banner.png)"
   ]
  },
  {
   "cell_type": "code",
   "execution_count": null,
   "id": "c2d15b86",
   "metadata": {},
   "outputs": [],
   "source": [
    "import os\n",
    "from sqlalchemy import create_engine\n",
    "from sqlalchemy.orm import Session\n",
    "from tqdm.notebook import tqdm\n",
    "import numpy as np\n",
    "import libsonata\n",
    "import morphio"
   ]
  },
  {
   "cell_type": "markdown",
   "id": "43a95611",
   "metadata": {},
   "source": [
    "### Create the DB schema\n",
    "In the PostgreSQL database, create the schema using the provided [SQL statements](../../../../../storage/database/02_bioexplorer_neurons_schema.sql)"
   ]
  },
  {
   "cell_type": "code",
   "execution_count": null,
   "id": "1e0f227d",
   "metadata": {},
   "outputs": [],
   "source": [
    "data_folder = os.getenv('O1_DATA_ANATOMY')\n",
    "population_name = 'S1nonbarrel_neurons'"
   ]
  },
  {
   "cell_type": "markdown",
   "id": "a834b1e2",
   "metadata": {},
   "source": [
    "### Open rat non-barrel somatosensory cortex SONATA Circuit"
   ]
  },
  {
   "cell_type": "code",
   "execution_count": null,
   "id": "3eed1274",
   "metadata": {},
   "outputs": [],
   "source": [
    "circuit_config = os.path.join(data_folder, 'circuit_config.json')\n",
    "circuit = libsonata.CircuitConfig.from_file(circuit_config)"
   ]
  },
  {
   "cell_type": "markdown",
   "id": "09543792",
   "metadata": {},
   "source": [
    "### Import data into the DB"
   ]
  },
  {
   "cell_type": "code",
   "execution_count": null,
   "id": "345ec844",
   "metadata": {
    "scrolled": true
   },
   "outputs": [],
   "source": [
    "db_host = os.getenv('DB_HOST')\n",
    "db_name = os.getenv('DB_NAME')\n",
    "db_user = os.getenv('DB_USER')\n",
    "db_password = os.getenv('DB_PASSWORD')\n",
    "db_schema = population_name\n",
    "\n",
    "db_connection_string = 'postgresql+psycopg2://%s:%s@%s:5432/%s' % (db_user, db_password, db_host, db_name)\n",
    "print('Connection string: ' + db_connection_string + ', schema: ' + db_schema)\n",
    "\n",
    "engine = create_engine(db_connection_string)\n",
    "conn = engine.connect()"
   ]
  },
  {
   "cell_type": "markdown",
   "id": "6c334823",
   "metadata": {},
   "source": [
    "#### Read SONATA input"
   ]
  },
  {
   "cell_type": "code",
   "execution_count": null,
   "id": "c226eec8",
   "metadata": {},
   "outputs": [],
   "source": [
    "nodes = circuit.node_population(population_name)\n",
    "ids = np.arange(0, nodes.size)\n",
    "\n",
    "etypes = nodes.get_attribute('etype', list(ids))\n",
    "mtypes = nodes.get_attribute('mtype', list(ids))\n",
    "regions = nodes.get_attribute('region', list(ids))\n",
    "layers = nodes.get_attribute('layer', list(ids))\n",
    "morphologies = nodes.get_attribute('morphology', list(ids))\n",
    "morphology_classes = nodes.get_attribute('morph_class', list(ids))\n",
    "xs = nodes.get_attribute('x', list(ids))\n",
    "ys = nodes.get_attribute('y', list(ids))\n",
    "zs = nodes.get_attribute('z', list(ids))\n",
    "oxs = nodes.get_attribute('orientation_x', list(ids))\n",
    "oys = nodes.get_attribute('orientation_y', list(ids))\n",
    "ozs = nodes.get_attribute('orientation_z', list(ids))\n",
    "ows = nodes.get_attribute('orientation_w', list(ids))\n",
    "synapse_classes = nodes.get_attribute('synapse_class', list(ids))"
   ]
  },
  {
   "cell_type": "markdown",
   "id": "111bccfe",
   "metadata": {},
   "source": [
    "#### Import electrical types"
   ]
  },
  {
   "cell_type": "code",
   "execution_count": null,
   "id": "fe05cc92",
   "metadata": {},
   "outputs": [],
   "source": [
    "etypes_guids = dict()\n",
    "with Session(engine) as session:\n",
    "    session.execute('DELETE FROM %s.electrical_type' % db_schema)\n",
    "    session.commit()\n",
    "\n",
    "duplicates = list()\n",
    "etypes_set = set(etypes)\n",
    "count = 0\n",
    "with Session(engine) as session:\n",
    "    for etype in tqdm(etypes_set):\n",
    "        try:\n",
    "            session.execute(\n",
    "                'INSERT INTO %s.electrical_type VALUES (:guid, :code)' % db_schema,\n",
    "                {\n",
    "                    'guid': count,\n",
    "                    'code': etype\n",
    "                }\n",
    "            )\n",
    "            etypes_guids[etype] = count\n",
    "            count += 1\n",
    "            session.commit()\n",
    "        except Exception as e:\n",
    "            duplicates.append(etype)"
   ]
  },
  {
   "cell_type": "markdown",
   "id": "67094207",
   "metadata": {},
   "source": [
    "#### Import morphological types"
   ]
  },
  {
   "cell_type": "code",
   "execution_count": null,
   "id": "e208aa58",
   "metadata": {},
   "outputs": [],
   "source": [
    "mtypes_guids = dict()\n",
    "with Session(engine) as session:\n",
    "    session.execute('DELETE FROM %s.morphological_type' % db_schema)\n",
    "    session.commit()\n",
    "\n",
    "duplicates = list()\n",
    "mtypes_set = set(mtypes)\n",
    "count = 0\n",
    "with Session(engine) as session:\n",
    "    for mtype in tqdm(mtypes_set):\n",
    "        try:\n",
    "            session.execute(\n",
    "                'INSERT INTO %s.morphological_type VALUES (:guid, :code)' % db_schema,\n",
    "                {\n",
    "                    'guid': count,\n",
    "                    'code': mtype\n",
    "                }\n",
    "            )\n",
    "            mtypes_guids[mtype] = count\n",
    "            count += 1\n",
    "            session.commit()\n",
    "        except Exception as e:\n",
    "            duplicates.append(mtype)"
   ]
  },
  {
   "cell_type": "markdown",
   "id": "259b781f",
   "metadata": {},
   "source": [
    "#### Import regions"
   ]
  },
  {
   "cell_type": "code",
   "execution_count": null,
   "id": "414ef015",
   "metadata": {},
   "outputs": [],
   "source": [
    "regions_guids = dict()\n",
    "with Session(engine) as session:\n",
    "    session.execute('DELETE FROM %s.region' % db_schema)\n",
    "    session.commit()\n",
    "\n",
    "duplicates = list()\n",
    "regions_set = set(regions)\n",
    "count = 0\n",
    "with Session(engine) as session:\n",
    "    for region in tqdm(regions_set):\n",
    "        try:\n",
    "            session.execute(\n",
    "                'INSERT INTO %s.region VALUES (:guid, :code)' % db_schema,\n",
    "                {\n",
    "                    'guid': int(count),\n",
    "                    'code': region\n",
    "                }\n",
    "            )\n",
    "            regions_guids[region] = count\n",
    "            count += 1\n",
    "            session.commit()\n",
    "        except Exception as e:\n",
    "            duplicates.append(region)"
   ]
  },
  {
   "cell_type": "markdown",
   "id": "bfe909fa",
   "metadata": {},
   "source": [
    "#### Import layers"
   ]
  },
  {
   "cell_type": "code",
   "execution_count": null,
   "id": "00585bcd",
   "metadata": {},
   "outputs": [],
   "source": [
    "layers_guids = dict()\n",
    "with Session(engine) as session:\n",
    "    session.execute('DELETE FROM %s.layer' % db_schema)\n",
    "    session.commit()\n",
    "\n",
    "duplicates = list()\n",
    "layers_set = set(layers)\n",
    "count = 0\n",
    "with Session(engine) as session:\n",
    "    for layer in tqdm(layers_set):\n",
    "        try:\n",
    "            session.execute(\n",
    "                'INSERT INTO %s.layer VALUES (:guid, :code)' % db_schema,\n",
    "                {\n",
    "                    'guid': int(count),\n",
    "                    'code': int(layer)\n",
    "                }\n",
    "            )\n",
    "            layers_guids[layer] = count\n",
    "            count += 1\n",
    "            session.commit()\n",
    "        except Exception as e:\n",
    "            duplicates.append(layer)"
   ]
  },
  {
   "cell_type": "markdown",
   "id": "f2d4b3d7",
   "metadata": {},
   "source": [
    "#### Import morphology classes"
   ]
  },
  {
   "cell_type": "code",
   "execution_count": null,
   "id": "956a94ae",
   "metadata": {},
   "outputs": [],
   "source": [
    "morphology_classes_guids = dict()\n",
    "with Session(engine) as session:\n",
    "    session.execute('DELETE FROM %s.morphology_class' % db_schema)\n",
    "    session.commit()\n",
    "\n",
    "duplicates = list()\n",
    "morphology_classes_set = set(morphology_classes)\n",
    "count = 0\n",
    "with Session(engine) as session:\n",
    "    for morphology_class in tqdm(morphology_classes_set):\n",
    "        try:\n",
    "            session.execute(\n",
    "                'INSERT INTO %s.morphology_class VALUES (:guid, :code)' % db_schema,\n",
    "                {\n",
    "                    'guid': count,\n",
    "                    'code': etype\n",
    "                }\n",
    "            )\n",
    "            morphology_classes_guids[morphology_class] = count\n",
    "            count += 1\n",
    "            session.commit()\n",
    "        except Exception as e:\n",
    "            duplicates.append(morphology_class)"
   ]
  },
  {
   "cell_type": "markdown",
   "id": "25b52380",
   "metadata": {},
   "source": [
    "#### Import synapse classes"
   ]
  },
  {
   "cell_type": "code",
   "execution_count": null,
   "id": "47df09ac",
   "metadata": {},
   "outputs": [],
   "source": [
    "synapse_classes_guids = dict()\n",
    "with Session(engine) as session:\n",
    "    session.execute('DELETE FROM %s.synapse_class' % db_schema)\n",
    "    session.commit()\n",
    "\n",
    "duplicates = list()\n",
    "synapse_classes_set = set(synapse_classes)\n",
    "count = 0\n",
    "with Session(engine) as session:\n",
    "    for synapse_class in tqdm(synapse_classes_set):\n",
    "        try:\n",
    "            session.execute(\n",
    "                'INSERT INTO %s.synapse_class VALUES (:guid, :code)' % db_schema,\n",
    "                {\n",
    "                    'guid': count,\n",
    "                    'code': synapse_class\n",
    "                }\n",
    "            )\n",
    "            synapse_classes_guids[synapse_class] = count\n",
    "            count += 1\n",
    "            session.commit()\n",
    "        except Exception as e:\n",
    "            duplicates.append(synapse_class)"
   ]
  },
  {
   "cell_type": "markdown",
   "id": "a284c9fd",
   "metadata": {},
   "source": [
    "#### Import morphologies"
   ]
  },
  {
   "cell_type": "code",
   "execution_count": null,
   "id": "2028b2f9",
   "metadata": {},
   "outputs": [],
   "source": [
    "morphologies_guids = dict()\n",
    "with Session(engine) as session:\n",
    "    session.execute('DELETE FROM %s.morphology' % db_schema)\n",
    "    session.commit()\n",
    "\n",
    "duplicates = list()\n",
    "morphologies_set = set(morphologies)\n",
    "count = 0\n",
    "with Session(engine) as session:\n",
    "    for morphology in tqdm(morphologies_set):\n",
    "        try:\n",
    "            session.execute(\n",
    "                'INSERT INTO %s.morphology VALUES (:guid, :basename)' % db_schema,\n",
    "                {\n",
    "                    'guid': count,\n",
    "                    'basename': morphology\n",
    "                }\n",
    "            )\n",
    "            morphologies_guids[morphology] = count\n",
    "            count += 1\n",
    "            session.commit()\n",
    "        except Exception as e:\n",
    "            print(e)\n",
    "            duplicates.append(morphology)\n",
    "            break"
   ]
  },
  {
   "cell_type": "code",
   "execution_count": null,
   "id": "f1164c5f",
   "metadata": {},
   "outputs": [],
   "source": [
    "props = circuit.node_population_properties(population_name)\n",
    "morphology_folder = props.morphologies_dir"
   ]
  },
  {
   "cell_type": "code",
   "execution_count": null,
   "id": "3767f80f",
   "metadata": {},
   "outputs": [],
   "source": [
    "section_types = dict()\n",
    "section_types[morphio.SectionType.soma] = 0\n",
    "section_types[morphio.SectionType.axon] = 1\n",
    "section_types[morphio.SectionType.basal_dendrite] = 2\n",
    "section_types[morphio.SectionType.apical_dendrite] = 3\n",
    "\n",
    "section_type_descriptions = dict()\n",
    "section_type_descriptions[0] = 'Soma'\n",
    "section_type_descriptions[1] = 'Axon'\n",
    "section_type_descriptions[2] = 'Basal dendrite'\n",
    "section_type_descriptions[3] = 'Apical dendrite'"
   ]
  },
  {
   "cell_type": "code",
   "execution_count": null,
   "id": "6c68df14",
   "metadata": {},
   "outputs": [],
   "source": [
    "with Session(engine) as session:\n",
    "    session.execute('DELETE FROM %s.section_type' % db_schema)\n",
    "    session.commit()\n",
    "\n",
    "duplicates = list()\n",
    "with Session(engine) as session:\n",
    "    for section_type in tqdm(section_types):\n",
    "        try:\n",
    "            guid = section_types[section_type]\n",
    "            session.execute(\n",
    "                'INSERT INTO %s.section_type VALUES (:guid, :description)' % db_schema,\n",
    "                {\n",
    "                    'guid': int(guid),\n",
    "                    'description': section_type_descriptions[guid]\n",
    "                }\n",
    "            )\n",
    "            session.commit()\n",
    "        except Exception as e:\n",
    "            print(e)\n",
    "            duplicates.append(section_type)"
   ]
  },
  {
   "cell_type": "code",
   "execution_count": null,
   "id": "3e2bca41",
   "metadata": {},
   "outputs": [],
   "source": [
    "with Session(engine) as session:\n",
    "    session.execute('DELETE FROM %s.section' % db_schema)\n",
    "    session.commit()\n",
    "\n",
    "with Session(engine) as session:\n",
    "    for morphology_guid in tqdm(range(len(morphologies_guids))):\n",
    "        morphology=morphologies[morphology_guid]\n",
    "        morphology_file = os.path.join(morphology_folder, morphology + '.asc')\n",
    "        m = morphio.Morphology(morphology_file)\n",
    "\n",
    "        for section in m.sections:\n",
    "            section_type_guid = section_types[section.type]\n",
    "            parent = -1\n",
    "            if not section.is_root:\n",
    "                parent =  section.parent.id\n",
    "\n",
    "            points = list()\n",
    "            for i in range(len(section.points)):\n",
    "                point = section.points[i]\n",
    "                points.append(point[0])\n",
    "                points.append(point[1])\n",
    "                points.append(point[2])\n",
    "                points.append(section.diameters[i])\n",
    "            buffer = np.array(points, dtype=np.float32).tobytes()\n",
    "\n",
    "            point = section.points[0]\n",
    "\n",
    "            session.execute(\n",
    "                'INSERT INTO %s.section VALUES (:morphology_guid, :section_guid, :section_parent_guid, :section_type_guid, :points, :x, :y, :z)' % db_schema,\n",
    "                {\n",
    "                    'morphology_guid': morphology_guid,\n",
    "                    'section_guid': section.id,\n",
    "                    'section_parent_guid': parent,\n",
    "                    'section_type_guid': section_type_guid,\n",
    "                    'points': buffer,\n",
    "                    'x': float(point[0]),\n",
    "                    'y': float(point[1]),\n",
    "                    'z': float(point[2])\n",
    "                }\n",
    "            )\n",
    "        if morphology_guid%10 == 0:\n",
    "            session.commit()\n",
    "    session.commit()"
   ]
  },
  {
   "cell_type": "markdown",
   "id": "830065d4",
   "metadata": {},
   "source": [
    "#### Import nodes"
   ]
  },
  {
   "cell_type": "code",
   "execution_count": null,
   "id": "ad3dc306",
   "metadata": {},
   "outputs": [],
   "source": [
    "print('Deleting existing nodes')\n",
    "with Session(engine) as session:\n",
    "    session.execute('DELETE FROM %s.node' % db_schema)\n",
    "    session.commit()\n",
    "\n",
    "errors = list()\n",
    "with Session(engine) as session:\n",
    "    for i in tqdm(range(nodes.size)):\n",
    "        try:\n",
    "            session.execute(\n",
    "                'INSERT INTO %s.node VALUES ( \\\n",
    "                    :guid, :x, :y, :z, :rotation_x, :rotation_y, :rotation_z, :rotation_w, \\\n",
    "                    :morphology, :morphology_class, \\\n",
    "                    :etype, :mtype, :region, :layer, :synapse_class)' % db_schema,\n",
    "                {\n",
    "                    'guid': int(i),\n",
    "                    'x': xs[i],\n",
    "                    'y': ys[i],\n",
    "                    'z': zs[i],\n",
    "                    'rotation_x': oxs[i],\n",
    "                    'rotation_y': oys[i],\n",
    "                    'rotation_z': ozs[i],\n",
    "                    'rotation_w': ows[i],\n",
    "                    'morphology': int(morphologies_guids[morphologies[i]]),\n",
    "                    'morphology_class': int(morphology_classes_guids[morphology_classes[i]]),\n",
    "                    'etype': int(etypes_guids[etypes[i]]),\n",
    "                    'mtype': int(mtypes_guids[mtypes[i]]),\n",
    "                    'region': int(regions_guids[regions[i]]),\n",
    "                    'layer': int(layers_guids[layers[i]]),\n",
    "                    'synapse_class': int(synapse_classes_guids[synapse_classes[i]])\n",
    "                }\n",
    "            )\n",
    "            if i%1000==0:\n",
    "                session.commit()\n",
    "        except Exception as e:\n",
    "            print(e)\n",
    "            errors.append(e)\n",
    "            break\n",
    "        session.commit()"
   ]
  }
 ],
 "metadata": {
  "kernelspec": {
   "display_name": "Python 3.8.10 ('env')",
   "language": "python",
   "name": "python3"
  },
  "language_info": {
   "codemirror_mode": {
    "name": "ipython",
    "version": 3
   },
   "file_extension": ".py",
   "mimetype": "text/x-python",
   "name": "python",
   "nbconvert_exporter": "python",
   "pygments_lexer": "ipython3",
   "version": "3.8.10"
  },
  "vscode": {
   "interpreter": {
    "hash": "ea9a5fa46eb6bad2806a8ea1d08e15bb1e255a2d4320b81e765591579963c56b"
   }
  }
 },
 "nbformat": 4,
 "nbformat_minor": 5
}
