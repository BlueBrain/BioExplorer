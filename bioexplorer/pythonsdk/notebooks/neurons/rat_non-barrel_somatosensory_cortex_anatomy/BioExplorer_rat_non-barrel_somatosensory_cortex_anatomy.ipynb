{
 "cells": [
  {
   "cell_type": "markdown",
   "id": "b38ea363",
   "metadata": {},
   "source": [
    "# BioExplorer - Rat Non-barrel Somatosensory Cortex Anatomy\n",
    "![](../../bioexplorer_neurons_banner.png)"
   ]
  },
  {
   "cell_type": "markdown",
   "id": "f8c4148b",
   "metadata": {},
   "source": [
    "Source: https://zenodo.org/record/6906785#.YwzhpdVBxH7"
   ]
  },
  {
   "cell_type": "code",
   "execution_count": null,
   "id": "6c59fe3c",
   "metadata": {},
   "outputs": [],
   "source": [
    "import os\n",
    "import bluepysnap  # https://bluebrainsnap.readthedocs.io/en/stable/\n",
    "import neurom  # https://neurom.readthedocs.io/en/stable/\n",
    "import pandas\n",
    "import numpy\n",
    "import scipy\n",
    "\n",
    "from neurom import viewer\n",
    "\n",
    "data_folder = os.getenv('O1_DATA_ANATOMY')\n",
    "fn_extr = os.path.join(data_folder, 'circuit_config.json')\n",
    "circ_extr = bluepysnap.Circuit(fn_extr)\n",
    "\n",
    "population_name = 'S1nonbarrel_neurons'\n"
   ]
  },
  {
   "cell_type": "markdown",
   "id": "6b95c8aa",
   "metadata": {},
   "source": [
    "### Neuron populations and their properties\n",
    "\n",
    "The model contains a number of neuron (or node) populations. Let's list them, then I'll explain them"
   ]
  },
  {
   "cell_type": "code",
   "execution_count": null,
   "id": "a03ced50",
   "metadata": {},
   "outputs": [],
   "source": [
    "print(circ_extr.nodes.population_names)"
   ]
  },
  {
   "cell_type": "markdown",
   "id": "34af5095",
   "metadata": {},
   "source": [
    "We find five populations. One population is the most important one: 'S1nonbarrel_neurons' denotes the neurons actually in the model. The ones that can be simulated. The other four denote external populations that innervate the 'S1nonbarrel_neurons':\n",
    "\n",
    "'POm' and 'VPM' are innervating neurons from those thalamic nuclei respectively. Representing a \"matrix-type\" and \"core-type\" projection respectively.\n",
    "'external_S1nonbarrel_neurons__S1nonbarrel_neurons__chemical' and 'external_midrange__S1nonbarrel_neurons__chemical' denote nonbarrel S1 neurons outside the modeled population that innervate the modeled population. The difference between them is as follows: 'external_midrange...' innervates via long-range connections, while 'external_S1...' innervates via local connections. For an explanation of \"local\" vs. \"long-range\" connections, see the accompanying manuscript. \n",
    "\n",
    "\n",
    "Now we can load the properties of the neurons in these populations."
   ]
  },
  {
   "cell_type": "code",
   "execution_count": null,
   "id": "d90f09ce",
   "metadata": {},
   "outputs": [],
   "source": [
    "lst_properties = ['layer', 'region', 'synapse_class', 'population',\n",
    "                  'orientation_x', 'orientation_y', 'orientation_z', 'orientation_w',\n",
    "                  'morph_class', 'model_type', 'mtype', 'morphology',\n",
    "                  'x', 'y', 'z']\n",
    "n_props = circ_extr.nodes.get(properties=lst_properties)\n",
    "display(n_props.loc[population_name])"
   ]
  },
  {
   "cell_type": "markdown",
   "id": "40eee57f",
   "metadata": {},
   "source": [
    "'layer', 'region' specify in which cortical region and layer a neuron was placed.\n",
    "\n",
    "'x', 'y', 'z' specify the exact coordinate (in um) in the atlas that a neuron was placed at.\n",
    "\n",
    "'orientation_x', 'orientation_y', 'orientation_z', 'orientation_w' define a quarternion that specifies the rotation that is applied to the neuron morphology in placement.\n",
    "\n",
    "'synapse_class', 'morph_class', 'mtype' specify the class of neuron in terms of being excitatory vs inhibitory, pyramidal vs interneuron and the morphological type.\n",
    "\n",
    "'morphology' specifies the name of the morphological reconstruction of the neuron\n",
    "\n",
    "'model_type' specifies whether a neuron is actually part of the model that can be simulated (\"biophysical\") or an external innervator (\"virtual\"). As explained above, all 'S1nonbarrel_neurons' are \"biophysical\", the others are all \"virtual\".\n",
    "\n",
    "\n",
    "Note that for the \"virtual\" neurons some properties are unassigned and therefore reported as NaN. "
   ]
  },
  {
   "cell_type": "code",
   "execution_count": null,
   "id": "00758ca2",
   "metadata": {},
   "outputs": [],
   "source": [
    "display(n_props.loc['external_S1nonbarrel_neurons__S1nonbarrel_neurons__chemical'])  # Some columns are NaN"
   ]
  },
  {
   "cell_type": "markdown",
   "id": "2116c3de",
   "metadata": {},
   "source": [
    "### Neuron morphologies\n",
    "\n",
    "For the 'S1nonbarrel_neurons' population, we can then load their morphologies with some simple helper functions.\n",
    "\n",
    "For this example, we load and draw and exemplary neuron. For more that can be done with the loaded morphology, see the NeuroM documentation linked in the first cell of this notebook."
   ]
  },
  {
   "cell_type": "code",
   "execution_count": null,
   "id": "fc745998",
   "metadata": {},
   "outputs": [],
   "source": [
    "S1nonbarrel_cfg = circ_extr.config[\"networks\"][\"nodes\"][0][\"populations\"][population_name]\n",
    "\n",
    "def transform_neuron(nrn_morph, neuron_row):\n",
    "    rot = scipy.spatial.transform.Rotation.from_quat(neuron_row[[\"orientation_x\", \"orientation_y\",\n",
    "                                                                 \"orientation_z\", \"orientation_w\"]].values)\n",
    "    rot = neurom.geom.transform.Rotation(rot.as_matrix())\n",
    "    tl = neurom.geom.transform.Translation(neuron_row[[\"x\", \"y\", \"z\"]].values)\n",
    "    return nrn_morph.transform(rot).transform(tl)\n",
    "    \n",
    "def load_neuron(population_cfg, neuron_row, transform=True):\n",
    "    assert neuron_row[\"model_type\"] == \"biophysical\", \"Cannot load morphologies of virtual neurons\"\n",
    "    fn = os.path.join(\n",
    "        population_cfg[\"alternate_morphologies\"][\"neurolucida-asc\"],\n",
    "        neuron_row[\"morphology\"] + \".asc\"\n",
    "    )\n",
    "    nrn = neurom.load_neuron(fn)\n",
    "    if transform:\n",
    "        nrn = transform_neuron(nrn, neuron_row)\n",
    "    return nrn\n",
    "\n",
    "nrn_morph = load_neuron(S1nonbarrel_cfg, n_props.loc[(population_name, 0)])\n",
    "viewer.draw(nrn_morph)"
   ]
  },
  {
   "cell_type": "markdown",
   "id": "b2b5a18d",
   "metadata": {},
   "source": [
    "### Synaptic connectivity\n",
    "\n",
    "The synaptic connectivity of the model is accessed using circ_extr.edges.\n",
    "As an example, let's find out which neurons innervate an exemplary neuron"
   ]
  },
  {
   "cell_type": "code",
   "execution_count": null,
   "id": "b2bb8a6d",
   "metadata": {},
   "outputs": [],
   "source": [
    "# The method we use below requires node ids as input. So we load the ids of the \"S1nonbarrel_neurons\"\n",
    "node_ids = circ_extr.nodes.ids().filter_population(population_name)\n",
    "\n",
    "# This will be our examplary neuron. Let's look at its properties\n",
    "display(n_props.loc[node_ids[0]])\n",
    "\n",
    "# Which neurons are afferent to the first one?\n",
    "aff = circ_extr.edges.afferent_nodes(node_ids[0])\n",
    "# What's returned can be used as index into the neuron properties data frame\n",
    "aff_props = n_props.loc[aff]\n",
    "\n",
    "# Look at the regions of neurons innervating the exemplary one from within the model population\n",
    "display(aff_props[\"region\"][population_name].value_counts())"
   ]
  },
  {
   "cell_type": "markdown",
   "id": "22d8b554",
   "metadata": {},
   "source": [
    "We see that the exemplary neuron is a L1_DAC neuron in the S1FL (front limb) area. From within the modeled population, it is mostly innervated by other S1FL neurons.\n",
    "\n",
    "Let's see what external neurons innervate it."
   ]
  },
  {
   "cell_type": "code",
   "execution_count": null,
   "id": "60ec58c8",
   "metadata": {},
   "outputs": [],
   "source": [
    "# External innervation via local connections\n",
    "display(aff_props[\"region\"][\"external_S1nonbarrel_neurons__S1nonbarrel_neurons__chemical\"].value_counts())\n",
    "\n",
    "# External innervation via long-range connections\n",
    "display(aff_props[\"region\"][\"external_midrange__S1nonbarrel_neurons__chemical\"].value_counts())\n"
   ]
  },
  {
   "cell_type": "markdown",
   "id": "e7588e6d",
   "metadata": {},
   "source": [
    "Unsurprisingly, we see that external innervation via local connection comes also mostly from S1FL. For long-range connections though, S1ULp is dominating."
   ]
  },
  {
   "cell_type": "markdown",
   "id": "04b56f2c",
   "metadata": {},
   "source": [
    "## Visualize with the Blue Brain BioExplorer"
   ]
  },
  {
   "cell_type": "markdown",
   "id": "084953fe",
   "metadata": {},
   "source": [
    "### Connect to back-end"
   ]
  },
  {
   "cell_type": "code",
   "execution_count": null,
   "id": "c2950121",
   "metadata": {},
   "outputs": [],
   "source": [
    "from bioexplorer import BioExplorer\n",
    "\n",
    "url = 'localhost:5000'\n",
    "be = BioExplorer(url)\n",
    "\n",
    "core = be.core_api()\n",
    "status = be.reset_scene()"
   ]
  },
  {
   "cell_type": "markdown",
   "id": "0a1b20e1",
   "metadata": {},
   "source": [
    "### Load neurons"
   ]
  },
  {
   "cell_type": "code",
   "execution_count": null,
   "id": "3b940078",
   "metadata": {},
   "outputs": [],
   "source": [
    "assembly_name = 'Neurons'\n",
    "be.remove_assembly(assembly_name)\n",
    "neurons_assembly = be.add_assembly(assembly_name)\n",
    "\n",
    "neurons_model = be.add_neurons(\n",
    "    assembly_name=assembly_name,\n",
    "    population_name=population_name,\n",
    "    morphology_representation=be.MORPHOLOGY_REPRESENTATION_SEGMENT,\n",
    "    morphology_color_scheme=be.MORPHOLOGY_COLOR_SCHEME_SECTION_TYPE,\n",
    "    use_sdf=True,\n",
    "    sql_node_filter='guid%100=0' # Only import 1 neuron in 100\n",
    ")\n",
    "\n",
    "be.reset_camera()"
   ]
  }
 ],
 "metadata": {
  "kernelspec": {
   "display_name": "Python 3.8.10 ('env')",
   "language": "python",
   "name": "python3"
  },
  "language_info": {
   "codemirror_mode": {
    "name": "ipython",
    "version": 3
   },
   "file_extension": ".py",
   "mimetype": "text/x-python",
   "name": "python",
   "nbconvert_exporter": "python",
   "pygments_lexer": "ipython3",
   "version": "3.8.10"
  },
  "vscode": {
   "interpreter": {
    "hash": "ea9a5fa46eb6bad2806a8ea1d08e15bb1e255a2d4320b81e765591579963c56b"
   }
  }
 },
 "nbformat": 4,
 "nbformat_minor": 5
}
