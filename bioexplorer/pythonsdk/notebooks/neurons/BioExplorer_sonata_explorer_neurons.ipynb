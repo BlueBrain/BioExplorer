{
    "cells": [
        {
            "attachments": {},
            "cell_type": "markdown",
            "id": "f992ef9f",
            "metadata": {},
            "source": [
                "# BioExplorer - Neurons\n",
                "![](../bioexplorer_neurons_banner.png)"
            ]
        },
        {
            "attachments": {},
            "cell_type": "markdown",
            "id": "084953fe",
            "metadata": {},
            "source": [
                "### Connect to back-end"
            ]
        },
        {
            "cell_type": "code",
            "execution_count": null,
            "id": "697e36dd",
            "metadata": {
                "scrolled": false
            },
            "outputs": [],
            "source": [
                "from bioexplorer import BioExplorer, SonataExplorer\n",
                "\n",
                "url = 'ldir01u09:5000'\n",
                "# url = 'localhost:5000'\n",
                "be = BioExplorer(url)\n",
                "se = SonataExplorer(be)\n",
                "\n",
                "core = be.core_api()\n",
                "status = be.reset_scene()"
            ]
        },
        {
            "attachments": {},
            "cell_type": "markdown",
            "id": "a72cdcd5",
            "metadata": {},
            "source": [
                "### Load neurons"
            ]
        },
        {
            "cell_type": "code",
            "execution_count": 47,
            "id": "990bc650",
            "metadata": {},
            "outputs": [],
            "source": [
                "status = se.enabled_morphology_cache(False)"
            ]
        },
        {
            "cell_type": "code",
            "execution_count": 48,
            "id": "3007d98c",
            "metadata": {},
            "outputs": [
                {
                    "ename": "RequestError",
                    "evalue": "Socket connection closed",
                    "output_type": "error",
                    "traceback": [
                        "\u001b[0;31m---------------------------------------------------------------------------\u001b[0m",
                        "\u001b[0;31mRequestError\u001b[0m                              Traceback (most recent call last)",
                        "Cell \u001b[0;32mIn[48], line 1\u001b[0m\n\u001b[0;32m----> 1\u001b[0m neurons_model \u001b[38;5;241m=\u001b[39m \u001b[43mse\u001b[49m\u001b[38;5;241;43m.\u001b[39;49m\u001b[43mload_circuit\u001b[49m\u001b[43m(\u001b[49m\n\u001b[1;32m      2\u001b[0m \u001b[43m    \u001b[49m\u001b[43mname\u001b[49m\u001b[38;5;241;43m=\u001b[39;49m\u001b[38;5;124;43m'\u001b[39;49m\u001b[38;5;124;43mTestData\u001b[39;49m\u001b[38;5;124;43m'\u001b[39;49m\u001b[43m,\u001b[49m\n\u001b[1;32m      3\u001b[0m \u001b[43m    \u001b[49m\u001b[38;5;66;43m# path='/gpfs/bbp.cscs.ch/project/proj129/circuits/o1/BlueConfig',\u001b[39;49m\n\u001b[1;32m      4\u001b[0m \u001b[43m    \u001b[49m\u001b[43mpath\u001b[49m\u001b[38;5;241;43m=\u001b[39;49m\u001b[38;5;124;43m'\u001b[39;49m\u001b[38;5;124;43m/gpfs/bbp.cscs.ch/project/proj68/home/kumbhar/NCX-246/sim2/BlueConfig\u001b[39;49m\u001b[38;5;124;43m'\u001b[39;49m\u001b[43m,\u001b[49m\n\u001b[1;32m      5\u001b[0m \u001b[43m    \u001b[49m\u001b[38;5;66;43m# path='/gpfs/bbp.cscs.ch/project/proj42/simulations/CA1.20190306/20190602/BlueConfig',\u001b[39;49m\n\u001b[1;32m      6\u001b[0m \u001b[43m    \u001b[49m\u001b[43mreport\u001b[49m\u001b[38;5;241;43m=\u001b[39;49m\u001b[38;5;124;43m'\u001b[39;49m\u001b[38;5;124;43msoma\u001b[39;49m\u001b[38;5;124;43m'\u001b[39;49m\u001b[43m,\u001b[49m\n\u001b[1;32m      7\u001b[0m \u001b[43m    \u001b[49m\u001b[43mdensity\u001b[49m\u001b[38;5;241;43m=\u001b[39;49m\u001b[38;5;241;43m1.0\u001b[39;49m\u001b[43m,\u001b[49m\n\u001b[1;32m      8\u001b[0m \u001b[43m    \u001b[49m\u001b[38;5;66;43m# density=0.1,\u001b[39;49m\n\u001b[1;32m      9\u001b[0m \u001b[43m    \u001b[49m\u001b[43mload_axon\u001b[49m\u001b[38;5;241;43m=\u001b[39;49m\u001b[38;5;28;43;01mFalse\u001b[39;49;00m\u001b[43m,\u001b[49m\u001b[43m \u001b[49m\u001b[43mload_apical_dendrite\u001b[49m\u001b[38;5;241;43m=\u001b[39;49m\u001b[38;5;28;43;01mTrue\u001b[39;49;00m\u001b[43m,\u001b[49m\u001b[43m \u001b[49m\u001b[43mload_dendrite\u001b[49m\u001b[38;5;241;43m=\u001b[39;49m\u001b[38;5;28;43;01mTrue\u001b[39;49;00m\u001b[43m,\u001b[49m\n\u001b[1;32m     10\u001b[0m \u001b[43m    \u001b[49m\u001b[43mvoltage_scaling\u001b[49m\u001b[38;5;241;43m=\u001b[39;49m\u001b[38;5;241;43m0.02\u001b[39;49m\u001b[43m,\u001b[49m\u001b[43m \u001b[49m\u001b[43minitial_simulation_frame\u001b[49m\u001b[38;5;241;43m=\u001b[39;49m\u001b[38;5;241;43m3\u001b[39;49m\n\u001b[1;32m     11\u001b[0m \u001b[43m)\u001b[49m\n",
                        "File \u001b[0;32m~/Notebooks/env/lib/python3.10/site-packages/bioexplorer/sonata_explorer.py:277\u001b[0m, in \u001b[0;36mSonataExplorer.load_circuit\u001b[0;34m(self, path, name, density, gids, random_seed, targets, report, report_type, user_data_type, synchronous_mode, circuit_color_scheme, mesh_folder, mesh_filename_pattern, mesh_transformation, radius_multiplier, radius_correction, load_soma, load_axon, load_dendrite, load_apical_dendrite, use_sdf_soma, use_sdf_branches, use_sdf_nucleus, use_sdf_mitochondria, use_sdf_synapses, use_sdf_myelin_steath, dampen_branch_thickness_change_rate, morphology_color_scheme, morphology_quality, max_distance_to_soma, cell_clipping, load_afferent_synapses, load_efferent_synapses, generate_internals, generate_externals, align_to_grid, position, rotation, voltage_scaling, initial_simulation_frame)\u001b[0m\n\u001b[1;32m    274\u001b[0m props[\u001b[38;5;124m'\u001b[39m\u001b[38;5;124m121Externals\u001b[39m\u001b[38;5;124m'\u001b[39m] \u001b[38;5;241m=\u001b[39m generate_externals\n\u001b[1;32m    275\u001b[0m props[\u001b[38;5;124m'\u001b[39m\u001b[38;5;124m122AlignToGrid\u001b[39m\u001b[38;5;124m'\u001b[39m] \u001b[38;5;241m=\u001b[39m align_to_grid\n\u001b[0;32m--> 277\u001b[0m \u001b[38;5;28;01mreturn\u001b[39;00m \u001b[38;5;28;43mself\u001b[39;49m\u001b[38;5;241;43m.\u001b[39;49m\u001b[43m_core\u001b[49m\u001b[38;5;241;43m.\u001b[39;49m\u001b[43madd_model\u001b[49m\u001b[43m(\u001b[49m\u001b[43mname\u001b[49m\u001b[38;5;241;43m=\u001b[39;49m\u001b[43mname\u001b[49m\u001b[43m,\u001b[49m\u001b[43m \u001b[49m\u001b[43mpath\u001b[49m\u001b[38;5;241;43m=\u001b[39;49m\u001b[43mpath\u001b[49m\u001b[43m,\u001b[49m\u001b[43m \u001b[49m\u001b[43mloader_properties\u001b[49m\u001b[38;5;241;43m=\u001b[39;49m\u001b[43mprops\u001b[49m\u001b[43m)\u001b[49m\n",
                        "File \u001b[0;32m~/Notebooks/env/lib/python3.10/site-packages/bioexplorer/core/utils.py:193\u001b[0m, in \u001b[0;36madd_method.<locals>._decorator.<locals>._wrapper\u001b[0;34m(self, *args, **kwargs)\u001b[0m\n\u001b[1;32m    191\u001b[0m \u001b[38;5;129m@wraps\u001b[39m(func)\n\u001b[1;32m    192\u001b[0m \u001b[38;5;28;01mdef\u001b[39;00m \u001b[38;5;21m_wrapper\u001b[39m(\u001b[38;5;28mself\u001b[39m, \u001b[38;5;241m*\u001b[39margs, \u001b[38;5;241m*\u001b[39m\u001b[38;5;241m*\u001b[39mkwargs):\n\u001b[0;32m--> 193\u001b[0m     \u001b[38;5;28;01mreturn\u001b[39;00m \u001b[43mfunc\u001b[49m\u001b[43m(\u001b[49m\u001b[38;5;28;43mself\u001b[39;49m\u001b[43m,\u001b[49m\u001b[43m \u001b[49m\u001b[38;5;241;43m*\u001b[39;49m\u001b[43margs\u001b[49m\u001b[43m,\u001b[49m\u001b[43m \u001b[49m\u001b[38;5;241;43m*\u001b[39;49m\u001b[38;5;241;43m*\u001b[39;49m\u001b[43mkwargs\u001b[49m\u001b[43m)\u001b[49m\n",
                        "File \u001b[0;32m~/Notebooks/env/lib/python3.10/site-packages/bioexplorer/core/utils.py:211\u001b[0m, in \u001b[0;36madd_progress_cancel_widget.<locals>._wrapper\u001b[0;34m(self, *args, **kwargs)\u001b[0m\n\u001b[1;32m    209\u001b[0m \u001b[38;5;129m@wraps\u001b[39m(func)\n\u001b[1;32m    210\u001b[0m \u001b[38;5;28;01mdef\u001b[39;00m \u001b[38;5;21m_wrapper\u001b[39m(\u001b[38;5;28mself\u001b[39m, \u001b[38;5;241m*\u001b[39margs, \u001b[38;5;241m*\u001b[39m\u001b[38;5;241m*\u001b[39mkwargs):  \u001b[38;5;66m# pylint: disable=too-many-locals\u001b[39m\n\u001b[0;32m--> 211\u001b[0m     result \u001b[38;5;241m=\u001b[39m \u001b[43mfunc\u001b[49m\u001b[43m(\u001b[49m\u001b[38;5;28;43mself\u001b[39;49m\u001b[43m,\u001b[49m\u001b[43m \u001b[49m\u001b[38;5;241;43m*\u001b[39;49m\u001b[43margs\u001b[49m\u001b[43m,\u001b[49m\u001b[43m \u001b[49m\u001b[38;5;241;43m*\u001b[39;49m\u001b[38;5;241;43m*\u001b[39;49m\u001b[43mkwargs\u001b[49m\u001b[43m)\u001b[49m\n\u001b[1;32m    213\u001b[0m     \u001b[38;5;28;01mif\u001b[39;00m \u001b[38;5;28misinstance\u001b[39m(result, rockets\u001b[38;5;241m.\u001b[39mRequestTask) \u001b[38;5;129;01mand\u001b[39;00m in_notebook():\n\u001b[1;32m    214\u001b[0m         progress \u001b[38;5;241m=\u001b[39m FloatProgress(\u001b[38;5;28mmin\u001b[39m\u001b[38;5;241m=\u001b[39m\u001b[38;5;241m0\u001b[39m, \u001b[38;5;28mmax\u001b[39m\u001b[38;5;241m=\u001b[39m\u001b[38;5;241m1\u001b[39m, value\u001b[38;5;241m=\u001b[39m\u001b[38;5;241m0\u001b[39m)\n",
                        "File \u001b[0;32m<string>:4\u001b[0m, in \u001b[0;36mfunction\u001b[0;34m(self, path, bounding_box, loader_name, loader_properties, name, transformation, visible, response_timeout)\u001b[0m\n",
                        "File \u001b[0;32m~/Notebooks/env/lib/python3.10/site-packages/rockets/client.py:100\u001b[0m, in \u001b[0;36mClient.request\u001b[0;34m(self, method, params, response_timeout)\u001b[0m\n\u001b[1;32m     92\u001b[0m \u001b[38;5;129m@copydoc\u001b[39m(AsyncClient\u001b[38;5;241m.\u001b[39mrequest)\n\u001b[1;32m     93\u001b[0m \u001b[38;5;28;01mdef\u001b[39;00m \u001b[38;5;21mrequest\u001b[39m(\n\u001b[1;32m     94\u001b[0m     \u001b[38;5;28mself\u001b[39m, method, params\u001b[38;5;241m=\u001b[39m\u001b[38;5;28;01mNone\u001b[39;00m, response_timeout\u001b[38;5;241m=\u001b[39m\u001b[38;5;28;01mNone\u001b[39;00m\n\u001b[1;32m     95\u001b[0m ):  \u001b[38;5;66m# noqa: D102,D205 pylint: disable=C0111,W9011,W9012,W9015,W9016\u001b[39m\n\u001b[1;32m     96\u001b[0m     \u001b[38;5;124m\"\"\"\u001b[39m\n\u001b[1;32m     97\u001b[0m \u001b[38;5;124m    :param int response_timeout: number of seconds to wait for the response\u001b[39m\n\u001b[1;32m     98\u001b[0m \u001b[38;5;124m    :raises TimeoutError: if request was not answered within given response_timeout\u001b[39m\n\u001b[1;32m     99\u001b[0m \u001b[38;5;124m    \"\"\"\u001b[39m\n\u001b[0;32m--> 100\u001b[0m     \u001b[38;5;28;01mreturn\u001b[39;00m \u001b[38;5;28;43mself\u001b[39;49m\u001b[38;5;241;43m.\u001b[39;49m\u001b[43m_call_sync\u001b[49m\u001b[43m(\u001b[49m\u001b[38;5;28;43mself\u001b[39;49m\u001b[38;5;241;43m.\u001b[39;49m\u001b[43m_client\u001b[49m\u001b[38;5;241;43m.\u001b[39;49m\u001b[43mrequest\u001b[49m\u001b[43m(\u001b[49m\u001b[43mmethod\u001b[49m\u001b[43m,\u001b[49m\u001b[43m \u001b[49m\u001b[43mparams\u001b[49m\u001b[43m)\u001b[49m\u001b[43m,\u001b[49m\u001b[43m \u001b[49m\u001b[43mresponse_timeout\u001b[49m\u001b[43m)\u001b[49m\n",
                        "File \u001b[0;32m~/Notebooks/env/lib/python3.10/site-packages/rockets/client.py:119\u001b[0m, in \u001b[0;36mClient._call_sync\u001b[0;34m(self, original_function, response_timeout)\u001b[0m\n\u001b[1;32m    115\u001b[0m \u001b[38;5;28;01mif\u001b[39;00m \u001b[38;5;28mself\u001b[39m\u001b[38;5;241m.\u001b[39m_thread:\n\u001b[1;32m    116\u001b[0m     future \u001b[38;5;241m=\u001b[39m asyncio\u001b[38;5;241m.\u001b[39mrun_coroutine_threadsafe(\n\u001b[1;32m    117\u001b[0m         original_function, \u001b[38;5;28mself\u001b[39m\u001b[38;5;241m.\u001b[39m_client\u001b[38;5;241m.\u001b[39mloop\n\u001b[1;32m    118\u001b[0m     )\n\u001b[0;32m--> 119\u001b[0m     \u001b[38;5;28;01mreturn\u001b[39;00m \u001b[43mfuture\u001b[49m\u001b[38;5;241;43m.\u001b[39;49m\u001b[43mresult\u001b[49m\u001b[43m(\u001b[49m\u001b[43mresponse_timeout\u001b[49m\u001b[43m)\u001b[49m\n\u001b[1;32m    120\u001b[0m \u001b[38;5;28;01mreturn\u001b[39;00m \u001b[38;5;28mself\u001b[39m\u001b[38;5;241m.\u001b[39m_client\u001b[38;5;241m.\u001b[39mloop\u001b[38;5;241m.\u001b[39mrun_until_complete(original_function)\n",
                        "File \u001b[0;32m/usr/lib/python3.10/concurrent/futures/_base.py:458\u001b[0m, in \u001b[0;36mFuture.result\u001b[0;34m(self, timeout)\u001b[0m\n\u001b[1;32m    456\u001b[0m     \u001b[38;5;28;01mraise\u001b[39;00m CancelledError()\n\u001b[1;32m    457\u001b[0m \u001b[38;5;28;01melif\u001b[39;00m \u001b[38;5;28mself\u001b[39m\u001b[38;5;241m.\u001b[39m_state \u001b[38;5;241m==\u001b[39m FINISHED:\n\u001b[0;32m--> 458\u001b[0m     \u001b[38;5;28;01mreturn\u001b[39;00m \u001b[38;5;28;43mself\u001b[39;49m\u001b[38;5;241;43m.\u001b[39;49m\u001b[43m__get_result\u001b[49m\u001b[43m(\u001b[49m\u001b[43m)\u001b[49m\n\u001b[1;32m    459\u001b[0m \u001b[38;5;28;01melse\u001b[39;00m:\n\u001b[1;32m    460\u001b[0m     \u001b[38;5;28;01mraise\u001b[39;00m \u001b[38;5;167;01mTimeoutError\u001b[39;00m()\n",
                        "File \u001b[0;32m/usr/lib/python3.10/concurrent/futures/_base.py:403\u001b[0m, in \u001b[0;36mFuture.__get_result\u001b[0;34m(self)\u001b[0m\n\u001b[1;32m    401\u001b[0m \u001b[38;5;28;01mif\u001b[39;00m \u001b[38;5;28mself\u001b[39m\u001b[38;5;241m.\u001b[39m_exception:\n\u001b[1;32m    402\u001b[0m     \u001b[38;5;28;01mtry\u001b[39;00m:\n\u001b[0;32m--> 403\u001b[0m         \u001b[38;5;28;01mraise\u001b[39;00m \u001b[38;5;28mself\u001b[39m\u001b[38;5;241m.\u001b[39m_exception\n\u001b[1;32m    404\u001b[0m     \u001b[38;5;28;01mfinally\u001b[39;00m:\n\u001b[1;32m    405\u001b[0m         \u001b[38;5;66m# Break a reference cycle with the exception in self._exception\u001b[39m\n\u001b[1;32m    406\u001b[0m         \u001b[38;5;28mself\u001b[39m \u001b[38;5;241m=\u001b[39m \u001b[38;5;28;01mNone\u001b[39;00m\n",
                        "File \u001b[0;32m~/Notebooks/env/lib/python3.10/site-packages/rockets/async_client.py:171\u001b[0m, in \u001b[0;36mAsyncClient.request\u001b[0;34m(self, method, params)\u001b[0m\n\u001b[1;32m    168\u001b[0m     \u001b[38;5;28mself\u001b[39m\u001b[38;5;241m.\u001b[39m_setup_progress_filter(response_future, request_id)\n\u001b[1;32m    170\u001b[0m     \u001b[38;5;28;01mawait\u001b[39;00m \u001b[38;5;28mself\u001b[39m\u001b[38;5;241m.\u001b[39msend(request\u001b[38;5;241m.\u001b[39mjson)\n\u001b[0;32m--> 171\u001b[0m     \u001b[38;5;28;01mawait\u001b[39;00m response_future\n\u001b[1;32m    172\u001b[0m     \u001b[38;5;28;01mreturn\u001b[39;00m response_future\u001b[38;5;241m.\u001b[39mresult()\n\u001b[1;32m    173\u001b[0m \u001b[38;5;28;01mexcept\u001b[39;00m asyncio\u001b[38;5;241m.\u001b[39mCancelledError:\n",
                        "    \u001b[0;31m[... skipping hidden 1 frame]\u001b[0m\n",
                        "Cell \u001b[0;32mIn[46], line 1\u001b[0m\n\u001b[0;32m----> 1\u001b[0m neurons_model \u001b[38;5;241m=\u001b[39m \u001b[43mse\u001b[49m\u001b[38;5;241;43m.\u001b[39;49m\u001b[43mload_circuit\u001b[49m\u001b[43m(\u001b[49m\n\u001b[1;32m      2\u001b[0m \u001b[43m    \u001b[49m\u001b[43mname\u001b[49m\u001b[38;5;241;43m=\u001b[39;49m\u001b[38;5;124;43m'\u001b[39;49m\u001b[38;5;124;43mTestData\u001b[39;49m\u001b[38;5;124;43m'\u001b[39;49m\u001b[43m,\u001b[49m\n\u001b[1;32m      3\u001b[0m \u001b[43m    \u001b[49m\u001b[38;5;66;43m# path='/gpfs/bbp.cscs.ch/project/proj129/circuits/o1/BlueConfig',\u001b[39;49m\n\u001b[1;32m      4\u001b[0m \u001b[43m    \u001b[49m\u001b[38;5;66;43m# path='/gpfs/bbp.cscs.ch/project/proj68/home/kumbhar/NCX-246/sim2/BlueConfig',\u001b[39;49m\n\u001b[1;32m      5\u001b[0m \u001b[43m    \u001b[49m\u001b[43mpath\u001b[49m\u001b[38;5;241;43m=\u001b[39;49m\u001b[38;5;124;43m'\u001b[39;49m\u001b[38;5;124;43m/gpfs/bbp.cscs.ch/project/proj42/simulations/CA1.20190306/20190602/BlueConfig\u001b[39;49m\u001b[38;5;124;43m'\u001b[39;49m\u001b[43m,\u001b[49m\n\u001b[1;32m      6\u001b[0m \u001b[43m    \u001b[49m\u001b[43mreport\u001b[49m\u001b[38;5;241;43m=\u001b[39;49m\u001b[38;5;124;43m'\u001b[39;49m\u001b[38;5;124;43msoma\u001b[39;49m\u001b[38;5;124;43m'\u001b[39;49m\u001b[43m,\u001b[49m\n\u001b[1;32m      7\u001b[0m \u001b[43m    \u001b[49m\u001b[43mdensity\u001b[49m\u001b[38;5;241;43m=\u001b[39;49m\u001b[38;5;241;43m1.0\u001b[39;49m\u001b[43m,\u001b[49m\n\u001b[1;32m      8\u001b[0m \u001b[43m    \u001b[49m\u001b[38;5;66;43m# density=0.1,\u001b[39;49m\n\u001b[1;32m      9\u001b[0m \u001b[43m    \u001b[49m\u001b[43mload_axon\u001b[49m\u001b[38;5;241;43m=\u001b[39;49m\u001b[38;5;28;43;01mFalse\u001b[39;49;00m\u001b[43m,\u001b[49m\u001b[43m \u001b[49m\u001b[43mload_apical_dendrite\u001b[49m\u001b[38;5;241;43m=\u001b[39;49m\u001b[38;5;28;43;01mTrue\u001b[39;49;00m\u001b[43m,\u001b[49m\u001b[43m \u001b[49m\u001b[43mload_dendrite\u001b[49m\u001b[38;5;241;43m=\u001b[39;49m\u001b[38;5;28;43;01mTrue\u001b[39;49;00m\u001b[43m,\u001b[49m\n\u001b[1;32m     10\u001b[0m \u001b[43m    \u001b[49m\u001b[43mvoltage_scaling\u001b[49m\u001b[38;5;241;43m=\u001b[39;49m\u001b[38;5;241;43m0.02\u001b[39;49m\u001b[43m,\u001b[49m\u001b[43m \u001b[49m\u001b[43minitial_simulation_frame\u001b[49m\u001b[38;5;241;43m=\u001b[39;49m\u001b[38;5;241;43m3\u001b[39;49m\n\u001b[1;32m     11\u001b[0m \u001b[43m)\u001b[49m\n",
                        "File \u001b[0;32m~/Notebooks/env/lib/python3.10/site-packages/bioexplorer/sonata_explorer.py:277\u001b[0m, in \u001b[0;36mSonataExplorer.load_circuit\u001b[0;34m(self, path, name, density, gids, random_seed, targets, report, report_type, user_data_type, synchronous_mode, circuit_color_scheme, mesh_folder, mesh_filename_pattern, mesh_transformation, radius_multiplier, radius_correction, load_soma, load_axon, load_dendrite, load_apical_dendrite, use_sdf_soma, use_sdf_branches, use_sdf_nucleus, use_sdf_mitochondria, use_sdf_synapses, use_sdf_myelin_steath, dampen_branch_thickness_change_rate, morphology_color_scheme, morphology_quality, max_distance_to_soma, cell_clipping, load_afferent_synapses, load_efferent_synapses, generate_internals, generate_externals, align_to_grid, position, rotation, voltage_scaling, initial_simulation_frame)\u001b[0m\n\u001b[1;32m    274\u001b[0m props[\u001b[38;5;124m'\u001b[39m\u001b[38;5;124m121Externals\u001b[39m\u001b[38;5;124m'\u001b[39m] \u001b[38;5;241m=\u001b[39m generate_externals\n\u001b[1;32m    275\u001b[0m props[\u001b[38;5;124m'\u001b[39m\u001b[38;5;124m122AlignToGrid\u001b[39m\u001b[38;5;124m'\u001b[39m] \u001b[38;5;241m=\u001b[39m align_to_grid\n\u001b[0;32m--> 277\u001b[0m \u001b[38;5;28;01mreturn\u001b[39;00m \u001b[38;5;28;43mself\u001b[39;49m\u001b[38;5;241;43m.\u001b[39;49m\u001b[43m_core\u001b[49m\u001b[38;5;241;43m.\u001b[39;49m\u001b[43madd_model\u001b[49m\u001b[43m(\u001b[49m\u001b[43mname\u001b[49m\u001b[38;5;241;43m=\u001b[39;49m\u001b[43mname\u001b[49m\u001b[43m,\u001b[49m\u001b[43m \u001b[49m\u001b[43mpath\u001b[49m\u001b[38;5;241;43m=\u001b[39;49m\u001b[43mpath\u001b[49m\u001b[43m,\u001b[49m\u001b[43m \u001b[49m\u001b[43mloader_properties\u001b[49m\u001b[38;5;241;43m=\u001b[39;49m\u001b[43mprops\u001b[49m\u001b[43m)\u001b[49m\n",
                        "File \u001b[0;32m~/Notebooks/env/lib/python3.10/site-packages/bioexplorer/core/utils.py:193\u001b[0m, in \u001b[0;36madd_method.<locals>._decorator.<locals>._wrapper\u001b[0;34m(self, *args, **kwargs)\u001b[0m\n\u001b[1;32m    191\u001b[0m \u001b[38;5;129m@wraps\u001b[39m(func)\n\u001b[1;32m    192\u001b[0m \u001b[38;5;28;01mdef\u001b[39;00m \u001b[38;5;21m_wrapper\u001b[39m(\u001b[38;5;28mself\u001b[39m, \u001b[38;5;241m*\u001b[39margs, \u001b[38;5;241m*\u001b[39m\u001b[38;5;241m*\u001b[39mkwargs):\n\u001b[0;32m--> 193\u001b[0m     \u001b[38;5;28;01mreturn\u001b[39;00m \u001b[43mfunc\u001b[49m\u001b[43m(\u001b[49m\u001b[38;5;28;43mself\u001b[39;49m\u001b[43m,\u001b[49m\u001b[43m \u001b[49m\u001b[38;5;241;43m*\u001b[39;49m\u001b[43margs\u001b[49m\u001b[43m,\u001b[49m\u001b[43m \u001b[49m\u001b[38;5;241;43m*\u001b[39;49m\u001b[38;5;241;43m*\u001b[39;49m\u001b[43mkwargs\u001b[49m\u001b[43m)\u001b[49m\n",
                        "File \u001b[0;32m~/Notebooks/env/lib/python3.10/site-packages/bioexplorer/core/utils.py:211\u001b[0m, in \u001b[0;36madd_progress_cancel_widget.<locals>._wrapper\u001b[0;34m(self, *args, **kwargs)\u001b[0m\n\u001b[1;32m    209\u001b[0m \u001b[38;5;129m@wraps\u001b[39m(func)\n\u001b[1;32m    210\u001b[0m \u001b[38;5;28;01mdef\u001b[39;00m \u001b[38;5;21m_wrapper\u001b[39m(\u001b[38;5;28mself\u001b[39m, \u001b[38;5;241m*\u001b[39margs, \u001b[38;5;241m*\u001b[39m\u001b[38;5;241m*\u001b[39mkwargs):  \u001b[38;5;66m# pylint: disable=too-many-locals\u001b[39m\n\u001b[0;32m--> 211\u001b[0m     result \u001b[38;5;241m=\u001b[39m \u001b[43mfunc\u001b[49m\u001b[43m(\u001b[49m\u001b[38;5;28;43mself\u001b[39;49m\u001b[43m,\u001b[49m\u001b[43m \u001b[49m\u001b[38;5;241;43m*\u001b[39;49m\u001b[43margs\u001b[49m\u001b[43m,\u001b[49m\u001b[43m \u001b[49m\u001b[38;5;241;43m*\u001b[39;49m\u001b[38;5;241;43m*\u001b[39;49m\u001b[43mkwargs\u001b[49m\u001b[43m)\u001b[49m\n\u001b[1;32m    213\u001b[0m     \u001b[38;5;28;01mif\u001b[39;00m \u001b[38;5;28misinstance\u001b[39m(result, rockets\u001b[38;5;241m.\u001b[39mRequestTask) \u001b[38;5;129;01mand\u001b[39;00m in_notebook():\n\u001b[1;32m    214\u001b[0m         progress \u001b[38;5;241m=\u001b[39m FloatProgress(\u001b[38;5;28mmin\u001b[39m\u001b[38;5;241m=\u001b[39m\u001b[38;5;241m0\u001b[39m, \u001b[38;5;28mmax\u001b[39m\u001b[38;5;241m=\u001b[39m\u001b[38;5;241m1\u001b[39m, value\u001b[38;5;241m=\u001b[39m\u001b[38;5;241m0\u001b[39m)\n",
                        "File \u001b[0;32m<string>:4\u001b[0m, in \u001b[0;36mfunction\u001b[0;34m(self, path, bounding_box, loader_name, loader_properties, name, transformation, visible, response_timeout)\u001b[0m\n",
                        "File \u001b[0;32m~/Notebooks/env/lib/python3.10/site-packages/rockets/client.py:100\u001b[0m, in \u001b[0;36mClient.request\u001b[0;34m(self, method, params, response_timeout)\u001b[0m\n\u001b[1;32m     92\u001b[0m \u001b[38;5;129m@copydoc\u001b[39m(AsyncClient\u001b[38;5;241m.\u001b[39mrequest)\n\u001b[1;32m     93\u001b[0m \u001b[38;5;28;01mdef\u001b[39;00m \u001b[38;5;21mrequest\u001b[39m(\n\u001b[1;32m     94\u001b[0m     \u001b[38;5;28mself\u001b[39m, method, params\u001b[38;5;241m=\u001b[39m\u001b[38;5;28;01mNone\u001b[39;00m, response_timeout\u001b[38;5;241m=\u001b[39m\u001b[38;5;28;01mNone\u001b[39;00m\n\u001b[1;32m     95\u001b[0m ):  \u001b[38;5;66m# noqa: D102,D205 pylint: disable=C0111,W9011,W9012,W9015,W9016\u001b[39m\n\u001b[1;32m     96\u001b[0m     \u001b[38;5;124m\"\"\"\u001b[39m\n\u001b[1;32m     97\u001b[0m \u001b[38;5;124m    :param int response_timeout: number of seconds to wait for the response\u001b[39m\n\u001b[1;32m     98\u001b[0m \u001b[38;5;124m    :raises TimeoutError: if request was not answered within given response_timeout\u001b[39m\n\u001b[1;32m     99\u001b[0m \u001b[38;5;124m    \"\"\"\u001b[39m\n\u001b[0;32m--> 100\u001b[0m     \u001b[38;5;28;01mreturn\u001b[39;00m \u001b[38;5;28;43mself\u001b[39;49m\u001b[38;5;241;43m.\u001b[39;49m\u001b[43m_call_sync\u001b[49m\u001b[43m(\u001b[49m\u001b[38;5;28;43mself\u001b[39;49m\u001b[38;5;241;43m.\u001b[39;49m\u001b[43m_client\u001b[49m\u001b[38;5;241;43m.\u001b[39;49m\u001b[43mrequest\u001b[49m\u001b[43m(\u001b[49m\u001b[43mmethod\u001b[49m\u001b[43m,\u001b[49m\u001b[43m \u001b[49m\u001b[43mparams\u001b[49m\u001b[43m)\u001b[49m\u001b[43m,\u001b[49m\u001b[43m \u001b[49m\u001b[43mresponse_timeout\u001b[49m\u001b[43m)\u001b[49m\n",
                        "File \u001b[0;32m~/Notebooks/env/lib/python3.10/site-packages/rockets/client.py:119\u001b[0m, in \u001b[0;36mClient._call_sync\u001b[0;34m(self, original_function, response_timeout)\u001b[0m\n\u001b[1;32m    115\u001b[0m \u001b[38;5;28;01mif\u001b[39;00m \u001b[38;5;28mself\u001b[39m\u001b[38;5;241m.\u001b[39m_thread:\n\u001b[1;32m    116\u001b[0m     future \u001b[38;5;241m=\u001b[39m asyncio\u001b[38;5;241m.\u001b[39mrun_coroutine_threadsafe(\n\u001b[1;32m    117\u001b[0m         original_function, \u001b[38;5;28mself\u001b[39m\u001b[38;5;241m.\u001b[39m_client\u001b[38;5;241m.\u001b[39mloop\n\u001b[1;32m    118\u001b[0m     )\n\u001b[0;32m--> 119\u001b[0m     \u001b[38;5;28;01mreturn\u001b[39;00m \u001b[43mfuture\u001b[49m\u001b[38;5;241;43m.\u001b[39;49m\u001b[43mresult\u001b[49m\u001b[43m(\u001b[49m\u001b[43mresponse_timeout\u001b[49m\u001b[43m)\u001b[49m\n\u001b[1;32m    120\u001b[0m \u001b[38;5;28;01mreturn\u001b[39;00m \u001b[38;5;28mself\u001b[39m\u001b[38;5;241m.\u001b[39m_client\u001b[38;5;241m.\u001b[39mloop\u001b[38;5;241m.\u001b[39mrun_until_complete(original_function)\n",
                        "File \u001b[0;32m/usr/lib/python3.10/concurrent/futures/_base.py:458\u001b[0m, in \u001b[0;36mFuture.result\u001b[0;34m(self, timeout)\u001b[0m\n\u001b[1;32m    456\u001b[0m     \u001b[38;5;28;01mraise\u001b[39;00m CancelledError()\n\u001b[1;32m    457\u001b[0m \u001b[38;5;28;01melif\u001b[39;00m \u001b[38;5;28mself\u001b[39m\u001b[38;5;241m.\u001b[39m_state \u001b[38;5;241m==\u001b[39m FINISHED:\n\u001b[0;32m--> 458\u001b[0m     \u001b[38;5;28;01mreturn\u001b[39;00m \u001b[38;5;28;43mself\u001b[39;49m\u001b[38;5;241;43m.\u001b[39;49m\u001b[43m__get_result\u001b[49m\u001b[43m(\u001b[49m\u001b[43m)\u001b[49m\n\u001b[1;32m    459\u001b[0m \u001b[38;5;28;01melse\u001b[39;00m:\n\u001b[1;32m    460\u001b[0m     \u001b[38;5;28;01mraise\u001b[39;00m \u001b[38;5;167;01mTimeoutError\u001b[39;00m()\n",
                        "File \u001b[0;32m/usr/lib/python3.10/concurrent/futures/_base.py:403\u001b[0m, in \u001b[0;36mFuture.__get_result\u001b[0;34m(self)\u001b[0m\n\u001b[1;32m    401\u001b[0m \u001b[38;5;28;01mif\u001b[39;00m \u001b[38;5;28mself\u001b[39m\u001b[38;5;241m.\u001b[39m_exception:\n\u001b[1;32m    402\u001b[0m     \u001b[38;5;28;01mtry\u001b[39;00m:\n\u001b[0;32m--> 403\u001b[0m         \u001b[38;5;28;01mraise\u001b[39;00m \u001b[38;5;28mself\u001b[39m\u001b[38;5;241m.\u001b[39m_exception\n\u001b[1;32m    404\u001b[0m     \u001b[38;5;28;01mfinally\u001b[39;00m:\n\u001b[1;32m    405\u001b[0m         \u001b[38;5;66m# Break a reference cycle with the exception in self._exception\u001b[39m\n\u001b[1;32m    406\u001b[0m         \u001b[38;5;28mself\u001b[39m \u001b[38;5;241m=\u001b[39m \u001b[38;5;28;01mNone\u001b[39;00m\n",
                        "File \u001b[0;32m~/Notebooks/env/lib/python3.10/site-packages/rockets/async_client.py:171\u001b[0m, in \u001b[0;36mAsyncClient.request\u001b[0;34m(self, method, params)\u001b[0m\n\u001b[1;32m    168\u001b[0m     \u001b[38;5;28mself\u001b[39m\u001b[38;5;241m.\u001b[39m_setup_progress_filter(response_future, request_id)\n\u001b[1;32m    170\u001b[0m     \u001b[38;5;28;01mawait\u001b[39;00m \u001b[38;5;28mself\u001b[39m\u001b[38;5;241m.\u001b[39msend(request\u001b[38;5;241m.\u001b[39mjson)\n\u001b[0;32m--> 171\u001b[0m     \u001b[38;5;28;01mawait\u001b[39;00m response_future\n\u001b[1;32m    172\u001b[0m     \u001b[38;5;28;01mreturn\u001b[39;00m response_future\u001b[38;5;241m.\u001b[39mresult()\n\u001b[1;32m    173\u001b[0m \u001b[38;5;28;01mexcept\u001b[39;00m asyncio\u001b[38;5;241m.\u001b[39mCancelledError:\n",
                        "    \u001b[0;31m[... skipping hidden 1 frame]\u001b[0m\n",
                        "Cell \u001b[0;32mIn[42], line 1\u001b[0m\n\u001b[0;32m----> 1\u001b[0m model_ids \u001b[38;5;241m=\u001b[39m \u001b[43mbe\u001b[49m\u001b[38;5;241;43m.\u001b[39;49m\u001b[43mget_model_ids\u001b[49m\u001b[43m(\u001b[49m\u001b[43m)\u001b[49m[\u001b[38;5;124m'\u001b[39m\u001b[38;5;124mids\u001b[39m\u001b[38;5;124m'\u001b[39m]\n\u001b[1;32m      2\u001b[0m offset \u001b[38;5;241m=\u001b[39m model_ids[\u001b[38;5;241m0\u001b[39m]\n\u001b[1;32m      3\u001b[0m set_materials(offset, \u001b[38;5;124m'\u001b[39m\u001b[38;5;124mSet3\u001b[39m\u001b[38;5;124m'\u001b[39m)\n",
                        "File \u001b[0;32m~/Notebooks/env/lib/python3.10/site-packages/bioexplorer/bio_explorer.py:2371\u001b[0m, in \u001b[0;36mBioExplorer.get_model_ids\u001b[0;34m(self)\u001b[0m\n\u001b[1;32m   2365\u001b[0m \u001b[38;5;28;01mdef\u001b[39;00m \u001b[38;5;21mget_model_ids\u001b[39m(\u001b[38;5;28mself\u001b[39m):\n\u001b[1;32m   2366\u001b[0m     \u001b[38;5;124m\"\"\"\u001b[39m\n\u001b[1;32m   2367\u001b[0m \u001b[38;5;124m    Return the list of model ids in the current scene\u001b[39m\n\u001b[1;32m   2368\u001b[0m \n\u001b[1;32m   2369\u001b[0m \u001b[38;5;124m    :return: List of model Ids\u001b[39m\n\u001b[1;32m   2370\u001b[0m \u001b[38;5;124m    \"\"\"\u001b[39m\n\u001b[0;32m-> 2371\u001b[0m     \u001b[38;5;28;01mreturn\u001b[39;00m \u001b[38;5;28;43mself\u001b[39;49m\u001b[38;5;241;43m.\u001b[39;49m\u001b[43m_invoke\u001b[49m\u001b[43m(\u001b[49m\u001b[38;5;124;43m\"\u001b[39;49m\u001b[38;5;124;43mget-model-ids\u001b[39;49m\u001b[38;5;124;43m\"\u001b[39;49m\u001b[43m)\u001b[49m\n",
                        "File \u001b[0;32m~/Notebooks/env/lib/python3.10/site-packages/bioexplorer/bio_explorer.py:813\u001b[0m, in \u001b[0;36mBioExplorer._invoke\u001b[0;34m(self, method, params)\u001b[0m\n\u001b[1;32m    811\u001b[0m \u001b[38;5;28;01mdef\u001b[39;00m \u001b[38;5;21m_invoke\u001b[39m(\u001b[38;5;28mself\u001b[39m, method, params\u001b[38;5;241m=\u001b[39m\u001b[38;5;28;01mNone\u001b[39;00m):\n\u001b[1;32m    812\u001b[0m     prefixed_method \u001b[38;5;241m=\u001b[39m \u001b[38;5;28mself\u001b[39m\u001b[38;5;241m.\u001b[39mPLUGIN_API_PREFIX \u001b[38;5;241m+\u001b[39m method\n\u001b[0;32m--> 813\u001b[0m     \u001b[38;5;28;01mreturn\u001b[39;00m \u001b[38;5;28;43mself\u001b[39;49m\u001b[38;5;241;43m.\u001b[39;49m\u001b[43m_client\u001b[49m\u001b[38;5;241;43m.\u001b[39;49m\u001b[43mrockets_client\u001b[49m\u001b[38;5;241;43m.\u001b[39;49m\u001b[43mrequest\u001b[49m\u001b[43m(\u001b[49m\n\u001b[1;32m    814\u001b[0m \u001b[43m        \u001b[49m\u001b[43mmethod\u001b[49m\u001b[38;5;241;43m=\u001b[39;49m\u001b[43mprefixed_method\u001b[49m\u001b[43m,\u001b[49m\u001b[43m \u001b[49m\u001b[43mparams\u001b[49m\u001b[38;5;241;43m=\u001b[39;49m\u001b[43mparams\u001b[49m\n\u001b[1;32m    815\u001b[0m \u001b[43m    \u001b[49m\u001b[43m)\u001b[49m\n",
                        "File \u001b[0;32m~/Notebooks/env/lib/python3.10/site-packages/rockets/client.py:100\u001b[0m, in \u001b[0;36mClient.request\u001b[0;34m(self, method, params, response_timeout)\u001b[0m\n\u001b[1;32m     92\u001b[0m \u001b[38;5;129m@copydoc\u001b[39m(AsyncClient\u001b[38;5;241m.\u001b[39mrequest)\n\u001b[1;32m     93\u001b[0m \u001b[38;5;28;01mdef\u001b[39;00m \u001b[38;5;21mrequest\u001b[39m(\n\u001b[1;32m     94\u001b[0m     \u001b[38;5;28mself\u001b[39m, method, params\u001b[38;5;241m=\u001b[39m\u001b[38;5;28;01mNone\u001b[39;00m, response_timeout\u001b[38;5;241m=\u001b[39m\u001b[38;5;28;01mNone\u001b[39;00m\n\u001b[1;32m     95\u001b[0m ):  \u001b[38;5;66m# noqa: D102,D205 pylint: disable=C0111,W9011,W9012,W9015,W9016\u001b[39m\n\u001b[1;32m     96\u001b[0m     \u001b[38;5;124m\"\"\"\u001b[39m\n\u001b[1;32m     97\u001b[0m \u001b[38;5;124m    :param int response_timeout: number of seconds to wait for the response\u001b[39m\n\u001b[1;32m     98\u001b[0m \u001b[38;5;124m    :raises TimeoutError: if request was not answered within given response_timeout\u001b[39m\n\u001b[1;32m     99\u001b[0m \u001b[38;5;124m    \"\"\"\u001b[39m\n\u001b[0;32m--> 100\u001b[0m     \u001b[38;5;28;01mreturn\u001b[39;00m \u001b[38;5;28;43mself\u001b[39;49m\u001b[38;5;241;43m.\u001b[39;49m\u001b[43m_call_sync\u001b[49m\u001b[43m(\u001b[49m\u001b[38;5;28;43mself\u001b[39;49m\u001b[38;5;241;43m.\u001b[39;49m\u001b[43m_client\u001b[49m\u001b[38;5;241;43m.\u001b[39;49m\u001b[43mrequest\u001b[49m\u001b[43m(\u001b[49m\u001b[43mmethod\u001b[49m\u001b[43m,\u001b[49m\u001b[43m \u001b[49m\u001b[43mparams\u001b[49m\u001b[43m)\u001b[49m\u001b[43m,\u001b[49m\u001b[43m \u001b[49m\u001b[43mresponse_timeout\u001b[49m\u001b[43m)\u001b[49m\n",
                        "File \u001b[0;32m~/Notebooks/env/lib/python3.10/site-packages/rockets/client.py:119\u001b[0m, in \u001b[0;36mClient._call_sync\u001b[0;34m(self, original_function, response_timeout)\u001b[0m\n\u001b[1;32m    115\u001b[0m \u001b[38;5;28;01mif\u001b[39;00m \u001b[38;5;28mself\u001b[39m\u001b[38;5;241m.\u001b[39m_thread:\n\u001b[1;32m    116\u001b[0m     future \u001b[38;5;241m=\u001b[39m asyncio\u001b[38;5;241m.\u001b[39mrun_coroutine_threadsafe(\n\u001b[1;32m    117\u001b[0m         original_function, \u001b[38;5;28mself\u001b[39m\u001b[38;5;241m.\u001b[39m_client\u001b[38;5;241m.\u001b[39mloop\n\u001b[1;32m    118\u001b[0m     )\n\u001b[0;32m--> 119\u001b[0m     \u001b[38;5;28;01mreturn\u001b[39;00m \u001b[43mfuture\u001b[49m\u001b[38;5;241;43m.\u001b[39;49m\u001b[43mresult\u001b[49m\u001b[43m(\u001b[49m\u001b[43mresponse_timeout\u001b[49m\u001b[43m)\u001b[49m\n\u001b[1;32m    120\u001b[0m \u001b[38;5;28;01mreturn\u001b[39;00m \u001b[38;5;28mself\u001b[39m\u001b[38;5;241m.\u001b[39m_client\u001b[38;5;241m.\u001b[39mloop\u001b[38;5;241m.\u001b[39mrun_until_complete(original_function)\n",
                        "File \u001b[0;32m/usr/lib/python3.10/concurrent/futures/_base.py:458\u001b[0m, in \u001b[0;36mFuture.result\u001b[0;34m(self, timeout)\u001b[0m\n\u001b[1;32m    456\u001b[0m     \u001b[38;5;28;01mraise\u001b[39;00m CancelledError()\n\u001b[1;32m    457\u001b[0m \u001b[38;5;28;01melif\u001b[39;00m \u001b[38;5;28mself\u001b[39m\u001b[38;5;241m.\u001b[39m_state \u001b[38;5;241m==\u001b[39m FINISHED:\n\u001b[0;32m--> 458\u001b[0m     \u001b[38;5;28;01mreturn\u001b[39;00m \u001b[38;5;28;43mself\u001b[39;49m\u001b[38;5;241;43m.\u001b[39;49m\u001b[43m__get_result\u001b[49m\u001b[43m(\u001b[49m\u001b[43m)\u001b[49m\n\u001b[1;32m    459\u001b[0m \u001b[38;5;28;01melse\u001b[39;00m:\n\u001b[1;32m    460\u001b[0m     \u001b[38;5;28;01mraise\u001b[39;00m \u001b[38;5;167;01mTimeoutError\u001b[39;00m()\n",
                        "File \u001b[0;32m/usr/lib/python3.10/concurrent/futures/_base.py:403\u001b[0m, in \u001b[0;36mFuture.__get_result\u001b[0;34m(self)\u001b[0m\n\u001b[1;32m    401\u001b[0m \u001b[38;5;28;01mif\u001b[39;00m \u001b[38;5;28mself\u001b[39m\u001b[38;5;241m.\u001b[39m_exception:\n\u001b[1;32m    402\u001b[0m     \u001b[38;5;28;01mtry\u001b[39;00m:\n\u001b[0;32m--> 403\u001b[0m         \u001b[38;5;28;01mraise\u001b[39;00m \u001b[38;5;28mself\u001b[39m\u001b[38;5;241m.\u001b[39m_exception\n\u001b[1;32m    404\u001b[0m     \u001b[38;5;28;01mfinally\u001b[39;00m:\n\u001b[1;32m    405\u001b[0m         \u001b[38;5;66m# Break a reference cycle with the exception in self._exception\u001b[39m\n\u001b[1;32m    406\u001b[0m         \u001b[38;5;28mself\u001b[39m \u001b[38;5;241m=\u001b[39m \u001b[38;5;28;01mNone\u001b[39;00m\n",
                        "File \u001b[0;32m~/Notebooks/env/lib/python3.10/site-packages/rockets/async_client.py:171\u001b[0m, in \u001b[0;36mAsyncClient.request\u001b[0;34m(self, method, params)\u001b[0m\n\u001b[1;32m    168\u001b[0m     \u001b[38;5;28mself\u001b[39m\u001b[38;5;241m.\u001b[39m_setup_progress_filter(response_future, request_id)\n\u001b[1;32m    170\u001b[0m     \u001b[38;5;28;01mawait\u001b[39;00m \u001b[38;5;28mself\u001b[39m\u001b[38;5;241m.\u001b[39msend(request\u001b[38;5;241m.\u001b[39mjson)\n\u001b[0;32m--> 171\u001b[0m     \u001b[38;5;28;01mawait\u001b[39;00m response_future\n\u001b[1;32m    172\u001b[0m     \u001b[38;5;28;01mreturn\u001b[39;00m response_future\u001b[38;5;241m.\u001b[39mresult()\n\u001b[1;32m    173\u001b[0m \u001b[38;5;28;01mexcept\u001b[39;00m asyncio\u001b[38;5;241m.\u001b[39mCancelledError:\n",
                        "    \u001b[0;31m[... skipping hidden 1 frame]\u001b[0m\n",
                        "Cell \u001b[0;32mIn[29], line 1\u001b[0m\n\u001b[0;32m----> 1\u001b[0m neurons_model \u001b[38;5;241m=\u001b[39m \u001b[43mse\u001b[49m\u001b[38;5;241;43m.\u001b[39;49m\u001b[43mload_circuit\u001b[49m\u001b[43m(\u001b[49m\n\u001b[1;32m      2\u001b[0m \u001b[43m    \u001b[49m\u001b[43mname\u001b[49m\u001b[38;5;241;43m=\u001b[39;49m\u001b[38;5;124;43m'\u001b[39;49m\u001b[38;5;124;43mTestData\u001b[39;49m\u001b[38;5;124;43m'\u001b[39;49m\u001b[43m,\u001b[49m\n\u001b[1;32m      3\u001b[0m \u001b[43m    \u001b[49m\u001b[38;5;66;43m# path='/gpfs/bbp.cscs.ch/project/proj129/circuits/o1/BlueConfig',\u001b[39;49m\n\u001b[1;32m      4\u001b[0m \u001b[43m    \u001b[49m\u001b[43mpath\u001b[49m\u001b[38;5;241;43m=\u001b[39;49m\u001b[38;5;124;43m'\u001b[39;49m\u001b[38;5;124;43m/gpfs/bbp.cscs.ch/project/proj68/home/kumbhar/NCX-246/sim2/BlueConfig\u001b[39;49m\u001b[38;5;124;43m'\u001b[39;49m\u001b[43m,\u001b[49m\n\u001b[1;32m      5\u001b[0m \u001b[43m    \u001b[49m\u001b[43mreport\u001b[49m\u001b[38;5;241;43m=\u001b[39;49m\u001b[38;5;124;43m'\u001b[39;49m\u001b[38;5;124;43msoma\u001b[39;49m\u001b[38;5;124;43m'\u001b[39;49m\u001b[43m,\u001b[49m\n\u001b[1;32m      6\u001b[0m \u001b[43m    \u001b[49m\u001b[43mdensity\u001b[49m\u001b[38;5;241;43m=\u001b[39;49m\u001b[38;5;241;43m2.0\u001b[39;49m\u001b[43m,\u001b[49m\n\u001b[1;32m      7\u001b[0m \u001b[43m    \u001b[49m\u001b[43mload_axon\u001b[49m\u001b[38;5;241;43m=\u001b[39;49m\u001b[38;5;28;43;01mFalse\u001b[39;49;00m\u001b[43m,\u001b[49m\u001b[43m \u001b[49m\u001b[43mload_apical_dendrite\u001b[49m\u001b[38;5;241;43m=\u001b[39;49m\u001b[38;5;28;43;01mTrue\u001b[39;49;00m\u001b[43m,\u001b[49m\u001b[43m \u001b[49m\u001b[43mload_dendrite\u001b[49m\u001b[38;5;241;43m=\u001b[39;49m\u001b[38;5;28;43;01mTrue\u001b[39;49;00m\u001b[43m,\u001b[49m\n\u001b[1;32m      8\u001b[0m \u001b[43m    \u001b[49m\u001b[43mvoltage_scaling\u001b[49m\u001b[38;5;241;43m=\u001b[39;49m\u001b[38;5;241;43m0.02\u001b[39;49m\u001b[43m,\u001b[49m\u001b[43m \u001b[49m\u001b[43minitial_simulation_frame\u001b[49m\u001b[38;5;241;43m=\u001b[39;49m\u001b[38;5;241;43m3\u001b[39;49m\n\u001b[1;32m      9\u001b[0m \u001b[43m)\u001b[49m\n",
                        "File \u001b[0;32m~/Notebooks/env/lib/python3.10/site-packages/bioexplorer/sonata_explorer.py:277\u001b[0m, in \u001b[0;36mSonataExplorer.load_circuit\u001b[0;34m(self, path, name, density, gids, random_seed, targets, report, report_type, user_data_type, synchronous_mode, circuit_color_scheme, mesh_folder, mesh_filename_pattern, mesh_transformation, radius_multiplier, radius_correction, load_soma, load_axon, load_dendrite, load_apical_dendrite, use_sdf_soma, use_sdf_branches, use_sdf_nucleus, use_sdf_mitochondria, use_sdf_synapses, use_sdf_myelin_steath, dampen_branch_thickness_change_rate, morphology_color_scheme, morphology_quality, max_distance_to_soma, cell_clipping, load_afferent_synapses, load_efferent_synapses, generate_internals, generate_externals, align_to_grid, position, rotation, voltage_scaling, initial_simulation_frame)\u001b[0m\n\u001b[1;32m    274\u001b[0m props[\u001b[38;5;124m'\u001b[39m\u001b[38;5;124m121Externals\u001b[39m\u001b[38;5;124m'\u001b[39m] \u001b[38;5;241m=\u001b[39m generate_externals\n\u001b[1;32m    275\u001b[0m props[\u001b[38;5;124m'\u001b[39m\u001b[38;5;124m122AlignToGrid\u001b[39m\u001b[38;5;124m'\u001b[39m] \u001b[38;5;241m=\u001b[39m align_to_grid\n\u001b[0;32m--> 277\u001b[0m \u001b[38;5;28;01mreturn\u001b[39;00m \u001b[38;5;28;43mself\u001b[39;49m\u001b[38;5;241;43m.\u001b[39;49m\u001b[43m_core\u001b[49m\u001b[38;5;241;43m.\u001b[39;49m\u001b[43madd_model\u001b[49m\u001b[43m(\u001b[49m\u001b[43mname\u001b[49m\u001b[38;5;241;43m=\u001b[39;49m\u001b[43mname\u001b[49m\u001b[43m,\u001b[49m\u001b[43m \u001b[49m\u001b[43mpath\u001b[49m\u001b[38;5;241;43m=\u001b[39;49m\u001b[43mpath\u001b[49m\u001b[43m,\u001b[49m\u001b[43m \u001b[49m\u001b[43mloader_properties\u001b[49m\u001b[38;5;241;43m=\u001b[39;49m\u001b[43mprops\u001b[49m\u001b[43m)\u001b[49m\n",
                        "File \u001b[0;32m~/Notebooks/env/lib/python3.10/site-packages/bioexplorer/core/utils.py:193\u001b[0m, in \u001b[0;36madd_method.<locals>._decorator.<locals>._wrapper\u001b[0;34m(self, *args, **kwargs)\u001b[0m\n\u001b[1;32m    191\u001b[0m \u001b[38;5;129m@wraps\u001b[39m(func)\n\u001b[1;32m    192\u001b[0m \u001b[38;5;28;01mdef\u001b[39;00m \u001b[38;5;21m_wrapper\u001b[39m(\u001b[38;5;28mself\u001b[39m, \u001b[38;5;241m*\u001b[39margs, \u001b[38;5;241m*\u001b[39m\u001b[38;5;241m*\u001b[39mkwargs):\n\u001b[0;32m--> 193\u001b[0m     \u001b[38;5;28;01mreturn\u001b[39;00m \u001b[43mfunc\u001b[49m\u001b[43m(\u001b[49m\u001b[38;5;28;43mself\u001b[39;49m\u001b[43m,\u001b[49m\u001b[43m \u001b[49m\u001b[38;5;241;43m*\u001b[39;49m\u001b[43margs\u001b[49m\u001b[43m,\u001b[49m\u001b[43m \u001b[49m\u001b[38;5;241;43m*\u001b[39;49m\u001b[38;5;241;43m*\u001b[39;49m\u001b[43mkwargs\u001b[49m\u001b[43m)\u001b[49m\n",
                        "File \u001b[0;32m~/Notebooks/env/lib/python3.10/site-packages/bioexplorer/core/utils.py:211\u001b[0m, in \u001b[0;36madd_progress_cancel_widget.<locals>._wrapper\u001b[0;34m(self, *args, **kwargs)\u001b[0m\n\u001b[1;32m    209\u001b[0m \u001b[38;5;129m@wraps\u001b[39m(func)\n\u001b[1;32m    210\u001b[0m \u001b[38;5;28;01mdef\u001b[39;00m \u001b[38;5;21m_wrapper\u001b[39m(\u001b[38;5;28mself\u001b[39m, \u001b[38;5;241m*\u001b[39margs, \u001b[38;5;241m*\u001b[39m\u001b[38;5;241m*\u001b[39mkwargs):  \u001b[38;5;66m# pylint: disable=too-many-locals\u001b[39m\n\u001b[0;32m--> 211\u001b[0m     result \u001b[38;5;241m=\u001b[39m \u001b[43mfunc\u001b[49m\u001b[43m(\u001b[49m\u001b[38;5;28;43mself\u001b[39;49m\u001b[43m,\u001b[49m\u001b[43m \u001b[49m\u001b[38;5;241;43m*\u001b[39;49m\u001b[43margs\u001b[49m\u001b[43m,\u001b[49m\u001b[43m \u001b[49m\u001b[38;5;241;43m*\u001b[39;49m\u001b[38;5;241;43m*\u001b[39;49m\u001b[43mkwargs\u001b[49m\u001b[43m)\u001b[49m\n\u001b[1;32m    213\u001b[0m     \u001b[38;5;28;01mif\u001b[39;00m \u001b[38;5;28misinstance\u001b[39m(result, rockets\u001b[38;5;241m.\u001b[39mRequestTask) \u001b[38;5;129;01mand\u001b[39;00m in_notebook():\n\u001b[1;32m    214\u001b[0m         progress \u001b[38;5;241m=\u001b[39m FloatProgress(\u001b[38;5;28mmin\u001b[39m\u001b[38;5;241m=\u001b[39m\u001b[38;5;241m0\u001b[39m, \u001b[38;5;28mmax\u001b[39m\u001b[38;5;241m=\u001b[39m\u001b[38;5;241m1\u001b[39m, value\u001b[38;5;241m=\u001b[39m\u001b[38;5;241m0\u001b[39m)\n",
                        "File \u001b[0;32m<string>:4\u001b[0m, in \u001b[0;36mfunction\u001b[0;34m(self, path, bounding_box, loader_name, loader_properties, name, transformation, visible, response_timeout)\u001b[0m\n",
                        "File \u001b[0;32m~/Notebooks/env/lib/python3.10/site-packages/rockets/client.py:100\u001b[0m, in \u001b[0;36mClient.request\u001b[0;34m(self, method, params, response_timeout)\u001b[0m\n\u001b[1;32m     92\u001b[0m \u001b[38;5;129m@copydoc\u001b[39m(AsyncClient\u001b[38;5;241m.\u001b[39mrequest)\n\u001b[1;32m     93\u001b[0m \u001b[38;5;28;01mdef\u001b[39;00m \u001b[38;5;21mrequest\u001b[39m(\n\u001b[1;32m     94\u001b[0m     \u001b[38;5;28mself\u001b[39m, method, params\u001b[38;5;241m=\u001b[39m\u001b[38;5;28;01mNone\u001b[39;00m, response_timeout\u001b[38;5;241m=\u001b[39m\u001b[38;5;28;01mNone\u001b[39;00m\n\u001b[1;32m     95\u001b[0m ):  \u001b[38;5;66m# noqa: D102,D205 pylint: disable=C0111,W9011,W9012,W9015,W9016\u001b[39m\n\u001b[1;32m     96\u001b[0m     \u001b[38;5;124m\"\"\"\u001b[39m\n\u001b[1;32m     97\u001b[0m \u001b[38;5;124m    :param int response_timeout: number of seconds to wait for the response\u001b[39m\n\u001b[1;32m     98\u001b[0m \u001b[38;5;124m    :raises TimeoutError: if request was not answered within given response_timeout\u001b[39m\n\u001b[1;32m     99\u001b[0m \u001b[38;5;124m    \"\"\"\u001b[39m\n\u001b[0;32m--> 100\u001b[0m     \u001b[38;5;28;01mreturn\u001b[39;00m \u001b[38;5;28;43mself\u001b[39;49m\u001b[38;5;241;43m.\u001b[39;49m\u001b[43m_call_sync\u001b[49m\u001b[43m(\u001b[49m\u001b[38;5;28;43mself\u001b[39;49m\u001b[38;5;241;43m.\u001b[39;49m\u001b[43m_client\u001b[49m\u001b[38;5;241;43m.\u001b[39;49m\u001b[43mrequest\u001b[49m\u001b[43m(\u001b[49m\u001b[43mmethod\u001b[49m\u001b[43m,\u001b[49m\u001b[43m \u001b[49m\u001b[43mparams\u001b[49m\u001b[43m)\u001b[49m\u001b[43m,\u001b[49m\u001b[43m \u001b[49m\u001b[43mresponse_timeout\u001b[49m\u001b[43m)\u001b[49m\n",
                        "File \u001b[0;32m~/Notebooks/env/lib/python3.10/site-packages/rockets/client.py:119\u001b[0m, in \u001b[0;36mClient._call_sync\u001b[0;34m(self, original_function, response_timeout)\u001b[0m\n\u001b[1;32m    115\u001b[0m \u001b[38;5;28;01mif\u001b[39;00m \u001b[38;5;28mself\u001b[39m\u001b[38;5;241m.\u001b[39m_thread:\n\u001b[1;32m    116\u001b[0m     future \u001b[38;5;241m=\u001b[39m asyncio\u001b[38;5;241m.\u001b[39mrun_coroutine_threadsafe(\n\u001b[1;32m    117\u001b[0m         original_function, \u001b[38;5;28mself\u001b[39m\u001b[38;5;241m.\u001b[39m_client\u001b[38;5;241m.\u001b[39mloop\n\u001b[1;32m    118\u001b[0m     )\n\u001b[0;32m--> 119\u001b[0m     \u001b[38;5;28;01mreturn\u001b[39;00m \u001b[43mfuture\u001b[49m\u001b[38;5;241;43m.\u001b[39;49m\u001b[43mresult\u001b[49m\u001b[43m(\u001b[49m\u001b[43mresponse_timeout\u001b[49m\u001b[43m)\u001b[49m\n\u001b[1;32m    120\u001b[0m \u001b[38;5;28;01mreturn\u001b[39;00m \u001b[38;5;28mself\u001b[39m\u001b[38;5;241m.\u001b[39m_client\u001b[38;5;241m.\u001b[39mloop\u001b[38;5;241m.\u001b[39mrun_until_complete(original_function)\n",
                        "File \u001b[0;32m/usr/lib/python3.10/concurrent/futures/_base.py:458\u001b[0m, in \u001b[0;36mFuture.result\u001b[0;34m(self, timeout)\u001b[0m\n\u001b[1;32m    456\u001b[0m     \u001b[38;5;28;01mraise\u001b[39;00m CancelledError()\n\u001b[1;32m    457\u001b[0m \u001b[38;5;28;01melif\u001b[39;00m \u001b[38;5;28mself\u001b[39m\u001b[38;5;241m.\u001b[39m_state \u001b[38;5;241m==\u001b[39m FINISHED:\n\u001b[0;32m--> 458\u001b[0m     \u001b[38;5;28;01mreturn\u001b[39;00m \u001b[38;5;28;43mself\u001b[39;49m\u001b[38;5;241;43m.\u001b[39;49m\u001b[43m__get_result\u001b[49m\u001b[43m(\u001b[49m\u001b[43m)\u001b[49m\n\u001b[1;32m    459\u001b[0m \u001b[38;5;28;01melse\u001b[39;00m:\n\u001b[1;32m    460\u001b[0m     \u001b[38;5;28;01mraise\u001b[39;00m \u001b[38;5;167;01mTimeoutError\u001b[39;00m()\n",
                        "File \u001b[0;32m/usr/lib/python3.10/concurrent/futures/_base.py:403\u001b[0m, in \u001b[0;36mFuture.__get_result\u001b[0;34m(self)\u001b[0m\n\u001b[1;32m    401\u001b[0m \u001b[38;5;28;01mif\u001b[39;00m \u001b[38;5;28mself\u001b[39m\u001b[38;5;241m.\u001b[39m_exception:\n\u001b[1;32m    402\u001b[0m     \u001b[38;5;28;01mtry\u001b[39;00m:\n\u001b[0;32m--> 403\u001b[0m         \u001b[38;5;28;01mraise\u001b[39;00m \u001b[38;5;28mself\u001b[39m\u001b[38;5;241m.\u001b[39m_exception\n\u001b[1;32m    404\u001b[0m     \u001b[38;5;28;01mfinally\u001b[39;00m:\n\u001b[1;32m    405\u001b[0m         \u001b[38;5;66m# Break a reference cycle with the exception in self._exception\u001b[39m\n\u001b[1;32m    406\u001b[0m         \u001b[38;5;28mself\u001b[39m \u001b[38;5;241m=\u001b[39m \u001b[38;5;28;01mNone\u001b[39;00m\n",
                        "File \u001b[0;32m~/Notebooks/env/lib/python3.10/site-packages/rockets/async_client.py:171\u001b[0m, in \u001b[0;36mAsyncClient.request\u001b[0;34m(self, method, params)\u001b[0m\n\u001b[1;32m    168\u001b[0m     \u001b[38;5;28mself\u001b[39m\u001b[38;5;241m.\u001b[39m_setup_progress_filter(response_future, request_id)\n\u001b[1;32m    170\u001b[0m     \u001b[38;5;28;01mawait\u001b[39;00m \u001b[38;5;28mself\u001b[39m\u001b[38;5;241m.\u001b[39msend(request\u001b[38;5;241m.\u001b[39mjson)\n\u001b[0;32m--> 171\u001b[0m     \u001b[38;5;28;01mawait\u001b[39;00m response_future\n\u001b[1;32m    172\u001b[0m     \u001b[38;5;28;01mreturn\u001b[39;00m response_future\u001b[38;5;241m.\u001b[39mresult()\n\u001b[1;32m    173\u001b[0m \u001b[38;5;28;01mexcept\u001b[39;00m asyncio\u001b[38;5;241m.\u001b[39mCancelledError:\n",
                        "    \u001b[0;31m[... skipping hidden 1 frame]\u001b[0m\n",
                        "Cell \u001b[0;32mIn[42], line 1\u001b[0m\n\u001b[0;32m----> 1\u001b[0m model_ids \u001b[38;5;241m=\u001b[39m \u001b[43mbe\u001b[49m\u001b[38;5;241;43m.\u001b[39;49m\u001b[43mget_model_ids\u001b[49m\u001b[43m(\u001b[49m\u001b[43m)\u001b[49m[\u001b[38;5;124m'\u001b[39m\u001b[38;5;124mids\u001b[39m\u001b[38;5;124m'\u001b[39m]\n\u001b[1;32m      2\u001b[0m offset \u001b[38;5;241m=\u001b[39m model_ids[\u001b[38;5;241m0\u001b[39m]\n\u001b[1;32m      3\u001b[0m set_materials(offset, \u001b[38;5;124m'\u001b[39m\u001b[38;5;124mSet3\u001b[39m\u001b[38;5;124m'\u001b[39m)\n",
                        "File \u001b[0;32m~/Notebooks/env/lib/python3.10/site-packages/bioexplorer/bio_explorer.py:2371\u001b[0m, in \u001b[0;36mBioExplorer.get_model_ids\u001b[0;34m(self)\u001b[0m\n\u001b[1;32m   2365\u001b[0m \u001b[38;5;28;01mdef\u001b[39;00m \u001b[38;5;21mget_model_ids\u001b[39m(\u001b[38;5;28mself\u001b[39m):\n\u001b[1;32m   2366\u001b[0m     \u001b[38;5;124m\"\"\"\u001b[39m\n\u001b[1;32m   2367\u001b[0m \u001b[38;5;124m    Return the list of model ids in the current scene\u001b[39m\n\u001b[1;32m   2368\u001b[0m \n\u001b[1;32m   2369\u001b[0m \u001b[38;5;124m    :return: List of model Ids\u001b[39m\n\u001b[1;32m   2370\u001b[0m \u001b[38;5;124m    \"\"\"\u001b[39m\n\u001b[0;32m-> 2371\u001b[0m     \u001b[38;5;28;01mreturn\u001b[39;00m \u001b[38;5;28;43mself\u001b[39;49m\u001b[38;5;241;43m.\u001b[39;49m\u001b[43m_invoke\u001b[49m\u001b[43m(\u001b[49m\u001b[38;5;124;43m\"\u001b[39;49m\u001b[38;5;124;43mget-model-ids\u001b[39;49m\u001b[38;5;124;43m\"\u001b[39;49m\u001b[43m)\u001b[49m\n",
                        "File \u001b[0;32m~/Notebooks/env/lib/python3.10/site-packages/bioexplorer/bio_explorer.py:813\u001b[0m, in \u001b[0;36mBioExplorer._invoke\u001b[0;34m(self, method, params)\u001b[0m\n\u001b[1;32m    811\u001b[0m \u001b[38;5;28;01mdef\u001b[39;00m \u001b[38;5;21m_invoke\u001b[39m(\u001b[38;5;28mself\u001b[39m, method, params\u001b[38;5;241m=\u001b[39m\u001b[38;5;28;01mNone\u001b[39;00m):\n\u001b[1;32m    812\u001b[0m     prefixed_method \u001b[38;5;241m=\u001b[39m \u001b[38;5;28mself\u001b[39m\u001b[38;5;241m.\u001b[39mPLUGIN_API_PREFIX \u001b[38;5;241m+\u001b[39m method\n\u001b[0;32m--> 813\u001b[0m     \u001b[38;5;28;01mreturn\u001b[39;00m \u001b[38;5;28;43mself\u001b[39;49m\u001b[38;5;241;43m.\u001b[39;49m\u001b[43m_client\u001b[49m\u001b[38;5;241;43m.\u001b[39;49m\u001b[43mrockets_client\u001b[49m\u001b[38;5;241;43m.\u001b[39;49m\u001b[43mrequest\u001b[49m\u001b[43m(\u001b[49m\n\u001b[1;32m    814\u001b[0m \u001b[43m        \u001b[49m\u001b[43mmethod\u001b[49m\u001b[38;5;241;43m=\u001b[39;49m\u001b[43mprefixed_method\u001b[49m\u001b[43m,\u001b[49m\u001b[43m \u001b[49m\u001b[43mparams\u001b[49m\u001b[38;5;241;43m=\u001b[39;49m\u001b[43mparams\u001b[49m\n\u001b[1;32m    815\u001b[0m \u001b[43m    \u001b[49m\u001b[43m)\u001b[49m\n",
                        "File \u001b[0;32m~/Notebooks/env/lib/python3.10/site-packages/rockets/client.py:100\u001b[0m, in \u001b[0;36mClient.request\u001b[0;34m(self, method, params, response_timeout)\u001b[0m\n\u001b[1;32m     92\u001b[0m \u001b[38;5;129m@copydoc\u001b[39m(AsyncClient\u001b[38;5;241m.\u001b[39mrequest)\n\u001b[1;32m     93\u001b[0m \u001b[38;5;28;01mdef\u001b[39;00m \u001b[38;5;21mrequest\u001b[39m(\n\u001b[1;32m     94\u001b[0m     \u001b[38;5;28mself\u001b[39m, method, params\u001b[38;5;241m=\u001b[39m\u001b[38;5;28;01mNone\u001b[39;00m, response_timeout\u001b[38;5;241m=\u001b[39m\u001b[38;5;28;01mNone\u001b[39;00m\n\u001b[1;32m     95\u001b[0m ):  \u001b[38;5;66m# noqa: D102,D205 pylint: disable=C0111,W9011,W9012,W9015,W9016\u001b[39m\n\u001b[1;32m     96\u001b[0m     \u001b[38;5;124m\"\"\"\u001b[39m\n\u001b[1;32m     97\u001b[0m \u001b[38;5;124m    :param int response_timeout: number of seconds to wait for the response\u001b[39m\n\u001b[1;32m     98\u001b[0m \u001b[38;5;124m    :raises TimeoutError: if request was not answered within given response_timeout\u001b[39m\n\u001b[1;32m     99\u001b[0m \u001b[38;5;124m    \"\"\"\u001b[39m\n\u001b[0;32m--> 100\u001b[0m     \u001b[38;5;28;01mreturn\u001b[39;00m \u001b[38;5;28;43mself\u001b[39;49m\u001b[38;5;241;43m.\u001b[39;49m\u001b[43m_call_sync\u001b[49m\u001b[43m(\u001b[49m\u001b[38;5;28;43mself\u001b[39;49m\u001b[38;5;241;43m.\u001b[39;49m\u001b[43m_client\u001b[49m\u001b[38;5;241;43m.\u001b[39;49m\u001b[43mrequest\u001b[49m\u001b[43m(\u001b[49m\u001b[43mmethod\u001b[49m\u001b[43m,\u001b[49m\u001b[43m \u001b[49m\u001b[43mparams\u001b[49m\u001b[43m)\u001b[49m\u001b[43m,\u001b[49m\u001b[43m \u001b[49m\u001b[43mresponse_timeout\u001b[49m\u001b[43m)\u001b[49m\n",
                        "File \u001b[0;32m~/Notebooks/env/lib/python3.10/site-packages/rockets/client.py:119\u001b[0m, in \u001b[0;36mClient._call_sync\u001b[0;34m(self, original_function, response_timeout)\u001b[0m\n\u001b[1;32m    115\u001b[0m \u001b[38;5;28;01mif\u001b[39;00m \u001b[38;5;28mself\u001b[39m\u001b[38;5;241m.\u001b[39m_thread:\n\u001b[1;32m    116\u001b[0m     future \u001b[38;5;241m=\u001b[39m asyncio\u001b[38;5;241m.\u001b[39mrun_coroutine_threadsafe(\n\u001b[1;32m    117\u001b[0m         original_function, \u001b[38;5;28mself\u001b[39m\u001b[38;5;241m.\u001b[39m_client\u001b[38;5;241m.\u001b[39mloop\n\u001b[1;32m    118\u001b[0m     )\n\u001b[0;32m--> 119\u001b[0m     \u001b[38;5;28;01mreturn\u001b[39;00m \u001b[43mfuture\u001b[49m\u001b[38;5;241;43m.\u001b[39;49m\u001b[43mresult\u001b[49m\u001b[43m(\u001b[49m\u001b[43mresponse_timeout\u001b[49m\u001b[43m)\u001b[49m\n\u001b[1;32m    120\u001b[0m \u001b[38;5;28;01mreturn\u001b[39;00m \u001b[38;5;28mself\u001b[39m\u001b[38;5;241m.\u001b[39m_client\u001b[38;5;241m.\u001b[39mloop\u001b[38;5;241m.\u001b[39mrun_until_complete(original_function)\n",
                        "File \u001b[0;32m/usr/lib/python3.10/concurrent/futures/_base.py:458\u001b[0m, in \u001b[0;36mFuture.result\u001b[0;34m(self, timeout)\u001b[0m\n\u001b[1;32m    456\u001b[0m     \u001b[38;5;28;01mraise\u001b[39;00m CancelledError()\n\u001b[1;32m    457\u001b[0m \u001b[38;5;28;01melif\u001b[39;00m \u001b[38;5;28mself\u001b[39m\u001b[38;5;241m.\u001b[39m_state \u001b[38;5;241m==\u001b[39m FINISHED:\n\u001b[0;32m--> 458\u001b[0m     \u001b[38;5;28;01mreturn\u001b[39;00m \u001b[38;5;28;43mself\u001b[39;49m\u001b[38;5;241;43m.\u001b[39;49m\u001b[43m__get_result\u001b[49m\u001b[43m(\u001b[49m\u001b[43m)\u001b[49m\n\u001b[1;32m    459\u001b[0m \u001b[38;5;28;01melse\u001b[39;00m:\n\u001b[1;32m    460\u001b[0m     \u001b[38;5;28;01mraise\u001b[39;00m \u001b[38;5;167;01mTimeoutError\u001b[39;00m()\n",
                        "File \u001b[0;32m/usr/lib/python3.10/concurrent/futures/_base.py:403\u001b[0m, in \u001b[0;36mFuture.__get_result\u001b[0;34m(self)\u001b[0m\n\u001b[1;32m    401\u001b[0m \u001b[38;5;28;01mif\u001b[39;00m \u001b[38;5;28mself\u001b[39m\u001b[38;5;241m.\u001b[39m_exception:\n\u001b[1;32m    402\u001b[0m     \u001b[38;5;28;01mtry\u001b[39;00m:\n\u001b[0;32m--> 403\u001b[0m         \u001b[38;5;28;01mraise\u001b[39;00m \u001b[38;5;28mself\u001b[39m\u001b[38;5;241m.\u001b[39m_exception\n\u001b[1;32m    404\u001b[0m     \u001b[38;5;28;01mfinally\u001b[39;00m:\n\u001b[1;32m    405\u001b[0m         \u001b[38;5;66m# Break a reference cycle with the exception in self._exception\u001b[39m\n\u001b[1;32m    406\u001b[0m         \u001b[38;5;28mself\u001b[39m \u001b[38;5;241m=\u001b[39m \u001b[38;5;28;01mNone\u001b[39;00m\n",
                        "File \u001b[0;32m~/Notebooks/env/lib/python3.10/site-packages/rockets/async_client.py:171\u001b[0m, in \u001b[0;36mAsyncClient.request\u001b[0;34m(self, method, params)\u001b[0m\n\u001b[1;32m    168\u001b[0m     \u001b[38;5;28mself\u001b[39m\u001b[38;5;241m.\u001b[39m_setup_progress_filter(response_future, request_id)\n\u001b[1;32m    170\u001b[0m     \u001b[38;5;28;01mawait\u001b[39;00m \u001b[38;5;28mself\u001b[39m\u001b[38;5;241m.\u001b[39msend(request\u001b[38;5;241m.\u001b[39mjson)\n\u001b[0;32m--> 171\u001b[0m     \u001b[38;5;28;01mawait\u001b[39;00m response_future\n\u001b[1;32m    172\u001b[0m     \u001b[38;5;28;01mreturn\u001b[39;00m response_future\u001b[38;5;241m.\u001b[39mresult()\n\u001b[1;32m    173\u001b[0m \u001b[38;5;28;01mexcept\u001b[39;00m asyncio\u001b[38;5;241m.\u001b[39mCancelledError:\n",
                        "File \u001b[0;32m~/Notebooks/env/lib/python3.10/site-packages/rockets/async_client.py:171\u001b[0m, in \u001b[0;36mAsyncClient.request\u001b[0;34m(self, method, params)\u001b[0m\n\u001b[1;32m    168\u001b[0m     \u001b[38;5;28mself\u001b[39m\u001b[38;5;241m.\u001b[39m_setup_progress_filter(response_future, request_id)\n\u001b[1;32m    170\u001b[0m     \u001b[38;5;28;01mawait\u001b[39;00m \u001b[38;5;28mself\u001b[39m\u001b[38;5;241m.\u001b[39msend(request\u001b[38;5;241m.\u001b[39mjson)\n\u001b[0;32m--> 171\u001b[0m     \u001b[38;5;28;01mawait\u001b[39;00m response_future\n\u001b[1;32m    172\u001b[0m     \u001b[38;5;28;01mreturn\u001b[39;00m response_future\u001b[38;5;241m.\u001b[39mresult()\n\u001b[1;32m    173\u001b[0m \u001b[38;5;28;01mexcept\u001b[39;00m asyncio\u001b[38;5;241m.\u001b[39mCancelledError:\n",
                        "\u001b[0;31mRequestError\u001b[0m: Socket connection closed"
                    ]
                }
            ],
            "source": [
                "neurons_model = se.load_circuit(\n",
                "    name='TestData',\n",
                "    # path='/gpfs/bbp.cscs.ch/project/proj129/circuits/o1/BlueConfig',\n",
                "    path='/gpfs/bbp.cscs.ch/project/proj68/home/kumbhar/NCX-246/sim2/BlueConfig',\n",
                "    # path='/gpfs/bbp.cscs.ch/project/proj42/simulations/CA1.20190306/20190602/BlueConfig',\n",
                "    report='soma',\n",
                "    density=1.0,\n",
                "    # density=0.1,\n",
                "    load_axon=False, load_apical_dendrite=True, load_dendrite=True,\n",
                "    voltage_scaling=0.02, initial_simulation_frame=3\n",
                ")"
            ]
        },
        {
            "cell_type": "code",
            "execution_count": null,
            "id": "3e5b7003",
            "metadata": {},
            "outputs": [],
            "source": [
                "import seaborn as sns\n",
                "def set_materials(model_id, palette_name):\n",
                "    colors = list()\n",
                "    opacities = list()\n",
                "    refraction_indices = list()\n",
                "    specular_exponents = list()\n",
                "    shading_modes = list()\n",
                "    user_params = list()\n",
                "    glossinesses = list()\n",
                "    emissions = list()\n",
                "    cast_user_datas = list()\n",
                "    \n",
                "    material_ids = be.get_material_ids(model_id)['ids']\n",
                "    palette_size = len(material_ids)\n",
                "    palette = sns.color_palette(palette_name, palette_size)\n",
                "\n",
                "    i = 0\n",
                "    for _ in material_ids:\n",
                "        colors.append(palette[i])\n",
                "        opacities.append(1.0)\n",
                "        shading_modes.append(be.SHADING_MODE_NONE)\n",
                "        glossinesses.append(1.0)\n",
                "        user_params.append(3.0)\n",
                "        specular_exponents.append(5.0)\n",
                "        emissions.append(0.0)\n",
                "        refraction_indices.append(1.0)\n",
                "        cast_user_datas.append(True)\n",
                "        i += 1\n",
                "        \n",
                "    be.set_materials(\n",
                "        model_ids=[model_id], material_ids=material_ids,\n",
                "        diffuse_colors=colors, specular_colors=colors,\n",
                "        opacities=opacities, refraction_indices=refraction_indices,\n",
                "        shading_modes=shading_modes, specular_exponents=specular_exponents,\n",
                "        user_parameters=user_params, glossinesses=glossinesses,\n",
                "        emissions=emissions, cast_user_datas=cast_user_datas\n",
                "    )"
            ]
        },
        {
            "cell_type": "code",
            "execution_count": null,
            "id": "26dc02eb",
            "metadata": {},
            "outputs": [],
            "source": [
                "model_ids = be.get_model_ids()['ids']\n",
                "offset = model_ids[0]\n",
                "set_materials(offset, 'Set3')"
            ]
        },
        {
            "cell_type": "code",
            "execution_count": null,
            "id": "9fd33ec8",
            "metadata": {},
            "outputs": [],
            "source": [
                "status = core.set_renderer(\n",
                "    background_color=[1,1,1],\n",
                "    current='advanced',subsampling=4, max_accum_frames=64)\n",
                "params = core.AdvancedRendererParams()\n",
                "params.gi_ray_length = 1000.0\n",
                "params.gi_strength = 0.1\n",
                "params.gi_samples = 1\n",
                "params.shadow_intensity = 1.0\n",
                "params.soft_shadow_strength = 1.0\n",
                "params.epsilon_multiplier = 100.0\n",
                "params.max_ray_depth = 1\n",
                "params.show_background = False\n",
                "params.main_exposure = 1.1\n",
                "status = core.set_renderer_params(params)\n",
                "status = core.set_renderer()"
            ]
        },
        {
            "cell_type": "code",
            "execution_count": null,
            "id": "d9fa4aae",
            "metadata": {},
            "outputs": [],
            "source": [
                "core.set_camera(\n",
                "    orientation=[0.8297011687074721, 0.14874353944900823, -0.37587114042646774, 0.3849574209080049],\n",
                "    position=[1210.2191504842783, -3678.4924416335703, 871.1596374673136],\n",
                "    target=[6282.5421443563855, 3798.638680182027, 5065.449024471114],\n",
                ")"
            ]
        },
        {
            "cell_type": "code",
            "execution_count": null,
            "id": "cee12539",
            "metadata": {},
            "outputs": [],
            "source": [
                "core.set_camera(\n",
                "    orientation=[-0.5000000000000001, 0.5000000000000001, 0.5000000000000001, 0.49999999999999967],\n",
                "    position=[5862.237670898435, 11638.91689045513, 5811.409423828123],\n",
                "    target=[5862.237670898438, 2624.8811645507812, 5811.409423828125]\n",
                ")"
            ]
        },
        {
            "cell_type": "code",
            "execution_count": null,
            "id": "11843c02",
            "metadata": {},
            "outputs": [],
            "source": [
                "core.clear_lights()\n",
                "core.add_light_directional(\n",
                "    color=[1, 1, 1], direction=[-0.5, 1.0, -0.5],\n",
                "    angularDiameter=45.0, intensity=1.0, is_visible=True)"
            ]
        },
        {
            "cell_type": "code",
            "execution_count": null,
            "id": "3e1fee16",
            "metadata": {},
            "outputs": [],
            "source": [
                "stop"
            ]
        },
        {
            "cell_type": "code",
            "execution_count": null,
            "id": "2a5e0f83",
            "metadata": {},
            "outputs": [],
            "source": [
                "from bioexplorer import MovieMaker\n",
                "mm = MovieMaker(be)"
            ]
        },
        {
            "cell_type": "code",
            "execution_count": null,
            "id": "12b16c6f",
            "metadata": {},
            "outputs": [],
            "source": [
                "for frame in range(1, 1000):\n",
                "    be.reset_scene()\n",
                "    neurons_model = se.load_circuit(\n",
                "        name='IsoCortex',\n",
                "        path='/gpfs/bbp.cscs.ch/project/proj68/home/kumbhar/NCX-246/sim2/BlueConfig',\n",
                "        report='soma',\n",
                "        density=1.0,\n",
                "        load_axon=False, load_apical_dendrite=True, load_dendrite=True,\n",
                "        voltage_scaling=0.02, initial_simulation_frame=frame\n",
                "    )    \n",
                "    model_ids = be.get_model_ids()['ids']\n",
                "    offset = model_ids[0]\n",
                "    set_materials(offset, 'Set3')\n",
                "    core.set_animation_parameters(current=frame)\n",
                "    core.set_camera(\n",
                "        orientation=[0.8297011687074721, 0.14874353944900823, -0.37587114042646774, 0.3849574209080049],\n",
                "        position=[1210.2191504842783, -3678.4924416335703, 871.1596374673136],\n",
                "        target=[6282.5421443563855, 3798.638680182027, 5065.449024471114],\n",
                "    )\n",
                "    mm.create_snapshot(\n",
                "        renderer='advanced', base_name='%05d' % frame,\n",
                "        path='/gpfs/bbp.cscs.ch/project/proj129/scratch/isocortex/voltage_scaling/v1/', samples_per_pixel=64,\n",
                "        size=[3840, 2160], show_progress=True\n",
                "    )\n",
                "\n",
                "    core.set_camera(\n",
                "        orientation=[-0.5000000000000001, 0.5000000000000001, 0.5000000000000001, 0.49999999999999967],\n",
                "        position=[5862.237670898435, 11638.91689045513, 5811.409423828123],\n",
                "        target=[5862.237670898438, 2624.8811645507812, 5811.409423828125]\n",
                "    )\n",
                "    mm.create_snapshot(\n",
                "        renderer='advanced', base_name='%05d' % frame,\n",
                "        path='/gpfs/bbp.cscs.ch/project/proj129/scratch/isocortex/voltage_scaling/v2/', samples_per_pixel=64,\n",
                "        size=[3840, 2160], show_progress=True\n",
                "    )    "
            ]
        }
    ],
    "metadata": {
        "interpreter": {
            "hash": "ea9a5fa46eb6bad2806a8ea1d08e15bb1e255a2d4320b81e765591579963c56b"
        },
        "kernelspec": {
            "display_name": "Python 3.8.10 64-bit ('env': venv)",
            "language": "python",
            "name": "python3"
        },
        "language_info": {
            "codemirror_mode": {
                "name": "ipython",
                "version": 3
            },
            "file_extension": ".py",
            "mimetype": "text/x-python",
            "name": "python",
            "nbconvert_exporter": "python",
            "pygments_lexer": "ipython3",
            "version": "3.10.12"
        }
    },
    "nbformat": 4,
    "nbformat_minor": 5
}
