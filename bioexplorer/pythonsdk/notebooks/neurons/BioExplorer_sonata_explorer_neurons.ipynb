{
    "cells": [
        {
            "attachments": {},
            "cell_type": "markdown",
            "id": "f992ef9f",
            "metadata": {},
            "source": [
                "# BioExplorer - Neurons\n",
                "![](../bioexplorer_neurons_banner.png)"
            ]
        },
        {
            "attachments": {},
            "cell_type": "markdown",
            "id": "084953fe",
            "metadata": {},
            "source": [
                "### Connect to back-end"
            ]
        },
        {
            "cell_type": "code",
            "execution_count": null,
            "id": "697e36dd",
            "metadata": {
                "scrolled": false
            },
            "outputs": [],
            "source": [
                "from bioexplorer import BioExplorer, SonataExplorer, Vector3, Quaternion\n",
                "\n",
                "url = 'localhost:5000'\n",
                "be = BioExplorer(url)\n",
                "se = SonataExplorer(be)\n",
                "\n",
                "core = be.core_api()\n",
                "status = be.reset_scene()"
            ]
        },
        {
            "attachments": {},
            "cell_type": "markdown",
            "id": "a72cdcd5",
            "metadata": {},
            "source": [
                "### Load neurons"
            ]
        },
        {
            "cell_type": "code",
            "execution_count": null,
            "id": "3007d98c",
            "metadata": {},
            "outputs": [],
            "source": [
                "neurons_model = se.load_circuit(\n",
                "    name='TestData',\n",
                "    path='BlueConfig',\n",
                "    report='soma',\n",
                "    load_axon=False, load_apical_dendrite=False, load_dendrite=False, radius_correction=10, \n",
                "    use_sdf_branches=False, use_sdf_soma=False,\n",
                "    rotation=Quaternion(-0.22805484786655708, 0.6207455689656645, 0.6214936769527719, 0.42001373130146424)\n",
                ")"
            ]
        },
        {
            "cell_type": "code",
            "execution_count": null,
            "id": "3e5b7003",
            "metadata": {},
            "outputs": [],
            "source": [
                "import seaborn as sns\n",
                "def set_materials(model_id, palette_name):\n",
                "    colors = list()\n",
                "    opacities = list()\n",
                "    refraction_indices = list()\n",
                "    specular_exponents = list()\n",
                "    shading_modes = list()\n",
                "    user_params = list()\n",
                "    glossinesses = list()\n",
                "    emissions = list()\n",
                "    cast_user_datas = list()\n",
                "    \n",
                "    material_ids = be.get_material_ids(model_id)['ids']\n",
                "    palette_size = len(material_ids)\n",
                "    palette = sns.color_palette(palette_name, palette_size)\n",
                "\n",
                "    i = 0\n",
                "    for _ in material_ids:\n",
                "        colors.append(palette[i])\n",
                "        opacities.append(1.0)\n",
                "        shading_modes.append(be.SHADING_MODE_CARTOON)\n",
                "        glossinesses.append(1.0)\n",
                "        user_params.append(3.0)\n",
                "        specular_exponents.append(5.0)\n",
                "        emissions.append(0.0)\n",
                "        refraction_indices.append(1.0)\n",
                "        cast_user_datas.append(True)\n",
                "        i += 1\n",
                "        \n",
                "    be.set_materials(\n",
                "        model_ids=[model_id], material_ids=material_ids,\n",
                "        diffuse_colors=colors, specular_colors=colors,\n",
                "        opacities=opacities, refraction_indices=refraction_indices,\n",
                "        shading_modes=shading_modes, specular_exponents=specular_exponents,\n",
                "        user_parameters=user_params, glossinesses=glossinesses,\n",
                "        emissions=emissions, cast_user_datas=cast_user_datas\n",
                "    )"
            ]
        },
        {
            "cell_type": "code",
            "execution_count": null,
            "id": "26dc02eb",
            "metadata": {},
            "outputs": [],
            "source": [
                "model_ids = be.get_model_ids()['ids']\n",
                "offset = model_ids[0]\n",
                "set_materials(offset, 'Set3')\n",
                "core.set_renderer()"
            ]
        },
        {
            "cell_type": "code",
            "execution_count": null,
            "id": "9fd33ec8",
            "metadata": {},
            "outputs": [],
            "source": [
                "status = core.set_renderer(\n",
                "    background_color=[1,1,1],\n",
                "    current='advanced',subsampling=4, max_accum_frames=64)\n",
                "params = core.AdvancedRendererParams()\n",
                "params.gi_ray_length = 100.0\n",
                "params.shadow_intensity = 1.0\n",
                "params.soft_shadow_strength = 1.0\n",
                "params.epsilon_multiplier = 100.0\n",
                "params.max_ray_depth = 1\n",
                "params.show_background = False\n",
                "params.main_exposure = 1.1\n",
                "status = core.set_renderer_params(params)\n",
                "status = core.set_renderer()"
            ]
        },
        {
            "cell_type": "code",
            "execution_count": null,
            "id": "d9fa4aae",
            "metadata": {},
            "outputs": [],
            "source": [
                "be.reset_camera()\n",
                "core.set_renderer()"
            ]
        }
    ],
    "metadata": {
        "interpreter": {
            "hash": "ea9a5fa46eb6bad2806a8ea1d08e15bb1e255a2d4320b81e765591579963c56b"
        },
        "kernelspec": {
            "display_name": "Python 3.8.10 64-bit ('env': venv)",
            "language": "python",
            "name": "python3"
        },
        "language_info": {
            "codemirror_mode": {
                "name": "ipython",
                "version": 3
            },
            "file_extension": ".py",
            "mimetype": "text/x-python",
            "name": "python",
            "nbconvert_exporter": "python",
            "pygments_lexer": "ipython3",
            "version": "3.8.10"
        }
    },
    "nbformat": 4,
    "nbformat_minor": 5
}