{
 "cells": [
  {
   "cell_type": "markdown",
   "id": "f992ef9f",
   "metadata": {},
   "source": [
    "# BioExplorer - Neurons\n",
    "![](../bioexplorer_neurons_banner.png)"
   ]
  },
  {
   "cell_type": "code",
   "execution_count": null,
   "id": "345ec844",
   "metadata": {
    "scrolled": true
   },
   "outputs": [],
   "source": [
    "import os\n",
    "from sqlalchemy import create_engine\n",
    "from sqlalchemy.orm import Session\n",
    "from tqdm.notebook import tqdm\n",
    "\n",
    "db_host = os.getenv('DB_HOST')\n",
    "db_name = os.getenv('DB_NAME')\n",
    "db_user = os.getenv('DB_USER')\n",
    "db_password = os.getenv('DB_PASSWORD')\n",
    "db_schema = 'neurons'\n",
    "\n",
    "db_connection_string = 'postgresql+psycopg2://%s:%s@%s:5432/%s' % (db_user, db_password, db_host, db_name)\n",
    "print('Connection string: ' + db_connection_string + ', schema: ' + db_schema)\n",
    "\n",
    "engine = create_engine(db_connection_string)\n",
    "conn = engine.connect()"
   ]
  },
  {
   "cell_type": "code",
   "execution_count": null,
   "id": "1e0f227d",
   "metadata": {},
   "outputs": [],
   "source": [
    "import libsonata\n",
    "data_folder = os.getenv('NEURONS_DATA_FOLDER')\n",
    "print(data_folder)"
   ]
  },
  {
   "cell_type": "markdown",
   "id": "a834b1e2",
   "metadata": {},
   "source": [
    "## Circuit"
   ]
  },
  {
   "cell_type": "code",
   "execution_count": null,
   "id": "3eed1274",
   "metadata": {},
   "outputs": [],
   "source": [
    "import libsonata\n",
    "circuit_config = os.path.join(data_folder, 'build', 'ngv_config.json')\n",
    "circuit = libsonata.CircuitConfig.from_file(circuit_config)\n",
    "population_guid = 1"
   ]
  },
  {
   "cell_type": "code",
   "execution_count": null,
   "id": "8491bda5",
   "metadata": {},
   "outputs": [],
   "source": [
    "import json\n",
    "json = json.loads(circuit.expanded_json)\n",
    "json.keys()"
   ]
  },
  {
   "cell_type": "markdown",
   "id": "09543792",
   "metadata": {},
   "source": [
    "### Nodes"
   ]
  },
  {
   "cell_type": "code",
   "execution_count": null,
   "id": "c226eec8",
   "metadata": {},
   "outputs": [],
   "source": [
    "import numpy as np\n",
    "nodes = circuit.node_population('All')\n",
    "ids = np.arange(0, nodes.size)\n",
    "\n",
    "model_templates = nodes.get_attribute('model_template', list(ids))\n",
    "etypes = nodes.get_attribute('etype', list(ids))\n",
    "mtypes = nodes.get_attribute('mtype', list(ids))\n",
    "hyper_columns = nodes.get_attribute('hypercolumn', list(ids))\n",
    "layers = nodes.get_attribute('layer', list(ids))\n",
    "morphologies = nodes.get_attribute('morphology', list(ids))\n",
    "xs = nodes.get_attribute('x', list(ids))\n",
    "ys = nodes.get_attribute('y', list(ids))\n",
    "zs = nodes.get_attribute('z', list(ids))\n",
    "rxs = nodes.get_attribute('rotation_angle_xaxis', list(ids))\n",
    "rys = nodes.get_attribute('rotation_angle_yaxis', list(ids))\n",
    "rzs = nodes.get_attribute('rotation_angle_zaxis', list(ids))\n"
   ]
  },
  {
   "cell_type": "code",
   "execution_count": null,
   "id": "2028b2f9",
   "metadata": {},
   "outputs": [],
   "source": [
    "# Morphologies\n",
    "morphologies_guids = dict()\n",
    "print('Deleting existing morphologies')\n",
    "with Session(engine) as session:\n",
    "    session.execute('DELETE FROM %s.morphology' % db_schema)\n",
    "    session.commit()\n",
    "\n",
    "duplicates = list()\n",
    "print('Populating nodes')\n",
    "count = 0\n",
    "with Session(engine) as session:\n",
    "    for i in tqdm(range(nodes.size)):\n",
    "        try:\n",
    "            session.execute(\n",
    "                'INSERT INTO %s.morphology VALUES (:guid, :basename)' % db_schema,\n",
    "                {\n",
    "                    'guid': count,\n",
    "                    'basename': morphologies[i]\n",
    "                }\n",
    "            )\n",
    "            morphologies_guids[morphologies[i]] = count\n",
    "            count += 1\n",
    "            session.commit()\n",
    "        except Exception as e:\n",
    "            duplicates.append(morphologies[i])\n",
    "        session.rollback()\n"
   ]
  },
  {
   "cell_type": "code",
   "execution_count": null,
   "id": "fe05cc92",
   "metadata": {},
   "outputs": [],
   "source": [
    "# E-Types\n",
    "etypes_guids = dict()\n",
    "print('Deleting existing electrical types')\n",
    "with Session(engine) as session:\n",
    "    session.execute('DELETE FROM %s.electrical_type' % db_schema)\n",
    "    session.commit()\n",
    "\n",
    "duplicates = list()\n",
    "print('Populating records')\n",
    "count = 0\n",
    "with Session(engine) as session:\n",
    "    for i in tqdm(range(etypes.size)):\n",
    "        try:\n",
    "            session.execute(\n",
    "                'INSERT INTO %s.electrical_type VALUES (:guid, :code)' % db_schema,\n",
    "                {\n",
    "                    'guid': count,\n",
    "                    'code': etypes[i]\n",
    "                }\n",
    "            )\n",
    "            etypes_guids[etypes[i]] = count\n",
    "            count += 1\n",
    "            session.commit()\n",
    "        except Exception as e:\n",
    "            duplicates.append(etypes[i])\n",
    "        session.rollback()\n"
   ]
  },
  {
   "cell_type": "code",
   "execution_count": null,
   "id": "e208aa58",
   "metadata": {},
   "outputs": [],
   "source": [
    "# M-Types\n",
    "mtypes_guids = dict()\n",
    "print('Deleting existing morphological types')\n",
    "with Session(engine) as session:\n",
    "    session.execute('DELETE FROM %s.morphological_type' % db_schema)\n",
    "    session.commit()\n",
    "\n",
    "duplicates = list()\n",
    "print('Populating records')\n",
    "count = 0\n",
    "with Session(engine) as session:\n",
    "    for i in tqdm(range(mtypes.size)):\n",
    "        try:\n",
    "            session.execute(\n",
    "                'INSERT INTO %s.morphological_type VALUES (:guid, :code)' % db_schema,\n",
    "                {\n",
    "                    'guid': count,\n",
    "                    'code': mtypes[i]\n",
    "                }\n",
    "            )\n",
    "            mtypes_guids[mtypes[i]] = count\n",
    "            count += 1\n",
    "            session.commit()\n",
    "        except Exception as e:\n",
    "            duplicates.append(mtypes[i])\n",
    "        session.rollback()\n"
   ]
  },
  {
   "cell_type": "code",
   "execution_count": null,
   "id": "ad3dc306",
   "metadata": {},
   "outputs": [],
   "source": [
    "# Nodes\n",
    "print('Deleting existing nodes')\n",
    "with Session(engine) as session:\n",
    "    session.execute(\n",
    "        'DELETE FROM %s.node WHERE population_guid=:population_guid' % db_schema,\n",
    "        {\n",
    "            'population_guid': population_guid\n",
    "        }\n",
    "    )\n",
    "    session.commit()\n",
    "\n",
    "errors = list()\n",
    "print('Populating nodes')\n",
    "with Session(engine) as session:\n",
    "    for i in tqdm(range(nodes.size)):\n",
    "        try:\n",
    "            session.execute(\n",
    "                'INSERT INTO %s.node VALUES (:guid, :population_guid, :x, :y, :z, :rotation_x, :rotation_y, :rotation_z, :morphology_guid, :etype, :mtype)' % db_schema,\n",
    "                {\n",
    "                    'guid': i,\n",
    "                    'population_guid': population_guid,\n",
    "                    'x': xs[i],\n",
    "                    'y': ys[i],\n",
    "                    'z': zs[i],\n",
    "                    'rotation_x': rxs[i],\n",
    "                    'rotation_y': rys[i],\n",
    "                    'rotation_z': rzs[i],\n",
    "                    'morphology_guid': morphologies_guids[morphologies[i]],\n",
    "                    'etype': etypes_guids[etypes[i]],\n",
    "                    'mtype': mtypes_guids[mtypes[i]]\n",
    "                }\n",
    "            )\n",
    "            session.commit()\n",
    "        except Exception as e:\n",
    "            print(e)\n",
    "            errors.append(e)\n",
    "            break\n",
    "        session.rollback()"
   ]
  },
  {
   "cell_type": "markdown",
   "id": "a284c9fd",
   "metadata": {},
   "source": [
    "## Morphology Sections"
   ]
  },
  {
   "cell_type": "code",
   "execution_count": null,
   "id": "f1164c5f",
   "metadata": {},
   "outputs": [],
   "source": [
    "import morphio\n",
    "\n",
    "components = json['components']\n",
    "morphology_folder = components['morphologies_dir']"
   ]
  },
  {
   "cell_type": "code",
   "execution_count": null,
   "id": "3767f80f",
   "metadata": {},
   "outputs": [],
   "source": [
    "section_types = dict()\n",
    "section_types[morphio.SectionType.soma] = 0\n",
    "section_types[morphio.SectionType.axon] = 1\n",
    "section_types[morphio.SectionType.basal_dendrite] = 2\n",
    "section_types[morphio.SectionType.apical_dendrite] = 3"
   ]
  },
  {
   "cell_type": "code",
   "execution_count": null,
   "id": "3e2bca41",
   "metadata": {},
   "outputs": [],
   "source": [
    "with Session(engine) as session:\n",
    "    session.execute('DELETE FROM %s.section' % db_schema)\n",
    "    session.commit()\n",
    "\n",
    "with Session(engine) as session:\n",
    "    for morphology_guid in tqdm(range(len(morphologies_guids))):\n",
    "        morphology=morphologies[morphology_guid]\n",
    "        morphology_file = os.path.join(morphology_folder, 'h5', morphology + '.h5')\n",
    "        m = morphio.Morphology(morphology_file)\n",
    "\n",
    "        for section in m.sections:\n",
    "            section_type_guid = section_types[section.type]\n",
    "            parent = -1\n",
    "            if not section.is_root:\n",
    "                parent =  section.parent.id\n",
    "\n",
    "            points = list()\n",
    "            for i in range(len(section.points)):\n",
    "                point = section.points[i]\n",
    "                points.append(point[0])\n",
    "                points.append(point[1])\n",
    "                points.append(point[2])\n",
    "                points.append(section.diameters[i])\n",
    "            buffer = np.array(points, dtype=np.float32).tobytes()\n",
    "\n",
    "            point = section.points[0]\n",
    "\n",
    "            session.execute(\n",
    "                'INSERT INTO %s.section VALUES (:morphology_guid, :section_guid, :section_parent_guid, :section_type_guid, :points, :x, :y, :z)' % db_schema,\n",
    "                {\n",
    "                    'morphology_guid': morphology_guid,\n",
    "                    'section_guid': section.id,\n",
    "                    'section_parent_guid': parent,\n",
    "                    'section_type_guid': section_type_guid,\n",
    "                    'points': buffer,\n",
    "                    'x': float(point[0]),\n",
    "                    'y': float(point[1]),\n",
    "                    'z': float(point[2])\n",
    "                }\n",
    "            )\n",
    "        if morphology_guid % 10 == 0:\n",
    "            session.commit()\n",
    "    session.commit()"
   ]
  },
  {
   "attachments": {},
   "cell_type": "markdown",
   "id": "73b00d32",
   "metadata": {},
   "source": [
    "## Reports"
   ]
  },
  {
   "cell_type": "code",
   "execution_count": null,
   "id": "548cf772",
   "metadata": {},
   "outputs": [],
   "source": [
    "with Session(engine) as session:\n",
    "    '''Remove report types'''\n",
    "    session.execute('DELETE FROM %s.report_type' % db_schema)\n",
    "    session.commit()\n",
    "\n",
    "    '''Populate report types'''\n",
    "    session.execute(\"INSERT INTO %s.report_type VALUES(0, 'undefined')\" % db_schema)\n",
    "    session.execute(\"INSERT INTO %s.report_type VALUES(1, 'spike')\" % db_schema)\n",
    "    session.execute(\"INSERT INTO %s.report_type VALUES(2, 'soma')\" % db_schema)\n",
    "    session.execute(\"INSERT INTO %s.report_type VALUES(3, 'compartment')\" % db_schema)\n",
    "    session.commit()"
   ]
  },
  {
   "attachments": {},
   "cell_type": "markdown",
   "id": "d69abacf",
   "metadata": {},
   "source": [
    "### Soma report"
   ]
  },
  {
   "cell_type": "code",
   "execution_count": null,
   "id": "da73cfbe",
   "metadata": {},
   "outputs": [],
   "source": [
    "soma_path = os.path.join(data_folder, 'soma.h5')\n",
    "\n",
    "reader = libsonata.SomaReportReader(soma_path)\n",
    "population_names = reader.get_population_names()\n",
    "soma_report_population = reader[population_names[0]]\n",
    "\n",
    "'''Report metadata'''\n",
    "report_guid = 0\n",
    "times = soma_report_population.times\n",
    "start_time = times[0]\n",
    "end_time = times[1]\n",
    "time_interval = times[2]\n",
    "nb_frames = int((end_time - start_time) / time_interval)"
   ]
  },
  {
   "cell_type": "code",
   "execution_count": null,
   "id": "d7d0bfea",
   "metadata": {},
   "outputs": [],
   "source": [
    "simulated_ids = soma_report_population.get_node_ids()\n",
    "'''It is mandatory to sort guid in ascending order'''\n",
    "simulated_ids.sort()"
   ]
  },
  {
   "cell_type": "code",
   "execution_count": null,
   "id": "5e9d3d10",
   "metadata": {},
   "outputs": [],
   "source": [
    "with Session(engine) as session:\n",
    "    session.execute('DELETE FROM %s.report WHERE report_guid=%d' % (db_schema, report_guid))\n",
    "    session.commit()\n",
    "\n",
    "    if len(ids) != len(simulated_ids)\n",
    "    guids_buffer = np.array(node_ids.data, dtype=np.uint64).tobytes()\n",
    "    session.execute(\n",
    "        'INSERT INTO %s.report VALUES(:guid, :type_guid, :description, :start_time, :end_time, :time_interval, :data_unit, :time_unit, :notes, :guids)' % db_schema,\n",
    "        {\n",
    "            'guid': report_guid,\n",
    "            'type_guid': 2, # soma\n",
    "            'description': 'BBP Test Data',\n",
    "            'start_time': start_time,\n",
    "            'end_time': end_time,\n",
    "            'time_interval': time_interval,\n",
    "            'data_unit': soma_report_population.data_unit,\n",
    "            'time_unit': soma_report_population.time_unit,\n",
    "            'notes': soma_path,\n",
    "            'guids': guids_buffer\n",
    "        }\n",
    "    )\n",
    "    session.commit()\n"
   ]
  },
  {
   "cell_type": "code",
   "execution_count": null,
   "id": "24a535bd",
   "metadata": {},
   "outputs": [],
   "source": [
    "import numpy as np\n",
    "max_guid_per_column = 50000000\n",
    "\n",
    "with Session(engine) as session:\n",
    "     print('Deleting existing soma report')\n",
    "     session.execute('DELETE FROM %s.soma_report WHERE report_guid=%d' % (db_schema, report_id))\n",
    "     session.commit()\n",
    "\n",
    "     for frame in tqdm(range(nb_frames)):\n",
    "        values = soma_report_population.get(\n",
    "            node_ids=simulated_ids,\n",
    "            tstart=start_time + time_interval * frame,\n",
    "            tstop=start_time + time_interval * frame)\n",
    "        buffer1 = np.array(values.data[0][0:max_guid_per_column], dtype=np.float32).tobytes()\n",
    "        buffer2 = np.array(values.data[0][max_guid_per_column:], dtype=np.float32).tobytes()\n",
    "        session.execute(\n",
    "            'INSERT INTO %s.soma_report VALUES(:report_guid, :frame, :values1, :values2)' % db_schema,\n",
    "            {\n",
    "                'report_guid': report_id,\n",
    "                'frame': frame,\n",
    "                'values1': buffer1,\n",
    "                'values2': buffer2\n",
    "            }\n",
    "        )\n",
    "        session.commit()"
   ]
  }
 ],
 "metadata": {
  "kernelspec": {
   "display_name": "env",
   "language": "python",
   "name": "python3"
  },
  "language_info": {
   "codemirror_mode": {
    "name": "ipython",
    "version": 3
   },
   "file_extension": ".py",
   "mimetype": "text/x-python",
   "name": "python",
   "nbconvert_exporter": "python",
   "pygments_lexer": "ipython3",
   "version": "3.8.10"
  },
  "vscode": {
   "interpreter": {
    "hash": "ea9a5fa46eb6bad2806a8ea1d08e15bb1e255a2d4320b81e765591579963c56b"
   }
  }
 },
 "nbformat": 4,
 "nbformat_minor": 5
}
