{
    "cells": [
        {
            "attachments": {},
            "cell_type": "markdown",
            "id": "f992ef9f",
            "metadata": {},
            "source": [
                "# BioExplorer - Animated neurons\n",
                "![](../../bioexplorer_neurons_banner.png)"
            ]
        },
        {
            "attachments": {},
            "cell_type": "markdown",
            "id": "084953fe",
            "metadata": {},
            "source": [
                "### Connect to back-end"
            ]
        },
        {
            "cell_type": "code",
            "execution_count": 205,
            "id": "697e36dd",
            "metadata": {
                "scrolled": false
            },
            "outputs": [],
            "source": [
                "from bioexplorer import BioExplorer, CellAnimationParams\n",
                "\n",
                "url = 'localhost:5000'\n",
                "be = BioExplorer(url)\n",
                "\n",
                "core = be.core_api()\n",
                "status = be.reset_scene()"
            ]
        },
        {
            "cell_type": "code",
            "execution_count": 206,
            "id": "3e5b7003",
            "metadata": {},
            "outputs": [],
            "source": [
                "import seaborn as sns\n",
                "def set_morphology_materials(model_id, palette_name, palette_size):\n",
                "    colors = list()\n",
                "    opacities = list()\n",
                "    refraction_indices = list()\n",
                "    specular_exponents = list()\n",
                "    shading_modes = list()\n",
                "    user_params = list()\n",
                "    glossinesses = list()\n",
                "    emissions = list()\n",
                "    \n",
                "    material_ids = be.get_material_ids(model_id)['ids']\n",
                "    palette = sns.color_palette(palette_name, palette_size)\n",
                "\n",
                "    for material_id in material_ids:\n",
                "        mid = material_id % palette_size\n",
                "        if mid == be.NEURON_MATERIAL_SYNAPSE:\n",
                "            colors.append(palette[0])\n",
                "            opacities.append(1.0)\n",
                "            shading_modes.append(be.SHADING_MODE_PERLIN)\n",
                "            glossinesses.append(0.1)\n",
                "            user_params.append(0.001)\n",
                "            specular_exponents.append(5.0)\n",
                "            emissions.append(0.0)\n",
                "        elif mid == be.NEURON_MATERIAL_MITOCHONDRION:\n",
                "            colors.append([1.0, 0.0, 1.0])\n",
                "            opacities.append(1.0)\n",
                "            shading_modes.append(be.SHADING_MODE_PERLIN)\n",
                "            glossinesses.append(0.5)\n",
                "            user_params.append(1.0)\n",
                "            specular_exponents.append(6.0)\n",
                "            emissions.append(0.25)\n",
                "        elif mid == be.NEURON_MATERIAL_NUCLEUS:\n",
                "            colors.append([1.0, 1.0, 1.0])\n",
                "            opacities.append(1.0)\n",
                "            shading_modes.append(be.SHADING_MODE_PERLIN)\n",
                "            glossinesses.append(1.0)\n",
                "            user_params.append(0.2)\n",
                "            specular_exponents.append(30.0)\n",
                "            emissions.append(0.0)\n",
                "        elif mid == be.NEURON_MATERIAL_SOMA:\n",
                "            colors.append(palette[0])\n",
                "            opacities.append(1.0)\n",
                "            shading_modes.append(be.SHADING_MODE_PERLIN)\n",
                "            glossinesses.append(0.2)\n",
                "            user_params.append(0.01)\n",
                "            specular_exponents.append(5.0)\n",
                "            emissions.append(0.0)\n",
                "        elif mid == be.NEURON_MATERIAL_MYELIN_STEATH:\n",
                "            colors.append([0.4, 0.3, 0.5])\n",
                "            opacities.append(1.0)\n",
                "            shading_modes.append(be.SHADING_MODE_DIFFUSE)\n",
                "            glossinesses.append(1.0)\n",
                "            user_params.append(1.0)\n",
                "            specular_exponents.append(50.0)\n",
                "            emissions.append(0.0)\n",
                "        else:\n",
                "            # Membrane\n",
                "            colors.append(palette[0])\n",
                "            opacities.append(1.0)\n",
                "            shading_modes.append(be.SHADING_MODE_PERLIN)\n",
                "            glossinesses.append(0.1)\n",
                "            user_params.append(0.1)\n",
                "            specular_exponents.append(5.0)\n",
                "            emissions.append(0.0)\n",
                "            \n",
                "        refraction_indices.append(1.0)\n",
                "        \n",
                "    be.set_materials(\n",
                "        model_ids=[model_id], material_ids=material_ids,\n",
                "        diffuse_colors=colors, specular_colors=colors,\n",
                "        opacities=opacities, refraction_indices=refraction_indices,\n",
                "        shading_modes=shading_modes, specular_exponents=specular_exponents,\n",
                "        user_parameters=user_params, glossinesses=glossinesses,\n",
                "        emissions=emissions\n",
                "    )"
            ]
        },
        {
            "attachments": {},
            "cell_type": "markdown",
            "id": "a72cdcd5",
            "metadata": {},
            "source": [
                "### Load neurons"
            ]
        },
        {
            "cell_type": "code",
            "execution_count": 220,
            "id": "3007d98c",
            "metadata": {},
            "outputs": [],
            "source": [
                "def add_neurons(seed, amplitude, frequency):\n",
                "    assembly_name = 'Neurons'\n",
                "    be.remove_assembly(assembly_name)\n",
                "    neurons_assembly = be.add_assembly(assembly_name)\n",
                "\n",
                "    neurons_model = be.add_neurons(\n",
                "        assembly_name=assembly_name,\n",
                "        population_name='o1',\n",
                "        morphology_representation=be.MORPHOLOGY_REPRESENTATION_SECTION,\n",
                "        morphology_color_scheme=be.MORPHOLOGY_COLOR_SCHEME_SECTION_TYPE,\n",
                "        realism_level=be.MORPHOLOGY_REALISM_LEVEL_ALL,\n",
                "        synapses_type=be.NEURON_SYNAPSES_NONE,\n",
                "        load_somas=True, \n",
                "        load_axon=False, generate_varicosities=False,\n",
                "        load_basal_dendrites=True, load_apical_dendrites=True,\n",
                "        generate_externals=True,\n",
                "        sql_node_filter='guid%10=1 AND SQRT(POW(x-345.0, 2.0) + POW(y-1357.0, 2.0) + POW(z-599.0, 2.0)) < 100',\n",
                "        animation_params=CellAnimationParams(\n",
                "            seed=seed, offset=100, amplitude=amplitude, frequency=frequency)\n",
                "    )"
            ]
        },
        {
            "cell_type": "code",
            "execution_count": 212,
            "id": "0aaa31f3",
            "metadata": {},
            "outputs": [],
            "source": [
                "status = core.set_camera(\n",
                "    orientation=[0.0, 0.0, 0.0, 1.0],\n",
                "    position=[320.76451674263274, 1301.2661854383591, 718.1424371666491],\n",
                "    target=[320.76451674263274, 1301.2661854383591, 567.7575607299805],\n",
                ")\n",
                "status = core.set_renderer()"
            ]
        },
        {
            "cell_type": "code",
            "execution_count": 221,
            "id": "9fd33ec8",
            "metadata": {},
            "outputs": [],
            "source": [
                "status = core.set_renderer(\n",
                "    background_color=[0,0,0],\n",
                "    current='advanced',subsampling=4, max_accum_frames=64)\n",
                "params = core.AdvancedRendererParams()\n",
                "params.gi_distance = 10.0\n",
                "params.shadows = 1.0\n",
                "params.soft_shadows = 0.0\n",
                "params.epsilon_factor = 40.0\n",
                "params.max_bounces = 10\n",
                "params.show_background = True\n",
                "params.exposure = 1.1\n",
                "status = core.set_renderer_params(params)\n",
                "status = core.set_renderer()"
            ]
        },
        {
            "cell_type": "code",
            "execution_count": 222,
            "id": "25cf3c1f",
            "metadata": {},
            "outputs": [],
            "source": [
                "from bioexplorer import MovieMaker\n",
                "mm = MovieMaker(be)\n",
                "for i in range(0, 360):\n",
                "    add_neurons(seed=i, amplitude=0.2, frequency=0.05)\n",
                "    model_ids = be.get_model_ids()['ids']\n",
                "    offset = model_ids[0]\n",
                "    set_morphology_materials(offset, 'Reds', be.NB_MATERIALS_PER_MORPHOLOGY)\n",
                "    status = core.set_renderer()\n",
                "    mm.create_snapshot(\n",
                "        renderer='advanced',\n",
                "        path='/tmp', base_name='%05d' % i,\n",
                "        size=[960, 540], samples_per_pixel=32)"
            ]
        }
    ],
    "metadata": {
        "interpreter": {
            "hash": "ea9a5fa46eb6bad2806a8ea1d08e15bb1e255a2d4320b81e765591579963c56b"
        },
        "kernelspec": {
            "display_name": "Python 3.8.10 64-bit ('env': venv)",
            "language": "python",
            "name": "python3"
        },
        "language_info": {
            "codemirror_mode": {
                "name": "ipython",
                "version": 3
            },
            "file_extension": ".py",
            "mimetype": "text/x-python",
            "name": "python",
            "nbconvert_exporter": "python",
            "pygments_lexer": "ipython3",
            "version": "3.8.10"
        }
    },
    "nbformat": 4,
    "nbformat_minor": 5
}