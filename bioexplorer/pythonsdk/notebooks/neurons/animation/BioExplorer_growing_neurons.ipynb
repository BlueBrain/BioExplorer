{
    "cells": [
        {
            "attachments": {},
            "cell_type": "markdown",
            "id": "f992ef9f",
            "metadata": {},
            "source": [
                "# BioExplorer - Growing neurons\n",
                "![](../../bioexplorer_neurons_banner.png)"
            ]
        },
        {
            "cell_type": "markdown",
            "id": "084953fe",
            "metadata": {},
            "source": [
                "### Connect to back-end"
            ]
        },
        {
            "cell_type": "code",
            "execution_count": null,
            "id": "697e36dd",
            "metadata": {
                "scrolled": false
            },
            "outputs": [],
            "source": [
                "from bioexplorer import BioExplorer, NeuronDisplacementParams, Vector2, MovieMaker\n",
                "\n",
                "url = 'localhost:5000'\n",
                "be = BioExplorer(url)\n",
                "core = be.core_api()\n",
                "mm = MovieMaker(be)\n",
                "status = be.reset_scene()"
            ]
        },
        {
            "cell_type": "code",
            "execution_count": null,
            "id": "9ee5efc6",
            "metadata": {},
            "outputs": [],
            "source": [
                "status = core.set_camera(\n",
                "    orientation=[-0.12981074809058107, 0.3782067201813325, 0.0036557851586879464, 0.9165672270623232],\n",
                "    position=[679.8890979521727, 1936.9563865502405, 444.8515526686998],\n",
                "    target=[384.5328257698453, 1834.2635155326673, 154.67286704500805],\n",
                ")\n",
                "status = core.set_renderer()"
            ]
        },
        {
            "cell_type": "code",
            "execution_count": null,
            "id": "5b570e87",
            "metadata": {},
            "outputs": [],
            "source": [
                "import seaborn as sns\n",
                "def set_morphology_materials(model_id, palette_name, palette_size):\n",
                "    colors = list()\n",
                "    opacities = list()\n",
                "    refraction_indices = list()\n",
                "    specular_exponents = list()\n",
                "    shading_modes = list()\n",
                "    user_params = list()\n",
                "    glossinesses = list()\n",
                "    emissions = list()\n",
                "    \n",
                "    material_ids = be.get_material_ids(model_id)['ids']\n",
                "    palette = sns.color_palette(palette_name, palette_size)\n",
                "\n",
                "    for material_id in material_ids:\n",
                "        mid = material_id % palette_size\n",
                "        colors.append(palette[mid])\n",
                "        opacities.append(1.0)\n",
                "        shading_modes.append(be.SHADING_MODE_PERLIN)\n",
                "        glossinesses.append(0.1)\n",
                "        user_params.append(0.05)\n",
                "        specular_exponents.append(5.0)\n",
                "        emissions.append(0.0)\n",
                "        refraction_indices.append(1.0)\n",
                "        \n",
                "    be.set_materials(\n",
                "        model_ids=[model_id], material_ids=material_ids,\n",
                "        diffuse_colors=colors, specular_colors=colors,\n",
                "        opacities=opacities, refraction_indices=refraction_indices,\n",
                "        shading_modes=shading_modes, specular_exponents=specular_exponents,\n",
                "        user_parameters=user_params, glossinesses=glossinesses,\n",
                "        emissions=emissions\n",
                "    )"
            ]
        },
        {
            "cell_type": "code",
            "execution_count": null,
            "id": "1132b6b6",
            "metadata": {},
            "outputs": [],
            "source": [
                "status = core.set_renderer(\n",
                "    background_color=[1,1,1],\n",
                "    current='advanced',subsampling=4, max_accum_frames=64)\n",
                "params = core.AdvancedRendererParams()\n",
                "params.gi_distance = 100.0\n",
                "params.shadows = 0.0\n",
                "params.soft_shadows = 1.0\n",
                "params.epsilon_factor = 100.0\n",
                "params.max_bounces = 1\n",
                "params.show_background = False\n",
                "params.exposure = 1.1\n",
                "status = core.set_renderer_params(params)\n",
                "status = core.set_renderer()"
            ]
        },
        {
            "cell_type": "markdown",
            "id": "a72cdcd5",
            "metadata": {},
            "source": [
                "### Load neurons"
            ]
        },
        {
            "cell_type": "code",
            "execution_count": null,
            "id": "3007d98c",
            "metadata": {},
            "outputs": [],
            "source": [
                "from tqdm import tqdm\n",
                "for i in tqdm(range(325)):\n",
                "    assembly_name = 'Neurons'\n",
                "    be.remove_assembly(assembly_name)\n",
                "    neurons_assembly = be.add_assembly(assembly_name)\n",
                "\n",
                "    neurons_model = be.add_neurons(\n",
                "        assembly_name=assembly_name,\n",
                "        population_name='o1',\n",
                "        morphology_representation=be.MORPHOLOGY_REPRESENTATION_SEGMENT,\n",
                "        morphology_color_scheme=be.MORPHOLOGY_COLOR_SCHEME_SECTION_TYPE,\n",
                "        realism_level=be.MORPHOLOGY_REALISM_LEVEL_ALL,\n",
                "        synapses_type=be.NEURON_SYNAPSES_AFFERENT, generate_varicosities=True,\n",
                "        load_somas=True, load_axon=True, show_membrane=True,\n",
                "        load_basal_dendrites=True, load_apical_dendrites=True,\n",
                "        sql_node_filter='guid=49',\n",
                "        displacement_params=NeuronDisplacementParams(\n",
                "            soma=Vector2(0.015, 2.0), section=Vector2(0.1, 3.0),\n",
                "            nucleus=Vector2(0.02, 1.0), mitochondrion=Vector2(0.4, 1.0),\n",
                "            myelin_steath=Vector2(0.1, 4.0), spine=Vector2(0.01, 5.0)),\n",
                "        max_distance_to_soma=i + 1.0\n",
                "    )\n",
                "    model_ids = be.get_model_ids()['ids']\n",
                "    set_morphology_materials(model_ids[0], 'Set3', be.NB_MATERIALS_PER_MORPHOLOGY)\n",
                "    mm.create_snapshot(\n",
                "        renderer='advanced',\n",
                "        path='/tmp',\n",
                "        base_name='%05d' % i,\n",
                "        size=[1024, 1024], samples_per_pixel=16)\n",
                "    core.set_renderer()"
            ]
        }
    ],
    "metadata": {
        "interpreter": {
            "hash": "ea9a5fa46eb6bad2806a8ea1d08e15bb1e255a2d4320b81e765591579963c56b"
        },
        "kernelspec": {
            "display_name": "Python 3.8.10 64-bit ('env': venv)",
            "language": "python",
            "name": "python3"
        },
        "language_info": {
            "codemirror_mode": {
                "name": "ipython",
                "version": 3
            },
            "file_extension": ".py",
            "mimetype": "text/x-python",
            "name": "python",
            "nbconvert_exporter": "python",
            "pygments_lexer": "ipython3",
            "version": "3.10.6"
        }
    },
    "nbformat": 4,
    "nbformat_minor": 5
}