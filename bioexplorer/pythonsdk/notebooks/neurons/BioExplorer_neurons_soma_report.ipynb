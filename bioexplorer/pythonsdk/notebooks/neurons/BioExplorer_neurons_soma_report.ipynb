{
    "cells": [
        {
            "cell_type": "markdown",
            "id": "f992ef9f",
            "metadata": {},
            "source": [
                "# BioExplorer - Neurons soma report\n",
                "![](../bioexplorer_neurons_banner.png)"
            ]
        },
        {
            "cell_type": "markdown",
            "id": "084953fe",
            "metadata": {},
            "source": [
                "### Connect to back-end"
            ]
        },
        {
            "cell_type": "code",
            "execution_count": null,
            "id": "697e36dd",
            "metadata": {
                "scrolled": false
            },
            "outputs": [],
            "source": [
                "from bioexplorer import BioExplorer\n",
                "\n",
                "url = 'localhost:5000'\n",
                "be = BioExplorer(url)\n",
                "core = be.core_api()\n",
                "status = be.reset_scene()"
            ]
        },
        {
            "cell_type": "markdown",
            "id": "a72cdcd5",
            "metadata": {},
            "source": [
                "### Load neurons"
            ]
        },
        {
            "cell_type": "code",
            "execution_count": null,
            "id": "3007d98c",
            "metadata": {},
            "outputs": [],
            "source": [
                "assembly_name = 'Neurons'\n",
                "load_morphologies = False\n",
                "radius_multiplier = 1.0\n",
                "sql_node_filter = 'guid%10=0'\n",
                "if not load_morphologies:\n",
                "    sql_node_filter=''\n",
                "    radius_multiplier = 5.0\n",
                "\n",
                "be.remove_assembly(assembly_name)\n",
                "neurons_assembly = be.add_assembly(assembly_name)\n",
                "neurons_model = be.add_neurons(\n",
                "    assembly_name=assembly_name,\n",
                "    population_name='o1',\n",
                "    morphology_representation=be.MORPHOLOGY_REPRESENTATION_SECTION,\n",
                "    load_axon=False, load_basal_dendrites=load_morphologies, load_apical_dendrites=load_morphologies,\n",
                "    simulation_report_id=0,\n",
                "    radius_multiplier=radius_multiplier,\n",
                "    sql_node_filter=sql_node_filter\n",
                ")"
            ]
        },
        {
            "cell_type": "code",
            "execution_count": null,
            "id": "3e5b7003",
            "metadata": {},
            "outputs": [],
            "source": [
                "import seaborn as sns\n",
                "def set_morphology_materials(model_id, palette_name):\n",
                "    colors = list()\n",
                "    shading_modes = list()\n",
                "    cast_user_datas = list()\n",
                "    \n",
                "    material_ids = be.get_material_ids(model_id)['ids']\n",
                "    palette = sns.color_palette(palette_name, len(material_ids))\n",
                "\n",
                "    for i in range(len(material_ids)):\n",
                "        colors.append(palette[i])\n",
                "        shading_modes.append(be.SHADING_MODE_NONE)\n",
                "        cast_user_datas.append(True)\n",
                "        \n",
                "    be.set_materials(\n",
                "        model_ids=[model_id], material_ids=material_ids,\n",
                "        diffuse_colors=colors, specular_colors=colors,\n",
                "        shading_modes=shading_modes, cast_user_datas=cast_user_datas\n",
                "    )"
            ]
        },
        {
            "cell_type": "code",
            "execution_count": null,
            "id": "26dc02eb",
            "metadata": {},
            "outputs": [],
            "source": [
                "model_ids = be.get_model_ids()['ids']\n",
                "model_id = model_ids[len(model_ids)-1]\n",
                "set_morphology_materials(model_id, 'Set3')"
            ]
        },
        {
            "cell_type": "code",
            "execution_count": null,
            "id": "8f111fa7",
            "metadata": {},
            "outputs": [],
            "source": [
                "status = be.reset_camera()"
            ]
        },
        {
            "cell_type": "code",
            "execution_count": null,
            "id": "9fd33ec8",
            "metadata": {},
            "outputs": [],
            "source": [
                "status = core.set_renderer(\n",
                "    background_color=[0,0,0],\n",
                "    current='advanced', \n",
                "    samples_per_pixel=1,\n",
                "    subsampling=4,\n",
                "    max_accum_frames=64)\n",
                "params = core.AdvancedRendererParams()\n",
                "params.gi_ray_length = 1000.0\n",
                "params.shadow_intensity = 1.0\n",
                "params.soft_shadow_strength = 1.0\n",
                "params.epsilon_multiplier = 1.0\n",
                "params.max_ray_depth = 1\n",
                "params.show_background = False\n",
                "params.main_exposure = 1.0\n",
                "status = core.set_renderer_params(params)\n",
                "status = core.set_renderer()"
            ]
        },
        {
            "cell_type": "code",
            "execution_count": null,
            "id": "233409d0",
            "metadata": {},
            "outputs": [],
            "source": [
                "status = core.set_renderer(\n",
                "    background_color=[0,0,0],\n",
                "    current='bio_explorer_voxel', \n",
                "    samples_per_pixel=1,\n",
                "    subsampling=4,\n",
                "    max_accum_frames=64)\n",
                "params = core.BioExplorerVoxelRendererParams()\n",
                "params.alpha_correction = 0.1\n",
                "params.simulation_threshold = 0.3\n",
                "params.main_exposure = 1.0\n",
                "status = core.set_renderer_params(params)\n",
                "status = core.set_renderer()"
            ]
        },
        {
            "cell_type": "code",
            "execution_count": null,
            "id": "f8810521",
            "metadata": {},
            "outputs": [],
            "source": [
                "core.set_animation_parameters(current=0)"
            ]
        },
        {
            "cell_type": "code",
            "execution_count": null,
            "id": "a08079cc",
            "metadata": {},
            "outputs": [],
            "source": [
                "from bioexplorer import MovieMaker\n",
                "from tqdm import tqdm\n",
                "\n",
                "mm =MovieMaker(be)\n",
                "frame = 0\n",
                "for i in tqdm(range(0, 35000, 5)):\n",
                "    core.set_animation_parameters(current=i)\n",
                "    mm.create_snapshot(\n",
                "        renderer='bio_explorer_voxel', base_name='%05d' % frame, path='/tmp',\n",
                "        samples_per_pixel=4, size=[2160, 3840], show_progress=False,\n",
                "    )\n",
                "    frame += 1"
            ]
        },
        {
            "cell_type": "code",
            "execution_count": null,
            "id": "a9961004",
            "metadata": {},
            "outputs": [],
            "source": [
                "from bioexplorer import TransferFunction\n",
                "model_ids = be.get_model_ids()['ids']\n",
                "model_id = model_ids[len(model_ids)-1]\n",
                "tf = TransferFunction(\n",
                "    bioexplorer=be, model_id=model_id,\n",
                "    name='rainbow', size=9, alpha=1.0,\n",
                "    value_range=[-80, -10])"
            ]
        }
    ],
    "metadata": {
        "interpreter": {
            "hash": "ea9a5fa46eb6bad2806a8ea1d08e15bb1e255a2d4320b81e765591579963c56b"
        },
        "kernelspec": {
            "display_name": "Python 3.8.10 64-bit ('env': venv)",
            "language": "python",
            "name": "python3"
        },
        "language_info": {
            "codemirror_mode": {
                "name": "ipython",
                "version": 3
            },
            "file_extension": ".py",
            "mimetype": "text/x-python",
            "name": "python",
            "nbconvert_exporter": "python",
            "pygments_lexer": "ipython3",
            "version": "3.8.10"
        }
    },
    "nbformat": 4,
    "nbformat_minor": 5
}
