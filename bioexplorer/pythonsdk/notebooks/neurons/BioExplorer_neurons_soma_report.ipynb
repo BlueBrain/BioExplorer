{
    "cells": [
        {
            "cell_type": "markdown",
            "id": "f992ef9f",
            "metadata": {},
            "source": [
                "# BioExplorer - Neurons soma report\n",
                "![](../bioexplorer_neurons_banner.png)"
            ]
        },
        {
            "cell_type": "markdown",
            "id": "084953fe",
            "metadata": {},
            "source": [
                "### Connect to back-end"
            ]
        },
        {
            "cell_type": "code",
            "execution_count": 1,
            "id": "697e36dd",
            "metadata": {
                "scrolled": false
            },
            "outputs": [],
            "source": [
                "from bioexplorer import BioExplorer\n",
                "\n",
                "url = 'localhost:5000'\n",
                "be = BioExplorer(url)\n",
                "core = be.core_api()\n",
                "status = be.reset_scene()"
            ]
        },
        {
            "cell_type": "markdown",
            "id": "a72cdcd5",
            "metadata": {},
            "source": [
                "### Load neurons"
            ]
        },
        {
            "cell_type": "code",
            "execution_count": 2,
            "id": "3007d98c",
            "metadata": {},
            "outputs": [],
            "source": [
                "assembly_name = 'Neurons'\n",
                "load_morphologies = False\n",
                "radius_multiplier = 1.0\n",
                "sql_node_filter = 'guid%10=0'\n",
                "if not load_morphologies:\n",
                "    sql_node_filter=''\n",
                "    radius_multiplier = 5.0\n",
                "\n",
                "be.remove_assembly(assembly_name)\n",
                "neurons_assembly = be.add_assembly(assembly_name)\n",
                "neurons_model = be.add_neurons(\n",
                "    assembly_name=assembly_name,\n",
                "    population_name='o1',\n",
                "    morphology_representation=be.MORPHOLOGY_REPRESENTATION_SECTION,\n",
                "    load_axon=False, load_basal_dendrites=load_morphologies, load_apical_dendrites=load_morphologies,\n",
                "    simulation_report_id=0,\n",
                "    radius_multiplier=radius_multiplier,\n",
                "    sql_node_filter=sql_node_filter\n",
                ")"
            ]
        },
        {
            "cell_type": "code",
            "execution_count": 3,
            "id": "3e5b7003",
            "metadata": {},
            "outputs": [],
            "source": [
                "import seaborn as sns\n",
                "def set_morphology_materials(model_id, palette_name, palette_size):\n",
                "    colors = list()\n",
                "    opacities = list()\n",
                "    refraction_indices = list()\n",
                "    specular_exponents = list()\n",
                "    shading_modes = list()\n",
                "    user_params = list()\n",
                "    glossinesses = list()\n",
                "    emissions = list()\n",
                "    cast_user_datas = list()\n",
                "    \n",
                "    material_ids = be.get_material_ids(model_id)['ids']\n",
                "    palette = sns.color_palette(palette_name, palette_size)\n",
                "\n",
                "    for material_id in material_ids:\n",
                "        mid = material_id % palette_size\n",
                "        if mid in [be.NEURON_MATERIAL_AFFERENT_SYNAPSE, be.NEURON_MATERIAL_EFFERENT_SYNAPSE]:\n",
                "            colors.append(palette[0])\n",
                "            opacities.append(1.0)\n",
                "            shading_modes.append(be.SHADING_MODE_NONE)\n",
                "            glossinesses.append(0.1)\n",
                "            user_params.append(0.001)\n",
                "            specular_exponents.append(5.0)\n",
                "            emissions.append(0.0)\n",
                "        elif mid == be.NEURON_MATERIAL_MITOCHONDRION:\n",
                "            colors.append([1.0, 0.0, 1.0])\n",
                "            opacities.append(1.0)\n",
                "            shading_modes.append(be.SHADING_MODE_NONE)\n",
                "            glossinesses.append(0.5)\n",
                "            user_params.append(1.0)\n",
                "            specular_exponents.append(6.0)\n",
                "            emissions.append(0.25)\n",
                "        elif mid == be.NEURON_MATERIAL_NUCLEUS:\n",
                "            colors.append([1.0, 1.0, 1.0])\n",
                "            opacities.append(1.0)\n",
                "            shading_modes.append(be.SHADING_MODE_NONE)\n",
                "            glossinesses.append(1.0)\n",
                "            user_params.append(0.2)\n",
                "            specular_exponents.append(30.0)\n",
                "            emissions.append(0.0)\n",
                "        elif mid == be.NEURON_MATERIAL_SOMA:\n",
                "            colors.append(palette[0])\n",
                "            opacities.append(0.75)\n",
                "            shading_modes.append(be.SHADING_MODE_NONE)\n",
                "            glossinesses.append(0.2)\n",
                "            user_params.append(0.01)\n",
                "            specular_exponents.append(5.0)\n",
                "            emissions.append(0.0)\n",
                "        elif mid == be.NEURON_MATERIAL_MYELIN_SHEATH:\n",
                "            colors.append([0.4, 0.3, 0.5])\n",
                "            opacities.append(1.0)\n",
                "            shading_modes.append(be.SHADING_MODE_DIFFUSE)\n",
                "            glossinesses.append(1.0)\n",
                "            user_params.append(1.0)\n",
                "            specular_exponents.append(50.0)\n",
                "            emissions.append(0.0)\n",
                "        else:\n",
                "            # Membrane\n",
                "            colors.append(palette[0])\n",
                "            opacities.append(1.0)\n",
                "            shading_modes.append(be.SHADING_MODE_NONE)\n",
                "            glossinesses.append(0.1)\n",
                "            user_params.append(0.1)\n",
                "            specular_exponents.append(5.0)\n",
                "            emissions.append(0.0)\n",
                "            \n",
                "        refraction_indices.append(1.0)\n",
                "        cast_user_datas.append(True)\n",
                "        \n",
                "    be.set_materials(\n",
                "        model_ids=[model_id], material_ids=material_ids,\n",
                "        diffuse_colors=colors, specular_colors=colors,\n",
                "        opacities=opacities, refraction_indices=refraction_indices,\n",
                "        shading_modes=shading_modes, specular_exponents=specular_exponents,\n",
                "        user_parameters=user_params, glossinesses=glossinesses,\n",
                "        emissions=emissions, cast_user_datas=cast_user_datas\n",
                "    )"
            ]
        },
        {
            "cell_type": "code",
            "execution_count": 4,
            "id": "26dc02eb",
            "metadata": {},
            "outputs": [
                {
                    "data": {
                        "text/plain": [
                            "True"
                        ]
                    },
                    "execution_count": 4,
                    "metadata": {},
                    "output_type": "execute_result"
                }
            ],
            "source": [
                "model_ids = be.get_model_ids()['ids']\n",
                "offset = model_ids[0]\n",
                "set_morphology_materials(offset, 'Set3', be.NB_MATERIALS_PER_MORPHOLOGY)\n",
                "core.set_renderer()"
            ]
        },
        {
            "cell_type": "code",
            "execution_count": 5,
            "id": "8f111fa7",
            "metadata": {},
            "outputs": [],
            "source": [
                "status = be.reset_camera()"
            ]
        },
        {
            "cell_type": "code",
            "execution_count": 6,
            "id": "9fd33ec8",
            "metadata": {},
            "outputs": [],
            "source": [
                "status = core.set_renderer(\n",
                "    background_color=[0,0,0],\n",
                "    current='advanced', \n",
                "    samples_per_pixel=1,\n",
                "    subsampling=4,\n",
                "    max_accum_frames=64)\n",
                "params = core.AdvancedRendererParams()\n",
                "params.gi_ray_length = 1000.0\n",
                "params.shadow_intensity = 1.0\n",
                "params.soft_shadow_strength = 1.0\n",
                "params.epsilon_multiplier = 1.0\n",
                "params.max_ray_depth = 1\n",
                "params.show_background = False\n",
                "params.main_exposure = 1.0\n",
                "status = core.set_renderer_params(params)\n",
                "status = core.set_renderer()"
            ]
        },
        {
            "cell_type": "code",
            "execution_count": 7,
            "id": "233409d0",
            "metadata": {},
            "outputs": [],
            "source": [
                "status = core.set_renderer(\n",
                "    background_color=[0,0,0],\n",
                "    current='bio_explorer_voxel', \n",
                "    samples_per_pixel=1,\n",
                "    subsampling=4,\n",
                "    max_accum_frames=64)\n",
                "params = core.BioExplorerVoxelRendererParams()\n",
                "params.alpha_correction = 0.1\n",
                "params.simulation_threshold = 0.3\n",
                "params.main_exposure = 1.0\n",
                "status = core.set_renderer_params(params)\n",
                "status = core.set_renderer()"
            ]
        },
        {
            "cell_type": "code",
            "execution_count": 8,
            "id": "f8810521",
            "metadata": {},
            "outputs": [
                {
                    "data": {
                        "text/plain": [
                            "True"
                        ]
                    },
                    "execution_count": 8,
                    "metadata": {},
                    "output_type": "execute_result"
                }
            ],
            "source": [
                "core.set_animation_parameters(current=0)"
            ]
        },
        {
            "cell_type": "code",
            "execution_count": 9,
            "id": "a08079cc",
            "metadata": {},
            "outputs": [
                {
                    "name": "stderr",
                    "output_type": "stream",
                    "text": [
                        "  0%|          | 0/7000 [00:00<?, ?it/s]\n"
                    ]
                },
                {
                    "ename": "KeyError",
                    "evalue": "'focusDistance'",
                    "output_type": "error",
                    "traceback": [
                        "\u001b[0;31m---------------------------------------------------------------------------\u001b[0m",
                        "\u001b[0;31mKeyError\u001b[0m                                  Traceback (most recent call last)",
                        "\u001b[1;32m/home/favreau/code/favreau/BioExplorer/bioexplorer/pythonsdk/notebooks/neurons/BioExplorer_neurons_soma_report.ipynb Cell 12\u001b[0m line \u001b[0;36m8\n\u001b[1;32m      <a href='vscode-notebook-cell:/home/favreau/code/favreau/BioExplorer/bioexplorer/pythonsdk/notebooks/neurons/BioExplorer_neurons_soma_report.ipynb#X14sZmlsZQ%3D%3D?line=5'>6</a>\u001b[0m \u001b[39mfor\u001b[39;00m i \u001b[39min\u001b[39;00m tqdm(\u001b[39mrange\u001b[39m(\u001b[39m0\u001b[39m, \u001b[39m35000\u001b[39m, \u001b[39m5\u001b[39m)):\n\u001b[1;32m      <a href='vscode-notebook-cell:/home/favreau/code/favreau/BioExplorer/bioexplorer/pythonsdk/notebooks/neurons/BioExplorer_neurons_soma_report.ipynb#X14sZmlsZQ%3D%3D?line=6'>7</a>\u001b[0m     core\u001b[39m.\u001b[39mset_animation_parameters(current\u001b[39m=\u001b[39mi)\n\u001b[0;32m----> <a href='vscode-notebook-cell:/home/favreau/code/favreau/BioExplorer/bioexplorer/pythonsdk/notebooks/neurons/BioExplorer_neurons_soma_report.ipynb#X14sZmlsZQ%3D%3D?line=7'>8</a>\u001b[0m     mm\u001b[39m.\u001b[39;49mcreate_snapshot(\n\u001b[1;32m      <a href='vscode-notebook-cell:/home/favreau/code/favreau/BioExplorer/bioexplorer/pythonsdk/notebooks/neurons/BioExplorer_neurons_soma_report.ipynb#X14sZmlsZQ%3D%3D?line=8'>9</a>\u001b[0m         renderer\u001b[39m=\u001b[39;49m\u001b[39m'\u001b[39;49m\u001b[39mbio_explorer_voxel\u001b[39;49m\u001b[39m'\u001b[39;49m, base_name\u001b[39m=\u001b[39;49m\u001b[39m'\u001b[39;49m\u001b[39m%05d\u001b[39;49;00m\u001b[39m'\u001b[39;49m \u001b[39m%\u001b[39;49m frame, path\u001b[39m=\u001b[39;49m\u001b[39m'\u001b[39;49m\u001b[39m/tmp\u001b[39;49m\u001b[39m'\u001b[39;49m,\n\u001b[1;32m     <a href='vscode-notebook-cell:/home/favreau/code/favreau/BioExplorer/bioexplorer/pythonsdk/notebooks/neurons/BioExplorer_neurons_soma_report.ipynb#X14sZmlsZQ%3D%3D?line=9'>10</a>\u001b[0m         samples_per_pixel\u001b[39m=\u001b[39;49m\u001b[39m4\u001b[39;49m, size\u001b[39m=\u001b[39;49m[\u001b[39m2160\u001b[39;49m, \u001b[39m3840\u001b[39;49m], show_progress\u001b[39m=\u001b[39;49m\u001b[39mFalse\u001b[39;49;00m,\n\u001b[1;32m     <a href='vscode-notebook-cell:/home/favreau/code/favreau/BioExplorer/bioexplorer/pythonsdk/notebooks/neurons/BioExplorer_neurons_soma_report.ipynb#X14sZmlsZQ%3D%3D?line=10'>11</a>\u001b[0m     )\n\u001b[1;32m     <a href='vscode-notebook-cell:/home/favreau/code/favreau/BioExplorer/bioexplorer/pythonsdk/notebooks/neurons/BioExplorer_neurons_soma_report.ipynb#X14sZmlsZQ%3D%3D?line=11'>12</a>\u001b[0m     frame \u001b[39m+\u001b[39m\u001b[39m=\u001b[39m \u001b[39m1\u001b[39m\n",
                        "File \u001b[0;32m~/Notebooks/env/lib/python3.10/site-packages/bioexplorer/movie_maker.py:480\u001b[0m, in \u001b[0;36mMovieMaker.create_snapshot\u001b[0;34m(self, renderer, size, path, base_name, samples_per_pixel, export_intermediate_frames, gi_length, show_progress, keywords)\u001b[0m\n\u001b[1;32m    475\u001b[0m current_animation_frame \u001b[39m=\u001b[39m \u001b[39mint\u001b[39m(\n\u001b[1;32m    476\u001b[0m     \u001b[39mself\u001b[39m\u001b[39m.\u001b[39m_client\u001b[39m.\u001b[39mget_animation_parameters()[\u001b[39m\"\u001b[39m\u001b[39mcurrent\u001b[39m\u001b[39m\"\u001b[39m]\n\u001b[1;32m    477\u001b[0m )\n\u001b[1;32m    478\u001b[0m animation_frames \u001b[39m=\u001b[39m [current_animation_frame]\n\u001b[0;32m--> 480\u001b[0m \u001b[39mself\u001b[39;49m\u001b[39m.\u001b[39;49mbuild_camera_path(\n\u001b[1;32m    481\u001b[0m     control_points\u001b[39m=\u001b[39;49mcontrol_points,\n\u001b[1;32m    482\u001b[0m     nb_steps_between_control_points\u001b[39m=\u001b[39;49m\u001b[39m1\u001b[39;49m,\n\u001b[1;32m    483\u001b[0m     smoothing_size\u001b[39m=\u001b[39;49m\u001b[39m1\u001b[39;49m,\n\u001b[1;32m    484\u001b[0m )\n\u001b[1;32m    486\u001b[0m \u001b[39mif\u001b[39;00m show_progress:\n\u001b[1;32m    487\u001b[0m     progress_widget \u001b[39m=\u001b[39m IntProgress(\n\u001b[1;32m    488\u001b[0m         description\u001b[39m=\u001b[39m\u001b[39m\"\u001b[39m\u001b[39mIn progress...\u001b[39m\u001b[39m\"\u001b[39m, \u001b[39mmin\u001b[39m\u001b[39m=\u001b[39m\u001b[39m0\u001b[39m, \u001b[39mmax\u001b[39m\u001b[39m=\u001b[39m\u001b[39m100\u001b[39m, value\u001b[39m=\u001b[39m\u001b[39m0\u001b[39m\n\u001b[1;32m    489\u001b[0m     )\n",
                        "File \u001b[0;32m~/Notebooks/env/lib/python3.10/site-packages/bioexplorer/movie_maker.py:168\u001b[0m, in \u001b[0;36mMovieMaker.build_camera_path\u001b[0;34m(self, control_points, nb_steps_between_control_points, smoothing_size)\u001b[0m\n\u001b[1;32m    140\u001b[0m     \u001b[39mself\u001b[39m\u001b[39m.\u001b[39m_smoothed_key_frames\u001b[39m.\u001b[39mappend(\n\u001b[1;32m    141\u001b[0m         [\n\u001b[1;32m    142\u001b[0m             (\n\u001b[0;32m   (...)\u001b[0m\n\u001b[1;32m    159\u001b[0m         ]\n\u001b[1;32m    160\u001b[0m     )\n\u001b[1;32m    161\u001b[0m last \u001b[39m=\u001b[39m control_points[\u001b[39mlen\u001b[39m(control_points) \u001b[39m-\u001b[39m \u001b[39m1\u001b[39m]\n\u001b[1;32m    162\u001b[0m \u001b[39mself\u001b[39m\u001b[39m.\u001b[39m_smoothed_key_frames\u001b[39m.\u001b[39mappend(\n\u001b[1;32m    163\u001b[0m     (\n\u001b[1;32m    164\u001b[0m         last[\u001b[39m\"\u001b[39m\u001b[39morigin\u001b[39m\u001b[39m\"\u001b[39m],\n\u001b[1;32m    165\u001b[0m         last[\u001b[39m\"\u001b[39m\u001b[39mdirection\u001b[39m\u001b[39m\"\u001b[39m],\n\u001b[1;32m    166\u001b[0m         last[\u001b[39m\"\u001b[39m\u001b[39mup\u001b[39m\u001b[39m\"\u001b[39m],\n\u001b[1;32m    167\u001b[0m         last[\u001b[39m\"\u001b[39m\u001b[39mapertureRadius\u001b[39m\u001b[39m\"\u001b[39m],\n\u001b[0;32m--> 168\u001b[0m         last[\u001b[39m\"\u001b[39;49m\u001b[39mfocusDistance\u001b[39;49m\u001b[39m\"\u001b[39;49m],\n\u001b[1;32m    169\u001b[0m     )\n\u001b[1;32m    170\u001b[0m )\n",
                        "\u001b[0;31mKeyError\u001b[0m: 'focusDistance'"
                    ]
                }
            ],
            "source": [
                "from bioexplorer import MovieMaker\n",
                "from tqdm import tqdm\n",
                "\n",
                "mm =MovieMaker(be)\n",
                "frame = 0\n",
                "for i in tqdm(range(0, 35000, 5)):\n",
                "    core.set_animation_parameters(current=i)\n",
                "    mm.create_snapshot(\n",
                "        renderer='bio_explorer_voxel', base_name='%05d' % frame, path='/tmp',\n",
                "        samples_per_pixel=4, size=[2160, 3840], show_progress=False,\n",
                "    )\n",
                "    frame += 1"
            ]
        },
        {
            "cell_type": "code",
            "execution_count": null,
            "id": "a9961004",
            "metadata": {},
            "outputs": [],
            "source": [
                "from bioexplorer import TransferFunction\n",
                "model_ids = be.get_model_ids()['ids']\n",
                "tf = TransferFunction(\n",
                "    bioexplorer=be, model_id=model_ids[0],\n",
                "    name='rainbow', size=9, alpha=0.5,\n",
                "    value_range=[-80, -10])"
            ]
        }
    ],
    "metadata": {
        "interpreter": {
            "hash": "ea9a5fa46eb6bad2806a8ea1d08e15bb1e255a2d4320b81e765591579963c56b"
        },
        "kernelspec": {
            "display_name": "Python 3.8.10 64-bit ('env': venv)",
            "language": "python",
            "name": "python3"
        },
        "language_info": {
            "codemirror_mode": {
                "name": "ipython",
                "version": 3
            },
            "file_extension": ".py",
            "mimetype": "text/x-python",
            "name": "python",
            "nbconvert_exporter": "python",
            "pygments_lexer": "ipython3",
            "version": "3.10.12"
        }
    },
    "nbformat": 4,
    "nbformat_minor": 5
}
