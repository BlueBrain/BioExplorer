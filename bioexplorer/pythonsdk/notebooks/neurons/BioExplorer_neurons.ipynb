{
 "cells": [
  {
   "cell_type": "markdown",
   "metadata": {},
   "source": [
    "# Neurons use-case"
   ]
  },
  {
   "cell_type": "markdown",
   "metadata": {},
   "source": [
    "### Connect to back-end"
   ]
  },
  {
   "cell_type": "code",
   "execution_count": null,
   "metadata": {},
   "outputs": [],
   "source": [
    "from bioexplorer import BioExplorer\n",
    "\n",
    "url = 'localhost:5000'\n",
    "be = BioExplorer(url)\n",
    "core = be.core_api()\n",
    "status = be.reset_scene()"
   ]
  },
  {
   "cell_type": "markdown",
   "metadata": {},
   "source": [
    "### Load neurons"
   ]
  },
  {
   "cell_type": "code",
   "execution_count": null,
   "metadata": {},
   "outputs": [],
   "source": [
    "assembly_name = 'Neurons'\n",
    "be.remove_assembly(assembly_name)\n",
    "neurons_assembly = be.add_assembly(assembly_name)\n",
    "\n",
    "center = [200, 1500, 395]\n",
    "# center = [345, 1359, 600]\n",
    "\n",
    "neurons_model = be.add_neurons(\n",
    "    assembly_name=assembly_name,\n",
    "    population_name='ngv',\n",
    "    geometry_quality=be.GEOMETRY_QUALITY_LOW,\n",
    "    # population_color_scheme=be.POPULATION_COLOR_SCHEME_ID,\n",
    "    morphology_color_scheme=be.MORPHOLOGY_COLOR_SCHEME_SECTION,\n",
    "    use_sdf=True,\n",
    "    radius_multiplier=5.5,\n",
    "    load_somas=True, load_basal_dendrites=True, load_apical_dendrites=True, load_axons=True,\n",
    "    generate_internals=True, generate_externals=False,\n",
    "    # sql_node_filter='guid=115109',\n",
    "    sql_node_filter = 'sqrt(pow(x - %f, 2) + pow(y - %f, 2) + pow(z - %f, 2)) < 200 AND guid %% 10 = 0' % (center[0], center[1], center[2]),\n",
    "    # sql_section_filter='sqrt(pow(n.x + s.x - %f, 2) + pow(n.y + s.y - %f, 2) + pow(n.z + s.z - %f, 2)) < 200' % (center[0], center[1], center[2]),\n",
    ")"
   ]
  },
  {
   "cell_type": "code",
   "execution_count": null,
   "metadata": {},
   "outputs": [],
   "source": [
    "import seaborn as sns\n",
    "def set_morphology_materials(model_id, palette_name, palette_size):\n",
    "    colors = list()\n",
    "    opacities = list()\n",
    "    refraction_indices = list()\n",
    "    specular_exponents = list()\n",
    "    shading_modes = list()\n",
    "    user_params = list()\n",
    "    glossinesses = list()\n",
    "    emissions = list()\n",
    "    \n",
    "    material_ids = be.get_material_ids(model_id)['ids']\n",
    "    palette = sns.color_palette(palette_name, palette_size)\n",
    "\n",
    "    for material_id in material_ids:\n",
    "        mid = material_id % palette_size\n",
    "        color = palette[mid]\n",
    "        if mid in [be.NEURON_MATERIAL_AFFERENT_SYNPASE, be.NEURON_MATERIAL_EFFERENT_SYNPASE]:\n",
    "            colors.append(color)\n",
    "            opacities.append(1.0)\n",
    "            shading_modes.append(be.SHADING_MODE_PERLIN)\n",
    "            glossinesses.append(1.0)\n",
    "            user_params.append(1.0)\n",
    "            specular_exponents.append(3.0)\n",
    "            emissions.append(0.75)\n",
    "        elif mid == be.NEURON_MATERIAL_MITOCHONDRION:\n",
    "            colors.append([1.0, 0.0, 1.0])\n",
    "            opacities.append(1.0)\n",
    "            shading_modes.append(be.SHADING_MODE_PERLIN)\n",
    "            glossinesses.append(0.5)\n",
    "            user_params.append(1.0)\n",
    "            specular_exponents.append(6.0)\n",
    "            emissions.append(0.25)\n",
    "        elif mid == be.NEURON_MATERIAL_NUCLEUS:\n",
    "            colors.append([1.0, 1.0, 1.0])\n",
    "            opacities.append(1.0)\n",
    "            shading_modes.append(be.SHADING_MODE_PERLIN)\n",
    "            glossinesses.append(1.0)\n",
    "            user_params.append(0.2)\n",
    "            specular_exponents.append(30.0)\n",
    "            emissions.append(0.0)\n",
    "        elif mid == be.NEURON_MATERIAL_SOMA:\n",
    "            colors.append(color)\n",
    "            opacities.append(0.75)\n",
    "            shading_modes.append(be.SHADING_MODE_PERLIN)\n",
    "            glossinesses.append(0.1)\n",
    "            user_params.append(0.01)\n",
    "            specular_exponents.append(50.0)\n",
    "            emissions.append(0.0)\n",
    "        elif mid == be.NEURON_MATERIAL_MYELIN_STEATH:\n",
    "            opacities.append(1.0)\n",
    "            colors.append([0.4, 0.3, 0.5])\n",
    "            shading_modes.append(be.SHADING_MODE_ELECTRON)\n",
    "            glossinesses.append(1.0)\n",
    "            user_params.append(2.0)\n",
    "            specular_exponents.append(5.0)\n",
    "            emissions.append(0.0)\n",
    "        else:\n",
    "            # Membrane\n",
    "            colors.append(color)\n",
    "            opacities.append(1.0)\n",
    "            shading_modes.append(be.SHADING_MODE_PERLIN)\n",
    "            glossinesses.append(0.1)\n",
    "            user_params.append(0.01)\n",
    "            specular_exponents.append(50.0)\n",
    "            emissions.append(0.0)\n",
    "            \n",
    "        refraction_indices.append(1.0)\n",
    "        \n",
    "    be.set_materials(\n",
    "        model_ids=[model_id], material_ids=material_ids,\n",
    "        diffuse_colors=colors, specular_colors=colors,\n",
    "        opacities=opacities, refraction_indices=refraction_indices,\n",
    "        shading_modes=shading_modes, specular_exponents=specular_exponents,\n",
    "        user_parameters=user_params, glossinesses=glossinesses,\n",
    "        emissions=emissions\n",
    "    )"
   ]
  },
  {
   "cell_type": "code",
   "execution_count": null,
   "metadata": {},
   "outputs": [],
   "source": [
    "offset = 0\n",
    "print(be.get_model_ids())\n",
    "set_morphology_materials(offset, 'Blues', be.NB_MATERIALS_PER_NEURON)\n",
    "set_morphology_materials(offset + 1, 'Reds_r', be.NB_MATERIALS_PER_ASTROCYTE)\n",
    "set_morphology_materials(offset + 2, 'Greens', be.NB_MATERIALS_PER_ASTROCYTE)\n",
    "core.set_renderer()"
   ]
  },
  {
   "cell_type": "code",
   "execution_count": null,
   "metadata": {},
   "outputs": [],
   "source": [
    "status = core.set_renderer(\n",
    "    current='bio_explorer',\n",
    "    subsampling=4, max_accum_frames=64)\n",
    "params = core.BioExplorerRendererParams()\n",
    "params.gi_distance = 10.0\n",
    "params.shadows = 1.0\n",
    "params.soft_shadows = 1.0\n",
    "params.epsilon_factor = 500.0\n",
    "params.max_bounces = 10\n",
    "status = core.set_renderer_params(params)\n",
    "status = core.set_renderer()"
   ]
  }
 ],
 "metadata": {
  "kernelspec": {
   "display_name": "Python 3",
   "language": "python",
   "name": "python3"
  },
  "language_info": {
   "codemirror_mode": {
    "name": "ipython",
    "version": 3
   },
   "file_extension": ".py",
   "mimetype": "text/x-python",
   "name": "python",
   "nbconvert_exporter": "python",
   "pygments_lexer": "ipython3",
   "version": "3.8.10"
  }
 },
 "nbformat": 4,
 "nbformat_minor": 2
}
