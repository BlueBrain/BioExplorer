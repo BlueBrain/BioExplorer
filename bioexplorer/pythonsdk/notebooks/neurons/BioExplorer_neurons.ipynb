{
    "cells": [
        {
            "cell_type": "markdown",
            "id": "f992ef9f",
            "metadata": {},
            "source": [
                "# BioExplorer - Neurons\n",
                "![](../bioexplorer_neurons_banner.png)"
            ]
        },
        {
            "cell_type": "markdown",
            "id": "084953fe",
            "metadata": {},
            "source": [
                "### Connect to back-end"
            ]
        },
        {
            "cell_type": "code",
            "execution_count": 177,
            "id": "697e36dd",
            "metadata": {
                "scrolled": false
            },
            "outputs": [],
            "source": [
                "from bioexplorer import BioExplorer, NeuronDisplacementParams, Vector2\n",
                "\n",
                "url = 'localhost:5000'\n",
                "be = BioExplorer(url)\n",
                "\n",
                "core = be.core_api()\n",
                "status = be.reset_scene()"
            ]
        },
        {
            "cell_type": "markdown",
            "id": "a72cdcd5",
            "metadata": {},
            "source": [
                "### Load neurons"
            ]
        },
        {
            "cell_type": "code",
            "execution_count": 178,
            "metadata": {},
            "outputs": [
                {
                    "data": {
                        "text/plain": [
                            "True"
                        ]
                    },
                    "execution_count": 178,
                    "metadata": {},
                    "output_type": "execute_result"
                }
            ],
            "source": [
                "core.set_geometry_parameters(\n",
                "    sdf_nb_march_iterations=32, sdf_epsilon=0.0001,\n",
                "    sdf_blend_factor=0.4, sdf_blend_lerp_factor=0.2,\n",
                "    sdf_ray_marching_omega=1.0, sdf_distance=400.0\n",
                ")"
            ]
        },
        {
            "cell_type": "code",
            "execution_count": 179,
            "id": "3007d98c",
            "metadata": {},
            "outputs": [],
            "source": [
                "assembly_name = 'Neurons'\n",
                "be.remove_assembly(assembly_name)\n",
                "neurons_assembly = be.add_assembly(assembly_name)\n",
                "\n",
                "neurons_model = be.add_neurons(\n",
                "    assembly_name=assembly_name,\n",
                "    population_name='o1',\n",
                "    # morphology_representation=be.MORPHOLOGY_REPRESENTATION_SEGMENT,\n",
                "    morphology_representation=be.MORPHOLOGY_REPRESENTATION_BEZIER,\n",
                "    # morphology_color_scheme=be.MORPHOLOGY_COLOR_SCHEME_SECTION_TYPE,\n",
                "    population_color_scheme=be.POPULATION_COLOR_SCHEME_ID,\n",
                "    # radius_multiplier=0.8,\n",
                "    realism_level=be.MORPHOLOGY_REALISM_LEVEL_ALL,\n",
                "    # realism_level=be.MORPHOLOGY_REALISM_LEVEL_SOMA,\n",
                "    synapses_type=be.NEURON_SYNAPSES_AFFERENT,\n",
                "    generate_varicosities=False,\n",
                "    # load_axon=True,\n",
                "    load_basal_dendrites=True, load_apical_dendrites=True,\n",
                "    generate_internals=False, generate_externals=False,\n",
                "    # sql_node_filter='guid=49',\n",
                "    sql_node_filter='guid%1000=0',\n",
                "    displacement_params=NeuronDisplacementParams(\n",
                "        soma=Vector2(0.1, 1.0), section=Vector2(0.1, 1.0),\n",
                "        nucleus=Vector2(0.02, 1.0), mitochondrion=Vector2(0.4, 1.0),\n",
                "        myelin_steath=Vector2(0.15, 4.0), spine=Vector2(0.01, 50.0))\n",
                ")"
            ]
        },
        {
            "cell_type": "code",
            "execution_count": 180,
            "id": "2c667b48",
            "metadata": {},
            "outputs": [],
            "source": [
                "# status = core.set_camera(\n",
                "#     orientation=[-0.04516827475434093, -0.12648330315414616, 0.002897551396689663, 0.9909356211050424],\n",
                "#     position=[419.9380089738668, 1864.926535721847, 215.43552754741884],\n",
                "#     target=[452.2792946677419, 1853.483701015516, 91.20223249410772]\n",
                "# )\n",
                "# status = core.set_renderer()"
            ]
        },
        {
            "cell_type": "code",
            "execution_count": 181,
            "id": "3e5b7003",
            "metadata": {},
            "outputs": [],
            "source": [
                "import seaborn as sns\n",
                "def set_morphology_materials(model_id, palette_name, palette_size):\n",
                "    colors = list()\n",
                "    opacities = list()\n",
                "    refraction_indices = list()\n",
                "    specular_exponents = list()\n",
                "    shading_modes = list()\n",
                "    user_params = list()\n",
                "    glossinesses = list()\n",
                "    emissions = list()\n",
                "    \n",
                "    material_ids = be.get_material_ids(model_id)['ids']\n",
                "    palette = sns.color_palette(palette_name, palette_size)\n",
                "\n",
                "    for material_id in material_ids:\n",
                "        mid = material_id % palette_size\n",
                "        colors.append(palette[mid])\n",
                "        if mid in [be.NEURON_MATERIAL_AFFERENT_SYNAPSE, be.NEURON_MATERIAL_EFFERENT_SYNAPSE]:\n",
                "            opacities.append(1.0)\n",
                "            shading_modes.append(be.SHADING_MODE_PERLIN)\n",
                "            glossinesses.append(0.1)\n",
                "            user_params.append(0.001)\n",
                "            specular_exponents.append(5.0)\n",
                "            emissions.append(0.0)\n",
                "        elif mid == be.NEURON_MATERIAL_MITOCHONDRION:\n",
                "            opacities.append(1.0)\n",
                "            shading_modes.append(be.SHADING_MODE_PERLIN)\n",
                "            glossinesses.append(0.5)\n",
                "            user_params.append(1.0)\n",
                "            specular_exponents.append(6.0)\n",
                "            emissions.append(0.25)\n",
                "        elif mid == be.NEURON_MATERIAL_NUCLEUS:\n",
                "            opacities.append(1.0)\n",
                "            shading_modes.append(be.SHADING_MODE_PERLIN)\n",
                "            glossinesses.append(1.0)\n",
                "            user_params.append(0.2)\n",
                "            specular_exponents.append(30.0)\n",
                "            emissions.append(0.0)\n",
                "        elif mid == be.NEURON_MATERIAL_SOMA:\n",
                "            opacities.append(0.75)\n",
                "            shading_modes.append(be.SHADING_MODE_PERLIN)\n",
                "            glossinesses.append(0.2)\n",
                "            user_params.append(0.01)\n",
                "            specular_exponents.append(5.0)\n",
                "            emissions.append(0.0)\n",
                "        elif mid == be.NEURON_MATERIAL_MYELIN_SHEATH:\n",
                "            opacities.append(1.0)\n",
                "            shading_modes.append(be.SHADING_MODE_DIFFUSE)\n",
                "            glossinesses.append(1.0)\n",
                "            user_params.append(1.0)\n",
                "            specular_exponents.append(50.0)\n",
                "            emissions.append(0.0)\n",
                "        else:\n",
                "            # Membrane\n",
                "            opacities.append(1.0)\n",
                "            shading_modes.append(be.SHADING_MODE_PERLIN)\n",
                "            glossinesses.append(0.1)\n",
                "            user_params.append(0.07)\n",
                "            specular_exponents.append(5.0)\n",
                "            emissions.append(0.0)\n",
                "            \n",
                "        refraction_indices.append(1.0)\n",
                "        \n",
                "    be.set_materials(\n",
                "        model_ids=[model_id], material_ids=material_ids,\n",
                "        diffuse_colors=colors, specular_colors=colors,\n",
                "        opacities=opacities, refraction_indices=refraction_indices,\n",
                "        shading_modes=shading_modes, specular_exponents=specular_exponents,\n",
                "        user_parameters=user_params, glossinesses=glossinesses,\n",
                "        emissions=emissions\n",
                "    )"
            ]
        },
        {
            "cell_type": "code",
            "execution_count": 184,
            "id": "26dc02eb",
            "metadata": {},
            "outputs": [
                {
                    "data": {
                        "text/plain": [
                            "True"
                        ]
                    },
                    "execution_count": 184,
                    "metadata": {},
                    "output_type": "execute_result"
                }
            ],
            "source": [
                "model_ids = be.get_model_ids()['ids']\n",
                "offset = model_ids[0]\n",
                "set_morphology_materials(offset, 'Set3', be.NB_MATERIALS_PER_MORPHOLOGY)\n",
                "core.set_renderer()"
            ]
        },
        {
            "cell_type": "code",
            "execution_count": 183,
            "id": "9fd33ec8",
            "metadata": {},
            "outputs": [],
            "source": [
                "status = core.set_renderer(\n",
                "    background_color=[1,1,1],\n",
                "    current='advanced',subsampling=4, max_accum_frames=64)\n",
                "params = core.AdvancedRendererParams()\n",
                "params.gi_ray_length = 100.0\n",
                "params.shadow_intensity = 0.5\n",
                "params.soft_shadow_strength = 0.0\n",
                "params.epsilon_multiplier = 100.0\n",
                "params.max_ray_depth = 1\n",
                "params.show_background = False\n",
                "params.main_exposure = 1.1\n",
                "status = core.set_renderer_params(params)\n",
                "status = core.set_renderer()"
            ]
        },
        {
            "cell_type": "code",
            "execution_count": 185,
            "metadata": {},
            "outputs": [],
            "source": [
                "from bioexplorer import Widgets\n",
                "w = Widgets(be)"
            ]
        },
        {
            "cell_type": "code",
            "execution_count": 186,
            "metadata": {},
            "outputs": [
                {
                    "data": {
                        "application/vnd.jupyter.widget-view+json": {
                            "model_id": "767a2275bc8042a899e76b67536d7ab3",
                            "version_major": 2,
                            "version_minor": 0
                        },
                        "text/plain": [
                            "VBox(children=(HBox(children=(Select(description='Models:', options=('Neurons',), value='Neurons'), Select(des…"
                        ]
                    },
                    "metadata": {},
                    "output_type": "display_data"
                }
            ],
            "source": [
                "w.display_palette_for_models()"
            ]
        },
        {
            "cell_type": "code",
            "execution_count": null,
            "metadata": {},
            "outputs": [],
            "source": []
        }
    ],
    "metadata": {
        "interpreter": {
            "hash": "ea9a5fa46eb6bad2806a8ea1d08e15bb1e255a2d4320b81e765591579963c56b"
        },
        "kernelspec": {
            "display_name": "Python 3.8.10 64-bit ('env': venv)",
            "language": "python",
            "name": "python3"
        },
        "language_info": {
            "codemirror_mode": {
                "name": "ipython",
                "version": 3
            },
            "file_extension": ".py",
            "mimetype": "text/x-python",
            "name": "python",
            "nbconvert_exporter": "python",
            "pygments_lexer": "ipython3",
            "version": "3.10.12"
        }
    },
    "nbformat": 4,
    "nbformat_minor": 5
}
