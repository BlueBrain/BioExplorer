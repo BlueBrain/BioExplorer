{
 "cells": [
  {
   "cell_type": "markdown",
   "id": "f992ef9f",
   "metadata": {},
   "source": [
    "# BioExplorer - Neurons\n",
    "![](../bioexplorer_neurons_banner.png)"
   ]
  },
  {
   "cell_type": "markdown",
   "metadata": {},
   "source": [
    "### Connect to back-end"
   ]
  },
  {
   "cell_type": "code",
   "execution_count": 69,
   "metadata": {
    "scrolled": false
   },
   "outputs": [],
   "source": [
    "from bioexplorer import BioExplorer, Vector3\n",
    "\n",
    "url = 'localhost:5000'\n",
    "be = BioExplorer(url)\n",
    "\n",
    "core = be.core_api()\n",
    "status = be.reset_scene()"
   ]
  },
  {
   "cell_type": "markdown",
   "metadata": {},
   "source": [
    "### Load neurons"
   ]
  },
  {
   "cell_type": "code",
   "execution_count": 70,
   "metadata": {},
   "outputs": [],
   "source": [
    "assembly_name = 'Neurons'\n",
    "be.remove_assembly(assembly_name)\n",
    "neurons_assembly = be.add_assembly(assembly_name)\n",
    "\n",
    "scale = Vector3(1, 1, 1)\n",
    "\n",
    "neurons_model = be.add_neurons(\n",
    "    assembly_name=assembly_name,\n",
    "    population_name='o1',\n",
    "    geometry_quality=be.GEOMETRY_QUALITY_MEDIUM,\n",
    "    morphology_color_scheme=be.MORPHOLOGY_COLOR_SCHEME_SECTION,\n",
    "    use_sdf=True, load_synapses=True, generate_buttons=True,\n",
    "    load_somas=True, load_axon=True, show_membrane=True,\n",
    "    load_basal_dendrites=True, load_apical_dendrites=True,\n",
    "    generate_internals=True, generate_externals=False,\n",
    "    sql_node_filter='guid=47211',\n",
    "    scale=scale\n",
    ")"
   ]
  },
  {
   "cell_type": "code",
   "execution_count": 71,
   "metadata": {},
   "outputs": [
    {
     "data": {
      "text/plain": [
       "True"
      ]
     },
     "execution_count": 71,
     "metadata": {},
     "output_type": "execute_result"
    }
   ],
   "source": [
    "be.reset_camera()\n",
    "core.set_renderer()"
   ]
  },
  {
   "cell_type": "code",
   "execution_count": 72,
   "metadata": {},
   "outputs": [],
   "source": [
    "import seaborn as sns\n",
    "def set_morphology_materials(model_id, palette_name, palette_size):\n",
    "    colors = list()\n",
    "    opacities = list()\n",
    "    refraction_indices = list()\n",
    "    specular_exponents = list()\n",
    "    shading_modes = list()\n",
    "    user_params = list()\n",
    "    glossinesses = list()\n",
    "    emissions = list()\n",
    "    \n",
    "    material_ids = be.get_material_ids(model_id)['ids']\n",
    "    palette = sns.color_palette(palette_name, palette_size)\n",
    "\n",
    "    for material_id in material_ids:\n",
    "        mid = material_id % palette_size\n",
    "        color = palette[mid]\n",
    "        if mid in [be.NEURON_MATERIAL_AFFERENT_SYNPASE, be.NEURON_MATERIAL_EFFERENT_SYNPASE]:\n",
    "            # colors.append(color)\n",
    "            colors.append(palette[0])\n",
    "            opacities.append(1.0)\n",
    "            shading_modes.append(be.SHADING_MODE_PERLIN)\n",
    "            glossinesses.append(0.1)\n",
    "            user_params.append(0.001 / scale.x)\n",
    "            specular_exponents.append(5.0)\n",
    "            emissions.append(0.0)\n",
    "        elif mid == be.NEURON_MATERIAL_MITOCHONDRION:\n",
    "            colors.append([1.0, 0.0, 1.0])\n",
    "            opacities.append(1.0)\n",
    "            shading_modes.append(be.SHADING_MODE_PERLIN)\n",
    "            glossinesses.append(0.5)\n",
    "            user_params.append(1.0 / scale.x)\n",
    "            specular_exponents.append(6.0)\n",
    "            emissions.append(0.25)\n",
    "        elif mid == be.NEURON_MATERIAL_NUCLEUS:\n",
    "            colors.append([1.0, 1.0, 1.0])\n",
    "            opacities.append(1.0)\n",
    "            shading_modes.append(be.SHADING_MODE_PERLIN)\n",
    "            glossinesses.append(1.0)\n",
    "            user_params.append(0.2 / scale.x)\n",
    "            specular_exponents.append(30.0)\n",
    "            emissions.append(0.0)\n",
    "        elif mid == be.NEURON_MATERIAL_SOMA:\n",
    "            # colors.append(color)\n",
    "            colors.append(palette[0])\n",
    "            opacities.append(0.75)\n",
    "            shading_modes.append(be.SHADING_MODE_PERLIN)\n",
    "            glossinesses.append(0.2)\n",
    "            user_params.append(0.01 / scale.x)\n",
    "            specular_exponents.append(5.0)\n",
    "            emissions.append(0.0)\n",
    "        elif mid == be.NEURON_MATERIAL_MYELIN_STEATH:\n",
    "            colors.append([0.4, 0.3, 0.5])\n",
    "            opacities.append(1.0)\n",
    "            shading_modes.append(be.SHADING_MODE_DIFFUSE)\n",
    "            glossinesses.append(1.0)\n",
    "            user_params.append(1.0)\n",
    "            specular_exponents.append(50.0)\n",
    "            emissions.append(0.0)\n",
    "        else:\n",
    "            # Membrane\n",
    "            # colors.append(color)\n",
    "            colors.append(palette[0])\n",
    "            opacities.append(1.0)\n",
    "            shading_modes.append(be.SHADING_MODE_PERLIN)\n",
    "            glossinesses.append(0.1)\n",
    "            user_params.append(0.1 / scale.x)\n",
    "            specular_exponents.append(5.0)\n",
    "            emissions.append(0.0)\n",
    "            \n",
    "        refraction_indices.append(1.0)\n",
    "        \n",
    "    be.set_materials(\n",
    "        model_ids=[model_id], material_ids=material_ids,\n",
    "        diffuse_colors=colors, specular_colors=colors,\n",
    "        opacities=opacities, refraction_indices=refraction_indices,\n",
    "        shading_modes=shading_modes, specular_exponents=specular_exponents,\n",
    "        user_parameters=user_params, glossinesses=glossinesses,\n",
    "        emissions=emissions\n",
    "    )"
   ]
  },
  {
   "cell_type": "code",
   "execution_count": 73,
   "metadata": {},
   "outputs": [
    {
     "data": {
      "text/plain": [
       "True"
      ]
     },
     "execution_count": 73,
     "metadata": {},
     "output_type": "execute_result"
    }
   ],
   "source": [
    "model_ids = be.get_model_ids()['ids']\n",
    "offset = model_ids[0]\n",
    "set_morphology_materials(offset, 'Set3', be.NB_MATERIALS_PER_MORPHOLOGY)\n",
    "core.set_renderer()"
   ]
  },
  {
   "cell_type": "code",
   "execution_count": 74,
   "metadata": {},
   "outputs": [],
   "source": [
    "status = core.set_renderer(\n",
    "    background_color=[1,1,1],\n",
    "    current='bio_explorer',subsampling=4, max_accum_frames=64)\n",
    "params = core.BioExplorerRendererParams()\n",
    "params.gi_distance = 10.0 * scale.x\n",
    "params.shadows = 1.0\n",
    "params.soft_shadows = 1.0\n",
    "params.epsilon_factor = 40.0\n",
    "params.max_bounces = 10\n",
    "params.show_background = True\n",
    "params.exposure = 1.1\n",
    "status = core.set_renderer_params(params)\n",
    "status = core.set_renderer()"
   ]
  }
 ],
 "metadata": {
  "kernelspec": {
   "display_name": "Python 3 (ipykernel)",
   "language": "python",
   "name": "python3"
  },
  "language_info": {
   "codemirror_mode": {
    "name": "ipython",
    "version": 3
   },
   "file_extension": ".py",
   "mimetype": "text/x-python",
   "name": "python",
   "nbconvert_exporter": "python",
   "pygments_lexer": "ipython3",
   "version": "3.8.10"
  }
 },
 "nbformat": 4,
 "nbformat_minor": 2
}
