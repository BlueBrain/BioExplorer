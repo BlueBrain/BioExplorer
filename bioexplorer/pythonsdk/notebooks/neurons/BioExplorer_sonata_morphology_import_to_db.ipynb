{
    "cells": [
        {
            "attachments": {},
            "cell_type": "markdown",
            "id": "f992ef9f",
            "metadata": {},
            "source": [
                "# BioExplorer - Neurons\n",
                "![](../bioexplorer_neurons_banner.png)"
            ]
        },
        {
            "attachments": {},
            "cell_type": "markdown",
            "id": "084953fe",
            "metadata": {},
            "source": [
                "### Connect to back-end"
            ]
        },
        {
            "cell_type": "code",
            "execution_count": null,
            "id": "697e36dd",
            "metadata": {
                "scrolled": false
            },
            "outputs": [],
            "source": [
                "from bioexplorer import BioExplorer, SonataExplorer\n",
                "\n",
                "url = 'localhost:5000'\n",
                "be = BioExplorer(url)\n",
                "se = SonataExplorer(be)\n",
                "neurons_model = se.import_circuit_morphologies(\n",
                "    population_name='test_data',\n",
                "    circuit_path='/gpfs/bbp.cscs.ch/data/project_no_backup/proj68_no_backup/circuits/Isocortex/20190307/CircuitConfig',\n",
                "    morphology_path=''\n",
                ")"
            ]
        }
    ],
    "metadata": {
        "interpreter": {
            "hash": "ea9a5fa46eb6bad2806a8ea1d08e15bb1e255a2d4320b81e765591579963c56b"
        },
        "kernelspec": {
            "display_name": "Python 3.8.10 64-bit ('env': venv)",
            "language": "python",
            "name": "python3"
        },
        "language_info": {
            "codemirror_mode": {
                "name": "ipython",
                "version": 3
            },
            "file_extension": ".py",
            "mimetype": "text/x-python",
            "name": "python",
            "nbconvert_exporter": "python",
            "pygments_lexer": "ipython3",
            "version": "3.10.12"
        }
    },
    "nbformat": 4,
    "nbformat_minor": 5
}
