{
 "cells": [
  {
   "cell_type": "markdown",
   "metadata": {},
   "source": [
    "# Blue Brain BioExplorer\n",
    "\n",
    "![](../bioexplorer_banner.png)"
   ]
  },
  {
   "cell_type": "markdown",
   "metadata": {},
   "source": [
    "## Visualization of a membrane defined by a mesh"
   ]
  },
  {
   "cell_type": "code",
   "execution_count": null,
   "metadata": {},
   "outputs": [],
   "source": [
    "from bioexplorer import BioExplorer, MeshBasedMembrane, Vector3, Quaternion\n",
    "be = BioExplorer('localhost:5000')\n",
    "core = be.core_api()\n",
    "status = be.reset()"
   ]
  },
  {
   "cell_type": "markdown",
   "metadata": {},
   "source": [
    "### Resources"
   ]
  },
  {
   "cell_type": "code",
   "execution_count": null,
   "metadata": {},
   "outputs": [],
   "source": [
    "resource_folder = '../../tests/test_files/'\n",
    "pdb_folder = resource_folder + 'pdb/'\n",
    "obj_folder = resource_folder + 'obj/'\n",
    "membrane_folder = pdb_folder + 'membrane/'"
   ]
  },
  {
   "cell_type": "markdown",
   "metadata": {},
   "source": [
    "### Configuration"
   ]
  },
  {
   "cell_type": "code",
   "execution_count": null,
   "metadata": {},
   "outputs": [],
   "source": [
    "mesh_source= obj_folder + 'suzanne.obj'\n",
    "scale = Vector3(2.5, 2.5, 2.5)\n",
    "\n",
    "protein_representation = be.REPRESENTATION_ATOMS_AND_STICKS\n",
    "protein_atom_radius_multiplier = 1.0"
   ]
  },
  {
   "cell_type": "markdown",
   "metadata": {},
   "source": [
    "## Camera position"
   ]
  },
  {
   "cell_type": "code",
   "execution_count": null,
   "metadata": {},
   "outputs": [],
   "source": [
    "status = be.core_api().set_camera(\n",
    "    orientation=[-0.114, 0.341, 0.020, 0.932],\n",
    "    position=[368.152, 107.242, 367.312],\n",
    "    target=[50.364, -6.824, -5.159]\n",
    ")"
   ]
  },
  {
   "cell_type": "markdown",
   "metadata": {},
   "source": [
    "### Membrane"
   ]
  },
  {
   "cell_type": "code",
   "execution_count": null,
   "metadata": {},
   "outputs": [],
   "source": [
    "def add_membrane(\n",
    "        frame, random_seed=1, add_receptors=False,\n",
    "        position=Vector3(0.0, 0.0, 0.0), \n",
    "        rotation=Quaternion(1.0, 0.0, 0.0, 0.0)):\n",
    "    \n",
    "    clip_planes = [[-1.0, 0.0, 0.0, 50.0]]\n",
    "    params1 = [0, 0, 0.0, frame * 2 + 1, 1.0]\n",
    "    params2 = [0, 0, 0.0, frame * 3 + 2, 0.5]\n",
    "\n",
    "    '''Membrane'''\n",
    "    name = 'Suzanne'\n",
    "    protein_sources = [\n",
    "        membrane_folder + 'segA.pdb',\n",
    "        membrane_folder + 'segB.pdb',\n",
    "        membrane_folder + 'segC.pdb',\n",
    "        membrane_folder + 'segD.pdb'\n",
    "    ]\n",
    "    \n",
    "    mesh_based_membrane = MeshBasedMembrane(\n",
    "        mesh_source=mesh_source, \n",
    "        protein_sources=protein_sources, \n",
    "        representation=protein_representation,\n",
    "        atom_radius_multiplier=protein_atom_radius_multiplier,\n",
    "        density=5.0, random_seed=random_seed, \n",
    "        assembly_params=params1,\n",
    "        surface_variable_offset=0.0)\n",
    "\n",
    "    status = be.add_mesh_based_membrane(\n",
    "        name=name, mesh_based_membrane=mesh_based_membrane,\n",
    "        position=position, scale=scale, rotation=rotation,\n",
    "        clipping_planes=clip_planes\n",
    "    )\n",
    "\n",
    "    for i in range(len(protein_sources)):\n",
    "        status = be.set_protein_color_scheme(\n",
    "            assembly_name=name, name=be.NAME_MEMBRANE + '_' + str(i),\n",
    "            color_scheme=be.COLOR_SCHEME_CHAINS,\n",
    "            palette_name='Set3', palette_size=5)\n",
    "        \n",
    "    if add_receptors:\n",
    "        '''Receptors'''\n",
    "        name = be.NAME_RECEPTOR\n",
    "        protein_sources = [pdb_folder + '6m18.pdb']\n",
    "\n",
    "        mesh_based_membrane = MeshBasedMembrane(\n",
    "            mesh_source=mesh_source, protein_sources=protein_sources,\n",
    "            representation=protein_representation,\n",
    "            density=0.05, atom_radius_multiplier=protein_atom_radius_multiplier,\n",
    "            assembly_params=params2, surface_fixed_offset=3,\n",
    "            random_seed=random_seed)\n",
    "\n",
    "        status = be.add_mesh_based_membrane(\n",
    "            name, mesh_based_membrane,\n",
    "            position=position, scale=scale, rotation=rotation,\n",
    "            clipping_planes=clip_planes\n",
    "        )\n",
    "\n",
    "        status = be.set_protein_color_scheme(\n",
    "            assembly_name=name, name=be.NAME_MEMBRANE + '_0',\n",
    "            color_scheme=be.COLOR_SCHEME_CHAINS,\n",
    "            palette_name='OrRd', palette_size=5)        "
   ]
  },
  {
   "cell_type": "markdown",
   "metadata": {},
   "source": [
    "## Rendering settings"
   ]
  },
  {
   "cell_type": "code",
   "execution_count": null,
   "metadata": {},
   "outputs": [],
   "source": [
    "status = be.set_rendering_quality(be.RENDERING_QUALITY_HIGH)"
   ]
  },
  {
   "cell_type": "markdown",
   "metadata": {},
   "source": [
    "## Animation"
   ]
  },
  {
   "cell_type": "code",
   "execution_count": null,
   "metadata": {},
   "outputs": [],
   "source": [
    "from mediamaker import MovieMaker\n",
    "from IPython.display import clear_output\n",
    "\n",
    "mm = MovieMaker(be)\n",
    "output_folder = '/tmp'\n",
    "pos = Vector3(0.0, 0.0, 0.0)\n",
    "rot_start = Quaternion(1.0, 0.0, 0.0, 0.0)\n",
    "rot_end = Quaternion(0.0, 0.0, 1.0, 0.0)\n",
    "\n",
    "nb_frames = 36\n",
    "\n",
    "for frame in range(0, nb_frames):\n",
    "    clear_output()\n",
    "    be.reset()\n",
    "    print('Frame %d' % frame)\n",
    "    rot = Quaternion.slerp(rot_start, rot_end, float(frame) / nb_frames)\n",
    "    add_membrane(\n",
    "        frame=frame, add_receptors=True,\n",
    "        position=pos, rotation=rot)\n",
    "    \n",
    "    '''Snapshot'''\n",
    "    mm.create_snapshot(\n",
    "        size=[512, 512], samples_per_pixel=16,\n",
    "        path=output_folder,\n",
    "        base_name='%05d' % frame)"
   ]
  }
 ],
 "metadata": {
  "kernelspec": {
   "display_name": "Python 3",
   "language": "python",
   "name": "python3"
  },
  "language_info": {
   "codemirror_mode": {
    "name": "ipython",
    "version": 3
   },
   "file_extension": ".py",
   "mimetype": "text/x-python",
   "name": "python",
   "nbconvert_exporter": "python",
   "pygments_lexer": "ipython3",
   "version": "3.8.5"
  }
 },
 "nbformat": 4,
 "nbformat_minor": 4
}
