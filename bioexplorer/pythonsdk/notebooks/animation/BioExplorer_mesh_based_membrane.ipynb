{
 "cells": [
  {
   "cell_type": "markdown",
   "metadata": {},
   "source": [
    "# Blue Brain BioExplorer\n",
    "\n",
    "![](../bioexplorer_banner.png)"
   ]
  },
  {
   "cell_type": "markdown",
   "metadata": {},
   "source": [
    "## Visualization of a membrane defined by a mesh"
   ]
  },
  {
   "cell_type": "code",
   "execution_count": null,
   "metadata": {},
   "outputs": [],
   "source": [
    "from bioexplorer import BioExplorer, MovieMaker, Cell, Membrane, Protein, AnimationParams, Vector2, Vector3, Quaternion\n",
    "import glob\n",
    "\n",
    "be = BioExplorer('localhost:5000')\n",
    "core = be.core_api()\n",
    "status = be.reset_scene()"
   ]
  },
  {
   "cell_type": "markdown",
   "metadata": {},
   "source": [
    "### Resources"
   ]
  },
  {
   "cell_type": "code",
   "execution_count": null,
   "metadata": {},
   "outputs": [],
   "source": [
    "resource_folder = '../../tests/test_files/'\n",
    "pdb_folder = resource_folder + 'pdb/'\n",
    "obj_folder = resource_folder + 'obj/'\n",
    "membrane_folder = pdb_folder + 'membrane/'\n",
    "lipids_folder = membrane_folder + 'lipids/'\n",
    "transporters_folder = pdb_folder + 'transporters/'"
   ]
  },
  {
   "cell_type": "markdown",
   "metadata": {},
   "source": [
    "### Configuration"
   ]
  },
  {
   "cell_type": "code",
   "execution_count": null,
   "metadata": {},
   "outputs": [],
   "source": [
    "mesh_source= obj_folder + 'suzanne.obj'\n",
    "scale = Vector3(2.5, 2.5, 2.5)\n",
    "\n",
    "protein_representation = be.REPRESENTATION_ATOMS_AND_STICKS\n",
    "protein_atom_radius_multiplier = 1.0"
   ]
  },
  {
   "cell_type": "markdown",
   "metadata": {},
   "source": [
    "## Camera position"
   ]
  },
  {
   "cell_type": "code",
   "execution_count": null,
   "metadata": {},
   "outputs": [],
   "source": [
    "status = be.core_api().set_camera(\n",
    "    orientation=[-0.114, 0.341, 0.020, 0.932],\n",
    "    position=[368.152, 107.242, 367.312],\n",
    "    target=[50.364, -6.824, -5.159]\n",
    ")"
   ]
  },
  {
   "cell_type": "markdown",
   "metadata": {},
   "source": [
    "### Membrane"
   ]
  },
  {
   "cell_type": "code",
   "execution_count": null,
   "metadata": {},
   "outputs": [],
   "source": [
    "def add_membrane(\n",
    "        frame, add_receptors,\n",
    "        position=Vector3(0.0, 0.0, 0.0), \n",
    "        rotation=Quaternion(1.0, 0.0, 0.0, 0.0)):\n",
    "    \n",
    "    name = 'Suzanne'\n",
    "    clip_planes = [[-1.0, 0.0, 0.0, 50.0]]\n",
    "\n",
    "    # ACE2 receptor definition\n",
    "    ace2_receptor = Protein(\n",
    "        name=be.NAME_TRANS_MEMBRANE + '_ACE2',\n",
    "        source=pdb_folder + '6m18.pdb', \n",
    "        transmembrane_params=Vector2(1.0, 2.0),\n",
    "        rotation=Quaternion(0.0, 1.0, 0.0, 0.0),\n",
    "        animation_params=AnimationParams(1, frame * 10 + 1, 1.0, frame * 10 + 2, 0.025),\n",
    "        occurences=20)\n",
    "\n",
    "    # GLUT3 definition\n",
    "    transporter = Protein(\n",
    "        name=be.NAME_TRANS_MEMBRANE + '_GLUT3',\n",
    "        source=transporters_folder + '4zwc.pdb',\n",
    "        transmembrane_params=Vector2(1.0, 2.0),\n",
    "        rotation=Quaternion(0.707, 0.707, 0.0, 0.0),\n",
    "        animation_params=AnimationParams(2, frame * 10 + 3, 1.0, frame * 10 + 4, 0.025),\n",
    "        chain_ids=[1], occurences=30)\n",
    "\n",
    "    # Membrane definition\n",
    "    pdb_lipids = glob.glob(lipids_folder + '*.pdb')[:8]\n",
    "\n",
    "    membrane = Membrane(\n",
    "        lipid_sources=pdb_lipids, lipid_density=1.0,\n",
    "        load_non_polymer_chemicals=True, load_bonds=True,\n",
    "        animation_params=AnimationParams(3, frame * 10 + 5, 1.0, frame * 10 + 6, 0.025)\n",
    "    )\n",
    "\n",
    "    # Cell definition\n",
    "    cell = Cell(\n",
    "        name=name,\n",
    "        shape=be.ASSEMBLY_SHAPE_MESH,\n",
    "        shape_params=scale,\n",
    "        shape_mesh_source=mesh_source, \n",
    "        membrane=membrane,\n",
    "        proteins=[ace2_receptor, transporter]\n",
    "    )\n",
    "\n",
    "    # Add cell to scene\n",
    "    status = be.add_cell(\n",
    "        cell=cell, representation=protein_representation,\n",
    "        position=position, rotation=rotation, clipping_planes=clip_planes)\n",
    "\n",
    "    return status"
   ]
  },
  {
   "cell_type": "markdown",
   "metadata": {},
   "source": [
    "## Rendering settings"
   ]
  },
  {
   "cell_type": "code",
   "execution_count": null,
   "metadata": {},
   "outputs": [],
   "source": [
    "status = be.set_rendering_quality(be.RENDERING_QUALITY_HIGH)"
   ]
  },
  {
   "cell_type": "markdown",
   "metadata": {},
   "source": [
    "## Animation"
   ]
  },
  {
   "cell_type": "code",
   "execution_count": null,
   "metadata": {},
   "outputs": [],
   "source": [
    "from IPython.display import clear_output\n",
    "\n",
    "mm = MovieMaker(be)\n",
    "output_folder = '/tmp'\n",
    "\n",
    "pos = Vector3(0.0, 0.0, 0.0)\n",
    "rot_start = Quaternion(1.0, 0.0, 0.0, 0.0)\n",
    "rot_end = Quaternion(0.0, 0.0, 1.0, 0.0)\n",
    "\n",
    "nb_frames = 36\n",
    "\n",
    "for frame in range(0, nb_frames):\n",
    "    clear_output()\n",
    "    be.reset_scene()\n",
    "    be.set_general_settings(model_visibility_on_creation=False)\n",
    "    print('Frame %d' % frame)\n",
    "    rot = Quaternion.slerp(rot_start, rot_end, float(frame) / nb_frames)\n",
    "    add_membrane(\n",
    "        frame=frame, add_receptors=True,\n",
    "        position=pos, rotation=rot)\n",
    "    be.apply_default_color_scheme(be.SHADING_MODE_NONE)\n",
    "    be.set_models_visibility(True)\n",
    "\n",
    "    '''Snapshot'''\n",
    "    mm.create_snapshot(\n",
    "        renderer='bio_explorer',\n",
    "        size=[512, 512], samples_per_pixel=16,\n",
    "        path=output_folder,\n",
    "        base_name='%05d' % frame)"
   ]
  }
 ],
 "metadata": {
  "kernelspec": {
   "display_name": "Python 3",
   "language": "python",
   "name": "python3"
  },
  "language_info": {
   "codemirror_mode": {
    "name": "ipython",
    "version": 3
   },
   "file_extension": ".py",
   "mimetype": "text/x-python",
   "name": "python",
   "nbconvert_exporter": "python",
   "pygments_lexer": "ipython3",
   "version": "3.8.10"
  }
 },
 "nbformat": 4,
 "nbformat_minor": 4
}
