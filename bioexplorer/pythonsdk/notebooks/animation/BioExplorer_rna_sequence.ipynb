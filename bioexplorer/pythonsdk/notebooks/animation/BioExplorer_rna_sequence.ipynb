{
 "cells": [
  {
   "cell_type": "markdown",
   "metadata": {},
   "source": [
    "# Blue Brain BioExplorer\n",
    "\n",
    "![](../bioexplorer_banner.png)"
   ]
  },
  {
   "cell_type": "markdown",
   "metadata": {},
   "source": [
    "## Visualization of an RNA sequence (Work in progress!)"
   ]
  },
  {
   "cell_type": "code",
   "execution_count": null,
   "metadata": {},
   "outputs": [],
   "source": [
    "from bioexplorer import BioExplorer, RNASequence, Vector2, Vector3, Quaternion\n",
    "import math\n",
    "\n",
    "be = BioExplorer()\n",
    "be.reset()\n",
    "print(be.version())"
   ]
  },
  {
   "cell_type": "code",
   "execution_count": null,
   "metadata": {
    "scrolled": true
   },
   "outputs": [],
   "source": [
    "# Resources\n",
    "resource_folder = '../../tests/test_files/'\n",
    "rna_folder = resource_folder + 'rna/'\n",
    "pdb_folder = resource_folder + 'pdb/'\n",
    "\n",
    "assembly_name = 'RNA assembly'\n",
    "rna_name = assembly_name + '_' + be.NAME_RNA_SEQUENCE"
   ]
  },
  {
   "cell_type": "code",
   "execution_count": null,
   "metadata": {},
   "outputs": [],
   "source": [
    "def add_rna(assembly_name, seed=0, position_seed=1, rotation_seed=2, rotation=Quaternion()):\n",
    "    offset = 0.01 * math.cos(seed * math.pi / 180.0);\n",
    "\n",
    "    rna_sequence = RNASequence(\n",
    "        source=rna_folder + 'sars-cov-2.rna',\n",
    "        protein_source=pdb_folder + '7bv1.pdb',\n",
    "        assembly_params=[\n",
    "            40.0, position_seed, 0.1, rotation_seed, 0.001, 0.5],\n",
    "        t_range=Vector2(-8 * math.pi, 8 * math.pi), \n",
    "        shape=be.RNA_SHAPE_TREFOIL_KNOT,\n",
    "        shape_params=Vector3(1.51 + offset, 1.12 - offset, 1.93 + offset),\n",
    "        rotation=rotation\n",
    "    )\n",
    "\n",
    "    be.remove_assembly(name=assembly_name)\n",
    "    be.add_assembly(name=assembly_name)\n",
    "    status = be.add_rna_sequence(\n",
    "        assembly_name=assembly_name, \n",
    "        name=rna_name,\n",
    "        rna_sequence=rna_sequence)"
   ]
  },
  {
   "cell_type": "markdown",
   "metadata": {},
   "source": [
    "## Rendering settings"
   ]
  },
  {
   "cell_type": "code",
   "execution_count": null,
   "metadata": {},
   "outputs": [],
   "source": [
    "status = be.set_rendering_quality(be.RENDERING_QUALITY_HIGH)"
   ]
  },
  {
   "cell_type": "markdown",
   "metadata": {},
   "source": [
    "## Animation"
   ]
  },
  {
   "cell_type": "code",
   "execution_count": null,
   "metadata": {},
   "outputs": [],
   "source": [
    "from bioexplorer import MovieMaker\n",
    "mm = MovieMaker(be)\n",
    "output_folder = '/tmp'"
   ]
  },
  {
   "cell_type": "code",
   "execution_count": null,
   "metadata": {},
   "outputs": [],
   "source": [
    "mm.set_camera(\n",
    "    direction=[0.0, 0.0, -1.0],\n",
    "    origin=[0.13538264831504454, -0.37837812163166495, 164.446871540009],\n",
    "    up=[0.0, 1.0, 0.0]\n",
    ")"
   ]
  },
  {
   "cell_type": "code",
   "execution_count": null,
   "metadata": {},
   "outputs": [],
   "source": [
    "from IPython.display import clear_output\n",
    "\n",
    "q_start = Quaternion(0.0, 1.0, 0.0, 0.0)\n",
    "q_end = Quaternion(1.0, 0.0, 0.0, 0.0)\n",
    "\n",
    "for frame in range(0, 36):\n",
    "    clear_output()\n",
    "    print('Frame %d' % frame)\n",
    "    add_rna(\n",
    "        assembly_name=assembly_name,\n",
    "        seed=frame * 10,\n",
    "        position_seed=5 * frame + 1,\n",
    "        rotation_seed=frame + 2,\n",
    "        rotation=Quaternion.slerp(q_start, q_end, \n",
    "                                  0.1 * (0.5 + 0.5 * math.cos(float(frame) * math.pi / 18.0)))\n",
    "    )\n",
    "    \n",
    "    '''Snapshot'''\n",
    "    mm.create_snapshot(\n",
    "        size=[512, 512], samples_per_pixel=32,\n",
    "        path=output_folder, base_name='%05d' % frame)"
   ]
  }
 ],
 "metadata": {
  "kernelspec": {
   "display_name": "Python 3",
   "language": "python",
   "name": "python3"
  },
  "language_info": {
   "codemirror_mode": {
    "name": "ipython",
    "version": 3
   },
   "file_extension": ".py",
   "mimetype": "text/x-python",
   "name": "python",
   "nbconvert_exporter": "python",
   "pygments_lexer": "ipython3",
   "version": "3.8.10"
  }
 },
 "nbformat": 4,
 "nbformat_minor": 4
}
