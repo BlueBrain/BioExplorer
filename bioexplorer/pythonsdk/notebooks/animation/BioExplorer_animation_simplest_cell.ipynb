{
 "cells": [
  {
   "cell_type": "markdown",
   "metadata": {},
   "source": [
    "# Blue Brain BioExplorer\n",
    "\n",
    "![](../bioexplorer_banner.png)"
   ]
  },
  {
   "cell_type": "markdown",
   "metadata": {},
   "source": [
    "## Simplest script to create a visualization of a cell"
   ]
  },
  {
   "cell_type": "code",
   "execution_count": null,
   "metadata": {},
   "outputs": [],
   "source": [
    "from bioexplorer import BioExplorer, Protein, Membrane, Cell, Vector2, Vector3, Quaternion\n",
    "be = BioExplorer('localhost:5000')\n",
    "core = be.core_api()\n",
    "status = be.reset()"
   ]
  },
  {
   "cell_type": "code",
   "execution_count": null,
   "metadata": {},
   "outputs": [],
   "source": [
    "be.core_api().set_camera(\n",
    "    orientation=[0.06488085295401418,-0.02811487125772864,0.00010065824469309132,0.9974968765876104],\n",
    "    position=[-11.817610009793505, 38.0569516901731, 34.11725673250747],\n",
    "    target=[-10.538408610891954, 41.00978896537977, 11.533423747533384]\n",
    ")"
   ]
  },
  {
   "cell_type": "code",
   "execution_count": null,
   "metadata": {},
   "outputs": [],
   "source": [
    "def add_cell(position_random_seed, orientation_randon_seed):\n",
    "    \n",
    "    core.set_application_parameters(image_stream_fps=0)\n",
    "    representation=be.REPRESENTATION_ATOMS\n",
    "\n",
    "    # Resources\n",
    "    resource_folder = '../../tests/test_files/'\n",
    "    pdb_folder = resource_folder + 'pdb/'\n",
    "\n",
    "    # ACE2 receptor definition\n",
    "    ace2_receptor = Protein(\n",
    "        sources=[pdb_folder + '6m18.pdb'],\n",
    "        occurences=8,\n",
    "        position=Vector3(0.0, 6.0, 0.0),\n",
    "        orientation=Quaternion(0,1,0,0)\n",
    "    )\n",
    "\n",
    "    # Membrane definition\n",
    "    membrane_size = 200.0\n",
    "    membrane_amplitude = 100.0 # For sinusoidal shape only\n",
    "    membrane = Membrane(\n",
    "        sources=[pdb_folder + 'membrane/popc.pdb'],\n",
    "        occurences=20000)\n",
    "\n",
    "    # Cell definition\n",
    "    cell = Cell(\n",
    "        name='Cell',size=membrane_size,\n",
    "        shape=be.ASSEMBLY_SHAPE_SINUSOIDAL,\n",
    "        membrane=membrane, receptor=ace2_receptor,\n",
    "        random_position_strength=0.025,\n",
    "        random_position_seed=position_random_seed,\n",
    "        random_orientation_strength=2.0,\n",
    "        random_orientation_seed=orientation_randon_seed,\n",
    "        extra_parameters=[membrane_amplitude]\n",
    "    )\n",
    "\n",
    "    # Add cell to scene\n",
    "    be.add_cell(cell=cell, representation=representation)\n",
    "    \n",
    "    be.set_models_visibility(True)\n",
    "    core.set_application_parameters(image_stream_fps=20)"
   ]
  },
  {
   "cell_type": "code",
   "execution_count": null,
   "metadata": {},
   "outputs": [],
   "source": [
    "be.core_api().set_renderer(\n",
    "    background_color=[96 / 255, 125 / 255, 139 / 255],\n",
    "    current='bio_explorer',\n",
    "    samples_per_pixel=1, subsampling=4, max_accum_frames=64)\n",
    "params = be.core_api().BioExplorerRendererParams()\n",
    "params.gi_samples = 1\n",
    "params.gi_weight = 0.3\n",
    "params.gi_distance = 500\n",
    "params.shadows = 1.0\n",
    "params.soft_shadows = 0.3\n",
    "params.fog_start = 1500\n",
    "params.fog_thickness = 1500\n",
    "params.max_bounces = 1\n",
    "status = be.core_api().set_renderer_params(params)"
   ]
  },
  {
   "cell_type": "code",
   "execution_count": null,
   "metadata": {},
   "outputs": [],
   "source": [
    "from braynsmediamaker import MovieMaker\n",
    "from IPython.display import clear_output\n",
    "import os\n",
    "\n",
    "mm = MovieMaker(core)\n",
    "output_folder = os.getenv('HOME') + '/Videos/animation/membrane/1K/v2'\n",
    "\n",
    "for frame in range(1, 20):\n",
    "    clear_output()\n",
    "    print('Frame %i' % frame)\n",
    "\n",
    "    add_cell(5 * frame + 1, frame + 2)\n",
    "    if True:\n",
    "        '''Snapshot'''\n",
    "        mm.create_snapshot(\n",
    "            size=[960, 540], samples_per_pixel=16,\n",
    "            path=output_folder + '/%05d.png' % frame)"
   ]
  }
 ],
 "metadata": {
  "kernelspec": {
   "display_name": "Python 3",
   "language": "python",
   "name": "python3"
  },
  "language_info": {
   "codemirror_mode": {
    "name": "ipython",
    "version": 3
   },
   "file_extension": ".py",
   "mimetype": "text/x-python",
   "name": "python",
   "nbconvert_exporter": "python",
   "pygments_lexer": "ipython3",
   "version": "3.8.5"
  }
 },
 "nbformat": 4,
 "nbformat_minor": 4
}
