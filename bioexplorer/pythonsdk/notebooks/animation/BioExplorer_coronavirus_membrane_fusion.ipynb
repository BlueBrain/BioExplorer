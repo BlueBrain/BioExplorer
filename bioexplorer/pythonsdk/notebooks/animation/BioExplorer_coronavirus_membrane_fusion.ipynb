{
 "cells": [
  {
   "cell_type": "markdown",
   "metadata": {},
   "source": [
    "# Blue Brain BioExplorer\n",
    "\n",
    "![](../bioexplorer_banner.png)"
   ]
  },
  {
   "cell_type": "markdown",
   "metadata": {},
   "source": [
    "## Visualization of a Coronavirus"
   ]
  },
  {
   "cell_type": "code",
   "execution_count": null,
   "metadata": {},
   "outputs": [],
   "source": [
    "from bioexplorer import BioExplorer, Protein, Surfactant, Membrane, Volume, \\\n",
    "                        Cell, Sugars, Vector2, Vector3, Quaternion\n",
    "be = BioExplorer('localhost:5000')\n",
    "be.reset()\n",
    "print(be.version())"
   ]
  },
  {
   "cell_type": "code",
   "execution_count": null,
   "metadata": {
    "scrolled": true
   },
   "outputs": [],
   "source": [
    "# Resources\n",
    "resource_folder = '../tests/test_files/'\n",
    "\n",
    "pdb_folder = resource_folder + 'pdb/'\n",
    "\n",
    "glucose_path = pdb_folder + 'glucose.pdb'\n",
    "lactoferrin_path=pdb_folder + 'immune/1b0l.pdb'\n",
    "defensin_path = pdb_folder + 'immune/1ijv.pdb'\n",
    "\n",
    "surfactant_head_source = pdb_folder + 'surfactant/1pw9.pdb'\n",
    "surfactant_branch_source = pdb_folder + 'surfactant/1k6f.pdb'"
   ]
  },
  {
   "cell_type": "code",
   "execution_count": null,
   "metadata": {},
   "outputs": [],
   "source": [
    "status = be.core_api().set_camera(\n",
    "    orientation=[6.749507132163666e-17, -0.7071067811865477, -0.7071067811865474, 1.5409067694518602e-16],\n",
    "    position=[-5.066518495759233, 242.54810500047284, -20.40108958115976],\n",
    "    target=[-5.06651849575913, -86.22886126543523, -20.40108958115971]\n",
    ")"
   ]
  },
  {
   "cell_type": "code",
   "execution_count": null,
   "metadata": {},
   "outputs": [],
   "source": [
    "# Scene\n",
    "scene_size = 400\n",
    "\n",
    "# Proteins\n",
    "protein_representation = be.REPRESENTATION_ATOMS"
   ]
  },
  {
   "cell_type": "code",
   "execution_count": null,
   "metadata": {
    "scrolled": true
   },
   "outputs": [],
   "source": [
    "from IPython.display import clear_output\n",
    "from braynsmediamaker import MovieMaker\n",
    "\n",
    "mm = MovieMaker(be.core_api())\n",
    "\n",
    "name='Coronavirus'\n",
    "\n",
    "for frame in range(101, 120, 1):\n",
    "# for frame in [40]:\n",
    "    clear_output()\n",
    "    be.set_general_settings(model_visibility_on_creation=False, off_folder='/tmp/')\n",
    "    print('Frame %d' % frame)\n",
    "    name='Coronavirus'\n",
    "    be.add_coronavirus(\n",
    "#         nb_protein_s=1, nb_protein_e=1, nb_protein_m=1,\n",
    "        name=name, resource_folder=resource_folder,\n",
    "        representation=protein_representation,\n",
    "#         orientation=Quaternion(0.0, 0.0, 0.707, 0.707),\n",
    "        add_glycans=False,\n",
    "        morphing_step=frame / 100.0,\n",
    "        clipping_planes=[[0,-1,0,0]]\n",
    "    )\n",
    "    be.set_models_visibility(True)\n",
    "#     break\n",
    "    mm.create_snapshot(\n",
    "        size=[960, 540], samples_per_pixel=64,\n",
    "        path='/home/favreau/Videos/%05d.png' % frame)"
   ]
  },
  {
   "cell_type": "code",
   "execution_count": null,
   "metadata": {},
   "outputs": [],
   "source": [
    "cam = be.core_api().get_camera()\n",
    "print('orientation=' + str(cam['orientation']))\n",
    "print('position=' + str(cam['position']))\n",
    "print('target=' + str(cam['target']))"
   ]
  },
  {
   "cell_type": "code",
   "execution_count": null,
   "metadata": {},
   "outputs": [],
   "source": [
    "status = be.core_api().set_camera(\n",
    "    orientation=[-0.13276691605188376, -0.7023228724898958, -0.6879740137773086, -0.12572702631794422],\n",
    "    position=[157.8095734962004, 275.3477113580235, -38.65013309466292],\n",
    "    target=[5.120867584888782, -121.15036462213698, -29.398712780300983]\n",
    ")"
   ]
  },
  {
   "cell_type": "code",
   "execution_count": null,
   "metadata": {},
   "outputs": [],
   "source": [
    "# ACE2 receptor definition\n",
    "ace2_receptor = Protein(\n",
    "    sources=[pdb_folder + '6m18.pdb'],\n",
    "    occurences=1,\n",
    "    position=Vector3(0.0, 6.0, 0.0))\n",
    "\n",
    "# Membrane definition\n",
    "membrane_size = scene_size\n",
    "membrane_height = 80\n",
    "membrane = Membrane(\n",
    "    sources=[pdb_folder + 'membrane/popc.pdb'],\n",
    "    occurences=80000)\n",
    "\n",
    "# Cell definition\n",
    "name='Cell'\n",
    "cell = Cell(\n",
    "    name=name,\n",
    "    size=Vector2(membrane_size, membrane_height),\n",
    "    shape=be.ASSEMBLY_SHAPE_SINUSOIDAL,\n",
    "    membrane=membrane, receptor=ace2_receptor,\n",
    ")\n",
    "\n",
    "# Add cell to scene\n",
    "status = be.add_cell(\n",
    "    cell=cell, representation=protein_representation,\n",
    "    atom_radius_multiplier=protein_radius_multiplier,\n",
    "    position=Vector3(0.0, 0.0, -56.0), orientation=Quaternion(0.707,0.707,0,0),\n",
    "    random_seed=1\n",
    ")\n",
    "\n",
    "status = be.set_protein_color_scheme(\n",
    "    name, name + '_' + be.NAME_RECEPTOR, \n",
    "    be.COLOR_SCHEME_CHAINS, 'OrRd_r', 7)"
   ]
  },
  {
   "cell_type": "markdown",
   "metadata": {},
   "source": [
    "## Rendering settings"
   ]
  },
  {
   "cell_type": "code",
   "execution_count": null,
   "metadata": {},
   "outputs": [],
   "source": [
    "be.core_api().set_renderer(\n",
    "    background_color=[96 / 255, 125 / 255, 139 / 255],\n",
    "    current='bio_explorer',\n",
    "    samples_per_pixel=1, subsampling=4, max_accum_frames=64)\n",
    "params = be.core_api().BioExplorerRendererParams()\n",
    "params.gi_samples = 1\n",
    "params.gi_weight = 0.3\n",
    "params.gi_distance = 5000\n",
    "params.shadows = 1.0\n",
    "params.soft_shadows = 0.1\n",
    "params.fog_start = 1300\n",
    "params.fog_thickness = 1300\n",
    "params.max_bounces = 1\n",
    "status = be.core_api().set_renderer_params(params)"
   ]
  },
  {
   "cell_type": "code",
   "execution_count": null,
   "metadata": {},
   "outputs": [],
   "source": [
    "be.apply_default_color_scheme(\n",
    "    shading_mode=be.SHADING_MODE_PERLIN,\n",
    "    user_parameter=0.03, specular_exponent=5, glossiness=0.1)"
   ]
  }
 ],
 "metadata": {
  "kernelspec": {
   "display_name": "Python 3",
   "language": "python",
   "name": "python3"
  },
  "language_info": {
   "codemirror_mode": {
    "name": "ipython",
    "version": 3
   },
   "file_extension": ".py",
   "mimetype": "text/x-python",
   "name": "python",
   "nbconvert_exporter": "python",
   "pygments_lexer": "ipython3",
   "version": "3.8.5"
  }
 },
 "nbformat": 4,
 "nbformat_minor": 4
}
