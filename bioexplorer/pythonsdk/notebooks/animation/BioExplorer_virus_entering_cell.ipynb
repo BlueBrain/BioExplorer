{
 "cells": [
  {
   "cell_type": "markdown",
   "metadata": {},
   "source": [
    "# Blue Brain BioExplorer\n",
    "\n",
    "![](../bioexplorer_banner.png)"
   ]
  },
  {
   "cell_type": "markdown",
   "metadata": {},
   "source": [
    "### Prerequiries"
   ]
  },
  {
   "cell_type": "code",
   "execution_count": null,
   "metadata": {},
   "outputs": [],
   "source": [
    "# !pip install pyquaternion"
   ]
  },
  {
   "cell_type": "markdown",
   "metadata": {},
   "source": [
    "### Initialization"
   ]
  },
  {
   "cell_type": "code",
   "execution_count": null,
   "metadata": {
    "scrolled": true
   },
   "outputs": [],
   "source": [
    "from bioexplorer import BioExplorer, Protein, AssemblyProtein, Surfactant, Membrane, Virus, Volume, \\\n",
    "                        Cell, Sugars, Vector2, Vector3, Quaternion\n",
    "from pyquaternion import Quaternion as pyQuaterion\n",
    "from braynsmediamaker import MovieMaker\n",
    "\n",
    "url = 'localhost:5000'\n",
    "be = BioExplorer(url)\n",
    "core = be.core_api()\n",
    "mm = MovieMaker(core)\n",
    "status = be.reset()"
   ]
  },
  {
   "cell_type": "markdown",
   "metadata": {},
   "source": [
    "### Resources"
   ]
  },
  {
   "cell_type": "code",
   "execution_count": null,
   "metadata": {},
   "outputs": [],
   "source": [
    "resource_folder = '../../tests/test_files/'\n",
    "pdb_folder = resource_folder + 'pdb/'\n",
    "\n",
    "glucose_path = pdb_folder + 'glucose.pdb'\n",
    "lactoferrin_path=pdb_folder + 'immune/1b0l.pdb'\n",
    "defensin_path = pdb_folder + 'immune/1ijv.pdb'\n",
    "\n",
    "surfactant_head_source = pdb_folder + 'surfactant/1pw9.pdb'\n",
    "surfactant_branch_source = pdb_folder + 'surfactant/1k6f.pdb'\n",
    "\n",
    "\n",
    "glycan_folder = pdb_folder + 'glycans/'\n",
    "complex_paths = [glycan_folder + 'complex/5.pdb', glycan_folder + 'complex/15.pdb',\n",
    "                 glycan_folder + 'complex/25.pdb',glycan_folder + 'complex/35.pdb']\n",
    "high_mannose_paths = [glycan_folder + 'high-mannose/1.pdb', \n",
    "                      glycan_folder + 'high-mannose/2.pdb',\n",
    "                      glycan_folder + 'high-mannose/3.pdb',\n",
    "                      glycan_folder + 'high-mannose/4.pdb']\n",
    "hybrid_paths = [glycan_folder + 'hybrid/20.pdb']\n",
    "o_glycan_paths = [glycan_folder + 'o-glycan/1.pdb']"
   ]
  },
  {
   "cell_type": "markdown",
   "metadata": {},
   "source": [
    "### Configuration"
   ]
  },
  {
   "cell_type": "code",
   "execution_count": null,
   "metadata": {},
   "outputs": [],
   "source": [
    "# Scene\n",
    "scene_size = 500.0\n",
    "\n",
    "# Proteins\n",
    "protein_radius_multiplier = 1.0\n",
    "protein_representation = be.REPRESENTATION_ATOMS\n",
    "protein_load_hydrogen = False\n",
    "\n",
    "# Viruses\n",
    "nb_protein_s = 62\n",
    "nb_protein_e = 42\n",
    "nb_protein_m = 50\n",
    "add_rna = False\n",
    "nb_defensins_on_virus = 2\n",
    "\n",
    "# Glycans\n",
    "add_glycans = True\n",
    "glycan_radius_multiplier = 1.0\n",
    "glycan_representation = be.REPRESENTATION_ATOMS_AND_STICKS"
   ]
  },
  {
   "cell_type": "markdown",
   "metadata": {},
   "source": [
    "## Camera and rendering settings"
   ]
  },
  {
   "cell_type": "code",
   "execution_count": null,
   "metadata": {},
   "outputs": [],
   "source": [
    "status = be.core_api().set_camera(\n",
    "    orientation=[0.0, 0.0, 0.0, 1.0],\n",
    "    position=[4.883, 44.255, 431.911],\n",
    "    target=[4.883, 44.255, 31.311]\n",
    ")"
   ]
  },
  {
   "cell_type": "code",
   "execution_count": null,
   "metadata": {},
   "outputs": [],
   "source": [
    "be.core_api().set_renderer(\n",
    "    background_color=[96 / 255, 125 / 255, 139 / 255],\n",
    "    current='bio_explorer', head_light=False,\n",
    "    samples_per_pixel=1, subsampling=4, max_accum_frames=64)\n",
    "params = be.core_api().BioExplorerRendererParams()\n",
    "params.gi_samples = 1\n",
    "params.gi_weight = 0.3\n",
    "params.gi_distance = 500\n",
    "params.shadows = 1.0\n",
    "params.soft_shadows = 0.3\n",
    "params.fog_start = 600\n",
    "params.fog_thickness = 200\n",
    "params.max_bounces = 1\n",
    "status = be.core_api().set_renderer_params(params)"
   ]
  },
  {
   "cell_type": "code",
   "execution_count": null,
   "metadata": {},
   "outputs": [],
   "source": [
    "core.clear_lights()\n",
    "core.add_light_directional(\n",
    "    angularDiameter=0.5, color=[1,1,1], direction=[-1,-1,-1],\n",
    "    intensity=1.0, is_visible=False\n",
    ")"
   ]
  },
  {
   "cell_type": "markdown",
   "metadata": {},
   "source": [
    "### Cell, Coronavirus and Surfactant-D"
   ]
  },
  {
   "cell_type": "code",
   "execution_count": null,
   "metadata": {},
   "outputs": [],
   "source": [
    "def add_virus(\n",
    "        position, rotation, random_position_seed,\n",
    "        random_rotation_seed, morphing_step):\n",
    "    be.add_coronavirus(\n",
    "        name='Coronavirus', resource_folder=resource_folder,\n",
    "        atom_radius_multiplier=protein_radius_multiplier,\n",
    "        representation=protein_representation,\n",
    "        add_glycans=add_glycans,\n",
    "        position=position,\n",
    "        rotation=rotation,\n",
    "        assembly_params=[\n",
    "            45.0, \n",
    "            random_position_seed, 0.05, \n",
    "            random_rotation_seed + 1, 0.4,\n",
    "            morphing_step\n",
    "        ]\n",
    "    )"
   ]
  },
  {
   "cell_type": "code",
   "execution_count": null,
   "metadata": {},
   "outputs": [],
   "source": [
    "def add_cell(nb_receptors, random_position_seed, random_rotation_seed):\n",
    "    name='Cell'\n",
    "\n",
    "    '''ACE2 receptor definition'''\n",
    "    ace2_receptor = Protein(\n",
    "        sources=[pdb_folder + '6m18.pdb'],\n",
    "        occurences=nb_receptors,\n",
    "        position=Vector3(0.0, 6.0, 0.0))\n",
    "\n",
    "    '''Membrane definition'''\n",
    "    membrane_size = scene_size\n",
    "    membrane_height = scene_size / 10.0\n",
    "    membrane = Membrane(\n",
    "        sources=[pdb_folder + 'membrane/popc.pdb'],\n",
    "        occurences=160000)\n",
    "\n",
    "    '''Cell definition'''\n",
    "    cell = Cell(\n",
    "        name=name,\n",
    "        size=membrane_size,\n",
    "        shape=be.ASSEMBLY_SHAPE_SINUSOIDAL,\n",
    "        membrane=membrane, receptor=ace2_receptor,\n",
    "        random_position_seed=random_position_seed,\n",
    "        random_position_strength=0.05,\n",
    "        random_rotation_seed=random_rotation_seed,\n",
    "        random_rotation_strength=4.0,\n",
    "        extra_parameters=[membrane_height]\n",
    "    )\n",
    "\n",
    "    '''Add cell to scene'''\n",
    "    status = be.add_cell(\n",
    "        cell=cell, representation=protein_representation,\n",
    "        atom_radius_multiplier=protein_radius_multiplier,\n",
    "        position=Vector3(0.0, -80.0, 0.0)\n",
    "    )\n",
    "\n",
    "    if add_glycans:\n",
    "        '''Glycans'''\n",
    "        be.add_multiple_glycans(\n",
    "            representation=protein_representation, assembly_name=name, \n",
    "            glycan_type=be.NAME_GLYCAN_COMPLEX,\n",
    "            protein_name=be.NAME_RECEPTOR, paths=complex_paths, \n",
    "            indices=[53, 90, 103, 322, 432, 690])\n",
    "\n",
    "        be.add_multiple_glycans(\n",
    "            representation=protein_representation, assembly_name=name,\n",
    "            glycan_type=be.NAME_GLYCAN_HYBRID,\n",
    "            protein_name=be.NAME_RECEPTOR, paths=hybrid_paths, \n",
    "            indices=[546])\n",
    "\n",
    "        indices = [[164, Quaternion(0.707, 0.0, 0.707, 0.0)],\n",
    "                   [739, Quaternion(0.707, 0.0, 0.707, 0.0)]]\n",
    "        for index in indices:\n",
    "            o_glycan_name = name + '_' + be.NAME_GLYCAN_O_GLYCAN + '_' + str(index[0])\n",
    "            o_glycan = Sugars(\n",
    "                assembly_name=name, name=o_glycan_name, \n",
    "                source=o_glycan_paths[0],\n",
    "                protein_name=name + '_' + be.NAME_RECEPTOR, \n",
    "                representation=protein_representation,\n",
    "                chain_ids=[2, 4], site_indices=[index[0]], \n",
    "                rotation=index[1])\n",
    "            be.add_sugars(o_glycan)\n",
    "    return status"
   ]
  },
  {
   "cell_type": "code",
   "execution_count": null,
   "metadata": {},
   "outputs": [],
   "source": [
    "def add_surfactant_d(name, position, rotation, random_seed):\n",
    "    surfactant_d = Surfactant(\n",
    "        name=name, surfactant_protein=be.SURFACTANT_PROTEIN_D, \n",
    "        head_source=surfactant_head_source,\n",
    "        branch_source=surfactant_branch_source)\n",
    "    return be.add_surfactant(\n",
    "        surfactant=surfactant_d, \n",
    "        representation=protein_representation,\n",
    "        atom_radius_multiplier=protein_radius_multiplier,\n",
    "        position=position, rotation=rotation, \n",
    "        random_seed=random_seed)"
   ]
  },
  {
   "cell_type": "code",
   "execution_count": null,
   "metadata": {},
   "outputs": [],
   "source": [
    "def add_glucose(random_seed, nb_glucoses=4 * 14400):\n",
    "    volume_position = Vector3(0.0, scene_size / 2.0 - 80.0, 0.0)\n",
    "    glucose = Protein(\n",
    "        sources=[glucose_path], load_non_polymer_chemicals=True, \n",
    "        occurences=nb_glucoses)\n",
    "    volume = Volume(\n",
    "        name=be.NAME_GLUCOSE, size=scene_size, \n",
    "        protein=glucose,\n",
    "        random_position_seed=random_seed,\n",
    "        random_position_stength=scene_size / 500.0,\n",
    "        random_rotation_seed=random_seed,\n",
    "        random_rotation_stength=0.3\n",
    "    )\n",
    "    return be.add_volume(\n",
    "        volume=volume, \n",
    "        representation=be.REPRESENTATION_ATOMS_AND_STICKS,\n",
    "        atom_radius_multiplier=protein_radius_multiplier,\n",
    "        position=volume_position)"
   ]
  },
  {
   "cell_type": "code",
   "execution_count": null,
   "metadata": {},
   "outputs": [],
   "source": [
    "def set_materials():\n",
    "    be.apply_default_color_scheme(\n",
    "        shading_mode=be.SHADING_MODE_BASIC, user_parameter=1)\n",
    "    for model in core.scene.models:\n",
    "        model_id = model['id']\n",
    "        model_name = model['name']\n",
    "        if be.NAME_COLLAGEN in model_name:\n",
    "            material_ids = list(be.get_material_ids(model_id)['ids'])\n",
    "            nb_materials = len(material_ids)\n",
    "            print(model_name)\n",
    "            palette = list()\n",
    "            emissions = list()\n",
    "            for i in range(nb_materials):\n",
    "                palette.append([1,1,1])\n",
    "                emissions.append(0.1)\n",
    "            be.set_materials(\n",
    "                model_ids=[model_id], material_ids=material_ids,\n",
    "                diffuse_colors=palette, specular_colors=palette,\n",
    "                emissions=emissions\n",
    "            )"
   ]
  },
  {
   "cell_type": "markdown",
   "metadata": {},
   "source": [
    "## Movie"
   ]
  },
  {
   "cell_type": "markdown",
   "metadata": {},
   "source": [
    "### Camera positions"
   ]
  },
  {
   "cell_type": "code",
   "execution_count": null,
   "metadata": {},
   "outputs": [],
   "source": [
    "key_frames = [\n",
    "    {\n",
    "        'apertureRadius': 0.0,\n",
    "        'direction': [0.0, 0.0, -1.0],\n",
    "        'focusDistance': 0.0,\n",
    "        'origin': [8.848612545524386, 38.1815273571507, 544.0734702858679],\n",
    "        'up': [0.0, 1.0, 0.0]\n",
    "    },\n",
    "    {\n",
    "        'apertureRadius': 0.0,\n",
    "        'direction': [0.6083991714336657, -0.15450233390242366, -0.7784468363462806],\n",
    "        'focusDistance': 0.0,\n",
    "        'origin': [-240.8190994911038, 53.51713296185992, 342.1357352156152],\n",
    "        'up': [0.07492786634686985, 0.9876682399356482, -0.13746731490476025]\n",
    "    },\n",
    "    {\n",
    "        'apertureRadius': 0.0,\n",
    "        'direction': [0.8612481222991739, -0.22198006941973533, 0.4571394979834462],\n",
    "        'focusDistance': 0.0,\n",
    "        'origin': [-337.42978759761564, 82.7875998078893, -205.1502287344292],\n",
    "        'up': [0.21224592777192716, 0.9744622627257351, 0.0733141505282188]\n",
    "    }\n",
    "]\n",
    "mm.build_camera_path(key_frames, 300, 50)"
   ]
  },
  {
   "cell_type": "markdown",
   "metadata": {},
   "source": [
    "### Frames"
   ]
  },
  {
   "cell_type": "code",
   "execution_count": null,
   "metadata": {},
   "outputs": [],
   "source": [
    "'''Coronavirus'''\n",
    "q_c_start = pyQuaterion(0.707, 0.707, 0.0, 0.0)\n",
    "q_c_end = pyQuaterion(1.0, 0.0, 0.0, 0.0)\n",
    "\n",
    "'''Surfactant-D'''\n",
    "q_s_start = pyQuaterion(0.0, 0.0, 0.707,0.707)\n",
    "q_s_end = pyQuaterion(1.0, 0.0, 0.0, 0.0)\n",
    "q_s_nb_frames = 600"
   ]
  },
  {
   "cell_type": "code",
   "execution_count": null,
   "metadata": {
    "scrolled": false
   },
   "outputs": [],
   "source": [
    "from IPython.display import clear_output\n",
    "\n",
    "'''Settings'''\n",
    "output_folder = '/tmp'\n",
    "image_size = [960, 540]\n",
    "image_samples_per_pixel = 32\n",
    "nb_frames = mm.get_nb_frames()\n",
    "\n",
    "'''Virus flying information'''\n",
    "flying_nb_frames = 200\n",
    "\n",
    "'''Virus landing information'''\n",
    "landing_nb_frames = 50\n",
    "landing_distance = 40.0\n",
    "\n",
    "'''Virus merging information'''\n",
    "merging_nb_frames = 100\n",
    "\n",
    "be.set_general_settings(model_visibility_on_creation=False, off_folder='/tmp')\n",
    "core.set_application_parameters(image_stream_fps=0)\n",
    "\n",
    "for frame in range(nb_frames):\n",
    "    clear_output()\n",
    "    print('Frame %i out of %i' % (frame, nb_frames))\n",
    "    \n",
    "    '''Camera'''\n",
    "    mm.set_current_frame(frame)\n",
    "    \n",
    "    '''Cell'''\n",
    "    print('Cell...')\n",
    "    add_cell(5, 5 * frame + 1, frame + 2)\n",
    "    \n",
    "    '''Coronavirus'''\n",
    "    show_virus = True\n",
    "    morphing_step = 0.0\n",
    "    p = Vector3(55.0, -5.0, -45.0)\n",
    "    o = q_c_end\n",
    "    if frame <= flying_nb_frames:\n",
    "        '''Flying'''\n",
    "        print('Flying virus...')\n",
    "        p = Vector3(55.0, -5.0 + flying_nb_frames - frame, -45.0 - (frame - flying_nb_frames) / 2.0)\n",
    "        o = pyQuaterion.slerp(q_c_start, q_c_end, (frame + 1) / flying_nb_frames)\n",
    "    elif frame <= landing_nb_frames + flying_nb_frames:\n",
    "        '''Landing...'''\n",
    "        progress = float(frame - flying_nb_frames) * (landing_distance / float(landing_nb_frames))\n",
    "        print('Landing virus...')\n",
    "        p = Vector3(\n",
    "            55.0,\n",
    "            -5.0 - progress, \n",
    "            -45.0)\n",
    "\n",
    "        '''Modify receptor position to dive into the cell membrane'''\n",
    "        be.set_protein_instance_transformation(\n",
    "            assembly_name='Cell',\n",
    "            name='Cell_' + be.NAME_RECEPTOR,\n",
    "            instance_index=4,\n",
    "            position=Vector3(74.5, -76.513 - progress, -39.5),\n",
    "            rotation=Quaternion(-0.0385459, -0.0398906, 0.718016, 0.693813)\n",
    "        )            \n",
    "\n",
    "    elif frame <= landing_nb_frames + flying_nb_frames + merging_nb_frames:\n",
    "        '''Merging...'''\n",
    "        p = Vector3(55.0, -5.0 - landing_distance, -45.0)\n",
    "        morphing_step = float(frame - flying_nb_frames - landing_nb_frames) / float(merging_nb_frames)\n",
    "        print('Merging virus (%f)...' % morphing_step)\n",
    "    else:\n",
    "        print('No virus...')\n",
    "        be.remove_assembly('Coronavirus')\n",
    "        show_virus = False\n",
    "\n",
    "    if show_virus:\n",
    "        add_virus(\n",
    "            position=p, rotation=Quaternion(o[0],o[1],o[2],o[3]),\n",
    "            random_position_seed=5 * frame + 1, random_rotation_seed=frame + 2,\n",
    "            morphing_step=morphing_step)            \n",
    "\n",
    "    '''Surfactant-D'''\n",
    "    print('SP-D...')\n",
    "    o = pyQuaterion.slerp(\n",
    "        q_s_start, q_s_end, (frame + 1) / q_s_nb_frames)\n",
    "    add_surfactant_d(\n",
    "        name='Surfactant-D 1', random_seed=1,\n",
    "        position=Vector3(\n",
    "            -150.0 + (nb_frames - frame) / 7.0,\n",
    "            22.0 + (nb_frames - frame) / 10.0, \n",
    "            -50.0 + (nb_frames - frame) / 5.0),\n",
    "        rotation = Quaternion(o[0],o[1],o[2],o[3])\n",
    "    )\n",
    "\n",
    "    '''Glucose'''\n",
    "    print('Glucose...')\n",
    "    add_glucose(frame)\n",
    "\n",
    "    '''Materials'''\n",
    "    print('Materials...')\n",
    "    set_materials()\n",
    "    \n",
    "    '''Make all models visible'''\n",
    "    be.set_models_visibility(True)\n",
    "    \n",
    "    break\n",
    "\n",
    "    '''Snapshot'''\n",
    "    print('Snapshot...')\n",
    "    mm.create_snapshot(\n",
    "        size=image_size, samples_per_pixel=image_samples_per_pixel,\n",
    "        path=output_folder + '/%05d.png' % frame)\n",
    "\n",
    "core.set_application_parameters(image_stream_fps=20)"
   ]
  }
 ],
 "metadata": {
  "kernelspec": {
   "display_name": "Python 3",
   "language": "python",
   "name": "python3"
  },
  "language_info": {
   "codemirror_mode": {
    "name": "ipython",
    "version": 3
   },
   "file_extension": ".py",
   "mimetype": "text/x-python",
   "name": "python",
   "nbconvert_exporter": "python",
   "pygments_lexer": "ipython3",
   "version": "3.8.5"
  }
 },
 "nbformat": 4,
 "nbformat_minor": 4
}
