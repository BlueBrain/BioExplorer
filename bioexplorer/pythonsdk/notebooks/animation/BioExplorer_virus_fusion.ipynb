{
 "cells": [
  {
   "cell_type": "markdown",
   "metadata": {},
   "source": [
    "# Blue Brain BioExplorer\n",
    "\n",
    "![](../bioexplorer_banner.png)"
   ]
  },
  {
   "cell_type": "markdown",
   "metadata": {},
   "source": [
    "## Visualization of a Coronavirus"
   ]
  },
  {
   "cell_type": "code",
   "execution_count": null,
   "metadata": {},
   "outputs": [],
   "source": [
    "from bioexplorer import BioExplorer, Protein, Membrane, Cell, Sugar, \\\n",
    "                        AnimationParams, Vector2, Vector3, Quaternion, MovieMaker\n",
    "be = BioExplorer('localhost:5000')\n",
    "core = be.core_api()\n",
    "be.reset_scene()\n",
    "print(be.version())"
   ]
  },
  {
   "cell_type": "markdown",
   "metadata": {},
   "source": [
    "## Resources"
   ]
  },
  {
   "cell_type": "code",
   "execution_count": null,
   "metadata": {
    "scrolled": true
   },
   "outputs": [],
   "source": [
    "resource_folder = '../../tests/test_files/'\n",
    "pdb_folder = resource_folder + 'pdb/'\n",
    "\n",
    "glycan_folder = pdb_folder + 'glycans/'\n",
    "complex_paths = [glycan_folder + 'complex/5.pdb', glycan_folder + 'complex/15.pdb',\n",
    "                 glycan_folder + 'complex/25.pdb',glycan_folder + 'complex/35.pdb']\n",
    "high_mannose_paths = [glycan_folder + 'high-mannose/1.pdb', \n",
    "                      glycan_folder + 'high-mannose/2.pdb',\n",
    "                      glycan_folder + 'high-mannose/3.pdb',\n",
    "                      glycan_folder + 'high-mannose/4.pdb']\n",
    "hybrid_paths = [glycan_folder + 'hybrid/20.pdb']\n",
    "o_glycan_paths = [glycan_folder + 'o-glycan/1.pdb']"
   ]
  },
  {
   "cell_type": "code",
   "execution_count": null,
   "metadata": {},
   "outputs": [],
   "source": [
    "status = be.core_api().set_camera(\n",
    "    orientation=[-0.005, 0.439, 0.0, 0.898],\n",
    "    position=[265.706, -34.254, 119.18],\n",
    "    target=[71.9, -36.859, -31.474]\n",
    ")"
   ]
  },
  {
   "cell_type": "code",
   "execution_count": null,
   "metadata": {},
   "outputs": [],
   "source": [
    "status = be.set_rendering_quality(be.RENDERING_QUALITY_HIGH)"
   ]
  },
  {
   "cell_type": "code",
   "execution_count": null,
   "metadata": {},
   "outputs": [],
   "source": [
    "# Scene\n",
    "scene_size = Vector3(500.0, 500.0, 500.0)\n",
    "\n",
    "# Proteins\n",
    "protein_radius_multiplier = 1.0\n",
    "protein_representation = be.REPRESENTATION_ATOMS"
   ]
  },
  {
   "cell_type": "code",
   "execution_count": null,
   "metadata": {},
   "outputs": [],
   "source": [
    "def add_cell(nb_receptors, random_seed, random_position_seed, random_rotation_seed):\n",
    "    name='Cell'\n",
    "\n",
    "    '''ACE2 receptor definition'''\n",
    "    ace2_receptor = Protein(\n",
    "        name=name + '_' + be.NAME_RECEPTOR,\n",
    "        source=pdb_folder + '6m18.pdb',\n",
    "        occurences=nb_receptors,\n",
    "        transmembrane_params=Vector2(-6.0, 5.0))\n",
    "\n",
    "    '''Membrane definition'''\n",
    "    membrane_size = Vector3(scene_size.x, scene_size.y / 10.0, scene_size.z)\n",
    "    membrane = Membrane(\n",
    "        lipid_sources=[pdb_folder + 'membrane/popc.pdb'],\n",
    "        animation_params=AnimationParams(\n",
    "            random_seed, random_position_seed, 0.25, random_rotation_seed, 0.2)\n",
    "        )\n",
    "\n",
    "    '''Cell definition'''\n",
    "    cell = Cell(\n",
    "        name=name,\n",
    "        shape=be.ASSEMBLY_SHAPE_SINUSOID,\n",
    "        shape_params=membrane_size,\n",
    "        membrane=membrane, proteins=[ace2_receptor]\n",
    "    )\n",
    "\n",
    "    '''Add cell to scene'''\n",
    "    status = be.add_cell(\n",
    "        cell=cell, representation=protein_representation,\n",
    "        atom_radius_multiplier=protein_radius_multiplier,\n",
    "        position=Vector3(0.0, -80.0, 0.0)\n",
    "    )\n",
    "\n",
    "    '''Glycans'''\n",
    "    be.add_multiple_glycans(\n",
    "        representation=protein_representation, assembly_name=name, \n",
    "        glycan_type=be.NAME_GLYCAN_COMPLEX,\n",
    "        protein_name=be.NAME_RECEPTOR, paths=complex_paths, \n",
    "        indices=[53, 90, 103, 322, 432, 690])\n",
    "\n",
    "    be.add_multiple_glycans(\n",
    "        representation=protein_representation, assembly_name=name,\n",
    "        glycan_type=be.NAME_GLYCAN_HYBRID,\n",
    "        protein_name=be.NAME_RECEPTOR, paths=hybrid_paths, \n",
    "        indices=[546])\n",
    "\n",
    "    indices = [[164, Quaternion(0.707, 0.0, 0.707, 0.0)],\n",
    "               [739, Quaternion(0.707, 0.0, 0.707, 0.0)]]\n",
    "    for index in indices:\n",
    "        o_glycan_name = name + '_' + be.NAME_GLYCAN_O_GLYCAN + '_' + str(index[0])\n",
    "        o_glycan = Sugar(\n",
    "            assembly_name=name, name=o_glycan_name, \n",
    "            source=o_glycan_paths[0],\n",
    "            protein_name=name + '_' + be.NAME_RECEPTOR, \n",
    "            representation=protein_representation,\n",
    "            chain_ids=[2, 4], site_indices=[index[0]], \n",
    "            rotation=index[1])\n",
    "        be.add_sugars(o_glycan)\n",
    "    return status"
   ]
  },
  {
   "cell_type": "code",
   "execution_count": null,
   "metadata": {},
   "outputs": [],
   "source": [
    "def add_virus(position, random_seed, random_position_seed, random_rotation_seed, morphing_step):\n",
    "    be.add_coronavirus(\n",
    "        name='Coronavirus', resource_folder=resource_folder,\n",
    "        atom_radius_multiplier=protein_radius_multiplier,\n",
    "        representation=protein_representation,\n",
    "        add_glycans=True,\n",
    "        position=position,\n",
    "        animation_params=AnimationParams(\n",
    "            random_seed, random_position_seed, 0.25, random_rotation_seed + 1, 0.2, morphing_step)\n",
    "    )"
   ]
  },
  {
   "cell_type": "code",
   "execution_count": null,
   "metadata": {
    "scrolled": true
   },
   "outputs": [],
   "source": [
    "from IPython.display import clear_output\n",
    "\n",
    "mm = MovieMaker(be)\n",
    "output_folder = '/tmp'\n",
    "be.set_general_settings(\n",
    "    model_visibility_on_creation=False, off_folder='/tmp/')\n",
    "\n",
    "nb_frames = 40\n",
    "nb_going_down_frames = 20\n",
    "going_down_distance = 33.0\n",
    "\n",
    "for frame in range(25, nb_going_down_frames + nb_frames, 5):\n",
    "# for frame in range(nb_going_down_frames + nb_frames):\n",
    "    clear_output()\n",
    "    core.set_application_parameters(image_stream_fps=0)\n",
    "    print('Frame %d' % frame)\n",
    "    \n",
    "    '''Cell'''\n",
    "    status = add_cell(5, 1, 5 * frame + 1, 5 * frame + 2)\n",
    "    \n",
    "    '''Virus'''\n",
    "    y = -5.0 - float(frame) * (going_down_distance / float(nb_going_down_frames))\n",
    "    s = 0.0\n",
    "    if frame >= nb_going_down_frames:\n",
    "        y = -5.0 - going_down_distance\n",
    "        s = float(frame - nb_going_down_frames) / float(nb_frames)\n",
    "        \n",
    "    add_virus(\n",
    "        Vector3(55.0, y, -45),\n",
    "        5, 5 * frame + 3, 5 * frame + 4, s\n",
    "    )\n",
    "\n",
    "    '''Materials'''\n",
    "    be.apply_default_color_scheme(\n",
    "        shading_mode=be.SHADING_MODE_BASIC, user_parameter=1)\n",
    "    be.set_models_visibility(True)\n",
    "    \n",
    "    '''Snapshot'''\n",
    "    mm.create_snapshot(\n",
    "        renderer='bio_explorer',\n",
    "        size=[540, 540], samples_per_pixel=32,\n",
    "        path=output_folder, base_name='%05d' % frame)\n",
    "        \n",
    "status = core.set_application_parameters(image_stream_fps=20)"
   ]
  }
 ],
 "metadata": {
  "kernelspec": {
   "display_name": "Python 3",
   "language": "python",
   "name": "python3"
  },
  "language_info": {
   "codemirror_mode": {
    "name": "ipython",
    "version": 3
   },
   "file_extension": ".py",
   "mimetype": "text/x-python",
   "name": "python",
   "nbconvert_exporter": "python",
   "pygments_lexer": "ipython3",
   "version": "3.8.10"
  }
 },
 "nbformat": 4,
 "nbformat_minor": 4
}
