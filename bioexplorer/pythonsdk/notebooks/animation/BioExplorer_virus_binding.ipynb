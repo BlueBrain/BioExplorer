{
 "cells": [
  {
   "cell_type": "markdown",
   "metadata": {},
   "source": [
    "# Blue Brain BioExplorer\n",
    "\n",
    "![](../bioexplorer_banner.png)"
   ]
  },
  {
   "cell_type": "markdown",
   "metadata": {},
   "source": [
    "### Prerequiries"
   ]
  },
  {
   "cell_type": "code",
   "execution_count": null,
   "metadata": {},
   "outputs": [],
   "source": [
    "# !pip install pyquaternion"
   ]
  },
  {
   "cell_type": "markdown",
   "metadata": {},
   "source": [
    "### Initialization"
   ]
  },
  {
   "cell_type": "code",
   "execution_count": 108,
   "metadata": {
    "scrolled": true
   },
   "outputs": [],
   "source": [
    "from bioexplorer import BioExplorer, Protein, AssemblyProtein, Surfactant, Membrane, Virus, Volume, \\\n",
    "                        Cell, Sugars, Vector2, Vector3, Quaternion\n",
    "from pyquaternion import Quaternion as pyQuaterion\n",
    "from braynsmediamaker import MovieMaker\n",
    "\n",
    "be = BioExplorer('localhost:5000')\n",
    "core = be.core_api()\n",
    "mm = MovieMaker(core)\n",
    "status = be.reset()"
   ]
  },
  {
   "cell_type": "markdown",
   "metadata": {},
   "source": [
    "### Resources"
   ]
  },
  {
   "cell_type": "code",
   "execution_count": 109,
   "metadata": {},
   "outputs": [],
   "source": [
    "resource_folder = '../tests/test_files/'\n",
    "pdb_folder = resource_folder + 'pdb/'\n",
    "\n",
    "glucose_path = pdb_folder + 'glucose.pdb'\n",
    "lactoferrin_path=pdb_folder + 'immune/1b0l.pdb'\n",
    "defensin_path = pdb_folder + 'immune/1ijv.pdb'\n",
    "\n",
    "surfactant_head_source = pdb_folder + 'surfactant/1pw9.pdb'\n",
    "surfactant_branch_source = pdb_folder + 'surfactant/1k6f.pdb'\n",
    "\n",
    "\n",
    "glycan_folder = pdb_folder + 'glycans/'\n",
    "complex_paths = [glycan_folder + 'complex/5.pdb', glycan_folder + 'complex/15.pdb',\n",
    "                 glycan_folder + 'complex/25.pdb',glycan_folder + 'complex/35.pdb']\n",
    "high_mannose_paths = [glycan_folder + 'high-mannose/1.pdb', \n",
    "                      glycan_folder + 'high-mannose/2.pdb',\n",
    "                      glycan_folder + 'high-mannose/3.pdb',\n",
    "                      glycan_folder + 'high-mannose/4.pdb']\n",
    "hybrid_paths = [glycan_folder + 'hybrid/20.pdb']\n",
    "o_glycan_paths = [glycan_folder + 'o-glycan/1.pdb']"
   ]
  },
  {
   "cell_type": "markdown",
   "metadata": {},
   "source": [
    "### Configuration"
   ]
  },
  {
   "cell_type": "code",
   "execution_count": 110,
   "metadata": {},
   "outputs": [],
   "source": [
    "# Scene\n",
    "scene_size = 250.0\n",
    "\n",
    "# Proteins\n",
    "protein_radius_multiplier = 1.0\n",
    "protein_representation = be.REPRESENTATION_ATOMS\n",
    "# protein_representation = be.REPRESENTATION_CONTOURS\n",
    "protein_load_hydrogen = False\n",
    "\n",
    "# Viruses\n",
    "nb_protein_s = 62\n",
    "nb_protein_e = 42\n",
    "nb_protein_m = 50\n",
    "add_rna = False\n",
    "nb_defensins_on_virus = 2\n",
    "\n",
    "# Glycans\n",
    "add_glycans = True\n",
    "glycan_radius_multiplier = 1.0\n",
    "glycan_representation = be.REPRESENTATION_ATOMS_AND_STICKS"
   ]
  },
  {
   "cell_type": "markdown",
   "metadata": {},
   "source": [
    "## Camera and rendering settings"
   ]
  },
  {
   "cell_type": "code",
   "execution_count": 111,
   "metadata": {},
   "outputs": [],
   "source": [
    "status = be.core_api().set_camera(\n",
    "    orientation=[0.0, 0.0, 0.0, 1.0],\n",
    "    position=[4.883, 44.255, 431.911],\n",
    "    target=[4.883, 44.255, 31.311]\n",
    ")"
   ]
  },
  {
   "cell_type": "code",
   "execution_count": 167,
   "metadata": {},
   "outputs": [],
   "source": [
    "be.core_api().set_renderer(\n",
    "    background_color=[96 / 255, 125 / 255, 139 / 255],\n",
    "    current='bio_explorer', head_light=False,\n",
    "    samples_per_pixel=1, subsampling=4, max_accum_frames=64)\n",
    "params = be.core_api().BioExplorerRendererParams()\n",
    "params.gi_samples = 1\n",
    "params.gi_weight = 0.3\n",
    "params.gi_distance = 500\n",
    "params.shadows = 1.0\n",
    "params.soft_shadows = 0.3\n",
    "params.fog_start = 350\n",
    "params.fog_thickness = 150\n",
    "params.max_bounces = 1\n",
    "status = be.core_api().set_renderer_params(params)"
   ]
  },
  {
   "cell_type": "code",
   "execution_count": 173,
   "metadata": {},
   "outputs": [],
   "source": [
    "core.clear_lights()\n",
    "core.add_light_directional(\n",
    "    angularDiameter=0.5, color=[1,1,1], direction=[-1,-1,-1],\n",
    "    intensity=1.0, is_visible=False\n",
    ")"
   ]
  },
  {
   "cell_type": "markdown",
   "metadata": {},
   "source": [
    "## Movie"
   ]
  },
  {
   "cell_type": "code",
   "execution_count": 145,
   "metadata": {},
   "outputs": [],
   "source": [
    "key_frames = [\n",
    "    {\n",
    "        'apertureRadius': 0.0,\n",
    "        'direction': [0.0, 0.0, -1.0],\n",
    "        'focusDistance': 0.0,\n",
    "        'origin': [1.6502412168755822, 31.85387269937135, 412.9385526569384],\n",
    "        'up': [0.0, 1.0, 0.0]\n",
    "    },\n",
    "    {\n",
    "        'apertureRadius': 0.0,\n",
    "        'direction': [-0.456084843117388, -0.027656571035110163, -0.8895064530160348],\n",
    "        'focusDistance': 0.0,\n",
    "        'origin': [-6.538792701192037, -65.30405597715314, 144.1078241353965],\n",
    "        'up': [0.0007301065214662455, 0.9995050281008051, -0.0314510054795716]\n",
    "    },\n",
    "    {\n",
    "        'apertureRadius': 0.0,\n",
    "        'direction': [0.0, 0.0, -1.0],\n",
    "        'focusDistance': 0.0,\n",
    "        'origin': [-37.318183489968035, -2.5200681155891576, 274.76964004538524],\n",
    "        'up': [0.0, 1.0, 0.0]\n",
    "    },\n",
    "    {\n",
    "        'apertureRadius': 0.0,\n",
    "        'direction': [-0.10258399568439694, -0.06406096323380003, -0.9926594163251469],\n",
    "        'focusDistance': 0.0,\n",
    "        'origin': [6.6567467250689765, 32.473162591007394, 169.645985506744],\n",
    "        'up': [-0.13586210720011824, 0.9894745801505731, -0.04981508870804724]\n",
    "    }\n",
    "]\n",
    "mm.build_camera_path(key_frames, 200, 50)"
   ]
  },
  {
   "cell_type": "markdown",
   "metadata": {},
   "source": [
    "### Cell, Coronavirus and Surfactant-D"
   ]
  },
  {
   "cell_type": "code",
   "execution_count": 114,
   "metadata": {},
   "outputs": [],
   "source": [
    "def add_virus(\n",
    "    name, position, orientation=Quaternion(), \n",
    "    open_conformation_indices=list(), \n",
    "    position_seed=1, orientation_seed=2, \n",
    "    morphing_step=0.0):\n",
    "    \n",
    "    closed_conformation_indices = list()\n",
    "    for i in range(nb_protein_s):\n",
    "        if i not in open_conformation_indices:\n",
    "            closed_conformation_indices.append(i)\n",
    "\n",
    "    virus_protein_s = Protein(\n",
    "        sources=[\n",
    "            pdb_folder + '6vyb.pdb',  # Open conformation\n",
    "            pdb_folder + 'sars-cov-2-v1.pdb'  # Closed conformation\n",
    "        ],\n",
    "        load_hydrogen=protein_load_hydrogen, occurences=nb_protein_s, \n",
    "        assembly_params=[\n",
    "            11.5,\n",
    "            position_seed, 0.0,\n",
    "            orientation_seed, 0.1,\n",
    "            morphing_step\n",
    "        ],\n",
    "        cutoff_angle=0.999,\n",
    "        orientation=Quaternion(0.0, 1.0, 0.0, 0.0),\n",
    "        instance_indices=[\n",
    "            open_conformation_indices, \n",
    "            closed_conformation_indices\n",
    "        ])\n",
    "\n",
    "    virus_protein_m = Protein(\n",
    "        sources=[pdb_folder + 'QHD43419a.pdb'], load_hydrogen=protein_load_hydrogen,\n",
    "        occurences=nb_protein_m, \n",
    "        assembly_params=[\n",
    "            2.5,\n",
    "            1, 0.1,\n",
    "            orientation_seed + 2, 0.3,\n",
    "            morphing_step\n",
    "        ],\n",
    "        cutoff_angle=0.999,\n",
    "        orientation=Quaternion(0.99, 0.0, 0.0, 0.135))\n",
    "\n",
    "    virus_protein_e = Protein(\n",
    "        sources=[pdb_folder + 'QHD43418a.pdb'], load_hydrogen=protein_load_hydrogen, \n",
    "        occurences=nb_protein_e, \n",
    "        assembly_params=[\n",
    "            3.0,\n",
    "            3, 0.1,\n",
    "            orientation_seed + 4, 0.3,\n",
    "            morphing_step\n",
    "        ],\n",
    "        cutoff_angle=0.9999, \n",
    "        orientation=Quaternion(0.705, 0.705, -0.04, -0.04))\n",
    "\n",
    "    virus_membrane = Membrane(\n",
    "        sources=[pdb_folder + 'membrane/popc.pdb'],\n",
    "        occurences=10000)\n",
    "\n",
    "    rna_sequence = None\n",
    "    clip_planes = list()\n",
    "    if add_rna:\n",
    "        clip_planes.append([0, 0, -1, 15])\n",
    "        import math\n",
    "        rna_sequence = RNASequence(\n",
    "            source=rna_folder + 'sars-cov-2.rna',\n",
    "            assembly_params=[\n",
    "                11.0, \n",
    "                position_seed + 5, 0.0,\n",
    "                orientation_seed + 6, 0.0,\n",
    "                morphing_step\n",
    "            ],\n",
    "            t_range=Vector2(0, 30.5 * math.pi), \n",
    "            shape=be.RNA_SHAPE_TREFOIL_KNOT,\n",
    "            shape_params=Vector3(1.51, 1.12, 1.93))\n",
    "\n",
    "    coronavirus = Virus(\n",
    "        name=name, protein_s=virus_protein_s, \n",
    "        protein_e=virus_protein_e,\n",
    "        protein_m=virus_protein_m, membrane=virus_membrane,\n",
    "        rna_sequence=rna_sequence,\n",
    "        assembly_params=[\n",
    "            45.0, \n",
    "            4, 0.05,\n",
    "            orientation_seed + 7, 0.5,\n",
    "            morphing_step\n",
    "        ]\n",
    "    )\n",
    "\n",
    "    be.add_virus(\n",
    "        virus=coronavirus, position=position, orientation=orientation,\n",
    "        representation=protein_representation, \n",
    "        atom_radius_multiplier=protein_radius_multiplier,\n",
    "        clipping_planes=clip_planes\n",
    "    )\n",
    "\n",
    "    if add_glycans:\n",
    "        # High-mannose\n",
    "        indices_closed = [61, 122, 234, 603, 709, 717, 801, 1074]\n",
    "        indices_open = [61, 122, 234, 709, 717, 801, 1074]\n",
    "        be.add_multiple_glycans(\n",
    "            assembly_name=name, glycan_type=be.NAME_GLYCAN_HIGH_MANNOSE, \n",
    "            protein_name=be.NAME_PROTEIN_S_CLOSED, paths=high_mannose_paths, \n",
    "            indices=indices_closed, representation=glycan_representation)\n",
    "        be.add_multiple_glycans(\n",
    "            assembly_name=name, glycan_type=be.NAME_GLYCAN_HIGH_MANNOSE, \n",
    "            protein_name=be.NAME_PROTEIN_S_OPEN, paths=high_mannose_paths,\n",
    "            indices=indices_open, representation=glycan_representation)\n",
    "\n",
    "        # Complex\n",
    "        indices_closed = [17, 74, 149, 165, 282, 331,\n",
    "                          343, 616, 657, 1098, 1134, 1158, 1173, 1194]\n",
    "        indices_open = [17, 74, 149, 165, 282, 331, 343, 657, 1098, 1134, 1158, 1173, 1194]\n",
    "        be.add_multiple_glycans(\n",
    "            assembly_name=name, glycan_type=be.NAME_GLYCAN_COMPLEX, \n",
    "            protein_name=be.NAME_PROTEIN_S_CLOSED, paths=complex_paths, \n",
    "            indices=indices_closed,\n",
    "            representation=glycan_representation)\n",
    "        be.add_multiple_glycans(\n",
    "            assembly_name=name, glycan_type=be.NAME_GLYCAN_COMPLEX, \n",
    "            protein_name=be.NAME_PROTEIN_S_OPEN, paths=complex_paths, \n",
    "            indices=indices_open, representation=glycan_representation)\n",
    "\n",
    "        # O-Glycans\n",
    "        for index in [323, 325]:\n",
    "            o_glycan_name = name + '_' + be.NAME_GLYCAN_O_GLYCAN + '_' + str(index)\n",
    "            o_glycan = Sugars(\n",
    "                assembly_name=name, name=o_glycan_name, source=o_glycan_paths[0],\n",
    "                protein_name=name + '_' + be.NAME_PROTEIN_S_CLOSED, \n",
    "                site_indices=[index], representation=glycan_representation)\n",
    "            be.add_sugars(o_glycan)\n",
    "\n",
    "        # High-mannose glycans on Protein M\n",
    "        indices = [5]\n",
    "        high_mannose_glycans = Sugars(\n",
    "            orientation=Quaternion(0.707, 0.0, 0.0, 0.707),\n",
    "            assembly_name=name, name=be.NAME_GLYCAN_HIGH_MANNOSE, \n",
    "            protein_name=name + '_' + be.NAME_PROTEIN_M, source=high_mannose_paths[0], \n",
    "            site_indices=indices,\n",
    "            representation=glycan_representation,\n",
    "            atom_radius_multiplier=glycan_radius_multiplier\n",
    "        )\n",
    "        status = be.add_glycans(high_mannose_glycans)\n",
    "\n",
    "\n",
    "        # Complex glycans on Protein E\n",
    "        indices = [48, 66]\n",
    "        complex_glycans = Sugars(\n",
    "            orientation=Quaternion(0.707, 0.0, 0.0, 0.707),\n",
    "            assembly_name=name, name=be.NAME_GLYCAN_COMPLEX, \n",
    "            protein_name=name + '_' + be.NAME_PROTEIN_E, source=complex_paths[0], \n",
    "            site_indices=indices,\n",
    "            representation=glycan_representation,\n",
    "            atom_radius_multiplier=glycan_radius_multiplier\n",
    "        )\n",
    "        status = be.add_glycans(complex_glycans)\n",
    "        \n",
    "    # Stick defensins to virus\n",
    "    for i in range(nb_defensins_on_virus):\n",
    "        defensin = AssemblyProtein(\n",
    "            assembly_name=name, name=name + '_' + be.NAME_DEFENSIN + '_' + str(i),\n",
    "            source=defensin_path, assembly_params=[0, 0.0, 0, 0.0, 2.0, 0.0], \n",
    "            shape=be.ASSEMBLY_SHAPE_SPHERICAL,\n",
    "            atom_radius_multiplier=protein_radius_multiplier, \n",
    "            representation=protein_representation,\n",
    "            random_seed=100 + i + 1)\n",
    "        be.add_assembly_protein(defensin)"
   ]
  },
  {
   "cell_type": "code",
   "execution_count": 115,
   "metadata": {},
   "outputs": [],
   "source": [
    "def add_cell(random_position_seed, random_orientation_seed):\n",
    "    name='Cell'\n",
    "\n",
    "    '''ACE2 receptor definition'''\n",
    "    ace2_receptor = Protein(\n",
    "        sources=[pdb_folder + '6m18.pdb'],\n",
    "        occurences=1,\n",
    "        position=Vector3(0.0, 6.0, 0.0))\n",
    "\n",
    "    '''Membrane definition'''\n",
    "    membrane_size = scene_size\n",
    "    membrane_height = scene_size / 10.0\n",
    "    membrane = Membrane(\n",
    "        sources=[pdb_folder + 'membrane/popc.pdb'],\n",
    "        occurences=40000)\n",
    "\n",
    "    '''Cell definition'''\n",
    "    cell = Cell(\n",
    "        name=name,\n",
    "        size=membrane_size,\n",
    "        shape=be.ASSEMBLY_SHAPE_SINUSOIDAL,\n",
    "        membrane=membrane, receptor=ace2_receptor,\n",
    "        random_position_seed=random_position_seed,\n",
    "        random_position_strength=scene_size / 500.0,\n",
    "        random_orientation_seed=random_orientation_seed,\n",
    "        random_orientation_strength=0.5,\n",
    "        extra_parameters=[membrane_height]\n",
    "    )\n",
    "\n",
    "    '''Add cell to scene'''\n",
    "    status = be.add_cell(\n",
    "        cell=cell, representation=protein_representation,\n",
    "        atom_radius_multiplier=protein_radius_multiplier,\n",
    "        position=Vector3(0.0, -80.0, 0.0)\n",
    "    )\n",
    "\n",
    "    '''Color scheme'''\n",
    "    be.set_protein_color_scheme(\n",
    "        name, name + '_' + be.NAME_RECEPTOR, \n",
    "        be.COLOR_SCHEME_CHAINS, 'OrRd_r', 7)\n",
    "    \n",
    "    '''Glycans'''\n",
    "    be.add_multiple_glycans(\n",
    "        representation=protein_representation, assembly_name=name, \n",
    "        glycan_type=be.NAME_GLYCAN_COMPLEX,\n",
    "        protein_name=be.NAME_RECEPTOR, paths=complex_paths, \n",
    "        indices=[53, 90, 103, 322, 432, 690])\n",
    "\n",
    "    be.add_multiple_glycans(\n",
    "        representation=protein_representation, assembly_name=name,\n",
    "        glycan_type=be.NAME_GLYCAN_HYBRID,\n",
    "        protein_name=be.NAME_RECEPTOR, paths=hybrid_paths, \n",
    "        indices=[546])\n",
    "\n",
    "    indices = [[164, Quaternion(0.707, 0.0, 0.707, 0.0)],\n",
    "               [739, Quaternion(0.707, 0.0, 0.707, 0.0)]]\n",
    "    for index in indices:\n",
    "        o_glycan_name = name + '_' + be.NAME_GLYCAN_O_GLYCAN + '_' + str(index[0])\n",
    "        o_glycan = Sugars(\n",
    "            assembly_name=name, name=o_glycan_name, \n",
    "            source=o_glycan_paths[0],\n",
    "            protein_name=name + '_' + be.NAME_RECEPTOR, \n",
    "            representation=protein_representation,\n",
    "            chain_ids=[2, 4], site_indices=[index[0]], \n",
    "            orientation=index[1])\n",
    "        be.add_sugars(o_glycan)\n",
    "    return status"
   ]
  },
  {
   "cell_type": "code",
   "execution_count": 116,
   "metadata": {},
   "outputs": [],
   "source": [
    "def add_surfactant_d(name, position, orientation, random_seed):\n",
    "    surfactant_d = Surfactant(\n",
    "        name=name, surfactant_protein=be.SURFACTANT_PROTEIN_D, \n",
    "        head_source=surfactant_head_source,\n",
    "        branch_source=surfactant_branch_source)\n",
    "    be.add_surfactant(\n",
    "        surfactant=surfactant_d, \n",
    "        representation=protein_representation,\n",
    "        atom_radius_multiplier=protein_radius_multiplier,\n",
    "        position=position, orientation=orientation, \n",
    "        random_seed=random_seed)"
   ]
  },
  {
   "cell_type": "code",
   "execution_count": 117,
   "metadata": {},
   "outputs": [],
   "source": [
    "def add_glucose(random_seed, nb_glucoses=14400):\n",
    "    volume_position = Vector3(0.0, scene_size / 2.0 - 80.0, 0.0)\n",
    "    glucose = Protein(\n",
    "        sources=[glucose_path], load_non_polymer_chemicals=True, \n",
    "        occurences=nb_glucoses)\n",
    "    volume = Volume(\n",
    "        name=be.NAME_GLUCOSE, size=scene_size, \n",
    "        protein=glucose,\n",
    "        random_position_seed=random_seed,\n",
    "        random_position_stength=scene_size / 500.0,\n",
    "        random_orientation_seed=random_seed,\n",
    "        random_orientation_stength=0.3\n",
    "    )\n",
    "    return be.add_volume(\n",
    "        volume=volume, \n",
    "        representation=be.REPRESENTATION_ATOMS_AND_STICKS,\n",
    "        atom_radius_multiplier=protein_radius_multiplier,\n",
    "        position=volume_position)"
   ]
  },
  {
   "cell_type": "code",
   "execution_count": 153,
   "metadata": {},
   "outputs": [],
   "source": [
    "'''Coronavirus'''\n",
    "q_c_start = pyQuaterion(0.707, 0.707, 0.0, 0.0)\n",
    "q_c_end = pyQuaterion(1.0, 0.0, 0.0, 0.0)\n",
    "q_c_nb_frames = 200\n",
    "\n",
    "'''Surfactant-D'''\n",
    "q_s_start = pyQuaterion(0.0, 0.0, 0.707,0.707)\n",
    "q_s_end = pyQuaterion(1.0, 0.0, 0.0, 0.0)\n",
    "q_s_nb_frames = 600"
   ]
  },
  {
   "cell_type": "code",
   "execution_count": 120,
   "metadata": {},
   "outputs": [
    {
     "data": {
      "text/plain": [
       "{'contents': 'OK', 'status': True}"
      ]
     },
     "execution_count": 120,
     "metadata": {},
     "output_type": "execute_result"
    }
   ],
   "source": [
    "add_cell(1,2)\n",
    "be.set_models_visibility(True)"
   ]
  },
  {
   "cell_type": "code",
   "execution_count": 162,
   "metadata": {},
   "outputs": [],
   "source": [
    "mm.set_current_frame(1)"
   ]
  },
  {
   "cell_type": "code",
   "execution_count": 201,
   "metadata": {
    "scrolled": false
   },
   "outputs": [
    {
     "name": "stdout",
     "output_type": "stream",
     "text": [
      "Frame 596 out of 601\n"
     ]
    },
    {
     "data": {
      "application/vnd.jupyter.widget-view+json": {
       "model_id": "af33dc3c523845c8acdc7b2b0c9ceac3",
       "version_major": 2,
       "version_minor": 0
      },
      "text/plain": [
       "IntProgress(value=0, max=36)"
      ]
     },
     "metadata": {},
     "output_type": "display_data"
    },
    {
     "data": {
      "application/vnd.jupyter.widget-view+json": {
       "model_id": "b06217ef96ce494c9a909fbc60164cec",
       "version_major": 2,
       "version_minor": 0
      },
      "text/plain": [
       "IntProgress(value=0, description='In progress...')"
      ]
     },
     "metadata": {},
     "output_type": "display_data"
    },
    {
     "data": {
      "text/plain": [
       "True"
      ]
     },
     "execution_count": 201,
     "metadata": {},
     "output_type": "execute_result"
    }
   ],
   "source": [
    "from IPython.display import clear_output\n",
    "\n",
    "name='Coronavirus'\n",
    "output_folder='/home/favreau/Videos/animation/full_scene_binding'\n",
    "nb_frames = mm.get_nb_frames()\n",
    "\n",
    "be.set_general_settings(model_visibility_on_creation=False, off_folder='/tmp')\n",
    "core.set_application_parameters(image_stream_fps=0)\n",
    "\n",
    "for frame in range(1, nb_frames, 5):\n",
    "    clear_output()\n",
    "    print('Frame %i out of %i' % (frame, nb_frames))\n",
    "    \n",
    "    '''Camera'''\n",
    "    if False:\n",
    "        mm.set_current_frame(frame)\n",
    "    \n",
    "    if True:\n",
    "        '''Cell'''\n",
    "        add_cell(frame, frame + 1)\n",
    "    \n",
    "    if True:\n",
    "        '''Coronavirus'''\n",
    "        p = Vector3(-44.25, -1.643, 96.500)\n",
    "        o = q_c_end\n",
    "        if frame <= q_c_nb_frames:\n",
    "            p = Vector3(-44.25, 198.643 - frame, -3.5 + frame / 2.0)\n",
    "            o = pyQuaterion.slerp(q_c_start, q_c_end, (frame + 1) / q_c_nb_frames)\n",
    "        \n",
    "        add_virus(\n",
    "            name=name, position=p, orientation=Quaternion(o[0],o[1],o[2],o[3]),\n",
    "            open_conformation_indices=[1], \n",
    "            position_seed=frame + 1, orientation_seed=frame + 2\n",
    "        )            \n",
    "\n",
    "    if True:\n",
    "        '''Surfactant-D'''\n",
    "        o = pyQuaterion.slerp(\n",
    "            q_s_start, q_s_end, (frame + 1) / q_s_nb_frames)\n",
    "        add_surfactant_d(\n",
    "            name='Surfactant-D 1', random_seed=1,\n",
    "            position=Vector3(\n",
    "                25.0,\n",
    "                18.0 + (nb_frames - frame) / 10.0, \n",
    "                72.0 + (nb_frames - frame / 2.0) / 10.0),\n",
    "            orientation = Quaternion(o[0],o[1],o[2],o[3])\n",
    "        )\n",
    "\n",
    "    if True:\n",
    "        '''Glucose'''\n",
    "        add_glucose(frame)\n",
    "    \n",
    "    '''Materials'''\n",
    "    be.apply_default_color_scheme(\n",
    "        shading_mode=be.SHADING_MODE_BASIC, user_parameter=1)\n",
    "    be.set_models_visibility(True)\n",
    "\n",
    "    if True:\n",
    "        '''Snapshot'''\n",
    "        mm.create_snapshot(\n",
    "            size=[960, 540], samples_per_pixel=32,\n",
    "            path=output_folder + '/%05d.png' % frame)\n",
    "\n",
    "core.set_application_parameters(image_stream_fps=20)"
   ]
  },
  {
   "cell_type": "code",
   "execution_count": null,
   "metadata": {},
   "outputs": [],
   "source": []
  },
  {
   "cell_type": "code",
   "execution_count": null,
   "metadata": {},
   "outputs": [],
   "source": []
  },
  {
   "cell_type": "code",
   "execution_count": null,
   "metadata": {},
   "outputs": [],
   "source": []
  }
 ],
 "metadata": {
  "kernelspec": {
   "display_name": "Python 3",
   "language": "python",
   "name": "python3"
  },
  "language_info": {
   "codemirror_mode": {
    "name": "ipython",
    "version": 3
   },
   "file_extension": ".py",
   "mimetype": "text/x-python",
   "name": "python",
   "nbconvert_exporter": "python",
   "pygments_lexer": "ipython3",
   "version": "3.8.5"
  }
 },
 "nbformat": 4,
 "nbformat_minor": 4
}
