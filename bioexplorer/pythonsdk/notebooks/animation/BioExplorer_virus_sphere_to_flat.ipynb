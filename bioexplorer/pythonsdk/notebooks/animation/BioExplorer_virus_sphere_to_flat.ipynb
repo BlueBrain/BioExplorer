{
 "cells": [
  {
   "cell_type": "markdown",
   "metadata": {},
   "source": [
    "# Blue Brain BioExplorer\n",
    "\n",
    "![](../bioexplorer_banner.png)"
   ]
  },
  {
   "cell_type": "markdown",
   "metadata": {},
   "source": [
    "## Visualization of a Coronavirus"
   ]
  },
  {
   "cell_type": "code",
   "execution_count": null,
   "metadata": {},
   "outputs": [],
   "source": [
    "from bioexplorer import BioExplorer, MovieMaker\n",
    "be = BioExplorer()\n",
    "core = be.core_api()\n",
    "be.reset()\n",
    "print(be.version())"
   ]
  },
  {
   "cell_type": "markdown",
   "metadata": {},
   "source": [
    "## Resources"
   ]
  },
  {
   "cell_type": "code",
   "execution_count": null,
   "metadata": {
    "scrolled": true
   },
   "outputs": [],
   "source": [
    "resource_folder = '../../tests/test_files/'\n",
    "pdb_folder = resource_folder + 'pdb/'\n",
    "\n",
    "glycan_folder = pdb_folder + 'glycans/'\n",
    "complex_paths = [glycan_folder + 'complex/5.pdb', glycan_folder + 'complex/15.pdb',\n",
    "                 glycan_folder + 'complex/25.pdb',glycan_folder + 'complex/35.pdb']\n",
    "high_mannose_paths = [glycan_folder + 'high-mannose/1.pdb', \n",
    "                      glycan_folder + 'high-mannose/2.pdb',\n",
    "                      glycan_folder + 'high-mannose/3.pdb',\n",
    "                      glycan_folder + 'high-mannose/4.pdb']\n",
    "hybrid_paths = [glycan_folder + 'hybrid/20.pdb']\n",
    "o_glycan_paths = [glycan_folder + 'o-glycan/1.pdb']"
   ]
  },
  {
   "cell_type": "code",
   "execution_count": null,
   "metadata": {},
   "outputs": [],
   "source": [
    "status = core.set_camera(\n",
    "    orientation=[0.0, 0.0, 0.0, 1.0],\n",
    "    position=[-2.318, -1.736, 182.840],\n",
    "    target=[-2.318, -1.736, 8.912]\n",
    ")"
   ]
  },
  {
   "cell_type": "code",
   "execution_count": null,
   "metadata": {},
   "outputs": [],
   "source": [
    "status = be.set_rendering_quality(be.RENDERING_QUALITY_HIGH)"
   ]
  },
  {
   "cell_type": "code",
   "execution_count": null,
   "metadata": {},
   "outputs": [],
   "source": [
    "# Proteins\n",
    "protein_radius_multiplier = 1.0\n",
    "protein_representation = be.REPRESENTATION_ATOMS"
   ]
  },
  {
   "cell_type": "code",
   "execution_count": null,
   "metadata": {},
   "outputs": [],
   "source": [
    "def add_virus(random_position_seed, random_rotation_seed, morphing_step):\n",
    "    be.add_coronavirus(\n",
    "        name='Coronavirus', resource_folder=resource_folder,\n",
    "        atom_radius_multiplier=protein_radius_multiplier,\n",
    "        representation=protein_representation,\n",
    "        add_glycans=True,\n",
    "        assembly_params=[\n",
    "            45.0, 0.0, 0.0,\n",
    "            random_position_seed, 1.0,\n",
    "            random_rotation_seed + 1, 0.6,\n",
    "            morphing_step\n",
    "        ]\n",
    "    )"
   ]
  },
  {
   "cell_type": "code",
   "execution_count": null,
   "metadata": {
    "scrolled": true
   },
   "outputs": [],
   "source": [
    "from IPython.display import clear_output\n",
    "\n",
    "mm = MovieMaker(be)\n",
    "output_folder = '/tmp'\n",
    "be.set_general_settings(\n",
    "    model_visibility_on_creation=False, off_folder='/tmp/')\n",
    "nb_frames = 100\n",
    "\n",
    "for frame in range(nb_frames):\n",
    "    clear_output()\n",
    "    core.set_application_parameters(image_stream_fps=0)\n",
    "    print('Frame %d' % frame)\n",
    "    \n",
    "    '''Virus'''\n",
    "    add_virus(\n",
    "        5 * frame + 1, frame + 2,\n",
    "        float(frame) / float(nb_frames)\n",
    "    )\n",
    "\n",
    "    '''Materials'''\n",
    "    be.apply_default_color_scheme(\n",
    "        shading_mode=be.SHADING_MODE_BASIC, user_parameter=1)\n",
    "    be.set_models_visibility(True)\n",
    "    \n",
    "    '''Snapshot'''\n",
    "    mm.create_snapshot(\n",
    "        renderer='bio_explorer',\n",
    "        size=[540, 540], samples_per_pixel=64,\n",
    "        path=output_folder, base_name='%05d' % frame)\n",
    "        \n",
    "status = core.set_application_parameters(image_stream_fps=20)"
   ]
  }
 ],
 "metadata": {
  "kernelspec": {
   "display_name": "Python 3",
   "language": "python",
   "name": "python3"
  },
  "language_info": {
   "codemirror_mode": {
    "name": "ipython",
    "version": 3
   },
   "file_extension": ".py",
   "mimetype": "text/x-python",
   "name": "python",
   "nbconvert_exporter": "python",
   "pygments_lexer": "ipython3",
   "version": "3.8.10"
  }
 },
 "nbformat": 4,
 "nbformat_minor": 4
}
