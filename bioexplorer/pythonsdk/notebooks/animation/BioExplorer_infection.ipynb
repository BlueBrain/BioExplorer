{
 "cells": [
  {
   "cell_type": "markdown",
   "metadata": {},
   "source": [
    "# Blue Brain BioExplorer\n",
    "\n",
    "![](../bioexplorer_banner.png)"
   ]
  },
  {
   "cell_type": "markdown",
   "metadata": {},
   "source": [
    "## Visualization of many Coronaviruses"
   ]
  },
  {
   "cell_type": "code",
   "execution_count": null,
   "metadata": {
    "scrolled": false
   },
   "outputs": [],
   "source": [
    "from bioexplorer import BioExplorer, Vector3, Quaternion\n",
    "be = BioExplorer('localhost:5000')\n",
    "core = be.core_api()\n",
    "be.reset()\n",
    "print(be.version())"
   ]
  },
  {
   "cell_type": "code",
   "execution_count": null,
   "metadata": {},
   "outputs": [],
   "source": [
    "'''Setting the visibility of models to False speeds up the loading'''\n",
    "status = be.set_general_settings(model_visibility_on_creation=False)"
   ]
  },
  {
   "cell_type": "code",
   "execution_count": null,
   "metadata": {
    "scrolled": true
   },
   "outputs": [],
   "source": [
    "resource_folder = '../../tests/test_files/'\n",
    "pdb_folder = resource_folder + 'pdb/'\n",
    "membrane_folder = pdb_folder + 'membrane/'"
   ]
  },
  {
   "cell_type": "markdown",
   "metadata": {},
   "source": [
    "### Positions, orientations, and radii of viruses"
   ]
  },
  {
   "cell_type": "code",
   "execution_count": null,
   "metadata": {},
   "outputs": [],
   "source": [
    "import random\n",
    "import math\n",
    "\n",
    "scene_size = Vector3(600, 600, 600)\n",
    "nb_viruses = 3\n",
    "default_radius = 60.0\n",
    "\n",
    "positions = list()\n",
    "orientations = list()\n",
    "radii = list()\n",
    "\n",
    "def vector3_length(v):\n",
    "    return math.sqrt(v.x*v.x + v.y*v.y + v.z*v.z);\n",
    "\n",
    "positions.append(Vector3(-250.0, -150.0, -70.0))\n",
    "positions.append(Vector3(-50.0, -150.0, 250.0))\n",
    "positions.append(Vector3(150.0, -150.0, 50.0))\n",
    "positions.append(Vector3(40.0, -150.0, -50.0))\n",
    "positions.append(Vector3(60.0, -150.0, -240.0))\n",
    "positions.append(Vector3(200.0, -150.0, 300.0))\n",
    "\n",
    "\n",
    "for i in range(nb_viruses):\n",
    "    ok = False\n",
    "    while not ok:\n",
    "        '''Check for collisions'''\n",
    "        p1 = Vector3(\n",
    "                random.random() * scene_size.x * 2 - scene_size.x,\n",
    "                random.random() * scene_size.y - 186.0 + default_radius,\n",
    "                random.random() * scene_size.z * 2 - scene_size.z)\n",
    "        for p2 in positions:\n",
    "            p = Vector3(p2.x-p1.x, p2.y-p1.y, p2.z-p1.z)\n",
    "            if vector3_length(p) > 2.0 * default_radius:\n",
    "                ok = True\n",
    "                break\n",
    "    \n",
    "    positions.append(p1)\n",
    "    orientations.append(Quaternion.random())\n",
    "    radii.append(45 + random.random() * 10.0 - 5.0)"
   ]
  },
  {
   "cell_type": "markdown",
   "metadata": {},
   "source": [
    "### Coronaviruses"
   ]
  },
  {
   "cell_type": "code",
   "execution_count": null,
   "metadata": {
    "scrolled": false
   },
   "outputs": [],
   "source": [
    "from IPython.display import clear_output\n",
    "for i in range(nb_viruses):\n",
    "    clear_output()\n",
    "    name='Coronavirus%05d' % i\n",
    "    print(name)\n",
    "    position = positions[i]\n",
    "    o = orientations[i]\n",
    "    rotation = Quaternion(o[0], o[1], o[2], o[3])\n",
    "    radius = radii[i]\n",
    "    \n",
    "    be.add_coronavirus(\n",
    "        name=name, resource_folder=resource_folder,\n",
    "        assembly_params=[45.0, 0.0, 0.0, i, 0.025, i + 1, 0.4, 0.0],\n",
    "        representation=be.REPRESENTATION_ATOMS_AND_STICKS,\n",
    "        position=position, rotation=rotation,\n",
    "        add_glycans=True)"
   ]
  },
  {
   "cell_type": "code",
   "execution_count": null,
   "metadata": {},
   "outputs": [],
   "source": [
    "status = be.apply_default_color_scheme(\n",
    "    shading_mode=be.SHADING_MODE_DIFFUSE,\n",
    "    specular_exponent=50.0)"
   ]
  },
  {
   "cell_type": "code",
   "execution_count": null,
   "metadata": {},
   "outputs": [],
   "source": [
    "'''Now we can show the loaded data'''\n",
    "status = be.set_models_visibility(True)"
   ]
  },
  {
   "cell_type": "markdown",
   "metadata": {},
   "source": [
    "## Rendering settings"
   ]
  },
  {
   "cell_type": "code",
   "execution_count": null,
   "metadata": {},
   "outputs": [],
   "source": [
    "status = core.set_camera(\n",
    "    orientation=[0.0, 0.0, 0.0, 1.0],\n",
    "    position=[-100, 186, 654],\n",
    "    target=[-100, 186, 37]    \n",
    ")"
   ]
  },
  {
   "cell_type": "code",
   "execution_count": null,
   "metadata": {},
   "outputs": [],
   "source": [
    "status = be.set_rendering_quality(be.RENDERING_QUALITY_HIGH)"
   ]
  }
 ],
 "metadata": {
  "kernelspec": {
   "display_name": "Python 3",
   "language": "python",
   "name": "python3"
  },
  "language_info": {
   "codemirror_mode": {
    "name": "ipython",
    "version": 3
   },
   "file_extension": ".py",
   "mimetype": "text/x-python",
   "name": "python",
   "nbconvert_exporter": "python",
   "pygments_lexer": "ipython3",
   "version": "3.8.10"
  }
 },
 "nbformat": 4,
 "nbformat_minor": 4
}
