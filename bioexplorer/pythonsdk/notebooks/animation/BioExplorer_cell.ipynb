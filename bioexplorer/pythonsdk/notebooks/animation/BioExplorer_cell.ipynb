{
 "cells": [
  {
   "cell_type": "markdown",
   "metadata": {},
   "source": [
    "# Blue Brain BioExplorer\n",
    "\n",
    "![](../bioexplorer_banner.png)"
   ]
  },
  {
   "cell_type": "markdown",
   "metadata": {},
   "source": [
    "## Simplest script to create a visualization of a cell"
   ]
  },
  {
   "cell_type": "code",
   "execution_count": null,
   "metadata": {},
   "outputs": [],
   "source": [
    "from bioexplorer import BioExplorer, Protein, Membrane, Cell, Vector2, Vector3, Quaternion\n",
    "be = BioExplorer('localhost:5000')\n",
    "core = be.core_api()\n",
    "status = be.reset()"
   ]
  },
  {
   "cell_type": "code",
   "execution_count": null,
   "metadata": {},
   "outputs": [],
   "source": [
    "def add_cell(position_random_seed, orientation_randon_seed):\n",
    "    \n",
    "    core.set_application_parameters(image_stream_fps=0)\n",
    "    representation=be.REPRESENTATION_ATOMS_AND_STICKS\n",
    "\n",
    "    # Resources\n",
    "    resource_folder = '../../tests/test_files/'\n",
    "    pdb_folder = resource_folder + 'pdb/'\n",
    "    membrane_folder = pdb_folder + 'membrane/'\n",
    "\n",
    "    # ACE2 receptor definition\n",
    "    ace2_receptor = Protein(\n",
    "        sources=[pdb_folder + '6m18.pdb'],\n",
    "        occurences=8,\n",
    "        position=Vector3(0.0, 6.0, 0.0),\n",
    "        rotation=Quaternion(0.0, 1.0, 0.0, 0.0)\n",
    "    )\n",
    "\n",
    "    # Membrane definition\n",
    "    membrane_size = 800.0\n",
    "    membrane_amplitude = 80.0 # For sinusoidal shape only\n",
    "    membrane = Membrane(\n",
    "        sources=[\n",
    "            membrane_folder + 'segA.pdb',\n",
    "            membrane_folder + 'segB.pdb',\n",
    "            membrane_folder + 'segC.pdb',\n",
    "            membrane_folder + 'segD.pdb'\n",
    "        ],\n",
    "        occurences=200000)\n",
    "\n",
    "    # Cell definition\n",
    "    cell = Cell(\n",
    "        name='Cell',size=membrane_size,\n",
    "        shape=be.ASSEMBLY_SHAPE_SINUSOIDAL,\n",
    "        membrane=membrane, receptor=ace2_receptor,\n",
    "        random_position_strength=2.0,\n",
    "        random_position_seed=position_random_seed,\n",
    "        random_rotation_strength=0.5,\n",
    "        random_rotation_seed=orientation_randon_seed,\n",
    "        extra_parameters=[membrane_amplitude]\n",
    "    )\n",
    "\n",
    "    # Add cell to scene\n",
    "    be.add_cell(cell=cell, representation=representation)\n",
    "    \n",
    "    # Materials\n",
    "    be.apply_default_color_scheme(be.SHADING_MODE_DIFFUSE)\n",
    "    \n",
    "    be.set_models_visibility(True)\n",
    "    core.set_application_parameters(image_stream_fps=20)"
   ]
  },
  {
   "cell_type": "code",
   "execution_count": null,
   "metadata": {},
   "outputs": [],
   "source": [
    "add_cell(0, 0)"
   ]
  },
  {
   "cell_type": "code",
   "execution_count": null,
   "metadata": {},
   "outputs": [],
   "source": [
    "status = core.set_camera(\n",
    "    orientation=[-0.085, 0.340, 0.022, 0.936],\n",
    "    position=[461.372, 55.791, 480.118],\n",
    "    target=[23.322, -65.160, -40.892]\n",
    ")"
   ]
  },
  {
   "cell_type": "code",
   "execution_count": null,
   "metadata": {},
   "outputs": [],
   "source": [
    "status = be.set_rendering_quality(be.RENDERING_QUALITY_HIGH)"
   ]
  },
  {
   "cell_type": "code",
   "execution_count": null,
   "metadata": {},
   "outputs": [],
   "source": [
    "from mediamaker import MovieMaker\n",
    "from IPython.display import clear_output\n",
    "\n",
    "mm = MovieMaker(be)\n",
    "output_folder = '/tmp'\n",
    "\n",
    "for frame in range(1, 20):\n",
    "    clear_output()\n",
    "    print('Frame %i' % frame)\n",
    "\n",
    "    '''Cell'''\n",
    "    add_cell(frame + 1, frame + 2)\n",
    "    \n",
    "    '''Snapshot'''\n",
    "    mm.create_snapshot(\n",
    "        size=[256, 256], samples_per_pixel=64,\n",
    "        path=output_folder + '/%05d.png' % frame)"
   ]
  }
 ],
 "metadata": {
  "kernelspec": {
   "display_name": "Python 3",
   "language": "python",
   "name": "python3"
  },
  "language_info": {
   "codemirror_mode": {
    "name": "ipython",
    "version": 3
   },
   "file_extension": ".py",
   "mimetype": "text/x-python",
   "name": "python",
   "nbconvert_exporter": "python",
   "pygments_lexer": "ipython3",
   "version": "3.8.5"
  }
 },
 "nbformat": 4,
 "nbformat_minor": 4
}
