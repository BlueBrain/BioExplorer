{
 "cells": [
  {
   "cell_type": "markdown",
   "metadata": {},
   "source": [
    "# Blue Brain BioExplorer\n",
    "\n",
    "![](../bioexplorer_banner.png)"
   ]
  },
  {
   "cell_type": "code",
   "execution_count": null,
   "metadata": {
    "scrolled": true
   },
   "outputs": [],
   "source": [
    "from bioexplorer import BioExplorer, Protein, AssemblyProtein, Membrane, Virus, \\\n",
    "                        Sugars, Vector2, Vector3, Quaternion\n",
    "be = BioExplorer('localhost:5000')\n",
    "core = be.core_api()"
   ]
  },
  {
   "cell_type": "code",
   "execution_count": null,
   "metadata": {},
   "outputs": [],
   "source": [
    "status = be.reset()"
   ]
  },
  {
   "cell_type": "markdown",
   "metadata": {},
   "source": [
    "### Resources"
   ]
  },
  {
   "cell_type": "code",
   "execution_count": null,
   "metadata": {},
   "outputs": [],
   "source": [
    "resource_folder = '../../tests/test_files/'\n",
    "pdb_folder = resource_folder + 'pdb/'\n",
    "glycan_folder = pdb_folder + 'glycans/'\n",
    "\n",
    "complex_paths = [glycan_folder + 'complex/33.pdb', glycan_folder + 'complex/34.pdb',\n",
    "                 glycan_folder + 'complex/35.pdb',glycan_folder + 'complex/36.pdb']\n",
    "high_mannose_paths = [glycan_folder + 'high-mannose/1.pdb', \n",
    "                      glycan_folder + 'high-mannose/2.pdb',\n",
    "                      glycan_folder + 'high-mannose/3.pdb',\n",
    "                      glycan_folder + 'high-mannose/4.pdb']\n",
    "hybrid_paths = [glycan_folder + 'hybrid/24.pdb']\n",
    "o_glycan_paths = [glycan_folder + 'o-glycan/12.pdb']"
   ]
  },
  {
   "cell_type": "markdown",
   "metadata": {},
   "source": [
    "### Configuration"
   ]
  },
  {
   "cell_type": "code",
   "execution_count": null,
   "metadata": {},
   "outputs": [],
   "source": [
    "# Proteins\n",
    "protein_radius_multiplier = 1.0\n",
    "protein_representation = be.REPRESENTATION_ATOMS\n",
    "protein_load_hydrogen = False\n",
    "\n",
    "# Viruses\n",
    "nb_protein_s = 62\n",
    "nb_protein_e = 42\n",
    "nb_protein_m = 50\n",
    "add_rna = False\n",
    "\n",
    "# Glycans\n",
    "add_glycans = True\n",
    "glycan_radius_multiplier = 1.0\n",
    "glycan_representation = be.REPRESENTATION_ATOMS_AND_STICKS"
   ]
  },
  {
   "cell_type": "markdown",
   "metadata": {},
   "source": [
    "## Camera"
   ]
  },
  {
   "cell_type": "code",
   "execution_count": null,
   "metadata": {},
   "outputs": [],
   "source": [
    "status = be.core_api().set_camera(\n",
    "    orientation=[-0.2490159598361429, 0.278924132285937, -0.031108605002474303,  0.926943706419231],\n",
    "    position=[106.94343252645696, 90.75589800549, 155.9692706943393],\n",
    "    target=[-23.94500293334849, -18.433590036060252, -21.072285585803407]\n",
    ")"
   ]
  },
  {
   "cell_type": "markdown",
   "metadata": {},
   "source": [
    "## Scene description"
   ]
  },
  {
   "cell_type": "markdown",
   "metadata": {},
   "source": [
    "### Coronavirus"
   ]
  },
  {
   "cell_type": "code",
   "execution_count": null,
   "metadata": {
    "scrolled": true
   },
   "outputs": [],
   "source": [
    "def add_virus(\n",
    "    name, position, position_seed=1, rotation_seed=2, \n",
    "    rotation=Quaternion(), open_conformation_indices=list(), \n",
    "    morphing_step=0.0):\n",
    "    \n",
    "    core.set_application_parameters(image_stream_fps=0)\n",
    "    closed_conformation_indices = list()\n",
    "    for i in range(nb_protein_s):\n",
    "        if i not in open_conformation_indices:\n",
    "            closed_conformation_indices.append(i)\n",
    "\n",
    "    virus_protein_s = Protein(\n",
    "        sources=[\n",
    "            pdb_folder + '6vyb.pdb',  # Open conformation\n",
    "            pdb_folder + 'sars-cov-2-v1.pdb'  # Closed conformation\n",
    "        ],\n",
    "        load_hydrogen=protein_load_hydrogen, occurences=nb_protein_s, \n",
    "        assembly_params=[\n",
    "            11.5,\n",
    "            position_seed, 0.0,\n",
    "            rotation_seed, 0.1,\n",
    "            morphing_step\n",
    "        ],\n",
    "        cutoff_angle=0.999,\n",
    "        rotation=Quaternion(0.0, 1.0, 0.0, 0.0),\n",
    "        instance_indices=[\n",
    "            open_conformation_indices, \n",
    "            closed_conformation_indices\n",
    "        ])\n",
    "\n",
    "    virus_protein_m = Protein(\n",
    "        sources=[pdb_folder + 'QHD43419a.pdb'], load_hydrogen=protein_load_hydrogen,\n",
    "        occurences=nb_protein_m, \n",
    "        assembly_params=[\n",
    "            2.5,\n",
    "            1, 0.1,\n",
    "            rotation_seed + 1, 0.3,\n",
    "            morphing_step\n",
    "        ],\n",
    "        cutoff_angle=0.999,\n",
    "        rotation=Quaternion(0.99, 0.0, 0.0, 0.135))\n",
    "\n",
    "    virus_protein_e = Protein(\n",
    "        sources=[pdb_folder + 'QHD43418a.pdb'], load_hydrogen=protein_load_hydrogen, \n",
    "        occurences=nb_protein_e, \n",
    "        assembly_params=[\n",
    "            3.0,\n",
    "            3, 0.1,\n",
    "            rotation_seed + 2, 0.3,\n",
    "            morphing_step\n",
    "        ],\n",
    "        cutoff_angle=0.9999, \n",
    "        rotation=Quaternion(0.705, 0.705, -0.04, -0.04))\n",
    "\n",
    "    virus_membrane = Membrane(\n",
    "        sources=[pdb_folder + 'membrane/popc.pdb'],\n",
    "        occurences=12000)\n",
    "\n",
    "    rna_sequence = None\n",
    "    clip_planes = list()\n",
    "    if add_rna:\n",
    "        clip_planes.append([0, 0, -1, 15])\n",
    "        import math\n",
    "        rna_sequence = RNASequence(\n",
    "            source=rna_folder + 'sars-cov-2.rna',\n",
    "            assembly_params=[\n",
    "                11.0, \n",
    "                position_seed + 3, 0.0,\n",
    "                rotation_seed + 4, 0.0,\n",
    "                morphing_step\n",
    "            ],\n",
    "            t_range=Vector2(0, 30.5 * math.pi), \n",
    "            shape=be.RNA_SHAPE_TREFOIL_KNOT,\n",
    "            shape_params=Vector3(1.51, 1.12, 1.93))\n",
    "\n",
    "    coronavirus = Virus(\n",
    "        name=name, protein_s=virus_protein_s, \n",
    "        protein_e=virus_protein_e,\n",
    "        protein_m=virus_protein_m, membrane=virus_membrane,\n",
    "        rna_sequence=rna_sequence,\n",
    "        assembly_params=[\n",
    "            45.0, \n",
    "            position_seed + 5, 0.025,\n",
    "            rotation_seed + 6, 0.4,\n",
    "            morphing_step\n",
    "        ]\n",
    "    )\n",
    "\n",
    "    be.add_virus(\n",
    "        virus=coronavirus, position=position, rotation=rotation,\n",
    "        representation=protein_representation, \n",
    "        atom_radius_multiplier=protein_radius_multiplier,\n",
    "        clipping_planes=clip_planes\n",
    "    )\n",
    "\n",
    "    if add_glycans:\n",
    "        # High-mannose\n",
    "        indices_closed = [61, 122, 234, 603, 709, 717, 801, 1074]\n",
    "        indices_open = [61, 122, 234, 709, 717, 801, 1074]\n",
    "        be.add_multiple_glycans(\n",
    "            assembly_name=name, glycan_type=be.NAME_GLYCAN_HIGH_MANNOSE, \n",
    "            protein_name=be.NAME_PROTEIN_S_CLOSED, paths=high_mannose_paths, \n",
    "            indices=indices_closed, representation=glycan_representation)\n",
    "        be.add_multiple_glycans(\n",
    "            assembly_name=name, glycan_type=be.NAME_GLYCAN_HIGH_MANNOSE, \n",
    "            protein_name=be.NAME_PROTEIN_S_OPEN, paths=high_mannose_paths,\n",
    "            indices=indices_open, representation=glycan_representation)\n",
    "\n",
    "        # Complex\n",
    "        indices_closed = [17, 74, 149, 165, 282, 331,\n",
    "                          343, 616, 657, 1098, 1134, 1158, 1173, 1194]\n",
    "        indices_open = [17, 74, 149, 165, 282, 331, 343, 657, 1098, 1134, 1158, 1173, 1194]\n",
    "        be.add_multiple_glycans(\n",
    "            assembly_name=name, glycan_type=be.NAME_GLYCAN_COMPLEX, \n",
    "            protein_name=be.NAME_PROTEIN_S_CLOSED, paths=complex_paths, \n",
    "            indices=indices_closed,\n",
    "            representation=glycan_representation)\n",
    "        be.add_multiple_glycans(\n",
    "            assembly_name=name, glycan_type=be.NAME_GLYCAN_COMPLEX, \n",
    "            protein_name=be.NAME_PROTEIN_S_OPEN, paths=complex_paths, \n",
    "            indices=indices_open, representation=glycan_representation)\n",
    "\n",
    "        # O-Glycans\n",
    "        for index in [323, 325]:\n",
    "            o_glycan_name = name + '_' + be.NAME_GLYCAN_O_GLYCAN + '_' + str(index)\n",
    "            o_glycan = Sugars(\n",
    "                assembly_name=name, name=o_glycan_name, source=o_glycan_paths[0],\n",
    "                protein_name=name + '_' + be.NAME_PROTEIN_S_CLOSED, \n",
    "                site_indices=[index], representation=glycan_representation)\n",
    "            be.add_sugars(o_glycan)\n",
    "\n",
    "        # High-mannose glycans on Protein M\n",
    "        indices = [5]\n",
    "        high_mannose_glycans = Sugars(\n",
    "            rotation=Quaternion(0.707, 0.0, 0.0, 0.707),\n",
    "            assembly_name=name, name=be.NAME_GLYCAN_HIGH_MANNOSE, \n",
    "            protein_name=name + '_' + be.NAME_PROTEIN_M, source=high_mannose_paths[0], \n",
    "            site_indices=indices,\n",
    "            representation=glycan_representation,\n",
    "            atom_radius_multiplier=glycan_radius_multiplier\n",
    "        )\n",
    "        status = be.add_glycans(high_mannose_glycans)\n",
    "\n",
    "\n",
    "        # Complex glycans on Protein E\n",
    "        indices = [48, 66]\n",
    "        complex_glycans = Sugars(\n",
    "            rotation=Quaternion(0.707, 0.0, 0.0, 0.707),\n",
    "            assembly_name=name, name=be.NAME_GLYCAN_COMPLEX, \n",
    "            protein_name=name + '_' + be.NAME_PROTEIN_E, source=complex_paths[0], \n",
    "            site_indices=indices,\n",
    "            representation=glycan_representation,\n",
    "            atom_radius_multiplier=glycan_radius_multiplier\n",
    "        )\n",
    "        status = be.add_glycans(complex_glycans)\n",
    "        \n",
    "    be.apply_default_color_scheme(shading_mode=be.SHADING_MODE_BASIC)\n",
    "    be.set_models_visibility(True)\n",
    "    core.set_application_parameters(image_stream_fps=20)    "
   ]
  },
  {
   "cell_type": "code",
   "execution_count": null,
   "metadata": {
    "scrolled": true
   },
   "outputs": [],
   "source": [
    "add_virus(\n",
    "    name='Coronavirus 1', position=Vector3(), \n",
    "    open_conformation_indices=[1], \n",
    "    position_seed=5, rotation_seed=2\n",
    ")"
   ]
  },
  {
   "cell_type": "markdown",
   "metadata": {},
   "source": [
    "## Rendering settings"
   ]
  },
  {
   "cell_type": "code",
   "execution_count": null,
   "metadata": {},
   "outputs": [],
   "source": [
    "be.core_api().set_renderer(\n",
    "    background_color=[96 / 255, 125 / 255, 139 / 255],\n",
    "    current='bio_explorer',\n",
    "    samples_per_pixel=1, subsampling=4, max_accum_frames=64)\n",
    "params = be.core_api().BioExplorerRendererParams()\n",
    "params.gi_samples = 1\n",
    "params.gi_weight = 0.3\n",
    "params.gi_distance = 500\n",
    "params.shadows = 1\n",
    "params.soft_shadows = 0.2\n",
    "params.fog_start = 400\n",
    "params.fog_thickness = 250\n",
    "params.max_bounces = 1\n",
    "status = be.core_api().set_renderer_params(params)"
   ]
  },
  {
   "cell_type": "markdown",
   "metadata": {},
   "source": [
    "## Animation"
   ]
  },
  {
   "cell_type": "code",
   "execution_count": null,
   "metadata": {
    "scrolled": true
   },
   "outputs": [],
   "source": [
    "from braynsmediamaker import MovieMaker\n",
    "from IPython.display import clear_output\n",
    "\n",
    "mm = MovieMaker(core)\n",
    "output_folder = '/tmp'\n",
    "\n",
    "for frame in range(1, 20):\n",
    "    clear_output()\n",
    "    print('Frame %d' % frame)\n",
    "    add_virus(\n",
    "        name='Coronavirus 1', position=Vector3(), \n",
    "        open_conformation_indices=[1], \n",
    "        position_seed=5 * frame + 1, rotation_seed=frame + 2\n",
    "    )\n",
    "    if True:\n",
    "        '''Snapshot'''\n",
    "        mm.create_snapshot(\n",
    "            size=[540, 540], samples_per_pixel=16,\n",
    "            path=output_folder + '/%05d.png' % frame)"
   ]
  }
 ],
 "metadata": {
  "kernelspec": {
   "display_name": "Python 3",
   "language": "python",
   "name": "python3"
  },
  "language_info": {
   "codemirror_mode": {
    "name": "ipython",
    "version": 3
   },
   "file_extension": ".py",
   "mimetype": "text/x-python",
   "name": "python",
   "nbconvert_exporter": "python",
   "pygments_lexer": "ipython3",
   "version": "3.8.5"
  }
 },
 "nbformat": 4,
 "nbformat_minor": 4
}
