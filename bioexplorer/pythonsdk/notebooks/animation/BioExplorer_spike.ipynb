{
 "cells": [
  {
   "cell_type": "markdown",
   "metadata": {},
   "source": [
    "# Blue Brain BioExplorer\n",
    "\n",
    "![](../bioexplorer_banner.png)"
   ]
  },
  {
   "cell_type": "markdown",
   "metadata": {},
   "source": [
    "## Simplest script to create a visualization of an animated spike"
   ]
  },
  {
   "cell_type": "code",
   "execution_count": null,
   "metadata": {},
   "outputs": [],
   "source": [
    "from bioexplorer import BioExplorer, MovieMaker, Protein, Sugars, Quaternion\n",
    "uri = 'localhost:5000'\n",
    "be = BioExplorer(uri)\n",
    "core = be.core_api()\n",
    "be.reset()\n",
    "print(be.version())"
   ]
  },
  {
   "cell_type": "code",
   "execution_count": null,
   "metadata": {},
   "outputs": [],
   "source": [
    "'''Resources'''\n",
    "resource_folder = '../../tests/test_files/'\n",
    "pdb_folder = resource_folder + 'pdb/'\n",
    "complex_folder = resource_folder + 'pdb/glycans/complex/'\n",
    "\n",
    "protein_representation = BioExplorer.REPRESENTATION_ATOMS_AND_STICKS\n",
    "protein_radius_multiplier = 1.0\n",
    "glycan_representation = BioExplorer.REPRESENTATION_ATOMS_AND_STICKS\n",
    "glycan_radius_multiplier = 1.0\n",
    "\n",
    "glycan_folder = pdb_folder + 'glycans/'\n",
    "complex_paths = [glycan_folder + 'complex/33.pdb', glycan_folder + 'complex/34.pdb',\n",
    "                 glycan_folder + 'complex/35.pdb',glycan_folder + 'complex/36.pdb']\n",
    "high_mannose_paths = [glycan_folder + 'high-mannose/1.pdb', \n",
    "                      glycan_folder + 'high-mannose/2.pdb',\n",
    "                      glycan_folder + 'high-mannose/3.pdb',\n",
    "                      glycan_folder + 'high-mannose/4.pdb']\n",
    "hybrid_paths = [glycan_folder + 'hybrid/24.pdb']\n",
    "o_glycan_paths = [glycan_folder + 'o-glycan/12.pdb']"
   ]
  },
  {
   "cell_type": "code",
   "execution_count": null,
   "metadata": {},
   "outputs": [],
   "source": [
    "'''Default side view'''\n",
    "status = be.core_api().set_camera(\n",
    "    orientation=[0.707, 0, -0.707, 0.0],\n",
    "    position=[-26.348, 0.172, 0.620],\n",
    "    target=[-2.728, 0.172, 0.620]\n",
    ")"
   ]
  },
  {
   "cell_type": "code",
   "execution_count": null,
   "metadata": {},
   "outputs": [],
   "source": [
    "def add_spike(orientation_randon_seed, open_spike=False):\n",
    "    \n",
    "    core.set_application_parameters(image_stream_fps=0)\n",
    "\n",
    "    '''Protein'''\n",
    "    source = pdb_folder + 'sars-cov-2-v1.pdb'\n",
    "    if open_spike:\n",
    "        source = pdb_folder + '6vyb.pdb'\n",
    "\n",
    "    spike = Protein(\n",
    "        sources=[source],\n",
    "        load_hydrogen=False,\n",
    "        load_non_polymer_chemicals=False,\n",
    "    )\n",
    "\n",
    "    name = be.NAME_PROTEIN_S_CLOSED\n",
    "    if open_spike:\n",
    "        name = be.NAME_PROTEIN_S_OPEN\n",
    "        \n",
    "    status = be.add_protein(\n",
    "        name=name, protein=spike,\n",
    "        atom_radius_multiplier=protein_radius_multiplier,\n",
    "        representation=protein_representation,\n",
    "    )\n",
    "    \n",
    "    '''High-mannose'''\n",
    "    indices = [61, 122, 234, 603, 709, 717, 801, 1074]\n",
    "\n",
    "    high_mannose_glycans = Sugars(\n",
    "        rotation=Quaternion(0.707, 0.0, 0.0, 0.707),\n",
    "        assembly_name=name, name=be.NAME_GLYCAN_HIGH_MANNOSE, \n",
    "        protein_name=name, source=high_mannose_paths[0], \n",
    "        site_indices=indices,\n",
    "        representation=glycan_representation,\n",
    "        atom_radius_multiplier=glycan_radius_multiplier,\n",
    "        assembly_params=[0, 0, 0.0, orientation_randon_seed, 0.1]\n",
    "    )\n",
    "    status = be.add_glycans(high_mannose_glycans)\n",
    "    \n",
    "    '''O-Glycans'''\n",
    "    protein_name = be.NAME_PROTEIN_S_CLOSED\n",
    "    if open_spike:\n",
    "        protein_name = be.NAME_PROTEIN_S_OPEN\n",
    "\n",
    "    for index in [323, 325]:\n",
    "        o_glycan_name = name + '_' + be.NAME_GLYCAN_O_GLYCAN + '_' + str(index)\n",
    "        o_glycan = Sugars(\n",
    "            assembly_name=name, name=o_glycan_name, source=o_glycan_paths[0],\n",
    "            protein_name=protein_name, site_indices=[index],\n",
    "            representation=glycan_representation,\n",
    "            assembly_params=[0.0, 0.0, 0.0, 0, 0.0, orientation_randon_seed + 1, 0.1])\n",
    "        be.add_sugars(o_glycan)\n",
    "            \n",
    "    '''Complex'''\n",
    "    indices = [17, 74, 149, 165, 282, 331, 343, 616, 657, 1098, 1134, 1158, 1173, 1194]\n",
    "    if open_spike:\n",
    "        indices = [17, 74, 149, 165, 282, 331, 343, 657, 1098, 1134, 1158, 1173, 1194]\n",
    "\n",
    "    complex_glycans = Sugars(\n",
    "        rotation=Quaternion(0.0, 0.0, 0.0, 1.0),\n",
    "        assembly_name=name, name=be.NAME_GLYCAN_COMPLEX, \n",
    "        protein_name=name, source=complex_paths[0], \n",
    "        site_indices=indices,\n",
    "        representation=glycan_representation,\n",
    "        atom_radius_multiplier=glycan_radius_multiplier,\n",
    "        assembly_params=[0.0, 0.0, 0.0, 0, 0.0, orientation_randon_seed + 2, 0.1]\n",
    "    )\n",
    "    status = be.add_glycans(complex_glycans)\n",
    "            \n",
    "    '''Materials'''\n",
    "    be.apply_default_color_scheme(\n",
    "        shading_mode=be.SHADING_MODE_DIFFUSE,\n",
    "        specular_exponent=50.0, glossiness=1.0\n",
    "    )\n",
    "    \n",
    "    be.set_models_visibility(True)\n",
    "    core.set_application_parameters(image_stream_fps=20)"
   ]
  },
  {
   "cell_type": "code",
   "execution_count": null,
   "metadata": {},
   "outputs": [],
   "source": [
    "from IPython.display import clear_output\n",
    "\n",
    "mm = MovieMaker(be)\n",
    "output_folder = '/tmp'\n",
    "\n",
    "for frame in range(1, 20):\n",
    "    clear_output()\n",
    "    print('Frame %i' % frame)\n",
    "\n",
    "    '''Cell'''\n",
    "    add_spike(frame)\n",
    "    \n",
    "    '''Snapshot'''\n",
    "    mm.create_snapshot(\n",
    "        size=[1024, 1024], samples_per_pixel=32,\n",
    "        path=output_folder, base_name='%05d' % frame)"
   ]
  }
 ],
 "metadata": {
  "kernelspec": {
   "display_name": "Python 3",
   "language": "python",
   "name": "python3"
  },
  "language_info": {
   "codemirror_mode": {
    "name": "ipython",
    "version": 3
   },
   "file_extension": ".py",
   "mimetype": "text/x-python",
   "name": "python",
   "nbconvert_exporter": "python",
   "pygments_lexer": "ipython3",
   "version": "3.8.10"
  }
 },
 "nbformat": 4,
 "nbformat_minor": 4
}
