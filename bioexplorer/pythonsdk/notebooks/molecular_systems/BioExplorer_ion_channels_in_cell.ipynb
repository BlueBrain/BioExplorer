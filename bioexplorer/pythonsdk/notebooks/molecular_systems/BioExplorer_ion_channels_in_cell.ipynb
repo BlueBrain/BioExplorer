{
    "cells": [
        {
            "attachments": {},
            "cell_type": "markdown",
            "metadata": {},
            "source": [
                "# Blue Brain BioExplorer\n",
                "\n",
                "![](../bioexplorer_banner.png)"
            ]
        },
        {
            "attachments": {},
            "cell_type": "markdown",
            "metadata": {},
            "source": [
                "## Cell with ion channels"
            ]
        },
        {
            "cell_type": "code",
            "execution_count": 1,
            "metadata": {},
            "outputs": [
                {
                    "name": "stderr",
                    "output_type": "stream",
                    "text": [
                        "Future exception was never retrieved\n",
                        "future: <Future finished exception=ConnectionClosedError(None, None, None)>\n",
                        "websockets.exceptions.ConnectionClosedError: no close frame received or sent\n"
                    ]
                }
            ],
            "source": [
                "from bioexplorer import BioExplorer, Protein, Membrane, Cell, MolecularSystemAnimationParams, Vector2, Vector3, Quaternion\n",
                "import os\n",
                "\n",
                "be = BioExplorer()\n",
                "core = be.core_api()\n",
                "status = be.reset_scene()"
            ]
        },
        {
            "cell_type": "code",
            "execution_count": 3,
            "metadata": {},
            "outputs": [],
            "source": [
                "name = 'Cell'\n",
                "representation=be.protein_representation.ATOMS_AND_STICKS\n",
                "atom_radius_multiplier = 2.0\n",
                "\n",
                "# Resources\n",
                "resource_folder = os.path.abspath('../../tests/test_files')\n",
                "pdb_folder = os.path.join(resource_folder, 'pdb')\n",
                "membrane_folder = os.path.join(pdb_folder, 'membrane')\n",
                "lipids_folder = os.path.join(membrane_folder, 'lipids')\n",
                "ion_channels_folder = os.path.join(pdb_folder, 'ion_channels')\n",
                "\n",
                "# ACE2\n",
                "ace2_receptor = Protein(\n",
                "    name=name + '_' + BioExplorer.NAME_RECEPTOR,\n",
                "    source=os.path.join(pdb_folder, '6m18.pdb'),\n",
                "    occurrences=5,\n",
                "    rotation=Quaternion(1.0, 0.0, 0.0, 0.0),\n",
                "    transmembrane_params=Vector2(6.0, 3.0),\n",
                "    load_non_polymer_chemicals=True,\n",
                "    animation_params=MolecularSystemAnimationParams(10)\n",
                ")\n",
                "\n",
                "# Ion channel 1\n",
                "ion_channel_1 = Protein(\n",
                "    name=name + '_' + BioExplorer.NAME_ION_CHANNEL + '_1',\n",
                "    source=os.path.join(ion_channels_folder, '6uz3.pdb'),\n",
                "    occurrences=5,\n",
                "    rotation=Quaternion(0.0, 0.707, 0.707, 0.0),\n",
                "    transmembrane_params=Vector2(1.0, 3.0),\n",
                "    animation_params=MolecularSystemAnimationParams(20)\n",
                ")\n",
                "\n",
                "# Ion channel 2\n",
                "ion_channel_2 = Protein(\n",
                "    name=name + '_' + BioExplorer.NAME_ION_CHANNEL + '_2',\n",
                "    source=os.path.join(ion_channels_folder, 'AF-O88704.pdb'),\n",
                "    occurrences=7,\n",
                "    rotation=Quaternion(0.0, 0.707, 0.707, 0.0),\n",
                "    transmembrane_params=Vector2(1.0, 3.0),\n",
                "    load_non_polymer_chemicals=True,\n",
                "    animation_params=MolecularSystemAnimationParams(30)\n",
                ")\n",
                "\n",
                "# Ion channel 3\n",
                "ion_channel_3 = Protein(\n",
                "    name=name + '_' + BioExplorer.NAME_ION_CHANNEL + '_3',\n",
                "    source=os.path.join(ion_channels_folder, 'AF-P16388.pdb'),\n",
                "    occurrences=4,\n",
                "    rotation=Quaternion(0.0, 0.707, 0.707, 0.0),\n",
                "    transmembrane_params=Vector2(1.0, 3.0),\n",
                "    load_non_polymer_chemicals=True,\n",
                "    animation_params=MolecularSystemAnimationParams(40)\n",
                ")\n",
                "\n",
                "# Membrane definition\n",
                "import glob\n",
                "lipids = glob.glob(os.path.join(membrane_folder, '*.pdb'))\n",
                "membrane_size = Vector3(200.0, 0.0, 200.0)\n",
                "membrane = Membrane(\n",
                "    lipid_sources=lipids,\n",
                "    # lipid_rotation=Quaternion(0.0, 0.707, 0.707, 0.0),\n",
                "    load_bonds=True, load_non_polymer_chemicals=True,\n",
                "    animation_params=MolecularSystemAnimationParams(0, 0, 0.0, 2, 0.5)\n",
                ")\n",
                "\n",
                "# Cell definition\n",
                "cell = Cell(\n",
                "    name=name,\n",
                "    shape=be.assembly_shape.PLANE,\n",
                "    shape_params = membrane_size,\n",
                "    membrane=membrane,\n",
                "    proteins=[\n",
                "        ace2_receptor, ion_channel_1,\n",
                "        ion_channel_2, ion_channel_3])\n",
                "\n",
                "# Add cell to scene\n",
                "status = be.add_cell(\n",
                "    cell=cell, representation=representation,\n",
                "    atom_radius_multiplier=atom_radius_multiplier)"
            ]
        },
        {
            "cell_type": "code",
            "execution_count": 6,
            "metadata": {},
            "outputs": [],
            "source": [
                "be.apply_default_color_scheme(\n",
                "    shading_mode=be.shading_mode.DIFFUSE,\n",
                "    specular_exponent=50.0\n",
                ")\n",
                "\n",
                "status = be.set_protein_color_scheme(\n",
                "    assembly_name=name,\n",
                "    name=name + '_' + BioExplorer.NAME_RECEPTOR,\n",
                "    color_scheme=BioExplorer.protein_color_scheme.CHAINS,\n",
                "    palette_name='Set1', palette_size=8\n",
                ")\n",
                "\n",
                "status = be.set_protein_color_scheme(\n",
                "    assembly_name=name,\n",
                "    name=name + '_' + BioExplorer.NAME_ION_CHANNEL + '_1',\n",
                "    color_scheme=BioExplorer.protein_color_scheme.CHAINS,\n",
                "    palette_name='Set1', palette_size=3\n",
                ")\n",
                "\n",
                "status = be.set_protein_color_scheme(\n",
                "    assembly_name=name,\n",
                "    name=name + '_' + BioExplorer.NAME_ION_CHANNEL + '_2',\n",
                "    color_scheme=BioExplorer.protein_color_scheme.CHAINS,\n",
                "    palette_name='Set2', palette_size=3\n",
                ")\n",
                "\n",
                "status = be.set_protein_color_scheme(\n",
                "    assembly_name=name,\n",
                "    name=name + '_' + BioExplorer.NAME_ION_CHANNEL + '_3',\n",
                "    color_scheme=BioExplorer.protein_color_scheme.CHAINS,\n",
                "    palette_name='Set3', palette_size=3\n",
                ")"
            ]
        },
        {
            "cell_type": "code",
            "execution_count": 7,
            "metadata": {},
            "outputs": [],
            "source": [
                "status = core.set_camera(\n",
                "    orientation=[-0.298, -0.328, -0.076, 0.892],\n",
                "    position=[-105.37947598005452, 101.85359991498215, 120.69225266060364],\n",
                "    target=[4.306267491056144, -16.428973285137587, -1.9142757282462584]\n",
                ")"
            ]
        },
        {
            "attachments": {},
            "cell_type": "markdown",
            "metadata": {},
            "source": [
                "## Rendering settings"
            ]
        },
        {
            "cell_type": "code",
            "execution_count": 8,
            "metadata": {},
            "outputs": [],
            "source": [
                "status = be.set_rendering_quality(be.rendering_quality.HIGH)"
            ]
        },
        {
            "attachments": {},
            "cell_type": "markdown",
            "metadata": {},
            "source": [
                "## Snaphot"
            ]
        },
        {
            "cell_type": "code",
            "execution_count": null,
            "metadata": {},
            "outputs": [],
            "source": [
                "from bioexplorer import MovieMaker\n",
                "mm = MovieMaker(be)\n",
                "mm.create_snapshot(\n",
                "    renderer='advanced',\n",
                "    path='/tmp', base_name='ion_channels_in_membrane_surface',\n",
                "    size=[512, 512], samples_per_pixel=64)"
            ]
        }
    ],
    "metadata": {
        "kernelspec": {
            "display_name": "Python 3.8.10 ('env')",
            "language": "python",
            "name": "python3"
        },
        "language_info": {
            "codemirror_mode": {
                "name": "ipython",
                "version": 3
            },
            "file_extension": ".py",
            "mimetype": "text/x-python",
            "name": "python",
            "nbconvert_exporter": "python",
            "pygments_lexer": "ipython3",
            "version": "3.10.12"
        },
        "vscode": {
            "interpreter": {
                "hash": "ea9a5fa46eb6bad2806a8ea1d08e15bb1e255a2d4320b81e765591579963c56b"
            }
        }
    },
    "nbformat": 4,
    "nbformat_minor": 4
}
