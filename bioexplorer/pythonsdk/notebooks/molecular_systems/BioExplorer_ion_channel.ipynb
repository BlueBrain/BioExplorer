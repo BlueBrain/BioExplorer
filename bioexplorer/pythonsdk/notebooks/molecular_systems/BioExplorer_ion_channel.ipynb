{
    "cells": [
        {
            "attachments": {},
            "cell_type": "markdown",
            "metadata": {},
            "source": [
                "# Blue Brain BioExplorer\n",
                "\n",
                "![](../bioexplorer_banner.png)"
            ]
        },
        {
            "attachments": {},
            "cell_type": "markdown",
            "metadata": {},
            "source": [
                "## Script to create a visualization of an Ion Channel"
            ]
        },
        {
            "cell_type": "code",
            "execution_count": null,
            "metadata": {},
            "outputs": [],
            "source": [
                "from bioexplorer import BioExplorer, Protein, Vector3, MovieMaker\n",
                "import os\n",
                "\n",
                "be = BioExplorer()\n",
                "core = be.core_api()\n",
                "be.reset_scene()\n",
                "print(be.version())\n",
                "status = be.start_model_loading_transaction()"
            ]
        },
        {
            "cell_type": "code",
            "execution_count": null,
            "metadata": {},
            "outputs": [],
            "source": [
                "# Resources\n",
                "resource_folder = os.path.abspath('../../tests/test_files')\n",
                "pdb_folder = os.path.join(resource_folder, 'pdb')\n",
                "ion_channels_folder = os.path.join(pdb_folder, 'ion_channels')\n",
                "\n",
                "protein_radius_multiplier = 1.0\n",
                "protein_representation = be.protein_representation.ATOMS_AND_STICKS"
            ]
        },
        {
            "cell_type": "code",
            "execution_count": null,
            "metadata": {},
            "outputs": [],
            "source": [
                "core.set_camera(\n",
                "    current='orthographic',\n",
                "    orientation=[0.0, 0.0, 0.0, 1.0],\n",
                "    position=[10.0, 10.0, 206],\n",
                "    target=[10.0, 10.0, 40]\n",
                ")\n",
                "params = core.OrthographicCameraParams()\n",
                "params.height = 45\n",
                "status = core.set_camera_params(params)"
            ]
        },
        {
            "cell_type": "code",
            "execution_count": null,
            "metadata": {},
            "outputs": [],
            "source": [
                "# Proteins\n",
                "names = ['AF-B1AWN6', 'AF-O88704', 'AF-P16388']\n",
                "positions = [Vector3(0, 0, 0), Vector3(20, 0, 0), Vector3(0, 20, 0)]\n",
                "\n",
                "for i in range(len(names)):\n",
                "    name = names[i]\n",
                "    position = positions[i]\n",
                "    ion_channel = Protein(\n",
                "        name=names[i],\n",
                "        source=os.path.join(ion_channels_folder, name + '.pdb'))\n",
                "    status = be.add_protein(\n",
                "        position=position,\n",
                "        representation=protein_representation,\n",
                "        atom_radius_multiplier=protein_radius_multiplier,\n",
                "        protein=ion_channel\n",
                "    )"
            ]
        },
        {
            "cell_type": "code",
            "execution_count": null,
            "metadata": {},
            "outputs": [],
            "source": [
                "status = be.add_grid(\n",
                "    min_value=0, max_value=40, interval=1, radius=0.005, colored=False,\n",
                "    position=Vector3(-10.0, -10.0, -10.0))"
            ]
        },
        {
            "attachments": {},
            "cell_type": "markdown",
            "metadata": {},
            "source": [
                "## Materials"
            ]
        },
        {
            "cell_type": "code",
            "execution_count": null,
            "metadata": {},
            "outputs": [],
            "source": [
                "for name in names:\n",
                "    status = be.set_protein_color_scheme(\n",
                "        assembly_name=name, name=name,\n",
                "        color_scheme=be.protein_color_scheme.ATOMS,\n",
                "        palette_name='Set1', palette_size=2)"
            ]
        },
        {
            "cell_type": "code",
            "execution_count": null,
            "metadata": {},
            "outputs": [],
            "source": [
                "for name in names:\n",
                "    status = be.set_protein_color_scheme(\n",
                "        assembly_name=name, name=name,\n",
                "        color_scheme=be.protein_color_scheme.CHAINS,\n",
                "        palette_name='Set1', palette_size=64)"
            ]
        },
        {
            "attachments": {},
            "cell_type": "markdown",
            "metadata": {},
            "source": [
                "## Rendering settings"
            ]
        },
        {
            "cell_type": "code",
            "execution_count": null,
            "metadata": {},
            "outputs": [],
            "source": [
                "status = be.core_api().set_renderer(\n",
                "    background_color=[96 / 255, 125 / 255, 139 / 255],\n",
                "    current='advanced',\n",
                "    samples_per_pixel=1, subsampling=4, max_accum_frames=128)\n",
                "params = be.core_api().AdvancedRendererParams()\n",
                "params.gi_samples = 3\n",
                "params.gi_strength = 0.2\n",
                "params.gi_ray_length = 20\n",
                "params.shadow_intensity = 0.75\n",
                "params.soft_shadow_strength = 0.05\n",
                "params.fog_start = 1500\n",
                "params.fog_thickness = 1500\n",
                "params.max_ray_depth = 1\n",
                "status = be.core_api().set_renderer_params(params)"
            ]
        },
        {
            "cell_type": "code",
            "execution_count": null,
            "metadata": {},
            "outputs": [],
            "source": [
                "status = be.commit_model_loading_transaction()"
            ]
        },
        {
            "attachments": {},
            "cell_type": "markdown",
            "metadata": {},
            "source": [
                "## Snapshot"
            ]
        },
        {
            "cell_type": "code",
            "execution_count": null,
            "metadata": {},
            "outputs": [],
            "source": [
                "mm = MovieMaker(be)"
            ]
        },
        {
            "cell_type": "code",
            "execution_count": null,
            "metadata": {},
            "outputs": [],
            "source": [
                "mm.create_snapshot(\n",
                "    renderer='advanced',\n",
                "    path='/tmp', base_name='ion_channels_protein_dimensions',\n",
                "    size=[2160, 2160], samples_per_pixel=64)"
            ]
        }
    ],
    "metadata": {
        "kernelspec": {
            "display_name": "Python 3.8.10 ('env')",
            "language": "python",
            "name": "python3"
        },
        "language_info": {
            "codemirror_mode": {
                "name": "ipython",
                "version": 3
            },
            "file_extension": ".py",
            "mimetype": "text/x-python",
            "name": "python",
            "nbconvert_exporter": "python",
            "pygments_lexer": "ipython3",
            "version": "3.10.12"
        },
        "vscode": {
            "interpreter": {
                "hash": "ea9a5fa46eb6bad2806a8ea1d08e15bb1e255a2d4320b81e765591579963c56b"
            }
        }
    },
    "nbformat": 4,
    "nbformat_minor": 4
}