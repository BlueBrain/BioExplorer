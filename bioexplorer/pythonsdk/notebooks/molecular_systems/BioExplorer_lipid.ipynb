{
    "cells": [
        {
            "attachments": {},
            "cell_type": "markdown",
            "metadata": {},
            "source": [
                "# Blue Brain BioExplorer\n",
                "\n",
                "![](../bioexplorer_banner.png)"
            ]
        },
        {
            "attachments": {},
            "cell_type": "markdown",
            "metadata": {},
            "source": [
                "## Visualization of lipids"
            ]
        },
        {
            "cell_type": "code",
            "execution_count": null,
            "metadata": {},
            "outputs": [
                {
                    "name": "stderr",
                    "output_type": "stream",
                    "text": [
                        "Future exception was never retrieved\n",
                        "future: <Future finished exception=ConnectionClosedError(None, None, None)>\n",
                        "websockets.exceptions.ConnectionClosedError: no close frame received or sent\n"
                    ]
                }
            ],
            "source": [
                "from bioexplorer import BioExplorer, Protein\n",
                "import os\n",
                "\n",
                "be = BioExplorer('localhost:5000')\n",
                "status = be.reset_scene()\n",
                "print(be.version())\n",
                "status = be.start_model_loading_transaction()"
            ]
        },
        {
            "cell_type": "code",
            "execution_count": null,
            "metadata": {},
            "outputs": [],
            "source": [
                "# Resources\n",
                "resource_folder = os.path.abspath('../../tests/test_files')\n",
                "pdb_folder = os.path.join(resource_folder, 'pdb')\n",
                "lipid_folder = os.path.join(pdb_folder, 'membrane', 'lipids')\n",
                "\n",
                "representation = be.protein_representation.ATOMS_AND_STICKS\n",
                "radius_multiplier = 1.0\n"
            ]
        },
        {
            "cell_type": "code",
            "execution_count": null,
            "metadata": {},
            "outputs": [],
            "source": [
                "# Default side view\n",
                "status = be.core_api().set_camera(\n",
                "    orientation = [-0.707, 0.0, 0.0, -0.707],\n",
                "    position = [-3.2155429906363437, -16.030290541139816, 5.386500239372253],\n",
                "    target = [-3.215542990636343, -2.99503627562973, 5.386500239372253]\n",
                ")"
            ]
        },
        {
            "cell_type": "code",
            "execution_count": null,
            "metadata": {},
            "outputs": [],
            "source": [
                "import glob\n",
                "import os\n",
                "\n",
                "lipids = glob.glob(os.path.join(lipid_folder, '*.pdb'))\n",
                "for lipid in lipids:\n",
                "    basename = os.path.basename(lipid)\n",
                "    name = be.NAME_MEMBRANE + '_' + basename\n",
                "    \n",
                "    m_protein = Protein(\n",
                "        name=name,\n",
                "        source=lipid, \n",
                "        load_hydrogen=True, load_non_polymer_chemicals=True, load_bonds=True,\n",
                "    )\n",
                "\n",
                "    status = be.add_protein(\n",
                "        protein=m_protein,\n",
                "        atom_radius_multiplier=radius_multiplier,\n",
                "        representation=representation,\n",
                "        recenter=False\n",
                "    )"
            ]
        },
        {
            "attachments": {},
            "cell_type": "markdown",
            "metadata": {},
            "source": [
                "## Materials"
            ]
        },
        {
            "cell_type": "code",
            "execution_count": null,
            "metadata": {
                "scrolled": false
            },
            "outputs": [],
            "source": [
                "be.apply_default_color_scheme(\n",
                "    shading_mode=be.shading_mode.PERLIN,\n",
                "    user_parameter=0.03, specular_exponent=5.0, glossiness=0.1)"
            ]
        },
        {
            "attachments": {},
            "cell_type": "markdown",
            "metadata": {},
            "source": [
                "## Rendering settings"
            ]
        },
        {
            "cell_type": "code",
            "execution_count": null,
            "metadata": {},
            "outputs": [],
            "source": [
                "status = be.set_rendering_quality(be.rendering_quality.HIGH)"
            ]
        },
        {
            "cell_type": "code",
            "execution_count": null,
            "metadata": {},
            "outputs": [],
            "source": [
                "status = be.commit_model_loading_transaction()"
            ]
        }
    ],
    "metadata": {
        "kernelspec": {
            "display_name": "Python 3.8.10 ('env')",
            "language": "python",
            "name": "python3"
        },
        "language_info": {
            "codemirror_mode": {
                "name": "ipython",
                "version": 3
            },
            "file_extension": ".py",
            "mimetype": "text/x-python",
            "name": "python",
            "nbconvert_exporter": "python",
            "pygments_lexer": "ipython3",
            "version": "3.10.12"
        },
        "vscode": {
            "interpreter": {
                "hash": "ea9a5fa46eb6bad2806a8ea1d08e15bb1e255a2d4320b81e765591579963c56b"
            }
        }
    },
    "nbformat": 4,
    "nbformat_minor": 4
}
