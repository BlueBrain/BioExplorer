{
 "cells": [
  {
   "cell_type": "markdown",
   "metadata": {},
   "source": [
    "# Blue Brain BioExplorer\n",
    "\n",
    "![](../bioexplorer_banner.png)"
   ]
  },
  {
   "cell_type": "markdown",
   "metadata": {},
   "source": [
    "## Visualization of structural protein E"
   ]
  },
  {
   "cell_type": "code",
   "execution_count": null,
   "metadata": {},
   "outputs": [],
   "source": [
    "from bioexplorer import BioExplorer, Protein, Sugar, Quaternion\n",
    "import os\n",
    "\n",
    "be = BioExplorer('localhost:5000')\n",
    "be.reset_scene()\n",
    "print(be.version())\n",
    "status = be.set_general_settings(model_visibility_on_creation=False)"
   ]
  },
  {
   "cell_type": "code",
   "execution_count": null,
   "metadata": {},
   "outputs": [],
   "source": [
    "status = be.set_general_settings(logging_level=3)"
   ]
  },
  {
   "cell_type": "code",
   "execution_count": null,
   "metadata": {},
   "outputs": [],
   "source": [
    "# Resources\n",
    "resource_folder = os.path.abspath('../../tests/test_files')\n",
    "pdb_folder = os.path.join(resource_folder, 'pdb')\n",
    "glycan_folder = os.path.join(pdb_folder, 'glycans')\n",
    "complex_folder = os.path.join(glycan_folder, 'complex')\n",
    "\n",
    "protein_representation = BioExplorer.REPRESENTATION_ATOMS_AND_STICKS\n",
    "protein_radius_multiplier = 1.0\n",
    "\n",
    "glycan_representation = BioExplorer.REPRESENTATION_ATOMS_AND_STICKS\n",
    "glycan_radius_multiplier = 1.0"
   ]
  },
  {
   "cell_type": "code",
   "execution_count": null,
   "metadata": {},
   "outputs": [],
   "source": [
    "# Default side view\n",
    "status = be.core_api().set_camera(\n",
    "    orientation=[0.0, 0.0, 0.0, 1.0],\n",
    "    position=[0.212, -0.296, 7.815],\n",
    "    target=[0.212, -0.296, 0.003]    \n",
    ")"
   ]
  },
  {
   "cell_type": "code",
   "execution_count": null,
   "metadata": {},
   "outputs": [],
   "source": [
    "# Protein\n",
    "name = be.NAME_PROTEIN_E\n",
    "    \n",
    "m_protein = Protein(\n",
    "    name=name,\n",
    "    source=os.path.join(pdb_folder, 'QHD43418a.pdb'),\n",
    "    load_hydrogen=False,\n",
    "    load_non_polymer_chemicals=True,\n",
    "    load_bonds=True\n",
    ")\n",
    "\n",
    "status = be.add_protein(\n",
    "    protein=m_protein,\n",
    "    atom_radius_multiplier=protein_radius_multiplier,\n",
    "    representation=protein_representation,\n",
    ")"
   ]
  },
  {
   "cell_type": "markdown",
   "metadata": {},
   "source": [
    "## Add glycans to protein"
   ]
  },
  {
   "cell_type": "code",
   "execution_count": null,
   "metadata": {},
   "outputs": [],
   "source": [
    "complex_paths = [\n",
    "    os.path.join(complex_folder, '33.pdb'),\n",
    "    os.path.join(complex_folder, '34.pdb'),\n",
    "    os.path.join(complex_folder, '35.pdb'),\n",
    "    os.path.join(complex_folder, '36.pdb')\n",
    "]"
   ]
  },
  {
   "cell_type": "code",
   "execution_count": null,
   "metadata": {},
   "outputs": [],
   "source": [
    "be.get_protein_amino_acid_information(\n",
    "    assembly_name=name, name=be.NAME_PROTEIN_E)"
   ]
  },
  {
   "cell_type": "markdown",
   "metadata": {},
   "source": [
    "### Complex"
   ]
  },
  {
   "cell_type": "code",
   "execution_count": null,
   "metadata": {},
   "outputs": [],
   "source": [
    "indices = [48, 66]\n",
    "complex_glycans = Sugar(\n",
    "    rotation=Quaternion(0.707, 0.0, 0.0, 0.707),\n",
    "    assembly_name=name, name=be.NAME_GLYCAN_COMPLEX, \n",
    "    protein_name=name, source=complex_paths[0], \n",
    "    site_indices=indices,\n",
    "    representation=glycan_representation,\n",
    "    atom_radius_multiplier=glycan_radius_multiplier\n",
    ")\n",
    "status = be.add_glycans(complex_glycans)"
   ]
  },
  {
   "cell_type": "markdown",
   "metadata": {},
   "source": [
    "## Materials"
   ]
  },
  {
   "cell_type": "code",
   "execution_count": null,
   "metadata": {
    "scrolled": false
   },
   "outputs": [],
   "source": [
    "be.apply_default_color_scheme(\n",
    "    shading_mode=be.SHADING_MODE_PERLIN,\n",
    "    user_parameter=0.03, specular_exponent=5, glossiness=0.1)"
   ]
  },
  {
   "cell_type": "markdown",
   "metadata": {},
   "source": [
    "## Rendering settings"
   ]
  },
  {
   "cell_type": "code",
   "execution_count": null,
   "metadata": {},
   "outputs": [],
   "source": [
    "status = be.set_rendering_quality(be.RENDERING_QUALITY_HIGH)"
   ]
  },
  {
   "cell_type": "code",
   "execution_count": null,
   "metadata": {},
   "outputs": [],
   "source": [
    "status = be.set_models_visibility(True)"
   ]
  }
 ],
 "metadata": {
  "kernelspec": {
   "display_name": "Python 3.8.10 ('env')",
   "language": "python",
   "name": "python3"
  },
  "language_info": {
   "codemirror_mode": {
    "name": "ipython",
    "version": 3
   },
   "file_extension": ".py",
   "mimetype": "text/x-python",
   "name": "python",
   "nbconvert_exporter": "python",
   "pygments_lexer": "ipython3",
   "version": "3.8.10"
  },
  "vscode": {
   "interpreter": {
    "hash": "ea9a5fa46eb6bad2806a8ea1d08e15bb1e255a2d4320b81e765591579963c56b"
   }
  }
 },
 "nbformat": 4,
 "nbformat_minor": 4
}
