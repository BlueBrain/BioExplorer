{
 "cells": [
  {
   "cell_type": "markdown",
   "metadata": {},
   "source": [
    "# Blue Brain BioExplorer\n",
    "\n",
    "![](../../bioexplorer_banner.png)"
   ]
  },
  {
   "cell_type": "markdown",
   "metadata": {},
   "source": [
    "## Visualization of an RNA sequence (Work in progress!)"
   ]
  },
  {
   "cell_type": "code",
   "execution_count": null,
   "metadata": {},
   "outputs": [],
   "source": [
    "from bioexplorer import BioExplorer, RNASequence, AnimationParams, Vector2, Vector3, Quaternion\n",
    "import math\n",
    "import os\n",
    "\n",
    "be = BioExplorer()\n",
    "be.reset_scene()\n",
    "print(be.version())"
   ]
  },
  {
   "cell_type": "code",
   "execution_count": null,
   "metadata": {
    "scrolled": true
   },
   "outputs": [],
   "source": [
    "# Resources\n",
    "resource_folder = os.path.abspath('../../../tests/test_files')\n",
    "rna_folder = os.path.join(resource_folder, 'rna')\n",
    "pdb_folder = os.path.join(resource_folder, 'pdb')\n",
    "\n",
    "assembly_name = 'RNA assembly'\n",
    "rna_name = assembly_name + '_' + be.NAME_RNA_SEQUENCE"
   ]
  },
  {
   "cell_type": "code",
   "execution_count": null,
   "metadata": {},
   "outputs": [],
   "source": [
    "def add_rna_sequence(assembly_name, frame, rotation=Quaternion()):\n",
    "    offset = 0.01 * math.cos(frame * math.pi / 180.0)\n",
    "\n",
    "    rna_sequence = RNASequence(\n",
    "        source=os.path.join(rna_folder, 'sars-cov-2.rna'),\n",
    "        protein_source=os.path.join(pdb_folder, '7bv1.pdb'),\n",
    "        shape=be.RNA_SHAPE_TREFOIL_KNOT,\n",
    "        shape_params=Vector2(45.0, 1.0),\n",
    "        curve_params=Vector3(1.51 + offset, 1.12 - offset, 1.93 + offset),\n",
    "        animation_params=AnimationParams(frame, frame + 1, 0.1, frame + 2, 0.001),\n",
    "        values_range=Vector2(-8.0 * math.pi, 8.0 * math.pi)\n",
    "    )\n",
    "\n",
    "    be.remove_assembly(name=assembly_name)\n",
    "    be.add_assembly(\n",
    "        name=assembly_name, rotation=rotation, clipping_planes=[[1.0, 0.0, 0.0, 10.0]])\n",
    "        \n",
    "    status = be.add_rna_sequence(\n",
    "        assembly_name=assembly_name, \n",
    "        name=rna_name,\n",
    "        rna_sequence=rna_sequence)\n",
    "\n",
    "    return status"
   ]
  },
  {
   "cell_type": "markdown",
   "metadata": {},
   "source": [
    "## Rendering settings"
   ]
  },
  {
   "cell_type": "code",
   "execution_count": null,
   "metadata": {},
   "outputs": [],
   "source": [
    "status = be.set_rendering_quality(be.RENDERING_QUALITY_HIGH)"
   ]
  },
  {
   "cell_type": "markdown",
   "metadata": {},
   "source": [
    "## Animation"
   ]
  },
  {
   "cell_type": "code",
   "execution_count": null,
   "metadata": {},
   "outputs": [],
   "source": [
    "from bioexplorer import MovieMaker\n",
    "mm = MovieMaker(be)\n",
    "output_folder = '/tmp'"
   ]
  },
  {
   "cell_type": "code",
   "execution_count": null,
   "metadata": {},
   "outputs": [],
   "source": [
    "mm.set_camera(\n",
    "    direction=[0.0, 0.0, -1.0],\n",
    "    origin=[-1.4913494291017158, -2.7600310873311957, 201.11775054410705],\n",
    "    up=[0.0, 1.0, 0.0]\n",
    ")"
   ]
  },
  {
   "cell_type": "code",
   "execution_count": null,
   "metadata": {},
   "outputs": [],
   "source": [
    "from tqdm import tqdm\n",
    "\n",
    "q_start = Quaternion(0.0, 1.0, 0.0, 0.0)\n",
    "q_end = Quaternion(1.0, 0.0, 0.0, 0.0)\n",
    "\n",
    "for frame in tqdm(range(0, 36)):\n",
    "    add_rna_sequence(\n",
    "        assembly_name=assembly_name, frame=frame,\n",
    "        rotation=Quaternion.slerp(q_start, q_end, \n",
    "                                  0.1 * (0.5 + 0.5 * math.cos(float(frame) * math.pi / 18.0)))\n",
    "    )\n",
    "\n",
    "    '''Snapshot'''\n",
    "    mm.create_snapshot(\n",
    "        renderer='bio_explorer',\n",
    "        size=[512, 512], samples_per_pixel=32,\n",
    "        path=output_folder, base_name='%05d' % frame)"
   ]
  }
 ],
 "metadata": {
  "kernelspec": {
   "display_name": "Python 3.8.10 ('env')",
   "language": "python",
   "name": "python3"
  },
  "language_info": {
   "codemirror_mode": {
    "name": "ipython",
    "version": 3
   },
   "file_extension": ".py",
   "mimetype": "text/x-python",
   "name": "python",
   "nbconvert_exporter": "python",
   "pygments_lexer": "ipython3",
   "version": "3.8.10"
  },
  "vscode": {
   "interpreter": {
    "hash": "ea9a5fa46eb6bad2806a8ea1d08e15bb1e255a2d4320b81e765591579963c56b"
   }
  }
 },
 "nbformat": 4,
 "nbformat_minor": 4
}
