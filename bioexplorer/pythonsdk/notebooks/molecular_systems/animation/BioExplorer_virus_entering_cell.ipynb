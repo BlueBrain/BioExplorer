{
    "cells": [
        {
            "cell_type": "markdown",
            "metadata": {},
            "source": [
                "# Blue Brain BioExplorer\n",
                "\n",
                "![](../../bioexplorer_banner.png)"
            ]
        },
        {
            "cell_type": "markdown",
            "metadata": {},
            "source": [
                "### Initialization"
            ]
        },
        {
            "cell_type": "code",
            "execution_count": null,
            "metadata": {
                "scrolled": true
            },
            "outputs": [],
            "source": [
                "from bioexplorer import BioExplorer, Protein, Surfactant, Membrane, Volume, \\\n",
                "                        Cell, Sugar, MolecularSystemAnimationParams, Vector2, Vector3, Quaternion, MovieMaker\n",
                "import glob\n",
                "import os\n",
                "\n",
                "url = 'localhost:5000'\n",
                "be = BioExplorer(url)\n",
                "core = be.core_api()\n",
                "mm = MovieMaker(be)\n",
                "status = be.reset_scene()"
            ]
        },
        {
            "cell_type": "markdown",
            "metadata": {},
            "source": [
                "### Resources"
            ]
        },
        {
            "cell_type": "code",
            "execution_count": null,
            "metadata": {},
            "outputs": [],
            "source": [
                "resource_folder = os.path.abspath('../../../tests/test_files')\n",
                "\n",
                "pdb_folder = os.path.join(resource_folder, 'pdb')\n",
                "membrane_folder = os.path.join(pdb_folder, 'membrane')\n",
                "lipids_folder = os.path.join(membrane_folder, 'lipids')\n",
                "\n",
                "glucose_path = os.path.join(pdb_folder, 'glucose.pdb')\n",
                "immune_folder = os.path.join(pdb_folder, 'immune')\n",
                "lactoferrin_path = os.path.join(immune_folder, '1b0l.pdb')\n",
                "defensin_path = os.path.join(immune_folder, '1ijv.pdb')\n",
                "\n",
                "surfactant_folder = os.path.join(pdb_folder, 'surfactant')\n",
                "surfactant_head_source = os.path.join(surfactant_folder, '1pw9.pdb')\n",
                "surfactant_branch_source = os.path.join(surfactant_folder, '1k6f.pdb')\n",
                "\n",
                "glycan_folder = os.path.join(pdb_folder, 'glycans')\n",
                "complex_folder = os.path.join(glycan_folder, 'complex')\n",
                "high_mannose_folder = os.path.join(glycan_folder, 'high-mannose')\n",
                "hybrid_folder = os.path.join(glycan_folder, 'hybrid')\n",
                "o_glycan_folder = os.path.join(glycan_folder, 'o-glycan')\n",
                "\n",
                "complex_paths = [\n",
                "    os.path.join(complex_folder, '33.pdb'),\n",
                "    os.path.join(complex_folder, '34.pdb'),\n",
                "    os.path.join(complex_folder, '35.pdb'),\n",
                "    os.path.join(complex_folder, '36.pdb')\n",
                "]\n",
                "high_mannose_paths = [\n",
                "    os.path.join(high_mannose_folder, '1.pdb'),\n",
                "    os.path.join(high_mannose_folder, '2.pdb'),\n",
                "    os.path.join(high_mannose_folder, '3.pdb'),\n",
                "    os.path.join(high_mannose_folder, '4.pdb')\n",
                "]\n",
                "hybrid_paths = [os.path.join(hybrid_folder, '24.pdb')]\n",
                "o_glycan_paths = [os.path.join(o_glycan_folder, '12.pdb')]"
            ]
        },
        {
            "cell_type": "markdown",
            "metadata": {},
            "source": [
                "### Configuration"
            ]
        },
        {
            "cell_type": "code",
            "execution_count": null,
            "metadata": {},
            "outputs": [],
            "source": [
                "# Scene\n",
                "scene_size = Vector3(500.0, 500.0, 500.0)\n",
                "\n",
                "# Proteins\n",
                "protein_radius_multiplier = 1.0\n",
                "protein_representation = be.REPRESENTATION_ATOMS_AND_STICKS\n",
                "protein_load_hydrogen = False\n",
                "\n",
                "# Viruses\n",
                "nb_protein_s = 62\n",
                "nb_protein_e = 42\n",
                "nb_protein_m = 50\n",
                "add_rna = False\n",
                "\n",
                "# Glycans\n",
                "add_glycans = True\n",
                "glycan_radius_multiplier = 1.0\n",
                "glycan_representation = be.REPRESENTATION_ATOMS_AND_STICKS"
            ]
        },
        {
            "cell_type": "markdown",
            "metadata": {},
            "source": [
                "## Camera and rendering settings"
            ]
        },
        {
            "cell_type": "code",
            "execution_count": null,
            "metadata": {},
            "outputs": [],
            "source": [
                "status = core.set_camera(\n",
                "    orientation=[0.0, 0.0, 0.0, 1.0],\n",
                "    position=[4.883, 44.255, 431.911],\n",
                "    target=[4.883, 44.255, 31.311]\n",
                ")"
            ]
        },
        {
            "cell_type": "code",
            "execution_count": null,
            "metadata": {},
            "outputs": [],
            "source": [
                "status = be.set_rendering_quality(be.RENDERING_QUALITY_HIGH)"
            ]
        },
        {
            "cell_type": "markdown",
            "metadata": {},
            "source": [
                "### Cell, SARS-COV-2 Coronavirus and Surfactant-D"
            ]
        },
        {
            "cell_type": "code",
            "execution_count": null,
            "metadata": {},
            "outputs": [],
            "source": [
                "def add_virus(\n",
                "        position, rotation, random_seed, random_position_seed,\n",
                "        random_rotation_seed, morphing_step):\n",
                "    be.add_sars_cov_2(\n",
                "        name='sars-cov-2', resource_folder=resource_folder,\n",
                "        atom_radius_multiplier=protein_radius_multiplier,\n",
                "        representation=protein_representation,\n",
                "        add_glycans=add_glycans,\n",
                "        position=position,\n",
                "        rotation=rotation,\n",
                "        animation_params=MolecularSystemAnimationParams(\n",
                "            random_seed, random_position_seed, 0.2, random_rotation_seed + 1, 0.025, morphing_step)\n",
                "    )"
            ]
        },
        {
            "cell_type": "code",
            "execution_count": null,
            "metadata": {},
            "outputs": [],
            "source": [
                "def add_cell(nb_receptors, random_seed, random_position_seed, random_rotation_seed):\n",
                "    name='Cell'\n",
                "\n",
                "    '''ACE2 receptor definition'''\n",
                "    ace2_receptor = Protein(\n",
                "        name=name + '_' + be.NAME_RECEPTOR,\n",
                "        source=os.path.join(pdb_folder, '6m18.pdb'),\n",
                "        occurrences=nb_receptors,\n",
                "        transmembrane_params=Vector2(-6.0, 2.0))\n",
                "\n",
                "    '''Membrane definition'''\n",
                "    lipids = glob.glob(os.path.join(lipids_folder, '*.pdb'))[:4]\n",
                "    membrane = Membrane(\n",
                "        load_non_polymer_chemicals=True, load_bonds=True,\n",
                "        lipid_sources=lipids,\n",
                "        animation_params=MolecularSystemAnimationParams(\n",
                "            random_seed, random_position_seed, 0.2, random_rotation_seed, 0.025)\n",
                "        )\n",
                "\n",
                "    '''Cell definition'''\n",
                "    cell_size = Vector3(scene_size.x, scene_size.y / 10.0, scene_size.z)\n",
                "    cell = Cell(\n",
                "        name=name,\n",
                "        shape=be.ASSEMBLY_SHAPE_SINUSOID,\n",
                "        shape_params=cell_size,\n",
                "        membrane=membrane, \n",
                "        proteins=[ace2_receptor]\n",
                "    )\n",
                "\n",
                "    '''Add cell to scene'''\n",
                "    status = be.add_cell(\n",
                "        cell=cell, representation=protein_representation,\n",
                "        atom_radius_multiplier=protein_radius_multiplier,\n",
                "        position=Vector3(0.0, -80.0, 0.0)\n",
                "    )\n",
                "\n",
                "    if add_glycans:\n",
                "        '''Glycans'''\n",
                "        be.add_multiple_glycans(\n",
                "            representation=protein_representation, assembly_name=name, \n",
                "            glycan_type=be.NAME_GLYCAN_COMPLEX,\n",
                "            protein_name=be.NAME_RECEPTOR, paths=complex_paths, \n",
                "            indices=[53, 90, 103, 322, 432, 690],\n",
                "            animation_params=MolecularSystemAnimationParams(\n",
                "                random_seed, random_position_seed, 0.2, random_rotation_seed, 0.025))\n",
                "\n",
                "        be.add_multiple_glycans(\n",
                "            representation=protein_representation, assembly_name=name,\n",
                "            glycan_type=be.NAME_GLYCAN_HYBRID,\n",
                "            protein_name=be.NAME_RECEPTOR, paths=hybrid_paths, \n",
                "            indices=[546],\n",
                "            animation_params=MolecularSystemAnimationParams(\n",
                "                random_seed, random_position_seed, 0.2, random_rotation_seed, 0.025))\n",
                "\n",
                "        indices = [[164, Quaternion(0.707, 0.0, 0.707, 0.0)],\n",
                "                   [739, Quaternion(0.707, 0.0, 0.707, 0.0)]]\n",
                "        for index in indices:\n",
                "            o_glycan_name = name + '_' + be.NAME_GLYCAN_O_GLYCAN + '_' + str(index[0])\n",
                "            o_glycan = Sugar(\n",
                "                assembly_name=name, name=o_glycan_name, \n",
                "                source=o_glycan_paths[0],\n",
                "                protein_name=name + '_' + be.NAME_RECEPTOR, \n",
                "                representation=protein_representation,\n",
                "                chain_ids=[2, 4], site_indices=[index[0]], \n",
                "                rotation=index[1],\n",
                "                animation_params=MolecularSystemAnimationParams(\n",
                "                    random_seed, random_position_seed, 0.2, random_rotation_seed, 0.025))\n",
                "            be.add_sugar(o_glycan)\n",
                "    return status"
            ]
        },
        {
            "cell_type": "code",
            "execution_count": null,
            "metadata": {},
            "outputs": [],
            "source": [
                "def add_surfactant_d(name, position, rotation, animation_params):\n",
                "    surfactant_d = Surfactant(\n",
                "        name=name, surfactant_protein=be.SURFACTANT_PROTEIN_D, \n",
                "        head_source=surfactant_head_source,\n",
                "        branch_source=surfactant_branch_source)\n",
                "    return be.add_surfactant(\n",
                "        surfactant=surfactant_d, \n",
                "        representation=protein_representation,\n",
                "        atom_radius_multiplier=protein_radius_multiplier,\n",
                "        position=position, rotation=rotation, \n",
                "        animation_params=animation_params)"
            ]
        },
        {
            "cell_type": "code",
            "execution_count": null,
            "metadata": {},
            "outputs": [],
            "source": [
                "def add_glucose(random_seed, nb_glucoses=4 * 14400):\n",
                "    volume_position = Vector3(0.0, scene_size.y / 2.0 - 80.0, 0.0)\n",
                "    glucose = Protein(\n",
                "        name=be.NAME_GLUCOSE,\n",
                "        source=glucose_path, load_non_polymer_chemicals=True, \n",
                "        animation_params=MolecularSystemAnimationParams(\n",
                "            1, random_seed + 1, scene_size.y / 500.0, random_seed + 2, 1.0),\n",
                "        occurrences=nb_glucoses)\n",
                "    volume = Volume(\n",
                "        name=be.NAME_GLUCOSE,\n",
                "        shape=be.ASSEMBLY_SHAPE_CUBE,\n",
                "        shape_params=scene_size, \n",
                "        protein=glucose\n",
                "    )\n",
                "    return be.add_volume(\n",
                "        volume=volume, \n",
                "        representation=be.REPRESENTATION_ATOMS_AND_STICKS,\n",
                "        atom_radius_multiplier=protein_radius_multiplier,\n",
                "        position=volume_position)"
            ]
        },
        {
            "cell_type": "code",
            "execution_count": null,
            "metadata": {},
            "outputs": [],
            "source": [
                "def set_materials():\n",
                "    be.apply_default_color_scheme(\n",
                "        shading_mode=be.SHADING_MODE_BASIC, user_parameter=1.0)\n",
                "    for model in core.scene.models:\n",
                "        model_id = model['id']\n",
                "        model_name = model['name']\n",
                "        if be.NAME_COLLAGEN in model_name:\n",
                "            material_ids = list(be.get_material_ids(model_id)['ids'])\n",
                "            nb_materials = len(material_ids)\n",
                "            palette = list()\n",
                "            emissions = list()\n",
                "            for i in range(nb_materials):\n",
                "                palette.append([1,1,1])\n",
                "                emissions.append(0.1)\n",
                "            be.set_materials(\n",
                "                model_ids=[model_id], material_ids=material_ids,\n",
                "                diffuse_colors=palette, specular_colors=palette,\n",
                "                emissions=emissions\n",
                "            )"
            ]
        },
        {
            "cell_type": "markdown",
            "metadata": {},
            "source": [
                "## Movie"
            ]
        },
        {
            "cell_type": "markdown",
            "metadata": {},
            "source": [
                "### Camera positions"
            ]
        },
        {
            "cell_type": "code",
            "execution_count": null,
            "metadata": {},
            "outputs": [],
            "source": [
                "key_frames = [\n",
                "    {\n",
                "        'apertureRadius': 0.0,\n",
                "        'direction': [0.0, 0.0, -1.0],\n",
                "        'focusDistance': 0.0,\n",
                "        'origin': [8.848612545524386, 38.1815273571507, 544.0734702858679],\n",
                "        'up': [0.0, 1.0, 0.0]\n",
                "    },\n",
                "    {\n",
                "        'apertureRadius': 0.0,\n",
                "        'direction': [0.6083991714336657, -0.15450233390242366, -0.7784468363462806],\n",
                "        'focusDistance': 0.0,\n",
                "        'origin': [-240.8190994911038, 53.51713296185992, 342.1357352156152],\n",
                "        'up': [0.07492786634686985, 0.9876682399356482, -0.13746731490476025]\n",
                "    },\n",
                "    {\n",
                "        'apertureRadius': 0.0,\n",
                "        'direction': [0.8612481222991739, -0.22198006941973533, 0.4571394979834462],\n",
                "        'focusDistance': 0.0,\n",
                "        'origin': [-337.42978759761564, 82.7875998078893, -205.1502287344292],\n",
                "        'up': [0.21224592777192716, 0.9744622627257351, 0.0733141505282188]\n",
                "    }\n",
                "]\n",
                "mm.build_camera_path(key_frames, 300, 50)"
            ]
        },
        {
            "cell_type": "markdown",
            "metadata": {},
            "source": [
                "### Frames"
            ]
        },
        {
            "cell_type": "code",
            "execution_count": null,
            "metadata": {},
            "outputs": [],
            "source": [
                "'''sars-cov-2'''\n",
                "q_c_start = Quaternion(0.707, 0.707, 0.0, 0.0)\n",
                "q_c_end = Quaternion(1.0, 0.0, 0.0, 0.0)\n",
                "\n",
                "'''Surfactant-D'''\n",
                "q_s_start = Quaternion(0.0, 0.0, 0.707,0.707)\n",
                "q_s_end = Quaternion(1.0, 0.0, 0.0, 0.0)\n",
                "q_s_nb_frames = 600"
            ]
        },
        {
            "cell_type": "code",
            "execution_count": null,
            "metadata": {
                "scrolled": false
            },
            "outputs": [],
            "source": [
                "from tqdm import tqdm\n",
                "\n",
                "'''Settings'''\n",
                "output_folder = '/tmp'\n",
                "\n",
                "image_size = [960, 540]\n",
                "image_samples_per_pixel = 64\n",
                "nb_frames = mm.get_nb_frames()\n",
                "\n",
                "'''Virus flying information'''\n",
                "flying_nb_frames = 200\n",
                "\n",
                "'''Virus landing information'''\n",
                "landing_nb_frames = 50\n",
                "landing_distance = 40.0\n",
                "\n",
                "'''Virus merging information'''\n",
                "merging_nb_frames = 100\n",
                "\n",
                "be.set_general_settings(model_visibility_on_creation=False, mesh_folder='/tmp')\n",
                "core.set_application_parameters(image_stream_fps=0)\n",
                "\n",
                "for frame in tqdm(range(nb_frames)):\n",
                "    '''Camera'''\n",
                "    mm.set_current_frame(frame)\n",
                "    \n",
                "    '''Cell'''\n",
                "    add_cell(5, 2, 5 * frame + 2, 5 * frame + 3)\n",
                "    \n",
                "    '''sars-cov-2'''\n",
                "    show_virus = True\n",
                "    morphing_step = 0.0\n",
                "    p = Vector3(55.0, -5.0, -45.0)\n",
                "    o = q_c_end\n",
                "    if frame <= flying_nb_frames:\n",
                "        '''Flying'''\n",
                "        p = Vector3(55.0, -5.0 + flying_nb_frames - frame, -45.0 - (frame - flying_nb_frames) / 2.0)\n",
                "        o = Quaternion.slerp(q_c_start, q_c_end, (frame + 1) / flying_nb_frames)\n",
                "    elif frame <= landing_nb_frames + flying_nb_frames:\n",
                "        '''Landing...'''\n",
                "        progress = float(frame - flying_nb_frames) * (landing_distance / float(landing_nb_frames))\n",
                "        p = Vector3(55.0, -5.0 - progress, -45.0)\n",
                "\n",
                "        '''Modify receptor position to dive into the cell membrane'''\n",
                "        be.set_protein_instance_transformation(\n",
                "            assembly_name='Cell',\n",
                "            name='Cell_' + be.NAME_RECEPTOR,\n",
                "            instance_index=4,\n",
                "            position=Vector3(74.5, -76.513 - progress, -39.5),\n",
                "            rotation=Quaternion(-0.0385459, -0.0398906, 0.718016, 0.693813)\n",
                "        )            \n",
                "\n",
                "    elif frame <= landing_nb_frames + flying_nb_frames + merging_nb_frames:\n",
                "        '''Merging...'''\n",
                "        p = Vector3(55.0, -5.0 - landing_distance, -45.0)\n",
                "        morphing_step = float(frame - flying_nb_frames - landing_nb_frames) / float(merging_nb_frames)\n",
                "    else:\n",
                "        be.remove_assembly('sars-cov-2')\n",
                "        show_virus = False\n",
                "\n",
                "    if show_virus:\n",
                "        add_virus(\n",
                "            position=p, rotation=Quaternion(o[0],o[1],o[2],o[3]),\n",
                "            random_seed=3, \n",
                "            random_position_seed=5 * frame + 5,\n",
                "            random_rotation_seed=5 * frame + 6,\n",
                "            morphing_step=morphing_step)            \n",
                "\n",
                "    '''Surfactant-D'''\n",
                "    o = Quaternion.slerp(\n",
                "        q_s_start, q_s_end, (frame + 1) / q_s_nb_frames)\n",
                "    add_surfactant_d(\n",
                "        name='Surfactant-D 1', \n",
                "        position=Vector3(\n",
                "            -150.0 + (nb_frames - frame) / 7.0,\n",
                "            22.0 + (nb_frames - frame) / 10.0, \n",
                "            -50.0 + (nb_frames - frame) / 5.0),\n",
                "        rotation = Quaternion(o[0],o[1],o[2],o[3]),\n",
                "        animation_params=MolecularSystemAnimationParams(seed=1)\n",
                "    )\n",
                "\n",
                "    '''Glucose'''\n",
                "    add_glucose(frame)\n",
                "\n",
                "    '''Materials'''\n",
                "    set_materials()\n",
                "    \n",
                "    '''Make all models visible'''\n",
                "    be.set_models_visibility(True)\n",
                "    \n",
                "    '''Snapshot'''\n",
                "    mm.create_snapshot(\n",
                "        renderer='bio_explorer',\n",
                "        size=image_size, samples_per_pixel=image_samples_per_pixel,\n",
                "        path=output_folder, base_name='%05d' % frame)\n",
                "\n",
                "core.set_application_parameters(image_stream_fps=20)"
            ]
        }
    ],
    "metadata": {
        "kernelspec": {
            "display_name": "Python 3.8.10 ('env')",
            "language": "python",
            "name": "python3"
        },
        "language_info": {
            "codemirror_mode": {
                "name": "ipython",
                "version": 3
            },
            "file_extension": ".py",
            "mimetype": "text/x-python",
            "name": "python",
            "nbconvert_exporter": "python",
            "pygments_lexer": "ipython3",
            "version": "3.8.10"
        },
        "vscode": {
            "interpreter": {
                "hash": "ea9a5fa46eb6bad2806a8ea1d08e15bb1e255a2d4320b81e765591579963c56b"
            }
        }
    },
    "nbformat": 4,
    "nbformat_minor": 4
}