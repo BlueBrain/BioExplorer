{
    "cells": [
        {
            "cell_type": "markdown",
            "metadata": {},
            "source": [
                "# Blue Brain BioExplorer\n",
                "\n",
                "![](../../bioexplorer_banner.png)"
            ]
        },
        {
            "cell_type": "markdown",
            "metadata": {},
            "source": [
                "## Visualization of a SARS-COV-2 Coronavirus"
            ]
        },
        {
            "cell_type": "code",
            "execution_count": null,
            "metadata": {},
            "outputs": [],
            "source": [
                "from bioexplorer import BioExplorer, Protein, Membrane, Cell, Sugar, \\\n",
                "                        MolecularSystemAnimationParams, Vector2, Vector3, Quaternion, MovieMaker\n",
                "import os\n",
                "\n",
                "be = BioExplorer('localhost:5000')\n",
                "core = be.core_api()\n",
                "be.reset_scene()\n",
                "print(be.version())"
            ]
        },
        {
            "cell_type": "markdown",
            "metadata": {},
            "source": [
                "## Resources"
            ]
        },
        {
            "cell_type": "code",
            "execution_count": null,
            "metadata": {
                "scrolled": true
            },
            "outputs": [],
            "source": [
                "resource_folder = os.path.abspath('../../../tests/test_files')\n",
                "\n",
                "pdb_folder = os.path.join(resource_folder, 'pdb')\n",
                "membrane_folder = os.path.join(pdb_folder, 'membrane')\n",
                "\n",
                "glycan_folder = os.path.join(pdb_folder, 'glycans')\n",
                "complex_folder = os.path.join(glycan_folder, 'complex')\n",
                "high_mannose_folder = os.path.join(glycan_folder, 'high-mannose')\n",
                "hybrid_folder = os.path.join(glycan_folder, 'hybrid')\n",
                "o_glycan_folder = os.path.join(glycan_folder, 'o-glycan')\n",
                "\n",
                "complex_paths = [\n",
                "    os.path.join(complex_folder, '33.pdb'),\n",
                "    os.path.join(complex_folder, '34.pdb'),\n",
                "    os.path.join(complex_folder, '35.pdb'),\n",
                "    os.path.join(complex_folder, '36.pdb')\n",
                "]\n",
                "high_mannose_paths = [\n",
                "    os.path.join(high_mannose_folder, '1.pdb'),\n",
                "    os.path.join(high_mannose_folder, '2.pdb'),\n",
                "    os.path.join(high_mannose_folder, '3.pdb'),\n",
                "    os.path.join(high_mannose_folder, '4.pdb')\n",
                "]\n",
                "hybrid_paths = [os.path.join(hybrid_folder, '24.pdb')]\n",
                "o_glycan_paths = [os.path.join(o_glycan_folder, '12.pdb')]"
            ]
        },
        {
            "cell_type": "code",
            "execution_count": null,
            "metadata": {},
            "outputs": [],
            "source": [
                "status = be.core_api().set_camera(\n",
                "    orientation=[-0.005, 0.439, 0.0, 0.898],\n",
                "    position=[265.706, -34.254, 119.18],\n",
                "    target=[71.9, -36.859, -31.474]\n",
                ")"
            ]
        },
        {
            "cell_type": "code",
            "execution_count": null,
            "metadata": {},
            "outputs": [],
            "source": [
                "status = be.set_rendering_quality(be.RENDERING_QUALITY_HIGH)"
            ]
        },
        {
            "cell_type": "code",
            "execution_count": null,
            "metadata": {},
            "outputs": [],
            "source": [
                "# Scene\n",
                "scene_size = Vector3(500.0, 500.0, 500.0)\n",
                "\n",
                "# Proteins\n",
                "protein_radius_multiplier = 1.0\n",
                "protein_representation = be.REPRESENTATION_ATOMS"
            ]
        },
        {
            "cell_type": "code",
            "execution_count": null,
            "metadata": {},
            "outputs": [],
            "source": [
                "def add_cell(nb_receptors, random_seed, random_position_seed, random_rotation_seed):\n",
                "    name='Cell'\n",
                "\n",
                "    '''ACE2 receptor definition'''\n",
                "    ace2_receptor = Protein(\n",
                "        name=name + '_' + be.NAME_RECEPTOR,\n",
                "        source=os.path.join(pdb_folder, '6m18.pdb'),\n",
                "        occurrences=nb_receptors,\n",
                "        transmembrane_params=Vector2(-6.0, 5.0))\n",
                "\n",
                "    '''Membrane definition'''\n",
                "    membrane_size = Vector3(scene_size.x, scene_size.y / 10.0, scene_size.z)\n",
                "    membrane = Membrane(\n",
                "        lipid_sources=[os.path.join(pdb_folder, 'membrane/popc.pdb')],\n",
                "        animation_params=MolecularSystemAnimationParams(\n",
                "            random_seed, random_position_seed, 0.25, random_rotation_seed, 0.2)\n",
                "        )\n",
                "\n",
                "    '''Cell definition'''\n",
                "    cell = Cell(\n",
                "        name=name,\n",
                "        shape=be.ASSEMBLY_SHAPE_SINUSOID,\n",
                "        shape_params=membrane_size,\n",
                "        membrane=membrane, proteins=[ace2_receptor]\n",
                "    )\n",
                "\n",
                "    '''Add cell to scene'''\n",
                "    status = be.add_cell(\n",
                "        cell=cell, representation=protein_representation,\n",
                "        atom_radius_multiplier=protein_radius_multiplier,\n",
                "        position=Vector3(0.0, -80.0, 0.0)\n",
                "    )\n",
                "\n",
                "    '''Glycans'''\n",
                "    be.add_multiple_glycans(\n",
                "        representation=protein_representation, assembly_name=name, \n",
                "        glycan_type=be.NAME_GLYCAN_COMPLEX,\n",
                "        protein_name=be.NAME_RECEPTOR, paths=complex_paths, \n",
                "        indices=[53, 90, 103, 322, 432, 690])\n",
                "\n",
                "    be.add_multiple_glycans(\n",
                "        representation=protein_representation, assembly_name=name,\n",
                "        glycan_type=be.NAME_GLYCAN_HYBRID,\n",
                "        protein_name=be.NAME_RECEPTOR, paths=hybrid_paths, \n",
                "        indices=[546])\n",
                "\n",
                "    indices = [[164, Quaternion(0.707, 0.0, 0.707, 0.0)],\n",
                "               [739, Quaternion(0.707, 0.0, 0.707, 0.0)]]\n",
                "    for index in indices:\n",
                "        o_glycan_name = name + '_' + be.NAME_GLYCAN_O_GLYCAN + '_' + str(index[0])\n",
                "        o_glycan = Sugar(\n",
                "            assembly_name=name, name=o_glycan_name, \n",
                "            source=o_glycan_paths[0],\n",
                "            protein_name=name + '_' + be.NAME_RECEPTOR, \n",
                "            representation=protein_representation,\n",
                "            chain_ids=[2, 4], site_indices=[index[0]], \n",
                "            rotation=index[1])\n",
                "        be.add_sugar(o_glycan)\n",
                "    return status"
            ]
        },
        {
            "cell_type": "code",
            "execution_count": null,
            "metadata": {},
            "outputs": [],
            "source": [
                "def add_virus(position, random_seed, random_position_seed, random_rotation_seed, morphing_step):\n",
                "    be.add_sars_cov_2(\n",
                "        name='sars-cov-2', resource_folder=resource_folder,\n",
                "        atom_radius_multiplier=protein_radius_multiplier,\n",
                "        representation=protein_representation,\n",
                "        add_glycans=True,\n",
                "        position=position,\n",
                "        animation_params=MolecularSystemAnimationParams(\n",
                "            random_seed, random_position_seed, 0.25, random_rotation_seed + 1, 0.2, morphing_step)\n",
                "    )"
            ]
        },
        {
            "cell_type": "code",
            "execution_count": null,
            "metadata": {
                "scrolled": true
            },
            "outputs": [],
            "source": [
                "from tqdm import tqdm\n",
                "\n",
                "mm = MovieMaker(be)\n",
                "output_folder = '/tmp'\n",
                "be.set_general_settings(model_visibility_on_creation=False, mesh_folder=output_folder)\n",
                "\n",
                "nb_frames = 40\n",
                "nb_going_down_frames = 20\n",
                "going_down_distance = 33.0\n",
                "\n",
                "for frame in tqdm(range(nb_going_down_frames + nb_frames)):\n",
                "    core.set_application_parameters(image_stream_fps=0)\n",
                "    \n",
                "    '''Cell'''\n",
                "    status = add_cell(5, 1, 5 * frame + 1, 5 * frame + 2)\n",
                "    \n",
                "    '''Virus'''\n",
                "    y = -5.0 - float(frame) * (going_down_distance / float(nb_going_down_frames))\n",
                "    s = 0.0\n",
                "    if frame >= nb_going_down_frames:\n",
                "        y = -5.0 - going_down_distance\n",
                "        s = float(frame - nb_going_down_frames) / float(nb_frames)\n",
                "        \n",
                "    add_virus(\n",
                "        Vector3(55.0, y, -45),\n",
                "        5, 5 * frame + 3, 5 * frame + 4, s\n",
                "    )\n",
                "\n",
                "    '''Materials'''\n",
                "    be.apply_default_color_scheme(shading_mode=be.SHADING_MODE_BASIC, user_parameter=1.0)\n",
                "    be.set_models_visibility(True)\n",
                "    \n",
                "    '''Snapshot'''\n",
                "    mm.create_snapshot(\n",
                "        renderer='advanced',\n",
                "        size=[540, 540], samples_per_pixel=32,\n",
                "        path=output_folder, base_name='%05d' % frame)\n",
                "        \n",
                "status = core.set_application_parameters(image_stream_fps=20)"
            ]
        }
    ],
    "metadata": {
        "kernelspec": {
            "display_name": "Python 3.8.10 ('env')",
            "language": "python",
            "name": "python3"
        },
        "language_info": {
            "codemirror_mode": {
                "name": "ipython",
                "version": 3
            },
            "file_extension": ".py",
            "mimetype": "text/x-python",
            "name": "python",
            "nbconvert_exporter": "python",
            "pygments_lexer": "ipython3",
            "version": "3.8.10"
        },
        "vscode": {
            "interpreter": {
                "hash": "ea9a5fa46eb6bad2806a8ea1d08e15bb1e255a2d4320b81e765591579963c56b"
            }
        }
    },
    "nbformat": 4,
    "nbformat_minor": 4
}