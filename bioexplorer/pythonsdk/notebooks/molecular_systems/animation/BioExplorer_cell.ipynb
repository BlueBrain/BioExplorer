{
    "cells": [
        {
            "cell_type": "markdown",
            "metadata": {},
            "source": [
                "# Blue Brain BioExplorer\n",
                "\n",
                "![](../../bioexplorer_banner.png)"
            ]
        },
        {
            "cell_type": "markdown",
            "metadata": {},
            "source": [
                "## Simplest script to create a visualization of a cell"
            ]
        },
        {
            "cell_type": "code",
            "execution_count": null,
            "metadata": {},
            "outputs": [],
            "source": [
                "from bioexplorer import BioExplorer, MovieMaker, Protein, Membrane, Cell, AnimationParams, Vector3, Quaternion\n",
                "import os\n",
                "\n",
                "be = BioExplorer('localhost:5000')\n",
                "core = be.core_api()\n",
                "status = be.reset_scene()"
            ]
        },
        {
            "cell_type": "code",
            "execution_count": null,
            "metadata": {},
            "outputs": [],
            "source": [
                "def add_cell(random_seed):\n",
                "    \n",
                "    core.set_application_parameters(image_stream_fps=0)\n",
                "    representation=be.REPRESENTATION_ATOMS_AND_STICKS\n",
                "\n",
                "    # Resources\n",
                "    resource_folder = '../../../tests/test_files'\n",
                "    pdb_folder = os.path.join(resource_folder, 'pdb')\n",
                "    membrane_folder = os.path.join(pdb_folder, 'membrane')\n",
                "\n",
                "    # ACE2 receptor definition\n",
                "    ace2_receptor = Protein(\n",
                "        name=be.NAME_RECEPTOR,\n",
                "        source=os.path.join(pdb_folder, '6m18.pdb'),\n",
                "        occurrences=8,\n",
                "        position=Vector3(0.0, 6.0, 0.0),\n",
                "        rotation=Quaternion(0.0, 1.0, 0.0, 0.0)\n",
                "    )\n",
                "\n",
                "    # Membrane definition\n",
                "    membrane = Membrane(\n",
                "        lipid_sources=[\n",
                "            os.path.join(membrane_folder, 'segA.pdb'),\n",
                "            os.path.join(membrane_folder, 'segB.pdb'),\n",
                "            os.path.join(membrane_folder, 'segC.pdb'),\n",
                "            os.path.join(membrane_folder, 'segD.pdb')],\n",
                "        animation_params=AnimationParams(random_seed, random_seed + 1, 1.0, random_seed + 2, 0.025)\n",
                "    )\n",
                "\n",
                "    # Cell definition\n",
                "    cell_size = Vector3(800.0, 80.0, 800.0)\n",
                "    cell = Cell(\n",
                "        name='Cell', shape_params=cell_size,\n",
                "        shape=be.ASSEMBLY_SHAPE_SINUSOID,\n",
                "        membrane=membrane, proteins=[ace2_receptor]\n",
                "    )\n",
                "\n",
                "    # Add cell to scene\n",
                "    be.add_cell(cell=cell, representation=representation)\n",
                "    \n",
                "    # Materials\n",
                "    be.apply_default_color_scheme(be.SHADING_MODE_DIFFUSE)\n",
                "    \n",
                "    be.set_models_visibility(True)\n",
                "    core.set_application_parameters(image_stream_fps=20)"
            ]
        },
        {
            "cell_type": "code",
            "execution_count": null,
            "metadata": {},
            "outputs": [],
            "source": [
                "status = core.set_camera(\n",
                "    orientation=[-0.085, 0.340, 0.022, 0.936],\n",
                "    position=[461.372, 55.791, 480.118],\n",
                "    target=[23.322, -65.160, -40.892]\n",
                ")"
            ]
        },
        {
            "cell_type": "code",
            "execution_count": null,
            "metadata": {},
            "outputs": [],
            "source": [
                "status = be.set_rendering_quality(be.RENDERING_QUALITY_HIGH)"
            ]
        },
        {
            "cell_type": "code",
            "execution_count": null,
            "metadata": {},
            "outputs": [],
            "source": [
                "from tqdm import tqdm\n",
                "\n",
                "mm = MovieMaker(be)\n",
                "output_folder = '/tmp'\n",
                "\n",
                "for frame in tqdm(range(1, 20)):\n",
                "    '''Cell'''\n",
                "    add_cell(frame * 3)\n",
                "    \n",
                "    '''Snapshot'''\n",
                "    mm.create_snapshot(\n",
                "        renderer='bio_explorer',\n",
                "        size=[256, 256], samples_per_pixel=64,\n",
                "        path=output_folder, base_name='%05d' % frame)"
            ]
        }
    ],
    "metadata": {
        "interpreter": {
            "hash": "ea9a5fa46eb6bad2806a8ea1d08e15bb1e255a2d4320b81e765591579963c56b"
        },
        "kernelspec": {
            "display_name": "Python 3.8.10 64-bit ('env': venv)",
            "language": "python",
            "name": "python3"
        },
        "language_info": {
            "codemirror_mode": {
                "name": "ipython",
                "version": 3
            },
            "file_extension": ".py",
            "mimetype": "text/x-python",
            "name": "python",
            "nbconvert_exporter": "python",
            "pygments_lexer": "ipython3",
            "version": "3.8.10"
        }
    },
    "nbformat": 4,
    "nbformat_minor": 4
}