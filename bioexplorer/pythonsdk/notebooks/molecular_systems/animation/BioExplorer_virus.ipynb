{
    "cells": [
        {
            "cell_type": "markdown",
            "metadata": {},
            "source": [
                "# Blue Brain BioExplorer\n",
                "\n",
                "![](../../bioexplorer_banner.png)"
            ]
        },
        {
            "cell_type": "code",
            "execution_count": null,
            "metadata": {
                "scrolled": true
            },
            "outputs": [],
            "source": [
                "from bioexplorer import BioExplorer, MolecularSystemAnimationParams, MovieMaker\n",
                "import os\n",
                "\n",
                "be = BioExplorer('localhost:5000')\n",
                "core = be.core_api()\n",
                "status = be.reset_scene()\n",
                "be.set_general_settings(model_visibility_on_creation=False)"
            ]
        },
        {
            "cell_type": "markdown",
            "metadata": {},
            "source": [
                "### Resources"
            ]
        },
        {
            "cell_type": "code",
            "execution_count": null,
            "metadata": {},
            "outputs": [],
            "source": [
                "resource_folder = os.path.abspath('../../../tests/test_files')\n",
                "\n",
                "pdb_folder = os.path.join(resource_folder, 'pdb')\n",
                "rna_folder = os.path.join(resource_folder, 'rna')\n",
                "\n",
                "glycan_folder = os.path.join(pdb_folder, 'glycans')\n",
                "complex_folder = os.path.join(glycan_folder, 'complex')\n",
                "high_mannose_folder = os.path.join(glycan_folder, 'high-mannose')\n",
                "hybrid_folder = os.path.join(glycan_folder, 'hybrid')\n",
                "o_glycan_folder = os.path.join(glycan_folder, 'o-glycan')\n",
                "\n",
                "complex_paths = [\n",
                "    os.path.join(complex_folder, '33.pdb'),\n",
                "    os.path.join(complex_folder, '34.pdb'),\n",
                "    os.path.join(complex_folder, '35.pdb'),\n",
                "    os.path.join(complex_folder, '36.pdb')\n",
                "]\n",
                "high_mannose_paths = [\n",
                "    os.path.join(high_mannose_folder, '1.pdb'),\n",
                "    os.path.join(high_mannose_folder, '2.pdb'),\n",
                "    os.path.join(high_mannose_folder, '3.pdb'),\n",
                "    os.path.join(high_mannose_folder, '4.pdb')\n",
                "]\n",
                "hybrid_paths = [os.path.join(hybrid_folder, '24.pdb')]\n",
                "o_glycan_paths = [os.path.join(o_glycan_folder, '12.pdb')]"
            ]
        },
        {
            "cell_type": "markdown",
            "metadata": {},
            "source": [
                "### Configuration"
            ]
        },
        {
            "cell_type": "code",
            "execution_count": null,
            "metadata": {},
            "outputs": [],
            "source": [
                "# Proteins\n",
                "protein_radius_multiplier = 1.0\n",
                "protein_representation = be.REPRESENTATION_ATOMS_AND_STICKS\n",
                "protein_load_hydrogen = False\n",
                "\n",
                "# Viruses\n",
                "nb_protein_s = 62\n",
                "nb_protein_e = 42\n",
                "nb_protein_m = 50\n",
                "add_rna_sequence = True\n",
                "\n",
                "# Glycans\n",
                "add_glycans = True\n",
                "glycan_radius_multiplier = 1.0\n",
                "glycan_representation = be.REPRESENTATION_ATOMS_AND_STICKS"
            ]
        },
        {
            "cell_type": "markdown",
            "metadata": {},
            "source": [
                "## Camera"
            ]
        },
        {
            "cell_type": "code",
            "execution_count": null,
            "metadata": {},
            "outputs": [],
            "source": [
                "status = be.core_api().set_camera(\n",
                "    orientation=[0.0, 0.0, 0.0, 1.0],\n",
                "    position=[-7.300, -2.921, 198.551],\n",
                "    target=[-7.300, -2.921, 2.096]\n",
                ")"
            ]
        },
        {
            "cell_type": "markdown",
            "metadata": {},
            "source": [
                "## Scene description"
            ]
        },
        {
            "cell_type": "markdown",
            "metadata": {},
            "source": [
                "### SARS-COV-2 Coronavirus"
            ]
        },
        {
            "cell_type": "code",
            "execution_count": null,
            "metadata": {
                "scrolled": true
            },
            "outputs": [],
            "source": [
                "def add_virus(\n",
                "        random_seed, random_position_seed,\n",
                "        random_rotation_seed):\n",
                "    be.add_sars_cov_2(\n",
                "        name='sars-cov-2', resource_folder=resource_folder,\n",
                "        atom_radius_multiplier=protein_radius_multiplier,\n",
                "        representation=protein_representation,\n",
                "        add_rna_sequence=add_rna_sequence,\n",
                "        add_glycans=add_glycans,\n",
                "        clipping_planes=[[0.0, 0.0, -1.0, 28.0]],\n",
                "        animation_params=MolecularSystemAnimationParams(\n",
                "            random_seed, random_position_seed, 0.2, random_rotation_seed + 1, 0.1)\n",
                "    )\n",
                "    be.set_models_visibility(True)"
            ]
        },
        {
            "cell_type": "markdown",
            "metadata": {},
            "source": [
                "## Rendering settings"
            ]
        },
        {
            "cell_type": "code",
            "execution_count": null,
            "metadata": {},
            "outputs": [],
            "source": [
                "status = be.set_rendering_quality(be.RENDERING_QUALITY_HIGH)"
            ]
        },
        {
            "cell_type": "markdown",
            "metadata": {},
            "source": [
                "## Animation"
            ]
        },
        {
            "cell_type": "code",
            "execution_count": null,
            "metadata": {
                "scrolled": true
            },
            "outputs": [],
            "source": [
                "from tqdm import tqdm\n",
                "\n",
                "mm = MovieMaker(be)\n",
                "output_folder = '/tmp'\n",
                "\n",
                "for frame in tqdm(range(36)):\n",
                "    add_virus(1 + frame * 10, 2 + frame * 10, 3 + 10 * frame)\n",
                "    be.reset_camera()\n",
                "\n",
                "    '''Snapshot'''\n",
                "    mm.create_snapshot(\n",
                "        renderer='advanced',\n",
                "        size=[512, 512], samples_per_pixel=64,\n",
                "        path=output_folder, base_name='%05d' % frame)"
            ]
        }
    ],
    "metadata": {
        "kernelspec": {
            "display_name": "Python 3.8.10 ('env')",
            "language": "python",
            "name": "python3"
        },
        "language_info": {
            "codemirror_mode": {
                "name": "ipython",
                "version": 3
            },
            "file_extension": ".py",
            "mimetype": "text/x-python",
            "name": "python",
            "nbconvert_exporter": "python",
            "pygments_lexer": "ipython3",
            "version": "3.8.10"
        },
        "vscode": {
            "interpreter": {
                "hash": "ea9a5fa46eb6bad2806a8ea1d08e15bb1e255a2d4320b81e765591579963c56b"
            }
        }
    },
    "nbformat": 4,
    "nbformat_minor": 4
}