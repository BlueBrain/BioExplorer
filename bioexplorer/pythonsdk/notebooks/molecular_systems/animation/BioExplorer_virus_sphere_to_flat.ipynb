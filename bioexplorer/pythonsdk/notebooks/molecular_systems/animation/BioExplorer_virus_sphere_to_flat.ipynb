{
    "cells": [
        {
            "cell_type": "markdown",
            "metadata": {},
            "source": [
                "# Blue Brain BioExplorer\n",
                "\n",
                "![](../../bioexplorer_banner.png)"
            ]
        },
        {
            "cell_type": "markdown",
            "metadata": {},
            "source": [
                "## Visualization of a SARS-COV-2 Coronavirus"
            ]
        },
        {
            "cell_type": "code",
            "execution_count": null,
            "metadata": {},
            "outputs": [],
            "source": [
                "from bioexplorer import BioExplorer, MovieMaker, AnimationParams\n",
                "import os\n",
                "\n",
                "be = BioExplorer()\n",
                "core = be.core_api()\n",
                "be.reset_scene()\n",
                "print(be.version())"
            ]
        },
        {
            "cell_type": "markdown",
            "metadata": {},
            "source": [
                "## Resources"
            ]
        },
        {
            "cell_type": "code",
            "execution_count": null,
            "metadata": {
                "scrolled": true
            },
            "outputs": [],
            "source": [
                "resource_folder = os.path.abspath('../../../tests/test_files')\n",
                "\n",
                "pdb_folder = os.path.join(resource_folder, 'pdb')\n",
                "\n",
                "glycan_folder = os.path.join(pdb_folder, 'glycans')\n",
                "complex_folder = os.path.join(glycan_folder, 'complex')\n",
                "high_mannose_folder = os.path.join(glycan_folder, 'high-mannose')\n",
                "hybrid_folder = os.path.join(glycan_folder, 'hybrid')\n",
                "o_glycan_folder = os.path.join(glycan_folder, 'o-glycan')\n",
                "\n",
                "complex_paths = [\n",
                "    os.path.join(complex_folder, '33.pdb'),\n",
                "    os.path.join(complex_folder, '34.pdb'),\n",
                "    os.path.join(complex_folder, '35.pdb'),\n",
                "    os.path.join(complex_folder, '36.pdb')\n",
                "]\n",
                "high_mannose_paths = [\n",
                "    os.path.join(high_mannose_folder, '1.pdb'),\n",
                "    os.path.join(high_mannose_folder, '2.pdb'),\n",
                "    os.path.join(high_mannose_folder, '3.pdb'),\n",
                "    os.path.join(high_mannose_folder, '4.pdb')\n",
                "]\n",
                "hybrid_paths = [os.path.join(hybrid_folder, '24.pdb')]\n",
                "o_glycan_paths = [os.path.join(o_glycan_folder, '12.pdb')]"
            ]
        },
        {
            "cell_type": "code",
            "execution_count": null,
            "metadata": {},
            "outputs": [],
            "source": [
                "status = core.set_camera(\n",
                "    orientation=[0.0, 0.0, 0.0, 1.0],\n",
                "    position=[-2.318, -1.736, 182.840],\n",
                "    target=[-2.318, -1.736, 8.912]\n",
                ")"
            ]
        },
        {
            "cell_type": "code",
            "execution_count": null,
            "metadata": {},
            "outputs": [],
            "source": [
                "status = be.set_rendering_quality(be.RENDERING_QUALITY_HIGH)"
            ]
        },
        {
            "cell_type": "code",
            "execution_count": null,
            "metadata": {},
            "outputs": [],
            "source": [
                "# Proteins\n",
                "protein_radius_multiplier = 1.0\n",
                "protein_representation = be.REPRESENTATION_ATOMS"
            ]
        },
        {
            "cell_type": "code",
            "execution_count": null,
            "metadata": {},
            "outputs": [],
            "source": [
                "def add_virus(\n",
                "        random_seed, random_position_seed,\n",
                "        random_rotation_seed, morphing_step):\n",
                "    be.add_sars_cov_2(\n",
                "        name='sars-cov-2', resource_folder=resource_folder,\n",
                "        atom_radius_multiplier=protein_radius_multiplier,\n",
                "        representation=protein_representation,\n",
                "        add_glycans=True,\n",
                "        animation_params=AnimationParams(\n",
                "            random_seed, random_position_seed, 0.5, random_rotation_seed + 1, 0.025, morphing_step)\n",
                "    )"
            ]
        },
        {
            "cell_type": "code",
            "execution_count": null,
            "metadata": {
                "scrolled": true
            },
            "outputs": [],
            "source": [
                "from tqdm import tqdm\n",
                "\n",
                "mm = MovieMaker(be)\n",
                "output_folder = '/tmp'\n",
                "\n",
                "be.set_general_settings(model_visibility_on_creation=False, mesh_folder=output_folder)\n",
                "nb_frames = 100\n",
                "\n",
                "core.set_application_parameters(image_stream_fps=0)\n",
                "for frame in tqdm(range(nb_frames)):\n",
                "    \n",
                "    '''Virus'''\n",
                "    add_virus(5 * frame + 1, 5 * frame + 2, frame + 3, float(frame) / float(nb_frames))\n",
                "\n",
                "    '''Materials'''\n",
                "    be.apply_default_color_scheme(shading_mode=be.SHADING_MODE_BASIC, user_parameter=1.0)\n",
                "    be.set_models_visibility(True)\n",
                "    \n",
                "    '''Snapshot'''\n",
                "    mm.create_snapshot(\n",
                "        renderer='bio_explorer',\n",
                "        size=[540, 540], samples_per_pixel=64,\n",
                "        path=output_folder, base_name='%05d' % frame)\n",
                "        \n",
                "status = core.set_application_parameters(image_stream_fps=20)"
            ]
        }
    ],
    "metadata": {
        "kernelspec": {
            "display_name": "Python 3.8.10 ('env')",
            "language": "python",
            "name": "python3"
        },
        "language_info": {
            "codemirror_mode": {
                "name": "ipython",
                "version": 3
            },
            "file_extension": ".py",
            "mimetype": "text/x-python",
            "name": "python",
            "nbconvert_exporter": "python",
            "pygments_lexer": "ipython3",
            "version": "3.8.10"
        },
        "vscode": {
            "interpreter": {
                "hash": "ea9a5fa46eb6bad2806a8ea1d08e15bb1e255a2d4320b81e765591579963c56b"
            }
        }
    },
    "nbformat": 4,
    "nbformat_minor": 4
}
