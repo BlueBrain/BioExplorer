{
    "cells": [
        {
            "cell_type": "markdown",
            "metadata": {},
            "source": [
                "# Blue Brain BioExplorer\n",
                "![](../bioexplorer_banner.png)"
            ]
        },
        {
            "cell_type": "code",
            "execution_count": null,
            "metadata": {},
            "outputs": [],
            "source": [
                "from bioexplorer import BioExplorer, MolecularSystemAnimationParams, Surfactant, Vector3, Quaternion, MovieMaker\n",
                "import nglview\n",
                "import os\n",
                "\n",
                "be = BioExplorer('localhost:5000')\n",
                "status = be.reset_scene()"
            ]
        },
        {
            "cell_type": "markdown",
            "metadata": {},
            "source": [
                "### Resources"
            ]
        },
        {
            "cell_type": "code",
            "execution_count": null,
            "metadata": {},
            "outputs": [],
            "source": [
                "resource_folder = os.path.abspath('../../tests/test_files')\n",
                "pdb_folder = os.path.join(resource_folder, 'pdb')\n",
                "\n",
                "surfactant_folder = os.path.join(resource_folder, 'surfactant')\n",
                "surfactant_head_source = os.path.join(surfactant_folder, '1pw9.pdb')\n",
                "surfactant_branch_source = os.path.join(surfactant_folder, '1k6f.pdb')"
            ]
        },
        {
            "cell_type": "markdown",
            "metadata": {},
            "source": [
                "### Configuration"
            ]
        },
        {
            "cell_type": "code",
            "execution_count": null,
            "metadata": {},
            "outputs": [],
            "source": [
                "# Proteins\n",
                "debug = False\n",
                "\n",
                "protein_radius_multiplier = 1.0\n",
                "protein_representation = be.REPRESENTATION_ATOMS_AND_STICKS\n",
                "if debug:\n",
                "    protein_representation = be.REPRESENTATION_DEBUG\n",
                "protein_load_hydrogen = False"
            ]
        },
        {
            "cell_type": "markdown",
            "metadata": {},
            "source": [
                "## Camera"
            ]
        },
        {
            "cell_type": "code",
            "execution_count": null,
            "metadata": {},
            "outputs": [],
            "source": [
                "status = be.core_api().set_camera(\n",
                "    orientation=[0.0, 0.0, 0.0, 1.0],\n",
                "    position=[1.09, -3.343, 119.226],\n",
                "    target=[1.09, -3.343, 12.059])"
            ]
        },
        {
            "cell_type": "markdown",
            "metadata": {},
            "source": [
                "## Scene description"
            ]
        },
        {
            "cell_type": "markdown",
            "metadata": {},
            "source": [
                "#### Surfactant-D"
            ]
        },
        {
            "cell_type": "code",
            "execution_count": null,
            "metadata": {},
            "outputs": [],
            "source": [
                "nglview.show_file(surfactant_head_source)"
            ]
        },
        {
            "cell_type": "code",
            "execution_count": null,
            "metadata": {
                "scrolled": true
            },
            "outputs": [],
            "source": [
                "nglview.show_file(surfactant_branch_source)"
            ]
        },
        {
            "cell_type": "code",
            "execution_count": null,
            "metadata": {},
            "outputs": [],
            "source": [
                "def add_surfactant_d(name, position, rotation, animation_params):\n",
                "    surfactant_d = Surfactant(\n",
                "        name=name, surfactant_protein=be.SURFACTANT_PROTEIN_D,\n",
                "        head_source=surfactant_head_source,\n",
                "        branch_source=surfactant_branch_source)\n",
                "    be.add_surfactant(\n",
                "        surfactant=surfactant_d,\n",
                "        representation=protein_representation,\n",
                "        atom_radius_multiplier=protein_radius_multiplier,\n",
                "        position=position, rotation=rotation,\n",
                "        animation_params=animation_params)\n",
                "\n",
                "status = add_surfactant_d(\n",
                "    name='Surfactant-D 1',\n",
                "    # animation_params=MolecularSystemAnimationParams(1,0,0.0,1,0.025),\n",
                "    animation_params=MolecularSystemAnimationParams(1),\n",
                "    position=Vector3(), rotation=Quaternion(0, 1, 0, 0))"
            ]
        },
        {
            "cell_type": "markdown",
            "metadata": {},
            "source": [
                "## Materials"
            ]
        },
        {
            "cell_type": "code",
            "execution_count": null,
            "metadata": {},
            "outputs": [],
            "source": [
                "be.apply_default_color_scheme(shading_mode=be.SHADING_MODE_BASIC)\n",
                "\n",
                "for model in be.core_api().scene.models:\n",
                "    model_id = model['id']\n",
                "    model_name = model['name']\n",
                "    if be.NAME_COLLAGEN in model_name:\n",
                "        material_ids = list(be.get_material_ids(model_id)['ids'])\n",
                "        nb_materials = len(material_ids)\n",
                "        print(model_name)\n",
                "        palette = list()\n",
                "        emissions = list()\n",
                "        for i in range(nb_materials):\n",
                "            palette.append([1,1,1])\n",
                "            emissions.append(0.2)\n",
                "        be.set_materials(\n",
                "            model_ids=[model_id], material_ids=material_ids,\n",
                "            diffuse_colors=palette, specular_colors=palette,\n",
                "            emissions=emissions\n",
                "        )\n",
                "status = be.core_api().scene.commit()"
            ]
        },
        {
            "cell_type": "markdown",
            "metadata": {},
            "source": [
                "## Rendering settings"
            ]
        },
        {
            "cell_type": "code",
            "execution_count": null,
            "metadata": {},
            "outputs": [],
            "source": [
                "status = be.core_api().set_renderer(\n",
                "    background_color=[96 / 255, 125 / 255, 139 / 255],\n",
                "    current='bio_explorer',\n",
                "    samples_per_pixel=1, subsampling=4, max_accum_frames=64)\n",
                "params = be.core_api().BioExplorerRendererParams()\n",
                "params.gi_samples = 1\n",
                "params.gi_weight = 0.3\n",
                "params.gi_distance = 500\n",
                "params.shadows = 1.0\n",
                "params.soft_shadows = 0.3\n",
                "params.fog_start = 1500\n",
                "params.fog_thickness = 1500\n",
                "params.max_bounces = 1\n",
                "status = status = be.core_api().set_renderer_params(params)"
            ]
        },
        {
            "cell_type": "markdown",
            "metadata": {},
            "source": [
                "## Snapshot"
            ]
        },
        {
            "cell_type": "code",
            "execution_count": null,
            "metadata": {},
            "outputs": [],
            "source": [
                "mm = MovieMaker(be)"
            ]
        },
        {
            "cell_type": "code",
            "execution_count": null,
            "metadata": {},
            "outputs": [],
            "source": [
                "mm.create_snapshot(\n",
                "    renderer='bio_explorer',\n",
                "    path='/tmp', base_name='surfactant-a',\n",
                "    samples_per_pixel=64, size=[512, 512])"
            ]
        }
    ],
    "metadata": {
        "kernelspec": {
            "display_name": "Python 3.8.10 ('env')",
            "language": "python",
            "name": "python3"
        },
        "language_info": {
            "codemirror_mode": {
                "name": "ipython",
                "version": 3
            },
            "file_extension": ".py",
            "mimetype": "text/x-python",
            "name": "python",
            "nbconvert_exporter": "python",
            "pygments_lexer": "ipython3",
            "version": "3.8.10"
        },
        "vscode": {
            "interpreter": {
                "hash": "ea9a5fa46eb6bad2806a8ea1d08e15bb1e255a2d4320b81e765591579963c56b"
            }
        }
    },
    "nbformat": 4,
    "nbformat_minor": 4
}