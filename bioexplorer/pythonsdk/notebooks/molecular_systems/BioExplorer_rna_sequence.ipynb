{
 "cells": [
  {
   "cell_type": "markdown",
   "metadata": {},
   "source": [
    "# Blue Brain BioExplorer\n",
    "\n",
    "![](../bioexplorer_banner.png)"
   ]
  },
  {
   "cell_type": "markdown",
   "metadata": {},
   "source": [
    "## Visualization of an RNA sequence (Work in progress!)"
   ]
  },
  {
   "cell_type": "code",
   "execution_count": null,
   "metadata": {},
   "outputs": [],
   "source": [
    "from bioexplorer import BioExplorer, RNASequence, Vector2, Vector3\n",
    "be = BioExplorer()\n",
    "status = be.reset_scene()\n",
    "print(be.version())"
   ]
  },
  {
   "cell_type": "code",
   "execution_count": null,
   "metadata": {
    "scrolled": true
   },
   "outputs": [],
   "source": [
    "# Resources\n",
    "resource_folder = '../../tests/test_files/'\n",
    "rna_folder = resource_folder + 'rna/'\n",
    "pdb_folder = resource_folder + 'pdb/'"
   ]
  },
  {
   "cell_type": "code",
   "execution_count": null,
   "metadata": {},
   "outputs": [],
   "source": [
    "import math\n",
    "\n",
    "assembly_name = 'RNA assembly'\n",
    "rna_name = assembly_name + '_' + be.NAME_RNA_SEQUENCE\n",
    "\n",
    "rna_sequence = RNASequence(\n",
    "    source=rna_folder + 'sars-cov-2.rna',\n",
    "    protein_source=pdb_folder + '7bv1.pdb',\n",
    "    shape=be.RNA_SHAPE_TREFOIL_KNOT,\n",
    "    shape_params=Vector2(40.0, 0.5),\n",
    "    values_range=Vector2(-8 * math.pi, 8 * math.pi), \n",
    "    curve_params=Vector3(1.51, 1.12, 1.93))\n",
    "\n",
    "be.remove_assembly(name=assembly_name)\n",
    "be.add_assembly(name=assembly_name)\n",
    "status = be.add_rna_sequence(\n",
    "    assembly_name=assembly_name, \n",
    "    name=rna_name,\n",
    "    rna_sequence=rna_sequence)"
   ]
  },
  {
   "cell_type": "markdown",
   "metadata": {},
   "source": [
    "## Rendering settings"
   ]
  },
  {
   "cell_type": "code",
   "execution_count": null,
   "metadata": {},
   "outputs": [],
   "source": [
    "status = be.set_rendering_quality(be.RENDERING_QUALITY_HIGH)"
   ]
  },
  {
   "cell_type": "code",
   "execution_count": null,
   "metadata": {},
   "outputs": [],
   "source": [
    "status = be.set_protein_color_scheme(\n",
    "    assembly_name=assembly_name,\n",
    "    name=rna_name,\n",
    "    color_scheme=be.COLOR_SCHEME_CHAINS,\n",
    "    palette_name='Set1', palette_size=4)"
   ]
  }
 ],
 "metadata": {
  "kernelspec": {
   "display_name": "Python 3.8.10 ('env')",
   "language": "python",
   "name": "python3"
  },
  "language_info": {
   "codemirror_mode": {
    "name": "ipython",
    "version": 3
   },
   "file_extension": ".py",
   "mimetype": "text/x-python",
   "name": "python",
   "nbconvert_exporter": "python",
   "pygments_lexer": "ipython3",
   "version": "3.8.10"
  },
  "vscode": {
   "interpreter": {
    "hash": "ea9a5fa46eb6bad2806a8ea1d08e15bb1e255a2d4320b81e765591579963c56b"
   }
  }
 },
 "nbformat": 4,
 "nbformat_minor": 4
}
