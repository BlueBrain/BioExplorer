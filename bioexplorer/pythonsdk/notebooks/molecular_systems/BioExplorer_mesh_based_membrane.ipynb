{
    "cells": [
        {
            "cell_type": "markdown",
            "metadata": {},
            "source": [
                "# Blue Brain BioExplorer\n",
                "\n",
                "![](../bioexplorer_banner.png)"
            ]
        },
        {
            "cell_type": "markdown",
            "metadata": {},
            "source": [
                "## Visualization of a membrane defined by a mesh"
            ]
        },
        {
            "cell_type": "code",
            "execution_count": null,
            "metadata": {},
            "outputs": [
                {
                    "name": "stderr",
                    "output_type": "stream",
                    "text": [
                        "Future exception was never retrieved\n",
                        "future: <Future finished exception=ConnectionClosedError(None, None, None)>\n",
                        "websockets.exceptions.ConnectionClosedError: no close frame received or sent\n"
                    ]
                }
            ],
            "source": [
                "from bioexplorer import BioExplorer, Cell, Protein, Membrane, MolecularSystemAnimationParams, Vector2, Vector3, Quaternion\n",
                "import glob\n",
                "import os\n",
                "\n",
                "be = BioExplorer('localhost:5000')\n",
                "core = be.core_api()\n",
                "status = be.reset_scene()"
            ]
        },
        {
            "cell_type": "markdown",
            "metadata": {},
            "source": [
                "### Resources"
            ]
        },
        {
            "cell_type": "code",
            "execution_count": null,
            "metadata": {},
            "outputs": [],
            "source": [
                "resource_folder = os.path.abspath('../../tests/test_files')\n",
                "pdb_folder = os.path.join(resource_folder, 'pdb')\n",
                "obj_folder = os.path.join(resource_folder, 'obj')\n",
                "membrane_folder = os.path.join(pdb_folder, 'membrane')\n",
                "lipids_folder = os.path.join(membrane_folder, 'lipids')\n",
                "transporters_folder = os.path.join(pdb_folder, 'transporters')\n",
                "\n",
                "representation = be.protein_representation.ATOMS_AND_STICKS"
            ]
        },
        {
            "cell_type": "markdown",
            "metadata": {},
            "source": [
                "### Configuration"
            ]
        },
        {
            "cell_type": "code",
            "execution_count": null,
            "metadata": {},
            "outputs": [],
            "source": [
                "mesh_source= os.path.join(obj_folder, 'suzanne.obj')\n",
                "rotation = Quaternion(1, 0, 0, 0)\n",
                "position = Vector3(100.0, 0.0, 0.0)\n",
                "scale = Vector3(2.5,2.5,2.5)"
            ]
        },
        {
            "cell_type": "markdown",
            "metadata": {},
            "source": [
                "## Camera position"
            ]
        },
        {
            "cell_type": "code",
            "execution_count": null,
            "metadata": {},
            "outputs": [],
            "source": [
                "status = be.core_api().set_camera(\n",
                "    orientation=[-0.114, 0.341, 0.020, 0.932],\n",
                "    position=[368.152, 107.242, 367.312],\n",
                "    target=[50.364, -6.824, -5.159]\n",
                ")"
            ]
        },
        {
            "cell_type": "markdown",
            "metadata": {},
            "source": [
                "### Membrane"
            ]
        },
        {
            "cell_type": "code",
            "execution_count": null,
            "metadata": {},
            "outputs": [],
            "source": [
                "name = 'Suzanne'\n",
                "\n",
                "# ACE2 receptor definition\n",
                "ace2_receptor = Protein(\n",
                "    name=be.NAME_TRANS_MEMBRANE + '_ACE2',\n",
                "    source=os.path.join(pdb_folder, '6m18.pdb'),\n",
                "    transmembrane_params=Vector2(1.0, 2.0),\n",
                "    rotation=Quaternion(0.0, 1.0, 0.0, 0.0),\n",
                "    animation_params=MolecularSystemAnimationParams(1), occurrences=20)\n",
                "\n",
                "# GLUT3 definition\n",
                "transporter = Protein(\n",
                "    name=be.NAME_TRANS_MEMBRANE + '_GLUT3',\n",
                "    source=os.path.join(transporters_folder, '4zwc.pdb'),\n",
                "    transmembrane_params=Vector2(1.0, 2.0),\n",
                "    rotation=Quaternion(0.707, 0.707, 0.0, 0.0),\n",
                "    animation_params=MolecularSystemAnimationParams(2), chain_ids=[1], occurrences=30)\n",
                "\n",
                "# Membrane definition\n",
                "pdb_lipids = glob.glob(os.path.join(lipids_folder, '*.pdb'))[:8]\n",
                "\n",
                "membrane = Membrane(\n",
                "    lipid_sources=pdb_lipids, lipid_density=1.0,\n",
                "    load_non_polymer_chemicals=True, load_bonds=True,\n",
                "    animation_params=MolecularSystemAnimationParams(0, 1, 0.025, 2, 0.5)\n",
                ")\n",
                "\n",
                "clipping_planes = [\n",
                "    [0.0, 1.0, 0.0, 20],\n",
                "    [1.0, 0.0, 0.0, 10],\n",
                "]\n",
                "\n",
                "# Cell definition\n",
                "cell = Cell(\n",
                "    name=name,\n",
                "    shape=be.assembly_shape.MESH,\n",
                "    shape_params=scale,\n",
                "    shape_mesh_source=mesh_source, \n",
                "    membrane=membrane,\n",
                "    proteins=[ace2_receptor, transporter]\n",
                ")\n",
                "\n",
                "# Add cell to scene\n",
                "status = be.add_cell(\n",
                "    cell=cell, representation=representation,\n",
                "    clipping_planes=clipping_planes\n",
                ")"
            ]
        },
        {
            "cell_type": "markdown",
            "metadata": {},
            "source": [
                "## Rendering settings"
            ]
        },
        {
            "cell_type": "code",
            "execution_count": null,
            "metadata": {},
            "outputs": [],
            "source": [
                "status = be.set_rendering_quality(be.rendering_quality.HIGH)"
            ]
        },
        {
            "cell_type": "markdown",
            "metadata": {},
            "source": [
                "## Environment with protein location constraints"
            ]
        },
        {
            "cell_type": "code",
            "execution_count": null,
            "metadata": {},
            "outputs": [],
            "source": [
                "from bioexplorer import Protein, Volume, MolecularSystemAnimationParams"
            ]
        },
        {
            "cell_type": "code",
            "execution_count": null,
            "metadata": {},
            "outputs": [],
            "source": [
                "scene_size = Vector3(300, 300, 300)\n",
                "nb_glucoses = 100\n",
                "nb_lactoferrins = 20\n",
                "\n",
                "glucose_path = os.path.join(pdb_folder, 'glucose.pdb')\n",
                "immune_folder = os.path.join(pdb_folder, 'immune')\n",
                "lactoferrin_path = os.path.join(immune_folder, '1b0l.pdb')\n",
                "defensin_path = os.path.join(immune_folder, '1ijv.pdb')"
            ]
        },
        {
            "cell_type": "code",
            "execution_count": null,
            "metadata": {},
            "outputs": [],
            "source": [
                "constraints=list()\n",
                "constraints.append([be.position_constraint.OUTSIDE, 'Suzanne'])"
            ]
        },
        {
            "cell_type": "code",
            "execution_count": null,
            "metadata": {},
            "outputs": [],
            "source": [
                "glucose = Protein(\n",
                "    name=be.NAME_GLUCOSE, \n",
                "    source=glucose_path, load_non_polymer_chemicals=True, \n",
                "    animation_params=MolecularSystemAnimationParams(1, 0, 0.0, 2, 1.0),\n",
                "    occurrences=nb_glucoses)\n",
                "volume = Volume(\n",
                "    name=be.NAME_GLUCOSE, \n",
                "    shape=be.assembly_shape.CUBE, shape_params=scene_size,\n",
                "    protein=glucose)\n",
                "status = be.add_volume(\n",
                "    volume=volume,\n",
                "    representation=be.protein_representation.ATOMS_AND_STICKS,\n",
                "    atom_radius_multiplier=2.0, constraints=constraints)"
            ]
        },
        {
            "cell_type": "code",
            "execution_count": null,
            "metadata": {},
            "outputs": [],
            "source": [
                "lactoferrin = Protein(\n",
                "    name=be.NAME_LACTOFERRIN, \n",
                "    source=lactoferrin_path, load_non_polymer_chemicals=True,\n",
                "    animation_params=MolecularSystemAnimationParams(3, 0, 0.0, 4, 1.0),\n",
                "    occurrences=nb_lactoferrins)\n",
                "lactoferrins_volume = Volume(\n",
                "    name=be.NAME_LACTOFERRIN, \n",
                "    shape=be.assembly_shape.CUBE, shape_params=scene_size,\n",
                "    protein=lactoferrin,\n",
                ")\n",
                "status = be.add_volume(\n",
                "    volume=lactoferrins_volume,\n",
                "    representation=be.protein_representation.ATOMS_AND_STICKS,\n",
                "    atom_radius_multiplier=2.0, constraints=constraints)"
            ]
        },
        {
            "cell_type": "code",
            "execution_count": null,
            "metadata": {},
            "outputs": [],
            "source": [
                "be.apply_default_color_scheme(shading_mode=be.shading_mode.BASIC)"
            ]
        },
        {
            "cell_type": "code",
            "execution_count": null,
            "metadata": {},
            "outputs": [],
            "source": [
                "from bioexplorer import MovieMaker\n",
                "mm = MovieMaker(be)"
            ]
        },
        {
            "cell_type": "code",
            "execution_count": null,
            "metadata": {},
            "outputs": [],
            "source": [
                "mm.create_snapshot(\n",
                "    renderer='advanced',\n",
                "    path='/tmp', base_name='suzanne',\n",
                "    size=[512, 512], samples_per_pixel=64)"
            ]
        }
    ],
    "metadata": {
        "kernelspec": {
            "display_name": "Python 3.8.10 ('env')",
            "language": "python",
            "name": "python3"
        },
        "language_info": {
            "codemirror_mode": {
                "name": "ipython",
                "version": 3
            },
            "file_extension": ".py",
            "mimetype": "text/x-python",
            "name": "python",
            "nbconvert_exporter": "python",
            "pygments_lexer": "ipython3",
            "version": "3.10.12"
        },
        "vscode": {
            "interpreter": {
                "hash": "ea9a5fa46eb6bad2806a8ea1d08e15bb1e255a2d4320b81e765591579963c56b"
            }
        }
    },
    "nbformat": 4,
    "nbformat_minor": 4
}
