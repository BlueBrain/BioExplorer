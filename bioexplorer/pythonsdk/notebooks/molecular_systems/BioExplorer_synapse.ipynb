{
    "cells": [
        {
            "cell_type": "markdown",
            "metadata": {},
            "source": [
                "# Blue Brain BioExplorer\n",
                "\n",
                "![](../bioexplorer_banner.png)"
            ]
        },
        {
            "cell_type": "markdown",
            "metadata": {},
            "source": [
                "## Visualization of a membrane defined by a mesh"
            ]
        },
        {
            "cell_type": "code",
            "execution_count": null,
            "metadata": {},
            "outputs": [],
            "source": [
                "from bioexplorer import BioExplorer, Cell, Membrane, Protein, MolecularSystemAnimationParams, \\\n",
                "                        Vector2, Vector3, Quaternion\n",
                "import os\n",
                "\n",
                "be = BioExplorer()\n",
                "core = be.core_api()\n",
                "status = be.reset_scene()"
            ]
        },
        {
            "cell_type": "markdown",
            "metadata": {},
            "source": [
                "### Resources"
            ]
        },
        {
            "cell_type": "code",
            "execution_count": null,
            "metadata": {},
            "outputs": [],
            "source": [
                "resource_folder = os.path.abspath('../../tests/test_files')\n",
                "\n",
                "pdb_folder = os.path.join(resource_folder, 'pdb')\n",
                "obj_folder = os.path.join(resource_folder, 'obj')\n",
                "membrane_folder = os.path.join(pdb_folder, 'membrane')\n",
                "transporters_folder = os.path.join(pdb_folder, 'transporters')"
            ]
        },
        {
            "cell_type": "markdown",
            "metadata": {},
            "source": [
                "### Configuration"
            ]
        },
        {
            "cell_type": "code",
            "execution_count": null,
            "metadata": {},
            "outputs": [],
            "source": [
                "mesh_source= os.path.join(obj_folder, 'synapse.obj')\n",
                "rotation = Quaternion(1, 0, 0, 0)\n",
                "position = Vector3(0.0, 0.0, 0.0)\n",
                "scale = Vector3(100.0, 100.0, 100.0)"
            ]
        },
        {
            "cell_type": "markdown",
            "metadata": {},
            "source": [
                "## Camera position"
            ]
        },
        {
            "cell_type": "code",
            "execution_count": null,
            "metadata": {},
            "outputs": [],
            "source": [
                "status = be.core_api().set_camera(\n",
                "    orientation=[-0.05261195893939275, 0.1340170256962661, 0.11977083138674514, 0.9823066560647004],\n",
                "    position=[22402.44264265657, 100057.69545508768, 36096.71038661064],\n",
                "    target=[21768.90019602888, 99715.34795177878, 33674.27512545227]\n",
                ")"
            ]
        },
        {
            "cell_type": "markdown",
            "metadata": {},
            "source": [
                "### Membrane"
            ]
        },
        {
            "cell_type": "code",
            "execution_count": null,
            "metadata": {},
            "outputs": [],
            "source": [
                "name = 'Synapse'\n",
                "\n",
                "# ACE2 receptor definition\n",
                "ace2_receptor = Protein(\n",
                "    name=be.NAME_TRANS_MEMBRANE + '_ACE2',\n",
                "    source=os.path.join(pdb_folder, '6m18.pdb'),\n",
                "    transmembrane_params=Vector2(1.0, 2.0),\n",
                "    rotation=Quaternion(0.0, 1.0, 0.0, 0.0),\n",
                "    animation_params=MolecularSystemAnimationParams(1), occurrences=20)\n",
                "\n",
                "# GLUT3 definition\n",
                "transporter = Protein(\n",
                "    name=be.NAME_TRANS_MEMBRANE + '_GLUT3',\n",
                "    source=os.path.join(transporters_folder, '4zwc.pdb'),\n",
                "    transmembrane_params=Vector2(1.0, 2.0),\n",
                "    rotation=Quaternion(0.707, 0.707, 0.0, 0.0),\n",
                "    animation_params=MolecularSystemAnimationParams(2), chain_ids=[1], occurrences=30)\n",
                "\n",
                "lipid_sources = [\n",
                "    os.path.join(membrane_folder, 'segA.pdb'),\n",
                "    os.path.join(membrane_folder, 'segB.pdb'),\n",
                "    os.path.join(membrane_folder, 'segC.pdb'),\n",
                "    os.path.join(membrane_folder, 'segD.pdb')\n",
                "]\n",
                "\n",
                "membrane = Membrane(\n",
                "    lipid_sources=lipid_sources,\n",
                "    load_non_polymer_chemicals=True, load_bonds=True)\n",
                "\n",
                "# Cell definition\n",
                "cell = Cell(\n",
                "    name=name,\n",
                "    shape=be.ASSEMBLY_SHAPE_MESH,\n",
                "    shape_params=scale,\n",
                "    shape_mesh_source=mesh_source, \n",
                "    membrane=membrane,\n",
                "    proteins=[ace2_receptor, transporter]\n",
                ")\n",
                "\n",
                "# Add cell to scene\n",
                "status = be.add_cell(cell=cell)\n",
                "\n",
                "for i in range(len(lipid_sources)):\n",
                "    status = be.set_protein_color_scheme(\n",
                "        assembly_name=name, name=be.NAME_MEMBRANE + '_' + str(i),\n",
                "        color_scheme=be.protein_color_scheme.CHAINS,\n",
                "        palette_name='Set3', palette_size=5)"
            ]
        },
        {
            "cell_type": "markdown",
            "metadata": {},
            "source": [
                "## Rendering settings"
            ]
        },
        {
            "cell_type": "code",
            "execution_count": null,
            "metadata": {},
            "outputs": [],
            "source": [
                "status = be.set_rendering_quality(be.rendering_quality.HIGH)"
            ]
        }
    ],
    "metadata": {
        "kernelspec": {
            "display_name": "Python 3.8.10 ('env')",
            "language": "python",
            "name": "python3"
        },
        "language_info": {
            "codemirror_mode": {
                "name": "ipython",
                "version": 3
            },
            "file_extension": ".py",
            "mimetype": "text/x-python",
            "name": "python",
            "nbconvert_exporter": "python",
            "pygments_lexer": "ipython3",
            "version": "3.10.6"
        },
        "vscode": {
            "interpreter": {
                "hash": "ea9a5fa46eb6bad2806a8ea1d08e15bb1e255a2d4320b81e765591579963c56b"
            }
        }
    },
    "nbformat": 4,
    "nbformat_minor": 4
}