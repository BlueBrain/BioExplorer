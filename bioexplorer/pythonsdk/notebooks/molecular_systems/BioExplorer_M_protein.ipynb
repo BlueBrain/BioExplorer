{
    "cells": [
        {
            "attachments": {},
            "cell_type": "markdown",
            "metadata": {},
            "source": [
                "# Blue Brain BioExplorer\n",
                "\n",
                "![](../bioexplorer_banner.png)"
            ]
        },
        {
            "attachments": {},
            "cell_type": "markdown",
            "metadata": {},
            "source": [
                "## Visualization of structural protein M"
            ]
        },
        {
            "cell_type": "code",
            "execution_count": null,
            "metadata": {},
            "outputs": [
                {
                    "name": "stderr",
                    "output_type": "stream",
                    "text": [
                        "Future exception was never retrieved\n",
                        "future: <Future finished exception=ConnectionClosedError(None, None, None)>\n",
                        "websockets.exceptions.ConnectionClosedError: no close frame received or sent\n"
                    ]
                }
            ],
            "source": [
                "from bioexplorer import BioExplorer, Protein, Sugar, Quaternion\n",
                "import os\n",
                "\n",
                "be = BioExplorer('localhost:5000')\n",
                "status = be.reset_scene()\n",
                "print(be.version())\n",
                "status = be.start_model_loading_transaction()"
            ]
        },
        {
            "cell_type": "code",
            "execution_count": null,
            "metadata": {},
            "outputs": [],
            "source": [
                "# Resources\n",
                "resource_folder = os.path.abspath('../../tests/test_files')\n",
                "pdb_folder = os.path.join(resource_folder, 'pdb')\n",
                "complex_folder = os.path.join(pdb_folder, 'glycans', 'complex')\n",
                "\n",
                "protein_representation = be.protein_representation.ATOMS_AND_STICKS\n",
                "protein_radius_multiplier = 1.0\n",
                "glycan_representation = be.protein_representation.ATOMS_AND_STICKS\n",
                "glycan_radius_multiplier = 1.0"
            ]
        },
        {
            "cell_type": "code",
            "execution_count": null,
            "metadata": {},
            "outputs": [],
            "source": [
                "# Default side view\n",
                "status = be.core_api().set_camera(\n",
                "    orientation=[0.0, 0.0, 0.0, 1.0],\n",
                "    position=[0.212, -0.296, 7.815],\n",
                "    target=[0.212, -0.296, 0.003]    \n",
                ")"
            ]
        },
        {
            "cell_type": "code",
            "execution_count": null,
            "metadata": {},
            "outputs": [],
            "source": [
                "# Protein\n",
                "name = be.NAME_PROTEIN_M\n",
                "    \n",
                "m_protein = Protein(\n",
                "    name=name,\n",
                "    source=os.path.join(pdb_folder, 'QHD43419a.pdb'),\n",
                "    load_hydrogen=False,\n",
                "    load_non_polymer_chemicals=False,\n",
                ")\n",
                "\n",
                "status = be.add_protein(\n",
                "    protein=m_protein,\n",
                "    atom_radius_multiplier=protein_radius_multiplier,\n",
                "    representation=protein_representation,\n",
                ")"
            ]
        },
        {
            "attachments": {},
            "cell_type": "markdown",
            "metadata": {},
            "source": [
                "## Add glycans to protein"
            ]
        },
        {
            "cell_type": "code",
            "execution_count": null,
            "metadata": {},
            "outputs": [],
            "source": [
                "glycan_folder = os.path.join(pdb_folder, 'glycans')\n",
                "high_mannose_folder = os.path.join(glycan_folder, 'high-mannose')\n",
                "high_mannose_paths = [\n",
                "    os.path.join(high_mannose_folder, '1.pdb'),\n",
                "    os.path.join(high_mannose_folder, '2.pdb'),\n",
                "    os.path.join(high_mannose_folder, '3.pdb'),\n",
                "    os.path.join(high_mannose_folder, '4.pdb')\n",
                "]"
            ]
        },
        {
            "attachments": {},
            "cell_type": "markdown",
            "metadata": {},
            "source": [
                "### High mannose"
            ]
        },
        {
            "cell_type": "code",
            "execution_count": null,
            "metadata": {},
            "outputs": [],
            "source": [
                "indices = [5]\n",
                "high_mannose_glycans = Sugar(\n",
                "    rotation=Quaternion(0.707, 0.0, 0.0, 0.707),\n",
                "    assembly_name=name, name=be.NAME_GLYCAN_HIGH_MANNOSE, \n",
                "    protein_name=name, source=high_mannose_paths[0], \n",
                "    site_indices=indices,\n",
                "    representation=glycan_representation,\n",
                "    atom_radius_multiplier=glycan_radius_multiplier\n",
                ")\n",
                "status = be.add_glycan(high_mannose_glycans)"
            ]
        },
        {
            "attachments": {},
            "cell_type": "markdown",
            "metadata": {},
            "source": [
                "## Materials"
            ]
        },
        {
            "cell_type": "code",
            "execution_count": null,
            "metadata": {
                "scrolled": false
            },
            "outputs": [],
            "source": [
                "be.apply_default_color_scheme(\n",
                "    shading_mode=be.shading_mode.PERLIN,\n",
                "    user_parameter=0.03, specular_exponent=5.0, glossiness=0.1)"
            ]
        },
        {
            "attachments": {},
            "cell_type": "markdown",
            "metadata": {},
            "source": [
                "## Rendering settings"
            ]
        },
        {
            "cell_type": "code",
            "execution_count": null,
            "metadata": {},
            "outputs": [],
            "source": [
                "status = be.set_rendering_quality(be.rendering_quality.HIGH)"
            ]
        },
        {
            "cell_type": "code",
            "execution_count": null,
            "metadata": {},
            "outputs": [],
            "source": [
                "status = be.commit_model_loading_transaction()"
            ]
        }
    ],
    "metadata": {
        "kernelspec": {
            "display_name": "Python 3.8.10 ('env')",
            "language": "python",
            "name": "python3"
        },
        "language_info": {
            "codemirror_mode": {
                "name": "ipython",
                "version": 3
            },
            "file_extension": ".py",
            "mimetype": "text/x-python",
            "name": "python",
            "nbconvert_exporter": "python",
            "pygments_lexer": "ipython3",
            "version": "3.10.12"
        },
        "vscode": {
            "interpreter": {
                "hash": "ea9a5fa46eb6bad2806a8ea1d08e15bb1e255a2d4320b81e765591579963c56b"
            }
        }
    },
    "nbformat": 4,
    "nbformat_minor": 4
}
