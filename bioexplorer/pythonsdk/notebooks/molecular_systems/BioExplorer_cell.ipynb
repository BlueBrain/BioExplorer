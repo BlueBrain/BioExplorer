{
    "cells": [
        {
            "attachments": {},
            "cell_type": "markdown",
            "metadata": {},
            "source": [
                "# Blue Brain BioExplorer\n",
                "\n",
                "![](../bioexplorer_banner.png)"
            ]
        },
        {
            "attachments": {},
            "cell_type": "markdown",
            "metadata": {},
            "source": [
                "## Simplest script to create a visualization of a cell"
            ]
        },
        {
            "cell_type": "code",
            "execution_count": null,
            "metadata": {},
            "outputs": [],
            "source": [
                "from bioexplorer import BioExplorer, Protein, Membrane, Cell, MolecularSystemAnimationParams, Vector2, Vector3, Quaternion\n",
                "import os\n",
                "\n",
                "be = BioExplorer('localhost:5000')\n",
                "core = be.core_api()\n",
                "status = be.reset_scene()\n",
                "status = be.start_model_loading_transaction()"
            ]
        },
        {
            "cell_type": "code",
            "execution_count": null,
            "metadata": {},
            "outputs": [],
            "source": [
                "import glob\n",
                "\n",
                "name = 'Cell'\n",
                "representation=be.REPRESENTATION_ATOMS_AND_STICKS\n",
                "\n",
                "# Resources\n",
                "resource_folder = os.path.abspath('../../tests/test_files')\n",
                "pdb_folder = os.path.join(resource_folder, 'pdb')\n",
                "membrane_folder = os.path.join(pdb_folder, 'membrane')\n",
                "lipids_folder = os.path.join(membrane_folder, 'lipids')\n",
                "transporters_folder = os.path.join(pdb_folder, 'transporters')\n",
                "\n",
                "# ACE2 receptor definition\n",
                "ace2_receptor = Protein(\n",
                "    name=be.NAME_TRANS_MEMBRANE + '_ACE2',\n",
                "    source=os.path.join(pdb_folder, '6m18.pdb'),\n",
                "    occurrences=25,\n",
                "    transmembrane_params=Vector2(-6.0, 6.0))\n",
                "\n",
                "# GLUT3 definition\n",
                "transporter = Protein(\n",
                "    name=be.NAME_TRANS_MEMBRANE + '_GLUT3',\n",
                "    source=os.path.join(transporters_folder, '4zwc.pdb'),\n",
                "    rotation=Quaternion(0.707, 0.707, 0.0, 0.0),\n",
                "    occurrences=50, chain_ids=[1],\n",
                "    transmembrane_params=Vector2(-3.0, 3.0))\n",
                "\n",
                "# Membrane definition\n",
                "lipids = glob.glob(os.path.join(lipids_folder, '*.pdb'))[:4]\n",
                "\n",
                "membrane = Membrane(\n",
                "    load_non_polymer_chemicals=True, load_bonds=True,\n",
                "    lipid_sources=lipids,\n",
                "    lipid_density=1.0,\n",
                "    animation_params=MolecularSystemAnimationParams(1, 1, 0.025, 2, 0.5)\n",
                ")\n",
                "\n",
                "# Cell definition\n",
                "cell_size = Vector3(800.0, 50.0, 800.0)\n",
                "cell = Cell(\n",
                "    name=name,\n",
                "    shape=be.ASSEMBLY_SHAPE_SINUSOID,\n",
                "    shape_params=cell_size,\n",
                "    membrane=membrane,\n",
                "    proteins=[ace2_receptor, transporter])\n",
                "\n",
                "# Add cell to scene\n",
                "status = be.add_cell(\n",
                "    cell=cell, atom_radius_multiplier=2.0, representation=representation)"
            ]
        },
        {
            "cell_type": "code",
            "execution_count": null,
            "metadata": {},
            "outputs": [],
            "source": [
                "status = core.set_camera(\n",
                "    orientation=[-0.070,  -0.041, 0.006, 0.996],\n",
                "    position=[-76.69645577433823, 158.9458079662124, 970.5532710962468],\n",
                "    target=[-14.769460404641611, 56.157789477305535, 243.45558273348504]\n",
                ")"
            ]
        },
        {
            "attachments": {},
            "cell_type": "markdown",
            "metadata": {},
            "source": [
                "## Rendering settings"
            ]
        },
        {
            "cell_type": "code",
            "execution_count": null,
            "metadata": {},
            "outputs": [],
            "source": [
                "status = be.core_api().set_renderer(\n",
                "    background_color=[96 / 255, 125 / 255, 139 / 255],\n",
                "    current='advanced',\n",
                "    samples_per_pixel=1, subsampling=4, max_accum_frames=1000)\n",
                "params = status = be.core_api().AdvancedRendererParams()\n",
                "params.gi_samples = 1\n",
                "params.gi_strength = 0.3\n",
                "params.gi_ray_length = 5\n",
                "params.shadow_intensity = 0.8\n",
                "params.soft_shadow_strength = 1\n",
                "params.fog_start = 1500\n",
                "params.fog_thickness = 1500\n",
                "params.max_ray_depth = 1\n",
                "status = be.core_api().set_renderer_params(params)"
            ]
        },
        {
            "attachments": {},
            "cell_type": "markdown",
            "metadata": {},
            "source": [
                "## Materials"
            ]
        },
        {
            "cell_type": "code",
            "execution_count": null,
            "metadata": {},
            "outputs": [],
            "source": [
                "be.apply_default_color_scheme(be.SHADING_MODE_BASIC)"
            ]
        },
        {
            "cell_type": "code",
            "execution_count": null,
            "metadata": {},
            "outputs": [],
            "source": [
                "status = be.set_protein_color_scheme(\n",
                "    assembly_name=name, name=be.NAME_TRANS_MEMBRANE + '_ACE2',\n",
                "    color_scheme=be.COLOR_SCHEME_CHAINS,\n",
                "    palette_name='Greens', palette_size=5)\n",
                "\n",
                "status = be.set_protein_color_scheme(\n",
                "    assembly_name=name, name=be.NAME_TRANS_MEMBRANE + '_GLUT3',\n",
                "    color_scheme=be.COLOR_SCHEME_CHAINS,\n",
                "    palette_name='Blues', palette_size=5)"
            ]
        },
        {
            "cell_type": "code",
            "execution_count": null,
            "metadata": {},
            "outputs": [],
            "source": [
                "be.commit_model_loading_transaction()"
            ]
        },
        {
            "attachments": {},
            "cell_type": "markdown",
            "metadata": {},
            "source": [
                "## Modify receptor protein instance"
            ]
        },
        {
            "cell_type": "code",
            "execution_count": null,
            "metadata": {},
            "outputs": [],
            "source": [
                "'''Get receptor protein instance transformation'''\n",
                "instance_index = 0\n",
                "transformation = be.get_protein_instance_transformation(\n",
                "    assembly_name=name,\n",
                "    name=be.NAME_TRANS_MEMBRANE + '_ACE2',\n",
                "    instance_index=instance_index\n",
                ")\n",
                "print('Position = ' + str(transformation['position']))\n",
                "print('Rotation = ' + str(transformation['rotation']))"
            ]
        },
        {
            "cell_type": "code",
            "execution_count": null,
            "metadata": {},
            "outputs": [],
            "source": [
                "'''Modify receptor protein instance transformation'''\n",
                "status = be.set_protein_instance_transformation(\n",
                "    assembly_name=name,\n",
                "    name=be.NAME_TRANS_MEMBRANE + '_ACE2',\n",
                "    instance_index=instance_index,\n",
                "    position=Vector3(-93.6, 20.0, 308.8),\n",
                "    rotation=Quaternion(0.0182919, 0.0213303, 0.758803, 0.650714)\n",
                ")"
            ]
        },
        {
            "attachments": {},
            "cell_type": "markdown",
            "metadata": {},
            "source": [
                "## Snapshot"
            ]
        },
        {
            "cell_type": "code",
            "execution_count": null,
            "metadata": {},
            "outputs": [],
            "source": [
                "from bioexplorer import MovieMaker\n",
                "mm = MovieMaker(be)\n",
                "mm.create_snapshot(\n",
                "    renderer='advanced', size=[1920, 1080], samples_per_pixel=64, \n",
                "    path='/tmp', base_name='cell')"
            ]
        }
    ],
    "metadata": {
        "kernelspec": {
            "display_name": "Python 3.8.10 ('env')",
            "language": "python",
            "name": "python3"
        },
        "language_info": {
            "codemirror_mode": {
                "name": "ipython",
                "version": 3
            },
            "file_extension": ".py",
            "mimetype": "text/x-python",
            "name": "python",
            "nbconvert_exporter": "python",
            "pygments_lexer": "ipython3",
            "version": "3.8.10"
        },
        "vscode": {
            "interpreter": {
                "hash": "ea9a5fa46eb6bad2806a8ea1d08e15bb1e255a2d4320b81e765591579963c56b"
            }
        }
    },
    "nbformat": 4,
    "nbformat_minor": 4
}