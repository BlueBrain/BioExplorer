{
    "cells": [
        {
            "attachments": {},
            "cell_type": "markdown",
            "metadata": {},
            "source": [
                "# BioExplorer - Validation of component sizes\n",
                "![](../bioexplorer_banner.png)"
            ]
        },
        {
            "attachments": {},
            "cell_type": "markdown",
            "metadata": {},
            "source": [
                "### Initialization"
            ]
        },
        {
            "cell_type": "code",
            "execution_count": null,
            "metadata": {},
            "outputs": [],
            "source": [
                "from bioexplorer import BioExplorer, Protein, Surfactant, Vector3, Quaternion, MovieMaker\n",
                "import os\n",
                "\n",
                "bio_explorer = BioExplorer('localhost:5000')\n",
                "core = bio_explorer.core_api()\n",
                "mm = MovieMaker(bio_explorer)\n",
                "bio_explorer.reset_scene()\n",
                "print('BioExplorer version %s' % bio_explorer.version())\n",
                "status = bio_explorer.start_model_loading_transaction()"
            ]
        },
        {
            "cell_type": "code",
            "execution_count": null,
            "metadata": {},
            "outputs": [],
            "source": [
                "resource_folder = os.path.abspath('../../tests/test_files')\n",
                "pdb_folder = os.path.join(resource_folder, 'pdb')\n",
                "immune_folder = os.path.join(pdb_folder, 'immune')\n",
                "surfactant_folder = os.path.join(pdb_folder, 'surfactant')\n",
                "\n",
                "image_folder = '/tmp'\n",
                "\n",
                "line_surfactant = 5\n",
                "line_virus = 25\n",
                "line_defense = 45\n",
                "\n",
                "representation = BioExplorer.REPRESENTATION_ATOMS_AND_STICKS"
            ]
        },
        {
            "attachments": {},
            "cell_type": "markdown",
            "metadata": {},
            "source": [
                "### Camera"
            ]
        },
        {
            "cell_type": "code",
            "execution_count": null,
            "metadata": {},
            "outputs": [],
            "source": [
                "core.set_camera(\n",
                "    current='orthographic',\n",
                "    orientation=[0.0, 0.0, 0.0, 1.0],\n",
                "    position=[23.927943790322814, 24.84577580212592, 260.43975983632527],\n",
                "    target=[23.927943790322814, 24.84577580212592, 39.93749999999999]\n",
                ")\n",
                "params = core.OrthographicCameraParams()\n",
                "params.height = 55\n",
                "status = core.set_camera_params(params)"
            ]
        },
        {
            "attachments": {},
            "cell_type": "markdown",
            "metadata": {},
            "source": [
                "### Grid"
            ]
        },
        {
            "cell_type": "code",
            "execution_count": null,
            "metadata": {},
            "outputs": [],
            "source": [
                "status = bio_explorer.add_grid(\n",
                "    min_value=0, max_value=100, interval=1, radius=0.005, colored=False,\n",
                "    position=Vector3(-10.0, -10.0, -10.0))"
            ]
        },
        {
            "attachments": {},
            "cell_type": "markdown",
            "metadata": {},
            "source": [
                "### Layout"
            ]
        },
        {
            "cell_type": "code",
            "execution_count": null,
            "metadata": {
                "scrolled": true
            },
            "outputs": [],
            "source": [
                "# Protein S\n",
                "virus_protein_s_open = Protein(\n",
                "    name=bio_explorer.NAME_PROTEIN_S_OPEN,\n",
                "    source=os.path.join(pdb_folder, '6vyb.pdb'),\n",
                "    rotation=Quaternion(0.707, 0.707, 0.0, 0.0))\n",
                "bio_explorer.add_protein(\n",
                "    protein=virus_protein_s_open,\n",
                "    position=Vector3(20.0, line_virus, 0.0),\n",
                "    representation=representation)\n",
                "\n",
                "virus_protein_s_closed = Protein(\n",
                "    name=bio_explorer.NAME_PROTEIN_S_CLOSED,\n",
                "    source=os.path.join(pdb_folder, 'sars-cov-2-v1.pdb'),\n",
                "    rotation=Quaternion(0.707, 0.707, 0.0, 0.0))\n",
                "bio_explorer.add_protein(\n",
                "    protein=virus_protein_s_closed,\n",
                "    position=Vector3(5.0, line_virus, 0.0),\n",
                "    representation=representation)\n",
                "\n",
                "# Protein M (QHD43419)\n",
                "virus_protein_m = Protein(\n",
                "    name=bio_explorer.NAME_PROTEIN_M,\n",
                "    source=os.path.join(pdb_folder, 'QHD43419a.pdb'))\n",
                "bio_explorer.add_protein(\n",
                "    protein=virus_protein_m,\n",
                "    representation=representation,\n",
                "    position=Vector3(35.0, line_virus, 0.0))\n",
                "\n",
                "# Protein E (QHD43418 P0DTC4)\n",
                "virus_protein_e = Protein(\n",
                "    name=bio_explorer.NAME_PROTEIN_E,\n",
                "    source=os.path.join(pdb_folder, 'QHD43418a.pdb'))\n",
                "bio_explorer.add_protein(\n",
                "    protein=virus_protein_e,\n",
                "    representation=representation,\n",
                "    position=Vector3(45.0, line_virus, 0.0))\n",
                "\n",
                "# Lactoferrin\n",
                "lactoferrin = Protein(\n",
                "    name=bio_explorer.NAME_LACTOFERRIN,\n",
                "    source=os.path.join(immune_folder, '1b0l.pdb'))\n",
                "bio_explorer.add_protein(\n",
                "    protein=lactoferrin,\n",
                "    representation=representation,\n",
                "    position=Vector3(5.0, line_defense, 0.0))\n",
                "\n",
                "# Defensin\n",
                "defensin = Protein(\n",
                "    name=bio_explorer.NAME_DEFENSIN,\n",
                "    source=os.path.join(immune_folder, '1ijv.pdb'))\n",
                "bio_explorer.add_protein(\n",
                "    protein=defensin,\n",
                "    representation=representation,\n",
                "    position=Vector3(20.0, line_defense, 0.0))\n",
                "\n",
                "# Glucose\n",
                "glucose = Protein(\n",
                "    name=bio_explorer.NAME_GLUCOSE,\n",
                "    source=os.path.join(pdb_folder, 'glucose.pdb'),\n",
                "    load_non_polymer_chemicals=True,\n",
                "    rotation=Quaternion(0.0, 0.0, 0.707, 0.707))\n",
                "bio_explorer.add_protein(\n",
                "    protein=glucose,\n",
                "    position=Vector3(30.0, line_defense, 0.0),\n",
                "    representation=representation)\n",
                "\n",
                "# ACE2 Receptor\n",
                "ace2_receptor = Protein(\n",
                "    name=bio_explorer.NAME_RECEPTOR,\n",
                "    source=os.path.join(pdb_folder, '6m18.pdb'),\n",
                "    rotation=Quaternion(0.0, 0.0, 0.707, -0.707))\n",
                "bio_explorer.add_protein(\n",
                "    protein=ace2_receptor,\n",
                "    position=Vector3(45.0, line_defense - 2.5, 0.0),\n",
                "    representation=representation)\n",
                "\n",
                "# Surfactant\n",
                "head_source = os.path.join(surfactant_folder, '1pw9.pdb')\n",
                "branch_source = os.path.join(surfactant_folder, '1k6f.pdb')\n",
                "surfactant_d = Surfactant(\n",
                "    name='Surfactant',\n",
                "    surfactant_protein=bio_explorer.SURFACTANT_BRANCH,\n",
                "    head_source=head_source,\n",
                "    branch_source=branch_source\n",
                ")\n",
                "\n",
                "status = bio_explorer.add_surfactant(\n",
                "    representation=representation,\n",
                "    surfactant=surfactant_d, position=Vector3(50, line_surfactant, 0))"
            ]
        },
        {
            "attachments": {},
            "cell_type": "markdown",
            "metadata": {},
            "source": [
                "### Rendering settings"
            ]
        },
        {
            "cell_type": "code",
            "execution_count": null,
            "metadata": {},
            "outputs": [],
            "source": [
                "status = bio_explorer.set_rendering_quality(bio_explorer.RENDERING_QUALITY_HIGH)"
            ]
        },
        {
            "cell_type": "code",
            "execution_count": null,
            "metadata": {},
            "outputs": [],
            "source": [
                "status = bio_explorer.commit_model_loading_transaction()"
            ]
        },
        {
            "attachments": {},
            "cell_type": "markdown",
            "metadata": {},
            "source": [
                "### Snapshot"
            ]
        },
        {
            "cell_type": "code",
            "execution_count": null,
            "metadata": {},
            "outputs": [],
            "source": [
                "image_size = [1024, 1024]\n",
                "image_samples_per_pixel = 64\n",
                "mm.create_snapshot(\n",
                "    renderer='advanced',\n",
                "    size=image_size, samples_per_pixel=image_samples_per_pixel,\n",
                "    path=image_folder, base_name='protein_sizes')"
            ]
        }
    ],
    "metadata": {
        "kernelspec": {
            "display_name": "Python 3.8.10 ('env')",
            "language": "python",
            "name": "python3"
        },
        "language_info": {
            "codemirror_mode": {
                "name": "ipython",
                "version": 3
            },
            "file_extension": ".py",
            "mimetype": "text/x-python",
            "name": "python",
            "nbconvert_exporter": "python",
            "pygments_lexer": "ipython3",
            "version": "3.8.10"
        },
        "vscode": {
            "interpreter": {
                "hash": "ea9a5fa46eb6bad2806a8ea1d08e15bb1e255a2d4320b81e765591579963c56b"
            }
        }
    },
    "nbformat": 4,
    "nbformat_minor": 5
}
