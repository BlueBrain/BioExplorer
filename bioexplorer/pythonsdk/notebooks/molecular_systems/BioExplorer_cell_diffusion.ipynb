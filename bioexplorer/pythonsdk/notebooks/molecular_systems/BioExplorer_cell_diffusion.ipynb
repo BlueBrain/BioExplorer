{
 "cells": [
  {
   "cell_type": "markdown",
   "metadata": {},
   "source": [
    "# Blue Brain BioExplorer\n",
    "\n",
    "![](../bioexplorer_banner.png)"
   ]
  },
  {
   "cell_type": "code",
   "execution_count": null,
   "metadata": {
    "scrolled": true
   },
   "outputs": [],
   "source": [
    "from bioexplorer import BioExplorer, Protein, Volume, Vector3, AnimationParams\n",
    "import nglview\n",
    "\n",
    "be = BioExplorer('localhost:5000')\n",
    "status = be.reset_scene()"
   ]
  },
  {
   "cell_type": "markdown",
   "metadata": {},
   "source": [
    "### Resources"
   ]
  },
  {
   "cell_type": "code",
   "execution_count": null,
   "metadata": {},
   "outputs": [],
   "source": [
    "resource_folder = '../../tests/test_files/'\n",
    "pdb_folder = resource_folder + 'pdb/'\n",
    "glucose_path = pdb_folder + 'glucose.pdb'"
   ]
  },
  {
   "cell_type": "markdown",
   "metadata": {},
   "source": [
    "### Configuration"
   ]
  },
  {
   "cell_type": "code",
   "execution_count": null,
   "metadata": {},
   "outputs": [],
   "source": [
    "# Scene\n",
    "scene_size = Vector3(50.0, 0.02, 0.4)\n",
    "\n",
    "# Immune system\n",
    "nb_glucoses = 50000\n",
    "\n",
    "# Proteins\n",
    "protein_radius_multiplier = 1.0\n",
    "protein_representation = be.REPRESENTATION_ATOMS_AND_STICKS"
   ]
  },
  {
   "cell_type": "markdown",
   "metadata": {},
   "source": [
    "#### Glucose"
   ]
  },
  {
   "cell_type": "code",
   "execution_count": null,
   "metadata": {},
   "outputs": [],
   "source": [
    "glucose = Protein(\n",
    "    name=be.NAME_GLUCOSE, \n",
    "    source=glucose_path, load_non_polymer_chemicals=True, \n",
    "    occurences=nb_glucoses, load_bonds=True, load_hydrogen=True,\n",
    "    animation_params=AnimationParams(3, 0, 0.0, 4, 1.0)\n",
    ")\n",
    "volume = Volume(\n",
    "    name=be.NAME_GLUCOSE,\n",
    "    shape=be.ASSEMBLY_SHAPE_CELL_DIFFUSION, shape_params=scene_size,\n",
    "    protein=glucose)\n",
    "status = be.add_volume(\n",
    "    volume=volume, \n",
    "    representation=protein_representation,\n",
    "    atom_radius_multiplier=protein_radius_multiplier)\n",
    "be.core_api().set_renderer()"
   ]
  },
  {
   "cell_type": "markdown",
   "metadata": {},
   "source": [
    "## Rendering settings"
   ]
  },
  {
   "cell_type": "code",
   "execution_count": null,
   "metadata": {},
   "outputs": [],
   "source": [
    "status = be.reset_camera()\n",
    "status = be.set_rendering_quality(be.RENDERING_QUALITY_HIGH)"
   ]
  },
  {
   "cell_type": "code",
   "execution_count": null,
   "metadata": {},
   "outputs": [],
   "source": [
    "from bioexplorer import MovieMaker\n",
    "mm = MovieMaker(be)\n",
    "\n",
    "for i in range(10, 200):\n",
    "    scene_size = Vector3(i, 0.01 + 0.0001 * i, 0.4)\n",
    "    glucose = Protein(\n",
    "        name=be.NAME_GLUCOSE, \n",
    "        source=glucose_path, load_non_polymer_chemicals=True, \n",
    "        occurences=nb_glucoses, load_bonds=True, load_hydrogen=True,\n",
    "        animation_params=AnimationParams(3, 0, 0.0, 4 + i, 1.0)\n",
    "    )\n",
    "    volume = Volume(\n",
    "        name=be.NAME_GLUCOSE,\n",
    "        shape=be.ASSEMBLY_SHAPE_CELL_DIFFUSION, shape_params=scene_size,\n",
    "        protein=glucose)\n",
    "    status = be.add_volume(\n",
    "        volume=volume, \n",
    "        representation=protein_representation,\n",
    "        atom_radius_multiplier=protein_radius_multiplier)\n",
    "    mm.create_snapshot(\n",
    "        renderer='bio_explorer', size=[1920, 1080], samples_per_pixel=16,\n",
    "        path='/home/favreau/Videos', base_name='%05d' % i\n",
    "    )\n"
   ]
  }
 ],
 "metadata": {
  "interpreter": {
   "hash": "ea9a5fa46eb6bad2806a8ea1d08e15bb1e255a2d4320b81e765591579963c56b"
  },
  "kernelspec": {
   "display_name": "Python 3.8.10 64-bit ('env': venv)",
   "language": "python",
   "name": "python3"
  },
  "language_info": {
   "codemirror_mode": {
    "name": "ipython",
    "version": 3
   },
   "file_extension": ".py",
   "mimetype": "text/x-python",
   "name": "python",
   "nbconvert_exporter": "python",
   "pygments_lexer": "ipython3",
   "version": "3.8.10"
  }
 },
 "nbformat": 4,
 "nbformat_minor": 4
}
