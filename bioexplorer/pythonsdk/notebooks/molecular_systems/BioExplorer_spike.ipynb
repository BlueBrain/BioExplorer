{
    "cells": [
        {
            "attachments": {},
            "cell_type": "markdown",
            "metadata": {},
            "source": [
                "# Blue Brain BioExplorer\n",
                "![](../bioexplorer_banner.png)"
            ]
        },
        {
            "attachments": {},
            "cell_type": "markdown",
            "metadata": {},
            "source": [
                "## Script to create a visualization of the Spike"
            ]
        },
        {
            "cell_type": "code",
            "execution_count": null,
            "metadata": {},
            "outputs": [],
            "source": [
                "from bioexplorer import BioExplorer, Protein, Sugar, Quaternion, MovieMaker\n",
                "import os\n",
                "\n",
                "be = BioExplorer()\n",
                "core = be.core_api()\n",
                "print(be.version())\n",
                "status = be.start_model_loading_transaction()"
            ]
        },
        {
            "cell_type": "code",
            "execution_count": null,
            "metadata": {},
            "outputs": [],
            "source": [
                "be.reset_scene()\n",
                "surface = False\n",
                "open_spike = False"
            ]
        },
        {
            "cell_type": "code",
            "execution_count": null,
            "metadata": {},
            "outputs": [],
            "source": [
                "'''Resources'''\n",
                "resource_folder = os.path.abspath('../../tests/test_files')\n",
                "pdb_folder = os.path.join(resource_folder, 'pdb')\n",
                "complex_folder = os.path.join(pdb_folder, 'glycans', 'complex')\n",
                "colormap_folder = os.path.join(resource_folder, 'colormap')\n",
                "\n",
                "protein_representation = be.protein_representation.ATOMS_AND_STICKS\n",
                "protein_radius_multiplier = 1.0\n",
                "glycan_representation = be.protein_representation.ATOMS_AND_STICKS\n",
                "glycan_radius_multiplier = 1.0\n",
                "\n",
                "if surface:\n",
                "    protein_radius_multiplier = 1.0\n",
                "    protein_representation = BioExplorer.REPRESENTATION_SURFACE\n",
                "    glycan_representation = be.protein_representation.ATOMS_AND_STICKS"
            ]
        },
        {
            "cell_type": "code",
            "execution_count": null,
            "metadata": {},
            "outputs": [],
            "source": [
                "'''Default side view'''\n",
                "status = core.set_camera(\n",
                "    orientation=[0.0, 0.0, -1.0, 0.0],\n",
                "    position=[0.019, 0.295, 28.535],\n",
                "    target=[0.019, 0.295, 1.440]\n",
                ")"
            ]
        },
        {
            "cell_type": "code",
            "execution_count": null,
            "metadata": {},
            "outputs": [],
            "source": [
                "'''Protein'''\n",
                "name = be.NAME_PROTEIN_S_CLOSED\n",
                "\n",
                "source = os.path.join(pdb_folder, 'sars-cov-2-v1.pdb')\n",
                "if open_spike:\n",
                "    source = os.path.join(pdb_folder, '6vyb.pdb')\n",
                "    \n",
                "spike = Protein(\n",
                "    name=name,\n",
                "    source=source,\n",
                "    rotation=Quaternion(0.707, -0.707, 0.0, 0.0)\n",
                ")\n",
                "\n",
                "if open_spike:\n",
                "    name = be.NAME_PROTEIN_S_OPEN\n",
                "    \n",
                "status = be.add_protein(\n",
                "    protein=spike,\n",
                "    atom_radius_multiplier=protein_radius_multiplier,\n",
                "    representation=protein_representation,\n",
                ")\n",
                "be.apply_default_color_scheme(be.shading_mode.BASIC)"
            ]
        },
        {
            "attachments": {},
            "cell_type": "markdown",
            "metadata": {},
            "source": [
                "## Add glycans to protein"
            ]
        },
        {
            "cell_type": "code",
            "execution_count": null,
            "metadata": {},
            "outputs": [],
            "source": [
                "glycan_folder = os.path.join(pdb_folder, 'glycans')\n",
                "complex_folder = os.path.join(glycan_folder, 'complex')\n",
                "high_mannose_folder = os.path.join(glycan_folder, 'high-mannose')\n",
                "hybrid_folder = os.path.join(glycan_folder, 'hybrid')\n",
                "o_glycan_folder = os.path.join(glycan_folder, 'o-glycan')\n",
                "\n",
                "complex_paths = [\n",
                "    os.path.join(complex_folder, '33.pdb'),\n",
                "    os.path.join(complex_folder, '34.pdb'),\n",
                "    os.path.join(complex_folder, '35.pdb'),\n",
                "    os.path.join(complex_folder, '36.pdb')\n",
                "]\n",
                "high_mannose_paths = [\n",
                "    os.path.join(high_mannose_folder, '1.pdb'),\n",
                "    os.path.join(high_mannose_folder, '2.pdb'),\n",
                "    os.path.join(high_mannose_folder, '3.pdb'),\n",
                "    os.path.join(high_mannose_folder, '4.pdb')\n",
                "]\n",
                "hybrid_paths = [os.path.join(hybrid_folder, '24.pdb')]\n",
                "o_glycan_paths = [os.path.join(o_glycan_folder, '12.pdb')]"
            ]
        },
        {
            "attachments": {},
            "cell_type": "markdown",
            "metadata": {},
            "source": [
                "### High mannose"
            ]
        },
        {
            "cell_type": "code",
            "execution_count": null,
            "metadata": {},
            "outputs": [],
            "source": [
                "indices = [61, 122, 234, 603, 709, 717, 801, 1074]\n",
                "\n",
                "high_mannose_glycans = Sugar(\n",
                "    rotation=Quaternion(0.707, 0.0, 0.0, 0.707),\n",
                "    assembly_name=name, name=be.NAME_GLYCAN_HIGH_MANNOSE, \n",
                "    protein_name=name, source=high_mannose_paths[0], \n",
                "    site_indices=indices,\n",
                "    representation=glycan_representation,\n",
                "    atom_radius_multiplier=glycan_radius_multiplier\n",
                ")\n",
                "status = be.add_glycan(high_mannose_glycans)\n",
                "be.apply_default_color_scheme(be.shading_mode.BASIC)"
            ]
        },
        {
            "attachments": {},
            "cell_type": "markdown",
            "metadata": {},
            "source": [
                "### O-Glycans"
            ]
        },
        {
            "cell_type": "code",
            "execution_count": null,
            "metadata": {},
            "outputs": [],
            "source": [
                "protein_name = be.NAME_PROTEIN_S_CLOSED\n",
                "if open_spike:\n",
                "    protein_name = be.NAME_PROTEIN_S_OPEN\n",
                "    \n",
                "for index in [323, 325]:\n",
                "    o_glycan_name = name + '_' + be.NAME_GLYCAN_O_GLYCAN + '_' + str(index)\n",
                "    o_glycan = Sugar(\n",
                "        assembly_name=name, name=o_glycan_name, source=o_glycan_paths[0],\n",
                "        protein_name=protein_name, site_indices=[index],\n",
                "        representation=glycan_representation)\n",
                "    be.add_sugar(o_glycan)\n",
                "be.apply_default_color_scheme(be.shading_mode.BASIC)"
            ]
        },
        {
            "attachments": {},
            "cell_type": "markdown",
            "metadata": {},
            "source": [
                "### Complex"
            ]
        },
        {
            "cell_type": "code",
            "execution_count": null,
            "metadata": {},
            "outputs": [],
            "source": [
                "indices = [17, 74, 149, 165, 282, 331, 343, 616, 657, 1098, 1134, 1158, 1173, 1194]\n",
                "if open_spike:\n",
                "    indices = [17, 74, 149, 165, 282, 331, 343, 657, 1098, 1134, 1158, 1173, 1194]\n",
                "\n",
                "complex_glycans = Sugar(\n",
                "    rotation=Quaternion(0.0, 0.0, 0.0, 1.0),\n",
                "    assembly_name=name, name=be.NAME_GLYCAN_COMPLEX, \n",
                "    protein_name=name, source=complex_paths[0], \n",
                "    site_indices=indices,\n",
                "    representation=glycan_representation,\n",
                "    atom_radius_multiplier=glycan_radius_multiplier\n",
                ")\n",
                "status = be.add_glycan(complex_glycans)\n",
                "be.apply_default_color_scheme(be.shading_mode.BASIC)"
            ]
        },
        {
            "attachments": {},
            "cell_type": "markdown",
            "metadata": {},
            "source": [
                "## Rendering settings"
            ]
        },
        {
            "cell_type": "code",
            "execution_count": null,
            "metadata": {},
            "outputs": [],
            "source": [
                "status = be.set_rendering_quality(be.rendering_quality.HIGH)"
            ]
        },
        {
            "attachments": {},
            "cell_type": "markdown",
            "metadata": {},
            "source": [
                "## Snaphots"
            ]
        },
        {
            "cell_type": "code",
            "execution_count": null,
            "metadata": {},
            "outputs": [],
            "source": [
                "output_folder = '/tmp'\n",
                "image_size = [1024, 1024]\n",
                "image_spp = 64"
            ]
        },
        {
            "cell_type": "code",
            "execution_count": null,
            "metadata": {},
            "outputs": [],
            "source": [
                "def generate_snapshot(top_view, keywords):\n",
                "\n",
                "    '''Define path'''\n",
                "    base_name = 'protein_s'\n",
                "    if open_spike:\n",
                "        base_name += '_open'\n",
                "    else:\n",
                "        base_name += '_closed'\n",
                "    if surface:\n",
                "        base_name += '_surface'\n",
                "    if top_view:\n",
                "        base_name += '_top'\n",
                "    else:\n",
                "        base_name += '_side'\n",
                "    for keyword in keywords:\n",
                "        base_name += '_' + keyword\n",
                "    print('Exporting to ' + output_folder + '/' + base_name + '.png')\n",
                "        \n",
                "    '''Camera'''\n",
                "    if top_view:\n",
                "        status = core.set_camera(\n",
                "            orientation=[0.5, -0.5, 0.5, 0.5],\n",
                "            position=[0.360, -26.702, 0.346],\n",
                "            target=[0.360, 0.172, 0.346]    \n",
                "        )\n",
                "    else:\n",
                "        if open_spike:\n",
                "            status = core.set_camera(\n",
                "                orientation=[1.0, 0.0, 0.0, 0.0],\n",
                "                position=[-1.117, -0.561, -25.184],\n",
                "                target=[-1.117, -0.561, 0.620]    \n",
                "            )\n",
                "        else:\n",
                "            status = core.set_camera(\n",
                "                orientation=[0.707, 0.0, -0.707, 0.0],\n",
                "                position=[-26.348, 0.172, 0.620],\n",
                "                target=[-2.728, 0.172, 0.620]\n",
                "            )\n",
                "    \n",
                "    '''Snapshot'''\n",
                "    mm = MovieMaker(be)\n",
                "    mm.create_snapshot(\n",
                "        renderer='advanced',\n",
                "        path=output_folder, base_name=base_name,\n",
                "        size=image_size, samples_per_pixel=image_spp)"
            ]
        },
        {
            "attachments": {},
            "cell_type": "markdown",
            "metadata": {},
            "source": [
                "### Functional regions"
            ]
        },
        {
            "cell_type": "code",
            "execution_count": null,
            "metadata": {},
            "outputs": [],
            "source": [
                "def apply_functional_regions_color_scheme():\n",
                "    '''RGB color palette for amino acid indices'''\n",
                "    l = 0.2\n",
                "    h = 1.0\n",
                "    grey = [l,l,l]\n",
                "    dark_green = [0.0, l, 0.0]\n",
                "    light_green = [0.0, h, 0.0]\n",
                "    red = [h, 0.0, 0.0]\n",
                "    green = [0.0, h, 0.0]\n",
                "    blue = [0.0, 0.0, h]\n",
                "    orange = [h, h/2.0, 0.0]\n",
                "    cyan = [h, 0.0, h]\n",
                "\n",
                "    region_indices_and_colors = [\n",
                "        [   1, grey ], [   16, blue], [  306, grey], [  330, green], [438, dark_green], \n",
                "        [ 507, green], [  522, grey], [  816, red ], [  835, grey ], [908, orange],\n",
                "        [ 986, grey ], [ 1076, cyan], [ 1274, grey], [ 2000, grey ]\n",
                "    ]\n",
                "\n",
                "    '''Build a palette according to region colors'''\n",
                "    palette = list()\n",
                "    for index in range(len(region_indices_and_colors)-1):\n",
                "        for i in range(region_indices_and_colors[index + 1][0] - \n",
                "                       region_indices_and_colors[index][0]):\n",
                "            palette.append(region_indices_and_colors[index][1])\n",
                "\n",
                "    '''Apply palette to other chains'''\n",
                "    status = be.set_protein_color_scheme(\n",
                "        assembly_name=name, name=name, \n",
                "        color_scheme=be.protein_color_scheme.CHAINS,\n",
                "        palette_name='Greys_r', palette_size=5)\n",
                "\n",
                "    '''Apply palette to region color scheme (optional: only for chain #2)'''\n",
                "    status = be.set_protein_color_scheme(\n",
                "        assembly_name=name, name=name, \n",
                "        color_scheme=be.protein_color_scheme.REGION, palette=palette,\n",
                "    #     chain_ids=[2]\n",
                "    )\n",
                "    \n",
                "apply_functional_regions_color_scheme()"
            ]
        },
        {
            "cell_type": "code",
            "execution_count": null,
            "metadata": {},
            "outputs": [],
            "source": [
                "generate_snapshot(False, ['glycans', 'with_regions'])"
            ]
        },
        {
            "cell_type": "code",
            "execution_count": null,
            "metadata": {},
            "outputs": [],
            "source": [
                "generate_snapshot(True, ['glycans', 'with_regions'])"
            ]
        },
        {
            "attachments": {},
            "cell_type": "markdown",
            "metadata": {},
            "source": [
                "### No functional regions"
            ]
        },
        {
            "cell_type": "code",
            "execution_count": null,
            "metadata": {},
            "outputs": [],
            "source": [
                "status = be.set_protein_color_scheme(\n",
                "    assembly_name=name, name=name,\n",
                "    color_scheme=be.protein_color_scheme.CHAINS,\n",
                "    palette_name='binary_r', palette_size=10)"
            ]
        },
        {
            "cell_type": "code",
            "execution_count": null,
            "metadata": {},
            "outputs": [],
            "source": [
                "generate_snapshot(False, ['glycans'])"
            ]
        },
        {
            "cell_type": "code",
            "execution_count": null,
            "metadata": {},
            "outputs": [],
            "source": [
                "generate_snapshot(True, ['glycans'])"
            ]
        },
        {
            "attachments": {},
            "cell_type": "markdown",
            "metadata": {},
            "source": [
                "## Brazilian variant"
            ]
        },
        {
            "attachments": {},
            "cell_type": "markdown",
            "metadata": {},
            "source": [
                "### Modify amino acid sequence"
            ]
        },
        {
            "cell_type": "code",
            "execution_count": null,
            "metadata": {},
            "outputs": [],
            "source": [
                "modified_aa_index = 20\n",
                "status = be.set_protein_amino_acid(\n",
                "    assembly_name=name, name=name,\n",
                "    index=modified_aa_index - 1,\n",
                "    amino_acid_short_name='ASN'\n",
                ")\n",
                "\n",
                "indices = [modified_aa_index]\n",
                "glycan_variant_name = be.NAME_GLYCAN_COMPLEX + '_variant'\n",
                "complex_glycans = Sugar(\n",
                "    assembly_name=name, name=glycan_variant_name,\n",
                "    protein_name=name, source=complex_paths[0], \n",
                "    site_indices=indices,\n",
                "    representation=glycan_representation,\n",
                "    atom_radius_multiplier=glycan_radius_multiplier\n",
                ")\n",
                "status = be.add_glycan(complex_glycans)"
            ]
        },
        {
            "cell_type": "code",
            "execution_count": null,
            "metadata": {},
            "outputs": [],
            "source": [
                "for model in core.scene.models:\n",
                "    model_id = model['id']\n",
                "    model_name = model['name']\n",
                "    if model_name == glycan_variant_name:\n",
                "        material_ids = list(be.get_material_ids(model_id)['ids'])\n",
                "        nb_materials = len(material_ids)\n",
                "        print(model_name)\n",
                "        palette = list()\n",
                "        for i in range(nb_materials):\n",
                "            palette.append([1, 0.2, 0.2])\n",
                "        be.set_materials(\n",
                "            model_ids=[model_id], material_ids=material_ids,\n",
                "            diffuse_colors=palette, specular_colors=palette\n",
                "        )        "
            ]
        },
        {
            "attachments": {},
            "cell_type": "markdown",
            "metadata": {},
            "source": [
                "### Snapshots"
            ]
        },
        {
            "cell_type": "code",
            "execution_count": null,
            "metadata": {},
            "outputs": [],
            "source": [
                "apply_functional_regions_color_scheme()"
            ]
        },
        {
            "cell_type": "code",
            "execution_count": null,
            "metadata": {},
            "outputs": [],
            "source": [
                "generate_snapshot(False, ['glycans', 'with_regions', 'brazilian_variant_red'])"
            ]
        },
        {
            "cell_type": "code",
            "execution_count": null,
            "metadata": {},
            "outputs": [],
            "source": [
                "generate_snapshot(True, ['glycans', 'with_regions', 'brazilian_variant_red'])"
            ]
        },
        {
            "attachments": {},
            "cell_type": "markdown",
            "metadata": {},
            "source": [
                "### Restore initial amino acid sequence"
            ]
        },
        {
            "cell_type": "code",
            "execution_count": null,
            "metadata": {},
            "outputs": [],
            "source": [
                "modified_aa_index = 20\n",
                "status = be.set_protein_amino_acid(\n",
                "    assembly_name=name, name=name,\n",
                "    index=modified_aa_index - 1,\n",
                "    amino_acid_short_name='THR'\n",
                ")\n",
                "\n",
                "status = be.set_protein_color_scheme(\n",
                "    assembly_name=name, name=name,\n",
                "    color_scheme=be.protein_color_scheme.GLYCOSYLATION_SITE,\n",
                "    palette_name='Set1', palette_size=2)"
            ]
        },
        {
            "attachments": {},
            "cell_type": "markdown",
            "metadata": {},
            "source": [
                "## Stylish"
            ]
        },
        {
            "cell_type": "code",
            "execution_count": null,
            "metadata": {},
            "outputs": [],
            "source": [
                "be.apply_default_color_scheme(\n",
                "    shading_mode=be.shading_mode.PERLIN,\n",
                "    user_parameter=0.03, specular_exponent=5.0, glossiness=0.1)"
            ]
        },
        {
            "cell_type": "code",
            "execution_count": null,
            "metadata": {},
            "outputs": [],
            "source": [
                "be.apply_default_color_scheme(\n",
                "    shading_mode=be.shading_mode.ELECTRON,\n",
                "    user_parameter=1.0, glossiness=1.0)"
            ]
        },
        {
            "cell_type": "code",
            "execution_count": null,
            "metadata": {},
            "outputs": [],
            "source": [
                "be.apply_default_color_scheme(\n",
                "    shading_mode=be.shading_mode.GOODSELL,\n",
                "    user_parameter=3.0, glossiness=1.0)"
            ]
        },
        {
            "attachments": {},
            "cell_type": "markdown",
            "metadata": {},
            "source": [
                "## Glycosylation sites"
            ]
        },
        {
            "attachments": {},
            "cell_type": "markdown",
            "metadata": {},
            "source": [
                "### Sites 20, 331 and 343"
            ]
        },
        {
            "cell_type": "code",
            "execution_count": null,
            "metadata": {},
            "outputs": [],
            "source": [
                "ranges = [20, 20, 331, 331, 343, 343]\n",
                "status = be.set_protein_amino_acid_sequence_as_ranges(\n",
                "    assembly_name=name, name=name, amino_acid_ranges=ranges)\n",
                "\n",
                "status = be.set_protein_color_scheme(\n",
                "    assembly_name=name, name=name,\n",
                "    color_scheme=be.protein_color_scheme.AMINO_ACID_SEQUENCE,\n",
                "    palette_name='Set1', palette_size=2)"
            ]
        },
        {
            "attachments": {},
            "cell_type": "markdown",
            "metadata": {},
            "source": [
                "### Sites 165 and 234"
            ]
        },
        {
            "cell_type": "code",
            "execution_count": null,
            "metadata": {},
            "outputs": [],
            "source": [
                "ranges = [165, 165, 234, 234]\n",
                "status = be.set_protein_amino_acid_sequence_as_ranges(\n",
                "    assembly_name=name, name=name, amino_acid_ranges=ranges)\n",
                "\n",
                "status = be.set_protein_color_scheme(\n",
                "    assembly_name=name, name=name,\n",
                "    color_scheme=be.protein_color_scheme.AMINO_ACID_SEQUENCE,\n",
                "    palette_name='Set1', palette_size=2)"
            ]
        },
        {
            "attachments": {},
            "cell_type": "markdown",
            "metadata": {},
            "source": [
                "## Visualization of electromagnetic fields"
            ]
        },
        {
            "cell_type": "code",
            "execution_count": null,
            "metadata": {},
            "outputs": [],
            "source": [
                "be.go_magnetic(colormap_filename=os.path.join(colormap_folder, 'spike_v1.1dt'))"
            ]
        },
        {
            "attachments": {},
            "cell_type": "markdown",
            "metadata": {},
            "source": [
                "### Snapshots"
            ]
        },
        {
            "cell_type": "code",
            "execution_count": null,
            "metadata": {},
            "outputs": [],
            "source": [
                "status = core.set_camera(\n",
                "    orientation=[1.0, 0.0, 0.0, 0.0],\n",
                "    position=[-4.252, -3.626, -24.492],\n",
                "    target=[-4.252, -3.626, -0.951]\n",
                ")"
            ]
        },
        {
            "cell_type": "code",
            "execution_count": null,
            "metadata": {},
            "outputs": [],
            "source": [
                "mm = MovieMaker(be)\n",
                "mm.create_snapshot(\n",
                "    renderer='advanced',\n",
                "    size=[512, 512], samples_per_pixel=64,\n",
                "    path='/tmp', base_name='spike_slice')"
            ]
        }
    ],
    "metadata": {
        "kernelspec": {
            "display_name": "Python 3.8.10 ('env')",
            "language": "python",
            "name": "python3"
        },
        "language_info": {
            "codemirror_mode": {
                "name": "ipython",
                "version": 3
            },
            "file_extension": ".py",
            "mimetype": "text/x-python",
            "name": "python",
            "nbconvert_exporter": "python",
            "pygments_lexer": "ipython3",
            "version": "3.10.12"
        },
        "vscode": {
            "interpreter": {
                "hash": "ea9a5fa46eb6bad2806a8ea1d08e15bb1e255a2d4320b81e765591579963c56b"
            }
        }
    },
    "nbformat": 4,
    "nbformat_minor": 4
}
