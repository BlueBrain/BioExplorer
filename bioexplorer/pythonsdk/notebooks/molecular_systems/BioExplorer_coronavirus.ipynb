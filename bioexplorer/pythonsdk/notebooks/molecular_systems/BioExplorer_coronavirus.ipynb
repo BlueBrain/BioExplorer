{
    "cells": [
        {
            "cell_type": "markdown",
            "metadata": {},
            "source": [
                "# Blue Brain BioExplorer\n",
                "\n",
                "![](../bioexplorer_banner.png)"
            ]
        },
        {
            "cell_type": "markdown",
            "metadata": {},
            "source": [
                "## Visualization of a SARS-COV-2 Coronavirus"
            ]
        },
        {
            "cell_type": "code",
            "execution_count": null,
            "metadata": {
                "scrolled": true
            },
            "outputs": [],
            "source": [
                "from bioexplorer import BioExplorer\n",
                "import os\n",
                "be = BioExplorer('localhost:5000')\n",
                "status = be.reset_scene()\n",
                "print(be.version())"
            ]
        },
        {
            "cell_type": "code",
            "execution_count": null,
            "metadata": {
                "scrolled": true
            },
            "outputs": [],
            "source": [
                "# Resources\n",
                "resource_folder = '../../tests/test_files/'\n",
                "mesh_folder = os.path.join(resource_folder, 'obj')\n",
                "status = be.set_general_settings(\n",
                "    model_visibility_on_creation=False,\n",
                "    logging_level=3,\n",
                "    mesh_folder=mesh_folder)\n",
                "\n"
            ]
        },
        {
            "cell_type": "code",
            "execution_count": null,
            "metadata": {},
            "outputs": [],
            "source": [
                "# Camera position\n",
                "status = be.core_api().set_camera(\n",
                "    orientation=[-0.012, -0.427, -0.012, 0.904],\n",
                "    position=[-165.071, 8.336, 137.351],\n",
                "    target=[31.524, -0.317, -24.313]\n",
                ")"
            ]
        },
        {
            "cell_type": "code",
            "execution_count": null,
            "metadata": {
                "scrolled": true
            },
            "outputs": [],
            "source": [
                "# SARS-COV-2 Coronavirus\n",
                "name='sars-cov-2'\n",
                "be.add_sars_cov_2(\n",
                "    name=name, resource_folder=resource_folder,\n",
                "    clipping_planes=[[0.0, 0.0, 1.0, 25.0]],\n",
                "    add_rna_sequence=False,\n",
                "    add_glycans=True\n",
                ")"
            ]
        },
        {
            "cell_type": "markdown",
            "metadata": {},
            "source": [
                "## Rendering settings"
            ]
        },
        {
            "cell_type": "code",
            "execution_count": null,
            "metadata": {},
            "outputs": [],
            "source": [
                "status = be.set_rendering_quality(be.RENDERING_QUALITY_HIGH)"
            ]
        },
        {
            "cell_type": "code",
            "execution_count": null,
            "metadata": {},
            "outputs": [],
            "source": [
                "status = be.apply_default_color_scheme(\n",
                "    shading_mode=be.SHADING_MODE_NONE,\n",
                "    specular_exponent=50.0)"
            ]
        },
        {
            "cell_type": "code",
            "execution_count": null,
            "metadata": {},
            "outputs": [],
            "source": [
                "status = be.set_models_visibility(True)"
            ]
        }
    ],
    "metadata": {
        "kernelspec": {
            "display_name": "Python 3.8.10 ('env')",
            "language": "python",
            "name": "python3"
        },
        "language_info": {
            "codemirror_mode": {
                "name": "ipython",
                "version": 3
            },
            "file_extension": ".py",
            "mimetype": "text/x-python",
            "name": "python",
            "nbconvert_exporter": "python",
            "pygments_lexer": "ipython3",
            "version": "3.8.10"
        },
        "vscode": {
            "interpreter": {
                "hash": "ea9a5fa46eb6bad2806a8ea1d08e15bb1e255a2d4320b81e765591579963c56b"
            }
        }
    },
    "nbformat": 4,
    "nbformat_minor": 4
}
