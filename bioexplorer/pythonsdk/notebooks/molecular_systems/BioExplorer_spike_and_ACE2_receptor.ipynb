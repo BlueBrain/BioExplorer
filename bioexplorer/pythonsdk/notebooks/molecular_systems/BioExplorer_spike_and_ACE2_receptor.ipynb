{
    "cells": [
        {
            "attachments": {},
            "cell_type": "markdown",
            "metadata": {},
            "source": [
                "# Blue Brain BioExplorer\n",
                "![](../bioexplorer_banner.png)"
            ]
        },
        {
            "cell_type": "code",
            "execution_count": null,
            "metadata": {},
            "outputs": [],
            "source": [
                "from bioexplorer import BioExplorer, Protein, Membrane, Cell, Sugar, \\\n",
                "                        MolecularSystemAnimationParams, Vector2, Vector3, Quaternion, MovieMaker\n",
                "import os\n",
                "\n",
                "be = BioExplorer('localhost:5000')\n",
                "status = be.reset_scene()\n",
                "status = be.start_model_loading_transaction()"
            ]
        },
        {
            "attachments": {},
            "cell_type": "markdown",
            "metadata": {},
            "source": [
                "### Resources"
            ]
        },
        {
            "cell_type": "code",
            "execution_count": null,
            "metadata": {},
            "outputs": [],
            "source": [
                "resource_folder = os.path.abspath('../../tests/test_files')\n",
                "pdb_folder = os.path.join(resource_folder, 'pdb')\n",
                "rna_folder = os.path.join(resource_folder, 'rna')\n",
                "membrane_folder = os.path.join(pdb_folder, 'membrane')\n",
                "\n",
                "glucose_path = os.path.join(pdb_folder, 'glucose.pdb')\n",
                "\n",
                "immune_folder = os.path.join(pdb_folder, 'immune')\n",
                "lactoferrin_path = os.path.join(immune_folder, '1b0l.pdb')\n",
                "defensin_path = os.path.join(immune_folder, '1ijv.pdb')\n",
                "\n",
                "glycan_folder = os.path.join(pdb_folder, 'glycans')\n",
                "complex_folder = os.path.join(glycan_folder, 'complex')\n",
                "high_mannose_folder = os.path.join(glycan_folder, 'high-mannose')\n",
                "hybrid_folder = os.path.join(glycan_folder, 'hybrid')\n",
                "o_glycan_folder = os.path.join(glycan_folder, 'o-glycan')\n",
                "\n",
                "complex_paths = [\n",
                "    os.path.join(complex_folder, '33.pdb'),\n",
                "    os.path.join(complex_folder, '34.pdb'),\n",
                "    os.path.join(complex_folder, '35.pdb'),\n",
                "    os.path.join(complex_folder, '36.pdb')\n",
                "]\n",
                "high_mannose_paths = [\n",
                "    os.path.join(high_mannose_folder, '1.pdb'),\n",
                "    os.path.join(high_mannose_folder, '2.pdb'),\n",
                "    os.path.join(high_mannose_folder, '3.pdb'),\n",
                "    os.path.join(high_mannose_folder, '4.pdb')\n",
                "]\n",
                "hybrid_paths = [os.path.join(hybrid_folder, '24.pdb')]\n",
                "o_glycan_paths = [os.path.join(o_glycan_folder, '12.pdb')]"
            ]
        },
        {
            "attachments": {},
            "cell_type": "markdown",
            "metadata": {},
            "source": [
                "### Configuration"
            ]
        },
        {
            "cell_type": "code",
            "execution_count": null,
            "metadata": {},
            "outputs": [],
            "source": [
                "# Scene\n",
                "scene_size = Vector3(250.0, 250.0, 250.0)\n",
                "\n",
                "# Proteins\n",
                "protein_radius_multiplier = 1.0\n",
                "protein_representation = be.protein_representation.ATOMS_AND_STICKS\n",
                "glycan_radius_multiplier = 1.0\n",
                "glycan_representation = be.protein_representation.ATOMS_AND_STICKS\n",
                "protein_load_hydrogen = False\n",
                "\n",
                "# Viruses\n",
                "add_rna = False\n",
                "add_glycans = True"
            ]
        },
        {
            "attachments": {},
            "cell_type": "markdown",
            "metadata": {},
            "source": [
                "## Camera"
            ]
        },
        {
            "cell_type": "code",
            "execution_count": null,
            "metadata": {},
            "outputs": [],
            "source": [
                "status = be.core_api().set_camera(\n",
                "    orientation=[-0.008, 0.391, -0.084, 0.916],\n",
                "    position=[11.029, -67.295, 35.860],\n",
                "    target=[-27.555, -64.584, -1.414]\n",
                ")"
            ]
        },
        {
            "attachments": {},
            "cell_type": "markdown",
            "metadata": {},
            "source": [
                "## Scene description"
            ]
        },
        {
            "attachments": {},
            "cell_type": "markdown",
            "metadata": {},
            "source": [
                "### SARS-COV-2 Coronavirus"
            ]
        },
        {
            "cell_type": "code",
            "execution_count": null,
            "metadata": {},
            "outputs": [],
            "source": [
                "be.add_sars_cov_2(\n",
                "    name='sars-cov-2', resource_folder=resource_folder,\n",
                "    representation=protein_representation,\n",
                "    atom_radius_multiplier=protein_radius_multiplier,\n",
                "    open_protein_s_indices=[0],\n",
                "    position=Vector3(-48, -4.0, -7.0), \n",
                "    add_glycans=add_glycans,\n",
                "    add_rna_sequence=add_rna\n",
                ")"
            ]
        },
        {
            "attachments": {},
            "cell_type": "markdown",
            "metadata": {},
            "source": [
                "### Host cell"
            ]
        },
        {
            "cell_type": "code",
            "execution_count": null,
            "metadata": {},
            "outputs": [],
            "source": [
                "name='Cell'\n",
                "\n",
                "# ACE2 receptor definition\n",
                "ace2_receptor = Protein(\n",
                "    name=name + '_' + be.NAME_RECEPTOR,\n",
                "    source=os.path.join(pdb_folder, '6m18.pdb'),\n",
                "    occurrences=5,\n",
                "    animation_params=MolecularSystemAnimationParams(0, 1, 0.025, 2, 0.025),\n",
                "    transmembrane_params=Vector2(-8.0, 2.0)\n",
                ")\n",
                "\n",
                "# Membrane definition\n",
                "size = Vector3(scene_size.x, 80.0, scene_size.z)\n",
                "membrane = Membrane(\n",
                "    lipid_sources=[os.path.join(membrane_folder, 'popc.pdb')],\n",
                "    animation_params=MolecularSystemAnimationParams(1, 3, 0.25, 4, 0.25)\n",
                ")\n",
                "\n",
                "# Cell definition\n",
                "cell = Cell(\n",
                "    name=name,\n",
                "    shape=be.assembly_shape.SINUSOID, shape_params=size,\n",
                "    membrane=membrane, proteins=[ace2_receptor])\n",
                "\n",
                "# Add cell to scene\n",
                "status = be.add_cell(\n",
                "    cell=cell, representation=protein_representation,\n",
                "    atom_radius_multiplier=protein_radius_multiplier,\n",
                "    position=Vector3(-7, -82.5, -3.0)\n",
                ")\n",
                "\n",
                "status = be.set_protein_color_scheme(\n",
                "    name, name + '_' + be.NAME_RECEPTOR, \n",
                "    be.protein_color_scheme.CHAINS, 'OrRd_r', 7)"
            ]
        },
        {
            "cell_type": "code",
            "execution_count": null,
            "metadata": {},
            "outputs": [],
            "source": [
                "be.add_multiple_glycans(\n",
                "    rotation=Quaternion(0.707, 0.0, 0.0, 0.707),\n",
                "    atom_radius_multiplier=glycan_radius_multiplier,\n",
                "    representation=glycan_representation, assembly_name=name, \n",
                "    glycan_type=be.NAME_GLYCAN_COMPLEX,\n",
                "    protein_name=be.NAME_RECEPTOR, paths=complex_paths, \n",
                "    indices=[53, 90, 103, 322, 432, 690])\n",
                "\n",
                "be.add_multiple_glycans(\n",
                "    rotation=Quaternion(0.707, 0.0, 0.0, 0.707),\n",
                "    atom_radius_multiplier=glycan_radius_multiplier,\n",
                "    representation=glycan_representation, assembly_name=name,\n",
                "    glycan_type=be.NAME_GLYCAN_HYBRID,\n",
                "    protein_name=be.NAME_RECEPTOR, paths=hybrid_paths, \n",
                "    indices=[546])\n",
                "\n",
                "indices = [[155, Quaternion(0.0, 0.707, 0.0, 0.707)],\n",
                "           [730, Quaternion(0.0, 0.707, 0.0, 0.707)]]\n",
                "for index in indices:\n",
                "    o_glycan_name = name + '_' + be.NAME_GLYCAN_O_GLYCAN + '_' + str(index[0])\n",
                "    o_glycan = Sugar(\n",
                "        assembly_name=name, name=o_glycan_name, \n",
                "        source=o_glycan_paths[0],\n",
                "        protein_name=name + '_' + be.NAME_RECEPTOR, \n",
                "        atom_radius_multiplier=glycan_radius_multiplier,\n",
                "        representation=glycan_representation,\n",
                "        chain_ids=[2, 4], site_indices=[index[0]], \n",
                "        rotation=index[1])\n",
                "    be.add_sugar(o_glycan)"
            ]
        },
        {
            "attachments": {},
            "cell_type": "markdown",
            "metadata": {},
            "source": [
                "## Materials"
            ]
        },
        {
            "cell_type": "code",
            "execution_count": null,
            "metadata": {},
            "outputs": [],
            "source": [
                "be.apply_default_color_scheme(be.SHADING_MODE_BASIC)"
            ]
        },
        {
            "attachments": {},
            "cell_type": "markdown",
            "metadata": {},
            "source": [
                "## Functional regions"
            ]
        },
        {
            "attachments": {},
            "cell_type": "markdown",
            "metadata": {},
            "source": [
                "### Spike"
            ]
        },
        {
            "cell_type": "code",
            "execution_count": null,
            "metadata": {},
            "outputs": [],
            "source": [
                "# RGB color palette for amino acid indices\n",
                "grey = [0.2, 0.2, 0.2]\n",
                "dark_green = [0.0, 1.0, 0.0]\n",
                "light_green = [0.0, 1.0, 0.0]\n",
                "red = [1.0, 0.0, 0.0]\n",
                "green = [0.0, 1.0, 0.0]\n",
                "blue = [0.0, 0.0, 1.0]\n",
                "yellow = [1.0, 1.0, 0.0]\n",
                "cyan = [1.0, 0.0, 1.0]\n",
                "\n",
                "region_indices_and_colors = [\n",
                "    [   1, grey ], [   16, grey], [  306, grey], [  330, grey], [438, dark_green], \n",
                "    [ 507, green], [  522, grey], [  816, grey ], [  835, grey ], [908, grey],\n",
                "    [ 986, grey ], [ 1076, grey], [ 1274, grey], [ 2000, grey ]\n",
                "]\n",
                "\n",
                "# Build a palette according to region colors\n",
                "palette = list()\n",
                "for index in range(len(region_indices_and_colors)-1):\n",
                "    for i in range(region_indices_and_colors[index + 1][0] - \n",
                "                   region_indices_and_colors[index][0]):\n",
                "        palette.append(region_indices_and_colors[index][1])\n",
                "\n",
                "# Apply palette to other chains\n",
                "status = be.set_protein_color_scheme(\n",
                "    assembly_name='sars-cov-2', name='sars-cov-2_' + be.NAME_PROTEIN_S_OPEN, \n",
                "    color_scheme=be.protein_color_scheme.CHAINS,\n",
                "    palette_name='Greys_r', palette_size=100)\n",
                "\n",
                "# Apply palette to region color scheme, only for chain #2\n",
                "status = be.set_protein_color_scheme(\n",
                "    assembly_name='sars-cov-2', name='sars-cov-2_' + be.NAME_PROTEIN_S_OPEN, \n",
                "    color_scheme=be.COLOR_SCHEME_REGION, palette=palette,\n",
                "    chain_ids=[2]\n",
                ")"
            ]
        },
        {
            "attachments": {},
            "cell_type": "markdown",
            "metadata": {},
            "source": [
                "### Receptor"
            ]
        },
        {
            "cell_type": "code",
            "execution_count": null,
            "metadata": {},
            "outputs": [],
            "source": [
                "# RGB color palette for amino acid indices\n",
                "grey = [0.5, 0.5, 0.5]\n",
                "dark_blue = [0.0, 0.0, 0.5]\n",
                "light_blue = [0.0, 0.0, 1.0]\n",
                "\n",
                "region_indices_and_colors = [\n",
                "    [   1, grey      ], [   5, grey],  [  30, light_blue],  [  41, dark_blue],\n",
                "    [  82, light_blue], [  84, grey],  [ 353, grey      ],  [ 357, grey     ],\n",
                "    [ 800, grey      ]]\n",
                "\n",
                "# Build a palette according to region colors\n",
                "palette = list()\n",
                "for index in range(len(region_indices_and_colors)-1):\n",
                "    for i in range(region_indices_and_colors[index + 1][0] - \n",
                "                   region_indices_and_colors[index][0]):\n",
                "        palette.append(region_indices_and_colors[index][1])\n",
                "\n",
                "# Apply palette to other chains\n",
                "name = 'Cell'\n",
                "status = be.set_protein_color_scheme(\n",
                "    assembly_name=name, name=name + '_' + be.NAME_RECEPTOR, \n",
                "    color_scheme=be.protein_color_scheme.CHAINS,\n",
                "    palette_name='Greys_r', palette_size=100)\n",
                "\n",
                "# Apply palette to region color scheme, only for chain #2\n",
                "status = be.set_protein_color_scheme(\n",
                "    assembly_name=name, name=name + '_' + be.NAME_RECEPTOR, \n",
                "    color_scheme=be.COLOR_SCHEME_REGION, palette=palette,\n",
                "    chain_ids=[4])"
            ]
        },
        {
            "attachments": {},
            "cell_type": "markdown",
            "metadata": {},
            "source": [
                "## Rendering settings"
            ]
        },
        {
            "cell_type": "code",
            "execution_count": null,
            "metadata": {},
            "outputs": [],
            "source": [
                "status = be.set_rendering_quality(be.rendering_quality.HIGH)"
            ]
        },
        {
            "cell_type": "code",
            "execution_count": null,
            "metadata": {},
            "outputs": [],
            "source": [
                "be.commit_model_loading_transaction()"
            ]
        },
        {
            "attachments": {},
            "cell_type": "markdown",
            "metadata": {},
            "source": [
                "## Snapshots"
            ]
        },
        {
            "cell_type": "code",
            "execution_count": null,
            "metadata": {},
            "outputs": [],
            "source": [
                "mm = MovieMaker(be)\n",
                "output_folder = '/tmp'\n",
                "mm.create_snapshot(\n",
                "    renderer='advanced', show_progress=True,\n",
                "    path=output_folder, base_name='protein_s_and_ace2_receptor',\n",
                "    size=[512, 512], samples_per_pixel=64)"
            ]
        }
    ],
    "metadata": {
        "kernelspec": {
            "display_name": "Python 3.8.10 ('env')",
            "language": "python",
            "name": "python3"
        },
        "language_info": {
            "codemirror_mode": {
                "name": "ipython",
                "version": 3
            },
            "file_extension": ".py",
            "mimetype": "text/x-python",
            "name": "python",
            "nbconvert_exporter": "python",
            "pygments_lexer": "ipython3",
            "version": "3.10.12"
        },
        "vscode": {
            "interpreter": {
                "hash": "ea9a5fa46eb6bad2806a8ea1d08e15bb1e255a2d4320b81e765591579963c56b"
            }
        }
    },
    "nbformat": 4,
    "nbformat_minor": 4
}