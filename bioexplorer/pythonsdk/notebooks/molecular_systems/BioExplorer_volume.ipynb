{
    "cells": [
        {
            "cell_type": "markdown",
            "metadata": {},
            "source": [
                "# Blue Brain BioExplorer\n",
                "\n",
                "![](../bioexplorer_banner.png)"
            ]
        },
        {
            "cell_type": "code",
            "execution_count": null,
            "metadata": {
                "scrolled": true
            },
            "outputs": [],
            "source": [
                "from bioexplorer import BioExplorer, Protein, Volume, Vector3, AnimationParams\n",
                "import nglview\n",
                "\n",
                "be = BioExplorer('localhost:5000')\n",
                "status = be.reset_scene()"
            ]
        },
        {
            "cell_type": "markdown",
            "metadata": {},
            "source": [
                "### Resources"
            ]
        },
        {
            "cell_type": "code",
            "execution_count": null,
            "metadata": {},
            "outputs": [],
            "source": [
                "resource_folder = '../../tests/test_files/'\n",
                "pdb_folder = resource_folder + 'pdb/'\n",
                "glucose_path = pdb_folder + 'glucose.pdb'"
            ]
        },
        {
            "cell_type": "markdown",
            "metadata": {},
            "source": [
                "### Configuration"
            ]
        },
        {
            "cell_type": "code",
            "execution_count": null,
            "metadata": {},
            "outputs": [],
            "source": [
                "# Scene\n",
                "scene_size = Vector3(100.0, 0.0, 0.0)\n",
                "\n",
                "# Immune system\n",
                "nb_glucoses = 10000\n",
                "\n",
                "# Proteins\n",
                "protein_radius_multiplier = 1.0\n",
                "protein_representation = be.REPRESENTATION_ATOMS_AND_STICKS"
            ]
        },
        {
            "cell_type": "markdown",
            "metadata": {},
            "source": [
                "#### Glucose"
            ]
        },
        {
            "cell_type": "code",
            "execution_count": null,
            "metadata": {},
            "outputs": [],
            "source": [
                "nglview.show_file(glucose_path)"
            ]
        },
        {
            "cell_type": "code",
            "execution_count": null,
            "metadata": {},
            "outputs": [],
            "source": [
                "glucose = Protein(\n",
                "    name=be.NAME_GLUCOSE, \n",
                "    source=glucose_path, load_non_polymer_chemicals=True, \n",
                "    occurrences=nb_glucoses,\n",
                "    animation_params=AnimationParams(3)\n",
                ")\n",
                "volume = Volume(\n",
                "    name=be.NAME_GLUCOSE,\n",
                "    shape=be.ASSEMBLY_SHAPE_FILLED_SPHERE, shape_params=scene_size,\n",
                "    protein=glucose)\n",
                "status = be.add_volume(\n",
                "    volume=volume, \n",
                "    representation=protein_representation,\n",
                "    atom_radius_multiplier=protein_radius_multiplier)"
            ]
        },
        {
            "cell_type": "markdown",
            "metadata": {},
            "source": [
                "## Rendering settings"
            ]
        },
        {
            "cell_type": "code",
            "execution_count": null,
            "metadata": {},
            "outputs": [],
            "source": [
                "status = be.reset_camera()\n",
                "status = be.set_rendering_quality(be.RENDERING_QUALITY_HIGH)"
            ]
        }
    ],
    "metadata": {
        "kernelspec": {
            "display_name": "Python 3.8.10 ('env')",
            "language": "python",
            "name": "python3"
        },
        "language_info": {
            "codemirror_mode": {
                "name": "ipython",
                "version": 3
            },
            "file_extension": ".py",
            "mimetype": "text/x-python",
            "name": "python",
            "nbconvert_exporter": "python",
            "pygments_lexer": "ipython3",
            "version": "3.8.10"
        },
        "vscode": {
            "interpreter": {
                "hash": "ea9a5fa46eb6bad2806a8ea1d08e15bb1e255a2d4320b81e765591579963c56b"
            }
        }
    },
    "nbformat": 4,
    "nbformat_minor": 4
}