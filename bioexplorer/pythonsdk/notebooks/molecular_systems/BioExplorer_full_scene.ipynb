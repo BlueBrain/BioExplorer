{
    "cells": [
        {
            "cell_type": "markdown",
            "metadata": {},
            "source": [
                "# Blue Brain BioExplorer\n",
                "\n",
                "![](../bioexplorer_banner.png)"
            ]
        },
        {
            "cell_type": "code",
            "execution_count": null,
            "metadata": {
                "scrolled": true
            },
            "outputs": [],
            "source": [
                "from bioexplorer import BioExplorer, Protein, Surfactant, Membrane, Volume, \\\n",
                "                        Cell, Sugar, Vector2, Vector3, Quaternion, AnimationParams\n",
                "import nglview\n",
                "\n",
                "be = BioExplorer('localhost:5000') "
            ]
        },
        {
            "cell_type": "code",
            "execution_count": null,
            "metadata": {},
            "outputs": [],
            "source": [
                "status = be.reset_scene()\n",
                "status = be.set_general_settings(model_visibility_on_creation=False)"
            ]
        },
        {
            "cell_type": "markdown",
            "metadata": {},
            "source": [
                "### Resources"
            ]
        },
        {
            "cell_type": "code",
            "execution_count": null,
            "metadata": {},
            "outputs": [],
            "source": [
                "resource_folder = '../../tests/test_files/'\n",
                "pdb_folder = resource_folder + 'pdb/'\n",
                "membrane_folder = pdb_folder + 'membrane/'\n",
                "lipids_folder = membrane_folder + 'lipids/'\n",
                "ion_channels_folder = pdb_folder + 'ion_channels/'\n",
                "\n",
                "glucose_path = pdb_folder + 'glucose.pdb'\n",
                "lactoferrin_path=pdb_folder + 'immune/1b0l.pdb'\n",
                "defensin_path = pdb_folder + 'immune/1ijv.pdb'\n",
                "\n",
                "surfactant_head_source = pdb_folder + 'surfactant/1pw9.pdb'\n",
                "surfactant_branch_source = pdb_folder + 'surfactant/1k6f.pdb'"
            ]
        },
        {
            "cell_type": "markdown",
            "metadata": {},
            "source": [
                "### Configuration"
            ]
        },
        {
            "cell_type": "code",
            "execution_count": null,
            "metadata": {},
            "outputs": [],
            "source": [
                "# Scene\n",
                "scene_size = Vector3(250.0, 250.0, 250.0)\n",
                "\n",
                "# Immune system\n",
                "nb_glucoses = 3600\n",
                "nb_lactoferrins = 10\n",
                "nb_defensins = 30\n",
                "\n",
                "# Proteins\n",
                "protein_radius_multiplier = 1.0\n",
                "protein_representation = be.REPRESENTATION_ATOMS_AND_STICKS\n",
                "protein_load_hydrogen = False"
            ]
        },
        {
            "cell_type": "markdown",
            "metadata": {},
            "source": [
                "## Camera"
            ]
        },
        {
            "cell_type": "code",
            "execution_count": null,
            "metadata": {},
            "outputs": [],
            "source": [
                "status = be.core_api().set_camera(\n",
                "    orientation=[0.0, 0.0, 0.0, 1.0],\n",
                "    position=[4.883, 44.255, 431.911],\n",
                "    target=[4.883, 44.255, 31.311]\n",
                ")"
            ]
        },
        {
            "cell_type": "markdown",
            "metadata": {},
            "source": [
                "## Scene description"
            ]
        },
        {
            "cell_type": "markdown",
            "metadata": {},
            "source": [
                "### SARS-COV-2 Coronavirus"
            ]
        },
        {
            "cell_type": "code",
            "execution_count": null,
            "metadata": {
                "scrolled": true
            },
            "outputs": [],
            "source": [
                "name='sars-cov-2'\n",
                "be.add_sars_cov_2(\n",
                "    name=name, resource_folder=resource_folder, \n",
                "    representation=protein_representation, \n",
                "    atom_radius_multiplier=protein_radius_multiplier,\n",
                "    add_glycans=True, position=Vector3(75.0, 0.0, 60.0)\n",
                ")"
            ]
        },
        {
            "cell_type": "markdown",
            "metadata": {},
            "source": [
                "### Host cell"
            ]
        },
        {
            "cell_type": "code",
            "execution_count": null,
            "metadata": {},
            "outputs": [],
            "source": [
                "name = 'Cell'\n",
                "\n",
                "# ACE2 receptor definition\n",
                "ace2_receptor = Protein(\n",
                "    name=name + '_' + be.NAME_RECEPTOR,\n",
                "    source=pdb_folder + '6m18.pdb',\n",
                "    occurences=1,\n",
                "    transmembrane_params=Vector2(-6.0, 7.0),\n",
                "    animation_params=AnimationParams(1))\n",
                "\n",
                "ion_channel = Protein(\n",
                "    name=name + '_' + be.NAME_ION_CHANNEL,\n",
                "    source=ion_channels_folder + '5kuk.pdb',\n",
                "    occurences=5,\n",
                "    transmembrane_params=Vector2(-1.0, 1.0),\n",
                "    animation_params=AnimationParams(2))\n",
                "\n",
                "# Membrane definition\n",
                "membrane = Membrane(\n",
                "    lipid_sources=[\n",
                "        lipids_folder + 'lipid_420.pdb',\n",
                "        lipids_folder + 'lipid_421.pdb',\n",
                "        lipids_folder + 'lipid_422.pdb',\n",
                "        lipids_folder + 'lipid_423.pdb'\n",
                "    ],\n",
                "    lipid_density=2.0,\n",
                "    load_bonds=True, load_non_polymer_chemicals=True,\n",
                "    animation_params=AnimationParams(1))\n",
                "\n",
                "# Cell definition\n",
                "cell_size = Vector3(scene_size.x, 80.0, scene_size.z)\n",
                "cell = Cell(\n",
                "    name=name, \n",
                "    shape=be.ASSEMBLY_SHAPE_SINUSOID, shape_params=cell_size,\n",
                "    membrane=membrane, proteins=[ace2_receptor, ion_channel])\n",
                "\n",
                "# Add cell to scene\n",
                "status = be.add_cell(\n",
                "    cell=cell, representation=protein_representation,\n",
                "    atom_radius_multiplier=protein_radius_multiplier,\n",
                "    position=Vector3(0.0, -80.0, 0.0)\n",
                ")"
            ]
        },
        {
            "cell_type": "code",
            "execution_count": null,
            "metadata": {},
            "outputs": [],
            "source": [
                "be.get_protein_amino_acid_information(\n",
                "    assembly_name=name, name=name + '_' + be.NAME_RECEPTOR)"
            ]
        },
        {
            "cell_type": "code",
            "execution_count": null,
            "metadata": {},
            "outputs": [],
            "source": [
                "glycan_folder = pdb_folder + 'glycans/'\n",
                "complex_paths = [glycan_folder + 'complex/5.pdb', glycan_folder + 'complex/15.pdb',\n",
                "                 glycan_folder + 'complex/25.pdb',glycan_folder + 'complex/35.pdb']\n",
                "high_mannose_paths = [glycan_folder + 'high-mannose/1.pdb', \n",
                "                      glycan_folder + 'high-mannose/2.pdb',\n",
                "                      glycan_folder + 'high-mannose/3.pdb',\n",
                "                      glycan_folder + 'high-mannose/4.pdb']\n",
                "hybrid_paths = [glycan_folder + 'hybrid/20.pdb']\n",
                "o_glycan_paths = [glycan_folder + 'o-glycan/1.pdb']\n",
                "\n",
                "\n",
                "be.add_multiple_glycans(\n",
                "    representation=protein_representation, assembly_name=name, \n",
                "    glycan_type=be.NAME_GLYCAN_COMPLEX,\n",
                "    protein_name=be.NAME_RECEPTOR, paths=complex_paths, \n",
                "    indices=[53, 90, 103, 322, 432, 690])\n",
                "\n",
                "be.add_multiple_glycans(\n",
                "    representation=protein_representation, assembly_name=name,\n",
                "    glycan_type=be.NAME_GLYCAN_HYBRID,\n",
                "    protein_name=be.NAME_RECEPTOR, paths=hybrid_paths, \n",
                "    indices=[546])\n",
                "\n",
                "indices = [[164, Quaternion(0.707, 0.0, 0.707, 0.0)],\n",
                "           [739, Quaternion(0.707, 0.0, 0.707, 0.0)]]\n",
                "for index in indices:\n",
                "    o_glycan_name = name + '_' + be.NAME_GLYCAN_O_GLYCAN + '_' + str(index[0])\n",
                "    o_glycan = Sugar(\n",
                "        assembly_name=name, name=o_glycan_name, \n",
                "        source=o_glycan_paths[0],\n",
                "        protein_name=name + '_' + be.NAME_RECEPTOR, \n",
                "        representation=protein_representation,\n",
                "        chain_ids=[2, 4], site_indices=[index[0]], \n",
                "        rotation=index[1])\n",
                "    be.add_sugar(o_glycan)"
            ]
        },
        {
            "cell_type": "markdown",
            "metadata": {},
            "source": [
                "### Environment"
            ]
        },
        {
            "cell_type": "code",
            "execution_count": null,
            "metadata": {},
            "outputs": [],
            "source": [
                "volume_position = Vector3(0.0, scene_size.y / 2.0 - 80.0, 0.0)"
            ]
        },
        {
            "cell_type": "markdown",
            "metadata": {},
            "source": [
                "#### Glucose"
            ]
        },
        {
            "cell_type": "code",
            "execution_count": null,
            "metadata": {},
            "outputs": [],
            "source": [
                "nglview.show_file(glucose_path)"
            ]
        },
        {
            "cell_type": "code",
            "execution_count": null,
            "metadata": {},
            "outputs": [],
            "source": [
                "glucose = Protein(\n",
                "    name=be.NAME_GLUCOSE, \n",
                "    source=glucose_path, load_non_polymer_chemicals=True, \n",
                "    occurences=nb_glucoses,\n",
                "    animation_params=AnimationParams(3)\n",
                ")\n",
                "volume = Volume(\n",
                "    name=be.NAME_GLUCOSE,\n",
                "    shape=be.ASSEMBLY_SHAPE_CUBE, shape_params=scene_size,\n",
                "    protein=glucose)\n",
                "status = be.add_volume(\n",
                "    volume=volume, \n",
                "    representation=protein_representation,\n",
                "    atom_radius_multiplier=protein_radius_multiplier,\n",
                "    position=volume_position)"
            ]
        },
        {
            "cell_type": "markdown",
            "metadata": {},
            "source": [
                "#### Lactoferrin"
            ]
        },
        {
            "cell_type": "code",
            "execution_count": null,
            "metadata": {},
            "outputs": [],
            "source": [
                "nglview.show_file(lactoferrin_path)"
            ]
        },
        {
            "cell_type": "code",
            "execution_count": null,
            "metadata": {},
            "outputs": [],
            "source": [
                "lactoferrin = Protein(\n",
                "    name=be.NAME_LACTOFERRIN, \n",
                "    source=lactoferrin_path, load_non_polymer_chemicals=True,\n",
                "    occurences=nb_lactoferrins,\n",
                "    animation_params=AnimationParams(4)\n",
                ")\n",
                "lactoferrins_volume = Volume(\n",
                "    name=be.NAME_LACTOFERRIN, \n",
                "    shape=be.ASSEMBLY_SHAPE_CUBE, shape_params=scene_size,\n",
                "    protein=lactoferrin)\n",
                "status = be.add_volume(\n",
                "    volume=lactoferrins_volume,\n",
                "    representation=protein_representation,\n",
                "    atom_radius_multiplier=protein_radius_multiplier,\n",
                "    position=volume_position)"
            ]
        },
        {
            "cell_type": "markdown",
            "metadata": {},
            "source": [
                "#### Defensins"
            ]
        },
        {
            "cell_type": "code",
            "execution_count": null,
            "metadata": {},
            "outputs": [],
            "source": [
                "nglview.show_file(defensin_path)"
            ]
        },
        {
            "cell_type": "code",
            "execution_count": null,
            "metadata": {},
            "outputs": [],
            "source": [
                "defensin = Protein(\n",
                "    name=be.NAME_DEFENSIN, \n",
                "    source=defensin_path, load_non_polymer_chemicals=True, \n",
                "    occurences=nb_defensins,\n",
                "    animation_params=AnimationParams(5)\n",
                ")\n",
                "defensins_volume = Volume(\n",
                "    name=be.NAME_DEFENSIN, \n",
                "    shape=be.ASSEMBLY_SHAPE_CUBE, shape_params=scene_size,\n",
                "    protein=defensin)\n",
                "status = be.add_volume(\n",
                "    volume=defensins_volume, \n",
                "    representation=protein_representation,\n",
                "    atom_radius_multiplier=protein_radius_multiplier,\n",
                "    position=volume_position)"
            ]
        },
        {
            "cell_type": "markdown",
            "metadata": {},
            "source": [
                "#### Surfactant-D"
            ]
        },
        {
            "cell_type": "code",
            "execution_count": null,
            "metadata": {},
            "outputs": [],
            "source": [
                "nglview.show_file(surfactant_head_source)"
            ]
        },
        {
            "cell_type": "code",
            "execution_count": null,
            "metadata": {},
            "outputs": [],
            "source": [
                "nglview.show_file(surfactant_branch_source)"
            ]
        },
        {
            "cell_type": "code",
            "execution_count": null,
            "metadata": {},
            "outputs": [],
            "source": [
                "def add_surfactant_d(name, position, animation_params):\n",
                "    surfactant_d = Surfactant(\n",
                "        name=name, surfactant_protein=be.SURFACTANT_PROTEIN_D, \n",
                "        head_source=surfactant_head_source,\n",
                "        branch_source=surfactant_branch_source)\n",
                "    be.add_surfactant(\n",
                "        surfactant=surfactant_d, \n",
                "        representation=protein_representation,\n",
                "        atom_radius_multiplier=protein_radius_multiplier,\n",
                "        position=position, animation_params=animation_params)\n",
                "\n",
                "add_surfactant_d(\n",
                "    name='Surfactant-D 1',\n",
                "    position=Vector3(2.0, 18.0, 102.0),\n",
                "    animation_params=AnimationParams(1)\n",
                ")"
            ]
        },
        {
            "cell_type": "markdown",
            "metadata": {},
            "source": [
                "#### Surfactant A"
            ]
        },
        {
            "cell_type": "code",
            "execution_count": null,
            "metadata": {},
            "outputs": [],
            "source": [
                "def add_surfactant_a(name, position, animation_params):\n",
                "    surfactant_a = Surfactant(\n",
                "        name=name, surfactant_protein=be.SURFACTANT_PROTEIN_A, \n",
                "        head_source=surfactant_head_source,\n",
                "        branch_source=surfactant_branch_source)\n",
                "    be.add_surfactant(\n",
                "        surfactant=surfactant_a, \n",
                "        representation=protein_representation,\n",
                "        atom_radius_multiplier=protein_radius_multiplier,\n",
                "        position=position, animation_params=animation_params)\n",
                "\n",
                "add_surfactant_a(\n",
                "    name='Surfactant-A 1',\n",
                "    position=Vector3(-100.0, 0.0, 0.0),\n",
                "    animation_params=AnimationParams(2)\n",
                ")"
            ]
        },
        {
            "cell_type": "markdown",
            "metadata": {},
            "source": [
                "## Materials"
            ]
        },
        {
            "cell_type": "code",
            "execution_count": null,
            "metadata": {},
            "outputs": [],
            "source": [
                "be.apply_default_color_scheme(\n",
                "    specular_exponent=5.0, glossiness=0.1,\n",
                "    user_parameter=0.01,\n",
                "    shading_mode=be.SHADING_MODE_PERLIN)"
            ]
        },
        {
            "cell_type": "code",
            "execution_count": null,
            "metadata": {},
            "outputs": [],
            "source": [
                "status = be.set_protein_color_scheme(\n",
                "    name, name + '_' + be.NAME_RECEPTOR, \n",
                "    be.COLOR_SCHEME_CHAINS, 'OrRd_r', 7)\n",
                "    \n",
                "status = be.set_protein_color_scheme(\n",
                "    name, name + '_' + be.NAME_ION_CHANNEL,\n",
                "    be.COLOR_SCHEME_CHAINS, 'Greens_r', 7)    "
            ]
        },
        {
            "cell_type": "markdown",
            "metadata": {},
            "source": [
                "## Rendering settings"
            ]
        },
        {
            "cell_type": "code",
            "execution_count": null,
            "metadata": {},
            "outputs": [],
            "source": [
                "status = be.set_rendering_quality(be.RENDERING_QUALITY_HIGH)"
            ]
        },
        {
            "cell_type": "code",
            "execution_count": null,
            "metadata": {},
            "outputs": [],
            "source": [
                "status = be.set_models_visibility(True)"
            ]
        }
    ],
    "metadata": {
        "kernelspec": {
            "display_name": "Python 3.8.10 ('env')",
            "language": "python",
            "name": "python3"
        },
        "language_info": {
            "codemirror_mode": {
                "name": "ipython",
                "version": 3
            },
            "file_extension": ".py",
            "mimetype": "text/x-python",
            "name": "python",
            "nbconvert_exporter": "python",
            "pygments_lexer": "ipython3",
            "version": "3.8.10"
        },
        "vscode": {
            "interpreter": {
                "hash": "ea9a5fa46eb6bad2806a8ea1d08e15bb1e255a2d4320b81e765591579963c56b"
            }
        }
    },
    "nbformat": 4,
    "nbformat_minor": 4
}
