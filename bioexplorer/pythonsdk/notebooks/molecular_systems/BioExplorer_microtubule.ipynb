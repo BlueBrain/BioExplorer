{
    "cells": [
        {
            "cell_type": "markdown",
            "id": "fcf7a2b1",
            "metadata": {},
            "source": [
                "# Blue Brain BioExplorer\n",
                "\n",
                "![](../bioexplorer_banner.png)"
            ]
        },
        {
            "cell_type": "markdown",
            "id": "ac3c2bbd",
            "metadata": {},
            "source": [
                "## Visualization of a microtubule"
            ]
        },
        {
            "cell_type": "code",
            "execution_count": 27,
            "id": "eeff036f",
            "metadata": {},
            "outputs": [],
            "source": [
                "from bioexplorer import BioExplorer, Volume, Protein, Vector3, Quaternion\n",
                "import os\n",
                "\n",
                "be = BioExplorer('localhost:5000')\n",
                "core = be.core_api()\n",
                "status = be.reset_scene()"
            ]
        },
        {
            "cell_type": "markdown",
            "id": "c9f34251",
            "metadata": {},
            "source": [
                "### Resources"
            ]
        },
        {
            "cell_type": "code",
            "execution_count": 28,
            "id": "addafa59",
            "metadata": {},
            "outputs": [],
            "source": [
                "resource_folder = os.path.abspath('../../tests/test_files')\n",
                "pdb_folder = os.path.join(resource_folder, 'pdb')\n",
                "tubules_folder = os.path.join(pdb_folder, 'tubules')\n",
                "\n",
                "representation = be.REPRESENTATION_ATOMS_AND_STICKS"
            ]
        },
        {
            "cell_type": "code",
            "execution_count": 29,
            "metadata": {},
            "outputs": [],
            "source": [
                "status = be.add_grid(min_value=0, max_value=50, interval=10, radius=0.01)"
            ]
        },
        {
            "cell_type": "code",
            "execution_count": 30,
            "id": "039b5da0",
            "metadata": {},
            "outputs": [],
            "source": [
                "import random\n",
                "\n",
                "size  = Vector3(5.0, 50.0, 0.0)\n",
                "pos = Vector3(25, 10, 50)\n",
                "name = 'Microtubule'\n",
                "\n",
                "tubule = Protein(\n",
                "    name=name + '_TUB',\n",
                "    source=os.path.join(tubules_folder, '1tub.pdb'),\n",
                "    occurrences=int(size.y * 5.0))\n",
                "\n",
                "volume = Volume(\n",
                "    name=name,\n",
                "    shape=be.ASSEMBLY_SHAPE_HELIX, shape_params=size,\n",
                "    protein=tubule)\n",
                "\n",
                "status = be.add_volume(\n",
                "    position=pos,\n",
                "    rotation=Quaternion(0.951, 0.255, -0.045, 0.168),\n",
                "    volume=volume)\n",
                "\n",
                "status = be.set_protein_color_scheme(\n",
                "    assembly_name=name,\n",
                "    name=name + '_TUB',\n",
                "    color_scheme=be.COLOR_SCHEME_CHAINS,\n",
                "    palette_name='Set2', palette_size=5)\n",
                "status = core.set_renderer()"
            ]
        },
        {
            "cell_type": "code",
            "execution_count": 31,
            "metadata": {},
            "outputs": [],
            "source": [
                "status = be.reset_camera()\n",
                "status = be.set_rendering_quality(be.RENDERING_QUALITY_HIGH)"
            ]
        }
    ],
    "metadata": {
        "kernelspec": {
            "display_name": "Python 3.8.10 ('env')",
            "language": "python",
            "name": "python3"
        },
        "language_info": {
            "codemirror_mode": {
                "name": "ipython",
                "version": 3
            },
            "file_extension": ".py",
            "mimetype": "text/x-python",
            "name": "python",
            "nbconvert_exporter": "python",
            "pygments_lexer": "ipython3",
            "version": "3.8.10"
        },
        "vscode": {
            "interpreter": {
                "hash": "ea9a5fa46eb6bad2806a8ea1d08e15bb1e255a2d4320b81e765591579963c56b"
            }
        }
    },
    "nbformat": 4,
    "nbformat_minor": 4
}
