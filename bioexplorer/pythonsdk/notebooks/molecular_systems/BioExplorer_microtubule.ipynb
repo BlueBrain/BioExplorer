{
 "cells": [
  {
   "cell_type": "markdown",
   "id": "fcf7a2b1",
   "metadata": {},
   "source": [
    "# Blue Brain BioExplorer\n",
    "\n",
    "![](../bioexplorer_banner.png)"
   ]
  },
  {
   "cell_type": "markdown",
   "id": "ac3c2bbd",
   "metadata": {},
   "source": [
    "## Visualization of a microtubule"
   ]
  },
  {
   "cell_type": "code",
   "execution_count": null,
   "id": "eeff036f",
   "metadata": {},
   "outputs": [],
   "source": [
    "from bioexplorer import BioExplorer, Volume, Protein, Vector3, Quaternion\n",
    "\n",
    "be = BioExplorer('localhost:5000')\n",
    "core = be.core_api()\n",
    "status = be.reset_scene()"
   ]
  },
  {
   "cell_type": "markdown",
   "id": "c9f34251",
   "metadata": {},
   "source": [
    "### Resources"
   ]
  },
  {
   "cell_type": "code",
   "execution_count": null,
   "id": "addafa59",
   "metadata": {},
   "outputs": [],
   "source": [
    "resource_folder = '../../tests/test_files/'\n",
    "pdb_folder = resource_folder + 'pdb/'\n",
    "obj_folder = resource_folder + 'obj/'\n",
    "membrane_folder = pdb_folder + 'membrane/'\n",
    "lipids_folder = membrane_folder + 'lipids/'\n",
    "transporters_folder = pdb_folder + 'transporters/'\n",
    "tubules_folder = pdb_folder + 'tubules/'\n",
    "\n",
    "representation = be.REPRESENTATION_ATOMS_AND_STICKS"
   ]
  },
  {
   "cell_type": "code",
   "execution_count": null,
   "metadata": {},
   "outputs": [],
   "source": [
    "be.add_grid(min_value=0, max_value=50, interval=10, radius=0.01)"
   ]
  },
  {
   "cell_type": "code",
   "execution_count": null,
   "id": "039b5da0",
   "metadata": {},
   "outputs": [],
   "source": [
    "import random\n",
    "\n",
    "size  = Vector3(5.0, 50.0, 0.0)\n",
    "pos = Vector3(25, 25, 25)\n",
    "name = 'Microtubule'\n",
    "\n",
    "# ACE2 receptor definition\n",
    "tubule = Protein(\n",
    "    name=name + '_TUB',\n",
    "    source=tubules_folder + '1tub.pdb', \n",
    "    # rotation=Quaternion(0.0, 0.0, 0.707, 0.707),\n",
    "    occurences=size.y * 5.0)\n",
    "\n",
    "volume = Volume(\n",
    "    name=name,\n",
    "    shape=be.ASSEMBLY_SHAPE_HELIX, shape_params=size,\n",
    "    # shape=be.ASSEMBLY_SHAPE_CUBE, shape_params=Vector3(300,300,300),\n",
    "    protein=tubule)\n",
    "\n",
    "status = be.add_volume(\n",
    "    position=pos,\n",
    "    # representation=be.REPRESENTATION_DEBUG,\n",
    "    rotation=Quaternion(0.951, 0.255, -0.045, 0.168),\n",
    "    # rotation=Quaternion(0.0, 0.707, 0.0, 0.707),\n",
    "    # rotation=Q,\n",
    "    volume=volume)\n",
    "\n",
    "status = be.set_protein_color_scheme(\n",
    "    assembly_name=name,\n",
    "    name=name + '_TUB',\n",
    "    color_scheme=be.COLOR_SCHEME_CHAINS,\n",
    "    palette_name='Set2', palette_size=5)\n",
    "core.set_renderer()"
   ]
  },
  {
   "cell_type": "code",
   "execution_count": null,
   "metadata": {},
   "outputs": [],
   "source": [
    "status = be.reset_camera()\n",
    "status = be.set_rendering_quality(be.RENDERING_QUALITY_HIGH)"
   ]
  }
 ],
 "metadata": {
  "kernelspec": {
   "display_name": "Python 3.8.10 ('env')",
   "language": "python",
   "name": "python3"
  },
  "language_info": {
   "codemirror_mode": {
    "name": "ipython",
    "version": 3
   },
   "file_extension": ".py",
   "mimetype": "text/x-python",
   "name": "python",
   "nbconvert_exporter": "python",
   "pygments_lexer": "ipython3",
   "version": "3.8.10"
  },
  "vscode": {
   "interpreter": {
    "hash": "ea9a5fa46eb6bad2806a8ea1d08e15bb1e255a2d4320b81e765591579963c56b"
   }
  }
 },
 "nbformat": 4,
 "nbformat_minor": 4
}
