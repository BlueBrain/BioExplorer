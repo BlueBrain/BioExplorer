{
    "cells": [
        {
            "cell_type": "markdown",
            "metadata": {},
            "source": [
                "# Blue Brain BioExplorer\n",
                "![](../../bioexplorer_banner.png)"
            ]
        },
        {
            "cell_type": "code",
            "execution_count": null,
            "metadata": {
                "scrolled": true
            },
            "outputs": [],
            "source": [
                "from bioexplorer import BioExplorer, MovieMaker\n",
                "import os\n",
                "\n",
                "url = 'localhost:5000'\n",
                "resource_folder = os.path.abspath('../../../tests/test_files')\n",
                "    \n",
                "be = BioExplorer(url)\n",
                "core = be.core_api()\n",
                "mm = MovieMaker(be)\n",
                "version = be.version()\n",
                "print('Version ' + version)\n",
                "\n",
                "sequence_name = 'low_glucose'"
            ]
        },
        {
            "cell_type": "code",
            "execution_count": null,
            "metadata": {},
            "outputs": [],
            "source": [
                "'''Reset current scene'''\n",
                "status = be.reset_scene()"
            ]
        },
        {
            "cell_type": "code",
            "execution_count": null,
            "metadata": {},
            "outputs": [],
            "source": [
                "'''Accelerate loading by not showing models as they are loaded'''\n",
                "status = be.set_general_settings(\n",
                "    logging_enabled=True,\n",
                "    model_visibility_on_creation=False)"
            ]
        },
        {
            "cell_type": "code",
            "execution_count": null,
            "metadata": {},
            "outputs": [],
            "source": [
                "cache_folder = os.path.join(resource_folder, 'caches', version)"
            ]
        },
        {
            "cell_type": "code",
            "execution_count": null,
            "metadata": {},
            "outputs": [],
            "source": [
                "cache_filename = cache_folder + sequence_name + '_scenario.bioexplorer'\n",
                "print('Loading ' + cache_filename)\n",
                "dummy = core.add_model(cache_filename)"
            ]
        },
        {
            "cell_type": "code",
            "execution_count": null,
            "metadata": {},
            "outputs": [],
            "source": [
                "nb_models = len(core.scene.models)\n",
                "if nb_models != 152:\n",
                "    print('ERROR: Not all models have been loaded!!! Expected 152, found ' + str(nb_models))\n",
                "else:\n",
                "    print('All good!')"
            ]
        },
        {
            "cell_type": "code",
            "execution_count": null,
            "metadata": {},
            "outputs": [],
            "source": [
                "'''Show loaded models'''\n",
                "status = be.set_models_visibility(True)"
            ]
        },
        {
            "cell_type": "markdown",
            "metadata": {},
            "source": [
                "## Rendering settings"
            ]
        },
        {
            "cell_type": "code",
            "execution_count": null,
            "metadata": {},
            "outputs": [],
            "source": [
                "status = be.set_rendering_quality(be.RENDERING_QUALITY_HIGH)"
            ]
        },
        {
            "cell_type": "code",
            "execution_count": null,
            "metadata": {},
            "outputs": [],
            "source": [
                "status = be.apply_default_color_scheme(\n",
                "    shading_mode=be.SHADING_MODE_DIFFUSE,\n",
                "    specular_exponent=50.0\n",
                ")"
            ]
        },
        {
            "cell_type": "markdown",
            "metadata": {},
            "source": [
                "## Snapshots"
            ]
        },
        {
            "cell_type": "code",
            "execution_count": null,
            "metadata": {
                "scrolled": true
            },
            "outputs": [],
            "source": [
                "k = 4\n",
                "image_size = [k*960,k*540]\n",
                "image_spp = 64\n",
                "image_format = 'png'\n",
                "aperture_ratio = 0.0\n",
                "\n",
                "output_folder = os.path.join('/tmp', 'frames/', version, sequence_name)\n",
                "output_suffix = '_' + str(image_size[0]) + 'x' + \\\n",
                "                str(image_size[1]) + '_' + str(image_spp) + 'spp'\n",
                "\n",
                "command_line='mkdir -p ' + output_folder\n",
                "os.system(command_line)\n",
                "command_line='ls ' + output_folder\n",
                "if os.system(command_line) != 0:\n",
                "    print('ERROR: Failed to create output folder')\n",
                "\n",
                "print(output_folder)\n",
                "print(output_suffix)"
            ]
        },
        {
            "cell_type": "code",
            "execution_count": null,
            "metadata": {},
            "outputs": [],
            "source": [
                "''' Virus overview '''\n",
                "status =  mm.set_camera(\n",
                "    direction=[0.0, 0.0, -1.0],\n",
                "    origin=[199.840, 20.634, 34.664],\n",
                "    up=[0.0, 1.0, 0.0]\n",
                ")"
            ]
        },
        {
            "cell_type": "code",
            "execution_count": null,
            "metadata": {},
            "outputs": [],
            "source": [
                "mm.create_snapshot(\n",
                "    renderer='bio_explorer',\n",
                "    size=image_size,\n",
                "    path=output_folder,\n",
                "    base_name='virus_overview' + output_suffix,\n",
                "    samples_per_pixel=image_spp)"
            ]
        },
        {
            "cell_type": "code",
            "execution_count": null,
            "metadata": {},
            "outputs": [],
            "source": [
                "''' Spike '''\n",
                "status = mm.set_camera(\n",
                "    direction=[-0.0, 0.0, -1.0],\n",
                "    origin=[205.7975332343745, 74.45357835395305, -108.21803523500476],\n",
                "    up=[0.0, 1.0, 0.0])"
            ]
        },
        {
            "cell_type": "code",
            "execution_count": null,
            "metadata": {},
            "outputs": [],
            "source": [
                "mm.create_snapshot(\n",
                "    renderer='bio_explorer',\n",
                "    size=image_size,\n",
                "    path=output_folder,\n",
                "    base_name='spike' + output_suffix,\n",
                "    samples_per_pixel=image_spp)"
            ]
        },
        {
            "cell_type": "code",
            "execution_count": null,
            "metadata": {},
            "outputs": [],
            "source": [
                "''' Protein M et E '''\n",
                "status = mm.set_camera(\n",
                "    direction=[-0.047, -0.298, -0.953],\n",
                "    origin=[208.156, 55.792, -59.805],\n",
                "    up=[0.003, 0.954, -0.298]\n",
                ")"
            ]
        },
        {
            "cell_type": "code",
            "execution_count": null,
            "metadata": {},
            "outputs": [],
            "source": [
                "mm.create_snapshot(\n",
                "    renderer='bio_explorer',\n",
                "    size=image_size,\n",
                "    path=output_folder,\n",
                "    base_name='proteins_m_and_e' + output_suffix,\n",
                "    samples_per_pixel=image_spp)"
            ]
        },
        {
            "cell_type": "code",
            "execution_count": null,
            "metadata": {},
            "outputs": [],
            "source": [
                "''' Lactoferrin on virus'''\n",
                "status = mm.set_camera(\n",
                "    direction = [0.646, -0.067, -0.760],\n",
                "    origin = [-72.177, 14.070, 79.730],\n",
                "    up = [0.071, 0.997, -0.027]\n",
                ")"
            ]
        },
        {
            "cell_type": "code",
            "execution_count": null,
            "metadata": {},
            "outputs": [],
            "source": [
                "mm.create_snapshot(\n",
                "    renderer='bio_explorer',\n",
                "    size=image_size,\n",
                "    path=output_folder,\n",
                "    base_name='lactoferrin_on_virus' + output_suffix,\n",
                "    samples_per_pixel=image_spp)"
            ]
        },
        {
            "cell_type": "code",
            "execution_count": null,
            "metadata": {},
            "outputs": [],
            "source": [
                "''' Overview SP-A'''\n",
                "status = mm.set_camera(\n",
                "    direction=[-0.471, -0.006, -0.882],\n",
                "    origin=[238.163, 46.437, 372.585],\n",
                "    up=[0.0, 1.0, 0.0]\n",
                ")"
            ]
        },
        {
            "cell_type": "code",
            "execution_count": null,
            "metadata": {},
            "outputs": [],
            "source": [
                "mm.create_snapshot(\n",
                "    renderer='bio_explorer',\n",
                "    size=image_size,\n",
                "    path=output_folder,\n",
                "    base_name='surfactant_a_overview' + output_suffix,\n",
                "    samples_per_pixel=image_spp)"
            ]
        },
        {
            "cell_type": "code",
            "execution_count": null,
            "metadata": {},
            "outputs": [],
            "source": [
                "''' Overview SP-D'''\n",
                "status = mm.set_camera(\n",
                "    direction=[-0.471, -0.005, -0.881],\n",
                "    origin=[238.163, 46.436, 372.584],\n",
                "    up=[0.0, 1.0, 0.0]\n",
                ")"
            ]
        },
        {
            "cell_type": "code",
            "execution_count": null,
            "metadata": {},
            "outputs": [],
            "source": [
                "mm.create_snapshot(\n",
                "    renderer='bio_explorer',\n",
                "    size=image_size,\n",
                "    path=output_folder,\n",
                "    base_name='surfactant_d_overview' + output_suffix,\n",
                "    samples_per_pixel=image_spp)"
            ]
        },
        {
            "cell_type": "code",
            "execution_count": null,
            "metadata": {},
            "outputs": [],
            "source": [
                "''' Zoom SPD'''\n",
                "status = mm.set_camera(\n",
                "    direction=[-0.821, 0.202, -0.533],\n",
                "    origin=[-9.827, 110.720, 60.944],\n",
                "    up=[0.178, 0.979, 0.098]\n",
                ")"
            ]
        },
        {
            "cell_type": "code",
            "execution_count": null,
            "metadata": {},
            "outputs": [],
            "source": [
                "mm.create_snapshot(\n",
                "    renderer='bio_explorer',\n",
                "    size=image_size,\n",
                "    path=output_folder,\n",
                "    base_name='surfactant_d_details' + output_suffix,\n",
                "    samples_per_pixel=image_spp)"
            ]
        },
        {
            "cell_type": "code",
            "execution_count": null,
            "metadata": {},
            "outputs": [],
            "source": [
                "''' cell Membrane '''\n",
                "status = mm.set_camera(\n",
                "    direction=[0.0, 0.0, -1.0],\n",
                "    origin=[150.0, -170.0, 400.0],\n",
                "    up=[0.0, 1.0, 0.0]\n",
                ")"
            ]
        },
        {
            "cell_type": "code",
            "execution_count": null,
            "metadata": {},
            "outputs": [],
            "source": [
                "mm.create_snapshot(\n",
                "    renderer='bio_explorer',\n",
                "    size=image_size,\n",
                "    path=output_folder,\n",
                "    base_name='cell_membrane' + output_suffix,\n",
                "    samples_per_pixel=image_spp)"
            ]
        },
        {
            "cell_type": "markdown",
            "metadata": {},
            "source": [
                "## Movie"
            ]
        },
        {
            "cell_type": "code",
            "execution_count": null,
            "metadata": {},
            "outputs": [],
            "source": [
                "cameras_key_frames = [\n",
                "    {  # Virus overview (on 5th virus)\n",
                "        'apertureRadius': aperture_ratio * 0.02,\n",
                "        'direction': [0.0, 0.0, -1.0],\n",
                "        'focusDistance': 139.56,\n",
                "        'origin': [199.840, 20.634, 34.664],\n",
                "        'up': [0.0, 1.0, 0.0]\n",
                "    },\n",
                "    {  # Protein S (on 5th virus)\n",
                "        'apertureRadius': aperture_ratio * 0.02,\n",
                "        'direction': [0.0, 0.0, -1.0],\n",
                "        'focusDistance': 23.60,\n",
                "        'origin': [205.797, 74.453, -108.218],\n",
                "        'up': [0.0, 1.0, 0.0]\n",
                "    },\n",
                "    {  # Protein M and E\n",
                "        'apertureRadius': aperture_ratio * 0.02,\n",
                "        'direction': [-0.047, -0.298, -0.953],\n",
                "        'focusDistance': 54.56,\n",
                "        'origin': [208.156, 55.792, -59.805],\n",
                "        'up': [0.003, 0.954, -0.298]\n",
                "    },\n",
                "    {  # Overview SPA\n",
                "        'apertureRadius': aperture_ratio * 0.001,\n",
                "        'direction': [-0.471, -0.006, -0.882],\n",
                "        'focusDistance': 444.63,\n",
                "        'origin': [238.163, 46.437, 372.585],\n",
                "        'up': [0.0, 1.0, 0.0]\n",
                "    },\n",
                "    {  # Overview SPD\n",
                "        'apertureRadius': aperture_ratio * 0.001,\n",
                "        'focusDistance': 444.63,\n",
                "        'direction': [-0.471, -0.005, -0.881],\n",
                "        'origin': [238.163, 46.436, 372.584],\n",
                "        'up': [0.0, 1.0, 0.0]\n",
                "    },\n",
                "    {  # Zoom SPD (on 3rd virus)\n",
                "        'apertureRadius': aperture_ratio * 0.02,\n",
                "        'focusDistance': 31.86,\n",
                "        'direction': [-0.821, 0.202, -0.533],\n",
                "        'origin': [-9.827, 110.720, 60.944],\n",
                "        'up': [0.178, 0.979, 0.098]\n",
                "    },\n",
                "    {  # Overview scene\n",
                "        'apertureRadius': aperture_ratio * 0.0,\n",
                "        'focusDistance': 1.0,\n",
                "        'direction': [-1.0, 0.0, 0.0],\n",
                "        'origin': [1008.957, 29.057, 113.283],\n",
                "        'up': [0.0, 1.0, 0.0]\n",
                "    },\n",
                "    {  # Cell view\n",
                "        'apertureRadius': aperture_ratio * 0.0,\n",
                "        'direction': [0.0, 0.0, -1.0],\n",
                "        'focusDistance': 1.0,\n",
                "        'origin': [150.0, -170.0, 400.0],\n",
                "        'up': [0.0, 1.0, 0.0]\n",
                "    }\n",
                "]"
            ]
        },
        {
            "cell_type": "code",
            "execution_count": null,
            "metadata": {},
            "outputs": [],
            "source": [
                "key_frames = list()\n",
                "for cameras_key_frame in cameras_key_frames:\n",
                "    key_frames.append(cameras_key_frame)\n",
                "    key_frames.append(cameras_key_frame)"
            ]
        },
        {
            "cell_type": "code",
            "execution_count": null,
            "metadata": {},
            "outputs": [],
            "source": [
                "def render(projection, k, samples_per_pixel, start_frame=0, end_frame=0):\n",
                "    nb_frames = core.get_animation_parameters()['frame_count']\n",
                "    export_folder = output_folder + 'sequences/' + projection + '/'\n",
                "    end_frame=nb_frames\n",
                "\n",
                "    output_size = list()\n",
                "    if projection=='perspective':\n",
                "        aperture_ratio = 1.0\n",
                "        output_size = [int(k*960),int(k*540)]\n",
                "        core.set_camera(current='bio_explorer_perspective')\n",
                "    elif projection=='fisheye':\n",
                "        output_size = [int(k*1024),int(k*1024)]\n",
                "        core.set_camera(current='fisheye')\n",
                "    elif projection=='panoramic':\n",
                "        output_size = [int(k*1024),int(k*1024)]\n",
                "        core.set_camera(current='panoramic')\n",
                "    elif projection=='opendeck':\n",
                "        output_size = [7*2160,3840]\n",
                "        core.set_camera(current='cylindric')\n",
                "\n",
                "    print('Rendering <' + sequence_name + '> sequence in <' + projection + '> projection ' + str(output_size))\n",
                "    print(str(samples_per_pixel) + ' samples per pixel')\n",
                "    print(export_folder)\n",
                "\n",
                "    command_line='mkdir -p ' + export_folder\n",
                "    os.system(command_line)\n",
                "    command_line='ls ' + export_folder\n",
                "    if os.system(command_line) != 0:\n",
                "        print('ERROR: Failed to create output folder')\n",
                "        \n",
                "    size = core.get_application_parameters()['viewport']\n",
                "    core.set_renderer(samples_per_pixel=1, max_accum_frames=samples_per_pixel)\n",
                "    core.set_application_parameters(viewport=output_size)\n",
                "    core.set_application_parameters(image_stream_fps=0)\n",
                "\n",
                "    print('exporting...')\n",
                "    \n",
                "    mm.export_frames(\n",
                "        path=export_folder, size=output_size,\n",
                "        samples_per_pixel=samples_per_pixel-1,\n",
                "        start_frame=start_frame, end_frame=end_frame\n",
                "    )\n",
                "    \n",
                "    while mm.get_export_frames_progress()['progress'] < 1.0:\n",
                "        import time\n",
                "        time.sleep(1)\n",
                "        \n",
                "    mm.cancel_frames_export()"
            ]
        },
        {
            "cell_type": "code",
            "execution_count": null,
            "metadata": {},
            "outputs": [],
            "source": [
                "mm.build_camera_path(key_frames, 250, 150)"
            ]
        },
        {
            "cell_type": "code",
            "execution_count": null,
            "metadata": {},
            "outputs": [],
            "source": [
                "mm.set_current_frame(2600)"
            ]
        },
        {
            "cell_type": "code",
            "execution_count": null,
            "metadata": {},
            "outputs": [],
            "source": [
                "render('perspective', 4, 64)"
            ]
        }
    ],
    "metadata": {
        "kernelspec": {
            "display_name": "Python 3.8.10 ('env')",
            "language": "python",
            "name": "python3"
        },
        "language_info": {
            "codemirror_mode": {
                "name": "ipython",
                "version": 3
            },
            "file_extension": ".py",
            "mimetype": "text/x-python",
            "name": "python",
            "nbconvert_exporter": "python",
            "pygments_lexer": "ipython3",
            "version": "3.8.10"
        },
        "vscode": {
            "interpreter": {
                "hash": "ea9a5fa46eb6bad2806a8ea1d08e15bb1e255a2d4320b81e765591579963c56b"
            }
        }
    },
    "nbformat": 4,
    "nbformat_minor": 5
}
