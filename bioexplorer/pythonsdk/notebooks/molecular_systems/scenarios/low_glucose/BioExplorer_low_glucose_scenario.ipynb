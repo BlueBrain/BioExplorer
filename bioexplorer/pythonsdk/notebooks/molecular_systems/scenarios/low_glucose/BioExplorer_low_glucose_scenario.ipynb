{
    "cells": [
        {
            "attachments": {},
            "cell_type": "markdown",
            "metadata": {},
            "source": [
                "# Blue Brain BioExplorer\n",
                "![](../../bioexplorer_banner.png)"
            ]
        },
        {
            "attachments": {},
            "cell_type": "markdown",
            "metadata": {},
            "source": [
                "# Low Glucose Scenario"
            ]
        },
        {
            "attachments": {},
            "cell_type": "markdown",
            "metadata": {},
            "source": [
                "## Connect to BioExplorer backend"
            ]
        },
        {
            "cell_type": "code",
            "execution_count": null,
            "metadata": {
                "scrolled": true
            },
            "outputs": [],
            "source": [
                "from bioexplorer import BioExplorer, Protein, Surfactant, Membrane, Cell, Sugar, \\\n",
                "                        Volume, MolecularSystemAnimationParams, Vector2, Vector3, Quaternion\n",
                "import nglview\n",
                "import os\n",
                "\n",
                "url = 'localhost:5000'\n",
                "be = BioExplorer(url)\n",
                "core = be.core_api()\n",
                "version = be.version()\n",
                "print('Version: %s' % version)\n",
                "\n",
                "export_to_cache = False\n",
                "\n",
                "scenario = 'low_glucose'"
            ]
        },
        {
            "cell_type": "code",
            "execution_count": null,
            "metadata": {},
            "outputs": [],
            "source": [
                "'''Accelerate loading by not showing models as they are loaded'''\n",
                "status = be.set_general_settings(logging_level=3, v1_compatibility=True)\n",
                "status = be.start_model_loading_transaction()\n",
                "status = core.set_renderer(samples_per_pixel=1, subsampling=1, max_accum_frames=1)\n",
                "status = be.reset_scene()"
            ]
        },
        {
            "attachments": {},
            "cell_type": "markdown",
            "metadata": {},
            "source": [
                "## Global parameters"
            ]
        },
        {
            "cell_type": "code",
            "execution_count": null,
            "metadata": {},
            "outputs": [],
            "source": [
                "# Scene\n",
                "scene_size = Vector3(800.0, 800.0, 800.0)\n",
                "\n",
                "# Proteins\n",
                "protein_radius_multiplier = 1.0\n",
                "protein_representation = be.REPRESENTATION_ATOMS_AND_STICKS\n",
                "\n",
                "# Glycans\n",
                "add_glycans = True\n",
                "glycan_representation = be.REPRESENTATION_ATOMS_AND_STICKS\n",
                "\n",
                "# Viruses\n",
                "nb_protein_s = 62\n",
                "nb_protein_e = 42\n",
                "nb_protein_m = 50\n",
                "add_rna = False\n",
                "\n",
                "# Immune system\n",
                "nb_glucoses = 120000\n",
                "nb_lactoferrins = 150\n",
                "nb_defensins = 300\n",
                "nb_defensins_on_virus = 2\n",
                "\n",
                "# Cell\n",
                "cell_name = 'Cell'\n",
                "cell_position = Vector3(4.5, -186.0, 7.0)\n",
                "cell_size = Vector3(scene_size.x, scene_size.y / 10.0, scene_size.z)\n",
                "cell_nb_receptors = 100"
            ]
        },
        {
            "attachments": {},
            "cell_type": "markdown",
            "metadata": {},
            "source": [
                "## Resources"
            ]
        },
        {
            "cell_type": "code",
            "execution_count": null,
            "metadata": {},
            "outputs": [],
            "source": [
                "image_folder = '/tmp'\n",
                "\n",
                "resource_folder = os.path.abspath('../../../tests/test_files')\n",
                "\n",
                "cache_folder = os.path.join(resource_folder, 'caches', version)\n",
                "pdb_folder = os.path.join(resource_folder, 'pdb')\n",
                "rna_folder = os.path.join(resource_folder, 'rna')\n",
                "obj_folder = os.path.join(resource_folder, 'obj')\n",
                "membrane_folder = os.path.join(pdb_folder, 'membrane')\n",
                "\n",
                "glycan_folder = os.path.join(pdb_folder, 'glycans')\n",
                "complex_folder = os.path.join(glycan_folder, 'complex')\n",
                "high_mannose_folder = os.path.join(glycan_folder, 'high-mannose')\n",
                "hybrid_folder = os.path.join(glycan_folder, 'hybrid')\n",
                "o_glycan_folder = os.path.join(glycan_folder, 'o-glycan')\n",
                "\n",
                "complex_paths = [\n",
                "    os.path.join(complex_folder, '33.pdb'),\n",
                "    os.path.join(complex_folder, '34.pdb'),\n",
                "    os.path.join(complex_folder, '35.pdb'),\n",
                "    os.path.join(complex_folder, '36.pdb')\n",
                "]\n",
                "high_mannose_paths = [\n",
                "    os.path.join(high_mannose_folder, '1.pdb'),\n",
                "    os.path.join(high_mannose_folder, '2.pdb'),\n",
                "    os.path.join(high_mannose_folder, '3.pdb'),\n",
                "    os.path.join(high_mannose_folder, '4.pdb')\n",
                "]\n",
                "hybrid_paths = [os.path.join(hybrid_folder, '24.pdb')]\n",
                "o_glycan_paths = [os.path.join(o_glycan_folder, '12.pdb')]\n",
                "\n",
                "glucose_path = os.path.join(pdb_folder, 'glucose.pdb')\n",
                "\n",
                "immune_folder = os.path.join(pdb_folder, 'immune')\n",
                "lactoferrin_path = os.path.join(immune_folder, '1b0l.pdb')\n",
                "defensin_path = os.path.join(immune_folder, '1ijv.pdb')\n",
                "\n",
                "surfactant_folder = os.path.join(pdb_folder, 'surfactant')\n",
                "surfactant_head_source = os.path.join(surfactant_folder, '1pw9.pdb')\n",
                "surfactant_branch_source = os.path.join(surfactant_folder, '1k6f.pdb')\n",
                "\n",
                "lymphocyte_path = os.path.join(obj_folder, 'lymphocyte.obj')"
            ]
        },
        {
            "attachments": {},
            "cell_type": "markdown",
            "metadata": {},
            "source": [
                "## SARS-COV-2 Coronaviruses"
            ]
        },
        {
            "cell_type": "code",
            "execution_count": null,
            "metadata": {},
            "outputs": [],
            "source": [
                "nglview.show_file(os.path.join(pdb_folder, 'sars-cov-2-v1.pdb'))"
            ]
        },
        {
            "cell_type": "code",
            "execution_count": null,
            "metadata": {},
            "outputs": [],
            "source": [
                "nglview.show_file(os.path.join(pdb_folder, '6vyb.pdb'))"
            ]
        },
        {
            "cell_type": "code",
            "execution_count": null,
            "metadata": {},
            "outputs": [],
            "source": [
                "nglview.show_file(os.path.join(pdb_folder, 'QHD43419a.pdb'))"
            ]
        },
        {
            "cell_type": "code",
            "execution_count": null,
            "metadata": {},
            "outputs": [],
            "source": [
                "nglview.show_file(os.path.join(pdb_folder, 'QHD43418a.pdb'))"
            ]
        },
        {
            "cell_type": "code",
            "execution_count": null,
            "metadata": {},
            "outputs": [],
            "source": [
                "be.add_sars_cov_2(\n",
                "    name='sars-cov-2 1', resource_folder=resource_folder,\n",
                "    position=Vector3(-5.0, 19.0, -36.0), \n",
                "    rotation=Quaternion(0.0, 1.0, 0.0, 0.0),\n",
                "    add_glycans=add_glycans,\n",
                "    atom_radius_multiplier=protein_radius_multiplier,\n",
                "    representation=protein_representation\n",
                ")\n",
                "be.add_sars_cov_2(\n",
                "    name='sars-cov-2 2', resource_folder=resource_folder,\n",
                "    position=Vector3(73.0, 93.0, -115.0), \n",
                "    rotation=Quaternion(0.0, 0.0, 1.0, 0.0),\n",
                "    add_glycans=add_glycans,\n",
                "    atom_radius_multiplier=protein_radius_multiplier,\n",
                "    representation=protein_representation\n",
                ")\n",
                "be.add_sars_cov_2(\n",
                "    name='sars-cov-2 3', resource_folder=resource_folder,\n",
                "    position=Vector3(-84.0, 110.0, 75.0), \n",
                "    rotation=Quaternion(0.707, 0.707, 0.0, 0.0),\n",
                "    add_glycans=add_glycans,\n",
                "    atom_radius_multiplier=protein_radius_multiplier,\n",
                "    representation=protein_representation\n",
                ")\n",
                "be.add_sars_cov_2(\n",
                "    name='sars-cov-2 4', resource_folder=resource_folder,\n",
                "    position=Vector3(-74.9, -97.1, 228.8),\n",
                "    add_glycans=add_glycans,\n",
                "    atom_radius_multiplier=protein_radius_multiplier,\n",
                "    representation=protein_representation\n",
                ")\n",
                "be.add_sars_cov_2(\n",
                "    name='sars-cov-2 5', resource_folder=resource_folder,\n",
                "    position=Vector3(200.0, 20.0, -150.0), \n",
                "    rotation=Quaternion(0.0, 0.707, 0.707, 0.0),\n",
                "    add_glycans=add_glycans,\n",
                "    atom_radius_multiplier=protein_radius_multiplier,\n",
                "    representation=protein_representation\n",
                ")"
            ]
        },
        {
            "cell_type": "code",
            "execution_count": null,
            "metadata": {},
            "outputs": [],
            "source": [
                "if export_to_cache:\n",
                "    '''Show loaded models'''\n",
                "    status = be.commit_model_loading_transaction()\n",
                "    '''Set materials'''\n",
                "    be.apply_default_color_scheme(shading_mode=be.SHADING_MODE_BASIC)\n",
                "    '''Export to cache file'''\n",
                "    cache_filename = cache_folder + scenario + '_viruses.bioexplorer'\n",
                "    if add_rna:\n",
                "        cache_filename = cache_folder + scenario + '_open_viruses.bioexplorer'\n",
                "    print(cache_filename)\n",
                "    be.export_to_file(cache_filename)"
            ]
        },
        {
            "attachments": {},
            "cell_type": "markdown",
            "metadata": {},
            "source": [
                "## Host cell"
            ]
        },
        {
            "cell_type": "code",
            "execution_count": null,
            "metadata": {
                "scrolled": true
            },
            "outputs": [],
            "source": [
                "def add_cell(\n",
                "        name, size, nb_receptors,\n",
                "        position=Vector3()):\n",
                "    \n",
                "    seed = 10\n",
                "    ace2_receptor = Protein(\n",
                "        name=name + '_' + be.NAME_RECEPTOR,\n",
                "        source=os.path.join(pdb_folder, '6m18.pdb'),\n",
                "        occurrences=nb_receptors,\n",
                "        transmembrane_params=Vector2(-6.0, 5.0),\n",
                "        animation_params=MolecularSystemAnimationParams(seed, 1, 0.025, 2, 0.025))\n",
                "    \n",
                "    membrane = Membrane(\n",
                "        lipid_sources=[\n",
                "            os.path.join(membrane_folder, 'segA.pdb'),\n",
                "            os.path.join(membrane_folder, 'segB.pdb'),\n",
                "            os.path.join(membrane_folder, 'segC.pdb'),\n",
                "            os.path.join(membrane_folder, 'segD.pdb')\n",
                "        ],\n",
                "        animation_params=MolecularSystemAnimationParams(seed, 2, 0.025, 3, 1.0)\n",
                "    )\n",
                "\n",
                "    cell = Cell(\n",
                "        name=name,\n",
                "        shape=be.ASSEMBLY_SHAPE_SINUSOID, \n",
                "        shape_params=size,\n",
                "        membrane=membrane, proteins=[ace2_receptor],\n",
                "    )\n",
                "    \n",
                "    be.add_cell(\n",
                "        cell=cell, position=position,\n",
                "        representation=protein_representation)\n",
                "\n",
                "    if nb_receptors != 0 and add_glycans:\n",
                "        be.add_multiple_glycans(\n",
                "            representation=glycan_representation, assembly_name=name, \n",
                "            glycan_type=be.NAME_GLYCAN_COMPLEX,\n",
                "            protein_name=be.NAME_RECEPTOR, paths=complex_paths, \n",
                "            indices=[53, 90, 103, 322, 432, 690])\n",
                "        be.add_multiple_glycans(\n",
                "            representation=glycan_representation, assembly_name=name,\n",
                "            glycan_type=be.NAME_GLYCAN_HYBRID,\n",
                "            protein_name=be.NAME_RECEPTOR, paths=hybrid_paths, \n",
                "            indices=[546])\n",
                "\n",
                "        indices = [[155, Quaternion(0.707, 0.0, 0.707, 0.0)],\n",
                "                   [730, Quaternion(0.707, 0.0, 0.707, 0.0)]]\n",
                "        for index in indices:\n",
                "            o_glycan_name = name + '_' + be.NAME_GLYCAN_O_GLYCAN + '_' + str(index[0])\n",
                "            o_glycan = Sugar(\n",
                "                assembly_name=name, name=o_glycan_name, source=o_glycan_paths[0],\n",
                "                protein_name=name + '_' + be.NAME_RECEPTOR, representation=glycan_representation,\n",
                "                chain_ids=[2, 4], site_indices=[index[0]], rotation=index[1])\n",
                "            be.add_sugars(o_glycan)"
            ]
        },
        {
            "cell_type": "code",
            "execution_count": null,
            "metadata": {},
            "outputs": [],
            "source": [
                "cell_position = Vector3(4.5, -186.0, 7.0)\n",
                "add_cell(\n",
                "    name='Cell',\n",
                "    nb_receptors=cell_nb_receptors,\n",
                "    size=Vector3(scene_size.x * 2.0, scene_size.y / 10.0, scene_size.z * 2.0),\n",
                "    position=cell_position)"
            ]
        },
        {
            "cell_type": "code",
            "execution_count": null,
            "metadata": {},
            "outputs": [],
            "source": [
                "if export_to_cache:\n",
                "    '''Show loaded models'''\n",
                "    status = be.commit_model_loading_transaction()\n",
                "    '''Set materials'''\n",
                "    be.apply_default_color_scheme(shading_mode=be.SHADING_MODE_BASIC)\n",
                "    be.set_protein_color_scheme(\n",
                "        cell_name, cell_name + '_' + be.NAME_RECEPTOR,\n",
                "        be.COLOR_SCHEME_CHAINS, 'OrRd_r', 7)\n",
                "    '''Export to cache file'''\n",
                "    cache_filename = os.path.join(cache_folder, 'cell.bioexplorer')\n",
                "    print(cache_filename)\n",
                "    be.export_to_file(cache_filename)"
            ]
        },
        {
            "attachments": {},
            "cell_type": "markdown",
            "metadata": {},
            "source": [
                "## Immune system"
            ]
        },
        {
            "attachments": {},
            "cell_type": "markdown",
            "metadata": {},
            "source": [
                "### Surfactant A and D"
            ]
        },
        {
            "cell_type": "code",
            "execution_count": null,
            "metadata": {
                "scrolled": true
            },
            "outputs": [],
            "source": [
                "nglview.show_file(surfactant_head_source)"
            ]
        },
        {
            "cell_type": "code",
            "execution_count": null,
            "metadata": {
                "scrolled": false
            },
            "outputs": [],
            "source": [
                "def add_surfactant_d(name, position, animation_params):\n",
                "    surfactant_d = Surfactant(\n",
                "        name=name, surfactant_protein=be.SURFACTANT_PROTEIN_D, \n",
                "        head_source=surfactant_head_source,\n",
                "        branch_source=surfactant_branch_source)\n",
                "    be.add_surfactant(\n",
                "        surfactant=surfactant_d, representation=protein_representation, \n",
                "        position=position, animation_params=animation_params)\n",
                "\n",
                "add_surfactant_d(\n",
                "    name='Surfactant-D 1', \n",
                "    position=Vector3(74.0,  24.0, -45.0),\n",
                "    animation_params=MolecularSystemAnimationParams(1))\n",
                "add_surfactant_d(\n",
                "    name='Surfactant-D 2',\n",
                "    position=Vector3(-11.0,  103.0, 20.0),\n",
                "    animation_params=MolecularSystemAnimationParams(1))\n",
                "add_surfactant_d(\n",
                "    name='Surfactant-D 3',\n",
                "    position=Vector3(-165.0, 140.0, 105.0),\n",
                "    animation_params=MolecularSystemAnimationParams(1))\n",
                "add_surfactant_d(\n",
                "    name='Surfactant-D 4',\n",
                "    position=Vector3(-260.0,  50.0, 150.0),\n",
                "    animation_params=MolecularSystemAnimationParams(2))"
            ]
        },
        {
            "cell_type": "code",
            "execution_count": null,
            "metadata": {
                "scrolled": false
            },
            "outputs": [],
            "source": [
                "def add_surfactant_a(name, position, animation_params):\n",
                "    surfactant_a = Surfactant(\n",
                "        name=name, surfactant_protein=be.SURFACTANT_PROTEIN_A, \n",
                "        head_source=surfactant_head_source,\n",
                "        branch_source=surfactant_branch_source)\n",
                "    be.add_surfactant(\n",
                "        surfactant=surfactant_a, representation=protein_representation, \n",
                "        animation_params=animation_params)\n",
                "\n",
                "add_surfactant_a(\n",
                "    name='Surfactant-A 1', \n",
                "    position=Vector3(200.0,  50.0, 150.0),\n",
                "    animation_params=MolecularSystemAnimationParams(2))"
            ]
        },
        {
            "attachments": {},
            "cell_type": "markdown",
            "metadata": {},
            "source": [
                "### Glucose"
            ]
        },
        {
            "cell_type": "code",
            "execution_count": null,
            "metadata": {},
            "outputs": [],
            "source": [
                "nglview.show_file(glucose_path)"
            ]
        },
        {
            "cell_type": "code",
            "execution_count": null,
            "metadata": {
                "scrolled": true
            },
            "outputs": [],
            "source": [
                "glucose = Protein(\n",
                "    name=be.NAME_GLUCOSE,\n",
                "    source=glucose_path, load_non_polymer_chemicals=True, \n",
                "    occurrences=nb_glucoses, animation_params=MolecularSystemAnimationParams(1, 2, 0.025, 3, 1.0))\n",
                "volume = Volume(\n",
                "    name=be.NAME_GLUCOSE,\n",
                "    shape=be.ASSEMBLY_SHAPE_CUBE, shape_params=scene_size,\n",
                "    protein=glucose)\n",
                "status = be.add_volume(\n",
                "    volume=volume, representation=protein_representation,\n",
                "    position=Vector3(0.0, scene_size.y / 2.0 - 200.0, 0.0))"
            ]
        },
        {
            "attachments": {},
            "cell_type": "markdown",
            "metadata": {},
            "source": [
                "### Lactoferrins"
            ]
        },
        {
            "cell_type": "code",
            "execution_count": null,
            "metadata": {},
            "outputs": [],
            "source": [
                "nglview.show_file(lactoferrin_path)"
            ]
        },
        {
            "cell_type": "code",
            "execution_count": null,
            "metadata": {
                "scrolled": true
            },
            "outputs": [],
            "source": [
                "lactoferrin = Protein(\n",
                "    name=be.NAME_LACTOFERRIN,\n",
                "    source=lactoferrin_path, load_non_polymer_chemicals=True,\n",
                "    occurrences=nb_lactoferrins, animation_params=MolecularSystemAnimationParams(2, 3, 1.0, 4, 0.5))\n",
                "lactoferrins_volume = Volume(\n",
                "    name=be.NAME_LACTOFERRIN,\n",
                "    shape=be.ASSEMBLY_SHAPE_CUBE, shape_params=scene_size,\n",
                "    protein=lactoferrin)\n",
                "status = be.add_volume(\n",
                "    volume=lactoferrins_volume, representation=protein_representation,\n",
                "    position=Vector3(0.0, scene_size.y / 2.0 - 200.0, 0.0))"
            ]
        },
        {
            "attachments": {},
            "cell_type": "markdown",
            "metadata": {},
            "source": [
                "### Defensins"
            ]
        },
        {
            "cell_type": "code",
            "execution_count": null,
            "metadata": {},
            "outputs": [],
            "source": [
                "nglview.show_file(defensin_path)"
            ]
        },
        {
            "cell_type": "code",
            "execution_count": null,
            "metadata": {
                "scrolled": true
            },
            "outputs": [],
            "source": [
                "defensin = Protein(\n",
                "    name=be.NAME_DEFENSIN,\n",
                "    source=defensin_path, load_non_polymer_chemicals=True, \n",
                "    occurrences=nb_defensins, animation_params=MolecularSystemAnimationParams(3, 4, 0.025, 5, 1.0))\n",
                "defensins_volume = Volume(\n",
                "    name=be.NAME_DEFENSIN,\n",
                "    shape=be.ASSEMBLY_SHAPE_CUBE, shape_params=scene_size,\n",
                "    protein=defensin)\n",
                "status = be.add_volume(\n",
                "    volume=defensins_volume, representation=protein_representation,\n",
                "    position=Vector3(0.0, scene_size.y / 2.0 - 200.0, 0.0))"
            ]
        },
        {
            "attachments": {},
            "cell_type": "markdown",
            "metadata": {},
            "source": [
                "### Lymphocyte"
            ]
        },
        {
            "cell_type": "code",
            "execution_count": null,
            "metadata": {
                "scrolled": true
            },
            "outputs": [],
            "source": [
                "name = 'Emile'\n",
                "pdb_lipids = [\n",
                "    os.path.join(membrane_folder, 'segA.pdb'),\n",
                "    os.path.join(membrane_folder, 'segB.pdb'),\n",
                "    os.path.join(membrane_folder, 'segC.pdb'),\n",
                "    os.path.join(membrane_folder, 'segD.pdb')\n",
                "]\n",
                "\n",
                "position = Vector3(-scene_size.x / 2.0, 100.0, 0.0)\n",
                "\n",
                "clipping_planes = [\n",
                "    [-1.0, 0.0, 0.0, scene_size.x + position.x],\n",
                "    [ 0.0, 1.0, 0.0, scene_size.y / 2.0 - position.y],\n",
                "    [ 0.0, 0.0, 1.0, scene_size.z],\n",
                "    [ 0.0, 0.0,-1.0, scene_size.z],\n",
                "]\n",
                "\n",
                "mesh_source = os.path.join(obj_folder, 'clipped_lymphocyte.obj')\n",
                "\n",
                "membrane = Membrane(\n",
                "    lipid_sources=pdb_lipids,\n",
                "    load_non_polymer_chemicals=True, load_bonds=True,\n",
                "    animation_params=MolecularSystemAnimationParams(0, 1, 0.025, 2, 0.5))\n",
                "\n",
                "# Cell definition\n",
                "cell = Cell(\n",
                "    name=name,\n",
                "    shape=be.ASSEMBLY_SHAPE_MESH,\n",
                "    shape_mesh_source=mesh_source,\n",
                "    shape_params=Vector3(1.0, 1.0, 1.0),\n",
                "    membrane=membrane,\n",
                "    proteins=list())\n",
                "\n",
                "status = be.add_cell(\n",
                "    cell=cell,\n",
                "    position=position,\n",
                "    clipping_planes=clipping_planes\n",
                ")\n",
                "\n",
                "for i in range(len(pdb_lipids)):\n",
                "    status = be.set_protein_color_scheme(\n",
                "        assembly_name=name, name=be.NAME_MEMBRANE + '_' + str(i),\n",
                "        color_scheme=be.COLOR_SCHEME_CHAINS,\n",
                "        palette_name='OrRd', palette_size=5)"
            ]
        },
        {
            "attachments": {},
            "cell_type": "markdown",
            "metadata": {},
            "source": [
                "### Materials"
            ]
        },
        {
            "cell_type": "code",
            "execution_count": null,
            "metadata": {},
            "outputs": [],
            "source": [
                "be.apply_default_color_scheme(\n",
                "    shading_mode=be.SHADING_MODE_DIFFUSE,\n",
                "    specular_exponent=50)"
            ]
        },
        {
            "cell_type": "code",
            "execution_count": null,
            "metadata": {},
            "outputs": [],
            "source": [
                "'''Show loaded models'''\n",
                "status = be.commit_model_loading_transaction()"
            ]
        },
        {
            "cell_type": "code",
            "execution_count": null,
            "metadata": {},
            "outputs": [],
            "source": [
                "if export_to_cache:\n",
                "    '''Export to cache file'''\n",
                "    cache_filename = os.path.join(cache_folder, scenario + '_immune.bioexplorer')\n",
                "    print(cache_filename)\n",
                "    be.export_to_file(cache_filename)"
            ]
        },
        {
            "attachments": {},
            "cell_type": "markdown",
            "metadata": {},
            "source": [
                "## Export full scene to cache file"
            ]
        },
        {
            "cell_type": "code",
            "execution_count": null,
            "metadata": {},
            "outputs": [],
            "source": [
                "if export_to_cache:\n",
                "    cache_filename = os.path.join(cache_folder, scenario + '_scenario.bioexplorer')\n",
                "    print(cache_filename)\n",
                "    be.export_to_file(cache_filename)"
            ]
        },
        {
            "attachments": {},
            "cell_type": "markdown",
            "metadata": {},
            "source": [
                "## Rendering settings"
            ]
        },
        {
            "cell_type": "code",
            "execution_count": null,
            "metadata": {
                "scrolled": true
            },
            "outputs": [],
            "source": [
                "status = be.set_rendering_quality(be.RENDERING_QUALITY_HIGH)"
            ]
        }
    ],
    "metadata": {
        "kernelspec": {
            "display_name": "Python 3.8.10 ('env')",
            "language": "python",
            "name": "python3"
        },
        "language_info": {
            "codemirror_mode": {
                "name": "ipython",
                "version": 3
            },
            "file_extension": ".py",
            "mimetype": "text/x-python",
            "name": "python",
            "nbconvert_exporter": "python",
            "pygments_lexer": "ipython3",
            "version": "3.8.10"
        },
        "vscode": {
            "interpreter": {
                "hash": "ea9a5fa46eb6bad2806a8ea1d08e15bb1e255a2d4320b81e765591579963c56b"
            }
        }
    },
    "nbformat": 4,
    "nbformat_minor": 5
}
