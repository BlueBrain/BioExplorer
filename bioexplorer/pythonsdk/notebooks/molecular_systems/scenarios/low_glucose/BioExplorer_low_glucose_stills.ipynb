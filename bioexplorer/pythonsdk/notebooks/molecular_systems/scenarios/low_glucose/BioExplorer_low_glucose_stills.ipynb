{
    "cells": [
        {
            "cell_type": "markdown",
            "metadata": {},
            "source": [
                "# Blue Brain BioExplorer\n",
                "![](../../bioexplorer_banner.png)"
            ]
        },
        {
            "cell_type": "code",
            "execution_count": null,
            "metadata": {},
            "outputs": [],
            "source": [
                "from bioexplorer import BioExplorer, MovieMaker\n",
                "import os\n",
                "\n",
                "resource_folder = os.path.abspath('../../../tests/test_files')\n",
                "    \n",
                "url = 'localhost:5000'\n",
                "be = BioExplorer(url)\n",
                "core = be.core_api()\n",
                "mm = MovieMaker(be)\n",
                "version = be.version()\n",
                "print('Version ' + version)\n",
                "\n",
                "sequence_name = 'low_glucose'"
            ]
        },
        {
            "cell_type": "markdown",
            "metadata": {},
            "source": [
                "## Data loading"
            ]
        },
        {
            "cell_type": "code",
            "execution_count": null,
            "metadata": {},
            "outputs": [],
            "source": [
                "'''Reset current scene'''\n",
                "status = be.reset()"
            ]
        },
        {
            "cell_type": "code",
            "execution_count": null,
            "metadata": {},
            "outputs": [],
            "source": [
                "'''Accelerate loading by not showing models as they are loaded'''\n",
                "status = be.set_general_settings(\n",
                "    logging_enabled=True,\n",
                "    model_visibility_on_creation=False)"
            ]
        },
        {
            "cell_type": "code",
            "execution_count": null,
            "metadata": {
                "scrolled": true
            },
            "outputs": [],
            "source": [
                "cache_folder = os.path.join(resource_folder, 'caches', version)"
            ]
        },
        {
            "cell_type": "code",
            "execution_count": null,
            "metadata": {},
            "outputs": [],
            "source": [
                "cache_filename = os.path.join(cache_folder, sequence_name + '_scenario.bioexplorer')\n",
                "print('Loading ' + cache_filename)\n",
                "dummy = core.add_model(cache_filename)"
            ]
        },
        {
            "cell_type": "code",
            "execution_count": null,
            "metadata": {},
            "outputs": [],
            "source": [
                "nb_models = len(core.scene.models)\n",
                "if nb_models != 152:\n",
                "    print('ERROR: Not all models have been loaded!!! Expected 152, found ' + str(nb_models))\n",
                "else:\n",
                "    print('All good!')"
            ]
        },
        {
            "cell_type": "code",
            "execution_count": null,
            "metadata": {},
            "outputs": [],
            "source": [
                "'''Show loaded models'''\n",
                "status = be.set_models_visibility(True)"
            ]
        },
        {
            "cell_type": "markdown",
            "metadata": {},
            "source": [
                "## Rendering settings"
            ]
        },
        {
            "cell_type": "code",
            "execution_count": null,
            "metadata": {},
            "outputs": [],
            "source": [
                "status = be.set_rendering_quality(be.RENDERING_QUALITY_HIGH)"
            ]
        },
        {
            "cell_type": "markdown",
            "metadata": {},
            "source": [
                "## Image settings"
            ]
        },
        {
            "cell_type": "code",
            "execution_count": null,
            "metadata": {},
            "outputs": [],
            "source": [
                "image_size = [3840, 2160]\n",
                "image_samples_per_pixel = 64\n",
                "\n",
                "output_folder = os.path.join('/tmp', 'frames/', version, sequence_name)\n",
                "\n",
                "command_line='mkdir -p ' + output_folder\n",
                "os.system(command_line)\n",
                "command_line='ls ' + output_folder\n",
                "\n",
                "if os.system(command_line) != 0:\n",
                "    print('ERROR: Failed to create output folder')"
            ]
        },
        {
            "cell_type": "markdown",
            "metadata": {},
            "source": [
                "## Snapshots"
            ]
        },
        {
            "cell_type": "code",
            "execution_count": null,
            "metadata": {},
            "outputs": [],
            "source": [
                "be.apply_default_color_scheme(\n",
                "    shading_mode=be.SHADING_MODE_DIFFUSE,\n",
                "    specular_exponent=50.0, user_parameter=1.0)"
            ]
        },
        {
            "cell_type": "code",
            "execution_count": null,
            "metadata": {},
            "outputs": [],
            "source": [
                "def set_all_materials_to_grey():\n",
                "    for model in core.scene.models:\n",
                "        model_id = model['id']\n",
                "        model_name = model['name']\n",
                "\n",
                "        material_ids = be.get_material_ids(model_id)['ids']\n",
                "        nb_materials = len(material_ids)\n",
                "        palette = list()\n",
                "        for p in range(nb_materials):\n",
                "            palette.append([0.25,0.25,0.25])\n",
                "        be.set_materials(\n",
                "            model_ids=[model_id], material_ids=material_ids, \n",
                "            diffuse_colors=palette, specular_colors=palette)"
            ]
        },
        {
            "cell_type": "code",
            "execution_count": null,
            "metadata": {},
            "outputs": [],
            "source": [
                "def set_glycans_materials(high_mannose=False, complex=False, hybrid=False, o_glycans=False):\n",
                "    glycans_colors = [[0, 1, 1], [1, 1, 0], [1, 0, 1], [0.2, 0.2, 0.7]]\n",
                "\n",
                "    for model in core.scene.models:\n",
                "        model_id = model['id']\n",
                "        model_name = model['name']\n",
                "\n",
                "        material_ids = be.get_material_ids(model_id)['ids']\n",
                "        nb_materials = len(material_ids)\n",
                "        if be.NAME_GLYCAN_HIGH_MANNOSE in model_name and high_mannose:\n",
                "            palette = list()\n",
                "            for m in range(nb_materials):\n",
                "                palette.append(glycans_colors[0])\n",
                "            be.set_materials(\n",
                "                model_ids=[model_id], material_ids=material_ids,\n",
                "                diffuse_colors=palette, specular_colors=palette\n",
                "            )\n",
                "        if be.NAME_GLYCAN_COMPLEX in model_name and complex:\n",
                "            palette = list()\n",
                "            for m in range(nb_materials):\n",
                "                palette.append(glycans_colors[1])\n",
                "            be.set_materials(\n",
                "                model_ids=[model_id], material_ids=material_ids,\n",
                "                diffuse_colors=palette, specular_colors=palette\n",
                "            )            \n",
                "        if be.NAME_GLYCAN_HYBRID in model_name and hybrid:\n",
                "            palette = list()\n",
                "            for m in range(nb_materials):\n",
                "                palette.append(glycans_colors[2])\n",
                "            be.set_materials(\n",
                "                model_ids=[model_id], material_ids=material_ids,\n",
                "                diffuse_colors=palette, specular_colors=palette\n",
                "            )                \n",
                "        if be.NAME_GLYCAN_O_GLYCAN in model_name and o_glycans:\n",
                "            palette = list()\n",
                "            for m in range(nb_materials):\n",
                "                palette.append(glycans_colors[3])\n",
                "            be.set_materials(\n",
                "                model_ids=[model_id], material_ids=material_ids,\n",
                "                diffuse_colors=palette, specular_colors=palette\n",
                "            )"
            ]
        },
        {
            "cell_type": "markdown",
            "metadata": {},
            "source": [
                "### Frame 600 - Spike and glycans"
            ]
        },
        {
            "cell_type": "code",
            "execution_count": null,
            "metadata": {},
            "outputs": [],
            "source": [
                "status = core.set_camera(\n",
                "    orientation=[0.0, 0.0, 0.0, 1.0],\n",
                "    position=[205.7975332343745, 74.45357835395305, -108.21803523500476],\n",
                "    target=[205.7975332343745, 74.45357835395305, -116.44005546175096]\n",
                ")"
            ]
        },
        {
            "cell_type": "code",
            "execution_count": null,
            "metadata": {
                "scrolled": true
            },
            "outputs": [],
            "source": [
                "set_all_materials_to_grey()\n",
                "mm.create_snapshot(\n",
                "    size=image_size, samples_per_pixel=image_samples_per_pixel,\n",
                "    path=output_folder, base_name='00600')"
            ]
        },
        {
            "cell_type": "code",
            "execution_count": null,
            "metadata": {},
            "outputs": [],
            "source": [
                "set_glycans_materials(complex=True)\n",
                "mm.create_snapshot(\n",
                "    renderer='bio_explorer',\n",
                "    size=image_size, samples_per_pixel=image_samples_per_pixel,\n",
                "    path=output_folder, base_name='00600a')"
            ]
        },
        {
            "cell_type": "code",
            "execution_count": null,
            "metadata": {},
            "outputs": [],
            "source": [
                "set_glycans_materials(o_glycans=True)\n",
                "mm.create_snapshot(\n",
                "    renderer='bio_explorer',\n",
                "    size=image_size, samples_per_pixel=image_samples_per_pixel,\n",
                "    path=output_folder, base_name='00600b')"
            ]
        },
        {
            "cell_type": "code",
            "execution_count": null,
            "metadata": {},
            "outputs": [],
            "source": [
                "set_glycans_materials(high_mannose=True)\n",
                "mm.create_snapshot(\n",
                "    renderer='bio_explorer',\n",
                "    size=image_size, samples_per_pixel=image_samples_per_pixel,\n",
                "    path=output_folder, base_name='00600c')"
            ]
        },
        {
            "cell_type": "markdown",
            "metadata": {},
            "source": [
                "### Frame 2000 - Immune system"
            ]
        },
        {
            "cell_type": "code",
            "execution_count": null,
            "metadata": {},
            "outputs": [],
            "source": [
                "status = mm.set_camera(\n",
                "    direction=[-0.47143351766367525, -0.005080672314313481, -0.8818869684897763],\n",
                "    origin=[238.16299438476562, 46.43607711791992, 372.5840759277344],\n",
                "    up=[-0.0023952302678021103, 0.9999870933011259, -0.004480636464793384]    \n",
                ")"
            ]
        },
        {
            "cell_type": "code",
            "execution_count": null,
            "metadata": {},
            "outputs": [],
            "source": [
                "def apply_immune_colors():\n",
                "    import seaborn as sns\n",
                "    shading_mode = be.SHADING_MODE_BASIC\n",
                "    specular_exponent = 50\n",
                "    for model in core.scene.models:\n",
                "        model_id = model['id']\n",
                "        model_name = model['name']\n",
                "\n",
                "        material_ids = be.get_material_ids(model_id)['ids']\n",
                "        nb_materials = len(material_ids)\n",
                "\n",
                "        if be.NAME_GLUCOSE in model_name:\n",
                "            palette = sns.color_palette('Blues', nb_materials)\n",
                "            be.set_materials_from_palette(\n",
                "                shading_mode=shading_mode, specular_exponent=specular_exponent,\n",
                "                model_ids=[model_id], material_ids=material_ids, palette=palette)\n",
                "\n",
                "        if be.NAME_LACTOFERRIN in model_name:\n",
                "            palette = sns.color_palette('afmhot', nb_materials)\n",
                "            be.set_materials_from_palette(\n",
                "                shading_mode=shading_mode, specular_exponent=specular_exponent,\n",
                "                model_ids=[model_id], material_ids=material_ids, palette=palette)\n",
                "\n",
                "        if be.NAME_DEFENSIN in model_name:\n",
                "            palette = sns.color_palette('plasma_r', nb_materials)\n",
                "            be.set_materials_from_palette(\n",
                "                shading_mode=shading_mode, specular_exponent=specular_exponent,\n",
                "                model_ids=[model_id], material_ids=material_ids, palette=palette)\n",
                "\n",
                "        if be.NAME_SURFACTANT_HEAD in model_name:\n",
                "            palette = sns.color_palette('OrRd_r', nb_materials)\n",
                "            emission = 0\n",
                "            be.set_materials_from_palette(\n",
                "                shading_mode=shading_mode, specular_exponent=specular_exponent,\n",
                "                model_ids=[model_id], material_ids=material_ids,\n",
                "                palette=palette, emission=emission)\n",
                "        if be.NAME_COLLAGEN in model_name:\n",
                "            material_ids = list(be.get_material_ids(model_id)['ids'])\n",
                "            nb_materials = len(material_ids)\n",
                "            palette = list()\n",
                "            emissions = list()\n",
                "            for i in range(nb_materials):\n",
                "                palette.append([1,1,1])\n",
                "                emissions.append(0.1)\n",
                "            be.set_materials(\n",
                "                model_ids=[model_id], material_ids=material_ids,\n",
                "                diffuse_colors=palette, specular_colors=palette,\n",
                "                emissions=emissions\n",
                "            )"
            ]
        },
        {
            "cell_type": "code",
            "execution_count": null,
            "metadata": {},
            "outputs": [],
            "source": [
                "set_all_materials_to_grey()\n",
                "apply_immune_colors()"
            ]
        },
        {
            "cell_type": "code",
            "execution_count": null,
            "metadata": {},
            "outputs": [],
            "source": [
                "mm.create_snapshot(\n",
                "    renderer='bio_explorer',\n",
                "    size=image_size, samples_per_pixel=image_samples_per_pixel,\n",
                "    path=output_folder, base_name='02000')"
            ]
        },
        {
            "cell_type": "markdown",
            "metadata": {},
            "source": [
                "### Frame 2600 - Surfactant head"
            ]
        },
        {
            "cell_type": "code",
            "execution_count": null,
            "metadata": {},
            "outputs": [],
            "source": [
                "set_all_materials_to_grey()\n",
                "apply_immune_colors()"
            ]
        },
        {
            "cell_type": "code",
            "execution_count": null,
            "metadata": {},
            "outputs": [],
            "source": [
                "status = core.set_camera(\n",
                "    orientation=[0.08576727578094712, 0.4753964796792586, -0.054913177571414236, 0.873857370766359],\n",
                "    position=[-9.82699966430664, 110.72000122070312, 60.944000244140625],\n",
                "    target=[-10.64799976348877, 110.92200469970703, 60.4109992980957]\n",
                ")"
            ]
        },
        {
            "cell_type": "code",
            "execution_count": null,
            "metadata": {},
            "outputs": [],
            "source": [
                "mm.create_snapshot(\n",
                "    renderer='bio_explorer',\n",
                "    size=image_size, samples_per_pixel=image_samples_per_pixel,\n",
                "    path=output_folder, base_name='02600')"
            ]
        }
    ],
    "metadata": {
        "kernelspec": {
            "display_name": "Python 3.8.10 ('env')",
            "language": "python",
            "name": "python3"
        },
        "language_info": {
            "codemirror_mode": {
                "name": "ipython",
                "version": 3
            },
            "file_extension": ".py",
            "mimetype": "text/x-python",
            "name": "python",
            "nbconvert_exporter": "python",
            "pygments_lexer": "ipython3",
            "version": "3.8.10"
        },
        "vscode": {
            "interpreter": {
                "hash": "ea9a5fa46eb6bad2806a8ea1d08e15bb1e255a2d4320b81e765591579963c56b"
            }
        }
    },
    "nbformat": 4,
    "nbformat_minor": 5
}
