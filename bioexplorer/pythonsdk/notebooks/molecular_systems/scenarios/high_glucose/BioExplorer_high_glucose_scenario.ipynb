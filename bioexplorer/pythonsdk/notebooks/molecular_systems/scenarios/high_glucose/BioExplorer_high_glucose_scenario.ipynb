{
    "cells": [
        {
            "cell_type": "markdown",
            "metadata": {},
            "source": [
                "# Blue Brain BioExplorer\n",
                "![](../../../bioexplorer_banner.png)"
            ]
        },
        {
            "cell_type": "markdown",
            "metadata": {},
            "source": [
                "# High Glucose Scenario"
            ]
        },
        {
            "cell_type": "markdown",
            "metadata": {},
            "source": [
                "## Connect to BioExplorer backend"
            ]
        },
        {
            "cell_type": "code",
            "execution_count": null,
            "metadata": {
                "scrolled": false
            },
            "outputs": [],
            "source": [
                "from bioexplorer import BioExplorer, Protein, Surfactant, Membrane, Cell, Sugar, \\\n",
                "                        Volume, AnimationParams, Vector2, Vector3, Quaternion\n",
                "import nglview\n",
                "\n",
                "hostname = 'localhost:5000'\n",
                "resource_folder = '../../../../tests/test_files/'\n",
                "\n",
                "be = BioExplorer(hostname)\n",
                "core = be.core_api()\n",
                "version = be.version()\n",
                "be.reset_scene()\n",
                "print('Version: ' + str(version))\n",
                "\n",
                "export_to_cache = False\n",
                "\n",
                "scenario = 'high_glucose'"
            ]
        },
        {
            "cell_type": "code",
            "execution_count": null,
            "metadata": {},
            "outputs": [],
            "source": [
                "'''Accelerate loading by not showing models as they are loaded'''\n",
                "status = be.set_general_settings(\n",
                "    model_visibility_on_creation=False,\n",
                "    v1_compatibility=True\n",
                ")\n",
                "status = core.set_renderer(samples_per_pixel=1, subsampling=1, max_accum_frames=1)"
            ]
        },
        {
            "cell_type": "markdown",
            "metadata": {},
            "source": [
                "## Global parameters"
            ]
        },
        {
            "cell_type": "code",
            "execution_count": null,
            "metadata": {},
            "outputs": [],
            "source": [
                "# Scene\n",
                "scene_size = Vector3(800.0, 800.0, 800.0)\n",
                "\n",
                "# Proteins\n",
                "protein_radius_multiplier = 1.0\n",
                "protein_representation = be.REPRESENTATION_ATOMS_AND_STICKS\n",
                "protein_load_hydrogen = False\n",
                "\n",
                "# Glycans\n",
                "add_glycans = True\n",
                "glycan_radius_multiplier = 1.0\n",
                "glycan_representation = be.REPRESENTATION_ATOMS_AND_STICKS\n",
                "\n",
                "# Viruses\n",
                "nb_protein_s = 62\n",
                "nb_protein_e = 42\n",
                "nb_protein_m = 50\n",
                "add_rna = False\n",
                "\n",
                "# Immune system\n",
                "nb_glucoses = 360000\n",
                "nb_lactoferrins = 50\n",
                "nb_defensins = 100\n",
                "nb_defensins_on_virus = 2\n",
                "\n",
                "# Cell\n",
                "cell_name = 'Cell'\n",
                "cell_position = Vector3(4.5, -186.0, 7.0)\n",
                "cell_height = scene_size.y / 10.0\n",
                "cell_nb_receptors = 100"
            ]
        },
        {
            "cell_type": "markdown",
            "metadata": {},
            "source": [
                "## Resources"
            ]
        },
        {
            "cell_type": "code",
            "execution_count": null,
            "metadata": {},
            "outputs": [],
            "source": [
                "cache_folder = resource_folder + 'caches/' + version + '/'\n",
                "image_folder = resource_folder + 'images/'\n",
                "pdb_folder = resource_folder + 'pdb/'\n",
                "rna_folder = resource_folder + 'rna/'\n",
                "obj_folder = resource_folder + 'obj/'\n",
                "glycan_folder = pdb_folder + 'glycans/'\n",
                "membrane_folder = pdb_folder + 'membrane/'\n",
                "\n",
                "complex_paths = [glycan_folder + 'complex/33.pdb', glycan_folder + 'complex/34.pdb',\n",
                "                 glycan_folder + 'complex/35.pdb',glycan_folder + 'complex/36.pdb']\n",
                "high_mannose_paths = [glycan_folder + 'high-mannose/1.pdb', \n",
                "                      glycan_folder + 'high-mannose/2.pdb',\n",
                "                      glycan_folder + 'high-mannose/3.pdb',\n",
                "                      glycan_folder + 'high-mannose/4.pdb']\n",
                "hybrid_paths = [glycan_folder + 'hybrid/24.pdb']\n",
                "o_glycan_paths = [glycan_folder + 'o-glycan/12.pdb']\n",
                "\n",
                "glucose_path = pdb_folder + 'glucose.pdb'\n",
                "lactoferrin_path=pdb_folder + 'immune/1b0l.pdb'\n",
                "defensin_path = pdb_folder + 'immune/1ijv.pdb'\n",
                "\n",
                "surfactant_head_source = pdb_folder + 'surfactant/1pw9.pdb'\n",
                "surfactant_branch_source = pdb_folder + 'surfactant/1k6f.pdb'"
            ]
        },
        {
            "cell_type": "markdown",
            "metadata": {},
            "source": [
                "## SARS-COV-2 Coronaviruses"
            ]
        },
        {
            "cell_type": "code",
            "execution_count": null,
            "metadata": {},
            "outputs": [],
            "source": [
                "nglview.show_file(pdb_folder + 'sars-cov-2-v1.pdb')"
            ]
        },
        {
            "cell_type": "code",
            "execution_count": null,
            "metadata": {},
            "outputs": [],
            "source": [
                "nglview.show_file(pdb_folder + '6vyb.pdb')"
            ]
        },
        {
            "cell_type": "code",
            "execution_count": null,
            "metadata": {},
            "outputs": [],
            "source": [
                "nglview.show_file(pdb_folder + 'QHD43419a.pdb')"
            ]
        },
        {
            "cell_type": "code",
            "execution_count": null,
            "metadata": {},
            "outputs": [],
            "source": [
                "nglview.show_file(pdb_folder + 'QHD43418a.pdb')"
            ]
        },
        {
            "cell_type": "code",
            "execution_count": null,
            "metadata": {},
            "outputs": [],
            "source": [
                "be.add_sars_cov_2(\n",
                "    name='sars-cov-2 1', resource_folder=resource_folder,\n",
                "    representation=protein_representation,\n",
                "    position=Vector3(-337.3, -92.3, -99.2), add_glycans=add_glycans)\n",
                "be.add_sars_cov_2(\n",
                "    name='sars-cov-2 2', resource_folder=resource_folder,\n",
                "    representation=protein_representation,\n",
                "    position=Vector3(-74.9, -97.1, 228.8), add_glycans=add_glycans)\n",
                "be.add_sars_cov_2(\n",
                "    name='sars-cov-2 3', resource_folder=resource_folder,\n",
                "    representation=protein_representation,\n",
                "    position=Vector3(187.5, -110.4, 51.2), add_glycans=add_glycans)\n",
                "be.add_sars_cov_2(\n",
                "    name='sars-cov-2 4', resource_folder=resource_folder,\n",
                "    representation=protein_representation,\n",
                "    position=Vector3(4.5, 100.0, 7.5),\n",
                "    rotation=Quaternion(0.0, 0.0, 0.0, 1.0), \n",
                "    add_glycans=add_glycans)\n",
                "be.add_sars_cov_2(\n",
                "    name='sars-cov-2 5', resource_folder=resource_folder,\n",
                "    representation=protein_representation,\n",
                "    position=Vector3(73.9, -117.1, -190.4), add_glycans=add_glycans)\n",
                "be.add_sars_cov_2(\n",
                "    name='sars-cov-2 6', resource_folder=resource_folder,\n",
                "    representation=protein_representation,\n",
                "    position=Vector3(211.5, -104.9, 339.2), add_glycans=add_glycans)"
            ]
        },
        {
            "cell_type": "code",
            "execution_count": null,
            "metadata": {},
            "outputs": [],
            "source": [
                "if export_to_cache:\n",
                "    '''Show loaded models'''\n",
                "    status = be.set_models_visibility(True)\n",
                "    '''Set materials'''\n",
                "    be.apply_default_color_scheme(shading_mode=be.SHADING_MODE_BASIC)\n",
                "    '''Export to cache file'''\n",
                "    cache_filename = cache_folder + scenario + '_viruses.bioexplorer'\n",
                "    if add_rna:\n",
                "        cache_filename = cache_folder + scenario + '_open_viruses.bioexplorer'\n",
                "    print(cache_filename)\n",
                "    be.export_to_file(cache_filename)"
            ]
        },
        {
            "cell_type": "markdown",
            "metadata": {},
            "source": [
                "## Host cell"
            ]
        },
        {
            "cell_type": "code",
            "execution_count": null,
            "metadata": {
                "scrolled": true
            },
            "outputs": [],
            "source": [
                "def add_cell(\n",
                "        name, size, nb_receptors,\n",
                "        position=Vector3()):\n",
                "    \n",
                "    seed = 10\n",
                "    ace2_receptor = Protein(\n",
                "        name=name + '_' + be.NAME_RECEPTOR,\n",
                "        source=pdb_folder + '6m18.pdb', occurrences=nb_receptors,\n",
                "        transmembrane_params=Vector2(-6.0, 5.0),\n",
                "        animation_params=AnimationParams(seed, 1, 0.025, 2, 0.025))\n",
                "    \n",
                "    membrane = Membrane(\n",
                "        lipid_sources=[\n",
                "            membrane_folder + 'segA.pdb',\n",
                "            membrane_folder + 'segB.pdb',\n",
                "            membrane_folder + 'segC.pdb',\n",
                "            membrane_folder + 'segD.pdb'\n",
                "        ],\n",
                "        animation_params=AnimationParams(seed, 2, 0.025, 3, 1.0)\n",
                "    )\n",
                "\n",
                "    cell = Cell(\n",
                "        name=name,\n",
                "        shape=be.ASSEMBLY_SHAPE_SINUSOID, \n",
                "        shape_params=size,\n",
                "        membrane=membrane, proteins=[ace2_receptor],\n",
                "    )\n",
                "    \n",
                "    be.add_cell(\n",
                "        cell=cell, position=position,\n",
                "        representation=protein_representation)\n",
                "\n",
                "    if nb_receptors != 0 and add_glycans:\n",
                "        be.add_multiple_glycans(\n",
                "            representation=glycan_representation, assembly_name=name, \n",
                "            glycan_type=be.NAME_GLYCAN_COMPLEX,\n",
                "            protein_name=be.NAME_RECEPTOR, paths=complex_paths, \n",
                "            indices=[53, 90, 103, 322, 432, 690])\n",
                "        be.add_multiple_glycans(\n",
                "            representation=glycan_representation, assembly_name=name,\n",
                "            glycan_type=be.NAME_GLYCAN_HYBRID,\n",
                "            protein_name=be.NAME_RECEPTOR, paths=hybrid_paths, \n",
                "            indices=[546])\n",
                "\n",
                "        indices = [[155, Quaternion(0.707, 0.0, 0.707, 0.0)],\n",
                "                   [730, Quaternion(0.707, 0.0, 0.707, 0.0)]]\n",
                "        for index in indices:\n",
                "            o_glycan_name = name + '_' + be.NAME_GLYCAN_O_GLYCAN + '_' + str(index[0])\n",
                "            o_glycan = Sugar(\n",
                "                assembly_name=name, name=o_glycan_name, source=o_glycan_paths[0],\n",
                "                protein_name=name + '_' + be.NAME_RECEPTOR, representation=glycan_representation,\n",
                "                chain_ids=[2, 4], site_indices=[index[0]], rotation=index[1])\n",
                "            be.add_sugar(o_glycan)"
            ]
        },
        {
            "cell_type": "code",
            "execution_count": null,
            "metadata": {},
            "outputs": [],
            "source": [
                "cell_position = Vector3(4.5, -186.0, 7.0)\n",
                "add_cell(\n",
                "    name='Cell',\n",
                "    nb_receptors=cell_nb_receptors,\n",
                "    size=Vector3(scene_size.x * 2.0, scene_size.y / 10.0, scene_size.z * 2.0),\n",
                "    position=cell_position)"
            ]
        },
        {
            "cell_type": "code",
            "execution_count": null,
            "metadata": {
                "scrolled": true
            },
            "outputs": [],
            "source": [
                "if export_to_cache:\n",
                "    '''Show loaded models'''\n",
                "    status = be.set_models_visibility(True)\n",
                "    '''Materials'''\n",
                "    be.apply_default_color_scheme(shading_mode=be.SHADING_MODE_BASIC)\n",
                "    be.set_protein_color_scheme(\n",
                "        cell_name, cell_name + '_' + be.NAME_RECEPTOR,\n",
                "        be.COLOR_SCHEME_CHAINS, 'OrRd_r', 7)\n",
                "    '''Export to cache file'''\n",
                "    cache_filename = cache_folder + 'cell.bioexplorer'\n",
                "    print(cache_filename)\n",
                "    be.export_to_file(cache_filename)"
            ]
        },
        {
            "cell_type": "markdown",
            "metadata": {},
            "source": [
                "## Immune system"
            ]
        },
        {
            "cell_type": "markdown",
            "metadata": {},
            "source": [
                "### Surfactant A and D"
            ]
        },
        {
            "cell_type": "code",
            "execution_count": null,
            "metadata": {},
            "outputs": [],
            "source": [
                "nglview.show_file(surfactant_head_source)"
            ]
        },
        {
            "cell_type": "code",
            "execution_count": null,
            "metadata": {
                "scrolled": false
            },
            "outputs": [],
            "source": [
                "def add_surfactant_d(name, position, animation_params):\n",
                "    surfactant_d = Surfactant(\n",
                "        name=name, surfactant_protein=be.SURFACTANT_PROTEIN_D, \n",
                "        head_source=surfactant_head_source,\n",
                "        branch_source=surfactant_branch_source)\n",
                "    be.add_surfactant(\n",
                "        surfactant=surfactant_d, representation=protein_representation, \n",
                "        position=position, animation_params=animation_params)\n",
                "\n",
                "add_surfactant_d(\n",
                "    name='Surfactant-D 1',\n",
                "    position=Vector3(74.0, 24.0, -45.0),\n",
                "    animation_params=AnimationParams(seed=1))\n",
                "add_surfactant_d(\n",
                "    name='Surfactant-D 2',\n",
                "    position=Vector3(104.0, 175.0, -89.0),\n",
                "    animation_params=AnimationParams(seed=2))\n",
                "add_surfactant_d(\n",
                "    name='Surfactant-D 3',\n",
                "    position=Vector3(-260.0, 50.0, 0.0),\n",
                "    animation_params=AnimationParams(seed=6))"
            ]
        },
        {
            "cell_type": "code",
            "execution_count": null,
            "metadata": {
                "scrolled": false
            },
            "outputs": [],
            "source": [
                "def add_surfactant_a(name, position, animation_params):\n",
                "    surfactant_a = Surfactant(\n",
                "        name=name, surfactant_protein=be.SURFACTANT_PROTEIN_A, \n",
                "        head_source=surfactant_head_source,\n",
                "        branch_source=surfactant_branch_source)\n",
                "    be.add_surfactant(\n",
                "        surfactant=surfactant_a, representation=protein_representation, \n",
                "        position=position, animation_params=animation_params)\n",
                "\n",
                "add_surfactant_a(\n",
                "    name='Surfactant-A 1',\n",
                "    position=Vector3(-100.0, 150.0, 0.0),\n",
                "    animation_params=AnimationParams(seed=2))"
            ]
        },
        {
            "cell_type": "code",
            "execution_count": null,
            "metadata": {
                "scrolled": true
            },
            "outputs": [],
            "source": [
                "# Add glucose to surfactants\n",
                "def add_glucose_to_surfactant_head(name):\n",
                "    for index in [321, 323]:\n",
                "        glucose_name = name + '_' + be.NAME_GLUCOSE + '_' + str(index)\n",
                "        glucose = Sugar(\n",
                "            assembly_name=name, name=glucose_name, source=glucose_path,\n",
                "            protein_name=name + '_' + be.NAME_SURFACTANT_HEAD, \n",
                "            representation=glycan_representation, site_indices=[index])\n",
                "        be.add_sugar(glucose)\n",
                "add_glucose_to_surfactant_head('Surfactant-D 1')\n",
                "add_glucose_to_surfactant_head('Surfactant-D 2')\n",
                "add_glucose_to_surfactant_head('Surfactant-D 3')\n",
                "add_glucose_to_surfactant_head('Surfactant-A 1')"
            ]
        },
        {
            "cell_type": "markdown",
            "metadata": {},
            "source": [
                "### Glucose"
            ]
        },
        {
            "cell_type": "code",
            "execution_count": null,
            "metadata": {},
            "outputs": [],
            "source": [
                "nglview.show_file(glucose_path)"
            ]
        },
        {
            "cell_type": "code",
            "execution_count": null,
            "metadata": {
                "scrolled": true
            },
            "outputs": [],
            "source": [
                "glucose = Protein(\n",
                "    name=be.NAME_GLUCOSE,\n",
                "    source=glucose_path, load_non_polymer_chemicals=True, \n",
                "    occurrences=nb_glucoses, animation_params=AnimationParams(0, 1, 2.0, 2, 1.0))\n",
                "volume = Volume(\n",
                "    name=be.NAME_GLUCOSE,\n",
                "    shape=be.ASSEMBLY_SHAPE_CUBE, shape_params=scene_size,\n",
                "    protein=glucose)\n",
                "status = be.add_volume(\n",
                "    volume=volume, representation=protein_representation,\n",
                "    position=Vector3(0.0, scene_size.y / 2.0 - 200.0, 0.0))"
            ]
        },
        {
            "cell_type": "markdown",
            "metadata": {},
            "source": [
                "### Lactoferrins"
            ]
        },
        {
            "cell_type": "code",
            "execution_count": null,
            "metadata": {},
            "outputs": [],
            "source": [
                "nglview.show_file(lactoferrin_path)"
            ]
        },
        {
            "cell_type": "code",
            "execution_count": null,
            "metadata": {
                "scrolled": true
            },
            "outputs": [],
            "source": [
                "lactoferrin = Protein(\n",
                "    name=be.NAME_LACTOFERRIN,\n",
                "    source=lactoferrin_path, load_non_polymer_chemicals=True,\n",
                "    occurrences=nb_lactoferrins, animation_params=AnimationParams(2, 2, 2.0, 3, 1.0))\n",
                "lactoferrins_volume = Volume(\n",
                "    name=be.NAME_LACTOFERRIN,\n",
                "    shape=be.ASSEMBLY_SHAPE_CUBE, shape_params=scene_size,\n",
                "    protein=lactoferrin)\n",
                "status = be.add_volume(\n",
                "    volume=lactoferrins_volume, representation=protein_representation,\n",
                "    position=Vector3(0.0, scene_size.y / 2.0 - 200.0, 0.0))"
            ]
        },
        {
            "cell_type": "markdown",
            "metadata": {},
            "source": [
                "### Defensins"
            ]
        },
        {
            "cell_type": "code",
            "execution_count": null,
            "metadata": {
                "scrolled": true
            },
            "outputs": [],
            "source": [
                "nglview.show_file(defensin_path)"
            ]
        },
        {
            "cell_type": "code",
            "execution_count": null,
            "metadata": {
                "scrolled": true
            },
            "outputs": [],
            "source": [
                "defensin = Protein(\n",
                "    name=be.NAME_DEFENSIN,\n",
                "    source=defensin_path, load_non_polymer_chemicals=True, \n",
                "    occurrences=nb_defensins, animation_params=AnimationParams(3, 3, 2.0, 4, 1.0))\n",
                "defensins_volume = Volume(\n",
                "    name=be.NAME_DEFENSIN, shape=be.ASSEMBLY_SHAPE_CUBE, shape_params=scene_size,\n",
                "    protein=defensin)\n",
                "status = be.add_volume(\n",
                "    volume=defensins_volume, representation=protein_representation,\n",
                "    position=Vector3(0.0, scene_size.y / 2.0 - 200.0, 0.0))"
            ]
        },
        {
            "cell_type": "markdown",
            "metadata": {},
            "source": [
                "### Materials"
            ]
        },
        {
            "cell_type": "code",
            "execution_count": null,
            "metadata": {},
            "outputs": [],
            "source": [
                "be.apply_default_color_scheme(\n",
                "    shading_mode=be.SHADING_MODE_DIFFUSE,\n",
                "    specular_exponent=50.0)"
            ]
        },
        {
            "cell_type": "code",
            "execution_count": null,
            "metadata": {},
            "outputs": [],
            "source": [
                "'''Show loaded models'''\n",
                "status = be.set_models_visibility(True)"
            ]
        },
        {
            "cell_type": "code",
            "execution_count": null,
            "metadata": {},
            "outputs": [],
            "source": [
                "if export_to_cache:\n",
                "    '''Export to cache file'''\n",
                "    cache_filename = cache_folder + scenario + '_immune.bioexplorer'\n",
                "    print(cache_filename)\n",
                "    be.export_to_file(cache_filename)"
            ]
        },
        {
            "cell_type": "markdown",
            "metadata": {},
            "source": [
                "## Export full scene to cache file"
            ]
        },
        {
            "cell_type": "code",
            "execution_count": null,
            "metadata": {},
            "outputs": [],
            "source": [
                "if export_to_cache:\n",
                "    '''Export to cache file'''\n",
                "    cache_filename = cache_folder + scenario + '_scenario.bioexplorer'\n",
                "    print(cache_filename)\n",
                "    be.export_to_file(cache_filename)"
            ]
        },
        {
            "cell_type": "markdown",
            "metadata": {},
            "source": [
                "## Rendering settings"
            ]
        },
        {
            "cell_type": "code",
            "execution_count": 32,
            "metadata": {
                "scrolled": true
            },
            "outputs": [],
            "source": [
                "status = be.set_rendering_quality(be.RENDERING_QUALITY_HIGH)"
            ]
        }
    ],
    "metadata": {
        "kernelspec": {
            "display_name": "Python 3.8.10 ('env')",
            "language": "python",
            "name": "python3"
        },
        "language_info": {
            "codemirror_mode": {
                "name": "ipython",
                "version": 3
            },
            "file_extension": ".py",
            "mimetype": "text/x-python",
            "name": "python",
            "nbconvert_exporter": "python",
            "pygments_lexer": "ipython3",
            "version": "3.8.10"
        },
        "vscode": {
            "interpreter": {
                "hash": "ea9a5fa46eb6bad2806a8ea1d08e15bb1e255a2d4320b81e765591579963c56b"
            }
        }
    },
    "nbformat": 4,
    "nbformat_minor": 5
}
