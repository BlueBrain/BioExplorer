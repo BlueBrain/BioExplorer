{
    "cells": [
        {
            "cell_type": "markdown",
            "metadata": {},
            "source": [
                "# Blue Brain BioExplorer\n",
                "![](../../../bioexplorer_banner.png)"
            ]
        },
        {
            "cell_type": "code",
            "execution_count": null,
            "metadata": {},
            "outputs": [],
            "source": [
                "from bioexplorer import BioExplorer, MovieMaker\n",
                "import os\n",
                "\n",
                "url = 'localhost:5000'\n",
                "resource_folder = os.path.abspath('../../../tests/test_files')\n",
                "    \n",
                "be = BioExplorer(url)\n",
                "core = be.core_api()\n",
                "mm = MovieMaker(be)\n",
                "version = be.version()\n",
                "print('Version ' + version)\n",
                "\n",
                "sequence_name = 'high_glucose'"
            ]
        },
        {
            "cell_type": "markdown",
            "metadata": {},
            "source": [
                "## Data loading"
            ]
        },
        {
            "cell_type": "code",
            "execution_count": null,
            "metadata": {},
            "outputs": [],
            "source": [
                "'''Reset current scene'''\n",
                "be.reset_scene()"
            ]
        },
        {
            "cell_type": "code",
            "execution_count": null,
            "metadata": {},
            "outputs": [],
            "source": [
                "'''Accelerate loading by not showing models as they are loaded'''\n",
                "status = be.set_general_settings(\n",
                "    logging_enabled=True,\n",
                "    model_visibility_on_creation=False)"
            ]
        },
        {
            "cell_type": "code",
            "execution_count": null,
            "metadata": {},
            "outputs": [],
            "source": [
                "cache_folder = os.path.join(resource_folder, 'caches', version)"
            ]
        },
        {
            "cell_type": "code",
            "execution_count": null,
            "metadata": {},
            "outputs": [],
            "source": [
                "cache_filename = cache_folder + sequence_name + '_scenario.bioexplorer'\n",
                "print('Loading ' + cache_filename)\n",
                "dummy = core.add_model(cache_filename)"
            ]
        },
        {
            "cell_type": "code",
            "execution_count": null,
            "metadata": {},
            "outputs": [],
            "source": [
                "nb_models = len(core.scene.models)\n",
                "if nb_models != 180:\n",
                "    print('ERROR: Not all models have been loaded!!! Expected 180, found ' + str(nb_models))\n",
                "else:\n",
                "    print('All good!')"
            ]
        },
        {
            "cell_type": "code",
            "execution_count": null,
            "metadata": {},
            "outputs": [],
            "source": [
                "'''Now we can show the models'''\n",
                "status = be.set_models_visibility(True)"
            ]
        },
        {
            "cell_type": "markdown",
            "metadata": {},
            "source": [
                "## Rendering settings"
            ]
        },
        {
            "cell_type": "code",
            "execution_count": null,
            "metadata": {},
            "outputs": [],
            "source": [
                "status = be.set_rendering_quality(be.RENDERING_QUALITY_HIGH)"
            ]
        },
        {
            "cell_type": "markdown",
            "metadata": {},
            "source": [
                "## Image settings"
            ]
        },
        {
            "cell_type": "code",
            "execution_count": null,
            "metadata": {},
            "outputs": [],
            "source": [
                "image_size = [3840, 2160]\n",
                "image_samples_per_pixel = 64\n",
                "\n",
                "output_folder = os.path.join('/tmp', 'frames', version, sequence_name)\n",
                "\n",
                "command_line='mkdir -p ' + output_folder\n",
                "os.system(command_line)\n",
                "command_line='ls ' + output_folder\n",
                "if os.system(command_line) != 0:\n",
                "    print('ERROR: Failed to create output folder')"
            ]
        },
        {
            "cell_type": "markdown",
            "metadata": {},
            "source": [
                "## Snapshot"
            ]
        },
        {
            "cell_type": "code",
            "execution_count": null,
            "metadata": {},
            "outputs": [],
            "source": [
                "def set_all_materials_to_grey():\n",
                "    for model in core.scene.models:\n",
                "        model_id = model['id']\n",
                "        model_name = model['name']\n",
                "\n",
                "        material_ids = be.get_material_ids(model_id)['ids']\n",
                "        nb_materials = len(material_ids)\n",
                "        palette = list()\n",
                "        for p in range(nb_materials):\n",
                "            palette.append([0.25,0.25,0.25])\n",
                "        be.set_materials(\n",
                "            model_ids=[model_id], material_ids=material_ids, \n",
                "            diffuse_colors=palette, specular_colors=palette)"
            ]
        },
        {
            "cell_type": "code",
            "execution_count": null,
            "metadata": {},
            "outputs": [],
            "source": [
                "def apply_glucose_colors():\n",
                "    import seaborn as sns\n",
                "    specular_exponent = 50\n",
                "    for model in core.scene.models:\n",
                "        model_id = model['id']\n",
                "        model_name = model['name']\n",
                "\n",
                "        material_ids = be.get_material_ids(model_id)['ids']\n",
                "        nb_materials = len(material_ids)\n",
                "\n",
                "        if be.NAME_GLUCOSE in model_name:\n",
                "            palette = sns.color_palette('Blues', nb_materials)\n",
                "            be.set_materials_from_palette(\n",
                "                specular_exponent=specular_exponent,\n",
                "                model_ids=[model_id], material_ids=material_ids, palette=palette)"
            ]
        },
        {
            "cell_type": "markdown",
            "metadata": {},
            "source": [
                "### Frame 1100 - Surfactant head"
            ]
        },
        {
            "cell_type": "code",
            "execution_count": null,
            "metadata": {},
            "outputs": [],
            "source": [
                "mm.set_camera(\n",
                "    direction=[0.27479800000000004, -0.048306, -0.960206],\n",
                "    origin=[38.749, 35.228, 5.535],\n",
                "    up=[0.012606000000000001, 0.99883, -0.046638]\n",
                ")"
            ]
        },
        {
            "cell_type": "code",
            "execution_count": null,
            "metadata": {},
            "outputs": [],
            "source": [
                "set_all_materials_to_grey()\n",
                "apply_glucose_colors()"
            ]
        },
        {
            "cell_type": "code",
            "execution_count": null,
            "metadata": {},
            "outputs": [],
            "source": [
                "mm.create_snapshot(\n",
                "    renderer='advanced',\n",
                "    size=image_size, samples_per_pixel=image_samples_per_pixel,\n",
                "    path=output_folder, base_name='01100')"
            ]
        }
    ],
    "metadata": {
        "kernelspec": {
            "display_name": "Python 3.8.10 64-bit",
            "language": "python",
            "name": "python3"
        },
        "language_info": {
            "codemirror_mode": {
                "name": "ipython",
                "version": 3
            },
            "file_extension": ".py",
            "mimetype": "text/x-python",
            "name": "python",
            "nbconvert_exporter": "python",
            "pygments_lexer": "ipython3",
            "version": "3.8.10"
        },
        "vscode": {
            "interpreter": {
                "hash": "916dbcbb3f70747c44a77c7bcd40155683ae19c65e1c03b4aa3499c5328201f1"
            }
        }
    },
    "nbformat": 4,
    "nbformat_minor": 5
}