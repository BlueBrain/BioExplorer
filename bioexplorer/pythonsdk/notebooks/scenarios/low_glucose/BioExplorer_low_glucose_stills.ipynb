{
 "cells": [
  {
   "cell_type": "markdown",
   "metadata": {},
   "source": [
    "# Blue Brain BioExplorer\n",
    "![](../../bioexplorer_banner.png)"
   ]
  },
  {
   "cell_type": "code",
   "execution_count": null,
   "metadata": {},
   "outputs": [],
   "source": [
    "from bioexplorer import BioExplorer\n",
    "from mediamaker import MovieMaker\n",
    "import os\n",
    "\n",
    "hostname = 'localhost:5000'\n",
    "resource_folder = '../../../tests/test_files/'\n",
    "    \n",
    "be = BioExplorer(hostname)\n",
    "core = be.core_api()\n",
    "mm = MovieMaker(be)\n",
    "version = be.version()\n",
    "print('Version ' + version)\n",
    "\n",
    "sequence_name = 'low_glucose'"
   ]
  },
  {
   "cell_type": "markdown",
   "metadata": {},
   "source": [
    "## Data loading"
   ]
  },
  {
   "cell_type": "code",
   "execution_count": null,
   "metadata": {},
   "outputs": [],
   "source": [
    "'''Reset current scene'''\n",
    "status = be.reset()"
   ]
  },
  {
   "cell_type": "code",
   "execution_count": null,
   "metadata": {},
   "outputs": [],
   "source": [
    "'''Accelerate loading by not showing models as they are loaded'''\n",
    "status = be.set_general_settings(\n",
    "    logging_enabled=True,\n",
    "    model_visibility_on_creation=False)"
   ]
  },
  {
   "cell_type": "code",
   "execution_count": null,
   "metadata": {
    "scrolled": true
   },
   "outputs": [],
   "source": [
    "cache_folder = resource_folder + 'caches/' + version + '/'"
   ]
  },
  {
   "cell_type": "code",
   "execution_count": null,
   "metadata": {},
   "outputs": [],
   "source": [
    "cache_filename = cache_folder + sequence_name + '_scenario.bioexplorer'\n",
    "print('Loading ' + cache_filename)\n",
    "dummy = core.add_model(cache_filename)"
   ]
  },
  {
   "cell_type": "code",
   "execution_count": null,
   "metadata": {},
   "outputs": [],
   "source": [
    "nb_models = len(core.scene.models)\n",
    "if nb_models != 152:\n",
    "    print('ERROR: Not all models have been loaded!!! Expected 152, found ' + str(nb_models))\n",
    "else:\n",
    "    print('All good!')"
   ]
  },
  {
   "cell_type": "code",
   "execution_count": null,
   "metadata": {},
   "outputs": [],
   "source": [
    "'''Show loaded models'''\n",
    "status = be.set_models_visibility(True)"
   ]
  },
  {
   "cell_type": "markdown",
   "metadata": {},
   "source": [
    "## Rendering settings"
   ]
  },
  {
   "cell_type": "code",
   "execution_count": null,
   "metadata": {},
   "outputs": [],
   "source": [
    "status = core.set_renderer(\n",
    "    background_color=[96 / 255, 125 / 255, 139 / 255],\n",
    "    current='bio_explorer', head_light=False,\n",
    "    samples_per_pixel=1, subsampling=1, max_accum_frames=128)\n",
    "params = be.core_api().BioExplorerRendererParams()\n",
    "params.exposure = 1.0\n",
    "params.gi_samples = 1\n",
    "params.gi_weight = 0.3\n",
    "params.gi_distance = 5000\n",
    "params.shadows = 1.0\n",
    "params.soft_shadows = 0.02\n",
    "params.fog_start = 1000\n",
    "params.fog_thickness = 300\n",
    "params.max_bounces = 1\n",
    "params.use_hardware_randomizer = True\n",
    "status = core.set_renderer_params(params)\n",
    "\n",
    "status = core.clear_lights()\n",
    "status = core.add_light_directional(\n",
    "    angularDiameter=0.5, color=[1,1,1], direction=[-0.7,-0.4,-1],\n",
    "    intensity=1.0, is_visible=False\n",
    ")"
   ]
  },
  {
   "cell_type": "markdown",
   "metadata": {},
   "source": [
    "## Image settings"
   ]
  },
  {
   "cell_type": "code",
   "execution_count": null,
   "metadata": {},
   "outputs": [],
   "source": [
    "image_size = [3840, 2160]\n",
    "image_samples_per_pixel = 64\n",
    "\n",
    "output_folder = resource_folder + 'frames/' + \\\n",
    "                version + '/' + sequence_name + '/'\n",
    "print(output_folder)\n",
    "\n",
    "command_line='mkdir -p ' + output_folder\n",
    "os.system(command_line)\n",
    "command_line='ls ' + output_folder\n",
    "\n",
    "if os.system(command_line) != 0:\n",
    "    print('ERROR: Failed to create output folder')"
   ]
  },
  {
   "cell_type": "markdown",
   "metadata": {},
   "source": [
    "## Snapshots"
   ]
  },
  {
   "cell_type": "code",
   "execution_count": null,
   "metadata": {},
   "outputs": [],
   "source": [
    "def set_all_materials_to_grey():\n",
    "    for model in core.scene.models:\n",
    "        model_id = model['id']\n",
    "        model_name = model['name']\n",
    "\n",
    "        material_ids = be.get_material_ids(model_id)['ids']\n",
    "        nb_materials = len(material_ids)\n",
    "        palette = list()\n",
    "        for p in range(nb_materials):\n",
    "            palette.append([0.25,0.25,0.25])\n",
    "        be.set_materials(\n",
    "            model_ids=[model_id], material_ids=material_ids, \n",
    "            diffuse_colors=palette, specular_colors=palette)"
   ]
  },
  {
   "cell_type": "code",
   "execution_count": null,
   "metadata": {},
   "outputs": [],
   "source": [
    "def set_glycans_materials(high_mannose=False, complex=False, hybrid=False, o_glycans=False):\n",
    "    glycans_colors = [[0, 1, 1], [1, 1, 0], [1, 0, 1], [0.2, 0.2, 0.7]]\n",
    "\n",
    "    for model in core.scene.models:\n",
    "        model_id = model['id']\n",
    "        model_name = model['name']\n",
    "\n",
    "        material_ids = be.get_material_ids(model_id)['ids']\n",
    "        nb_materials = len(material_ids)\n",
    "        if be.NAME_GLYCAN_HIGH_MANNOSE in model_name and high_mannose:\n",
    "            palette = list()\n",
    "            for m in range(nb_materials):\n",
    "                palette.append(glycans_colors[0])\n",
    "            be.set_materials(\n",
    "                model_ids=[model_id], material_ids=material_ids,\n",
    "                diffuse_colors=palette, specular_colors=palette\n",
    "            )\n",
    "        if be.NAME_GLYCAN_COMPLEX in model_name and complex:\n",
    "            palette = list()\n",
    "            for m in range(nb_materials):\n",
    "                palette.append(glycans_colors[1])\n",
    "            be.set_materials(\n",
    "                model_ids=[model_id], material_ids=material_ids,\n",
    "                diffuse_colors=palette, specular_colors=palette\n",
    "            )            \n",
    "        if be.NAME_GLYCAN_HYBRID in model_name and hybrid:\n",
    "            palette = list()\n",
    "            for m in range(nb_materials):\n",
    "                palette.append(glycans_colors[2])\n",
    "            be.set_materials(\n",
    "                model_ids=[model_id], material_ids=material_ids,\n",
    "                diffuse_colors=palette, specular_colors=palette\n",
    "            )                \n",
    "        if be.NAME_GLYCAN_O_GLYCAN in model_name and o_glycans:\n",
    "            palette = list()\n",
    "            for m in range(nb_materials):\n",
    "                palette.append(glycans_colors[3])\n",
    "            be.set_materials(\n",
    "                model_ids=[model_id], material_ids=material_ids,\n",
    "                diffuse_colors=palette, specular_colors=palette\n",
    "            )"
   ]
  },
  {
   "cell_type": "markdown",
   "metadata": {},
   "source": [
    "### Frame 600 - Spike and glycans"
   ]
  },
  {
   "cell_type": "code",
   "execution_count": null,
   "metadata": {},
   "outputs": [],
   "source": [
    "status = core.set_camera(\n",
    "    orientation=[-0.005, 0.047, -0.004, 0.998],\n",
    "    position=[211.585, 74.499, -106.416],\n",
    "    target=[201.490, 74.488, -107.411]\n",
    ")"
   ]
  },
  {
   "cell_type": "code",
   "execution_count": null,
   "metadata": {},
   "outputs": [],
   "source": [
    "set_all_materials_to_grey()\n",
    "mm.create_snapshot(\n",
    "    size=image_size, samples_per_pixel=image_samples_per_pixel,\n",
    "    path=output_folder + '/00600.png')"
   ]
  },
  {
   "cell_type": "code",
   "execution_count": null,
   "metadata": {},
   "outputs": [],
   "source": [
    "set_glycans_materials(complex=True)\n",
    "mm.create_snapshot(\n",
    "    size=image_size, samples_per_pixel=image_samples_per_pixel,\n",
    "    path=output_folder + '/00600a.png')"
   ]
  },
  {
   "cell_type": "code",
   "execution_count": null,
   "metadata": {},
   "outputs": [],
   "source": [
    "set_glycans_materials(o_glycans=True)\n",
    "mm.create_snapshot(\n",
    "    size=image_size, samples_per_pixel=image_samples_per_pixel,\n",
    "    path=output_folder + '/00600b.png')"
   ]
  },
  {
   "cell_type": "code",
   "execution_count": null,
   "metadata": {},
   "outputs": [],
   "source": [
    "set_glycans_materials(high_mannose=True)\n",
    "mm.create_snapshot(\n",
    "    size=image_size, samples_per_pixel=image_samples_per_pixel,\n",
    "    path=output_folder + '/00600c.png')"
   ]
  },
  {
   "cell_type": "markdown",
   "metadata": {},
   "source": [
    "### Frame 1600 - Immune system"
   ]
  },
  {
   "cell_type": "code",
   "execution_count": null,
   "metadata": {},
   "outputs": [],
   "source": [
    "status = core.set_camera(\n",
    "    orientation=[-0.003, 0.243, -0.003, 0.970],\n",
    "    position=[238.163, 46.437, 372.585],\n",
    "    target=[237.693, 46.431, 371.703]\n",
    ")"
   ]
  },
  {
   "cell_type": "code",
   "execution_count": null,
   "metadata": {},
   "outputs": [],
   "source": [
    "def apply_immune_colors():\n",
    "    import seaborn as sns\n",
    "    shading_mode = be.SHADING_MODE_BASIC\n",
    "    specular_exponent = 50\n",
    "    for model in core.scene.models:\n",
    "        model_id = model['id']\n",
    "        model_name = model['name']\n",
    "\n",
    "        material_ids = be.get_material_ids(model_id)['ids']\n",
    "        nb_materials = len(material_ids)\n",
    "\n",
    "        if be.NAME_GLUCOSE in model_name:\n",
    "            palette = sns.color_palette('Blues', nb_materials)\n",
    "            be.set_materials_from_palette(\n",
    "                shading_mode=shading_mode, specular_exponent=specular_exponent,\n",
    "                model_ids=[model_id], material_ids=material_ids, palette=palette)\n",
    "\n",
    "        if be.NAME_LACTOFERRIN in model_name:\n",
    "            palette = sns.color_palette('afmhot', nb_materials)\n",
    "            be.set_materials_from_palette(\n",
    "                shading_mode=shading_mode, specular_exponent=specular_exponent,\n",
    "                model_ids=[model_id], material_ids=material_ids, palette=palette)\n",
    "\n",
    "        if be.NAME_DEFENSIN in model_name:\n",
    "            palette = sns.color_palette('plasma_r', nb_materials)\n",
    "            be.set_materials_from_palette(\n",
    "                shading_mode=shading_mode, specular_exponent=specular_exponent,\n",
    "                model_ids=[model_id], material_ids=material_ids, palette=palette)\n",
    "\n",
    "        if be.NAME_SURFACTANT_HEAD in model_name:\n",
    "            palette = sns.color_palette('OrRd_r', nb_materials)\n",
    "            emission = 0\n",
    "            be.set_materials_from_palette(\n",
    "                shading_mode=shading_mode, specular_exponent=specular_exponent,\n",
    "                model_ids=[model_id], material_ids=material_ids,\n",
    "                palette=palette, emission=emission)\n",
    "        if be.NAME_COLLAGEN in model_name:\n",
    "            material_ids = list(be.get_material_ids(model_id)['ids'])\n",
    "            nb_materials = len(material_ids)\n",
    "            palette = list()\n",
    "            emissions = list()\n",
    "            for i in range(nb_materials):\n",
    "                palette.append([1,1,1])\n",
    "                emissions.append(0.1)\n",
    "            be.set_materials(\n",
    "                model_ids=[model_id], material_ids=material_ids,\n",
    "                diffuse_colors=palette, specular_colors=palette,\n",
    "                emissions=emissions\n",
    "            )"
   ]
  },
  {
   "cell_type": "code",
   "execution_count": null,
   "metadata": {},
   "outputs": [],
   "source": [
    "set_all_materials_to_grey()\n",
    "apply_immune_colors()"
   ]
  },
  {
   "cell_type": "code",
   "execution_count": null,
   "metadata": {},
   "outputs": [],
   "source": [
    "mm.create_snapshot(\n",
    "    size=image_size, samples_per_pixel=image_samples_per_pixel,\n",
    "    path=output_folder + '/01600.png')"
   ]
  },
  {
   "cell_type": "markdown",
   "metadata": {},
   "source": [
    "### Frame 2600 - Surfactant head"
   ]
  },
  {
   "cell_type": "code",
   "execution_count": null,
   "metadata": {},
   "outputs": [],
   "source": [
    "status = core.set_camera(\n",
    "    orientation=[0.086, 0.475, -0.055, 0.873],\n",
    "    position=[-9.827, 110.720, 60.944],\n",
    "    target=[-10.648, 110.923, 60.410]\n",
    ")"
   ]
  },
  {
   "cell_type": "code",
   "execution_count": null,
   "metadata": {},
   "outputs": [],
   "source": [
    "mm.create_snapshot(\n",
    "    size=image_size, samples_per_pixel=image_samples_per_pixel,\n",
    "    path=output_folder + '/02600.png')"
   ]
  }
 ],
 "metadata": {
  "kernelspec": {
   "display_name": "Python 3",
   "language": "python",
   "name": "python3"
  },
  "language_info": {
   "codemirror_mode": {
    "name": "ipython",
    "version": 3
   },
   "file_extension": ".py",
   "mimetype": "text/x-python",
   "name": "python",
   "nbconvert_exporter": "python",
   "pygments_lexer": "ipython3",
   "version": "3.8.5"
  }
 },
 "nbformat": 4,
 "nbformat_minor": 2
}
