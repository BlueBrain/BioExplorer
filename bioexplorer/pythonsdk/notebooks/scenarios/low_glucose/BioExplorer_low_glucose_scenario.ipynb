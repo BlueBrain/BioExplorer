{
 "cells": [
  {
   "cell_type": "markdown",
   "metadata": {},
   "source": [
    "# Blue Brain BioExplorer\n",
    "![](../../bioexplorer_banner.png)"
   ]
  },
  {
   "cell_type": "markdown",
   "metadata": {},
   "source": [
    "# Low Glucose Scenario"
   ]
  },
  {
   "cell_type": "markdown",
   "metadata": {},
   "source": [
    "## Connect to BioExplorer backend"
   ]
  },
  {
   "cell_type": "code",
   "execution_count": 33,
   "metadata": {
    "scrolled": true
   },
   "outputs": [
    {
     "name": "stdout",
     "output_type": "stream",
     "text": [
      "Version: 1.1.2\n"
     ]
    }
   ],
   "source": [
    "from bioexplorer import BioExplorer, Protein, Surfactant, Membrane, Cell, Sugars, \\\n",
    "                        Volume, AnimationParams, Vector2, Vector3, Quaternion\n",
    "import nglview\n",
    "\n",
    "hostname = 'localhost:5000'\n",
    "resource_folder = '../../../tests/test_files/'\n",
    "    \n",
    "be = BioExplorer(hostname)\n",
    "core = be.core_api()\n",
    "version = be.version()\n",
    "print('Version: ' + version)\n",
    "\n",
    "export_to_cache = False\n",
    "\n",
    "scenario = 'low_glucose'"
   ]
  },
  {
   "cell_type": "code",
   "execution_count": 34,
   "metadata": {},
   "outputs": [
    {
     "data": {
      "text/plain": [
       "{'contents': 'Removed 152 models', 'status': True}"
      ]
     },
     "execution_count": 34,
     "metadata": {},
     "output_type": "execute_result"
    }
   ],
   "source": [
    "'''Accelerate loading by not showing models as they are loaded'''\n",
    "status = be.set_general_settings(\n",
    "    logging_enabled=False,\n",
    "    model_visibility_on_creation=False)\n",
    "status = core.set_renderer(samples_per_pixel=1, subsampling=1, max_accum_frames=1)\n",
    "be.reset_scene()"
   ]
  },
  {
   "cell_type": "markdown",
   "metadata": {},
   "source": [
    "## Global parameters"
   ]
  },
  {
   "cell_type": "code",
   "execution_count": 35,
   "metadata": {},
   "outputs": [],
   "source": [
    "# Scene\n",
    "scene_size = Vector3(800.0, 800.0, 800.0)\n",
    "\n",
    "# Proteins\n",
    "protein_radius_multiplier = 2.0\n",
    "protein_representation = be.REPRESENTATION_ATOMS_AND_STICKS\n",
    "# protein_representation = be.REPRESENTATION_CONTOURS\n",
    "\n",
    "# Glycans\n",
    "# add_glycans = True\n",
    "add_glycans = False\n",
    "glycan_representation = be.REPRESENTATION_ATOMS_AND_STICKS\n",
    "# glycan_representation = be.REPRESENTATION_CONTOURS\n",
    "\n",
    "# Viruses\n",
    "nb_protein_s = 62\n",
    "nb_protein_e = 42\n",
    "nb_protein_m = 50\n",
    "add_rna = False\n",
    "\n",
    "# Immune system\n",
    "nb_glucoses = 120000\n",
    "nb_lactoferrins = 150\n",
    "nb_defensins = 300\n",
    "nb_defensins_on_virus = 2\n",
    "\n",
    "# Cell\n",
    "cell_name = 'Cell'\n",
    "cell_position = Vector3(4.5, -186.0, 7.0)\n",
    "cell_size = Vector3(scene_size.x, scene_size.y / 10.0, scene_size.z)\n",
    "cell_nb_receptors = 100"
   ]
  },
  {
   "cell_type": "markdown",
   "metadata": {},
   "source": [
    "## Resources"
   ]
  },
  {
   "cell_type": "code",
   "execution_count": 36,
   "metadata": {},
   "outputs": [],
   "source": [
    "cache_folder = resource_folder + 'caches/' + version + '/'\n",
    "image_folder = resource_folder + 'images/'\n",
    "pdb_folder = resource_folder + 'pdb/'\n",
    "rna_folder = resource_folder + 'rna/'\n",
    "obj_folder = resource_folder + 'obj/'\n",
    "glycan_folder = pdb_folder + 'glycans/'\n",
    "membrane_folder = pdb_folder + 'membrane/'\n",
    "\n",
    "complex_paths = [glycan_folder + 'complex/33.pdb', glycan_folder + 'complex/34.pdb',\n",
    "                 glycan_folder + 'complex/35.pdb',glycan_folder + 'complex/36.pdb']\n",
    "high_mannose_paths = [glycan_folder + 'high-mannose/1.pdb', \n",
    "                      glycan_folder + 'high-mannose/2.pdb',\n",
    "                      glycan_folder + 'high-mannose/3.pdb',\n",
    "                      glycan_folder + 'high-mannose/4.pdb']\n",
    "hybrid_paths = [glycan_folder + 'hybrid/24.pdb']\n",
    "o_glycan_paths = [glycan_folder + 'o-glycan/12.pdb']\n",
    "\n",
    "glucose_path = pdb_folder + 'glucose.pdb'\n",
    "lactoferrin_path=pdb_folder + 'immune/1b0l.pdb'\n",
    "defensin_path = pdb_folder + 'immune/1ijv.pdb'\n",
    "\n",
    "surfactant_head_source = pdb_folder + 'surfactant/1pw9.pdb'\n",
    "surfactant_branch_source = pdb_folder + 'surfactant/1k6f.pdb'\n",
    "\n",
    "lymphocyte_path = obj_folder + 'lymphocyte.obj'"
   ]
  },
  {
   "cell_type": "markdown",
   "metadata": {},
   "source": [
    "## Coronaviruses"
   ]
  },
  {
   "cell_type": "code",
   "execution_count": null,
   "metadata": {},
   "outputs": [],
   "source": [
    "nglview.show_file(pdb_folder + 'sars-cov-2-v1.pdb')"
   ]
  },
  {
   "cell_type": "code",
   "execution_count": null,
   "metadata": {},
   "outputs": [],
   "source": [
    "nglview.show_file(pdb_folder + '6vyb.pdb')"
   ]
  },
  {
   "cell_type": "code",
   "execution_count": null,
   "metadata": {},
   "outputs": [],
   "source": [
    "nglview.show_file(pdb_folder + 'QHD43419a.pdb')"
   ]
  },
  {
   "cell_type": "code",
   "execution_count": null,
   "metadata": {},
   "outputs": [],
   "source": [
    "nglview.show_file(pdb_folder + 'QHD43418a.pdb')"
   ]
  },
  {
   "cell_type": "code",
   "execution_count": 37,
   "metadata": {},
   "outputs": [],
   "source": [
    "be.add_coronavirus(\n",
    "    name='Coronavirus 1', resource_folder=resource_folder,\n",
    "    position=Vector3(-5.0, 19.0, -36.0), \n",
    "    rotation=Quaternion(0.0, 1.0, 0.0, 0.0),\n",
    "    add_glycans=add_glycans,\n",
    "    atom_radius_multiplier=protein_radius_multiplier,\n",
    "    representation=protein_representation\n",
    ")\n",
    "be.add_coronavirus(\n",
    "    name='Coronavirus 2', resource_folder=resource_folder,\n",
    "    position=Vector3(73.0, 93.0, -115.0), \n",
    "    rotation=Quaternion(0.0, 0.0, 1.0, 0.0),\n",
    "    add_glycans=add_glycans,\n",
    "    atom_radius_multiplier=protein_radius_multiplier,\n",
    "    representation=protein_representation\n",
    ")\n",
    "be.add_coronavirus(\n",
    "    name='Coronavirus 3', resource_folder=resource_folder,\n",
    "    position=Vector3(-84.0, 110.0, 75.0), \n",
    "    rotation=Quaternion(0.707, 0.707, 0.0, 0.0),\n",
    "    add_glycans=add_glycans,\n",
    "    atom_radius_multiplier=protein_radius_multiplier,\n",
    "    representation=protein_representation\n",
    ")\n",
    "be.add_coronavirus(\n",
    "    name='Coronavirus 4', resource_folder=resource_folder,\n",
    "    position=Vector3(-74.9, -97.1, 228.8),\n",
    "    add_glycans=add_glycans,\n",
    "    atom_radius_multiplier=protein_radius_multiplier,\n",
    "    representation=protein_representation\n",
    ")\n",
    "be.add_coronavirus(\n",
    "    name='Coronavirus 5', resource_folder=resource_folder,\n",
    "    position=Vector3(200.0, 20.0, -150.0), \n",
    "    rotation=Quaternion(0.0, 0.707, 0.707, 0.0),\n",
    "    add_glycans=add_glycans,\n",
    "    atom_radius_multiplier=protein_radius_multiplier,\n",
    "    representation=protein_representation\n",
    ")"
   ]
  },
  {
   "cell_type": "code",
   "execution_count": null,
   "metadata": {},
   "outputs": [],
   "source": [
    "if export_to_cache:\n",
    "    '''Show loaded models'''\n",
    "    status = be.set_models_visibility(True)\n",
    "    '''Set materials'''\n",
    "    be.apply_default_color_scheme(shading_mode=be.SHADING_MODE_BASIC)\n",
    "    '''Export to cache file'''\n",
    "    cache_filename = cache_folder + scenario + '_viruses.bioexplorer'\n",
    "    if add_rna:\n",
    "        cache_filename = cache_folder + scenario + '_open_viruses.bioexplorer'\n",
    "    print(cache_filename)\n",
    "    be.export_to_file(cache_filename)"
   ]
  },
  {
   "cell_type": "markdown",
   "metadata": {},
   "source": [
    "## Host cell"
   ]
  },
  {
   "cell_type": "code",
   "execution_count": null,
   "metadata": {
    "scrolled": true
   },
   "outputs": [],
   "source": [
    "def add_cell(\n",
    "        name, size, height, nb_receptors,\n",
    "        position=Vector3(), random_seed=1):\n",
    "    \n",
    "    ace2_receptor = Protein(\n",
    "        sources=[pdb_folder + '6m18.pdb'], occurences=nb_receptors,\n",
    "        position=Vector3(0.0, 6.0, 0.0))\n",
    "    \n",
    "    membrane = Membrane(\n",
    "        lipid_sources=[\n",
    "            membrane_folder + 'segA.pdb',\n",
    "            membrane_folder + 'segB.pdb',\n",
    "            membrane_folder + 'segC.pdb',\n",
    "            membrane_folder + 'segD.pdb'\n",
    "        ]\n",
    "    )\n",
    "\n",
    "    cell = Cell(\n",
    "        name=name, size=size, extra_parameters=[height],\n",
    "        shape=be.ASSEMBLY_SHAPE_SINUSOID, \n",
    "        membrane=membrane, receptor=ace2_receptor,\n",
    "        random_position_seed=1, random_position_strength=0.025,\n",
    "        random_rotation_seed=2, random_rotation_strength=2.0\n",
    "    )\n",
    "    \n",
    "    be.add_cell(\n",
    "        cell=cell, position=position,\n",
    "        representation=protein_representation,\n",
    "        random_seed=random_seed)\n",
    "\n",
    "    if nb_receptors != 0 and add_glycans:\n",
    "        be.add_multiple_glycans(\n",
    "            representation=glycan_representation, assembly_name=name, \n",
    "            glycan_type=be.NAME_GLYCAN_COMPLEX,\n",
    "            protein_name=be.NAME_RECEPTOR, paths=complex_paths, \n",
    "            indices=[53, 90, 103, 322, 432, 690])\n",
    "        be.add_multiple_glycans(\n",
    "            representation=glycan_representation, assembly_name=name,\n",
    "            glycan_type=be.NAME_GLYCAN_HYBRID,\n",
    "            protein_name=be.NAME_RECEPTOR, paths=hybrid_paths, \n",
    "            indices=[546])\n",
    "\n",
    "        indices = [[155, Quaternion(0.707, 0.0, 0.707, 0.0)],\n",
    "                   [730, Quaternion(0.707, 0.0, 0.707, 0.0)]]\n",
    "        for index in indices:\n",
    "            o_glycan_name = name + '_' + be.NAME_GLYCAN_O_GLYCAN + '_' + str(index[0])\n",
    "            o_glycan = Sugars(\n",
    "                assembly_name=name, name=o_glycan_name, source=o_glycan_paths[0],\n",
    "                protein_name=name + '_' + be.NAME_RECEPTOR, representation=glycan_representation,\n",
    "                chain_ids=[2, 4], site_indices=[index[0]], rotation=index[1])\n",
    "            be.add_sugars(o_glycan)"
   ]
  },
  {
   "cell_type": "code",
   "execution_count": null,
   "metadata": {},
   "outputs": [],
   "source": [
    "cell_position = Vector3(4.5, -186.0, 7.0)\n",
    "cell_height = scene_size.y / 10.0\n",
    "add_cell(\n",
    "    name='Cell', nb_receptors=cell_nb_receptors,\n",
    "    size=Vector2(scene_size.x * 2.0, scene_size.z * 2.0), height=cell_height,\n",
    "    position=cell_position, random_seed=10)"
   ]
  },
  {
   "cell_type": "code",
   "execution_count": null,
   "metadata": {},
   "outputs": [],
   "source": [
    "if export_to_cache:\n",
    "    '''Show loaded models'''\n",
    "    status = be.set_models_visibility(True)\n",
    "    '''Set materials'''\n",
    "    be.apply_default_color_scheme(shading_mode=be.SHADING_MODE_BASIC)\n",
    "    be.set_protein_color_scheme(\n",
    "        cell_name, cell_name + '_' + be.NAME_RECEPTOR,\n",
    "        be.COLOR_SCHEME_CHAINS, 'OrRd_r', 7)\n",
    "    '''Export to cache file'''\n",
    "    cache_filename = cache_folder + 'cell.bioexplorer'\n",
    "    print(cache_filename)\n",
    "    be.export_to_file(cache_filename)"
   ]
  },
  {
   "cell_type": "markdown",
   "metadata": {},
   "source": [
    "## Immune system"
   ]
  },
  {
   "cell_type": "markdown",
   "metadata": {},
   "source": [
    "### Surfactant A and D"
   ]
  },
  {
   "cell_type": "code",
   "execution_count": null,
   "metadata": {
    "scrolled": true
   },
   "outputs": [],
   "source": [
    "nglview.show_file(surfactant_head_source)"
   ]
  },
  {
   "cell_type": "code",
   "execution_count": 38,
   "metadata": {
    "scrolled": false
   },
   "outputs": [],
   "source": [
    "def add_surfactant_d(name, position, animation_params):\n",
    "    surfactant_d = Surfactant(\n",
    "        name=name, surfactant_protein=be.SURFACTANT_PROTEIN_D, \n",
    "        head_source=surfactant_head_source,\n",
    "        branch_source=surfactant_branch_source)\n",
    "    be.add_surfactant(\n",
    "        surfactant=surfactant_d, representation=protein_representation, \n",
    "        position=position, animation_params=animation_params)\n",
    "\n",
    "add_surfactant_d(\n",
    "    name='Surfactant-D 1', \n",
    "    position=Vector3(74.0,  24.0, -45.0),\n",
    "    animation_params=AnimationParams(1))\n",
    "add_surfactant_d(\n",
    "    name='Surfactant-D 2',\n",
    "    position=Vector3(-11.0,  103.0, 20.0),\n",
    "    animation_params=AnimationParams(1))\n",
    "add_surfactant_d(\n",
    "    name='Surfactant-D 3',\n",
    "    position=Vector3(-165.0, 140.0, 105.0),\n",
    "    animation_params=AnimationParams(1))\n",
    "add_surfactant_d(\n",
    "    name='Surfactant-D 4',\n",
    "    position=Vector3(-260.0,  50.0, 150.0),\n",
    "    animation_params=AnimationParams(2))"
   ]
  },
  {
   "cell_type": "code",
   "execution_count": 39,
   "metadata": {
    "scrolled": false
   },
   "outputs": [
    {
     "ename": "TypeError",
     "evalue": "add_surfactant() got an unexpected keyword argument 'random_seed'",
     "output_type": "error",
     "traceback": [
      "\u001b[0;31m---------------------------------------------------------------------------\u001b[0m",
      "\u001b[0;31mTypeError\u001b[0m                                 Traceback (most recent call last)",
      "\u001b[0;32m<ipython-input-39-479b9dd4e734>\u001b[0m in \u001b[0;36m<module>\u001b[0;34m\u001b[0m\n\u001b[1;32m      8\u001b[0m         position=position, random_seed=random_seed)\n\u001b[1;32m      9\u001b[0m \u001b[0;34m\u001b[0m\u001b[0m\n\u001b[0;32m---> 10\u001b[0;31m add_surfactant_a(\n\u001b[0m\u001b[1;32m     11\u001b[0m     \u001b[0mname\u001b[0m\u001b[0;34m=\u001b[0m\u001b[0;34m'Surfactant-A 1'\u001b[0m\u001b[0;34m,\u001b[0m\u001b[0;34m\u001b[0m\u001b[0;34m\u001b[0m\u001b[0m\n\u001b[1;32m     12\u001b[0m     \u001b[0mposition\u001b[0m\u001b[0;34m=\u001b[0m\u001b[0mVector3\u001b[0m\u001b[0;34m(\u001b[0m\u001b[0;36m200.0\u001b[0m\u001b[0;34m,\u001b[0m  \u001b[0;36m50.0\u001b[0m\u001b[0;34m,\u001b[0m \u001b[0;36m150.0\u001b[0m\u001b[0;34m)\u001b[0m\u001b[0;34m,\u001b[0m\u001b[0;34m\u001b[0m\u001b[0;34m\u001b[0m\u001b[0m\n",
      "\u001b[0;32m<ipython-input-39-479b9dd4e734>\u001b[0m in \u001b[0;36madd_surfactant_a\u001b[0;34m(name, position, random_seed)\u001b[0m\n\u001b[1;32m      4\u001b[0m         \u001b[0mhead_source\u001b[0m\u001b[0;34m=\u001b[0m\u001b[0msurfactant_head_source\u001b[0m\u001b[0;34m,\u001b[0m\u001b[0;34m\u001b[0m\u001b[0;34m\u001b[0m\u001b[0m\n\u001b[1;32m      5\u001b[0m         branch_source=surfactant_branch_source)\n\u001b[0;32m----> 6\u001b[0;31m     be.add_surfactant(\n\u001b[0m\u001b[1;32m      7\u001b[0m         \u001b[0msurfactant\u001b[0m\u001b[0;34m=\u001b[0m\u001b[0msurfactant_a\u001b[0m\u001b[0;34m,\u001b[0m \u001b[0mrepresentation\u001b[0m\u001b[0;34m=\u001b[0m\u001b[0mprotein_representation\u001b[0m\u001b[0;34m,\u001b[0m\u001b[0;34m\u001b[0m\u001b[0;34m\u001b[0m\u001b[0m\n\u001b[1;32m      8\u001b[0m         position=position, random_seed=random_seed)\n",
      "\u001b[0;31mTypeError\u001b[0m: add_surfactant() got an unexpected keyword argument 'random_seed'"
     ]
    }
   ],
   "source": [
    "def add_surfactant_a(name, position, random_seed):\n",
    "    surfactant_a = Surfactant(\n",
    "        name=name, surfactant_protein=be.SURFACTANT_PROTEIN_A, \n",
    "        head_source=surfactant_head_source,\n",
    "        branch_source=surfactant_branch_source)\n",
    "    be.add_surfactant(\n",
    "        surfactant=surfactant_a, representation=protein_representation, \n",
    "        position=position, random_seed=random_seed)\n",
    "\n",
    "add_surfactant_a(\n",
    "    name='Surfactant-A 1', \n",
    "    position=Vector3(200.0,  50.0, 150.0),\n",
    "    random_seed=2)"
   ]
  },
  {
   "cell_type": "markdown",
   "metadata": {},
   "source": [
    "### Glucose"
   ]
  },
  {
   "cell_type": "code",
   "execution_count": null,
   "metadata": {},
   "outputs": [],
   "source": [
    "nglview.show_file(glucose_path)"
   ]
  },
  {
   "cell_type": "code",
   "execution_count": null,
   "metadata": {
    "scrolled": true
   },
   "outputs": [],
   "source": [
    "glucose = Protein(\n",
    "    sources=[glucose_path], load_non_polymer_chemicals=True, \n",
    "    occurences=nb_glucoses)\n",
    "volume = Volume(\n",
    "    name=be.NAME_GLUCOSE, size=scene_size, protein=glucose)\n",
    "status = be.add_volume(\n",
    "    volume=volume, representation=protein_representation,\n",
    "    position=Vector3(0.0, scene_size / 2.0 - 200.0, 0.0))"
   ]
  },
  {
   "cell_type": "markdown",
   "metadata": {},
   "source": [
    "### Lactoferrins"
   ]
  },
  {
   "cell_type": "code",
   "execution_count": null,
   "metadata": {},
   "outputs": [],
   "source": [
    "nglview.show_file(lactoferrin_path)"
   ]
  },
  {
   "cell_type": "code",
   "execution_count": null,
   "metadata": {
    "scrolled": true
   },
   "outputs": [],
   "source": [
    "lactoferrin = Protein(\n",
    "    sources=[lactoferrin_path], load_non_polymer_chemicals=True,\n",
    "    occurences=nb_lactoferrins)\n",
    "lactoferrins_volume = Volume(\n",
    "    name=be.NAME_LACTOFERRIN, size=scene_size, protein=lactoferrin)\n",
    "status = be.add_volume(\n",
    "    volume=lactoferrins_volume, representation=protein_representation,\n",
    "    position=Vector3(0.0, scene_size / 2.0 - 200.0, 0.0),\n",
    "    random_seed=2)"
   ]
  },
  {
   "cell_type": "markdown",
   "metadata": {},
   "source": [
    "### Defensins"
   ]
  },
  {
   "cell_type": "code",
   "execution_count": null,
   "metadata": {},
   "outputs": [],
   "source": [
    "nglview.show_file(defensin_path)"
   ]
  },
  {
   "cell_type": "code",
   "execution_count": null,
   "metadata": {
    "scrolled": true
   },
   "outputs": [],
   "source": [
    "defensin = Protein(\n",
    "    sources=[defensin_path], load_non_polymer_chemicals=True, \n",
    "    occurences=nb_defensins)\n",
    "defensins_volume = Volume(\n",
    "    name=be.NAME_DEFENSIN, size=scene_size, protein=defensin)\n",
    "status = be.add_volume(\n",
    "    volume=defensins_volume, representation=protein_representation,\n",
    "    position=Vector3(0.0, scene_size / 2.0 - 200.0, 0.0),\n",
    "    random_seed=3)"
   ]
  },
  {
   "cell_type": "markdown",
   "metadata": {},
   "source": [
    "### Lymphocyte"
   ]
  },
  {
   "cell_type": "code",
   "execution_count": null,
   "metadata": {
    "scrolled": true
   },
   "outputs": [],
   "source": [
    "name = 'Emile'\n",
    "protein_sources = [\n",
    "    membrane_folder + 'segA.pdb',\n",
    "    membrane_folder + 'segB.pdb',\n",
    "    membrane_folder + 'segC.pdb',\n",
    "    membrane_folder + 'segD.pdb'\n",
    "]\n",
    "\n",
    "clip_planes = [\n",
    "    [1.0, 0.0, 0.0, scene_size.x / 1.5 + 5],\n",
    "    [-1.0, 0.0, 0.0, scene_size.x / 2.0 + 5],\n",
    "    [0.0, 1.0, 0.0, 250.0],\n",
    "    [0.0, -1.0, 0.0, 550.0]\n",
    "]\n",
    "\n",
    "mesh_source = obj_folder + 'clipped_lymphocyte.obj'\n",
    "\n",
    "position = Vector3(-1430.0, 100.0, 30.0)\n",
    "rotation = Quaternion(0.707, 0.707, 0.0, 0.0)\n",
    "scale = Vector3(1.0, 1.0, 1.0)\n",
    "\n",
    "mesh_based_membrane = Membrane(\n",
    "    mesh_source=mesh_source, protein_sources=protein_sources, \n",
    "    density=5.0, surface_variable_offset=5.0)\n",
    "\n",
    "status = be.add_mesh_based_membrane(\n",
    "    name, mesh_based_membrane, position=position,\n",
    "    rotation=rotation, scale=scale, clipping_planes=clip_planes)\n",
    "\n",
    "for i in range(len(protein_sources)):\n",
    "    status = be.set_protein_color_scheme(\n",
    "        assembly_name=name, name=be.NAME_MEMBRANE + '_' + str(i),\n",
    "        color_scheme=be.COLOR_SCHEME_CHAINS,\n",
    "        palette_name='OrRd', palette_size=5)"
   ]
  },
  {
   "cell_type": "markdown",
   "metadata": {},
   "source": [
    "### Materials"
   ]
  },
  {
   "cell_type": "code",
   "execution_count": null,
   "metadata": {},
   "outputs": [],
   "source": [
    "be.apply_default_color_scheme(\n",
    "    shading_mode=be.SHADING_MODE_DIFFUSE,\n",
    "    specular_exponent=50)"
   ]
  },
  {
   "cell_type": "code",
   "execution_count": null,
   "metadata": {},
   "outputs": [],
   "source": [
    "'''Show loaded models'''\n",
    "status = be.set_models_visibility(True)"
   ]
  },
  {
   "cell_type": "code",
   "execution_count": null,
   "metadata": {},
   "outputs": [],
   "source": [
    "if export_to_cache:\n",
    "    '''Export to cache file'''\n",
    "    cache_filename = cache_folder + scenario + '_immune.bioexplorer'\n",
    "    print(cache_filename)\n",
    "    be.export_to_file(cache_filename)"
   ]
  },
  {
   "cell_type": "markdown",
   "metadata": {},
   "source": [
    "## Export full scene to cache file"
   ]
  },
  {
   "cell_type": "code",
   "execution_count": null,
   "metadata": {},
   "outputs": [],
   "source": [
    "if export_to_cache:\n",
    "    cache_filename = cache_folder + scenario + '_scenario.bioexplorer'\n",
    "    print(cache_filename)\n",
    "    be.export_to_file(cache_filename)"
   ]
  },
  {
   "cell_type": "markdown",
   "metadata": {},
   "source": [
    "## Rendering settings"
   ]
  },
  {
   "cell_type": "code",
   "execution_count": null,
   "metadata": {
    "scrolled": true
   },
   "outputs": [],
   "source": [
    "status = be.set_rendering_quality(be.RENDERING_QUALITY_HIGH)"
   ]
  }
 ],
 "metadata": {
  "kernelspec": {
   "display_name": "Python 3",
   "language": "python",
   "name": "python3"
  },
  "language_info": {
   "codemirror_mode": {
    "name": "ipython",
    "version": 3
   },
   "file_extension": ".py",
   "mimetype": "text/x-python",
   "name": "python",
   "nbconvert_exporter": "python",
   "pygments_lexer": "ipython3",
   "version": "3.8.10"
  }
 },
 "nbformat": 4,
 "nbformat_minor": 2
}
