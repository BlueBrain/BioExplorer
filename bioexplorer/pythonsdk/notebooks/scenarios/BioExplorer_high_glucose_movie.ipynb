{
 "cells": [
  {
   "cell_type": "markdown",
   "metadata": {},
   "source": [
    "# Blue Brain BioExplorer\n",
    "![](../bioexplorer_banner.png)"
   ]
  },
  {
   "cell_type": "code",
   "execution_count": null,
   "metadata": {},
   "outputs": [],
   "source": [
    "from bioexplorer import BioExplorer, RNASequence, Protein, AssemblyProtein, Virus, Surfactant, Membrane, Cell, Sugars, \\\n",
    "    Volume, Mesh, Vector2, Vector3, Quaternion\n",
    "from braynsmediamaker import MovieMaker\n",
    "import os\n",
    "\n",
    "hostname = 'localhost:5000'\n",
    "resource_folder = '../../tests/test_files/'\n",
    "    \n",
    "be = BioExplorer(hostname)\n",
    "core = be.core_api()\n",
    "mm = MovieMaker(core)\n",
    "be.reset()\n",
    "bio_explorer_version = be.version()\n",
    "print('BioExplorer version ' +  bio_explorer_version)\n",
    "\n",
    "sequence_name = 'high_glucose'"
   ]
  },
  {
   "cell_type": "code",
   "execution_count": null,
   "metadata": {},
   "outputs": [],
   "source": [
    "cache_folder = resource_folder + 'caches/' + bio_explorer_version + '/'\n",
    "print(cache_folder)"
   ]
  },
  {
   "cell_type": "code",
   "execution_count": null,
   "metadata": {},
   "outputs": [],
   "source": [
    "cache_filename = cache_folder + sequence_name + '_scenario.bioexplorer'\n",
    "print('Loading ' + cache_filename)\n",
    "dummy = core.add_model(cache_filename)"
   ]
  },
  {
   "cell_type": "code",
   "execution_count": null,
   "metadata": {},
   "outputs": [],
   "source": [
    "nb_models = len(core.scene.models)\n",
    "if nb_models != 174:\n",
    "    print('ERROR: Not all models have been loaded!!! Expected 174, found ' + str(nb_models))\n",
    "else:\n",
    "    print('All good!')"
   ]
  },
  {
   "cell_type": "markdown",
   "metadata": {},
   "source": [
    "## Rendering settings"
   ]
  },
  {
   "cell_type": "code",
   "execution_count": null,
   "metadata": {},
   "outputs": [],
   "source": [
    "status = core.set_renderer(\n",
    "    background_color=[96 / 255, 125 / 255, 139 / 255],\n",
    "    current='bio_explorer',\n",
    "    samples_per_pixel=1, subsampling=4, max_accum_frames=64)\n",
    "params = core.BioExplorerRendererParams()\n",
    "params.gi_samples = 1\n",
    "params.gi_weight = 0.4\n",
    "params.gi_distance = 100\n",
    "params.shadows = 0.8\n",
    "params.soft_shadows = 1.0\n",
    "params.soft_shadows_samples = 1\n",
    "params.fog_start = 1300\n",
    "params.fog_thickness = 1300\n",
    "params.max_bounces = 1\n",
    "status = core.set_renderer_params(params)"
   ]
  },
  {
   "cell_type": "markdown",
   "metadata": {},
   "source": [
    "## Snapshots"
   ]
  },
  {
   "cell_type": "code",
   "execution_count": null,
   "metadata": {},
   "outputs": [],
   "source": [
    "k = 1\n",
    "image_size = [k*960,k*540]\n",
    "image_spp = 16 # 64\n",
    "image_format = 'png'\n",
    "aperture_multiplier = 0.0\n",
    "\n",
    "dof = ''\n",
    "if aperture_multiplier != 0.0:\n",
    "    dof = 'dof_'\n",
    "    image_format='jpg'\n",
    "\n",
    "core.set_camera(current='bio_explorer_perspective')\n",
    "output_folder = resource_folder + 'movies/frames/' + \\\n",
    "    bio_explorer_version + '/' + sequence_name + '/'\n",
    "output_suffix = '_' + dof + str(image_size[0]) + 'x' + \\\n",
    "    str(image_size[1]) + '_' + str(image_spp) + 'spp.png'\n",
    "\n",
    "command_line='mkdir -p ' + output_folder\n",
    "os.system(command_line)\n",
    "command_line='ls ' + output_folder\n",
    "if os.system(command_line) != 0:\n",
    "    print('ERROR: Failed to create output folder')\n",
    "\n",
    "\n",
    "print(output_folder)\n",
    "print(output_suffix)"
   ]
  },
  {
   "cell_type": "code",
   "execution_count": null,
   "metadata": {},
   "outputs": [],
   "source": [
    "''' cell Membrane '''\n",
    "mm.set_camera(\n",
    "    direction = [-1.0, 0.0, 0.0],\n",
    "    origin = [0.0, -160, 100],\n",
    "    up = [0.0, 1.0, 0.0]\n",
    ")"
   ]
  },
  {
   "cell_type": "code",
   "execution_count": null,
   "metadata": {},
   "outputs": [],
   "source": [
    "mm.create_snapshot(\n",
    "    size=image_size,\n",
    "    path=output_folder + 'cell_membrane' + output_suffix,\n",
    "    samples_per_pixel=image_spp, exportIntermediateFrames=False)"
   ]
  },
  {
   "cell_type": "code",
   "execution_count": null,
   "metadata": {},
   "outputs": [],
   "source": [
    "''' SP-D '''\n",
    "mm.set_camera(\n",
    "    direction = [0.2770886615454376, -0.04995182322298369, -0.9595450427153785],\n",
    "    origin = [38.7494418885782, 35.22884264232454, 5.536177330103954],\n",
    "    up = [0.0, 1.0, 0.0]\n",
    ")"
   ]
  },
  {
   "cell_type": "code",
   "execution_count": null,
   "metadata": {},
   "outputs": [],
   "source": [
    "mm.create_snapshot(\n",
    "    size=image_size,\n",
    "    path=output_folder + 'surfactant' + output_suffix,\n",
    "    samples_per_pixel=image_spp, exportIntermediateFrames=False)"
   ]
  },
  {
   "cell_type": "code",
   "execution_count": null,
   "metadata": {},
   "outputs": [],
   "source": [
    "''' Free virus '''\n",
    "mm.set_camera(\n",
    "    direction = [0.009773650870842058, 0.055637689937490555, -0.9984031866971752],\n",
    "    origin = [-0.8326505846645085, 72.13442718359964, 387.3897531301451],\n",
    "    up = [0.017212981116998226, 0.9982935759877467, 0.05580008443239925]\n",
    ")"
   ]
  },
  {
   "cell_type": "code",
   "execution_count": null,
   "metadata": {},
   "outputs": [],
   "source": [
    "mm.create_snapshot(\n",
    "    size=image_size,\n",
    "    path=output_folder + 'virus' + output_suffix,\n",
    "    samples_per_pixel=image_spp, exportIntermediateFrames=False)"
   ]
  },
  {
   "cell_type": "code",
   "execution_count": null,
   "metadata": {},
   "outputs": [],
   "source": [
    "''' Overview '''\n",
    "mm.set_camera(\n",
    "    direction = [0.009773650870841987, 0.05563768993749014, -0.9984031866971752],\n",
    "    origin = [0.29305853014576577, 19.60498668197603, 1000],\n",
    "    up = [0.017212981116998243, 0.9982935759877467, 0.05580008443239883]\n",
    ")"
   ]
  },
  {
   "cell_type": "code",
   "execution_count": null,
   "metadata": {},
   "outputs": [],
   "source": [
    "mm.create_snapshot(\n",
    "    size=image_size,\n",
    "    path=output_folder + 'overview' + output_suffix,\n",
    "    samples_per_pixel=image_spp, exportIntermediateFrames=False)"
   ]
  },
  {
   "cell_type": "code",
   "execution_count": null,
   "metadata": {},
   "outputs": [],
   "source": [
    "''' ACE2 '''\n",
    "mm.set_camera(\n",
    "    direction = [-0.4365199442418908, 0.03554363772287596, -0.8989922069164346],\n",
    "    origin = [-33.61946214026145, -164.99475086029258, 276.2964434721691],\n",
    "    up = [0.011846426093105263, 0.9993597684843256, 0.0337596700780046]\n",
    ")"
   ]
  },
  {
   "cell_type": "code",
   "execution_count": null,
   "metadata": {},
   "outputs": [],
   "source": [
    "mm.create_snapshot(\n",
    "    size=image_size,\n",
    "    path=output_folder + 'receptor' + output_suffix,\n",
    "    samples_per_pixel=image_spp, exportIntermediateFrames=False)"
   ]
  },
  {
   "cell_type": "markdown",
   "metadata": {},
   "source": [
    "## Movie"
   ]
  },
  {
   "cell_type": "code",
   "execution_count": null,
   "metadata": {},
   "outputs": [],
   "source": [
    "aperture_ratio = 1.0\n",
    "cameras_key_frames = [\n",
    "    { # Membrane\n",
    "        'apertureRadius': aperture_ratio * 0.0,\n",
    "        'focusDistance': 1.0,\n",
    "        'direction': [-1.0, 0.0, 0.0],\n",
    "        'origin': [150.0, -160, 100],\n",
    "        'up': [0.0, 1.0, 0.0]\n",
    "    }, {\n",
    "        'apertureRadius': aperture_ratio * 0.0,\n",
    "        'focusDistance': 0,\n",
    "        'direction' : [0.0, 0.0, -1.0],\n",
    "        'origin' : [-67.50187015986188, -17.451725973217318, 254.7864132747232],\n",
    "        'up' : [0.0, 1.0, 0.0]\n",
    "    }, { # Surfactant Head\n",
    "        'apertureRadius': aperture_ratio * 0.01,\n",
    "        'focusDistance': 30,\n",
    "        'direction' : [0.2763875424199295, -0.049669258261647656, -0.959761892960337],\n",
    "        'origin' : [38.7494418885782, 35.22884264232454, 5.536177330103954],\n",
    "        'up' : [0.0, 1.0, 0.0]\n",
    "    }, { # Virus overview\n",
    "        'apertureRadius': aperture_ratio * 0.0,\n",
    "        'focusDistance': 349.75,\n",
    "        'direction' : [0.009773650870842058, 0.055637689937490555, -0.9984031866971752],\n",
    "        'origin' : [-0.8326505846645085, 72.13442718359964, 387.3897531301451],\n",
    "        'up' : [0.017212981116998226, 0.9982935759877467, 0.05580008443239925]\n",
    "    }, { # ACE2\n",
    "        'apertureRadius': aperture_ratio * 0.01,\n",
    "        'focusDistance': 45.31,\n",
    "        'direction' : [-0.4365199442418908, 0.03554363772287596, -0.8989922069164346],\n",
    "        'origin' : [-33.61946214026145, -164.99475086029258, 276.2964434721691],\n",
    "        'up' : [0.011846426093105263, 0.9993597684843256, 0.0337596700780046]\n",
    "    }, { # Membrane overview\n",
    "        'apertureRadius': aperture_ratio * 0.0,\n",
    "        'focusDistance': 60,\n",
    "        'direction' : [0.009773650870841987, 0.05563768993749014, -0.9984031866971752],\n",
    "        'origin' : [0.29305853014576577, 19.60498668197603, 1000],\n",
    "        'up' : [0.017212981116998243, 0.9982935759877467, 0.05580008443239883]\n",
    "    }\n",
    "]"
   ]
  },
  {
   "cell_type": "code",
   "execution_count": null,
   "metadata": {},
   "outputs": [],
   "source": [
    "key_frames = list()\n",
    "for cameras_key_frame in cameras_key_frames:\n",
    "    key_frames.append(cameras_key_frame)\n",
    "    key_frames.append(cameras_key_frame)"
   ]
  },
  {
   "cell_type": "code",
   "execution_count": null,
   "metadata": {},
   "outputs": [],
   "source": [
    "def render(projection, k, samples_per_pixel, start_frame=0, end_frame=0):\n",
    "    import os\n",
    "    from braynsmediamaker import MovieMaker\n",
    "\n",
    "    nb_frames = core.get_animation_parameters()['frame_count']\n",
    "    export_folder = output_folder + 'sequences/' + projection + '/'\n",
    "\n",
    "    end_frame=nb_frames\n",
    "    frame_step=1\n",
    "    aperture_ratio=0.0\n",
    "\n",
    "    output_size = list()\n",
    "    if projection=='perspective':\n",
    "        aperture_ratio = 1.0\n",
    "        output_size = [int(k*960),int(k*540)]\n",
    "        core.set_camera(current='bio_explorer_perspective')\n",
    "    elif projection=='fisheye':\n",
    "        output_size = [int(k*1024),int(k*1024)]\n",
    "        core.set_camera(current='fisheye')\n",
    "    elif projection=='panoramic':\n",
    "        output_size = [int(k*1024),int(k*1024)]\n",
    "        core.set_camera(current='panoramic')\n",
    "    elif projection=='opendeck':\n",
    "        output_size = [7*2160,3840]\n",
    "        core.set_camera(current='cylindric')\n",
    "\n",
    "    print('Rendering <' + sequence_name + '> sequence in <' + projection + '> projection ' + str(output_size))\n",
    "    print(str(samples_per_pixel) + ' samples per pixel')\n",
    "    print(export_folder)\n",
    "\n",
    "    command_line='mkdir -p ' + export_folder\n",
    "    os.system(command_line)\n",
    "    command_line='ls ' + export_folder\n",
    "    if os.system(command_line) != 0:\n",
    "        print('ERROR: Failed to create output folder')\n",
    "        \n",
    "    size = core.get_application_parameters()['viewport']\n",
    "    core.set_renderer(samples_per_pixel=1, max_accum_frames=samples_per_pixel)\n",
    "    core.set_application_parameters(viewport=output_size)\n",
    "    core.set_application_parameters(image_stream_fps=0)\n",
    "\n",
    "    print('exporting...')\n",
    "    \n",
    "    mm.export_frames(\n",
    "        path=export_folder, size=output_size,\n",
    "        samples_per_pixel=samples_per_pixel-1,\n",
    "        start_frame=start_frame, end_frame=end_frame\n",
    "    )\n",
    "    \n",
    "    while mm.get_export_frames_progress()['progress'] < 1.0:\n",
    "        import time\n",
    "        time.sleep(1)\n",
    "        \n",
    "    mm.cancel_frames_export()"
   ]
  },
  {
   "cell_type": "code",
   "execution_count": null,
   "metadata": {},
   "outputs": [],
   "source": [
    "mm.build_camera_path(key_frames, 250, 150)"
   ]
  },
  {
   "cell_type": "code",
   "execution_count": null,
   "metadata": {},
   "outputs": [],
   "source": [
    "mm.set_current_frame(0)"
   ]
  },
  {
   "cell_type": "code",
   "execution_count": null,
   "metadata": {
    "scrolled": true
   },
   "outputs": [],
   "source": [
    "render('perspective', 'production', 4, 64)"
   ]
  },
  {
   "cell_type": "markdown",
   "metadata": {},
   "source": [
    "## Fields"
   ]
  },
  {
   "cell_type": "code",
   "execution_count": null,
   "metadata": {},
   "outputs": [],
   "source": [
    "planes = core.get_clip_planes()\n",
    "if planes:\n",
    "    plane_ids = list()\n",
    "    for plane in planes:\n",
    "        plane_ids.append(plane['id'])\n",
    "    core.remove_clip_planes(plane_ids)\n",
    "    \n",
    "core.add_clip_plane([0,0,1,-220])\n",
    "core.add_clip_plane([0,0,-1,300])\n",
    "core.add_clip_plane([1,0,0,120])\n",
    "core.add_clip_plane([-1,0,0,0])\n",
    "core.add_clip_plane([0,1,0,200])\n",
    "core.add_clip_plane([0,-1,0,-130])"
   ]
  },
  {
   "cell_type": "code",
   "execution_count": null,
   "metadata": {},
   "outputs": [],
   "source": [
    "status = be.build_fields(voxel_size=0.25)\n",
    "fields_model_id = core.scene.models[len(core.scene.models)-1]['id']"
   ]
  },
  {
   "cell_type": "code",
   "execution_count": null,
   "metadata": {},
   "outputs": [],
   "source": [
    "image_size = [3840, 2160]\n",
    "image_samples_per_pixel = 1\n",
    "\n",
    "output_folder = '/tmp/'\n",
    "colormap_folder = resource_folder + 'colormap/'"
   ]
  },
  {
   "cell_type": "code",
   "execution_count": null,
   "metadata": {},
   "outputs": [],
   "source": [
    "core.set_renderer(\n",
    "    current='bio_explorer_fields',\n",
    "    samples_per_pixel=1, subsampling=8, max_accum_frames=image_samples_per_pixel)\n",
    "\n",
    "params = core.BioExplorerFieldsRendererParams()\n",
    "params.cutoff = 5000\n",
    "params.exposure = 3.0\n",
    "params.alpha_correction = 0.1\n",
    "params.nb_ray_steps = 16\n",
    "params.nb_ray_refinement_steps = image_samples_per_pixel\n",
    "params.use_hardware_randomizer = True\n",
    "status = core.set_renderer_params(params)"
   ]
  },
  {
   "cell_type": "markdown",
   "metadata": {},
   "source": [
    "### Transfer function"
   ]
  },
  {
   "cell_type": "code",
   "execution_count": null,
   "metadata": {},
   "outputs": [],
   "source": [
    "from ipyTransferFunction import TransferFunctionEditor\n",
    "def hex_to_rgb(value):\n",
    "    value = value.lstrip('#')\n",
    "    lv = len(value)\n",
    "    return tuple(int(value[i:i + lv // 3], 16) for i in range(0, lv, lv // 3))\n",
    "\n",
    "def update_palette(tf):\n",
    "    intensity = 1\n",
    "    btf = core.get_model_transfer_function(id=fields_model_id)\n",
    "    colors = list()\n",
    "    points = list()\n",
    "    \n",
    "    nb_points = len(tf.alpha_sliders)\n",
    "    step = 1.0 / float(nb_points - 1)\n",
    "    for i in range(nb_points):\n",
    "        color = hex_to_rgb(tf.color_pickers[i].value)\n",
    "        colors.append([\n",
    "            intensity * float(color[0]) / 256.0, \n",
    "            intensity * float(color[1]) / 256.0, \n",
    "            intensity * float(color[2]) / 256.0])\n",
    "        points.append([i * step, tf.alpha_sliders[i].value / 255.0])\n",
    "        \n",
    "    btf['colormap']['name'] = 'TransferFunctionEditor'\n",
    "    btf['colormap']['colors'] = colors\n",
    "    btf['opacity_curve'] = points\n",
    "    btf['range'] = [tf.data_range[0], tf.data_range[1]]\n",
    "    core.set_model_transfer_function(id=fields_model_id, transfer_function=btf)"
   ]
  },
  {
   "cell_type": "code",
   "execution_count": null,
   "metadata": {},
   "outputs": [],
   "source": [
    "tf = TransferFunctionEditor(\n",
    "    filename=colormap_folder + 'spike_v1.1dt',\n",
    "    on_change=update_palette)\n",
    "tf.set_range((0, 10))"
   ]
  },
  {
   "cell_type": "markdown",
   "metadata": {},
   "source": [
    "### Export field data to file"
   ]
  },
  {
   "cell_type": "code",
   "execution_count": null,
   "metadata": {},
   "outputs": [],
   "source": [
    "be = BioExplorer(hostname)\n",
    "core = be.core_api()\n",
    "fields_model_id = core.scene.models[len(core.scene.models)-1]['id']\n",
    "filename = cache_folder + 'spike_on_ace2.fields'\n",
    "print(filename)\n",
    "be.export_fields_to_file(\n",
    "    model_id=fields_model_id,\n",
    "    filename=filename)"
   ]
  }
 ],
 "metadata": {
  "kernelspec": {
   "display_name": "Python 3",
   "language": "python",
   "name": "python3"
  },
  "language_info": {
   "codemirror_mode": {
    "name": "ipython",
    "version": 3
   },
   "file_extension": ".py",
   "mimetype": "text/x-python",
   "name": "python",
   "nbconvert_exporter": "python",
   "pygments_lexer": "ipython3",
   "version": "3.8.5"
  }
 },
 "nbformat": 4,
 "nbformat_minor": 2
}
