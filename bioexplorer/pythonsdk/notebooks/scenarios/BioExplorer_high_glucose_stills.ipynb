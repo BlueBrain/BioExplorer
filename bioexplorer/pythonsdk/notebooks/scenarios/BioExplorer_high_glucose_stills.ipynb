{
 "cells": [
  {
   "cell_type": "markdown",
   "metadata": {},
   "source": [
    "# Blue Brain BioExplorer\n",
    "![](../bioexplorer_banner.png)"
   ]
  },
  {
   "cell_type": "code",
   "execution_count": null,
   "metadata": {},
   "outputs": [],
   "source": [
    "from bioexplorer import BioExplorer\n",
    "from mediamaker import MovieMaker\n",
    "import os\n",
    "\n",
    "sequence_name = 'high_glucose'\n",
    "\n",
    "hostname = 'localhost:5000'\n",
    "resource_folder = '../../tests/test_files/'\n",
    "    \n",
    "be = BioExplorer(hostname)\n",
    "core = be.core_api()\n",
    "mm = MovieMaker(core)\n",
    "bio_explorer_version = be.version()\n",
    "print(bio_explorer_version)\n",
    "be.reset()\n",
    "\n",
    "output_folder = resource_folder + '/movies/frames/' + \\\n",
    "    bio_explorer_version + '/' + sequence_name + '/stills/'\n",
    "print(output_folder)"
   ]
  },
  {
   "cell_type": "markdown",
   "metadata": {},
   "source": [
    "## Data loading"
   ]
  },
  {
   "cell_type": "code",
   "execution_count": null,
   "metadata": {},
   "outputs": [],
   "source": [
    "cache_folder = resource_folder + 'caches/' + bio_explorer_version + '/'\n",
    "print(cache_folder)"
   ]
  },
  {
   "cell_type": "code",
   "execution_count": null,
   "metadata": {},
   "outputs": [],
   "source": [
    "cache_filename = cache_folder + sequence_name + '_scenario.bioexplorer'\n",
    "print('Loading ' + cache_filename)\n",
    "dummy = core.add_model(cache_filename)"
   ]
  },
  {
   "cell_type": "code",
   "execution_count": null,
   "metadata": {},
   "outputs": [],
   "source": [
    "nb_models = len(core.scene.models)\n",
    "if nb_models != 174:\n",
    "    print('ERROR: Not all models have been loaded!!! Expected 174, found ' + str(nb_models))\n",
    "else:\n",
    "    print('All good!')"
   ]
  },
  {
   "cell_type": "markdown",
   "metadata": {},
   "source": [
    "## Rendering settings"
   ]
  },
  {
   "cell_type": "code",
   "execution_count": null,
   "metadata": {},
   "outputs": [],
   "source": [
    "status = core.set_renderer(\n",
    "    background_color=[96 / 255, 125 / 255, 139 / 255],\n",
    "    current='bio_explorer',\n",
    "    samples_per_pixel=1, subsampling=4, max_accum_frames=64)\n",
    "params = core.BioExplorerRendererParams()\n",
    "params.gi_samples = 3\n",
    "params.gi_weight = 0.6\n",
    "params.gi_distance = 100\n",
    "params.shadows = 0.8\n",
    "params.soft_shadows = 1.0\n",
    "params.soft_shadows_samples = 1\n",
    "params.fog_start = 1300\n",
    "params.fog_thickness = 1300\n",
    "params.max_bounces = 1\n",
    "status = core.set_renderer_params(params)"
   ]
  },
  {
   "cell_type": "markdown",
   "metadata": {},
   "source": [
    "## Image settings"
   ]
  },
  {
   "cell_type": "code",
   "execution_count": null,
   "metadata": {},
   "outputs": [],
   "source": [
    "image_size = [3840, 2160]\n",
    "image_samples_per_pixel = 64\n",
    "\n",
    "command_line='mkdir -p ' + output_folder\n",
    "os.system(command_line)\n",
    "command_line='ls ' + output_folder\n",
    "print(output_folder)\n",
    "if os.system(command_line) != 0:\n",
    "    print('ERROR: Failed to create output folder')"
   ]
  },
  {
   "cell_type": "markdown",
   "metadata": {},
   "source": [
    "## Snapshot"
   ]
  },
  {
   "cell_type": "code",
   "execution_count": null,
   "metadata": {},
   "outputs": [],
   "source": [
    "def set_all_materials_to_grey():\n",
    "    for model in core.scene.models:\n",
    "        model_id = model['id']\n",
    "        model_name = model['name']\n",
    "\n",
    "        material_ids = be.get_material_ids(model_id)['ids']\n",
    "        nb_materials = len(material_ids)\n",
    "        palette = list()\n",
    "        for p in range(nb_materials):\n",
    "            palette.append([0.25,0.25,0.25])\n",
    "        be.set_materials(\n",
    "            model_ids=[model_id], material_ids=material_ids, \n",
    "            diffuse_colors=palette, specular_colors=palette)"
   ]
  },
  {
   "cell_type": "code",
   "execution_count": null,
   "metadata": {},
   "outputs": [],
   "source": [
    "def apply_glucose_colors():\n",
    "    import seaborn as sns\n",
    "    shading_mode = be.SHADING_MODE_BASIC\n",
    "    specular_exponent = 50\n",
    "    for model in core.scene.models:\n",
    "        model_id = model['id']\n",
    "        model_name = model['name']\n",
    "\n",
    "        material_ids = be.get_material_ids(model_id)['ids']\n",
    "        nb_materials = len(material_ids)\n",
    "\n",
    "        if be.NAME_GLUCOSE in model_name and 'Surfactant' in model_name:\n",
    "            print(model_name)\n",
    "            palette = sns.color_palette('OrRd', nb_materials)\n",
    "            be.set_materials_from_palette(\n",
    "                shading_mode=shading_mode, specular_exponent=specular_exponent,\n",
    "                model_ids=[model_id], material_ids=material_ids, palette=palette)\n",
    "        if be.NAME_LACTOFERRIN in model_name or \\\n",
    "           be.NAME_SURFACTANT_HEAD in model_name or \\\n",
    "           be.NAME_DEFENSIN in model_name:\n",
    "            print(model_name)\n",
    "            palette = list()\n",
    "            for p in range(nb_materials):\n",
    "                palette.append([0.25,0.25,0.25])\n",
    "            be.set_materials_from_palette(\n",
    "                shading_mode=shading_mode, specular_exponent=specular_exponent,\n",
    "                model_ids=[model_id], material_ids=material_ids,\n",
    "                palette=palette)\n"
   ]
  },
  {
   "cell_type": "markdown",
   "metadata": {},
   "source": [
    "### Frame 1100 - Surfactant head"
   ]
  },
  {
   "cell_type": "code",
   "execution_count": null,
   "metadata": {
    "scrolled": false
   },
   "outputs": [],
   "source": [
    "status = core.set_camera(\n",
    "    orientation=[-0.02459763421881927, -0.1396917585193262, -0.003471202998622925, 0.9898833869412891],\n",
    "    position=[38.74944305419922, 35.228843688964844, 5.536177158355713],\n",
    "    target=[39.02582931518555, 35.179176330566406, 4.576415061950684]\n",
    ")"
   ]
  },
  {
   "cell_type": "code",
   "execution_count": null,
   "metadata": {},
   "outputs": [],
   "source": [
    "set_all_materials_to_grey()\n",
    "apply_glucose_colors()"
   ]
  },
  {
   "cell_type": "code",
   "execution_count": null,
   "metadata": {},
   "outputs": [],
   "source": [
    "mm.create_snapshot(\n",
    "    size=image_size, samples_per_pixel=image_samples_per_pixel,\n",
    "    path=output_folder + '/01100.png', exportIntermediateFrames=False)"
   ]
  }
 ],
 "metadata": {
  "kernelspec": {
   "display_name": "Python 3",
   "language": "python",
   "name": "python3"
  },
  "language_info": {
   "codemirror_mode": {
    "name": "ipython",
    "version": 3
   },
   "file_extension": ".py",
   "mimetype": "text/x-python",
   "name": "python",
   "nbconvert_exporter": "python",
   "pygments_lexer": "ipython3",
   "version": "3.8.5"
  }
 },
 "nbformat": 4,
 "nbformat_minor": 2
}