{
 "cells": [
  {
   "cell_type": "markdown",
   "metadata": {},
   "source": [
    "# Blue Brain BioExplorer\n",
    "![](../../bioexplorer_banner.png)"
   ]
  },
  {
   "cell_type": "markdown",
   "metadata": {},
   "source": [
    "# High Glucose Scenario"
   ]
  },
  {
   "cell_type": "markdown",
   "metadata": {},
   "source": [
    "## Connect to BioExplorer backend"
   ]
  },
  {
   "cell_type": "code",
   "execution_count": 18,
   "metadata": {
    "scrolled": false
   },
   "outputs": [
    {
     "name": "stdout",
     "output_type": "stream",
     "text": [
      "Version: 1.1.2\n"
     ]
    }
   ],
   "source": [
    "from bioexplorer import BioExplorer, Protein, Surfactant, Membrane, Cell, Sugars, \\\n",
    "                        Volume, AnimationParams, Vector2, Vector3, Quaternion\n",
    "import nglview\n",
    "\n",
    "hostname = 'localhost:5000'\n",
    "resource_folder = '../../../tests/test_files/'\n",
    "\n",
    "be = BioExplorer(hostname)\n",
    "core = be.core_api()\n",
    "version = be.version()\n",
    "be.reset_scene()\n",
    "print('Version: ' + str(version))\n",
    "\n",
    "export_to_cache = False\n",
    "\n",
    "scenario = 'high_glucose'"
   ]
  },
  {
   "cell_type": "code",
   "execution_count": 19,
   "metadata": {},
   "outputs": [],
   "source": [
    "'''Accelerate loading by not showing models as they are loaded'''\n",
    "status = be.set_general_settings(\n",
    "    logging_enabled=False,\n",
    "    model_visibility_on_creation=False)\n",
    "status = core.set_renderer(samples_per_pixel=1, subsampling=1, max_accum_frames=1)"
   ]
  },
  {
   "cell_type": "markdown",
   "metadata": {},
   "source": [
    "## Global parameters"
   ]
  },
  {
   "cell_type": "code",
   "execution_count": 20,
   "metadata": {},
   "outputs": [],
   "source": [
    "# Scene\n",
    "scene_size = Vector3(800.0, 800.0, 800.0)\n",
    "\n",
    "# Proteins\n",
    "protein_radius_multiplier = 1.0\n",
    "protein_representation = be.REPRESENTATION_ATOMS_AND_STICKS\n",
    "protein_load_hydrogen = False\n",
    "\n",
    "# Glycans\n",
    "add_glycans = True\n",
    "glycan_radius_multiplier = 1.0\n",
    "glycan_representation = be.REPRESENTATION_ATOMS_AND_STICKS\n",
    "\n",
    "# Viruses\n",
    "nb_protein_s = 62\n",
    "nb_protein_e = 42\n",
    "nb_protein_m = 50\n",
    "add_rna = False\n",
    "\n",
    "# Immune system\n",
    "nb_glucoses = 360000\n",
    "nb_lactoferrins = 50\n",
    "nb_defensins = 100\n",
    "nb_defensins_on_virus = 2\n",
    "\n",
    "# Cell\n",
    "cell_name = 'Cell'\n",
    "cell_position = Vector3(4.5, -186.0, 7.0)\n",
    "cell_height = scene_size.y / 10.0\n",
    "cell_nb_receptors = 100"
   ]
  },
  {
   "cell_type": "markdown",
   "metadata": {},
   "source": [
    "## Resources"
   ]
  },
  {
   "cell_type": "code",
   "execution_count": 21,
   "metadata": {},
   "outputs": [],
   "source": [
    "cache_folder = resource_folder + 'caches/' + version + '/'\n",
    "image_folder = resource_folder + 'images/'\n",
    "pdb_folder = resource_folder + 'pdb/'\n",
    "rna_folder = resource_folder + 'rna/'\n",
    "obj_folder = resource_folder + 'obj/'\n",
    "glycan_folder = pdb_folder + 'glycans/'\n",
    "membrane_folder = pdb_folder + 'membrane/'\n",
    "\n",
    "complex_paths = [glycan_folder + 'complex/33.pdb', glycan_folder + 'complex/34.pdb',\n",
    "                 glycan_folder + 'complex/35.pdb',glycan_folder + 'complex/36.pdb']\n",
    "high_mannose_paths = [glycan_folder + 'high-mannose/1.pdb', \n",
    "                      glycan_folder + 'high-mannose/2.pdb',\n",
    "                      glycan_folder + 'high-mannose/3.pdb',\n",
    "                      glycan_folder + 'high-mannose/4.pdb']\n",
    "hybrid_paths = [glycan_folder + 'hybrid/24.pdb']\n",
    "o_glycan_paths = [glycan_folder + 'o-glycan/12.pdb']\n",
    "\n",
    "glucose_path = pdb_folder + 'glucose.pdb'\n",
    "lactoferrin_path=pdb_folder + 'immune/1b0l.pdb'\n",
    "defensin_path = pdb_folder + 'immune/1ijv.pdb'\n",
    "\n",
    "surfactant_head_source = pdb_folder + 'surfactant/1pw9.pdb'\n",
    "surfactant_branch_source = pdb_folder + 'surfactant/1k6f.pdb'"
   ]
  },
  {
   "cell_type": "markdown",
   "metadata": {},
   "source": [
    "## Coronaviruses"
   ]
  },
  {
   "cell_type": "code",
   "execution_count": 5,
   "metadata": {},
   "outputs": [
    {
     "data": {
      "application/vnd.jupyter.widget-view+json": {
       "model_id": "861da84f7dd0404d9a38c00b53752690",
       "version_major": 2,
       "version_minor": 0
      },
      "text/plain": [
       "NGLWidget()"
      ]
     },
     "metadata": {},
     "output_type": "display_data"
    }
   ],
   "source": [
    "nglview.show_file(pdb_folder + 'sars-cov-2-v1.pdb')"
   ]
  },
  {
   "cell_type": "code",
   "execution_count": 6,
   "metadata": {},
   "outputs": [
    {
     "data": {
      "application/vnd.jupyter.widget-view+json": {
       "model_id": "86a33770d5eb460a9022897689c6a1eb",
       "version_major": 2,
       "version_minor": 0
      },
      "text/plain": [
       "NGLWidget()"
      ]
     },
     "metadata": {},
     "output_type": "display_data"
    }
   ],
   "source": [
    "nglview.show_file(pdb_folder + '6vyb.pdb')"
   ]
  },
  {
   "cell_type": "code",
   "execution_count": 7,
   "metadata": {},
   "outputs": [
    {
     "data": {
      "application/vnd.jupyter.widget-view+json": {
       "model_id": "9c7982bddb644626825af3b8dda325ee",
       "version_major": 2,
       "version_minor": 0
      },
      "text/plain": [
       "NGLWidget()"
      ]
     },
     "metadata": {},
     "output_type": "display_data"
    }
   ],
   "source": [
    "nglview.show_file(pdb_folder + 'QHD43419a.pdb')"
   ]
  },
  {
   "cell_type": "code",
   "execution_count": 8,
   "metadata": {},
   "outputs": [
    {
     "data": {
      "application/vnd.jupyter.widget-view+json": {
       "model_id": "d5fa67f760a84937b7b6a6830f0643f1",
       "version_major": 2,
       "version_minor": 0
      },
      "text/plain": [
       "NGLWidget()"
      ]
     },
     "metadata": {},
     "output_type": "display_data"
    }
   ],
   "source": [
    "nglview.show_file(pdb_folder + 'QHD43418a.pdb')"
   ]
  },
  {
   "cell_type": "code",
   "execution_count": 9,
   "metadata": {},
   "outputs": [],
   "source": [
    "be.add_coronavirus(\n",
    "    name='Coronavirus 1', resource_folder=resource_folder,\n",
    "    representation=protein_representation,\n",
    "    position=Vector3(-337.3, -92.3, -99.2), add_glycans=add_glycans)\n",
    "be.add_coronavirus(\n",
    "    name='Coronavirus 2', resource_folder=resource_folder,\n",
    "    representation=protein_representation,\n",
    "    position=Vector3(-74.9, -97.1, 228.8), add_glycans=add_glycans)\n",
    "be.add_coronavirus(\n",
    "    name='Coronavirus 3', resource_folder=resource_folder,\n",
    "    representation=protein_representation,\n",
    "    position=Vector3(187.5, -110.4, 51.2), add_glycans=add_glycans)\n",
    "be.add_coronavirus(\n",
    "    name='Coronavirus 4', resource_folder=resource_folder,\n",
    "    representation=protein_representation,\n",
    "    position=Vector3(4.5, 100.0, 7.5),\n",
    "    rotation=Quaternion(0.0, 0.0, 0.0, 1.0), \n",
    "    add_glycans=add_glycans)\n",
    "be.add_coronavirus(\n",
    "    name='Coronavirus 5', resource_folder=resource_folder,\n",
    "    representation=protein_representation,\n",
    "    position=Vector3(73.9, -117.1, -190.4), add_glycans=add_glycans)\n",
    "be.add_coronavirus(\n",
    "    name='Coronavirus 6', resource_folder=resource_folder,\n",
    "    representation=protein_representation,\n",
    "    position=Vector3(211.5, -104.9, 339.2), add_glycans=add_glycans)"
   ]
  },
  {
   "cell_type": "code",
   "execution_count": 10,
   "metadata": {},
   "outputs": [],
   "source": [
    "if export_to_cache:\n",
    "    '''Show loaded models'''\n",
    "    status = be.set_models_visibility(True)\n",
    "    '''Set materials'''\n",
    "    be.apply_default_color_scheme(shading_mode=be.SHADING_MODE_BASIC)\n",
    "    '''Export to cache file'''\n",
    "    cache_filename = cache_folder + scenario + '_viruses.bioexplorer'\n",
    "    if add_rna:\n",
    "        cache_filename = cache_folder + scenario + '_open_viruses.bioexplorer'\n",
    "    print(cache_filename)\n",
    "    be.export_to_file(cache_filename)"
   ]
  },
  {
   "cell_type": "markdown",
   "metadata": {},
   "source": [
    "## Host cell"
   ]
  },
  {
   "cell_type": "code",
   "execution_count": 11,
   "metadata": {
    "scrolled": true
   },
   "outputs": [],
   "source": [
    "def add_cell(\n",
    "        name, size, nb_receptors,\n",
    "        position=Vector3(), random_seed=1):\n",
    "    \n",
    "    ace2_receptor = Protein(\n",
    "        name=name + '_' + be.NAME_RECEPTOR,\n",
    "        source=pdb_folder + '6m18.pdb', occurences=nb_receptors,\n",
    "        transmembrane_params=Vector2(-6.0, 1.0))\n",
    "    \n",
    "    membrane = Membrane(\n",
    "        lipid_sources=[\n",
    "            membrane_folder + 'segA.pdb',\n",
    "            membrane_folder + 'segB.pdb',\n",
    "            membrane_folder + 'segC.pdb',\n",
    "            membrane_folder + 'segD.pdb'\n",
    "        ],\n",
    "        animation_params=AnimationParams(random_seed, random_seed + 1, 0.025, random_seed + 2, 0.025)\n",
    "    )\n",
    "\n",
    "    cell = Cell(\n",
    "        name=name, shape_params=size,\n",
    "        shape=be.ASSEMBLY_SHAPE_SINUSOID,\n",
    "        membrane=membrane, proteins=[ace2_receptor]\n",
    "    )\n",
    "    \n",
    "    be.add_cell(\n",
    "        cell=cell, position=position,\n",
    "        representation=protein_representation)\n",
    "\n",
    "    if nb_receptors != 0 and add_glycans:\n",
    "        be.add_multiple_glycans(\n",
    "            representation=glycan_representation, assembly_name=name, \n",
    "            glycan_type=be.NAME_GLYCAN_COMPLEX,\n",
    "            protein_name=be.NAME_RECEPTOR, paths=complex_paths, \n",
    "            indices=[53, 90, 103, 322, 432, 690])\n",
    "        be.add_multiple_glycans(\n",
    "            representation=glycan_representation, assembly_name=name,\n",
    "            glycan_type=be.NAME_GLYCAN_HYBRID,\n",
    "            protein_name=be.NAME_RECEPTOR, paths=hybrid_paths, \n",
    "            indices=[546])\n",
    "\n",
    "        indices = [[155, Quaternion(0.707, 0.0, 0.707, 0.0)],\n",
    "                   [730, Quaternion(0.707, 0.0, 0.707, 0.0)]]\n",
    "        for index in indices:\n",
    "            o_glycan_name = name + '_' + be.NAME_GLYCAN_O_GLYCAN + '_' + str(index[0])\n",
    "            o_glycan = Sugars(\n",
    "                assembly_name=name, name=o_glycan_name, source=o_glycan_paths[0],\n",
    "                protein_name=name + '_' + be.NAME_RECEPTOR, representation=glycan_representation,\n",
    "                chain_ids=[2, 4], site_indices=[index[0]], rotation=index[1])\n",
    "            be.add_sugars(o_glycan)"
   ]
  },
  {
   "cell_type": "code",
   "execution_count": 12,
   "metadata": {},
   "outputs": [],
   "source": [
    "add_cell(\n",
    "    name=cell_name, nb_receptors=cell_nb_receptors,\n",
    "    size=Vector3(scene_size.x * 2.0, cell_height, scene_size.z * 2.0),\n",
    "    position=cell_position, random_seed=10)"
   ]
  },
  {
   "cell_type": "code",
   "execution_count": 13,
   "metadata": {
    "scrolled": true
   },
   "outputs": [],
   "source": [
    "if export_to_cache:\n",
    "    '''Show loaded models'''\n",
    "    status = be.set_models_visibility(True)\n",
    "    '''Materials'''\n",
    "    be.apply_default_color_scheme(shading_mode=be.SHADING_MODE_BASIC)\n",
    "    be.set_protein_color_scheme(\n",
    "        cell_name, cell_name + '_' + be.NAME_RECEPTOR,\n",
    "        be.COLOR_SCHEME_CHAINS, 'OrRd_r', 7)\n",
    "    '''Export to cache file'''\n",
    "    cache_filename = cache_folder + 'cell.bioexplorer'\n",
    "    print(cache_filename)\n",
    "    be.export_to_file(cache_filename)"
   ]
  },
  {
   "cell_type": "markdown",
   "metadata": {},
   "source": [
    "## Immune system"
   ]
  },
  {
   "cell_type": "markdown",
   "metadata": {},
   "source": [
    "### Surfactant A and D"
   ]
  },
  {
   "cell_type": "code",
   "execution_count": 14,
   "metadata": {},
   "outputs": [
    {
     "data": {
      "application/vnd.jupyter.widget-view+json": {
       "model_id": "b81767d2e879495a8118efba41976caf",
       "version_major": 2,
       "version_minor": 0
      },
      "text/plain": [
       "NGLWidget()"
      ]
     },
     "metadata": {},
     "output_type": "display_data"
    }
   ],
   "source": [
    "nglview.show_file(surfactant_head_source)"
   ]
  },
  {
   "cell_type": "code",
   "execution_count": 24,
   "metadata": {
    "scrolled": false
   },
   "outputs": [],
   "source": [
    "def add_surfactant_d(name, position, animation_params):\n",
    "    surfactant_d = Surfactant(\n",
    "        name=name, surfactant_protein=be.SURFACTANT_PROTEIN_D, \n",
    "        head_source=surfactant_head_source,\n",
    "        branch_source=surfactant_branch_source)\n",
    "    be.add_surfactant(\n",
    "        surfactant=surfactant_d, representation=protein_representation, \n",
    "        position=position, animation_params=animation_params)\n",
    "\n",
    "add_surfactant_d(\n",
    "    name='Surfactant-D 1',\n",
    "    position=Vector3(74.0, 24.0, -45.0),\n",
    "    animation_params=AnimationParams(seed=1))\n",
    "add_surfactant_d(\n",
    "    name='Surfactant-D 2',\n",
    "    position=Vector3(104.0, 175.0, -89.0),\n",
    "    animation_params=AnimationParams(seed=2))\n",
    "add_surfactant_d(\n",
    "    name='Surfactant-D 3',\n",
    "    position=Vector3(-260.0, 50.0, 0.0),\n",
    "    animation_params=AnimationParams(seed=6))"
   ]
  },
  {
   "cell_type": "code",
   "execution_count": 23,
   "metadata": {
    "scrolled": false
   },
   "outputs": [],
   "source": [
    "def add_surfactant_a(name, position, animation_params):\n",
    "    surfactant_a = Surfactant(\n",
    "        name=name, surfactant_protein=be.SURFACTANT_PROTEIN_A, \n",
    "        head_source=surfactant_head_source,\n",
    "        branch_source=surfactant_branch_source)\n",
    "    be.add_surfactant(\n",
    "        surfactant=surfactant_a, representation=protein_representation, \n",
    "        position=position, animation_params=animation_params)\n",
    "\n",
    "add_surfactant_a(\n",
    "    name='Surfactant-A 1',\n",
    "    position=Vector3(-100.0, 150.0, 0.0),\n",
    "    animation_params=AnimationParams(seed=2))"
   ]
  },
  {
   "cell_type": "code",
   "execution_count": 16,
   "metadata": {
    "scrolled": true
   },
   "outputs": [],
   "source": [
    "# Add glucose to surfactants\n",
    "def add_glucose_to_surfactant_head(name):\n",
    "    for index in [321, 323]:\n",
    "        glucose_name = name + '_' + be.NAME_GLUCOSE + '_' + str(index)\n",
    "        glucose = Sugars(\n",
    "            assembly_name=name, name=glucose_name, source=glucose_path,\n",
    "            protein_name=name + '_' + be.NAME_SURFACTANT_HEAD, \n",
    "            representation=glycan_representation, site_indices=[index])\n",
    "        be.add_sugars(glucose)\n",
    "add_glucose_to_surfactant_head('Surfactant-D 1')\n",
    "add_glucose_to_surfactant_head('Surfactant-D 2')\n",
    "add_glucose_to_surfactant_head('Surfactant-D 3')\n",
    "add_glucose_to_surfactant_head('Surfactant-A 1')"
   ]
  },
  {
   "cell_type": "markdown",
   "metadata": {},
   "source": [
    "### Glucose"
   ]
  },
  {
   "cell_type": "code",
   "execution_count": 18,
   "metadata": {},
   "outputs": [
    {
     "data": {
      "application/vnd.jupyter.widget-view+json": {
       "model_id": "856225f93b8e4866a18653ba2fdff2ea",
       "version_major": 2,
       "version_minor": 0
      },
      "text/plain": [
       "NGLWidget()"
      ]
     },
     "metadata": {},
     "output_type": "display_data"
    }
   ],
   "source": [
    "nglview.show_file(glucose_path)"
   ]
  },
  {
   "cell_type": "code",
   "execution_count": 19,
   "metadata": {
    "scrolled": true
   },
   "outputs": [],
   "source": [
    "glucose = Protein(\n",
    "    name=be.NAME_GLUCOSE,\n",
    "    source=glucose_path, load_non_polymer_chemicals=True, \n",
    "    occurences=nb_glucoses, animation_params=AnimationParams(seed=1))\n",
    "volume = Volume(\n",
    "    name=be.NAME_GLUCOSE,\n",
    "    shape=be.ASSEMBLY_SHAPE_CUBE, shape_params=scene_size,\n",
    "    protein=glucose)\n",
    "status = be.add_volume(\n",
    "    volume=volume, representation=protein_representation,\n",
    "    position=Vector3(0.0, scene_size.y / 2.0 - 200.0, 0.0))"
   ]
  },
  {
   "cell_type": "markdown",
   "metadata": {},
   "source": [
    "### Lactoferrins"
   ]
  },
  {
   "cell_type": "code",
   "execution_count": 20,
   "metadata": {},
   "outputs": [
    {
     "data": {
      "application/vnd.jupyter.widget-view+json": {
       "model_id": "2624cdfb69a84800a15e5885a7a98a08",
       "version_major": 2,
       "version_minor": 0
      },
      "text/plain": [
       "NGLWidget()"
      ]
     },
     "metadata": {},
     "output_type": "display_data"
    }
   ],
   "source": [
    "nglview.show_file(lactoferrin_path)"
   ]
  },
  {
   "cell_type": "code",
   "execution_count": 21,
   "metadata": {
    "scrolled": true
   },
   "outputs": [],
   "source": [
    "lactoferrin = Protein(\n",
    "    name=be.NAME_LACTOFERRIN,\n",
    "    source=lactoferrin_path, load_non_polymer_chemicals=True,\n",
    "    occurences=nb_lactoferrins, animation_params=AnimationParams(seed=2))\n",
    "lactoferrins_volume = Volume(\n",
    "    name=be.NAME_LACTOFERRIN,\n",
    "    shape=be.ASSEMBLY_SHAPE_CUBE, shape_params=scene_size,\n",
    "    protein=lactoferrin)\n",
    "status = be.add_volume(\n",
    "    volume=lactoferrins_volume, representation=protein_representation,\n",
    "    position=Vector3(0.0, scene_size.y / 2.0 - 200.0, 0.0))"
   ]
  },
  {
   "cell_type": "markdown",
   "metadata": {},
   "source": [
    "### Defensins"
   ]
  },
  {
   "cell_type": "code",
   "execution_count": 22,
   "metadata": {
    "scrolled": true
   },
   "outputs": [
    {
     "data": {
      "application/vnd.jupyter.widget-view+json": {
       "model_id": "ed16d1c254c445cba205c4f488153f5c",
       "version_major": 2,
       "version_minor": 0
      },
      "text/plain": [
       "NGLWidget()"
      ]
     },
     "metadata": {},
     "output_type": "display_data"
    }
   ],
   "source": [
    "nglview.show_file(defensin_path)"
   ]
  },
  {
   "cell_type": "code",
   "execution_count": 23,
   "metadata": {
    "scrolled": true
   },
   "outputs": [],
   "source": [
    "defensin = Protein(\n",
    "    name=be.NAME_DEFENSIN,\n",
    "    source=defensin_path, load_non_polymer_chemicals=True, \n",
    "    occurences=nb_defensins, animation_params=AnimationParams(seed=3))\n",
    "defensins_volume = Volume(\n",
    "    name=be.NAME_DEFENSIN, shape=be.ASSEMBLY_SHAPE_CUBE, shape_params=scene_size,\n",
    "    protein=defensin)\n",
    "status = be.add_volume(\n",
    "    volume=defensins_volume, representation=protein_representation,\n",
    "    position=Vector3(0.0, scene_size.y / 2.0 - 200.0, 0.0))"
   ]
  },
  {
   "cell_type": "markdown",
   "metadata": {},
   "source": [
    "### Materials"
   ]
  },
  {
   "cell_type": "code",
   "execution_count": 24,
   "metadata": {},
   "outputs": [],
   "source": [
    "be.apply_default_color_scheme(\n",
    "    shading_mode=be.SHADING_MODE_DIFFUSE,\n",
    "    specular_exponent=50)"
   ]
  },
  {
   "cell_type": "code",
   "execution_count": 25,
   "metadata": {},
   "outputs": [],
   "source": [
    "'''Show loaded models'''\n",
    "status = be.set_models_visibility(True)"
   ]
  },
  {
   "cell_type": "code",
   "execution_count": 26,
   "metadata": {},
   "outputs": [],
   "source": [
    "if export_to_cache:\n",
    "    '''Export to cache file'''\n",
    "    cache_filename = cache_folder + scenario + '_immune.bioexplorer'\n",
    "    print(cache_filename)\n",
    "    be.export_to_file(cache_filename)"
   ]
  },
  {
   "cell_type": "markdown",
   "metadata": {},
   "source": [
    "## Export full scene to cache file"
   ]
  },
  {
   "cell_type": "code",
   "execution_count": 27,
   "metadata": {},
   "outputs": [],
   "source": [
    "if export_to_cache:\n",
    "    '''Export to cache file'''\n",
    "    cache_filename = cache_folder + scenario + '_scenario.bioexplorer'\n",
    "    print(cache_filename)\n",
    "    be.export_to_file(cache_filename)"
   ]
  },
  {
   "cell_type": "markdown",
   "metadata": {},
   "source": [
    "## Rendering settings"
   ]
  },
  {
   "cell_type": "code",
   "execution_count": 28,
   "metadata": {
    "scrolled": true
   },
   "outputs": [],
   "source": [
    "status = be.set_rendering_quality(be.RENDERING_QUALITY_HIGH)"
   ]
  }
 ],
 "metadata": {
  "kernelspec": {
   "display_name": "Python 3",
   "language": "python",
   "name": "python3"
  },
  "language_info": {
   "codemirror_mode": {
    "name": "ipython",
    "version": 3
   },
   "file_extension": ".py",
   "mimetype": "text/x-python",
   "name": "python",
   "nbconvert_exporter": "python",
   "pygments_lexer": "ipython3",
   "version": "3.8.10"
  }
 },
 "nbformat": 4,
 "nbformat_minor": 2
}
