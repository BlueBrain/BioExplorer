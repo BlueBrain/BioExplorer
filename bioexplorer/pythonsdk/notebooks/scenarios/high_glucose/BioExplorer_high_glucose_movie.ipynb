{
 "cells": [
  {
   "cell_type": "markdown",
   "metadata": {},
   "source": [
    "# Blue Brain BioExplorer\n",
    "![](../../bioexplorer_banner.png)"
   ]
  },
  {
   "cell_type": "code",
   "execution_count": null,
   "metadata": {},
   "outputs": [],
   "source": [
    "from bioexplorer import BioExplorer\n",
    "from mediamaker import MovieMaker\n",
    "import os\n",
    "\n",
    "hostname = 'localhost:5000'\n",
    "resource_folder = '../../../tests/test_files/'\n",
    "    \n",
    "be = BioExplorer(hostname)\n",
    "core = be.core_api()\n",
    "mm = MovieMaker(be)\n",
    "\n",
    "version = be.version()\n",
    "print('Version: ' + version)\n",
    "\n",
    "sequence_name = 'high_glucose'"
   ]
  },
  {
   "cell_type": "code",
   "execution_count": null,
   "metadata": {},
   "outputs": [],
   "source": [
    "'''Reset current scene'''\n",
    "status = be.reset()"
   ]
  },
  {
   "cell_type": "code",
   "execution_count": null,
   "metadata": {},
   "outputs": [],
   "source": [
    "'''Accelerate loading by not showing models as they are loaded'''\n",
    "status = be.set_general_settings(\n",
    "    logging_enabled=True,\n",
    "    model_visibility_on_creation=False)"
   ]
  },
  {
   "cell_type": "code",
   "execution_count": null,
   "metadata": {},
   "outputs": [],
   "source": [
    "cache_folder = resource_folder + 'caches/' + version + '/'"
   ]
  },
  {
   "cell_type": "code",
   "execution_count": null,
   "metadata": {},
   "outputs": [],
   "source": [
    "cache_filename = cache_folder + sequence_name + '_scenario.bioexplorer'\n",
    "print('Loading ' + cache_filename)\n",
    "dummy = core.add_model(cache_filename)"
   ]
  },
  {
   "cell_type": "code",
   "execution_count": null,
   "metadata": {},
   "outputs": [],
   "source": [
    "nb_models = len(core.scene.models)\n",
    "if nb_models != 180:\n",
    "    print('ERROR: Not all models have been loaded!!! Expected 180, found ' + str(nb_models))\n",
    "else:\n",
    "    print('All good!')"
   ]
  },
  {
   "cell_type": "code",
   "execution_count": null,
   "metadata": {},
   "outputs": [],
   "source": [
    "'''Now we can show the models'''\n",
    "status = be.set_models_visibility(True)"
   ]
  },
  {
   "cell_type": "markdown",
   "metadata": {},
   "source": [
    "## Rendering settings"
   ]
  },
  {
   "cell_type": "code",
   "execution_count": null,
   "metadata": {},
   "outputs": [],
   "source": [
    "status = core.set_renderer(\n",
    "    background_color=[96 / 255, 125 / 255, 139 / 255],\n",
    "    current='bio_explorer', head_light=False,\n",
    "    samples_per_pixel=1, subsampling=1, max_accum_frames=128)\n",
    "params = be.core_api().BioExplorerRendererParams()\n",
    "params.exposure = 1.0\n",
    "params.gi_samples = 1\n",
    "params.gi_weight = 0.3\n",
    "params.gi_distance = 5000\n",
    "params.shadows = 1.0\n",
    "params.soft_shadows = 0.02\n",
    "params.fog_start = 1000\n",
    "params.fog_thickness = 300\n",
    "params.max_bounces = 1\n",
    "params.use_hardware_randomizer = True\n",
    "status = core.set_renderer_params(params)\n",
    "\n",
    "status = core.clear_lights()\n",
    "status = core.add_light_directional(\n",
    "    angularDiameter=0.5, color=[1,1,1], direction=[-0.7,-0.4,-1],\n",
    "    intensity=1.0, is_visible=False\n",
    ")"
   ]
  },
  {
   "cell_type": "code",
   "execution_count": null,
   "metadata": {},
   "outputs": [],
   "source": [
    "status = be.apply_default_color_scheme(\n",
    "    shading_mode=be.SHADING_MODE_DIFFUSE,\n",
    "    specular_exponent=50.0\n",
    ")"
   ]
  },
  {
   "cell_type": "code",
   "execution_count": null,
   "metadata": {},
   "outputs": [],
   "source": [
    "for model in core.scene.models:\n",
    "    model_id = model['id']\n",
    "    model_name = model['name']\n",
    "    if be.NAME_COLLAGEN in model_name:\n",
    "        material_ids = list(be.get_material_ids(model_id)['ids'])\n",
    "        nb_materials = len(material_ids)\n",
    "        print(model_name)\n",
    "        palette = list()\n",
    "        emissions = list()\n",
    "        for i in range(nb_materials):\n",
    "            palette.append([1,1,1])\n",
    "            emissions.append(0.2)\n",
    "        be.set_materials(\n",
    "            model_ids=[model_id], material_ids=material_ids,\n",
    "            diffuse_colors=palette, specular_colors=palette,\n",
    "            emissions=emissions\n",
    "        )        \n",
    "core.scene.commit()"
   ]
  },
  {
   "cell_type": "markdown",
   "metadata": {},
   "source": [
    "## Snapshots"
   ]
  },
  {
   "cell_type": "code",
   "execution_count": null,
   "metadata": {},
   "outputs": [],
   "source": [
    "k = 4\n",
    "image_size = [k*960,k*540]\n",
    "image_spp = 64\n",
    "image_format = 'png'\n",
    "aperture_multiplier = 0.0\n",
    "\n",
    "dof = ''\n",
    "if aperture_multiplier != 0.0:\n",
    "    dof = 'dof_'\n",
    "    image_format='jpg'\n",
    "\n",
    "core.set_camera(current='bio_explorer_perspective')\n",
    "\n",
    "output_folder = resource_folder + 'frames/' + \\\n",
    "                version + '/' + sequence_name + '/'\n",
    "\n",
    "output_suffix = '_' + dof + str(image_size[0]) + 'x' + \\\n",
    "                str(image_size[1]) + '_' + str(image_spp) + 'spp.png'\n",
    "\n",
    "command_line='mkdir -p ' + output_folder\n",
    "os.system(command_line)\n",
    "command_line='ls ' + output_folder\n",
    "if os.system(command_line) != 0:\n",
    "    print('ERROR: Failed to create output folder')\n",
    "\n",
    "print(output_folder)\n",
    "print(output_suffix)"
   ]
  },
  {
   "cell_type": "code",
   "execution_count": null,
   "metadata": {},
   "outputs": [],
   "source": [
    "''' cell Membrane '''\n",
    "status = mm.set_camera(\n",
    "    direction = [-1.0, 0.0, 0.0],\n",
    "    origin = [0.0, -160, 100],\n",
    "    up = [0.0, 1.0, 0.0]\n",
    ")"
   ]
  },
  {
   "cell_type": "code",
   "execution_count": null,
   "metadata": {},
   "outputs": [],
   "source": [
    "mm.create_snapshot(\n",
    "    size=image_size,\n",
    "    path=output_folder + 'cell_membrane' + output_suffix,\n",
    "    samples_per_pixel=image_spp, exportIntermediateFrames=False)"
   ]
  },
  {
   "cell_type": "code",
   "execution_count": null,
   "metadata": {},
   "outputs": [],
   "source": [
    "''' SP-D '''\n",
    "status = mm.set_camera(\n",
    "    direction = [0.277, -0.049, -0.959],\n",
    "    origin = [38.749, 35.228, 5.536],\n",
    "    up = [0.0, 1.0, 0.0]\n",
    ")"
   ]
  },
  {
   "cell_type": "code",
   "execution_count": null,
   "metadata": {},
   "outputs": [],
   "source": [
    "mm.create_snapshot(\n",
    "    size=image_size,\n",
    "    path=output_folder + 'surfactant' + output_suffix,\n",
    "    samples_per_pixel=image_spp, exportIntermediateFrames=False)"
   ]
  },
  {
   "cell_type": "code",
   "execution_count": null,
   "metadata": {},
   "outputs": [],
   "source": [
    "''' Free virus '''\n",
    "status = mm.set_camera(\n",
    "    direction = [0.009, 0.055, -0.998],\n",
    "    origin = [-0.832, 72.134, 387.389],\n",
    "    up = [0.017, 0.998, 0.055]\n",
    ")"
   ]
  },
  {
   "cell_type": "code",
   "execution_count": null,
   "metadata": {},
   "outputs": [],
   "source": [
    "mm.create_snapshot(\n",
    "    size=image_size,\n",
    "    path=output_folder + 'virus' + output_suffix,\n",
    "    samples_per_pixel=image_spp, exportIntermediateFrames=False)"
   ]
  },
  {
   "cell_type": "code",
   "execution_count": null,
   "metadata": {},
   "outputs": [],
   "source": [
    "''' Overview '''\n",
    "status = mm.set_camera(\n",
    "    direction = [0.009, 0.055, -0.998],\n",
    "    origin = [0.293, 19.604, 1000],\n",
    "    up = [0.017, 0.998, 0.055]\n",
    ")"
   ]
  },
  {
   "cell_type": "code",
   "execution_count": null,
   "metadata": {},
   "outputs": [],
   "source": [
    "mm.create_snapshot(\n",
    "    size=image_size,\n",
    "    path=output_folder + 'overview' + output_suffix,\n",
    "    samples_per_pixel=image_spp, exportIntermediateFrames=False)"
   ]
  },
  {
   "cell_type": "code",
   "execution_count": null,
   "metadata": {},
   "outputs": [],
   "source": [
    "''' ACE2 '''\n",
    "status = mm.set_camera(\n",
    "    direction = [-0.436, 0.035, -0.898],\n",
    "    origin = [-33.619, -164.994, 276.296],\n",
    "    up = [0.011, 0.999, 0.033]\n",
    ")"
   ]
  },
  {
   "cell_type": "code",
   "execution_count": null,
   "metadata": {},
   "outputs": [],
   "source": [
    "mm.create_snapshot(\n",
    "    size=image_size,\n",
    "    path=output_folder + 'receptor' + output_suffix,\n",
    "    samples_per_pixel=image_spp, exportIntermediateFrames=False)"
   ]
  },
  {
   "cell_type": "markdown",
   "metadata": {},
   "source": [
    "## Movie"
   ]
  },
  {
   "cell_type": "code",
   "execution_count": null,
   "metadata": {},
   "outputs": [],
   "source": [
    "aperture_ratio = 1.0\n",
    "cameras_key_frames = [\n",
    "    { # Membrane\n",
    "        'apertureRadius': aperture_ratio * 0.0,\n",
    "        'focusDistance': 1.0,\n",
    "        'direction': [-1.0, 0.0, 0.0],\n",
    "        'origin': [150.0, -160, 100],\n",
    "        'up': [0.0, 1.0, 0.0]\n",
    "    }, {\n",
    "        'apertureRadius': aperture_ratio * 0.0,\n",
    "        'focusDistance': 0,\n",
    "        'direction' : [0.0, 0.0, -1.0],\n",
    "        'origin' : [-67.501, -17.451, 254.786],\n",
    "        'up' : [0.0, 1.0, 0.0]\n",
    "    }, { # Surfactant Head\n",
    "        'apertureRadius': aperture_ratio * 0.01,\n",
    "        'focusDistance': 30,\n",
    "        'direction' : [0.276, -0.049, -0.959],\n",
    "        'origin' : [38.749, 35.228, 5.536],\n",
    "        'up' : [0.0, 1.0, 0.0]\n",
    "    }, { # Virus overview\n",
    "        'apertureRadius': aperture_ratio * 0.0,\n",
    "        'focusDistance': 349.75,\n",
    "        'direction' : [0.009, 0.055, -0.998],\n",
    "        'origin' : [-0.832, 72.134, 387.389],\n",
    "        'up' : [0.017, 0.998, 0.055]\n",
    "    }, { # ACE2\n",
    "        'apertureRadius': aperture_ratio * 0.01,\n",
    "        'focusDistance': 45.31,\n",
    "        'direction' : [-0.436, 0.035, -0.898],\n",
    "        'origin' : [-33.619, -164.994, 276.296],\n",
    "        'up' : [0.011, 0.999, 0.033]\n",
    "    }, { # Membrane overview\n",
    "        'apertureRadius': aperture_ratio * 0.0,\n",
    "        'focusDistance': 60,\n",
    "        'direction' : [0.009, 0.055, -0.998],\n",
    "        'origin' : [0.293, 19.604, 1000],\n",
    "        'up' : [0.017, 0.998, 0.055]\n",
    "    }\n",
    "]"
   ]
  },
  {
   "cell_type": "code",
   "execution_count": null,
   "metadata": {},
   "outputs": [],
   "source": [
    "'''Double the frames to make it smoother'''\n",
    "key_frames = list()\n",
    "for cameras_key_frame in cameras_key_frames:\n",
    "    key_frames.append(cameras_key_frame)\n",
    "    key_frames.append(cameras_key_frame)"
   ]
  },
  {
   "cell_type": "code",
   "execution_count": null,
   "metadata": {},
   "outputs": [],
   "source": [
    "def render(projection, k, samples_per_pixel, start_frame=0, end_frame=0):\n",
    "    import os\n",
    "    from mediamaker import MovieMaker\n",
    "\n",
    "    nb_frames = core.get_animation_parameters()['frame_count']\n",
    "    export_folder = output_folder + 'sequences/' + projection + '/'\n",
    "\n",
    "    end_frame=nb_frames\n",
    "    frame_step=1\n",
    "    aperture_ratio=0.0\n",
    "\n",
    "    output_size = list()\n",
    "    if projection=='perspective':\n",
    "        aperture_ratio = 1.0\n",
    "        output_size = [int(k*960),int(k*540)]\n",
    "        core.set_camera(current='bio_explorer_perspective')\n",
    "    elif projection=='fisheye':\n",
    "        output_size = [int(k*1024),int(k*1024)]\n",
    "        core.set_camera(current='fisheye')\n",
    "    elif projection=='panoramic':\n",
    "        output_size = [int(k*1024),int(k*1024)]\n",
    "        core.set_camera(current='panoramic')\n",
    "    elif projection=='opendeck':\n",
    "        output_size = [7*2160,3840]\n",
    "        core.set_camera(current='cylindric')\n",
    "\n",
    "    print('Rendering <' + sequence_name + '> sequence in <' + projection + '> projection ' + str(output_size))\n",
    "    print(str(samples_per_pixel) + ' samples per pixel')\n",
    "    print(export_folder)\n",
    "\n",
    "    command_line='mkdir -p ' + export_folder\n",
    "    os.system(command_line)\n",
    "    command_line='ls ' + export_folder\n",
    "    if os.system(command_line) != 0:\n",
    "        print('ERROR: Failed to create output folder')\n",
    "        \n",
    "    size = core.get_application_parameters()['viewport']\n",
    "    core.set_renderer(samples_per_pixel=1, max_accum_frames=samples_per_pixel)\n",
    "    core.set_application_parameters(viewport=output_size)\n",
    "    core.set_application_parameters(image_stream_fps=0)\n",
    "\n",
    "    print('exporting...')\n",
    "    \n",
    "    mm.export_frames(\n",
    "        path=export_folder, size=output_size,\n",
    "        samples_per_pixel=samples_per_pixel-1,\n",
    "        start_frame=start_frame, end_frame=end_frame\n",
    "    )\n",
    "    \n",
    "    while mm.get_export_frames_progress()['progress'] < 1.0:\n",
    "        import time\n",
    "        time.sleep(1)\n",
    "        \n",
    "    mm.cancel_frames_export()"
   ]
  },
  {
   "cell_type": "code",
   "execution_count": null,
   "metadata": {},
   "outputs": [],
   "source": [
    "mm.build_camera_path(key_frames, 250, 150)"
   ]
  },
  {
   "cell_type": "code",
   "execution_count": null,
   "metadata": {},
   "outputs": [],
   "source": [
    "mm.set_current_frame(2000)"
   ]
  },
  {
   "cell_type": "code",
   "execution_count": null,
   "metadata": {
    "scrolled": true
   },
   "outputs": [],
   "source": [
    "render('perspective', 'production', 4, 64)"
   ]
  },
  {
   "cell_type": "markdown",
   "metadata": {},
   "source": [
    "## Fields"
   ]
  },
  {
   "cell_type": "code",
   "execution_count": null,
   "metadata": {},
   "outputs": [],
   "source": [
    "planes = core.get_clip_planes()\n",
    "if planes:\n",
    "    plane_ids = list()\n",
    "    for plane in planes:\n",
    "        plane_ids.append(plane['id'])\n",
    "    core.remove_clip_planes(plane_ids)\n",
    "    \n",
    "core.add_clip_plane([0,0,1,-220])\n",
    "core.add_clip_plane([0,0,-1,300])\n",
    "core.add_clip_plane([1,0,0,120])\n",
    "core.add_clip_plane([-1,0,0,0])\n",
    "core.add_clip_plane([0,1,0,200])\n",
    "core.add_clip_plane([0,-1,0,-130])"
   ]
  },
  {
   "cell_type": "code",
   "execution_count": null,
   "metadata": {},
   "outputs": [],
   "source": [
    "status = be.build_fields(voxel_size=0.25)\n",
    "fields_model_id = core.scene.models[len(core.scene.models)-1]['id']"
   ]
  },
  {
   "cell_type": "code",
   "execution_count": null,
   "metadata": {},
   "outputs": [],
   "source": [
    "image_size = [3840, 2160]\n",
    "image_samples_per_pixel = 1\n",
    "\n",
    "output_folder = '/tmp/'\n",
    "colormap_folder = resource_folder + 'colormap/'"
   ]
  },
  {
   "cell_type": "code",
   "execution_count": null,
   "metadata": {},
   "outputs": [],
   "source": [
    "core.set_renderer(\n",
    "    current='bio_explorer_fields',\n",
    "    samples_per_pixel=1, subsampling=8, max_accum_frames=image_samples_per_pixel)\n",
    "\n",
    "params = core.BioExplorerFieldsRendererParams()\n",
    "params.cutoff = 5000\n",
    "params.exposure = 3.0\n",
    "params.alpha_correction = 0.1\n",
    "params.nb_ray_steps = 16\n",
    "params.nb_ray_refinement_steps = image_samples_per_pixel\n",
    "params.use_hardware_randomizer = True\n",
    "status = core.set_renderer_params(params)"
   ]
  },
  {
   "cell_type": "markdown",
   "metadata": {},
   "source": [
    "### Transfer function"
   ]
  },
  {
   "cell_type": "code",
   "execution_count": null,
   "metadata": {},
   "outputs": [],
   "source": [
    "from ipyTransferFunction import TransferFunctionEditor\n",
    "def hex_to_rgb(value):\n",
    "    value = value.lstrip('#')\n",
    "    lv = len(value)\n",
    "    return tuple(int(value[i:i + lv // 3], 16) for i in range(0, lv, lv // 3))\n",
    "\n",
    "def update_palette(tf):\n",
    "    intensity = 1\n",
    "    btf = core.get_model_transfer_function(id=fields_model_id)\n",
    "    colors = list()\n",
    "    points = list()\n",
    "    \n",
    "    nb_points = len(tf.alpha_sliders)\n",
    "    step = 1.0 / float(nb_points - 1)\n",
    "    for i in range(nb_points):\n",
    "        color = hex_to_rgb(tf.color_pickers[i].value)\n",
    "        colors.append([\n",
    "            intensity * float(color[0]) / 256.0, \n",
    "            intensity * float(color[1]) / 256.0, \n",
    "            intensity * float(color[2]) / 256.0])\n",
    "        points.append([i * step, tf.alpha_sliders[i].value / 255.0])\n",
    "        \n",
    "    btf['colormap']['name'] = 'TransferFunctionEditor'\n",
    "    btf['colormap']['colors'] = colors\n",
    "    btf['opacity_curve'] = points\n",
    "    btf['range'] = [tf.data_range[0], tf.data_range[1]]\n",
    "    core.set_model_transfer_function(id=fields_model_id, transfer_function=btf)"
   ]
  },
  {
   "cell_type": "code",
   "execution_count": null,
   "metadata": {},
   "outputs": [],
   "source": [
    "tf = TransferFunctionEditor(\n",
    "    filename=colormap_folder + 'spike_v1.1dt',\n",
    "    on_change=update_palette)\n",
    "tf.set_range((0, 10))"
   ]
  },
  {
   "cell_type": "markdown",
   "metadata": {},
   "source": [
    "### Export field data to file"
   ]
  },
  {
   "cell_type": "code",
   "execution_count": null,
   "metadata": {},
   "outputs": [],
   "source": [
    "be = BioExplorer(hostname)\n",
    "core = be.core_api()\n",
    "fields_model_id = core.scene.models[len(core.scene.models)-1]['id']\n",
    "filename = cache_folder + 'spike_on_ace2.fields'\n",
    "print(filename)\n",
    "be.export_fields_to_file(\n",
    "    model_id=fields_model_id,\n",
    "    filename=filename)"
   ]
  }
 ],
 "metadata": {
  "kernelspec": {
   "display_name": "Python 3",
   "language": "python",
   "name": "python3"
  },
  "language_info": {
   "codemirror_mode": {
    "name": "ipython",
    "version": 3
   },
   "file_extension": ".py",
   "mimetype": "text/x-python",
   "name": "python",
   "nbconvert_exporter": "python",
   "pygments_lexer": "ipython3",
   "version": "3.8.5"
  }
 },
 "nbformat": 4,
 "nbformat_minor": 2
}
