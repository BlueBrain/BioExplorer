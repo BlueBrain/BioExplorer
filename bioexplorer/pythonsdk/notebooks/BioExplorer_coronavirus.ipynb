{
 "cells": [
  {
   "cell_type": "markdown",
   "metadata": {},
   "source": [
    "# Blue Brain BioExplorer\n",
    "\n",
    "![](./images/bioexplorer_banner.png)"
   ]
  },
  {
   "cell_type": "markdown",
   "metadata": {},
   "source": [
    "## Visualization of a Coronavirus"
   ]
  },
  {
   "cell_type": "code",
   "execution_count": null,
   "metadata": {},
   "outputs": [],
   "source": [
    "from bioexplorer import BioExplorer\n",
    "be = BioExplorer('localhost:5000')\n",
    "be.reset()\n",
    "print(be.version())"
   ]
  },
  {
   "cell_type": "code",
   "execution_count": null,
   "metadata": {
    "scrolled": true
   },
   "outputs": [],
   "source": [
    "# Resources\n",
    "resource_folder = '../tests/test_files/'"
   ]
  },
  {
   "cell_type": "code",
   "execution_count": null,
   "metadata": {},
   "outputs": [],
   "source": [
    "# Coronavirus\n",
    "name='Coronavirus'\n",
    "be.add_coronavirus(\n",
    "    name=name, resource_folder=resource_folder,\n",
    "#     representation=be.REPRESENTATION_ATOMS_AND_STICKS,\n",
    "    representation=be.REPRESENTATION_CONTOURS,\n",
    "    add_glycans=True)"
   ]
  },
  {
   "cell_type": "markdown",
   "metadata": {},
   "source": [
    "## Visualization of glycosylation sites on Spike protein"
   ]
  },
  {
   "cell_type": "code",
   "execution_count": null,
   "metadata": {},
   "outputs": [],
   "source": [
    "status = be.set_protein_color_scheme(\n",
    "    assembly_name=name, name=name + '_' + be.NAME_PROTEIN_S_CLOSED,\n",
    "    color_scheme=be.COLOR_SCHEME_GLYCOSYLATION_SITE,\n",
    "    palette_name='Paired', palette_size=2)"
   ]
  },
  {
   "cell_type": "markdown",
   "metadata": {},
   "source": [
    "## Visualization of chains on Spike protein"
   ]
  },
  {
   "cell_type": "code",
   "execution_count": null,
   "metadata": {},
   "outputs": [],
   "source": [
    "status = be.set_protein_color_scheme(\n",
    "    assembly_name=name, name=name + '_' + be.NAME_PROTEIN_S_CLOSED,\n",
    "    color_scheme=be.COLOR_SCHEME_CHAINS,\n",
    "    palette_name='Set3', palette_size=4)"
   ]
  },
  {
   "cell_type": "markdown",
   "metadata": {},
   "source": [
    "## Visualization of functional regions of Spike Protein"
   ]
  },
  {
   "cell_type": "code",
   "execution_count": null,
   "metadata": {},
   "outputs": [],
   "source": [
    "# Get number of amino acids for protein\n",
    "protein_name = name + '_' + be.NAME_PROTEIN_S_CLOSED\n",
    "protein_information = be.get_protein_amino_acid_information(\n",
    "    assembly_name=name, name=protein_name)\n",
    "nb_amino_acids=int(protein_information[0].split(',')[1])\n",
    "\n",
    "# RGB color palette for amino acid indices\n",
    "region_indices_and_colors = [\n",
    "    [   1, [1.0, 1.0, 1.0]], [  16, [0.0, 0.0, 1.0]], [ 306, [1.0, 1.0, 1.0]],\n",
    "    [ 330, [0.0, 1.0, 0.0]], [ 438, [0.0, 0.4, 0.0]], [ 507, [0.0, 1.0, 0.0]],\n",
    "    [ 522, [1.0, 1.0, 1.0]], [ 816, [1.0, 0.0, 0.0]], [ 835, [1.0, 1.0, 1.0]],\n",
    "    [ 908, [1.0, 1.0, 0.0]], [ 986, [1.0, 1.0, 1.0]], [1076, [1.0, 0.0, 1.0]],\n",
    "    [1274, [1.0, 1.0, 1.0]], [nb_amino_acids, [1.0, 1.0, 1.0]]\n",
    "]\n",
    "\n",
    "# Build a palette according to region colors\n",
    "palette = list()\n",
    "previous_index = 0\n",
    "for index in range(len(region_indices_and_colors)-1):\n",
    "    for i in range(region_indices_and_colors[index + 1][0] - \n",
    "                   region_indices_and_colors[index][0]):\n",
    "        palette.append(region_indices_and_colors[index][1])\n",
    "\n",
    "# Apply palette to region color scheme\n",
    "status = be.set_protein_color_scheme(\n",
    "    assembly_name=name, name=protein_name,\n",
    "    color_scheme=be.COLOR_SCHEME_REGION,\n",
    "    palette=palette)"
   ]
  },
  {
   "cell_type": "code",
   "execution_count": null,
   "metadata": {},
   "outputs": [],
   "source": []
  }
 ],
 "metadata": {
  "kernelspec": {
   "display_name": "Python 3",
   "language": "python",
   "name": "python3"
  },
  "language_info": {
   "codemirror_mode": {
    "name": "ipython",
    "version": 3
   },
   "file_extension": ".py",
   "mimetype": "text/x-python",
   "name": "python",
   "nbconvert_exporter": "python",
   "pygments_lexer": "ipython3",
   "version": "3.8.5"
  }
 },
 "nbformat": 4,
 "nbformat_minor": 4
}
