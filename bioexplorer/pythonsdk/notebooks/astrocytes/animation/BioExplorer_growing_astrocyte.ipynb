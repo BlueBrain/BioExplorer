{
    "cells": [
        {
            "attachments": {},
            "cell_type": "markdown",
            "id": "f992ef9f",
            "metadata": {},
            "source": [
                "# BioExplorer - Growing astrocytes\n",
                "![](../../bioexplorer_neurons_banner.png)"
            ]
        },
        {
            "cell_type": "markdown",
            "id": "084953fe",
            "metadata": {},
            "source": [
                "### Connect to back-end"
            ]
        },
        {
            "cell_type": "code",
            "execution_count": null,
            "id": "697e36dd",
            "metadata": {
                "scrolled": false
            },
            "outputs": [],
            "source": [
                "from bioexplorer import BioExplorer, AstrocyteDisplacementParams, Vector2, MovieMaker\n",
                "\n",
                "url = 'localhost:5000'\n",
                "be = BioExplorer(url)\n",
                "core = be.core_api()\n",
                "mm = MovieMaker(be)\n",
                "status = be.reset_scene()"
            ]
        },
        {
            "cell_type": "code",
            "execution_count": null,
            "id": "9ee5efc6",
            "metadata": {},
            "outputs": [],
            "source": [
                "status = core.set_camera(\n",
                "    orientation=[-0.07628849957958644, -0.20045627437046104, 0.07695927759210915, 0.9736912326245474],\n",
                "    position=[498.2092117887349, 1771.0670483583942, 363.5995067104092],\n",
                "    target=[546.0613498487652, 1757.0592811382753, 255.5450324101157],\n",
                ")\n",
                "status = core.set_renderer()"
            ]
        },
        {
            "cell_type": "code",
            "execution_count": null,
            "id": "5b570e87",
            "metadata": {},
            "outputs": [],
            "source": [
                "import seaborn as sns\n",
                "def set_morphology_materials(model_id, palette_name):\n",
                "    colors = list()\n",
                "    opacities = list()\n",
                "    refraction_indices = list()\n",
                "    specular_exponents = list()\n",
                "    shading_modes = list()\n",
                "    user_params = list()\n",
                "    glossinesses = list()\n",
                "    emissions = list()\n",
                "    \n",
                "    material_ids = be.get_material_ids(model_id)['ids']\n",
                "    palette_size = len(material_ids)\n",
                "    palette = sns.color_palette(palette_name, palette_size)\n",
                "\n",
                "    i = 0\n",
                "    for _ in material_ids:\n",
                "        colors.append(palette[i])\n",
                "        opacities.append(1.0)\n",
                "        shading_modes.append(be.SHADING_MODE_PERLIN)\n",
                "        glossinesses.append(0.1)\n",
                "        user_params.append(0.05)\n",
                "        specular_exponents.append(5.0)\n",
                "        emissions.append(0.0)\n",
                "        refraction_indices.append(1.0)\n",
                "        i += 1\n",
                "        \n",
                "    be.set_materials(\n",
                "        model_ids=[model_id], material_ids=material_ids,\n",
                "        diffuse_colors=colors, specular_colors=colors,\n",
                "        opacities=opacities, refraction_indices=refraction_indices,\n",
                "        shading_modes=shading_modes, specular_exponents=specular_exponents,\n",
                "        user_parameters=user_params, glossinesses=glossinesses,\n",
                "        emissions=emissions\n",
                "    )"
            ]
        },
        {
            "cell_type": "code",
            "execution_count": null,
            "id": "1132b6b6",
            "metadata": {},
            "outputs": [],
            "source": [
                "status = core.set_renderer(\n",
                "    background_color=[1,1,1],\n",
                "    current='bio_explorer',subsampling=4, max_accum_frames=64)\n",
                "params = core.BioExplorerRendererParams()\n",
                "params.gi_distance = 100.0\n",
                "params.shadows = 1.0\n",
                "params.soft_shadows = 1.0\n",
                "params.epsilon_factor = 1000.0\n",
                "params.max_bounces = 1\n",
                "params.show_background = False\n",
                "params.exposure = 1.0\n",
                "status = core.set_renderer_params(params)\n",
                "status = core.set_renderer()"
            ]
        },
        {
            "attachments": {},
            "cell_type": "markdown",
            "id": "a72cdcd5",
            "metadata": {},
            "source": [
                "### Load astrocytes"
            ]
        },
        {
            "cell_type": "code",
            "execution_count": null,
            "id": "3007d98c",
            "metadata": {},
            "outputs": [],
            "source": [
                "from tqdm import tqdm\n",
                "for i in tqdm(range(67)):\n",
                "    assembly_name = 'Astrocytes'\n",
                "    be.remove_assembly(assembly_name)\n",
                "    vasculature_assembly = be.add_assembly(assembly_name)\n",
                "    vasculature_model = be.add_astrocytes(\n",
                "        assembly_name=assembly_name,\n",
                "        population_name='Astrocytes',\n",
                "        population_color_scheme=be.POPULATION_COLOR_SCHEME_ID,\n",
                "        morphology_representation=be.MORPHOLOGY_REPRESENTATION_BEZIER,\n",
                "        load_dendrites=True,\n",
                "        morphology_color_scheme=be.MORPHOLOGY_COLOR_SCHEME_SECTION_TYPE,\n",
                "        realism_level=be.MORPHOLOGY_REALISM_LEVEL_ALL,\n",
                "        sql_filter='guid=7178',\n",
                "        displacement_params=AstrocyteDisplacementParams(\n",
                "            soma=Vector2(0.03, 0.7), section=Vector2(0.5, 5.0),\n",
                "            end_foot=Vector2(0.3, 1.0)\n",
                "        ),\n",
                "        max_distance_to_soma=i + 0.01\n",
                "    )\n",
                "    model_ids = be.get_model_ids()['ids']\n",
                "    set_morphology_materials(model_ids[0], 'coolwarm')\n",
                "    core.set_renderer()\n",
                "    mm.create_snapshot(\n",
                "        renderer='bio_explorer',\n",
                "        path='/tmp',\n",
                "        base_name='%05d' % i,\n",
                "        size=[1024, 1024], samples_per_pixel=64)\n"
            ]
        }
    ],
    "metadata": {
        "interpreter": {
            "hash": "ea9a5fa46eb6bad2806a8ea1d08e15bb1e255a2d4320b81e765591579963c56b"
        },
        "kernelspec": {
            "display_name": "Python 3.8.10 64-bit ('env': venv)",
            "language": "python",
            "name": "python3"
        },
        "language_info": {
            "codemirror_mode": {
                "name": "ipython",
                "version": 3
            },
            "file_extension": ".py",
            "mimetype": "text/x-python",
            "name": "python",
            "nbconvert_exporter": "python",
            "pygments_lexer": "ipython3",
            "version": "3.10.6"
        }
    },
    "nbformat": 4,
    "nbformat_minor": 5
}
