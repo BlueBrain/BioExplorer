{
    "cells": [
        {
            "cell_type": "markdown",
            "id": "f992ef9f",
            "metadata": {},
            "source": [
                "# BioExplorer - Animated astrocytes\n",
                "![](../../bioexplorer_neurons_banner.png)"
            ]
        },
        {
            "cell_type": "markdown",
            "metadata": {},
            "source": [
                "### Connect to back-end"
            ]
        },
        {
            "cell_type": "code",
            "execution_count": null,
            "metadata": {},
            "outputs": [],
            "source": [
                "from bioexplorer import BioExplorer, CellAnimationParams\n",
                "import seaborn as sns\n",
                "\n",
                "url = 'localhost:5000'\n",
                "be = BioExplorer(url)\n",
                "core = be.core_api()\n",
                "status = be.reset_scene()"
            ]
        },
        {
            "cell_type": "code",
            "execution_count": null,
            "id": "2d4790f4",
            "metadata": {},
            "outputs": [],
            "source": [
                "import seaborn as sns\n",
                "def set_morphology_materials(model_id, palette_name):\n",
                "    colors = list()\n",
                "    opacities = list()\n",
                "    refraction_indices = list()\n",
                "    specular_exponents = list()\n",
                "    shading_modes = list()\n",
                "    user_params = list()\n",
                "    glossinesses = list()\n",
                "    emissions = list()\n",
                "    \n",
                "    material_ids = be.get_material_ids(model_id)['ids']\n",
                "    palette = sns.color_palette(palette_name, be.NB_MATERIALS_PER_MORPHOLOGY)\n",
                "\n",
                "    for material_id in material_ids:\n",
                "        mid = material_id % be.NB_MATERIALS_PER_MORPHOLOGY\n",
                "        color = palette[mid]\n",
                "        if mid == be.NEURON_MATERIAL_MITOCHONDRION:\n",
                "            colors.append([1.0, 0.0, 1.0])\n",
                "            opacities.append(1.0)\n",
                "            shading_modes.append(be.SHADING_MODE_CARTOON)\n",
                "            glossinesses.append(1.0)\n",
                "            user_params.append(3.0)\n",
                "            specular_exponents.append(50.0)\n",
                "            emissions.append(0.25)\n",
                "        elif mid == be.NEURON_MATERIAL_NUCLEUS:\n",
                "            colors.append([1.0, 1.0, 1.0])\n",
                "            opacities.append(1.0)\n",
                "            shading_modes.append(be.SHADING_MODE_CARTOON)\n",
                "            glossinesses.append(1.0)\n",
                "            user_params.append(3.0)\n",
                "            specular_exponents.append(50.0)\n",
                "            emissions.append(0.0)\n",
                "        elif mid == be.NEURON_MATERIAL_SOMA:\n",
                "            colors.append(color)\n",
                "            opacities.append(0.75)\n",
                "            shading_modes.append(be.SHADING_MODE_CARTOON)\n",
                "            glossinesses.append(1.0)\n",
                "            user_params.append(3.0)\n",
                "            specular_exponents.append(50.0)\n",
                "            emissions.append(0.0)\n",
                "        else:\n",
                "            # Membrane\n",
                "            colors.append(color)\n",
                "            opacities.append(1.0)\n",
                "            shading_modes.append(be.SHADING_MODE_CARTOON)\n",
                "            glossinesses.append(1.0)\n",
                "            user_params.append(3.0)\n",
                "            specular_exponents.append(50.0)\n",
                "            emissions.append(0.0)\n",
                "            \n",
                "        refraction_indices.append(1.0)\n",
                "        \n",
                "    be.set_materials(\n",
                "        model_ids=[model_id], material_ids=material_ids,\n",
                "        diffuse_colors=colors, specular_colors=colors,\n",
                "        opacities=opacities, refraction_indices=refraction_indices,\n",
                "        shading_modes=shading_modes, specular_exponents=specular_exponents,\n",
                "        user_parameters=user_params, glossinesses=glossinesses,\n",
                "        emissions=emissions\n",
                "    )"
            ]
        },
        {
            "cell_type": "code",
            "execution_count": null,
            "id": "f0580de3",
            "metadata": {},
            "outputs": [],
            "source": [
                "status = be.set_rendering_quality(be.RENDERING_QUALITY_HIGH)"
            ]
        },
        {
            "cell_type": "markdown",
            "metadata": {},
            "source": [
                "### Load astrocytes"
            ]
        },
        {
            "cell_type": "code",
            "execution_count": null,
            "metadata": {},
            "outputs": [],
            "source": [
                "def add_astrocytes(seed, amplitude, frequency):\n",
                "    assembly_name = 'Astrocytes'\n",
                "    be.remove_assembly(assembly_name)\n",
                "    vasculature_assembly = be.add_assembly(assembly_name)\n",
                "    vasculature_model = be.add_astrocytes(\n",
                "        assembly_name=assembly_name,\n",
                "        population_name='astrocytes',\n",
                "        vasculature_population_name='vasculature',\n",
                "        population_color_scheme=be.POPULATION_COLOR_SCHEME_ID,\n",
                "        radius_multiplier=1.0,\n",
                "        morphology_color_scheme=be.MORPHOLOGY_COLOR_SCHEME_SECTION_TYPE,\n",
                "        realism_level=be.MORPHOLOGY_REALISM_LEVEL_ALL,\n",
                "        sql_filter='SQRT(POW(x-345.0, 2.0) + POW(y-1357.0, 2.0) + POW(z-599.0, 2.0)) < 100',\n",
                "        animation_params=CellAnimationParams(\n",
                "            seed=seed, offset=100, amplitude=amplitude, frequency=frequency)\n",
                "    )"
            ]
        },
        {
            "cell_type": "code",
            "execution_count": null,
            "id": "7cd24ef9",
            "metadata": {},
            "outputs": [],
            "source": [
                "status = core.set_renderer(\n",
                "    background_color=[0,0,0],\n",
                "    current='advanced',subsampling=4, max_accum_frames=64)\n",
                "params = core.AdvancedRendererParams()\n",
                "params.gi_ray_length = 10.0\n",
                "params.shadow_intensity = 1.0\n",
                "params.soft_shadow_strength = 0.0\n",
                "params.epsilon_multiplier = 40.0\n",
                "params.max_ray_depth = 10\n",
                "params.show_background = True\n",
                "params.main_exposure = 1.1\n",
                "status = core.set_renderer_params(params)\n",
                "status = core.set_renderer()"
            ]
        },
        {
            "cell_type": "code",
            "execution_count": null,
            "metadata": {},
            "outputs": [],
            "source": [
                "from bioexplorer import MovieMaker\n",
                "mm = MovieMaker(be)\n",
                "\n",
                "for i in range(0, 360):\n",
                "    add_astrocytes(seed=i, amplitude=0.3, frequency=0.1)\n",
                "    model_ids = be.get_model_ids()['ids']\n",
                "    offset = model_ids[0]\n",
                "    set_morphology_materials(offset, 'Reds')\n",
                "    status = core.set_renderer()\n",
                "    mm.create_snapshot(\n",
                "        renderer='advanced',\n",
                "        path='/tmp', base_name='%05d' % i,\n",
                "        size=[960, 540], samples_per_pixel=64)"
            ]
        }
    ],
    "metadata": {
        "interpreter": {
            "hash": "ea9a5fa46eb6bad2806a8ea1d08e15bb1e255a2d4320b81e765591579963c56b"
        },
        "kernelspec": {
            "display_name": "Python 3.8.10 64-bit ('env': venv)",
            "language": "python",
            "name": "python3"
        },
        "language_info": {
            "codemirror_mode": {
                "name": "ipython",
                "version": 3
            },
            "file_extension": ".py",
            "mimetype": "text/x-python",
            "name": "python",
            "nbconvert_exporter": "python",
            "pygments_lexer": "ipython3",
            "version": "3.8.10"
        }
    },
    "nbformat": 4,
    "nbformat_minor": 5
}