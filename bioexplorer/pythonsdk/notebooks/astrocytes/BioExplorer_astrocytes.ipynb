{
    "cells": [
        {
            "cell_type": "markdown",
            "id": "f992ef9f",
            "metadata": {},
            "source": [
                "# BioExplorer - Astrocytes\n",
                "![](../bioexplorer_neurons_banner.png)"
            ]
        },
        {
            "cell_type": "markdown",
            "metadata": {},
            "source": [
                "### Connect to back-end"
            ]
        },
        {
            "cell_type": "code",
            "execution_count": 11,
            "id": "bf680e43",
            "metadata": {},
            "outputs": [],
            "source": [
                "from bioexplorer import BioExplorer, AstrocyteDisplacementParams, Vector2\n",
                "\n",
                "url = 'localhost:5000'\n",
                "be = BioExplorer(url)\n",
                "core = be.core_api()\n",
                "status = be.reset_scene()"
            ]
        },
        {
            "cell_type": "markdown",
            "id": "f07bb42c",
            "metadata": {},
            "source": [
                "### Load astrocytes"
            ]
        },
        {
            "cell_type": "code",
            "execution_count": 12,
            "id": "dcbf1d04",
            "metadata": {},
            "outputs": [
                {
                    "ename": "RequestError",
                    "evalue": "Socket connection closed",
                    "output_type": "error",
                    "traceback": [
                        "\u001b[0;31m---------------------------------------------------------------------------\u001b[0m",
                        "\u001b[0;31mRequestError\u001b[0m                              Traceback (most recent call last)",
                        "\u001b[1;32m/home/favreau/code/favreau/BioExplorer/bioexplorer/pythonsdk/notebooks/astrocytes/BioExplorer_astrocytes.ipynb Cell 5\u001b[0m line \u001b[0;36m4\n\u001b[1;32m      <a href='vscode-notebook-cell:/home/favreau/code/favreau/BioExplorer/bioexplorer/pythonsdk/notebooks/astrocytes/BioExplorer_astrocytes.ipynb#W4sZmlsZQ%3D%3D?line=1'>2</a>\u001b[0m be\u001b[39m.\u001b[39mremove_assembly(assembly_name)\n\u001b[1;32m      <a href='vscode-notebook-cell:/home/favreau/code/favreau/BioExplorer/bioexplorer/pythonsdk/notebooks/astrocytes/BioExplorer_astrocytes.ipynb#W4sZmlsZQ%3D%3D?line=2'>3</a>\u001b[0m vasculature_assembly \u001b[39m=\u001b[39m be\u001b[39m.\u001b[39madd_assembly(assembly_name)\n\u001b[0;32m----> <a href='vscode-notebook-cell:/home/favreau/code/favreau/BioExplorer/bioexplorer/pythonsdk/notebooks/astrocytes/BioExplorer_astrocytes.ipynb#W4sZmlsZQ%3D%3D?line=3'>4</a>\u001b[0m vasculature_model \u001b[39m=\u001b[39m be\u001b[39m.\u001b[39;49madd_astrocytes(\n\u001b[1;32m      <a href='vscode-notebook-cell:/home/favreau/code/favreau/BioExplorer/bioexplorer/pythonsdk/notebooks/astrocytes/BioExplorer_astrocytes.ipynb#W4sZmlsZQ%3D%3D?line=4'>5</a>\u001b[0m     assembly_name\u001b[39m=\u001b[39;49massembly_name,\n\u001b[1;32m      <a href='vscode-notebook-cell:/home/favreau/code/favreau/BioExplorer/bioexplorer/pythonsdk/notebooks/astrocytes/BioExplorer_astrocytes.ipynb#W4sZmlsZQ%3D%3D?line=5'>6</a>\u001b[0m     population_name\u001b[39m=\u001b[39;49m\u001b[39m'\u001b[39;49m\u001b[39mAstrocytes\u001b[39;49m\u001b[39m'\u001b[39;49m,\n\u001b[1;32m      <a href='vscode-notebook-cell:/home/favreau/code/favreau/BioExplorer/bioexplorer/pythonsdk/notebooks/astrocytes/BioExplorer_astrocytes.ipynb#W4sZmlsZQ%3D%3D?line=6'>7</a>\u001b[0m     vasculature_population_name\u001b[39m=\u001b[39;49m\u001b[39m'\u001b[39;49m\u001b[39mVasculature\u001b[39;49m\u001b[39m'\u001b[39;49m,\n\u001b[1;32m      <a href='vscode-notebook-cell:/home/favreau/code/favreau/BioExplorer/bioexplorer/pythonsdk/notebooks/astrocytes/BioExplorer_astrocytes.ipynb#W4sZmlsZQ%3D%3D?line=7'>8</a>\u001b[0m     population_color_scheme\u001b[39m=\u001b[39;49mbe\u001b[39m.\u001b[39;49mPOPULATION_COLOR_SCHEME_ID,\n\u001b[1;32m      <a href='vscode-notebook-cell:/home/favreau/code/favreau/BioExplorer/bioexplorer/pythonsdk/notebooks/astrocytes/BioExplorer_astrocytes.ipynb#W4sZmlsZQ%3D%3D?line=8'>9</a>\u001b[0m     morphology_representation\u001b[39m=\u001b[39;49mbe\u001b[39m.\u001b[39;49mMORPHOLOGY_REPRESENTATION_BEZIER,\n\u001b[1;32m     <a href='vscode-notebook-cell:/home/favreau/code/favreau/BioExplorer/bioexplorer/pythonsdk/notebooks/astrocytes/BioExplorer_astrocytes.ipynb#W4sZmlsZQ%3D%3D?line=9'>10</a>\u001b[0m     load_micro_domain\u001b[39m=\u001b[39;49m\u001b[39mFalse\u001b[39;49;00m,\n\u001b[1;32m     <a href='vscode-notebook-cell:/home/favreau/code/favreau/BioExplorer/bioexplorer/pythonsdk/notebooks/astrocytes/BioExplorer_astrocytes.ipynb#W4sZmlsZQ%3D%3D?line=10'>11</a>\u001b[0m     load_dendrites\u001b[39m=\u001b[39;49m\u001b[39mTrue\u001b[39;49;00m,\n\u001b[1;32m     <a href='vscode-notebook-cell:/home/favreau/code/favreau/BioExplorer/bioexplorer/pythonsdk/notebooks/astrocytes/BioExplorer_astrocytes.ipynb#W4sZmlsZQ%3D%3D?line=11'>12</a>\u001b[0m     morphology_color_scheme\u001b[39m=\u001b[39;49mbe\u001b[39m.\u001b[39;49mMORPHOLOGY_COLOR_SCHEME_SECTION_TYPE,\n\u001b[1;32m     <a href='vscode-notebook-cell:/home/favreau/code/favreau/BioExplorer/bioexplorer/pythonsdk/notebooks/astrocytes/BioExplorer_astrocytes.ipynb#W4sZmlsZQ%3D%3D?line=12'>13</a>\u001b[0m     realism_level\u001b[39m=\u001b[39;49mbe\u001b[39m.\u001b[39;49mMORPHOLOGY_REALISM_LEVEL_ALL,\n\u001b[1;32m     <a href='vscode-notebook-cell:/home/favreau/code/favreau/BioExplorer/bioexplorer/pythonsdk/notebooks/astrocytes/BioExplorer_astrocytes.ipynb#W4sZmlsZQ%3D%3D?line=13'>14</a>\u001b[0m     sql_filter\u001b[39m=\u001b[39;49m\u001b[39m'\u001b[39;49m\u001b[39mguid=7178\u001b[39;49m\u001b[39m'\u001b[39;49m,\n\u001b[1;32m     <a href='vscode-notebook-cell:/home/favreau/code/favreau/BioExplorer/bioexplorer/pythonsdk/notebooks/astrocytes/BioExplorer_astrocytes.ipynb#W4sZmlsZQ%3D%3D?line=14'>15</a>\u001b[0m     displacement_params\u001b[39m=\u001b[39;49mAstrocyteDisplacementParams(\n\u001b[1;32m     <a href='vscode-notebook-cell:/home/favreau/code/favreau/BioExplorer/bioexplorer/pythonsdk/notebooks/astrocytes/BioExplorer_astrocytes.ipynb#W4sZmlsZQ%3D%3D?line=15'>16</a>\u001b[0m         soma\u001b[39m=\u001b[39;49mVector2(\u001b[39m0.1\u001b[39;49m, \u001b[39m0.5\u001b[39;49m), section\u001b[39m=\u001b[39;49mVector2(\u001b[39m0.5\u001b[39;49m, \u001b[39m5.0\u001b[39;49m),\n\u001b[1;32m     <a href='vscode-notebook-cell:/home/favreau/code/favreau/BioExplorer/bioexplorer/pythonsdk/notebooks/astrocytes/BioExplorer_astrocytes.ipynb#W4sZmlsZQ%3D%3D?line=16'>17</a>\u001b[0m         end_foot\u001b[39m=\u001b[39;49mVector2(\u001b[39m0.3\u001b[39;49m, \u001b[39m1.0\u001b[39;49m)\n\u001b[1;32m     <a href='vscode-notebook-cell:/home/favreau/code/favreau/BioExplorer/bioexplorer/pythonsdk/notebooks/astrocytes/BioExplorer_astrocytes.ipynb#W4sZmlsZQ%3D%3D?line=17'>18</a>\u001b[0m     )\n\u001b[1;32m     <a href='vscode-notebook-cell:/home/favreau/code/favreau/BioExplorer/bioexplorer/pythonsdk/notebooks/astrocytes/BioExplorer_astrocytes.ipynb#W4sZmlsZQ%3D%3D?line=18'>19</a>\u001b[0m )\n",
                        "File \u001b[0;32m~/Notebooks/env/lib/python3.10/site-packages/bioexplorer/bio_explorer.py:3306\u001b[0m, in \u001b[0;36mBioExplorer.add_astrocytes\u001b[0;34m(self, assembly_name, population_name, vasculature_population_name, realism_level, load_somas, load_dendrites, generate_internals, load_micro_domain, morphology_representation, micro_domain_representation, morphology_color_scheme, population_color_scheme, radius_multiplier, sql_filter, scale, animation_params, displacement_params, max_distance_to_soma, align_to_grid)\u001b[0m\n\u001b[1;32m   3304\u001b[0m params[\u001b[39m\"\u001b[39m\u001b[39mmaxDistanceToSoma\u001b[39m\u001b[39m\"\u001b[39m] \u001b[39m=\u001b[39m max_distance_to_soma\n\u001b[1;32m   3305\u001b[0m params[\u001b[39m\"\u001b[39m\u001b[39malignToGrid\u001b[39m\u001b[39m\"\u001b[39m] \u001b[39m=\u001b[39m align_to_grid\n\u001b[0;32m-> 3306\u001b[0m \u001b[39mreturn\u001b[39;00m \u001b[39mself\u001b[39;49m\u001b[39m.\u001b[39;49m_invoke_and_check(\u001b[39m\"\u001b[39;49m\u001b[39madd-astrocytes\u001b[39;49m\u001b[39m\"\u001b[39;49m, params)\n",
                        "File \u001b[0;32m~/Notebooks/env/lib/python3.10/site-packages/bioexplorer/bio_explorer.py:720\u001b[0m, in \u001b[0;36mBioExplorer._invoke_and_check\u001b[0;34m(self, method, params)\u001b[0m\n\u001b[1;32m    718\u001b[0m \u001b[39mdef\u001b[39;00m \u001b[39m_invoke_and_check\u001b[39m(\u001b[39mself\u001b[39m, method, params\u001b[39m=\u001b[39m\u001b[39mNone\u001b[39;00m):\n\u001b[1;32m    719\u001b[0m     prefixed_method \u001b[39m=\u001b[39m \u001b[39mself\u001b[39m\u001b[39m.\u001b[39mPLUGIN_API_PREFIX \u001b[39m+\u001b[39m method\n\u001b[0;32m--> 720\u001b[0m     response \u001b[39m=\u001b[39m \u001b[39mself\u001b[39;49m\u001b[39m.\u001b[39;49m_client\u001b[39m.\u001b[39;49mrockets_client\u001b[39m.\u001b[39;49mrequest(\n\u001b[1;32m    721\u001b[0m         method\u001b[39m=\u001b[39;49mprefixed_method, params\u001b[39m=\u001b[39;49mparams\n\u001b[1;32m    722\u001b[0m     )\n\u001b[1;32m    723\u001b[0m     \u001b[39mreturn\u001b[39;00m \u001b[39mself\u001b[39m\u001b[39m.\u001b[39m_check(response)\n",
                        "File \u001b[0;32m~/Notebooks/env/lib/python3.10/site-packages/rockets/client.py:100\u001b[0m, in \u001b[0;36mClient.request\u001b[0;34m(self, method, params, response_timeout)\u001b[0m\n\u001b[1;32m     92\u001b[0m \u001b[39m@copydoc\u001b[39m(AsyncClient\u001b[39m.\u001b[39mrequest)\n\u001b[1;32m     93\u001b[0m \u001b[39mdef\u001b[39;00m \u001b[39mrequest\u001b[39m(\n\u001b[1;32m     94\u001b[0m     \u001b[39mself\u001b[39m, method, params\u001b[39m=\u001b[39m\u001b[39mNone\u001b[39;00m, response_timeout\u001b[39m=\u001b[39m\u001b[39mNone\u001b[39;00m\n\u001b[1;32m     95\u001b[0m ):  \u001b[39m# noqa: D102,D205 pylint: disable=C0111,W9011,W9012,W9015,W9016\u001b[39;00m\n\u001b[1;32m     96\u001b[0m \u001b[39m    \u001b[39m\u001b[39m\"\"\"\u001b[39;00m\n\u001b[1;32m     97\u001b[0m \u001b[39m    :param int response_timeout: number of seconds to wait for the response\u001b[39;00m\n\u001b[1;32m     98\u001b[0m \u001b[39m    :raises TimeoutError: if request was not answered within given response_timeout\u001b[39;00m\n\u001b[1;32m     99\u001b[0m \u001b[39m    \"\"\"\u001b[39;00m\n\u001b[0;32m--> 100\u001b[0m     \u001b[39mreturn\u001b[39;00m \u001b[39mself\u001b[39;49m\u001b[39m.\u001b[39;49m_call_sync(\u001b[39mself\u001b[39;49m\u001b[39m.\u001b[39;49m_client\u001b[39m.\u001b[39;49mrequest(method, params), response_timeout)\n",
                        "File \u001b[0;32m~/Notebooks/env/lib/python3.10/site-packages/rockets/client.py:119\u001b[0m, in \u001b[0;36mClient._call_sync\u001b[0;34m(self, original_function, response_timeout)\u001b[0m\n\u001b[1;32m    115\u001b[0m \u001b[39mif\u001b[39;00m \u001b[39mself\u001b[39m\u001b[39m.\u001b[39m_thread:\n\u001b[1;32m    116\u001b[0m     future \u001b[39m=\u001b[39m asyncio\u001b[39m.\u001b[39mrun_coroutine_threadsafe(\n\u001b[1;32m    117\u001b[0m         original_function, \u001b[39mself\u001b[39m\u001b[39m.\u001b[39m_client\u001b[39m.\u001b[39mloop\n\u001b[1;32m    118\u001b[0m     )\n\u001b[0;32m--> 119\u001b[0m     \u001b[39mreturn\u001b[39;00m future\u001b[39m.\u001b[39;49mresult(response_timeout)\n\u001b[1;32m    120\u001b[0m \u001b[39mreturn\u001b[39;00m \u001b[39mself\u001b[39m\u001b[39m.\u001b[39m_client\u001b[39m.\u001b[39mloop\u001b[39m.\u001b[39mrun_until_complete(original_function)\n",
                        "File \u001b[0;32m/usr/lib/python3.10/concurrent/futures/_base.py:458\u001b[0m, in \u001b[0;36mFuture.result\u001b[0;34m(self, timeout)\u001b[0m\n\u001b[1;32m    456\u001b[0m     \u001b[39mraise\u001b[39;00m CancelledError()\n\u001b[1;32m    457\u001b[0m \u001b[39melif\u001b[39;00m \u001b[39mself\u001b[39m\u001b[39m.\u001b[39m_state \u001b[39m==\u001b[39m FINISHED:\n\u001b[0;32m--> 458\u001b[0m     \u001b[39mreturn\u001b[39;00m \u001b[39mself\u001b[39;49m\u001b[39m.\u001b[39;49m__get_result()\n\u001b[1;32m    459\u001b[0m \u001b[39melse\u001b[39;00m:\n\u001b[1;32m    460\u001b[0m     \u001b[39mraise\u001b[39;00m \u001b[39mTimeoutError\u001b[39;00m()\n",
                        "File \u001b[0;32m/usr/lib/python3.10/concurrent/futures/_base.py:403\u001b[0m, in \u001b[0;36mFuture.__get_result\u001b[0;34m(self)\u001b[0m\n\u001b[1;32m    401\u001b[0m \u001b[39mif\u001b[39;00m \u001b[39mself\u001b[39m\u001b[39m.\u001b[39m_exception:\n\u001b[1;32m    402\u001b[0m     \u001b[39mtry\u001b[39;00m:\n\u001b[0;32m--> 403\u001b[0m         \u001b[39mraise\u001b[39;00m \u001b[39mself\u001b[39m\u001b[39m.\u001b[39m_exception\n\u001b[1;32m    404\u001b[0m     \u001b[39mfinally\u001b[39;00m:\n\u001b[1;32m    405\u001b[0m         \u001b[39m# Break a reference cycle with the exception in self._exception\u001b[39;00m\n\u001b[1;32m    406\u001b[0m         \u001b[39mself\u001b[39m \u001b[39m=\u001b[39m \u001b[39mNone\u001b[39;00m\n",
                        "File \u001b[0;32m~/Notebooks/env/lib/python3.10/site-packages/rockets/async_client.py:171\u001b[0m, in \u001b[0;36mAsyncClient.request\u001b[0;34m(self, method, params)\u001b[0m\n\u001b[1;32m    168\u001b[0m     \u001b[39mself\u001b[39m\u001b[39m.\u001b[39m_setup_progress_filter(response_future, request_id)\n\u001b[1;32m    170\u001b[0m     \u001b[39mawait\u001b[39;00m \u001b[39mself\u001b[39m\u001b[39m.\u001b[39msend(request\u001b[39m.\u001b[39mjson)\n\u001b[0;32m--> 171\u001b[0m     \u001b[39mawait\u001b[39;00m response_future\n\u001b[1;32m    172\u001b[0m     \u001b[39mreturn\u001b[39;00m response_future\u001b[39m.\u001b[39mresult()\n\u001b[1;32m    173\u001b[0m \u001b[39mexcept\u001b[39;00m asyncio\u001b[39m.\u001b[39mCancelledError:\n",
                        "    \u001b[0;31m[... skipping hidden 1 frame]\u001b[0m\n",
                        "\u001b[1;32m/home/favreau/code/favreau/BioExplorer/bioexplorer/pythonsdk/notebooks/astrocytes/BioExplorer_astrocytes.ipynb Cell 5\u001b[0m line \u001b[0;36m4\n\u001b[1;32m      <a href='vscode-notebook-cell:/home/favreau/code/favreau/BioExplorer/bioexplorer/pythonsdk/notebooks/astrocytes/BioExplorer_astrocytes.ipynb#W4sZmlsZQ%3D%3D?line=1'>2</a>\u001b[0m be\u001b[39m.\u001b[39mremove_assembly(assembly_name)\n\u001b[1;32m      <a href='vscode-notebook-cell:/home/favreau/code/favreau/BioExplorer/bioexplorer/pythonsdk/notebooks/astrocytes/BioExplorer_astrocytes.ipynb#W4sZmlsZQ%3D%3D?line=2'>3</a>\u001b[0m vasculature_assembly \u001b[39m=\u001b[39m be\u001b[39m.\u001b[39madd_assembly(assembly_name)\n\u001b[0;32m----> <a href='vscode-notebook-cell:/home/favreau/code/favreau/BioExplorer/bioexplorer/pythonsdk/notebooks/astrocytes/BioExplorer_astrocytes.ipynb#W4sZmlsZQ%3D%3D?line=3'>4</a>\u001b[0m vasculature_model \u001b[39m=\u001b[39m be\u001b[39m.\u001b[39;49madd_astrocytes(\n\u001b[1;32m      <a href='vscode-notebook-cell:/home/favreau/code/favreau/BioExplorer/bioexplorer/pythonsdk/notebooks/astrocytes/BioExplorer_astrocytes.ipynb#W4sZmlsZQ%3D%3D?line=4'>5</a>\u001b[0m     assembly_name\u001b[39m=\u001b[39;49massembly_name,\n\u001b[1;32m      <a href='vscode-notebook-cell:/home/favreau/code/favreau/BioExplorer/bioexplorer/pythonsdk/notebooks/astrocytes/BioExplorer_astrocytes.ipynb#W4sZmlsZQ%3D%3D?line=5'>6</a>\u001b[0m     population_name\u001b[39m=\u001b[39;49m\u001b[39m'\u001b[39;49m\u001b[39mAstrocytes\u001b[39;49m\u001b[39m'\u001b[39;49m,\n\u001b[1;32m      <a href='vscode-notebook-cell:/home/favreau/code/favreau/BioExplorer/bioexplorer/pythonsdk/notebooks/astrocytes/BioExplorer_astrocytes.ipynb#W4sZmlsZQ%3D%3D?line=6'>7</a>\u001b[0m     vasculature_population_name\u001b[39m=\u001b[39;49m\u001b[39m'\u001b[39;49m\u001b[39mVasculature\u001b[39;49m\u001b[39m'\u001b[39;49m,\n\u001b[1;32m      <a href='vscode-notebook-cell:/home/favreau/code/favreau/BioExplorer/bioexplorer/pythonsdk/notebooks/astrocytes/BioExplorer_astrocytes.ipynb#W4sZmlsZQ%3D%3D?line=7'>8</a>\u001b[0m     population_color_scheme\u001b[39m=\u001b[39;49mbe\u001b[39m.\u001b[39;49mPOPULATION_COLOR_SCHEME_ID,\n\u001b[1;32m      <a href='vscode-notebook-cell:/home/favreau/code/favreau/BioExplorer/bioexplorer/pythonsdk/notebooks/astrocytes/BioExplorer_astrocytes.ipynb#W4sZmlsZQ%3D%3D?line=8'>9</a>\u001b[0m     morphology_representation\u001b[39m=\u001b[39;49mbe\u001b[39m.\u001b[39;49mMORPHOLOGY_REPRESENTATION_BEZIER,\n\u001b[1;32m     <a href='vscode-notebook-cell:/home/favreau/code/favreau/BioExplorer/bioexplorer/pythonsdk/notebooks/astrocytes/BioExplorer_astrocytes.ipynb#W4sZmlsZQ%3D%3D?line=9'>10</a>\u001b[0m     load_micro_domain\u001b[39m=\u001b[39;49m\u001b[39mFalse\u001b[39;49;00m,\n\u001b[1;32m     <a href='vscode-notebook-cell:/home/favreau/code/favreau/BioExplorer/bioexplorer/pythonsdk/notebooks/astrocytes/BioExplorer_astrocytes.ipynb#W4sZmlsZQ%3D%3D?line=10'>11</a>\u001b[0m     load_dendrites\u001b[39m=\u001b[39;49m\u001b[39mTrue\u001b[39;49;00m,\n\u001b[1;32m     <a href='vscode-notebook-cell:/home/favreau/code/favreau/BioExplorer/bioexplorer/pythonsdk/notebooks/astrocytes/BioExplorer_astrocytes.ipynb#W4sZmlsZQ%3D%3D?line=11'>12</a>\u001b[0m     morphology_color_scheme\u001b[39m=\u001b[39;49mbe\u001b[39m.\u001b[39;49mMORPHOLOGY_COLOR_SCHEME_SECTION_TYPE,\n\u001b[1;32m     <a href='vscode-notebook-cell:/home/favreau/code/favreau/BioExplorer/bioexplorer/pythonsdk/notebooks/astrocytes/BioExplorer_astrocytes.ipynb#W4sZmlsZQ%3D%3D?line=12'>13</a>\u001b[0m     realism_level\u001b[39m=\u001b[39;49mbe\u001b[39m.\u001b[39;49mMORPHOLOGY_REALISM_LEVEL_ALL,\n\u001b[1;32m     <a href='vscode-notebook-cell:/home/favreau/code/favreau/BioExplorer/bioexplorer/pythonsdk/notebooks/astrocytes/BioExplorer_astrocytes.ipynb#W4sZmlsZQ%3D%3D?line=13'>14</a>\u001b[0m     sql_filter\u001b[39m=\u001b[39;49m\u001b[39m'\u001b[39;49m\u001b[39mguid=7178\u001b[39;49m\u001b[39m'\u001b[39;49m,\n\u001b[1;32m     <a href='vscode-notebook-cell:/home/favreau/code/favreau/BioExplorer/bioexplorer/pythonsdk/notebooks/astrocytes/BioExplorer_astrocytes.ipynb#W4sZmlsZQ%3D%3D?line=14'>15</a>\u001b[0m     displacement_params\u001b[39m=\u001b[39;49mAstrocyteDisplacementParams(\n\u001b[1;32m     <a href='vscode-notebook-cell:/home/favreau/code/favreau/BioExplorer/bioexplorer/pythonsdk/notebooks/astrocytes/BioExplorer_astrocytes.ipynb#W4sZmlsZQ%3D%3D?line=15'>16</a>\u001b[0m         soma\u001b[39m=\u001b[39;49mVector2(\u001b[39m0.1\u001b[39;49m, \u001b[39m0.5\u001b[39;49m), section\u001b[39m=\u001b[39;49mVector2(\u001b[39m0.5\u001b[39;49m, \u001b[39m5.0\u001b[39;49m),\n\u001b[1;32m     <a href='vscode-notebook-cell:/home/favreau/code/favreau/BioExplorer/bioexplorer/pythonsdk/notebooks/astrocytes/BioExplorer_astrocytes.ipynb#W4sZmlsZQ%3D%3D?line=16'>17</a>\u001b[0m         end_foot\u001b[39m=\u001b[39;49mVector2(\u001b[39m0.3\u001b[39;49m, \u001b[39m1.0\u001b[39;49m)\n\u001b[1;32m     <a href='vscode-notebook-cell:/home/favreau/code/favreau/BioExplorer/bioexplorer/pythonsdk/notebooks/astrocytes/BioExplorer_astrocytes.ipynb#W4sZmlsZQ%3D%3D?line=17'>18</a>\u001b[0m     )\n\u001b[1;32m     <a href='vscode-notebook-cell:/home/favreau/code/favreau/BioExplorer/bioexplorer/pythonsdk/notebooks/astrocytes/BioExplorer_astrocytes.ipynb#W4sZmlsZQ%3D%3D?line=18'>19</a>\u001b[0m )\n",
                        "File \u001b[0;32m~/Notebooks/env/lib/python3.10/site-packages/bioexplorer/bio_explorer.py:3306\u001b[0m, in \u001b[0;36mBioExplorer.add_astrocytes\u001b[0;34m(self, assembly_name, population_name, vasculature_population_name, realism_level, load_somas, load_dendrites, generate_internals, load_micro_domain, morphology_representation, micro_domain_representation, morphology_color_scheme, population_color_scheme, radius_multiplier, sql_filter, scale, animation_params, displacement_params, max_distance_to_soma, align_to_grid)\u001b[0m\n\u001b[1;32m   3304\u001b[0m params[\u001b[39m\"\u001b[39m\u001b[39mmaxDistanceToSoma\u001b[39m\u001b[39m\"\u001b[39m] \u001b[39m=\u001b[39m max_distance_to_soma\n\u001b[1;32m   3305\u001b[0m params[\u001b[39m\"\u001b[39m\u001b[39malignToGrid\u001b[39m\u001b[39m\"\u001b[39m] \u001b[39m=\u001b[39m align_to_grid\n\u001b[0;32m-> 3306\u001b[0m \u001b[39mreturn\u001b[39;00m \u001b[39mself\u001b[39;49m\u001b[39m.\u001b[39;49m_invoke_and_check(\u001b[39m\"\u001b[39;49m\u001b[39madd-astrocytes\u001b[39;49m\u001b[39m\"\u001b[39;49m, params)\n",
                        "File \u001b[0;32m~/Notebooks/env/lib/python3.10/site-packages/bioexplorer/bio_explorer.py:720\u001b[0m, in \u001b[0;36mBioExplorer._invoke_and_check\u001b[0;34m(self, method, params)\u001b[0m\n\u001b[1;32m    718\u001b[0m \u001b[39mdef\u001b[39;00m \u001b[39m_invoke_and_check\u001b[39m(\u001b[39mself\u001b[39m, method, params\u001b[39m=\u001b[39m\u001b[39mNone\u001b[39;00m):\n\u001b[1;32m    719\u001b[0m     prefixed_method \u001b[39m=\u001b[39m \u001b[39mself\u001b[39m\u001b[39m.\u001b[39mPLUGIN_API_PREFIX \u001b[39m+\u001b[39m method\n\u001b[0;32m--> 720\u001b[0m     response \u001b[39m=\u001b[39m \u001b[39mself\u001b[39;49m\u001b[39m.\u001b[39;49m_client\u001b[39m.\u001b[39;49mrockets_client\u001b[39m.\u001b[39;49mrequest(\n\u001b[1;32m    721\u001b[0m         method\u001b[39m=\u001b[39;49mprefixed_method, params\u001b[39m=\u001b[39;49mparams\n\u001b[1;32m    722\u001b[0m     )\n\u001b[1;32m    723\u001b[0m     \u001b[39mreturn\u001b[39;00m \u001b[39mself\u001b[39m\u001b[39m.\u001b[39m_check(response)\n",
                        "File \u001b[0;32m~/Notebooks/env/lib/python3.10/site-packages/rockets/client.py:100\u001b[0m, in \u001b[0;36mClient.request\u001b[0;34m(self, method, params, response_timeout)\u001b[0m\n\u001b[1;32m     92\u001b[0m \u001b[39m@copydoc\u001b[39m(AsyncClient\u001b[39m.\u001b[39mrequest)\n\u001b[1;32m     93\u001b[0m \u001b[39mdef\u001b[39;00m \u001b[39mrequest\u001b[39m(\n\u001b[1;32m     94\u001b[0m     \u001b[39mself\u001b[39m, method, params\u001b[39m=\u001b[39m\u001b[39mNone\u001b[39;00m, response_timeout\u001b[39m=\u001b[39m\u001b[39mNone\u001b[39;00m\n\u001b[1;32m     95\u001b[0m ):  \u001b[39m# noqa: D102,D205 pylint: disable=C0111,W9011,W9012,W9015,W9016\u001b[39;00m\n\u001b[1;32m     96\u001b[0m \u001b[39m    \u001b[39m\u001b[39m\"\"\"\u001b[39;00m\n\u001b[1;32m     97\u001b[0m \u001b[39m    :param int response_timeout: number of seconds to wait for the response\u001b[39;00m\n\u001b[1;32m     98\u001b[0m \u001b[39m    :raises TimeoutError: if request was not answered within given response_timeout\u001b[39;00m\n\u001b[1;32m     99\u001b[0m \u001b[39m    \"\"\"\u001b[39;00m\n\u001b[0;32m--> 100\u001b[0m     \u001b[39mreturn\u001b[39;00m \u001b[39mself\u001b[39;49m\u001b[39m.\u001b[39;49m_call_sync(\u001b[39mself\u001b[39;49m\u001b[39m.\u001b[39;49m_client\u001b[39m.\u001b[39;49mrequest(method, params), response_timeout)\n",
                        "File \u001b[0;32m~/Notebooks/env/lib/python3.10/site-packages/rockets/client.py:119\u001b[0m, in \u001b[0;36mClient._call_sync\u001b[0;34m(self, original_function, response_timeout)\u001b[0m\n\u001b[1;32m    115\u001b[0m \u001b[39mif\u001b[39;00m \u001b[39mself\u001b[39m\u001b[39m.\u001b[39m_thread:\n\u001b[1;32m    116\u001b[0m     future \u001b[39m=\u001b[39m asyncio\u001b[39m.\u001b[39mrun_coroutine_threadsafe(\n\u001b[1;32m    117\u001b[0m         original_function, \u001b[39mself\u001b[39m\u001b[39m.\u001b[39m_client\u001b[39m.\u001b[39mloop\n\u001b[1;32m    118\u001b[0m     )\n\u001b[0;32m--> 119\u001b[0m     \u001b[39mreturn\u001b[39;00m future\u001b[39m.\u001b[39;49mresult(response_timeout)\n\u001b[1;32m    120\u001b[0m \u001b[39mreturn\u001b[39;00m \u001b[39mself\u001b[39m\u001b[39m.\u001b[39m_client\u001b[39m.\u001b[39mloop\u001b[39m.\u001b[39mrun_until_complete(original_function)\n",
                        "File \u001b[0;32m/usr/lib/python3.10/concurrent/futures/_base.py:458\u001b[0m, in \u001b[0;36mFuture.result\u001b[0;34m(self, timeout)\u001b[0m\n\u001b[1;32m    456\u001b[0m     \u001b[39mraise\u001b[39;00m CancelledError()\n\u001b[1;32m    457\u001b[0m \u001b[39melif\u001b[39;00m \u001b[39mself\u001b[39m\u001b[39m.\u001b[39m_state \u001b[39m==\u001b[39m FINISHED:\n\u001b[0;32m--> 458\u001b[0m     \u001b[39mreturn\u001b[39;00m \u001b[39mself\u001b[39;49m\u001b[39m.\u001b[39;49m__get_result()\n\u001b[1;32m    459\u001b[0m \u001b[39melse\u001b[39;00m:\n\u001b[1;32m    460\u001b[0m     \u001b[39mraise\u001b[39;00m \u001b[39mTimeoutError\u001b[39;00m()\n",
                        "File \u001b[0;32m/usr/lib/python3.10/concurrent/futures/_base.py:403\u001b[0m, in \u001b[0;36mFuture.__get_result\u001b[0;34m(self)\u001b[0m\n\u001b[1;32m    401\u001b[0m \u001b[39mif\u001b[39;00m \u001b[39mself\u001b[39m\u001b[39m.\u001b[39m_exception:\n\u001b[1;32m    402\u001b[0m     \u001b[39mtry\u001b[39;00m:\n\u001b[0;32m--> 403\u001b[0m         \u001b[39mraise\u001b[39;00m \u001b[39mself\u001b[39m\u001b[39m.\u001b[39m_exception\n\u001b[1;32m    404\u001b[0m     \u001b[39mfinally\u001b[39;00m:\n\u001b[1;32m    405\u001b[0m         \u001b[39m# Break a reference cycle with the exception in self._exception\u001b[39;00m\n\u001b[1;32m    406\u001b[0m         \u001b[39mself\u001b[39m \u001b[39m=\u001b[39m \u001b[39mNone\u001b[39;00m\n",
                        "File \u001b[0;32m~/Notebooks/env/lib/python3.10/site-packages/rockets/async_client.py:171\u001b[0m, in \u001b[0;36mAsyncClient.request\u001b[0;34m(self, method, params)\u001b[0m\n\u001b[1;32m    168\u001b[0m     \u001b[39mself\u001b[39m\u001b[39m.\u001b[39m_setup_progress_filter(response_future, request_id)\n\u001b[1;32m    170\u001b[0m     \u001b[39mawait\u001b[39;00m \u001b[39mself\u001b[39m\u001b[39m.\u001b[39msend(request\u001b[39m.\u001b[39mjson)\n\u001b[0;32m--> 171\u001b[0m     \u001b[39mawait\u001b[39;00m response_future\n\u001b[1;32m    172\u001b[0m     \u001b[39mreturn\u001b[39;00m response_future\u001b[39m.\u001b[39mresult()\n\u001b[1;32m    173\u001b[0m \u001b[39mexcept\u001b[39;00m asyncio\u001b[39m.\u001b[39mCancelledError:\n",
                        "    \u001b[0;31m[... skipping hidden 1 frame]\u001b[0m\n",
                        "\u001b[1;32m/home/favreau/code/favreau/BioExplorer/bioexplorer/pythonsdk/notebooks/astrocytes/BioExplorer_astrocytes.ipynb Cell 5\u001b[0m line \u001b[0;36m4\n\u001b[1;32m      <a href='vscode-notebook-cell:/home/favreau/code/favreau/BioExplorer/bioexplorer/pythonsdk/notebooks/astrocytes/BioExplorer_astrocytes.ipynb#W4sZmlsZQ%3D%3D?line=1'>2</a>\u001b[0m be\u001b[39m.\u001b[39mremove_assembly(assembly_name)\n\u001b[1;32m      <a href='vscode-notebook-cell:/home/favreau/code/favreau/BioExplorer/bioexplorer/pythonsdk/notebooks/astrocytes/BioExplorer_astrocytes.ipynb#W4sZmlsZQ%3D%3D?line=2'>3</a>\u001b[0m vasculature_assembly \u001b[39m=\u001b[39m be\u001b[39m.\u001b[39madd_assembly(assembly_name)\n\u001b[0;32m----> <a href='vscode-notebook-cell:/home/favreau/code/favreau/BioExplorer/bioexplorer/pythonsdk/notebooks/astrocytes/BioExplorer_astrocytes.ipynb#W4sZmlsZQ%3D%3D?line=3'>4</a>\u001b[0m vasculature_model \u001b[39m=\u001b[39m be\u001b[39m.\u001b[39;49madd_astrocytes(\n\u001b[1;32m      <a href='vscode-notebook-cell:/home/favreau/code/favreau/BioExplorer/bioexplorer/pythonsdk/notebooks/astrocytes/BioExplorer_astrocytes.ipynb#W4sZmlsZQ%3D%3D?line=4'>5</a>\u001b[0m     assembly_name\u001b[39m=\u001b[39;49massembly_name,\n\u001b[1;32m      <a href='vscode-notebook-cell:/home/favreau/code/favreau/BioExplorer/bioexplorer/pythonsdk/notebooks/astrocytes/BioExplorer_astrocytes.ipynb#W4sZmlsZQ%3D%3D?line=5'>6</a>\u001b[0m     population_name\u001b[39m=\u001b[39;49m\u001b[39m'\u001b[39;49m\u001b[39mAstrocytes\u001b[39;49m\u001b[39m'\u001b[39;49m,\n\u001b[1;32m      <a href='vscode-notebook-cell:/home/favreau/code/favreau/BioExplorer/bioexplorer/pythonsdk/notebooks/astrocytes/BioExplorer_astrocytes.ipynb#W4sZmlsZQ%3D%3D?line=6'>7</a>\u001b[0m     vasculature_population_name\u001b[39m=\u001b[39;49m\u001b[39m'\u001b[39;49m\u001b[39mVasculature\u001b[39;49m\u001b[39m'\u001b[39;49m,\n\u001b[1;32m      <a href='vscode-notebook-cell:/home/favreau/code/favreau/BioExplorer/bioexplorer/pythonsdk/notebooks/astrocytes/BioExplorer_astrocytes.ipynb#W4sZmlsZQ%3D%3D?line=7'>8</a>\u001b[0m     population_color_scheme\u001b[39m=\u001b[39;49mbe\u001b[39m.\u001b[39;49mPOPULATION_COLOR_SCHEME_ID,\n\u001b[1;32m      <a href='vscode-notebook-cell:/home/favreau/code/favreau/BioExplorer/bioexplorer/pythonsdk/notebooks/astrocytes/BioExplorer_astrocytes.ipynb#W4sZmlsZQ%3D%3D?line=8'>9</a>\u001b[0m     morphology_representation\u001b[39m=\u001b[39;49mbe\u001b[39m.\u001b[39;49mMORPHOLOGY_REPRESENTATION_BEZIER,\n\u001b[1;32m     <a href='vscode-notebook-cell:/home/favreau/code/favreau/BioExplorer/bioexplorer/pythonsdk/notebooks/astrocytes/BioExplorer_astrocytes.ipynb#W4sZmlsZQ%3D%3D?line=9'>10</a>\u001b[0m     load_micro_domain\u001b[39m=\u001b[39;49m\u001b[39mFalse\u001b[39;49;00m,\n\u001b[1;32m     <a href='vscode-notebook-cell:/home/favreau/code/favreau/BioExplorer/bioexplorer/pythonsdk/notebooks/astrocytes/BioExplorer_astrocytes.ipynb#W4sZmlsZQ%3D%3D?line=10'>11</a>\u001b[0m     load_dendrites\u001b[39m=\u001b[39;49m\u001b[39mTrue\u001b[39;49;00m,\n\u001b[1;32m     <a href='vscode-notebook-cell:/home/favreau/code/favreau/BioExplorer/bioexplorer/pythonsdk/notebooks/astrocytes/BioExplorer_astrocytes.ipynb#W4sZmlsZQ%3D%3D?line=11'>12</a>\u001b[0m     morphology_color_scheme\u001b[39m=\u001b[39;49mbe\u001b[39m.\u001b[39;49mMORPHOLOGY_COLOR_SCHEME_SECTION_TYPE,\n\u001b[1;32m     <a href='vscode-notebook-cell:/home/favreau/code/favreau/BioExplorer/bioexplorer/pythonsdk/notebooks/astrocytes/BioExplorer_astrocytes.ipynb#W4sZmlsZQ%3D%3D?line=12'>13</a>\u001b[0m     realism_level\u001b[39m=\u001b[39;49mbe\u001b[39m.\u001b[39;49mMORPHOLOGY_REALISM_LEVEL_ALL,\n\u001b[1;32m     <a href='vscode-notebook-cell:/home/favreau/code/favreau/BioExplorer/bioexplorer/pythonsdk/notebooks/astrocytes/BioExplorer_astrocytes.ipynb#W4sZmlsZQ%3D%3D?line=13'>14</a>\u001b[0m     sql_filter\u001b[39m=\u001b[39;49m\u001b[39m'\u001b[39;49m\u001b[39mguid=7178\u001b[39;49m\u001b[39m'\u001b[39;49m,\n\u001b[1;32m     <a href='vscode-notebook-cell:/home/favreau/code/favreau/BioExplorer/bioexplorer/pythonsdk/notebooks/astrocytes/BioExplorer_astrocytes.ipynb#W4sZmlsZQ%3D%3D?line=14'>15</a>\u001b[0m     displacement_params\u001b[39m=\u001b[39;49mAstrocyteDisplacementParams(\n\u001b[1;32m     <a href='vscode-notebook-cell:/home/favreau/code/favreau/BioExplorer/bioexplorer/pythonsdk/notebooks/astrocytes/BioExplorer_astrocytes.ipynb#W4sZmlsZQ%3D%3D?line=15'>16</a>\u001b[0m         soma\u001b[39m=\u001b[39;49mVector2(\u001b[39m0.1\u001b[39;49m, \u001b[39m0.5\u001b[39;49m), section\u001b[39m=\u001b[39;49mVector2(\u001b[39m0.5\u001b[39;49m, \u001b[39m5.0\u001b[39;49m),\n\u001b[1;32m     <a href='vscode-notebook-cell:/home/favreau/code/favreau/BioExplorer/bioexplorer/pythonsdk/notebooks/astrocytes/BioExplorer_astrocytes.ipynb#W4sZmlsZQ%3D%3D?line=16'>17</a>\u001b[0m         end_foot\u001b[39m=\u001b[39;49mVector2(\u001b[39m0.3\u001b[39;49m, \u001b[39m1.0\u001b[39;49m)\n\u001b[1;32m     <a href='vscode-notebook-cell:/home/favreau/code/favreau/BioExplorer/bioexplorer/pythonsdk/notebooks/astrocytes/BioExplorer_astrocytes.ipynb#W4sZmlsZQ%3D%3D?line=17'>18</a>\u001b[0m     )\n\u001b[1;32m     <a href='vscode-notebook-cell:/home/favreau/code/favreau/BioExplorer/bioexplorer/pythonsdk/notebooks/astrocytes/BioExplorer_astrocytes.ipynb#W4sZmlsZQ%3D%3D?line=18'>19</a>\u001b[0m )\n",
                        "File \u001b[0;32m~/Notebooks/env/lib/python3.10/site-packages/bioexplorer/bio_explorer.py:3306\u001b[0m, in \u001b[0;36mBioExplorer.add_astrocytes\u001b[0;34m(self, assembly_name, population_name, vasculature_population_name, realism_level, load_somas, load_dendrites, generate_internals, load_micro_domain, morphology_representation, micro_domain_representation, morphology_color_scheme, population_color_scheme, radius_multiplier, sql_filter, scale, animation_params, displacement_params, max_distance_to_soma, align_to_grid)\u001b[0m\n\u001b[1;32m   3304\u001b[0m params[\u001b[39m\"\u001b[39m\u001b[39mmaxDistanceToSoma\u001b[39m\u001b[39m\"\u001b[39m] \u001b[39m=\u001b[39m max_distance_to_soma\n\u001b[1;32m   3305\u001b[0m params[\u001b[39m\"\u001b[39m\u001b[39malignToGrid\u001b[39m\u001b[39m\"\u001b[39m] \u001b[39m=\u001b[39m align_to_grid\n\u001b[0;32m-> 3306\u001b[0m \u001b[39mreturn\u001b[39;00m \u001b[39mself\u001b[39;49m\u001b[39m.\u001b[39;49m_invoke_and_check(\u001b[39m\"\u001b[39;49m\u001b[39madd-astrocytes\u001b[39;49m\u001b[39m\"\u001b[39;49m, params)\n",
                        "File \u001b[0;32m~/Notebooks/env/lib/python3.10/site-packages/bioexplorer/bio_explorer.py:720\u001b[0m, in \u001b[0;36mBioExplorer._invoke_and_check\u001b[0;34m(self, method, params)\u001b[0m\n\u001b[1;32m    718\u001b[0m \u001b[39mdef\u001b[39;00m \u001b[39m_invoke_and_check\u001b[39m(\u001b[39mself\u001b[39m, method, params\u001b[39m=\u001b[39m\u001b[39mNone\u001b[39;00m):\n\u001b[1;32m    719\u001b[0m     prefixed_method \u001b[39m=\u001b[39m \u001b[39mself\u001b[39m\u001b[39m.\u001b[39mPLUGIN_API_PREFIX \u001b[39m+\u001b[39m method\n\u001b[0;32m--> 720\u001b[0m     response \u001b[39m=\u001b[39m \u001b[39mself\u001b[39;49m\u001b[39m.\u001b[39;49m_client\u001b[39m.\u001b[39;49mrockets_client\u001b[39m.\u001b[39;49mrequest(\n\u001b[1;32m    721\u001b[0m         method\u001b[39m=\u001b[39;49mprefixed_method, params\u001b[39m=\u001b[39;49mparams\n\u001b[1;32m    722\u001b[0m     )\n\u001b[1;32m    723\u001b[0m     \u001b[39mreturn\u001b[39;00m \u001b[39mself\u001b[39m\u001b[39m.\u001b[39m_check(response)\n",
                        "File \u001b[0;32m~/Notebooks/env/lib/python3.10/site-packages/rockets/client.py:100\u001b[0m, in \u001b[0;36mClient.request\u001b[0;34m(self, method, params, response_timeout)\u001b[0m\n\u001b[1;32m     92\u001b[0m \u001b[39m@copydoc\u001b[39m(AsyncClient\u001b[39m.\u001b[39mrequest)\n\u001b[1;32m     93\u001b[0m \u001b[39mdef\u001b[39;00m \u001b[39mrequest\u001b[39m(\n\u001b[1;32m     94\u001b[0m     \u001b[39mself\u001b[39m, method, params\u001b[39m=\u001b[39m\u001b[39mNone\u001b[39;00m, response_timeout\u001b[39m=\u001b[39m\u001b[39mNone\u001b[39;00m\n\u001b[1;32m     95\u001b[0m ):  \u001b[39m# noqa: D102,D205 pylint: disable=C0111,W9011,W9012,W9015,W9016\u001b[39;00m\n\u001b[1;32m     96\u001b[0m \u001b[39m    \u001b[39m\u001b[39m\"\"\"\u001b[39;00m\n\u001b[1;32m     97\u001b[0m \u001b[39m    :param int response_timeout: number of seconds to wait for the response\u001b[39;00m\n\u001b[1;32m     98\u001b[0m \u001b[39m    :raises TimeoutError: if request was not answered within given response_timeout\u001b[39;00m\n\u001b[1;32m     99\u001b[0m \u001b[39m    \"\"\"\u001b[39;00m\n\u001b[0;32m--> 100\u001b[0m     \u001b[39mreturn\u001b[39;00m \u001b[39mself\u001b[39;49m\u001b[39m.\u001b[39;49m_call_sync(\u001b[39mself\u001b[39;49m\u001b[39m.\u001b[39;49m_client\u001b[39m.\u001b[39;49mrequest(method, params), response_timeout)\n",
                        "File \u001b[0;32m~/Notebooks/env/lib/python3.10/site-packages/rockets/client.py:119\u001b[0m, in \u001b[0;36mClient._call_sync\u001b[0;34m(self, original_function, response_timeout)\u001b[0m\n\u001b[1;32m    115\u001b[0m \u001b[39mif\u001b[39;00m \u001b[39mself\u001b[39m\u001b[39m.\u001b[39m_thread:\n\u001b[1;32m    116\u001b[0m     future \u001b[39m=\u001b[39m asyncio\u001b[39m.\u001b[39mrun_coroutine_threadsafe(\n\u001b[1;32m    117\u001b[0m         original_function, \u001b[39mself\u001b[39m\u001b[39m.\u001b[39m_client\u001b[39m.\u001b[39mloop\n\u001b[1;32m    118\u001b[0m     )\n\u001b[0;32m--> 119\u001b[0m     \u001b[39mreturn\u001b[39;00m future\u001b[39m.\u001b[39;49mresult(response_timeout)\n\u001b[1;32m    120\u001b[0m \u001b[39mreturn\u001b[39;00m \u001b[39mself\u001b[39m\u001b[39m.\u001b[39m_client\u001b[39m.\u001b[39mloop\u001b[39m.\u001b[39mrun_until_complete(original_function)\n",
                        "File \u001b[0;32m/usr/lib/python3.10/concurrent/futures/_base.py:458\u001b[0m, in \u001b[0;36mFuture.result\u001b[0;34m(self, timeout)\u001b[0m\n\u001b[1;32m    456\u001b[0m     \u001b[39mraise\u001b[39;00m CancelledError()\n\u001b[1;32m    457\u001b[0m \u001b[39melif\u001b[39;00m \u001b[39mself\u001b[39m\u001b[39m.\u001b[39m_state \u001b[39m==\u001b[39m FINISHED:\n\u001b[0;32m--> 458\u001b[0m     \u001b[39mreturn\u001b[39;00m \u001b[39mself\u001b[39;49m\u001b[39m.\u001b[39;49m__get_result()\n\u001b[1;32m    459\u001b[0m \u001b[39melse\u001b[39;00m:\n\u001b[1;32m    460\u001b[0m     \u001b[39mraise\u001b[39;00m \u001b[39mTimeoutError\u001b[39;00m()\n",
                        "File \u001b[0;32m/usr/lib/python3.10/concurrent/futures/_base.py:403\u001b[0m, in \u001b[0;36mFuture.__get_result\u001b[0;34m(self)\u001b[0m\n\u001b[1;32m    401\u001b[0m \u001b[39mif\u001b[39;00m \u001b[39mself\u001b[39m\u001b[39m.\u001b[39m_exception:\n\u001b[1;32m    402\u001b[0m     \u001b[39mtry\u001b[39;00m:\n\u001b[0;32m--> 403\u001b[0m         \u001b[39mraise\u001b[39;00m \u001b[39mself\u001b[39m\u001b[39m.\u001b[39m_exception\n\u001b[1;32m    404\u001b[0m     \u001b[39mfinally\u001b[39;00m:\n\u001b[1;32m    405\u001b[0m         \u001b[39m# Break a reference cycle with the exception in self._exception\u001b[39;00m\n\u001b[1;32m    406\u001b[0m         \u001b[39mself\u001b[39m \u001b[39m=\u001b[39m \u001b[39mNone\u001b[39;00m\n",
                        "File \u001b[0;32m~/Notebooks/env/lib/python3.10/site-packages/rockets/async_client.py:171\u001b[0m, in \u001b[0;36mAsyncClient.request\u001b[0;34m(self, method, params)\u001b[0m\n\u001b[1;32m    168\u001b[0m     \u001b[39mself\u001b[39m\u001b[39m.\u001b[39m_setup_progress_filter(response_future, request_id)\n\u001b[1;32m    170\u001b[0m     \u001b[39mawait\u001b[39;00m \u001b[39mself\u001b[39m\u001b[39m.\u001b[39msend(request\u001b[39m.\u001b[39mjson)\n\u001b[0;32m--> 171\u001b[0m     \u001b[39mawait\u001b[39;00m response_future\n\u001b[1;32m    172\u001b[0m     \u001b[39mreturn\u001b[39;00m response_future\u001b[39m.\u001b[39mresult()\n\u001b[1;32m    173\u001b[0m \u001b[39mexcept\u001b[39;00m asyncio\u001b[39m.\u001b[39mCancelledError:\n",
                        "\u001b[0;31mRequestError\u001b[0m: Socket connection closed"
                    ]
                }
            ],
            "source": [
                "assembly_name = 'Astrocytes'\n",
                "be.remove_assembly(assembly_name)\n",
                "vasculature_assembly = be.add_assembly(assembly_name)\n",
                "vasculature_model = be.add_astrocytes(\n",
                "    assembly_name=assembly_name,\n",
                "    population_name='Astrocytes',\n",
                "    vasculature_population_name='Vasculature',\n",
                "    population_color_scheme=be.POPULATION_COLOR_SCHEME_ID,\n",
                "    morphology_representation=be.MORPHOLOGY_REPRESENTATION_BEZIER,\n",
                "    load_micro_domain=False,\n",
                "    load_dendrites=True,\n",
                "    morphology_color_scheme=be.MORPHOLOGY_COLOR_SCHEME_SECTION_TYPE,\n",
                "    realism_level=be.MORPHOLOGY_REALISM_LEVEL_ALL,\n",
                "    sql_filter='guid=7178',\n",
                "    displacement_params=AstrocyteDisplacementParams(\n",
                "        soma=Vector2(0.1, 0.5), section=Vector2(0.5, 5.0),\n",
                "        end_foot=Vector2(0.3, 1.0)\n",
                "    )\n",
                ")"
            ]
        },
        {
            "cell_type": "code",
            "execution_count": null,
            "id": "c1a9358d",
            "metadata": {},
            "outputs": [],
            "source": [
                "status = be.reset_camera()"
            ]
        },
        {
            "cell_type": "code",
            "execution_count": null,
            "id": "fedace2a",
            "metadata": {},
            "outputs": [],
            "source": [
                "status = core.set_renderer(\n",
                "    background_color=[0, 0, 0],\n",
                "    current='advanced',subsampling=4, max_accum_frames=64)\n",
                "params = core.AdvancedRendererParams()\n",
                "params.gi_ray_length = 100.0\n",
                "params.shadow_intensity = 1.0\n",
                "params.soft_shadow_strength = 1.0\n",
                "params.epsilon_multiplier = 1.0\n",
                "params.max_ray_depth = 1\n",
                "params.show_background = False\n",
                "params.main_exposure = 1.0\n",
                "status = core.set_renderer_params(params)\n",
                "status = core.set_renderer()"
            ]
        },
        {
            "cell_type": "code",
            "execution_count": null,
            "id": "344f791c",
            "metadata": {},
            "outputs": [],
            "source": [
                "import seaborn as sns\n",
                "def set_morphology_materials(model_id, palette_name):\n",
                "    colors = list()\n",
                "    opacities = list()\n",
                "    refraction_indices = list()\n",
                "    specular_exponents = list()\n",
                "    shading_modes = list()\n",
                "    user_params = list()\n",
                "    glossinesses = list()\n",
                "    emissions = list()\n",
                "    \n",
                "    material_ids = be.get_material_ids(model_id)['ids'][:-1]\n",
                "    palette = sns.color_palette(palette_name, be.NB_MATERIALS_PER_MORPHOLOGY)\n",
                "\n",
                "    for material_id in material_ids:\n",
                "        mid = material_id % be.NB_MATERIALS_PER_MORPHOLOGY\n",
                "        color = palette[mid]\n",
                "        if mid == be.ASTROCYTE_MATERIAL_MITOCHONDRION:\n",
                "            opacities.append(1.0)\n",
                "            shading_modes.append(be.SHADING_MODE_CARTOON)\n",
                "            glossinesses.append(1.0)\n",
                "            user_params.append(3.0)\n",
                "            specular_exponents.append(50.0)\n",
                "            emissions.append(0.25)\n",
                "        elif mid == be.ASTROCYTE_MATERIAL_NUCLEUS:\n",
                "            opacities.append(1.0)\n",
                "            shading_modes.append(be.SHADING_MODE_CARTOON)\n",
                "            glossinesses.append(1.0)\n",
                "            user_params.append(3.0)\n",
                "            specular_exponents.append(50.0)\n",
                "            emissions.append(0.0)\n",
                "        elif mid == be.ASTROCYTE_MATERIAL_SOMA:\n",
                "            opacities.append(1.0)\n",
                "            shading_modes.append(be.SHADING_MODE_CARTOON)\n",
                "            glossinesses.append(1.0)\n",
                "            user_params.append(3.0)\n",
                "            specular_exponents.append(50.0)\n",
                "            emissions.append(0.0)\n",
                "        elif mid == be.ASTROCYTE_MATERIAL_END_FOOT:\n",
                "            opacities.append(1.0)\n",
                "            shading_modes.append(be.SHADING_MODE_CARTOON)\n",
                "            glossinesses.append(1.0)\n",
                "            user_params.append(3.0)\n",
                "            specular_exponents.append(50.0)\n",
                "            emissions.append(0.0)\n",
                "        elif mid == be.ASTROCYTE_MATERIAL_MICRO_DOMAIN:\n",
                "            opacities.append(0.5)\n",
                "            shading_modes.append(be.SHADING_MODE_ELECTRON)\n",
                "            glossinesses.append(1.0)\n",
                "            user_params.append(1.0)\n",
                "            specular_exponents.append(50.0)\n",
                "            emissions.append(0.0)\n",
                "        else:\n",
                "            # Membrane\n",
                "            opacities.append(1.0)\n",
                "            shading_modes.append(be.SHADING_MODE_CARTOON)\n",
                "            glossinesses.append(1.0)\n",
                "            user_params.append(3.0)\n",
                "            specular_exponents.append(50.0)\n",
                "            emissions.append(0.0)\n",
                "            \n",
                "        colors.append(color)\n",
                "        refraction_indices.append(1.0)\n",
                "        \n",
                "    be.set_materials(\n",
                "        model_ids=[model_id], material_ids=material_ids,\n",
                "        diffuse_colors=colors, specular_colors=colors,\n",
                "        opacities=opacities, refraction_indices=refraction_indices,\n",
                "        shading_modes=shading_modes, specular_exponents=specular_exponents,\n",
                "        user_parameters=user_params, glossinesses=glossinesses,\n",
                "        emissions=emissions\n",
                "    )"
            ]
        },
        {
            "cell_type": "code",
            "execution_count": null,
            "id": "b2402fc5",
            "metadata": {},
            "outputs": [],
            "source": [
                "import seaborn as sns\n",
                "model_ids = be.get_model_ids()['ids']\n",
                "nb_models = len(model_ids)\n",
                "for model_id in model_ids:\n",
                "    set_morphology_materials(model_id, 'Set3')\n",
                "status = core.set_renderer()"
            ]
        }
    ],
    "metadata": {
        "interpreter": {
            "hash": "ea9a5fa46eb6bad2806a8ea1d08e15bb1e255a2d4320b81e765591579963c56b"
        },
        "kernelspec": {
            "display_name": "Python 3.8.10 64-bit ('env': venv)",
            "language": "python",
            "name": "python3"
        },
        "language_info": {
            "codemirror_mode": {
                "name": "ipython",
                "version": 3
            },
            "file_extension": ".py",
            "mimetype": "text/x-python",
            "name": "python",
            "nbconvert_exporter": "python",
            "pygments_lexer": "ipython3",
            "version": "3.10.12"
        }
    },
    "nbformat": 4,
    "nbformat_minor": 5
}