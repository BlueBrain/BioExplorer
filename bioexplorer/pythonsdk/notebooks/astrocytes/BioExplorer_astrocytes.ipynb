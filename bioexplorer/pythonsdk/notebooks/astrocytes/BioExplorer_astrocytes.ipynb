{
 "cells": [
  {
   "cell_type": "markdown",
   "metadata": {},
   "source": [
    "# Astrocytes use-case"
   ]
  },
  {
   "cell_type": "markdown",
   "metadata": {},
   "source": [
    "### Connect to back-end"
   ]
  },
  {
   "cell_type": "code",
   "execution_count": 7,
   "metadata": {},
   "outputs": [],
   "source": [
    "from bioexplorer import BioExplorer\n",
    "\n",
    "url = 'localhost:5000'\n",
    "be = BioExplorer(url)\n",
    "core = be.core_api()\n",
    "status = be.reset_scene()"
   ]
  },
  {
   "cell_type": "markdown",
   "metadata": {},
   "source": [
    "### Load astrocytes"
   ]
  },
  {
   "cell_type": "code",
   "execution_count": 14,
   "metadata": {},
   "outputs": [],
   "source": [
    "assembly_name = 'Astrocytes'\n",
    "be.remove_assembly(assembly_name)\n",
    "vasculature_assembly = be.add_assembly(assembly_name)\n",
    "vasculature_model = be.add_astrocytes(\n",
    "    assembly_name=assembly_name,\n",
    "    population_name='ngv',\n",
    "    geometry_quality=be.GEOMETRY_QUALITY_LOW,\n",
    "    population_color_scheme=be.POPULATION_COLOR_SCHEME_ID,\n",
    "    use_sdf=True, \n",
    "    load_somas=True, load_dendrites=True, load_end_feet=True,\n",
    "    astrocyte_ids=[5000],\n",
    "    # sql_filter = 'sqrt(pow(x - 345, 2) + pow(y - 1359, 2) + pow(z - 600, 2)) < 100'\n",
    "    # sql_filter='x>0 and x<300 and y>1000 and y<1300 and z>500 and z<800'\n",
    ")"
   ]
  },
  {
   "cell_type": "code",
   "execution_count": null,
   "metadata": {},
   "outputs": [],
   "source": [
    "def set_materials(model_id, material_ids, palette, cast_user_data=False, reflection_index=0.0):\n",
    "    user_params=list()\n",
    "    opacities=list()\n",
    "    refraction_indices=list()\n",
    "    reflection_indices=list()\n",
    "    shading_modes=list()\n",
    "    diffuse_colors=list()\n",
    "    specular_colors=list()\n",
    "    specular_exponents=list()\n",
    "    glossinesses=list()\n",
    "    emissions=list()\n",
    "    cast_user_datas = list()\n",
    "    \n",
    "    for i in range(len(palette)):\n",
    "        user_params.append(3.0)\n",
    "        opacities.append(1)\n",
    "        refraction_indices.append(0.9)\n",
    "        reflection_indices.append(reflection_index)\n",
    "        specular_exponents.append(20.0)\n",
    "        glossinesses.append(1.0)\n",
    "        c=palette[i]\n",
    "        diffuse_colors.append(c)\n",
    "        specular_colors.append(c                                                                                                                                                                                                                                                                                                                                                                                                                                                                                                                                                                                                                                                                                                                                                                                                                                                                                                                                                                                                                                                                                                                                                                                                                                                                                                                                                                                                                                                                                                                                                                                                                                                                                                                                                                                                                                                                                                                                                                                                                                                                                                                                                                                                                                                                                                                                                                                                                                                                                                                                                                                                                                                                                                                                                                                                                                                                                                                                                                                                                                                                                                                                                                                                                                                                                                                                                                                                                                                                                                                                                                                                                                                                                                                                                        )\n",
    "        shading_modes.append(be.SHADING_MODE_NONE)\n",
    "        emissions.append(0)\n",
    "        cast_user_datas.append(cast_user_data)\n",
    "        \n",
    "    be.set_materials(\n",
    "        model_ids=[model_id], material_ids=material_ids,\n",
    "        user_parameters=user_params,\n",
    "        opacities=opacities, reflection_indices=reflection_indices,\n",
    "        shading_modes=shading_modes,\n",
    "        diffuse_colors=diffuse_colors, specular_colors=specular_colors,\n",
    "        specular_exponents=specular_exponents, glossinesses=glossinesses,\n",
    "        emissions=emissions, refraction_indices=refraction_indices,\n",
    "        cast_user_datas=cast_user_datas)"
   ]
  },
  {
   "cell_type": "code",
   "execution_count": null,
   "metadata": {},
   "outputs": [],
   "source": [
    "import seaborn as sns\n",
    "for model in core.scene.models:\n",
    "    model_id = model['id']\n",
    "    material_ids = be.get_material_ids(model_id)['ids']\n",
    "    nb_materials = len(material_ids)\n",
    "    print('%d: %d' % (model_id, nb_materials))\n",
    "    if model_id == 0:\n",
    "        palette = list()\n",
    "        for i in range(nb_materials):\n",
    "            palette.append((1.0, 1.0, 1.0))\n",
    "        set_materials(model_id=model_id, material_ids=material_ids, palette=palette, cast_user_data=False)\n",
    "    else:\n",
    "        palette = sns.color_palette('rainbow', nb_materials)\n",
    "        set_materials(model_id=model_id, material_ids=material_ids, palette=palette, cast_user_data=True)\n",
    "core.set_renderer()"
   ]
  },
  {
   "cell_type": "code",
   "execution_count": null,
   "metadata": {},
   "outputs": [],
   "source": [
    "import seaborn as sns\n",
    "model_ids = be.get_model_ids()['ids']\n",
    "nb_models = len(model_ids)\n",
    "palette = sns.color_palette('Set1', nb_models)\n",
    "j = 0\n",
    "for model_id in model_ids:\n",
    "    material_ids = be.get_material_ids(model_id)['ids']\n",
    "    nb_materials = len(material_ids)\n",
    "    p = list()\n",
    "    for i in range(nb_materials):\n",
    "        p.append(palette[j])\n",
    "    set_materials(model_id, material_ids, p)\n",
    "    j += 1\n",
    "core.set_renderer()"
   ]
  },
  {
   "cell_type": "code",
   "execution_count": null,
   "metadata": {},
   "outputs": [],
   "source": [
    "print(be.reset_camera())\n",
    "core.set_renderer()"
   ]
  },
  {
   "cell_type": "code",
   "execution_count": null,
   "metadata": {},
   "outputs": [],
   "source": [
    "from bioexplorer import MovieMaker\n",
    "mm = MovieMaker(be)\n",
    "mm.create_snapshot(\n",
    "    renderer='bio_explorer',\n",
    "    path='/tmp', base_name='vaculature_astrocytes_cartoon_1k_v1',\n",
    "    size=[1000, 1000], samples_per_pixel=64)"
   ]
  }
 ],
 "metadata": {
  "kernelspec": {
   "display_name": "Python 3",
   "language": "python",
   "name": "python3"
  },
  "language_info": {
   "codemirror_mode": {
    "name": "ipython",
    "version": 3
   },
   "file_extension": ".py",
   "mimetype": "text/x-python",
   "name": "python",
   "nbconvert_exporter": "python",
   "pygments_lexer": "ipython3",
   "version": "3.8.10"
  }
 },
 "nbformat": 4,
 "nbformat_minor": 2
}
