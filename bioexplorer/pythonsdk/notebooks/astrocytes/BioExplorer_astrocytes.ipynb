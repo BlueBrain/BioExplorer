{
    "cells": [
        {
            "cell_type": "markdown",
            "id": "f992ef9f",
            "metadata": {},
            "source": [
                "# BioExplorer - Astrocytes\n",
                "![](../bioexplorer_neurons_banner.png)"
            ]
        },
        {
            "cell_type": "markdown",
            "metadata": {},
            "source": [
                "### Connect to back-end"
            ]
        },
        {
            "cell_type": "code",
            "execution_count": 55,
            "id": "bf680e43",
            "metadata": {},
            "outputs": [],
            "source": [
                "from bioexplorer import BioExplorer, AstrocyteDisplacementParams, Vector2\n",
                "\n",
                "url = 'localhost:5000'\n",
                "be = BioExplorer(url)\n",
                "core = be.core_api()\n",
                "status = be.reset_scene()"
            ]
        },
        {
            "cell_type": "markdown",
            "id": "f07bb42c",
            "metadata": {},
            "source": [
                "### Load astrocytes"
            ]
        },
        {
            "cell_type": "code",
            "execution_count": 56,
            "id": "dcbf1d04",
            "metadata": {},
            "outputs": [],
            "source": [
                "assembly_name = 'Astrocytes'\n",
                "be.remove_assembly(assembly_name)\n",
                "vasculature_assembly = be.add_assembly(assembly_name)\n",
                "vasculature_model = be.add_astrocytes(\n",
                "    assembly_name=assembly_name,\n",
                "    population_name='Astrocytes',\n",
                "    vasculature_population_name='Vasculature',\n",
                "    population_color_scheme=be.POPULATION_COLOR_SCHEME_ID,\n",
                "    morphology_representation=be.MORPHOLOGY_REPRESENTATION_BEZIER,\n",
                "    load_micro_domain=False,\n",
                "    load_dendrites=True,\n",
                "    morphology_color_scheme=be.MORPHOLOGY_COLOR_SCHEME_SECTION_TYPE,\n",
                "    realism_level=be.MORPHOLOGY_REALISM_LEVEL_ALL,\n",
                "    sql_filter='guid=7178',\n",
                "    displacement_params=AstrocyteDisplacementParams(\n",
                "        soma=Vector2(0.1, 0.5), section=Vector2(0.5, 5.0),\n",
                "        end_foot=Vector2(0.3, 1.0)\n",
                "    )\n",
                ")"
            ]
        },
        {
            "cell_type": "code",
            "execution_count": 57,
            "id": "c1a9358d",
            "metadata": {},
            "outputs": [],
            "source": [
                "status = be.reset_camera()"
            ]
        },
        {
            "cell_type": "code",
            "execution_count": 58,
            "id": "fedace2a",
            "metadata": {},
            "outputs": [],
            "source": [
                "status = core.set_renderer(\n",
                "    background_color=[0, 0, 0],\n",
                "    current='advanced',subsampling=4, max_accum_frames=64)\n",
                "params = core.AdvancedRendererParams()\n",
                "params.gi_distance = 100.0\n",
                "params.shadows = 1.0\n",
                "params.soft_shadows = 1.0\n",
                "params.epsilon_factor = 1.0\n",
                "params.max_bounces = 1\n",
                "params.show_background = False\n",
                "params.exposure = 1.0\n",
                "status = core.set_renderer_params(params)\n",
                "status = core.set_renderer()"
            ]
        },
        {
            "cell_type": "code",
            "execution_count": 59,
            "id": "344f791c",
            "metadata": {},
            "outputs": [],
            "source": [
                "import seaborn as sns\n",
                "def set_morphology_materials(model_id, palette_name):\n",
                "    colors = list()\n",
                "    opacities = list()\n",
                "    refraction_indices = list()\n",
                "    specular_exponents = list()\n",
                "    shading_modes = list()\n",
                "    user_params = list()\n",
                "    glossinesses = list()\n",
                "    emissions = list()\n",
                "    \n",
                "    material_ids = be.get_material_ids(model_id)['ids'][:-1]\n",
                "    palette = sns.color_palette(palette_name, be.NB_MATERIALS_PER_MORPHOLOGY)\n",
                "\n",
                "    for material_id in material_ids:\n",
                "        mid = material_id % be.NB_MATERIALS_PER_MORPHOLOGY\n",
                "        color = palette[mid]\n",
                "        if mid == be.ASTROCYTE_MATERIAL_MITOCHONDRION:\n",
                "            opacities.append(1.0)\n",
                "            shading_modes.append(be.SHADING_MODE_CARTOON)\n",
                "            glossinesses.append(1.0)\n",
                "            user_params.append(3.0)\n",
                "            specular_exponents.append(50.0)\n",
                "            emissions.append(0.25)\n",
                "        elif mid == be.ASTROCYTE_MATERIAL_NUCLEUS:\n",
                "            opacities.append(1.0)\n",
                "            shading_modes.append(be.SHADING_MODE_CARTOON)\n",
                "            glossinesses.append(1.0)\n",
                "            user_params.append(3.0)\n",
                "            specular_exponents.append(50.0)\n",
                "            emissions.append(0.0)\n",
                "        elif mid == be.ASTROCYTE_MATERIAL_SOMA:\n",
                "            opacities.append(1.0)\n",
                "            shading_modes.append(be.SHADING_MODE_CARTOON)\n",
                "            glossinesses.append(1.0)\n",
                "            user_params.append(3.0)\n",
                "            specular_exponents.append(50.0)\n",
                "            emissions.append(0.0)\n",
                "        elif mid == be.ASTROCYTE_MATERIAL_END_FOOT:\n",
                "            opacities.append(1.0)\n",
                "            shading_modes.append(be.SHADING_MODE_CARTOON)\n",
                "            glossinesses.append(1.0)\n",
                "            user_params.append(3.0)\n",
                "            specular_exponents.append(50.0)\n",
                "            emissions.append(0.0)\n",
                "        elif mid == be.ASTROCYTE_MATERIAL_MICRO_DOMAIN:\n",
                "            opacities.append(0.5)\n",
                "            shading_modes.append(be.SHADING_MODE_ELECTRON)\n",
                "            glossinesses.append(1.0)\n",
                "            user_params.append(1.0)\n",
                "            specular_exponents.append(50.0)\n",
                "            emissions.append(0.0)\n",
                "        else:\n",
                "            # Membrane\n",
                "            opacities.append(1.0)\n",
                "            shading_modes.append(be.SHADING_MODE_CARTOON)\n",
                "            glossinesses.append(1.0)\n",
                "            user_params.append(3.0)\n",
                "            specular_exponents.append(50.0)\n",
                "            emissions.append(0.0)\n",
                "            \n",
                "        colors.append(color)\n",
                "        refraction_indices.append(1.0)\n",
                "        \n",
                "    be.set_materials(\n",
                "        model_ids=[model_id], material_ids=material_ids,\n",
                "        diffuse_colors=colors, specular_colors=colors,\n",
                "        opacities=opacities, refraction_indices=refraction_indices,\n",
                "        shading_modes=shading_modes, specular_exponents=specular_exponents,\n",
                "        user_parameters=user_params, glossinesses=glossinesses,\n",
                "        emissions=emissions\n",
                "    )"
            ]
        },
        {
            "cell_type": "code",
            "execution_count": 60,
            "id": "b2402fc5",
            "metadata": {},
            "outputs": [],
            "source": [
                "import seaborn as sns\n",
                "model_ids = be.get_model_ids()['ids']\n",
                "nb_models = len(model_ids)\n",
                "for model_id in model_ids:\n",
                "    set_morphology_materials(model_id, 'Set3')\n",
                "status = core.set_renderer()"
            ]
        }
    ],
    "metadata": {
        "interpreter": {
            "hash": "ea9a5fa46eb6bad2806a8ea1d08e15bb1e255a2d4320b81e765591579963c56b"
        },
        "kernelspec": {
            "display_name": "Python 3.8.10 64-bit ('env': venv)",
            "language": "python",
            "name": "python3"
        },
        "language_info": {
            "codemirror_mode": {
                "name": "ipython",
                "version": 3
            },
            "file_extension": ".py",
            "mimetype": "text/x-python",
            "name": "python",
            "nbconvert_exporter": "python",
            "pygments_lexer": "ipython3",
            "version": "3.8.10"
        }
    },
    "nbformat": 4,
    "nbformat_minor": 5
}