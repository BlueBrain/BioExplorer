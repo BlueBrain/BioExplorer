{
 "cells": [
  {
   "cell_type": "markdown",
   "id": "f992ef9f",
   "metadata": {},
   "source": [
    "# BioExplorer - Astrocytes\n",
    "![](../bioexplorer_neurons_banner.png)"
   ]
  },
  {
   "cell_type": "markdown",
   "metadata": {},
   "source": [
    "### Connect to back-end"
   ]
  },
  {
   "cell_type": "code",
   "execution_count": null,
   "metadata": {},
   "outputs": [],
   "source": [
    "from bioexplorer import BioExplorer\n",
    "\n",
    "url = 'localhost:5000'\n",
    "be = BioExplorer(url)\n",
    "core = be.core_api()\n",
    "status = be.reset_scene()"
   ]
  },
  {
   "cell_type": "markdown",
   "metadata": {},
   "source": [
    "### Load astrocytes"
   ]
  },
  {
   "cell_type": "code",
   "execution_count": null,
   "metadata": {},
   "outputs": [],
   "source": [
    "assembly_name = 'Astrocytes'\n",
    "be.remove_assembly(assembly_name)\n",
    "vasculature_assembly = be.add_assembly(assembly_name)\n",
    "vasculature_model = be.add_astrocytes(\n",
    "    assembly_name=assembly_name,\n",
    "    population_name='ngv', vasculature_population_name='Vasculature',\n",
    "    population_color_scheme=be.POPULATION_COLOR_SCHEME_ID,\n",
    "    radius_multiplier=1.0,\n",
    "    morphology_color_scheme=be.MORPHOLOGY_COLOR_SCHEME_SECTION,\n",
    "    use_sdf=True, generate_internals=False,\n",
    "    load_somas=True, load_dendrites=True, load_end_feet=True,\n",
    "    # sql_filter='x>500 AND x<600 AND y>1500 AND y<1600 AND z>500 AND z<600'\n",
    "    # sql_filter='guid % 10=0'\n",
    "    # sql_filter='guid=7178'\n",
    ")"
   ]
  },
  {
   "cell_type": "code",
   "execution_count": null,
   "metadata": {},
   "outputs": [],
   "source": [
    "print(be.reset_camera())\n",
    "core.set_renderer(current='basic', subsampling=4, max_accum_frames=4)"
   ]
  },
  {
   "cell_type": "code",
   "execution_count": null,
   "metadata": {},
   "outputs": [],
   "source": [
    "import seaborn as sns\n",
    "def set_morphology_materials(model_id, palette_name):\n",
    "    colors = list()\n",
    "    opacities = list()\n",
    "    refraction_indices = list()\n",
    "    specular_exponents = list()\n",
    "    shading_modes = list()\n",
    "    user_params = list()\n",
    "    glossinesses = list()\n",
    "    emissions = list()\n",
    "    \n",
    "    material_ids = be.get_material_ids(model_id)['ids']\n",
    "    palette = sns.color_palette(palette_name, be.NB_MATERIALS_PER_MORPHOLOGY)\n",
    "\n",
    "    for material_id in material_ids:\n",
    "        mid = material_id % be.NB_MATERIALS_PER_MORPHOLOGY\n",
    "        color = palette[mid]\n",
    "        if mid == be.NEURON_MATERIAL_MITOCHONDRION:\n",
    "            colors.append([1.0, 0.0, 1.0])\n",
    "            opacities.append(1.0)\n",
    "            shading_modes.append(be.SHADING_MODE_PERLIN)\n",
    "            glossinesses.append(0.5)\n",
    "            user_params.append(1.0)\n",
    "            specular_exponents.append(6.0)\n",
    "            emissions.append(0.25)\n",
    "        elif mid == be.NEURON_MATERIAL_NUCLEUS:\n",
    "            colors.append([1.0, 1.0, 1.0])\n",
    "            opacities.append(1.0)\n",
    "            shading_modes.append(be.SHADING_MODE_PERLIN)\n",
    "            glossinesses.append(1.0)\n",
    "            user_params.append(0.2)\n",
    "            specular_exponents.append(30.0)\n",
    "            emissions.append(0.0)\n",
    "        elif mid == be.NEURON_MATERIAL_SOMA:\n",
    "            colors.append(color)\n",
    "            opacities.append(0.75)\n",
    "            shading_modes.append(be.SHADING_MODE_PERLIN)\n",
    "            glossinesses.append(0.2)\n",
    "            user_params.append(0.01)\n",
    "            specular_exponents.append(5.0)\n",
    "            emissions.append(0.0)\n",
    "        else:\n",
    "            # Membrane\n",
    "            colors.append(color)\n",
    "            opacities.append(1.0)\n",
    "            shading_modes.append(be.SHADING_MODE_PERLIN)\n",
    "            glossinesses.append(0.1)\n",
    "            user_params.append(0.001)\n",
    "            specular_exponents.append(5.0)\n",
    "            emissions.append(0.0)\n",
    "            \n",
    "        refraction_indices.append(1.0)\n",
    "        \n",
    "    be.set_materials(\n",
    "        model_ids=[model_id], material_ids=material_ids,\n",
    "        diffuse_colors=colors, specular_colors=colors,\n",
    "        opacities=opacities, refraction_indices=refraction_indices,\n",
    "        shading_modes=shading_modes, specular_exponents=specular_exponents,\n",
    "        user_parameters=user_params, glossinesses=glossinesses,\n",
    "        emissions=emissions\n",
    "    )\n",
    "\n",
    "import seaborn as sns\n",
    "model_ids = be.get_model_ids()['ids']\n",
    "nb_models = len(model_ids)\n",
    "for model_id in model_ids:\n",
    "    set_morphology_materials(model_id, 'Set3')\n",
    "core.set_renderer()"
   ]
  },
  {
   "cell_type": "code",
   "execution_count": null,
   "metadata": {},
   "outputs": [],
   "source": [
    "print(be.reset_camera())\n",
    "core.set_renderer()"
   ]
  },
  {
   "cell_type": "code",
   "execution_count": null,
   "metadata": {},
   "outputs": [],
   "source": [
    "from bioexplorer import MovieMaker\n",
    "mm = MovieMaker(be)\n",
    "mm.create_snapshot(\n",
    "    renderer='bio_explorer',\n",
    "    path='/tmp', base_name='vaculature_astrocytes_cartoon_1k_v1',\n",
    "    size=[1000, 1000], samples_per_pixel=64)"
   ]
  }
 ],
 "metadata": {
  "kernelspec": {
   "display_name": "Python 3",
   "language": "python",
   "name": "python3"
  },
  "language_info": {
   "codemirror_mode": {
    "name": "ipython",
    "version": 3
   },
   "file_extension": ".py",
   "mimetype": "text/x-python",
   "name": "python",
   "nbconvert_exporter": "python",
   "pygments_lexer": "ipython3",
   "version": "3.8.10"
  }
 },
 "nbformat": 4,
 "nbformat_minor": 2
}
