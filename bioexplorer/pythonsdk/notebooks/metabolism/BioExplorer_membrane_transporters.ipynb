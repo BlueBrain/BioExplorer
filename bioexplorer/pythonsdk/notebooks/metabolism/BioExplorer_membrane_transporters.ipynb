{
    "cells": [
        {
            "attachments": {},
            "cell_type": "markdown",
            "metadata": {},
            "source": [
                "# BioExplorer - Metabolism - Membrane transporters\n",
                "![](../bioexplorer_metabolism_banner.png)"
            ]
        },
        {
            "attachments": {},
            "cell_type": "markdown",
            "metadata": {},
            "source": [
                "### Initialization"
            ]
        },
        {
            "cell_type": "code",
            "execution_count": null,
            "metadata": {},
            "outputs": [],
            "source": [
                "from bioexplorer import BioExplorer, Protein, Vector3, Quaternion, MovieMaker\n",
                "import os\n",
                "\n",
                "resource_folder = os.path.abspath('../../tests/test_files')\n",
                "pdb_folder = os.path.join(resource_folder, 'pdb')\n",
                "membrane_folder = os.path.join(pdb_folder, 'membrane')\n",
                "transporters_folder = os.path.join(pdb_folder, 'transporters')\n",
                "\n",
                "image_folder = '/tmp/'\n",
                "\n",
                "bio_explorer = BioExplorer('localhost:5000')\n",
                "core = bio_explorer.core_api()\n",
                "mm = MovieMaker(bio_explorer)\n",
                "status = bio_explorer.reset_scene()\n",
                "status = bio_explorer.start_model_loading_transaction()\n",
                "print('BioExplorer version ' + bio_explorer.version())\n",
                "\n",
                "line_1 = 5\n",
                "line_2 = 20\n",
                "\n",
                "representation = BioExplorer.REPRESENTATION_ATOMS_AND_STICKS"
            ]
        },
        {
            "cell_type": "code",
            "execution_count": null,
            "metadata": {},
            "outputs": [],
            "source": [
                "''' Neuron trans-membrane proteins '''\n",
                "pdb_glut3 = os.path.join(transporters_folder, '4zwc.pdb')\n",
                "pdb_mct2_lac = os.path.join(transporters_folder, '7bp3.pdb')\n",
                "\n",
                "''' Astrocyte trans-membrane proteins '''\n",
                "pdb_glut1 = os.path.join(transporters_folder, '4pyp.pdb')\n",
                "pdb_mct1_lac = os.path.join(transporters_folder, '6lz0.pdb')\n",
                "\n",
                "''' Trans-membrane proteins '''\n",
                "pdb_nka = os.path.join(transporters_folder, '4hqj.pdb')"
            ]
        },
        {
            "attachments": {},
            "cell_type": "markdown",
            "metadata": {},
            "source": [
                "### Camera"
            ]
        },
        {
            "cell_type": "code",
            "execution_count": null,
            "metadata": {},
            "outputs": [],
            "source": [
                "core.set_camera(\n",
                "    current='orthographic',\n",
                "    orientation=[0.0, 0.0, 0.0, 1.0],\n",
                "    position=[13,12.5,300],\n",
                "    target=[13,12.5,0]\n",
                ")\n",
                "params = core.OrthographicCameraParams()\n",
                "params.height = 30\n",
                "status = core.set_camera_params(params)"
            ]
        },
        {
            "attachments": {},
            "cell_type": "markdown",
            "metadata": {},
            "source": [
                "### Grid"
            ]
        },
        {
            "cell_type": "code",
            "execution_count": null,
            "metadata": {},
            "outputs": [],
            "source": [
                "status = bio_explorer.add_grid(\n",
                "    min_value=0, max_value=40, interval=1, radius=0.005, colored=False,\n",
                "    position=Vector3(-10.0, -10.0, -10.0))"
            ]
        },
        {
            "attachments": {},
            "cell_type": "markdown",
            "metadata": {},
            "source": [
                "### Layout"
            ]
        },
        {
            "cell_type": "code",
            "execution_count": null,
            "metadata": {
                "scrolled": true
            },
            "outputs": [],
            "source": [
                "from pyquaternion import Quaternion\n",
                "import numpy as np\n",
                "\n",
                "rot_axis = np.array([1, 0, 0])\n",
                "rot_angle = 90 * np.pi / 180.0\n",
                "q = Quaternion(axis=rot_axis, angle=rot_angle)\n",
                "\n",
                "glut3 = Protein(name='GLUT3', source=pdb_glut3, chain_ids=[1])\n",
                "status = bio_explorer.add_protein(glut3,\n",
                "                         rotation=Quaternion(0.707, -0.693, -0.139, 0.0),\n",
                "                         representation=representation,\n",
                "                         position=Vector3(5, line_1, 0))\n",
                "\n",
                "mct2_lac = Protein(name='MCT2', source=pdb_mct2_lac)\n",
                "status = bio_explorer.add_protein(mct2_lac,\n",
                "                         representation=representation,\n",
                "                         position=Vector3(20, line_1, 0))\n",
                "\n",
                "glut1 = Protein(name='GLUT1', source=pdb_glut1)\n",
                "status = bio_explorer.add_protein(glut1,\n",
                "                         rotation=Quaternion(0.707, 0.707, 0.0, 0.0),\n",
                "                         representation=representation,\n",
                "                         position=Vector3(5, line_2, 0))\n",
                "\n",
                "mct1_lac = Protein(name='MCT1', source=pdb_mct1_lac)\n",
                "status = bio_explorer.add_protein(mct1_lac,\n",
                "                         rotation=Quaternion(0.951, 0.0, 0.309, 0.0),\n",
                "                         representation=representation,\n",
                "                         position=Vector3(20, line_2, 0))"
            ]
        },
        {
            "cell_type": "code",
            "execution_count": null,
            "metadata": {},
            "outputs": [],
            "source": [
                "bio_explorer.apply_default_color_scheme(bio_explorer.SHADING_MODE_NONE)"
            ]
        },
        {
            "attachments": {},
            "cell_type": "markdown",
            "metadata": {},
            "source": [
                "### Rendering settings"
            ]
        },
        {
            "cell_type": "code",
            "execution_count": null,
            "metadata": {},
            "outputs": [],
            "source": [
                "status = bio_explorer.set_rendering_quality(bio_explorer.RENDERING_QUALITY_HIGH)"
            ]
        },
        {
            "attachments": {},
            "cell_type": "markdown",
            "metadata": {},
            "source": [
                "### Snapshot"
            ]
        },
        {
            "cell_type": "code",
            "execution_count": null,
            "metadata": {},
            "outputs": [],
            "source": [
                "image_size = [1024, 1024]\n",
                "image_samples_per_pixel = 64"
            ]
        },
        {
            "cell_type": "code",
            "execution_count": null,
            "metadata": {},
            "outputs": [],
            "source": [
                "mm.create_snapshot(\n",
                "    renderer='advanced',\n",
                "    size=image_size, samples_per_pixel=image_samples_per_pixel,\n",
                "    path=image_folder, base_name='protein_sizes')"
            ]
        }
    ],
    "metadata": {
        "kernelspec": {
            "display_name": "Python 3.8.10 ('env')",
            "language": "python",
            "name": "python3"
        },
        "language_info": {
            "codemirror_mode": {
                "name": "ipython",
                "version": 3
            },
            "file_extension": ".py",
            "mimetype": "text/x-python",
            "name": "python",
            "nbconvert_exporter": "python",
            "pygments_lexer": "ipython3",
            "version": "3.8.10"
        },
        "vscode": {
            "interpreter": {
                "hash": "ea9a5fa46eb6bad2806a8ea1d08e15bb1e255a2d4320b81e765591579963c56b"
            }
        }
    },
    "nbformat": 4,
    "nbformat_minor": 5
}
