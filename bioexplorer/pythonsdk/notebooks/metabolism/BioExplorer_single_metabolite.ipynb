{
 "cells": [
  {
   "cell_type": "code",
   "execution_count": null,
   "id": "fdb97b88",
   "metadata": {},
   "outputs": [],
   "source": [
    "from bioexplorer import BioExplorer, Protein, MovieMaker, Volume, Vector2, Vector3\n",
    "url = 'localhost:5000'\n",
    "be = BioExplorer(url)\n",
    "mm = MovieMaker(be)"
   ]
  },
  {
   "cell_type": "code",
   "execution_count": null,
   "id": "21190ced",
   "metadata": {},
   "outputs": [],
   "source": [
    "simulation_guid = 2\n",
    "\n",
    "resource_folder = '../../tests/test_files/'\n",
    "pdb_folder = resource_folder + 'pdb/'\n",
    "metabolites_folder = pdb_folder + 'metabolites/'\n",
    "\n",
    "representation=be.REPRESENTATION_ATOMS_AND_STICKS\n",
    "\n",
    "scene_size = Vector3(200.0, 500.0, 200.0)\n",
    "membrane_size = Vector2(scene_size.x, scene_size.z)\n",
    "membrane_height = scene_size.y / 50.0\n"
   ]
  },
  {
   "cell_type": "markdown",
   "id": "f5b0aef0",
   "metadata": {},
   "source": [
    "## Metabolites"
   ]
  },
  {
   "cell_type": "code",
   "execution_count": null,
   "id": "1792d171",
   "metadata": {},
   "outputs": [],
   "source": [
    "import psycopg2\n",
    "import pandas as pd\n",
    "\n",
    "db_host = 'localhost'\n",
    "db_name = 'bioexplorer'\n",
    "db_user = 'brayns'\n",
    "db_password ='brayns'\n",
    "db_schema = 'metabolism'\n",
    "\n",
    "if False:\n",
    "    db_host = 'bbpdbsrv01.bbp.epfl.ch'\n",
    "    db_name = 'bioexplorer'\n",
    "    db_user = 'bioexplorer'\n",
    "    db_password = 'verole@2020'\n",
    "    db_schema = 'metabolism'\n",
    "\n",
    "\n",
    "db_connection_string = 'host=' + db_host + ' port=5432 dbname=' + db_name + \\\n",
    "              ' user=' + db_user + ' password=' + db_password\n",
    "\n",
    "db_connection=psycopg2.connect(db_connection_string)\n",
    "print('Connected to ' + db_name + '.' + db_schema)"
   ]
  },
  {
   "cell_type": "code",
   "execution_count": null,
   "id": "ffb90d42",
   "metadata": {},
   "outputs": [],
   "source": [
    "# Variables\n",
    "def get_simulations():\n",
    "    simulations = dict()\n",
    "    sql_command = \"SELECT guid, description FROM %s.simulations ORDER BY guid\" % db_schema\n",
    "    data = pd.read_sql(sql_command, db_connection)\n",
    "    for i in range(len(data)):\n",
    "        simulations[str(data['guid'][i])] = data['description'][i]\n",
    "    return simulations\n",
    "\n",
    "def get_variables():\n",
    "    variables = dict()\n",
    "    sql_command = \"SELECT guid, pdb_guid, description FROM %s.variable ORDER BY guid\" % db_schema\n",
    "    data = pd.read_sql(sql_command, db_connection)\n",
    "    for i in range(len(data)):\n",
    "        variables[data['guid'][i]] = [data['pdb_guid'][i], data['description'][i]]\n",
    "    return variables\n",
    "\n",
    "def get_locations():\n",
    "    locations = dict()\n",
    "    sql_command = \"SELECT guid, description FROM %s.location ORDER BY guid\" % db_schema\n",
    "    data = pd.read_sql(sql_command, db_connection)\n",
    "    for i in range(len(data)):\n",
    "        locations[data['guid'][i]] = data['description'][i]\n",
    "    return locations\n",
    "\n",
    "def get_concentration(variable_guid, simulation_guid, frame, location_guid):\n",
    "    sql_command = 'SELECT v.guid AS guid, c.concentration AS concentration FROM %s.variable as v, %s.concentration AS c WHERE c.variable_guid=%d AND v.guid=c.variable_guid AND c.timestamp=%d AND c.simulation_guid=%d AND v.location_guid=%d ORDER BY v.guid' % (db_schema, db_schema, variable_guid, frame, simulation_guid, location_guid)\n",
    "    data = pd.read_sql(sql_command, db_connection)\n",
    "    if(len(data)>0):\n",
    "        return(float(data['concentration']))\n",
    "    return 0.0    "
   ]
  },
  {
   "cell_type": "code",
   "execution_count": null,
   "id": "2042588a",
   "metadata": {},
   "outputs": [],
   "source": [
    "''' Dimensions are in nanometers '''\n",
    "\n",
    "import math\n",
    "\n",
    "location_areas = dict()\n",
    "location_areas[0] = [0.45, Vector2(-20, -100)] # Cytosol of the neuron\n",
    "location_areas[1] = [0.25, Vector2(20, 100)] # Cytosol of the astrocyte\n",
    "location_areas[2] = [0.20, Vector2(-20, 20)] # Extracellular space\n",
    "location_areas[3] = [0.0055, Vector2(0, 0)] # Capillaries (Not used)\n",
    "location_areas[4] = [0.0, Vector2(0, 0)] # Synaptic part of the extracellular space (Not used)\n",
    "location_areas[5] = [0.0575 * 0.45, Vector2(-100, -scene_size.x)] # Mitochondria of the neuron\n",
    "location_areas[6] = [0.0575 * 0.25, Vector2(100, scene_size.x)] # Mitochondria of the astrocyte\n",
    "location_areas[7] = [0.0, Vector2(0, 0)] # Vasculature (Not used)\n",
    "\n",
    "fullNGVUnitVolumeInLiters = 2e-11 / 0.45\n",
    "nanometersCubicToLiters = 1e-24\n",
    "fullSceneVolumeInLiters = scene_size.x * scene_size.y * scene_size.z * nanometersCubicToLiters\n",
    "ratio = fullSceneVolumeInLiters / fullNGVUnitVolumeInLiters"
   ]
  },
  {
   "cell_type": "code",
   "execution_count": null,
   "id": "cd0fe1ad",
   "metadata": {},
   "outputs": [],
   "source": [
    "import glob\n",
    "import random\n",
    "import os\n",
    "\n",
    "def add_metabolites(pdb_guid, location_guid, frame):\n",
    "    Avogadro = 6.02e23\n",
    "\n",
    "    random_seed = 1\n",
    "\n",
    "    file_name = metabolites_folder + str(pdb_guid) + '.pdb'\n",
    "    concentration = 1e-3 * get_concentration(variable_guid, simulation_guid, frame, location_guid)\n",
    "    nb_molecules = int(ratio * Avogadro * concentration * fullNGVUnitVolumeInLiters * location_areas[location_guid][0])\n",
    "    if nb_molecules > 0:\n",
    "        print('%d: %s: %d: %d' % (location_guid, variable_description, nb_molecules, nb_molecules))\n",
    "        try:\n",
    "            metabolite = Protein(\n",
    "                sources=[file_name], load_bonds=True, load_hydrogen=True,\n",
    "                load_non_polymer_chemicals=True, \n",
    "                occurences=nb_molecules)\n",
    "\n",
    "            location_area = location_areas[location_guid][1]\n",
    "            area_size = Vector3(scene_size.x, location_area.y - location_area.x , scene_size.z)\n",
    "            area_position = Vector3(0.0, (location_area.y + location_area.x) / 2.0 , 0.0)\n",
    "\n",
    "            volume = Volume(\n",
    "                name=variable_description, size=area_size,\n",
    "                protein=metabolite,\n",
    "                random_position_seed=random_seed + frame, random_position_stength=area_size.y / 100.0,\n",
    "                random_rotation_seed=random_seed + frame, random_rotation_stength=0.3\n",
    "            )\n",
    "            return be.add_volume(\n",
    "                volume=volume, representation=representation,\n",
    "                position=area_position, random_seed=random_seed)\n",
    "        except Exception as e:\n",
    "            print(e)\n"
   ]
  },
  {
   "cell_type": "code",
   "execution_count": null,
   "id": "f3c0d39c",
   "metadata": {},
   "outputs": [],
   "source": [
    "def setup_frame(pdb_guid, location_guid, frame):\n",
    "    be.reset()\n",
    "    be.set_general_settings(model_visibility_on_creation=False)\n",
    "    add_metabolites(pdb_guid, location_guid, frame)\n",
    "    be.set_models_visibility(True)"
   ]
  },
  {
   "cell_type": "code",
   "execution_count": null,
   "id": "96dfe0fa",
   "metadata": {},
   "outputs": [],
   "source": [
    "be.core_api().set_camera(\n",
    "    orientation=[0.0, 0.0, 0.0, 1.0],\n",
    "    position=[-7.376115322113037, -69.28611755371094, 101.59373474121094],\n",
    "    target=[-7.376115322113037, -69.28611755371094, 100.59373474121094])"
   ]
  },
  {
   "cell_type": "code",
   "execution_count": null,
   "id": "26ad50c9",
   "metadata": {},
   "outputs": [],
   "source": [
    "from IPython.display import clear_output\n",
    "\n",
    "locations = get_locations()\n",
    "variables = get_variables()\n",
    "\n",
    "variable_guid = 9\n",
    "location_guid = 0\n",
    "\n",
    "variable = variables[variable_guid]\n",
    "\n",
    "pdb_guid = variable[0]\n",
    "variable_description = variable[1]\n",
    "frame = 0\n",
    "while True:\n",
    "    clear_output()\n",
    "    print(variable)\n",
    "    setup_frame(pdb_guid, location_guid, frame % 300)\n",
    "    mm.create_snapshot(\n",
    "        renderer='bio_explorer'\n",
    "        base_name = '%05d' % frame,\n",
    "        path='/tmp',\n",
    "        size=[960, 540], samples_per_pixel=8)\n",
    "    frame += 1"
   ]
  }
 ],
 "metadata": {
  "kernelspec": {
   "display_name": "Python 3 (ipykernel)",
   "language": "python",
   "name": "python3"
  },
  "language_info": {
   "codemirror_mode": {
    "name": "ipython",
    "version": 3
   },
   "file_extension": ".py",
   "mimetype": "text/x-python",
   "name": "python",
   "nbconvert_exporter": "python",
   "pygments_lexer": "ipython3",
   "version": "3.8.10"
  }
 },
 "nbformat": 4,
 "nbformat_minor": 5
}
