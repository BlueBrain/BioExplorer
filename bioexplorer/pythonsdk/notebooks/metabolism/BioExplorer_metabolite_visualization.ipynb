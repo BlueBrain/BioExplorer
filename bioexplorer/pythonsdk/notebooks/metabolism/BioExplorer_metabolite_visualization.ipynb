{
 "cells": [
  {
   "cell_type": "markdown",
   "metadata": {},
   "source": [
    "## Environment setup"
   ]
  },
  {
   "cell_type": "code",
   "execution_count": null,
   "metadata": {
    "scrolled": false
   },
   "outputs": [],
   "source": [
    "# !pip install pubchempy\n",
    "# !sudo apt install swig libopenbabel-dev python3-openbabel\n",
    "# !pip install --upgrade pip\n",
    "# !pip install openbabel "
   ]
  },
  {
   "cell_type": "markdown",
   "metadata": {},
   "source": [
    "## Download SDF file according to list of metabolites"
   ]
  },
  {
   "cell_type": "code",
   "execution_count": 3,
   "metadata": {},
   "outputs": [],
   "source": [
    "import pubchempy as pcp\n",
    "folder = '/media/favreau/Documents/medias/pdb/metabolites'"
   ]
  },
  {
   "cell_type": "code",
   "execution_count": 4,
   "metadata": {},
   "outputs": [],
   "source": [
    "def download_sdf(name):\n",
    "    cs = pcp.get_compounds(name, 'name')\n",
    "    for c in cs:\n",
    "        cid = c.cid\n",
    "        pcp.download(\n",
    "            outformat='SDF', path='%s/%s_%d.sdf' % (folder, name, cid),\n",
    "            identifier=cid, overwrite=True)"
   ]
  },
  {
   "cell_type": "code",
   "execution_count": 5,
   "metadata": {},
   "outputs": [],
   "source": [
    "metabolites = open('Metabolites.txt', 'r')\n",
    "lines = metabolites.readlines()\n",
    "for line in lines:\n",
    "    values = line.split('_')\n",
    "    download_sdf(values[0])\n",
    "metabolites.close()"
   ]
  },
  {
   "cell_type": "markdown",
   "metadata": {},
   "source": [
    "## Convert SDF files to PDB"
   ]
  },
  {
   "cell_type": "code",
   "execution_count": null,
   "metadata": {},
   "outputs": [],
   "source": [
    "import glob\n",
    "import openbabel as ob\n",
    "\n",
    "sdf_files = glob.glob('%s/*.sdf' % folder)\n",
    "\n",
    "for sdf_file in sdf_files:\n",
    "    try:\n",
    "        conv = ob.OBConversion()\n",
    "        conv.SetInAndOutFormats(\"sdf\",\"pdb\")\n",
    "        mol= ob.OBMol()\n",
    "        conv.ReadFile(mol, sdf_file)\n",
    "        conv.WriteFile(mol, sdf_file[:-4]+\".pdb\")\n",
    "    except:\n",
    "        raise"
   ]
  },
  {
   "cell_type": "markdown",
   "metadata": {},
   "source": [
    "## Visualize in BioExplorer"
   ]
  },
  {
   "cell_type": "code",
   "execution_count": null,
   "metadata": {},
   "outputs": [],
   "source": [
    "from bioexplorer import BioExplorer, Protein, Vector3, Volume\n",
    "be = BioExplorer('localhost:5000')\n",
    "core = be.core_api()\n",
    "status = be.reset()\n",
    "\n",
    "scene_size = 300"
   ]
  },
  {
   "cell_type": "code",
   "execution_count": null,
   "metadata": {},
   "outputs": [],
   "source": [
    "import os\n",
    "\n",
    "pdb_files = glob.glob('%s/*.pdb' % folder)\n",
    "count = 0\n",
    "nb_proteins = 100 # Use proper concentration here according to timestamp!!\n",
    "for pdb_file in pdb_files:\n",
    "    name=os.path.basename(pdb_file)\n",
    "    metabolite = Protein(\n",
    "        sources=[pdb_file], load_non_polymer_chemicals=True, \n",
    "        occurences=nb_proteins)\n",
    "    volume = Volume(\n",
    "        random_rotation_seed=count, random_rotation_stength=1.0,\n",
    "        name=name, size=scene_size, protein=metabolite)\n",
    "    status = be.add_volume(\n",
    "        volume=volume, random_seed=count,\n",
    "        representation=be.REPRESENTATION_ATOMS_AND_STICKS,\n",
    "        atom_radius_multiplier=1.0)\n",
    "    count += 1"
   ]
  }
 ],
 "metadata": {
  "kernelspec": {
   "display_name": "Python 3",
   "language": "python",
   "name": "python3"
  },
  "language_info": {
   "codemirror_mode": {
    "name": "ipython",
    "version": 3
   },
   "file_extension": ".py",
   "mimetype": "text/x-python",
   "name": "python",
   "nbconvert_exporter": "python",
   "pygments_lexer": "ipython3",
   "version": "3.8.10"
  }
 },
 "nbformat": 4,
 "nbformat_minor": 4
}
