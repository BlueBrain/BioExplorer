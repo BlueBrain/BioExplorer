{
 "cells": [
  {
   "cell_type": "code",
   "execution_count": null,
   "id": "345ec844",
   "metadata": {
    "scrolled": true
   },
   "outputs": [],
   "source": [
    "import os\n",
    "from brayns import Client\n",
    "from circuitexplorer import CircuitExplorer\n",
    "from bioexplorer import BioExplorer, Metabolism\n",
    "%matplotlib notebook\n",
    "\n",
    "URL = 'localhost:5000'\n",
    "\n",
    "be = BioExplorer(URL)\n",
    "core = be.core_api()\n",
    "be.reset_scene()\n",
    "\n",
    "ce = CircuitExplorer(core)\n",
    "data_folder = os.getenv('METABOLISM_DATA_FOLDER')\n"
   ]
  },
  {
   "cell_type": "markdown",
   "id": "95b114ea",
   "metadata": {},
   "source": [
    "## Data loading"
   ]
  },
  {
   "cell_type": "code",
   "execution_count": null,
   "id": "b9277cb1",
   "metadata": {},
   "outputs": [],
   "source": [
    "load_neuron = True\n",
    "load_astrocyte = True\n",
    "load_vasculature = False\n",
    "use_sdf = True"
   ]
  },
  {
   "cell_type": "code",
   "execution_count": null,
   "id": "22270fe2",
   "metadata": {
    "scrolled": false
   },
   "outputs": [],
   "source": [
    "if load_neuron:\n",
    "    print('Loading neuron')\n",
    "    config = '/gpfs/bbp.cscs.ch/project/proj129/medias/circuits/o1/CircuitConfig'\n",
    "    neuron = ce.load_circuit(\n",
    "        use_sdf_soma=use_sdf, \n",
    "        load_afferent_synapses=True, load_efferent_synapses=True,\n",
    "        load_soma=True, load_axon=True, load_apical_dendrite=True, load_dendrite=True,\n",
    "        circuit_color_scheme=ce.CIRCUIT_COLOR_SCHEME_NONE,\n",
    "        morphology_color_scheme=ce.MORPHOLOGY_COLOR_SCHEME_NONE, generate_internals=True,\n",
    "        path=config, gids=[170234 + 1]\n",
    "    )\n",
    "    neuron_model_id = neuron['id']\n",
    "\n",
    "if load_astrocyte:\n",
    "    print('Loading astrocyte...')\n",
    "    config = '/gpfs/bbp.cscs.ch/project/proj129/medias/metabolism/astrocytes/one.astrocytes'\n",
    "    astrocytes = ce.load_astrocytes(\n",
    "        path=config, generate_internals=True, use_sdf_soma=use_sdf)\n",
    "    astrocyte_model_id = astrocytes['id']\n",
    "\n",
    "if load_vasculature:\n",
    "    print('Loading vasculature...')\n",
    "    config = '/gpfs/bbp.cscs.ch/project/proj129/caches/neuroscience/ngv/vasculature.brayns'\n",
    "    vasculature = core.add_model(path=config, name='Vasculature')\n",
    "    vasculature_model_id = vasculature['id']\n"
   ]
  },
  {
   "cell_type": "code",
   "execution_count": null,
   "id": "46304298",
   "metadata": {},
   "outputs": [],
   "source": [
    "def set_metabolism_materials(model_id, user_param, color_1, color_2, color_3):\n",
    "    colors = list()\n",
    "    user_params = list()\n",
    "    material_ids = ce.get_material_ids(model_id)['ids']\n",
    "    print(material_ids)\n",
    "    for material_id in material_ids:\n",
    "        mid = material_id % ce.NB_MATERIALS_PER_MORPHOLOGY\n",
    "        if mid in [ce.MATERIAL_OFFSET_AFFERENT_SYNPASE, ce.MATERIAL_OFFSET_EFFERENT_SYNPASE]: # Synapses\n",
    "            colors.append(color_2)\n",
    "            user_params.append(3)\n",
    "        elif mid == ce.MATERIAL_OFFSET_MITOCHONDRION: # Mitochondria\n",
    "            colors.append(color_3)\n",
    "            user_params.append(user_param)\n",
    "        else: \n",
    "            colors.append(color_1)\n",
    "            user_params.append(user_param)\n",
    "       \n",
    "    ce.set_material_extra_attributes(model_id)\n",
    "    ce.set_materials(\n",
    "        model_ids=[model_id], material_ids=material_ids,\n",
    "        diffuse_colors=colors, specular_colors=colors,\n",
    "        user_parameters=user_params\n",
    "    )\n",
    "    \n",
    "if load_neuron:\n",
    "    set_metabolism_materials(neuron_model_id, 0, [0,1,1], [1,1,1], [1,0,1])\n",
    "if load_astrocyte:\n",
    "    set_metabolism_materials(astrocyte_model_id, 1, [1,1,0], [0,0,0], [0,0,1])\n",
    "if load_vasculature:\n",
    "    set_metabolism_materials(vasculature_model_id, 7, [0,0,0], [0,0,0], [0,0,0])"
   ]
  },
  {
   "cell_type": "markdown",
   "id": "db403b43",
   "metadata": {},
   "source": [
    "### Camera"
   ]
  },
  {
   "cell_type": "code",
   "execution_count": null,
   "id": "72dfdad1",
   "metadata": {},
   "outputs": [],
   "source": [
    "status = core.set_camera(\n",
    "    orientation=[0.351, 0.039, 0.033, 0.934],\n",
    "    position=[459.479, 681.489, 932.141],\n",
    "    target=[439.152, 817.321, 776.323]\n",
    ")"
   ]
  },
  {
   "cell_type": "markdown",
   "id": "789e3ed6",
   "metadata": {},
   "source": [
    "# Widgets"
   ]
  },
  {
   "cell_type": "code",
   "execution_count": null,
   "id": "ecfdf73d",
   "metadata": {},
   "outputs": [],
   "source": [
    "from sqlalchemy import create_engine\n",
    "\n",
    "db_host = os.getenv('DB_HOST')\n",
    "db_name = os.getenv('DB_NAME')\n",
    "db_user = os.getenv('DB_USER')\n",
    "db_password = os.getenv('DB_PASSWORD')\n",
    "db_schema = os.getenv('DB_SCHEMA')\n",
    "\n",
    "db_connection_string = 'postgresql+psycopg2://%s:%s@%s:5432/%s' % (db_user, db_password, db_host, db_name)\n",
    "print('Connection string: ' + db_connection_string + ', schema: ' + db_schema)\n",
    "\n",
    "generate_snapshot = False\n",
    "generate_movie = False"
   ]
  },
  {
   "cell_type": "code",
   "execution_count": null,
   "id": "4c540ca7",
   "metadata": {
    "scrolled": false
   },
   "outputs": [],
   "source": [
    "from bioexplorer import Metabolism\n",
    "\n",
    "simulation_timestamp = '3'\n",
    "metabolism = Metabolism(\n",
    "    be, neuron_model_id, db_host, db_name, db_user, db_password, db_schema, simulation_timestamp)\n",
    "metabolism.display()"
   ]
  },
  {
   "cell_type": "code",
   "execution_count": null,
   "id": "082efffb",
   "metadata": {},
   "outputs": [],
   "source": [
    "metabolism.set_renderer(\n",
    "    subsampling=1, max_accum_frames=4, alpha_correction=0.5, \n",
    "    noise_frequency=5.0, noise_amplitude=0.05,\n",
    "    ray_step=3.0, search_length=20.0, use_random_search=False,\n",
    "    exposure=1.0, far_plane=200.0)"
   ]
  },
  {
   "cell_type": "markdown",
   "id": "4830ff35",
   "metadata": {},
   "source": [
    "## Snapshot"
   ]
  },
  {
   "cell_type": "code",
   "execution_count": null,
   "id": "0ff438cd",
   "metadata": {},
   "outputs": [],
   "source": [
    "from bioexplorer import BioExplorer, MovieMaker\n",
    "\n",
    "be = BioExplorer(URL)\n",
    "mm = MovieMaker(be)\n",
    "output_folder = '/tmp'"
   ]
  },
  {
   "cell_type": "code",
   "execution_count": null,
   "id": "09bf60a2",
   "metadata": {},
   "outputs": [],
   "source": [
    "if generate_snapshot:\n",
    "    mm.create_snapshot(\n",
    "        size=[960, 540], samples_per_pixel=16,\n",
    "        path=output_folder, base_name='metabolism_1k_v1')"
   ]
  },
  {
   "cell_type": "markdown",
   "id": "0647c31b",
   "metadata": {},
   "source": [
    "## Movie"
   ]
  },
  {
   "cell_type": "code",
   "execution_count": null,
   "id": "a03abefe",
   "metadata": {},
   "outputs": [],
   "source": [
    "from IPython.display import clear_output\n",
    "from bioexplorer import MovieMaker\n",
    "mm = MovieMaker(be)"
   ]
  },
  {
   "cell_type": "code",
   "execution_count": null,
   "id": "bd373bdd",
   "metadata": {},
   "outputs": [],
   "source": [
    "key_frames = [\n",
    "{'apertureRadius': 0.0,\n",
    " 'direction': [-0.024215636912091935, 0.6397371067346861, -0.7682122344740901],\n",
    " 'focusDistance': 1000000.0,\n",
    " 'origin': [454.7949205096349, 690.6436543447036, 928.330436921203],\n",
    " 'up': [-0.035184191178338306, 0.7674161301314157, 0.6401832205745853]},\n",
    "{'apertureRadius': 0.0,\n",
    " 'direction': [-0.02421563691209099, 0.6397371067346889, -0.7682122344740879],\n",
    " 'focusDistance': 1000000.0,\n",
    " 'origin': [468.14540061429307, 746.2337081741207, 870.6722615031416],\n",
    " 'up': [-0.03518419117833822, 0.7674161301314134, 0.6401832205745881]}\n",
    "]"
   ]
  },
  {
   "cell_type": "code",
   "execution_count": null,
   "id": "d8fe4da6",
   "metadata": {
    "scrolled": false
   },
   "outputs": [],
   "source": [
    "# if True:\n",
    "if generate_movie:\n",
    "    k = 1\n",
    "    nb_frames = 360\n",
    "    mm.build_camera_path(key_frames, nb_frames, 10)\n",
    "    nb_frames = mm.get_nb_frames()\n",
    "    print('Number of frames: %d' % nb_frames)\n",
    "    \n",
    "    output_folder = '/tmp'\n",
    "\n",
    "    from IPython.display import clear_output\n",
    "    for frame in range(nb_frames):\n",
    "        clear_output()\n",
    "        print('Frame %d' % frame)\n",
    "        mm.set_current_frame(frame)\n",
    "        brayns.set_animation_parameters(current=frame)\n",
    "\n",
    "        mm.create_snapshot(\n",
    "            size=[k * 960, k * 540], samples_per_pixel=8,\n",
    "            path=output_folder, base_name='%05d' % frame)"
   ]
  },
  {
   "cell_type": "code",
   "execution_count": null,
   "id": "a56d3aa6",
   "metadata": {},
   "outputs": [],
   "source": [
    "mm.cancel_frames_export()"
   ]
  }
 ],
 "metadata": {
  "kernelspec": {
   "display_name": "Python 3",
   "language": "python",
   "name": "python3"
  },
  "language_info": {
   "codemirror_mode": {
    "name": "ipython",
    "version": 3
   },
   "file_extension": ".py",
   "mimetype": "text/x-python",
   "name": "python",
   "nbconvert_exporter": "python",
   "pygments_lexer": "ipython3",
   "version": "3.8.10"
  }
 },
 "nbformat": 4,
 "nbformat_minor": 5
}
