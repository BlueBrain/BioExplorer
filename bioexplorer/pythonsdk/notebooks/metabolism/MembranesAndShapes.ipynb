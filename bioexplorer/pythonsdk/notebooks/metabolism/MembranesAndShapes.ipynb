{
 "cells": [
  {
   "cell_type": "code",
   "execution_count": 99,
   "id": "fdb97b88",
   "metadata": {},
   "outputs": [
    {
     "data": {
      "text/plain": [
       "{'contents': 'Removed 6 models', 'status': True}"
      ]
     },
     "execution_count": 99,
     "metadata": {},
     "output_type": "execute_result"
    }
   ],
   "source": [
    "from bioexplorer import BioExplorer, Protein, ParametricMembrane, Cell, Volume, Vector2, Vector3, Quaternion\n",
    "from circuitexplorer import CircuitExplorer\n",
    "\n",
    "url = 'localhost:5000'\n",
    "be = BioExplorer(url)\n",
    "ce = CircuitExplorer(be.core_api())\n",
    "be.reset()"
   ]
  },
  {
   "cell_type": "code",
   "execution_count": 100,
   "id": "21190ced",
   "metadata": {},
   "outputs": [],
   "source": [
    "simulation_guid = 4\n",
    "\n",
    "generate_snapshot = False\n",
    "generate_movie = True\n",
    "\n",
    "be.set_general_settings(model_visibility_on_creation=False)\n",
    "\n",
    "representation=be.REPRESENTATION_ATOMS_AND_STICKS\n",
    "\n",
    "scene_size = Vector3(200.0, 500.0, 200.0)\n",
    "membrane_size = Vector2(scene_size.x, scene_size.z)\n",
    "membrane_height = scene_size.y / 50.0\n",
    "membrane_nb_lipids = int(membrane_size.x * membrane_size.y / 4.3) "
   ]
  },
  {
   "cell_type": "code",
   "execution_count": 101,
   "id": "011623ab",
   "metadata": {},
   "outputs": [],
   "source": [
    "resource_folder = '../../tests/test_files/'\n",
    "pdb_folder = resource_folder + 'pdb/'\n",
    "membrane_folder = pdb_folder + 'membrane/'\n",
    "ion_channels_folder = pdb_folder + 'ion_channels/'\n",
    "metabolites_folder = pdb_folder + 'metabolites/'\n",
    "transporters_folder = pdb_folder + 'transporters/'"
   ]
  },
  {
   "cell_type": "code",
   "execution_count": 102,
   "id": "2042588a",
   "metadata": {},
   "outputs": [],
   "source": [
    "''' Dimensions are in nanometers '''\n",
    "location_areas = dict()\n",
    "location_areas[0] = [0.45, Vector2(-20, -100)] # Cytosol of the neuron\n",
    "location_areas[1] = [0.25, Vector2(20, 100)] # Cytosol of the astrocyte\n",
    "location_areas[2] = [0.20, Vector2(-20, 20)] # Extracellular space\n",
    "location_areas[3] = [0.0055, Vector2(0, 0)] # Capillaries (Not used)\n",
    "location_areas[4] = [0.0, Vector2(0, 0)] # Synaptic part of the extracellular space (Not used)\n",
    "location_areas[5] = [0.0575 * 0.45, Vector2(-100, -scene_size.x)] # Mitochondria of the neuron\n",
    "location_areas[6] = [0.0575 * 0.25, Vector2(100, scene_size.x)] # Mitochondria of the astrocyte\n",
    "location_areas[7] = [0.0, Vector2(0, 0)] # Vasculature (Not used)"
   ]
  },
  {
   "cell_type": "markdown",
   "id": "77336189",
   "metadata": {},
   "source": [
    "## Neuron"
   ]
  },
  {
   "cell_type": "code",
   "execution_count": 188,
   "id": "89d466fa",
   "metadata": {},
   "outputs": [
    {
     "data": {
      "text/plain": [
       "{'error': 0, 'id': 68, 'message': ''}"
      ]
     },
     "execution_count": 188,
     "metadata": {},
     "output_type": "execute_result"
    }
   ],
   "source": [
    "ce.add_sphere([0, 10010,0], 10000,[1,1,0,0.5], 'NeuronSphere')"
   ]
  },
  {
   "cell_type": "code",
   "execution_count": 185,
   "id": "83d91285",
   "metadata": {},
   "outputs": [
    {
     "data": {
      "text/plain": [
       "{'error': 0, 'id': 65, 'message': ''}"
      ]
     },
     "execution_count": 185,
     "metadata": {},
     "output_type": "execute_result"
    }
   ],
   "source": [
    "ce.add_sphere([0, 10110,0], 10000,[1,1,1,0.5], 'NeuronMitochodrionSphere')"
   ]
  },
  {
   "cell_type": "code",
   "execution_count": 187,
   "id": "c6799b4d",
   "metadata": {},
   "outputs": [
    {
     "data": {
      "text/plain": [
       "{'error': 0, 'id': 67, 'message': ''}"
      ]
     },
     "execution_count": 187,
     "metadata": {},
     "output_type": "execute_result"
    }
   ],
   "source": [
    "ce.add_sphere([0, -10010,0], 10000,[0,0,1,0.5], 'AstrocyteSphere')"
   ]
  },
  {
   "cell_type": "code",
   "execution_count": 186,
   "id": "28291005",
   "metadata": {},
   "outputs": [
    {
     "data": {
      "text/plain": [
       "{'error': 0, 'id': 66, 'message': ''}"
      ]
     },
     "execution_count": 186,
     "metadata": {},
     "output_type": "execute_result"
    }
   ],
   "source": [
    "ce.add_sphere([0, -10110,0], 10000,[1,1,1,0.5], 'AstrocyteMitochodrionSphere')"
   ]
  },
  {
   "cell_type": "code",
   "execution_count": 31,
   "id": "5d24ad1b",
   "metadata": {},
   "outputs": [],
   "source": [
    "def add_neuron(frame):\n",
    "    name = 'Neuron'\n",
    "\n",
    "    # Transporter\n",
    "    transporter = Protein(\n",
    "        sources=[transporters_folder + '4zwc.pdb'],\n",
    "        occurences=20, position=Vector3(0.0, 0.0, 0.0),\n",
    "        rotation=Quaternion(0.707, 0.707, 0.0, 0.0),\n",
    "        load_non_polymer_chemicals=True, load_hydrogen=True, load_bonds=True\n",
    "    )\n",
    "\n",
    "    # Membrane definition\n",
    "    membrane = ParametricMembrane(\n",
    "        sources=[membrane_folder + 'new_mem.pdb'],\n",
    "        occurences=membrane_nb_lipids,\n",
    "        load_non_polymer_chemicals=True, load_bonds=True\n",
    "    )\n",
    "\n",
    "    # Cell definition\n",
    "    neuron = Cell(\n",
    "        name=name,\n",
    "        size=membrane_size,\n",
    "        shape=be.ASSEMBLY_SHAPE_SINUSOIDAL,\n",
    "        extra_parameters=[membrane_height],\n",
    "        membrane=membrane,\n",
    "        random_position_seed=frame + 1, random_position_strength=0.025,\n",
    "        random_rotation_seed=frame + 2, random_rotation_strength=0.05,\n",
    "        receptor=transporter)\n",
    "\n",
    "    # Add cell to scene\n",
    "    status = be.add_cell(\n",
    "        cell=neuron, representation=representation,\n",
    "        position=Vector3(0, location_areas[0][1].x, 0), random_seed=1)\n"
   ]
  },
  {
   "cell_type": "code",
   "execution_count": 32,
   "id": "685ea7e9",
   "metadata": {},
   "outputs": [],
   "source": [
    "def add_neuron_mitochondrion(frame):\n",
    "    name = 'NeuronMitochondrion'\n",
    "\n",
    "    # Transporter\n",
    "    transporter = Protein(\n",
    "        sources=[transporters_folder + '4zwc.pdb'],\n",
    "        occurences=0, position=Vector3(0.0, 0.0, 0.0),\n",
    "        rotation=Quaternion(0.707, 0.707, 0.0, 0.0),\n",
    "        load_non_polymer_chemicals=True, load_hydrogen=True, load_bonds=True\n",
    "    )\n",
    "\n",
    "    # Membrane definition\n",
    "    membrane = ParametricMembrane(\n",
    "        sources=[membrane_folder + 'new_mem.pdb'],\n",
    "        occurences=membrane_nb_lipids,\n",
    "        load_non_polymer_chemicals=True, load_bonds=True\n",
    "    )\n",
    "\n",
    "    # Cell definition\n",
    "    neuron_mitochodrion = Cell(\n",
    "        name=name,\n",
    "        size=membrane_size,\n",
    "        shape=be.ASSEMBLY_SHAPE_SINUSOIDAL,\n",
    "        extra_parameters=[membrane_height],\n",
    "        membrane=membrane,\n",
    "        random_position_seed=frame + 3, random_position_strength=0.025,\n",
    "        random_rotation_seed=frame + 4, random_rotation_strength=0.05,\n",
    "        receptor=transporter)\n",
    "\n",
    "    # Add cell to scene\n",
    "    status = be.add_cell(\n",
    "        cell=neuron_mitochodrion, representation=representation,\n",
    "        position=Vector3(0, location_areas[5][1].x, 0), random_seed=2)"
   ]
  },
  {
   "cell_type": "markdown",
   "id": "13640f8b",
   "metadata": {},
   "source": [
    "## Astrocyte"
   ]
  },
  {
   "cell_type": "code",
   "execution_count": 33,
   "id": "2df9be36",
   "metadata": {},
   "outputs": [],
   "source": [
    "def add_astrocyte(frame):\n",
    "    name = 'Astrocyte'\n",
    "\n",
    "    # Transporter\n",
    "    transporter = Protein(\n",
    "        sources=[transporters_folder + '4pyp.pdb'],\n",
    "        occurences=20, position=Vector3(0.0, 0.0, 0.0),\n",
    "        rotation=Quaternion(0.707, 0.707, 0.0, 0.0),\n",
    "        load_non_polymer_chemicals=True, load_hydrogen=True, load_bonds=True\n",
    "    )\n",
    "\n",
    "    # Membrane definition\n",
    "    membrane = ParametricMembrane(\n",
    "        sources=[membrane_folder + 'new_mem.pdb'],\n",
    "        occurences=membrane_nb_lipids,\n",
    "        load_non_polymer_chemicals=True, load_bonds=True)\n",
    "\n",
    "    # Cell definition\n",
    "    astrocyte = Cell(\n",
    "        name=name,\n",
    "        size=membrane_size,\n",
    "        shape=be.ASSEMBLY_SHAPE_SINUSOIDAL,\n",
    "        extra_parameters=[membrane_height],\n",
    "        membrane=membrane,\n",
    "        random_position_seed=frame + 5, random_position_strength=0.025,\n",
    "        random_rotation_seed=frame + 6, random_rotation_strength=0.05,\n",
    "        receptor=transporter)\n",
    "\n",
    "    # Add cell to scene\n",
    "    status = be.add_cell(\n",
    "        cell=astrocyte, representation=representation,\n",
    "        rotation=Quaternion(0.0, 1.0, 0.0, 0.0),\n",
    "        position=Vector3(0, location_areas[1][1].x, 0),\n",
    "        random_seed=3)"
   ]
  },
  {
   "cell_type": "code",
   "execution_count": 34,
   "id": "6b50f4dd",
   "metadata": {},
   "outputs": [],
   "source": [
    "def add_astrocyte_mitochondrion(frame):\n",
    "    name = 'AstrocyteMitochondrion'\n",
    "\n",
    "    # Transporter\n",
    "    transporter = Protein(\n",
    "        sources=[transporters_folder + '4pyp.pdb'],\n",
    "        occurences=0, position=Vector3(0.0, 0.0, 0.0),\n",
    "        rotation=Quaternion(0.707, 0.707, 0.0, 0.0),\n",
    "        load_non_polymer_chemicals=True, load_hydrogen=True, load_bonds=True\n",
    "    )\n",
    "\n",
    "    # Membrane definition\n",
    "    membrane = ParametricMembrane(\n",
    "        sources=[membrane_folder + 'new_mem.pdb'],\n",
    "        occurences=membrane_nb_lipids,\n",
    "        load_non_polymer_chemicals=True, load_bonds=True\n",
    "    )\n",
    "\n",
    "    # Cell definition\n",
    "    astrocyte_mitochodrion = Cell(\n",
    "        name=name,\n",
    "        size=membrane_size,\n",
    "        shape=be.ASSEMBLY_SHAPE_SINUSOIDAL,\n",
    "        extra_parameters=[membrane_height],\n",
    "        membrane=membrane,\n",
    "        random_position_seed=frame + 7, random_position_strength=0.025,\n",
    "        random_rotation_seed=frame + 8, random_rotation_strength=0.05,\n",
    "        receptor=transporter)\n",
    "\n",
    "    # Add cell to scene\n",
    "    status = be.add_cell(\n",
    "        cell=astrocyte_mitochodrion, representation=representation,\n",
    "        rotation=Quaternion(0.0, 1.0, 0.0, 0.0),\n",
    "        position=Vector3(0, location_areas[6][1].x, 0),\n",
    "        random_seed=4)"
   ]
  },
  {
   "cell_type": "markdown",
   "id": "c928f9c6",
   "metadata": {},
   "source": [
    "## Materials"
   ]
  },
  {
   "cell_type": "code",
   "execution_count": 191,
   "id": "c5d4860b",
   "metadata": {},
   "outputs": [
    {
     "name": "stdout",
     "output_type": "stream",
     "text": [
      "NeuronMitochodrionSphere\n",
      "AstrocyteMitochodrionSphere\n"
     ]
    },
    {
     "data": {
      "text/plain": [
       "True"
      ]
     },
     "execution_count": 191,
     "metadata": {},
     "output_type": "execute_result"
    }
   ],
   "source": [
    "COLOR_MAPS = [\n",
    "    'Accent', 'Accent_r', 'Blues', 'Blues_r', 'BrBG', 'BrBG_r', 'BuGn', 'BuGn_r',\n",
    "    'BuPu', 'BuPu_r', 'CMRmap', 'CMRmap_r', 'Dark2', 'Dark2_r', 'GnBu', 'GnBu_r',\n",
    "    'Greens', 'Greens_r', 'Greys', 'Greys_r', 'OrRd', 'OrRd_r', 'Oranges', 'Oranges_r',\n",
    "    'PRGn', 'PRGn_r', 'Paired', 'Paired_r', 'Pastel1', 'Pastel1_r', 'Pastel2', 'Pastel2_r',\n",
    "    'PiYG', 'PiYG_r', 'PuBu', 'PuBuGn', 'PuBuGn_r', 'PuBu_r', 'PuOr', 'PuOr_r',\n",
    "    'PuRd', 'PuRd_r', 'Purples', 'Purples_r', 'RdBu', 'RdBu_r', 'RdGy', 'RdGy_r',\n",
    "    'RdPu', 'RdPu_r', 'RdYlBu', 'RdYlBu_r', 'RdYlGn', 'RdYlGn_r', 'Reds', 'Reds_r',\n",
    "    'Set1', 'Set1_r', 'Set2', 'Set2_r', 'Set3', 'Set3_r',\n",
    "    'Wistia', 'Wistia_r', 'YlGn', 'YlGnBu', 'YlGnBu_r', 'YlGn_r', 'YlOrBr',\n",
    "    'YlOrBr_r', 'YlOrRd', 'YlOrRd_r', 'afmhot', 'afmhot_r', 'autumn', 'autumn_r',\n",
    "    'binary', 'binary_r', 'bone', 'bone_r', 'brg', 'brg_r', 'bwr', 'bwr_r', 'cool', 'cool_r',\n",
    "    'coolwarm', 'coolwarm_r', 'copper', 'copper_r', 'cubehelix', 'cubehelix_r', 'flag',\n",
    "    'flag_r', 'gist_earth', 'gist_earth_r', 'gist_gray', 'gist_gray_r', 'gist_heat',\n",
    "    'gist_heat_r', 'gist_ncar', 'gist_ncar_r', 'gist_rainbow', 'gist_rainbow_r', 'gist_stern',\n",
    "    'gist_stern_r', 'gist_yarg', 'gist_yarg_r', 'gnuplot', 'gnuplot2', 'gnuplot2_r',\n",
    "    'gnuplot_r', 'gray', 'gray_r', 'hot', 'hot_r', 'hsv', 'hsv_r', 'icefire', 'icefire_r',\n",
    "    'inferno', 'inferno_r', 'jet_r', 'magma', 'magma_r', 'mako', 'mako_r',\n",
    "    'nipy_spectral', 'nipy_spectral_r', 'ocean', 'ocean_r', 'pink', 'pink_r', 'plasma',\n",
    "    'plasma_r', 'prism', 'prism_r', 'rainbow', 'rainbow_r', 'rocket', 'rocket_r', 'seismic',\n",
    "    'seismic_r', 'spring', 'spring_r', 'summer', 'summer_r',\n",
    "    'tab10', 'tab10_r', 'tab20', 'tab20_r', 'tab20b', 'tab20b_r', 'tab20c', 'tab20c_r',\n",
    "    'terrain', 'terrain_r', 'viridis', 'viridis_r', 'vlag', 'vlag_r', 'winter', 'winter_r'\n",
    "]\n",
    "\n",
    "def set_color_scheme(\n",
    "        shading_mode, user_parameter=1.0, specular_exponent=5.0, glossiness=1.0):\n",
    "    \"\"\"\n",
    "    Apply a default color scheme to all components in the scene\n",
    "\n",
    "    :shading_mode: Shading mode (None, basic, diffuse, electron, etc)\n",
    "    :user_parameter: User parameter specific to each shading mode\n",
    "    :specular_exponent: Specular exponent for diffuse shading modes\n",
    "    :glossiness: Glossiness\n",
    "    \"\"\"\n",
    "\n",
    "    import seaborn as sns\n",
    "    model_ids = be.get_model_ids()\n",
    "    global_palette = sns.color_palette('rainbow', len(model_ids[\"ids\"]))\n",
    "\n",
    "    index = 0\n",
    "    for model_id in model_ids[\"ids\"]:\n",
    "        model_name = be.get_model_name(model_id)['name']\n",
    "        material_ids = be.get_material_ids(model_id)[\"ids\"]\n",
    "        nb_materials = len(material_ids)\n",
    "\n",
    "        if model_name.find('Neuron') != -1 and model_name.find('Mitochondrion') == -1:\n",
    "            palette = sns.color_palette(\"Blues\", nb_materials)\n",
    "            be.set_materials_from_palette(\n",
    "                model_ids=[model_id],\n",
    "                material_ids=material_ids,\n",
    "                palette=palette,\n",
    "                shading_mode=shading_mode,\n",
    "                user_parameter=user_parameter,\n",
    "                glossiness=glossiness,\n",
    "                specular_exponent=specular_exponent,\n",
    "            )\n",
    "        if model_name.find('Astrocyte') != -1 and model_name.find('Mitochondrion') == -1:\n",
    "            palette = sns.color_palette(\"Wistia\", nb_materials)\n",
    "            be.set_materials_from_palette(\n",
    "                model_ids=[model_id],\n",
    "                material_ids=material_ids,\n",
    "                palette=palette,\n",
    "                shading_mode=shading_mode,\n",
    "                user_parameter=user_parameter,\n",
    "                glossiness=glossiness,\n",
    "                specular_exponent=specular_exponent,\n",
    "            )\n",
    "        if model_name.find('Mitochondrion') != -1:\n",
    "            palette = sns.color_palette(\"Purples_r\", nb_materials)\n",
    "            be.set_materials_from_palette(\n",
    "                model_ids=[model_id],\n",
    "                material_ids=material_ids,\n",
    "                palette=palette,\n",
    "                shading_mode=shading_mode,\n",
    "                user_parameter=user_parameter,\n",
    "                glossiness=glossiness,\n",
    "                specular_exponent=specular_exponent,\n",
    "            )\n",
    "        else:\n",
    "            colors = list()\n",
    "            shading_modes = list()\n",
    "            user_parameters = list()\n",
    "            glossinesses = list()\n",
    "            specular_exponents = list()\n",
    "\n",
    "            for m in material_ids:\n",
    "                colors.append(global_palette[index])\n",
    "                shading_modes.append(shading_mode)\n",
    "                user_parameters.append(user_parameter)\n",
    "                glossinesses.append(glossiness)\n",
    "                specular_exponents.append(specular_exponent)\n",
    "\n",
    "            be.set_materials(\n",
    "                model_ids=[model_id],\n",
    "                material_ids=material_ids,\n",
    "                diffuse_colors=colors,\n",
    "                specular_colors=colors,\n",
    "                shading_modes=shading_modes,\n",
    "                user_parameters=user_parameters,\n",
    "                glossinesses=glossinesses,\n",
    "                specular_exponents=specular_exponents\n",
    "            )\n",
    "\n",
    "        if model_name == 'NeuronSphere':\n",
    "            print(model_name)\n",
    "            palette = list()\n",
    "            for i in range(nb_materials):\n",
    "                palette.append([1,1,0])\n",
    "            ce.set_material_extra_attributes(model_id)\n",
    "            be.set_materials_from_palette(\n",
    "                model_ids=[model_id],\n",
    "                material_ids=material_ids,\n",
    "                palette=palette,\n",
    "                shading_mode=shading_mode,\n",
    "                user_parameter=user_parameter,\n",
    "                glossiness=glossiness,\n",
    "                specular_exponent=specular_exponent,\n",
    "                opacity=0.25\n",
    "            )\n",
    "        elif model_name == 'AstrocyteSphere':\n",
    "            print(model_name)\n",
    "            palette = list()\n",
    "            for i in range(nb_materials):\n",
    "                palette.append([0.0, 0.75, 1.0])\n",
    "            ce.set_material_extra_attributes(model_id)\n",
    "            be.set_materials_from_palette(\n",
    "                model_ids=[model_id],\n",
    "                material_ids=material_ids,\n",
    "                palette=palette,\n",
    "                shading_mode=shading_mode,\n",
    "                user_parameter=user_parameter,\n",
    "                glossiness=glossiness,\n",
    "                specular_exponent=specular_exponent,\n",
    "                opacity=0.25\n",
    "            )\n",
    "        elif model_name == 'AstrocyteMitochodrionSphere' or model_name == 'NeuronMitochodrionSphere':\n",
    "            print(model_name)\n",
    "            palette = list()\n",
    "            for i in range(nb_materials):\n",
    "                palette.append([153 / 255, 50 / 255, 204 / 255])\n",
    "            ce.set_material_extra_attributes(model_id)\n",
    "            be.set_materials_from_palette(\n",
    "                model_ids=[model_id],\n",
    "                material_ids=material_ids,\n",
    "                palette=palette,\n",
    "                shading_mode=shading_mode,\n",
    "                user_parameter=user_parameter,\n",
    "                glossiness=glossiness,\n",
    "                specular_exponent=specular_exponent,\n",
    "                opacity = 1.0\n",
    "            )\n",
    "        index += 1\n",
    "\n",
    "\n",
    "set_color_scheme(shading_mode=be.SHADING_MODE_NONE, user_parameter=0.25, specular_exponent=100)\n",
    "be.core_api().set_renderer()"
   ]
  },
  {
   "cell_type": "code",
   "execution_count": 36,
   "id": "f3c0d39c",
   "metadata": {},
   "outputs": [],
   "source": [
    "def setup_frame(frame):\n",
    "    be.reset()\n",
    "    be.set_general_settings(model_visibility_on_creation=False)\n",
    "    print('Loading neuron membrane...')\n",
    "    add_neuron(frame)\n",
    "    print('Loading neuron mitochondrion membrane...')\n",
    "    add_neuron_mitochondrion(frame)\n",
    "    print('Loading astrocyte membrane...')\n",
    "    add_astrocyte(frame)\n",
    "    print('Loading astrocyte mitochondrion membrane...')\n",
    "    add_astrocyte_mitochondrion(frame)\n",
    "    print('Applying materials...')\n",
    "    set_color_scheme(shading_mode=be.SHADING_MODE_DIFFUSE, specular_exponent=50)\n",
    "    print('Building geometry...')\n",
    "    be.set_models_visibility(True)\n",
    "    print('Done')"
   ]
  },
  {
   "cell_type": "code",
   "execution_count": 37,
   "id": "c2bd0720-8776-4992-a0f7-bd0c379f16da",
   "metadata": {},
   "outputs": [],
   "source": [
    "be.set_rendering_quality(be.RENDERING_QUALITY_HIGH)\n",
    "\n",
    "params = be.core_api().BioExplorerRendererParams()\n",
    "params.shadows = 1.0\n",
    "params.soft_shadows = 0.5\n",
    "params.use_hardware_randomizer = True\n",
    "params.fog_start = 250.0\n",
    "params.fog_thickness = 250.0\n",
    "params.gi_distance = 20.0\n",
    "params.gi_weight = 0.2\n",
    "params.gi_samples = 3\n",
    "params = be.core_api().set_renderer_params(params)\n",
    "params = be.core_api().set_renderer(head_light=True)"
   ]
  },
  {
   "cell_type": "markdown",
   "id": "9e9b6f3e",
   "metadata": {},
   "source": [
    "## Snapshots"
   ]
  },
  {
   "cell_type": "code",
   "execution_count": 38,
   "id": "142234a8",
   "metadata": {},
   "outputs": [],
   "source": [
    "from bioexplorer import MovieMaker\n",
    "mm = MovieMaker(be)"
   ]
  },
  {
   "cell_type": "code",
   "execution_count": 183,
   "id": "7cac3cb7",
   "metadata": {},
   "outputs": [
    {
     "data": {
      "text/plain": [
       "True"
      ]
     },
     "execution_count": 183,
     "metadata": {},
     "output_type": "execute_result"
    }
   ],
   "source": [
    "be.core_api().set_camera(\n",
    "    orientation = [-0.707, -0.707, 0.0, 0.0],\n",
    "    position = [0.7841586723976661, 3.6684584451627895, -360.03218098964624],\n",
    "    target = [0.7841586723976661, 3.6684584451626847, -25.817442464876535]\n",
    ")\n",
    "# setup_frame(0)"
   ]
  },
  {
   "cell_type": "code",
   "execution_count": 17,
   "id": "4e53887e",
   "metadata": {},
   "outputs": [
    {
     "data": {
      "application/vnd.jupyter.widget-view+json": {
       "model_id": "7be7d3c77e174f0dac2e6cb45167a078",
       "version_major": 2,
       "version_minor": 0
      },
      "text/plain": [
       "HBox(children=(VBox(children=(FloatSlider(value=0.5, description='X', max=1.0), FloatSlider(value=0.5, descrip…"
      ]
     },
     "metadata": {},
     "output_type": "display_data"
    }
   ],
   "source": [
    "from bioexplorer import Widgets\n",
    "w = Widgets(be)\n",
    "w.display_focal_distance()"
   ]
  },
  {
   "cell_type": "code",
   "execution_count": 18,
   "id": "6e11f16e",
   "metadata": {},
   "outputs": [],
   "source": [
    "if generate_snapshot:\n",
    "    be.core_api().set_camera(current='orthographic')\n",
    "    params = be.core_api().OrthographicCameraParams()\n",
    "    params.height = 100.0\n",
    "    be.core_api().set_camera_params(params)\n",
    "\n",
    "    be.core_api().set_camera(\n",
    "        orientation = [-0.707, -0.707, 0.0, 0.0],\n",
    "        position = [0.7841586723976661, 3.6684584451627895, -360.03218098964624],\n",
    "        target = [0.7841586723976661, 3.6684584451626847, -25.817442464876535]\n",
    "    )\n",
    "\n",
    "    mm.create_snapshot(\n",
    "        base_name = 'Metabolism_Molecular_Level_4k_v10',\n",
    "        path='/gpfs/bbp.cscs.ch/project/proj129/images/metabolism/4K',\n",
    "        size=[2160, 3840], samples_per_pixel=64\n",
    ")"
   ]
  },
  {
   "cell_type": "markdown",
   "id": "65458fc8",
   "metadata": {},
   "source": [
    "## Simulation movie"
   ]
  },
  {
   "cell_type": "code",
   "execution_count": 19,
   "id": "e71d2f15",
   "metadata": {},
   "outputs": [
    {
     "data": {
      "text/plain": [
       "{'apertureRadius': 0.0,\n",
       " 'direction': [0.0, 0.0, 0.9993959999999997],\n",
       " 'focusDistance': 1000000.0,\n",
       " 'origin': [0.7841586723976661, 3.6684584451627895, -360.03218098964624],\n",
       " 'up': [0.9996979999999999, 0.0003020000000001355, -0.0]}"
      ]
     },
     "execution_count": 19,
     "metadata": {},
     "output_type": "execute_result"
    }
   ],
   "source": [
    "mm.get_camera()"
   ]
  },
  {
   "cell_type": "code",
   "execution_count": 152,
   "id": "1731f49f",
   "metadata": {},
   "outputs": [
    {
     "name": "stdout",
     "output_type": "stream",
     "text": [
      "501\n"
     ]
    }
   ],
   "source": [
    "nb_frames = 100\n",
    "key_frames = [\n",
    "    { # 0\n",
    "        'apertureRadius': 0.02,\n",
    "        'direction': [0.0, 0.0, 1.0],\n",
    "        'focusDistance': 260.0,\n",
    "        'origin': [0.7841586723976661, 3.6684584451627895, -360.03218098964624],\n",
    "        'up': [0.9996979999999999, 0.0003020000000001355, 0.0]\n",
    "    },\n",
    "    { # 100\n",
    "        'apertureRadius': 0.02,\n",
    "        'direction': [0.0, 0.0, 1.0],\n",
    "        'focusDistance': 260.0,\n",
    "        'origin': [0.7841586723976661, 3.6684584451627895, -160.03218098964624],\n",
    "        'up': [0.9996979999999999, 0.0003020000000001355, 0.0]\n",
    "    },\n",
    "    { # 200\n",
    "        'apertureRadius': 0.02,\n",
    "        'direction': [-5.551115123125783e-17, -1.0, 0.0],\n",
    "        'focusDistance': 1000000.0,\n",
    "        'origin': [28.167633056640625, 15.00307907686704, -13.82595157623291],\n",
    "        'up': [0.995946358535887, 0.0, -0.08994915741187692]\n",
    "    },\n",
    "    { # 300\n",
    "        'apertureRadius': 0.02,\n",
    "        'direction': [0.0, -1.0, 0.0],\n",
    "        'focusDistance': 1000000.0,\n",
    "        'origin': [30.811624840998768, -14.626182907516387, -13.686327604222097],\n",
    "        'up': [0.9958837897803697, -0.005724790808323554, -0.0904582999115569]\n",
    "    },\n",
    "    { # 400\n",
    "        'apertureRadius': 0.02,\n",
    "        'direction': [0.0,  -1.0,  0.0],\n",
    "        'focusDistance': 1000000.0,\n",
    "        'origin': [29.476409912109375, -41.00079776535672, -13.756837844848633],\n",
    "        'up': [1.2246467991473535e-16, -4.440892098500626e-16, -1.0000000000000002]\n",
    "    },\n",
    "    { # 400\n",
    "        'apertureRadius': 0.02,\n",
    "        'direction': [0.0,  -1.0,  0.0],\n",
    "        'focusDistance': 1000000.0,\n",
    "        'origin': [29.476409912109375, -41.00079776535672, -13.756837844848633],\n",
    "        'up': [1.2246467991473535e-16, -4.440892098500626e-16, -1.0000000000000002]\n",
    "    }\n",
    "]\n",
    "\n",
    "mm.build_camera_path(key_frames, nb_frames, nb_frames / 4)\n",
    "# mm.build_camera_path(key_frames, nb_frames, 1)\n",
    "print(mm.get_nb_frames())"
   ]
  },
  {
   "cell_type": "code",
   "execution_count": 134,
   "id": "f7515295-4628-4977-9068-35c5b48e67c5",
   "metadata": {},
   "outputs": [
    {
     "name": "stdout",
     "output_type": "stream",
     "text": [
      "[(0.7841586723976661, 3.6684584451627886, -354.75218098964615), (0.0, 0.0, 1.0), (0.9996979999999996, 0.0003020000000001355, 0.0), 0.020000000000000004, 260.0]\n"
     ]
    },
    {
     "data": {
      "text/plain": [
       "True"
      ]
     },
     "execution_count": 134,
     "metadata": {},
     "output_type": "execute_result"
    }
   ],
   "source": [
    "be.core_api().set_camera(current='bio_explorer_perspective')\n",
    "frame = 0\n",
    "mm.set_current_frame(frame)\n",
    "key_frame = mm.get_key_frame(frame)\n",
    "print(key_frame)\n",
    "\n",
    "params = be.core_api().BioExplorerPerspectiveCameraParams()\n",
    "params.aperture_radius = 0 #key_frame[3]\n",
    "params.focus_distance = key_frame[4]\n",
    "be.core_api().set_camera_params(params)\n",
    "\n",
    "be.core_api().set_renderer()"
   ]
  },
  {
   "cell_type": "code",
   "execution_count": 192,
   "id": "d6a19291",
   "metadata": {},
   "outputs": [
    {
     "name": "stdout",
     "output_type": "stream",
     "text": [
      "Frame 500\n"
     ]
    },
    {
     "data": {
      "application/vnd.jupyter.widget-view+json": {
       "model_id": "79b688b2e246462992d3bfa4595c4699",
       "version_major": 2,
       "version_minor": 0
      },
      "text/plain": [
       "IntProgress(value=0, description='In progress...')"
      ]
     },
     "metadata": {},
     "output_type": "display_data"
    }
   ],
   "source": [
    "import time\n",
    "from IPython.display import clear_output\n",
    "\n",
    "draft = False\n",
    "\n",
    "output_folder = '/gpfs/bbp.cscs.ch/project/proj129/movies/metabolism/4K/mitochondria'\n",
    "for frame in range(mm.get_nb_frames()):\n",
    "    clear_output()\n",
    "    print('Frame %d' % frame)\n",
    "    mm.set_current_frame(frame)\n",
    "\n",
    "    if draft:\n",
    "        time.sleep(0.1)\n",
    "    else:\n",
    "        mm.create_snapshot(\n",
    "            size=[3840, 2160], samples_per_pixel=8,\n",
    "            path=output_folder, base_name='%05d' % frame)\n"
   ]
  },
  {
   "cell_type": "code",
   "execution_count": null,
   "id": "4290b2c6-986c-4aec-b1ee-283b7d47f314",
   "metadata": {},
   "outputs": [],
   "source": []
  }
 ],
 "metadata": {
  "kernelspec": {
   "display_name": "Python 3 (ipykernel)",
   "language": "python",
   "name": "python3"
  },
  "language_info": {
   "codemirror_mode": {
    "name": "ipython",
    "version": 3
   },
   "file_extension": ".py",
   "mimetype": "text/x-python",
   "name": "python",
   "nbconvert_exporter": "python",
   "pygments_lexer": "ipython3",
   "version": "3.8.10"
  }
 },
 "nbformat": 4,
 "nbformat_minor": 5
}
