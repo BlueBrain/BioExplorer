{
 "cells": [
  {
   "cell_type": "markdown",
   "id": "f992ef9f",
   "metadata": {},
   "source": [
    "# BioExplorer - Metabolism - Combine movies into gallery view\n",
    "![](../bioexplorer_metabolism_banner.png)"
   ]
  },
  {
   "cell_type": "code",
   "execution_count": null,
   "id": "345ec844",
   "metadata": {
    "scrolled": true
   },
   "outputs": [],
   "source": [
    "from glob import glob\n",
    "import os\n",
    "from PIL import Image, ImageDraw, ImageFont\n",
    "\n",
    "movies_folder = os.getenv('METABOLISM_MOVIE_FOLDER')"
   ]
  },
  {
   "cell_type": "markdown",
   "id": "726d9ab4",
   "metadata": {},
   "source": [
    "## Media production"
   ]
  },
  {
   "cell_type": "markdown",
   "id": "1f8f0fcb",
   "metadata": {},
   "source": [
    "### Create movies from frames"
   ]
  },
  {
   "cell_type": "code",
   "execution_count": null,
   "id": "0ff789b0",
   "metadata": {},
   "outputs": [],
   "source": [
    "all_files = glob(os.path.join(movies_folder, '*'))\n",
    "all_folders = list()\n",
    "for file in all_files:\n",
    "    if os.path.isdir(file):\n",
    "        all_folders.append(file)\n",
    "for folder in all_folders:\n",
    "    basename = os.path.basename(folder)\n",
    "    movie_filename = os.path.join(movies_folder, basename + '_1k_v13.mp4')\n",
    "    cmd = 'ffmpeg -f Image2 -i %s/%%*.png -b:v 16M -threads 16 -y %s 2>/dev/null' % (folder, movie_filename)\n",
    "    print(basename)\n",
    "    os.system(cmd)"
   ]
  },
  {
   "cell_type": "markdown",
   "id": "707f0161",
   "metadata": {},
   "source": [
    "### Combine movies into mosaic"
   ]
  },
  {
   "cell_type": "code",
   "execution_count": null,
   "id": "8068e9ef",
   "metadata": {},
   "outputs": [],
   "source": [
    "all_movie_files = glob(os.path.join(movies_folder, '*.mp4'))\n",
    "movie_files=all_movie_files\n",
    "print('Found %d movies' % len(movie_files))"
   ]
  },
  {
   "cell_type": "code",
   "execution_count": null,
   "id": "78f9c4f8",
   "metadata": {},
   "outputs": [],
   "source": [
    "nb_columns = 5\n",
    "nb_lines = 5\n",
    "resolution=[3840, 2160]\n",
    "image_size=[int(3840 / nb_columns), int(2160 / nb_lines)]\n",
    "\n",
    "print(str(nb_columns) + 'x' + str(nb_lines) + '=' + str(nb_lines*nb_columns))\n",
    "print(image_size)\n",
    "\n",
    "all_movie_files = glob(os.path.join(movies_folder, '*.mp4'))"
   ]
  },
  {
   "cell_type": "markdown",
   "id": "6169f5b9",
   "metadata": {},
   "source": [
    "### Legend"
   ]
  },
  {
   "cell_type": "code",
   "execution_count": null,
   "id": "0c2f9112",
   "metadata": {},
   "outputs": [],
   "source": [
    "def add_text(draw, x_left, y_top, text, font_size, color):\n",
    "    font = ImageFont.truetype('Roboto-Bold.ttf', size=font_size)\n",
    "    draw.text((x_left,y_top), text, font=font, fill=color)\n",
    "\n",
    "img_overlay = Image.new('RGBA', resolution, (0, 0, 0, 0)) \n",
    "draw_overlay = ImageDraw.Draw(img_overlay) \n",
    "\n",
    "i = 0\n",
    "fontsize = 45\n",
    "color = (255,255,255, 255)\n",
    "for y in range(nb_lines):\n",
    "    for x in range(nb_columns):\n",
    "        x_left = x * image_size[0] + 5\n",
    "        y_top = y * image_size[1] + 5\n",
    "        text = os.path.basename(movie_files[i]).split('_')[0]\n",
    "        i += 1\n",
    "\n",
    "        add_text(draw_overlay, x_left, y_top, text, fontsize, color)\n",
    "\n",
    "img_overlay.save(os.path.join(movies_folder, 'mosaic', 'metabolites_legend.png'))\n"
   ]
  },
  {
   "cell_type": "markdown",
   "id": "cee16768",
   "metadata": {},
   "source": [
    "### Background"
   ]
  },
  {
   "cell_type": "code",
   "execution_count": null,
   "id": "7780b33b",
   "metadata": {},
   "outputs": [],
   "source": [
    "img_overlay = Image.new('RGBA', resolution, (0, 0, 0, 0)) \n",
    "draw_overlay = ImageDraw.Draw(img_overlay) \n",
    "\n",
    "img_background = Image.open(os.path.join(movies_folder, 'mosaic', 'metabolism_bioexplorer_2k_v13.png'))\n",
    "img_background = img_background.resize(image_size)\n",
    "\n",
    "for y in range(nb_lines):\n",
    "    for x in range(nb_columns):\n",
    "        x_left = x * image_size[0]\n",
    "        y_top = y * image_size[1]\n",
    "        img_overlay.paste(img_background, [x_left, y_top])\n",
    "\n",
    "img_overlay.save(os.path.join(movies_folder, 'mosaic', 'metabolites_background.png'))\n"
   ]
  },
  {
   "cell_type": "markdown",
   "id": "d9fe5d88",
   "metadata": {},
   "source": [
    "### Movie mosaic"
   ]
  },
  {
   "cell_type": "code",
   "execution_count": null,
   "id": "11eaad82",
   "metadata": {},
   "outputs": [],
   "source": [
    "\n",
    "def generate_mosaic(files, output_filename):\n",
    "    import subprocess\n",
    "    nb_movies = len(files)\n",
    "\n",
    "    values = list()\n",
    "    values.append('ffmpeg')\n",
    "\n",
    "    for movie_file in files:\n",
    "        values.append('-i')\n",
    "        values.append(movie_file)\n",
    "    values.append('-filter_complex')\n",
    "\n",
    "    filter_complex = 'nullsrc=size=' + str(resolution[0]) + 'x' + str(resolution[1]) + ' [base];'\n",
    "    for i in range(nb_movies):\n",
    "        filter_complex += ' [%d:v] setpts=PTS-STARTPTS, scale=%dx%d [vid%d];' % (i, image_size[0], image_size[1], i)\n",
    "\n",
    "    for i in range(nb_movies):\n",
    "        if i == 0:\n",
    "            filter_complex += ' [base]'\n",
    "        else:\n",
    "            filter_complex += ' [tmp%d]' % (i - 1)\n",
    "        filter_complex += '[vid%d] overlay=shortest=1:x=%d:y=%d' % (i, int(i % nb_columns) * image_size[0], (int(i / nb_columns) * image_size[1]))\n",
    "        if i != nb_movies-1:\n",
    "            filter_complex += ' [tmp%d];' % i\n",
    "\n",
    "    values.append(filter_complex)\n",
    "    values.append('-threads')\n",
    "    values.append('20')\n",
    "    values.append(output_filename)\n",
    "    try:\n",
    "        subprocess.run(\n",
    "            values, \n",
    "            stdout=subprocess.DEVNULL,\n",
    "            stderr=subprocess.STDOUT\n",
    "        )\n",
    "    except Exception as e:\n",
    "        print(e)\n",
    "\n",
    "concentrations_output_filename = os.path.join(movies_folder, 'mosaic', 'concentrations', '%05d.png')\n",
    "background_output_filename = os.path.join(movies_folder, 'mosaic', 'background', '%05d.png')\n",
    "\n",
    "generate_mosaic(all_movie_files, concentrations_output_filename)"
   ]
  },
  {
   "cell_type": "markdown",
   "id": "ffd6893d",
   "metadata": {},
   "source": [
    "### Extract frames from mosaic movie"
   ]
  },
  {
   "cell_type": "code",
   "execution_count": null,
   "id": "becc5e45",
   "metadata": {},
   "outputs": [],
   "source": [
    "from PIL import Image\n",
    "src_image = Image.open(os.path.join(movies_folder, 'mosaic', 'metabolism_bioexplorer_2k_v13.png'))\n",
    "\n",
    "src_image.thumbnail(image_size)\n",
    "dst_image = new_im = Image.new('RGBA', (3840,2160))\n",
    "\n",
    "for i in range(nb_columns):\n",
    "    for j in range(nb_lines):\n",
    "        src_image=Image.eval(src_image,lambda x: x+(i+j)/30)\n",
    "        dst_image.paste(src_image, (i * image_size[0],j * image_size[1]))\n",
    "\n",
    "dst_image.save(os.path.join(movies_folder, 'mosaic', 'metabolism_gallery_4k_v13.png'))"
   ]
  },
  {
   "cell_type": "code",
   "execution_count": null,
   "id": "09f8c8ba",
   "metadata": {},
   "outputs": [],
   "source": [
    "concentrations_output_frames = os.path.join(movies_folder, 'mosaic', 'concentrations', '%05d.png')\n",
    "cmd = 'ffmpeg -i ' + concentrations_output_filename + ' ' + concentrations_output_frames + ' 2>/dev/null'\n",
    "os.system(cmd)"
   ]
  }
 ],
 "metadata": {
  "interpreter": {
   "hash": "ea9a5fa46eb6bad2806a8ea1d08e15bb1e255a2d4320b81e765591579963c56b"
  },
  "kernelspec": {
   "display_name": "Python 3.8.10 64-bit ('env': venv)",
   "language": "python",
   "name": "python3"
  },
  "language_info": {
   "codemirror_mode": {
    "name": "ipython",
    "version": 3
   },
   "file_extension": ".py",
   "mimetype": "text/x-python",
   "name": "python",
   "nbconvert_exporter": "python",
   "pygments_lexer": "ipython3",
   "version": "3.8.10"
  }
 },
 "nbformat": 4,
 "nbformat_minor": 5
}
