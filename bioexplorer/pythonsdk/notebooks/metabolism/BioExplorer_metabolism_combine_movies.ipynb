{
 "cells": [
  {
   "cell_type": "markdown",
   "id": "f992ef9f",
   "metadata": {},
   "source": [
    "# BioExplorer - Metabolism - Combine movies into gallery view\n",
    "![](../bioexplorer_metabolism_banner.png)"
   ]
  },
  {
   "cell_type": "code",
   "execution_count": null,
   "id": "345ec844",
   "metadata": {
    "scrolled": true
   },
   "outputs": [],
   "source": [
    "from glob import glob\n",
    "import os\n",
    "movies_folder = os.getenv('METABOLISM_MOVIE_FOLDER')"
   ]
  },
  {
   "cell_type": "markdown",
   "id": "726d9ab4",
   "metadata": {},
   "source": [
    "## Media production"
   ]
  },
  {
   "cell_type": "markdown",
   "id": "1f8f0fcb",
   "metadata": {},
   "source": [
    "### Create movies from frames"
   ]
  },
  {
   "cell_type": "code",
   "execution_count": null,
   "id": "0ff789b0",
   "metadata": {},
   "outputs": [],
   "source": [
    "all_files = glob(os.path.join(movies_folder, '*'))\n",
    "all_folders = list()\n",
    "for file in all_files:\n",
    "    if os.path.isdir(file):\n",
    "        all_folders.append(file)\n",
    "for folder in all_folders:\n",
    "    basename = os.path.basename(folder)\n",
    "    movie_filename = os.path.join(movies_folder, basename + '_1k_v13.mp4')\n",
    "    cmd = 'ffmpeg -f Image2 -i %s/%%*.png -b:v 16M -threads 16 -y %s 2>/dev/null' % (folder, movie_filename)\n",
    "    print(basename)\n",
    "    os.system(cmd)"
   ]
  },
  {
   "cell_type": "markdown",
   "id": "707f0161",
   "metadata": {},
   "source": [
    "### Combine movies into mosaic"
   ]
  },
  {
   "cell_type": "code",
   "execution_count": null,
   "id": "8068e9ef",
   "metadata": {},
   "outputs": [],
   "source": [
    "all_movie_files = glob(os.path.join(movies_folder, '*.mp4'))\n",
    "movie_files=all_movie_files\n",
    "print('Found %d movies' % len(movie_files))"
   ]
  },
  {
   "cell_type": "code",
   "execution_count": null,
   "id": "78f9c4f8",
   "metadata": {},
   "outputs": [],
   "source": [
    "nb_columns = 5\n",
    "nb_lines = 5\n",
    "resolution=[3840, 2160]\n",
    "image_size=[int(3840 / nb_columns), int(2160 / nb_lines)]\n",
    "\n",
    "print(str(nb_columns) + 'x' + str(nb_lines) + '=' + str(nb_lines*nb_columns))\n",
    "print(image_size)"
   ]
  },
  {
   "cell_type": "code",
   "execution_count": null,
   "id": "11eaad82",
   "metadata": {},
   "outputs": [],
   "source": [
    "\n",
    "def generate_mosaic(files, output_filename):\n",
    "    cmd = 'ffmpeg'\n",
    "    for movie_file in files:\n",
    "        cmd = cmd + ' -i ' + movie_file\n",
    "    cmd = cmd + ' -filter_complex \"nullsrc=size=' + str(resolution[0]) + 'x' + str(resolution[1]) +' [base];'\n",
    "\n",
    "    nb_movies = len(files)\n",
    "\n",
    "    for i in range(nb_movies):\n",
    "        cmd = cmd + ' [%d:v] setpts=PTS-STARTPTS, scale=%dx%d [vid%d];' % (i, image_size[0], image_size[1], i)\n",
    "\n",
    "    for i in range(nb_movies):\n",
    "        if i==0:\n",
    "            cmd = cmd + ' [base]'\n",
    "        else:\n",
    "            cmd = cmd + ' [tmp%d]' % (i-1)\n",
    "        cmd = cmd + '[vid%d] overlay=shortest=1:x=%d:y=%d' % (i, int(i % nb_columns) * image_size[0], (int(i / nb_columns) * image_size[1]))\n",
    "        if i!=nb_movies-1:\n",
    "            cmd = cmd + ' [tmp%d];' % i;\n",
    "    cmd = cmd + '\" -c:v libx264 -y ' + output_filename + ' 2>/dev/null'\n",
    "    # print(cmd)\n",
    "    os.system(cmd)\n",
    "\n",
    "concentrations_output_filename = os.path.join(movies_folder, 'metabolites_concentrations_4k_v13.mp4')\n",
    "background_output_filename = os.path.join(movies_folder, 'metabolites_background_4k_v13.mp4')\n",
    "\n",
    "if os.path.exists(concentrations_output_filename):\n",
    "    print('Removing ' + concentrations_output_filename)\n",
    "    os.remove(concentrations_output_filename)\n",
    "if os.path.exists(background_output_filename):\n",
    "    print('Removing ' + background_output_filename)\n",
    "    os.remove(background_output_filename)\n",
    "\n",
    "all_movie_files = glob(os.path.join(movies_folder, '*.mp4'))\n",
    "movie_files=all_movie_files\n",
    "print('Found %d movies' % len(movie_files))\n",
    "generate_mosaic(movie_files, concentrations_output_filename)\n",
    "\n",
    "image_files = list()\n",
    "for i in range(len(movie_files)):\n",
    "    image_files.append(os.path.join(movies_folder, 'mosaic', 'metabolism_bioexplorer_2k_v13.png'))\n",
    "generate_mosaic(image_files, background_output_filename)\n"
   ]
  },
  {
   "cell_type": "markdown",
   "id": "ffd6893d",
   "metadata": {},
   "source": [
    "### Extract frames from mosaic movie"
   ]
  },
  {
   "cell_type": "code",
   "execution_count": null,
   "id": "becc5e45",
   "metadata": {},
   "outputs": [],
   "source": [
    "from PIL import Image\n",
    "src_image = Image.open(os.path.join(movies_folder, 'mosaic', 'metabolism_bioexplorer_2k_v13.png'))\n",
    "\n",
    "src_image.thumbnail(image_size)\n",
    "dst_image = new_im = Image.new('RGBA', (3840,2160))\n",
    "\n",
    "for i in range(nb_columns):\n",
    "    for j in range(nb_lines):\n",
    "        src_image=Image.eval(src_image,lambda x: x+(i+j)/30)\n",
    "        dst_image.paste(src_image, (i * image_size[0],j * image_size[1]))\n",
    "\n",
    "dst_image.save(os.path.join(movies_folder, 'mosaic', 'metabolism_gallery_4k_v13.png'))"
   ]
  },
  {
   "cell_type": "code",
   "execution_count": null,
   "id": "09f8c8ba",
   "metadata": {},
   "outputs": [],
   "source": [
    "concentrations_output_frames = os.path.join(movies_folder, 'mosaic', 'concentrations', '%05d.png')\n",
    "cmd = 'ffmpeg -i ' + concentrations_output_filename + ' ' + concentrations_output_frames + ' 2>/dev/null'\n",
    "os.system(cmd)"
   ]
  }
 ],
 "metadata": {
  "kernelspec": {
   "display_name": "Python 3 (ipykernel)",
   "language": "python",
   "name": "python3"
  },
  "language_info": {
   "codemirror_mode": {
    "name": "ipython",
    "version": 3
   },
   "file_extension": ".py",
   "mimetype": "text/x-python",
   "name": "python",
   "nbconvert_exporter": "python",
   "pygments_lexer": "ipython3",
   "version": "3.8.10"
  }
 },
 "nbformat": 4,
 "nbformat_minor": 5
}
