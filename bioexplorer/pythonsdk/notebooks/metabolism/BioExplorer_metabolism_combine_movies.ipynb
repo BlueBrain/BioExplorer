{
 "cells": [
  {
   "cell_type": "markdown",
   "id": "f992ef9f",
   "metadata": {},
   "source": [
    "# BioExplorer - Metabolism - Combine movies into gallery view\n",
    "![](../bioexplorer_metabolism_banner.png)"
   ]
  },
  {
   "cell_type": "code",
   "execution_count": null,
   "id": "345ec844",
   "metadata": {
    "scrolled": true
   },
   "outputs": [],
   "source": [
    "from glob import glob\n",
    "import os\n",
    "from PIL import Image, ImageDraw, ImageFont\n",
    "from tqdm import tqdm\n",
    "\n",
    "movies_folder = os.getenv('METABOLISM_MOVIE_FOLDER')"
   ]
  },
  {
   "cell_type": "markdown",
   "id": "726d9ab4",
   "metadata": {},
   "source": [
    "## Media production"
   ]
  },
  {
   "cell_type": "code",
   "execution_count": null,
   "id": "07d8ed77",
   "metadata": {},
   "outputs": [],
   "source": [
    "metabolites = [\n",
    "    'ATP', 'cAMP', 'O2', 'Glc', 'PCr', 'G1P', 'G6P', 'F6P', 'FBP', 'NADH', 'DHAP', 'Pyr', 'Lac',\n",
    "    'bHB',  'NADPH', 'E4P', 'MAL', 'AKG', 'CIT', 'GLUT', 'GLN', 'QH2', 'CytCred', 'SUCCOA', 'CoA']"
   ]
  },
  {
   "cell_type": "markdown",
   "id": "1f8f0fcb",
   "metadata": {},
   "source": [
    "### Create movies from frames"
   ]
  },
  {
   "cell_type": "code",
   "execution_count": null,
   "id": "0ff789b0",
   "metadata": {},
   "outputs": [],
   "source": [
    "movie_files = list()\n",
    "for metabolite in tqdm(metabolites):\n",
    "    folder = os.path.join(movies_folder, metabolite)\n",
    "    movie_filename = os.path.join(movies_folder, metabolite + '.mp4')\n",
    "    movie_files.append(movie_filename)\n",
    "    cmd = 'ffmpeg -f Image2 -i %s/%%*.png -b:v 16M -threads 16 -y %s 2>/dev/null' % (folder, movie_filename)\n",
    "    os.system(cmd)"
   ]
  },
  {
   "cell_type": "markdown",
   "id": "707f0161",
   "metadata": {},
   "source": [
    "### Combine movies into mosaic"
   ]
  },
  {
   "cell_type": "code",
   "execution_count": null,
   "id": "8068e9ef",
   "metadata": {},
   "outputs": [],
   "source": [
    "all_movie_files = glob(os.path.join(movies_folder, '*.mp4'))\n",
    "movie_files=all_movie_files\n",
    "print('Found %d movies' % len(movie_files))"
   ]
  },
  {
   "cell_type": "code",
   "execution_count": null,
   "id": "78f9c4f8",
   "metadata": {},
   "outputs": [],
   "source": [
    "nb_columns = 5\n",
    "nb_lines = 5\n",
    "resolution=[3840, 2160]\n",
    "image_size=[int(3840 / nb_columns), int(2160 / nb_lines)]\n",
    "print('%dx%d=%d (%dx%d)' % (nb_columns, nb_lines, nb_lines*nb_columns, image_size[0], image_size[1]))"
   ]
  },
  {
   "cell_type": "markdown",
   "id": "6169f5b9",
   "metadata": {},
   "source": [
    "### Legend"
   ]
  },
  {
   "cell_type": "code",
   "execution_count": null,
   "id": "0c2f9112",
   "metadata": {},
   "outputs": [],
   "source": [
    "def add_text(draw, x_left, y_top, text, font_size, color):\n",
    "    font = ImageFont.truetype('Roboto-Bold.ttf', size=font_size)\n",
    "    draw.text((x_left,y_top), text, font=font, fill=color)\n",
    "\n",
    "img_overlay = Image.new('RGBA', resolution, (0, 0, 0, 0)) \n",
    "draw_overlay = ImageDraw.Draw(img_overlay) \n",
    "\n",
    "i = 0\n",
    "fontsize = 45\n",
    "color = (255,255,255, 255)\n",
    "for y in range(nb_lines):\n",
    "    for x in range(nb_columns):\n",
    "        x_left = x * image_size[0] + 15\n",
    "        y_top = y * image_size[1] + 15\n",
    "        text = metabolites[i]\n",
    "        i += 1\n",
    "\n",
    "        add_text(draw_overlay, x_left, y_top, text, fontsize, color)\n",
    "\n",
    "img_overlay.save(os.path.join(movies_folder, 'mosaic', 'metabolites_legend.png'))"
   ]
  },
  {
   "cell_type": "markdown",
   "id": "cee16768",
   "metadata": {},
   "source": [
    "### Background"
   ]
  },
  {
   "cell_type": "code",
   "execution_count": null,
   "id": "7780b33b",
   "metadata": {},
   "outputs": [],
   "source": [
    "img_overlay = Image.new('RGBA', resolution, (0, 0, 0, 0)) \n",
    "draw_overlay = ImageDraw.Draw(img_overlay) \n",
    "\n",
    "img_background = Image.open(os.path.join(movies_folder, 'metabolism_bioexplorer_4k.png'))\n",
    "img_background = img_background.resize(image_size)\n",
    "\n",
    "for y in range(nb_lines):\n",
    "    for x in range(nb_columns):\n",
    "        x_left = x * image_size[0]\n",
    "        y_top = y * image_size[1]\n",
    "        img_overlay.paste(img_background, [x_left, y_top])\n",
    "\n",
    "img_overlay.save(os.path.join(movies_folder, 'mosaic', 'metabolites_background.png'))"
   ]
  },
  {
   "cell_type": "markdown",
   "id": "d9fe5d88",
   "metadata": {},
   "source": [
    "### Movie mosaic"
   ]
  },
  {
   "cell_type": "code",
   "execution_count": null,
   "id": "11eaad82",
   "metadata": {
    "scrolled": false
   },
   "outputs": [],
   "source": [
    "def generate_mosaic_frames(output_filename):\n",
    "    import subprocess\n",
    "    nb_movies = len(movie_files)\n",
    "\n",
    "    values = list()\n",
    "    values.append('ffmpeg')\n",
    "\n",
    "    for movie_file in movie_files:\n",
    "        values.append('-i')\n",
    "        values.append(movie_file)\n",
    "\n",
    "    values.append('-filter_complex')\n",
    "    filter_complex = 'nullsrc=size=%dx%d [base];' % (resolution[0], resolution[1])\n",
    "    for i in range(nb_movies):\n",
    "        filter_complex += ' [%d:v] setpts=PTS-STARTPTS, scale=%dx%d [vid%d];' % (i, image_size[0], image_size[1], i)\n",
    "\n",
    "    for i in range(nb_movies):\n",
    "        if i == 0:\n",
    "            filter_complex += ' [base]'\n",
    "        else:\n",
    "            filter_complex += ' [tmp%d]' % (i - 1)\n",
    "        filter_complex += '[vid%d] overlay=shortest=1:x=%d:y=%d' % (i, int(i % nb_columns) * image_size[0], (int(i / nb_columns) * image_size[1]))\n",
    "        if i != nb_movies-1:\n",
    "            filter_complex += ' [tmp%d];' % i\n",
    "\n",
    "    values.append('\"%s\"' % filter_complex)\n",
    "    values.append('-threads')\n",
    "    values.append('16')\n",
    "    values.append(output_filename)\n",
    "    \n",
    "    cmd = ''\n",
    "    for value in values:\n",
    "        cmd += value + ' '\n",
    "    os.system(cmd + ' 2>/dev/null')\n",
    "\n",
    "mosaic_output_folder = os.path.join(movies_folder, 'mosaic')\n",
    "concentrations_output_folder = os.path.join(mosaic_output_folder, 'concentrations')\n",
    "if not os.path.exists(concentrations_output_folder):\n",
    "    os.makedirs(concentrations_output_folder)\n",
    "\n",
    "concentrations_output_filename = os.path.join(concentrations_output_folder, '%05d.png')\n",
    "generate_mosaic_frames(concentrations_output_filename)"
   ]
  }
 ],
 "metadata": {
  "interpreter": {
   "hash": "ea9a5fa46eb6bad2806a8ea1d08e15bb1e255a2d4320b81e765591579963c56b"
  },
  "kernelspec": {
   "display_name": "Python 3 (ipykernel)",
   "language": "python",
   "name": "python3"
  },
  "language_info": {
   "codemirror_mode": {
    "name": "ipython",
    "version": 3
   },
   "file_extension": ".py",
   "mimetype": "text/x-python",
   "name": "python",
   "nbconvert_exporter": "python",
   "pygments_lexer": "ipython3",
   "version": "3.8.10"
  }
 },
 "nbformat": 4,
 "nbformat_minor": 5
}
