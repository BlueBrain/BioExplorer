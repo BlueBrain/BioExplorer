{
 "cells": [
  {
   "cell_type": "markdown",
   "metadata": {},
   "source": [
    "# Blue Brain BioExplorer\n",
    "\n",
    "![](./images/bioexplorer_banner.png)"
   ]
  },
  {
   "cell_type": "markdown",
   "metadata": {},
   "source": [
    "## Visualization of structural protein E"
   ]
  },
  {
   "cell_type": "code",
   "execution_count": null,
   "metadata": {},
   "outputs": [],
   "source": [
    "from bioexplorer import BioExplorer, Protein, Sugars, Quaternion\n",
    "be = BioExplorer('localhost:5000')\n",
    "be.reset()\n",
    "print(be.version())"
   ]
  },
  {
   "cell_type": "code",
   "execution_count": null,
   "metadata": {},
   "outputs": [],
   "source": [
    "# Resources\n",
    "resource_folder = '../tests/test_files/'\n",
    "pdb_folder = resource_folder + 'pdb/'\n",
    "complex_folder = resource_folder + 'pdb/glycans/complex/'\n",
    "\n",
    "protein_representation = BioExplorer.REPRESENTATION_ATOMS_AND_STICKS\n",
    "protein_radius_multiplier = 1.0\n",
    "glycan_representation = BioExplorer.REPRESENTATION_ATOMS_AND_STICKS\n",
    "glycan_radius_multiplier = 1.0"
   ]
  },
  {
   "cell_type": "code",
   "execution_count": null,
   "metadata": {},
   "outputs": [],
   "source": [
    "# Default side view\n",
    "status = be.core_api().set_camera(\n",
    "    orientation=[0.0, 0.0, 0.0, 1.0],\n",
    "    position=[0.21280830385039864, -0.2964602405612227, 7.815759394131961],\n",
    "    target=[0.21280830385039864, -0.2964602405612227, 0.00396472581457985]    \n",
    ")"
   ]
  },
  {
   "cell_type": "code",
   "execution_count": null,
   "metadata": {},
   "outputs": [],
   "source": [
    "# Protein\n",
    "source = pdb_folder + 'QHD43418a.pdb'\n",
    "    \n",
    "m_protein = Protein(\n",
    "    sources=[source],\n",
    "    load_hydrogen=False,\n",
    "    load_non_polymer_chemicals=False,\n",
    ")\n",
    "\n",
    "name = be.NAME_PROTEIN_M\n",
    "status = be.add_protein(\n",
    "    name=name, protein=m_protein,\n",
    "    atom_radius_multiplier=protein_radius_multiplier,\n",
    "    representation=protein_representation,\n",
    ")"
   ]
  },
  {
   "cell_type": "markdown",
   "metadata": {},
   "source": [
    "## Add glycans to protein"
   ]
  },
  {
   "cell_type": "code",
   "execution_count": null,
   "metadata": {},
   "outputs": [],
   "source": [
    "glycan_folder = pdb_folder + 'glycans/'\n",
    "complex_paths = [glycan_folder + 'complex/33.pdb', glycan_folder + 'complex/34.pdb',\n",
    "                 glycan_folder + 'complex/35.pdb',glycan_folder + 'complex/36.pdb']"
   ]
  },
  {
   "cell_type": "code",
   "execution_count": null,
   "metadata": {},
   "outputs": [],
   "source": [
    "be.get_protein_amino_acid_information(assembly_name=name, name=be.NAME_PROTEIN_M)"
   ]
  },
  {
   "cell_type": "markdown",
   "metadata": {},
   "source": [
    "### Complex"
   ]
  },
  {
   "cell_type": "code",
   "execution_count": null,
   "metadata": {},
   "outputs": [],
   "source": [
    "indices = [48, 66]\n",
    "complex_glycans = Sugars(\n",
    "    orientation=Quaternion(0.707, 0.0, 0.0, 0.707),\n",
    "    assembly_name=name, name=be.NAME_GLYCAN_COMPLEX, \n",
    "    protein_name=name, source=complex_paths[0], \n",
    "    site_indices=indices,\n",
    "    representation=glycan_representation,\n",
    "    atom_radius_multiplier=glycan_radius_multiplier\n",
    ")\n",
    "status = be.add_glycans(complex_glycans)"
   ]
  },
  {
   "cell_type": "markdown",
   "metadata": {},
   "source": [
    "## Materials"
   ]
  },
  {
   "cell_type": "code",
   "execution_count": null,
   "metadata": {
    "scrolled": false
   },
   "outputs": [],
   "source": [
    "be.apply_default_color_scheme(shading_mode=be.SHADING_MODE_BASIC)"
   ]
  },
  {
   "cell_type": "markdown",
   "metadata": {},
   "source": [
    "## Rendering settings"
   ]
  },
  {
   "cell_type": "code",
   "execution_count": null,
   "metadata": {},
   "outputs": [],
   "source": [
    "be.core_api().set_renderer(\n",
    "    background_color=[96 / 255, 125 / 255, 139 / 255],\n",
    "    current='bio_explorer',\n",
    "    samples_per_pixel=1, subsampling=4, max_accum_frames=16)\n",
    "params = be.core_api().BioExplorerRendererParams()\n",
    "params.gi_samples = 3\n",
    "params.gi_weight = 0.4\n",
    "params.gi_distance = 50\n",
    "params.shadows = 1\n",
    "params.soft_shadows = 1\n",
    "params.fog_start = 1500\n",
    "params.fog_thickness = 1500\n",
    "params.max_bounces = 1\n",
    "be.core_api().set_renderer_params(params)"
   ]
  }
 ],
 "metadata": {
  "kernelspec": {
   "display_name": "Python 3",
   "language": "python",
   "name": "python3"
  },
  "language_info": {
   "codemirror_mode": {
    "name": "ipython",
    "version": 3
   },
   "file_extension": ".py",
   "mimetype": "text/x-python",
   "name": "python",
   "nbconvert_exporter": "python",
   "pygments_lexer": "ipython3",
   "version": "3.8.5"
  }
 },
 "nbformat": 4,
 "nbformat_minor": 4
}
