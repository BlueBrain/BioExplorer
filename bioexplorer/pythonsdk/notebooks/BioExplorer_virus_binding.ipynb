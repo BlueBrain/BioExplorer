{
 "cells": [
  {
   "cell_type": "markdown",
   "metadata": {},
   "source": [
    "# Blue Brain BioExplorer\n",
    "\n",
    "![](./images/bioexplorer_banner.png)"
   ]
  },
  {
   "cell_type": "markdown",
   "metadata": {},
   "source": [
    "### Prerequiries"
   ]
  },
  {
   "cell_type": "code",
   "execution_count": null,
   "metadata": {},
   "outputs": [],
   "source": [
    "# !pip install pyquaternion"
   ]
  },
  {
   "cell_type": "markdown",
   "metadata": {},
   "source": [
    "### Initialization"
   ]
  },
  {
   "cell_type": "code",
   "execution_count": 22,
   "metadata": {
    "scrolled": true
   },
   "outputs": [],
   "source": [
    "from bioexplorer import BioExplorer, Protein, Surfactant, Membrane, Volume, \\\n",
    "                        Cell, Sugars, Vector2, Vector3, Quaternion\n",
    "from pyquaternion import Quaternion as pyQuaterion\n",
    "from braynsmediamaker import MovieMaker\n",
    "\n",
    "be = BioExplorer('localhost:5000')\n",
    "core = be.core_api()\n",
    "mm = MovieMaker(core)\n",
    "status = be.reset()"
   ]
  },
  {
   "cell_type": "markdown",
   "metadata": {},
   "source": [
    "### Resources"
   ]
  },
  {
   "cell_type": "code",
   "execution_count": 23,
   "metadata": {},
   "outputs": [],
   "source": [
    "resource_folder = '../tests/test_files/'\n",
    "pdb_folder = resource_folder + 'pdb/'\n",
    "\n",
    "glucose_path = pdb_folder + 'glucose.pdb'\n",
    "lactoferrin_path=pdb_folder + 'immune/1b0l.pdb'\n",
    "defensin_path = pdb_folder + 'immune/1ijv.pdb'\n",
    "\n",
    "surfactant_head_source = pdb_folder + 'surfactant/1pw9.pdb'\n",
    "surfactant_branch_source = pdb_folder + 'surfactant/1k6f.pdb'\n",
    "\n",
    "\n",
    "glycan_folder = pdb_folder + 'glycans/'\n",
    "complex_paths = [glycan_folder + 'complex/5.pdb', glycan_folder + 'complex/15.pdb',\n",
    "                 glycan_folder + 'complex/25.pdb',glycan_folder + 'complex/35.pdb']\n",
    "high_mannose_paths = [glycan_folder + 'high-mannose/1.pdb', \n",
    "                      glycan_folder + 'high-mannose/2.pdb',\n",
    "                      glycan_folder + 'high-mannose/3.pdb',\n",
    "                      glycan_folder + 'high-mannose/4.pdb']\n",
    "hybrid_paths = [glycan_folder + 'hybrid/20.pdb']\n",
    "o_glycan_paths = [glycan_folder + 'o-glycan/1.pdb']"
   ]
  },
  {
   "cell_type": "markdown",
   "metadata": {},
   "source": [
    "### Configuration"
   ]
  },
  {
   "cell_type": "code",
   "execution_count": 24,
   "metadata": {},
   "outputs": [],
   "source": [
    "# Scene\n",
    "scene_size = 250.0\n",
    "\n",
    "# Proteins\n",
    "protein_radius_multiplier = 1.0\n",
    "protein_representation = be.REPRESENTATION_ATOMS\n",
    "protein_load_hydrogen = False\n",
    "\n",
    "# Virus\n",
    "add_glycans = True"
   ]
  },
  {
   "cell_type": "markdown",
   "metadata": {},
   "source": [
    "## Camera and rendering settings"
   ]
  },
  {
   "cell_type": "code",
   "execution_count": 25,
   "metadata": {},
   "outputs": [],
   "source": [
    "status = be.core_api().set_camera(\n",
    "    orientation=[0.0, 0.0, 0.0, 1.0],\n",
    "    position=[4.883, 44.255, 431.911],\n",
    "    target=[4.883, 44.255, 31.311]\n",
    ")"
   ]
  },
  {
   "cell_type": "code",
   "execution_count": 26,
   "metadata": {},
   "outputs": [],
   "source": [
    "be.core_api().set_renderer(\n",
    "    background_color=[96 / 255, 125 / 255, 139 / 255],\n",
    "    current='bio_explorer',\n",
    "    samples_per_pixel=1, subsampling=4, max_accum_frames=64)\n",
    "params = be.core_api().BioExplorerRendererParams()\n",
    "params.gi_samples = 1\n",
    "params.gi_weight = 0.3\n",
    "params.gi_distance = 500\n",
    "params.shadows = 1.0\n",
    "params.soft_shadows = 0.3\n",
    "params.fog_start = 1500\n",
    "params.fog_thickness = 1500\n",
    "params.max_bounces = 1\n",
    "status = be.core_api().set_renderer_params(params)"
   ]
  },
  {
   "cell_type": "markdown",
   "metadata": {},
   "source": [
    "## Movie"
   ]
  },
  {
   "cell_type": "code",
   "execution_count": 32,
   "metadata": {},
   "outputs": [],
   "source": [
    "key_frames = [\n",
    "    {\n",
    "        'apertureRadius': 0.0,\n",
    "        'direction': [-1.0, 0.0, 0.0],\n",
    "        'focusDistance': 0.0,\n",
    "        'origin': [461.35815561123326, 33.59808446214642, 0.9491999386753934],\n",
    "        'up': [0.0, 1.0, 0.0]\n",
    "    },\n",
    "    {\n",
    "        'apertureRadius': 0.0,\n",
    "        'direction': [-1.0, 0.0, 0.0],\n",
    "        'focusDistance': 0.0,\n",
    "        'origin': [145.56207765382672, -66.33695188520096, 66.94663230017692],\n",
    "        'up': [0.0, 1.0, 0.0]\n",
    "    },\n",
    "    {\n",
    "        'apertureRadius': 0.0,\n",
    "        'direction': [0.019348546834322612, -0.20204906829112498, -0.9791842562756452],\n",
    "        'focusDistance': 0.0,\n",
    "        'origin': [95.56390849140138, -57.95622236745069, 110.43564693595732],\n",
    "        'up': [0.00199646527930243, 0.979373449795766, -0.202048657410854]\n",
    "    },\n",
    "    {\n",
    "        'apertureRadius': 0.0,\n",
    "        'direction': [0.0, 0.0, -1.0],\n",
    "        'focusDistance': 0.0,\n",
    "        'origin': [37.48804470210077, -5.321877795630035, 273.42426806725484],\n",
    "        'up': [0.0, 1.0, 0.0]\n",
    "    }\n",
    "]\n",
    "mm.build_camera_path(key_frames, 100, 10)"
   ]
  },
  {
   "cell_type": "markdown",
   "metadata": {},
   "source": [
    "### Cell, Coronavirus and Surfactant-D"
   ]
  },
  {
   "cell_type": "code",
   "execution_count": 33,
   "metadata": {},
   "outputs": [],
   "source": [
    "def add_cell(random_position_seed, random_orientation_seed):\n",
    "    name='Cell'\n",
    "\n",
    "    '''ACE2 receptor definition'''\n",
    "    ace2_receptor = Protein(\n",
    "        sources=[pdb_folder + '6m18.pdb'],\n",
    "        occurences=1,\n",
    "        position=Vector3(0.0, 6.0, 0.0))\n",
    "\n",
    "    '''Membrane definition'''\n",
    "    membrane_size = scene_size\n",
    "    membrane_height = scene_size / 10.0\n",
    "    membrane = Membrane(\n",
    "        sources=[pdb_folder + 'membrane/popc.pdb'],\n",
    "        occurences=40000)\n",
    "\n",
    "    '''Cell definition'''\n",
    "    cell = Cell(\n",
    "        name=name,\n",
    "        size=membrane_size,\n",
    "        shape=be.ASSEMBLY_SHAPE_SINUSOIDAL,\n",
    "        membrane=membrane, receptor=ace2_receptor,\n",
    "        random_position_seed=random_position_seed,\n",
    "        random_position_strength=scene_size / 500.0,\n",
    "        random_orientation_seed=random_orientation_seed,\n",
    "        random_orientation_strength=0.5,\n",
    "        extra_parameters=[membrane_height]\n",
    "    )\n",
    "\n",
    "    '''Add cell to scene'''\n",
    "    status = be.add_cell(\n",
    "        cell=cell, representation=protein_representation,\n",
    "        atom_radius_multiplier=protein_radius_multiplier,\n",
    "        position=Vector3(0.0, -80.0, 0.0),\n",
    "        random_seed=1\n",
    "    )\n",
    "\n",
    "    '''Color scheme'''\n",
    "    be.set_protein_color_scheme(\n",
    "        name, name + '_' + be.NAME_RECEPTOR, \n",
    "        be.COLOR_SCHEME_CHAINS, 'OrRd_r', 7)\n",
    "    \n",
    "    '''Glycans'''\n",
    "    be.add_multiple_glycans(\n",
    "        representation=protein_representation, assembly_name=name, \n",
    "        glycan_type=be.NAME_GLYCAN_COMPLEX,\n",
    "        protein_name=be.NAME_RECEPTOR, paths=complex_paths, \n",
    "        indices=[53, 90, 103, 322, 432, 690])\n",
    "\n",
    "    be.add_multiple_glycans(\n",
    "        representation=protein_representation, assembly_name=name,\n",
    "        glycan_type=be.NAME_GLYCAN_HYBRID,\n",
    "        protein_name=be.NAME_RECEPTOR, paths=hybrid_paths, \n",
    "        indices=[546])\n",
    "\n",
    "    indices = [[164, Quaternion(0.707, 0.0, 0.707, 0.0)],\n",
    "               [739, Quaternion(0.707, 0.0, 0.707, 0.0)]]\n",
    "    for index in indices:\n",
    "        o_glycan_name = name + '_' + be.NAME_GLYCAN_O_GLYCAN + '_' + str(index[0])\n",
    "        o_glycan = Sugars(\n",
    "            assembly_name=name, name=o_glycan_name, \n",
    "            source=o_glycan_paths[0],\n",
    "            protein_name=name + '_' + be.NAME_RECEPTOR, \n",
    "            representation=protein_representation,\n",
    "            chain_ids=[2, 4], site_indices=[index[0]], \n",
    "            orientation=index[1])\n",
    "        be.add_sugars(o_glycan)\n",
    "    return status"
   ]
  },
  {
   "cell_type": "code",
   "execution_count": 34,
   "metadata": {},
   "outputs": [],
   "source": [
    "def add_surfactant_d(name, position, orientation, random_seed):\n",
    "    surfactant_d = Surfactant(\n",
    "        name=name, surfactant_protein=be.SURFACTANT_PROTEIN_D, \n",
    "        head_source=surfactant_head_source,\n",
    "        branch_source=surfactant_branch_source)\n",
    "    be.add_surfactant(\n",
    "        surfactant=surfactant_d, \n",
    "        representation=protein_representation,\n",
    "        atom_radius_multiplier=protein_radius_multiplier,\n",
    "        position=position, orientation=orientation, \n",
    "        random_seed=random_seed)"
   ]
  },
  {
   "cell_type": "code",
   "execution_count": 35,
   "metadata": {},
   "outputs": [],
   "source": [
    "def add_glucose(random_seed, nb_glucoses=14400):\n",
    "    volume_position = Vector3(0.0, scene_size / 2.0 - 80.0, 0.0)\n",
    "    glucose = Protein(\n",
    "        sources=[glucose_path], load_non_polymer_chemicals=True, \n",
    "        occurences=nb_glucoses)\n",
    "    volume = Volume(\n",
    "        name=be.NAME_GLUCOSE, size=scene_size, \n",
    "        protein=glucose,\n",
    "        random_position_seed=random_seed,\n",
    "        random_position_stength=scene_size / 500.0,\n",
    "        random_orientation_seed=random_seed,\n",
    "        random_orientation_stength=0.3\n",
    "    )\n",
    "    return be.add_volume(\n",
    "        volume=volume, \n",
    "        representation=be.REPRESENTATION_ATOMS_AND_STICKS,\n",
    "        atom_radius_multiplier=protein_radius_multiplier,\n",
    "        position=volume_position)"
   ]
  },
  {
   "cell_type": "code",
   "execution_count": 36,
   "metadata": {},
   "outputs": [],
   "source": [
    "'''Coronavirus'''\n",
    "q_c_start = pyQuaterion(0.707, 0.707, 0.0, 0.0)\n",
    "q_c_end = pyQuaterion(1.0, 0.0, 0.0, 0.0)\n",
    "q_c_nb_frames = 100\n",
    "\n",
    "'''Surfactant-D'''\n",
    "q_s_start = pyQuaterion(0.0, 0.0, 0.707,0.707)\n",
    "q_s_end = pyQuaterion(1.0, 0.0, 0.0, 0.0)\n",
    "q_s_nb_frames = 300"
   ]
  },
  {
   "cell_type": "code",
   "execution_count": 39,
   "metadata": {
    "scrolled": true
   },
   "outputs": [
    {
     "name": "stdout",
     "output_type": "stream",
     "text": [
      "Frame 300 out of 301\n"
     ]
    },
    {
     "data": {
      "application/vnd.jupyter.widget-view+json": {
       "model_id": "c2e197656a464c0f891a7e3356389281",
       "version_major": 2,
       "version_minor": 0
      },
      "text/plain": [
       "IntProgress(value=0, max=34)"
      ]
     },
     "metadata": {},
     "output_type": "display_data"
    },
    {
     "data": {
      "application/vnd.jupyter.widget-view+json": {
       "model_id": "f820baf4de604e85bcf37326c6fe2d82",
       "version_major": 2,
       "version_minor": 0
      },
      "text/plain": [
       "IntProgress(value=0, description='In progress...')"
      ]
     },
     "metadata": {},
     "output_type": "display_data"
    },
    {
     "data": {
      "text/plain": [
       "True"
      ]
     },
     "execution_count": 39,
     "metadata": {},
     "output_type": "execute_result"
    }
   ],
   "source": [
    "from IPython.display import clear_output\n",
    "\n",
    "name='Coronavirus'\n",
    "nb_frames = mm.get_nb_frames()\n",
    "\n",
    "be.set_general_settings(model_visibility_on_creation=False, off_folder='/tmp')\n",
    "core.set_application_parameters(image_stream_fps=0)\n",
    "\n",
    "for frame in range(23, nb_frames, 1):\n",
    "    clear_output()\n",
    "    print('Frame %i out of %i' % (frame, nb_frames))\n",
    "    \n",
    "    '''Camera'''\n",
    "    if True:\n",
    "        mm.set_current_frame(frame)\n",
    "    \n",
    "    if True:\n",
    "        '''Cell'''\n",
    "        add_cell(frame, frame + 1)\n",
    "    \n",
    "    if True:\n",
    "        '''Coronavirus'''\n",
    "        if frame <= q_c_nb_frames:\n",
    "            orientation = pyQuaterion.slerp(q_c_start, q_c_end, (frame + 1) / q_c_nb_frames)\n",
    "            be.add_coronavirus(\n",
    "                name=name, resource_folder=resource_folder, \n",
    "                representation=protein_representation, \n",
    "                atom_radius_multiplier=protein_radius_multiplier,\n",
    "                add_glycans=add_glycans,\n",
    "                position=Vector3(75.0, 100.0 - frame, 10.0 + frame / 2.0),\n",
    "                orientation=Quaternion(\n",
    "                    orientation[0],orientation[1],orientation[2],orientation[3])\n",
    "            )\n",
    "\n",
    "    if True:\n",
    "        '''Surfactant-D'''\n",
    "        orientation = pyQuaterion.slerp(q_s_start, q_s_end, (frame + 1) / q_s_nb_frames)\n",
    "        add_surfactant_d(\n",
    "            name='Surfactant-D 1', random_seed=1,\n",
    "            position=Vector3(\n",
    "                2.0,\n",
    "                18.0 + (nb_frames - frame) / 10.0, \n",
    "                102.0 + (nb_frames - frame / 2.0) / 10.0),\n",
    "            orientation = Quaternion(\n",
    "                    orientation[0],orientation[1],orientation[2],orientation[3])\n",
    "        )\n",
    "\n",
    "    if True:\n",
    "        '''Glucose'''\n",
    "        add_glucose(frame)\n",
    "    \n",
    "    '''Materials'''\n",
    "    be.apply_default_color_scheme(shading_mode=be.SHADING_MODE_BASIC, user_parameter=1)\n",
    "    be.set_models_visibility(True)\n",
    "\n",
    "    if True:\n",
    "        '''Snapshot'''\n",
    "        mm.create_snapshot(\n",
    "            size=[960, 540], samples_per_pixel=32,\n",
    "            path='/tmp/%05d.png' % frame)\n",
    "\n",
    "core.set_application_parameters(image_stream_fps=20)"
   ]
  },
  {
   "cell_type": "code",
   "execution_count": null,
   "metadata": {},
   "outputs": [],
   "source": []
  },
  {
   "cell_type": "code",
   "execution_count": null,
   "metadata": {},
   "outputs": [],
   "source": []
  },
  {
   "cell_type": "code",
   "execution_count": null,
   "metadata": {},
   "outputs": [],
   "source": []
  },
  {
   "cell_type": "code",
   "execution_count": null,
   "metadata": {},
   "outputs": [],
   "source": [
    "add_glucose(7)\n",
    "be.set_models_visibility(True)"
   ]
  },
  {
   "cell_type": "code",
   "execution_count": null,
   "metadata": {},
   "outputs": [],
   "source": [
    "mm.set_camera(\n",
    "    direction=[0.0, 0.0, -1.0],\n",
    "    origin=[3.3480441570281982, -72.81361389160156, 274.4114074707031],\n",
    "    up=[0.0, 1.0, 0.0]\n",
    ")"
   ]
  },
  {
   "cell_type": "code",
   "execution_count": null,
   "metadata": {},
   "outputs": [],
   "source": []
  }
 ],
 "metadata": {
  "kernelspec": {
   "display_name": "Python 3",
   "language": "python",
   "name": "python3"
  },
  "language_info": {
   "codemirror_mode": {
    "name": "ipython",
    "version": 3
   },
   "file_extension": ".py",
   "mimetype": "text/x-python",
   "name": "python",
   "nbconvert_exporter": "python",
   "pygments_lexer": "ipython3",
   "version": "3.8.5"
  }
 },
 "nbformat": 4,
 "nbformat_minor": 4
}
