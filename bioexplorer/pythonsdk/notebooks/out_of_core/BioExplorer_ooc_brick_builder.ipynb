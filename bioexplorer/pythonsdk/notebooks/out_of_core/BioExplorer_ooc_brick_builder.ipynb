{
    "cells": [
        {
            "cell_type": "markdown",
            "metadata": {},
            "source": [
                "# Blue Brain BioExplorer\n",
                "![](../bioexplorer_banner.png)"
            ]
        },
        {
            "cell_type": "markdown",
            "metadata": {},
            "source": [
                "## Out-Of-Core: Script to populate a PostgreSQL database with a scene"
            ]
        },
        {
            "cell_type": "markdown",
            "metadata": {},
            "source": [
                "### Connect to BioExplorer"
            ]
        },
        {
            "cell_type": "code",
            "execution_count": null,
            "metadata": {},
            "outputs": [],
            "source": [
                "from bioexplorer import BioExplorer, Vector3\n",
                "import os\n",
                "\n",
                "url = 'localhost:5000'\n",
                "be = BioExplorer(url)\n",
                "core = be.core_api()"
            ]
        },
        {
            "cell_type": "markdown",
            "metadata": {},
            "source": [
                "### Define scene and brick sizes"
            ]
        },
        {
            "cell_type": "code",
            "execution_count": null,
            "metadata": {},
            "outputs": [],
            "source": [
                "def clear_clipping_planes():\n",
                "    planes = core.get_clip_planes()\n",
                "    if planes is None:\n",
                "        return\n",
                "    ids = list()\n",
                "    for plane in planes:\n",
                "        ids.append(plane['id'])\n",
                "    core.remove_clip_planes(ids)"
            ]
        },
        {
            "cell_type": "code",
            "execution_count": null,
            "metadata": {},
            "outputs": [],
            "source": [
                "def get_scene_bounds():\n",
                "    bounds = core.scene.bounds\n",
                "    min_b = bounds['min']\n",
                "    max_b = bounds['max']\n",
                "    aabb_min = list()\n",
                "    aabb_max = list()\n",
                "    aabb_size = list()\n",
                "    for i in range(3):\n",
                "        aabb_min.append(float(min_b[i]))\n",
                "        aabb_max.append(float(max_b[i]))\n",
                "        aabb_size.append(aabb_max[i] - aabb_min[i])\n",
                "    return [aabb_min, aabb_max, aabb_size]"
            ]
        },
        {
            "cell_type": "code",
            "execution_count": null,
            "metadata": {
                "scrolled": true
            },
            "outputs": [],
            "source": [
                "scene_size = get_scene_bounds()[2]\n",
                "nb_bricks = 42\n",
                "\n",
                "brick_size = list()\n",
                "for i in range(3):\n",
                "    brick_size.append(scene_size[i] / nb_bricks)\n",
                "print(scene_size)\n",
                "brick_size = [\n",
                "    scene_size[0]/nb_bricks,\n",
                "    scene_size[1]/nb_bricks,\n",
                "    scene_size[2]/nb_bricks]\n",
                "print(brick_size)\n",
                "\n",
                "\n",
                "scene_size = [2688, 2688, 2688]\n",
                "print(scene_size)\n",
                "brick_size = [\n",
                "    scene_size[0]/nb_bricks,\n",
                "    scene_size[1]/nb_bricks,\n",
                "    scene_size[2]/nb_bricks]\n",
                "print(brick_size)"
            ]
        },
        {
            "cell_type": "markdown",
            "metadata": {},
            "source": [
                "### Connection information to the PostgreSQL database"
            ]
        },
        {
            "cell_type": "code",
            "execution_count": null,
            "metadata": {},
            "outputs": [],
            "source": [
                "db_host = os.getenv('DB_HOST')\n",
                "db_name = os.getenv('DB_NAME')\n",
                "db_user = os.getenv('DB_USER')\n",
                "db_password = os.getenv('DB_PASSWORD')\n",
                "db_schema = 'out_of_core'\n",
                "\n",
                "db_connection_string = 'postgresql+psycopg2://%s:%s@%s:5432/%s' % (db_user, db_password, db_host, db_name)\n",
                "print('Connection string: ' + db_connection_string + ', schema: ' + db_schema)"
            ]
        },
        {
            "cell_type": "markdown",
            "metadata": {},
            "source": [
                "### Process the bricks"
            ]
        },
        {
            "cell_type": "code",
            "execution_count": null,
            "metadata": {
                "scrolled": false
            },
            "outputs": [],
            "source": [
                "from ipywidgets import IntProgress\n",
                "\n",
                "export_to_disk = False\n",
                "output_folder = '/tmp'\n",
                "\n",
                "progress = IntProgress(\n",
                "    value=0, min=0, max=nb_bricks*nb_bricks*nb_bricks)\n",
                "display(progress)\n",
                "\n",
                "x = -scene_size[0]/2.0\n",
                "while x<scene_size[0]/2.0:\n",
                "    y = -scene_size[1]/2.0\n",
                "    while y<scene_size[1]/2.0:\n",
                "        z = -scene_size[2]/2.0\n",
                "        while z<scene_size[2]/2.0:\n",
                "    \n",
                "            brick_id = int(z / brick_size[2]) + \\\n",
                "                       int(y / brick_size[1]) * nb_bricks + \\\n",
                "                       int(x / brick_size[0]) * nb_bricks * nb_bricks;\n",
                "        \n",
                "            low_bounds = Vector3(\n",
                "                x - brick_size[0] / 2.0,\n",
                "                y - brick_size[1] / 2.0,\n",
                "                z - brick_size[2] / 2.0)\n",
                "\n",
                "            high_bounds = Vector3(\n",
                "                x + brick_size[0] / 2.0,\n",
                "                y + brick_size[1] / 2.0,\n",
                "                z + brick_size[2] / 2.0)\n",
                "        \n",
                "            print('Exporting brick %d ' % brick_id)\n",
                "            if export_to_disk:\n",
                "                # Save to disk\n",
                "                filename = output_folder + '/brick%06d.bioexplorer' % brick_id\n",
                "                be.export_to_file(\n",
                "                    filename=filename,\n",
                "                    low_bounds=low_bounds,\n",
                "                    high_bounds=high_bounds)\n",
                "            else:\n",
                "                # Save to DB\n",
                "                be.export_to_database(\n",
                "                    connection_string=db_connection_string,\n",
                "                    schema=db_schema, brick_id=brick_id,\n",
                "                    low_bounds=low_bounds,\n",
                "                    high_bounds=high_bounds)\n",
                "    \n",
                "            progress.value += 1\n",
                "            z += brick_size[2]\n",
                "        y += brick_size[1]\n",
                "    x += brick_size[0]"
            ]
        }
    ],
    "metadata": {
        "kernelspec": {
            "display_name": "Python 3",
            "language": "python",
            "name": "python3"
        },
        "language_info": {
            "codemirror_mode": {
                "name": "ipython",
                "version": 3
            },
            "file_extension": ".py",
            "mimetype": "text/x-python",
            "name": "python",
            "nbconvert_exporter": "python",
            "pygments_lexer": "ipython3",
            "version": "3.8.5"
        }
    },
    "nbformat": 4,
    "nbformat_minor": 5
}
