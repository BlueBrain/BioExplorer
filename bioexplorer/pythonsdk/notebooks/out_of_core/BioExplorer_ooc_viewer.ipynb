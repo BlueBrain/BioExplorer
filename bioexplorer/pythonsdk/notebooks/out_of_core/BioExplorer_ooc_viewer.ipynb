{
 "cells": [
  {
   "cell_type": "markdown",
   "metadata": {},
   "source": [
    "# Blue Brain BioExplorer\n",
    "![](../bioexplorer_banner.png)"
   ]
  },
  {
   "cell_type": "markdown",
   "metadata": {},
   "source": [
    "## Out-Of-Core: Script to visualize a scene stored in a PostgreSQL database"
   ]
  },
  {
   "cell_type": "markdown",
   "metadata": {},
   "source": [
    "### Connect to BioExplorer"
   ]
  },
  {
   "cell_type": "code",
   "execution_count": null,
   "metadata": {
    "scrolled": false
   },
   "outputs": [],
   "source": [
    "from bioexplorer import BioExplorer\n",
    "be = BioExplorer('localhost:5000')\n",
    "core = be.core_api()"
   ]
  },
  {
   "cell_type": "markdown",
   "metadata": {},
   "source": [
    "### Rendering settings"
   ]
  },
  {
   "cell_type": "code",
   "execution_count": null,
   "metadata": {},
   "outputs": [],
   "source": [
    "config = be.get_out_of_core_configuration()\n",
    "brick_size = float(config['brick_size'].split(',')[0])\n",
    "visible_bricks = int(config['visible_bricks'])"
   ]
  },
  {
   "cell_type": "code",
   "execution_count": null,
   "metadata": {},
   "outputs": [],
   "source": [
    "core.set_renderer(\n",
    "    background_color=[0.2, 0.2, 0.2],\n",
    "    current='bio_explorer', head_light=True, \n",
    "    samples_per_pixel=1, subsampling=3, max_accum_frames=32)\n",
    "params = core.BioExplorerRendererParams()\n",
    "params.exposure = 1.0\n",
    "params.gi_samples = 0\n",
    "params.gi_weight = 0.4\n",
    "params.gi_distance = 20\n",
    "params.shadows = 0.75\n",
    "params.soft_shadows = 0.2\n",
    "params.fog_start = brick_size * visible_bricks - brick_size / 2.0\n",
    "params.fog_thickness = brick_size / 2.0\n",
    "params.max_bounces = 1\n",
    "params.show_background = True\n",
    "params.use_hardware_randomizer = True\n",
    "status = core.set_renderer_params(params)"
   ]
  },
  {
   "cell_type": "markdown",
   "metadata": {},
   "source": [
    "### Example of widgets for the out-of-core engine"
   ]
  },
  {
   "cell_type": "code",
   "execution_count": null,
   "metadata": {},
   "outputs": [],
   "source": [
    "from ipywidgets import FloatProgress\n",
    "import time\n",
    "\n",
    "ip = FloatProgress(min=0.0, max=1.0)\n",
    "display(ip)\n",
    "while True:\n",
    "    value = float(be.get_out_of_core_progress()['contents'])\n",
    "    if value == 0.0:\n",
    "        ip.description = 'Idle'\n",
    "    else:\n",
    "        ip.description = 'Loading...'\n",
    "    ip.value = value\n",
    "    time.sleep(0.5)"
   ]
  },
  {
   "cell_type": "code",
   "execution_count": null,
   "metadata": {},
   "outputs": [],
   "source": [
    "be.get_out_of_core_average_loading_time()['contents']"
   ]
  }
 ],
 "metadata": {
  "kernelspec": {
   "display_name": "Python 3",
   "language": "python",
   "name": "python3"
  },
  "language_info": {
   "codemirror_mode": {
    "name": "ipython",
    "version": 3
   },
   "file_extension": ".py",
   "mimetype": "text/x-python",
   "name": "python",
   "nbconvert_exporter": "python",
   "pygments_lexer": "ipython3",
   "version": "3.8.5"
  }
 },
 "nbformat": 4,
 "nbformat_minor": 2
}
