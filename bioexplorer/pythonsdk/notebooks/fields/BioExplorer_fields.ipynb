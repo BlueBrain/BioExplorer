{
 "cells": [
  {
   "cell_type": "markdown",
   "metadata": {},
   "source": [
    "# Blue Brain BioExplorer\n",
    "![](../bioexplorer_banner.png)"
   ]
  },
  {
   "cell_type": "markdown",
   "metadata": {},
   "source": [
    "### Prerequeries"
   ]
  },
  {
   "cell_type": "code",
   "execution_count": null,
   "metadata": {},
   "outputs": [],
   "source": [
    "!pip install ipyTransferFunction"
   ]
  },
  {
   "cell_type": "markdown",
   "metadata": {},
   "source": [
    "# Visualizing fields of magnetic forces (work in progress!)"
   ]
  },
  {
   "cell_type": "code",
   "execution_count": 33,
   "metadata": {},
   "outputs": [],
   "source": [
    "from bioexplorer import BioExplorer\n",
    "from ipyTransferFunction import TransferFunctionEditor\n",
    "uri = 'localhost:5000'\n",
    "be = BioExplorer(uri)\n",
    "be.reset()\n",
    "\n",
    "resource_folder = '../tests/test_files/'\n",
    "colormap_folder = resource_folder + 'colormap/'"
   ]
  },
  {
   "cell_type": "markdown",
   "metadata": {},
   "source": [
    "### Import fields from file"
   ]
  },
  {
   "cell_type": "code",
   "execution_count": 34,
   "metadata": {},
   "outputs": [],
   "source": [
    "# filename = resource_folder + 'fields/receptor.fields'\n",
    "filename = '/home/favreau/git/BioExplorer/bioexplorer/pythonsdk/tests/test_files/caches/0.9.0/spike_on_ace2.fields'\n",
    "status = be.import_fields_from_file(filename=filename)"
   ]
  },
  {
   "cell_type": "code",
   "execution_count": 35,
   "metadata": {},
   "outputs": [],
   "source": [
    "be = BioExplorer(uri)\n",
    "core = be.core_api()\n",
    "fields_model_id = core.scene.models[len(core.scene.models)-1]['id']"
   ]
  },
  {
   "cell_type": "markdown",
   "metadata": {},
   "source": [
    "### Set Field renderer with appropriate settings"
   ]
  },
  {
   "cell_type": "code",
   "execution_count": 36,
   "metadata": {},
   "outputs": [],
   "source": [
    "image_samples_per_pixel = 1"
   ]
  },
  {
   "cell_type": "code",
   "execution_count": 50,
   "metadata": {},
   "outputs": [],
   "source": [
    "core.set_renderer(\n",
    "    current='bio_explorer_fields',\n",
    "    samples_per_pixel=1, subsampling=1, max_accum_frames=image_samples_per_pixel)\n",
    "\n",
    "params = core.BioExplorerFieldsRendererParams()\n",
    "params.cutoff = 15000\n",
    "params.exposure = 1.0\n",
    "params.alpha_correction = 1\n",
    "params.nb_ray_steps = 8\n",
    "params.nb_ray_refinement_steps = image_samples_per_pixel\n",
    "params.use_hardware_randomizer = True\n",
    "status = core.set_renderer_params(params)"
   ]
  },
  {
   "cell_type": "markdown",
   "metadata": {},
   "source": [
    "### Set transfer function range"
   ]
  },
  {
   "cell_type": "code",
   "execution_count": 38,
   "metadata": {},
   "outputs": [],
   "source": [
    "def hex_to_rgb(value):\n",
    "    value = value.lstrip('#')\n",
    "    lv = len(value)\n",
    "    return tuple(int(value[i:i + lv // 3], 16) for i in range(0, lv, lv // 3))\n",
    "\n",
    "def update_palette(tf):\n",
    "    intensity = 1\n",
    "    btf = core.get_model_transfer_function(id=fields_model_id)\n",
    "    colors = list()\n",
    "    points = list()\n",
    "    \n",
    "    nb_points = len(tf.alpha_sliders)\n",
    "    step = 1.0 / float(nb_points - 1)\n",
    "    for i in range(nb_points):\n",
    "        color = hex_to_rgb(tf.color_pickers[i].value)\n",
    "        colors.append([\n",
    "            intensity * float(color[0]) / 256.0, \n",
    "            intensity * float(color[1]) / 256.0, \n",
    "            intensity * float(color[2]) / 256.0])\n",
    "        points.append([i * step, tf.alpha_sliders[i].value / 255.0])\n",
    "        \n",
    "    btf['colormap']['name'] = 'TransferFunctionEditor'\n",
    "    btf['colormap']['colors'] = colors\n",
    "    btf['opacity_curve'] = points\n",
    "    btf['range'] = [tf.data_range[0], tf.data_range[1]]\n",
    "    core.set_model_transfer_function(id=fields_model_id, transfer_function=btf)"
   ]
  },
  {
   "cell_type": "code",
   "execution_count": 51,
   "metadata": {
    "scrolled": false
   },
   "outputs": [
    {
     "data": {
      "application/vnd.jupyter.widget-view+json": {
       "model_id": "3a38286c5eac4708b22412f292a1d8d9",
       "version_major": 2,
       "version_minor": 0
      },
      "text/html": [
       "<p>Failed to display Jupyter Widget of type <code>VBox</code>.</p>\n",
       "<p>\n",
       "  If you're reading this message in the Jupyter Notebook or JupyterLab Notebook, it may mean\n",
       "  that the widgets JavaScript is still loading. If this message persists, it\n",
       "  likely means that the widgets JavaScript library is either not installed or\n",
       "  not enabled. See the <a href=\"https://ipywidgets.readthedocs.io/en/stable/user_install.html\">Jupyter\n",
       "  Widgets Documentation</a> for setup instructions.\n",
       "</p>\n",
       "<p>\n",
       "  If you're reading this message in another frontend (for example, a static\n",
       "  rendering on GitHub or <a href=\"https://nbviewer.jupyter.org/\">NBViewer</a>),\n",
       "  it may mean that your frontend doesn't currently support widgets.\n",
       "</p>\n"
      ],
      "text/plain": [
       "VBox(children=(Box(children=(ColorPicker(value='black', concise=True, layout=Layout(height='20px', max_width='20px', overflow_x='hidden')), ColorPicker(value='black', concise=True, layout=Layout(height='20px', max_width='20px', overflow_x='hidden')), ColorPicker(value='black', concise=True, layout=Layout(height='20px', max_width='20px', overflow_x='hidden')), ColorPicker(value='black', concise=True, layout=Layout(height='20px', max_width='20px', overflow_x='hidden')), ColorPicker(value='black', concise=True, layout=Layout(height='20px', max_width='20px', overflow_x='hidden')), ColorPicker(value='black', concise=True, layout=Layout(height='20px', max_width='20px', overflow_x='hidden')), ColorPicker(value='black', concise=True, layout=Layout(height='20px', max_width='20px', overflow_x='hidden')), ColorPicker(value='black', concise=True, layout=Layout(height='20px', max_width='20px', overflow_x='hidden')), ColorPicker(value='black', concise=True, layout=Layout(height='20px', max_width='20px', overflow_x='hidden')), ColorPicker(value='black', concise=True, layout=Layout(height='20px', max_width='20px', overflow_x='hidden')), ColorPicker(value='black', concise=True, layout=Layout(height='20px', max_width='20px', overflow_x='hidden')), ColorPicker(value='black', concise=True, layout=Layout(height='20px', max_width='20px', overflow_x='hidden')), ColorPicker(value='black', concise=True, layout=Layout(height='20px', max_width='20px', overflow_x='hidden')), ColorPicker(value='black', concise=True, layout=Layout(height='20px', max_width='20px', overflow_x='hidden')), ColorPicker(value='black', concise=True, layout=Layout(height='20px', max_width='20px', overflow_x='hidden')), ColorPicker(value='black', concise=True, layout=Layout(height='20px', max_width='20px', overflow_x='hidden')))), Box(children=(IntSlider(value=0, continuous_update=False, description='0', layout=Layout(height='180px', max_width='20px', overflow_x='hidden'), max=255, orientation='vertical'), IntSlider(value=0, continuous_update=False, description='1', layout=Layout(height='180px', max_width='20px', overflow_x='hidden'), max=255, orientation='vertical'), IntSlider(value=105, continuous_update=False, description='2', layout=Layout(height='180px', max_width='20px', overflow_x='hidden'), max=255, orientation='vertical'), IntSlider(value=0, continuous_update=False, description='3', layout=Layout(height='180px', max_width='20px', overflow_x='hidden'), max=255, orientation='vertical'), IntSlider(value=0, continuous_update=False, description='4', layout=Layout(height='180px', max_width='20px', overflow_x='hidden'), max=255, orientation='vertical'), IntSlider(value=255, continuous_update=False, description='5', layout=Layout(height='180px', max_width='20px', overflow_x='hidden'), max=255, orientation='vertical'), IntSlider(value=0, continuous_update=False, description='6', layout=Layout(height='180px', max_width='20px', overflow_x='hidden'), max=255, orientation='vertical'), IntSlider(value=0, continuous_update=False, description='7', layout=Layout(height='180px', max_width='20px', overflow_x='hidden'), max=255, orientation='vertical'), IntSlider(value=0, continuous_update=False, description='8', layout=Layout(height='180px', max_width='20px', overflow_x='hidden'), max=255, orientation='vertical'), IntSlider(value=0, continuous_update=False, description='9', layout=Layout(height='180px', max_width='20px', overflow_x='hidden'), max=255, orientation='vertical'), IntSlider(value=0, continuous_update=False, description='10', layout=Layout(height='180px', max_width='20px', overflow_x='hidden'), max=255, orientation='vertical'), IntSlider(value=0, continuous_update=False, description='11', layout=Layout(height='180px', max_width='20px', overflow_x='hidden'), max=255, orientation='vertical'), IntSlider(value=255, continuous_update=False, description='12', layout=Layout(height='180px', max_width='20px', overflow_x='hidden'), max=255, orientation='vertical'), IntSlider(value=0, continuous_update=False, description='13', layout=Layout(height='180px', max_width='20px', overflow_x='hidden'), max=255, orientation='vertical'), IntSlider(value=0, continuous_update=False, description='14', layout=Layout(height='180px', max_width='20px', overflow_x='hidden'), max=255, orientation='vertical'), IntSlider(value=255, continuous_update=False, description='15', layout=Layout(height='180px', max_width='20px', overflow_x='hidden'), max=255, orientation='vertical')))), layout=Layout(display='inline-flex'))"
      ]
     },
     "metadata": {},
     "output_type": "display_data"
    }
   ],
   "source": [
    "tf = TransferFunctionEditor(\n",
    "    filename=colormap_folder + 'spike_v1.1dt',\n",
    "    on_change=update_palette)\n",
    "# tf.set_range((0, 0.008))\n",
    "tf.set_range((0, 5))"
   ]
  },
  {
   "cell_type": "markdown",
   "metadata": {},
   "source": [
    "### Close-up on contact region"
   ]
  },
  {
   "cell_type": "code",
   "execution_count": null,
   "metadata": {},
   "outputs": [],
   "source": [
    "status = core.set_camera(\n",
    "    orientation=[0.0, 0.7071067811865475, 0.0, 0.7071067811865476],\n",
    "    position=[-50.78389040913925, -171.88124847900858, 231.85771136376823],\n",
    "    target=[-105.20499421405177, -171.88124847900858, 231.85771136376823]\n",
    ")"
   ]
  },
  {
   "cell_type": "markdown",
   "metadata": {},
   "source": [
    "### Global view of the spike and receptor"
   ]
  },
  {
   "cell_type": "code",
   "execution_count": null,
   "metadata": {},
   "outputs": [],
   "source": [
    "status = core.set_camera(\n",
    "    orientation=[0.022513198231254857,  0.04530282427091095,  -0.026285668857608697,  0.9983736142502904],\n",
    "    position=[-60.794105091613574, -170.9429323911121, 265.85924034226747],\n",
    "    target=[-73.36804194753815, -164.27604386205962, 125.7347360397887]\n",
    ")"
   ]
  }
 ],
 "metadata": {
  "kernelspec": {
   "display_name": "Python 3",
   "language": "python",
   "name": "python3"
  },
  "language_info": {
   "codemirror_mode": {
    "name": "ipython",
    "version": 3
   },
   "file_extension": ".py",
   "mimetype": "text/x-python",
   "name": "python",
   "nbconvert_exporter": "python",
   "pygments_lexer": "ipython3",
   "version": "3.8.5"
  }
 },
 "nbformat": 4,
 "nbformat_minor": 4
}
