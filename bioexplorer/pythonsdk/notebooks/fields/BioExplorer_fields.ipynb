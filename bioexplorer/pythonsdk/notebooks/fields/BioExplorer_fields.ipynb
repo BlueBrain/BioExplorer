{
 "cells": [
  {
   "cell_type": "markdown",
   "metadata": {},
   "source": [
    "# Blue Brain BioExplorer\n",
    "![](../bioexplorer_banner.png)"
   ]
  },
  {
   "cell_type": "markdown",
   "metadata": {},
   "source": [
    "### Prerequeries"
   ]
  },
  {
   "cell_type": "code",
   "execution_count": 1,
   "metadata": {},
   "outputs": [
    {
     "name": "stdout",
     "output_type": "stream",
     "text": [
      "Requirement already satisfied: ipyTransferFunction in /home/favreau/Notebooks/env/lib/python3.8/site-packages\n",
      "Requirement already satisfied: seaborn~=0.8.1 in /home/favreau/Notebooks/env/lib/python3.8/site-packages (from ipyTransferFunction)\n",
      "Requirement already satisfied: ipywidgets~=7.1.2 in /home/favreau/Notebooks/env/lib/python3.8/site-packages (from ipyTransferFunction)\n",
      "Requirement already satisfied: matplotlib~=2.1.2 in /home/favreau/Notebooks/env/lib/python3.8/site-packages (from ipyTransferFunction)\n",
      "Requirement already satisfied: jupyter~=1.0.0 in /home/favreau/Notebooks/env/lib/python3.8/site-packages (from ipyTransferFunction)\n",
      "Requirement already satisfied: webcolors~=1.8.1 in /home/favreau/Notebooks/env/lib/python3.8/site-packages (from ipyTransferFunction)\n",
      "Requirement already satisfied: scipy in /home/favreau/Notebooks/env/lib/python3.8/site-packages (from seaborn~=0.8.1->ipyTransferFunction)\n",
      "Requirement already satisfied: numpy in /home/favreau/Notebooks/env/lib/python3.8/site-packages (from seaborn~=0.8.1->ipyTransferFunction)\n",
      "Requirement already satisfied: pandas in /home/favreau/Notebooks/env/lib/python3.8/site-packages (from seaborn~=0.8.1->ipyTransferFunction)\n",
      "Requirement already satisfied: ipython>=4.0.0; python_version >= \"3.3\" in /home/favreau/Notebooks/env/lib/python3.8/site-packages (from ipywidgets~=7.1.2->ipyTransferFunction)\n",
      "Requirement already satisfied: nbformat>=4.2.0 in /home/favreau/Notebooks/env/lib/python3.8/site-packages (from ipywidgets~=7.1.2->ipyTransferFunction)\n",
      "Requirement already satisfied: traitlets>=4.3.1 in /home/favreau/Notebooks/env/lib/python3.8/site-packages (from ipywidgets~=7.1.2->ipyTransferFunction)\n",
      "Requirement already satisfied: ipykernel>=4.5.1 in /home/favreau/Notebooks/env/lib/python3.8/site-packages (from ipywidgets~=7.1.2->ipyTransferFunction)\n",
      "Requirement already satisfied: widgetsnbextension~=3.1.0 in /home/favreau/Notebooks/env/lib/python3.8/site-packages (from ipywidgets~=7.1.2->ipyTransferFunction)\n",
      "Requirement already satisfied: cycler>=0.10 in /home/favreau/Notebooks/env/lib/python3.8/site-packages (from matplotlib~=2.1.2->ipyTransferFunction)\n",
      "Requirement already satisfied: six>=1.10 in /home/favreau/Notebooks/env/lib/python3.8/site-packages (from matplotlib~=2.1.2->ipyTransferFunction)\n",
      "Requirement already satisfied: pytz in /home/favreau/Notebooks/env/lib/python3.8/site-packages (from matplotlib~=2.1.2->ipyTransferFunction)\n",
      "Requirement already satisfied: pyparsing!=2.0.4,!=2.1.2,!=2.1.6,>=2.0.1 in /home/favreau/Notebooks/env/lib/python3.8/site-packages (from matplotlib~=2.1.2->ipyTransferFunction)\n",
      "Requirement already satisfied: python-dateutil>=2.1 in /home/favreau/Notebooks/env/lib/python3.8/site-packages (from matplotlib~=2.1.2->ipyTransferFunction)\n",
      "Requirement already satisfied: notebook in /home/favreau/Notebooks/env/lib/python3.8/site-packages (from jupyter~=1.0.0->ipyTransferFunction)\n",
      "Requirement already satisfied: jupyter-console in /home/favreau/Notebooks/env/lib/python3.8/site-packages (from jupyter~=1.0.0->ipyTransferFunction)\n",
      "Requirement already satisfied: nbconvert in /home/favreau/Notebooks/env/lib/python3.8/site-packages (from jupyter~=1.0.0->ipyTransferFunction)\n",
      "Requirement already satisfied: qtconsole in /home/favreau/Notebooks/env/lib/python3.8/site-packages (from jupyter~=1.0.0->ipyTransferFunction)\n",
      "Requirement already satisfied: prompt-toolkit!=3.0.0,!=3.0.1,<3.1.0,>=2.0.0 in /home/favreau/Notebooks/env/lib/python3.8/site-packages (from ipython>=4.0.0; python_version >= \"3.3\"->ipywidgets~=7.1.2->ipyTransferFunction)\n",
      "Requirement already satisfied: pickleshare in /home/favreau/Notebooks/env/lib/python3.8/site-packages (from ipython>=4.0.0; python_version >= \"3.3\"->ipywidgets~=7.1.2->ipyTransferFunction)\n",
      "Requirement already satisfied: backcall in /home/favreau/Notebooks/env/lib/python3.8/site-packages (from ipython>=4.0.0; python_version >= \"3.3\"->ipywidgets~=7.1.2->ipyTransferFunction)\n",
      "Requirement already satisfied: jedi>=0.16 in /home/favreau/Notebooks/env/lib/python3.8/site-packages (from ipython>=4.0.0; python_version >= \"3.3\"->ipywidgets~=7.1.2->ipyTransferFunction)\n",
      "Requirement already satisfied: pygments in /home/favreau/Notebooks/env/lib/python3.8/site-packages (from ipython>=4.0.0; python_version >= \"3.3\"->ipywidgets~=7.1.2->ipyTransferFunction)\n",
      "Requirement already satisfied: pexpect>4.3; sys_platform != \"win32\" in /home/favreau/Notebooks/env/lib/python3.8/site-packages (from ipython>=4.0.0; python_version >= \"3.3\"->ipywidgets~=7.1.2->ipyTransferFunction)\n",
      "Requirement already satisfied: setuptools>=18.5 in /home/favreau/Notebooks/env/lib/python3.8/site-packages (from ipython>=4.0.0; python_version >= \"3.3\"->ipywidgets~=7.1.2->ipyTransferFunction)\n",
      "Requirement already satisfied: decorator in /home/favreau/Notebooks/env/lib/python3.8/site-packages (from ipython>=4.0.0; python_version >= \"3.3\"->ipywidgets~=7.1.2->ipyTransferFunction)\n",
      "Requirement already satisfied: ipython-genutils in /home/favreau/Notebooks/env/lib/python3.8/site-packages (from nbformat>=4.2.0->ipywidgets~=7.1.2->ipyTransferFunction)\n",
      "Requirement already satisfied: jupyter-core in /home/favreau/Notebooks/env/lib/python3.8/site-packages (from nbformat>=4.2.0->ipywidgets~=7.1.2->ipyTransferFunction)\n",
      "Requirement already satisfied: jsonschema!=2.5.0,>=2.4 in /home/favreau/Notebooks/env/lib/python3.8/site-packages (from nbformat>=4.2.0->ipywidgets~=7.1.2->ipyTransferFunction)\n",
      "Requirement already satisfied: tornado>=4.2 in /home/favreau/Notebooks/env/lib/python3.8/site-packages (from ipykernel>=4.5.1->ipywidgets~=7.1.2->ipyTransferFunction)\n",
      "Requirement already satisfied: jupyter-client in /home/favreau/Notebooks/env/lib/python3.8/site-packages (from ipykernel>=4.5.1->ipywidgets~=7.1.2->ipyTransferFunction)\n",
      "Requirement already satisfied: jinja2 in /home/favreau/Notebooks/env/lib/python3.8/site-packages (from notebook->jupyter~=1.0.0->ipyTransferFunction)\n",
      "Requirement already satisfied: terminado>=0.8.3 in /home/favreau/Notebooks/env/lib/python3.8/site-packages (from notebook->jupyter~=1.0.0->ipyTransferFunction)\n",
      "Requirement already satisfied: Send2Trash>=1.5.0 in /home/favreau/Notebooks/env/lib/python3.8/site-packages (from notebook->jupyter~=1.0.0->ipyTransferFunction)\n",
      "Requirement already satisfied: prometheus-client in /home/favreau/Notebooks/env/lib/python3.8/site-packages (from notebook->jupyter~=1.0.0->ipyTransferFunction)\n",
      "Requirement already satisfied: argon2-cffi in /home/favreau/Notebooks/env/lib/python3.8/site-packages (from notebook->jupyter~=1.0.0->ipyTransferFunction)\n",
      "Requirement already satisfied: pyzmq>=17 in /home/favreau/Notebooks/env/lib/python3.8/site-packages (from notebook->jupyter~=1.0.0->ipyTransferFunction)\n",
      "Requirement already satisfied: pandocfilters>=1.4.1 in /home/favreau/Notebooks/env/lib/python3.8/site-packages (from nbconvert->jupyter~=1.0.0->ipyTransferFunction)\n",
      "Requirement already satisfied: jupyterlab-pygments in /home/favreau/Notebooks/env/lib/python3.8/site-packages (from nbconvert->jupyter~=1.0.0->ipyTransferFunction)\n",
      "Requirement already satisfied: mistune<2,>=0.8.1 in /home/favreau/Notebooks/env/lib/python3.8/site-packages (from nbconvert->jupyter~=1.0.0->ipyTransferFunction)\n",
      "Requirement already satisfied: defusedxml in /home/favreau/Notebooks/env/lib/python3.8/site-packages (from nbconvert->jupyter~=1.0.0->ipyTransferFunction)\n",
      "Requirement already satisfied: nbclient<0.6.0,>=0.5.0 in /home/favreau/Notebooks/env/lib/python3.8/site-packages (from nbconvert->jupyter~=1.0.0->ipyTransferFunction)\n",
      "Requirement already satisfied: entrypoints>=0.2.2 in /home/favreau/Notebooks/env/lib/python3.8/site-packages (from nbconvert->jupyter~=1.0.0->ipyTransferFunction)\n",
      "Requirement already satisfied: testpath in /home/favreau/Notebooks/env/lib/python3.8/site-packages (from nbconvert->jupyter~=1.0.0->ipyTransferFunction)\n",
      "Requirement already satisfied: bleach in /home/favreau/Notebooks/env/lib/python3.8/site-packages (from nbconvert->jupyter~=1.0.0->ipyTransferFunction)\n",
      "Requirement already satisfied: qtpy in /home/favreau/Notebooks/env/lib/python3.8/site-packages (from qtconsole->jupyter~=1.0.0->ipyTransferFunction)\n",
      "Requirement already satisfied: wcwidth in /home/favreau/Notebooks/env/lib/python3.8/site-packages (from prompt-toolkit!=3.0.0,!=3.0.1,<3.1.0,>=2.0.0->ipython>=4.0.0; python_version >= \"3.3\"->ipywidgets~=7.1.2->ipyTransferFunction)\n"
     ]
    },
    {
     "name": "stdout",
     "output_type": "stream",
     "text": [
      "Requirement already satisfied: parso<0.9.0,>=0.8.0 in /home/favreau/Notebooks/env/lib/python3.8/site-packages (from jedi>=0.16->ipython>=4.0.0; python_version >= \"3.3\"->ipywidgets~=7.1.2->ipyTransferFunction)\n",
      "Requirement already satisfied: ptyprocess>=0.5 in /home/favreau/Notebooks/env/lib/python3.8/site-packages (from pexpect>4.3; sys_platform != \"win32\"->ipython>=4.0.0; python_version >= \"3.3\"->ipywidgets~=7.1.2->ipyTransferFunction)\n",
      "Requirement already satisfied: attrs>=17.4.0 in /home/favreau/Notebooks/env/lib/python3.8/site-packages (from jsonschema!=2.5.0,>=2.4->nbformat>=4.2.0->ipywidgets~=7.1.2->ipyTransferFunction)\n",
      "Requirement already satisfied: pyrsistent>=0.14.0 in /home/favreau/Notebooks/env/lib/python3.8/site-packages (from jsonschema!=2.5.0,>=2.4->nbformat>=4.2.0->ipywidgets~=7.1.2->ipyTransferFunction)\n",
      "Requirement already satisfied: nest-asyncio>=1.5 in /home/favreau/Notebooks/env/lib/python3.8/site-packages (from jupyter-client->ipykernel>=4.5.1->ipywidgets~=7.1.2->ipyTransferFunction)\n",
      "Requirement already satisfied: MarkupSafe>=0.23 in /home/favreau/Notebooks/env/lib/python3.8/site-packages (from jinja2->notebook->jupyter~=1.0.0->ipyTransferFunction)\n",
      "Requirement already satisfied: cffi>=1.0.0 in /home/favreau/Notebooks/env/lib/python3.8/site-packages (from argon2-cffi->notebook->jupyter~=1.0.0->ipyTransferFunction)\n",
      "Requirement already satisfied: async-generator in /home/favreau/Notebooks/env/lib/python3.8/site-packages (from nbclient<0.6.0,>=0.5.0->nbconvert->jupyter~=1.0.0->ipyTransferFunction)\n",
      "Requirement already satisfied: packaging in /home/favreau/Notebooks/env/lib/python3.8/site-packages (from bleach->nbconvert->jupyter~=1.0.0->ipyTransferFunction)\n",
      "Requirement already satisfied: webencodings in /home/favreau/Notebooks/env/lib/python3.8/site-packages (from bleach->nbconvert->jupyter~=1.0.0->ipyTransferFunction)\n",
      "Requirement already satisfied: pycparser in /home/favreau/Notebooks/env/lib/python3.8/site-packages (from cffi>=1.0.0->argon2-cffi->notebook->jupyter~=1.0.0->ipyTransferFunction)\n",
      "\u001b[33mYou are using pip version 9.0.2, however version 21.0.1 is available.\n",
      "You should consider upgrading via the 'pip install --upgrade pip' command.\u001b[0m\n"
     ]
    }
   ],
   "source": [
    "!pip install ipyTransferFunction"
   ]
  },
  {
   "cell_type": "markdown",
   "metadata": {},
   "source": [
    "# Visualizing fields of magnetic forces (work in progress!)"
   ]
  },
  {
   "cell_type": "code",
   "execution_count": 2,
   "metadata": {},
   "outputs": [],
   "source": [
    "from bioexplorer import BioExplorer\n",
    "from ipyTransferFunction import TransferFunctionEditor\n",
    "uri = 'localhost:5000'\n",
    "be = BioExplorer(uri)\n",
    "be.reset()\n",
    "\n",
    "resource_folder = '../../tests/test_files/'\n",
    "colormap_folder = resource_folder + 'colormap/'"
   ]
  },
  {
   "cell_type": "markdown",
   "metadata": {},
   "source": [
    "### Import fields from file"
   ]
  },
  {
   "cell_type": "code",
   "execution_count": 6,
   "metadata": {},
   "outputs": [],
   "source": [
    "filename = resource_folder + 'fields/receptor.fields'\n",
    "status = be.import_fields_from_file(filename=filename)"
   ]
  },
  {
   "cell_type": "code",
   "execution_count": 5,
   "metadata": {},
   "outputs": [
    {
     "ename": "IndexError",
     "evalue": "list index out of range",
     "output_type": "error",
     "traceback": [
      "\u001b[0;31m---------------------------------------------------------------------------\u001b[0m",
      "\u001b[0;31mIndexError\u001b[0m                                Traceback (most recent call last)",
      "\u001b[0;32m<ipython-input-5-280dd637d7ac>\u001b[0m in \u001b[0;36m<module>\u001b[0;34m\u001b[0m\n\u001b[1;32m      1\u001b[0m \u001b[0mbe\u001b[0m \u001b[0;34m=\u001b[0m \u001b[0mBioExplorer\u001b[0m\u001b[0;34m(\u001b[0m\u001b[0muri\u001b[0m\u001b[0;34m)\u001b[0m\u001b[0;34m\u001b[0m\u001b[0;34m\u001b[0m\u001b[0m\n\u001b[1;32m      2\u001b[0m \u001b[0mcore\u001b[0m \u001b[0;34m=\u001b[0m \u001b[0mbe\u001b[0m\u001b[0;34m.\u001b[0m\u001b[0mcore_api\u001b[0m\u001b[0;34m(\u001b[0m\u001b[0;34m)\u001b[0m\u001b[0;34m\u001b[0m\u001b[0;34m\u001b[0m\u001b[0m\n\u001b[0;32m----> 3\u001b[0;31m \u001b[0mfields_model_id\u001b[0m \u001b[0;34m=\u001b[0m \u001b[0mcore\u001b[0m\u001b[0;34m.\u001b[0m\u001b[0mscene\u001b[0m\u001b[0;34m.\u001b[0m\u001b[0mmodels\u001b[0m\u001b[0;34m[\u001b[0m\u001b[0mlen\u001b[0m\u001b[0;34m(\u001b[0m\u001b[0mcore\u001b[0m\u001b[0;34m.\u001b[0m\u001b[0mscene\u001b[0m\u001b[0;34m.\u001b[0m\u001b[0mmodels\u001b[0m\u001b[0;34m)\u001b[0m\u001b[0;34m-\u001b[0m\u001b[0;36m1\u001b[0m\u001b[0;34m]\u001b[0m\u001b[0;34m[\u001b[0m\u001b[0;34m'id'\u001b[0m\u001b[0;34m]\u001b[0m\u001b[0;34m\u001b[0m\u001b[0;34m\u001b[0m\u001b[0m\n\u001b[0m",
      "\u001b[0;32m~/Notebooks/env/lib/python3.8/site-packages/python_jsonschema_objects/wrapper_types.py\u001b[0m in \u001b[0;36m__getitem__\u001b[0;34m(self, idx)\u001b[0m\n\u001b[1;32m     44\u001b[0m \u001b[0;34m\u001b[0m\u001b[0m\n\u001b[1;32m     45\u001b[0m     \u001b[0;32mdef\u001b[0m \u001b[0m__getitem__\u001b[0m\u001b[0;34m(\u001b[0m\u001b[0mself\u001b[0m\u001b[0;34m,\u001b[0m \u001b[0midx\u001b[0m\u001b[0;34m)\u001b[0m\u001b[0;34m:\u001b[0m\u001b[0;34m\u001b[0m\u001b[0;34m\u001b[0m\u001b[0m\n\u001b[0;32m---> 46\u001b[0;31m         \u001b[0;32mreturn\u001b[0m \u001b[0mself\u001b[0m\u001b[0;34m.\u001b[0m\u001b[0mtyped_elems\u001b[0m\u001b[0;34m[\u001b[0m\u001b[0midx\u001b[0m\u001b[0;34m]\u001b[0m\u001b[0;34m\u001b[0m\u001b[0;34m\u001b[0m\u001b[0m\n\u001b[0m\u001b[1;32m     47\u001b[0m \u001b[0;34m\u001b[0m\u001b[0m\n\u001b[1;32m     48\u001b[0m     \u001b[0;32mdef\u001b[0m \u001b[0m__eq__\u001b[0m\u001b[0;34m(\u001b[0m\u001b[0mself\u001b[0m\u001b[0;34m,\u001b[0m \u001b[0mother\u001b[0m\u001b[0;34m)\u001b[0m\u001b[0;34m:\u001b[0m\u001b[0;34m\u001b[0m\u001b[0;34m\u001b[0m\u001b[0m\n",
      "\u001b[0;31mIndexError\u001b[0m: list index out of range"
     ]
    }
   ],
   "source": [
    "be = BioExplorer(uri)\n",
    "core = be.core_api()\n",
    "fields_model_id = core.scene.models[len(core.scene.models)-1]['id']"
   ]
  },
  {
   "cell_type": "markdown",
   "metadata": {},
   "source": [
    "### Set Field renderer with appropriate settings"
   ]
  },
  {
   "cell_type": "code",
   "execution_count": null,
   "metadata": {},
   "outputs": [],
   "source": [
    "image_samples_per_pixel = 1"
   ]
  },
  {
   "cell_type": "code",
   "execution_count": null,
   "metadata": {},
   "outputs": [],
   "source": [
    "core.set_renderer(\n",
    "    current='bio_explorer_fields',\n",
    "    samples_per_pixel=1, subsampling=1, max_accum_frames=image_samples_per_pixel)\n",
    "\n",
    "params = core.BioExplorerFieldsRendererParams()\n",
    "params.cutoff = 15000\n",
    "params.exposure = 1.0\n",
    "params.alpha_correction = 1\n",
    "params.nb_ray_steps = 8\n",
    "params.nb_ray_refinement_steps = image_samples_per_pixel\n",
    "params.use_hardware_randomizer = True\n",
    "status = core.set_renderer_params(params)"
   ]
  },
  {
   "cell_type": "markdown",
   "metadata": {},
   "source": [
    "### Set transfer function range"
   ]
  },
  {
   "cell_type": "code",
   "execution_count": null,
   "metadata": {},
   "outputs": [],
   "source": [
    "def hex_to_rgb(value):\n",
    "    value = value.lstrip('#')\n",
    "    lv = len(value)\n",
    "    return tuple(int(value[i:i + lv // 3], 16) for i in range(0, lv, lv // 3))\n",
    "\n",
    "def update_palette(tf):\n",
    "    intensity = 1\n",
    "    btf = core.get_model_transfer_function(id=fields_model_id)\n",
    "    colors = list()\n",
    "    points = list()\n",
    "    \n",
    "    nb_points = len(tf.alpha_sliders)\n",
    "    step = 1.0 / float(nb_points - 1)\n",
    "    for i in range(nb_points):\n",
    "        color = hex_to_rgb(tf.color_pickers[i].value)\n",
    "        colors.append([\n",
    "            intensity * float(color[0]) / 256.0, \n",
    "            intensity * float(color[1]) / 256.0, \n",
    "            intensity * float(color[2]) / 256.0])\n",
    "        points.append([i * step, tf.alpha_sliders[i].value / 255.0])\n",
    "        \n",
    "    btf['colormap']['name'] = 'TransferFunctionEditor'\n",
    "    btf['colormap']['colors'] = colors\n",
    "    btf['opacity_curve'] = points\n",
    "    btf['range'] = [tf.data_range[0], tf.data_range[1]]\n",
    "    core.set_model_transfer_function(id=fields_model_id, transfer_function=btf)"
   ]
  },
  {
   "cell_type": "code",
   "execution_count": null,
   "metadata": {
    "scrolled": false
   },
   "outputs": [],
   "source": [
    "tf = TransferFunctionEditor(\n",
    "    filename=colormap_folder + 'spike_v1.1dt',\n",
    "    on_change=update_palette)\n",
    "tf.set_range((0, 5))"
   ]
  },
  {
   "cell_type": "markdown",
   "metadata": {},
   "source": [
    "### Close-up on contact region"
   ]
  },
  {
   "cell_type": "code",
   "execution_count": null,
   "metadata": {},
   "outputs": [],
   "source": [
    "status = core.set_camera(\n",
    "    orientation=[0.0, 0.7071067811865475, 0.0, 0.7071067811865476],\n",
    "    position=[-50.78389040913925, -171.88124847900858, 231.85771136376823],\n",
    "    target=[-105.20499421405177, -171.88124847900858, 231.85771136376823]\n",
    ")"
   ]
  },
  {
   "cell_type": "markdown",
   "metadata": {},
   "source": [
    "### Global view of the spike and receptor"
   ]
  },
  {
   "cell_type": "code",
   "execution_count": null,
   "metadata": {},
   "outputs": [],
   "source": [
    "status = core.set_camera(\n",
    "    orientation=[0.022513198231254857,  0.04530282427091095,  -0.026285668857608697,  0.9983736142502904],\n",
    "    position=[-60.794105091613574, -170.9429323911121, 265.85924034226747],\n",
    "    target=[-73.36804194753815, -164.27604386205962, 125.7347360397887]\n",
    ")"
   ]
  }
 ],
 "metadata": {
  "kernelspec": {
   "display_name": "Python 3",
   "language": "python",
   "name": "python3"
  },
  "language_info": {
   "codemirror_mode": {
    "name": "ipython",
    "version": 3
   },
   "file_extension": ".py",
   "mimetype": "text/x-python",
   "name": "python",
   "nbconvert_exporter": "python",
   "pygments_lexer": "ipython3",
   "version": "3.8.5"
  }
 },
 "nbformat": 4,
 "nbformat_minor": 4
}
