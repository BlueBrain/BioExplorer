{
 "cells": [
  {
   "cell_type": "markdown",
   "metadata": {},
   "source": [
    "# Blue Brain BioExplorer\n",
    "![](../bioexplorer_banner.png)"
   ]
  },
  {
   "cell_type": "markdown",
   "metadata": {},
   "source": [
    "### Prerequeries"
   ]
  },
  {
   "cell_type": "markdown",
   "metadata": {},
   "source": [
    "# Visualizing fields of magnetic forces (work in progress!)"
   ]
  },
  {
   "cell_type": "code",
   "execution_count": null,
   "metadata": {},
   "outputs": [],
   "source": [
    "from bioexplorer import BioExplorer, TransferFunction\n",
    "uri = 'localhost:5000'\n",
    "be = BioExplorer(uri)\n",
    "be.reset()\n",
    "\n",
    "resource_folder = '../../tests/test_files/'\n",
    "colormap_folder = resource_folder + 'colormap/'"
   ]
  },
  {
   "cell_type": "markdown",
   "metadata": {},
   "source": [
    "### Import fields from file"
   ]
  },
  {
   "cell_type": "code",
   "execution_count": null,
   "metadata": {},
   "outputs": [],
   "source": [
    "filename = resource_folder + 'fields/receptor.fields'\n",
    "status = be.import_fields_from_file(filename=filename)\n",
    "print(status)"
   ]
  },
  {
   "cell_type": "code",
   "execution_count": null,
   "metadata": {},
   "outputs": [],
   "source": [
    "be = BioExplorer(uri)\n",
    "core = be.core_api()\n",
    "fields_model_id = core.scene.models[len(core.scene.models)-1]['id']"
   ]
  },
  {
   "cell_type": "markdown",
   "metadata": {},
   "source": [
    "### Set Field renderer with appropriate settings"
   ]
  },
  {
   "cell_type": "code",
   "execution_count": null,
   "metadata": {},
   "outputs": [],
   "source": [
    "image_samples_per_pixel = 1"
   ]
  },
  {
   "cell_type": "code",
   "execution_count": null,
   "metadata": {},
   "outputs": [],
   "source": [
    "core.set_renderer(\n",
    "    current='bio_explorer_fields',\n",
    "    samples_per_pixel=1, subsampling=1, max_accum_frames=image_samples_per_pixel)\n",
    "\n",
    "params = core.BioExplorerFieldsRendererParams()\n",
    "params.cutoff = 15000\n",
    "params.exposure = 1.0\n",
    "params.alpha_correction = 1\n",
    "params.nb_ray_steps = 8\n",
    "params.nb_ray_refinement_steps = image_samples_per_pixel\n",
    "params.use_hardware_randomizer = True\n",
    "status = core.set_renderer_params(params)"
   ]
  },
  {
   "cell_type": "markdown",
   "metadata": {},
   "source": [
    "### Set transfer function range"
   ]
  },
  {
   "cell_type": "code",
   "execution_count": null,
   "metadata": {
    "scrolled": false
   },
   "outputs": [],
   "source": [
    "tf = TransferFunction(model_id=fields_model_id, filename=colormap_folder + 'spike_v1.1dt')\n",
    "tf.set_range((0, 5))"
   ]
  },
  {
   "cell_type": "markdown",
   "metadata": {},
   "source": [
    "### Close-up on contact region"
   ]
  },
  {
   "cell_type": "code",
   "execution_count": null,
   "metadata": {},
   "outputs": [],
   "source": [
    "status = core.set_camera(\n",
    "    orientation=[0.0, 0.7071067811865475, 0.0, 0.7071067811865476],\n",
    "    position=[-50.78389040913925, -171.88124847900858, 231.85771136376823],\n",
    "    target=[-105.20499421405177, -171.88124847900858, 231.85771136376823]\n",
    ")"
   ]
  },
  {
   "cell_type": "markdown",
   "metadata": {},
   "source": [
    "### Global view of the spike and receptor"
   ]
  },
  {
   "cell_type": "code",
   "execution_count": null,
   "metadata": {},
   "outputs": [],
   "source": [
    "status = core.set_camera(\n",
    "    orientation=[0.022513198231254857,  0.04530282427091095,  -0.026285668857608697,  0.9983736142502904],\n",
    "    position=[-60.794105091613574, -170.9429323911121, 265.85924034226747],\n",
    "    target=[-73.36804194753815, -164.27604386205962, 125.7347360397887]\n",
    ")"
   ]
  }
 ],
 "metadata": {
  "kernelspec": {
   "display_name": "Python 3",
   "language": "python",
   "name": "python3"
  },
  "language_info": {
   "codemirror_mode": {
    "name": "ipython",
    "version": 3
   },
   "file_extension": ".py",
   "mimetype": "text/x-python",
   "name": "python",
   "nbconvert_exporter": "python",
   "pygments_lexer": "ipython3",
   "version": "3.8.10"
  }
 },
 "nbformat": 4,
 "nbformat_minor": 4
}
