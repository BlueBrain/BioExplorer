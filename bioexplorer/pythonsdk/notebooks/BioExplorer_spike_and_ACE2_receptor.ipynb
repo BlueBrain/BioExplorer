{
 "cells": [
  {
   "cell_type": "markdown",
   "metadata": {},
   "source": [
    "# Blue Brain BioExplorer\n",
    "\n",
    "![](./images/bioexplorer_banner.png)"
   ]
  },
  {
   "cell_type": "code",
   "execution_count": 59,
   "metadata": {},
   "outputs": [],
   "source": [
    "from bioexplorer import BioExplorer, Protein, Surfactant, Membrane, Volume, Virus,\\\n",
    "                        Cell, Sugars, Vector2, Vector3, Quaternion\n",
    "import nglview\n",
    "\n",
    "be = BioExplorer('localhost:5000')"
   ]
  },
  {
   "cell_type": "code",
   "execution_count": 60,
   "metadata": {},
   "outputs": [],
   "source": [
    "status = be.reset()"
   ]
  },
  {
   "cell_type": "markdown",
   "metadata": {},
   "source": [
    "### Resources"
   ]
  },
  {
   "cell_type": "code",
   "execution_count": 61,
   "metadata": {},
   "outputs": [],
   "source": [
    "resource_folder = '../tests/test_files/'\n",
    "pdb_folder = resource_folder + 'pdb/'\n",
    "glycan_folder = pdb_folder + 'glycans/'\n",
    "\n",
    "glucose_path = pdb_folder + 'glucose.pdb'\n",
    "lactoferrin_path=pdb_folder + 'immune/1b0l.pdb'\n",
    "defensin_path = pdb_folder + 'immune/1ijv.pdb'\n",
    "\n",
    "complex_paths = [glycan_folder + 'complex/33.pdb', glycan_folder + 'complex/34.pdb',\n",
    "                 glycan_folder + 'complex/35.pdb',glycan_folder + 'complex/36.pdb']\n",
    "high_mannose_paths = [glycan_folder + 'high-mannose/1.pdb', \n",
    "                      glycan_folder + 'high-mannose/2.pdb',\n",
    "                      glycan_folder + 'high-mannose/3.pdb',\n",
    "                      glycan_folder + 'high-mannose/4.pdb']\n",
    "hybrid_paths = [glycan_folder + 'hybrid/24.pdb']\n",
    "o_glycan_paths = [glycan_folder + 'o-glycan/12.pdb']"
   ]
  },
  {
   "cell_type": "markdown",
   "metadata": {},
   "source": [
    "### Configuration"
   ]
  },
  {
   "cell_type": "code",
   "execution_count": 62,
   "metadata": {},
   "outputs": [],
   "source": [
    "# Scene\n",
    "scene_size = 250\n",
    "\n",
    "# Proteins\n",
    "protein_radius_multiplier = 1.0\n",
    "protein_representation = be.REPRESENTATION_ATOMS_AND_STICKS\n",
    "glycan_radius_multiplier = 1.0\n",
    "glycan_representation = be.REPRESENTATION_ATOMS_AND_STICKS\n",
    "protein_load_hydrogen = False\n",
    "\n",
    "# Viruses\n",
    "nb_protein_s = 62\n",
    "nb_protein_e = 42\n",
    "nb_protein_m = 50\n",
    "add_rna = False\n",
    "add_glycans = True"
   ]
  },
  {
   "cell_type": "markdown",
   "metadata": {},
   "source": [
    "## Camera"
   ]
  },
  {
   "cell_type": "code",
   "execution_count": 75,
   "metadata": {},
   "outputs": [],
   "source": [
    "status = be.core_api().set_camera(\n",
    "    orientation=[0.0394, 0.359, -0.112, 0.925],\n",
    "    position=[119.168, -68.452, 97.192],\n",
    "    target=[90.192, -61.656, 64.614]    \n",
    ")"
   ]
  },
  {
   "cell_type": "markdown",
   "metadata": {},
   "source": [
    "## Scene description"
   ]
  },
  {
   "cell_type": "markdown",
   "metadata": {},
   "source": [
    "### Coronavirus"
   ]
  },
  {
   "cell_type": "code",
   "execution_count": 64,
   "metadata": {
    "scrolled": true
   },
   "outputs": [],
   "source": [
    "def add_virus(name, position, open_conformation_indices=list()):\n",
    "    \n",
    "    closed_conformation_indices = list()\n",
    "    for i in range(nb_protein_s):\n",
    "        if i not in open_conformation_indices:\n",
    "            closed_conformation_indices.append(i)\n",
    "            \n",
    "#     closed_conformation_indices = [10]\n",
    "\n",
    "    virus_protein_s = Protein(\n",
    "        sources=[\n",
    "            pdb_folder + '6vyb.pdb',  # Open conformation\n",
    "            pdb_folder + 'sars-cov-2-v1.pdb'  # Closed conformation\n",
    "        ],\n",
    "        load_hydrogen=protein_load_hydrogen, occurences=nb_protein_s, \n",
    "        assembly_params=Vector2(11.5, 0.0), cutoff_angle=0.999,\n",
    "        orientation=Quaternion(0.0, 1.0, 0.0, 0.0),\n",
    "        instance_indices=[open_conformation_indices, closed_conformation_indices])\n",
    "\n",
    "    virus_protein_m = Protein(\n",
    "        sources=[pdb_folder + 'QHD43419a.pdb'], load_hydrogen=protein_load_hydrogen,\n",
    "        occurences=nb_protein_m, assembly_params=Vector2(2.0, 0.0),\n",
    "        cutoff_angle=0.999, orientation=Quaternion(0.99, 0.0, 0.0, 0.135))\n",
    "\n",
    "    virus_protein_e = Protein(\n",
    "        sources=[pdb_folder + 'QHD43418a.pdb'], load_hydrogen=protein_load_hydrogen, \n",
    "        occurences=nb_protein_e, assembly_params=Vector2(3.0, 0.0), \n",
    "        cutoff_angle=0.9999, orientation=Quaternion(0.705, 0.705, -0.04, -0.04))\n",
    "\n",
    "    virus_membrane = Membrane(\n",
    "        sources=[pdb_folder + 'membrane/popc.pdb'],\n",
    "        occurences=15000)\n",
    "\n",
    "    rna_sequence = None\n",
    "    clip_planes = list()\n",
    "    if add_rna:\n",
    "        clip_planes.append([0, 0, -1, 15])\n",
    "        import math\n",
    "        rna_sequence = RNASequence(\n",
    "            source=rna_folder + 'sars-cov-2.rna',\n",
    "            assembly_params=Vector2(11.0, 0.5),\n",
    "            t_range=Vector2(0, 30.5 * math.pi), shape=be.RNA_SHAPE_TREFOIL_KNOT,\n",
    "            shape_params=Vector3(1.51, 1.12, 1.93))\n",
    "\n",
    "    coronavirus = Virus(\n",
    "        name=name, protein_s=virus_protein_s, protein_e=virus_protein_e,\n",
    "        protein_m=virus_protein_m, membrane=virus_membrane, rna_sequence=rna_sequence,\n",
    "        assembly_params=Vector2(45.0, 1.5))\n",
    "\n",
    "    be.add_virus(\n",
    "        virus=coronavirus, position=position, representation=protein_representation,\n",
    "        atom_radius_multiplier=protein_radius_multiplier, clipping_planes=clip_planes)\n",
    "\n",
    "    if add_glycans:\n",
    "        # High-mannose\n",
    "        indices_closed = [61, 122, 234, 603, 709, 717, 801, 1074]\n",
    "        indices_open = [61, 122, 234, 709, 717, 801, 1074]\n",
    "        be.add_multiple_glycans(\n",
    "            assembly_name=name, glycan_type=be.NAME_GLYCAN_HIGH_MANNOSE, \n",
    "            protein_name=be.NAME_PROTEIN_S_CLOSED, paths=high_mannose_paths, \n",
    "            indices=indices_closed,\n",
    "            representation=glycan_representation,\n",
    "            atom_radius_multiplier=glycan_radius_multiplier\n",
    "        )\n",
    "        be.add_multiple_glycans(\n",
    "            assembly_name=name, glycan_type=be.NAME_GLYCAN_HIGH_MANNOSE, \n",
    "            protein_name=be.NAME_PROTEIN_S_OPEN, paths=high_mannose_paths,\n",
    "            indices=indices_open,\n",
    "            representation=glycan_representation,\n",
    "            atom_radius_multiplier=glycan_radius_multiplier\n",
    "        )\n",
    "\n",
    "        # Complex\n",
    "        indices_closed = [17, 74, 149, 165, 282, 331,\n",
    "                          343, 616, 657, 1098, 1134, 1158, 1173, 1194]\n",
    "        indices_open = [17, 74, 149, 165, 282, 331, 343, 657, 1098, 1134, 1158, 1173, 1194]\n",
    "        be.add_multiple_glycans(\n",
    "            orientation=Quaternion(0.0, 0.0, 0.0, 1.0),\n",
    "            assembly_name=name, glycan_type=be.NAME_GLYCAN_COMPLEX, \n",
    "            protein_name=be.NAME_PROTEIN_S_CLOSED, paths=complex_paths, \n",
    "            indices=indices_closed,\n",
    "            representation=glycan_representation,\n",
    "            atom_radius_multiplier=glycan_radius_multiplier\n",
    "        )\n",
    "        be.add_multiple_glycans(\n",
    "            orientation=Quaternion(0.0, 0.0, 0.0, 1.0),\n",
    "            assembly_name=name, glycan_type=be.NAME_GLYCAN_COMPLEX, \n",
    "            protein_name=be.NAME_PROTEIN_S_OPEN, paths=complex_paths, \n",
    "            indices=indices_open, representation=glycan_representation,\n",
    "            atom_radius_multiplier=glycan_radius_multiplier\n",
    "        )\n",
    "\n",
    "        # O-Glycans\n",
    "        for index in [323, 325]:\n",
    "            o_glycan_name = name + '_' + be.NAME_GLYCAN_O_GLYCAN + '_' + str(index)\n",
    "            o_glycan = Sugars(\n",
    "                assembly_name=name, name=o_glycan_name, source=o_glycan_paths[0],\n",
    "                protein_name=name + '_' + be.NAME_PROTEIN_S_CLOSED, \n",
    "                site_indices=[index],\n",
    "                representation=glycan_representation,\n",
    "                atom_radius_multiplier=glycan_radius_multiplier\n",
    "            )\n",
    "            be.add_sugars(o_glycan)\n",
    "\n",
    "\n",
    "        # High-mannose glycans on Protein M\n",
    "        indices = [5]\n",
    "        high_mannose_glycans = Sugars(\n",
    "            orientation=Quaternion(0.707, 0.0, 0.0, 0.707),\n",
    "            assembly_name=name, name=be.NAME_GLYCAN_HIGH_MANNOSE, \n",
    "            protein_name=name + '_' + be.NAME_PROTEIN_M, source=high_mannose_paths[0], \n",
    "            site_indices=indices,\n",
    "            representation=glycan_representation,\n",
    "            atom_radius_multiplier=glycan_radius_multiplier\n",
    "        )\n",
    "        status = be.add_glycans(high_mannose_glycans)\n",
    "\n",
    "\n",
    "        # Complex glycans on Protein E\n",
    "        indices = [48, 66]\n",
    "        complex_glycans = Sugars(\n",
    "            orientation=Quaternion(0.707, 0.0, 0.0, 0.707),\n",
    "            assembly_name=name, name=be.NAME_GLYCAN_COMPLEX, \n",
    "            protein_name=name + '_' + be.NAME_PROTEIN_E, source=complex_paths[0], \n",
    "            site_indices=indices,\n",
    "            representation=glycan_representation,\n",
    "            atom_radius_multiplier=glycan_radius_multiplier\n",
    "        )\n",
    "        status = be.add_glycans(complex_glycans)"
   ]
  },
  {
   "cell_type": "code",
   "execution_count": 65,
   "metadata": {},
   "outputs": [],
   "source": [
    "add_virus(name='Coronavirus', position=Vector3(75, 0.0, 60.0), \n",
    "          open_conformation_indices=[1])"
   ]
  },
  {
   "cell_type": "markdown",
   "metadata": {},
   "source": [
    "### Host cell"
   ]
  },
  {
   "cell_type": "code",
   "execution_count": 66,
   "metadata": {},
   "outputs": [],
   "source": [
    "# ACE2 receptor definition\n",
    "ace2_receptor = Protein(\n",
    "    sources=[pdb_folder + '6m18.pdb'],\n",
    "    occurences=1,\n",
    "    position=Vector3(0.0, 6.0, 0.0),\n",
    ")\n",
    "\n",
    "# Membrane definition\n",
    "membrane_size = scene_size\n",
    "membrane_height = 80\n",
    "membrane = Membrane(\n",
    "    sources=[pdb_folder + 'membrane/popc.pdb'],\n",
    "    occurences=30000\n",
    ")\n",
    "\n",
    "# Cell definition\n",
    "name='Cell'\n",
    "cell = Cell(\n",
    "    name=name,\n",
    "    size=Vector2(membrane_size, membrane_height),\n",
    "    shape=be.ASSEMBLY_SHAPE_SINUSOIDAL,\n",
    "    membrane=membrane, receptor=ace2_receptor)\n",
    "\n",
    "# Add cell to scene\n",
    "status = be.add_cell(\n",
    "    cell=cell, representation=protein_representation,\n",
    "    atom_radius_multiplier=protein_radius_multiplier,\n",
    "    random_seed=1,\n",
    "    position=Vector3(-7, -82.5, -3.0)\n",
    ")\n",
    "\n",
    "status = be.set_protein_color_scheme(\n",
    "    name, name + '_' + be.NAME_RECEPTOR, \n",
    "    be.COLOR_SCHEME_CHAINS, 'OrRd_r', 7)"
   ]
  },
  {
   "cell_type": "code",
   "execution_count": 67,
   "metadata": {},
   "outputs": [],
   "source": [
    "be.add_multiple_glycans(\n",
    "    orientation=Quaternion(0.707, 0.0, 0.0, 0.707),\n",
    "    representation=glycan_representation, assembly_name=name, \n",
    "    glycan_type=be.NAME_GLYCAN_COMPLEX,\n",
    "    protein_name=be.NAME_RECEPTOR, paths=complex_paths, \n",
    "    indices=[53, 90, 103, 322, 432, 690])\n",
    "\n",
    "be.add_multiple_glycans(\n",
    "    orientation=Quaternion(0.707, 0.0, 0.0, 0.707),\n",
    "    representation=glycan_representation, assembly_name=name,\n",
    "    glycan_type=be.NAME_GLYCAN_HYBRID,\n",
    "    protein_name=be.NAME_RECEPTOR, paths=hybrid_paths, \n",
    "    indices=[546])\n",
    "\n",
    "indices = [[155, Quaternion(0.0, 0.707, 0.0, 0.707)],\n",
    "           [730, Quaternion(0.0, 0.707, 0.0, 0.707)]]\n",
    "for index in indices:\n",
    "    o_glycan_name = name + '_' + be.NAME_GLYCAN_O_GLYCAN + '_' + str(index[0])\n",
    "    o_glycan = Sugars(\n",
    "        assembly_name=name, name=o_glycan_name, \n",
    "        source=o_glycan_paths[0],\n",
    "        protein_name=name + '_' + be.NAME_RECEPTOR, \n",
    "        representation=glycan_representation,\n",
    "        chain_ids=[2, 4], site_indices=[index[0]], \n",
    "        orientation=index[1])\n",
    "    be.add_sugars(o_glycan)"
   ]
  },
  {
   "cell_type": "markdown",
   "metadata": {},
   "source": [
    "## Materials"
   ]
  },
  {
   "cell_type": "code",
   "execution_count": 68,
   "metadata": {},
   "outputs": [
    {
     "data": {
      "application/vnd.jupyter.widget-view+json": {
       "model_id": "df8c7e900e344af79a1a62d6dccf983d",
       "version_major": 2,
       "version_minor": 0
      },
      "text/html": [
       "<p>Failed to display Jupyter Widget of type <code>IntProgress</code>.</p>\n",
       "<p>\n",
       "  If you're reading this message in the Jupyter Notebook or JupyterLab Notebook, it may mean\n",
       "  that the widgets JavaScript is still loading. If this message persists, it\n",
       "  likely means that the widgets JavaScript library is either not installed or\n",
       "  not enabled. See the <a href=\"https://ipywidgets.readthedocs.io/en/stable/user_install.html\">Jupyter\n",
       "  Widgets Documentation</a> for setup instructions.\n",
       "</p>\n",
       "<p>\n",
       "  If you're reading this message in another frontend (for example, a static\n",
       "  rendering on GitHub or <a href=\"https://nbviewer.jupyter.org/\">NBViewer</a>),\n",
       "  it may mean that your frontend doesn't currently support widgets.\n",
       "</p>\n"
      ],
      "text/plain": [
       "IntProgress(value=0, max=30)"
      ]
     },
     "metadata": {},
     "output_type": "display_data"
    }
   ],
   "source": [
    "be.apply_default_color_scheme(\n",
    "    shading_mode=be.SHADING_MODE_PERLIN,\n",
    "    user_parameter=0.03, specular_exponent=5, glossiness=0.1)"
   ]
  },
  {
   "cell_type": "markdown",
   "metadata": {},
   "source": [
    "## Functional regions"
   ]
  },
  {
   "cell_type": "markdown",
   "metadata": {},
   "source": [
    "### Spike"
   ]
  },
  {
   "cell_type": "code",
   "execution_count": 69,
   "metadata": {},
   "outputs": [],
   "source": [
    "# RGB color palette for amino acid indices\n",
    "grey = [0.2, 0.2, 0.2]\n",
    "dark_green = [0.0, 1.0, 0.0]\n",
    "light_green = [0.0, 1.0, 0.0]\n",
    "red = [1.0, 0.0, 0.0]\n",
    "green = [0.0, 1.0, 0.0]\n",
    "blue = [0.0, 0.0, 1.0]\n",
    "yellow = [1.0, 1.0, 0.0]\n",
    "cyan = [1.0, 0.0, 1.0]\n",
    "\n",
    "region_indices_and_colors = [\n",
    "    [   1, grey ], [   16, grey], [  306, grey], [  330, grey], [438, dark_green], \n",
    "    [ 507, green], [  522, grey], [  816, grey ], [  835, grey ], [908, grey],\n",
    "    [ 986, grey ], [ 1076, grey], [ 1274, grey], [ 2000, grey ]\n",
    "]\n",
    "\n",
    "# Build a palette according to region colors\n",
    "palette = list()\n",
    "for index in range(len(region_indices_and_colors)-1):\n",
    "    for i in range(region_indices_and_colors[index + 1][0] - \n",
    "                   region_indices_and_colors[index][0]):\n",
    "        palette.append(region_indices_and_colors[index][1])\n",
    "\n",
    "# Apply palette to other chains\n",
    "status = be.set_protein_color_scheme(\n",
    "    assembly_name='Coronavirus', name='Coronavirus_' + be.NAME_PROTEIN_S_OPEN, \n",
    "    color_scheme=be.COLOR_SCHEME_CHAINS,\n",
    "    palette_name='Greys_r', palette_size=100)\n",
    "\n",
    "# Apply palette to region color scheme, only for chain #2\n",
    "status = be.set_protein_color_scheme(\n",
    "    assembly_name='Coronavirus', name='Coronavirus_' + be.NAME_PROTEIN_S_OPEN, \n",
    "    color_scheme=be.COLOR_SCHEME_REGION, palette=palette,\n",
    "    chain_ids=[2]\n",
    ")"
   ]
  },
  {
   "cell_type": "markdown",
   "metadata": {},
   "source": [
    "### Receptor"
   ]
  },
  {
   "cell_type": "code",
   "execution_count": 70,
   "metadata": {},
   "outputs": [],
   "source": [
    "# RGB color palette for amino acid indices\n",
    "grey = [0.5, 0.5, 0.5]\n",
    "dark_blue = [0.0, 0.0, 0.5]\n",
    "light_blue = [0.0, 0.0, 1.0]\n",
    "\n",
    "region_indices_and_colors = [\n",
    "    [   1, grey      ], [   5, grey],  [  30, light_blue],  [  41, dark_blue],\n",
    "    [  82, light_blue], [  84, grey],  [ 353, grey      ],  [ 357, grey     ],\n",
    "    [ 800, grey      ]]\n",
    "\n",
    "# Build a palette according to region colors\n",
    "palette = list()\n",
    "for index in range(len(region_indices_and_colors)-1):\n",
    "    for i in range(region_indices_and_colors[index + 1][0] - \n",
    "                   region_indices_and_colors[index][0]):\n",
    "        palette.append(region_indices_and_colors[index][1])\n",
    "\n",
    "# Apply palette to other chains\n",
    "name = 'Cell'\n",
    "status = be.set_protein_color_scheme(\n",
    "    assembly_name=name, name=name + '_' + be.NAME_RECEPTOR, \n",
    "    color_scheme=be.COLOR_SCHEME_CHAINS,\n",
    "    palette_name='Greys_r', palette_size=100)\n",
    "\n",
    "# Apply palette to region color scheme, only for chain #2\n",
    "status = be.set_protein_color_scheme(\n",
    "    assembly_name=name, name=name + '_' + be.NAME_RECEPTOR, \n",
    "    color_scheme=be.COLOR_SCHEME_REGION, palette=palette,\n",
    "    chain_ids=[4])"
   ]
  },
  {
   "cell_type": "markdown",
   "metadata": {},
   "source": [
    "## Rendering settings"
   ]
  },
  {
   "cell_type": "code",
   "execution_count": null,
   "metadata": {},
   "outputs": [],
   "source": [
    "status = be.core_api().set_renderer(\n",
    "    background_color=[96 / 255, 125 / 255, 139 / 255],\n",
    "    current='bio_explorer',\n",
    "    samples_per_pixel=1, subsampling=4, max_accum_frames=64)\n",
    "params = be.core_api().BioExplorerRendererParams()\n",
    "params.gi_samples = 3\n",
    "params.gi_weight = 0.4\n",
    "params.gi_distance = 10\n",
    "params.shadows = 0.8\n",
    "params.soft_shadows = 1\n",
    "params.fog_start = 1500\n",
    "params.fog_thickness = 1500\n",
    "params.max_bounces = 1\n",
    "status = be.core_api().set_renderer_params(params)"
   ]
  },
  {
   "cell_type": "markdown",
   "metadata": {},
   "source": [
    "## Snapshots"
   ]
  },
  {
   "cell_type": "code",
   "execution_count": 71,
   "metadata": {},
   "outputs": [],
   "source": [
    "output_folder = '/tmp/'"
   ]
  },
  {
   "cell_type": "code",
   "execution_count": 76,
   "metadata": {},
   "outputs": [
    {
     "data": {
      "application/vnd.jupyter.widget-view+json": {
       "model_id": "5740e0b8b0cb41ba99c3005dd08f9878",
       "version_major": 2,
       "version_minor": 0
      },
      "text/html": [
       "<p>Failed to display Jupyter Widget of type <code>IntProgress</code>.</p>\n",
       "<p>\n",
       "  If you're reading this message in the Jupyter Notebook or JupyterLab Notebook, it may mean\n",
       "  that the widgets JavaScript is still loading. If this message persists, it\n",
       "  likely means that the widgets JavaScript library is either not installed or\n",
       "  not enabled. See the <a href=\"https://ipywidgets.readthedocs.io/en/stable/user_install.html\">Jupyter\n",
       "  Widgets Documentation</a> for setup instructions.\n",
       "</p>\n",
       "<p>\n",
       "  If you're reading this message in another frontend (for example, a static\n",
       "  rendering on GitHub or <a href=\"https://nbviewer.jupyter.org/\">NBViewer</a>),\n",
       "  it may mean that your frontend doesn't currently support widgets.\n",
       "</p>\n"
      ],
      "text/plain": [
       "IntProgress(value=0, description='In progress...')"
      ]
     },
     "metadata": {},
     "output_type": "display_data"
    }
   ],
   "source": [
    "from braynsmediamaker import MovieMaker\n",
    "mm = MovieMaker(be.core_api())\n",
    "mm.create_snapshot(\n",
    "    path=output_folder + 'protein_s_and_ace2_receptor.png',\n",
    "    size=[2048,2048], samples_per_pixel=64)"
   ]
  },
  {
   "cell_type": "code",
   "execution_count": 77,
   "metadata": {},
   "outputs": [
    {
     "data": {
      "application/vnd.jupyter.widget-view+json": {
       "model_id": "1460698e6cd546c9af64879011c3e9b6",
       "version_major": 2,
       "version_minor": 0
      },
      "text/html": [
       "<p>Failed to display Jupyter Widget of type <code>IntProgress</code>.</p>\n",
       "<p>\n",
       "  If you're reading this message in the Jupyter Notebook or JupyterLab Notebook, it may mean\n",
       "  that the widgets JavaScript is still loading. If this message persists, it\n",
       "  likely means that the widgets JavaScript library is either not installed or\n",
       "  not enabled. See the <a href=\"https://ipywidgets.readthedocs.io/en/stable/user_install.html\">Jupyter\n",
       "  Widgets Documentation</a> for setup instructions.\n",
       "</p>\n",
       "<p>\n",
       "  If you're reading this message in another frontend (for example, a static\n",
       "  rendering on GitHub or <a href=\"https://nbviewer.jupyter.org/\">NBViewer</a>),\n",
       "  it may mean that your frontend doesn't currently support widgets.\n",
       "</p>\n"
      ],
      "text/plain": [
       "IntProgress(value=0, description='In progress...')"
      ]
     },
     "metadata": {},
     "output_type": "display_data"
    }
   ],
   "source": [
    "mm.create_snapshot(\n",
    "    path=output_folder + 'protein_s_and_ace2_receptor_art_v3.png',\n",
    "    size=[3840,2160], samples_per_pixel=64)"
   ]
  },
  {
   "cell_type": "code",
   "execution_count": null,
   "metadata": {},
   "outputs": [],
   "source": []
  }
 ],
 "metadata": {
  "kernelspec": {
   "display_name": "Python 3",
   "language": "python",
   "name": "python3"
  },
  "language_info": {
   "codemirror_mode": {
    "name": "ipython",
    "version": 3
   },
   "file_extension": ".py",
   "mimetype": "text/x-python",
   "name": "python",
   "nbconvert_exporter": "python",
   "pygments_lexer": "ipython3",
   "version": "3.8.5"
  }
 },
 "nbformat": 4,
 "nbformat_minor": 4
}
