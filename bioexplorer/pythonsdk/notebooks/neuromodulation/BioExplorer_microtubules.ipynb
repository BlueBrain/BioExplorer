{
 "cells": [
  {
   "cell_type": "markdown",
   "id": "fcf7a2b1",
   "metadata": {},
   "source": [
    "# Blue Brain BioExplorer\n",
    "\n",
    "![](../bioexplorer_banner.png)"
   ]
  },
  {
   "cell_type": "markdown",
   "id": "ac3c2bbd",
   "metadata": {},
   "source": [
    "## Visualization of a microtubule"
   ]
  },
  {
   "cell_type": "code",
   "execution_count": 100,
   "id": "eeff036f",
   "metadata": {},
   "outputs": [],
   "source": [
    "from bioexplorer import BioExplorer, Volume, Protein, AnimationParams, Vector3, Quaternion\n",
    "\n",
    "be = BioExplorer('localhost:5000')\n",
    "core = be.core_api()\n",
    "# status = be.reset_scene()"
   ]
  },
  {
   "cell_type": "markdown",
   "id": "c9f34251",
   "metadata": {},
   "source": [
    "### Resources"
   ]
  },
  {
   "cell_type": "code",
   "execution_count": 101,
   "id": "addafa59",
   "metadata": {},
   "outputs": [],
   "source": [
    "resource_folder = '../../tests/test_files/'\n",
    "pdb_folder = resource_folder + 'pdb/'\n",
    "obj_folder = resource_folder + 'obj/'\n",
    "membrane_folder = pdb_folder + 'membrane/'\n",
    "lipids_folder = membrane_folder + 'lipids/'\n",
    "transporters_folder = pdb_folder + 'transporters/'\n",
    "tubules_folder = pdb_folder + 'tubules/'\n",
    "\n",
    "representation = be.REPRESENTATION_ATOMS_AND_STICKS"
   ]
  },
  {
   "cell_type": "markdown",
   "id": "a85cd8a2",
   "metadata": {},
   "source": [
    "### Membrane"
   ]
  },
  {
   "cell_type": "code",
   "execution_count": 102,
   "id": "039b5da0",
   "metadata": {},
   "outputs": [],
   "source": [
    "import random\n",
    "\n",
    "size  = Vector3(10.0, 2000.0, 0.0)\n",
    "scale = 100.0\n",
    "\n",
    "for i in range(5):\n",
    "    position = Vector3(\n",
    "        scale * (346 - 0) + random.randint(-scale, scale),\n",
    "        scale * (1354 - 1) + random.randint(-scale, scale),\n",
    "        scale * (602 - 1) + random.randint(-scale, scale))\n",
    "    name = 'Microtubule%05d' % i\n",
    "\n",
    "    # ACE2 receptor definition\n",
    "    tubule = Protein(\n",
    "        name=name + '_TUB',\n",
    "        source=tubules_folder + '1tub.pdb', \n",
    "        rotation=Quaternion(0.0, 0.0, 0.707, 0.707),\n",
    "        occurences=size.y * 2.0)\n",
    "\n",
    "    volume = Volume(\n",
    "        name=name,\n",
    "        shape=be.ASSEMBLY_SHAPE_HELIX, shape_params=size,\n",
    "        protein=tubule)\n",
    "\n",
    "    status = be.add_volume(\n",
    "        # atom_radius_multiplier=2.0,\n",
    "        # representation=be.REPRESENTATION_DEBUG,\n",
    "        position=position,\n",
    "        rotation=Quaternion(0.0, 0.0, 0.0, 1.0),\n",
    "        volume=volume)\n",
    "\n",
    "    status = be.set_protein_color_scheme(\n",
    "        assembly_name=name,\n",
    "        name=name + '_TUB',\n",
    "        color_scheme=be.COLOR_SCHEME_CHAINS,\n",
    "        palette_name='Set2', palette_size=5)        "
   ]
  },
  {
   "cell_type": "markdown",
   "id": "b522863a",
   "metadata": {},
   "source": [
    "## Rendering settings"
   ]
  },
  {
   "cell_type": "code",
   "execution_count": 103,
   "id": "034c40ec",
   "metadata": {},
   "outputs": [],
   "source": [
    "# status = be.reset_camera()\n",
    "# status = be.set_rendering_quality(be.RENDERING_QUALITY_HIGH)"
   ]
  },
  {
   "cell_type": "code",
   "execution_count": 104,
   "metadata": {},
   "outputs": [],
   "source": [
    "# from bioexplorer import MovieMaker\n",
    "# mm = MovieMaker(be)\n",
    "# mm.create_snapshot(\n",
    "#     renderer='bio_explorer',\n",
    "#     path='/tmp', base_name='microtubules_1k_v1',\n",
    "#     size=[940, 560], samples_per_pixel=64)"
   ]
  }
 ],
 "metadata": {
  "kernelspec": {
   "display_name": "Python 3",
   "language": "python",
   "name": "python3"
  },
  "language_info": {
   "codemirror_mode": {
    "name": "ipython",
    "version": 3
   },
   "file_extension": ".py",
   "mimetype": "text/x-python",
   "name": "python",
   "nbconvert_exporter": "python",
   "pygments_lexer": "ipython3",
   "version": "3.8.10"
  }
 },
 "nbformat": 4,
 "nbformat_minor": 4
}
