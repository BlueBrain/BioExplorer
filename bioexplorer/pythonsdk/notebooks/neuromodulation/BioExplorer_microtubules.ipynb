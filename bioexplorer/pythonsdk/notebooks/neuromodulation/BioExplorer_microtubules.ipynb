{
 "cells": [
  {
   "cell_type": "markdown",
   "id": "fcf7a2b1",
   "metadata": {},
   "source": [
    "# Blue Brain BioExplorer - Neuromodulation\n",
    "![](../bioexplorer_neuromodulation_banner.png)"
   ]
  },
  {
   "cell_type": "markdown",
   "id": "ac3c2bbd",
   "metadata": {},
   "source": [
    "## Visualization of a microtubule"
   ]
  },
  {
   "cell_type": "code",
   "execution_count": null,
   "id": "eeff036f",
   "metadata": {},
   "outputs": [],
   "source": [
    "from bioexplorer import BioExplorer, Volume, Protein, AnimationParams, Vector3, Quaternion\n",
    "\n",
    "be = BioExplorer('localhost:5000')\n",
    "core = be.core_api()\n",
    "status = be.reset_scene()"
   ]
  },
  {
   "cell_type": "markdown",
   "id": "c9f34251",
   "metadata": {},
   "source": [
    "### Resources"
   ]
  },
  {
   "cell_type": "code",
   "execution_count": null,
   "id": "addafa59",
   "metadata": {},
   "outputs": [],
   "source": [
    "resource_folder = '../../tests/test_files/'\n",
    "pdb_folder = resource_folder + 'pdb/'\n",
    "obj_folder = resource_folder + 'obj/'\n",
    "membrane_folder = pdb_folder + 'membrane/'\n",
    "lipids_folder = membrane_folder + 'lipids/'\n",
    "transporters_folder = pdb_folder + 'transporters/'\n",
    "tubules_folder = pdb_folder + 'tubules/'\n",
    "\n",
    "representation = be.REPRESENTATION_ATOMS_AND_STICKS\n",
    "\n",
    "scale = 1000.0"
   ]
  },
  {
   "cell_type": "code",
   "execution_count": null,
   "metadata": {},
   "outputs": [],
   "source": [
    "import numpy as np\n",
    "import quaternion\n",
    "import math\n",
    "from bioexplorer import MovieMaker\n",
    "\n",
    "index = 4\n",
    "\n",
    "def createFromAxisAngle(axis, angle):\n",
    "    halfAngle = angle * 0.5\n",
    "    s = math.sin(halfAngle)\n",
    "    return quaternion.quaternion(axis[0] * s, axis[1] * s, axis[2] * s, math.cos(halfAngle))\n",
    "\n",
    "\n",
    "def lookAt(sourcePoint, destPoint):\n",
    "    forward = np.array([0.0, 0.0, 1.0])\n",
    "    forwardVector = np.subtract(destPoint, sourcePoint)\n",
    "    forwardVector = forwardVector / np.sqrt(np.sum(forwardVector**2))\n",
    "    dot = np.dot(forward, forwardVector)\n",
    "    angle = math.acos(dot)\n",
    "    axis = np.cross(forward, forwardVector)\n",
    "    axis = axis / np.sqrt(np.sum(axis**2))\n",
    "    return createFromAxisAngle(axis, angle)\n",
    "\n",
    "points = be.get_neuron_section_points('Neuron', 4, 0)\n",
    "p0 = points[index]\n",
    "p1 = points[index + 1]\n",
    "print(p0)\n",
    "print(p1)\n",
    "\n",
    "src = np.array(p0[:3])\n",
    "dst = np.array(p1[:3])\n",
    "q = lookAt(src, dst)\n",
    "Q = Quaternion(q.w, q.x, q.y, q.z)\n",
    "print(Q)\n",
    "\n",
    "mm = MovieMaker(be)\n",
    "forwardVector = np.subtract(dst, src)\n",
    "forward_length = np.sqrt(np.sum(forwardVector**2))\n",
    "mm.set_camera(origin=p0, direction=list(forwardVector[:3]), up=[0,1,0])\n",
    "core.set_renderer()\n"
   ]
  },
  {
   "cell_type": "code",
   "execution_count": null,
   "metadata": {},
   "outputs": [],
   "source": [
    "# be.add_sphere(name='test', position=Vector3(p0[0], p0[1], p0[2]), radius=0.7 * scale, color=Vector3(1,1,1))\n",
    "# be.add_sphere(name='test', position=Vector3(p1[0], p1[1], p1[2]), radius=0.7 * scale, color=Vector3(1,1,1))"
   ]
  },
  {
   "cell_type": "code",
   "execution_count": null,
   "id": "039b5da0",
   "metadata": {},
   "outputs": [],
   "source": [
    "import random\n",
    "\n",
    "size  = Vector3(5.0, forward_length, 0.0)\n",
    "for i in range(5):\n",
    "    position = Vector3(\n",
    "        p0[0] + random.randint(-scale / 20.0, scale / 20.0),\n",
    "        p0[1] + random.randint(-scale / 20.0, scale / 20.0),\n",
    "        p0[2] + random.randint(-scale / 20.0, scale / 20.0))\n",
    "    name = 'Microtubule%05d' % i\n",
    "\n",
    "    # ACE2 receptor definition\n",
    "    tubule = Protein(\n",
    "        name=name + '_TUB',\n",
    "        source=tubules_folder + '1tub.pdb', \n",
    "        rotation=Quaternion(0.0, 0.0, 0.707, 0.707),\n",
    "        occurences=size.y * 5.0)\n",
    "\n",
    "    volume = Volume(\n",
    "        name=name,\n",
    "        shape=be.ASSEMBLY_SHAPE_HELIX, shape_params=size,\n",
    "        protein=tubule)\n",
    "\n",
    "    status = be.add_volume(\n",
    "        position=position,\n",
    "        rotation=Quaternion( 0.212,    0.700,   -0.231,    0.642),\n",
    "        volume=volume)\n",
    "\n",
    "    status = be.set_protein_color_scheme(\n",
    "        assembly_name=name,\n",
    "        name=name + '_TUB',\n",
    "        color_scheme=be.COLOR_SCHEME_CHAINS,\n",
    "        palette_name='Set2', palette_size=5)\n",
    "core.set_renderer()"
   ]
  },
  {
   "cell_type": "code",
   "execution_count": null,
   "metadata": {},
   "outputs": [],
   "source": [
    "be.reset_camera()\n",
    "core.set_renderer()"
   ]
  },
  {
   "cell_type": "code",
   "execution_count": null,
   "metadata": {},
   "outputs": [],
   "source": [
    "core.set_camera(\n",
    "    orientation=[0.0, 0.0, 0.0, 1.0],\n",
    "    position=[27451.090107478147, 195917.513949172, 38855.97730085014],\n",
    "    target=[27451.090107478147, 195917.513949172, 38338.56432876815],    \n",
    ")"
   ]
  },
  {
   "cell_type": "markdown",
   "id": "b522863a",
   "metadata": {},
   "source": [
    "## Rendering settings"
   ]
  },
  {
   "cell_type": "code",
   "execution_count": null,
   "id": "034c40ec",
   "metadata": {},
   "outputs": [],
   "source": [
    "status = be.reset_camera()\n",
    "status = be.set_rendering_quality(be.RENDERING_QUALITY_HIGH)"
   ]
  },
  {
   "cell_type": "code",
   "execution_count": null,
   "metadata": {},
   "outputs": [],
   "source": [
    "from bioexplorer import MovieMaker\n",
    "mm = MovieMaker(be)\n",
    "mm.create_snapshot(\n",
    "    renderer='bio_explorer',\n",
    "    path='/tmp', base_name='neuromodulation_4k_v1',\n",
    "    size=[4 * 960, 4 * 540], samples_per_pixel=64)"
   ]
  }
 ],
 "metadata": {
  "kernelspec": {
   "display_name": "Python 3.8.10 ('env')",
   "language": "python",
   "name": "python3"
  },
  "language_info": {
   "codemirror_mode": {
    "name": "ipython",
    "version": 3
   },
   "file_extension": ".py",
   "mimetype": "text/x-python",
   "name": "python",
   "nbconvert_exporter": "python",
   "pygments_lexer": "ipython3",
   "version": "3.8.10"
  },
  "vscode": {
   "interpreter": {
    "hash": "ea9a5fa46eb6bad2806a8ea1d08e15bb1e255a2d4320b81e765591579963c56b"
   }
  }
 },
 "nbformat": 4,
 "nbformat_minor": 4
}
