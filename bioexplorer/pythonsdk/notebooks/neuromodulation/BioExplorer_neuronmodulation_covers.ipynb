{
    "cells": [
        {
            "cell_type": "markdown",
            "id": "f992ef9f",
            "metadata": {},
            "source": [
                "# Blue Brain BioExplorer - Neuronmodulation covers\n",
                "![](../bioexplorer_neuromodulation_banner.png)"
            ]
        },
        {
            "cell_type": "markdown",
            "metadata": {},
            "source": [
                "### Connect to back-end"
            ]
        },
        {
            "cell_type": "code",
            "execution_count": null,
            "metadata": {
                "scrolled": false
            },
            "outputs": [],
            "source": [
                "from bioexplorer import BioExplorer, Vector3\n",
                "\n",
                "url = 'localhost:5000'\n",
                "be = BioExplorer(url)\n",
                "core = be.core_api()\n",
                "status = be.reset_scene()\n",
                "\n",
                "scale = Vector3(1000, 1000, 1000)\n",
                "varicosity = Vector3(59.711, 1085.713, 334.307)\n",
                "output_folder = '/tmp'"
            ]
        },
        {
            "cell_type": "code",
            "execution_count": null,
            "metadata": {},
            "outputs": [],
            "source": [
                "import os\n",
                "from sqlalchemy import create_engine\n",
                "from sqlalchemy.orm import Session\n",
                "from tqdm.notebook import tqdm\n",
                "\n",
                "db_host = os.getenv('DB_HOST')\n",
                "db_name = os.getenv('DB_NAME')\n",
                "db_user = os.getenv('DB_USER')\n",
                "db_password = os.getenv('DB_PASSWORD')\n",
                "db_schema = 'o1'\n",
                "\n",
                "db_connection_string = 'postgresql+psycopg2://%s:%s@%s:5432/%s' % (db_user, db_password, db_host, db_name)\n",
                "print('Connection string: ' + db_connection_string + ', schema: ' + db_schema)\n",
                "\n",
                "engine = create_engine(db_connection_string)\n",
                "conn = engine.connect()"
            ]
        },
        {
            "cell_type": "markdown",
            "metadata": {},
            "source": [
                "### Load neurons"
            ]
        },
        {
            "cell_type": "code",
            "execution_count": null,
            "metadata": {},
            "outputs": [],
            "source": [
                "presynaptic_neuron_id = 47211\n",
                "neuron_population_name = 'o1'\n",
                "\n",
                "presynaptic_assembly_name = 'PreSynaptic Neuron'\n",
                "be.remove_assembly(presynaptic_assembly_name)\n",
                "neurons_assembly = be.add_assembly(presynaptic_assembly_name)\n",
                "status = be.add_neurons(\n",
                "    assembly_name=presynaptic_assembly_name,\n",
                "    population_name=neuron_population_name,\n",
                "    morphology_representation=be.morphology_representation.SEGMENT,\n",
                "    morphology_color_scheme=be.morphology_color_scheme.SECTION_TYPE,\n",
                "    realism_level=be.morphology_realism_level.ALL,\n",
                "    synapses_type=be.neuron_synapse_type.AFFERENT, generate_varicosities=True,\n",
                "    load_somas=True, load_axon=True, show_membrane=True,\n",
                "    load_basal_dendrites=True, load_apical_dendrites=True,\n",
                "    generate_internals=True, generate_externals=False,\n",
                "    sql_node_filter='guid=%d' % presynaptic_neuron_id,\n",
                "    scale=scale\n",
                ")"
            ]
        },
        {
            "cell_type": "code",
            "execution_count": null,
            "metadata": {},
            "outputs": [],
            "source": [
                "postsynaptic_neuron_id = 49\n",
                "postsynaptic_assembly_name = 'PostSynaptic Neuron'\n",
                "be.remove_assembly(postsynaptic_assembly_name)\n",
                "neurons_assembly = be.add_assembly(postsynaptic_assembly_name)\n",
                "\n",
                "with Session(engine) as session:\n",
                "    data = session.execute('SELECT x,y,z FROM %s.node WHERE guid=%d' % (db_schema, postsynaptic_neuron_id))\n",
                "    soma_position = data.all()[0]\n",
                "\n",
                "status = be.add_neurons(\n",
                "    assembly_name=postsynaptic_assembly_name,\n",
                "    population_name=neuron_population_name,\n",
                "    morphology_representation=be.morphology_representation.SEGMENT,\n",
                "    morphology_color_scheme=be.morphology_color_scheme.SECTION_TYPE,\n",
                "    realism_level=be.morphology_realism_level.ALL,\n",
                "    synapses_type=be.neuron_synapse_type.AFFERENT, generate_varicosities=True,\n",
                "    load_somas=True, load_axon=True, show_membrane=True,\n",
                "    load_basal_dendrites=True, load_apical_dendrites=True,\n",
                "    generate_internals=True, generate_externals=False,\n",
                "    sql_node_filter='guid=%d' % postsynaptic_neuron_id,\n",
                "    scale=scale\n",
                ")\n",
                "\n",
                "model_ids = be.get_model_ids()['ids']\n",
                "model_id = model_ids[len(model_ids)-1]\n",
                "tf = {\n",
                "    'rotation': [0.0, 0.0, 0.0, 1.0], \n",
                "    'rotation_center': [0.0, 0.0, 0.0], \n",
                "    'scale': [1.0, 1.0, 1.0], \n",
                "    'translation': [\n",
                "        scale.x * (varicosity.x - soma_position[0] - 0),\n",
                "        scale.y * (varicosity.y - soma_position[1] - 0),\n",
                "        scale.z * (varicosity.z - soma_position[2] - 7),\n",
                "    ]\n",
                "}\n",
                "core.update_model(id=model_id, transformation=tf)"
            ]
        },
        {
            "cell_type": "code",
            "execution_count": null,
            "metadata": {},
            "outputs": [],
            "source": [
                "vasculature_assembly_name = 'Vasculature'\n",
                "vasculature_population_name = 'vasculature'\n",
                "be.remove_assembly(vasculature_assembly_name)\n",
                "vasculature_assembly = be.add_assembly(vasculature_assembly_name)\n",
                "vasculature_model = be.add_vasculature(\n",
                "    assembly_name=vasculature_assembly_name,\n",
                "    population_name=vasculature_population_name,\n",
                "    realism_level=be.morphology_realism_level.ALL,\n",
                "    sql_filter='sqrt(pow(x - %f, 2) + pow(y - %f, 2) + pow(z - %f, 2)) < 200' % (varicosity.x, varicosity.y, varicosity.z),\n",
                "    scale=scale\n",
                ")"
            ]
        },
        {
            "cell_type": "code",
            "execution_count": null,
            "metadata": {},
            "outputs": [],
            "source": [
                "astrocytes_assembly_name = 'Astrocytes'\n",
                "astrocytes_population_name = 'astrocytes'\n",
                "connectome_population_name = 'connectome'\n",
                "be.remove_assembly(astrocytes_assembly_name)\n",
                "astrocytes_assembly = be.add_assembly(astrocytes_assembly_name)\n",
                "astrocytes_model = be.add_astrocytes(\n",
                "    assembly_name=astrocytes_assembly_name,\n",
                "    population_name=astrocytes_population_name,\n",
                "    vasculature_population_name=vasculature_population_name,\n",
                "    connectome_population_name=connectome_population_name,\n",
                "    radius_multiplier=0.5,\n",
                "    realism_level=be.morphology_realism_level.ALL,\n",
                "    generate_internals=True, load_somas=True, load_dendrites=True,\n",
                "    sql_filter='sqrt(pow(x - %f, 2) + pow(y - %f, 2) + pow(z - %f, 2)) < 200 AND guid%%3=0' % (varicosity.x, varicosity.y, varicosity.z),\n",
                "    scale=scale)\n"
            ]
        },
        {
            "cell_type": "code",
            "execution_count": null,
            "metadata": {},
            "outputs": [],
            "source": [
                "from bioexplorer import Protein, Volume, MolecularSystemAnimationParams\n",
                "\n",
                "resource_folder = os.path.abspath('../../tests/test_files')\n",
                "pdb_folder = os.path.join(resource_folder, 'pdb')\n",
                "acetylcholin_path = os.path.join(pdb_folder, 'neuromodulation', 'acetylcholin.pdb')\n",
                "\n",
                "def add_acetylcholin(radius, nb_molecules, radius_multiplier, frame=0):\n",
                "    protein_representation = be.protein_representation.ATOMS\n",
                "\n",
                "    acetylcholin_assembly_name = 'Acetylcholin'\n",
                "    acetylcholin_name = 'Acetylcholin'\n",
                "    \n",
                "    acetylcholin_position = Vector3(\n",
                "        scale.x * varicosity.x,\n",
                "        scale.y * varicosity.y,\n",
                "        scale.z * varicosity.z)\n",
                "\n",
                "    acetylcholin = Protein(\n",
                "        name=acetylcholin_name, \n",
                "        source=acetylcholin_path,\n",
                "        load_non_polymer_chemicals=True, load_bonds=True, load_hydrogen=True,\n",
                "        occurrences=nb_molecules,\n",
                "        animation_params=MolecularSystemAnimationParams(3, (frame + 1) * 2, 0.5, (frame + 2) * 2, 1.0)\n",
                "    )\n",
                "    volume = Volume(\n",
                "        name=acetylcholin_assembly_name,\n",
                "        shape=be.assembly_shape.FILLED_SPHERE,\n",
                "        shape_params=Vector3(radius, 0.0, 0.0),\n",
                "        protein=acetylcholin)\n",
                "    be.add_volume(\n",
                "        volume=volume, \n",
                "        representation=protein_representation,\n",
                "        position=acetylcholin_position,\n",
                "        atom_radius_multiplier=radius_multiplier)\n"
            ]
        },
        {
            "cell_type": "code",
            "execution_count": null,
            "metadata": {},
            "outputs": [],
            "source": [
                "add_acetylcholin(scale.x * 2.0, 500000, 30.0)"
            ]
        },
        {
            "cell_type": "markdown",
            "metadata": {},
            "source": [
                "### Materials"
            ]
        },
        {
            "cell_type": "code",
            "execution_count": null,
            "metadata": {},
            "outputs": [],
            "source": [
                "import seaborn as sns\n",
                "def set_morphology_materials(model_id, palette_name, palette_size, shading_mode, glossiness=1.0, emission=0.0, user_param=1.0):\n",
                "    colors = list()\n",
                "    opacities = list()\n",
                "    refraction_indices = list()\n",
                "    specular_exponents = list()\n",
                "    shading_modes = list()\n",
                "    user_params = list()\n",
                "    glossinesses = list()\n",
                "    emissions = list()\n",
                "    \n",
                "    material_ids = be.get_material_ids(model_id)['ids']\n",
                "    palette = sns.color_palette(palette_name, palette_size)\n",
                "\n",
                "    for material_id in material_ids:\n",
                "        mid = material_id % palette_size\n",
                "        if mid == [be.neuron_material.AFFERENT_SYNAPSE, be.neuron_material.EFFERENT_SYNAPSE]:\n",
                "            colors.append(palette[0])\n",
                "            opacities.append(1.0)\n",
                "            shading_modes.append(shading_mode)\n",
                "            glossinesses.append(glossiness)\n",
                "            specular_exponents.append(5.0)\n",
                "        elif mid == be.neuron_material.MITOCHONDRION:\n",
                "            colors.append([0.5, 0.1, 0.6])\n",
                "            opacities.append(1.0)\n",
                "            shading_modes.append(shading_mode)\n",
                "            glossinesses.append(glossiness)\n",
                "            specular_exponents.append(6.0)\n",
                "        elif mid == be.neuron_material.NUCLEUS:\n",
                "            colors.append([1.0, 1.0, 1.0])\n",
                "            opacities.append(1.0)\n",
                "            shading_modes.append(shading_mode)\n",
                "            glossinesses.append(glossiness)\n",
                "            specular_exponents.append(30.0)\n",
                "        elif mid == be.neuron_material.SOMA:\n",
                "            colors.append(palette[0])\n",
                "            opacities.append(1.0)\n",
                "            shading_modes.append(shading_mode)\n",
                "            glossinesses.append(glossiness)\n",
                "            specular_exponents.append(5.0)\n",
                "        elif mid == be.neuron_material.MYELIN_SHEATH:\n",
                "            colors.append([0.4, 0.3, 0.5])\n",
                "            opacities.append(1.0)\n",
                "            shading_modes.append(shading_mode)\n",
                "            glossinesses.append(glossiness)\n",
                "            specular_exponents.append(50.0)\n",
                "        else:\n",
                "            # Membrane\n",
                "            colors.append(palette[0])\n",
                "            opacities.append(1.0)\n",
                "            shading_modes.append(shading_mode)\n",
                "            glossinesses.append(glossiness)\n",
                "            specular_exponents.append(5.0)\n",
                "            \n",
                "        refraction_indices.append(1.0)\n",
                "        emissions.append(emission)\n",
                "        user_params.append(user_param)\n",
                "        \n",
                "    be.set_materials(\n",
                "        model_ids=[model_id], material_ids=material_ids,\n",
                "        diffuse_colors=colors, specular_colors=colors,\n",
                "        opacities=opacities, refraction_indices=refraction_indices,\n",
                "        shading_modes=shading_modes, specular_exponents=specular_exponents,\n",
                "        user_parameters=user_params, glossinesses=glossinesses,\n",
                "        emissions=emissions\n",
                "    )"
            ]
        },
        {
            "cell_type": "code",
            "execution_count": null,
            "metadata": {},
            "outputs": [],
            "source": [
                "def set_materials():\n",
                "    palettes = ['GnBu_r', 'PuRd', 'Set1', 'Wistia', 'Greys']\n",
                "    model_ids = be.get_model_ids()['ids']\n",
                "    i = 0\n",
                "    for model_id in model_ids:\n",
                "        emission = 0.0\n",
                "        if i==4:\n",
                "            emission = 1.0\n",
                "        set_morphology_materials(\n",
                "            model_id, palettes[i], be.NB_MATERIALS_PER_MORPHOLOGY,\n",
                "            be.shading_mode.PERLIN, 0.1, emission, 0.1 / scale.x)\n",
                "        i += 1\n",
                "    core.set_renderer()\n",
                "\n",
                "set_materials()"
            ]
        },
        {
            "cell_type": "code",
            "execution_count": null,
            "metadata": {},
            "outputs": [],
            "source": [
                "status = core.set_renderer(\n",
                "    background_color=[0.18, 0.43, 0.41],\n",
                "    current='advanced',subsampling=4, max_accum_frames=64)\n",
                "params = core.AdvancedRendererParams()\n",
                "params.fog_start = 1.0 * scale.x\n",
                "params.fog_thickness = 300.0 * scale.x\n",
                "params.gi_samples = 1\n",
                "params.gi_strength = 0.2\n",
                "params.gi_ray_length = 1.0 * scale.x\n",
                "params.shadow_intensity = 1.0\n",
                "params.soft_shadow_strength = 1.0\n",
                "params.epsilon_multiplier = 100.0\n",
                "params.max_ray_depth = 3\n",
                "params.show_background = False\n",
                "params.use_hardware_randomizer=True\n",
                "status = core.set_renderer_params(params)\n",
                "status = core.set_renderer()"
            ]
        },
        {
            "cell_type": "code",
            "execution_count": null,
            "metadata": {},
            "outputs": [],
            "source": [
                "core.set_camera(\n",
                "    orientation=[-0.070, 0.437, 0.220, 0.868],\n",
                "    position=[scale.x * 77.98042386871596, scale.y * 1091.834739623779, scale.z * 348.5927433943219],\n",
                "    target=[scale.x * 13.78747115930694, scale.y * 1064.041932405726, scale.z * 295.22463810933783]\n",
                ")"
            ]
        },
        {
            "cell_type": "markdown",
            "metadata": {},
            "source": [
                "## Snapshots"
            ]
        },
        {
            "cell_type": "code",
            "execution_count": null,
            "metadata": {},
            "outputs": [],
            "source": [
                "from bioexplorer import MovieMaker\n",
                "mm = MovieMaker(be)"
            ]
        },
        {
            "cell_type": "code",
            "execution_count": null,
            "metadata": {},
            "outputs": [],
            "source": [
                "core.set_camera(\n",
                "    orientation=[0.10042722106643472, 0.5480670250715927, 0.10408422725871022, 0.823834560414896],\n",
                "    position=[70884.91927496702, 1086726.4432583167, 338806.9308694824],\n",
                "    target=[2906.5292038353564, 1090506.7453414442, 310916.74450726254]\n",
                ")\n",
                "mm.create_snapshot(\n",
                "    renderer='advanced',\n",
                "    size=[3840, 2160], samples_per_pixel=64,\n",
                "    base_name='neuromodulation_%dx%d_v1' % (size[0], size[1]),\n",
                "    path=output_folder)"
            ]
        },
        {
            "cell_type": "code",
            "execution_count": null,
            "metadata": {},
            "outputs": [],
            "source": [
                "add_acetylcholin(scale.x * 2.0, 10000000, 1.0)"
            ]
        },
        {
            "cell_type": "code",
            "execution_count": null,
            "metadata": {},
            "outputs": [],
            "source": [
                "core.set_camera(\n",
                "    orientation=[0.11414384254134172, 0.3981421943009997, 0.08577072175808344, 0.9061442267190032],\n",
                "    position=[60426.19242247517, 1086103.9795371932, 336060.44751665404],\n",
                "    target=[15423.078123496032, 1094517.896698822, 296171.4300538681]\n",
                ")\n",
                "\n",
                "mm.create_snapshot(\n",
                "    renderer='advanced',\n",
                "    size=[3840, 2160], samples_per_pixel=64,\n",
                "    base_name='neuromodulation_%dx%d_v2' % (size[0], size[1]),\n",
                "    path=output_folder)"
            ]
        },
        {
            "cell_type": "code",
            "execution_count": null,
            "metadata": {},
            "outputs": [],
            "source": [
                "core.set_camera(\n",
                "    orientation=[-0.08616460361504102, 0.5168722715162748, 0.2108410708440709,0.8252058887737016],\n",
                "    position=[73092.67928336751, 1091013.0323442845, 339637.27257494023],\n",
                "    target=[9012.827321822671, 1062754.583344163, 304264.48103967734],    \n",
                ")\n",
                "\n",
                "mm.create_snapshot(\n",
                "    renderer='advanced',\n",
                "    size=[3840, 2160], samples_per_pixel=64,\n",
                "    base_name='neuromodulation_%dx%d_v3' % (size[0], size[1]),\n",
                "    path=output_folder)"
            ]
        },
        {
            "cell_type": "code",
            "execution_count": null,
            "metadata": {},
            "outputs": [],
            "source": [
                "core.set_camera(\n",
                "    orientation=[0.11168463198861378, 0.4756995788056184, 0.09304005355047734, 0.8675136898845167],\n",
                "    position=[93057.10494369318, 1081509.836538513, 352380.7404783915],\n",
                "    target=[11963.415460410512, 1091597.755994066, 302306.8141172933]\n",
                ")\n",
                "\n",
                "mm.create_snapshot(\n",
                "    renderer='advanced',\n",
                "    size=[3840, 2160], samples_per_pixel=64,\n",
                "    base_name='neuromodulation_%dx%d_v4' % (size[0], size[1]),\n",
                "    path=output_folder)"
            ]
        },
        {
            "cell_type": "markdown",
            "metadata": {},
            "source": [
                "## Movie"
            ]
        },
        {
            "cell_type": "code",
            "execution_count": null,
            "metadata": {},
            "outputs": [],
            "source": [
                "key_frames = [\n",
                "    {\n",
                "        'apertureRadius': 0.0,\n",
                "        'direction': [-0.7576676115295892, -0.32993750640608055, -0.5630994870407762],\n",
                "        'focalDistance': 1000000.0,\n",
                "        'origin': [60587.346422678995, 1086165.1404973788, 333836.0443882473],\n",
                "        'up': [-0.4397732093712237, 0.8956089880936011, 0.06696315976183911]\n",
                "    }\n",
                "     ,\n",
                "    {\n",
                "        'apertureRadius': 0.0,\n",
                "        'direction': [-0.8371737098698813, -0.37502167711053114, -0.39811922987957327],\n",
                "        'focalDistance': 1000000.0,\n",
                "        'origin': [68429.12995521477, 1089034.4591921489, 336340.9125636818],\n",
                "        'up': [-0.42932080875343503, 0.9015645158280192, 0.05352632035817306]\n",
                "    }\n",
                "]\n",
                "\n",
                "mm.build_camera_path(key_frames, 100, 100)"
            ]
        },
        {
            "cell_type": "code",
            "execution_count": null,
            "metadata": {},
            "outputs": [],
            "source": [
                "from tqdm import tqdm\n",
                "\n",
                "draft = False\n",
                "atom_radius_multiplier = 2.0\n",
                "nb_molecules = 5000000\n",
                "\n",
                "nb_frames = mm.get_nb_frames()\n",
                "for frame in tqdm(range(nb_frames)):\n",
                "    add_acetylcholin(scale.x * (0.88 + frame / nb_frames), nb_molecules, atom_radius_multiplier, frame)\n",
                "    mm.set_current_frame(frame)\n",
                "    if draft:\n",
                "        core.set_renderer()\n",
                "        import time\n",
                "        time.sleep(0.1)\n",
                "    else:\n",
                "        mm.create_snapshot(\n",
                "            renderer='depth',\n",
                "            size=[3840, 2160], samples_per_pixel=2,\n",
                "            base_name='%05d' % frame,\n",
                "            path=os.path.join(output_folder, 'depth'))\n",
                "\n",
                "        mm.create_snapshot(\n",
                "            renderer='advanced',\n",
                "            size=[3840, 2160], samples_per_pixel=64,\n",
                "            base_name='%05d' % frame,\n",
                "            path=os.path.join(output_folder, 'bio_explorer'))"
            ]
        }
    ],
    "metadata": {
        "interpreter": {
            "hash": "ea9a5fa46eb6bad2806a8ea1d08e15bb1e255a2d4320b81e765591579963c56b"
        },
        "kernelspec": {
            "display_name": "Python 3.8.10 64-bit ('env': venv)",
            "language": "python",
            "name": "python3"
        },
        "language_info": {
            "codemirror_mode": {
                "name": "ipython",
                "version": 3
            },
            "file_extension": ".py",
            "mimetype": "text/x-python",
            "name": "python",
            "nbconvert_exporter": "python",
            "pygments_lexer": "ipython3",
            "version": "3.10.12"
        }
    },
    "nbformat": 4,
    "nbformat_minor": 5
}
