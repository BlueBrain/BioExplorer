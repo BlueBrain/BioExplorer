{
 "cells": [
  {
   "cell_type": "markdown",
   "id": "f992ef9f",
   "metadata": {},
   "source": [
    "# BioExplorer - Neuronmodulation covers\n",
    "![](../bioexplorer_neurons_banner.png)"
   ]
  },
  {
   "cell_type": "markdown",
   "metadata": {},
   "source": [
    "### Connect to back-end"
   ]
  },
  {
   "cell_type": "code",
   "execution_count": null,
   "metadata": {
    "scrolled": false
   },
   "outputs": [],
   "source": [
    "from bioexplorer import BioExplorer, Vector3\n",
    "\n",
    "url = 'localhost:5000'\n",
    "be = BioExplorer(url)\n",
    "\n",
    "core = be.core_api()\n",
    "status = be.reset_scene()\n",
    "\n",
    "scale = Vector3(1000, 1000, 1000)\n",
    "varicosity = Vector3(60.161, 1085.713, 334.607)\n"
   ]
  },
  {
   "cell_type": "code",
   "execution_count": null,
   "metadata": {},
   "outputs": [],
   "source": [
    "import os\n",
    "from sqlalchemy import create_engine\n",
    "from sqlalchemy.orm import Session\n",
    "from tqdm.notebook import tqdm\n",
    "\n",
    "db_host = os.getenv('DB_HOST')\n",
    "db_name = os.getenv('DB_NAME')\n",
    "db_user = os.getenv('DB_USER')\n",
    "db_password = os.getenv('DB_PASSWORD')\n",
    "db_schema = 'o1'\n",
    "\n",
    "db_connection_string = 'postgresql+psycopg2://%s:%s@%s:5432/%s' % (db_user, db_password, db_host, db_name)\n",
    "print('Connection string: ' + db_connection_string + ', schema: ' + db_schema)\n",
    "\n",
    "engine = create_engine(db_connection_string)\n",
    "conn = engine.connect()"
   ]
  },
  {
   "cell_type": "markdown",
   "metadata": {},
   "source": [
    "### Load neurons"
   ]
  },
  {
   "cell_type": "code",
   "execution_count": null,
   "metadata": {},
   "outputs": [],
   "source": [
    "presynaptic_neuron_id = 47211\n",
    "neuron_population_name = 'o1'\n",
    "\n",
    "presynaptic_assembly_name = 'PreSynaptic Neuron'\n",
    "be.remove_assembly(presynaptic_assembly_name)\n",
    "neurons_assembly = be.add_assembly(presynaptic_assembly_name)\n",
    "status = be.add_neurons(\n",
    "    assembly_name=presynaptic_assembly_name,\n",
    "    population_name=neuron_population_name,\n",
    "    geometry_quality=be.GEOMETRY_QUALITY_MEDIUM,\n",
    "    morphology_color_scheme=be.MORPHOLOGY_COLOR_SCHEME_SECTION,\n",
    "    use_sdf=True, load_synapses=True, generate_varicosities=True,\n",
    "    load_somas=True, load_axon=True, show_membrane=True,\n",
    "    load_basal_dendrites=True, load_apical_dendrites=True,\n",
    "    generate_internals=True, generate_externals=False,\n",
    "    sql_node_filter='guid=%d' % presynaptic_neuron_id,\n",
    "    scale=scale\n",
    ")"
   ]
  },
  {
   "cell_type": "code",
   "execution_count": null,
   "metadata": {},
   "outputs": [],
   "source": [
    "postsynaptic_neuron_id = 49\n",
    "postsynaptic_assembly_name = 'PostSynaptic Neuron'\n",
    "be.remove_assembly(postsynaptic_assembly_name)\n",
    "neurons_assembly = be.add_assembly(postsynaptic_assembly_name)\n",
    "\n",
    "with Session(engine) as session:\n",
    "    data = session.execute('SELECT x,y,z FROM %s.node WHERE guid=%d' % (db_schema, postsynaptic_neuron_id))\n",
    "    soma_position = data.all()[0]\n",
    "\n",
    "status = be.add_neurons(\n",
    "    assembly_name=postsynaptic_assembly_name,\n",
    "    population_name=neuron_population_name,\n",
    "    geometry_quality=be.GEOMETRY_QUALITY_MEDIUM,\n",
    "    morphology_color_scheme=be.MORPHOLOGY_COLOR_SCHEME_SECTION,\n",
    "    use_sdf=True, load_synapses=True, generate_varicosities=True,\n",
    "    load_somas=True, load_axon=True, show_membrane=True,\n",
    "    load_basal_dendrites=True, load_apical_dendrites=True,\n",
    "    generate_internals=True, generate_externals=False,\n",
    "    sql_node_filter='guid=%d' % postsynaptic_neuron_id,\n",
    "    scale=scale\n",
    ")\n",
    "\n",
    "model_ids = be.get_model_ids()['ids']\n",
    "model_id = model_ids[len(model_ids)-1]\n",
    "tf = {\n",
    "    'rotation': [0.0, 0.0, 0.0, 1.0], \n",
    "    'rotation_center': [0.0, 0.0, 0.0], \n",
    "    'scale': [1.0, 1.0, 1.0], \n",
    "    'translation': [\n",
    "        scale.x * (varicosity.x - soma_position[0] - 0),\n",
    "        scale.y * (varicosity.y - soma_position[1] - 0),\n",
    "        scale.z * (varicosity.z - soma_position[2] - 7),\n",
    "    ]\n",
    "}\n",
    "core.update_model(id=model_id, transformation=tf)"
   ]
  },
  {
   "cell_type": "code",
   "execution_count": null,
   "metadata": {},
   "outputs": [],
   "source": [
    "vasculature_assembly_name = 'Vasculature'\n",
    "vasculature_population_name = 'vasculature'\n",
    "be.remove_assembly(vasculature_assembly_name)\n",
    "vasculature_assembly = be.add_assembly(vasculature_assembly_name)\n",
    "vasculature_model = be.add_vasculature(\n",
    "    assembly_name=vasculature_assembly_name,\n",
    "    population_name=vasculature_population_name,\n",
    "    use_sdf=True,\n",
    "    quality=be.GEOMETRY_QUALITY_MEDIUM,\n",
    "    sql_filter='sqrt(pow(x - %f, 2) + pow(y - %f, 2) + pow(z - %f, 2)) < 200' % (varicosity.x, varicosity.y, varicosity.z),\n",
    "    scale=scale\n",
    ")"
   ]
  },
  {
   "cell_type": "code",
   "execution_count": null,
   "metadata": {},
   "outputs": [],
   "source": [
    "astrocytes_assembly_name = 'Astrocytes'\n",
    "be.remove_assembly(astrocytes_assembly_name)\n",
    "astrocytes_assembly = be.add_assembly(astrocytes_assembly_name)\n",
    "astrocytes_model = be.add_astrocytes(\n",
    "    assembly_name=astrocytes_assembly_name,\n",
    "    population_name=vasculature_population_name,\n",
    "    vasculature_population_name=vasculature_population_name,\n",
    "    radius_multiplier=0.5,\n",
    "    use_sdf=True, generate_internals=True,\n",
    "    load_somas=True, load_dendrites=True,\n",
    "    sql_filter='sqrt(pow(x - %f, 2) + pow(y - %f, 2) + pow(z - %f, 2)) < 200 AND guid%%3=0' % (varicosity.x, varicosity.y, varicosity.z),\n",
    "    scale=scale)\n"
   ]
  },
  {
   "cell_type": "code",
   "execution_count": null,
   "metadata": {},
   "outputs": [],
   "source": [
    "from bioexplorer import Protein, Volume, AnimationParams\n",
    "\n",
    "resource_folder = '../../tests/test_files/'\n",
    "pdb_folder = os.path.join(resource_folder, 'pdb')\n",
    "acetylcholin_path = os.path.join(pdb_folder, 'neuromodulation', 'acetylcholin.pdb')\n",
    "\n",
    "def add_acetylcholin(nb_molecules, radius_multiplier):\n",
    "    protein_representation = be.REPRESENTATION_ATOMS\n",
    "\n",
    "    acetylcholin_assembly_name = 'Acetylcholin'\n",
    "    acetylcholin_name = 'Acetylcholin'\n",
    "    acetylcholin_position = Vector3(\n",
    "        scale.x * varicosity.x,\n",
    "        scale.y * varicosity.y,\n",
    "        scale.z * varicosity.z)\n",
    "    acetylcholin = Protein(\n",
    "        name=acetylcholin_name, \n",
    "        source=acetylcholin_path,\n",
    "        load_non_polymer_chemicals=True, load_bonds=True, load_hydrogen=True,\n",
    "        occurences=nb_molecules,\n",
    "        animation_params=AnimationParams(3, 1, 0.5, 2, 1.0)\n",
    "    )\n",
    "    volume = Volume(\n",
    "        name=acetylcholin_assembly_name,\n",
    "        shape=be.ASSEMBLY_SHAPE_FILLED_SPHERE, shape_params=Vector3(scale.x * 2.0, 0.0, 0.0),\n",
    "        protein=acetylcholin)\n",
    "    be.add_volume(\n",
    "        volume=volume, \n",
    "        representation=protein_representation,\n",
    "        position=acetylcholin_position,\n",
    "        atom_radius_multiplier=radius_multiplier)\n"
   ]
  },
  {
   "cell_type": "code",
   "execution_count": null,
   "metadata": {},
   "outputs": [],
   "source": [
    "add_acetylcholin(500000, 30.0)"
   ]
  },
  {
   "cell_type": "markdown",
   "metadata": {},
   "source": [
    "### Materials"
   ]
  },
  {
   "cell_type": "code",
   "execution_count": null,
   "metadata": {},
   "outputs": [],
   "source": [
    "import seaborn as sns\n",
    "def set_morphology_materials(model_id, palette_name, palette_size, shading_mode, glossiness=1.0, emission=0.0):\n",
    "    colors = list()\n",
    "    opacities = list()\n",
    "    refraction_indices = list()\n",
    "    specular_exponents = list()\n",
    "    shading_modes = list()\n",
    "    user_params = list()\n",
    "    glossinesses = list()\n",
    "    emissions = list()\n",
    "    \n",
    "    material_ids = be.get_material_ids(model_id)['ids']\n",
    "    palette = sns.color_palette(palette_name, palette_size)\n",
    "\n",
    "    for material_id in material_ids:\n",
    "        mid = material_id % palette_size\n",
    "        if mid in [be.NEURON_MATERIAL_AFFERENT_SYNPASE, be.NEURON_MATERIAL_EFFERENT_SYNPASE]:\n",
    "            colors.append(palette[0])\n",
    "            opacities.append(1.0)\n",
    "            shading_modes.append(shading_mode)\n",
    "            glossinesses.append(glossiness)\n",
    "            specular_exponents.append(5.0)\n",
    "        elif mid == be.NEURON_MATERIAL_MITOCHONDRION:\n",
    "            colors.append([0.5, 0.1, 0.6])\n",
    "            opacities.append(1.0)\n",
    "            shading_modes.append(shading_mode)\n",
    "            glossinesses.append(glossiness)\n",
    "            specular_exponents.append(6.0)\n",
    "        elif mid == be.NEURON_MATERIAL_NUCLEUS:\n",
    "            colors.append([1.0, 1.0, 1.0])\n",
    "            opacities.append(1.0)\n",
    "            shading_modes.append(shading_mode)\n",
    "            glossinesses.append(glossiness)\n",
    "            specular_exponents.append(30.0)\n",
    "        elif mid == be.NEURON_MATERIAL_SOMA:\n",
    "            colors.append(palette[0])\n",
    "            opacities.append(1.0)\n",
    "            shading_modes.append(shading_mode)\n",
    "            glossinesses.append(glossiness)\n",
    "            specular_exponents.append(5.0)\n",
    "        elif mid == be.NEURON_MATERIAL_MYELIN_STEATH:\n",
    "            colors.append([0.4, 0.3, 0.5])\n",
    "            opacities.append(1.0)\n",
    "            shading_modes.append(shading_mode)\n",
    "            glossinesses.append(glossiness)\n",
    "            specular_exponents.append(50.0)\n",
    "        else:\n",
    "            # Membrane\n",
    "            colors.append(palette[0])\n",
    "            opacities.append(1.0)\n",
    "            shading_modes.append(shading_mode)\n",
    "            glossinesses.append(glossiness)\n",
    "            specular_exponents.append(5.0)\n",
    "            \n",
    "        refraction_indices.append(1.1)\n",
    "        emissions.append(emission)\n",
    "        user_params.append(0.1 / scale.x)\n",
    "        \n",
    "    be.set_materials(\n",
    "        model_ids=[model_id], material_ids=material_ids,\n",
    "        diffuse_colors=colors, specular_colors=colors,\n",
    "        opacities=opacities, refraction_indices=refraction_indices,\n",
    "        shading_modes=shading_modes, specular_exponents=specular_exponents,\n",
    "        user_parameters=user_params, glossinesses=glossinesses,\n",
    "        emissions=emissions\n",
    "    )"
   ]
  },
  {
   "cell_type": "code",
   "execution_count": null,
   "metadata": {},
   "outputs": [],
   "source": [
    "def set_materials():\n",
    "    palettes = ['GnBu_r', 'PuRd', 'Set1', 'Set3_r', 'Greys']\n",
    "    model_ids = be.get_model_ids()['ids']\n",
    "    i = 0\n",
    "    for model_id in model_ids:\n",
    "        emission = 0.0\n",
    "        if i==4:\n",
    "            emission = 1.0\n",
    "        set_morphology_materials(\n",
    "            model_id, palettes[i], be.NB_MATERIALS_PER_MORPHOLOGY, be.SHADING_MODE_PERLIN, 0.1, emission)\n",
    "        i += 1\n",
    "    core.set_renderer()\n",
    "\n",
    "set_materials()"
   ]
  },
  {
   "cell_type": "code",
   "execution_count": null,
   "metadata": {},
   "outputs": [],
   "source": [
    "status = core.set_renderer(\n",
    "    background_color=[0.18, 0.43, 0.41],\n",
    "    current='bio_explorer',subsampling=4, max_accum_frames=64)\n",
    "params = core.BioExplorerRendererParams()\n",
    "params.fog_start = 1.0 * scale.x\n",
    "params.fog_thickness = 300.0 * scale.x\n",
    "params.gi_samples = 1\n",
    "params.gi_weight = 0.2\n",
    "params.gi_distance = 10.0 * scale.x\n",
    "params.shadows = 1.0\n",
    "params.soft_shadows = 1.0\n",
    "params.epsilon_factor = 1000.0\n",
    "params.max_bounces = 3\n",
    "params.show_background = True\n",
    "params.show_background = False\n",
    "params.use_hardware_randomizer=True\n",
    "status = core.set_renderer_params(params)\n",
    "status = core.set_renderer()"
   ]
  },
  {
   "cell_type": "code",
   "execution_count": null,
   "metadata": {},
   "outputs": [],
   "source": [
    "core.set_camera(\n",
    "    orientation=[-0.070, 0.437, 0.220, 0.868],\n",
    "    position=[scale.x * 77.98042386871596, scale.y * 1091.834739623779, scale.z * 348.5927433943219],\n",
    "    target=[scale.x * 13.78747115930694, scale.y * 1064.041932405726, scale.z * 295.22463810933783]\n",
    ")"
   ]
  },
  {
   "cell_type": "markdown",
   "metadata": {},
   "source": [
    "## Snapshots"
   ]
  },
  {
   "cell_type": "code",
   "execution_count": null,
   "metadata": {},
   "outputs": [],
   "source": [
    "from bioexplorer import MovieMaker\n",
    "mm = MovieMaker(be)"
   ]
  },
  {
   "cell_type": "code",
   "execution_count": null,
   "metadata": {},
   "outputs": [],
   "source": [
    "core.set_camera(\n",
    "    orientation=[0.10042722106643472, 0.5480670250715927, 0.10408422725871022, 0.823834560414896],\n",
    "    position=[70884.91927496702, 1086726.4432583167, 338806.9308694824],\n",
    "    target=[2906.5292038353564, 1090506.7453414442, 310916.74450726254]\n",
    ")\n",
    "mm.create_snapshot(\n",
    "    renderer='bio_explorer',\n",
    "    size=[3840, 2160], samples_per_pixel=64,\n",
    "    base_name='neuromodulation_4k_v7',\n",
    "    path='/gpfs/bbp.cscs.ch/project/proj129/images/neuromodulation')"
   ]
  },
  {
   "cell_type": "code",
   "execution_count": null,
   "metadata": {},
   "outputs": [],
   "source": [
    "add_acetylcholin(10000000, 1.0)\n",
    "set_materials()"
   ]
  },
  {
   "cell_type": "code",
   "execution_count": null,
   "metadata": {},
   "outputs": [],
   "source": [
    "core.set_camera(\n",
    "    orientation=[0.11414384254134172, 0.3981421943009997, 0.08577072175808344, 0.9061442267190032],\n",
    "    position=[60426.19242247517, 1086103.9795371932, 336060.44751665404],\n",
    "    target=[15423.078123496032, 1094517.896698822, 296171.4300538681]\n",
    ")\n",
    "\n",
    "mm.create_snapshot(\n",
    "    renderer='bio_explorer',\n",
    "    size=[3840, 2160], samples_per_pixel=64,\n",
    "    base_name='neuromodulation_4k_v8',\n",
    "    path='/gpfs/bbp.cscs.ch/project/proj129/images/neuromodulation')"
   ]
  },
  {
   "cell_type": "code",
   "execution_count": null,
   "metadata": {},
   "outputs": [],
   "source": [
    "core.set_camera(\n",
    "    orientation=[-0.08616460361504102, 0.5168722715162748, 0.2108410708440709,0.8252058887737016],\n",
    "    position=[73092.67928336751, 1091013.0323442845, 339637.27257494023],\n",
    "    target=[9012.827321822671, 1062754.583344163, 304264.48103967734],    \n",
    ")\n",
    "mm.create_snapshot(\n",
    "    renderer='bio_explorer',\n",
    "    size=[3840, 2160], samples_per_pixel=64,\n",
    "    base_name='neuromodulation_4k_v9',\n",
    "    path='/gpfs/bbp.cscs.ch/project/proj129/images/neuromodulation')"
   ]
  },
  {
   "cell_type": "code",
   "execution_count": null,
   "metadata": {},
   "outputs": [],
   "source": [
    "core.set_camera(\n",
    "    orientation=[0.11168463198861378, 0.4756995788056184, 0.09304005355047734, 0.8675136898845167],\n",
    "    position=[93057.10494369318, 1081509.836538513, 352380.7404783915],\n",
    "    target=[11963.415460410512, 1091597.755994066, 302306.8141172933]\n",
    ")\n",
    "mm.create_snapshot(\n",
    "    renderer='bio_explorer',\n",
    "    size=[3840, 2160], samples_per_pixel=64,\n",
    "    base_name='neuromodulation_4k_v10',\n",
    "    path='/gpfs/bbp.cscs.ch/project/proj129/images/neuromodulation')"
   ]
  }
 ],
 "metadata": {
  "kernelspec": {
   "display_name": "Python 3 (ipykernel)",
   "language": "python",
   "name": "python3"
  },
  "language_info": {
   "codemirror_mode": {
    "name": "ipython",
    "version": 3
   },
   "file_extension": ".py",
   "mimetype": "text/x-python",
   "name": "python",
   "nbconvert_exporter": "python",
   "pygments_lexer": "ipython3",
   "version": "3.8.10"
  }
 },
 "nbformat": 4,
 "nbformat_minor": 2
}
