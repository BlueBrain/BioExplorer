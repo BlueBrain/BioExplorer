{
    "cells": [
        {
            "cell_type": "markdown",
            "id": "0864e08a",
            "metadata": {},
            "source": [
                "### Connect to back-end"
            ]
        },
        {
            "cell_type": "code",
            "execution_count": null,
            "id": "be36b1f4",
            "metadata": {
                "scrolled": false
            },
            "outputs": [],
            "source": [
                "from bioexplorer import BioExplorer, Vector3\n",
                "\n",
                "url = 'localhost:5000'\n",
                "be = BioExplorer(url)\n",
                "core = be.core_api()\n",
                "status = be.reset_scene()\n",
                "\n",
                "generate_internals = False"
            ]
        },
        {
            "cell_type": "code",
            "execution_count": null,
            "id": "ec4b5f41",
            "metadata": {},
            "outputs": [],
            "source": [
                "presynaptic_neuron_id = 47211\n",
                "postsynaptic_1_neuron_id = 47796\n"
            ]
        },
        {
            "cell_type": "code",
            "execution_count": null,
            "id": "c635c1a6",
            "metadata": {},
            "outputs": [],
            "source": [
                "import os\n",
                "from sqlalchemy import create_engine\n",
                "from sqlalchemy.orm import Session\n",
                "from tqdm.notebook import tqdm\n",
                "\n",
                "db_host = os.getenv('DB_HOST')\n",
                "db_name = os.getenv('DB_NAME')\n",
                "db_user = os.getenv('DB_USER')\n",
                "db_password = os.getenv('DB_PASSWORD')\n",
                "db_schema = 'o1'\n",
                "\n",
                "db_connection_string = 'postgresql+psycopg2://%s:%s@%s:5432/%s' % (db_user, db_password, db_host, db_name)\n",
                "print('Connection string: ' + db_connection_string + ', schema: ' + db_schema)\n",
                "\n",
                "engine = create_engine(db_connection_string)\n",
                "conn = engine.connect()"
            ]
        },
        {
            "cell_type": "markdown",
            "id": "8cfedd7d",
            "metadata": {},
            "source": [
                "### Load neurons"
            ]
        },
        {
            "cell_type": "code",
            "execution_count": null,
            "id": "0e2fb09b",
            "metadata": {},
            "outputs": [],
            "source": [
                "neuron_population_name = 'o1'\n",
                "\n",
                "presynaptic_assembly_name = 'PreSynaptic Neuron'\n",
                "be.remove_assembly(presynaptic_assembly_name)\n",
                "neurons_assembly = be.add_assembly(presynaptic_assembly_name)\n",
                "status = be.add_neurons(\n",
                "    assembly_name=presynaptic_assembly_name,\n",
                "    population_name=neuron_population_name,\n",
                "    morphology_representation=be.MORPHOLOGY_REPRESENTATION_SECTION,\n",
                "    morphology_color_scheme=be.MORPHOLOGY_COLOR_SCHEME_SECTION_TYPE,\n",
                "    use_sdf=True, load_synapses=True, generate_varicosities=True,\n",
                "    load_somas=True, load_axon=True, show_membrane=True,\n",
                "    load_basal_dendrites=True, load_apical_dendrites=True,\n",
                "    generate_internals=generate_internals, generate_externals=False,\n",
                "    sql_node_filter='guid=%d' % presynaptic_neuron_id\n",
                ")\n"
            ]
        },
        {
            "cell_type": "code",
            "execution_count": null,
            "id": "0b43ee0b",
            "metadata": {},
            "outputs": [],
            "source": [
                "postsynaptic_1_assembly_name = 'PostSynaptic Neuron 1'\n",
                "be.remove_assembly(postsynaptic_1_assembly_name)\n",
                "neurons_assembly = be.add_assembly(postsynaptic_1_assembly_name)\n",
                "\n",
                "status = be.add_neurons(\n",
                "    assembly_name=postsynaptic_1_assembly_name,\n",
                "    population_name=neuron_population_name,\n",
                "    morphology_representation=be.MORPHOLOGY_REPRESENTATION_SECTION,\n",
                "    morphology_color_scheme=be.MORPHOLOGY_COLOR_SCHEME_SECTION_TYPE,\n",
                "    use_sdf=True, load_synapses=True, generate_varicosities=False,\n",
                "    load_somas=True, load_axon=True, show_membrane=True,\n",
                "    load_basal_dendrites=True, load_apical_dendrites=True,\n",
                "    generate_internals=generate_internals, generate_externals=False,\n",
                "    sql_node_filter='guid=%d' % (postsynaptic_1_neuron_id)\n",
                ")"
            ]
        },
        {
            "cell_type": "code",
            "execution_count": null,
            "id": "eb0c2ee1",
            "metadata": {},
            "outputs": [],
            "source": [
                "with Session(engine) as session:\n",
                "    data = session.execute('SELECT center_x_position, center_y_position, center_z_position FROM %s.synapse WHERE presynaptic_neuron_guid=%d AND postsynaptic_neuron_guid=%d' % (db_schema, presynaptic_neuron_id, postsynaptic_1_neuron_id))\n",
                "    result = data.all()[1]\n",
                "    target = [result[0], result[1], result[2]]\n",
                "    position = [target[0], target[1], target[2] + 10]\n",
                "    core.set_camera(orientation=[0, 0, 0, 1], position=position, target=target)\n",
                "    # core.set_renderer(current='basic', subsampling=4)\n"
            ]
        },
        {
            "cell_type": "code",
            "execution_count": null,
            "id": "115f6fe9",
            "metadata": {},
            "outputs": [],
            "source": [
                "vasculature_assembly_name = 'Vasculature'\n",
                "vasculature_population_name = 'vasculature'\n",
                "be.remove_assembly(vasculature_assembly_name)\n",
                "vasculature_assembly = be.add_assembly(vasculature_assembly_name)\n",
                "vasculature_model = be.add_vasculature(\n",
                "    assembly_name=vasculature_assembly_name,\n",
                "    population_name=vasculature_population_name,\n",
                "    representation=be.VASCULATURE_REPRESENTATION_SECTION,\n",
                "    use_sdf=True,\n",
                "    sql_filter='sqrt(pow(x - %f, 2) + pow(y - %f, 2) + pow(z - %f, 2)) < 200' % (target[0], target[1], target[2])\n",
                ")"
            ]
        },
        {
            "cell_type": "code",
            "execution_count": null,
            "id": "a9d718a1",
            "metadata": {},
            "outputs": [],
            "source": [
                "astrocytes_assembly_name = 'Astrocytes'\n",
                "be.remove_assembly(astrocytes_assembly_name)\n",
                "astrocytes_assembly = be.add_assembly(astrocytes_assembly_name)\n",
                "astrocytes_model = be.add_astrocytes(\n",
                "    assembly_name=astrocytes_assembly_name,\n",
                "    population_name=vasculature_population_name,\n",
                "    # vasculature_population_name=vasculature_population_name,\n",
                "    use_sdf=True, generate_internals=True,\n",
                "    load_somas=True, load_dendrites=True,\n",
                "    sql_filter='sqrt(pow(x - %f, 2) + pow(y - %f, 2) + pow(z - %f, 2)) < 50' % (target[0], target[1], target[2])\n",
                ")"
            ]
        },
        {
            "cell_type": "markdown",
            "id": "6eb261c5",
            "metadata": {},
            "source": [
                "### Materials"
            ]
        },
        {
            "cell_type": "code",
            "execution_count": null,
            "id": "7cb64b4f",
            "metadata": {},
            "outputs": [],
            "source": [
                "def set_morphology_materials(model_id, palette_name, palette_size, shading_mode, glossiness=1.0, emission=0.0, user_param=1.0, opacity = 1.0):\n",
                "    import seaborn as sns\n",
                "    colors = list()\n",
                "    opacities = list()\n",
                "    refraction_indices = list()\n",
                "    specular_exponents = list()\n",
                "    shading_modes = list()\n",
                "    user_params = list()\n",
                "    glossinesses = list()\n",
                "    emissions = list()\n",
                "    \n",
                "    material_ids = be.get_material_ids(model_id)['ids']\n",
                "    palette_size = len(material_ids)\n",
                "    palette = list()\n",
                "    intensity = 1.0\n",
                "    for p in sns.color_palette(palette_name, palette_size):\n",
                "        palette.append([p[0] * intensity, p[1] * intensity, p[2] * intensity])\n",
                "\n",
                "    for material_id in material_ids:\n",
                "        mid = material_id % palette_size\n",
                "        colors.append(palette[mid])\n",
                "        if mid in [be.NEURON_MATERIAL_AFFERENT_SYNPASE, be.NEURON_MATERIAL_EFFERENT_SYNPASE]:\n",
                "            # colors.append(palette[1])\n",
                "            opacities.append(opacity)\n",
                "            shading_modes.append(shading_mode)\n",
                "            glossinesses.append(glossiness)\n",
                "            specular_exponents.append(5.0)\n",
                "        elif mid in [be.NEURON_MATERIAL_VARICOSITY]:\n",
                "            # colors.append(palette[min(2, palette_size-1)])\n",
                "            opacities.append(opacity)\n",
                "            shading_modes.append(shading_mode)\n",
                "            glossinesses.append(glossiness)\n",
                "            specular_exponents.append(5.0)\n",
                "        elif mid == be.NEURON_MATERIAL_MITOCHONDRION:\n",
                "            # colors.append([0.5, 0.1, 0.6])\n",
                "            opacities.append(opacity)\n",
                "            shading_modes.append(shading_mode)\n",
                "            glossinesses.append(glossiness)\n",
                "            specular_exponents.append(6.0)\n",
                "        elif mid == be.NEURON_MATERIAL_NUCLEUS:\n",
                "            # colors.append([1.0, 1.0, 1.0])\n",
                "            opacities.append(opacity)\n",
                "            shading_modes.append(shading_mode)\n",
                "            glossinesses.append(glossiness)\n",
                "            specular_exponents.append(30.0)\n",
                "        elif mid == be.NEURON_MATERIAL_SOMA:\n",
                "            # colors.append(palette[0])\n",
                "            if generate_internals:\n",
                "                opacities.append(opacity * 0.5)\n",
                "                # opacities.append(opacity)\n",
                "            else:\n",
                "                opacities.append(opacity)\n",
                "            shading_modes.append(shading_mode)\n",
                "            glossinesses.append(glossiness)\n",
                "            specular_exponents.append(5.0)\n",
                "        elif mid == be.NEURON_MATERIAL_MYELIN_STEATH:\n",
                "            # colors.append([0.4, 0.3, 0.5])\n",
                "            opacities.append(opacity)\n",
                "            shading_modes.append(shading_mode)\n",
                "            glossinesses.append(glossiness)\n",
                "            specular_exponents.append(50.0)\n",
                "        else:\n",
                "            # Membrane\n",
                "            # colors.append(palette[0])\n",
                "            opacities.append(1.0)\n",
                "            shading_modes.append(shading_mode)\n",
                "            glossinesses.append(glossiness)\n",
                "            specular_exponents.append(5.0)\n",
                "            \n",
                "        refraction_indices.append(2.5)\n",
                "        emissions.append(emission)\n",
                "        user_params.append(user_param)\n",
                "        \n",
                "    be.set_materials(\n",
                "        model_ids=[model_id], material_ids=material_ids,\n",
                "        diffuse_colors=colors, specular_colors=colors,\n",
                "        opacities=opacities, refraction_indices=refraction_indices,\n",
                "        shading_modes=shading_modes, specular_exponents=specular_exponents,\n",
                "        user_parameters=user_params, glossinesses=glossinesses,\n",
                "        emissions=emissions\n",
                "    )"
            ]
        },
        {
            "cell_type": "code",
            "execution_count": null,
            "id": "1a1fc863",
            "metadata": {},
            "outputs": [],
            "source": [
                "def set_materials():\n",
                "    palettes = ['Set3_r', 'Set1', 'Reds_r', 'GnBu']\n",
                "    model_ids = be.get_model_ids()['ids']\n",
                "    i = 0\n",
                "    user_param = 0.01\n",
                "    for i in range(len(model_ids)):\n",
                "        model_id = model_ids[i]\n",
                "        if i==2:\n",
                "            # Vasculature\n",
                "            set_morphology_materials(\n",
                "                model_id, palettes[i], be.NB_MATERIALS_PER_MORPHOLOGY,\n",
                "                be.SHADING_MODE_PERLIN, 0.1, 0.0, 0.01, 1.0)\n",
                "                # be.SHADING_MODE_CARTOON, 1.0, 0.0, 3.0)\n",
                "                # be.SHADING_MODE_NONE, 1.0, 0.0, 3.0)\n",
                "        else:\n",
                "            set_morphology_materials(\n",
                "                model_id, palettes[i], be.NB_MATERIALS_PER_MORPHOLOGY,\n",
                "                be.SHADING_MODE_PERLIN, 0.1, 0.0, user_param)\n",
                "                # be.SHADING_MODE_CARTOON, 1.0, 0.0, 3.0)\n",
                "                # be.SHADING_MODE_NONE, 1.0, 0.0, 3.0)\n",
                "        i += 1\n",
                "    core.set_renderer()\n",
                "\n",
                "set_materials()"
            ]
        },
        {
            "cell_type": "code",
            "execution_count": null,
            "id": "791df5e4",
            "metadata": {},
            "outputs": [],
            "source": [
                "status = core.set_renderer(\n",
                "    background_color=[0.18, 0.43, 0.41], head_light=True,\n",
                "    current='bio_explorer',subsampling=4, max_accum_frames=64)\n",
                "params = core.BioExplorerRendererParams()\n",
                "params.fog_start = 100\n",
                "params.fog_thickness = 100\n",
                "params.gi_samples = 1\n",
                "params.gi_weight = 0.1\n",
                "params.gi_distance = 20.0\n",
                "params.shadows = 0.8\n",
                "params.soft_shadows = 1.0\n",
                "params.epsilon_factor = 1.0\n",
                "params.exposure = 1.0\n",
                "params.max_bounces = 1\n",
                "params.show_background = True\n",
                "params.use_hardware_randomizer=False\n",
                "status = core.set_renderer_params(params)\n",
                "status = core.set_renderer()"
            ]
        }
    ],
    "metadata": {
        "interpreter": {
            "hash": "ea9a5fa46eb6bad2806a8ea1d08e15bb1e255a2d4320b81e765591579963c56b"
        },
        "kernelspec": {
            "display_name": "Python 3.8.10 64-bit ('env': venv)",
            "language": "python",
            "name": "python3"
        },
        "language_info": {
            "codemirror_mode": {
                "name": "ipython",
                "version": 3
            },
            "file_extension": ".py",
            "mimetype": "text/x-python",
            "name": "python",
            "nbconvert_exporter": "python",
            "pygments_lexer": "ipython3",
            "version": "3.8.10"
        }
    },
    "nbformat": 4,
    "nbformat_minor": 5
}
