{
 "cells": [
  {
   "cell_type": "markdown",
   "id": "f992ef9f",
   "metadata": {},
   "source": [
    "# BioExplorer - Vasculature\n",
    "![](../bioexplorer_vasculature_banner.png)"
   ]
  },
  {
   "cell_type": "markdown",
   "metadata": {},
   "source": [
    "### Connect to back-end"
   ]
  },
  {
   "cell_type": "code",
   "execution_count": null,
   "metadata": {},
   "outputs": [],
   "source": [
    "from bioexplorer import BioExplorer\n",
    "import seaborn as sns\n",
    "\n",
    "url = 'localhost:5000'\n",
    "be = BioExplorer(url)\n",
    "core = be.core_api()\n",
    "status = be.reset_scene()"
   ]
  },
  {
   "cell_type": "markdown",
   "metadata": {},
   "source": [
    "### Load vasculature"
   ]
  },
  {
   "cell_type": "code",
   "execution_count": null,
   "metadata": {},
   "outputs": [],
   "source": [
    "assembly_name = 'Vasculature'\n",
    "population_name = 'Vasculature'\n",
    "be.remove_assembly(assembly_name)\n",
    "vasculature_assembly = be.add_assembly(assembly_name)\n",
    "vasculature_model = be.add_vasculature(\n",
    "    assembly_name=assembly_name,\n",
    "    population_name=population_name,\n",
    "    # This filter excludes the few nodes of the vasculature that are hidding one of the entry points\n",
    "    sql_filter='radius>3.5 and guid not in (select guid from vasculature.node where entry_node_guid=0 and sqrt(pow(x+23.83998680114746, 2.0) + pow(y-2083.7490234375, 2.0) + pow(z-808.6675415039062, 2.0)) < 3.8835349082946777)',\n",
    "    quality=be.GEOMETRY_QUALITY_MEDIUM\n",
    ")"
   ]
  },
  {
   "cell_type": "code",
   "execution_count": null,
   "metadata": {},
   "outputs": [],
   "source": [
    "be.set_vasculature_color_scheme(\n",
    "    assembly_name=assembly_name,\n",
    "    color_scheme=be.VASCULATURE_COLOR_SCHEME_ENTRYNODE,\n",
    "    palette_name='rainbow'\n",
    ")\n",
    "status = core.set_renderer()"
   ]
  },
  {
   "cell_type": "code",
   "execution_count": null,
   "metadata": {},
   "outputs": [],
   "source": [
    "status = core.set_renderer(\n",
    "    current='bio_explorer',\n",
    "    subsampling=4, max_accum_frames=64)\n",
    "params = core.BioExplorerRendererParams()\n",
    "params.gi_distance = 1000.0\n",
    "params.shadows = 1.0\n",
    "params.soft_shadows = 1.0\n",
    "status = core.set_renderer_params(params)"
   ]
  },
  {
   "cell_type": "code",
   "execution_count": null,
   "metadata": {},
   "outputs": [],
   "source": [
    "vasculature_info = be.get_vasculature_info(assembly_name=assembly_name)\n",
    "vasculature_model_id = vasculature_info['modelId']\n",
    "material_ids = be.get_material_ids(vasculature_model_id)['ids']\n",
    "palette = sns.color_palette('Set1', len(material_ids))\n",
    "palette[0]= [0.75, 0.75, 0.75]\n",
    "be.set_materials_from_palette(\n",
    "    model_ids=[vasculature_model_id],\n",
    "    material_ids=material_ids,\n",
    "    palette=palette, specular_exponent=5.0,\n",
    "    shading_mode=be.SHADING_MODE_NONE,\n",
    "    user_parameter=0.001, glossiness=1.0,\n",
    "    cast_user_data=True\n",
    ")\n",
    "status = core.set_renderer()"
   ]
  },
  {
   "cell_type": "markdown",
   "metadata": {},
   "source": [
    "## Snapshots"
   ]
  },
  {
   "cell_type": "code",
   "execution_count": null,
   "metadata": {},
   "outputs": [],
   "source": [
    "status = core.set_camera(current='bio_explorer_perspective')"
   ]
  },
  {
   "cell_type": "markdown",
   "metadata": {},
   "source": [
    "### Default overview"
   ]
  },
  {
   "cell_type": "markdown",
   "metadata": {},
   "source": [
    "##### Sub-graphs"
   ]
  },
  {
   "cell_type": "code",
   "execution_count": null,
   "metadata": {},
   "outputs": [],
   "source": [
    "status = core.set_camera(\n",
    "    orientation = [-0.188, 0.28, 0.036, 0.940],\n",
    "    position = [1577, 2183, 2511],\n",
    "    target = [333, 1279, 646])"
   ]
  },
  {
   "cell_type": "code",
   "execution_count": null,
   "metadata": {},
   "outputs": [],
   "source": [
    "be.set_vasculature_color_scheme(\n",
    "    assembly_name=assembly_name,\n",
    "    color_scheme=be.VASCULATURE_COLOR_SCHEME_SUBGRAPH,\n",
    "    palette_name='Set1'\n",
    ")\n",
    "status = core.set_renderer()"
   ]
  },
  {
   "cell_type": "code",
   "execution_count": null,
   "metadata": {},
   "outputs": [],
   "source": [
    "from bioexplorer import MovieMaker\n",
    "mm = MovieMaker(be)\n",
    "mm.create_snapshot(\n",
    "    renderer='bio_explorer',\n",
    "    path='/tmp', base_name='vasculature_overview_subgraphs_4k_v1',\n",
    "    size=[4000,4000], samples_per_pixel=64)"
   ]
  },
  {
   "cell_type": "markdown",
   "metadata": {},
   "source": [
    "#### Pairs"
   ]
  },
  {
   "cell_type": "code",
   "execution_count": null,
   "metadata": {},
   "outputs": [],
   "source": [
    "be.set_vasculature_color_scheme(\n",
    "    assembly_name=assembly_name,\n",
    "    color_scheme=be.VASCULATURE_COLOR_SCHEME_PAIR,\n",
    "    palette_name='Set1'\n",
    ")\n",
    "status = core.set_renderer()"
   ]
  },
  {
   "cell_type": "code",
   "execution_count": null,
   "metadata": {},
   "outputs": [],
   "source": [
    "vasculature_info = be.get_vasculature_info(assembly_name=assembly_name)\n",
    "vasculature_model_id = vasculature_info['modelId']\n",
    "material_ids = be.get_material_ids(vasculature_model_id)['ids']\n",
    "palette = sns.color_palette('Set1', len(material_ids))\n",
    "palette[0]= [0.75, 0.75, 0.75]\n",
    "be.set_materials_from_palette(\n",
    "    model_ids=[vasculature_model_id],\n",
    "    material_ids=material_ids,\n",
    "    palette=palette, specular_exponent=5.0,\n",
    "    shading_mode=be.SHADING_MODE_NONE,\n",
    "    user_parameter=0.001, glossiness=1.0,\n",
    "    cast_user_data=True\n",
    ")\n",
    "status = core.set_renderer()"
   ]
  },
  {
   "cell_type": "code",
   "execution_count": null,
   "metadata": {},
   "outputs": [],
   "source": [
    "from bioexplorer import MovieMaker\n",
    "mm = MovieMaker(be)\n",
    "mm.create_snapshot(\n",
    "    renderer='bio_explorer',\n",
    "    path='/tmp', base_name='vasculature_overview_pairs_4k_v1',\n",
    "    size=[4000,4000], samples_per_pixel=64)"
   ]
  },
  {
   "cell_type": "markdown",
   "metadata": {},
   "source": [
    "### Entry nodes"
   ]
  },
  {
   "cell_type": "code",
   "execution_count": null,
   "metadata": {},
   "outputs": [],
   "source": [
    "be.set_vasculature_color_scheme(\n",
    "    assembly_name=assembly_name,\n",
    "    color_scheme=be.VASCULATURE_COLOR_SCHEME_ENTRYNODE,\n",
    "    palette_name='Set2'\n",
    ")\n",
    "status = core.set_renderer()"
   ]
  },
  {
   "cell_type": "code",
   "execution_count": null,
   "metadata": {},
   "outputs": [],
   "source": [
    "vasculature_info = be.get_vasculature_info(assembly_name=assembly_name)\n",
    "vasculature_model_id = vasculature_info['modelId']\n",
    "material_ids = be.get_material_ids(vasculature_model_id)['ids']\n",
    "palette = sns.color_palette('Set2', len(material_ids))\n",
    "palette[0]= [0.75, 0.75, 0.75]\n",
    "be.set_materials_from_palette(\n",
    "    model_ids=[vasculature_model_id],\n",
    "    material_ids=material_ids,\n",
    "    palette=palette, specular_exponent=5.0,\n",
    "    shading_mode=be.SHADING_MODE_NONE,\n",
    "    user_parameter=0.001, glossiness=1.0,\n",
    "    cast_user_data=True\n",
    ")\n",
    "status = core.set_renderer()"
   ]
  },
  {
   "cell_type": "markdown",
   "metadata": {},
   "source": [
    "#### Overview"
   ]
  },
  {
   "cell_type": "code",
   "execution_count": null,
   "metadata": {},
   "outputs": [],
   "source": [
    "vasculature_info = be.get_vasculature_info(assembly_name=assembly_name)\n",
    "vasculature_model_id = vasculature_info['modelId']\n",
    "material_ids = be.get_material_ids(vasculature_model_id)['ids']\n",
    "palette = sns.color_palette('Set2', len(material_ids))\n",
    "palette[0]= [0.75, 0.75, 0.75]\n",
    "be.set_materials_from_palette(\n",
    "    model_ids=[vasculature_model_id],\n",
    "    material_ids=material_ids,\n",
    "    palette=palette, specular_exponent=5.0,\n",
    "    shading_mode=be.SHADING_MODE_NONE,\n",
    "    user_parameter=0.001, glossiness=1.0,\n",
    "    cast_user_data=True\n",
    ")\n",
    "status = core.set_renderer()"
   ]
  },
  {
   "cell_type": "code",
   "execution_count": null,
   "metadata": {},
   "outputs": [],
   "source": [
    "from bioexplorer import MovieMaker\n",
    "mm = MovieMaker(be)\n",
    "mm.create_snapshot(\n",
    "    renderer='bio_explorer',\n",
    "    path='/tmp', base_name='vasculature_6_entry_nodes_overview_4k_v1',\n",
    "    size=[4000,4000], samples_per_pixel=64)"
   ]
  },
  {
   "cell_type": "markdown",
   "metadata": {},
   "source": [
    "#### Top view"
   ]
  },
  {
   "cell_type": "code",
   "execution_count": null,
   "metadata": {},
   "outputs": [],
   "source": [
    "core.set_camera(\n",
    "    orientation=[-0.7071067811865477, 0.0, 0.0, 0.7071067811865472],\n",
    "    position=[334.2749786376953, 3944.286268955379, 598.822242736815],\n",
    "    target=[334.2749786376953, 1379.4803771972656, 598.8222427368164]\n",
    ")"
   ]
  },
  {
   "cell_type": "code",
   "execution_count": null,
   "metadata": {},
   "outputs": [],
   "source": [
    "status = core.set_camera(current='orthographic')\n",
    "params = core.OrthographicCameraParams()\n",
    "params.height = 1200\n",
    "status = core.set_camera_params(params)"
   ]
  },
  {
   "cell_type": "code",
   "execution_count": null,
   "metadata": {},
   "outputs": [],
   "source": [
    "from bioexplorer import MovieMaker\n",
    "mm = MovieMaker(be)\n",
    "mm.create_snapshot(\n",
    "    renderer='bio_explorer',\n",
    "    path='/tmp', base_name='vasculature_6_entry_nodes_top_view_4k_v1',\n",
    "    size=[4000,4000], samples_per_pixel=64)"
   ]
  },
  {
   "cell_type": "markdown",
   "metadata": {},
   "source": [
    "### Close-up"
   ]
  },
  {
   "cell_type": "code",
   "execution_count": null,
   "metadata": {},
   "outputs": [],
   "source": [
    "status = core.set_camera(current='bio_explorer_perspective')"
   ]
  },
  {
   "cell_type": "code",
   "execution_count": null,
   "metadata": {},
   "outputs": [],
   "source": [
    "be.set_vasculature_color_scheme(\n",
    "    assembly_name=assembly_name,\n",
    "    color_scheme=be.VASCULATURE_COLOR_SCHEME_NONE,\n",
    "    palette_name='Set1'\n",
    ")\n",
    "status = core.set_renderer()"
   ]
  },
  {
   "cell_type": "code",
   "execution_count": null,
   "metadata": {},
   "outputs": [],
   "source": [
    "core.set_camera(\n",
    "    orientation=[0.196,-0.483,0.311,0.794],\n",
    "    position=[111.157, 1142.041, 769.792],\n",
    "    target=[342.719, 1362.049, 606.031])"
   ]
  },
  {
   "cell_type": "code",
   "execution_count": null,
   "metadata": {},
   "outputs": [],
   "source": [
    "from bioexplorer import MovieMaker\n",
    "mm = MovieMaker(be)\n",
    "mm.create_snapshot(\n",
    "    renderer='bio_explorer',\n",
    "    path='/tmp', base_name='vasculature_close_up_4k_v1',\n",
    "    size=[4000,4000], samples_per_pixel=64)"
   ]
  },
  {
   "cell_type": "code",
   "execution_count": null,
   "metadata": {},
   "outputs": [],
   "source": [
    "status = core.set_camera(\n",
    "    orientation=[-0.380756056572787,-0.8596266105869432,-0.1815254761643775,0.2882974458042251],\n",
    "    position=[289.59332808995663, 1450.6830665959455, 449.81451192803826],\n",
    "    target=[341.752160267649, 1373.1020072528677, 561.8695916089292]\n",
    ")"
   ]
  },
  {
   "cell_type": "code",
   "execution_count": null,
   "metadata": {},
   "outputs": [],
   "source": [
    "from bioexplorer import MovieMaker\n",
    "mm = MovieMaker(be)\n",
    "mm.create_snapshot(\n",
    "    renderer='bio_explorer',\n",
    "    path='/tmp', base_name='vasculature_4k_v1',\n",
    "    size=[4000,4000], samples_per_pixel=64)"
   ]
  }
 ],
 "metadata": {
  "kernelspec": {
   "display_name": "Python 3",
   "language": "python",
   "name": "python3"
  },
  "language_info": {
   "codemirror_mode": {
    "name": "ipython",
    "version": 3
   },
   "file_extension": ".py",
   "mimetype": "text/x-python",
   "name": "python",
   "nbconvert_exporter": "python",
   "pygments_lexer": "ipython3",
   "version": "3.8.10"
  }
 },
 "nbformat": 4,
 "nbformat_minor": 2
}
