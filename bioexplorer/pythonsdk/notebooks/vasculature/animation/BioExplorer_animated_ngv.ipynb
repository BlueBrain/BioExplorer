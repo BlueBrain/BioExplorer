{
    "cells": [
        {
            "attachments": {},
            "cell_type": "markdown",
            "id": "f992ef9f",
            "metadata": {},
            "source": [
                "# BioExplorer - Animated vasculature\n",
                "![](../../bioexplorer_vasculature_banner.png)"
            ]
        },
        {
            "attachments": {},
            "cell_type": "markdown",
            "metadata": {},
            "source": [
                "### Connect to back-end"
            ]
        },
        {
            "cell_type": "code",
            "execution_count": 37,
            "id": "7c42e983",
            "metadata": {},
            "outputs": [],
            "source": [
                "from bioexplorer import BioExplorer, CellAnimationParams\n",
                "from tqdm import tqdm\n",
                "import seaborn as sns\n",
                "\n",
                "url = 'localhost:5000'\n",
                "be = BioExplorer(url)\n",
                "core = be.core_api()\n",
                "status = be.reset_scene()"
            ]
        },
        {
            "cell_type": "code",
            "execution_count": 38,
            "id": "2d4790f4",
            "metadata": {},
            "outputs": [],
            "source": [
                "def set_materials(model_id, palette_name, cast_user_data):\n",
                "    specular_exponents = list()\n",
                "    shading_modes = list()\n",
                "    user_params = list()\n",
                "    glossinesses = list()\n",
                "    cast_user_datas = list()\n",
                "    \n",
                "    material_ids = be.get_material_ids(model_id)['ids']\n",
                "    palette = sns.color_palette(palette_name, len(material_ids))\n",
                "\n",
                "    for _ in material_ids:\n",
                "        shading_modes.append(be.SHADING_MODE_PERLIN)\n",
                "        glossinesses.append(0.1)\n",
                "        user_params.append(0.05)\n",
                "        specular_exponents.append(5.0)\n",
                "        cast_user_datas.append(cast_user_data)\n",
                "        \n",
                "    be.set_materials(\n",
                "        model_ids=[model_id], material_ids=material_ids, glossinesses=glossinesses,\n",
                "        diffuse_colors=palette, specular_colors=palette, shading_modes=shading_modes,\n",
                "        specular_exponents=specular_exponents, user_parameters=user_params,\n",
                "        cast_user_datas=cast_user_datas\n",
                "    )"
            ]
        },
        {
            "attachments": {},
            "cell_type": "markdown",
            "id": "8ad963ed",
            "metadata": {},
            "source": [
                "### Load NGV system"
            ]
        },
        {
            "cell_type": "code",
            "execution_count": 39,
            "id": "be447495",
            "metadata": {},
            "outputs": [],
            "source": [
                "neurons_population_name = 'o1'\n",
                "astrocytes_population_name = 'astrocytes'\n",
                "vasculature_population_name = 'vasculature'\n",
                "\n",
                "morphology_realism_level = be.MORPHOLOGY_REALISM_LEVEL_ALL\n",
                "vasculature_realism_level = be.VASCULATURE_REALISM_LEVEL_ALL\n",
                "center = [264.830629,1843.324822,328.217474]\n",
                "filter = 'SQRT(POW(x-%f, 2.0) + POW(y-%f, 2.0) + POW(z-%f, 2.0))<' % (center[0], center[1], center[2])"
            ]
        },
        {
            "cell_type": "code",
            "execution_count": 40,
            "id": "65312aed",
            "metadata": {},
            "outputs": [],
            "source": [
                "def add_neurons(seed, amplitude, frequency):\n",
                "    neurons_assembly_name = 'Neurons'\n",
                "    be.remove_assembly(neurons_assembly_name)\n",
                "    neurons_assembly = be.add_assembly(neurons_assembly_name)\n",
                "    neurons_model = be.add_neurons(\n",
                "        assembly_name=neurons_assembly_name,\n",
                "        population_name=neurons_population_name,\n",
                "        morphology_representation=be.MORPHOLOGY_REPRESENTATION_SECTION,\n",
                "        simulation_report_id=2,\n",
                "        realism_level=morphology_realism_level,\n",
                "        load_synapses=True,\n",
                "        load_somas=True,\n",
                "        load_axon=True, generate_varicosities=False, generate_externals=False,\n",
                "        load_basal_dendrites=True, load_apical_dendrites=True,\n",
                "        sql_node_filter=filter + '100',\n",
                "        animation_params=CellAnimationParams(\n",
                "            seed=seed, offset=100, amplitude=amplitude, frequency=frequency)\n",
                "    )"
            ]
        },
        {
            "cell_type": "code",
            "execution_count": null,
            "id": "27f16446",
            "metadata": {},
            "outputs": [],
            "source": [
                "def add_astrocytes(seed, amplitude, frequency):\n",
                "    astrocytes_assembly_name = 'Astrocytes'\n",
                "    be.remove_assembly(astrocytes_assembly_name)\n",
                "    vasculature_assembly = be.add_assembly(astrocytes_assembly_name)\n",
                "    vasculature_model = be.add_astrocytes(\n",
                "        assembly_name=astrocytes_assembly_name,\n",
                "        population_name=astrocytes_population_name,\n",
                "        vasculature_population_name='vasculature',\n",
                "        radius_multiplier=1.0,\n",
                "        realism_level=morphology_realism_level,\n",
                "        sql_filter='guid%2=0 AND ' + filter + '120',\n",
                "        animation_params=CellAnimationParams(\n",
                "            seed=seed, offset=100, amplitude=amplitude, frequency=frequency)\n",
                "    )"
            ]
        },
        {
            "cell_type": "code",
            "execution_count": null,
            "id": "ee29a462",
            "metadata": {},
            "outputs": [],
            "source": [
                "def add_vasculature(seed, amplitude, frequency):\n",
                "    vasculature_assembly_name = 'Vasculature'\n",
                "    be.remove_assembly(vasculature_assembly_name)\n",
                "    vasculature_assembly = be.add_assembly(vasculature_assembly_name)\n",
                "    vasculature_model = be.add_vasculature(\n",
                "        assembly_name=vasculature_assembly_name,\n",
                "        population_name=vasculature_population_name,\n",
                "        representation=be.VASCULATURE_REPRESENTATION_SEGMENT,\n",
                "        realism_level=vasculature_realism_level,\n",
                "        sql_filter=filter + '120',\n",
                "        animation_params=CellAnimationParams(\n",
                "            seed=seed, offset=100, amplitude=amplitude, frequency=frequency)\n",
                "    )"
            ]
        },
        {
            "cell_type": "code",
            "execution_count": null,
            "id": "7cd24ef9",
            "metadata": {},
            "outputs": [],
            "source": [
                "status = core.set_renderer(\n",
                "    background_color=[0, 0, 0], head_light=True,\n",
                "    current='advanced',subsampling=4, max_accum_frames=64)\n",
                "params = core.AdvancedRendererParams()\n",
                "params.fog_start = 50.0\n",
                "params.fog_thickness = 200.0\n",
                "params.gi_samples = 0\n",
                "params.gi_weight = 0.2\n",
                "params.gi_distance = 25.0\n",
                "params.shadows = 0.7\n",
                "params.soft_shadows = 0.2\n",
                "params.epsilon_factor = 1.0\n",
                "params.max_bounces = 1\n",
                "params.show_background = False\n",
                "params.exposure = 1.1\n",
                "status = core.set_renderer_params(params)\n",
                "status = core.set_renderer()"
            ]
        },
        {
            "cell_type": "code",
            "execution_count": null,
            "id": "74b551c2",
            "metadata": {},
            "outputs": [],
            "source": [
                "def set_camera():\n",
                "    core.set_camera(\n",
                "        current='bio_explorer_perspective',\n",
                "        orientation=[-0.8403140268747967, -0.4224086257302892, 0.1860602052612373, 0.2842971845872873],\n",
                "        position=[167.03493041290807, 1850.980448577644, 261.049429564132],\n",
                "        target=[209.7247427525868, 1826.2248206861336, 320.4356904127371],\n",
                "    )\n",
                "    params = core.PerspectiveCameraParams()\n",
                "    params.aperture_radius = 0\n",
                "    params.focus_distance = 66.24\n",
                "    params.fovy = 45.0\n",
                "    core.set_camera_params(params)"
            ]
        },
        {
            "cell_type": "code",
            "execution_count": null,
            "id": "a13f0eca",
            "metadata": {},
            "outputs": [],
            "source": [
                "from bioexplorer import MovieMaker\n",
                "import seaborn as sns\n",
                "\n",
                "mm = MovieMaker(be)\n",
                "\n",
                "amplitude=0.2\n",
                "frequency=0.1\n",
                "palettes = ['GnBu_r', 'Wistia', 'Reds_r']\n",
                "\n",
                "set_camera()\n",
                "\n",
                "for frame in tqdm(range(0, 1800)):\n",
                "    seed = frame + 1\n",
                "    be.reset_scene()\n",
                "    '''NGV'''\n",
                "    add_neurons(seed=seed, amplitude=amplitude, frequency=frequency)\n",
                "    add_astrocytes(seed=seed, amplitude=amplitude, frequency=frequency)\n",
                "    add_vasculature(seed=seed, amplitude=amplitude, frequency=frequency)\n",
                "\n",
                "    '''Simulation'''\n",
                "    core.set_animation_parameters(current=(frame * 5) % 1750)\n",
                "\n",
                "    '''Materials'''\n",
                "    model_ids = be.get_model_ids()['ids']\n",
                "    palette = 0\n",
                "    for model_id in model_ids:\n",
                "        cast_user_data = False\n",
                "        if palette==0:\n",
                "            cast_user_data = True\n",
                "        set_materials(model_id, palettes[palette], cast_user_data)\n",
                "        palette += 1\n",
                "\n",
                "    '''Snapshot'''\n",
                "    mm.create_snapshot(\n",
                "        renderer='advanced',\n",
                "        path='/tmp', base_name='%05d' % frame,\n",
                "        size=[960, 540], samples_per_pixel=64)"
            ]
        }
    ],
    "metadata": {
        "interpreter": {
            "hash": "ea9a5fa46eb6bad2806a8ea1d08e15bb1e255a2d4320b81e765591579963c56b"
        },
        "kernelspec": {
            "display_name": "Python 3.8.10 64-bit ('env': venv)",
            "language": "python",
            "name": "python3"
        },
        "language_info": {
            "codemirror_mode": {
                "name": "ipython",
                "version": 3
            },
            "file_extension": ".py",
            "mimetype": "text/x-python",
            "name": "python",
            "nbconvert_exporter": "python",
            "pygments_lexer": "ipython3",
            "version": "3.8.10"
        }
    },
    "nbformat": 4,
    "nbformat_minor": 5
}
