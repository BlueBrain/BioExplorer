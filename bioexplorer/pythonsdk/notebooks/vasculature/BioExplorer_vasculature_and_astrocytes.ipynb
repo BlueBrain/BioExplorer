{
 "cells": [
  {
   "cell_type": "markdown",
   "id": "f992ef9f",
   "metadata": {},
   "source": [
    "# BioExplorer - Vasculature\n",
    "![](../bioexplorer_vasculature_banner.png)"
   ]
  },
  {
   "cell_type": "markdown",
   "metadata": {},
   "source": [
    "### Connect to back-end"
   ]
  },
  {
   "cell_type": "code",
   "execution_count": null,
   "metadata": {},
   "outputs": [],
   "source": [
    "from bioexplorer import BioExplorer\n",
    "import seaborn as sns\n",
    "\n",
    "url = 'localhost:5000'\n",
    "be = BioExplorer(url)\n",
    "core = be.core_api()\n",
    "status = be.reset_scene()"
   ]
  },
  {
   "cell_type": "markdown",
   "metadata": {},
   "source": [
    "### Load vasculature"
   ]
  },
  {
   "cell_type": "code",
   "execution_count": null,
   "metadata": {},
   "outputs": [],
   "source": [
    "vasculature_assembly_name = 'Vasculature'\n",
    "vasculature_population_name = 'vasculature'\n",
    "be.remove_assembly(vasculature_assembly_name)\n",
    "vasculature_assembly = be.add_assembly(vasculature_assembly_name)\n",
    "vasculature_model = be.add_vasculature(\n",
    "    assembly_name=vasculature_assembly_name,\n",
    "    population_name=vasculature_population_name,\n",
    "    use_sdf=True,\n",
    "    quality=be.GEOMETRY_QUALITY_MEDIUM,\n",
    "    sql_filter='sqrt(pow(x - 345, 2) + pow(y - 1359, 2) + pow(z - 600, 2)) < 100'\n",
    ")"
   ]
  },
  {
   "cell_type": "code",
   "execution_count": null,
   "metadata": {},
   "outputs": [],
   "source": [
    "status = core.set_renderer(\n",
    "    current='bio_explorer',\n",
    "    subsampling=4, max_accum_frames=64)\n",
    "params = core.BioExplorerRendererParams()\n",
    "params.gi_distance = 1000.0\n",
    "params.shadows = 1.0\n",
    "params.soft_shadows = 1.0\n",
    "status = core.set_renderer_params(params)"
   ]
  },
  {
   "cell_type": "code",
   "execution_count": null,
   "metadata": {},
   "outputs": [],
   "source": [
    "astrocyte_assembly_name = 'Astrocyte'\n",
    "astrocyte_population_name = 'Astrocyte'\n",
    "be.remove_assembly(astrocyte_assembly_name)\n",
    "astrocyte_assembly = be.add_assembly(astrocyte_assembly_name)\n",
    "astrocyte_model = be.add_astrocytes(\n",
    "    assembly_name=astrocyte_assembly_name,\n",
    "    population_name=astrocyte_population_name,\n",
    "    vasculature_population_name=vasculature_population_name,\n",
    "    population_color_scheme=be.POPULATION_COLOR_SCHEME_ID,\n",
    "    use_sdf=True, sql_filter='guid=6976'\n",
    ")"
   ]
  },
  {
   "cell_type": "code",
   "execution_count": null,
   "metadata": {},
   "outputs": [],
   "source": [
    "def set_materials(\n",
    "    model_id, material_ids, palette, shading_mode=be.SHADING_MODE_NONE,\n",
    "    cast_user_data=False, reflection_index=0.0, opacity=1):\n",
    "\n",
    "    user_params=list()\n",
    "    opacities=list()\n",
    "    refraction_indices=list()\n",
    "    reflection_indices=list()\n",
    "    shading_modes=list()\n",
    "    diffuse_colors=list()\n",
    "    specular_colors=list()\n",
    "    specular_exponents=list()\n",
    "    glossinesses=list()\n",
    "    emissions=list()\n",
    "    cast_user_datas = list()\n",
    "    \n",
    "    for i in range(len(palette)):\n",
    "        user_params.append(0.01)\n",
    "        opacities.append(opacity)\n",
    "        refraction_indices.append(0.9)\n",
    "        reflection_indices.append(reflection_index)\n",
    "        specular_exponents.append(50.0)\n",
    "        glossinesses.append(0.9)\n",
    "        c=palette[i]\n",
    "        diffuse_colors.append(c)\n",
    "        specular_colors.append(c                                                                                                                                                                                                                                                                                                                                                                                                                                                                                                                                                                                                                                                                                                                                                                                                                                                                                                                                                                                                                                                                                                                                                                                                                                                                                                                                                                                                                                                                                                                                                                                                                                                                                                                                                                                                                                                                                                                                                                                                                                                                                                                                                                                                                                                                                                                                                                                                                                                                                                                                                                                                                                                                                                                                                                                                                                                                                                                                                                                                                                                                                                                                                                                                                                                                                                                                                                                                                                                                                                                                                                                                                                                                                                                                                        )\n",
    "        shading_modes.append(shading_mode)\n",
    "        emissions.append(0)\n",
    "        cast_user_datas.append(cast_user_data)\n",
    "        \n",
    "    be.set_materials(\n",
    "        model_ids=[model_id], material_ids=material_ids,\n",
    "        user_parameters=user_params,\n",
    "        opacities=opacities, reflection_indices=reflection_indices,\n",
    "        shading_modes=shading_modes,\n",
    "        diffuse_colors=diffuse_colors, specular_colors=specular_colors,\n",
    "        specular_exponents=specular_exponents, glossinesses=glossinesses,\n",
    "        emissions=emissions, refraction_indices=refraction_indices,\n",
    "        cast_user_datas=cast_user_datas)"
   ]
  },
  {
   "cell_type": "code",
   "execution_count": null,
   "metadata": {},
   "outputs": [],
   "source": [
    "def set_scene_materials():\n",
    "    vasculature_info = be.get_vasculature_info(assembly_name=vasculature_assembly_name)\n",
    "    vasculature_model_id = vasculature_info['modelId']    \n",
    "    for model_id in be.get_model_ids()['ids']:\n",
    "        material_ids = be.get_material_ids(model_id)['ids']\n",
    "        nb_materials = len(material_ids)\n",
    "        if model_id == vasculature_model_id:\n",
    "            palette = list()\n",
    "            for i in range(nb_materials):\n",
    "                palette.append((1.0, 0.0, 0.0))\n",
    "            set_materials(\n",
    "                shading_mode=be.SHADING_MODE_NONE,\n",
    "                model_id=model_id, material_ids=material_ids,\n",
    "                palette=palette, cast_user_data=False, reflection_index=0.0)\n",
    "        else:\n",
    "            palette = sns.color_palette('Blues', 10)\n",
    "            p = list()\n",
    "            for i in range(nb_materials):\n",
    "                p.append(palette[5])\n",
    "            set_materials(\n",
    "                shading_mode=be.SHADING_MODE_NONE,\n",
    "                model_id=model_id, material_ids=material_ids,\n",
    "                palette=p, cast_user_data=False)\n",
    "    status = core.set_renderer()"
   ]
  },
  {
   "cell_type": "code",
   "execution_count": null,
   "metadata": {},
   "outputs": [],
   "source": [
    "set_scene_materials()"
   ]
  },
  {
   "cell_type": "markdown",
   "metadata": {},
   "source": [
    "## Snapshots"
   ]
  },
  {
   "cell_type": "code",
   "execution_count": null,
   "metadata": {},
   "outputs": [],
   "source": [
    "status = core.set_camera(current='bio_explorer_perspective')"
   ]
  },
  {
   "cell_type": "markdown",
   "metadata": {},
   "source": [
    "### Default overview"
   ]
  },
  {
   "cell_type": "markdown",
   "metadata": {},
   "source": [
    "##### Single astrocyte"
   ]
  },
  {
   "cell_type": "code",
   "execution_count": null,
   "metadata": {},
   "outputs": [],
   "source": [
    "core.set_camera(\n",
    "    orientation=[-0.026381403274141492, 0.9989770953600118, 0.036579691219384786,  0.003272720222589006],\n",
    "    position=[348.0229087689656, 1380.1739741996078, 240.6439526719328],\n",
    "    target=[346.3668479043361, 1353.8501781666782, 599.0084099562833]\n",
    ")"
   ]
  },
  {
   "cell_type": "code",
   "execution_count": null,
   "metadata": {},
   "outputs": [],
   "source": [
    "from bioexplorer import MovieMaker\n",
    "mm = MovieMaker(be)"
   ]
  },
  {
   "cell_type": "code",
   "execution_count": null,
   "metadata": {},
   "outputs": [],
   "source": [
    "mm.create_snapshot(\n",
    "    renderer='bio_explorer',\n",
    "    path='/tmp', base_name='vasculature_and_single_astrocyte_4k_v1',\n",
    "    size=[4000,4000], samples_per_pixel=64)"
   ]
  },
  {
   "cell_type": "markdown",
   "metadata": {},
   "source": [
    "#### Several astrocytes"
   ]
  },
  {
   "cell_type": "code",
   "execution_count": null,
   "metadata": {},
   "outputs": [],
   "source": [
    "astrocytes_assembly_name = 'Astrocytes'\n",
    "astrocytes_population_name = 'Astrocyte'\n",
    "be.remove_assembly(astrocytes_assembly_name)\n",
    "astrocytes_assembly = be.add_assembly(astrocytes_assembly_name)\n",
    "astrocytes_model = be.add_astrocytes(\n",
    "    assembly_name=astrocytes_assembly_name,\n",
    "    population_name=astrocytes_population_name,\n",
    "    vasculature_population_name=vasculature_population_name,\n",
    "    population_color_scheme=be.POPULATION_COLOR_SCHEME_ID,\n",
    "    use_sdf=True, \n",
    "    sql_filter = 'sqrt(pow(x - 345, 2) + pow(y - 1359, 2) + pow(z - 600, 2)) < 80 and guid!=6976'\n",
    ")"
   ]
  },
  {
   "cell_type": "code",
   "execution_count": null,
   "metadata": {},
   "outputs": [],
   "source": [
    "set_scene_materials()"
   ]
  },
  {
   "cell_type": "code",
   "execution_count": null,
   "metadata": {},
   "outputs": [],
   "source": [
    "from bioexplorer import MovieMaker\n",
    "mm = MovieMaker(be)"
   ]
  },
  {
   "cell_type": "code",
   "execution_count": null,
   "metadata": {},
   "outputs": [],
   "source": [
    "core.set_camera(\n",
    "    orientation=[-0.0263814032741415, 0.9989770953600118, 0.03657969121938479, 0.0032727202225888916],\n",
    "    position=[348.0781750273631, 1381.052455023975, 228.68457175797897],\n",
    "    target=[346.3668479043361, 1353.8501781666782, 599.0084099562833],    \n",
    ")"
   ]
  },
  {
   "cell_type": "code",
   "execution_count": null,
   "metadata": {},
   "outputs": [],
   "source": [
    "mm.create_snapshot(\n",
    "    renderer='bio_explorer',\n",
    "    path='/tmp', base_name='vasculature_and_few_astrocytes_4k_v1',\n",
    "    size=[4000,4000], samples_per_pixel=64)"
   ]
  },
  {
   "cell_type": "markdown",
   "metadata": {},
   "source": [
    "## Movie with simulated radii on vasculature"
   ]
  },
  {
   "cell_type": "code",
   "execution_count": null,
   "metadata": {},
   "outputs": [],
   "source": [
    "from IPython.display import clear_output\n",
    "output_folder = '/tmp'\n",
    "\n",
    "nb_frames = 100\n",
    "report_simulation_id = 2\n",
    "\n",
    "for frame in range(nb_frames):\n",
    "    clear_output()\n",
    "    print('Frame %d/%d' % (frame, nb_frames))\n",
    "    # Set simulation frame\n",
    "    core.set_animation_parameters(current=frame)\n",
    "\n",
    "    # Apply radii changes on vasculature\n",
    "    be.set_vasculature_radius_report(\n",
    "        assembly_name=vasculature_assembly_name,\n",
    "        population_name=vasculature_population_name,\n",
    "        report_simulation_id=report_simulation_id,\n",
    "        frame=frame\n",
    "    )\n",
    "    # Apply radii changes on single astrocyte\n",
    "    be.set_vasculature_radius_report(\n",
    "        assembly_name=astrocyte_assembly_name,\n",
    "        population_name=vasculature_population_name,\n",
    "        report_simulation_id=report_simulation_id,\n",
    "        frame=frame\n",
    "    )\n",
    "    # Apply radii changes on other astrocytes\n",
    "    be.set_vasculature_radius_report(\n",
    "        assembly_name=astrocytes_assembly_name,\n",
    "        population_name=vasculature_population_name,\n",
    "        report_simulation_id=report_simulation_id,\n",
    "        frame=frame\n",
    "    )\n",
    "    # Apply materials\n",
    "    set_scene_materials()\n",
    "\n",
    "    # Render frame\n",
    "    mm.create_snapshot(\n",
    "        renderer='bio_explorer',\n",
    "        path=output_folder, base_name='%05d' % frame,\n",
    "        size=[4096, 4096], samples_per_pixel=64)"
   ]
  }
 ],
 "metadata": {
  "kernelspec": {
   "display_name": "Python 3",
   "language": "python",
   "name": "python3"
  },
  "language_info": {
   "codemirror_mode": {
    "name": "ipython",
    "version": 3
   },
   "file_extension": ".py",
   "mimetype": "text/x-python",
   "name": "python",
   "nbconvert_exporter": "python",
   "pygments_lexer": "ipython3",
   "version": "3.8.10"
  }
 },
 "nbformat": 4,
 "nbformat_minor": 2
}
