{
 "cells": [
  {
   "cell_type": "markdown",
   "metadata": {},
   "source": [
    "# Vasculature simulation use-case"
   ]
  },
  {
   "cell_type": "markdown",
   "metadata": {},
   "source": [
    "### Connect to back-end"
   ]
  },
  {
   "cell_type": "code",
   "execution_count": 84,
   "metadata": {},
   "outputs": [],
   "source": [
    "import h5py\n",
    "data_folder = '/home/favreau/Downloads/'\n",
    "graph_with_endfeet_filename = data_folder + 'graph_with_endfeet.h5'\n",
    "report_entry_nodes_filename = data_folder + 'report_entry_nodes.h5'\n",
    "vasculature_filename = data_folder + 'vasculature.h5'"
   ]
  },
  {
   "cell_type": "code",
   "execution_count": 85,
   "metadata": {},
   "outputs": [],
   "source": [
    "graph_with_endfeet_file = h5py.File(graph_with_endfeet_filename)\n",
    "\n",
    "gwe_nodes = graph_with_endfeet_file['nodes']\n",
    "gwe_vasculature = gwe_nodes['vasculature']\n",
    "gwe_zero = gwe_vasculature['0']\n",
    "gwe_start_diameters = gwe_zero['end_diameter']\n",
    "gwe_start_xs = gwe_zero['start_x']\n",
    "gwe_start_ys = gwe_zero['start_y']\n",
    "gwe_start_zs = gwe_zero['start_z']\n",
    "gwe_end_diameters = gwe_zero['end_diameter']\n",
    "gwe_end_xs = gwe_zero['end_x']\n",
    "gwe_end_ys = gwe_zero['end_y']\n",
    "gwe_end_zs = gwe_zero['end_z']\n",
    "gwe_segment_ids = gwe_zero['segment_id']\n",
    "gwe_section_ids = gwe_zero['section_id']\n"
   ]
  },
  {
   "cell_type": "code",
   "execution_count": 86,
   "metadata": {},
   "outputs": [],
   "source": [
    "report_entry_nodes_file = h5py.File(report_entry_nodes_filename)\n",
    "\n",
    "ren_report = report_entry_nodes_file['report']\n",
    "ren_vasculature = ren_report['vasculature']\n",
    "ren_subgraph_ids = ren_vasculature['subgraph_id']\n",
    "ren_pairs = ren_vasculature['pairs']\n",
    "ren_types = ren_vasculature['type']\n"
   ]
  },
  {
   "cell_type": "code",
   "execution_count": 87,
   "metadata": {},
   "outputs": [],
   "source": [
    "import os\n",
    "os.remove(vasculature_filename)\n",
    "vasculature_file = h5py.File(vasculature_filename, mode='w')\n",
    "v_nodes = vasculature_file.create_group('nodes')\n",
    "v_vasculature = v_nodes.create_group('vasculature')\n",
    "v_vasculature.create_dataset('start_diameter', shape=gwe_start_diameters.shape, dtype=gwe_start_diameters.dtype, data=gwe_start_diameters)\n",
    "v_vasculature.create_dataset('start_x', shape=gwe_start_xs.shape, dtype=gwe_start_xs.dtype, data=gwe_start_xs)\n",
    "v_vasculature.create_dataset('start_y', shape=gwe_start_ys.shape, dtype=gwe_start_ys.dtype, data=gwe_start_ys)\n",
    "v_vasculature.create_dataset('start_z', shape=gwe_start_zs.shape, dtype=gwe_start_zs.dtype, data=gwe_start_zs)\n",
    "v_vasculature.create_dataset('end_diameter', shape=gwe_end_diameters.shape, dtype=gwe_end_diameters.dtype, data=gwe_end_diameters)\n",
    "v_vasculature.create_dataset('end_x', shape=gwe_end_xs.shape, dtype=gwe_end_xs.dtype, data=gwe_end_xs)\n",
    "v_vasculature.create_dataset('end_y', shape=gwe_end_ys.shape, dtype=gwe_end_ys.dtype, data=gwe_end_ys)\n",
    "v_vasculature.create_dataset('end_z', shape=gwe_end_zs.shape, dtype=gwe_end_zs.dtype, data=gwe_end_zs)\n",
    "v_vasculature.create_dataset('segment_id', shape=gwe_segment_ids.shape, dtype=gwe_segment_ids.dtype, data=gwe_segment_ids)\n",
    "v_vasculature.create_dataset('section_id', shape=gwe_section_ids.shape, dtype=gwe_section_ids.dtype, data=gwe_section_ids)\n",
    "v_vasculature.create_dataset('type', shape=ren_types.shape, dtype=ren_types.dtype, data=ren_types)\n",
    "v_vasculature.create_dataset('subgraph_id', shape=ren_subgraph_ids.shape, dtype=ren_subgraph_ids.dtype, data=ren_subgraph_ids)\n",
    "v_vasculature.create_dataset('pairs', shape=ren_pairs.shape, dtype=ren_pairs.dtype, data=ren_pairs)\n",
    "vasculature_file.close()"
   ]
  },
  {
   "cell_type": "markdown",
   "metadata": {},
   "source": [
    "### "
   ]
  }
 ],
 "metadata": {
  "kernelspec": {
   "display_name": "Python 3 (ipykernel)",
   "language": "python",
   "name": "python3"
  },
  "language_info": {
   "codemirror_mode": {
    "name": "ipython",
    "version": 3
   },
   "file_extension": ".py",
   "mimetype": "text/x-python",
   "name": "python",
   "nbconvert_exporter": "python",
   "pygments_lexer": "ipython3",
   "version": "3.8.10"
  }
 },
 "nbformat": 4,
 "nbformat_minor": 2
}
