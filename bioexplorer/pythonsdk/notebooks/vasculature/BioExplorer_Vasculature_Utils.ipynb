{
 "cells": [
  {
   "cell_type": "markdown",
   "metadata": {},
   "source": [
    "# Vasculature simulation use-case"
   ]
  },
  {
   "cell_type": "markdown",
   "metadata": {},
   "source": [
    "### Connect to back-end"
   ]
  },
  {
   "cell_type": "code",
   "execution_count": 17,
   "metadata": {},
   "outputs": [],
   "source": [
    "import h5py\n",
    "import os\n",
    "data_folder = os.getenv('VASCULATURE_DATA_FOLDER')\n",
    "graph_with_endfeet_filename = os.path.join(data_folder, 'graph_with_endfeet.h5')\n",
    "report_entry_nodes_filename = os.path.join(data_folder, 'report_entry_nodes.h5')\n",
    "vasculature_filename = os.path.join(data_folder, 'report_vasculature.h5')\n",
    "test_filename = os.path.join(data_folder, 'test_vasculature.h5')\n",
    "test_report_filename = os.path.join(data_folder, 'test_report.h5')"
   ]
  },
  {
   "cell_type": "markdown",
   "metadata": {},
   "source": [
    "## Merge files"
   ]
  },
  {
   "cell_type": "code",
   "execution_count": null,
   "metadata": {},
   "outputs": [],
   "source": [
    "graph_with_endfeet_file = h5py.File(graph_with_endfeet_filename)\n",
    "\n",
    "gwe_nodes = graph_with_endfeet_file['nodes']\n",
    "gwe_vasculature = gwe_nodes['vasculature']\n",
    "gwe_zero = gwe_vasculature['0']\n",
    "gwe_start_diameters = gwe_zero['end_diameter']\n",
    "gwe_start_xs = gwe_zero['start_x']\n",
    "gwe_start_ys = gwe_zero['start_y']\n",
    "gwe_start_zs = gwe_zero['start_z']\n",
    "gwe_end_diameters = gwe_zero['end_diameter']\n",
    "gwe_end_xs = gwe_zero['end_x']\n",
    "gwe_end_ys = gwe_zero['end_y']\n",
    "gwe_end_zs = gwe_zero['end_z']\n",
    "gwe_segment_ids = gwe_zero['segment_id']\n",
    "gwe_section_ids = gwe_zero['section_id']\n"
   ]
  },
  {
   "cell_type": "code",
   "execution_count": null,
   "metadata": {},
   "outputs": [],
   "source": [
    "report_entry_nodes_file = h5py.File(report_entry_nodes_filename)\n",
    "\n",
    "ren_report = report_entry_nodes_file['report']\n",
    "ren_vasculature = ren_report['vasculature']\n",
    "ren_subgraph_ids = ren_vasculature['subgraph_id']\n",
    "ren_pairs = ren_vasculature['pairs']\n",
    "ren_types = ren_vasculature['type']\n"
   ]
  },
  {
   "cell_type": "code",
   "execution_count": null,
   "metadata": {},
   "outputs": [],
   "source": [
    "import os\n",
    "os.remove(vasculature_filename)\n",
    "vasculature_file = h5py.File(vasculature_filename, mode='w')\n",
    "v_edges = vasculature_file.create_group('edges')\n",
    "v_vasculature = v_edges.create_group('vasculature')\n",
    "v_zero = v_vasculature.create_group('0')\n",
    "v_zero.create_dataset('start_diameter', shape=gwe_start_diameters.shape, dtype=gwe_start_diameters.dtype, data=gwe_start_diameters)\n",
    "v_zero.create_dataset('start_x', shape=gwe_start_xs.shape, dtype=gwe_start_xs.dtype, data=gwe_start_xs)\n",
    "v_zero.create_dataset('start_y', shape=gwe_start_ys.shape, dtype=gwe_start_ys.dtype, data=gwe_start_ys)\n",
    "v_zero.create_dataset('start_z', shape=gwe_start_zs.shape, dtype=gwe_start_zs.dtype, data=gwe_start_zs)\n",
    "v_zero.create_dataset('end_diameter', shape=gwe_end_diameters.shape, dtype=gwe_end_diameters.dtype, data=gwe_end_diameters)\n",
    "v_zero.create_dataset('end_x', shape=gwe_end_xs.shape, dtype=gwe_end_xs.dtype, data=gwe_end_xs)\n",
    "v_zero.create_dataset('end_y', shape=gwe_end_ys.shape, dtype=gwe_end_ys.dtype, data=gwe_end_ys)\n",
    "v_zero.create_dataset('end_z', shape=gwe_end_zs.shape, dtype=gwe_end_zs.dtype, data=gwe_end_zs)\n",
    "v_zero.create_dataset('segment_id', shape=gwe_segment_ids.shape, dtype=gwe_segment_ids.dtype, data=gwe_segment_ids)\n",
    "v_zero.create_dataset('section_id', shape=gwe_section_ids.shape, dtype=gwe_section_ids.dtype, data=gwe_section_ids)\n",
    "v_zero.create_dataset('type', shape=ren_types.shape, dtype=ren_types.dtype, data=ren_types)\n",
    "v_zero.create_dataset('subgraph_id', shape=ren_subgraph_ids.shape, dtype=ren_subgraph_ids.dtype, data=ren_subgraph_ids)\n",
    "v_zero.create_dataset('pairs', shape=ren_pairs.shape, dtype=ren_pairs.dtype, data=ren_pairs)\n",
    "vasculature_file.close()"
   ]
  },
  {
   "cell_type": "markdown",
   "metadata": {},
   "source": [
    "## Test files"
   ]
  },
  {
   "cell_type": "code",
   "execution_count": null,
   "metadata": {},
   "outputs": [],
   "source": [
    "nb_elements = 491"
   ]
  },
  {
   "cell_type": "markdown",
   "metadata": {},
   "source": [
    "### Vasculature"
   ]
  },
  {
   "cell_type": "code",
   "execution_count": 36,
   "metadata": {},
   "outputs": [],
   "source": [
    "vasculature_file = h5py.File(vasculature_filename)\n",
    "\n",
    "vas_nodes = vasculature_file['nodes']\n",
    "vas_vasculature = vas_nodes['vasculature']\n",
    "vas_zero = vas_vasculature['0']\n",
    "vas_start_diameters = vas_zero['start_diameter'][0:nb_elements]\n",
    "vas_start_xs = vas_zero['start_x'][0:nb_elements]\n",
    "vas_start_ys = vas_zero['start_y'][0:nb_elements]\n",
    "vas_start_zs = vas_zero['start_z'][0:nb_elements]\n",
    "vas_end_diameters = vas_zero['end_diameter'][0:nb_elements]\n",
    "vas_end_xs = vas_zero['end_x'][0:nb_elements]\n",
    "vas_end_ys = vas_zero['end_y'][0:nb_elements]\n",
    "vas_end_zs = vas_zero['end_z'][0:nb_elements]\n",
    "vas_segment_ids = vas_zero['segment_id'][0:nb_elements]\n",
    "vas_section_ids = vas_zero['section_id'][0:nb_elements]\n",
    "vas_subgraph_ids = vas_zero['subgraph_id'][0:nb_elements]\n",
    "vas_entry_edges_ids = vas_zero['entry_edges'][0:nb_elements]\n",
    "vas_pairs = vas_zero['pairs'][0:nb_elements]\n",
    "vas_types = vas_zero['type'][0:nb_elements]\n",
    "\n",
    "if os.path.isfile(test_filename):\n",
    "    os.remove(test_filename)\n",
    "test_file = h5py.File(test_filename, mode='w')\n",
    "v_nodes = test_file.create_group('nodes')\n",
    "v_vasculature = v_nodes.create_group('vasculature')\n",
    "v_vasculature.create_dataset('node_type_id', shape=vas_types.shape, dtype=vas_types.dtype, data=vas_types)\n",
    "v_zero = v_vasculature.create_group('0')\n",
    "v_zero.create_dataset('start_diameter', vas_start_diameters.shape, dtype=vas_start_diameters.dtype, data=vas_start_diameters)\n",
    "v_zero.create_dataset('start_x', shape=vas_start_xs.shape, dtype=vas_start_xs.dtype, data=vas_start_xs)\n",
    "v_zero.create_dataset('start_y', shape=vas_start_ys.shape, dtype=vas_start_ys.dtype, data=vas_start_ys)\n",
    "v_zero.create_dataset('start_z', shape=vas_start_zs.shape, dtype=vas_start_zs.dtype, data=vas_start_zs)\n",
    "v_zero.create_dataset('end_diameter', shape=vas_end_diameters.shape, dtype=vas_end_diameters.dtype, data=vas_end_diameters)\n",
    "v_zero.create_dataset('end_x', shape=vas_end_xs.shape, dtype=vas_end_xs.dtype, data=vas_end_xs)\n",
    "v_zero.create_dataset('end_y', shape=vas_end_ys.shape, dtype=vas_end_ys.dtype, data=vas_end_ys)\n",
    "v_zero.create_dataset('end_z', shape=vas_end_zs.shape, dtype=vas_end_zs.dtype, data=vas_end_zs)\n",
    "v_zero.create_dataset('segment_id', shape=vas_segment_ids.shape, dtype=vas_segment_ids.dtype, data=vas_segment_ids)\n",
    "v_zero.create_dataset('section_id', shape=vas_section_ids.shape, dtype=vas_section_ids.dtype, data=vas_section_ids)\n",
    "v_zero.create_dataset('type', shape=vas_types.shape, dtype=vas_types.dtype, data=vas_types)\n",
    "v_zero.create_dataset('subgraph_id', shape=vas_subgraph_ids.shape, dtype=vas_subgraph_ids.dtype, data=vas_subgraph_ids)\n",
    "v_zero.create_dataset('pairs', shape=vas_pairs.shape, dtype=vas_pairs.dtype, data=vas_pairs)\n",
    "v_zero.create_dataset('entry_edges', shape=vas_entry_edges_ids.shape, dtype=vas_entry_edges_ids.dtype, data=vas_entry_edges_ids)\n",
    "test_file.close()\n",
    "\n"
   ]
  },
  {
   "cell_type": "markdown",
   "metadata": {},
   "source": [
    "### Blood flow report"
   ]
  },
  {
   "cell_type": "code",
   "execution_count": 37,
   "metadata": {},
   "outputs": [],
   "source": [
    "import numpy as np\n",
    "nb_frames = 10\n",
    "nb_elements = 491\n",
    "rff_data = np.zeros(shape=(nb_frames, nb_elements), dtype=np.float32)\n",
    "for i in range(nb_frames):\n",
    "    rff_data[i] = np.random.rand(nb_elements)\n",
    "\n",
    "os.remove(test_report_filename)\n",
    "test_report_file = h5py.File(test_report_filename, mode='w')\n",
    "rff_report = test_report_file.create_group('report')\n",
    "rff_vasculature = rff_report.create_group('vasculature')\n",
    "dts = rff_vasculature.create_dataset('data', shape=rff_data.shape, dtype=rff_data.dtype, data=rff_data)\n",
    "dts.attrs['units'] = 'µm^3.s^-1'\n",
    "\n",
    "rff_mapping = rff_vasculature.create_group('mapping')\n",
    "rff_element_ids = np.zeros(shape=(nb_elements,), dtype=np.uint32)\n",
    "rff_mapping.create_dataset('element_ids', shape=rff_element_ids.shape, dtype=rff_element_ids.dtype, data=rff_element_ids)\n",
    "rff_node_ids = np.arange(0, nb_elements, 1, dtype=np.uint64)\n",
    "dts = rff_mapping.create_dataset('node_ids', shape=rff_node_ids.shape, dtype=rff_node_ids.dtype, data=rff_node_ids)\n",
    "dts.attrs['sorted'] = np.uint8(1)\n",
    "rff_mapping.create_dataset('index_pointers', shape=rff_node_ids.shape, dtype=rff_node_ids.dtype, data=rff_node_ids)\n",
    "dts = rff_mapping.create_dataset(name='time', shape=(3,), dtype=np.float64, data=[0.0, 1.0, 0.1])\n",
    "dts.attrs['units'] = 's'\n",
    "test_report_file.close()"
   ]
  },
  {
   "cell_type": "markdown",
   "metadata": {},
   "source": [
    "### "
   ]
  }
 ],
 "metadata": {
  "kernelspec": {
   "display_name": "Python 3 (ipykernel)",
   "language": "python",
   "name": "python3"
  },
  "language_info": {
   "codemirror_mode": {
    "name": "ipython",
    "version": 3
   },
   "file_extension": ".py",
   "mimetype": "text/x-python",
   "name": "python",
   "nbconvert_exporter": "python",
   "pygments_lexer": "ipython3",
   "version": "3.8.10"
  }
 },
 "nbformat": 4,
 "nbformat_minor": 2
}
