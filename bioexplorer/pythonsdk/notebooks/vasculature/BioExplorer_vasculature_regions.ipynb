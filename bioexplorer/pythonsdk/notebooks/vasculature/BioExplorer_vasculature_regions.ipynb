{
 "cells": [
  {
   "cell_type": "markdown",
   "id": "f992ef9f",
   "metadata": {},
   "source": [
    "# BioExplorer - Vasculature\n",
    "![](../bioexplorer_vasculature_banner.png)"
   ]
  },
  {
   "cell_type": "markdown",
   "id": "ab65571d",
   "metadata": {},
   "source": [
    "### Connect to back-end"
   ]
  },
  {
   "cell_type": "code",
   "execution_count": null,
   "id": "649df02e",
   "metadata": {},
   "outputs": [],
   "source": [
    "from bioexplorer import BioExplorer, Vector3\n",
    "import seaborn as sns\n",
    "\n",
    "url = 'r2i2n8.bbp.epfl.ch:5000'\n",
    "be = BioExplorer(url)\n",
    "core = be.core_api()\n",
    "status = be.reset_scene()"
   ]
  },
  {
   "cell_type": "code",
   "execution_count": null,
   "id": "b289ca93",
   "metadata": {},
   "outputs": [],
   "source": [
    "import os\n",
    "from sqlalchemy import create_engine\n",
    "from sqlalchemy.orm import Session\n",
    "from tqdm.notebook import tqdm\n",
    "import numpy as np\n",
    "\n",
    "db_host = os.getenv('DB_HOST')\n",
    "db_name = os.getenv('DB_NAME')\n",
    "db_user = os.getenv('DB_USER')\n",
    "db_password = os.getenv('DB_PASSWORD')\n",
    "db_schema = 'wholebrain_ml20200201_point_vasculature_lps_registrered_25um'\n",
    "\n",
    "db_connection_string = 'postgresql+psycopg2://%s:%s@%s:5432/%s' % (db_user, db_password, db_host, db_name)\n",
    "print('Connection string: ' + db_connection_string + ', schema: ' + db_schema)\n",
    "\n",
    "engine = create_engine(db_connection_string)\n",
    "conn = engine.connect()\n",
    "\n",
    "population_name = db_schema"
   ]
  },
  {
   "cell_type": "markdown",
   "id": "5e5e0ce1",
   "metadata": {},
   "source": [
    "### Load vasculature by region"
   ]
  },
  {
   "cell_type": "code",
   "execution_count": null,
   "id": "7de58d1f",
   "metadata": {},
   "outputs": [],
   "source": [
    "with Session(engine) as session:\n",
    "    data = session.execute('SELECT DISTINCT(region_guid) FROM %s.node' % db_schema)\n",
    "    regions = data.all()"
   ]
  },
  {
   "cell_type": "code",
   "execution_count": null,
   "id": "b995bcac",
   "metadata": {},
   "outputs": [],
   "source": [
    "from tqdm import tqdm\n",
    "\n",
    "for region in tqdm(regions):\n",
    "    region_guid = region[0]\n",
    "    try:\n",
    "        assembly_name = 'Vasculature_Region_%d' % region_guid\n",
    "        be.remove_assembly(assembly_name)\n",
    "        vasculature_assembly = be.add_assembly(assembly_name)\n",
    "        vasculature_model = be.add_vasculature(\n",
    "            assembly_name=assembly_name,\n",
    "            population_name=population_name,\n",
    "            representation=be.VASCULATURE_REPRESENTATION_SEGMENT,\n",
    "            radius_multiplier=1.0/25.0,\n",
    "            sql_filter='region_guid=%d' % region_guid\n",
    "        )\n",
    "    except RuntimeError as e:\n",
    "        print(e)"
   ]
  },
  {
   "cell_type": "markdown",
   "id": "c5e3478b",
   "metadata": {},
   "source": [
    "### Set materials"
   ]
  },
  {
   "cell_type": "code",
   "execution_count": null,
   "id": "ba81f0ee",
   "metadata": {},
   "outputs": [],
   "source": [
    "def set_materials(model_id, color):\n",
    "    material_ids = be.get_material_ids(model_id)['ids']\n",
    "    nb_material_ids = len(material_ids)\n",
    "    palette = list()\n",
    "    for _ in material_ids:\n",
    "        palette.append(color)\n",
    "    be.set_materials(\n",
    "        model_ids=[model_id], material_ids=material_ids,\n",
    "        diffuse_colors=palette, specular_colors=palette)\n",
    "\n",
    "model_ids = be.get_model_ids()['ids']\n",
    "palette = sns.color_palette('Set3', len(model_ids))\n",
    "i = 0\n",
    "for model_id in model_ids:\n",
    "    set_materials(model_id, palette[i])\n",
    "    i += 1\n",
    "be.reset_camera()\n",
    "core.set_renderer()"
   ]
  },
  {
   "cell_type": "markdown",
   "id": "b7b6daf4",
   "metadata": {},
   "source": [
    "### Rendering settings"
   ]
  },
  {
   "cell_type": "code",
   "execution_count": null,
   "id": "f9f1b5c2",
   "metadata": {},
   "outputs": [],
   "source": [
    "status = core.set_renderer(\n",
    "    current='bio_explorer',\n",
    "    subsampling=4, max_accum_frames=64)\n",
    "params = core.BioExplorerRendererParams()\n",
    "params.gi_distance = 1000.0\n",
    "params.shadows = 1.0\n",
    "params.soft_shadows = 1.0\n",
    "status = core.set_renderer_params(params)"
   ]
  },
  {
   "cell_type": "code",
   "execution_count": null,
   "id": "b34b334c",
   "metadata": {},
   "outputs": [],
   "source": []
  }
 ],
 "metadata": {
  "interpreter": {
   "hash": "ea9a5fa46eb6bad2806a8ea1d08e15bb1e255a2d4320b81e765591579963c56b"
  },
  "kernelspec": {
   "display_name": "Python 3 (ipykernel)",
   "language": "python",
   "name": "python3"
  },
  "language_info": {
   "codemirror_mode": {
    "name": "ipython",
    "version": 3
   },
   "file_extension": ".py",
   "mimetype": "text/x-python",
   "name": "python",
   "nbconvert_exporter": "python",
   "pygments_lexer": "ipython3",
   "version": "3.8.10"
  }
 },
 "nbformat": 4,
 "nbformat_minor": 5
}
