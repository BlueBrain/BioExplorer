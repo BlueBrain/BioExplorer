{
    "cells": [
        {
            "cell_type": "markdown",
            "id": "f992ef9f",
            "metadata": {},
            "source": [
                "# BioExplorer - Vasculature\n",
                "![](../bioexplorer_vasculature_banner.png)"
            ]
        },
        {
            "cell_type": "markdown",
            "id": "ab65571d",
            "metadata": {},
            "source": [
                "### Connect to back-end"
            ]
        },
        {
            "cell_type": "code",
            "execution_count": null,
            "id": "649df02e",
            "metadata": {},
            "outputs": [],
            "source": [
                "from bioexplorer import BioExplorer, Vector3\n",
                "\n",
                "url = 'localhost:5000'\n",
                "be = BioExplorer(url)\n",
                "core = be.core_api()\n",
                "status = be.reset_scene()"
            ]
        },
        {
            "cell_type": "markdown",
            "id": "5e5e0ce1",
            "metadata": {},
            "source": [
                "### Load vasculature by region"
            ]
        },
        {
            "cell_type": "code",
            "execution_count": null,
            "id": "b995bcac",
            "metadata": {},
            "outputs": [],
            "source": [
                "assembly_name = 'Vasculature'\n",
                "population_name = 'vasculature'\n",
                "be.remove_assembly(assembly_name)\n",
                "\n",
                "vasculature_assembly = be.add_assembly(assembly_name)\n",
                "vasculature_model = be.add_vasculature(\n",
                "    assembly_name=assembly_name,\n",
                "    population_name=population_name,\n",
                "    representation=be.VASCULATURE_REPRESENTATION_SEGMENT,\n",
                "    color_scheme=be.VASCULATURE_COLOR_SCHEME_REGION,\n",
                "    realism_level=be.VASCULATURE_REALISM_LEVEL_ALL\n",
                ")"
            ]
        },
        {
            "cell_type": "markdown",
            "id": "c5e3478b",
            "metadata": {},
            "source": [
                "### Set materials"
            ]
        },
        {
            "cell_type": "code",
            "execution_count": null,
            "id": "ba81f0ee",
            "metadata": {},
            "outputs": [],
            "source": [
                "import json\n",
                "import os\n",
                "from webcolors import hex_to_rgb\n",
                "\n",
                "f = open('brain_regions.json')\n",
                "obj = json.load(f)\n",
                "\n",
                "colors=dict()\n",
                "colors[0] = [0, 0, 0]\n",
                "def display_child(node):\n",
                "    node_id = node['id']\n",
                "    color_hex_triplet = node['color_hex_triplet']\n",
                "    c = hex_to_rgb('#' + color_hex_triplet)\n",
                "    color = [float(c.red/256.0), float(c.green/256.0), float(c.blue/256.0)]\n",
                "    colors[node_id] = color\n",
                "    for child in node['children']:\n",
                "        display_child(child)\n",
                "\n",
                "for node in obj['msg']:\n",
                "    display_child(node)"
            ]
        },
        {
            "cell_type": "code",
            "execution_count": null,
            "id": "7ad92e89",
            "metadata": {},
            "outputs": [],
            "source": [
                "def set_standard_colors(model_id):\n",
                "    material_ids = be.get_material_ids(model_id)['ids']\n",
                "    nb_material_ids = len(material_ids)\n",
                "    palette = list()\n",
                "    for material_id in material_ids:\n",
                "        try:\n",
                "            palette.append(colors[material_id])\n",
                "        except KeyError as e:\n",
                "            palette.append([0.5,0.5,0.5])\n",
                "    be.set_materials(\n",
                "        model_ids=[model_id], material_ids=material_ids,\n",
                "        diffuse_colors=palette, specular_colors=palette)\n",
                "\n",
                "model_ids = be.get_model_ids()['ids']\n",
                "for model_id in model_ids:\n",
                "    set_standard_colors(model_id)"
            ]
        },
        {
            "cell_type": "markdown",
            "id": "b7b6daf4",
            "metadata": {},
            "source": [
                "### Rendering settings"
            ]
        },
        {
            "cell_type": "code",
            "execution_count": null,
            "id": "f9f1b5c2",
            "metadata": {},
            "outputs": [],
            "source": [
                "status = core.set_renderer(\n",
                "    current='advanced',\n",
                "    subsampling=4, max_accum_frames=64)\n",
                "params = core.AdvancedRendererParams()\n",
                "params.gi_ray_length = 1000.0\n",
                "params.shadow_intensity = 1.0\n",
                "params.soft_shadow_strength = 1.0\n",
                "status = core.set_renderer_params(params)"
            ]
        }
    ],
    "metadata": {
        "interpreter": {
            "hash": "ea9a5fa46eb6bad2806a8ea1d08e15bb1e255a2d4320b81e765591579963c56b"
        },
        "kernelspec": {
            "display_name": "Python 3 (ipykernel)",
            "language": "python",
            "name": "python3"
        },
        "language_info": {
            "codemirror_mode": {
                "name": "ipython",
                "version": 3
            },
            "file_extension": ".py",
            "mimetype": "text/x-python",
            "name": "python",
            "nbconvert_exporter": "python",
            "pygments_lexer": "ipython3",
            "version": "3.8.10"
        }
    },
    "nbformat": 4,
    "nbformat_minor": 5
}