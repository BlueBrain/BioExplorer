{
    "cells": [
        {
            "cell_type": "markdown",
            "id": "f992ef9f",
            "metadata": {},
            "source": [
                "# BioExplorer - Vasculature\n",
                "![](../bioexplorer_vasculature_banner.png)"
            ]
        },
        {
            "cell_type": "markdown",
            "metadata": {},
            "source": [
                "### Connect to back-end"
            ]
        },
        {
            "cell_type": "code",
            "execution_count": null,
            "metadata": {},
            "outputs": [],
            "source": [
                "from bioexplorer import BioExplorer, Vector3\n",
                "import seaborn as sns\n",
                "\n",
                "url = 'localhost:5000'\n",
                "be = BioExplorer(url)\n",
                "core = be.core_api()\n",
                "status = be.reset_scene()\n",
                "\n",
                "morphology_realism_level = be.MORPHOLOGY_REALISM_LEVEL_SOMA \n",
                "vasculature_realism_level = be.VASCULATURE_REALISM_LEVEL_NONE"
            ]
        },
        {
            "cell_type": "markdown",
            "metadata": {},
            "source": [
                "### Vasculature"
            ]
        },
        {
            "cell_type": "code",
            "execution_count": null,
            "id": "86a5bbd3",
            "metadata": {},
            "outputs": [],
            "source": [
                "vasculature_assembly_name = 'Vasculature'\n",
                "vasculature_population_name = 'vasculature'\n",
                "\n",
                "o = Vector3(334.274978637695, 0, 598.822242736816)\n",
                "d = Vector3(0.0, 1.0, 0.0)\n",
                "r = 400.0\n",
                "filter = '%s.length(%s.cross(array[%f-x,%f-y,%f-z], array[%f::double precision, %f, %f])) < %f' % (vasculature_population_name, vasculature_population_name, o.x, o.y, o.z, d.x, d.y, d.z, r)\n",
                "\n",
                "be.remove_assembly(vasculature_assembly_name)\n",
                "vasculature_assembly = be.add_assembly(vasculature_assembly_name)\n",
                "vasculature_model = be.add_vasculature(\n",
                "    assembly_name=vasculature_assembly_name,\n",
                "    population_name=vasculature_population_name,\n",
                "    realism_level=vasculature_realism_level, sql_filter=filter,\n",
                "    representation=be.vascular_representation.OPTIMIZED_SEGMENT\n",
                ")"
            ]
        },
        {
            "cell_type": "markdown",
            "id": "a238564b",
            "metadata": {},
            "source": [
                "### Astrocytes"
            ]
        },
        {
            "cell_type": "code",
            "execution_count": null,
            "id": "11fc8827",
            "metadata": {},
            "outputs": [],
            "source": [
                "astrocytes_assembly_name = 'Astrocytes'\n",
                "be.remove_assembly(astrocytes_assembly_name)\n",
                "vasculature_assembly = be.add_assembly(astrocytes_assembly_name)\n",
                "vasculature_model = be.add_astrocytes(\n",
                "    assembly_name=astrocytes_assembly_name,\n",
                "    population_name='astrocytes',\n",
                "    vasculature_population_name=vasculature_population_name, # This creates end-feet to the vasculature\n",
                "    population_color_scheme=be.POPULATION_COLOR_SCHEME_ID,\n",
                "    realism_level=morphology_realism_level, sql_filter=filter + ' AND guid%10=0'\n",
                ")"
            ]
        },
        {
            "cell_type": "markdown",
            "metadata": {},
            "source": [
                "### Rendering parameters"
            ]
        },
        {
            "cell_type": "code",
            "execution_count": null,
            "metadata": {},
            "outputs": [],
            "source": [
                "status = core.set_renderer(\n",
                "    background_color=[1,1,1],\n",
                "    current='advanced',subsampling=4, max_accum_frames=64)\n",
                "params = core.AdvancedRendererParams()\n",
                "params.gi_ray_length = 500.0\n",
                "params.shadow_intensity = 1.0\n",
                "params.soft_shadow_strength = 1.0\n",
                "params.epsilon_multiplier = 10.0\n",
                "params.max_ray_depth = 1\n",
                "params.show_background = False\n",
                "params.main_exposure = 1.0\n",
                "status = core.set_renderer_params(params)\n",
                "status = core.set_renderer()"
            ]
        },
        {
            "cell_type": "code",
            "execution_count": null,
            "metadata": {},
            "outputs": [],
            "source": [
                "def set_materials(model_id, material_ids, palette, cast_user_data=False, reflection_index=0.0):\n",
                "    user_params=list()\n",
                "    opacities=list()\n",
                "    refraction_indices=list()\n",
                "    reflection_indices=list()\n",
                "    shading_modes=list()\n",
                "    diffuse_colors=list()\n",
                "    specular_colors=list()\n",
                "    specular_exponents=list()\n",
                "    glossinesses=list()\n",
                "    emissions=list()\n",
                "    cast_user_datas = list()\n",
                "    \n",
                "    for i in range(len(palette)):\n",
                "        user_params.append(0.05)\n",
                "        opacities.append(1.0)\n",
                "        refraction_indices.append(1.0)\n",
                "        reflection_indices.append(reflection_index)\n",
                "        specular_exponents.append(5.0)\n",
                "        glossinesses.append(0.1)\n",
                "        c=palette[i]\n",
                "        diffuse_colors.append(c)\n",
                "        specular_colors.append(c                                                                                                                                                                                                                                                                                                                                                                                                                                                                                                                                                                                                                                                                                                                                                                                                                                                                                                                                                                                                                                                                                                                                                                                                                                                                                                                                                                                                                                                                                                                                                                                                                                                                                                                                                                                                                                                                                                                                                                                                                                                                                                                                                                                                                                                                                                                                                                                                                                                                                                                                                                                                                                                                                                                                                                                                                                                                                                                                                                                                                                                                                                                                                                                                                                                                                                                                                                                                                                                                                                                                                                                                                                                                                                                                                        )\n",
                "        shading_modes.append(be.SHADING_MODE_GOODSELL)\n",
                "        emissions.append(0)\n",
                "        cast_user_datas.append(cast_user_data)\n",
                "        \n",
                "    be.set_materials(\n",
                "        model_ids=[model_id], material_ids=material_ids,\n",
                "        user_parameters=user_params,\n",
                "        opacities=opacities, reflection_indices=reflection_indices,\n",
                "        shading_modes=shading_modes,\n",
                "        diffuse_colors=diffuse_colors, specular_colors=specular_colors,\n",
                "        specular_exponents=specular_exponents, glossinesses=glossinesses,\n",
                "        emissions=emissions, refraction_indices=refraction_indices,\n",
                "        cast_user_datas=cast_user_datas)"
            ]
        },
        {
            "cell_type": "code",
            "execution_count": null,
            "metadata": {},
            "outputs": [],
            "source": [
                "def set_scene_materials():\n",
                "    vasculature_info = be.get_vasculature_info(assembly_name=vasculature_assembly_name)\n",
                "    vasculature_model_id = vasculature_info['modelId']    \n",
                "    for model_id in be.get_model_ids()['ids']:\n",
                "        material_ids = be.get_material_ids(model_id)['ids']\n",
                "        nb_materials = len(material_ids)\n",
                "        if model_id == vasculature_model_id:\n",
                "            palette = list()\n",
                "            for _ in range(nb_materials):\n",
                "                palette.append((0.8, 0.2, 0.1))\n",
                "            set_materials(model_id=model_id, material_ids=material_ids, palette=palette, cast_user_data=False)\n",
                "        else:\n",
                "            palette = sns.color_palette('Blues', 10)\n",
                "            p = list()\n",
                "            for i in range(nb_materials):\n",
                "                p.append(palette[5])\n",
                "            set_materials(model_id=model_id, material_ids=material_ids, palette=p, cast_user_data=False)\n",
                "    status = core.set_renderer()"
            ]
        },
        {
            "cell_type": "code",
            "execution_count": null,
            "metadata": {},
            "outputs": [],
            "source": [
                "set_scene_materials()"
            ]
        },
        {
            "cell_type": "code",
            "execution_count": null,
            "id": "6649a6a7",
            "metadata": {},
            "outputs": [],
            "source": [
                "dx = 1000.0\n",
                "dy = 10.0\n",
                "be.add_box(\n",
                "    name='Box',\n",
                "    bottom_left_corner=Vector3(o.x - dx, o.y - dy, o.z - dx), \n",
                "    top_right_corner=Vector3(o.x + dx, o.y + dy, o.z + dx),\n",
                "    color=Vector3(1,1,1))"
            ]
        },
        {
            "cell_type": "markdown",
            "metadata": {},
            "source": [
                "## Snapshots"
            ]
        },
        {
            "cell_type": "code",
            "execution_count": null,
            "metadata": {},
            "outputs": [],
            "source": [
                "status = core.set_camera(current='bio_explorer_perspective')"
            ]
        },
        {
            "cell_type": "markdown",
            "metadata": {},
            "source": [
                "### Default overview"
            ]
        },
        {
            "cell_type": "code",
            "execution_count": null,
            "metadata": {},
            "outputs": [],
            "source": [
                "status = core.set_camera(\n",
                "    orientation = [-0.188, 0.28, 0.036, 0.940],\n",
                "    position = [1577, 2183, 2511],\n",
                "    target = [333, 1279, 646])"
            ]
        },
        {
            "cell_type": "code",
            "execution_count": null,
            "metadata": {},
            "outputs": [],
            "source": [
                "from bioexplorer import MovieMaker\n",
                "mm = MovieMaker(be)\n",
                "mm.create_snapshot(\n",
                "    renderer='advanced',\n",
                "    path='/tmp', base_name='ngv_cylinder_4k_v1',\n",
                "    size=[2160, 3840], samples_per_pixel=64)"
            ]
        }
    ],
    "metadata": {
        "interpreter": {
            "hash": "ea9a5fa46eb6bad2806a8ea1d08e15bb1e255a2d4320b81e765591579963c56b"
        },
        "kernelspec": {
            "display_name": "Python 3.8.10 64-bit ('env': venv)",
            "language": "python",
            "name": "python3"
        },
        "language_info": {
            "codemirror_mode": {
                "name": "ipython",
                "version": 3
            },
            "file_extension": ".py",
            "mimetype": "text/x-python",
            "name": "python",
            "nbconvert_exporter": "python",
            "pygments_lexer": "ipython3",
            "version": "3.10.12"
        }
    },
    "nbformat": 4,
    "nbformat_minor": 5
}