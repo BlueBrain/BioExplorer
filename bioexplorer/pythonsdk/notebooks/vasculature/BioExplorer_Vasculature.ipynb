{
 "cells": [
  {
   "cell_type": "markdown",
   "metadata": {},
   "source": [
    "# Vasculature simulation use-case"
   ]
  },
  {
   "cell_type": "markdown",
   "metadata": {},
   "source": [
    "### Connect to back-end"
   ]
  },
  {
   "cell_type": "code",
   "execution_count": null,
   "metadata": {},
   "outputs": [],
   "source": [
    "from bioexplorer import BioExplorer\n",
    "\n",
    "url = 'localhost:5000'\n",
    "be = BioExplorer(url)\n",
    "core = be.core_api()"
   ]
  },
  {
   "cell_type": "code",
   "execution_count": null,
   "metadata": {},
   "outputs": [],
   "source": [
    "status = core.set_camera(\n",
    "    orientation = [-0.188, 0.28, 0.036, 0.940],\n",
    "    position = [1577, 2183, 2511],\n",
    "    target = [333, 1279, 646])"
   ]
  },
  {
   "cell_type": "code",
   "execution_count": null,
   "metadata": {},
   "outputs": [],
   "source": [
    "status = core.set_renderer(\n",
    "    current='bio_explorer',\n",
    "    subsampling=4, max_accum_frames=32)\n",
    "params = core.BioExplorerRendererParams()\n",
    "params.epsilon_factor = 1000.0\n",
    "params.shadows = 1.0\n",
    "params.soft_shadows = 1.0\n",
    "status = core.set_renderer_params(params)"
   ]
  },
  {
   "cell_type": "markdown",
   "metadata": {},
   "source": [
    "### "
   ]
  },
  {
   "cell_type": "markdown",
   "metadata": {},
   "source": [
    "### Load vasculature"
   ]
  },
  {
   "cell_type": "code",
   "execution_count": null,
   "metadata": {},
   "outputs": [],
   "source": [
    "data_folder = '/home/favreau/Downloads/'\n",
    "vasculature_file = data_folder + 'graph_with_endfeet.h5'\n",
    "vasculature_model = be.add_vasculature(\n",
    "    name='Vasculature', path=vasculature_file,\n",
    "    use_sdf=False, load_capilarities=False\n",
    ")"
   ]
  },
  {
   "cell_type": "code",
   "execution_count": null,
   "metadata": {},
   "outputs": [],
   "source": [
    "be.set_vasculature_color_scheme(\n",
    "    color_scheme=be.VASCULATURE_COLOR_SCHEME_SUBGRAPH,\n",
    "    palette_name='rainbow'\n",
    ")"
   ]
  },
  {
   "cell_type": "markdown",
   "metadata": {},
   "source": [
    "## Simulation reports"
   ]
  },
  {
   "cell_type": "code",
   "execution_count": null,
   "metadata": {},
   "outputs": [],
   "source": [
    "vasculature_info = be.get_vasculature_info()\n",
    "print(vasculature_info) "
   ]
  },
  {
   "cell_type": "code",
   "execution_count": null,
   "metadata": {},
   "outputs": [],
   "source": [
    "from bioexplorer import TransferFunction\n",
    "vasculature_model_id = vasculature_info['modelId']\n",
    "tf = TransferFunction(\n",
    "    bioexplorer=BioExplorer(url), name='Reds',\n",
    "    model_id=vasculature_model_id, size=16, alpha=1.0\n",
    ")"
   ]
  },
  {
   "cell_type": "code",
   "execution_count": null,
   "metadata": {},
   "outputs": [],
   "source": [
    "''' Report file names and value ranges '''\n",
    "reports = ['report_flows', 'report_pressures', 'report_radii']\n",
    "reports_ranges = [[-0.5, 1.5], [0, 0.0015], [0, 45]]\n",
    "\n",
    "''' Attach report to vasculature '''\n",
    "report_id = 2\n",
    "debug = True\n",
    "\n",
    "report_filename = data_folder + reports[report_id] +'.h5'\n",
    "be.set_vasculature_report(\n",
    "    path=report_filename, debug=debug)\n",
    "if debug:\n",
    "    tf.set_range([0.0, 1.0])\n",
    "else:\n",
    "    tf.set_range(reports_ranges[report_id])"
   ]
  },
  {
   "cell_type": "markdown",
   "metadata": {},
   "source": [
    "## Radius report"
   ]
  },
  {
   "cell_type": "code",
   "execution_count": null,
   "metadata": {},
   "outputs": [],
   "source": [
    "import time\n",
    "report_filename = data_folder + 'report_radii.h5'\n",
    "\n",
    "core.set_renderer(\n",
    "    current='bio_explorer',\n",
    "    subsampling=1, max_accum_frames=1)\n",
    "\n",
    "for frame in range(0, 360, 9):\n",
    "    core.set_animation_parameters(current=frame)\n",
    "    be.set_vasculature_radius_report(\n",
    "        path=report_filename, frame=frame, amplitude=2.0, debug=True)\n",
    "    core.set_renderer()\n",
    "    time.sleep(0.1)"
   ]
  }
 ],
 "metadata": {
  "kernelspec": {
   "display_name": "Python 3 (ipykernel)",
   "language": "python",
   "name": "python3"
  },
  "language_info": {
   "codemirror_mode": {
    "name": "ipython",
    "version": 3
   },
   "file_extension": ".py",
   "mimetype": "text/x-python",
   "name": "python",
   "nbconvert_exporter": "python",
   "pygments_lexer": "ipython3",
   "version": "3.8.10"
  }
 },
 "nbformat": 4,
 "nbformat_minor": 2
}
