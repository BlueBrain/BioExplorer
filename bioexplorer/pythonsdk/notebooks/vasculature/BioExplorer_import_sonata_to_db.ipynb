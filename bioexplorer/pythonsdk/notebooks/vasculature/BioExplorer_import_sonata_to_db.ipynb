{
 "cells": [
  {
   "cell_type": "markdown",
   "id": "4c272b53",
   "metadata": {},
   "source": [
    "# Notebook to import Sonata-based files into the database"
   ]
  },
  {
   "cell_type": "code",
   "execution_count": null,
   "id": "345ec844",
   "metadata": {
    "scrolled": true
   },
   "outputs": [],
   "source": [
    "import os\n",
    "from sqlalchemy import create_engine\n",
    "from sqlalchemy.orm import Session\n",
    "from tqdm.notebook import tqdm\n",
    "\n",
    "db_host = os.getenv('DB_HOST')\n",
    "db_name = os.getenv('DB_NAME')\n",
    "db_user = os.getenv('DB_USER')\n",
    "db_password = os.getenv('DB_PASSWORD')\n",
    "db_schema = 'vasculature'\n",
    "\n",
    "db_connection_string = 'postgresql+psycopg2://%s:%s@%s:5432/%s' % (db_user, db_password, db_host, db_name)\n",
    "print('Connection string: ' + db_connection_string + ', schema: ' + db_schema)\n",
    "\n",
    "engine = create_engine(db_connection_string)\n",
    "conn = engine.connect()"
   ]
  },
  {
   "cell_type": "code",
   "execution_count": null,
   "id": "1e0f227d",
   "metadata": {},
   "outputs": [],
   "source": [
    "import libsonata\n",
    "data_folder = os.getenv('VASCULATURE_DATA_FOLDER')\n",
    "print(data_folder)"
   ]
  },
  {
   "cell_type": "markdown",
   "id": "a834b1e2",
   "metadata": {},
   "source": [
    "## Nodes"
   ]
  },
  {
   "cell_type": "code",
   "execution_count": null,
   "id": "5b8c6351",
   "metadata": {},
   "outputs": [],
   "source": [
    "import numpy as np\n",
    "\n",
    "nodes = libsonata.NodeStorage(os.path.join(data_folder, 'report_vasculature_6_entry_nodes_new.h5'))\n",
    "vasculature_population = nodes.open_population('vasculature')\n",
    "vasculature_population.attribute_names\n",
    "ids = np.arange(0, vasculature_population.size)\n",
    "start_xs = vasculature_population.get_attribute('start_x', list(ids))\n",
    "start_ys = vasculature_population.get_attribute('start_y', list(ids))\n",
    "start_zs = vasculature_population.get_attribute('start_z', list(ids))\n",
    "start_ds = vasculature_population.get_attribute('start_diameter', list(ids))\n",
    "section_ids = vasculature_population.get_attribute('section_id', list(ids))\n",
    "graph_ids = vasculature_population.get_attribute('subgraph_id', list(ids))\n",
    "entry_node_ids = vasculature_population.get_attribute('entry_edges', list(ids))\n",
    "pair_ids = vasculature_population.get_attribute('pairs', list(ids))\n",
    "# bifurcations = vasculature_population.get_attribute('edges_bifurcations', list(ids))"
   ]
  },
  {
   "cell_type": "code",
   "execution_count": null,
   "id": "2d9c1613",
   "metadata": {},
   "outputs": [],
   "source": [
    "# Population\n",
    "population_description = 'Vasculature'\n",
    "population_guid = 1"
   ]
  },
  {
   "cell_type": "code",
   "execution_count": null,
   "id": "509db7ae",
   "metadata": {},
   "outputs": [],
   "source": [
    "sql_command = \"INSERT INTO \" + db_schema +  \".population VALUES (%d, '%s');\" % (population_guid, population_description)\n",
    "conn.execute(sql_command, conn)"
   ]
  },
  {
   "cell_type": "code",
   "execution_count": 7,
   "id": "6f4f8f43",
   "metadata": {},
   "outputs": [
    {
     "name": "stdout",
     "output_type": "stream",
     "text": [
      "Deleting existing nodes\n",
      "Populating nodes\n"
     ]
    },
    {
     "data": {
      "application/vnd.jupyter.widget-view+json": {
       "model_id": "ea585d737404493cb48cd373c3005007",
       "version_major": 2,
       "version_minor": 0
      },
      "text/plain": [
       "  0%|          | 0/1349411 [00:00<?, ?it/s]"
      ]
     },
     "metadata": {},
     "output_type": "display_data"
    }
   ],
   "source": [
    "# Nodes\n",
    "print('Deleting existing nodes')\n",
    "with Session(engine) as session:\n",
    "    session.execute(\n",
    "        'DELETE FROM %s.node WHERE population_guid=:population_guid' % db_schema,\n",
    "        {\n",
    "            'population_guid': population_guid\n",
    "        }\n",
    "    )\n",
    "    session.commit()\n",
    "\n",
    "print('Populating nodes')\n",
    "duplicated_nodes = list()\n",
    "with Session(engine) as session:\n",
    "    for i in tqdm(range(vasculature_population.size)):\n",
    "        session.execute(\n",
    "            'INSERT INTO %s.node VALUES (:guid, :population_guid, :x, :y, :z, :radius, :section_guid, :sub_graph_guid, :pair_guid, :entry_node_guid)' % db_schema,\n",
    "            {\n",
    "                'guid': i,\n",
    "                'population_guid': population_guid,\n",
    "                'x': start_xs[i],\n",
    "                'y': start_ys[i],\n",
    "                'z': start_zs[i],\n",
    "                'radius': start_ds[i] * 0.5,\n",
    "                'section_guid': int(section_ids[i]),\n",
    "                'sub_graph_guid': int(graph_ids[i]),\n",
    "                'pair_guid': int(pair_ids[i]),\n",
    "                'entry_node_guid': int(entry_node_ids[i]),\n",
    "            }\n",
    "        )\n",
    "        if i % 1000 == 999:\n",
    "            session.commit()\n",
    "    session.commit()"
   ]
  },
  {
   "cell_type": "markdown",
   "id": "246fd361",
   "metadata": {},
   "source": [
    "## Reports"
   ]
  },
  {
   "cell_type": "code",
   "execution_count": null,
   "id": "115b349c",
   "metadata": {},
   "outputs": [],
   "source": [
    "import numpy as np\n",
    "\n",
    "\n",
    "def import_simulation_report(simulation_report_guid, population_guid, description, path):\n",
    "    print('Importing %s from %s' % (description, path))\n",
    "\n",
    "    reader = libsonata.ElementReportReader(path)\n",
    "    reader.get_population_names()\n",
    "    vasculature_report_population = reader['vasculature']\n",
    "\n",
    "    # Report\n",
    "    with Session(engine) as session:\n",
    "        session.execute(\n",
    "            'DELETE FROM %s.simulation_report WHERE population_guid=:population_guid AND simulation_report_guid=:simulation_report_guid' % db_schema,\n",
    "            {\n",
    "                'population_guid': population_guid,\n",
    "                'simulation_report_guid': simulation_report_guid\n",
    "            }\n",
    "        )\n",
    "        session.commit()\n",
    "\n",
    "    with Session(engine) as session:\n",
    "        session.execute(\n",
    "            'INSERT INTO %s.simulation_report VALUES (:population_guid, :simulation_report_guid, :description, :start_time, :end_time, :time_step, :time_units, :data_units)' % db_schema,\n",
    "            {\n",
    "                'population_guid': population_guid,\n",
    "                'simulation_report_guid': simulation_report_guid,\n",
    "                'description' : description,\n",
    "                'start_time': vasculature_report_population.times[0],\n",
    "                'end_time': vasculature_report_population.times[1],\n",
    "                'time_step': vasculature_report_population.times[2],\n",
    "                'time_units': vasculature_report_population.time_units,\n",
    "                'data_units': vasculature_report_population.data_units\n",
    "            }\n",
    "        )\n",
    "        session.commit()    \n",
    "\n",
    "    # Report simulation values\n",
    "    with Session(engine) as session:\n",
    "        session.execute(\n",
    "            'DELETE FROM %s.simulation_time_series WHERE population_guid=:population_guid AND simulation_report_guid=:simulation_report_guid' % db_schema,\n",
    "            {\n",
    "                'population_guid': population_guid,\n",
    "                'simulation_report_guid': simulation_report_guid\n",
    "            }\n",
    "        )\n",
    "        session.commit()\n",
    "\n",
    "    data = vasculature_report_population.get()\n",
    "    for i in range(len(data.times)):\n",
    "        frame_data = data.data[i]\n",
    "    \n",
    "        buffer = np.array(frame_data, dtype=np.float32).tobytes()\n",
    "        with Session(engine) as session:\n",
    "            session.execute(\n",
    "                'INSERT INTO %s.simulation_time_series VALUES (:population_guid, :simulation_report_guid, :frame, :values)' % db_schema,\n",
    "                {\n",
    "                    'population_guid': population_guid,\n",
    "                    'simulation_report_guid': simulation_report_guid,\n",
    "                    'frame': i,\n",
    "                    'values': buffer\n",
    "                }\n",
    "            )\n",
    "            session.commit()    "
   ]
  },
  {
   "cell_type": "code",
   "execution_count": null,
   "metadata": {},
   "outputs": [],
   "source": [
    "import_simulation_report(\n",
    "    0, population_guid, 'Flows', os.path.join(data_folder, 'v2', 'report_flows.h5'))\n",
    "import_simulation_report(\n",
    "    1, population_guid, 'Pressures', os.path.join(data_folder, 'v2', 'report_pressures.h5'))\n",
    "import_simulation_report(\n",
    "    2, population_guid, 'Radii', os.path.join(data_folder, 'v2', 'report_radii.h5'))    "
   ]
  }
 ],
 "metadata": {
  "kernelspec": {
   "display_name": "Python 3",
   "language": "python",
   "name": "python3"
  },
  "language_info": {
   "codemirror_mode": {
    "name": "ipython",
    "version": 3
   },
   "file_extension": ".py",
   "mimetype": "text/x-python",
   "name": "python",
   "nbconvert_exporter": "python",
   "pygments_lexer": "ipython3",
   "version": "3.8.10"
  }
 },
 "nbformat": 4,
 "nbformat_minor": 5
}
