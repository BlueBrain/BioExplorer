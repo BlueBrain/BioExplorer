{
 "cells": [
  {
   "cell_type": "markdown",
   "id": "f992ef9f",
   "metadata": {},
   "source": [
    "# Notebook to import VTK file into the database\n",
    "![](../bioexplorer_vasculature_banner.png)"
   ]
  },
  {
   "cell_type": "markdown",
   "id": "4535e1a1",
   "metadata": {},
   "source": [
    "## Download vasculature dataset\n",
    "Download VTK file from the Blue Brain NGV portal: https://bbp.epfl.ch/ngv-portal/data/anatomy/experimental-data/vasculature-data/raw-vasculature-data.vtk"
   ]
  },
  {
   "cell_type": "code",
   "execution_count": null,
   "id": "1e0f227d",
   "metadata": {},
   "outputs": [],
   "source": [
    "import numpy\n",
    "from vtk import vtkSimplePointsReader, vtkGenericDataObjectReader\n",
    "# from vtk.util import numpy_support as VN\n",
    "\n",
    "filename = os.path.join(os.getenv('HOME'), 'Downloads', 'raw-vasculature-data.vtk')\n",
    "\n",
    "reader = vtkGenericDataObjectReader()\n",
    "reader.SetFileName(filename)\n",
    "reader.Update()\n",
    "data = reader.GetOutput()\n",
    "points = data.GetPoints()\n",
    "nb_points = data.GetNumberOfPoints()\n",
    "nb_cells = data.GetNumberOfCells()"
   ]
  },
  {
   "cell_type": "markdown",
   "id": "c7db1ace",
   "metadata": {},
   "source": [
    "## Preview dataset"
   ]
  },
  {
   "cell_type": "code",
   "execution_count": null,
   "id": "e27c6481",
   "metadata": {},
   "outputs": [],
   "source": [
    "%matplotlib inline\n",
    "import numpy as np\n",
    "import matplotlib.pyplot as plt\n",
    "\n",
    "np_points = np.array(points)\n",
    "xline = np.array(np.linspace(0, 1, nb_points), dtype=float)\n",
    "yline = np.array(np.linspace(0, 1, nb_points), dtype=float)\n",
    "zline = np.array(np.linspace(0, 1, nb_points), dtype=float)"
   ]
  },
  {
   "cell_type": "code",
   "execution_count": null,
   "id": "7633668c",
   "metadata": {},
   "outputs": [],
   "source": [
    "fig = plt.figure()\n",
    "ax = plt.axes(projection='3d')\n",
    "\n",
    "for i in range(nb_points):\n",
    "    p = points.GetPoint(i)\n",
    "    xline[i] = p[0]\n",
    "    yline[i] = p[1]\n",
    "    zline[i] = p[2]\n",
    "ax.scatter(xline, yline, zline, 'gray')"
   ]
  },
  {
   "cell_type": "markdown",
   "id": "a834b1e2",
   "metadata": {},
   "source": [
    "## Import into DB"
   ]
  },
  {
   "cell_type": "code",
   "execution_count": null,
   "id": "345ec844",
   "metadata": {
    "scrolled": true
   },
   "outputs": [],
   "source": [
    "import os\n",
    "from sqlalchemy import create_engine\n",
    "from sqlalchemy.orm import Session\n",
    "from tqdm.notebook import tqdm\n",
    "\n",
    "db_host = os.getenv('DB_HOST')\n",
    "db_name = os.getenv('DB_NAME')\n",
    "db_user = os.getenv('DB_USER')\n",
    "db_password = os.getenv('DB_PASSWORD')\n",
    "db_schema = 'vasculature'\n",
    "\n",
    "db_connection_string = 'postgresql+psycopg2://%s:%s@%s:5432/%s' % (db_user, db_password, db_host, db_name)\n",
    "print('Connection string: ' + db_connection_string + ', schema: ' + db_schema)\n",
    "\n",
    "engine = create_engine(db_connection_string)\n",
    "conn = engine.connect()"
   ]
  },
  {
   "cell_type": "code",
   "execution_count": null,
   "id": "72d5b2eb",
   "metadata": {},
   "outputs": [],
   "source": [
    "radius = 2.5\n",
    "guid = 0\n",
    "with Session(engine) as session:\n",
    "    session.execute('DELETE FROM %s.node' % db_schema)\n",
    "    session.commit()\n",
    "\n",
    "    for section_guid in tqdm(range(nb_cells)):\n",
    "        cell = data.GetCell(section_guid)\n",
    "        for point_guid in range(2):\n",
    "            point = points.GetPoint(cell.GetPointId(point_guid))\n",
    "            session.execute(\n",
    "                'INSERT INTO %s.node VALUES(:guid, :x, :y, :z, :radius, :section_guid)' % db_schema,\n",
    "                {\n",
    "                    'guid': guid,\n",
    "                    'x': float(point[0]),\n",
    "                    'y': float(point[1]),\n",
    "                    'z': float(point[2]),\n",
    "                    'radius': float(radius),\n",
    "                    'section_guid': section_guid\n",
    "                }\n",
    "            )\n",
    "            guid += 1\n",
    "        if section_guid%10000==0:\n",
    "            session.commit()\n",
    "\n",
    "    session.commit()\n"
   ]
  },
  {
   "cell_type": "code",
   "execution_count": null,
   "id": "cb511450",
   "metadata": {},
   "outputs": [],
   "source": [
    "with Session(engine) as session:\n",
    "    session.execute('DELETE FROM %s.metadata' % db_schema)\n",
    "    session.commit()\n",
    "\n",
    "    session.execute(\"INSERT INTO %s.metadata VALUES(0, 'nb_sections', %d)\" % (db_schema, nb_cells))\n",
    "    session.execute(\"INSERT INTO %s.metadata VALUES(0, 'nb_nodes', %d)\" % (db_schema, nb_points))\n",
    "    session.execute(\"INSERT INTO %s.metadata VALUES(0, 'nb_arteries', %d)\" % (db_schema, 0))\n",
    "    session.execute(\"INSERT INTO %s.metadata VALUES(0, 'nb_sub_graphs', %d)\" % (db_schema, 0))\n",
    "    session.commit()\n"
   ]
  }
 ],
 "metadata": {
  "kernelspec": {
   "display_name": "Python 3.8.10 ('env')",
   "language": "python",
   "name": "python3"
  },
  "language_info": {
   "codemirror_mode": {
    "name": "ipython",
    "version": 3
   },
   "file_extension": ".py",
   "mimetype": "text/x-python",
   "name": "python",
   "nbconvert_exporter": "python",
   "pygments_lexer": "ipython3",
   "version": "3.8.10"
  },
  "vscode": {
   "interpreter": {
    "hash": "ea9a5fa46eb6bad2806a8ea1d08e15bb1e255a2d4320b81e765591579963c56b"
   }
  }
 },
 "nbformat": 4,
 "nbformat_minor": 5
}
