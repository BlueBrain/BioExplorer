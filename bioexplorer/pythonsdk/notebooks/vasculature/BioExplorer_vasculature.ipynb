{
    "cells": [
        {
            "cell_type": "markdown",
            "id": "f992ef9f",
            "metadata": {},
            "source": [
                "# BioExplorer - Vasculature\n",
                "![](../bioexplorer_vasculature_banner.png)"
            ]
        },
        {
            "cell_type": "markdown",
            "id": "ab65571d",
            "metadata": {},
            "source": [
                "### Connect to back-end"
            ]
        },
        {
            "cell_type": "code",
            "execution_count": 13,
            "id": "649df02e",
            "metadata": {},
            "outputs": [],
            "source": [
                "from bioexplorer import BioExplorer, VasculatureDisplacementParams, Vector2, Vector3\n",
                "import seaborn as sns\n",
                "\n",
                "url = 'localhost:5000'\n",
                "be = BioExplorer(url)\n",
                "core = be.core_api()\n",
                "status = be.reset_scene()"
            ]
        },
        {
            "cell_type": "markdown",
            "id": "5e5e0ce1",
            "metadata": {},
            "source": [
                "### Load vasculature"
            ]
        },
        {
            "cell_type": "code",
            "execution_count": 14,
            "id": "f91a5fe4",
            "metadata": {},
            "outputs": [],
            "source": [
                "assembly_name = 'Vasculature'\n",
                "population_name = 'vasculature'\n",
                "be.remove_assembly(assembly_name)\n",
                "\n",
                "'''Defines a clipping cylinder with an origin, direction and radius'''\n",
                "o = Vector3(334.274978637695, 0, 598.822242736816)\n",
                "d = Vector3(0.0, 1.0, 0.0)\n",
                "r = 400.0\n",
                "filter = '%s.length(%s.cross(array[%f-x,%f-y,%f-z], array[%f::double precision, %f, %f])) < %f' % (population_name, population_name, o.x, o.y, o.z, d.x, d.y, d.z, r)\n",
                "\n",
                "vasculature_assembly = be.add_assembly(assembly_name)\n",
                "vasculature_model = be.add_vasculature(\n",
                "    assembly_name=assembly_name,\n",
                "    population_name=population_name,\n",
                "    representation=be.VASCULATURE_REPRESENTATION_OPTIMIZED_SEGMENT,\n",
                "    color_scheme=be.VASCULATURE_COLOR_SCHEME_REGION,\n",
                "    realism_level=be.VASCULATURE_REALISM_LEVEL_ALL,\n",
                "    sql_filter=filter, displacement_params=VasculatureDisplacementParams(\n",
                "        segment=Vector2(0.4, 0.5)\n",
                "    )\n",
                ")"
            ]
        },
        {
            "cell_type": "markdown",
            "id": "e997cfc0",
            "metadata": {},
            "source": [
                "### Vasculature information"
            ]
        },
        {
            "cell_type": "code",
            "execution_count": 15,
            "id": "f5fdbc9c",
            "metadata": {},
            "outputs": [
                {
                    "name": "stdout",
                    "output_type": "stream",
                    "text": [
                        "{'modelId': 1, 'nbNodes': 831}\n"
                    ]
                }
            ],
            "source": [
                "vasculature_info = be.get_vasculature_info(assembly_name=assembly_name)\n",
                "print(vasculature_info)"
            ]
        },
        {
            "cell_type": "markdown",
            "id": "c5e3478b",
            "metadata": {},
            "source": [
                "### Set material"
            ]
        },
        {
            "cell_type": "code",
            "execution_count": 16,
            "id": "ba81f0ee",
            "metadata": {},
            "outputs": [
                {
                    "data": {
                        "text/plain": [
                            "True"
                        ]
                    },
                    "execution_count": 16,
                    "metadata": {},
                    "output_type": "execute_result"
                }
            ],
            "source": [
                "def set_materials(palette_name):\n",
                "    model_ids = be.get_model_ids()['ids']\n",
                "    model_id = model_ids[len(model_ids)-1]\n",
                "    material_ids = be.get_material_ids(model_id)['ids']\n",
                "    nb_material_ids = len(material_ids)\n",
                "    palette = sns.color_palette(palette_name, nb_material_ids)\n",
                "    shading_modes = list()\n",
                "    user_params = list()\n",
                "    glossinesses = list()\n",
                "    specular_exponents = list()\n",
                "    reflection_indices = list()\n",
                "    opacities = list()\n",
                "    for _ in material_ids:\n",
                "        shading_modes.append(be.SHADING_MODE_PERLIN)\n",
                "        user_params.append(0.002)\n",
                "        glossinesses.append(0.1)\n",
                "        specular_exponents.append(5.0)\n",
                "        reflection_indices.append(0.1)\n",
                "        opacities.append(0.9)\n",
                "\n",
                "    be.set_materials(\n",
                "        model_ids=[model_id], material_ids=material_ids,\n",
                "        shading_modes=shading_modes, user_parameters=user_params,\n",
                "        glossinesses=glossinesses, specular_exponents=specular_exponents,\n",
                "        reflection_indices=reflection_indices, opacities=opacities,\n",
                "        diffuse_colors=palette, specular_colors=palette)\n",
                "\n",
                "set_materials('Reds_r')\n",
                "be.reset_camera()\n",
                "core.set_renderer()"
            ]
        },
        {
            "cell_type": "markdown",
            "id": "b7b6daf4",
            "metadata": {},
            "source": [
                "### Rendering settings"
            ]
        },
        {
            "cell_type": "code",
            "execution_count": 17,
            "id": "f9f1b5c2",
            "metadata": {},
            "outputs": [],
            "source": [
                "status = core.set_renderer(\n",
                "    current='bio_explorer',\n",
                "    subsampling=4, max_accum_frames=64)\n",
                "params = core.BioExplorerRendererParams()\n",
                "params.gi_distance = 1000.0\n",
                "params.shadows = 1.0\n",
                "params.soft_shadows = 1.0\n",
                "status = core.set_renderer_params(params)"
            ]
        }
    ],
    "metadata": {
        "interpreter": {
            "hash": "ea9a5fa46eb6bad2806a8ea1d08e15bb1e255a2d4320b81e765591579963c56b"
        },
        "kernelspec": {
            "display_name": "Python 3 (ipykernel)",
            "language": "python",
            "name": "python3"
        },
        "language_info": {
            "codemirror_mode": {
                "name": "ipython",
                "version": 3
            },
            "file_extension": ".py",
            "mimetype": "text/x-python",
            "name": "python",
            "nbconvert_exporter": "python",
            "pygments_lexer": "ipython3",
            "version": "3.8.10"
        }
    },
    "nbformat": 4,
    "nbformat_minor": 5
}
