{
 "cells": [
  {
   "cell_type": "markdown",
   "metadata": {},
   "source": [
    "# Vasculature simulation use-case"
   ]
  },
  {
   "cell_type": "markdown",
   "metadata": {},
   "source": [
    "### Connect to back-end"
   ]
  },
  {
   "cell_type": "code",
   "execution_count": null,
   "metadata": {},
   "outputs": [],
   "source": [
    "from bioexplorer import BioExplorer\n",
    "\n",
    "url = 'localhost:5000'\n",
    "be = BioExplorer(url)\n",
    "core = be.core_api()\n",
    "status = be.reset_scene()"
   ]
  },
  {
   "cell_type": "markdown",
   "metadata": {},
   "source": [
    "### Load vasculature"
   ]
  },
  {
   "cell_type": "code",
   "execution_count": null,
   "metadata": {},
   "outputs": [],
   "source": [
    "assembly_name = 'Vasculature'\n",
    "population_name = 'Vasculature'\n",
    "be.remove_assembly(assembly_name)\n",
    "vasculature_assembly = be.add_assembly(assembly_name)\n",
    "vasculature_model = be.add_vasculature(\n",
    "    assembly_name=assembly_name,\n",
    "    population_name=population_name,\n",
    "    use_sdf=False,\n",
    "    quality=be.GEOMETRY_QUALITY_MEDIUM\n",
    ")"
   ]
  },
  {
   "cell_type": "code",
   "execution_count": null,
   "metadata": {},
   "outputs": [],
   "source": [
    "be.reset_camera()\n",
    "core.set_renderer()"
   ]
  },
  {
   "cell_type": "code",
   "execution_count": null,
   "metadata": {},
   "outputs": [],
   "source": [
    "be.set_vasculature_color_scheme(\n",
    "    assembly_name=assembly_name,\n",
    "    color_scheme=be.VASCULATURE_COLOR_SCHEME_SECTION,\n",
    "    palette_name='rainbow'\n",
    ")\n",
    "core.set_renderer()"
   ]
  },
  {
   "cell_type": "code",
   "execution_count": null,
   "metadata": {},
   "outputs": [],
   "source": [
    "vasculature_info = be.get_vasculature_info(assembly_name=assembly_name)\n",
    "print(vasculature_info)"
   ]
  },
  {
   "cell_type": "code",
   "execution_count": null,
   "metadata": {},
   "outputs": [],
   "source": [
    "status = core.set_renderer(\n",
    "    current='bio_explorer',\n",
    "    subsampling=4, max_accum_frames=64)\n",
    "params = core.BioExplorerRendererParams()\n",
    "params.gi_distance = 1000.0\n",
    "params.shadows = 1.0\n",
    "params.soft_shadows = 1.0\n",
    "status = core.set_renderer_params(params)"
   ]
  },
  {
   "cell_type": "code",
   "execution_count": null,
   "metadata": {},
   "outputs": [],
   "source": [
    "vasculature_info = be.get_vasculature_info(assembly_name=assembly_name)\n",
    "print(vasculature_info)\n",
    "vasculature_model_id = vasculature_info['modelId']"
   ]
  },
  {
   "cell_type": "code",
   "execution_count": null,
   "metadata": {},
   "outputs": [],
   "source": [
    "import seaborn as sns\n",
    "print(vasculature_model_id)\n",
    "material_ids = be.get_material_ids(vasculature_model_id)['ids']\n",
    "palette = sns.color_palette('Set1', len(material_ids))\n",
    "palette[0]= [0.75, 0.75, 0.75]\n",
    "be.set_materials_from_palette(\n",
    "    model_ids=[vasculature_model_id],\n",
    "    material_ids=material_ids,\n",
    "    palette=palette, specular_exponent=5.0,\n",
    "    shading_mode=be.SHADING_MODE_NONE,\n",
    "    user_parameter=0.001, glossiness=1.0,\n",
    "    cast_user_data=True\n",
    ")\n",
    "core.set_renderer()"
   ]
  },
  {
   "cell_type": "markdown",
   "metadata": {},
   "source": [
    "## Simulation reports"
   ]
  },
  {
   "cell_type": "code",
   "execution_count": null,
   "metadata": {},
   "outputs": [],
   "source": [
    "from bioexplorer import TransferFunction\n",
    "tf = TransferFunction(\n",
    "    bioexplorer=BioExplorer(url), name='OrRd_r',\n",
    "    model_id=vasculature_model_id, size=16, alpha=1.0\n",
    ")"
   ]
  },
  {
   "cell_type": "code",
   "execution_count": null,
   "metadata": {},
   "outputs": [],
   "source": [
    "''' Attach report to vasculature '''\n",
    "report_id = 0\n",
    "be.set_vasculature_report(\n",
    "    assembly_name=assembly_name,\n",
    "    report_simulation_id=report_id,\n",
    "    population_name=population_name)\n",
    "if report_id % 3 == 0:\n",
    "    tf.set_range([-1.16881, 5.0])\n",
    "elif report_id % 3 == 1:\n",
    "    tf.set_range([0.000133, 0.0008])\n",
    "else:\n",
    "    tf.set_range([0, 50.0])\n",
    "core.set_renderer()"
   ]
  },
  {
   "cell_type": "markdown",
   "metadata": {},
   "source": [
    "## Radius report"
   ]
  },
  {
   "cell_type": "code",
   "execution_count": null,
   "metadata": {},
   "outputs": [],
   "source": [
    "import time\n",
    "\n",
    "core.set_renderer(\n",
    "    current='bio_explorer',\n",
    "    subsampling=1, max_accum_frames=1)\n",
    "\n",
    "for frame in range(100):\n",
    "    core.set_animation_parameters(current=frame)\n",
    "    be.set_vasculature_radius_report(\n",
    "        assembly_name=assembly_name,\n",
    "        population_name=population_name,\n",
    "        report_simulation_id=report_id,\n",
    "        frame=frame,\n",
    "        amplitude=1.0\n",
    "    )\n",
    "    core.set_renderer()"
   ]
  }
 ],
 "metadata": {
  "kernelspec": {
   "display_name": "Python 3",
   "language": "python",
   "name": "python3"
  },
  "language_info": {
   "codemirror_mode": {
    "name": "ipython",
    "version": 3
   },
   "file_extension": ".py",
   "mimetype": "text/x-python",
   "name": "python",
   "nbconvert_exporter": "python",
   "pygments_lexer": "ipython3",
   "version": "3.8.10"
  }
 },
 "nbformat": 4,
 "nbformat_minor": 2
}
