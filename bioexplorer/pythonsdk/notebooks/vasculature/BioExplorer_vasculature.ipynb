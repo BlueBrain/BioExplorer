{
 "cells": [
  {
   "cell_type": "markdown",
   "metadata": {},
   "source": [
    "# Vasculature simulation use-case"
   ]
  },
  {
   "cell_type": "markdown",
   "metadata": {},
   "source": [
    "### Connect to back-end"
   ]
  },
  {
   "cell_type": "code",
   "execution_count": null,
   "metadata": {},
   "outputs": [],
   "source": [
    "from bioexplorer import BioExplorer\n",
    "\n",
    "url = 'localhost:5000'\n",
    "be = BioExplorer(url)\n",
    "core = be.core_api()\n",
    "be.reset_scene()"
   ]
  },
  {
   "cell_type": "code",
   "execution_count": null,
   "metadata": {},
   "outputs": [],
   "source": [
    "status = core.set_renderer(\n",
    "    current='bio_explorer',\n",
    "    subsampling=4, max_accum_frames=32)\n",
    "params = core.BioExplorerRendererParams()\n",
    "params.shadows = 1.0\n",
    "params.soft_shadows = 1.0\n",
    "status = core.set_renderer_params(params)"
   ]
  },
  {
   "cell_type": "markdown",
   "metadata": {},
   "source": [
    "### Load vasculature"
   ]
  },
  {
   "cell_type": "code",
   "execution_count": null,
   "metadata": {},
   "outputs": [],
   "source": [
    "assembly_name = 'Vasculature'\n",
    "population_name = 'Vasculature'\n",
    "be.remove_assembly(assembly_name)\n",
    "vasculature_assembly = be.add_assembly(assembly_name)\n",
    "vasculature_model = be.add_vasculature(\n",
    "    assembly_name=assembly_name,\n",
    "    population_name=population_name,\n",
    "    use_sdf=False, load_capilarities=False, radius_correction=5.0\n",
    ")"
   ]
  },
  {
   "cell_type": "code",
   "execution_count": null,
   "metadata": {},
   "outputs": [],
   "source": [
    "be.set_vasculature_color_scheme(\n",
    "    assembly_name=assembly_name,\n",
    "    color_scheme=be.VASCULATURE_COLOR_SCHEME_ENTRYNODE,\n",
    "    palette_name='Set1'\n",
    ")\n",
    "core.set_renderer()"
   ]
  },
  {
   "cell_type": "code",
   "execution_count": null,
   "metadata": {},
   "outputs": [],
   "source": [
    "vasculature_info = be.get_vasculature_info(assembly_name=assembly_name)\n",
    "print(vasculature_info)\n",
    "vasculature_model_id = vasculature_info['modelId']"
   ]
  },
  {
   "cell_type": "code",
   "execution_count": null,
   "metadata": {},
   "outputs": [],
   "source": [
    "import seaborn as sns\n",
    "material_ids = be.get_material_ids(vasculature_model_id)['ids']\n",
    "palette = sns.color_palette('Set2', len(material_ids))\n",
    "palette[0]= [0.75, 0.75, 0.75]\n",
    "be.set_materials_from_palette(\n",
    "    model_ids=[vasculature_model_id],\n",
    "    material_ids=material_ids,\n",
    "    palette=palette, specular_exponent=5.0,\n",
    "    shading_mode=be.SHADING_MODE_PERLIN,\n",
    "    user_parameter=0.001, glossiness=0.5\n",
    ")\n",
    "core.set_renderer()"
   ]
  },
  {
   "cell_type": "markdown",
   "metadata": {},
   "source": [
    "## Simulation reports"
   ]
  },
  {
   "cell_type": "code",
   "execution_count": null,
   "metadata": {},
   "outputs": [],
   "source": [
    "from bioexplorer import TransferFunction\n",
    "tf = TransferFunction(\n",
    "    bioexplorer=BioExplorer(url), name='seismic',\n",
    "    model_id=vasculature_model_id, size=16, alpha=1.0\n",
    ")"
   ]
  },
  {
   "cell_type": "code",
   "execution_count": null,
   "metadata": {},
   "outputs": [],
   "source": [
    "''' Attach report to vasculature '''\n",
    "report_id = 0\n",
    "be.set_vasculature_report(\n",
    "    assembly_name=assembly_name,\n",
    "    report_simulation_id=report_id,\n",
    "    population_name=population_name)\n",
    "tf.set_range([0,1])\n",
    "core.set_renderer()"
   ]
  },
  {
   "cell_type": "markdown",
   "metadata": {},
   "source": [
    "## Radius report"
   ]
  },
  {
   "cell_type": "code",
   "execution_count": null,
   "metadata": {},
   "outputs": [],
   "source": [
    "import time\n",
    "\n",
    "core.set_renderer(\n",
    "    current='bio_explorer',\n",
    "    subsampling=1, max_accum_frames=1)\n",
    "\n",
    "for frame in range(10):\n",
    "    core.set_animation_parameters(current=frame)\n",
    "    be.set_vasculature_radius_report(\n",
    "        assembly_name=assembly_name,\n",
    "        population_name=population_name,\n",
    "        report_simulation_id=report_id,\n",
    "        frame=frame,\n",
    "        amplitude=1.0\n",
    "    )\n",
    "    core.set_renderer()\n",
    "    time.sleep(0.1)"
   ]
  },
  {
   "cell_type": "markdown",
   "metadata": {},
   "source": [
    "## Snapshot"
   ]
  },
  {
   "cell_type": "code",
   "execution_count": null,
   "metadata": {},
   "outputs": [],
   "source": [
    "from bioexplorer import MovieMaker\n",
    "mm = MovieMaker(be)\n",
    "mm.create_snapshot(\n",
    "    renderer='bio_explorer',\n",
    "    path='/tmp', base_name='vasculature_skeleton_4k_v2',\n",
    "    size=[4000,4000], samples_per_pixel=64)"
   ]
  }
 ],
 "metadata": {
  "kernelspec": {
   "display_name": "Python 3 (ipykernel)",
   "language": "python",
   "name": "python3"
  },
  "language_info": {
   "codemirror_mode": {
    "name": "ipython",
    "version": 3
   },
   "file_extension": ".py",
   "mimetype": "text/x-python",
   "name": "python",
   "nbconvert_exporter": "python",
   "pygments_lexer": "ipython3",
   "version": "3.8.10"
  }
 },
 "nbformat": 4,
 "nbformat_minor": 2
}
