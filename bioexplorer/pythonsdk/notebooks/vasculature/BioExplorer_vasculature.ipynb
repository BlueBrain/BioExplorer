{
 "cells": [
  {
   "cell_type": "markdown",
   "id": "f992ef9f",
   "metadata": {},
   "source": [
    "# BioExplorer - Vasculature\n",
    "![](../bioexplorer_vasculature_banner.png)"
   ]
  },
  {
   "cell_type": "markdown",
   "id": "ab65571d",
   "metadata": {},
   "source": [
    "### Connect to back-end"
   ]
  },
  {
   "cell_type": "code",
   "execution_count": 10,
   "id": "649df02e",
   "metadata": {},
   "outputs": [],
   "source": [
    "from bioexplorer import BioExplorer, Vector3\n",
    "import seaborn as sns\n",
    "\n",
    "url = 'localhost:5000'\n",
    "# url = 'r5i2n4.bbp.epfl.ch:5000'\n",
    "be = BioExplorer(url)\n",
    "core = be.core_api()\n",
    "status = be.reset_scene()"
   ]
  },
  {
   "cell_type": "markdown",
   "id": "5e5e0ce1",
   "metadata": {},
   "source": [
    "### Load vasculature"
   ]
  },
  {
   "cell_type": "code",
   "execution_count": 9,
   "id": "f91a5fe4",
   "metadata": {},
   "outputs": [
    {
     "ename": "RequestError",
     "evalue": "Socket connection closed",
     "output_type": "error",
     "traceback": [
      "\u001b[0;31m---------------------------------------------------------------------------\u001b[0m",
      "\u001b[0;31mRequestError\u001b[0m                              Traceback (most recent call last)",
      "\u001b[1;32m/home/favreau/git/BioExplorer/bioexplorer/pythonsdk/notebooks/vasculature/BioExplorer_vasculature.ipynb Cell 5\u001b[0m in \u001b[0;36m<cell line: 12>\u001b[0;34m()\u001b[0m\n\u001b[1;32m      <a href='vscode-notebook-cell:/home/favreau/git/BioExplorer/bioexplorer/pythonsdk/notebooks/vasculature/BioExplorer_vasculature.ipynb#W4sZmlsZQ%3D%3D?line=4'>5</a>\u001b[0m \u001b[39m# '''Defines a clipping cylinder with an origin, direction and radius'''\u001b[39m\n\u001b[1;32m      <a href='vscode-notebook-cell:/home/favreau/git/BioExplorer/bioexplorer/pythonsdk/notebooks/vasculature/BioExplorer_vasculature.ipynb#W4sZmlsZQ%3D%3D?line=5'>6</a>\u001b[0m \u001b[39m# o = Vector3(334.274978637695, 0, 598.822242736816)\u001b[39m\n\u001b[1;32m      <a href='vscode-notebook-cell:/home/favreau/git/BioExplorer/bioexplorer/pythonsdk/notebooks/vasculature/BioExplorer_vasculature.ipynb#W4sZmlsZQ%3D%3D?line=6'>7</a>\u001b[0m \u001b[39m# d = Vector3(0.0, 1.0, 0.0)\u001b[39m\n\u001b[1;32m      <a href='vscode-notebook-cell:/home/favreau/git/BioExplorer/bioexplorer/pythonsdk/notebooks/vasculature/BioExplorer_vasculature.ipynb#W4sZmlsZQ%3D%3D?line=7'>8</a>\u001b[0m \u001b[39m# r = 400.0\u001b[39m\n\u001b[1;32m      <a href='vscode-notebook-cell:/home/favreau/git/BioExplorer/bioexplorer/pythonsdk/notebooks/vasculature/BioExplorer_vasculature.ipynb#W4sZmlsZQ%3D%3D?line=8'>9</a>\u001b[0m \u001b[39m# filter = '%s.length(%s.cross(array[%f-x,%f-y,%f-z], array[%f::double precision, %f, %f])) < %f' % (population_name, population_name, o.x, o.y, o.z, d.x, d.y, d.z, r)\u001b[39m\n\u001b[1;32m     <a href='vscode-notebook-cell:/home/favreau/git/BioExplorer/bioexplorer/pythonsdk/notebooks/vasculature/BioExplorer_vasculature.ipynb#W4sZmlsZQ%3D%3D?line=10'>11</a>\u001b[0m vasculature_assembly \u001b[39m=\u001b[39m be\u001b[39m.\u001b[39madd_assembly(assembly_name)\n\u001b[0;32m---> <a href='vscode-notebook-cell:/home/favreau/git/BioExplorer/bioexplorer/pythonsdk/notebooks/vasculature/BioExplorer_vasculature.ipynb#W4sZmlsZQ%3D%3D?line=11'>12</a>\u001b[0m vasculature_model \u001b[39m=\u001b[39m be\u001b[39m.\u001b[39;49madd_vasculature(\n\u001b[1;32m     <a href='vscode-notebook-cell:/home/favreau/git/BioExplorer/bioexplorer/pythonsdk/notebooks/vasculature/BioExplorer_vasculature.ipynb#W4sZmlsZQ%3D%3D?line=12'>13</a>\u001b[0m     assembly_name\u001b[39m=\u001b[39;49massembly_name,\n\u001b[1;32m     <a href='vscode-notebook-cell:/home/favreau/git/BioExplorer/bioexplorer/pythonsdk/notebooks/vasculature/BioExplorer_vasculature.ipynb#W4sZmlsZQ%3D%3D?line=13'>14</a>\u001b[0m     population_name\u001b[39m=\u001b[39;49mpopulation_name,\n\u001b[1;32m     <a href='vscode-notebook-cell:/home/favreau/git/BioExplorer/bioexplorer/pythonsdk/notebooks/vasculature/BioExplorer_vasculature.ipynb#W4sZmlsZQ%3D%3D?line=14'>15</a>\u001b[0m     representation\u001b[39m=\u001b[39;49mbe\u001b[39m.\u001b[39;49mVASCULATURE_REPRESENTATION_SECTION,\n\u001b[1;32m     <a href='vscode-notebook-cell:/home/favreau/git/BioExplorer/bioexplorer/pythonsdk/notebooks/vasculature/BioExplorer_vasculature.ipynb#W4sZmlsZQ%3D%3D?line=15'>16</a>\u001b[0m     color_scheme\u001b[39m=\u001b[39;49mbe\u001b[39m.\u001b[39;49mVASCULATURE_COLOR_SCHEME_REGION,\n\u001b[1;32m     <a href='vscode-notebook-cell:/home/favreau/git/BioExplorer/bioexplorer/pythonsdk/notebooks/vasculature/BioExplorer_vasculature.ipynb#W4sZmlsZQ%3D%3D?line=16'>17</a>\u001b[0m     use_sdf\u001b[39m=\u001b[39;49m\u001b[39mTrue\u001b[39;49;00m, \u001b[39m#sql_filter=filter\u001b[39;49m\n\u001b[1;32m     <a href='vscode-notebook-cell:/home/favreau/git/BioExplorer/bioexplorer/pythonsdk/notebooks/vasculature/BioExplorer_vasculature.ipynb#W4sZmlsZQ%3D%3D?line=17'>18</a>\u001b[0m     sql_filter\u001b[39m=\u001b[39;49m\u001b[39m'\u001b[39;49m\u001b[39mregion_guid in (10, 11)\u001b[39;49m\u001b[39m'\u001b[39;49m\n\u001b[1;32m     <a href='vscode-notebook-cell:/home/favreau/git/BioExplorer/bioexplorer/pythonsdk/notebooks/vasculature/BioExplorer_vasculature.ipynb#W4sZmlsZQ%3D%3D?line=18'>19</a>\u001b[0m )\n",
      "File \u001b[0;32m~/Notebooks/env/lib/python3.8/site-packages/bioexplorer/bio_explorer.py:2373\u001b[0m, in \u001b[0;36mBioExplorer.add_vasculature\u001b[0;34m(self, assembly_name, population_name, color_scheme, use_sdf, section_gids, load_capilarities, representation, radius_multiplier, sql_filter, scale)\u001b[0m\n\u001b[1;32m   2371\u001b[0m params[\u001b[39m\"\u001b[39m\u001b[39msqlFilter\u001b[39m\u001b[39m\"\u001b[39m] \u001b[39m=\u001b[39m sql_filter\n\u001b[1;32m   2372\u001b[0m params[\u001b[39m\"\u001b[39m\u001b[39mscale\u001b[39m\u001b[39m\"\u001b[39m] \u001b[39m=\u001b[39m scale\u001b[39m.\u001b[39mto_list()\n\u001b[0;32m-> 2373\u001b[0m \u001b[39mreturn\u001b[39;00m \u001b[39mself\u001b[39;49m\u001b[39m.\u001b[39;49m_invoke_and_check(\u001b[39m'\u001b[39;49m\u001b[39madd-vasculature\u001b[39;49m\u001b[39m'\u001b[39;49m, params)\n",
      "File \u001b[0;32m~/Notebooks/env/lib/python3.8/site-packages/bioexplorer/bio_explorer.py:356\u001b[0m, in \u001b[0;36mBioExplorer._invoke_and_check\u001b[0;34m(self, method, params)\u001b[0m\n\u001b[1;32m    354\u001b[0m \u001b[39mdef\u001b[39;00m \u001b[39m_invoke_and_check\u001b[39m(\u001b[39mself\u001b[39m, method, params\u001b[39m=\u001b[39m\u001b[39mNone\u001b[39;00m):\n\u001b[1;32m    355\u001b[0m     prefixed_method \u001b[39m=\u001b[39m \u001b[39mself\u001b[39m\u001b[39m.\u001b[39mPLUGIN_API_PREFIX \u001b[39m+\u001b[39m method\n\u001b[0;32m--> 356\u001b[0m     response \u001b[39m=\u001b[39m \u001b[39mself\u001b[39;49m\u001b[39m.\u001b[39;49m_client\u001b[39m.\u001b[39;49mrockets_client\u001b[39m.\u001b[39;49mrequest(\n\u001b[1;32m    357\u001b[0m         method\u001b[39m=\u001b[39;49mprefixed_method, params\u001b[39m=\u001b[39;49mparams)\n\u001b[1;32m    358\u001b[0m     \u001b[39mreturn\u001b[39;00m \u001b[39mself\u001b[39m\u001b[39m.\u001b[39m_check(response)\n",
      "File \u001b[0;32m~/Notebooks/env/lib/python3.8/site-packages/rockets/client.py:100\u001b[0m, in \u001b[0;36mClient.request\u001b[0;34m(self, method, params, response_timeout)\u001b[0m\n\u001b[1;32m     92\u001b[0m \u001b[39m@copydoc\u001b[39m(AsyncClient\u001b[39m.\u001b[39mrequest)\n\u001b[1;32m     93\u001b[0m \u001b[39mdef\u001b[39;00m \u001b[39mrequest\u001b[39m(\n\u001b[1;32m     94\u001b[0m     \u001b[39mself\u001b[39m, method, params\u001b[39m=\u001b[39m\u001b[39mNone\u001b[39;00m, response_timeout\u001b[39m=\u001b[39m\u001b[39mNone\u001b[39;00m\n\u001b[1;32m     95\u001b[0m ):  \u001b[39m# noqa: D102,D205 pylint: disable=C0111,W9011,W9012,W9015,W9016\u001b[39m\n\u001b[1;32m     96\u001b[0m     \u001b[39m\"\"\"\u001b[39m\n\u001b[1;32m     97\u001b[0m \u001b[39m    :param int response_timeout: number of seconds to wait for the response\u001b[39m\n\u001b[1;32m     98\u001b[0m \u001b[39m    :raises TimeoutError: if request was not answered within given response_timeout\u001b[39m\n\u001b[1;32m     99\u001b[0m \u001b[39m    \"\"\"\u001b[39m\n\u001b[0;32m--> 100\u001b[0m     \u001b[39mreturn\u001b[39;00m \u001b[39mself\u001b[39;49m\u001b[39m.\u001b[39;49m_call_sync(\u001b[39mself\u001b[39;49m\u001b[39m.\u001b[39;49m_client\u001b[39m.\u001b[39;49mrequest(method, params), response_timeout)\n",
      "File \u001b[0;32m~/Notebooks/env/lib/python3.8/site-packages/rockets/client.py:119\u001b[0m, in \u001b[0;36mClient._call_sync\u001b[0;34m(self, original_function, response_timeout)\u001b[0m\n\u001b[1;32m    115\u001b[0m \u001b[39mif\u001b[39;00m \u001b[39mself\u001b[39m\u001b[39m.\u001b[39m_thread:\n\u001b[1;32m    116\u001b[0m     future \u001b[39m=\u001b[39m asyncio\u001b[39m.\u001b[39mrun_coroutine_threadsafe(\n\u001b[1;32m    117\u001b[0m         original_function, \u001b[39mself\u001b[39m\u001b[39m.\u001b[39m_client\u001b[39m.\u001b[39mloop\n\u001b[1;32m    118\u001b[0m     )\n\u001b[0;32m--> 119\u001b[0m     \u001b[39mreturn\u001b[39;00m future\u001b[39m.\u001b[39;49mresult(response_timeout)\n\u001b[1;32m    120\u001b[0m \u001b[39mreturn\u001b[39;00m \u001b[39mself\u001b[39m\u001b[39m.\u001b[39m_client\u001b[39m.\u001b[39mloop\u001b[39m.\u001b[39mrun_until_complete(original_function)\n",
      "File \u001b[0;32m/usr/lib/python3.8/concurrent/futures/_base.py:444\u001b[0m, in \u001b[0;36mFuture.result\u001b[0;34m(self, timeout)\u001b[0m\n\u001b[1;32m    442\u001b[0m     \u001b[39mraise\u001b[39;00m CancelledError()\n\u001b[1;32m    443\u001b[0m \u001b[39melif\u001b[39;00m \u001b[39mself\u001b[39m\u001b[39m.\u001b[39m_state \u001b[39m==\u001b[39m FINISHED:\n\u001b[0;32m--> 444\u001b[0m     \u001b[39mreturn\u001b[39;00m \u001b[39mself\u001b[39;49m\u001b[39m.\u001b[39;49m__get_result()\n\u001b[1;32m    445\u001b[0m \u001b[39melse\u001b[39;00m:\n\u001b[1;32m    446\u001b[0m     \u001b[39mraise\u001b[39;00m \u001b[39mTimeoutError\u001b[39;00m()\n",
      "File \u001b[0;32m/usr/lib/python3.8/concurrent/futures/_base.py:389\u001b[0m, in \u001b[0;36mFuture.__get_result\u001b[0;34m(self)\u001b[0m\n\u001b[1;32m    387\u001b[0m \u001b[39mif\u001b[39;00m \u001b[39mself\u001b[39m\u001b[39m.\u001b[39m_exception:\n\u001b[1;32m    388\u001b[0m     \u001b[39mtry\u001b[39;00m:\n\u001b[0;32m--> 389\u001b[0m         \u001b[39mraise\u001b[39;00m \u001b[39mself\u001b[39m\u001b[39m.\u001b[39m_exception\n\u001b[1;32m    390\u001b[0m     \u001b[39mfinally\u001b[39;00m:\n\u001b[1;32m    391\u001b[0m         \u001b[39m# Break a reference cycle with the exception in self._exception\u001b[39m\n\u001b[1;32m    392\u001b[0m         \u001b[39mself\u001b[39m \u001b[39m=\u001b[39m \u001b[39mNone\u001b[39;00m\n",
      "File \u001b[0;32m~/Notebooks/env/lib/python3.8/site-packages/rockets/async_client.py:171\u001b[0m, in \u001b[0;36mAsyncClient.request\u001b[0;34m(self, method, params)\u001b[0m\n\u001b[1;32m    168\u001b[0m     \u001b[39mself\u001b[39m\u001b[39m.\u001b[39m_setup_progress_filter(response_future, request_id)\n\u001b[1;32m    170\u001b[0m     \u001b[39mawait\u001b[39;00m \u001b[39mself\u001b[39m\u001b[39m.\u001b[39msend(request\u001b[39m.\u001b[39mjson)\n\u001b[0;32m--> 171\u001b[0m     \u001b[39mawait\u001b[39;00m response_future\n\u001b[1;32m    172\u001b[0m     \u001b[39mreturn\u001b[39;00m response_future\u001b[39m.\u001b[39mresult()\n\u001b[1;32m    173\u001b[0m \u001b[39mexcept\u001b[39;00m asyncio\u001b[39m.\u001b[39mCancelledError:\n",
      "    \u001b[0;31m[... skipping hidden 1 frame]\u001b[0m\n",
      "\u001b[1;32m/home/favreau/git/BioExplorer/bioexplorer/pythonsdk/notebooks/vasculature/BioExplorer_vasculature.ipynb Cell 5\u001b[0m in \u001b[0;36m<cell line: 12>\u001b[0;34m()\u001b[0m\n\u001b[1;32m      <a href='vscode-notebook-cell:/home/favreau/git/BioExplorer/bioexplorer/pythonsdk/notebooks/vasculature/BioExplorer_vasculature.ipynb#W4sZmlsZQ%3D%3D?line=4'>5</a>\u001b[0m \u001b[39m# '''Defines a clipping cylinder with an origin, direction and radius'''\u001b[39m\n\u001b[1;32m      <a href='vscode-notebook-cell:/home/favreau/git/BioExplorer/bioexplorer/pythonsdk/notebooks/vasculature/BioExplorer_vasculature.ipynb#W4sZmlsZQ%3D%3D?line=5'>6</a>\u001b[0m \u001b[39m# o = Vector3(334.274978637695, 0, 598.822242736816)\u001b[39m\n\u001b[1;32m      <a href='vscode-notebook-cell:/home/favreau/git/BioExplorer/bioexplorer/pythonsdk/notebooks/vasculature/BioExplorer_vasculature.ipynb#W4sZmlsZQ%3D%3D?line=6'>7</a>\u001b[0m \u001b[39m# d = Vector3(0.0, 1.0, 0.0)\u001b[39m\n\u001b[1;32m      <a href='vscode-notebook-cell:/home/favreau/git/BioExplorer/bioexplorer/pythonsdk/notebooks/vasculature/BioExplorer_vasculature.ipynb#W4sZmlsZQ%3D%3D?line=7'>8</a>\u001b[0m \u001b[39m# r = 400.0\u001b[39m\n\u001b[1;32m      <a href='vscode-notebook-cell:/home/favreau/git/BioExplorer/bioexplorer/pythonsdk/notebooks/vasculature/BioExplorer_vasculature.ipynb#W4sZmlsZQ%3D%3D?line=8'>9</a>\u001b[0m \u001b[39m# filter = '%s.length(%s.cross(array[%f-x,%f-y,%f-z], array[%f::double precision, %f, %f])) < %f' % (population_name, population_name, o.x, o.y, o.z, d.x, d.y, d.z, r)\u001b[39m\n\u001b[1;32m     <a href='vscode-notebook-cell:/home/favreau/git/BioExplorer/bioexplorer/pythonsdk/notebooks/vasculature/BioExplorer_vasculature.ipynb#W4sZmlsZQ%3D%3D?line=10'>11</a>\u001b[0m vasculature_assembly \u001b[39m=\u001b[39m be\u001b[39m.\u001b[39madd_assembly(assembly_name)\n\u001b[0;32m---> <a href='vscode-notebook-cell:/home/favreau/git/BioExplorer/bioexplorer/pythonsdk/notebooks/vasculature/BioExplorer_vasculature.ipynb#W4sZmlsZQ%3D%3D?line=11'>12</a>\u001b[0m vasculature_model \u001b[39m=\u001b[39m be\u001b[39m.\u001b[39;49madd_vasculature(\n\u001b[1;32m     <a href='vscode-notebook-cell:/home/favreau/git/BioExplorer/bioexplorer/pythonsdk/notebooks/vasculature/BioExplorer_vasculature.ipynb#W4sZmlsZQ%3D%3D?line=12'>13</a>\u001b[0m     assembly_name\u001b[39m=\u001b[39;49massembly_name,\n\u001b[1;32m     <a href='vscode-notebook-cell:/home/favreau/git/BioExplorer/bioexplorer/pythonsdk/notebooks/vasculature/BioExplorer_vasculature.ipynb#W4sZmlsZQ%3D%3D?line=13'>14</a>\u001b[0m     population_name\u001b[39m=\u001b[39;49mpopulation_name,\n\u001b[1;32m     <a href='vscode-notebook-cell:/home/favreau/git/BioExplorer/bioexplorer/pythonsdk/notebooks/vasculature/BioExplorer_vasculature.ipynb#W4sZmlsZQ%3D%3D?line=14'>15</a>\u001b[0m     representation\u001b[39m=\u001b[39;49mbe\u001b[39m.\u001b[39;49mVASCULATURE_REPRESENTATION_SECTION,\n\u001b[1;32m     <a href='vscode-notebook-cell:/home/favreau/git/BioExplorer/bioexplorer/pythonsdk/notebooks/vasculature/BioExplorer_vasculature.ipynb#W4sZmlsZQ%3D%3D?line=15'>16</a>\u001b[0m     color_scheme\u001b[39m=\u001b[39;49mbe\u001b[39m.\u001b[39;49mVASCULATURE_COLOR_SCHEME_REGION,\n\u001b[1;32m     <a href='vscode-notebook-cell:/home/favreau/git/BioExplorer/bioexplorer/pythonsdk/notebooks/vasculature/BioExplorer_vasculature.ipynb#W4sZmlsZQ%3D%3D?line=16'>17</a>\u001b[0m     use_sdf\u001b[39m=\u001b[39;49m\u001b[39mTrue\u001b[39;49;00m, \u001b[39m#sql_filter=filter\u001b[39;49m\n\u001b[1;32m     <a href='vscode-notebook-cell:/home/favreau/git/BioExplorer/bioexplorer/pythonsdk/notebooks/vasculature/BioExplorer_vasculature.ipynb#W4sZmlsZQ%3D%3D?line=17'>18</a>\u001b[0m     sql_filter\u001b[39m=\u001b[39;49m\u001b[39m'\u001b[39;49m\u001b[39mregion_guid<10\u001b[39;49m\u001b[39m'\u001b[39;49m\n\u001b[1;32m     <a href='vscode-notebook-cell:/home/favreau/git/BioExplorer/bioexplorer/pythonsdk/notebooks/vasculature/BioExplorer_vasculature.ipynb#W4sZmlsZQ%3D%3D?line=18'>19</a>\u001b[0m )\n",
      "File \u001b[0;32m~/Notebooks/env/lib/python3.8/site-packages/bioexplorer/bio_explorer.py:2373\u001b[0m, in \u001b[0;36mBioExplorer.add_vasculature\u001b[0;34m(self, assembly_name, population_name, color_scheme, use_sdf, section_gids, load_capilarities, representation, radius_multiplier, sql_filter, scale)\u001b[0m\n\u001b[1;32m   2371\u001b[0m params[\u001b[39m\"\u001b[39m\u001b[39msqlFilter\u001b[39m\u001b[39m\"\u001b[39m] \u001b[39m=\u001b[39m sql_filter\n\u001b[1;32m   2372\u001b[0m params[\u001b[39m\"\u001b[39m\u001b[39mscale\u001b[39m\u001b[39m\"\u001b[39m] \u001b[39m=\u001b[39m scale\u001b[39m.\u001b[39mto_list()\n\u001b[0;32m-> 2373\u001b[0m \u001b[39mreturn\u001b[39;00m \u001b[39mself\u001b[39;49m\u001b[39m.\u001b[39;49m_invoke_and_check(\u001b[39m'\u001b[39;49m\u001b[39madd-vasculature\u001b[39;49m\u001b[39m'\u001b[39;49m, params)\n",
      "File \u001b[0;32m~/Notebooks/env/lib/python3.8/site-packages/bioexplorer/bio_explorer.py:356\u001b[0m, in \u001b[0;36mBioExplorer._invoke_and_check\u001b[0;34m(self, method, params)\u001b[0m\n\u001b[1;32m    354\u001b[0m \u001b[39mdef\u001b[39;00m \u001b[39m_invoke_and_check\u001b[39m(\u001b[39mself\u001b[39m, method, params\u001b[39m=\u001b[39m\u001b[39mNone\u001b[39;00m):\n\u001b[1;32m    355\u001b[0m     prefixed_method \u001b[39m=\u001b[39m \u001b[39mself\u001b[39m\u001b[39m.\u001b[39mPLUGIN_API_PREFIX \u001b[39m+\u001b[39m method\n\u001b[0;32m--> 356\u001b[0m     response \u001b[39m=\u001b[39m \u001b[39mself\u001b[39;49m\u001b[39m.\u001b[39;49m_client\u001b[39m.\u001b[39;49mrockets_client\u001b[39m.\u001b[39;49mrequest(\n\u001b[1;32m    357\u001b[0m         method\u001b[39m=\u001b[39;49mprefixed_method, params\u001b[39m=\u001b[39;49mparams)\n\u001b[1;32m    358\u001b[0m     \u001b[39mreturn\u001b[39;00m \u001b[39mself\u001b[39m\u001b[39m.\u001b[39m_check(response)\n",
      "File \u001b[0;32m~/Notebooks/env/lib/python3.8/site-packages/rockets/client.py:100\u001b[0m, in \u001b[0;36mClient.request\u001b[0;34m(self, method, params, response_timeout)\u001b[0m\n\u001b[1;32m     92\u001b[0m \u001b[39m@copydoc\u001b[39m(AsyncClient\u001b[39m.\u001b[39mrequest)\n\u001b[1;32m     93\u001b[0m \u001b[39mdef\u001b[39;00m \u001b[39mrequest\u001b[39m(\n\u001b[1;32m     94\u001b[0m     \u001b[39mself\u001b[39m, method, params\u001b[39m=\u001b[39m\u001b[39mNone\u001b[39;00m, response_timeout\u001b[39m=\u001b[39m\u001b[39mNone\u001b[39;00m\n\u001b[1;32m     95\u001b[0m ):  \u001b[39m# noqa: D102,D205 pylint: disable=C0111,W9011,W9012,W9015,W9016\u001b[39m\n\u001b[1;32m     96\u001b[0m     \u001b[39m\"\"\"\u001b[39m\n\u001b[1;32m     97\u001b[0m \u001b[39m    :param int response_timeout: number of seconds to wait for the response\u001b[39m\n\u001b[1;32m     98\u001b[0m \u001b[39m    :raises TimeoutError: if request was not answered within given response_timeout\u001b[39m\n\u001b[1;32m     99\u001b[0m \u001b[39m    \"\"\"\u001b[39m\n\u001b[0;32m--> 100\u001b[0m     \u001b[39mreturn\u001b[39;00m \u001b[39mself\u001b[39;49m\u001b[39m.\u001b[39;49m_call_sync(\u001b[39mself\u001b[39;49m\u001b[39m.\u001b[39;49m_client\u001b[39m.\u001b[39;49mrequest(method, params), response_timeout)\n",
      "File \u001b[0;32m~/Notebooks/env/lib/python3.8/site-packages/rockets/client.py:119\u001b[0m, in \u001b[0;36mClient._call_sync\u001b[0;34m(self, original_function, response_timeout)\u001b[0m\n\u001b[1;32m    115\u001b[0m \u001b[39mif\u001b[39;00m \u001b[39mself\u001b[39m\u001b[39m.\u001b[39m_thread:\n\u001b[1;32m    116\u001b[0m     future \u001b[39m=\u001b[39m asyncio\u001b[39m.\u001b[39mrun_coroutine_threadsafe(\n\u001b[1;32m    117\u001b[0m         original_function, \u001b[39mself\u001b[39m\u001b[39m.\u001b[39m_client\u001b[39m.\u001b[39mloop\n\u001b[1;32m    118\u001b[0m     )\n\u001b[0;32m--> 119\u001b[0m     \u001b[39mreturn\u001b[39;00m future\u001b[39m.\u001b[39;49mresult(response_timeout)\n\u001b[1;32m    120\u001b[0m \u001b[39mreturn\u001b[39;00m \u001b[39mself\u001b[39m\u001b[39m.\u001b[39m_client\u001b[39m.\u001b[39mloop\u001b[39m.\u001b[39mrun_until_complete(original_function)\n",
      "File \u001b[0;32m/usr/lib/python3.8/concurrent/futures/_base.py:444\u001b[0m, in \u001b[0;36mFuture.result\u001b[0;34m(self, timeout)\u001b[0m\n\u001b[1;32m    442\u001b[0m     \u001b[39mraise\u001b[39;00m CancelledError()\n\u001b[1;32m    443\u001b[0m \u001b[39melif\u001b[39;00m \u001b[39mself\u001b[39m\u001b[39m.\u001b[39m_state \u001b[39m==\u001b[39m FINISHED:\n\u001b[0;32m--> 444\u001b[0m     \u001b[39mreturn\u001b[39;00m \u001b[39mself\u001b[39;49m\u001b[39m.\u001b[39;49m__get_result()\n\u001b[1;32m    445\u001b[0m \u001b[39melse\u001b[39;00m:\n\u001b[1;32m    446\u001b[0m     \u001b[39mraise\u001b[39;00m \u001b[39mTimeoutError\u001b[39;00m()\n",
      "File \u001b[0;32m/usr/lib/python3.8/concurrent/futures/_base.py:389\u001b[0m, in \u001b[0;36mFuture.__get_result\u001b[0;34m(self)\u001b[0m\n\u001b[1;32m    387\u001b[0m \u001b[39mif\u001b[39;00m \u001b[39mself\u001b[39m\u001b[39m.\u001b[39m_exception:\n\u001b[1;32m    388\u001b[0m     \u001b[39mtry\u001b[39;00m:\n\u001b[0;32m--> 389\u001b[0m         \u001b[39mraise\u001b[39;00m \u001b[39mself\u001b[39m\u001b[39m.\u001b[39m_exception\n\u001b[1;32m    390\u001b[0m     \u001b[39mfinally\u001b[39;00m:\n\u001b[1;32m    391\u001b[0m         \u001b[39m# Break a reference cycle with the exception in self._exception\u001b[39m\n\u001b[1;32m    392\u001b[0m         \u001b[39mself\u001b[39m \u001b[39m=\u001b[39m \u001b[39mNone\u001b[39;00m\n",
      "File \u001b[0;32m~/Notebooks/env/lib/python3.8/site-packages/rockets/async_client.py:171\u001b[0m, in \u001b[0;36mAsyncClient.request\u001b[0;34m(self, method, params)\u001b[0m\n\u001b[1;32m    168\u001b[0m     \u001b[39mself\u001b[39m\u001b[39m.\u001b[39m_setup_progress_filter(response_future, request_id)\n\u001b[1;32m    170\u001b[0m     \u001b[39mawait\u001b[39;00m \u001b[39mself\u001b[39m\u001b[39m.\u001b[39msend(request\u001b[39m.\u001b[39mjson)\n\u001b[0;32m--> 171\u001b[0m     \u001b[39mawait\u001b[39;00m response_future\n\u001b[1;32m    172\u001b[0m     \u001b[39mreturn\u001b[39;00m response_future\u001b[39m.\u001b[39mresult()\n\u001b[1;32m    173\u001b[0m \u001b[39mexcept\u001b[39;00m asyncio\u001b[39m.\u001b[39mCancelledError:\n",
      "\u001b[0;31mRequestError\u001b[0m: Socket connection closed"
     ]
    }
   ],
   "source": [
    "assembly_name = 'Vasculature'\n",
    "population_name = 'wholebrain_ml20200201_point_vasculature_lps_registrered_25um'\n",
    "be.remove_assembly(assembly_name)\n",
    "\n",
    "# '''Defines a clipping cylinder with an origin, direction and radius'''\n",
    "# o = Vector3(334.274978637695, 0, 598.822242736816)\n",
    "# d = Vector3(0.0, 1.0, 0.0)\n",
    "# r = 400.0\n",
    "# filter = '%s.length(%s.cross(array[%f-x,%f-y,%f-z], array[%f::double precision, %f, %f])) < %f' % (population_name, population_name, o.x, o.y, o.z, d.x, d.y, d.z, r)\n",
    "\n",
    "vasculature_assembly = be.add_assembly(assembly_name)\n",
    "vasculature_model = be.add_vasculature(\n",
    "    assembly_name=assembly_name,\n",
    "    population_name=population_name,\n",
    "    representation=be.VASCULATURE_REPRESENTATION_SECTION,\n",
    "    color_scheme=be.VASCULATURE_COLOR_SCHEME_REGION,\n",
    "    use_sdf=True, #sql_filter=filter\n",
    "    sql_filter='region_guid in (10, 11)'\n",
    ")"
   ]
  },
  {
   "cell_type": "markdown",
   "id": "e997cfc0",
   "metadata": {},
   "source": [
    "### Vasculature information"
   ]
  },
  {
   "cell_type": "code",
   "execution_count": null,
   "id": "f5fdbc9c",
   "metadata": {},
   "outputs": [],
   "source": [
    "vasculature_info = be.get_vasculature_info(assembly_name=assembly_name)\n",
    "print(vasculature_info)"
   ]
  },
  {
   "cell_type": "markdown",
   "id": "c5e3478b",
   "metadata": {},
   "source": [
    "### Set material"
   ]
  },
  {
   "cell_type": "code",
   "execution_count": null,
   "id": "ba81f0ee",
   "metadata": {},
   "outputs": [],
   "source": [
    "def set_materials(palette_name):\n",
    "    model_ids = be.get_model_ids()['ids']\n",
    "    model_id = model_ids[len(model_ids)-1]\n",
    "    material_ids = be.get_material_ids(model_id)['ids']\n",
    "    nb_material_ids = len(material_ids)\n",
    "    palette = sns.color_palette(palette_name, nb_material_ids)\n",
    "    be.set_materials(\n",
    "        model_ids=[model_id], material_ids=material_ids,\n",
    "        diffuse_colors=palette, specular_colors=palette)\n",
    "\n",
    "set_materials('Reds_r')\n",
    "be.reset_camera()\n",
    "core.set_renderer()"
   ]
  },
  {
   "cell_type": "markdown",
   "id": "b7b6daf4",
   "metadata": {},
   "source": [
    "### Rendering settings"
   ]
  },
  {
   "cell_type": "code",
   "execution_count": null,
   "id": "f9f1b5c2",
   "metadata": {},
   "outputs": [],
   "source": [
    "status = core.set_renderer(\n",
    "    current='bio_explorer',\n",
    "    subsampling=4, max_accum_frames=64)\n",
    "params = core.BioExplorerRendererParams()\n",
    "params.gi_distance = 1000.0\n",
    "params.shadows = 1.0\n",
    "params.soft_shadows = 1.0\n",
    "status = core.set_renderer_params(params)"
   ]
  }
 ],
 "metadata": {
  "interpreter": {
   "hash": "ea9a5fa46eb6bad2806a8ea1d08e15bb1e255a2d4320b81e765591579963c56b"
  },
  "kernelspec": {
   "display_name": "Python 3 (ipykernel)",
   "language": "python",
   "name": "python3"
  },
  "language_info": {
   "codemirror_mode": {
    "name": "ipython",
    "version": 3
   },
   "file_extension": ".py",
   "mimetype": "text/x-python",
   "name": "python",
   "nbconvert_exporter": "python",
   "pygments_lexer": "ipython3",
   "version": "3.8.10"
  }
 },
 "nbformat": 4,
 "nbformat_minor": 5
}
