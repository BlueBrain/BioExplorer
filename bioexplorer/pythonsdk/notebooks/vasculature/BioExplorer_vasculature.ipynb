{
 "cells": [
  {
   "cell_type": "markdown",
   "id": "f992ef9f",
   "metadata": {},
   "source": [
    "# BioExplorer - Vasculature\n",
    "![](../bioexplorer_vasculature_banner.png)"
   ]
  },
  {
   "cell_type": "markdown",
   "id": "ab65571d",
   "metadata": {},
   "source": [
    "### Connect to back-end"
   ]
  },
  {
   "cell_type": "code",
   "execution_count": 1,
   "id": "649df02e",
   "metadata": {},
   "outputs": [],
   "source": [
    "from bioexplorer import BioExplorer, Vector3\n",
    "\n",
    "url = 'localhost:5000'\n",
    "be = BioExplorer(url)\n",
    "core = be.core_api()\n",
    "status = be.reset_scene()"
   ]
  },
  {
   "cell_type": "markdown",
   "id": "5e5e0ce1",
   "metadata": {},
   "source": [
    "### Load vasculature"
   ]
  },
  {
   "cell_type": "code",
   "execution_count": 2,
   "id": "f91a5fe4",
   "metadata": {},
   "outputs": [],
   "source": [
    "assembly_name = 'Vasculature'\n",
    "population_name = 'vasculature'\n",
    "be.remove_assembly(assembly_name)\n",
    "\n",
    "o = Vector3(334.274978637695, 0, 598.822242736816)\n",
    "d = Vector3(0.0, 1.0, 0.0)\n",
    "r = 400.0\n",
    "filter = '%s.length(%s.cross(array[%f-x,%f-y,%f-z], array[%f::double precision, %f, %f])) < %f' % (population_name, population_name, o.x, o.y, o.z, d.x, d.y, d.z, r)\n",
    "\n",
    "vasculature_assembly = be.add_assembly(assembly_name)\n",
    "vasculature_model = be.add_vasculature(\n",
    "    assembly_name=assembly_name,\n",
    "    population_name=population_name,\n",
    "    representation=be.VASCULATURE_REPRESENTATION_SEGMENT,\n",
    "    color_scheme=be.VASCULATURE_COLOR_SCHEME_RADIUS,\n",
    "    use_sdf=True,\n",
    "    sql_filter=filter\n",
    "#     sql_filter='radius>3.5'\n",
    ")"
   ]
  },
  {
   "cell_type": "code",
   "execution_count": 3,
   "id": "ba81f0ee",
   "metadata": {},
   "outputs": [
    {
     "data": {
      "text/plain": [
       "True"
      ]
     },
     "execution_count": 3,
     "metadata": {},
     "output_type": "execute_result"
    }
   ],
   "source": [
    "def set_materials(palette_name):\n",
    "    import seaborn as sns\n",
    "    model_ids = be.get_model_ids()['ids']\n",
    "    model_id = model_ids[len(model_ids)-1]\n",
    "    material_ids = be.get_material_ids(model_id)['ids']\n",
    "    nb_material_ids = len(material_ids)\n",
    "    palette = sns.color_palette(palette_name, nb_material_ids)\n",
    "    be.set_materials(\n",
    "        model_ids=[model_id], material_ids=material_ids,\n",
    "        diffuse_colors=palette, specular_colors=palette)\n",
    "\n",
    "set_materials('rainbow_r')\n",
    "core.set_renderer()"
   ]
  },
  {
   "cell_type": "code",
   "execution_count": 4,
   "id": "0d35cf8b",
   "metadata": {},
   "outputs": [
    {
     "data": {
      "text/plain": [
       "True"
      ]
     },
     "execution_count": 4,
     "metadata": {},
     "output_type": "execute_result"
    }
   ],
   "source": [
    "be.reset_camera()\n",
    "core.set_renderer()"
   ]
  },
  {
   "cell_type": "code",
   "execution_count": 5,
   "id": "f5fdbc9c",
   "metadata": {},
   "outputs": [
    {
     "name": "stdout",
     "output_type": "stream",
     "text": [
      "{'modelId': 0, 'nbNodes': 821587, 'nbSections': 33909}\n"
     ]
    }
   ],
   "source": [
    "vasculature_info = be.get_vasculature_info(assembly_name=assembly_name)\n",
    "print(vasculature_info)"
   ]
  },
  {
   "cell_type": "code",
   "execution_count": 6,
   "id": "f9f1b5c2",
   "metadata": {},
   "outputs": [],
   "source": [
    "status = core.set_renderer(\n",
    "    current='bio_explorer',\n",
    "    subsampling=4, max_accum_frames=64)\n",
    "params = core.BioExplorerRendererParams()\n",
    "params.gi_distance = 1000.0\n",
    "params.shadows = 1.0\n",
    "params.soft_shadows = 1.0\n",
    "status = core.set_renderer_params(params)"
   ]
  }
 ],
 "metadata": {
  "interpreter": {
   "hash": "ea9a5fa46eb6bad2806a8ea1d08e15bb1e255a2d4320b81e765591579963c56b"
  },
  "kernelspec": {
   "display_name": "Python 3 (ipykernel)",
   "language": "python",
   "name": "python3"
  },
  "language_info": {
   "codemirror_mode": {
    "name": "ipython",
    "version": 3
   },
   "file_extension": ".py",
   "mimetype": "text/x-python",
   "name": "python",
   "nbconvert_exporter": "python",
   "pygments_lexer": "ipython3",
   "version": "3.8.10"
  }
 },
 "nbformat": 4,
 "nbformat_minor": 5
}
