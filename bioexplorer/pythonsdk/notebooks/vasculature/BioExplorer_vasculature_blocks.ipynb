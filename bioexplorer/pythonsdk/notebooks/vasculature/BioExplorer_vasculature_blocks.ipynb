{
    "cells": [
        {
            "cell_type": "markdown",
            "id": "f992ef9f",
            "metadata": {},
            "source": [
                "# BioExplorer - Vasculature\n",
                "![](../bioexplorer_vasculature_banner.png)"
            ]
        },
        {
            "cell_type": "markdown",
            "metadata": {},
            "source": [
                "### Connect to back-end"
            ]
        },
        {
            "cell_type": "code",
            "execution_count": null,
            "metadata": {},
            "outputs": [],
            "source": [
                "from bioexplorer import BioExplorer\n",
                "\n",
                "url = 'localhost:5000'\n",
                "be = BioExplorer(url)\n",
                "core = be.core_api()\n",
                "status = be.reset_scene()"
            ]
        },
        {
            "cell_type": "code",
            "execution_count": null,
            "metadata": {},
            "outputs": [],
            "source": [
                "import os\n",
                "from sqlalchemy import create_engine, select\n",
                "from sqlalchemy.orm import Session\n",
                "from tqdm.notebook import tqdm\n",
                "\n",
                "db_host = os.getenv('DB_HOST')\n",
                "db_name = os.getenv('DB_NAME')\n",
                "db_user = os.getenv('DB_USER')\n",
                "db_password = os.getenv('DB_PASSWORD')\n",
                "db_schema = 'vasculature'\n",
                "\n",
                "db_connection_string = 'postgresql+psycopg2://%s:%s@%s:5432/%s' % (db_user, db_password, db_host, db_name)\n",
                "print('Connection string: ' + db_connection_string + ', schema: ' + db_schema)\n",
                "\n",
                "engine = create_engine(db_connection_string)\n",
                "conn = engine.connect()"
            ]
        },
        {
            "cell_type": "markdown",
            "metadata": {},
            "source": [
                "### Load vasculature"
            ]
        },
        {
            "cell_type": "code",
            "execution_count": null,
            "metadata": {},
            "outputs": [],
            "source": [
                "with Session(engine) as session:\n",
                "    # Get size and \n",
                "    data = session.execute(\n",
                "        'SELECT ' \\\n",
                "        'min(x), min(y) ,min(z), '\\\n",
                "        'max(x) - min(x), max(y) - min(y), max(z) - min(z) '\\\n",
                "        'FROM %s.node' % db_schema)\n",
                "    record = data.all()[0]\n",
                "\n",
                "    # Vasculature dimensions\n",
                "    min_aabb = [record[0], record[1], record[2]]\n",
                "    size = [record[3], record[4], record[5]]\n",
                "\n",
                "    # Number of blocks (per side)\n",
                "    nb_blocks = 3\n",
                "\n",
                "    block_size = [0,0,0]\n",
                "    for k in range(3):\n",
                "        block_size[k] = size[k] / nb_blocks\n",
                "\n",
                "    block_count = 0\n",
                "    for x in range(2, nb_blocks):\n",
                "        for y in range(0, nb_blocks):\n",
                "            for z in range(0, nb_blocks):\n",
                "                min_block = [\n",
                "                    min_aabb[0] + x * block_size[0],\n",
                "                    min_aabb[1] + y * block_size[1],\n",
                "                    min_aabb[2] + z * block_size[2]\n",
                "                ]\n",
                "                max_block = [\n",
                "                    min_aabb[0] + (x + 1) * block_size[0],\n",
                "                    min_aabb[1] + (y + 1) * block_size[1],\n",
                "                    min_aabb[2] + (z + 1) * block_size[2]\n",
                "                ]\n",
                "\n",
                "                print(str(min_block) + ', ' + str(max_block))\n",
                "\n",
                "                assembly_name = 'Block_%05d' % block_count\n",
                "                population_name = 'vasculature'\n",
                "                be.remove_assembly(assembly_name)\n",
                "                vasculature_assembly = be.add_assembly(assembly_name)\n",
                "                vasculature_model = be.add_vasculature(\n",
                "                    assembly_name=assembly_name,\n",
                "                    population_name=population_name,\n",
                "                    realism_level=be.vascular_realism_level.ALL,\n",
                "                    sql_filter='x>=%f AND x<%f AND '\\\n",
                "                        ' y>=%f AND y<%f AND '\\\n",
                "                        'z>=%f AND z<%f' % (\n",
                "                            min_block[0], max_block[0],\n",
                "                            min_block[1], max_block[1],\n",
                "                            min_block[2], max_block[2])\n",
                "                )\n",
                "                block_count += 1\n"
            ]
        },
        {
            "cell_type": "code",
            "execution_count": null,
            "metadata": {},
            "outputs": [],
            "source": [
                "be.reset_camera()\n",
                "core.set_renderer()"
            ]
        },
        {
            "cell_type": "code",
            "execution_count": null,
            "metadata": {},
            "outputs": [],
            "source": [
                "status = core.set_renderer(\n",
                "    background_color=[1,1,1],\n",
                "    current='advanced',subsampling=4, max_accum_frames=64)\n",
                "params = core.AdvancedRendererParams()\n",
                "params.gi_ray_length = 500.0\n",
                "params.shadow_intensity = 1.0\n",
                "params.soft_shadow_strength = 1.0\n",
                "params.epsilon_multiplier = 10.0\n",
                "params.max_ray_depth = 1\n",
                "params.show_background = False\n",
                "params.main_exposure = 1.0\n",
                "status = core.set_renderer_params(params)\n",
                "status = core.set_renderer()"
            ]
        },
        {
            "cell_type": "code",
            "execution_count": null,
            "metadata": {},
            "outputs": [
                {
                    "name": "stderr",
                    "output_type": "stream",
                    "text": [
                        "Future exception was never retrieved\n",
                        "future: <Future finished exception=ConnectionClosedError(None, None, None)>\n",
                        "websockets.exceptions.ConnectionClosedError: no close frame received or sent\n",
                        "Future exception was never retrieved\n",
                        "future: <Future finished exception=ConnectionClosedError(None, None, None)>\n",
                        "websockets.exceptions.ConnectionClosedError: no close frame received or sent\n",
                        "Future exception was never retrieved\n",
                        "future: <Future finished exception=ConnectionClosedError(None, None, None)>\n",
                        "websockets.exceptions.ConnectionClosedError: no close frame received or sent\n",
                        "Future exception was never retrieved\n",
                        "future: <Future finished exception=ConnectionClosedError(None, None, None)>\n",
                        "websockets.exceptions.ConnectionClosedError: no close frame received or sent\n",
                        "Future exception was never retrieved\n",
                        "future: <Future finished exception=ConnectionClosedError(None, None, None)>\n",
                        "websockets.exceptions.ConnectionClosedError: no close frame received or sent\n",
                        "Future exception was never retrieved\n",
                        "future: <Future finished exception=ConnectionClosedError(None, None, None)>\n",
                        "websockets.exceptions.ConnectionClosedError: no close frame received or sent\n",
                        "Future exception was never retrieved\n",
                        "future: <Future finished exception=ConnectionClosedError(None, None, None)>\n",
                        "websockets.exceptions.ConnectionClosedError: no close frame received or sent\n"
                    ]
                }
            ],
            "source": [
                "import seaborn as sns\n",
                "model_ids = be.get_model_ids()['ids']\n",
                "nb_models = len(model_ids)\n",
                "palette = sns.color_palette('Set1', nb_models)\n",
                "count = 0\n",
                "for model_id in model_ids:\n",
                "    material_ids = be.get_material_ids(model_id)['ids']\n",
                "    nb_materials = len(material_ids)\n",
                "    model_palette = list()\n",
                "    for _ in range(nb_materials):\n",
                "        model_palette.append(palette[count])\n",
                "    be.set_materials(\n",
                "        model_ids=[model_id], material_ids=material_ids,\n",
                "        diffuse_colors=model_palette, specular_colors=model_palette)\n",
                "    count += 1\n",
                "core.set_renderer()"
            ]
        }
    ],
    "metadata": {
        "interpreter": {
            "hash": "ea9a5fa46eb6bad2806a8ea1d08e15bb1e255a2d4320b81e765591579963c56b"
        },
        "kernelspec": {
            "display_name": "Python 3.8.10 64-bit ('env': venv)",
            "language": "python",
            "name": "python3"
        },
        "language_info": {
            "codemirror_mode": {
                "name": "ipython",
                "version": 3
            },
            "file_extension": ".py",
            "mimetype": "text/x-python",
            "name": "python",
            "nbconvert_exporter": "python",
            "pygments_lexer": "ipython3",
            "version": "3.10.12"
        }
    },
    "nbformat": 4,
    "nbformat_minor": 5
}