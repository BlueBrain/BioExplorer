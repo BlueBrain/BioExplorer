{
 "cells": [
  {
   "cell_type": "markdown",
   "metadata": {},
   "source": [
    "# Blue Brain BioExplorer\n",
    "\n",
    "![](./images/bioexplorer_banner.png)"
   ]
  },
  {
   "cell_type": "markdown",
   "metadata": {},
   "source": [
    "## Jupyter notebook widgets"
   ]
  },
  {
   "cell_type": "code",
   "execution_count": 27,
   "metadata": {},
   "outputs": [],
   "source": [
    "from bioexplorer import BioExplorer, Widgets\n",
    "be = BioExplorer('localhost:5000')"
   ]
  },
  {
   "cell_type": "code",
   "execution_count": 28,
   "metadata": {},
   "outputs": [],
   "source": [
    "w = Widgets(be)"
   ]
  },
  {
   "cell_type": "code",
   "execution_count": 25,
   "metadata": {},
   "outputs": [
    {
     "data": {
      "application/vnd.jupyter.widget-view+json": {
       "model_id": "a87b216dbb764073b7b959426fe7621c",
       "version_major": 2,
       "version_minor": 0
      },
      "text/html": [
       "<p>Failed to display Jupyter Widget of type <code>Select</code>.</p>\n",
       "<p>\n",
       "  If you're reading this message in the Jupyter Notebook or JupyterLab Notebook, it may mean\n",
       "  that the widgets JavaScript is still loading. If this message persists, it\n",
       "  likely means that the widgets JavaScript library is either not installed or\n",
       "  not enabled. See the <a href=\"https://ipywidgets.readthedocs.io/en/stable/user_install.html\">Jupyter\n",
       "  Widgets Documentation</a> for setup instructions.\n",
       "</p>\n",
       "<p>\n",
       "  If you're reading this message in another frontend (for example, a static\n",
       "  rendering on GitHub or <a href=\"https://nbviewer.jupyter.org/\">NBViewer</a>),\n",
       "  it may mean that your frontend doesn't currently support widgets.\n",
       "</p>\n"
      ],
      "text/plain": [
       "Select(description='Maps', options=('0000.jpg', '0001.jpg', '0002.jpg', '0002a.jpg', '0002b.jpg', '0002c.jpg', '0002d.jpg', '0002e.jpg', '0002f.jpg', '0002g.jpg', '0002h.jpg', '0002h.png', '0008.jpg', '0057.jpg', '0068.jpg', '0069.jpg', '0100.jpg', '0100a.jpg', '0100b.jpg', '0100c.jpg', '0100d.jpg', '1000.jpg', '1001.jpg', '1002.jpg', '1008.jpg'), value='0000.jpg')"
      ]
     },
     "metadata": {},
     "output_type": "display_data"
    }
   ],
   "source": [
    "w.display_environment_maps('/media/favreau/Documents/SolR/bin/hdri')"
   ]
  },
  {
   "cell_type": "code",
   "execution_count": 30,
   "metadata": {},
   "outputs": [
    {
     "data": {
      "application/vnd.jupyter.widget-view+json": {
       "model_id": "f1b03a00ed2b4ec9a2b6a5a6a593b8b6",
       "version_major": 2,
       "version_minor": 0
      },
      "text/html": [
       "<p>Failed to display Jupyter Widget of type <code>HBox</code>.</p>\n",
       "<p>\n",
       "  If you're reading this message in the Jupyter Notebook or JupyterLab Notebook, it may mean\n",
       "  that the widgets JavaScript is still loading. If this message persists, it\n",
       "  likely means that the widgets JavaScript library is either not installed or\n",
       "  not enabled. See the <a href=\"https://ipywidgets.readthedocs.io/en/stable/user_install.html\">Jupyter\n",
       "  Widgets Documentation</a> for setup instructions.\n",
       "</p>\n",
       "<p>\n",
       "  If you're reading this message in another frontend (for example, a static\n",
       "  rendering on GitHub or <a href=\"https://nbviewer.jupyter.org/\">NBViewer</a>),\n",
       "  it may mean that your frontend doesn't currently support widgets.\n",
       "</p>\n"
      ],
      "text/plain": [
       "HBox(children=(SelectMultiple(options=('Coronavirus_Protein S (open)', 'Coronavirus_Protein S (closed)', 'Coronavirus_Protein M', 'Coronavirus_Protein E', 'Coronavirus_Membrane_0', 'Coronavirus_Protein S (closed)_High-mannose_0', 'Coronavirus_Protein S (closed)_High-mannose_1', 'Coronavirus_Protein S (closed)_High-mannose_2', 'Coronavirus_Protein S (closed)_High-mannose_3', 'Coronavirus_Protein S (open)_High-mannose_0', 'Coronavirus_Protein S (open)_High-mannose_1', 'Coronavirus_Protein S (open)_High-mannose_2', 'Coronavirus_Protein S (open)_High-mannose_3', 'Coronavirus_Protein S (closed)_Complex_0', 'Coronavirus_Protein S (closed)_Complex_1', 'Coronavirus_Protein S (closed)_Complex_2', 'Coronavirus_Protein S (closed)_Complex_3', 'Coronavirus_Protein S (open)_Complex_0', 'Coronavirus_Protein S (open)_Complex_1', 'Coronavirus_Protein S (open)_Complex_2', 'Coronavirus_Protein S (open)_Complex_3', 'Coronavirus_O-glycan_323', 'Coronavirus_O-glycan_325', 'Coronavirus_Protein M_High-mannose_0', 'Coronavirus_Protein M_High-mannose_1', 'Coronavirus_Protein M_High-mannose_2', 'Coronavirus_Protein M_High-mannose_3', 'Coronavirus_Protein E_Complex_0', 'Coronavirus_Protein E_Complex_1', 'Coronavirus_Protein E_Complex_2', 'Coronavirus_Protein E_Complex_3', 'Cell_Receptor', 'Cell_Membrane_0', 'Cell_Receptor_Complex_0', 'Cell_Receptor_Complex_1', 'Cell_Receptor_Complex_2', 'Cell_Receptor_Complex_3', 'Cell_Receptor_Hybrid_0', 'Cell_O-glycan_164', 'Cell_O-glycan_739'), value=()), HBox(children=(VBox(children=(Label(value='Models:'), Button(description='Show', style=ButtonStyle()), Button(description='Hide', style=ButtonStyle()))), VBox(children=(Label(value='Bounds:'), Button(description='Show', style=ButtonStyle()), Button(description='Hide', style=ButtonStyle()))), VBox(children=(Label(value='Camera:'), Button(description='Adjust', style=ButtonStyle())))))), layout=Layout(border='1px solid black', margin='5px', padding='5px'))"
      ]
     },
     "metadata": {},
     "output_type": "display_data"
    }
   ],
   "source": [
    "w.display_model_visibility()"
   ]
  },
  {
   "cell_type": "code",
   "execution_count": 19,
   "metadata": {
    "scrolled": true
   },
   "outputs": [
    {
     "data": {
      "application/vnd.jupyter.widget-view+json": {
       "model_id": "30053224cce34b798f6d472e5aa65258",
       "version_major": 2,
       "version_minor": 0
      },
      "text/html": [
       "<p>Failed to display Jupyter Widget of type <code>VBox</code>.</p>\n",
       "<p>\n",
       "  If you're reading this message in the Jupyter Notebook or JupyterLab Notebook, it may mean\n",
       "  that the widgets JavaScript is still loading. If this message persists, it\n",
       "  likely means that the widgets JavaScript library is either not installed or\n",
       "  not enabled. See the <a href=\"https://ipywidgets.readthedocs.io/en/stable/user_install.html\">Jupyter\n",
       "  Widgets Documentation</a> for setup instructions.\n",
       "</p>\n",
       "<p>\n",
       "  If you're reading this message in another frontend (for example, a static\n",
       "  rendering on GitHub or <a href=\"https://nbviewer.jupyter.org/\">NBViewer</a>),\n",
       "  it may mean that your frontend doesn't currently support widgets.\n",
       "</p>\n"
      ],
      "text/plain": [
       "VBox(children=(HBox(children=(Select(description='Models:', options=('Protein S (closed)', 'High-mannose', 'Hybrid', 'Complex', 'Protein S (closed)_O-glycan_323', 'Protein S (closed)_O-glycan_325', 'High-mannose'), value='Protein S (closed)'), Select(description='Shading:', options=('none', 'basic', 'diffuse', 'electron', 'cartoon', 'electron_transparency', 'perlin', 'diffuse_transparency', 'checker', 'goodsell'), value='none'), Select(description='Palette:', options=('Accent', 'Accent_r', 'Blues', 'Blues_r', 'BrBG', 'BrBG_r', 'BuGn', 'BuGn_r', 'BuPu', 'BuPu_r', 'CMRmap', 'CMRmap_r', 'Dark2', 'Dark2_r', 'GnBu', 'GnBu_r', 'Greens', 'Greens_r', 'Greys', 'Greys_r', 'OrRd', 'OrRd_r', 'Oranges', 'Oranges_r', 'PRGn', 'PRGn_r', 'Paired', 'Paired_r', 'Pastel1', 'Pastel1_r', 'Pastel2', 'Pastel2_r', 'PiYG', 'PiYG_r', 'PuBu', 'PuBuGn', 'PuBuGn_r', 'PuBu_r', 'PuOr', 'PuOr_r', 'PuRd', 'PuRd_r', 'Purples', 'Purples_r', 'RdBu', 'RdBu_r', 'RdGy', 'RdGy_r', 'RdPu', 'RdPu_r', 'RdYlBu', 'RdYlBu_r', 'RdYlGn', 'RdYlGn_r', 'Reds', 'Reds_r', 'Set1', 'Set1_r', 'Set2', 'Set2_r', 'Set3', 'Set3_r', 'Wistia', 'Wistia_r', 'YlGn', 'YlGnBu', 'YlGnBu_r', 'YlGn_r', 'YlOrBr', 'YlOrBr_r', 'YlOrRd', 'YlOrRd_r', 'afmhot', 'afmhot_r', 'autumn', 'autumn_r', 'binary', 'binary_r', 'bone', 'bone_r', 'brg', 'brg_r', 'bwr', 'bwr_r', 'cool', 'cool_r', 'coolwarm', 'coolwarm_r', 'copper', 'copper_r', 'cubehelix', 'cubehelix_r', 'flag', 'flag_r', 'gist_earth', 'gist_earth_r', 'gist_gray', 'gist_gray_r', 'gist_heat', 'gist_heat_r', 'gist_ncar', 'gist_ncar_r', 'gist_rainbow', 'gist_rainbow_r', 'gist_stern', 'gist_stern_r', 'gist_yarg', 'gist_yarg_r', 'gnuplot', 'gnuplot2', 'gnuplot2_r', 'gnuplot_r', 'gray', 'gray_r', 'hot', 'hot_r', 'hsv', 'hsv_r', 'icefire', 'icefire_r', 'inferno', 'inferno_r', 'jet_r', 'magma', 'magma_r', 'mako', 'mako_r', 'nipy_spectral', 'nipy_spectral_r', 'ocean', 'ocean_r', 'pink', 'pink_r', 'plasma', 'plasma_r', 'prism', 'prism_r', 'rainbow', 'rainbow_r', 'rocket', 'rocket_r', 'seismic', 'seismic_r', 'spring', 'spring_r', 'summer', 'summer_r', 'tab10', 'tab10_r', 'tab20', 'tab20_r', 'tab20b', 'tab20b_r', 'tab20c', 'tab20c_r', 'terrain', 'terrain_r', 'viridis', 'viridis_r', 'vlag', 'vlag_r', 'winter', 'winter_r'), value='Accent'))), HBox(children=(FloatSlider(value=1.0, description='Opacity', max=1.0), FloatSlider(value=1.0, description='Refraction', max=5.0, min=1.0), FloatSlider(value=0.0, description='Reflection', max=1.0))), HBox(children=(FloatSlider(value=1.0, description='Glossiness', max=1.0), FloatSlider(value=1.0, description='Specular exponent', min=1.0), FloatSlider(value=1.0, description='User param'))), HBox(children=(FloatSlider(value=0.0, description='Emission'), Checkbox(value=False, description='Simulation'), Select(description='Chameleon:', options=('none', 'emitter', 'receiver'), value='none')))), layout=Layout(border='1px solid black', margin='5px', padding='5px'))"
      ]
     },
     "metadata": {},
     "output_type": "display_data"
    }
   ],
   "source": [
    "w.display_palette_for_models()"
   ]
  },
  {
   "cell_type": "code",
   "execution_count": null,
   "metadata": {},
   "outputs": [],
   "source": [
    "w.display_advanced_camera_settings()"
   ]
  },
  {
   "cell_type": "code",
   "execution_count": null,
   "metadata": {
    "scrolled": true
   },
   "outputs": [],
   "source": [
    "w.display_rendering_settings()\n",
    "w.display_advanced_rendering_settings()"
   ]
  },
  {
   "cell_type": "code",
   "execution_count": null,
   "metadata": {},
   "outputs": [],
   "source": [
    "w.display_focal_distance()"
   ]
  },
  {
   "cell_type": "markdown",
   "metadata": {},
   "source": [
    "## Snapshots"
   ]
  },
  {
   "cell_type": "code",
   "execution_count": null,
   "metadata": {},
   "outputs": [],
   "source": [
    "from braynsmediamaker import MovieMaker\n",
    "mm = MovieMaker(be.core_api())"
   ]
  },
  {
   "cell_type": "code",
   "execution_count": null,
   "metadata": {},
   "outputs": [],
   "source": [
    "mm.create_snapshot(\n",
    "    exportIntermediateFrames=False,\n",
    "    size=[512,512], samples_per_pixel=64, \n",
    "    path='/home/favreau/membrane.png')"
   ]
  }
 ],
 "metadata": {
  "kernelspec": {
   "display_name": "Python 3",
   "language": "python",
   "name": "python3"
  },
  "language_info": {
   "codemirror_mode": {
    "name": "ipython",
    "version": 3
   },
   "file_extension": ".py",
   "mimetype": "text/x-python",
   "name": "python",
   "nbconvert_exporter": "python",
   "pygments_lexer": "ipython3",
   "version": "3.8.5"
  }
 },
 "nbformat": 4,
 "nbformat_minor": 4
}
