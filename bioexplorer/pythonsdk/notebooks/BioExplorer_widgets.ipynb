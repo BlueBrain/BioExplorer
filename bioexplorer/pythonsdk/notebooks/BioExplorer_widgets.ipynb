{
 "cells": [
  {
   "cell_type": "markdown",
   "metadata": {},
   "source": [
    "# Blue Brain BioExplorer\n",
    "\n",
    "![](./images/bioexplorer_banner.png)"
   ]
  },
  {
   "cell_type": "markdown",
   "metadata": {},
   "source": [
    "## Jupyter notebook widgets"
   ]
  },
  {
   "cell_type": "code",
   "execution_count": 33,
   "metadata": {},
   "outputs": [],
   "source": [
    "from bioexplorer import BioExplorer, Widgets\n",
    "be = BioExplorer('localhost:5000')\n",
    "w = Widgets(be)"
   ]
  },
  {
   "cell_type": "code",
   "execution_count": 22,
   "metadata": {},
   "outputs": [],
   "source": [
    "from bioexplorer import Vector3\n",
    "status = be.add_grid(\n",
    "    min_value=0, max_value=150, interval=10, radius=0.1, colored=False,\n",
    "    position=Vector3(-75.0, -75.0, -75.0))"
   ]
  },
  {
   "cell_type": "code",
   "execution_count": 32,
   "metadata": {},
   "outputs": [],
   "source": [
    "from bioexplorer import Vector3\n",
    "status = be.add_grid(\n",
    "    min_value=0, max_value=300, interval=10, radius=0.1, colored=False,\n",
    "    position=Vector3(-150.0, -100.0, -150.0))"
   ]
  },
  {
   "cell_type": "code",
   "execution_count": 34,
   "metadata": {
    "scrolled": false
   },
   "outputs": [
    {
     "data": {
      "application/vnd.jupyter.widget-view+json": {
       "model_id": "3b73ff4f9bd147878cc5ca4bdfc9b845",
       "version_major": 2,
       "version_minor": 0
      },
      "text/html": [
       "<p>Failed to display Jupyter Widget of type <code>VBox</code>.</p>\n",
       "<p>\n",
       "  If you're reading this message in the Jupyter Notebook or JupyterLab Notebook, it may mean\n",
       "  that the widgets JavaScript is still loading. If this message persists, it\n",
       "  likely means that the widgets JavaScript library is either not installed or\n",
       "  not enabled. See the <a href=\"https://ipywidgets.readthedocs.io/en/stable/user_install.html\">Jupyter\n",
       "  Widgets Documentation</a> for setup instructions.\n",
       "</p>\n",
       "<p>\n",
       "  If you're reading this message in another frontend (for example, a static\n",
       "  rendering on GitHub or <a href=\"https://nbviewer.jupyter.org/\">NBViewer</a>),\n",
       "  it may mean that your frontend doesn't currently support widgets.\n",
       "</p>\n"
      ],
      "text/plain": [
       "VBox(children=(HBox(children=(Select(description='Models:', options=('Coronavirus_Protein S (open)', 'Coronavirus_Protein S (closed)', 'Coronavirus_Protein M', 'Coronavirus_Protein E', 'Coronavirus_Membrane_0', 'Coronavirus_RNA sequence', 'Coronavirus_Protein S (closed)_High-mannose_1', 'Coronavirus_Protein S (closed)_High-mannose_2', 'Coronavirus_Protein S (closed)_High-mannose_3', 'Coronavirus_Protein S (open)_High-mannose_1', 'Coronavirus_Protein S (open)_High-mannose_2', 'Coronavirus_Protein S (closed)_Complex_0', 'Coronavirus_Protein S (closed)_Complex_1', 'Coronavirus_Protein S (closed)_Complex_2', 'Coronavirus_Protein S (closed)_Complex_3', 'Coronavirus_Protein S (open)_Complex_1', 'Coronavirus_Protein S (open)_Complex_2', 'Coronavirus_Protein S (open)_Complex_3', 'Coronavirus_O-glycan_323', 'High-mannose', 'Complex', 'Coronavirus_O-glycan_325', 'High-mannose', 'Complex', 'Cell_Receptor', 'Cell_Membrane_0', 'Cell_Receptor_Complex_0', 'Cell_Receptor_Complex_1', 'Cell_Receptor_Complex_2', 'Cell_Receptor_Complex_3', 'Cell_Receptor_Hybrid_0', 'Cell_O-glycan_164', 'Cell_O-glycan_739', 'Glucose', 'Lactoferrin', 'Defensin', 'Surfactant-D 1_Collagen_0', 'Surfactant-D 1_Collagen_1', 'Surfactant-D 1_Head', 'Surfactant-A 1_Collagen_0', 'Surfactant-A 1_Collagen_1', 'Surfactant-A 1_Head', 'Grid'), value='Coronavirus_Protein S (open)'), Select(description='Shading:', options=('none', 'basic', 'diffuse', 'electron', 'cartoon', 'electron_transparency', 'perlin', 'diffuse_transparency', 'checker', 'goodsell'), value='none'), Select(description='Palette:', options=('Accent', 'Accent_r', 'Blues', 'Blues_r', 'BrBG', 'BrBG_r', 'BuGn', 'BuGn_r', 'BuPu', 'BuPu_r', 'CMRmap', 'CMRmap_r', 'Dark2', 'Dark2_r', 'GnBu', 'GnBu_r', 'Greens', 'Greens_r', 'Greys', 'Greys_r', 'OrRd', 'OrRd_r', 'Oranges', 'Oranges_r', 'PRGn', 'PRGn_r', 'Paired', 'Paired_r', 'Pastel1', 'Pastel1_r', 'Pastel2', 'Pastel2_r', 'PiYG', 'PiYG_r', 'PuBu', 'PuBuGn', 'PuBuGn_r', 'PuBu_r', 'PuOr', 'PuOr_r', 'PuRd', 'PuRd_r', 'Purples', 'Purples_r', 'RdBu', 'RdBu_r', 'RdGy', 'RdGy_r', 'RdPu', 'RdPu_r', 'RdYlBu', 'RdYlBu_r', 'RdYlGn', 'RdYlGn_r', 'Reds', 'Reds_r', 'Set1', 'Set1_r', 'Set2', 'Set2_r', 'Set3', 'Set3_r', 'Wistia', 'Wistia_r', 'YlGn', 'YlGnBu', 'YlGnBu_r', 'YlGn_r', 'YlOrBr', 'YlOrBr_r', 'YlOrRd', 'YlOrRd_r', 'afmhot', 'afmhot_r', 'autumn', 'autumn_r', 'binary', 'binary_r', 'bone', 'bone_r', 'brg', 'brg_r', 'bwr', 'bwr_r', 'cool', 'cool_r', 'coolwarm', 'coolwarm_r', 'copper', 'copper_r', 'cubehelix', 'cubehelix_r', 'flag', 'flag_r', 'gist_earth', 'gist_earth_r', 'gist_gray', 'gist_gray_r', 'gist_heat', 'gist_heat_r', 'gist_ncar', 'gist_ncar_r', 'gist_rainbow', 'gist_rainbow_r', 'gist_stern', 'gist_stern_r', 'gist_yarg', 'gist_yarg_r', 'gnuplot', 'gnuplot2', 'gnuplot2_r', 'gnuplot_r', 'gray', 'gray_r', 'hot', 'hot_r', 'hsv', 'hsv_r', 'icefire', 'icefire_r', 'inferno', 'inferno_r', 'jet_r', 'magma', 'magma_r', 'mako', 'mako_r', 'nipy_spectral', 'nipy_spectral_r', 'ocean', 'ocean_r', 'pink', 'pink_r', 'plasma', 'plasma_r', 'prism', 'prism_r', 'rainbow', 'rainbow_r', 'rocket', 'rocket_r', 'seismic', 'seismic_r', 'spring', 'spring_r', 'summer', 'summer_r', 'tab10', 'tab10_r', 'tab20', 'tab20_r', 'tab20b', 'tab20b_r', 'tab20c', 'tab20c_r', 'terrain', 'terrain_r', 'viridis', 'viridis_r', 'vlag', 'vlag_r', 'winter', 'winter_r'), value='Accent'))), HBox(children=(FloatSlider(value=1.0, description='Opacity', max=1.0), FloatSlider(value=1.0, description='Refraction', max=5.0, min=1.0), FloatSlider(value=0.0, description='Reflection', max=1.0))), HBox(children=(FloatSlider(value=1.0, description='Glossiness', max=1.0), FloatSlider(value=1.0, description='Specular exponent', min=1.0), FloatSlider(value=1.0, description='User param'))), HBox(children=(FloatSlider(value=0.0, description='Emission'), Checkbox(value=False, description='Simulation'), Select(description='Chameleon:', options=('none', 'emitter', 'receiver'), value='none')))), layout=Layout(border='1px solid black', margin='5px', padding='5px'))"
      ]
     },
     "metadata": {},
     "output_type": "display_data"
    }
   ],
   "source": [
    "w.display_palette_for_models()"
   ]
  },
  {
   "cell_type": "code",
   "execution_count": null,
   "metadata": {},
   "outputs": [],
   "source": [
    "w.display_model_visibility()"
   ]
  },
  {
   "cell_type": "code",
   "execution_count": null,
   "metadata": {},
   "outputs": [],
   "source": [
    "w.display_advanced_camera_settings()"
   ]
  },
  {
   "cell_type": "code",
   "execution_count": null,
   "metadata": {
    "scrolled": true
   },
   "outputs": [],
   "source": [
    "w.display_rendering_settings()\n",
    "w.display_advanced_rendering_settings()"
   ]
  },
  {
   "cell_type": "code",
   "execution_count": null,
   "metadata": {},
   "outputs": [],
   "source": [
    "w.display_focal_distance()"
   ]
  },
  {
   "cell_type": "code",
   "execution_count": null,
   "metadata": {},
   "outputs": [],
   "source": []
  }
 ],
 "metadata": {
  "kernelspec": {
   "display_name": "Python 3",
   "language": "python",
   "name": "python3"
  },
  "language_info": {
   "codemirror_mode": {
    "name": "ipython",
    "version": 3
   },
   "file_extension": ".py",
   "mimetype": "text/x-python",
   "name": "python",
   "nbconvert_exporter": "python",
   "pygments_lexer": "ipython3",
   "version": "3.8.5"
  }
 },
 "nbformat": 4,
 "nbformat_minor": 4
}
