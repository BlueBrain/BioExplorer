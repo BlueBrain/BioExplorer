{
    "cells": [
        {
            "cell_type": "markdown",
            "id": "f992ef9f",
            "metadata": {},
            "source": [
                "# BioExplorer - Atlas\n",
                "![](../bioexplorer_atlas_banner.png)"
            ]
        },
        {
            "cell_type": "markdown",
            "metadata": {},
            "source": [
                "### Connect to back-end"
            ]
        },
        {
            "cell_type": "code",
            "execution_count": null,
            "metadata": {},
            "outputs": [],
            "source": [
                "from bioexplorer import BioExplorer, Vector3, Quaternion\n",
                "\n",
                "url = 'localhost:5000'\n",
                "be = BioExplorer(url)\n",
                "core = be.core_api()\n",
                "status = be.reset_scene()\n",
                "\n",
                "load_cells = False\n",
                "load_meshes = True"
            ]
        },
        {
            "cell_type": "markdown",
            "metadata": {},
            "source": [
                "### Load Atlas"
            ]
        },
        {
            "cell_type": "code",
            "execution_count": null,
            "metadata": {},
            "outputs": [],
            "source": [
                "if load_cells:\n",
                "    atlas_assembly_name = 'AtlasCells'\n",
                "    be.remove_assembly(atlas_assembly_name)\n",
                "    atlas_assembly = be.add_assembly(atlas_assembly_name)\n",
                "    atlas_model = be.add_atlas(\n",
                "        assembly_name=atlas_assembly_name,\n",
                "        population_name='atlas_ccfv3',\n",
                "        load_cells=True, cell_radius=20.0,\n",
                "        load_meshes=False,\n",
                "        region_sql_filter='level>8'\n",
                "    )"
            ]
        },
        {
            "cell_type": "code",
            "execution_count": null,
            "metadata": {},
            "outputs": [],
            "source": [
                "if load_meshes:\n",
                "    atlas_assembly_name = 'AtlasMeshes'\n",
                "    be.remove_assembly(atlas_assembly_name)\n",
                "    atlas_assembly = be.add_assembly(atlas_assembly_name)\n",
                "    atlas_model = be.add_atlas(\n",
                "        assembly_name=atlas_assembly_name,\n",
                "        population_name='atlas_ccfv3',\n",
                "        load_cells=False, load_meshes=True,\n",
                "        region_sql_filter='level>=5 and guid%10=0',\n",
                "        mesh_scale=Vector3(1, 1, 1)\n",
                "    )"
            ]
        },
        {
            "cell_type": "code",
            "execution_count": null,
            "metadata": {},
            "outputs": [],
            "source": [
                "be.reset_camera()\n",
                "core.set_renderer()"
            ]
        },
        {
            "cell_type": "code",
            "execution_count": null,
            "metadata": {},
            "outputs": [],
            "source": [
                "status = core.set_renderer(\n",
                "    current='advanced',\n",
                "    subsampling=4, max_accum_frames=64)\n",
                "params = core.AdvancedRendererParams()\n",
                "params.gi_ray_length = 1000.0\n",
                "params.shadow_intensity = 1.0\n",
                "params.soft_shadow_strength = 1.0\n",
                "params.main_exposure = 2.0\n",
                "status = core.set_renderer_params(params)"
            ]
        },
        {
            "cell_type": "code",
            "execution_count": null,
            "metadata": {},
            "outputs": [],
            "source": [
                "import json\n",
                "import os\n",
                "atlas_data_folder = os.getenv('ATLAS_DATA_FOLDER')\n",
                "data_folder = os.path.join(atlas_data_folder, 'mouse', 'v2')\n",
                "f = open(os.path.join(data_folder, 'brain_regions.json'))\n",
                "obj = json.load(f)\n",
                "\n",
                "colors=dict()\n",
                "colors[0] = 'FFFFFF'\n",
                "def display_child(node):\n",
                "    node_id = node['id']\n",
                "    color = node['color_hex_triplet']\n",
                "    colors[node_id] = color\n",
                "    for child in node['children']:\n",
                "        display_child(child)\n",
                "\n",
                "for node in obj['msg']:\n",
                "    display_child(node)"
            ]
        },
        {
            "cell_type": "code",
            "execution_count": null,
            "metadata": {},
            "outputs": [],
            "source": [
                "def hex_to_rgb(value):\n",
                "    value = value.lstrip('#')\n",
                "    lv = len(value)\n",
                "    return tuple(int(value[i:i + lv // 3], 16) for i in range(0, lv, lv // 3))\n",
                "\n",
                "model_ids = be.get_model_ids()['ids']\n",
                "for model_id in model_ids:\n",
                "    material_ids = be.get_material_ids(model_id)['ids'][:-1]\n",
                "    nb_materials = len(material_ids)\n",
                "    palette = list()\n",
                "    opacities = list()\n",
                "    shading_modes = list()\n",
                "    for material_id in material_ids:\n",
                "        c = hex_to_rgb(colors[material_id])\n",
                "        palette.append([c[0] / 255.0, c[1] / 255.0, c[2] / 255.0])\n",
                "        if model_id == 26:\n",
                "            shading_modes.append(be.shading_mode.NONE)\n",
                "            opacities.append(1.0)\n",
                "        else:\n",
                "            shading_modes.append(be.shading_mode.DIFFUSE)\n",
                "            opacities.append(1.25)\n",
                "    be.set_materials(\n",
                "        opacities=opacities,\n",
                "        model_ids=[model_id], material_ids=material_ids,\n",
                "        diffuse_colors=palette, specular_colors=palette)\n",
                "core.set_renderer()"
            ]
        },
        {
            "cell_type": "code",
            "execution_count": null,
            "metadata": {},
            "outputs": [],
            "source": [
                "# Streamlines transformations\n",
                "transformation = {\n",
                "    'rotation': [1,0,0,0],\n",
                "    'rotation_center': [0.0, 0.0, 0.0],\n",
                "    'scale': [1.0, 1.0, 1.0],\n",
                "    'translation': [-6500, 3500,5500]\n",
                "}\n",
                "core.update_model(43, transformation=transformation)"
            ]
        }
    ],
    "metadata": {
        "interpreter": {
            "hash": "ea9a5fa46eb6bad2806a8ea1d08e15bb1e255a2d4320b81e765591579963c56b"
        },
        "kernelspec": {
            "display_name": "Python 3.8.10 64-bit ('env': venv)",
            "language": "python",
            "name": "python3"
        },
        "language_info": {
            "codemirror_mode": {
                "name": "ipython",
                "version": 3
            },
            "file_extension": ".py",
            "mimetype": "text/x-python",
            "name": "python",
            "nbconvert_exporter": "python",
            "pygments_lexer": "ipython3",
            "version": "3.10.12"
        }
    },
    "nbformat": 4,
    "nbformat_minor": 5
}
