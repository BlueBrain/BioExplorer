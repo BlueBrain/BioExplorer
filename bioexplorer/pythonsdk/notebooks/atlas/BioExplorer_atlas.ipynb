{
 "cells": [
  {
   "cell_type": "markdown",
   "id": "f992ef9f",
   "metadata": {},
   "source": [
    "# BioExplorer - Atlas\n",
    "![](../bioexplorer_vasculature_banner.png)"
   ]
  },
  {
   "cell_type": "markdown",
   "metadata": {},
   "source": [
    "### Connect to back-end"
   ]
  },
  {
   "cell_type": "code",
   "execution_count": null,
   "metadata": {},
   "outputs": [],
   "source": [
    "from bioexplorer import BioExplorer\n",
    "\n",
    "url = 'localhost:5000'\n",
    "be = BioExplorer(url)\n",
    "core = be.core_api()\n",
    "status = be.reset_scene()"
   ]
  },
  {
   "cell_type": "markdown",
   "metadata": {},
   "source": [
    "### Load Atlas"
   ]
  },
  {
   "cell_type": "code",
   "execution_count": 91,
   "metadata": {},
   "outputs": [],
   "source": [
    "atlas_assembly_name = 'Atlas'\n",
    "print(be.remove_assembly(atlas_assembly_name))\n",
    "atlas_assembly = be.add_assembly(atlas_assembly_name)\n",
    "atlas_model = be.add_atlas(\n",
    "    assembly_name=atlas_assembly_name,\n",
    "    load_cells=True, cell_radius=5.0,\n",
    "    region_sql_filter='level=9',\n",
    "    cell_sql_filter='guid%10=0',\n",
    "    # cell_sql_filter='x>-200 and x<200'\n",
    "    # sql_filter='cell_type_guid=5'\n",
    ")"
   ]
  },
  {
   "cell_type": "code",
   "execution_count": null,
   "metadata": {},
   "outputs": [],
   "source": [
    "be.reset_camera()\n",
    "core.set_renderer()"
   ]
  },
  {
   "cell_type": "code",
   "execution_count": null,
   "metadata": {},
   "outputs": [],
   "source": [
    "status = core.set_renderer(\n",
    "    current='bio_explorer',\n",
    "    subsampling=4, max_accum_frames=64)\n",
    "params = core.BioExplorerRendererParams()\n",
    "params.gi_distance = 1000.0\n",
    "params.shadows = 1.0\n",
    "params.soft_shadows = 1.0\n",
    "params.exposure = 2.0\n",
    "status = core.set_renderer_params(params)"
   ]
  },
  {
   "cell_type": "code",
   "execution_count": null,
   "metadata": {},
   "outputs": [],
   "source": [
    "import json\n",
    "import os\n",
    "data_folder = '/gpfs/bbp.cscs.ch/project/proj129/atlas/mouse/v2'\n",
    "f = open(os.path.join(data_folder, 'brain_regions.json'))\n",
    "obj = json.load(f)\n",
    "\n",
    "colors=dict()\n",
    "\n",
    "def display_child(node):\n",
    "    node_id = node['id']\n",
    "    color = node['color_hex_triplet']\n",
    "    colors[node_id] = color\n",
    "    for child in node['children']:\n",
    "        display_child(child)\n",
    "\n",
    "for node in obj['msg']:\n",
    "    display_child(node)\n"
   ]
  },
  {
   "cell_type": "code",
   "execution_count": null,
   "metadata": {},
   "outputs": [],
   "source": [
    "import seaborn as sns\n",
    "\n",
    "def hex_to_rgb(value):\n",
    "    value = value.lstrip('#')\n",
    "    lv = len(value)\n",
    "    return tuple(int(value[i:i + lv // 3], 16) for i in range(0, lv, lv // 3))\n",
    "\n",
    "model_ids = be.get_model_ids()['ids']\n",
    "model_id = model_ids[len(model_ids)-1]\n",
    "material_ids = be.get_material_ids(model_id)['ids'][:-1]\n",
    "nb_materials = len(material_ids)\n",
    "palette = list()\n",
    "for material_id in material_ids:\n",
    "    c = hex_to_rgb(colors[material_id])\n",
    "    palette.append([c[0] / 255.0, c[1] / 255.0, c[2] / 255.0])\n",
    "be.set_materials(\n",
    "    model_ids=[model_id], material_ids=material_ids,\n",
    "    diffuse_colors=palette, specular_colors=palette)\n",
    "core.set_renderer()"
   ]
  },
  {
   "cell_type": "code",
   "execution_count": null,
   "metadata": {},
   "outputs": [],
   "source": [
    "# transformation = {\n",
    "#     'rotation': [-0.5, 0.5, -0.5, 0.5],\n",
    "#     'rotation_center': [0.0, 0.0, 0.0],\n",
    "#     'scale': [1.0, 1.0, 1.0],\n",
    "#     'translation': [-8500.0, 4000.0, 5000.0]\n",
    "# }\n",
    "# core.update_model(0, transformation=transformation)\n"
   ]
  }
 ],
 "metadata": {
  "kernelspec": {
   "display_name": "Python 3 (ipykernel)",
   "language": "python",
   "name": "python3"
  },
  "language_info": {
   "codemirror_mode": {
    "name": "ipython",
    "version": 3
   },
   "file_extension": ".py",
   "mimetype": "text/x-python",
   "name": "python",
   "nbconvert_exporter": "python",
   "pygments_lexer": "ipython3",
   "version": "3.8.10"
  }
 },
 "nbformat": 4,
 "nbformat_minor": 2
}
