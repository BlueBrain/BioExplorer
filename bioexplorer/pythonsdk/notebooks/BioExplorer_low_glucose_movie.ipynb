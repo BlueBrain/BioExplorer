{
 "cells": [
  {
   "cell_type": "code",
   "execution_count": null,
   "metadata": {
    "scrolled": true
   },
   "outputs": [],
   "source": [
    "from bioexplorer import BioExplorer, RNASequence, Protein, AssemblyProtein, Virus, Surfactant, Membrane, Cell, Sugars, \\\n",
    "    Volume, Vector2, Vector3, Quaternion\n",
    "from braynsmediamaker import MovieMaker\n",
    "import os\n",
    "\n",
    "hostname = 'localhost:5000'\n",
    "home_prefix = os.getenv('HOME')\n",
    "    \n",
    "be = BioExplorer(hostname)\n",
    "core = be.core_api()\n",
    "mm = MovieMaker(core)\n",
    "be.reset()\n",
    "bio_explorer_version = be.version()\n",
    "print('BioExplorer version ' +  bio_explorer_version)\n",
    "\n",
    "sequence_name = 'low_glucose'"
   ]
  },
  {
   "cell_type": "code",
   "execution_count": null,
   "metadata": {},
   "outputs": [],
   "source": [
    "cache_folder = home_prefix + 'medias/covid19/caches/' + bio_explorer_version + '/'\n",
    "print(cache_folder)"
   ]
  },
  {
   "cell_type": "code",
   "execution_count": null,
   "metadata": {},
   "outputs": [],
   "source": [
    "cache_filename = cache_folder + sequence_name + '_scenario.bioexplorer'\n",
    "print('Loading ' + cache_filename)\n",
    "dummy = core.add_model(cache_filename)"
   ]
  },
  {
   "cell_type": "code",
   "execution_count": null,
   "metadata": {},
   "outputs": [],
   "source": [
    "nb_models = len(core.scene.models)\n",
    "if nb_models != 147:\n",
    "    print('ERROR: Not all models have been loaded!!! Expected 147, found ' + str(nb_models))\n",
    "else:\n",
    "    print('All good!')"
   ]
  },
  {
   "cell_type": "markdown",
   "metadata": {},
   "source": [
    "## Rendering settings"
   ]
  },
  {
   "cell_type": "code",
   "execution_count": null,
   "metadata": {},
   "outputs": [],
   "source": [
    "status = core.set_renderer(\n",
    "    background_color=[96 / 255, 125 / 255, 139 / 255],\n",
    "    current='bio_explorer',\n",
    "    samples_per_pixel=1, subsampling=4, max_accum_frames=64)\n",
    "params = core.BioExplorerRendererParams()\n",
    "params.gi_samples = 1\n",
    "params.gi_weight = 0.4\n",
    "params.gi_distance = 100\n",
    "params.shadows = 1.0\n",
    "params.soft_shadows = 1.0\n",
    "params.soft_shadows_samples = 1\n",
    "params.fog_start = 1300\n",
    "params.fog_thickness = 1300\n",
    "params.max_bounces = 1\n",
    "status = core.set_renderer_params(params)"
   ]
  },
  {
   "cell_type": "markdown",
   "metadata": {},
   "source": [
    "## Snapshots"
   ]
  },
  {
   "cell_type": "code",
   "execution_count": null,
   "metadata": {
    "scrolled": true
   },
   "outputs": [],
   "source": [
    "k = 4\n",
    "image_size = [k*960,k*540]\n",
    "image_spp = 16 # 64\n",
    "image_format = 'png'\n",
    "aperture_multiplier = 0.0\n",
    "\n",
    "dof = ''\n",
    "if aperture_multiplier != 0.0:\n",
    "    dof = 'dof_'\n",
    "    image_format='jpg'\n",
    "\n",
    "core.set_camera(current='bio_explorer_perspective')\n",
    "output_folder = home_prefix + 'movies/frames/' + \\\n",
    "    bio_explorer_version + '/' + sequence_name + '/'\n",
    "output_suffix = '_' + dof + str(image_size[0]) + 'x' + \\\n",
    "    str(image_size[1]) + '_' + str(image_spp) + 'spp.png'\n",
    "\n",
    "command_line='mkdir -p ' + output_folder\n",
    "os.system(command_line)\n",
    "command_line='ls ' + output_folder\n",
    "if os.system(command_line) != 0:\n",
    "    print('ERROR: Failed to create output folder')\n",
    "\n",
    "\n",
    "print(output_folder)\n",
    "print(output_suffix)"
   ]
  },
  {
   "cell_type": "code",
   "execution_count": null,
   "metadata": {},
   "outputs": [],
   "source": [
    "''' Virus overview '''\n",
    "status =  mm.set_camera(\n",
    "    direction = [0.0, 0.0, -1.0],\n",
    "    origin = [-10, 10, 180],\n",
    "    up = [0.0, 1.0, 0.0]\n",
    ")"
   ]
  },
  {
   "cell_type": "code",
   "execution_count": null,
   "metadata": {},
   "outputs": [],
   "source": [
    "mm.create_snapshot(\n",
    "    size=image_size,\n",
    "    path=output_folder + 'virus_overview' + output_suffix,\n",
    "    samples_per_pixel=image_spp, exportIntermediateFrames=False)"
   ]
  },
  {
   "cell_type": "code",
   "execution_count": null,
   "metadata": {
    "scrolled": true
   },
   "outputs": [],
   "source": [
    "''' Spike '''\n",
    "status = mm.set_camera(\n",
    "    direction = [0.0, 0.0, -1.0],\n",
    "    origin = [-5, 75, 10],\n",
    "    up = [0.0, 1.0, 0.0]\n",
    ")"
   ]
  },
  {
   "cell_type": "code",
   "execution_count": null,
   "metadata": {},
   "outputs": [],
   "source": [
    "mm.create_snapshot(\n",
    "    size=image_size, \n",
    "    path=output_folder + 'spike' + output_suffix,\n",
    "    samples_per_pixel=image_spp, exportIntermediateFrames=False)"
   ]
  },
  {
   "cell_type": "code",
   "execution_count": null,
   "metadata": {},
   "outputs": [],
   "source": [
    "''' Protein M et E '''\n",
    "status = mm.set_camera(\n",
    "    direction = [-0.950, 0.226, 0.211],\n",
    "    origin = [3.863, 84.170, 60.234],\n",
    "    up = [0.233, 0.972, 0.004]\n",
    ")"
   ]
  },
  {
   "cell_type": "code",
   "execution_count": null,
   "metadata": {},
   "outputs": [],
   "source": [
    "mm.create_snapshot(\n",
    "    size=image_size,\n",
    "    path=output_folder + 'proteins_m_and_e' + output_suffix,\n",
    "    samples_per_pixel=image_spp, exportIntermediateFrames=False)"
   ]
  },
  {
   "cell_type": "code",
   "execution_count": null,
   "metadata": {},
   "outputs": [],
   "source": [
    "''' Lactoferrin on virus'''\n",
    "status = mm.set_camera(\n",
    "    direction = [0.646, -0.067, -0.760],\n",
    "    origin = [-72.177, 14.070, 79.730],\n",
    "    up = [0.071, 0.997, -0.027]\n",
    ")"
   ]
  },
  {
   "cell_type": "code",
   "execution_count": null,
   "metadata": {},
   "outputs": [],
   "source": [
    "mm.create_snapshot(\n",
    "    size=image_size,\n",
    "    path=output_folder + 'lactoferrin_on_virus' + output_suffix,\n",
    "    samples_per_pixel=image_spp, exportIntermediateFrames=False)"
   ]
  },
  {
   "cell_type": "code",
   "execution_count": null,
   "metadata": {},
   "outputs": [],
   "source": [
    "''' Overview SP'''\n",
    "status = mm.set_camera(\n",
    "    direction = [-0.406, -0.133, -0.903],\n",
    "    origin = [201.631, 61.669, 302.864],\n",
    "    up = [0.008, 0.988, -0.149]\n",
    ")"
   ]
  },
  {
   "cell_type": "code",
   "execution_count": null,
   "metadata": {},
   "outputs": [],
   "source": [
    "mm.create_snapshot(\n",
    "    size=image_size,\n",
    "    path=output_folder + 'surfactant_overview' + output_suffix,\n",
    "    samples_per_pixel=image_spp, exportIntermediateFrames=False)"
   ]
  },
  {
   "cell_type": "code",
   "execution_count": null,
   "metadata": {},
   "outputs": [],
   "source": [
    "''' Zoom SPD'''\n",
    "status = mm.set_camera(\n",
    "    direction = [-0.821, 0.202, -0.533],\n",
    "    origin = [-10.060, 110.020, 61.037],\n",
    "    up = [0.178, 0.979, 0.098]\n",
    ")"
   ]
  },
  {
   "cell_type": "code",
   "execution_count": null,
   "metadata": {},
   "outputs": [],
   "source": [
    "mm.create_snapshot(\n",
    "    size=image_size,\n",
    "    path=output_folder + 'surfactant_details' + output_suffix,\n",
    "    samples_per_pixel=image_spp, exportIntermediateFrames=False)"
   ]
  },
  {
   "cell_type": "code",
   "execution_count": null,
   "metadata": {},
   "outputs": [],
   "source": [
    "''' cell Membrane '''\n",
    "status = mm.set_camera(\n",
    "    direction = [-1.0, 0.0, 0.0],\n",
    "    origin = [150.0, -160, 100],\n",
    "    up = [0.0, 1.0, 0.0]\n",
    ")"
   ]
  },
  {
   "cell_type": "code",
   "execution_count": null,
   "metadata": {},
   "outputs": [],
   "source": [
    "mm.create_snapshot(\n",
    "    size=image_size,\n",
    "    path=output_folder + 'cell_membrane' + output_suffix,\n",
    "    samples_per_pixel=image_spp, exportIntermediateFrames=False)"
   ]
  },
  {
   "cell_type": "markdown",
   "metadata": {},
   "source": [
    "## Movie"
   ]
  },
  {
   "cell_type": "code",
   "execution_count": null,
   "metadata": {},
   "outputs": [],
   "source": [
    "aperture_ratio = 1.0\n",
    "cameras_key_frames = [\n",
    "    { # Virus overview\n",
    "        'apertureRadius': aperture_ratio * 0.02,\n",
    "        'focusDistance': 170.54,\n",
    "        'direction': [-0.09483077240096455, -0.010968172825250144, -0.9954329830735528],\n",
    "        'origin': [211.94413118453616, 21.10079920431558, 52.46345286820306],\n",
    "        'up': [0.007603691659569742, 0.9999021523507218, -0.011741788515394657]        \n",
    "    }, { # Protein S\n",
    "        'apertureRadius': aperture_ratio * 0.02,\n",
    "        'focusDistance': 32.0,\n",
    "        'direction': [-0.0948307724009648, -0.010968172825250564, -0.9954329830735527],\n",
    "        'origin': [201.58519458544956, 74.49932169689056, -106.41612758995753],\n",
    "        'up': [0.007603691659569706, 0.9999021523507218, -0.01174178851539508]\n",
    "    }, { # Protein M et E\n",
    "        'apertureRadius': aperture_ratio * 0.02,\n",
    "        'focusDistance': 30.33,\n",
    "        'direction': [0.335260685896729, -0.0495384320761152, -0.9408220959562413],\n",
    "        'origin': [175.92265055806817, 38.52391294829779, -79.12134720062772],\n",
    "        'up': [0.012576359454404041, 0.998762976779797, -0.04810770621046554]\n",
    "    }, { # Overview SPA\n",
    "        'apertureRadius': aperture_ratio * 0.02,\n",
    "        'focusDistance': 160,\n",
    "        'direction': [-0.4714996076768658, -0.005614694091156256, -0.8818483969315953],\n",
    "        'origin': [238.16345098602685, 46.43696346532851, 372.58472309655],\n",
    "        'up': [0.003995001611884731, 0.999955871095688, -0.008502695065977069]        \n",
    "    }, { # Overview SPD\n",
    "        'apertureRadius': aperture_ratio * 0.02,\n",
    "        'focusDistance': 393.51,\n",
    "        'direction': [-0.4714996076768658, -0.005614694091156256, -0.8818483969315953],\n",
    "        'origin': [238.16345098602685, 46.43696346532851, 372.58472309655],\n",
    "        'up': [0.003995001611884731, 0.999955871095688, -0.008502695065977069]        \n",
    "    }, { # Zoom SPD\n",
    "        'apertureRadius': aperture_ratio * 0.02,\n",
    "        'focusDistance': 48.60,\n",
    "        'direction': [-0.8211061109992552, 0.20283488545924253, -0.5335192252584856],\n",
    "        'origin': [-9.82707604633258, 110.72057107874232, 60.94402791128543],\n",
    "        'up': [0.1780937547672968, 0.979106660404594, 0.09814663552179895]        \n",
    "    }, { # Overview scene\n",
    "        'apertureRadius': aperture_ratio * 0.0,\n",
    "        'focusDistance': 1.0,\n",
    "        'direction': [-1.0, 0.0, -2.220446049250313e-16],\n",
    "        'origin': [1008.9571707246668, 29.057131512062583, 113.28364588186702],\n",
    "        'up': [0.0, 1.0, 0.0]\n",
    "    }, {\n",
    "        'apertureRadius': aperture_ratio * 0.0,\n",
    "        'focusDistance': 1.0,\n",
    "        'direction': [-1.0, 0.0, 0.0],\n",
    "        'origin': [150.0, -160, 100],\n",
    "        'up': [0.0, 1.0, 0.0]\n",
    "    }\n",
    "]"
   ]
  },
  {
   "cell_type": "code",
   "execution_count": null,
   "metadata": {},
   "outputs": [],
   "source": [
    "key_frames = list()\n",
    "for cameras_key_frame in cameras_key_frames:\n",
    "    key_frames.append(cameras_key_frame)\n",
    "    key_frames.append(cameras_key_frame)"
   ]
  },
  {
   "cell_type": "code",
   "execution_count": null,
   "metadata": {},
   "outputs": [],
   "source": [
    "def render(projection, k, samples_per_pixel, start_frame=0, end_frame=0):\n",
    "    import os\n",
    "    from braynsmediamaker import MovieMaker\n",
    "\n",
    "    nb_frames = core.get_animation_parameters()['frame_count']\n",
    "    export_folder = output_folder + 'sequences/' + projection + '/'\n",
    "\n",
    "    end_frame=nb_frames\n",
    "    frame_step=1\n",
    "    aperture_ratio=0.0\n",
    "\n",
    "    output_size = list()\n",
    "    if projection=='perspective':\n",
    "        aperture_ratio = 1.0\n",
    "        output_size = [int(k*960),int(k*540)]\n",
    "        core.set_camera(current='bio_explorer_perspective')\n",
    "    elif projection=='fisheye':\n",
    "        output_size = [int(k*1024),int(k*1024)]\n",
    "        core.set_camera(current='fisheye')\n",
    "    elif projection=='panoramic':\n",
    "        output_size = [int(k*1024),int(k*1024)]\n",
    "        core.set_camera(current='panoramic')\n",
    "    elif projection=='opendeck':\n",
    "        output_size = [7*2160,3840]\n",
    "        core.set_camera(current='cylindric')\n",
    "\n",
    "    print('Rendering <' + sequence_name + '> sequence in <' + projection + '> projection ' + str(output_size))\n",
    "    print(str(samples_per_pixel) + ' samples per pixel')\n",
    "    print(export_folder)\n",
    "\n",
    "    command_line='mkdir -p ' + export_folder\n",
    "    os.system(command_line)\n",
    "    command_line='ls ' + export_folder\n",
    "    if os.system(command_line) != 0:\n",
    "        print('ERROR: Failed to create output folder')\n",
    "        \n",
    "    size = core.get_application_parameters()['viewport']\n",
    "    core.set_renderer(samples_per_pixel=1, max_accum_frames=samples_per_pixel)\n",
    "    core.set_application_parameters(viewport=output_size)\n",
    "    core.set_application_parameters(image_stream_fps=0)\n",
    "\n",
    "    print('exporting...')\n",
    "    \n",
    "    mm.export_frames(\n",
    "        path=export_folder, size=output_size,\n",
    "        samples_per_pixel=samples_per_pixel-1,\n",
    "        start_frame=start_frame, end_frame=end_frame\n",
    "    )\n",
    "    \n",
    "    while mm.get_export_frames_progress()['progress'] < 1.0:\n",
    "        import time\n",
    "        time.sleep(1)\n",
    "        \n",
    "    mm.cancel_frames_export()"
   ]
  },
  {
   "cell_type": "code",
   "execution_count": null,
   "metadata": {},
   "outputs": [],
   "source": [
    "mm.build_camera_path(key_frames, 250, 150)"
   ]
  },
  {
   "cell_type": "code",
   "execution_count": null,
   "metadata": {},
   "outputs": [],
   "source": [
    "mm.set_current_frame(600)"
   ]
  },
  {
   "cell_type": "code",
   "execution_count": null,
   "metadata": {},
   "outputs": [],
   "source": [
    "render('perspective', 4, 64)"
   ]
  }
 ],
 "metadata": {
  "kernelspec": {
   "display_name": "Python 3",
   "language": "python",
   "name": "python3"
  },
  "language_info": {
   "codemirror_mode": {
    "name": "ipython",
    "version": 3
   },
   "file_extension": ".py",
   "mimetype": "text/x-python",
   "name": "python",
   "nbconvert_exporter": "python",
   "pygments_lexer": "ipython3",
   "version": "3.8.5"
  }
 },
 "nbformat": 4,
 "nbformat_minor": 2
}
