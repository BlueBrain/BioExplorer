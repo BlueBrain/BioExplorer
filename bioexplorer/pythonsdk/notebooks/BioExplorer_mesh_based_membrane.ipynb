{
 "cells": [
  {
   "cell_type": "markdown",
   "metadata": {},
   "source": [
    "# Blue Brain BioExplorer\n",
    "\n",
    "![](./images/bioexplorer_banner.png)"
   ]
  },
  {
   "cell_type": "markdown",
   "metadata": {},
   "source": [
    "## Visualization of a membrane defined by a mesh"
   ]
  },
  {
   "cell_type": "code",
   "execution_count": 1,
   "metadata": {},
   "outputs": [],
   "source": [
    "from bioexplorer import BioExplorer, MeshBasedMembrane, Vector3, Quaternion\n",
    "be = BioExplorer('localhost:5000')\n",
    "status = be.reset()"
   ]
  },
  {
   "cell_type": "markdown",
   "metadata": {},
   "source": [
    "### Resources"
   ]
  },
  {
   "cell_type": "code",
   "execution_count": 2,
   "metadata": {},
   "outputs": [],
   "source": [
    "resource_folder = '../tests/test_files/'\n",
    "pdb_folder = resource_folder + 'pdb/'\n",
    "obj_folder = resource_folder + 'obj/'"
   ]
  },
  {
   "cell_type": "markdown",
   "metadata": {},
   "source": [
    "### Configuration"
   ]
  },
  {
   "cell_type": "code",
   "execution_count": 3,
   "metadata": {},
   "outputs": [],
   "source": [
    "mesh_source= obj_folder + 'suzanne.obj'\n",
    "orientation = Quaternion(1, 0, 0, 0)\n",
    "position = Vector3(0, 0, 0)\n",
    "scale = Vector3(2.5,2.5,2.5)"
   ]
  },
  {
   "cell_type": "markdown",
   "metadata": {},
   "source": [
    "### Membrane"
   ]
  },
  {
   "cell_type": "code",
   "execution_count": 4,
   "metadata": {},
   "outputs": [],
   "source": [
    "name = 'Membrane'\n",
    "protein_source = pdb_folder + 'membrane/popc.pdb'\n",
    "\n",
    "mesh_based_membrane = MeshBasedMembrane(\n",
    "    mesh_source=mesh_source, protein_source=protein_source, \n",
    "    representation=be.REPRESENTATION_SURFACE, atom_radius_multiplier=1.0,\n",
    "    density=2.0, surface_variable_offset=2.0)\n",
    "\n",
    "status = be.add_mesh_based_membrane(\n",
    "    name=name, mesh_based_membrane=mesh_based_membrane,\n",
    "    position=position, scale=scale, orientation=orientation)\n",
    "\n",
    "status = be.set_protein_color_scheme(\n",
    "    assembly_name=name, name=name, \n",
    "    color_scheme=be.COLOR_SCHEME_RESIDUES,\n",
    "    palette_name='rainbow_r', palette_size=5)"
   ]
  },
  {
   "cell_type": "markdown",
   "metadata": {},
   "source": [
    "### Receptors"
   ]
  },
  {
   "cell_type": "code",
   "execution_count": 5,
   "metadata": {},
   "outputs": [],
   "source": [
    "name = be.NAME_DEFENSIN\n",
    "protein_source = pdb_folder + '6m18.pdb'\n",
    "\n",
    "mesh_based_membrane = MeshBasedMembrane(\n",
    "    mesh_source=mesh_source, protein_source=protein_source, \n",
    "    density=0.05, atom_radius_multiplier=1.0, surface_fixed_offset=3,\n",
    "    random_seed=1)\n",
    "\n",
    "status = be.add_mesh_based_membrane(\n",
    "    name, mesh_based_membrane, position=position,\n",
    "    scale=scale)\n",
    "status = be.set_protein_color_scheme(\n",
    "    assembly_name=name, name=name,\n",
    "    color_scheme=be.COLOR_SCHEME_CHAINS,\n",
    "    palette_name='OrRd', palette_size=5)"
   ]
  },
  {
   "cell_type": "markdown",
   "metadata": {},
   "source": [
    "## Camera position"
   ]
  },
  {
   "cell_type": "code",
   "execution_count": 6,
   "metadata": {},
   "outputs": [],
   "source": [
    "status = be.core_api().set_camera(\n",
    "    orientation=[-0.11422378794890106, 0.34132416613407557, 0.02022913498469494, 0.9327601631594552],\n",
    "    position=[368.15230447894794, 107.24264945995064, 367.312178107163],\n",
    "    target=[50.36491743111802, -6.824419061988326, -5.159754133871024]\n",
    ")"
   ]
  },
  {
   "cell_type": "markdown",
   "metadata": {},
   "source": [
    "## Rendering settings"
   ]
  },
  {
   "cell_type": "code",
   "execution_count": 7,
   "metadata": {},
   "outputs": [],
   "source": [
    "status = be.core_api().set_renderer(\n",
    "    background_color=[96 / 255, 125 / 255, 139 / 255],\n",
    "    current='bio_explorer',\n",
    "    samples_per_pixel=1, subsampling=4, max_accum_frames=16)\n",
    "params = be.core_api().BioExplorerRendererParams()\n",
    "params.gi_samples = 1\n",
    "params.gi_weight = 0.4\n",
    "params.gi_distance = 50\n",
    "params.shadows = 1.0\n",
    "params.soft_shadows = 1.0\n",
    "params.fog_start = 1300\n",
    "params.fog_thickness = 1300\n",
    "params.max_bounces = 1\n",
    "status = be.core_api().set_renderer_params(params)"
   ]
  }
 ],
 "metadata": {
  "kernelspec": {
   "display_name": "Python 3",
   "language": "python",
   "name": "python3"
  },
  "language_info": {
   "codemirror_mode": {
    "name": "ipython",
    "version": 3
   },
   "file_extension": ".py",
   "mimetype": "text/x-python",
   "name": "python",
   "nbconvert_exporter": "python",
   "pygments_lexer": "ipython3",
   "version": "3.8.5"
  }
 },
 "nbformat": 4,
 "nbformat_minor": 4
}
