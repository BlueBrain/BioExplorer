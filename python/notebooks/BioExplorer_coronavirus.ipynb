{
 "cells": [
  {
   "cell_type": "markdown",
   "metadata": {},
   "source": [
    "# BioExplorer"
   ]
  },
  {
   "cell_type": "markdown",
   "metadata": {},
   "source": [
    "## Visualization of a Coronavirus"
   ]
  },
  {
   "cell_type": "code",
   "execution_count": 30,
   "metadata": {},
   "outputs": [],
   "source": [
    "from bioexplorer import BioExplorer\n",
    "import os\n",
    "\n",
    "be = BioExplorer('localhost:5000')"
   ]
  },
  {
   "cell_type": "code",
   "execution_count": 31,
   "metadata": {},
   "outputs": [
    {
     "data": {
      "application/vnd.jupyter.widget-view+json": {
       "model_id": "b2d671e8b357459397725563713fd2e7",
       "version_major": 2,
       "version_minor": 0
      },
      "text/plain": [
       "IntProgress(value=0, max=34)"
      ]
     },
     "metadata": {},
     "output_type": "display_data"
    }
   ],
   "source": [
    "name='Coronavirus'\n",
    "\n",
    "# Resources\n",
    "notebook_folder = os.getcwd()\n",
    "resource_folder = notebook_folder + '/../tests/test_files/'\n",
    "\n",
    "be.add_coronavirus(name=name, resource_folder=resource_folder, add_glycans=False)"
   ]
  },
  {
   "cell_type": "markdown",
   "metadata": {},
   "source": [
    "## Visualization of glycosylation sites on Spike protein"
   ]
  },
  {
   "cell_type": "code",
   "execution_count": 32,
   "metadata": {},
   "outputs": [],
   "source": [
    "status = be.set_protein_color_scheme(\n",
    "    assembly_name=name, name=name + '_' + be.NAME_PROTEIN_S_CLOSED,\n",
    "    color_scheme=be.COLOR_SCHEME_GLYCOSYLATION_SITE,\n",
    "    palette_name='Paired', palette_size=2)"
   ]
  },
  {
   "cell_type": "markdown",
   "metadata": {},
   "source": [
    "## Visualization of chains on Spike protein"
   ]
  },
  {
   "cell_type": "code",
   "execution_count": 35,
   "metadata": {},
   "outputs": [],
   "source": [
    "status = be.set_protein_color_scheme(\n",
    "    assembly_name=name, name=name + '_' + be.NAME_PROTEIN_S_CLOSED,\n",
    "    color_scheme=be.COLOR_SCHEME_CHAINS,\n",
    "    palette_name='Set3', palette_size=4)"
   ]
  },
  {
   "cell_type": "markdown",
   "metadata": {},
   "source": [
    "## Visualization of functional regions of Spike Protein"
   ]
  },
  {
   "cell_type": "code",
   "execution_count": 37,
   "metadata": {},
   "outputs": [],
   "source": [
    "# Get number of amino acids for protein\n",
    "protein_name = name + '_' + be.NAME_PROTEIN_S_CLOSED\n",
    "protein_information = be.get_protein_amino_acid_information(\n",
    "    assembly_name=name, name=protein_name)\n",
    "nb_amino_acids=int(protein_information[0].split(',')[1])\n",
    "\n",
    "# RGB color palette for amino acid indices\n",
    "region_indices_and_colors = [\n",
    "    [   1, [1.0, 1.0, 1.0]], [  16, [0.0, 0.0, 1.0]], [ 306, [1.0, 1.0, 1.0]],\n",
    "    [ 330, [0.0, 1.0, 0.0]], [ 438, [0.0, 0.4, 0.0]], [ 507, [0.0, 1.0, 0.0]],\n",
    "    [ 522, [1.0, 1.0, 1.0]], [ 816, [1.0, 0.0, 0.0]], [ 835, [1.0, 1.0, 1.0]],\n",
    "    [ 908, [1.0, 1.0, 0.0]], [ 986, [1.0, 1.0, 1.0]], [1076, [1.0, 0.0, 1.0]],\n",
    "    [1274, [1.0, 1.0, 1.0]], [nb_amino_acids, [1.0, 1.0, 1.0]]\n",
    "]\n",
    "\n",
    "# Build a palette according to region colors\n",
    "previous_index = 0\n",
    "for index in range(len(region_indices_and_colors)-1):\n",
    "    for i in range(region_indices_and_colors[index + 1][0] - \n",
    "                   region_indices_and_colors[index][0]):\n",
    "        palette.append(region_indices_and_colors[index][1])\n",
    "\n",
    "# Apply palette to region color scheme\n",
    "status = be.set_protein_color_scheme(\n",
    "    assembly_name=name, name=protein_name,\n",
    "    color_scheme=be.COLOR_SCHEME_REGION,\n",
    "    palette=palette)"
   ]
  }
 ],
 "metadata": {
  "kernelspec": {
   "display_name": "Python 3",
   "language": "python",
   "name": "python3"
  },
  "language_info": {
   "codemirror_mode": {
    "name": "ipython",
    "version": 3
   },
   "file_extension": ".py",
   "mimetype": "text/x-python",
   "name": "python",
   "nbconvert_exporter": "python",
   "pygments_lexer": "ipython3",
   "version": "3.8.2"
  }
 },
 "nbformat": 4,
 "nbformat_minor": 4
}
