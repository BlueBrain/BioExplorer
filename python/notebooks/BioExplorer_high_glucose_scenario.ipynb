{
 "cells": [
  {
   "cell_type": "markdown",
   "metadata": {},
   "source": [
    "# High Glucose Scenario"
   ]
  },
  {
   "cell_type": "markdown",
   "metadata": {},
   "source": [
    "## Connect to BioExplorer backend"
   ]
  },
  {
   "cell_type": "code",
   "execution_count": null,
   "metadata": {
    "scrolled": true
   },
   "outputs": [],
   "source": [
    "from bioexplorer import BioExplorer, RNASequence, Protein, AssemblyProtein, Virus, Surfactant, Membrane, Cell, Sugars, \\\n",
    "    Volume, Mesh, Vector2, Vector3, Quaternion\n",
    "import nglview\n",
    "\n",
    "hostname = 'localhost:5000'\n",
    "resource_folder = '../tests/test_files/'\n",
    "\n",
    "be = BioExplorer(hostname)\n",
    "be.version()\n",
    "be.reset()\n",
    "\n",
    "export_to_cache = True"
   ]
  },
  {
   "cell_type": "markdown",
   "metadata": {},
   "source": [
    "## Global parameters"
   ]
  },
  {
   "cell_type": "code",
   "execution_count": null,
   "metadata": {},
   "outputs": [],
   "source": [
    "# Scene\n",
    "scene_size = 800.0\n",
    "\n",
    "# Glycans\n",
    "add_glycans = True\n",
    "glycan_radius_multiplier = 1.0\n",
    "glycan_add_sticks = True\n",
    "\n",
    "# Proteins\n",
    "protein_radius_multiplier = 1.0\n",
    "protein_representation = be.REPRESENTATION_ATOMS\n",
    "protein_load_hydrogen = False\n",
    "\n",
    "# Viruses\n",
    "nb_protein_s = 62\n",
    "nb_protein_e = 42\n",
    "nb_protein_m = 50\n",
    "add_rna = True\n",
    "\n",
    "# Immune system\n",
    "nb_glucoses = 360000\n",
    "nb_lactoferrins = 50\n",
    "nb_defensins = 100\n",
    "nb_defensins_on_virus = 2"
   ]
  },
  {
   "cell_type": "markdown",
   "metadata": {},
   "source": [
    "## Resources"
   ]
  },
  {
   "cell_type": "code",
   "execution_count": null,
   "metadata": {},
   "outputs": [],
   "source": [
    "cache_folder = resource_folder + 'caches/0.6.0/'\n",
    "image_folder = resource_folder + 'images/'\n",
    "pdb_folder = resource_folder + 'pdb/'\n",
    "rna_folder = resource_folder + 'rna/'\n",
    "obj_folder = resource_folder + 'obj/'\n",
    "glycan_folder = pdb_folder + 'glycans/'\n",
    "\n",
    "complex_paths = [glycan_folder + 'complex/5.pdb', glycan_folder + 'complex/15.pdb',\n",
    "                 glycan_folder + 'complex/25.pdb',glycan_folder + 'complex/35.pdb']\n",
    "high_mannose_paths = [glycan_folder + 'high-mannose/1.pdb', \n",
    "                      glycan_folder + 'high-mannose/2.pdb',\n",
    "                      glycan_folder + 'high-mannose/3.pdb',\n",
    "                      glycan_folder + 'high-mannose/4.pdb']\n",
    "hybrid_paths = [glycan_folder + 'hybrid/20.pdb']\n",
    "o_glycan_paths = [glycan_folder + 'o-glycan/1.pdb']\n",
    "\n",
    "glucose_path = pdb_folder + 'glucose.pdb'\n",
    "lactoferrin_path=pdb_folder + 'immune/1b0l.pdb'\n",
    "defensin_path = pdb_folder + 'immune/1ijv.pdb'\n",
    "\n",
    "surfactant_head_source = pdb_folder + 'surfactant/1pw9.pdb'\n",
    "surfactant_branch_source = pdb_folder + 'surfactant/1k6f.pdb'"
   ]
  },
  {
   "cell_type": "markdown",
   "metadata": {},
   "source": [
    "## Coronaviruses"
   ]
  },
  {
   "cell_type": "code",
   "execution_count": null,
   "metadata": {
    "scrolled": true
   },
   "outputs": [],
   "source": [
    "def add_virus(name, position, open_conformation_indices=list()):\n",
    "    \n",
    "    closed_conformation_indices = list()\n",
    "    for i in range(nb_protein_s):\n",
    "        if i not in open_conformation_indices:\n",
    "            closed_conformation_indices.append(i)\n",
    "\n",
    "    virus_protein_s = Protein(\n",
    "        sources=[\n",
    "            pdb_folder + '6vyb.pdb',  # Open conformation\n",
    "            pdb_folder + 'sars-cov-2-v1.pdb'  # Closed conformation\n",
    "        ],\n",
    "        load_hydrogen=protein_load_hydrogen, number_of_instances=nb_protein_s, \n",
    "        assembly_params=Vector2(11.5, 0.0), cutoff_angle=0.999,\n",
    "        orientation=Quaternion(0.087, 0.0, 0.996, 0.0),\n",
    "        instance_indices=[open_conformation_indices, closed_conformation_indices])\n",
    "\n",
    "    virus_protein_m = Protein(\n",
    "        sources=[pdb_folder + 'QHD43419a.pdb'], load_hydrogen=protein_load_hydrogen,\n",
    "        number_of_instances=nb_protein_m, assembly_params=Vector2(2.0, 0.0),\n",
    "        cutoff_angle=0.999, orientation=Quaternion(0.99, 0.0, 0.0, 0.135))\n",
    "\n",
    "    virus_protein_e = Protein(\n",
    "        sources=[pdb_folder + 'QHD43418a.pdb'], load_hydrogen=protein_load_hydrogen, \n",
    "        number_of_instances=nb_protein_e, assembly_params=Vector2(3.0, 0.0), \n",
    "        cutoff_angle=0.9999, orientation=Quaternion(0.705, 0.705, -0.04, -0.04))\n",
    "\n",
    "    virus_membrane = Membrane(\n",
    "        sources=[pdb_folder + 'membrane/popc.pdb'],\n",
    "        number_of_instances=15000)\n",
    "\n",
    "    rna_sequence = None\n",
    "    clip_planes = list()\n",
    "    if add_rna:\n",
    "        clip_planes.append([0, 0, -1, 15])\n",
    "        import math\n",
    "        rna_sequence = RNASequence(\n",
    "            source=rna_folder + 'sars-cov-2.rna',\n",
    "            assembly_params=Vector2(11.0, 0.5),\n",
    "            t_range=Vector2(0, 30.5 * math.pi), shape=be.RNA_SHAPE_TREFOIL_KNOT,\n",
    "            shape_params=Vector3(1.51, 1.12, 1.93))\n",
    "\n",
    "    coronavirus = Virus(\n",
    "        name=name, protein_s=virus_protein_s, protein_e=virus_protein_e,\n",
    "        protein_m=virus_protein_m, membrane=virus_membrane, rna_sequence=rna_sequence,\n",
    "        assembly_params=Vector2(45.0, 1.5))\n",
    "\n",
    "    be.add_virus(\n",
    "        virus=coronavirus, position=position, representation=protein_representation,\n",
    "        atom_radius_multiplier=protein_radius_multiplier, clipping_planes=clip_planes)\n",
    "\n",
    "    if add_glycans:\n",
    "        # High-mannose\n",
    "        indices = [61, 122, 234, 603, 709, 717, 801, 1074]\n",
    "        be.add_multiple_glycans(\n",
    "            assembly_name=name, glycan_type=be.NAME_GLYCAN_HIGH_MANNOSE, \n",
    "            protein_name=be.NAME_PROTEIN_S_CLOSED, paths=high_mannose_paths, \n",
    "            indices=indices, add_sticks=glycan_add_sticks, \n",
    "            allowed_occurrences=closed_conformation_indices)\n",
    "        be.add_multiple_glycans(\n",
    "            assembly_name=name, glycan_type=be.NAME_GLYCAN_HIGH_MANNOSE, \n",
    "            protein_name=be.NAME_PROTEIN_S_OPEN, paths=high_mannose_paths,\n",
    "            indices=indices, index_offset=19, add_sticks=glycan_add_sticks,\n",
    "            allowed_occurrences=open_conformation_indices)\n",
    "\n",
    "        # Complex\n",
    "        be.add_multiple_glycans(\n",
    "            assembly_name=name, glycan_type=be.NAME_GLYCAN_COMPLEX, \n",
    "            protein_name=be.NAME_PROTEIN_S_CLOSED, paths=complex_paths, \n",
    "            indices=[17, 74, 149, 165, 282, 331, 343, 616, 1098, 1134, 1158, 1173, 1194],\n",
    "            add_sticks=glycan_add_sticks, allowed_occurrences=closed_conformation_indices)\n",
    "        be.add_multiple_glycans(\n",
    "            assembly_name=name, glycan_type=be.NAME_GLYCAN_COMPLEX, \n",
    "            protein_name=be.NAME_PROTEIN_S_OPEN, paths=complex_paths, \n",
    "            indices=[17, 74, 149, 165, 282, 331, 343, 1098, 1134, 1158, 1173, 1194],\n",
    "            index_offset=19, add_sticks=glycan_add_sticks,\n",
    "            allowed_occurrences=open_conformation_indices)\n",
    "\n",
    "        # Hybrid\n",
    "        indices = [657]\n",
    "        be.add_multiple_glycans(\n",
    "            assembly_name=name, glycan_type=be.NAME_GLYCAN_HYBRID, \n",
    "            protein_name=be.NAME_PROTEIN_S_CLOSED, paths=hybrid_paths,\n",
    "            indices=indices, add_sticks=glycan_add_sticks,\n",
    "            allowed_occurrences=closed_conformation_indices)\n",
    "        be.add_multiple_glycans(\n",
    "            assembly_name=name, glycan_type=be.NAME_GLYCAN_HYBRID, \n",
    "            protein_name=be.NAME_PROTEIN_S_OPEN, paths=hybrid_paths, \n",
    "            indices=indices, index_offset=19, add_sticks=glycan_add_sticks,\n",
    "            allowed_occurrences=open_conformation_indices)\n",
    "\n",
    "        # O-Glycans\n",
    "        for index in [323, 325]:\n",
    "            o_glycan_name = name + '_' + be.NAME_GLYCAN_O_GLYCAN + '_' + str(index)\n",
    "            o_glycan = Sugars(\n",
    "                assembly_name=name, name=o_glycan_name, source=o_glycan_paths[0],\n",
    "                protein_name=name + '_' + be.NAME_PROTEIN_S_CLOSED, \n",
    "                add_sticks=glycan_add_sticks, site_indices=[index])\n",
    "            be.add_sugars(o_glycan)\n",
    "\n",
    "        # High-mannose glycans on Protein M\n",
    "        be.add_multiple_glycans(\n",
    "            assembly_name=name, glycan_type=be.NAME_GLYCAN_HIGH_MANNOSE,\n",
    "            protein_name=be.NAME_PROTEIN_M,\n",
    "            paths=high_mannose_paths, add_sticks=glycan_add_sticks)\n",
    "\n",
    "        # Complex glycans on Protein E\n",
    "        be.add_multiple_glycans(\n",
    "            assembly_name=name, glycan_type=be.NAME_GLYCAN_COMPLEX,\n",
    "            protein_name=be.NAME_PROTEIN_E, paths=complex_paths,\n",
    "            add_sticks=glycan_add_sticks)\n",
    "        \n",
    "    # Stick defensins to virus\n",
    "    for i in range(nb_defensins_on_virus):\n",
    "        defensin = AssemblyProtein(\n",
    "            assembly_name=name, name=name + '_' + be.NAME_DEFENSIN + '_' + str(i),\n",
    "            source=defensin_path, assembly_params=Vector2(2.0, 0.0), \n",
    "            shape=be.ASSEMBLY_SHAPE_SPHERICAL,\n",
    "            atom_radius_multiplier=protein_radius_multiplier, \n",
    "            representation=protein_representation,\n",
    "            random_seed=100 + i + 1)\n",
    "        be.add_assembly_protein(defensin)"
   ]
  },
  {
   "cell_type": "code",
   "execution_count": null,
   "metadata": {},
   "outputs": [],
   "source": [
    "add_virus(name='Coronavirus 1', position=Vector3(-280.5, -97.0, -82.5), \n",
    "          open_conformation_indices=[1])\n",
    "add_virus(name='Coronavirus 2', position=Vector3( -70.5, -102.0, 229.5),\n",
    "          open_conformation_indices=[1])\n",
    "add_virus(name='Coronavirus 3', position=Vector3(296.5, -125.0, 225.5),\n",
    "          open_conformation_indices=[1])\n",
    "add_virus(name='Coronavirus 4', position=Vector3(4.5, 100.0, 7.5),\n",
    "          open_conformation_indices=[1])\n",
    "add_virus(name='Coronavirus 5', position=Vector3(204.5, -100.0, 27.5), \n",
    "          open_conformation_indices=[1])\n",
    "add_virus(name='Coronavirus 6', position=Vector3(54.5, -100.0, -242.5),\n",
    "          open_conformation_indices=[1])"
   ]
  },
  {
   "cell_type": "code",
   "execution_count": null,
   "metadata": {},
   "outputs": [],
   "source": [
    "nglview.show_file(resource_folder + 'pdb/sars-cov-2-v1.pdb')"
   ]
  },
  {
   "cell_type": "code",
   "execution_count": null,
   "metadata": {},
   "outputs": [],
   "source": [
    "nglview.show_file(resource_folder + 'pdb/QHD43419a.pdb')"
   ]
  },
  {
   "cell_type": "code",
   "execution_count": null,
   "metadata": {},
   "outputs": [],
   "source": [
    "nglview.show_file(resource_folder + 'pdb/QHD43418a.pdb')"
   ]
  },
  {
   "cell_type": "code",
   "execution_count": null,
   "metadata": {},
   "outputs": [],
   "source": [
    "if export_to_cache:\n",
    "    be.apply_default_color_scheme(shading_mode=be.SHADING_MODE_BASIC)\n",
    "    cache_filename = cache_folder + 'high_glucose_viruses.bioexplorer'\n",
    "    if add_rna:\n",
    "        cache_filename = cache_folder + 'high_glucose_open_viruses.bioexplorer'\n",
    "    print(cache_filename)\n",
    "    be.export_to_cache(cache_filename)"
   ]
  },
  {
   "cell_type": "markdown",
   "metadata": {},
   "source": [
    "## Host cell"
   ]
  },
  {
   "cell_type": "code",
   "execution_count": null,
   "metadata": {
    "scrolled": true
   },
   "outputs": [],
   "source": [
    "def add_cell(name, size, height, nb_receptors, position=Vector3()):\n",
    "    ace2_receptor = Protein(\n",
    "        sources=[pdb_folder + '6m1d.pdb'], number_of_instances=nb_receptors,\n",
    "        position=Vector3(0.0, 6.0, 0.0))\n",
    "    \n",
    "    membrane = Membrane(\n",
    "        sources=[pdb_folder + 'membrane/popc.pdb'], number_of_instances=1200000)\n",
    "\n",
    "    cell = Cell(\n",
    "        name=name, size=Vector2(size, height), shape=be.ASSEMBLY_SHAPE_SINUSOIDAL, \n",
    "        membrane=membrane, receptor=ace2_receptor)\n",
    "    \n",
    "    be.add_cell(cell=cell, position=position, representation=protein_representation)\n",
    "\n",
    "    if add_glycans:\n",
    "        be.add_multiple_glycans(\n",
    "            add_sticks=glycan_add_sticks, assembly_name=name, \n",
    "            glycan_type=be.NAME_GLYCAN_COMPLEX,\n",
    "            protein_name=be.NAME_RECEPTOR, paths=complex_paths, \n",
    "            indices=[62, 99, 112, 331, 441, 699])\n",
    "        be.add_multiple_glycans(\n",
    "            add_sticks=glycan_add_sticks, assembly_name=name,\n",
    "            glycan_type=be.NAME_GLYCAN_HYBRID,\n",
    "            protein_name=be.NAME_RECEPTOR, paths=hybrid_paths, \n",
    "            indices=[555])\n",
    "\n",
    "        indices = [[164, Quaternion(0.707, 0.0, 0.707, 0.0)],\n",
    "                   [739, Quaternion(0.707, 0.0, 0.707, 0.0)]]\n",
    "        for index in indices:\n",
    "            o_glycan_name = name + '_' + be.NAME_GLYCAN_O_GLYCAN + '_' + str(index[0])\n",
    "            o_glycan = Sugars(\n",
    "                assembly_name=name, name=o_glycan_name, source=o_glycan_paths[0],\n",
    "                protein_name=name + '_' + be.NAME_RECEPTOR, add_sticks=glycan_add_sticks,\n",
    "                chain_ids=[2, 4], site_indices=[index[0]], orientation=index[1])\n",
    "            be.add_sugars(o_glycan)"
   ]
  },
  {
   "cell_type": "code",
   "execution_count": null,
   "metadata": {},
   "outputs": [],
   "source": [
    "add_cell(name='Cell 1',\n",
    "         size=scene_size, \n",
    "         height=scene_size / 10.0,\n",
    "         nb_receptors=20,\n",
    "         position=Vector3(4.5, -186.0, 7.0))"
   ]
  },
  {
   "cell_type": "code",
   "execution_count": null,
   "metadata": {},
   "outputs": [],
   "source": [
    "if export_to_cache:\n",
    "    be.apply_default_color_scheme(shading_mode=be.SHADING_MODE_BASIC)\n",
    "    be.set_protein_color_scheme(\n",
    "        'Cell 1', 'Cell 1' + '_' + be.NAME_RECEPTOR, be.COLOR_SCHEME_CHAINS, 'OrRd_r', 7)\n",
    "    cache_filename = cache_folder + 'cell.bioexplorer'\n",
    "    print(cache_filename)\n",
    "    be.export_to_cache(cache_filename)"
   ]
  },
  {
   "cell_type": "markdown",
   "metadata": {},
   "source": [
    "## Immune system"
   ]
  },
  {
   "cell_type": "markdown",
   "metadata": {},
   "source": [
    "### Surfactant A and D"
   ]
  },
  {
   "cell_type": "code",
   "execution_count": null,
   "metadata": {},
   "outputs": [],
   "source": [
    "nglview.show_file(surfactant_head_source)"
   ]
  },
  {
   "cell_type": "code",
   "execution_count": null,
   "metadata": {
    "scrolled": false
   },
   "outputs": [],
   "source": [
    "def add_surfactant_d(name, position, random_seed):\n",
    "    surfactant_d = Surfactant(\n",
    "        name=name, surfactant_protein=be.SURFACTANT_PROTEIN_D, \n",
    "        head_source=surfactant_head_source,\n",
    "        branch_source=surfactant_branch_source)\n",
    "    be.add_surfactant(\n",
    "        surfactant=surfactant_d, representation=protein_representation, \n",
    "        position=position, random_seed=random_seed)\n",
    "\n",
    "add_surfactant_d(\n",
    "    name='Surfactant-D 1', position=Vector3(74.0, 24.0, -45.0), random_seed=1)\n",
    "add_surfactant_d(\n",
    "    name='Surfactant-D 2', position=Vector3(104.0, 175.0, -89.0), random_seed=2)\n",
    "add_surfactant_d(\n",
    "    name='Surfactant-D 3', position=Vector3(-260.0, 50.0, 0.0), random_seed=6)"
   ]
  },
  {
   "cell_type": "code",
   "execution_count": null,
   "metadata": {
    "scrolled": false
   },
   "outputs": [],
   "source": [
    "def add_surfactant_a(name, position, random_seed):\n",
    "    surfactant_a = Surfactant(\n",
    "        name=name, surfactant_protein=be.SURFACTANT_PROTEIN_A, \n",
    "        head_source=surfactant_head_source,\n",
    "        branch_source=surfactant_branch_source)\n",
    "    be.add_surfactant(\n",
    "        surfactant=surfactant_a, representation=protein_representation, \n",
    "        position=position, random_seed=random_seed)\n",
    "\n",
    "add_surfactant_a(\n",
    "    name='Surfactant-A 1', position=Vector3(-100.0, 150.0, 0.0), random_seed=2)"
   ]
  },
  {
   "cell_type": "code",
   "execution_count": null,
   "metadata": {
    "scrolled": true
   },
   "outputs": [],
   "source": [
    "# Add glucose to surfactants\n",
    "def add_glucose_to_surfactant_head(name):\n",
    "    for index in [321, 323]:\n",
    "        glucose_name = name + '_' + be.NAME_GLUCOSE + '_' + str(index)\n",
    "        glucose = Sugars(\n",
    "            assembly_name=name, name=glucose_name, source=glucose_path,\n",
    "            protein_name=name + '_' + be.NAME_SURFACTANT_HEAD, \n",
    "            add_sticks=glycan_add_sticks, site_indices=[index])\n",
    "        be.add_sugars(glucose)\n",
    "add_glucose_to_surfactant_head('Surfactant-D 1')\n",
    "add_glucose_to_surfactant_head('Surfactant-D 2')\n",
    "add_glucose_to_surfactant_head('Surfactant-D 3')\n",
    "add_glucose_to_surfactant_head('Surfactant-A 1')"
   ]
  },
  {
   "cell_type": "markdown",
   "metadata": {},
   "source": [
    "### Glucose"
   ]
  },
  {
   "cell_type": "code",
   "execution_count": null,
   "metadata": {
    "scrolled": true
   },
   "outputs": [],
   "source": [
    "glucose = Protein(\n",
    "    sources=[glucose_path], load_non_polymer_chemicals=True, \n",
    "    number_of_instances=nb_glucoses)\n",
    "volume = Volume(\n",
    "    name=be.NAME_GLUCOSE, size=Vector2(scene_size, scene_size), protein=glucose)\n",
    "be.add_volume(\n",
    "    volume=volume, representation=be.REPRESENTATION_ATOMS,\n",
    "    position=Vector3(0.0, scene_size / 2.0 - 200.0, 0.0))"
   ]
  },
  {
   "cell_type": "code",
   "execution_count": null,
   "metadata": {},
   "outputs": [],
   "source": [
    "nglview.show_file(glucose_path)"
   ]
  },
  {
   "cell_type": "markdown",
   "metadata": {},
   "source": [
    "### Lactoferrins"
   ]
  },
  {
   "cell_type": "code",
   "execution_count": null,
   "metadata": {
    "scrolled": true
   },
   "outputs": [],
   "source": [
    "lactoferrin = Protein(\n",
    "    sources=[lactoferrin_path], load_non_polymer_chemicals=True,\n",
    "    number_of_instances=nb_lactoferrins)\n",
    "lactoferrins_volume = Volume(\n",
    "    name=be.NAME_LACTOFERRIN, size=Vector2(scene_size, scene_size), protein=lactoferrin)\n",
    "be.add_volume(\n",
    "    volume=lactoferrins_volume, representation=be.REPRESENTATION_ATOMS,\n",
    "    position=Vector3(0.0, scene_size / 2.0 - 200.0, 0.0))"
   ]
  },
  {
   "cell_type": "code",
   "execution_count": null,
   "metadata": {},
   "outputs": [],
   "source": [
    "nglview.show_file(lactoferrin_path)"
   ]
  },
  {
   "cell_type": "markdown",
   "metadata": {},
   "source": [
    "### Defensins"
   ]
  },
  {
   "cell_type": "code",
   "execution_count": null,
   "metadata": {
    "scrolled": true
   },
   "outputs": [],
   "source": [
    "defensin = Protein(\n",
    "    sources=[defensin_path], load_non_polymer_chemicals=True, \n",
    "    number_of_instances=nb_defensins)\n",
    "defensins_volume = Volume(\n",
    "    name=be.NAME_DEFENSIN, size=Vector2(scene_size, scene_size), protein=defensin)\n",
    "be.add_volume(\n",
    "    volume=defensins_volume, representation=be.REPRESENTATION_ATOMS,\n",
    "    position=Vector3(0.0, scene_size / 2.0 - 200.0, 0.0))"
   ]
  },
  {
   "cell_type": "code",
   "execution_count": null,
   "metadata": {},
   "outputs": [],
   "source": [
    "nglview.show_file(defensin_path)"
   ]
  },
  {
   "cell_type": "code",
   "execution_count": null,
   "metadata": {},
   "outputs": [],
   "source": [
    "if export_to_cache:\n",
    "#     be.apply_default_color_scheme(shading_mode=be.SHADING_MODE_BASIC)\n",
    "    cache_filename = cache_folder + 'high_glucose_immune.bioexplorer'\n",
    "    print(cache_filename)\n",
    "    be.export_to_cache(cache_filename)"
   ]
  },
  {
   "cell_type": "markdown",
   "metadata": {},
   "source": [
    "## Materials"
   ]
  },
  {
   "cell_type": "code",
   "execution_count": null,
   "metadata": {
    "scrolled": true
   },
   "outputs": [],
   "source": [
    "be.apply_default_color_scheme(shading_mode=be.SHADING_MODE_BASIC)"
   ]
  },
  {
   "cell_type": "code",
   "execution_count": null,
   "metadata": {
    "scrolled": true
   },
   "outputs": [],
   "source": [
    "for model in be.core_api().scene.models:\n",
    "    model_id = model['id']\n",
    "    model_name = model['name']\n",
    "    if be.NAME_COLLAGEN in model_name:\n",
    "        material_ids = list(be.get_material_ids(model_id)['ids'])\n",
    "        nb_materials = len(material_ids)\n",
    "        print(model_name)\n",
    "        palette = list()\n",
    "        emissions = list()\n",
    "        for i in range(nb_materials):\n",
    "            palette.append([1,1,1])\n",
    "            emissions.append(0.1)\n",
    "        be.set_materials(\n",
    "            model_ids=[model_id], material_ids=material_ids,\n",
    "            diffuse_colors=palette, specular_colors=palette,\n",
    "            emissions=emissions\n",
    "        )        "
   ]
  },
  {
   "cell_type": "code",
   "execution_count": null,
   "metadata": {},
   "outputs": [],
   "source": [
    "if export_to_cache:\n",
    "    cache_filename = cache_folder + 'high_glucose_scenario.bioexplorer'\n",
    "    print(cache_filename)\n",
    "    be.export_to_cache(cache_filename)"
   ]
  },
  {
   "cell_type": "markdown",
   "metadata": {},
   "source": [
    "## Rendering settings"
   ]
  },
  {
   "cell_type": "code",
   "execution_count": null,
   "metadata": {
    "scrolled": true
   },
   "outputs": [],
   "source": [
    "be.core_api().set_renderer(\n",
    "    background_color=[96 / 255, 125 / 255, 139 / 255],\n",
    "    current='bio_explorer',\n",
    "    samples_per_pixel=1, subsampling=1, max_accum_frames=64)\n",
    "params = be.core_api().BioExplorerRendererParams()\n",
    "params.gi_samples = 1\n",
    "params.gi_weight = 0.01\n",
    "params.gi_distance = 500\n",
    "params.shadows = 0.75\n",
    "params.soft_shadows = 1\n",
    "params.fog_start = 1500\n",
    "params.fog_thickness = 1500\n",
    "params.epsilon_factor = 1\n",
    "params.max_bounces = 3\n",
    "be.core_api().set_renderer_params(params)"
   ]
  }
 ],
 "metadata": {
  "kernelspec": {
   "display_name": "Python 3",
   "language": "python",
   "name": "python3"
  },
  "language_info": {
   "codemirror_mode": {
    "name": "ipython",
    "version": 3
   },
   "file_extension": ".py",
   "mimetype": "text/x-python",
   "name": "python",
   "nbconvert_exporter": "python",
   "pygments_lexer": "ipython3",
   "version": "3.8.2"
  }
 },
 "nbformat": 4,
 "nbformat_minor": 2
}
