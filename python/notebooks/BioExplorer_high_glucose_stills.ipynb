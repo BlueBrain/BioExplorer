{
 "cells": [
  {
   "cell_type": "markdown",
   "metadata": {},
   "source": [
    "# Blue Brain BioExplorer\n",
    "\n",
    "![](./images/bioexplorer_banner.png)"
   ]
  },
  {
   "cell_type": "code",
   "execution_count": null,
   "metadata": {},
   "outputs": [],
   "source": [
    "from bioexplorer import BioExplorer\n",
    "\n",
    "hostname = 'localhost:5000'\n",
    "   \n",
    "be = BioExplorer(hostname)\n",
    "be.version()\n",
    "core = be.core_api()\n",
    "\n",
    "image_folder = '/tmp'"
   ]
  },
  {
   "cell_type": "code",
   "execution_count": null,
   "metadata": {},
   "outputs": [],
   "source": [
    "core.set_renderer(\n",
    "    background_color=[96 / 255, 125 / 255, 139 / 255],\n",
    "    current='bio_explorer',\n",
    "    samples_per_pixel=1, subsampling=1, max_accum_frames=64)\n",
    "\n",
    "params = core.BioExplorerRendererParams()\n",
    "params.gi_samples = 3\n",
    "params.gi_weight = 0.6\n",
    "params.gi_distance = 100\n",
    "params.shadows = 0.75\n",
    "params.soft_shadows = 1.0\n",
    "params.fog_start = 1300\n",
    "params.fog_thickness = 250\n",
    "core.set_renderer_params(params)"
   ]
  },
  {
   "cell_type": "markdown",
   "metadata": {},
   "source": [
    "## Widgets"
   ]
  },
  {
   "cell_type": "code",
   "execution_count": null,
   "metadata": {},
   "outputs": [],
   "source": [
    "from bioexplorer import Widgets\n",
    "w = Widgets(be)"
   ]
  },
  {
   "cell_type": "markdown",
   "metadata": {},
   "source": [
    "## Overview"
   ]
  },
  {
   "cell_type": "code",
   "execution_count": null,
   "metadata": {},
   "outputs": [],
   "source": [
    "core.set_camera(\n",
    "    orientation=[0.010438218113022906, 0.0010438047507898267, 8.716734986261002e-06, 0.9999449754852944],\n",
    "    position=[33.45559224389726, -48.23743226598094, 1100.8861650145466],\n",
    "    target=[30.775251770644505, -21.435949190128785, -182.71807912135773],\n",
    ")\n",
    "params = core.BioExplorerPerspectiveCameraParams()\n",
    "params.aperture_radius = 0.0\n",
    "params.focus_distance = 180\n",
    "params.enable_clipping_planes = False\n",
    "core.set_camera_params(params)"
   ]
  },
  {
   "cell_type": "code",
   "execution_count": null,
   "metadata": {},
   "outputs": [],
   "source": [
    "w.create_snapshot(size=[512,512], samples_per_pixel=64,output_folder=image_folder)"
   ]
  },
  {
   "cell_type": "markdown",
   "metadata": {},
   "source": [
    "## ACE 2 Receptor"
   ]
  },
  {
   "cell_type": "code",
   "execution_count": null,
   "metadata": {
    "scrolled": false
   },
   "outputs": [],
   "source": [
    "core.set_camera(\n",
    "    orientation=[0.03136332626039025, 0.22447137526547245, 0.005527479697205375, 0.9739601585385866],\n",
    "    position=[-26.628356137142703, -169.86400446370422, 287.040856596814],\n",
    "    target=[-229.6395198456264, -142.67281970354244, -129.21543620076326]\n",
    ")\n",
    "params = core.BioExplorerRendererParams()\n",
    "params.aperture_radius = 0.01\n",
    "params.focus_distance = 56.95\n",
    "params.enable_clipping_planes = False\n",
    "core.set_camera_params(params)"
   ]
  },
  {
   "cell_type": "code",
   "execution_count": null,
   "metadata": {},
   "outputs": [],
   "source": [
    "params = core.BioExplorerRendererParams()\n",
    "params.gi_samples = 3\n",
    "params.gi_weight = 0.6\n",
    "params.gi_distance = 100\n",
    "params.shadows = 0.75\n",
    "params.soft_shadows = 1.0\n",
    "params.fog_start = 250\n",
    "params.fog_thickness = 100\n",
    "core.set_renderer_params(params)"
   ]
  },
  {
   "cell_type": "code",
   "execution_count": null,
   "metadata": {},
   "outputs": [],
   "source": [
    "w.create_snapshot(size=[512,512], samples_per_pixel=64,output_folder=image_folder)"
   ]
  },
  {
   "cell_type": "markdown",
   "metadata": {},
   "source": [
    "## Surfactant-D close-up"
   ]
  },
  {
   "cell_type": "code",
   "execution_count": null,
   "metadata": {},
   "outputs": [],
   "source": [
    "core.set_camera(\n",
    "    current='bio_explorer_perspective',\n",
    "    orientation=[0.056084634943327674, 0.09022898965193143, -0.024863505421572025, 0.994029702397175],\n",
    "    position=[52.86551127683295, 29.73625023490243, 16.2893423521341],\n",
    "    target=[-69.17441701072325, 109.89276270518126, -659.1958498468175]\n",
    ")\n",
    "params = core.BioExplorerRendererParams()\n",
    "params.aperture_radius = 0.01\n",
    "params.focus_distance = 35.82\n",
    "params.enable_clipping_planes = False\n",
    "core.set_camera_params(params)"
   ]
  },
  {
   "cell_type": "code",
   "execution_count": null,
   "metadata": {},
   "outputs": [],
   "source": [
    "params = core.BioExplorerRendererParams()\n",
    "params.gi_samples = 3\n",
    "params.gi_weight = 0.6\n",
    "params.gi_distance = 100\n",
    "params.shadows = 1\n",
    "params.soft_shadows = 0.25\n",
    "params.soft_shadows_samples = 1\n",
    "params.fog_start = 80\n",
    "params.fog_thickness = 100\n",
    "params.epsilon_factor = 1\n",
    "params.max_bounces = 3\n",
    "core.set_renderer_params(params)"
   ]
  },
  {
   "cell_type": "code",
   "execution_count": null,
   "metadata": {},
   "outputs": [],
   "source": [
    "w.create_snapshot(size=[512,512], samples_per_pixel=64,output_folder=image_folder)"
   ]
  }
 ],
 "metadata": {
  "kernelspec": {
   "display_name": "Python 3",
   "language": "python",
   "name": "python3"
  },
  "language_info": {
   "codemirror_mode": {
    "name": "ipython",
    "version": 3
   },
   "file_extension": ".py",
   "mimetype": "text/x-python",
   "name": "python",
   "nbconvert_exporter": "python",
   "pygments_lexer": "ipython3",
   "version": "3.8.5"
  }
 },
 "nbformat": 4,
 "nbformat_minor": 2
}
