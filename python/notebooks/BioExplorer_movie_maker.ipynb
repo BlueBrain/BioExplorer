{
 "cells": [
  {
   "cell_type": "markdown",
   "metadata": {},
   "source": [
    "# Blue Brain BioExplorer\n",
    "\n",
    "![](./images/bioexplorer_banner.png)"
   ]
  },
  {
   "cell_type": "markdown",
   "metadata": {},
   "source": [
    "## Movie maker"
   ]
  },
  {
   "cell_type": "code",
   "execution_count": null,
   "metadata": {},
   "outputs": [],
   "source": [
    "from bioexplorer import BioExplorer, MovieMaker\n",
    "be = BioExplorer('localhost:5000')"
   ]
  },
  {
   "cell_type": "code",
   "execution_count": null,
   "metadata": {},
   "outputs": [],
   "source": [
    "be.add_coronavirus(name='Coronavirus', resource_folder='../tests/test_files/')"
   ]
  },
  {
   "cell_type": "code",
   "execution_count": null,
   "metadata": {},
   "outputs": [],
   "source": [
    "control_points = [\n",
    "    {'apertureRadius': 0.0, 'focusDistance': 1e6,\n",
    "     'origin': [-6.017819822266641, -2.344840659134118, 209.77415769873744],\n",
    "     'direction': [0.0, 0.0, -1.0], 'up': [0.0, 1.0, 0.0]},\n",
    "    {'apertureRadius': 0.0, 'focusDistance': 1e6,\n",
    "     'origin': [78.24581560831695, 60.38818629612713, 102.90041257728218],\n",
    "     'direction': [-0.551634920162921, -0.42315843749891463, -0.718773852912253],\n",
    "     'up': [-0.1434787205331168, 0.8970466735838447, -0.4179965576010632]}]"
   ]
  },
  {
   "cell_type": "code",
   "execution_count": null,
   "metadata": {},
   "outputs": [],
   "source": [
    "mm = MovieMaker(be)\n",
    "mm.build_camera_path(\n",
    "    control_points=control_points, nb_steps_between_control_points=10, smoothing_size=10)\n",
    "mm.export_frames(path='/tmp', size=[960,540], samples_per_pixel=64)"
   ]
  }
 ],
 "metadata": {
  "kernelspec": {
   "display_name": "Python 3",
   "language": "python",
   "name": "python3"
  },
  "language_info": {
   "codemirror_mode": {
    "name": "ipython",
    "version": 3
   },
   "file_extension": ".py",
   "mimetype": "text/x-python",
   "name": "python",
   "nbconvert_exporter": "python",
   "pygments_lexer": "ipython3",
   "version": "3.8.5"
  }
 },
 "nbformat": 4,
 "nbformat_minor": 4
}
