{
 "cells": [
  {
   "cell_type": "markdown",
   "metadata": {},
   "source": [
    "# Blue Brain BioExplorer\n",
    "\n",
    "![](./images/bioexplorer_banner.png)"
   ]
  },
  {
   "cell_type": "code",
   "execution_count": null,
   "metadata": {},
   "outputs": [],
   "source": [
    "from bioexplorer import BioExplorer, Protein, Surfactant, Membrane, Volume, \\\n",
    "                        Cell, Vector2, Vector3\n",
    "import nglview\n",
    "\n",
    "be = BioExplorer('localhost:5000')"
   ]
  },
  {
   "cell_type": "code",
   "execution_count": null,
   "metadata": {},
   "outputs": [],
   "source": [
    "status = be.reset()"
   ]
  },
  {
   "cell_type": "markdown",
   "metadata": {},
   "source": [
    "### Resources"
   ]
  },
  {
   "cell_type": "code",
   "execution_count": null,
   "metadata": {},
   "outputs": [],
   "source": [
    "resource_folder = '../tests/test_files/'\n",
    "pdb_folder = resource_folder + 'pdb/'\n",
    "\n",
    "glucose_path = pdb_folder + 'glucose.pdb'\n",
    "lactoferrin_path=pdb_folder + 'immune/1b0l.pdb'\n",
    "defensin_path = pdb_folder + 'immune/1ijv.pdb'\n",
    "\n",
    "surfactant_head_source = pdb_folder + 'surfactant/1pw9.pdb'\n",
    "surfactant_branch_source = pdb_folder + 'surfactant/1k6f.pdb'"
   ]
  },
  {
   "cell_type": "markdown",
   "metadata": {},
   "source": [
    "### Configuration"
   ]
  },
  {
   "cell_type": "code",
   "execution_count": null,
   "metadata": {},
   "outputs": [],
   "source": [
    "# Scene\n",
    "scene_size = 250\n",
    "\n",
    "# Immune system\n",
    "nb_glucoses = 3600\n",
    "nb_lactoferrins = 10\n",
    "nb_defensins = 30\n",
    "\n",
    "# Proteins\n",
    "protein_radius_multiplier = 1.0\n",
    "protein_representation = be.REPRESENTATION_ATOMS\n",
    "protein_load_hydrogen = False"
   ]
  },
  {
   "cell_type": "markdown",
   "metadata": {},
   "source": [
    "## Camera"
   ]
  },
  {
   "cell_type": "code",
   "execution_count": null,
   "metadata": {},
   "outputs": [],
   "source": [
    "status = be.core_api().set_camera(\n",
    "    orientation=[0.0, 0.0, 0.0, 1.0],\n",
    "    position=[4.883842102781712, 44.255928195014, 431.9119490747046],\n",
    "    target=[4.883842102781712, 44.255928195014, 31.311730081826504])"
   ]
  },
  {
   "cell_type": "markdown",
   "metadata": {},
   "source": [
    "## Scene description"
   ]
  },
  {
   "cell_type": "markdown",
   "metadata": {},
   "source": [
    "### Coronavirus"
   ]
  },
  {
   "cell_type": "code",
   "execution_count": null,
   "metadata": {
    "scrolled": true
   },
   "outputs": [],
   "source": [
    "name='Coronavirus'\n",
    "be.add_coronavirus(name=name, resource_folder=resource_folder, \n",
    "                   representation=protein_representation,\n",
    "                   add_glycans=True, position=Vector3(75, 0.0, 60.0),\n",
    "                   clipping_planes=[[-1,0,-1,35]])"
   ]
  },
  {
   "cell_type": "markdown",
   "metadata": {},
   "source": [
    "### Host cell"
   ]
  },
  {
   "cell_type": "code",
   "execution_count": null,
   "metadata": {},
   "outputs": [],
   "source": [
    "# ACE2 receptor definition\n",
    "ace2_receptor = Protein(\n",
    "    sources=[pdb_folder + '6m1d.pdb'],\n",
    "    number_of_instances=1,\n",
    "    position=Vector3(0.0, 6.0, 0.0))\n",
    "\n",
    "# Membrane definition\n",
    "membrane_size = scene_size\n",
    "membrane_height = 80\n",
    "membrane = Membrane(\n",
    "    sources=[pdb_folder + 'membrane/popc.pdb'],\n",
    "    number_of_instances=30000)\n",
    "\n",
    "# Cell definition\n",
    "name='Cell'\n",
    "cell = Cell(\n",
    "    name=name,\n",
    "    size=Vector2(membrane_size, membrane_height),\n",
    "    shape=be.ASSEMBLY_SHAPE_SINUSOIDAL,\n",
    "    membrane=membrane, receptor=ace2_receptor)\n",
    "\n",
    "# Add cell to scene\n",
    "status = be.add_cell(\n",
    "    cell=cell, representation=protein_representation,\n",
    "    atom_radius_multiplier=protein_radius_multiplier,\n",
    "    position=Vector3(0.0, -80.0, 0.0))\n",
    "\n",
    "status = be.set_protein_color_scheme(\n",
    "    name, name + '_' + be.NAME_RECEPTOR, \n",
    "    be.COLOR_SCHEME_CHAINS, 'OrRd_r', 7)"
   ]
  },
  {
   "cell_type": "markdown",
   "metadata": {},
   "source": [
    "### Environment"
   ]
  },
  {
   "cell_type": "code",
   "execution_count": null,
   "metadata": {},
   "outputs": [],
   "source": [
    "volume_position = Vector3(0.0, scene_size / 2.0 - 80.0, 0.0)"
   ]
  },
  {
   "cell_type": "markdown",
   "metadata": {},
   "source": [
    "#### Glucose"
   ]
  },
  {
   "cell_type": "code",
   "execution_count": null,
   "metadata": {},
   "outputs": [],
   "source": [
    "nglview.show_file(glucose_path)"
   ]
  },
  {
   "cell_type": "code",
   "execution_count": null,
   "metadata": {},
   "outputs": [],
   "source": [
    "glucose = Protein(\n",
    "    sources=[glucose_path], load_non_polymer_chemicals=True, \n",
    "    number_of_instances=nb_glucoses)\n",
    "volume = Volume(\n",
    "    name=be.NAME_GLUCOSE, size=Vector2(scene_size, scene_size), protein=glucose)\n",
    "be.add_volume(\n",
    "    volume=volume, \n",
    "    representation=protein_representation,\n",
    "    atom_radius_multiplier=protein_radius_multiplier,\n",
    "    position=volume_position)"
   ]
  },
  {
   "cell_type": "markdown",
   "metadata": {},
   "source": [
    "#### Lactoferrin"
   ]
  },
  {
   "cell_type": "code",
   "execution_count": null,
   "metadata": {},
   "outputs": [],
   "source": [
    "nglview.show_file(lactoferrin_path)"
   ]
  },
  {
   "cell_type": "code",
   "execution_count": null,
   "metadata": {},
   "outputs": [],
   "source": [
    "lactoferrin = Protein(\n",
    "    sources=[lactoferrin_path], load_non_polymer_chemicals=True,\n",
    "    number_of_instances=nb_lactoferrins)\n",
    "lactoferrins_volume = Volume(\n",
    "    name=be.NAME_LACTOFERRIN, size=Vector2(scene_size, scene_size), protein=lactoferrin)\n",
    "be.add_volume(\n",
    "    volume=lactoferrins_volume,\n",
    "    representation=protein_representation,\n",
    "    atom_radius_multiplier=protein_radius_multiplier,\n",
    "    position=volume_position)"
   ]
  },
  {
   "cell_type": "markdown",
   "metadata": {},
   "source": [
    "#### Defensins"
   ]
  },
  {
   "cell_type": "code",
   "execution_count": null,
   "metadata": {},
   "outputs": [],
   "source": [
    "nglview.show_file(defensin_path)"
   ]
  },
  {
   "cell_type": "code",
   "execution_count": null,
   "metadata": {},
   "outputs": [],
   "source": [
    "defensin = Protein(\n",
    "    sources=[defensin_path], load_non_polymer_chemicals=True, \n",
    "    number_of_instances=nb_defensins)\n",
    "defensins_volume = Volume(\n",
    "    name=be.NAME_DEFENSIN, size=Vector2(scene_size, scene_size), protein=defensin)\n",
    "be.add_volume(\n",
    "    volume=defensins_volume, \n",
    "    representation=protein_representation,\n",
    "    atom_radius_multiplier=protein_radius_multiplier,\n",
    "    position=volume_position)"
   ]
  },
  {
   "cell_type": "markdown",
   "metadata": {},
   "source": [
    "#### Surfactant-D"
   ]
  },
  {
   "cell_type": "code",
   "execution_count": null,
   "metadata": {},
   "outputs": [],
   "source": [
    "def add_surfactant_d(name, position, random_seed):\n",
    "    surfactant_d = Surfactant(\n",
    "        name=name, surfactant_protein=be.SURFACTANT_PROTEIN_D, \n",
    "        head_source=surfactant_head_source,\n",
    "        branch_source=surfactant_branch_source)\n",
    "    be.add_surfactant(\n",
    "        surfactant=surfactant_d, \n",
    "        representation=protein_representation,\n",
    "        atom_radius_multiplier=protein_radius_multiplier,\n",
    "        position=position, random_seed=random_seed)\n",
    "\n",
    "add_surfactant_d(\n",
    "    name='Surfactant-D 1', position=Vector3(2.0, 18.0, 102.0), random_seed=1)"
   ]
  },
  {
   "cell_type": "markdown",
   "metadata": {},
   "source": [
    "#### Surfactant A"
   ]
  },
  {
   "cell_type": "code",
   "execution_count": null,
   "metadata": {},
   "outputs": [],
   "source": [
    "def add_surfactant_a(name, position, random_seed):\n",
    "    surfactant_a = Surfactant(\n",
    "        name=name, surfactant_protein=be.SURFACTANT_PROTEIN_A, \n",
    "        head_source=surfactant_head_source,\n",
    "        branch_source=surfactant_branch_source)\n",
    "    be.add_surfactant(\n",
    "        surfactant=surfactant_a, \n",
    "        representation=protein_representation,\n",
    "        atom_radius_multiplier=protein_radius_multiplier,\n",
    "        position=position, random_seed=random_seed)\n",
    "\n",
    "add_surfactant_a(\n",
    "    name='Surfactant-A 1', position=Vector3(-100.0, 0.0, 0.0), random_seed=2)"
   ]
  },
  {
   "cell_type": "markdown",
   "metadata": {},
   "source": [
    "## Materials"
   ]
  },
  {
   "cell_type": "code",
   "execution_count": null,
   "metadata": {},
   "outputs": [],
   "source": [
    "be.apply_default_color_scheme(\n",
    "    specular_exponent=5, glossiness=1,\n",
    "    user_parameter=0.5,\n",
    "    shading_mode=be.SHADING_MODE_ELECTRON)"
   ]
  },
  {
   "cell_type": "markdown",
   "metadata": {},
   "source": [
    "## Rendering settings"
   ]
  },
  {
   "cell_type": "code",
   "execution_count": null,
   "metadata": {},
   "outputs": [],
   "source": [
    "be.core_api().set_renderer(\n",
    "    background_color=[96 / 255, 125 / 255, 139 / 255],\n",
    "    current='bio_explorer',\n",
    "    samples_per_pixel=1, subsampling=4, max_accum_frames=64)\n",
    "params = be.core_api().BioExplorerRendererParams()\n",
    "params.gi_samples = 3\n",
    "params.gi_weight = 0.4\n",
    "params.gi_distance = 500\n",
    "params.shadows = 0.8\n",
    "params.soft_shadows = 0.3\n",
    "params.fog_start = 1500\n",
    "params.fog_thickness = 1500\n",
    "params.max_bounces = 3\n",
    "be.core_api().set_renderer_params(params)"
   ]
  }
 ],
 "metadata": {
  "kernelspec": {
   "display_name": "Python 3",
   "language": "python",
   "name": "python3"
  },
  "language_info": {
   "codemirror_mode": {
    "name": "ipython",
    "version": 3
   },
   "file_extension": ".py",
   "mimetype": "text/x-python",
   "name": "python",
   "nbconvert_exporter": "python",
   "pygments_lexer": "ipython3",
   "version": "3.8.5"
  }
 },
 "nbformat": 4,
 "nbformat_minor": 4
}
