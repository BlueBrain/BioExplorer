{
 "cells": [
  {
   "cell_type": "markdown",
   "metadata": {},
   "source": [
    "# BioExplorer"
   ]
  },
  {
   "cell_type": "markdown",
   "metadata": {},
   "source": [
    "## Visualization of a membrane defined by a mesh"
   ]
  },
  {
   "cell_type": "code",
   "execution_count": 136,
   "metadata": {},
   "outputs": [],
   "source": [
    "from bioexplorer import BioExplorer, Mesh, Vector3, Quaternion\n",
    "be = BioExplorer('localhost:5000')"
   ]
  },
  {
   "cell_type": "markdown",
   "metadata": {},
   "source": [
    "### Resources"
   ]
  },
  {
   "cell_type": "code",
   "execution_count": 190,
   "metadata": {},
   "outputs": [],
   "source": [
    "resource_folder = '../tests/test_files/'\n",
    "pdb_folder = resource_folder + 'pdb/'\n",
    "obj_folder = resource_folder + 'obj/'"
   ]
  },
  {
   "cell_type": "markdown",
   "metadata": {},
   "source": [
    "### Configuration"
   ]
  },
  {
   "cell_type": "code",
   "execution_count": 271,
   "metadata": {},
   "outputs": [],
   "source": [
    "mesh_source= obj_folder + 'suzanne.obj'\n",
    "position = Vector3(15, -197, 125)\n",
    "scale = Vector3(5,5,5)"
   ]
  },
  {
   "cell_type": "markdown",
   "metadata": {},
   "source": [
    "### Membrane"
   ]
  },
  {
   "cell_type": "code",
   "execution_count": null,
   "metadata": {},
   "outputs": [],
   "source": [
    "name = 'Membrane'\n",
    "protein_source = pdb_folder + 'membrane/popc.pdb'\n",
    "\n",
    "mesh = Mesh(\n",
    "    mesh_source=mesh_source, protein_source=protein_source, \n",
    "    density=2, atom_radius_multiplier=1.0, random_seed=1)\n",
    "\n",
    "status = be.add_mesh(name, mesh, position=position, scale=scale)\n",
    "status = be.set_protein_color_scheme(\n",
    "    assembly_name=name, name=name, color_scheme=be.COLOR_SCHEME_RESIDUES,\n",
    "    palette_name='OrRd_r', palette_size=4)"
   ]
  },
  {
   "cell_type": "markdown",
   "metadata": {},
   "source": [
    "### Receptors"
   ]
  },
  {
   "cell_type": "code",
   "execution_count": 272,
   "metadata": {},
   "outputs": [],
   "source": [
    "name = 'Receptors'\n",
    "protein_source = pdb_folder + '6m1d.pdb'\n",
    "\n",
    "mesh = Mesh(\n",
    "    mesh_source=mesh_source, protein_source=protein_source, \n",
    "    density=0.005, atom_radius_multiplier=1.0, surface_offset=3, random_seed=1)\n",
    "\n",
    "status = be.add_mesh(name, mesh, position=position, orientation=Quaternion(0,1,0,0),  scale=scale)\n",
    "status = be.set_protein_color_scheme(\n",
    "    assembly_name=name, name=name, color_scheme=be.COLOR_SCHEME_CHAINS,\n",
    "    palette_name='OrRd', palette_size=5)"
   ]
  }
 ],
 "metadata": {
  "kernelspec": {
   "display_name": "Python 3",
   "language": "python",
   "name": "python3"
  },
  "language_info": {
   "codemirror_mode": {
    "name": "ipython",
    "version": 3
   },
   "file_extension": ".py",
   "mimetype": "text/x-python",
   "name": "python",
   "nbconvert_exporter": "python",
   "pygments_lexer": "ipython3",
   "version": "3.8.2"
  }
 },
 "nbformat": 4,
 "nbformat_minor": 4
}
