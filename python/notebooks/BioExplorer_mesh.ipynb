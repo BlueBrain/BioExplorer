{
 "cells": [
  {
   "cell_type": "markdown",
   "metadata": {},
   "source": [
    "# Blue Brain BioExplorer\n",
    "\n",
    "![](./images/bioexplorer_banner.png)"
   ]
  },
  {
   "cell_type": "markdown",
   "metadata": {},
   "source": [
    "## Visualization of a membrane defined by a mesh"
   ]
  },
  {
   "cell_type": "code",
   "execution_count": null,
   "metadata": {},
   "outputs": [],
   "source": [
    "from bioexplorer import BioExplorer, Mesh, Vector3, Quaternion\n",
    "be = BioExplorer('localhost:5000')\n",
    "be.reset()"
   ]
  },
  {
   "cell_type": "code",
   "execution_count": null,
   "metadata": {},
   "outputs": [],
   "source": [
    "be.apply_default_color_scheme(shading_mode=be.SHADING_MODE_BASIC, user_parameter=1)"
   ]
  },
  {
   "cell_type": "markdown",
   "metadata": {},
   "source": [
    "### Resources"
   ]
  },
  {
   "cell_type": "code",
   "execution_count": null,
   "metadata": {},
   "outputs": [],
   "source": [
    "resource_folder = '../tests/test_files/'\n",
    "pdb_folder = resource_folder + 'pdb/'\n",
    "obj_folder = resource_folder + 'obj/'"
   ]
  },
  {
   "cell_type": "markdown",
   "metadata": {},
   "source": [
    "### Configuration"
   ]
  },
  {
   "cell_type": "code",
   "execution_count": null,
   "metadata": {},
   "outputs": [],
   "source": [
    "mesh_source= obj_folder + 'deoxy.obj'\n",
    "position = Vector3(0, 0, 0)\n",
    "scale = Vector3(150, 150, 150)"
   ]
  },
  {
   "cell_type": "markdown",
   "metadata": {},
   "source": [
    "### Membrane"
   ]
  },
  {
   "cell_type": "code",
   "execution_count": null,
   "metadata": {},
   "outputs": [],
   "source": [
    "name = 'Membrane'\n",
    "protein_source = pdb_folder + 'membrane/popc.pdb'\n",
    "\n",
    "mesh = Mesh(\n",
    "    mesh_source=mesh_source, protein_source=protein_source, \n",
    "    density=10, atom_radius_multiplier=1.0, surface_variable_offset=5.0)\n",
    "\n",
    "status = be.add_mesh(name, mesh, position=position, scale=scale)\n",
    "status = be.set_protein_color_scheme(\n",
    "    assembly_name=name, name=name, color_scheme=be.COLOR_SCHEME_RESIDUES,\n",
    "    palette_name='rainbow_r', palette_size=5)"
   ]
  },
  {
   "cell_type": "markdown",
   "metadata": {},
   "source": [
    "### Receptors"
   ]
  },
  {
   "cell_type": "code",
   "execution_count": null,
   "metadata": {},
   "outputs": [],
   "source": [
    "name = be.NAME_DEFENSIN\n",
    "protein_source = pdb_folder + '6m1d.pdb'\n",
    "\n",
    "mesh = Mesh(\n",
    "    mesh_source=mesh_source, protein_source=protein_source, \n",
    "    density=0.05, atom_radius_multiplier=1.0, surface_fixed_offset=3, random_seed=1)\n",
    "\n",
    "status = be.add_mesh(name, mesh, position=position, orientation=Quaternion(0,1,0,0),  scale=scale)\n",
    "status = be.set_protein_color_scheme(\n",
    "    assembly_name=name, name=name, color_scheme=be.COLOR_SCHEME_CHAINS,\n",
    "    palette_name='OrRd', palette_size=5)"
   ]
  }
 ],
 "metadata": {
  "kernelspec": {
   "display_name": "Python 3",
   "language": "python",
   "name": "python3"
  },
  "language_info": {
   "codemirror_mode": {
    "name": "ipython",
    "version": 3
   },
   "file_extension": ".py",
   "mimetype": "text/x-python",
   "name": "python",
   "nbconvert_exporter": "python",
   "pygments_lexer": "ipython3",
   "version": "3.8.5"
  }
 },
 "nbformat": 4,
 "nbformat_minor": 4
}
