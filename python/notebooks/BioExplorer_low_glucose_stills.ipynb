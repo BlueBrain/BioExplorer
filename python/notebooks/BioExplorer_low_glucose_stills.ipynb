{
 "cells": [
  {
   "cell_type": "markdown",
   "metadata": {},
   "source": [
    "# Blue Brain BioExplorer\n",
    "\n",
    "![](./images/bioexplorer_banner.png)"
   ]
  },
  {
   "cell_type": "code",
   "execution_count": null,
   "metadata": {},
   "outputs": [],
   "source": [
    "from bioexplorer import BioExplorer\n",
    "import os\n",
    "\n",
    "hostname = 'localhost:5000'\n",
    "    \n",
    "be = BioExplorer(hostname)\n",
    "be.version()\n",
    "\n",
    "resource_folder = '../tests/test_files/'\n",
    "image_folder = resource_folder + 'images/'"
   ]
  },
  {
   "cell_type": "code",
   "execution_count": null,
   "metadata": {},
   "outputs": [],
   "source": [
    "core = be.core_api()\n",
    "core.set_renderer(\n",
    "    background_color=[96 / 255, 125 / 255, 139 / 255],\n",
    "    current='bio_explorer',\n",
    "    samples_per_pixel=1, subsampling=1, max_accum_frames=64)\n",
    "\n",
    "params = core.BioExplorerRendererParams()\n",
    "params.gi_samples = 3\n",
    "params.gi_weight = 0.6\n",
    "params.gi_distance = 100\n",
    "params.shadows = 1\n",
    "params.soft_shadows = 1\n",
    "params.fog_start = 250\n",
    "params.fog_thickness = 1300\n",
    "core.set_renderer_params(params)"
   ]
  },
  {
   "cell_type": "markdown",
   "metadata": {},
   "source": [
    "## Overview"
   ]
  },
  {
   "cell_type": "code",
   "execution_count": null,
   "metadata": {},
   "outputs": [],
   "source": [
    "core.set_camera(\n",
    "    orientation=[-0.001140980070067549, 0.12465698879972242, 0.0019403325976112384, 0.992197343484287],\n",
    "    position=[162.3155138016703, -28.56841157337, 724.3081824064546],\n",
    "    target=[-182.29464836638095, -32.396598796026325, -625.5199934313713]\n",
    ")\n",
    "params = core.BioExplorerPerspectiveCameraParams()\n",
    "params.aperture_radius = 0.0\n",
    "params.focus_distance = 180\n",
    "params.enable_clipping_planes = False\n",
    "core.set_camera_params(params)"
   ]
  },
  {
   "cell_type": "markdown",
   "metadata": {},
   "source": [
    "## Surfactant - Macrophage"
   ]
  },
  {
   "cell_type": "code",
   "execution_count": null,
   "metadata": {},
   "outputs": [],
   "source": [
    "core.set_camera(\n",
    "    orientation=[-0.0011409800700675596, 0.1246569887997226, 0.0019403325976112423, 0.9921973434842868],\n",
    "    position=[-125.88248711621752, 135.68123033833237, 287.7227601097919],\n",
    "    target=[-348.330756046139, 133.21010872235323, -583.6007643587948]\n",
    ")\n",
    "params = core.BioExplorerPerspectiveCameraParams()\n",
    "params.aperture_radius = 0.01\n",
    "params.focus_distance = 180\n",
    "params.enable_clipping_planes = False\n",
    "core.set_camera_params(params)"
   ]
  },
  {
   "cell_type": "markdown",
   "metadata": {},
   "source": [
    "## Surfactant-D close-up"
   ]
  },
  {
   "cell_type": "code",
   "execution_count": null,
   "metadata": {},
   "outputs": [],
   "source": [
    "core.set_camera(\n",
    "    orientation=[0.056084634943327674, 0.09022898965193143, -0.024863505421572025, 0.994029702397175],\n",
    "    position=[52.86551127683295, 29.73625023490243, 16.2893423521341],\n",
    "    target=[-69.17441701072325, 109.89276270518126, -659.1958498468175]\n",
    ")\n",
    "params = core.BioExplorerPerspectiveCameraParams()\n",
    "params.aperture_radius = 0.005\n",
    "params.focus_distance = 35.82\n",
    "params.enable_clipping_planes = False\n",
    "core.set_camera_params(params)"
   ]
  },
  {
   "cell_type": "code",
   "execution_count": null,
   "metadata": {},
   "outputs": [],
   "source": [
    "core.set_camera(\n",
    "    orientation=[0.06896593334548592, 0.970893611113041, -0.2246136778541133, 0.046454188815582095],\n",
    "    position=[-44.43806415120996, 99.67314323417187, -4.3196324639797865],\n",
    "    target=[-52.825891283839574, 162.35364031312676, 122.409870906171]\n",
    ")\n",
    "params = core.BioExplorerPerspectiveCameraParams()\n",
    "params.aperture_radius = 0.01\n",
    "params.focus_distance = 39.73\n",
    "params.enable_clipping_planes = False\n",
    "core.set_camera_params(params)"
   ]
  }
 ],
 "metadata": {
  "kernelspec": {
   "display_name": "Python 3",
   "language": "python",
   "name": "python3"
  },
  "language_info": {
   "codemirror_mode": {
    "name": "ipython",
    "version": 3
   },
   "file_extension": ".py",
   "mimetype": "text/x-python",
   "name": "python",
   "nbconvert_exporter": "python",
   "pygments_lexer": "ipython3",
   "version": "3.8.5"
  }
 },
 "nbformat": 4,
 "nbformat_minor": 2
}
