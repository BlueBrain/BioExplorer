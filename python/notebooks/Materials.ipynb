{
 "cells": [
  {
   "cell_type": "code",
   "execution_count": null,
   "metadata": {},
   "outputs": [],
   "source": [
    "from bioexplorer import BioExplorer, Widgets\n",
    "import seaborn as sns\n",
    "\n",
    "be = BioExplorer('localhost:5000')"
   ]
  },
  {
   "cell_type": "code",
   "execution_count": null,
   "metadata": {},
   "outputs": [],
   "source": [
    "core = be.core_api()"
   ]
  },
  {
   "cell_type": "code",
   "execution_count": null,
   "metadata": {},
   "outputs": [],
   "source": [
    "models = core.scene.models\n",
    "nb_models = len(models)\n",
    "\n",
    "total_number_of_materials = 0\n",
    "for model in core.scene.models:\n",
    "    model_id = model['id']\n",
    "    total_number_of_materials += len(be.get_material_ids(model_id)['ids'])\n",
    "\n",
    "\n",
    "palette = sns.color_palette('rainbow', nb_models)\n",
    "\n",
    "index = 0\n",
    "r = 1.2\n",
    "for model in core.scene.models:\n",
    "    model_id = model['id']\n",
    "    material_ids = be.get_material_ids(model_id)['ids']\n",
    "    diffuse_colors = list()\n",
    "    specular_colors = list()\n",
    "    shading_modes = list()\n",
    "    user_params = list()\n",
    "    spec_exps = list()\n",
    "    glosses = list()\n",
    "\n",
    "    color = palette[index]\n",
    "    for i in range(len(material_ids)):\n",
    "        diffuse_colors.append([color[0]*r,color[1]*r,color[2]*r])\n",
    "#         diffuse_colors.append([1,1,1])\n",
    "        specular_colors.append([color[0]/2,color[1]/2,color[2]/2])\n",
    "        shading_modes.append(be.SHADING_MODE_GOODSELL)\n",
    "        user_params.append(0.4)\n",
    "        spec_exps.append(5.0)\n",
    "        glosses.append(1)\n",
    "    index += 1    \n",
    "        \n",
    "    be.set_materials(\n",
    "        model_ids=[model_id], material_ids=material_ids,\n",
    "        diffuse_colors=diffuse_colors, specular_colors=specular_colors, \n",
    "        specular_exponents=spec_exps, shading_modes=shading_modes, \n",
    "        user_parameters=user_params, glossinesses=glosses)"
   ]
  },
  {
   "cell_type": "code",
   "execution_count": null,
   "metadata": {},
   "outputs": [],
   "source": [
    "be.apply_default_color_scheme(\n",
    "    shading_mode=be.SHADING_MODE_GOODSELL, user_parameter=0.4)"
   ]
  }
 ],
 "metadata": {
  "kernelspec": {
   "display_name": "Python 3",
   "language": "python",
   "name": "python3"
  },
  "language_info": {
   "codemirror_mode": {
    "name": "ipython",
    "version": 3
   },
   "file_extension": ".py",
   "mimetype": "text/x-python",
   "name": "python",
   "nbconvert_exporter": "python",
   "pygments_lexer": "ipython3",
   "version": "3.8.5"
  }
 },
 "nbformat": 4,
 "nbformat_minor": 4
}
