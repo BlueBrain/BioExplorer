{
 "cells": [
  {
   "cell_type": "code",
   "execution_count": 30,
   "metadata": {},
   "outputs": [],
   "source": [
    "from bioexplorer import BioExplorer, Widgets\n",
    "import seaborn as sns\n",
    "\n",
    "be = BioExplorer('localhost:5000')"
   ]
  },
  {
   "cell_type": "code",
   "execution_count": 31,
   "metadata": {},
   "outputs": [],
   "source": [
    "core = be.core_api()"
   ]
  },
  {
   "cell_type": "code",
   "execution_count": 53,
   "metadata": {},
   "outputs": [],
   "source": [
    "models = core.scene.models\n",
    "\n",
    "total_number_of_materials = 0\n",
    "for model in core.scene.models:\n",
    "    model_id = model['id']\n",
    "    total_number_of_materials += len(be.get_material_ids(model_id)['ids'])\n",
    "\n",
    "\n",
    "palette = sns.color_palette('magma_r', total_number_of_materials)\n",
    "\n",
    "index = 0\n",
    "for model in core.scene.models:\n",
    "    model_id = model['id']\n",
    "    material_ids = be.get_material_ids(model_id)['ids']\n",
    "    colors = list()\n",
    "    shading_modes = list()\n",
    "    user_params = list()\n",
    "    spec_exps = list()\n",
    "    glosses = list()\n",
    "    for i in range(len(material_ids)):\n",
    "#         colors.append(palette[index])\n",
    "        colors.append([1,1,1])\n",
    "        shading_modes.append(be.SHADING_MODE_ELECTRON)\n",
    "        user_params.append(1)\n",
    "        spec_exps.append(5.0)\n",
    "        glosses.append(1)\n",
    "        index += 1    \n",
    "        \n",
    "    be.set_materials(\n",
    "        model_ids=[model_id], material_ids=material_ids,\n",
    "        diffuse_colors=colors, specular_colors=colors, specular_exponents=spec_exps,\n",
    "        shading_modes=shading_modes, user_parameters=user_params, glossinesses=glosses)\n",
    "    \n"
   ]
  },
  {
   "cell_type": "code",
   "execution_count": null,
   "metadata": {},
   "outputs": [],
   "source": []
  }
 ],
 "metadata": {
  "kernelspec": {
   "display_name": "Python 3",
   "language": "python",
   "name": "python3"
  },
  "language_info": {
   "codemirror_mode": {
    "name": "ipython",
    "version": 3
   },
   "file_extension": ".py",
   "mimetype": "text/x-python",
   "name": "python",
   "nbconvert_exporter": "python",
   "pygments_lexer": "ipython3",
   "version": "3.8.5"
  }
 },
 "nbformat": 4,
 "nbformat_minor": 4
}
