{
 "cells": [
  {
   "cell_type": "markdown",
   "metadata": {},
   "source": [
    "# Blue Brain BioExplorer\n",
    "\n",
    "![](./images/bioexplorer_banner.png)"
   ]
  },
  {
   "cell_type": "markdown",
   "metadata": {},
   "source": [
    "## Script to create a visualization of the Spike"
   ]
  },
  {
   "cell_type": "code",
   "execution_count": 79,
   "metadata": {},
   "outputs": [
    {
     "data": {
      "text/plain": [
       "True"
      ]
     },
     "execution_count": 79,
     "metadata": {},
     "output_type": "execute_result"
    }
   ],
   "source": [
    "from bioexplorer import BioExplorer, Protein, Sugars, Quaternion\n",
    "be = BioExplorer('localhost:5000')\n",
    "be.reset()"
   ]
  },
  {
   "cell_type": "code",
   "execution_count": 80,
   "metadata": {},
   "outputs": [],
   "source": [
    "# Resources\n",
    "resource_folder = '../tests/test_files/'\n",
    "pdb_folder = resource_folder + 'pdb/'\n",
    "complex_folder = resource_folder + 'pdb/glycans/complex/'\n",
    "\n",
    "protein_representation = BioExplorer.REPRESENTATION_ATOMS_AND_STICKS"
   ]
  },
  {
   "cell_type": "code",
   "execution_count": 81,
   "metadata": {},
   "outputs": [],
   "source": [
    "# Protein\n",
    "spike = Protein(\n",
    "    sources=[pdb_folder + '6vyb.pdb'],\n",
    "    load_hydrogen=False,\n",
    "    load_non_polymer_chemicals=False)\n",
    "\n",
    "name = 'Spike'\n",
    "status = be.add_protein(\n",
    "    name=name, protein=spike,\n",
    "    representation=protein_representation)"
   ]
  },
  {
   "cell_type": "markdown",
   "metadata": {},
   "source": [
    "## Protein information (AA sequences and glycosylation sites)"
   ]
  },
  {
   "cell_type": "code",
   "execution_count": null,
   "metadata": {},
   "outputs": [],
   "source": [
    "be.get_protein_amino_acid_information(assembly_name=name, name=name)"
   ]
  },
  {
   "cell_type": "code",
   "execution_count": null,
   "metadata": {},
   "outputs": [],
   "source": [
    "status = be.set_protein_color_scheme(\n",
    "    assembly_name=name, name=name,\n",
    "    color_scheme=be.COLOR_SCHEME_ATOMS,\n",
    "    palette_name='Set1', palette_size=2)"
   ]
  },
  {
   "cell_type": "markdown",
   "metadata": {},
   "source": [
    "## Visualization of amino acids sequence"
   ]
  },
  {
   "cell_type": "code",
   "execution_count": null,
   "metadata": {},
   "outputs": [],
   "source": [
    "status = be.set_protein_amino_acid_sequence_as_range(\n",
    "    assembly_name=name, name=name, amino_acid_range=[100,150])\n",
    "status = be.set_protein_color_scheme(\n",
    "    assembly_name=name, name=name,\n",
    "    color_scheme=be.COLOR_SCHEME_AMINO_ACID_SEQUENCE,\n",
    "    palette_name='Set1', palette_size=2)"
   ]
  },
  {
   "cell_type": "markdown",
   "metadata": {},
   "source": [
    "## Visualization of glycosylation sites"
   ]
  },
  {
   "cell_type": "code",
   "execution_count": 89,
   "metadata": {},
   "outputs": [],
   "source": [
    "status = be.set_protein_color_scheme(\n",
    "    assembly_name=name, name=name,\n",
    "    color_scheme=be.COLOR_SCHEME_GLYCOSYLATION_SITE,\n",
    "    palette_name='Set1', palette_size=2)"
   ]
  },
  {
   "cell_type": "markdown",
   "metadata": {},
   "source": [
    "## Visualization of functional regions"
   ]
  },
  {
   "cell_type": "code",
   "execution_count": null,
   "metadata": {},
   "outputs": [],
   "source": [
    "# RGB color palette for amino acid indices\n",
    "grey = [0.5, 0.5, 0.5]\n",
    "dark_green = [0.0, 0.5, 0.0]\n",
    "light_green = [0.0, 1.0, 0.0]\n",
    "\n",
    "region_indices_and_colors = [\n",
    "    [   1, grey       ], [   5, grey],  [  30, light_green],  [  41, dark_green],\n",
    "    [  82, light_green], [  84, grey],  [ 353, grey       ],  [ 357, grey      ],\n",
    "    [ 800, grey       ]]\n",
    "\n",
    "# Build a palette according to region colors\n",
    "palette = list()\n",
    "for index in range(len(region_indices_and_colors)-1):\n",
    "    for i in range(region_indices_and_colors[index + 1][0] - \n",
    "                   region_indices_and_colors[index][0]):\n",
    "        palette.append(region_indices_and_colors[index][1])\n",
    "\n",
    "# Apply palette to other chains\n",
    "status = be.set_protein_color_scheme(\n",
    "    assembly_name=name, name=name, \n",
    "    color_scheme=be.COLOR_SCHEME_CHAINS,\n",
    "    palette_name='Greys', palette_size=5)\n",
    "\n",
    "# Apply palette to region color scheme, only for chain #2\n",
    "status = be.set_protein_color_scheme(\n",
    "    assembly_name=name, name=name, \n",
    "    color_scheme=be.COLOR_SCHEME_REGION, palette=palette,\n",
    "    chain_ids=[2])"
   ]
  },
  {
   "cell_type": "markdown",
   "metadata": {},
   "source": [
    "## Add glycans to protein"
   ]
  },
  {
   "cell_type": "code",
   "execution_count": 82,
   "metadata": {},
   "outputs": [],
   "source": [
    "glycan_folder = pdb_folder + 'glycans/'\n",
    "complex_paths = [glycan_folder + 'complex/5.pdb', glycan_folder + 'complex/15.pdb',\n",
    "                 glycan_folder + 'complex/25.pdb',glycan_folder + 'complex/35.pdb']\n",
    "high_mannose_paths = [glycan_folder + 'high-mannose/1.pdb', \n",
    "                      glycan_folder + 'high-mannose/2.pdb',\n",
    "                      glycan_folder + 'high-mannose/3.pdb',\n",
    "                      glycan_folder + 'high-mannose/4.pdb']\n",
    "hybrid_paths = [glycan_folder + 'hybrid/20.pdb']\n",
    "o_glycan_paths = [glycan_folder + 'o-glycan/1.pdb']"
   ]
  },
  {
   "cell_type": "markdown",
   "metadata": {},
   "source": [
    "### High mannose"
   ]
  },
  {
   "cell_type": "code",
   "execution_count": 83,
   "metadata": {},
   "outputs": [],
   "source": [
    "high_mannose_glycans = Sugars(\n",
    "    assembly_name=name, name=be.NAME_GLYCAN_HIGH_MANNOSE, \n",
    "    protein_name=name, source=high_mannose_paths[0], \n",
    "    site_indices=[80,141,253,622,728,736,820,1093],\n",
    "    representation=protein_representation)\n",
    "status = be.add_glycans(high_mannose_glycans)"
   ]
  },
  {
   "cell_type": "markdown",
   "metadata": {},
   "source": [
    "### Hybrid"
   ]
  },
  {
   "cell_type": "code",
   "execution_count": 84,
   "metadata": {},
   "outputs": [],
   "source": [
    "hybrid_glycans = Sugars(\n",
    "    assembly_name=name, name=be.NAME_GLYCAN_HYBRID, \n",
    "    protein_name=name, source=hybrid_paths[0], \n",
    "    site_indices=[657+19],\n",
    "    representation=protein_representation)\n",
    "status = be.add_glycans(hybrid_glycans)"
   ]
  },
  {
   "cell_type": "markdown",
   "metadata": {},
   "source": [
    "### Complex"
   ]
  },
  {
   "cell_type": "code",
   "execution_count": 85,
   "metadata": {},
   "outputs": [],
   "source": [
    "complex_glycans = Sugars(\n",
    "    assembly_name=name, name=be.NAME_GLYCAN_COMPLEX, \n",
    "    protein_name=name, source=complex_paths[0],\n",
    "    site_indices=[36,93,168,184,301,350,362,635,1117,1153,1177,1192,1213],\n",
    "    representation=protein_representation)\n",
    "status = be.add_glycans(complex_glycans)"
   ]
  },
  {
   "cell_type": "markdown",
   "metadata": {},
   "source": [
    "### O-Glycans"
   ]
  },
  {
   "cell_type": "code",
   "execution_count": 86,
   "metadata": {},
   "outputs": [],
   "source": [
    "for index in [323, 325]:\n",
    "    o_glycan_name = name + '_' + be.NAME_GLYCAN_O_GLYCAN + '_' + \\\n",
    "        str(index)\n",
    "    o_glycan = Sugars(\n",
    "        assembly_name=name, name=o_glycan_name,\n",
    "        source=o_glycan_paths[0], protein_name=name, \n",
    "        representation=protein_representation, site_indices=[index])\n",
    "    be.add_sugars(o_glycan)"
   ]
  },
  {
   "cell_type": "markdown",
   "metadata": {},
   "source": [
    "## Materials"
   ]
  },
  {
   "cell_type": "code",
   "execution_count": 88,
   "metadata": {},
   "outputs": [
    {
     "data": {
      "application/vnd.jupyter.widget-view+json": {
       "model_id": "498700a6aea84ffda98745f946cd9f77",
       "version_major": 2,
       "version_minor": 0
      },
      "text/html": [
       "<p>Failed to display Jupyter Widget of type <code>IntProgress</code>.</p>\n",
       "<p>\n",
       "  If you're reading this message in the Jupyter Notebook or JupyterLab Notebook, it may mean\n",
       "  that the widgets JavaScript is still loading. If this message persists, it\n",
       "  likely means that the widgets JavaScript library is either not installed or\n",
       "  not enabled. See the <a href=\"https://ipywidgets.readthedocs.io/en/stable/user_install.html\">Jupyter\n",
       "  Widgets Documentation</a> for setup instructions.\n",
       "</p>\n",
       "<p>\n",
       "  If you're reading this message in another frontend (for example, a static\n",
       "  rendering on GitHub or <a href=\"https://nbviewer.jupyter.org/\">NBViewer</a>),\n",
       "  it may mean that your frontend doesn't currently support widgets.\n",
       "</p>\n"
      ],
      "text/plain": [
       "IntProgress(value=0, max=6)"
      ]
     },
     "metadata": {},
     "output_type": "display_data"
    }
   ],
   "source": [
    "be.apply_default_color_scheme(shading_mode=be.SHADING_MODE_BASIC)"
   ]
  },
  {
   "cell_type": "markdown",
   "metadata": {},
   "source": [
    "## Snapshot"
   ]
  },
  {
   "cell_type": "code",
   "execution_count": 90,
   "metadata": {},
   "outputs": [],
   "source": [
    "from braynsmediamaker import MovieMaker\n",
    "mm = MovieMaker(be.core_api())"
   ]
  },
  {
   "cell_type": "code",
   "execution_count": 91,
   "metadata": {},
   "outputs": [
    {
     "data": {
      "application/vnd.jupyter.widget-view+json": {
       "model_id": "5a45fd2c819c4504b6d518406df945c3",
       "version_major": 2,
       "version_minor": 0
      },
      "text/html": [
       "<p>Failed to display Jupyter Widget of type <code>IntProgress</code>.</p>\n",
       "<p>\n",
       "  If you're reading this message in the Jupyter Notebook or JupyterLab Notebook, it may mean\n",
       "  that the widgets JavaScript is still loading. If this message persists, it\n",
       "  likely means that the widgets JavaScript library is either not installed or\n",
       "  not enabled. See the <a href=\"https://ipywidgets.readthedocs.io/en/stable/user_install.html\">Jupyter\n",
       "  Widgets Documentation</a> for setup instructions.\n",
       "</p>\n",
       "<p>\n",
       "  If you're reading this message in another frontend (for example, a static\n",
       "  rendering on GitHub or <a href=\"https://nbviewer.jupyter.org/\">NBViewer</a>),\n",
       "  it may mean that your frontend doesn't currently support widgets.\n",
       "</p>\n"
      ],
      "text/plain": [
       "IntProgress(value=0, description='In progress...')"
      ]
     },
     "metadata": {},
     "output_type": "display_data"
    }
   ],
   "source": [
    "mm.create_snapshot(\n",
    "    path='/home/favreau/6vyb_all_glycans.png',\n",
    "    size=[512,512], samples_per_pixel=64,\n",
    "    exportIntermediateFrames=False\n",
    ")"
   ]
  },
  {
   "cell_type": "code",
   "execution_count": null,
   "metadata": {},
   "outputs": [],
   "source": []
  }
 ],
 "metadata": {
  "kernelspec": {
   "display_name": "Python 3",
   "language": "python",
   "name": "python3"
  },
  "language_info": {
   "codemirror_mode": {
    "name": "ipython",
    "version": 3
   },
   "file_extension": ".py",
   "mimetype": "text/x-python",
   "name": "python",
   "nbconvert_exporter": "python",
   "pygments_lexer": "ipython3",
   "version": "3.8.5"
  }
 },
 "nbformat": 4,
 "nbformat_minor": 4
}
