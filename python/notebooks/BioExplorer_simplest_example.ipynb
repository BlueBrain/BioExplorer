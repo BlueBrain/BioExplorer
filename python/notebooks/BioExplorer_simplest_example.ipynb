{
 "cells": [
  {
   "cell_type": "markdown",
   "metadata": {},
   "source": [
    "# BioExplorer"
   ]
  },
  {
   "cell_type": "markdown",
   "metadata": {},
   "source": [
    "## Simplest script to create a visualization of a Coronavirus"
   ]
  },
  {
   "cell_type": "code",
   "execution_count": null,
   "metadata": {},
   "outputs": [],
   "source": [
    "from bioexplorer import BioExplorer\n",
    "be = BioExplorer('localhost:5000')"
   ]
  },
  {
   "cell_type": "code",
   "execution_count": null,
   "metadata": {},
   "outputs": [],
   "source": [
    "name='Coronavirus'\n",
    "be.add_coronavirus(name=name, resource_folder='../tests/test_files/')"
   ]
  },
  {
   "cell_type": "code",
   "execution_count": null,
   "metadata": {},
   "outputs": [],
   "source": [
    "status = be.set_protein_color_scheme(\n",
    "    assembly_name=name, name=name + '_' + be.NAME_PROTEIN_S_CLOSED,\n",
    "    color_scheme=be.COLOR_SCHEME_GLYCOSYLATION_SITE,\n",
    "    palette_name='Paired', palette_size=2)"
   ]
  },
  {
   "cell_type": "code",
   "execution_count": null,
   "metadata": {},
   "outputs": [],
   "source": [
    "status = be.set_protein_color_scheme(\n",
    "    assembly_name=name, name=name + '_' + be.NAME_PROTEIN_S_CLOSED,\n",
    "    color_scheme=be.COLOR_SCHEME_CHAINS,\n",
    "    palette_name='Set3', palette_size=4)"
   ]
  }
 ],
 "metadata": {
  "kernelspec": {
   "display_name": "Python 3",
   "language": "python",
   "name": "python3"
  },
  "language_info": {
   "codemirror_mode": {
    "name": "ipython",
    "version": 3
   },
   "file_extension": ".py",
   "mimetype": "text/x-python",
   "name": "python",
   "nbconvert_exporter": "python",
   "pygments_lexer": "ipython3",
   "version": "3.8.2"
  }
 },
 "nbformat": 4,
 "nbformat_minor": 4
}
